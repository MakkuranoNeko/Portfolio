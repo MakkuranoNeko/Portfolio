{
  "nbformat": 4,
  "nbformat_minor": 0,
  "metadata": {
    "colab": {
      "name": "test_1.ipynb",
      "provenance": [],
      "toc_visible": true,
      "authorship_tag": "ABX9TyP086mADrLPqHTwsUkU8IEA"
    },
    "kernelspec": {
      "name": "python3",
      "display_name": "Python 3"
    },
    "language_info": {
      "name": "python"
    }
  },
  "cells": [
    {
      "cell_type": "markdown",
      "metadata": {
        "id": "idHd2O4KMJFQ"
      },
      "source": [
        "**1 задание**\n",
        "\n",
        "В наличии данные по карточным транзакциям клиентов за 3 месяца. \n",
        "**Задача:**\n",
        "\n",
        "Выделить клиентов, которые покупали кофе/посещали кофейни от 2 раз в месяц хотя бы 2 из 3 месяцев.\n",
        "\n",
        "Упрощенный пример поиска транзакций по заданной теме на примере транзакций в аптеках:\n",
        "Мы ищем в столбце merchant_name наименования с ключевым словом “аптека” и известные сети (Ригла, Живика, Самсон-Фарма и др.), дополнительно ограничивая результат мсс, соответствующим аптекам (5912 и 5122). В результате получаем набор транзакций в аптеках.\n"
      ]
    },
    {
      "cell_type": "markdown",
      "metadata": {
        "id": "qAXsgJ40SWbv"
      },
      "source": [
        "# **0. Предобработка данных**"
      ]
    },
    {
      "cell_type": "markdown",
      "metadata": {
        "id": "MZOThi2ERkqX"
      },
      "source": [
        "Импортируем нужные библиотеки:"
      ]
    },
    {
      "cell_type": "code",
      "metadata": {
        "id": "B8wCb0VJJjcV"
      },
      "source": [
        "import pandas as pd\n",
        "import datetime"
      ],
      "execution_count": null,
      "outputs": []
    },
    {
      "cell_type": "markdown",
      "metadata": {
        "id": "Z3nJ_EzPRqXp"
      },
      "source": [
        "Файл с данными и с кодами MCC лежат в google drive. Будем читать их сразу от туда."
      ]
    },
    {
      "cell_type": "code",
      "metadata": {
        "colab": {
          "base_uri": "https://localhost:8080/"
        },
        "id": "PGHQKnLEJwda",
        "outputId": "b2845436-9e26-4e0c-c232-f76256cc07c4"
      },
      "source": [
        "from google.colab import drive\n",
        "drive.mount('/gdrive')\n",
        "%cd /gdrive"
      ],
      "execution_count": null,
      "outputs": [
        {
          "output_type": "stream",
          "name": "stdout",
          "text": [
            "Mounted at /gdrive\n",
            "/gdrive\n"
          ]
        }
      ]
    },
    {
      "cell_type": "markdown",
      "metadata": {
        "id": "jviphsF40ZcK"
      },
      "source": [
        "Файл с данными по кодам MCC был скачен по ссылке из описания данных."
      ]
    },
    {
      "cell_type": "code",
      "metadata": {
        "id": "a0FIzsiIJxHW"
      },
      "source": [
        "df = pd.read_csv('/gdrive/MyDrive/transactions_small.csv', sep=';')\n",
        "mcc_all = pd.read_csv('/gdrive/MyDrive/mcc_codes.csv')"
      ],
      "execution_count": null,
      "outputs": []
    },
    {
      "cell_type": "code",
      "metadata": {
        "colab": {
          "base_uri": "https://localhost:8080/",
          "height": 118
        },
        "id": "1SSjdjCqKJWm",
        "outputId": "c57652ce-1d52-4622-f1b3-115f8904b013"
      },
      "source": [
        "df.head(1)"
      ],
      "execution_count": null,
      "outputs": [
        {
          "output_type": "execute_result",
          "data": {
            "text/html": [
              "<div>\n",
              "<style scoped>\n",
              "    .dataframe tbody tr th:only-of-type {\n",
              "        vertical-align: middle;\n",
              "    }\n",
              "\n",
              "    .dataframe tbody tr th {\n",
              "        vertical-align: top;\n",
              "    }\n",
              "\n",
              "    .dataframe thead th {\n",
              "        text-align: right;\n",
              "    }\n",
              "</style>\n",
              "<table border=\"1\" class=\"dataframe\">\n",
              "  <thead>\n",
              "    <tr style=\"text-align: right;\">\n",
              "      <th></th>\n",
              "      <th>customer_id</th>\n",
              "      <th>card_id</th>\n",
              "      <th>tr_datetime</th>\n",
              "      <th>tr_normalized_amount</th>\n",
              "      <th>currency</th>\n",
              "      <th>mcc</th>\n",
              "      <th>merchant_name</th>\n",
              "      <th>merchant_city</th>\n",
              "    </tr>\n",
              "  </thead>\n",
              "  <tbody>\n",
              "    <tr>\n",
              "      <th>0</th>\n",
              "      <td>634E7564849D27B3C452229E405629A6</td>\n",
              "      <td>52CD1B87531555F5611C663562FC686D</td>\n",
              "      <td>2019-09-07</td>\n",
              "      <td>10.0</td>\n",
              "      <td>810</td>\n",
              "      <td>5999</td>\n",
              "      <td>i-bank ┴шыaщэ         &gt;moscow         ru</td>\n",
              "      <td>moscow</td>\n",
              "    </tr>\n",
              "  </tbody>\n",
              "</table>\n",
              "</div>"
            ],
            "text/plain": [
              "                        customer_id  ... merchant_city\n",
              "0  634E7564849D27B3C452229E405629A6  ...        moscow\n",
              "\n",
              "[1 rows x 8 columns]"
            ]
          },
          "metadata": {},
          "execution_count": 4
        }
      ]
    },
    {
      "cell_type": "markdown",
      "metadata": {
        "id": "TvskiJBjMWic"
      },
      "source": [
        "Описание столбцов данных в карточных транзакциях:\n",
        "* 'customer_id' - идентификатор клиента\n",
        "* 'card_id' - идентификатор карты клиента\n",
        "* 'tr_datetime' - дата совершения транзакции\n",
        "* 'tr_normalized_amount' - сумма транзакции в рублях\n",
        "* 'currency' - валюта транзакции\n",
        "* 'mcc' - мсс код транзакции (что такое мсс и поиск значения можно посмотреть тут https://mcc-codes.ru/)\n",
        "* 'merchant_name' - наименование торговой точки, где была произведена транзакция\n",
        "* 'merchant_city' - город, в котором была произведена транзакция"
      ]
    },
    {
      "cell_type": "code",
      "metadata": {
        "colab": {
          "base_uri": "https://localhost:8080/"
        },
        "id": "Bmz3zkbxKJ71",
        "outputId": "2ae82e36-6db6-4617-cfdb-901cbcd32207"
      },
      "source": [
        "df.info()"
      ],
      "execution_count": null,
      "outputs": [
        {
          "output_type": "stream",
          "name": "stdout",
          "text": [
            "<class 'pandas.core.frame.DataFrame'>\n",
            "RangeIndex: 623956 entries, 0 to 623955\n",
            "Data columns (total 8 columns):\n",
            " #   Column                Non-Null Count   Dtype  \n",
            "---  ------                --------------   -----  \n",
            " 0   customer_id           623956 non-null  object \n",
            " 1   card_id               623956 non-null  object \n",
            " 2   tr_datetime           623956 non-null  object \n",
            " 3   tr_normalized_amount  623956 non-null  float64\n",
            " 4   currency              623956 non-null  int64  \n",
            " 5   mcc                   623956 non-null  int64  \n",
            " 6   merchant_name         623956 non-null  object \n",
            " 7   merchant_city         623953 non-null  object \n",
            "dtypes: float64(1), int64(2), object(5)\n",
            "memory usage: 38.1+ MB\n"
          ]
        }
      ]
    },
    {
      "cell_type": "markdown",
      "metadata": {
        "id": "lF8n63NUMfcU"
      },
      "source": [
        "Из общего описания данных видно, что пропусков нет. Заменим формат данных у даты. "
      ]
    },
    {
      "cell_type": "code",
      "metadata": {
        "id": "OHqRTNHLL5g_"
      },
      "source": [
        "df['tr_datetime'] = pd.to_datetime(df['tr_datetime'])"
      ],
      "execution_count": null,
      "outputs": []
    },
    {
      "cell_type": "markdown",
      "metadata": {
        "id": "R2AuVpEnSwls"
      },
      "source": [
        "Отдельно добавим столбцы для года и месяца."
      ]
    },
    {
      "cell_type": "code",
      "metadata": {
        "id": "cy5OaawSS1QE"
      },
      "source": [
        "df['tr_year'] = df['tr_datetime'].dt.year\n",
        "df['tr_month'] = df['tr_datetime'].dt.month"
      ],
      "execution_count": null,
      "outputs": []
    },
    {
      "cell_type": "markdown",
      "metadata": {
        "id": "FN9RI8G_TWm-"
      },
      "source": [
        "Какие года и месяца в данном датасете?"
      ]
    },
    {
      "cell_type": "code",
      "metadata": {
        "colab": {
          "base_uri": "https://localhost:8080/"
        },
        "id": "AFT5lFm8TZ_g",
        "outputId": "d489a7e1-f84f-47c6-ec87-fca0ecdb5c7f"
      },
      "source": [
        "df['tr_year'].unique()"
      ],
      "execution_count": null,
      "outputs": [
        {
          "output_type": "execute_result",
          "data": {
            "text/plain": [
              "array([2019])"
            ]
          },
          "metadata": {},
          "execution_count": 8
        }
      ]
    },
    {
      "cell_type": "code",
      "metadata": {
        "colab": {
          "base_uri": "https://localhost:8080/"
        },
        "id": "c_nrx228nXI1",
        "outputId": "5e6b1e82-bb00-42b4-c628-26c651492fa0"
      },
      "source": [
        "df['tr_month'].unique()"
      ],
      "execution_count": null,
      "outputs": [
        {
          "output_type": "execute_result",
          "data": {
            "text/plain": [
              "array([ 9, 10,  8])"
            ]
          },
          "metadata": {},
          "execution_count": 9
        }
      ]
    },
    {
      "cell_type": "markdown",
      "metadata": {
        "id": "HH6W-NatTgRB"
      },
      "source": [
        "Так как у нас данные только для одного года, то повторов среди месяцев нет. Значит можно строить суммарные покупки по месяцам без учета года. Также у нас данные только за три месяца."
      ]
    },
    {
      "cell_type": "markdown",
      "metadata": {
        "id": "ZocCAGk1SU71"
      },
      "source": [
        "# **1. Выборка данных по покупкам кофе и кафетериям.**"
      ]
    },
    {
      "cell_type": "markdown",
      "metadata": {
        "id": "WiH6tPkE1OCB"
      },
      "source": [
        "Разделим поставленную задачу на две части:\n",
        "\n",
        "1. Найдем коды MCC, которые подходят под описание покупки кофе или посещение кофейни.\n",
        "2. Выделим из названия точек \"merchant_name \" те, где встречается кофе или кафе."
      ]
    },
    {
      "cell_type": "markdown",
      "metadata": {
        "id": "jJAzyedDgaI5"
      },
      "source": [
        "# **1.1 Выведем варианты расшифровки кода MCC подходящие под продажу кофе или кофейни.**"
      ]
    },
    {
      "cell_type": "code",
      "metadata": {
        "id": "EBxjkA4IH8oJ"
      },
      "source": [
        "list_mcc = [ 5499, 5541, 5812, 5813, 5814, 7832]"
      ],
      "execution_count": null,
      "outputs": []
    },
    {
      "cell_type": "markdown",
      "metadata": {
        "id": "kZH6ys2_hsrz"
      },
      "source": [
        "Для этого создадим фильтр для файла с кодами мсс"
      ]
    },
    {
      "cell_type": "code",
      "metadata": {
        "id": "OvknG_jq7PM3"
      },
      "source": [
        "mcc_filter_short = mcc_all['MCC'].isin(final_list_mcc)"
      ],
      "execution_count": null,
      "outputs": []
    },
    {
      "cell_type": "markdown",
      "metadata": {
        "id": "2AgJ3mE0hw5u"
      },
      "source": [
        "Так как мы хотим вывести весь текст, то увеличим число символов."
      ]
    },
    {
      "cell_type": "code",
      "metadata": {
        "id": "PXQCSQ6HCeWI"
      },
      "source": [
        "pd.options.display.max_colwidth = 500"
      ],
      "execution_count": null,
      "outputs": []
    },
    {
      "cell_type": "code",
      "metadata": {
        "colab": {
          "base_uri": "https://localhost:8080/",
          "height": 533
        },
        "id": "HXJbYzMSBKyu",
        "outputId": "95729e18-a897-475d-b9ef-f645b5d9d2d5"
      },
      "source": [
        "mcc_all[mcc_filter_short]"
      ],
      "execution_count": null,
      "outputs": [
        {
          "output_type": "execute_result",
          "data": {
            "text/html": [
              "<div>\n",
              "<style scoped>\n",
              "    .dataframe tbody tr th:only-of-type {\n",
              "        vertical-align: middle;\n",
              "    }\n",
              "\n",
              "    .dataframe tbody tr th {\n",
              "        vertical-align: top;\n",
              "    }\n",
              "\n",
              "    .dataframe thead th {\n",
              "        text-align: right;\n",
              "    }\n",
              "</style>\n",
              "<table border=\"1\" class=\"dataframe\">\n",
              "  <thead>\n",
              "    <tr style=\"text-align: right;\">\n",
              "      <th></th>\n",
              "      <th>MCC</th>\n",
              "      <th>Название</th>\n",
              "      <th>Описание</th>\n",
              "    </tr>\n",
              "  </thead>\n",
              "  <tbody>\n",
              "    <tr>\n",
              "      <th>813</th>\n",
              "      <td>5499</td>\n",
              "      <td>Различные продовольственные магазины - нигде более не классифицированные</td>\n",
              "      <td>Торговые точки, продающие продукты, не классифицированные в других категориях. Сюда относятся: специализированные продовольственные рынки, магазины диетических продуктов, деликатесов, домашней птицы, кофейни, овощные и фруктовые рынки, а также магазины мороженого, йогуртов и полуфабрикатов и небольшие магазины у дома. \\nДля магазинов, которые также продают автомобильный бензин, используется MCC 5541. \\nДля точек, которые в основном продают мясо и морепродукты, используется MCC 5422.</td>\n",
              "    </tr>\n",
              "    <tr>\n",
              "      <th>819</th>\n",
              "      <td>5541</td>\n",
              "      <td>Заправочные станции (с вспомогательными услугами или без)</td>\n",
              "      <td>Торговые точки, которые продают топливо для потребительского использования и могут или не могут также иметь на территории магазин, автомойку или авторемонтную мастерскую. Этот MCC включает станции техобслуживания, расположенных в гавани, у которых есть отдельное торговое соглашение от торгового терминала.\\nДля транзакций, совершаемых на автоматических заправочных станциях, используется MCC 5542.</td>\n",
              "    </tr>\n",
              "    <tr>\n",
              "      <th>852</th>\n",
              "      <td>5812</td>\n",
              "      <td>Места общественного питания, рестораны</td>\n",
              "      <td>Торговые точки, занимающиеся приготовлением еды и напитков для немедленного потребления, обычно на заказ. Могут оказывать услуги по обслуживанию столиков официантами. Места общественного питания включают в себя: кафе, кафетерии, грили, кофейни, закусочные, охлаждаемые прилавки для продажи мороженого и напитков, пиццерии, столовые, магазины деликатесов, бистро.\\n\\nДля точек, продающих еду быстрого приготовления, используется МСС 5814.  Для точек, торгующих алкогольными напитками на заказ, исп...</td>\n",
              "    </tr>\n",
              "    <tr>\n",
              "      <th>853</th>\n",
              "      <td>5813</td>\n",
              "      <td>Бары, коктейль-бары, дискотеки, ночные клубы и таверны – места продажи алкогольных напитков</td>\n",
              "      <td>Торговые точки, продающие алкогольные напитки, такие как вино, пиво, эль, смешанные напитки и другие ликеры и напитки для потребления на заказ. Места продажи алкогольных напитков включают в себя: бары, пивные, пабы, коктейль-бары, дискотеки, ночные клубы, таверны и винные бары.</td>\n",
              "    </tr>\n",
              "    <tr>\n",
              "      <th>854</th>\n",
              "      <td>5814</td>\n",
              "      <td>Фастфуд</td>\n",
              "      <td>Торговые точки, продающие готовую еду и напитки для немедленного потребления, как на заказ, так и упакованную на вынос. Такие рестораны могут использовать мак-драйв для приема и выдачи заказов и обычно не предоставляют услуги по обслуживанию столиков официантами и не берут чаевые. Эти торговые точки обычно не продают алкогольные напитки.</td>\n",
              "    </tr>\n",
              "    <tr>\n",
              "      <th>995</th>\n",
              "      <td>7832</td>\n",
              "      <td>Кинотеатры</td>\n",
              "      <td>Точки, которые управляют кинотеатрами, в том числе под открытым небом (drive-in). Такие продавцы продают билеты и напитки и могут предлагать или не предлагать предварительное бронирование билетов по телефону.</td>\n",
              "    </tr>\n",
              "  </tbody>\n",
              "</table>\n",
              "</div>"
            ],
            "text/plain": [
              "      MCC  ...                                                                                                                                                                                                                                                                                                                                                                                                                                                                                                             Описание\n",
              "813  5499  ...              Торговые точки, продающие продукты, не классифицированные в других категориях. Сюда относятся: специализированные продовольственные рынки, магазины диетических продуктов, деликатесов, домашней птицы, кофейни, овощные и фруктовые рынки, а также магазины мороженого, йогуртов и полуфабрикатов и небольшие магазины у дома. \\nДля магазинов, которые также продают автомобильный бензин, используется MCC 5541. \\nДля точек, которые в основном продают мясо и морепродукты, используется MCC 5422.\n",
              "819  5541  ...                                                                                                       Торговые точки, которые продают топливо для потребительского использования и могут или не могут также иметь на территории магазин, автомойку или авторемонтную мастерскую. Этот MCC включает станции техобслуживания, расположенных в гавани, у которых есть отдельное торговое соглашение от торгового терминала.\\nДля транзакций, совершаемых на автоматических заправочных станциях, используется MCC 5542.\n",
              "852  5812  ...  Торговые точки, занимающиеся приготовлением еды и напитков для немедленного потребления, обычно на заказ. Могут оказывать услуги по обслуживанию столиков официантами. Места общественного питания включают в себя: кафе, кафетерии, грили, кофейни, закусочные, охлаждаемые прилавки для продажи мороженого и напитков, пиццерии, столовые, магазины деликатесов, бистро.\\n\\nДля точек, продающих еду быстрого приготовления, используется МСС 5814.  Для точек, торгующих алкогольными напитками на заказ, исп...\n",
              "853  5813  ...                                                                                                                                                                                                                               Торговые точки, продающие алкогольные напитки, такие как вино, пиво, эль, смешанные напитки и другие ликеры и напитки для потребления на заказ. Места продажи алкогольных напитков включают в себя: бары, пивные, пабы, коктейль-бары, дискотеки, ночные клубы, таверны и винные бары.\n",
              "854  5814  ...                                                                                                                                                                  Торговые точки, продающие готовую еду и напитки для немедленного потребления, как на заказ, так и упакованную на вынос. Такие рестораны могут использовать мак-драйв для приема и выдачи заказов и обычно не предоставляют услуги по обслуживанию столиков официантами и не берут чаевые. Эти торговые точки обычно не продают алкогольные напитки.\n",
              "995  7832  ...                                                                                                                                                                                                                                                                                                     Точки, которые управляют кинотеатрами, в том числе под открытым небом (drive-in). Такие продавцы продают билеты и напитки и могут предлагать или не предлагать предварительное бронирование билетов по телефону.\n",
              "\n",
              "[6 rows x 3 columns]"
            ]
          },
          "metadata": {},
          "execution_count": 14
        }
      ]
    },
    {
      "cell_type": "markdown",
      "metadata": {
        "id": "c2RtRWP6h6jC"
      },
      "source": [
        "Из всего этого списка оставим только наиболее подходящие коды, связанные с ресторанами, кофейнями и фастфудом."
      ]
    },
    {
      "cell_type": "markdown",
      "metadata": {
        "id": "JRjX-kmEfUxg"
      },
      "source": [
        "Создадим фильтр для общего датасета данных:"
      ]
    },
    {
      "cell_type": "code",
      "metadata": {
        "id": "3U1MCp_0Pi0m"
      },
      "source": [
        "final_list_mcc_2 = [5812, 5814]\n",
        "df_filter_short_2 = df['mcc'].isin(final_list_mcc_2)\n",
        "data_mcc = df[df_filter_short_2]"
      ],
      "execution_count": null,
      "outputs": []
    },
    {
      "cell_type": "markdown",
      "metadata": {
        "id": "oRDc1MF8JE8j"
      },
      "source": [
        "Таким образом датасет data_mcc содержит в себе все транзакции связанные с кодами mcc 5812 и 5814."
      ]
    },
    {
      "cell_type": "markdown",
      "metadata": {
        "id": "S4UNHaUkQvKs"
      },
      "source": [
        "# **1.2 Выделим merchant_name, где встречается сочетание кофе или кафе.**"
      ]
    },
    {
      "cell_type": "markdown",
      "metadata": {
        "id": "Ox_WEbvuIaBj"
      },
      "source": [
        "Для поиска таких элементов создадим фильтр для сочетаний: kofe, kafe, koffe, coffe, cafe.\n",
        "\n",
        "То есть учтем, что в названии могут использоваться слова кофе или кафе с опечатками."
      ]
    },
    {
      "cell_type": "code",
      "metadata": {
        "id": "XW9UaNpZPir2"
      },
      "source": [
        "data_coffee = df[(df['merchant_name'].str.contains('kafe')) | \n",
        "   (df['merchant_name'].str.contains('kofe'))|\n",
        "   (df['merchant_name'].str.contains('coffe'))|\n",
        "   (df['merchant_name'].str.contains('cofe')) |\n",
        "   (df['merchant_name'].str.contains('koffe'))]"
      ],
      "execution_count": null,
      "outputs": []
    },
    {
      "cell_type": "markdown",
      "metadata": {
        "id": "9FGOIrOJKngA"
      },
      "source": [
        "data_coffee это данные по продажам кофе или в кофейнях. Однако здесь мы не учитываем популярные рестораны и фастфуды, где также можно купить кофе. Чтоб объединить данные по выборке по merchant_name и кодам мсс, сделаем объединение полученных датасетов. \n",
        "\n",
        "Для этого надо из полученного дата сета вырезать данные по коду мсс, во избежание повторов."
      ]
    },
    {
      "cell_type": "code",
      "metadata": {
        "id": "nbJSPw31Q1cx"
      },
      "source": [
        "data_temp = data_coffee[~data_coffee['mcc'].isin([5812, 5814])]"
      ],
      "execution_count": null,
      "outputs": []
    },
    {
      "cell_type": "code",
      "metadata": {
        "id": "mYh-RIkEQ1YL"
      },
      "source": [
        "result_data = pd.concat([data_mcc, data_temp]).reset_index(drop=True)"
      ],
      "execution_count": null,
      "outputs": []
    },
    {
      "cell_type": "markdown",
      "metadata": {
        "id": "1TofoPv6LKhU"
      },
      "source": [
        "Таким образом мы получили два дата сета:\n",
        "1. data_coffee - фрейм, где учитываются только упоминание кофеен и кофе в названии merchant_name\n",
        "2. result_data -  объединенный фрейм, где укчитываются и коды мсс и упоминание кофе в merchant_name."
      ]
    },
    {
      "cell_type": "markdown",
      "metadata": {
        "id": "gArV17xWSjtW"
      },
      "source": [
        "# **2. Выделение клиентов, которые покупали кофе/посещали кофейни от 2 раз в месяц хотя бы 2 из 3 месяцев.**"
      ]
    },
    {
      "cell_type": "markdown",
      "metadata": {
        "id": "hIZyufdtLvnl"
      },
      "source": [
        "Создадим функцию для вывода списка customer_id тех, кто покупали кофе/ посещали кофейни больше двух раз 2 из 3 месяцев.\n",
        "\n",
        "В самой функции мы введем дополнительный столбец данных 'id_coffee', который будет равен 1, если покупок было больше двух в месяц и 0, если только 1."
      ]
    },
    {
      "cell_type": "code",
      "metadata": {
        "id": "EisIlcahL-B2"
      },
      "source": [
        "def client_id(dataframe):\n",
        "  table = dataframe.pivot_table(index=['customer_id', 'tr_month'], \n",
        "                                values='merchant_name', aggfunc='count'\n",
        "                ).reset_index().sort_values(by='merchant_name', \n",
        "                                            ascending=False\n",
        "                                            ).reset_index(drop=True)\n",
        "  table['id_coffee'] = [1\n",
        "                      if table.loc[el, 'merchant_name'] > 1\n",
        "                      else 0\n",
        "                      for el in range(len(table))]\n",
        "  table_fin = table.pivot_table(index='customer_id', values='id_coffee', \n",
        "                              aggfunc='count').reset_index()\n",
        "  list_id = list(table_fin[table_fin['id_coffee'] >1]['customer_id'])\n",
        "  return list_id"
      ],
      "execution_count": null,
      "outputs": []
    },
    {
      "cell_type": "code",
      "metadata": {
        "id": "7_AanVIPMo_p"
      },
      "source": [
        "list_coffee = client_id(data_coffee)\n",
        "list_all = client_id(result_data)"
      ],
      "execution_count": null,
      "outputs": []
    },
    {
      "cell_type": "markdown",
      "metadata": {
        "id": "vFNFi330OkJO"
      },
      "source": [
        "Таким образом можно сделать вывод, что:"
      ]
    },
    {
      "cell_type": "code",
      "metadata": {
        "colab": {
          "base_uri": "https://localhost:8080/"
        },
        "id": "0rLxPl08Xdv6",
        "outputId": "0b629985-fcc4-49c9-af5f-e14e62d7cacc"
      },
      "source": [
        "print(\"Количество клиентов, которые покупали кофе/посещали кофейни от 2 раз в \\\n",
        "месяц хотя бы 2 из 3 месяцев находится  между\", \n",
        "len(list_coffee), \"и\", len(list_all))"
      ],
      "execution_count": null,
      "outputs": [
        {
          "output_type": "stream",
          "name": "stdout",
          "text": [
            "Количество клиентов, которые покупали кофе/посещали кофейни от 2 раз в месяц хотя бы 2 из 3 месяцев находится  между 952 и 3400\n"
          ]
        }
      ]
    }
  ]
}