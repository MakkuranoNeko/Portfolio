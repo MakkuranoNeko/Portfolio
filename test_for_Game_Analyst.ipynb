{
  "nbformat": 4,
  "nbformat_minor": 0,
  "metadata": {
    "colab": {
      "name": "test_for_Game_Analyst.ipynb",
      "provenance": [],
      "collapsed_sections": [],
      "authorship_tag": "ABX9TyPFPfkviL6Z70jvAKyIEtdj"
    },
    "kernelspec": {
      "name": "python3",
      "display_name": "Python 3"
    },
    "language_info": {
      "name": "python"
    }
  },
  "cells": [
    {
      "cell_type": "markdown",
      "metadata": {
        "id": "FN-K1zMlQrDS"
      },
      "source": [
        "**Решение тестового для вакансии https://hh.ru/vacancy/48973633?from=favorite_vacancy_list**"
      ]
    },
    {
      "cell_type": "markdown",
      "metadata": {
        "id": "m5nv8sVpQdQa"
      },
      "source": [
        "## Задание №1\n",
        "\n",
        "> В специальной лотерее игрок выбирает 5 разных чисел из возможных 30. В этот же день случайным образом определяется победная комбинация из 7 разных чисел (из того же набора). Игрок считается победителем в случае, если совпадают любые 4 числа в выбранном им наборе и в победной комбинации.\n",
        "> \n",
        "\n",
        "Какова вероятность выигрыша?"
      ]
    },
    {
      "cell_type": "markdown",
      "metadata": {
        "id": "pAXBPzr-xP7Y"
      },
      "source": [
        "Число выигрышных сочетаний:"
      ]
    },
    {
      "cell_type": "code",
      "metadata": {
        "id": "Tic-c1uARIPs",
        "colab": {
          "base_uri": "https://localhost:8080/"
        },
        "outputId": "56eac316-17e5-4d8e-f16f-0bc5d9700050"
      },
      "source": [
        "7*6*5*4*23*22"
      ],
      "execution_count": 12,
      "outputs": [
        {
          "output_type": "execute_result",
          "data": {
            "text/plain": [
              "425040"
            ]
          },
          "metadata": {},
          "execution_count": 12
        }
      ]
    },
    {
      "cell_type": "markdown",
      "metadata": {
        "id": "wW6NtIeAxgx9"
      },
      "source": [
        "Число всего сочетаний"
      ]
    },
    {
      "cell_type": "code",
      "metadata": {
        "colab": {
          "base_uri": "https://localhost:8080/"
        },
        "id": "7Ji-Embixi2r",
        "outputId": "cbc91de7-226a-44ae-cf83-acd649805737"
      },
      "source": [
        "30*29*28*27*26"
      ],
      "execution_count": 13,
      "outputs": [
        {
          "output_type": "execute_result",
          "data": {
            "text/plain": [
              "17100720"
            ]
          },
          "metadata": {},
          "execution_count": 13
        }
      ]
    },
    {
      "cell_type": "markdown",
      "metadata": {
        "id": "JpDmvaFBxms6"
      },
      "source": [
        "Вероятность этого события:"
      ]
    },
    {
      "cell_type": "code",
      "metadata": {
        "colab": {
          "base_uri": "https://localhost:8080/"
        },
        "id": "lHrYT1y5xpnZ",
        "outputId": "18ab43a8-2d9e-4a4a-f4c7-82345ca2efe2"
      },
      "source": [
        "round(425040/17100720 * 100,2)"
      ],
      "execution_count": 14,
      "outputs": [
        {
          "output_type": "execute_result",
          "data": {
            "text/plain": [
              "2.49"
            ]
          },
          "metadata": {},
          "execution_count": 14
        }
      ]
    },
    {
      "cell_type": "markdown",
      "metadata": {
        "id": "7G0ehmLqQ4_W"
      },
      "source": [
        "## Задание №2\n",
        "\n",
        "> В файле \"Lightmap. Тестовое задание №2.csv\" построчно приведены записи событий установки приложения (install) и начала сессии (login). В столбце player_id указан уникальный id пользователя, в столбце event_timestamp - время события (unix timestamp UTC). \n",
        "\n",
        "Удержание первого дня определяется как доля уникальных пользователей, отправивших событие login на следующий *календарный* день, среди всех пользователей, отправивших событие install в текущий *календарный* день. Например, если 1 сентября 100 пользователей скачали приложение, и 50 *из них* совершили логин 2 сентября, удержание первого дня для 1 сентября составляет 50%.\n",
        "\n",
        "Удержание первого дня для периода дат определяется как отношение общего числа уникальных пользователей, вернувшихся в приложение на следующий день после дня установки, к общему числу уникальных пользователей, совершивших установку в рамках заданного периода дат.\n",
        ">\n",
        "Например, если 2 сентября 200 пользователей скачали приложение, и 75 из них совершили логин 3 сентября, удержание первого дня за период 1-2 сентября составляет: (50 + 75) / (100 + 200) ≈ 42%\n",
        "\n",
        "\n"
      ]
    },
    {
      "cell_type": "markdown",
      "metadata": {
        "id": "6UxAJ4N6Q_2z"
      },
      "source": [
        "Вопрос: Можно ли с уверенностью утверждать, что удержание первого дня за период с 15 по 18 сентября выше, чем удержание первого дня за период с 19 по 22 сентября? И почему?"
      ]
    },
    {
      "cell_type": "code",
      "metadata": {
        "colab": {
          "base_uri": "https://localhost:8080/"
        },
        "id": "vDNFXbr3dAw0",
        "outputId": "33dc06d5-2dcb-4fc0-b42d-3dc7e56e8e26"
      },
      "source": [
        "!pip install plotly==5.2.1"
      ],
      "execution_count": 1,
      "outputs": [
        {
          "output_type": "stream",
          "name": "stdout",
          "text": [
            "Collecting plotly==5.2.1\n",
            "  Downloading plotly-5.2.1-py2.py3-none-any.whl (21.8 MB)\n",
            "\u001b[K     |████████████████████████████████| 21.8 MB 1.4 MB/s \n",
            "\u001b[?25hCollecting tenacity>=6.2.0\n",
            "  Downloading tenacity-8.0.1-py3-none-any.whl (24 kB)\n",
            "Requirement already satisfied: six in /usr/local/lib/python3.7/dist-packages (from plotly==5.2.1) (1.15.0)\n",
            "Installing collected packages: tenacity, plotly\n",
            "  Attempting uninstall: plotly\n",
            "    Found existing installation: plotly 4.4.1\n",
            "    Uninstalling plotly-4.4.1:\n",
            "      Successfully uninstalled plotly-4.4.1\n",
            "Successfully installed plotly-5.2.1 tenacity-8.0.1\n"
          ]
        }
      ]
    },
    {
      "cell_type": "code",
      "metadata": {
        "id": "CTw8zncHs11w"
      },
      "source": [
        "import pandas as pd\n",
        "from datetime import datetime\n",
        "import numpy as np\n",
        "import plotly.express as px\n",
        "import plotly.graph_objects as go"
      ],
      "execution_count": 2,
      "outputs": []
    },
    {
      "cell_type": "code",
      "metadata": {
        "colab": {
          "base_uri": "https://localhost:8080/"
        },
        "id": "0hAzzW55tAQY",
        "outputId": "121eac6b-4029-41a1-90e9-e1963f8c78fb"
      },
      "source": [
        "from google.colab import drive\n",
        "drive.mount('/gdrive')\n",
        "%cd /gdrive"
      ],
      "execution_count": 3,
      "outputs": [
        {
          "output_type": "stream",
          "name": "stdout",
          "text": [
            "Mounted at /gdrive\n",
            "/gdrive\n"
          ]
        }
      ]
    },
    {
      "cell_type": "code",
      "metadata": {
        "id": "Mx9hYpdLtBBA"
      },
      "source": [
        "df1 = pd.read_csv('/gdrive/MyDrive/lightmap/Lightmap. Тестовое задание №2.csv')"
      ],
      "execution_count": 4,
      "outputs": []
    },
    {
      "cell_type": "code",
      "metadata": {
        "colab": {
          "base_uri": "https://localhost:8080/",
          "height": 424
        },
        "id": "z9Lw9nRetqmQ",
        "outputId": "707d396f-a472-4d1f-ba31-43407ce1ff28"
      },
      "source": [
        "df1"
      ],
      "execution_count": 5,
      "outputs": [
        {
          "output_type": "execute_result",
          "data": {
            "text/html": [
              "<div>\n",
              "<style scoped>\n",
              "    .dataframe tbody tr th:only-of-type {\n",
              "        vertical-align: middle;\n",
              "    }\n",
              "\n",
              "    .dataframe tbody tr th {\n",
              "        vertical-align: top;\n",
              "    }\n",
              "\n",
              "    .dataframe thead th {\n",
              "        text-align: right;\n",
              "    }\n",
              "</style>\n",
              "<table border=\"1\" class=\"dataframe\">\n",
              "  <thead>\n",
              "    <tr style=\"text-align: right;\">\n",
              "      <th></th>\n",
              "      <th>player_id</th>\n",
              "      <th>event_timestamp</th>\n",
              "      <th>event_name</th>\n",
              "    </tr>\n",
              "  </thead>\n",
              "  <tbody>\n",
              "    <tr>\n",
              "      <th>0</th>\n",
              "      <td>1058930</td>\n",
              "      <td>1632265733</td>\n",
              "      <td>install</td>\n",
              "    </tr>\n",
              "    <tr>\n",
              "      <th>1</th>\n",
              "      <td>1055681</td>\n",
              "      <td>1632412526</td>\n",
              "      <td>login</td>\n",
              "    </tr>\n",
              "    <tr>\n",
              "      <th>2</th>\n",
              "      <td>1057784</td>\n",
              "      <td>1632411775</td>\n",
              "      <td>login</td>\n",
              "    </tr>\n",
              "    <tr>\n",
              "      <th>3</th>\n",
              "      <td>1015250</td>\n",
              "      <td>1631923078</td>\n",
              "      <td>login</td>\n",
              "    </tr>\n",
              "    <tr>\n",
              "      <th>4</th>\n",
              "      <td>1040648</td>\n",
              "      <td>1631670785</td>\n",
              "      <td>login</td>\n",
              "    </tr>\n",
              "    <tr>\n",
              "      <th>...</th>\n",
              "      <td>...</td>\n",
              "      <td>...</td>\n",
              "      <td>...</td>\n",
              "    </tr>\n",
              "    <tr>\n",
              "      <th>52538</th>\n",
              "      <td>1060090</td>\n",
              "      <td>1632338669</td>\n",
              "      <td>install</td>\n",
              "    </tr>\n",
              "    <tr>\n",
              "      <th>52539</th>\n",
              "      <td>1061249</td>\n",
              "      <td>1632403477</td>\n",
              "      <td>install</td>\n",
              "    </tr>\n",
              "    <tr>\n",
              "      <th>52540</th>\n",
              "      <td>1062028</td>\n",
              "      <td>1632436754</td>\n",
              "      <td>install</td>\n",
              "    </tr>\n",
              "    <tr>\n",
              "      <th>52541</th>\n",
              "      <td>1050142</td>\n",
              "      <td>1631918819</td>\n",
              "      <td>login</td>\n",
              "    </tr>\n",
              "    <tr>\n",
              "      <th>52542</th>\n",
              "      <td>1048702</td>\n",
              "      <td>1631758621</td>\n",
              "      <td>login</td>\n",
              "    </tr>\n",
              "  </tbody>\n",
              "</table>\n",
              "<p>52543 rows × 3 columns</p>\n",
              "</div>"
            ],
            "text/plain": [
              "       player_id  event_timestamp event_name\n",
              "0        1058930       1632265733    install\n",
              "1        1055681       1632412526      login\n",
              "2        1057784       1632411775      login\n",
              "3        1015250       1631923078      login\n",
              "4        1040648       1631670785      login\n",
              "...          ...              ...        ...\n",
              "52538    1060090       1632338669    install\n",
              "52539    1061249       1632403477    install\n",
              "52540    1062028       1632436754    install\n",
              "52541    1050142       1631918819      login\n",
              "52542    1048702       1631758621      login\n",
              "\n",
              "[52543 rows x 3 columns]"
            ]
          },
          "metadata": {},
          "execution_count": 5
        }
      ]
    },
    {
      "cell_type": "markdown",
      "metadata": {
        "id": "TTOpac5w8ju9"
      },
      "source": [
        "Переведем столбец timestamp во время, ограничивая данные только датой."
      ]
    },
    {
      "cell_type": "code",
      "metadata": {
        "id": "-QNEsznl0sPy"
      },
      "source": [
        "df1['time'] = [datetime.utcfromtimestamp(int(el)).strftime('%Y-%m-%d')\n",
        "              for el in df1.event_timestamp\n",
        "              ]\n"
      ],
      "execution_count": 6,
      "outputs": []
    },
    {
      "cell_type": "markdown",
      "metadata": {
        "id": "jRFDxIyH8xvs"
      },
      "source": [
        "Таким образом, получаем:"
      ]
    },
    {
      "cell_type": "code",
      "metadata": {
        "colab": {
          "base_uri": "https://localhost:8080/",
          "height": 206
        },
        "id": "8Jc_9_satrkB",
        "outputId": "47ce5fa5-e077-4793-acb0-c33c9dfdfacd"
      },
      "source": [
        "df1.head()"
      ],
      "execution_count": 7,
      "outputs": [
        {
          "output_type": "execute_result",
          "data": {
            "text/html": [
              "<div>\n",
              "<style scoped>\n",
              "    .dataframe tbody tr th:only-of-type {\n",
              "        vertical-align: middle;\n",
              "    }\n",
              "\n",
              "    .dataframe tbody tr th {\n",
              "        vertical-align: top;\n",
              "    }\n",
              "\n",
              "    .dataframe thead th {\n",
              "        text-align: right;\n",
              "    }\n",
              "</style>\n",
              "<table border=\"1\" class=\"dataframe\">\n",
              "  <thead>\n",
              "    <tr style=\"text-align: right;\">\n",
              "      <th></th>\n",
              "      <th>player_id</th>\n",
              "      <th>event_timestamp</th>\n",
              "      <th>event_name</th>\n",
              "      <th>time</th>\n",
              "    </tr>\n",
              "  </thead>\n",
              "  <tbody>\n",
              "    <tr>\n",
              "      <th>0</th>\n",
              "      <td>1058930</td>\n",
              "      <td>1632265733</td>\n",
              "      <td>install</td>\n",
              "      <td>2021-09-21</td>\n",
              "    </tr>\n",
              "    <tr>\n",
              "      <th>1</th>\n",
              "      <td>1055681</td>\n",
              "      <td>1632412526</td>\n",
              "      <td>login</td>\n",
              "      <td>2021-09-23</td>\n",
              "    </tr>\n",
              "    <tr>\n",
              "      <th>2</th>\n",
              "      <td>1057784</td>\n",
              "      <td>1632411775</td>\n",
              "      <td>login</td>\n",
              "      <td>2021-09-23</td>\n",
              "    </tr>\n",
              "    <tr>\n",
              "      <th>3</th>\n",
              "      <td>1015250</td>\n",
              "      <td>1631923078</td>\n",
              "      <td>login</td>\n",
              "      <td>2021-09-17</td>\n",
              "    </tr>\n",
              "    <tr>\n",
              "      <th>4</th>\n",
              "      <td>1040648</td>\n",
              "      <td>1631670785</td>\n",
              "      <td>login</td>\n",
              "      <td>2021-09-15</td>\n",
              "    </tr>\n",
              "  </tbody>\n",
              "</table>\n",
              "</div>"
            ],
            "text/plain": [
              "   player_id  event_timestamp event_name        time\n",
              "0    1058930       1632265733    install  2021-09-21\n",
              "1    1055681       1632412526      login  2021-09-23\n",
              "2    1057784       1632411775      login  2021-09-23\n",
              "3    1015250       1631923078      login  2021-09-17\n",
              "4    1040648       1631670785      login  2021-09-15"
            ]
          },
          "metadata": {},
          "execution_count": 7
        }
      ]
    },
    {
      "cell_type": "markdown",
      "metadata": {
        "id": "tHGdZmK-80jN"
      },
      "source": [
        "Создадим сводную таблицу, в которой посчитаем количество уникальных пользователей, которые логинились или устанавливали приложение, для каждого из дней."
      ]
    },
    {
      "cell_type": "code",
      "metadata": {
        "id": "ePQynU0szkoY",
        "colab": {
          "base_uri": "https://localhost:8080/",
          "height": 614
        },
        "outputId": "2eb81714-c0c8-4ac1-fada-3e5f7be36a15"
      },
      "source": [
        "table = df1.pivot_table(index=['time','event_name'], values='player_id', aggfunc='nunique').reset_index()\n",
        "table"
      ],
      "execution_count": 9,
      "outputs": [
        {
          "output_type": "execute_result",
          "data": {
            "text/html": [
              "<div>\n",
              "<style scoped>\n",
              "    .dataframe tbody tr th:only-of-type {\n",
              "        vertical-align: middle;\n",
              "    }\n",
              "\n",
              "    .dataframe tbody tr th {\n",
              "        vertical-align: top;\n",
              "    }\n",
              "\n",
              "    .dataframe thead th {\n",
              "        text-align: right;\n",
              "    }\n",
              "</style>\n",
              "<table border=\"1\" class=\"dataframe\">\n",
              "  <thead>\n",
              "    <tr style=\"text-align: right;\">\n",
              "      <th></th>\n",
              "      <th>time</th>\n",
              "      <th>event_name</th>\n",
              "      <th>player_id</th>\n",
              "    </tr>\n",
              "  </thead>\n",
              "  <tbody>\n",
              "    <tr>\n",
              "      <th>0</th>\n",
              "      <td>2021-09-15</td>\n",
              "      <td>install</td>\n",
              "      <td>1327</td>\n",
              "    </tr>\n",
              "    <tr>\n",
              "      <th>1</th>\n",
              "      <td>2021-09-15</td>\n",
              "      <td>login</td>\n",
              "      <td>2026</td>\n",
              "    </tr>\n",
              "    <tr>\n",
              "      <th>2</th>\n",
              "      <td>2021-09-16</td>\n",
              "      <td>install</td>\n",
              "      <td>1284</td>\n",
              "    </tr>\n",
              "    <tr>\n",
              "      <th>3</th>\n",
              "      <td>2021-09-16</td>\n",
              "      <td>login</td>\n",
              "      <td>2098</td>\n",
              "    </tr>\n",
              "    <tr>\n",
              "      <th>4</th>\n",
              "      <td>2021-09-17</td>\n",
              "      <td>install</td>\n",
              "      <td>1483</td>\n",
              "    </tr>\n",
              "    <tr>\n",
              "      <th>5</th>\n",
              "      <td>2021-09-17</td>\n",
              "      <td>login</td>\n",
              "      <td>2286</td>\n",
              "    </tr>\n",
              "    <tr>\n",
              "      <th>6</th>\n",
              "      <td>2021-09-18</td>\n",
              "      <td>install</td>\n",
              "      <td>1779</td>\n",
              "    </tr>\n",
              "    <tr>\n",
              "      <th>7</th>\n",
              "      <td>2021-09-18</td>\n",
              "      <td>login</td>\n",
              "      <td>2645</td>\n",
              "    </tr>\n",
              "    <tr>\n",
              "      <th>8</th>\n",
              "      <td>2021-09-19</td>\n",
              "      <td>install</td>\n",
              "      <td>1674</td>\n",
              "    </tr>\n",
              "    <tr>\n",
              "      <th>9</th>\n",
              "      <td>2021-09-19</td>\n",
              "      <td>login</td>\n",
              "      <td>2725</td>\n",
              "    </tr>\n",
              "    <tr>\n",
              "      <th>10</th>\n",
              "      <td>2021-09-20</td>\n",
              "      <td>install</td>\n",
              "      <td>1380</td>\n",
              "    </tr>\n",
              "    <tr>\n",
              "      <th>11</th>\n",
              "      <td>2021-09-20</td>\n",
              "      <td>login</td>\n",
              "      <td>2448</td>\n",
              "    </tr>\n",
              "    <tr>\n",
              "      <th>12</th>\n",
              "      <td>2021-09-21</td>\n",
              "      <td>install</td>\n",
              "      <td>2123</td>\n",
              "    </tr>\n",
              "    <tr>\n",
              "      <th>13</th>\n",
              "      <td>2021-09-21</td>\n",
              "      <td>login</td>\n",
              "      <td>2733</td>\n",
              "    </tr>\n",
              "    <tr>\n",
              "      <th>14</th>\n",
              "      <td>2021-09-22</td>\n",
              "      <td>install</td>\n",
              "      <td>1343</td>\n",
              "    </tr>\n",
              "    <tr>\n",
              "      <th>15</th>\n",
              "      <td>2021-09-22</td>\n",
              "      <td>login</td>\n",
              "      <td>2434</td>\n",
              "    </tr>\n",
              "    <tr>\n",
              "      <th>16</th>\n",
              "      <td>2021-09-23</td>\n",
              "      <td>install</td>\n",
              "      <td>1509</td>\n",
              "    </tr>\n",
              "    <tr>\n",
              "      <th>17</th>\n",
              "      <td>2021-09-23</td>\n",
              "      <td>login</td>\n",
              "      <td>2361</td>\n",
              "    </tr>\n",
              "  </tbody>\n",
              "</table>\n",
              "</div>"
            ],
            "text/plain": [
              "          time event_name  player_id\n",
              "0   2021-09-15    install       1327\n",
              "1   2021-09-15      login       2026\n",
              "2   2021-09-16    install       1284\n",
              "3   2021-09-16      login       2098\n",
              "4   2021-09-17    install       1483\n",
              "5   2021-09-17      login       2286\n",
              "6   2021-09-18    install       1779\n",
              "7   2021-09-18      login       2645\n",
              "8   2021-09-19    install       1674\n",
              "9   2021-09-19      login       2725\n",
              "10  2021-09-20    install       1380\n",
              "11  2021-09-20      login       2448\n",
              "12  2021-09-21    install       2123\n",
              "13  2021-09-21      login       2733\n",
              "14  2021-09-22    install       1343\n",
              "15  2021-09-22      login       2434\n",
              "16  2021-09-23    install       1509\n",
              "17  2021-09-23      login       2361"
            ]
          },
          "metadata": {},
          "execution_count": 9
        }
      ]
    },
    {
      "cell_type": "markdown",
      "metadata": {
        "id": "CkV9qvgj5abk"
      },
      "source": [
        "Удержание первого дня за период с 15 по 18 сентября:"
      ]
    },
    {
      "cell_type": "code",
      "metadata": {
        "colab": {
          "base_uri": "https://localhost:8080/"
        },
        "id": "YW6dKPFyfmfD",
        "outputId": "07f3ba0a-ced4-4eeb-d8fc-b2ac9a9f4b6e"
      },
      "source": [
        "install_15_18 = table[(table['event_name'] == 'install') & \n",
        "                    (table['time'] < '2021-09-19')].player_id.sum()\n",
        "login_15_18 = table[(table['event_name'] == 'login') & \n",
        "                    (table['time'] < '2021-09-20') & \n",
        "                    (table['time'] > '2021-09-15')].player_id.sum()\n",
        "print(round(install_15_18 / login_15_18 * 100, 2))"
      ],
      "execution_count": 10,
      "outputs": [
        {
          "output_type": "stream",
          "name": "stdout",
          "text": [
            "60.21\n"
          ]
        }
      ]
    },
    {
      "cell_type": "markdown",
      "metadata": {
        "id": "5Ox1lA8urtGN"
      },
      "source": [
        "Удержание первого дня за период с 19 по 22 сентября:"
      ]
    },
    {
      "cell_type": "code",
      "metadata": {
        "colab": {
          "base_uri": "https://localhost:8080/"
        },
        "id": "GPitQQjesuiw",
        "outputId": "415cdd91-555f-4103-915d-0279fadd5ca3"
      },
      "source": [
        "install_19_22 = table[(table['event_name'] == 'install') & \n",
        "                    (table['time'] > '2021-09-18') & \n",
        "                    (table['time'] < '2021-09-23')].player_id.sum()\n",
        "login_20_23 = table[(table['event_name'] == 'login') & \n",
        "                    (table['time'] > '2021-09-19')].player_id.sum()\n",
        "print(round(install_19_22 / login_20_23 * 100, 2))"
      ],
      "execution_count": 11,
      "outputs": [
        {
          "output_type": "stream",
          "name": "stdout",
          "text": [
            "65.36\n"
          ]
        }
      ]
    },
    {
      "cell_type": "markdown",
      "metadata": {
        "id": "ri2Gn7XFtBbN"
      },
      "source": [
        "**Вопрос:** \n",
        "\n",
        "Можно ли с уверенностью утверждать, что удержание первого дня за период с 15 по 18 сентября выше, чем удержание первого дня за период с 19 по 22 сентября? И почему?\n",
        "\n",
        "**Ответ:**\n",
        "Удержание первого дня за период с 19 по 22 сентября выше, чем удержание первого дня за период с 15 по 18 сентября. "
      ]
    },
    {
      "cell_type": "markdown",
      "metadata": {
        "id": "w5Ohgd3UQ65_"
      },
      "source": [
        "## Задание №3\n",
        "\n",
        "> В файле \"Lightmap. Тестовое задание №3.csv\" построчно приведены записи транзакций, совершенных в приложении когортой пользователей. В столбце event_timestamp указано время транзакции (unix timestamp UTC), в столбце registration_timestamp - дата регистрации пользователя, в столбце inapp_size - размер соответствующего платежа (сумма $).\n",
        "> \n",
        "\n",
        "Таблица \n",
        "\n",
        "[Lightmap. Тестовое задание №3.csv](https://s3-us-west-2.amazonaws.com/secure.notion-static.com/18c44675-33f0-4f3c-8ad7-f98f52f57bfe/Lightmap.___3.csv)\n",
        "\n",
        "Требуется построить кривую накопительной суммы платежей когорты по дням с момента регистрации (один день - одна точка на кривой). На основании полученных данных построить и отобразить в виде другой кривой на том же графике прогноз значений накопительной суммы для дней жизни с 90 по 180."
      ]
    },
    {
      "cell_type": "code",
      "metadata": {
        "id": "Q7uzqygntb5J"
      },
      "source": [
        "df2 = pd.read_csv('/gdrive/MyDrive/lightmap/Lightmap. Тестовое задание №3.csv')"
      ],
      "execution_count": null,
      "outputs": []
    },
    {
      "cell_type": "code",
      "metadata": {
        "colab": {
          "base_uri": "https://localhost:8080/",
          "height": 424
        },
        "id": "kOnUr6q_tfov",
        "outputId": "df688006-5643-4ab1-dea5-24e162f58686"
      },
      "source": [
        "df2"
      ],
      "execution_count": null,
      "outputs": [
        {
          "output_type": "execute_result",
          "data": {
            "text/html": [
              "<div>\n",
              "<style scoped>\n",
              "    .dataframe tbody tr th:only-of-type {\n",
              "        vertical-align: middle;\n",
              "    }\n",
              "\n",
              "    .dataframe tbody tr th {\n",
              "        vertical-align: top;\n",
              "    }\n",
              "\n",
              "    .dataframe thead th {\n",
              "        text-align: right;\n",
              "    }\n",
              "</style>\n",
              "<table border=\"1\" class=\"dataframe\">\n",
              "  <thead>\n",
              "    <tr style=\"text-align: right;\">\n",
              "      <th></th>\n",
              "      <th>event_timestamp</th>\n",
              "      <th>registration_timestamp</th>\n",
              "      <th>inapp_size</th>\n",
              "    </tr>\n",
              "  </thead>\n",
              "  <tbody>\n",
              "    <tr>\n",
              "      <th>0</th>\n",
              "      <td>1611154038</td>\n",
              "      <td>1610971359</td>\n",
              "      <td>5</td>\n",
              "    </tr>\n",
              "    <tr>\n",
              "      <th>1</th>\n",
              "      <td>1611759898</td>\n",
              "      <td>1610972522</td>\n",
              "      <td>3</td>\n",
              "    </tr>\n",
              "    <tr>\n",
              "      <th>2</th>\n",
              "      <td>1611057594</td>\n",
              "      <td>1610974545</td>\n",
              "      <td>5</td>\n",
              "    </tr>\n",
              "    <tr>\n",
              "      <th>3</th>\n",
              "      <td>1611562555</td>\n",
              "      <td>1610976251</td>\n",
              "      <td>3</td>\n",
              "    </tr>\n",
              "    <tr>\n",
              "      <th>4</th>\n",
              "      <td>1611082290</td>\n",
              "      <td>1610976461</td>\n",
              "      <td>3</td>\n",
              "    </tr>\n",
              "    <tr>\n",
              "      <th>...</th>\n",
              "      <td>...</td>\n",
              "      <td>...</td>\n",
              "      <td>...</td>\n",
              "    </tr>\n",
              "    <tr>\n",
              "      <th>11572</th>\n",
              "      <td>1611556376</td>\n",
              "      <td>1610970090</td>\n",
              "      <td>3</td>\n",
              "    </tr>\n",
              "    <tr>\n",
              "      <th>11573</th>\n",
              "      <td>1611556310</td>\n",
              "      <td>1610970090</td>\n",
              "      <td>3</td>\n",
              "    </tr>\n",
              "    <tr>\n",
              "      <th>11574</th>\n",
              "      <td>1611592979</td>\n",
              "      <td>1610970090</td>\n",
              "      <td>1</td>\n",
              "    </tr>\n",
              "    <tr>\n",
              "      <th>11575</th>\n",
              "      <td>1611116708</td>\n",
              "      <td>1610970537</td>\n",
              "      <td>3</td>\n",
              "    </tr>\n",
              "    <tr>\n",
              "      <th>11576</th>\n",
              "      <td>1611117073</td>\n",
              "      <td>1610970537</td>\n",
              "      <td>1</td>\n",
              "    </tr>\n",
              "  </tbody>\n",
              "</table>\n",
              "<p>11577 rows × 3 columns</p>\n",
              "</div>"
            ],
            "text/plain": [
              "       event_timestamp  registration_timestamp  inapp_size\n",
              "0           1611154038              1610971359           5\n",
              "1           1611759898              1610972522           3\n",
              "2           1611057594              1610974545           5\n",
              "3           1611562555              1610976251           3\n",
              "4           1611082290              1610976461           3\n",
              "...                ...                     ...         ...\n",
              "11572       1611556376              1610970090           3\n",
              "11573       1611556310              1610970090           3\n",
              "11574       1611592979              1610970090           1\n",
              "11575       1611116708              1610970537           3\n",
              "11576       1611117073              1610970537           1\n",
              "\n",
              "[11577 rows x 3 columns]"
            ]
          },
          "metadata": {},
          "execution_count": 12
        }
      ]
    },
    {
      "cell_type": "markdown",
      "metadata": {
        "id": "qWA1fKVZ9HIr"
      },
      "source": [
        "Переведем оба столбца с timestamp в дату. Также сразу переведем полученные столбцы в формат datetime."
      ]
    },
    {
      "cell_type": "code",
      "metadata": {
        "id": "YKMLLgCYtl7o"
      },
      "source": [
        "df2['time_event'] = [datetime.utcfromtimestamp(int(el)).strftime('%Y-%m-%d')\n",
        "              for el in df2.event_timestamp\n",
        "              ]\n",
        "df2['time_reg'] = [datetime.utcfromtimestamp(int(el)).strftime('%Y-%m-%d')\n",
        "              for el in df2.registration_timestamp\n",
        "              ]\n",
        "df2['time_event'] = pd.to_datetime(df2['time_event'])\n",
        "df2['time_reg'] = pd.to_datetime(df2['time_reg'])"
      ],
      "execution_count": null,
      "outputs": []
    },
    {
      "cell_type": "code",
      "metadata": {
        "colab": {
          "base_uri": "https://localhost:8080/"
        },
        "id": "_0KRKFogS9CI",
        "outputId": "00d0a8f2-bb8f-4004-f81b-59dfad16c1dc"
      },
      "source": [
        "df2.info()"
      ],
      "execution_count": null,
      "outputs": [
        {
          "output_type": "stream",
          "name": "stdout",
          "text": [
            "<class 'pandas.core.frame.DataFrame'>\n",
            "RangeIndex: 11577 entries, 0 to 11576\n",
            "Data columns (total 5 columns):\n",
            " #   Column                  Non-Null Count  Dtype         \n",
            "---  ------                  --------------  -----         \n",
            " 0   event_timestamp         11577 non-null  int64         \n",
            " 1   registration_timestamp  11577 non-null  int64         \n",
            " 2   inapp_size              11577 non-null  int64         \n",
            " 3   time_event              11577 non-null  datetime64[ns]\n",
            " 4   time_reg                11577 non-null  datetime64[ns]\n",
            "dtypes: datetime64[ns](2), int64(3)\n",
            "memory usage: 452.4 KB\n"
          ]
        }
      ]
    },
    {
      "cell_type": "markdown",
      "metadata": {
        "id": "dbxLeXKN9Xe8"
      },
      "source": [
        "Создадим столбец разности времени регистрации и ивента."
      ]
    },
    {
      "cell_type": "code",
      "metadata": {
        "id": "0eFXVk59FlXZ"
      },
      "source": [
        "df2['count'] = df2['time_event'] - df2['time_reg']"
      ],
      "execution_count": null,
      "outputs": []
    },
    {
      "cell_type": "markdown",
      "metadata": {
        "id": "eOP-ifX6TWAc"
      },
      "source": [
        "Построим сводную таблицу для суммы платежей для каждого из дней с момента регистрации."
      ]
    },
    {
      "cell_type": "code",
      "metadata": {
        "colab": {
          "base_uri": "https://localhost:8080/",
          "height": 424
        },
        "id": "UUl88eCKUg9N",
        "outputId": "0d5e9975-c7a8-4960-e0ad-321ca35cbd10"
      },
      "source": [
        "table2 = df2.pivot_table(index='count', values='inapp_size', \n",
        "                        aggfunc='sum').reset_index()\n",
        "table2"
      ],
      "execution_count": null,
      "outputs": [
        {
          "output_type": "execute_result",
          "data": {
            "text/html": [
              "<div>\n",
              "<style scoped>\n",
              "    .dataframe tbody tr th:only-of-type {\n",
              "        vertical-align: middle;\n",
              "    }\n",
              "\n",
              "    .dataframe tbody tr th {\n",
              "        vertical-align: top;\n",
              "    }\n",
              "\n",
              "    .dataframe thead th {\n",
              "        text-align: right;\n",
              "    }\n",
              "</style>\n",
              "<table border=\"1\" class=\"dataframe\">\n",
              "  <thead>\n",
              "    <tr style=\"text-align: right;\">\n",
              "      <th></th>\n",
              "      <th>count</th>\n",
              "      <th>inapp_size</th>\n",
              "    </tr>\n",
              "  </thead>\n",
              "  <tbody>\n",
              "    <tr>\n",
              "      <th>0</th>\n",
              "      <td>0 days</td>\n",
              "      <td>18491</td>\n",
              "    </tr>\n",
              "    <tr>\n",
              "      <th>1</th>\n",
              "      <td>1 days</td>\n",
              "      <td>6933</td>\n",
              "    </tr>\n",
              "    <tr>\n",
              "      <th>2</th>\n",
              "      <td>2 days</td>\n",
              "      <td>4341</td>\n",
              "    </tr>\n",
              "    <tr>\n",
              "      <th>3</th>\n",
              "      <td>3 days</td>\n",
              "      <td>3397</td>\n",
              "    </tr>\n",
              "    <tr>\n",
              "      <th>4</th>\n",
              "      <td>4 days</td>\n",
              "      <td>2978</td>\n",
              "    </tr>\n",
              "    <tr>\n",
              "      <th>...</th>\n",
              "      <td>...</td>\n",
              "      <td>...</td>\n",
              "    </tr>\n",
              "    <tr>\n",
              "      <th>86</th>\n",
              "      <td>86 days</td>\n",
              "      <td>286</td>\n",
              "    </tr>\n",
              "    <tr>\n",
              "      <th>87</th>\n",
              "      <td>87 days</td>\n",
              "      <td>467</td>\n",
              "    </tr>\n",
              "    <tr>\n",
              "      <th>88</th>\n",
              "      <td>88 days</td>\n",
              "      <td>300</td>\n",
              "    </tr>\n",
              "    <tr>\n",
              "      <th>89</th>\n",
              "      <td>89 days</td>\n",
              "      <td>299</td>\n",
              "    </tr>\n",
              "    <tr>\n",
              "      <th>90</th>\n",
              "      <td>90 days</td>\n",
              "      <td>162</td>\n",
              "    </tr>\n",
              "  </tbody>\n",
              "</table>\n",
              "<p>91 rows × 2 columns</p>\n",
              "</div>"
            ],
            "text/plain": [
              "     count  inapp_size\n",
              "0   0 days       18491\n",
              "1   1 days        6933\n",
              "2   2 days        4341\n",
              "3   3 days        3397\n",
              "4   4 days        2978\n",
              "..     ...         ...\n",
              "86 86 days         286\n",
              "87 87 days         467\n",
              "88 88 days         300\n",
              "89 89 days         299\n",
              "90 90 days         162\n",
              "\n",
              "[91 rows x 2 columns]"
            ]
          },
          "metadata": {},
          "execution_count": 17
        }
      ]
    },
    {
      "cell_type": "code",
      "metadata": {
        "id": "pu-n8omEvQRa"
      },
      "source": [
        "table2['days'] = table2['count'].dt.days"
      ],
      "execution_count": null,
      "outputs": []
    },
    {
      "cell_type": "markdown",
      "metadata": {
        "id": "Adz8NgOD9qJQ"
      },
      "source": [
        "Создадим столбец накопительной суммы для платежей когорты по дням с момента регистрации:"
      ]
    },
    {
      "cell_type": "code",
      "metadata": {
        "id": "o93vrPBJb-Aj"
      },
      "source": [
        "table2['cumsum'] = table2.inapp_size.cumsum()"
      ],
      "execution_count": null,
      "outputs": []
    },
    {
      "cell_type": "markdown",
      "metadata": {
        "id": "Zf_PhlCh9zZM"
      },
      "source": [
        "Чтоб можно было построить логарифмическую трендовую линию, уберем из рассмотрения 0 день."
      ]
    },
    {
      "cell_type": "code",
      "metadata": {
        "id": "ompNoa4peqTS"
      },
      "source": [
        "table2_0 = table2[table2['days'] > 0]"
      ],
      "execution_count": null,
      "outputs": []
    },
    {
      "cell_type": "markdown",
      "metadata": {
        "id": "SMG3jEw4-IdF"
      },
      "source": [
        "Построим кривую накопительной суммы платежей когорты по дням с момента регистрации (один день - одна точка на кривой). Для прогноза значений накопительной суммы для дней жизни с 90 по 180 построим логарифмическую регрессию."
      ]
    },
    {
      "cell_type": "code",
      "metadata": {
        "id": "UP5HOhHet9r-",
        "colab": {
          "base_uri": "https://localhost:8080/",
          "height": 542
        },
        "outputId": "59b30431-971b-428c-8fa2-d9c6b05c49f4"
      },
      "source": [
        "px.scatter(table2_0, x='days', y=\"cumsum\", trendline=\"ols\", trendline_options=dict(log_x=True))"
      ],
      "execution_count": null,
      "outputs": [
        {
          "output_type": "display_data",
          "data": {
            "text/html": [
              "<html>\n",
              "<head><meta charset=\"utf-8\" /></head>\n",
              "<body>\n",
              "    <div>            <script src=\"https://cdnjs.cloudflare.com/ajax/libs/mathjax/2.7.5/MathJax.js?config=TeX-AMS-MML_SVG\"></script><script type=\"text/javascript\">if (window.MathJax) {MathJax.Hub.Config({SVG: {font: \"STIX-Web\"}});}</script>                <script type=\"text/javascript\">window.PlotlyConfig = {MathJaxConfig: 'local'};</script>\n",
              "        <script src=\"https://cdn.plot.ly/plotly-2.3.1.min.js\"></script>                <div id=\"dad5ef41-c613-4861-8330-a2796bf2c918\" class=\"plotly-graph-div\" style=\"height:525px; width:100%;\"></div>            <script type=\"text/javascript\">                                    window.PLOTLYENV=window.PLOTLYENV || {};                                    if (document.getElementById(\"dad5ef41-c613-4861-8330-a2796bf2c918\")) {                    Plotly.newPlot(                        \"dad5ef41-c613-4861-8330-a2796bf2c918\",                        [{\"hovertemplate\":\"days=%{x}<br>cumsum=%{y}<extra></extra>\",\"legendgroup\":\"\",\"marker\":{\"color\":\"#636efa\",\"symbol\":\"circle\"},\"mode\":\"markers\",\"name\":\"\",\"orientation\":\"v\",\"showlegend\":false,\"type\":\"scatter\",\"x\":[1,2,3,4,5,6,7,8,9,10,11,12,13,14,15,16,17,18,19,20,21,22,23,24,25,26,27,28,29,30,31,32,33,34,35,36,37,38,39,40,41,42,43,44,45,46,47,48,49,50,51,52,53,54,55,56,57,58,59,60,61,62,63,64,65,66,67,68,69,70,71,72,73,74,75,76,77,78,79,80,81,82,83,84,85,86,87,88,89,90],\"xaxis\":\"x\",\"y\":[25424,29765,33162,36140,38992,40843,42862,44025,44984,45826,46848,47597,48461,49173,49708,50828,51400,52107,52883,53716,54282,54929,55315,55843,56534,57135,57400,57866,58612,59052,59407,59771,60122,60654,61007,61356,61911,62380,62829,63213,63627,64157,64592,64973,65364,65896,66293,66713,67163,67556,67804,68312,68626,69114,69520,69737,70003,70262,70596,70829,71162,71501,72034,72456,73255,73716,74129,74310,74689,75207,75438,75715,75910,76110,76372,77041,77543,77821,78072,78261,78450,78670,79235,80141,80426,80712,81179,81479,81778,81940],\"yaxis\":\"y\"},{\"hovertemplate\":\"<b>OLS trendline</b><br>cumsum = 31925.5 * log10(days) + 14544.9<br>R<sup>2</sup>=0.957052<br><br>days=%{x}<br>cumsum=%{y} <b>(trend)</b><extra></extra>\",\"legendgroup\":\"\",\"marker\":{\"color\":\"#636efa\",\"symbol\":\"circle\"},\"mode\":\"lines\",\"name\":\"\",\"showlegend\":false,\"type\":\"scatter\",\"x\":[1,2,3,4,5,6,7,8,9,10,11,12,13,14,15,16,17,18,19,20,21,22,23,24,25,26,27,28,29,30,31,32,33,34,35,36,37,38,39,40,41,42,43,44,45,46,47,48,49,50,51,52,53,54,55,56,57,58,59,60,61,62,63,64,65,66,67,68,69,70,71,72,73,74,75,76,77,78,79,80,81,82,83,84,85,86,87,88,89,90],\"xaxis\":\"x\",\"y\":[14544.935688651694,24155.465878292365,29777.265651280744,33765.99606793304,36859.895742741544,39387.79584092142,41525.104920122634,43376.526257573714,45009.59561390979,46470.42593238222,47791.907698562936,48998.32603056209,50108.12331479209,51135.6351097633,52092.2257053706,52987.05644721439,53827.620723522516,54620.12580355046,55369.7713000065,56080.95612202289,56757.43488275168,57402.43788820361,58018.764432047625,58608.85622020275,59174.8557968314,59718.65350443276,60241.92557653884,60746.165299403976,61232.70870302587,61702.75589501126,62157.388895031196,62597.58663685506,63024.23766119199,63438.15091316319,63840.06497421248,64230.65599319113,64610.54453055392,64980.30148964717,65340.453277421126,65691.48631166357,66033.8509716037,66367.96507239236,66694.21693069935,67012.96807784429,67324.55566799964,67629.2946216883,67927.47953874114,68219.38640984343,68505.27415159358,68785.38598647206,69059.95068615157,69329.18369407344,69593.28814109165,69852.45576617951,70106.86775265279,70356.69548904465,70602.10126263555,70843.23889266654,71080.25430942353,71313.28608465193,71542.46591812896,71767.91908467187,71989.76484538073,72208.11682649572,72423.08336888193,72634.76785083266,72843.26898659907,73048.68110280386,73251.09439467668,73450.59516385316,73647.2660393072,73841.1861828318,74032.43148034735,74221.07472019459,74407.18575946044,74590.83167928785,74772.07693003387,74950.9834670618,75127.6108778834,75302.01650130423,75474.25553916789,75644.38116124437,75812.44460376102,75978.49526203303,76142.58077761237,76304.74712034002,76465.03866565491,76623.49826748496,76780.16732701963,76935.08585764031],\"yaxis\":\"y\"}],                        {\"legend\":{\"tracegroupgap\":0},\"margin\":{\"t\":60},\"template\":{\"data\":{\"bar\":[{\"error_x\":{\"color\":\"#2a3f5f\"},\"error_y\":{\"color\":\"#2a3f5f\"},\"marker\":{\"line\":{\"color\":\"#E5ECF6\",\"width\":0.5},\"pattern\":{\"fillmode\":\"overlay\",\"size\":10,\"solidity\":0.2}},\"type\":\"bar\"}],\"barpolar\":[{\"marker\":{\"line\":{\"color\":\"#E5ECF6\",\"width\":0.5},\"pattern\":{\"fillmode\":\"overlay\",\"size\":10,\"solidity\":0.2}},\"type\":\"barpolar\"}],\"carpet\":[{\"aaxis\":{\"endlinecolor\":\"#2a3f5f\",\"gridcolor\":\"white\",\"linecolor\":\"white\",\"minorgridcolor\":\"white\",\"startlinecolor\":\"#2a3f5f\"},\"baxis\":{\"endlinecolor\":\"#2a3f5f\",\"gridcolor\":\"white\",\"linecolor\":\"white\",\"minorgridcolor\":\"white\",\"startlinecolor\":\"#2a3f5f\"},\"type\":\"carpet\"}],\"choropleth\":[{\"colorbar\":{\"outlinewidth\":0,\"ticks\":\"\"},\"type\":\"choropleth\"}],\"contour\":[{\"colorbar\":{\"outlinewidth\":0,\"ticks\":\"\"},\"colorscale\":[[0.0,\"#0d0887\"],[0.1111111111111111,\"#46039f\"],[0.2222222222222222,\"#7201a8\"],[0.3333333333333333,\"#9c179e\"],[0.4444444444444444,\"#bd3786\"],[0.5555555555555556,\"#d8576b\"],[0.6666666666666666,\"#ed7953\"],[0.7777777777777778,\"#fb9f3a\"],[0.8888888888888888,\"#fdca26\"],[1.0,\"#f0f921\"]],\"type\":\"contour\"}],\"contourcarpet\":[{\"colorbar\":{\"outlinewidth\":0,\"ticks\":\"\"},\"type\":\"contourcarpet\"}],\"heatmap\":[{\"colorbar\":{\"outlinewidth\":0,\"ticks\":\"\"},\"colorscale\":[[0.0,\"#0d0887\"],[0.1111111111111111,\"#46039f\"],[0.2222222222222222,\"#7201a8\"],[0.3333333333333333,\"#9c179e\"],[0.4444444444444444,\"#bd3786\"],[0.5555555555555556,\"#d8576b\"],[0.6666666666666666,\"#ed7953\"],[0.7777777777777778,\"#fb9f3a\"],[0.8888888888888888,\"#fdca26\"],[1.0,\"#f0f921\"]],\"type\":\"heatmap\"}],\"heatmapgl\":[{\"colorbar\":{\"outlinewidth\":0,\"ticks\":\"\"},\"colorscale\":[[0.0,\"#0d0887\"],[0.1111111111111111,\"#46039f\"],[0.2222222222222222,\"#7201a8\"],[0.3333333333333333,\"#9c179e\"],[0.4444444444444444,\"#bd3786\"],[0.5555555555555556,\"#d8576b\"],[0.6666666666666666,\"#ed7953\"],[0.7777777777777778,\"#fb9f3a\"],[0.8888888888888888,\"#fdca26\"],[1.0,\"#f0f921\"]],\"type\":\"heatmapgl\"}],\"histogram\":[{\"marker\":{\"pattern\":{\"fillmode\":\"overlay\",\"size\":10,\"solidity\":0.2}},\"type\":\"histogram\"}],\"histogram2d\":[{\"colorbar\":{\"outlinewidth\":0,\"ticks\":\"\"},\"colorscale\":[[0.0,\"#0d0887\"],[0.1111111111111111,\"#46039f\"],[0.2222222222222222,\"#7201a8\"],[0.3333333333333333,\"#9c179e\"],[0.4444444444444444,\"#bd3786\"],[0.5555555555555556,\"#d8576b\"],[0.6666666666666666,\"#ed7953\"],[0.7777777777777778,\"#fb9f3a\"],[0.8888888888888888,\"#fdca26\"],[1.0,\"#f0f921\"]],\"type\":\"histogram2d\"}],\"histogram2dcontour\":[{\"colorbar\":{\"outlinewidth\":0,\"ticks\":\"\"},\"colorscale\":[[0.0,\"#0d0887\"],[0.1111111111111111,\"#46039f\"],[0.2222222222222222,\"#7201a8\"],[0.3333333333333333,\"#9c179e\"],[0.4444444444444444,\"#bd3786\"],[0.5555555555555556,\"#d8576b\"],[0.6666666666666666,\"#ed7953\"],[0.7777777777777778,\"#fb9f3a\"],[0.8888888888888888,\"#fdca26\"],[1.0,\"#f0f921\"]],\"type\":\"histogram2dcontour\"}],\"mesh3d\":[{\"colorbar\":{\"outlinewidth\":0,\"ticks\":\"\"},\"type\":\"mesh3d\"}],\"parcoords\":[{\"line\":{\"colorbar\":{\"outlinewidth\":0,\"ticks\":\"\"}},\"type\":\"parcoords\"}],\"pie\":[{\"automargin\":true,\"type\":\"pie\"}],\"scatter\":[{\"marker\":{\"colorbar\":{\"outlinewidth\":0,\"ticks\":\"\"}},\"type\":\"scatter\"}],\"scatter3d\":[{\"line\":{\"colorbar\":{\"outlinewidth\":0,\"ticks\":\"\"}},\"marker\":{\"colorbar\":{\"outlinewidth\":0,\"ticks\":\"\"}},\"type\":\"scatter3d\"}],\"scattercarpet\":[{\"marker\":{\"colorbar\":{\"outlinewidth\":0,\"ticks\":\"\"}},\"type\":\"scattercarpet\"}],\"scattergeo\":[{\"marker\":{\"colorbar\":{\"outlinewidth\":0,\"ticks\":\"\"}},\"type\":\"scattergeo\"}],\"scattergl\":[{\"marker\":{\"colorbar\":{\"outlinewidth\":0,\"ticks\":\"\"}},\"type\":\"scattergl\"}],\"scattermapbox\":[{\"marker\":{\"colorbar\":{\"outlinewidth\":0,\"ticks\":\"\"}},\"type\":\"scattermapbox\"}],\"scatterpolar\":[{\"marker\":{\"colorbar\":{\"outlinewidth\":0,\"ticks\":\"\"}},\"type\":\"scatterpolar\"}],\"scatterpolargl\":[{\"marker\":{\"colorbar\":{\"outlinewidth\":0,\"ticks\":\"\"}},\"type\":\"scatterpolargl\"}],\"scatterternary\":[{\"marker\":{\"colorbar\":{\"outlinewidth\":0,\"ticks\":\"\"}},\"type\":\"scatterternary\"}],\"surface\":[{\"colorbar\":{\"outlinewidth\":0,\"ticks\":\"\"},\"colorscale\":[[0.0,\"#0d0887\"],[0.1111111111111111,\"#46039f\"],[0.2222222222222222,\"#7201a8\"],[0.3333333333333333,\"#9c179e\"],[0.4444444444444444,\"#bd3786\"],[0.5555555555555556,\"#d8576b\"],[0.6666666666666666,\"#ed7953\"],[0.7777777777777778,\"#fb9f3a\"],[0.8888888888888888,\"#fdca26\"],[1.0,\"#f0f921\"]],\"type\":\"surface\"}],\"table\":[{\"cells\":{\"fill\":{\"color\":\"#EBF0F8\"},\"line\":{\"color\":\"white\"}},\"header\":{\"fill\":{\"color\":\"#C8D4E3\"},\"line\":{\"color\":\"white\"}},\"type\":\"table\"}]},\"layout\":{\"annotationdefaults\":{\"arrowcolor\":\"#2a3f5f\",\"arrowhead\":0,\"arrowwidth\":1},\"autotypenumbers\":\"strict\",\"coloraxis\":{\"colorbar\":{\"outlinewidth\":0,\"ticks\":\"\"}},\"colorscale\":{\"diverging\":[[0,\"#8e0152\"],[0.1,\"#c51b7d\"],[0.2,\"#de77ae\"],[0.3,\"#f1b6da\"],[0.4,\"#fde0ef\"],[0.5,\"#f7f7f7\"],[0.6,\"#e6f5d0\"],[0.7,\"#b8e186\"],[0.8,\"#7fbc41\"],[0.9,\"#4d9221\"],[1,\"#276419\"]],\"sequential\":[[0.0,\"#0d0887\"],[0.1111111111111111,\"#46039f\"],[0.2222222222222222,\"#7201a8\"],[0.3333333333333333,\"#9c179e\"],[0.4444444444444444,\"#bd3786\"],[0.5555555555555556,\"#d8576b\"],[0.6666666666666666,\"#ed7953\"],[0.7777777777777778,\"#fb9f3a\"],[0.8888888888888888,\"#fdca26\"],[1.0,\"#f0f921\"]],\"sequentialminus\":[[0.0,\"#0d0887\"],[0.1111111111111111,\"#46039f\"],[0.2222222222222222,\"#7201a8\"],[0.3333333333333333,\"#9c179e\"],[0.4444444444444444,\"#bd3786\"],[0.5555555555555556,\"#d8576b\"],[0.6666666666666666,\"#ed7953\"],[0.7777777777777778,\"#fb9f3a\"],[0.8888888888888888,\"#fdca26\"],[1.0,\"#f0f921\"]]},\"colorway\":[\"#636efa\",\"#EF553B\",\"#00cc96\",\"#ab63fa\",\"#FFA15A\",\"#19d3f3\",\"#FF6692\",\"#B6E880\",\"#FF97FF\",\"#FECB52\"],\"font\":{\"color\":\"#2a3f5f\"},\"geo\":{\"bgcolor\":\"white\",\"lakecolor\":\"white\",\"landcolor\":\"#E5ECF6\",\"showlakes\":true,\"showland\":true,\"subunitcolor\":\"white\"},\"hoverlabel\":{\"align\":\"left\"},\"hovermode\":\"closest\",\"mapbox\":{\"style\":\"light\"},\"paper_bgcolor\":\"white\",\"plot_bgcolor\":\"#E5ECF6\",\"polar\":{\"angularaxis\":{\"gridcolor\":\"white\",\"linecolor\":\"white\",\"ticks\":\"\"},\"bgcolor\":\"#E5ECF6\",\"radialaxis\":{\"gridcolor\":\"white\",\"linecolor\":\"white\",\"ticks\":\"\"}},\"scene\":{\"xaxis\":{\"backgroundcolor\":\"#E5ECF6\",\"gridcolor\":\"white\",\"gridwidth\":2,\"linecolor\":\"white\",\"showbackground\":true,\"ticks\":\"\",\"zerolinecolor\":\"white\"},\"yaxis\":{\"backgroundcolor\":\"#E5ECF6\",\"gridcolor\":\"white\",\"gridwidth\":2,\"linecolor\":\"white\",\"showbackground\":true,\"ticks\":\"\",\"zerolinecolor\":\"white\"},\"zaxis\":{\"backgroundcolor\":\"#E5ECF6\",\"gridcolor\":\"white\",\"gridwidth\":2,\"linecolor\":\"white\",\"showbackground\":true,\"ticks\":\"\",\"zerolinecolor\":\"white\"}},\"shapedefaults\":{\"line\":{\"color\":\"#2a3f5f\"}},\"ternary\":{\"aaxis\":{\"gridcolor\":\"white\",\"linecolor\":\"white\",\"ticks\":\"\"},\"baxis\":{\"gridcolor\":\"white\",\"linecolor\":\"white\",\"ticks\":\"\"},\"bgcolor\":\"#E5ECF6\",\"caxis\":{\"gridcolor\":\"white\",\"linecolor\":\"white\",\"ticks\":\"\"}},\"title\":{\"x\":0.05},\"xaxis\":{\"automargin\":true,\"gridcolor\":\"white\",\"linecolor\":\"white\",\"ticks\":\"\",\"title\":{\"standoff\":15},\"zerolinecolor\":\"white\",\"zerolinewidth\":2},\"yaxis\":{\"automargin\":true,\"gridcolor\":\"white\",\"linecolor\":\"white\",\"ticks\":\"\",\"title\":{\"standoff\":15},\"zerolinecolor\":\"white\",\"zerolinewidth\":2}}},\"xaxis\":{\"anchor\":\"y\",\"domain\":[0.0,1.0],\"title\":{\"text\":\"days\"}},\"yaxis\":{\"anchor\":\"x\",\"domain\":[0.0,1.0],\"title\":{\"text\":\"cumsum\"}}},                        {\"responsive\": true}                    ).then(function(){\n",
              "                            \n",
              "var gd = document.getElementById('dad5ef41-c613-4861-8330-a2796bf2c918');\n",
              "var x = new MutationObserver(function (mutations, observer) {{\n",
              "        var display = window.getComputedStyle(gd).display;\n",
              "        if (!display || display === 'none') {{\n",
              "            console.log([gd, 'removed!']);\n",
              "            Plotly.purge(gd);\n",
              "            observer.disconnect();\n",
              "        }}\n",
              "}});\n",
              "\n",
              "// Listen for the removal of the full notebook cells\n",
              "var notebookContainer = gd.closest('#notebook-container');\n",
              "if (notebookContainer) {{\n",
              "    x.observe(notebookContainer, {childList: true});\n",
              "}}\n",
              "\n",
              "// Listen for the clearing of the current output cell\n",
              "var outputEl = gd.closest('.output');\n",
              "if (outputEl) {{\n",
              "    x.observe(outputEl, {childList: true});\n",
              "}}\n",
              "\n",
              "                        })                };                            </script>        </div>\n",
              "</body>\n",
              "</html>"
            ]
          },
          "metadata": {}
        }
      ]
    },
    {
      "cell_type": "markdown",
      "metadata": {
        "id": "lHS0q953-Tj0"
      },
      "source": [
        "Уравнение для полученной регрессии, представлено на графике выше и имеет вид:"
      ]
    },
    {
      "cell_type": "code",
      "metadata": {
        "id": "aIDa4BcKT1CN"
      },
      "source": [
        "ols_reg = lambda days: 31925.5 * np.log10(days)+14544.9"
      ],
      "execution_count": null,
      "outputs": []
    },
    {
      "cell_type": "code",
      "metadata": {
        "id": "L4i8OWOAenaN"
      },
      "source": [
        "y = {x: ols_reg(x)\n",
        "     for x in range(1,181)}"
      ],
      "execution_count": null,
      "outputs": []
    },
    {
      "cell_type": "markdown",
      "metadata": {
        "id": "IZaDP5-e-zVI"
      },
      "source": [
        "На основании полученных данных построим совместно имеющийся график распределения накопительной суммы и в виде другой кривой на том же графике прогноз значений накопительной суммы для дней жизни с 90 по 180."
      ]
    },
    {
      "cell_type": "code",
      "metadata": {
        "colab": {
          "base_uri": "https://localhost:8080/",
          "height": 542
        },
        "id": "t_-ues1sgQe-",
        "outputId": "8dafacdf-3d3d-4376-8f44-9b3c759b8a24"
      },
      "source": [
        "go.Figure(data=[go.Scatter(name='ols_reg', x=list(y.keys()), y = list(y.values())), \n",
        "                go.Scatter(name='real_values', x=table2_0['days'], y=table2_0[\"cumsum\"])])\n"
      ],
      "execution_count": null,
      "outputs": [
        {
          "output_type": "display_data",
          "data": {
            "text/html": [
              "<html>\n",
              "<head><meta charset=\"utf-8\" /></head>\n",
              "<body>\n",
              "    <div>            <script src=\"https://cdnjs.cloudflare.com/ajax/libs/mathjax/2.7.5/MathJax.js?config=TeX-AMS-MML_SVG\"></script><script type=\"text/javascript\">if (window.MathJax) {MathJax.Hub.Config({SVG: {font: \"STIX-Web\"}});}</script>                <script type=\"text/javascript\">window.PlotlyConfig = {MathJaxConfig: 'local'};</script>\n",
              "        <script src=\"https://cdn.plot.ly/plotly-2.3.1.min.js\"></script>                <div id=\"42d1e3b1-7945-4fe4-a2d9-aca9d99ae594\" class=\"plotly-graph-div\" style=\"height:525px; width:100%;\"></div>            <script type=\"text/javascript\">                                    window.PLOTLYENV=window.PLOTLYENV || {};                                    if (document.getElementById(\"42d1e3b1-7945-4fe4-a2d9-aca9d99ae594\")) {                    Plotly.newPlot(                        \"42d1e3b1-7945-4fe4-a2d9-aca9d99ae594\",                        [{\"name\":\"ols_reg\",\"type\":\"scatter\",\"x\":[1,2,3,4,5,6,7,8,9,10,11,12,13,14,15,16,17,18,19,20,21,22,23,24,25,26,27,28,29,30,31,32,33,34,35,36,37,38,39,40,41,42,43,44,45,46,47,48,49,50,51,52,53,54,55,56,57,58,59,60,61,62,63,64,65,66,67,68,69,70,71,72,73,74,75,76,77,78,79,80,81,82,83,84,85,86,87,88,89,90,91,92,93,94,95,96,97,98,99,100,101,102,103,104,105,106,107,108,109,110,111,112,113,114,115,116,117,118,119,120,121,122,123,124,125,126,127,128,129,130,131,132,133,134,135,136,137,138,139,140,141,142,143,144,145,146,147,148,149,150,151,152,153,154,155,156,157,158,159,160,161,162,163,164,165,166,167,168,169,170,171,172,173,174,175,176,177,178,179,180],\"y\":[14544.9,24155.43312657043,29777.23461755258,33765.96625314086,36859.86687342957,39387.76774412301,41525.077476475155,43376.49937971129,45009.56923510517,46470.4,47791.882170018915,48998.30087069345,50108.09849407191,51135.610603045585,52092.20149098216,52987.03250628173,53827.59703946208,54620.1023616756,55369.74808721954,56080.93312657043,56757.41209402774,57402.415296589345,58018.74202877966,58608.83399726388,59174.83374685914,59718.63162064235,60241.90385265775,60746.14372961602,61232.68728192312,61702.73461755258,62157.36775650607,62597.565632852165,63024.2167875715,63438.13016603252,63840.044349904725,64230.63548824603,64610.52414170085,64980.281213789975,65340.4331116245,65691.46625314087,66033.83101770592,66367.94522059817,66694.19717860609,67012.94842315977,67324.53610853474,67629.27515535009,67927.46016352675,68219.36712383431,68505.25495295032,68785.36687342956,69059.93165701466,69329.16474721278,69593.26927493999,69852.43697922818,70106.84904344848,70356.67685618644,70602.08270477212,70843.22040849355,71080.23589768127,71313.26774412302,71542.44764763625,71767.90088307651,71989.74671158032,72208.09875942259,72423.06536750148,72634.74991414192,72843.25111362523,73048.66329260294,73251.07664633224,73450.57747647515,73647.24841203084,73841.16861481646,74032.41397077561,74221.05726827128,74407.16836441171,74590.8143403604,74772.05964649406,74950.96623819493,75127.59370299298,75301.9993797113,75474.23847021033,75644.36414427635,75812.42763815235,75978.4783471686,76142.56391289165,76304.73030517652,76465.0218994757,76623.4815497302,76780.15065714216,76935.06923510515,77088.27597054707,77239.80828192053,77389.70237405864,77537.99329009718,77684.71496064911,77829.90025040474,77973.58100231699,78115.78807952075,78256.55140512408,78395.9,78533.86201869775,78670.46478358509,78805.73481732496,78939.69787378321,79072.3789674573,79203.80240151043,79333.99179448916,79462.97010579861,79590.75966000339,79717.38217001891,79842.85875925343,79967.20998275687,80090.45584742991,80212.61583134255,80333.70890220923,80453.75353506398,80572.76772917708,80690.7690242517,80807.77451593724,80923.80087069343,81038.86434003782,81152.98077420668,81266.1656352585,81378.43400964694,81489.80062028869,81600.27983815075,81709.88569337939,81818.63188599302,81926.53179615866,82033.59849407192,82139.8447494581,82245.28304071235,82349.92556369469,82453.78424019566,82556.8707260873,82659.19641917337,82760.77246675185,82861.60977290267,82961.7190055121,83061.11060304558,83159.79478107931,83257.78153860125,83355.08066409083,83451.70174138689,83547.65415535268,83642.94709734604,83737.58957050288,83831.59039484171,83924.95821219606,84017.70149098214,84109.82853080807,84201.34746693083,84292.26627456724,84382.59277306449,84472.33462993563,84561.49936476536,84650.09435299099,84738.1268295634,84825.60389249257,84912.53250628173,84998.9195052548,85084.77159678076,85170.09536439854,85254.89727084678,85339.18366100107,85422.96076472277,85506.23469962216,85589.01147373902,85671.29698814382,85753.09703946208,85834.41732232469,85915.26343174693,85995.64086543836,86075.55502604613,86155.01122333428,86234.01467630063,86312.57051523385,86390.6837837126,86468.35944054858,86545.60236167558]},{\"name\":\"real_values\",\"type\":\"scatter\",\"x\":[1,2,3,4,5,6,7,8,9,10,11,12,13,14,15,16,17,18,19,20,21,22,23,24,25,26,27,28,29,30,31,32,33,34,35,36,37,38,39,40,41,42,43,44,45,46,47,48,49,50,51,52,53,54,55,56,57,58,59,60,61,62,63,64,65,66,67,68,69,70,71,72,73,74,75,76,77,78,79,80,81,82,83,84,85,86,87,88,89,90],\"y\":[25424,29765,33162,36140,38992,40843,42862,44025,44984,45826,46848,47597,48461,49173,49708,50828,51400,52107,52883,53716,54282,54929,55315,55843,56534,57135,57400,57866,58612,59052,59407,59771,60122,60654,61007,61356,61911,62380,62829,63213,63627,64157,64592,64973,65364,65896,66293,66713,67163,67556,67804,68312,68626,69114,69520,69737,70003,70262,70596,70829,71162,71501,72034,72456,73255,73716,74129,74310,74689,75207,75438,75715,75910,76110,76372,77041,77543,77821,78072,78261,78450,78670,79235,80141,80426,80712,81179,81479,81778,81940]}],                        {\"template\":{\"data\":{\"bar\":[{\"error_x\":{\"color\":\"#2a3f5f\"},\"error_y\":{\"color\":\"#2a3f5f\"},\"marker\":{\"line\":{\"color\":\"#E5ECF6\",\"width\":0.5},\"pattern\":{\"fillmode\":\"overlay\",\"size\":10,\"solidity\":0.2}},\"type\":\"bar\"}],\"barpolar\":[{\"marker\":{\"line\":{\"color\":\"#E5ECF6\",\"width\":0.5},\"pattern\":{\"fillmode\":\"overlay\",\"size\":10,\"solidity\":0.2}},\"type\":\"barpolar\"}],\"carpet\":[{\"aaxis\":{\"endlinecolor\":\"#2a3f5f\",\"gridcolor\":\"white\",\"linecolor\":\"white\",\"minorgridcolor\":\"white\",\"startlinecolor\":\"#2a3f5f\"},\"baxis\":{\"endlinecolor\":\"#2a3f5f\",\"gridcolor\":\"white\",\"linecolor\":\"white\",\"minorgridcolor\":\"white\",\"startlinecolor\":\"#2a3f5f\"},\"type\":\"carpet\"}],\"choropleth\":[{\"colorbar\":{\"outlinewidth\":0,\"ticks\":\"\"},\"type\":\"choropleth\"}],\"contour\":[{\"colorbar\":{\"outlinewidth\":0,\"ticks\":\"\"},\"colorscale\":[[0.0,\"#0d0887\"],[0.1111111111111111,\"#46039f\"],[0.2222222222222222,\"#7201a8\"],[0.3333333333333333,\"#9c179e\"],[0.4444444444444444,\"#bd3786\"],[0.5555555555555556,\"#d8576b\"],[0.6666666666666666,\"#ed7953\"],[0.7777777777777778,\"#fb9f3a\"],[0.8888888888888888,\"#fdca26\"],[1.0,\"#f0f921\"]],\"type\":\"contour\"}],\"contourcarpet\":[{\"colorbar\":{\"outlinewidth\":0,\"ticks\":\"\"},\"type\":\"contourcarpet\"}],\"heatmap\":[{\"colorbar\":{\"outlinewidth\":0,\"ticks\":\"\"},\"colorscale\":[[0.0,\"#0d0887\"],[0.1111111111111111,\"#46039f\"],[0.2222222222222222,\"#7201a8\"],[0.3333333333333333,\"#9c179e\"],[0.4444444444444444,\"#bd3786\"],[0.5555555555555556,\"#d8576b\"],[0.6666666666666666,\"#ed7953\"],[0.7777777777777778,\"#fb9f3a\"],[0.8888888888888888,\"#fdca26\"],[1.0,\"#f0f921\"]],\"type\":\"heatmap\"}],\"heatmapgl\":[{\"colorbar\":{\"outlinewidth\":0,\"ticks\":\"\"},\"colorscale\":[[0.0,\"#0d0887\"],[0.1111111111111111,\"#46039f\"],[0.2222222222222222,\"#7201a8\"],[0.3333333333333333,\"#9c179e\"],[0.4444444444444444,\"#bd3786\"],[0.5555555555555556,\"#d8576b\"],[0.6666666666666666,\"#ed7953\"],[0.7777777777777778,\"#fb9f3a\"],[0.8888888888888888,\"#fdca26\"],[1.0,\"#f0f921\"]],\"type\":\"heatmapgl\"}],\"histogram\":[{\"marker\":{\"pattern\":{\"fillmode\":\"overlay\",\"size\":10,\"solidity\":0.2}},\"type\":\"histogram\"}],\"histogram2d\":[{\"colorbar\":{\"outlinewidth\":0,\"ticks\":\"\"},\"colorscale\":[[0.0,\"#0d0887\"],[0.1111111111111111,\"#46039f\"],[0.2222222222222222,\"#7201a8\"],[0.3333333333333333,\"#9c179e\"],[0.4444444444444444,\"#bd3786\"],[0.5555555555555556,\"#d8576b\"],[0.6666666666666666,\"#ed7953\"],[0.7777777777777778,\"#fb9f3a\"],[0.8888888888888888,\"#fdca26\"],[1.0,\"#f0f921\"]],\"type\":\"histogram2d\"}],\"histogram2dcontour\":[{\"colorbar\":{\"outlinewidth\":0,\"ticks\":\"\"},\"colorscale\":[[0.0,\"#0d0887\"],[0.1111111111111111,\"#46039f\"],[0.2222222222222222,\"#7201a8\"],[0.3333333333333333,\"#9c179e\"],[0.4444444444444444,\"#bd3786\"],[0.5555555555555556,\"#d8576b\"],[0.6666666666666666,\"#ed7953\"],[0.7777777777777778,\"#fb9f3a\"],[0.8888888888888888,\"#fdca26\"],[1.0,\"#f0f921\"]],\"type\":\"histogram2dcontour\"}],\"mesh3d\":[{\"colorbar\":{\"outlinewidth\":0,\"ticks\":\"\"},\"type\":\"mesh3d\"}],\"parcoords\":[{\"line\":{\"colorbar\":{\"outlinewidth\":0,\"ticks\":\"\"}},\"type\":\"parcoords\"}],\"pie\":[{\"automargin\":true,\"type\":\"pie\"}],\"scatter\":[{\"marker\":{\"colorbar\":{\"outlinewidth\":0,\"ticks\":\"\"}},\"type\":\"scatter\"}],\"scatter3d\":[{\"line\":{\"colorbar\":{\"outlinewidth\":0,\"ticks\":\"\"}},\"marker\":{\"colorbar\":{\"outlinewidth\":0,\"ticks\":\"\"}},\"type\":\"scatter3d\"}],\"scattercarpet\":[{\"marker\":{\"colorbar\":{\"outlinewidth\":0,\"ticks\":\"\"}},\"type\":\"scattercarpet\"}],\"scattergeo\":[{\"marker\":{\"colorbar\":{\"outlinewidth\":0,\"ticks\":\"\"}},\"type\":\"scattergeo\"}],\"scattergl\":[{\"marker\":{\"colorbar\":{\"outlinewidth\":0,\"ticks\":\"\"}},\"type\":\"scattergl\"}],\"scattermapbox\":[{\"marker\":{\"colorbar\":{\"outlinewidth\":0,\"ticks\":\"\"}},\"type\":\"scattermapbox\"}],\"scatterpolar\":[{\"marker\":{\"colorbar\":{\"outlinewidth\":0,\"ticks\":\"\"}},\"type\":\"scatterpolar\"}],\"scatterpolargl\":[{\"marker\":{\"colorbar\":{\"outlinewidth\":0,\"ticks\":\"\"}},\"type\":\"scatterpolargl\"}],\"scatterternary\":[{\"marker\":{\"colorbar\":{\"outlinewidth\":0,\"ticks\":\"\"}},\"type\":\"scatterternary\"}],\"surface\":[{\"colorbar\":{\"outlinewidth\":0,\"ticks\":\"\"},\"colorscale\":[[0.0,\"#0d0887\"],[0.1111111111111111,\"#46039f\"],[0.2222222222222222,\"#7201a8\"],[0.3333333333333333,\"#9c179e\"],[0.4444444444444444,\"#bd3786\"],[0.5555555555555556,\"#d8576b\"],[0.6666666666666666,\"#ed7953\"],[0.7777777777777778,\"#fb9f3a\"],[0.8888888888888888,\"#fdca26\"],[1.0,\"#f0f921\"]],\"type\":\"surface\"}],\"table\":[{\"cells\":{\"fill\":{\"color\":\"#EBF0F8\"},\"line\":{\"color\":\"white\"}},\"header\":{\"fill\":{\"color\":\"#C8D4E3\"},\"line\":{\"color\":\"white\"}},\"type\":\"table\"}]},\"layout\":{\"annotationdefaults\":{\"arrowcolor\":\"#2a3f5f\",\"arrowhead\":0,\"arrowwidth\":1},\"autotypenumbers\":\"strict\",\"coloraxis\":{\"colorbar\":{\"outlinewidth\":0,\"ticks\":\"\"}},\"colorscale\":{\"diverging\":[[0,\"#8e0152\"],[0.1,\"#c51b7d\"],[0.2,\"#de77ae\"],[0.3,\"#f1b6da\"],[0.4,\"#fde0ef\"],[0.5,\"#f7f7f7\"],[0.6,\"#e6f5d0\"],[0.7,\"#b8e186\"],[0.8,\"#7fbc41\"],[0.9,\"#4d9221\"],[1,\"#276419\"]],\"sequential\":[[0.0,\"#0d0887\"],[0.1111111111111111,\"#46039f\"],[0.2222222222222222,\"#7201a8\"],[0.3333333333333333,\"#9c179e\"],[0.4444444444444444,\"#bd3786\"],[0.5555555555555556,\"#d8576b\"],[0.6666666666666666,\"#ed7953\"],[0.7777777777777778,\"#fb9f3a\"],[0.8888888888888888,\"#fdca26\"],[1.0,\"#f0f921\"]],\"sequentialminus\":[[0.0,\"#0d0887\"],[0.1111111111111111,\"#46039f\"],[0.2222222222222222,\"#7201a8\"],[0.3333333333333333,\"#9c179e\"],[0.4444444444444444,\"#bd3786\"],[0.5555555555555556,\"#d8576b\"],[0.6666666666666666,\"#ed7953\"],[0.7777777777777778,\"#fb9f3a\"],[0.8888888888888888,\"#fdca26\"],[1.0,\"#f0f921\"]]},\"colorway\":[\"#636efa\",\"#EF553B\",\"#00cc96\",\"#ab63fa\",\"#FFA15A\",\"#19d3f3\",\"#FF6692\",\"#B6E880\",\"#FF97FF\",\"#FECB52\"],\"font\":{\"color\":\"#2a3f5f\"},\"geo\":{\"bgcolor\":\"white\",\"lakecolor\":\"white\",\"landcolor\":\"#E5ECF6\",\"showlakes\":true,\"showland\":true,\"subunitcolor\":\"white\"},\"hoverlabel\":{\"align\":\"left\"},\"hovermode\":\"closest\",\"mapbox\":{\"style\":\"light\"},\"paper_bgcolor\":\"white\",\"plot_bgcolor\":\"#E5ECF6\",\"polar\":{\"angularaxis\":{\"gridcolor\":\"white\",\"linecolor\":\"white\",\"ticks\":\"\"},\"bgcolor\":\"#E5ECF6\",\"radialaxis\":{\"gridcolor\":\"white\",\"linecolor\":\"white\",\"ticks\":\"\"}},\"scene\":{\"xaxis\":{\"backgroundcolor\":\"#E5ECF6\",\"gridcolor\":\"white\",\"gridwidth\":2,\"linecolor\":\"white\",\"showbackground\":true,\"ticks\":\"\",\"zerolinecolor\":\"white\"},\"yaxis\":{\"backgroundcolor\":\"#E5ECF6\",\"gridcolor\":\"white\",\"gridwidth\":2,\"linecolor\":\"white\",\"showbackground\":true,\"ticks\":\"\",\"zerolinecolor\":\"white\"},\"zaxis\":{\"backgroundcolor\":\"#E5ECF6\",\"gridcolor\":\"white\",\"gridwidth\":2,\"linecolor\":\"white\",\"showbackground\":true,\"ticks\":\"\",\"zerolinecolor\":\"white\"}},\"shapedefaults\":{\"line\":{\"color\":\"#2a3f5f\"}},\"ternary\":{\"aaxis\":{\"gridcolor\":\"white\",\"linecolor\":\"white\",\"ticks\":\"\"},\"baxis\":{\"gridcolor\":\"white\",\"linecolor\":\"white\",\"ticks\":\"\"},\"bgcolor\":\"#E5ECF6\",\"caxis\":{\"gridcolor\":\"white\",\"linecolor\":\"white\",\"ticks\":\"\"}},\"title\":{\"x\":0.05},\"xaxis\":{\"automargin\":true,\"gridcolor\":\"white\",\"linecolor\":\"white\",\"ticks\":\"\",\"title\":{\"standoff\":15},\"zerolinecolor\":\"white\",\"zerolinewidth\":2},\"yaxis\":{\"automargin\":true,\"gridcolor\":\"white\",\"linecolor\":\"white\",\"ticks\":\"\",\"title\":{\"standoff\":15},\"zerolinecolor\":\"white\",\"zerolinewidth\":2}}}},                        {\"responsive\": true}                    ).then(function(){\n",
              "                            \n",
              "var gd = document.getElementById('42d1e3b1-7945-4fe4-a2d9-aca9d99ae594');\n",
              "var x = new MutationObserver(function (mutations, observer) {{\n",
              "        var display = window.getComputedStyle(gd).display;\n",
              "        if (!display || display === 'none') {{\n",
              "            console.log([gd, 'removed!']);\n",
              "            Plotly.purge(gd);\n",
              "            observer.disconnect();\n",
              "        }}\n",
              "}});\n",
              "\n",
              "// Listen for the removal of the full notebook cells\n",
              "var notebookContainer = gd.closest('#notebook-container');\n",
              "if (notebookContainer) {{\n",
              "    x.observe(notebookContainer, {childList: true});\n",
              "}}\n",
              "\n",
              "// Listen for the clearing of the current output cell\n",
              "var outputEl = gd.closest('.output');\n",
              "if (outputEl) {{\n",
              "    x.observe(outputEl, {childList: true});\n",
              "}}\n",
              "\n",
              "                        })                };                            </script>        </div>\n",
              "</body>\n",
              "</html>"
            ]
          },
          "metadata": {}
        }
      ]
    }
  ]
}