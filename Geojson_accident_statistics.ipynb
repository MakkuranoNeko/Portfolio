{
  "nbformat": 4,
  "nbformat_minor": 0,
  "metadata": {
    "colab": {
      "name": "Geojson_accident_statistics.ipynb",
      "provenance": [],
      "collapsed_sections": [],
      "toc_visible": true,
      "authorship_tag": "ABX9TyNX/IlN5HharA47FMlMObAG"
    },
    "kernelspec": {
      "name": "python3",
      "display_name": "Python 3"
    },
    "language_info": {
      "name": "python"
    }
  },
  "cells": [
    {
      "cell_type": "markdown",
      "metadata": {
        "id": "RWglT8YpOrrN"
      },
      "source": [
        ""
      ]
    },
    {
      "cell_type": "markdown",
      "metadata": {
        "id": "vVPD4SP0OsBF"
      },
      "source": [
        "# **0. Предобработка данных**"
      ]
    },
    {
      "cell_type": "markdown",
      "metadata": {
        "id": "cfYkHnBrOv2M"
      },
      "source": [
        "Список загружаемых библиотек:"
      ]
    },
    {
      "cell_type": "code",
      "metadata": {
        "id": "lVf0ZJy2UtYY"
      },
      "source": [
        "import pandas as pd\n",
        "import numpy as np\n",
        "import re\n",
        "import json\n",
        "import plotly.express as px\n",
        "import plotly.graph_objects as go\n",
        "from tabulate import tabulate\n",
        "# чтобы не получать лишние предупреждения\n",
        "pd.options.mode.chained_assignment = None"
      ],
      "execution_count": null,
      "outputs": []
    },
    {
      "cell_type": "markdown",
      "metadata": {
        "id": "eDBCXbhYO3G8"
      },
      "source": [
        "Загрузка доступа к gdrive для доступа к файлу данных."
      ]
    },
    {
      "cell_type": "code",
      "metadata": {
        "colab": {
          "base_uri": "https://localhost:8080/"
        },
        "id": "IdhqvHnQVA3W",
        "outputId": "726505bc-5f39-406a-9f99-90bef6d02ee7"
      },
      "source": [
        "from google.colab import drive\n",
        "drive.mount('/gdrive')\n",
        "%cd /gdrive"
      ],
      "execution_count": null,
      "outputs": [
        {
          "output_type": "stream",
          "name": "stdout",
          "text": [
            "Mounted at /gdrive\n",
            "/gdrive\n"
          ]
        }
      ]
    },
    {
      "cell_type": "code",
      "metadata": {
        "id": "yBpVYDksVMf_"
      },
      "source": [
        "df = pd.read_json('/gdrive/MyDrive/moskva.geojson')"
      ],
      "execution_count": null,
      "outputs": []
    },
    {
      "cell_type": "markdown",
      "metadata": {
        "id": "zDwEqNHuO_W5"
      },
      "source": [
        "Так как мы работаем с форматом geodrive, то нам понадобится загружать строки большей длины. Для этого увеличим число выводимых символов."
      ]
    },
    {
      "cell_type": "code",
      "metadata": {
        "id": "YgUiwkOqWtOE"
      },
      "source": [
        "pd.options.display.max_colwidth = 5000"
      ],
      "execution_count": null,
      "outputs": []
    },
    {
      "cell_type": "markdown",
      "metadata": {
        "id": "c2WYtVVIPPqL"
      },
      "source": [
        "Выведем первые строки файла."
      ]
    },
    {
      "cell_type": "code",
      "metadata": {
        "colab": {
          "base_uri": "https://localhost:8080/",
          "height": 1000
        },
        "id": "KO7hg67UZMeF",
        "outputId": "078dd993-3311-4448-bf43-3d46a9384f22"
      },
      "source": [
        "df.head()"
      ],
      "execution_count": null,
      "outputs": [
        {
          "output_type": "execute_result",
          "data": {
            "text/html": [
              "<div>\n",
              "<style scoped>\n",
              "    .dataframe tbody tr th:only-of-type {\n",
              "        vertical-align: middle;\n",
              "    }\n",
              "\n",
              "    .dataframe tbody tr th {\n",
              "        vertical-align: top;\n",
              "    }\n",
              "\n",
              "    .dataframe thead th {\n",
              "        text-align: right;\n",
              "    }\n",
              "</style>\n",
              "<table border=\"1\" class=\"dataframe\">\n",
              "  <thead>\n",
              "    <tr style=\"text-align: right;\">\n",
              "      <th></th>\n",
              "      <th>type</th>\n",
              "      <th>features</th>\n",
              "    </tr>\n",
              "  </thead>\n",
              "  <tbody>\n",
              "    <tr>\n",
              "      <th>0</th>\n",
              "      <td>FeatureCollection</td>\n",
              "      <td>{'type': 'Feature', 'geometry': {'type': 'Point', 'coordinates': [37.412325, 55.961122]}, 'properties': {'id': 1563301, 'gibdd_id': '195406532', 'point': {'lat': 55.961122, 'long': 37.412325}, 'participant_categories': ['Пешеходы', 'Все участники'], 'severity': 'Тяжёлый', 'region': 'Молжаниновский', 'parent_region': 'Москва', 'datetime': '2016-07-11 21:20:00', 'address': 'г Москва, ш Международное', 'participants_count': 2, 'injured_count': 1, 'dead_count': 0, 'category': 'Наезд на пешехода', 'light': 'Светлое время суток', 'nearby': [], 'weather': ['Ясно'], 'road_conditions': ['Сухое'], 'vehicles': [{'brand': 'ВАЗ', 'model': 'Kalina', 'color': 'Серый', 'year': 2011, 'category': 'А-класс (особо малый) до 3,5 м', 'participants': [{'health_status': 'Не пострадал', 'role': 'Водитель', 'gender': 'Мужской', 'years_of_driving_experience': 6, 'violations': []}]}], 'participants': [{'health_status': 'Раненый, находящийся (находившийся) на стационарном лечении', 'role': 'Пешеход', 'gender': 'Мужской', 'violations': ['Переход через проезжую часть вне пешеходного перехода в зоне его видимости либо при наличии в непосредственной близости подземного (надземного) пешеходного перехода']}], 'tags': ['Дорожно-транспортные происшествия'], 'scheme': '820'}}</td>\n",
              "    </tr>\n",
              "    <tr>\n",
              "      <th>1</th>\n",
              "      <td>FeatureCollection</td>\n",
              "      <td>{'type': 'Feature', 'geometry': {'type': 'Point', 'coordinates': [37.606, 55.883]}, 'properties': {'id': 1529678, 'gibdd_id': '192559706', 'point': {'lat': 55.883, 'long': 37.606}, 'participant_categories': ['Пешеходы', 'Все участники'], 'severity': 'Легкий', 'region': 'Бибирево', 'parent_region': 'Москва', 'datetime': '2016-04-14 19:10:00', 'address': 'г Москва, ул Плещеева, 4', 'participants_count': 3, 'injured_count': 2, 'dead_count': 0, 'category': 'Наезд на пешехода', 'light': 'Светлое время суток', 'nearby': ['Многоквартирные жилые дома', 'Остановка общественного транспорта'], 'weather': ['Ясно'], 'road_conditions': ['Сухое'], 'vehicles': [{'brand': 'SKODA', 'model': 'Octavia', 'color': 'Серый', 'year': 2012, 'category': 'В-класс (малый) до 3,9 м', 'participants': [{'health_status': 'Не пострадал', 'role': 'Водитель', 'gender': 'Женский', 'years_of_driving_experience': 16, 'violations': []}]}], 'participants': [{'health_status': 'Раненый, находящийся (находившийся)  на амбулаторном лечении, либо которому по характеру полученных травм обозначена необходимость амбулаторного лечения (вне зависимости от его фактического прохождения)', 'role': 'Пешеход', 'gender': 'Женский', 'violations': ['Переход через проезжую часть в неустановленном месте (при наличии в зоне видимости перекрёстка)']}, {'health_status': 'Раненый, находящийся (находившийся)  на амбулаторном лечении, либо которому по характеру полученных травм обозначена необходимость амбулаторного лечения (вне зависимости от его фактического прохождения)', 'role': 'Пешеход', 'gender': 'Мужской', 'violations': ['Переход через проезжую часть в неустановленном месте (при наличии в зоне видимости перекрёстка)']}], 'tags': ['Дорожно-транспортные происшествия'], 'scheme': '820'}}</td>\n",
              "    </tr>\n",
              "    <tr>\n",
              "      <th>2</th>\n",
              "      <td>FeatureCollection</td>\n",
              "      <td>{'type': 'Feature', 'geometry': {'type': 'Point', 'coordinates': [37.777691, 55.763374]}, 'properties': {'id': 1528379, 'gibdd_id': '217249072', 'point': {'lat': 55.763374, 'long': 37.777691}, 'participant_categories': ['Все участники'], 'severity': 'Легкий', 'region': 'Перово', 'parent_region': 'Москва', 'datetime': '2019-03-19 17:00:00', 'address': 'г Москва, ш Энтузиастов, 64', 'participants_count': 3, 'injured_count': 1, 'dead_count': 0, 'category': 'Столкновение', 'light': 'Светлое время суток', 'nearby': ['Зоны отдыха', 'Остановка общественного транспорта', 'Регулируемый перекрёсток', 'Надземный пешеходный переход'], 'weather': ['Ясно'], 'road_conditions': ['Мокрое'], 'vehicles': [{'brand': 'TOYOTA', 'model': 'Avensis', 'color': 'Зеленый', 'year': 2000, 'category': 'В-класс (малый) до 3,9 м', 'participants': [{'health_status': 'Раненый, находящийся (находившийся)  на амбулаторном лечении, либо которому по характеру полученных травм обозначена необходимость амбулаторного лечения (вне зависимости от его фактического прохождения)', 'role': 'Водитель', 'gender': 'Мужской', 'years_of_driving_experience': 7, 'violations': []}]}, {'brand': 'VOLVO', 'model': 'Прочие модели Volvo', 'color': 'Черный', 'year': 2011, 'category': 'В-класс (малый) до 3,9 м', 'participants': [{'health_status': 'Не пострадал', 'role': 'Водитель', 'gender': 'Мужской', 'years_of_driving_experience': 23, 'violations': ['Нарушение требований линий разметки']}]}, {'brand': 'TOYOTA', 'model': 'Прочие модели грузовых Toyota', 'color': 'Зеленый', 'year': 2000, 'category': 'В-класс (малый) до 3,9 м', 'participants': [{'health_status': 'Не пострадал', 'role': 'Водитель', 'gender': 'Женский', 'years_of_driving_experience': 17, 'violations': ['Неправильный выбор дистанции']}]}], 'participants': [], 'tags': ['Дорожно-транспортные происшествия'], 'scheme': '070'}}</td>\n",
              "    </tr>\n",
              "    <tr>\n",
              "      <th>3</th>\n",
              "      <td>FeatureCollection</td>\n",
              "      <td>{'type': 'Feature', 'geometry': {'type': 'Point', 'coordinates': [37.655, 55.88]}, 'properties': {'id': 1570361, 'gibdd_id': '191489771', 'point': {'lat': 55.88, 'long': 37.655}, 'participant_categories': ['Все участники'], 'severity': 'Легкий', 'region': 'Южное Медведково', 'parent_region': 'Москва', 'datetime': '2016-03-17 08:00:00', 'address': 'г Москва, ул Сухонская, 15', 'participants_count': 3, 'injured_count': 1, 'dead_count': 0, 'category': 'Столкновение', 'light': 'Светлое время суток', 'nearby': ['Многоквартирные жилые дома', 'Регулируемый перекресток'], 'weather': ['Пасмурно'], 'road_conditions': ['Сухое'], 'vehicles': [{'brand': 'OPEL', 'model': 'Zafira', 'color': 'Серый', 'year': 2008, 'category': 'В-класс (малый) до 3,9 м', 'participants': [{'health_status': 'Не пострадал', 'role': 'Водитель', 'gender': 'Мужской', 'years_of_driving_experience': 5, 'violations': []}, {'health_status': 'Раненый, находящийся (находившийся)  на амбулаторном лечении, либо которому по характеру полученных травм обозначена необходимость амбулаторного лечения (вне зависимости от его фактического прохождения)', 'role': 'Пассажир', 'gender': 'Женский', 'years_of_driving_experience': None, 'violations': []}]}, {'brand': 'NISSAN', 'model': 'Qashgai', 'color': 'Черный', 'year': 2008, 'category': 'В-класс (малый) до 3,9 м', 'participants': [{'health_status': 'Не пострадал', 'role': 'Водитель', 'gender': 'Мужской', 'years_of_driving_experience': 17, 'violations': ['Несоблюдение очередности проезда']}]}], 'participants': [], 'tags': ['Дорожно-транспортные происшествия'], 'scheme': '300'}}</td>\n",
              "    </tr>\n",
              "    <tr>\n",
              "      <th>4</th>\n",
              "      <td>FeatureCollection</td>\n",
              "      <td>{'type': 'Feature', 'geometry': {'type': 'Point', 'coordinates': [37.148698, 55.978553]}, 'properties': {'id': 1531117, 'gibdd_id': '193443992', 'point': {'lat': 55.978553, 'long': 37.148698}, 'participant_categories': ['Все участники'], 'severity': 'Легкий', 'region': 'Крюково', 'parent_region': 'Москва', 'datetime': '2016-05-15 20:05:00', 'address': 'г Зеленоград, ул Андреевка, 1562', 'participants_count': 3, 'injured_count': 1, 'dead_count': 0, 'category': 'Столкновение', 'light': 'В темное время суток, освещение включено', 'nearby': ['Многоквартирные жилые дома'], 'weather': ['Пасмурно'], 'road_conditions': ['Сухое'], 'vehicles': [{'brand': 'TOYOTA', 'model': 'Land Cruiser', 'color': 'Черный', 'year': 2015, 'category': 'С-класс (малый средний, компактный) до 4,3 м', 'participants': [{'health_status': 'Не пострадал', 'role': 'Водитель', 'gender': 'Женский', 'years_of_driving_experience': 12, 'violations': ['Неправильный выбор дистанции']}]}, {'brand': 'RENAULT', 'model': 'Scenic', 'color': 'Иные цвета', 'year': 2001, 'category': 'С-класс (малый средний, компактный) до 4,3 м', 'participants': [{'health_status': 'Не пострадал', 'role': 'Водитель', 'gender': 'Мужской', 'years_of_driving_experience': 21, 'violations': []}, {'health_status': 'Раненый, находящийся (находившийся)  на амбулаторном лечении, либо которому по характеру полученных травм обозначена необходимость амбулаторного лечения (вне зависимости от его фактического прохождения)', 'role': 'Пассажир', 'gender': 'Женский', 'years_of_driving_experience': None, 'violations': []}]}], 'participants': [], 'tags': ['Дорожно-транспортные происшествия'], 'scheme': '070'}}</td>\n",
              "    </tr>\n",
              "  </tbody>\n",
              "</table>\n",
              "</div>"
            ],
            "text/plain": [
              "                type                                                                                                                                                                                                                                                                                                                                                                                                                                                                                                                                                                                                                                                                                                                                                                                                                                                                                                                                                                                                                                                                                                                                                                                                                                                                                                                                                                                                                                                                                                                                                                                                                                                                                                                                                                                                                                                                                                                         features\n",
              "0  FeatureCollection                                                                                                                                                                                                                                                                                                                                                                                                                                                                                                                                                                                                                       {'type': 'Feature', 'geometry': {'type': 'Point', 'coordinates': [37.412325, 55.961122]}, 'properties': {'id': 1563301, 'gibdd_id': '195406532', 'point': {'lat': 55.961122, 'long': 37.412325}, 'participant_categories': ['Пешеходы', 'Все участники'], 'severity': 'Тяжёлый', 'region': 'Молжаниновский', 'parent_region': 'Москва', 'datetime': '2016-07-11 21:20:00', 'address': 'г Москва, ш Международное', 'participants_count': 2, 'injured_count': 1, 'dead_count': 0, 'category': 'Наезд на пешехода', 'light': 'Светлое время суток', 'nearby': [], 'weather': ['Ясно'], 'road_conditions': ['Сухое'], 'vehicles': [{'brand': 'ВАЗ', 'model': 'Kalina', 'color': 'Серый', 'year': 2011, 'category': 'А-класс (особо малый) до 3,5 м', 'participants': [{'health_status': 'Не пострадал', 'role': 'Водитель', 'gender': 'Мужской', 'years_of_driving_experience': 6, 'violations': []}]}], 'participants': [{'health_status': 'Раненый, находящийся (находившийся) на стационарном лечении', 'role': 'Пешеход', 'gender': 'Мужской', 'violations': ['Переход через проезжую часть вне пешеходного перехода в зоне его видимости либо при наличии в непосредственной близости подземного (надземного) пешеходного перехода']}], 'tags': ['Дорожно-транспортные происшествия'], 'scheme': '820'}}\n",
              "1  FeatureCollection                                                                                                     {'type': 'Feature', 'geometry': {'type': 'Point', 'coordinates': [37.606, 55.883]}, 'properties': {'id': 1529678, 'gibdd_id': '192559706', 'point': {'lat': 55.883, 'long': 37.606}, 'participant_categories': ['Пешеходы', 'Все участники'], 'severity': 'Легкий', 'region': 'Бибирево', 'parent_region': 'Москва', 'datetime': '2016-04-14 19:10:00', 'address': 'г Москва, ул Плещеева, 4', 'participants_count': 3, 'injured_count': 2, 'dead_count': 0, 'category': 'Наезд на пешехода', 'light': 'Светлое время суток', 'nearby': ['Многоквартирные жилые дома', 'Остановка общественного транспорта'], 'weather': ['Ясно'], 'road_conditions': ['Сухое'], 'vehicles': [{'brand': 'SKODA', 'model': 'Octavia', 'color': 'Серый', 'year': 2012, 'category': 'В-класс (малый) до 3,9 м', 'participants': [{'health_status': 'Не пострадал', 'role': 'Водитель', 'gender': 'Женский', 'years_of_driving_experience': 16, 'violations': []}]}], 'participants': [{'health_status': 'Раненый, находящийся (находившийся)  на амбулаторном лечении, либо которому по характеру полученных травм обозначена необходимость амбулаторного лечения (вне зависимости от его фактического прохождения)', 'role': 'Пешеход', 'gender': 'Женский', 'violations': ['Переход через проезжую часть в неустановленном месте (при наличии в зоне видимости перекрёстка)']}, {'health_status': 'Раненый, находящийся (находившийся)  на амбулаторном лечении, либо которому по характеру полученных травм обозначена необходимость амбулаторного лечения (вне зависимости от его фактического прохождения)', 'role': 'Пешеход', 'gender': 'Мужской', 'violations': ['Переход через проезжую часть в неустановленном месте (при наличии в зоне видимости перекрёстка)']}], 'tags': ['Дорожно-транспортные происшествия'], 'scheme': '820'}}\n",
              "2  FeatureCollection  {'type': 'Feature', 'geometry': {'type': 'Point', 'coordinates': [37.777691, 55.763374]}, 'properties': {'id': 1528379, 'gibdd_id': '217249072', 'point': {'lat': 55.763374, 'long': 37.777691}, 'participant_categories': ['Все участники'], 'severity': 'Легкий', 'region': 'Перово', 'parent_region': 'Москва', 'datetime': '2019-03-19 17:00:00', 'address': 'г Москва, ш Энтузиастов, 64', 'participants_count': 3, 'injured_count': 1, 'dead_count': 0, 'category': 'Столкновение', 'light': 'Светлое время суток', 'nearby': ['Зоны отдыха', 'Остановка общественного транспорта', 'Регулируемый перекрёсток', 'Надземный пешеходный переход'], 'weather': ['Ясно'], 'road_conditions': ['Мокрое'], 'vehicles': [{'brand': 'TOYOTA', 'model': 'Avensis', 'color': 'Зеленый', 'year': 2000, 'category': 'В-класс (малый) до 3,9 м', 'participants': [{'health_status': 'Раненый, находящийся (находившийся)  на амбулаторном лечении, либо которому по характеру полученных травм обозначена необходимость амбулаторного лечения (вне зависимости от его фактического прохождения)', 'role': 'Водитель', 'gender': 'Мужской', 'years_of_driving_experience': 7, 'violations': []}]}, {'brand': 'VOLVO', 'model': 'Прочие модели Volvo', 'color': 'Черный', 'year': 2011, 'category': 'В-класс (малый) до 3,9 м', 'participants': [{'health_status': 'Не пострадал', 'role': 'Водитель', 'gender': 'Мужской', 'years_of_driving_experience': 23, 'violations': ['Нарушение требований линий разметки']}]}, {'brand': 'TOYOTA', 'model': 'Прочие модели грузовых Toyota', 'color': 'Зеленый', 'year': 2000, 'category': 'В-класс (малый) до 3,9 м', 'participants': [{'health_status': 'Не пострадал', 'role': 'Водитель', 'gender': 'Женский', 'years_of_driving_experience': 17, 'violations': ['Неправильный выбор дистанции']}]}], 'participants': [], 'tags': ['Дорожно-транспортные происшествия'], 'scheme': '070'}}\n",
              "3  FeatureCollection                                                                                                                                                                                                                                                                     {'type': 'Feature', 'geometry': {'type': 'Point', 'coordinates': [37.655, 55.88]}, 'properties': {'id': 1570361, 'gibdd_id': '191489771', 'point': {'lat': 55.88, 'long': 37.655}, 'participant_categories': ['Все участники'], 'severity': 'Легкий', 'region': 'Южное Медведково', 'parent_region': 'Москва', 'datetime': '2016-03-17 08:00:00', 'address': 'г Москва, ул Сухонская, 15', 'participants_count': 3, 'injured_count': 1, 'dead_count': 0, 'category': 'Столкновение', 'light': 'Светлое время суток', 'nearby': ['Многоквартирные жилые дома', 'Регулируемый перекресток'], 'weather': ['Пасмурно'], 'road_conditions': ['Сухое'], 'vehicles': [{'brand': 'OPEL', 'model': 'Zafira', 'color': 'Серый', 'year': 2008, 'category': 'В-класс (малый) до 3,9 м', 'participants': [{'health_status': 'Не пострадал', 'role': 'Водитель', 'gender': 'Мужской', 'years_of_driving_experience': 5, 'violations': []}, {'health_status': 'Раненый, находящийся (находившийся)  на амбулаторном лечении, либо которому по характеру полученных травм обозначена необходимость амбулаторного лечения (вне зависимости от его фактического прохождения)', 'role': 'Пассажир', 'gender': 'Женский', 'years_of_driving_experience': None, 'violations': []}]}, {'brand': 'NISSAN', 'model': 'Qashgai', 'color': 'Черный', 'year': 2008, 'category': 'В-класс (малый) до 3,9 м', 'participants': [{'health_status': 'Не пострадал', 'role': 'Водитель', 'gender': 'Мужской', 'years_of_driving_experience': 17, 'violations': ['Несоблюдение очередности проезда']}]}], 'participants': [], 'tags': ['Дорожно-транспортные происшествия'], 'scheme': '300'}}\n",
              "4  FeatureCollection                                                                                                                                                                                                               {'type': 'Feature', 'geometry': {'type': 'Point', 'coordinates': [37.148698, 55.978553]}, 'properties': {'id': 1531117, 'gibdd_id': '193443992', 'point': {'lat': 55.978553, 'long': 37.148698}, 'participant_categories': ['Все участники'], 'severity': 'Легкий', 'region': 'Крюково', 'parent_region': 'Москва', 'datetime': '2016-05-15 20:05:00', 'address': 'г Зеленоград, ул Андреевка, 1562', 'participants_count': 3, 'injured_count': 1, 'dead_count': 0, 'category': 'Столкновение', 'light': 'В темное время суток, освещение включено', 'nearby': ['Многоквартирные жилые дома'], 'weather': ['Пасмурно'], 'road_conditions': ['Сухое'], 'vehicles': [{'brand': 'TOYOTA', 'model': 'Land Cruiser', 'color': 'Черный', 'year': 2015, 'category': 'С-класс (малый средний, компактный) до 4,3 м', 'participants': [{'health_status': 'Не пострадал', 'role': 'Водитель', 'gender': 'Женский', 'years_of_driving_experience': 12, 'violations': ['Неправильный выбор дистанции']}]}, {'brand': 'RENAULT', 'model': 'Scenic', 'color': 'Иные цвета', 'year': 2001, 'category': 'С-класс (малый средний, компактный) до 4,3 м', 'participants': [{'health_status': 'Не пострадал', 'role': 'Водитель', 'gender': 'Мужской', 'years_of_driving_experience': 21, 'violations': []}, {'health_status': 'Раненый, находящийся (находившийся)  на амбулаторном лечении, либо которому по характеру полученных травм обозначена необходимость амбулаторного лечения (вне зависимости от его фактического прохождения)', 'role': 'Пассажир', 'gender': 'Женский', 'years_of_driving_experience': None, 'violations': []}]}], 'participants': [], 'tags': ['Дорожно-транспортные происшествия'], 'scheme': '070'}}"
            ]
          },
          "metadata": {},
          "execution_count": 5
        }
      ]
    },
    {
      "cell_type": "markdown",
      "metadata": {
        "id": "3Rc6qE_oRiFP"
      },
      "source": [
        "# **1. Обработка столбца features и разбиение информации на столбцы.**"
      ]
    },
    {
      "cell_type": "markdown",
      "metadata": {
        "id": "oe8h2XBA_SLq"
      },
      "source": [
        "Так как основная информация лежит в виде словаря в столбце features, то вытащим ее от туда."
      ]
    },
    {
      "cell_type": "code",
      "metadata": {
        "id": "_wjYophNd2Qx"
      },
      "source": [
        "data_all = pd.DataFrame.from_records([i['properties'] for i in list(df['features'])])"
      ],
      "execution_count": null,
      "outputs": []
    },
    {
      "cell_type": "markdown",
      "metadata": {
        "id": "mMxbdePoAHvK"
      },
      "source": [
        "Выведем описание полученного датафрейма:"
      ]
    },
    {
      "cell_type": "code",
      "metadata": {
        "colab": {
          "base_uri": "https://localhost:8080/"
        },
        "id": "3kfCII3YmN9c",
        "outputId": "2748148b-3c31-408d-d0e9-277ad0bbc3e8"
      },
      "source": [
        "data_all.info()"
      ],
      "execution_count": null,
      "outputs": [
        {
          "output_type": "stream",
          "name": "stdout",
          "text": [
            "<class 'pandas.core.frame.DataFrame'>\n",
            "RangeIndex: 57130 entries, 0 to 57129\n",
            "Data columns (total 21 columns):\n",
            " #   Column                  Non-Null Count  Dtype \n",
            "---  ------                  --------------  ----- \n",
            " 0   id                      57130 non-null  int64 \n",
            " 1   gibdd_id                57130 non-null  object\n",
            " 2   point                   57130 non-null  object\n",
            " 3   participant_categories  57130 non-null  object\n",
            " 4   severity                57130 non-null  object\n",
            " 5   region                  57130 non-null  object\n",
            " 6   parent_region           57130 non-null  object\n",
            " 7   datetime                57130 non-null  object\n",
            " 8   address                 53931 non-null  object\n",
            " 9   participants_count      57130 non-null  int64 \n",
            " 10  injured_count           57130 non-null  int64 \n",
            " 11  dead_count              57130 non-null  int64 \n",
            " 12  category                57130 non-null  object\n",
            " 13  light                   57130 non-null  object\n",
            " 14  nearby                  57130 non-null  object\n",
            " 15  weather                 57130 non-null  object\n",
            " 16  road_conditions         57130 non-null  object\n",
            " 17  vehicles                57130 non-null  object\n",
            " 18  participants            57130 non-null  object\n",
            " 19  tags                    57130 non-null  object\n",
            " 20  scheme                  55092 non-null  object\n",
            "dtypes: int64(4), object(17)\n",
            "memory usage: 9.2+ MB\n"
          ]
        }
      ]
    },
    {
      "cell_type": "markdown",
      "metadata": {
        "id": "Xv9wyNXGAN1k"
      },
      "source": [
        "Таким образом мы получили 21 столбец, из которых два все еще представляют из себя словарь. Также столбец даты надо перевести в формат datetime. Добавим указание дня недели и часа аварии."
      ]
    },
    {
      "cell_type": "code",
      "metadata": {
        "id": "XABVCJ3BAOoR"
      },
      "source": [
        "data_all['datetime'] = pd.to_datetime(data_all['datetime'])\n",
        "data_all['weekday'] = data_all['datetime'].dt.day_name()\n",
        "data_all['hour'] = data_all['datetime'].dt.hour"
      ],
      "execution_count": null,
      "outputs": []
    },
    {
      "cell_type": "markdown",
      "metadata": {
        "id": "q3BMKReftOxC"
      },
      "source": [
        "Таким образом полученная таблица данных выглядит как:"
      ]
    },
    {
      "cell_type": "code",
      "metadata": {
        "colab": {
          "base_uri": "https://localhost:8080/",
          "height": 483
        },
        "id": "bYfjb1YIT216",
        "outputId": "ce5316c4-2dc6-4892-930b-2d0296e82bfe"
      },
      "source": [
        "data_all.head(1)"
      ],
      "execution_count": null,
      "outputs": [
        {
          "output_type": "execute_result",
          "data": {
            "text/html": [
              "<div>\n",
              "<style scoped>\n",
              "    .dataframe tbody tr th:only-of-type {\n",
              "        vertical-align: middle;\n",
              "    }\n",
              "\n",
              "    .dataframe tbody tr th {\n",
              "        vertical-align: top;\n",
              "    }\n",
              "\n",
              "    .dataframe thead th {\n",
              "        text-align: right;\n",
              "    }\n",
              "</style>\n",
              "<table border=\"1\" class=\"dataframe\">\n",
              "  <thead>\n",
              "    <tr style=\"text-align: right;\">\n",
              "      <th></th>\n",
              "      <th>id</th>\n",
              "      <th>gibdd_id</th>\n",
              "      <th>point</th>\n",
              "      <th>participant_categories</th>\n",
              "      <th>severity</th>\n",
              "      <th>region</th>\n",
              "      <th>parent_region</th>\n",
              "      <th>datetime</th>\n",
              "      <th>address</th>\n",
              "      <th>participants_count</th>\n",
              "      <th>injured_count</th>\n",
              "      <th>dead_count</th>\n",
              "      <th>category</th>\n",
              "      <th>light</th>\n",
              "      <th>nearby</th>\n",
              "      <th>weather</th>\n",
              "      <th>road_conditions</th>\n",
              "      <th>vehicles</th>\n",
              "      <th>participants</th>\n",
              "      <th>tags</th>\n",
              "      <th>scheme</th>\n",
              "      <th>weekday</th>\n",
              "      <th>hour</th>\n",
              "    </tr>\n",
              "  </thead>\n",
              "  <tbody>\n",
              "    <tr>\n",
              "      <th>0</th>\n",
              "      <td>1563301</td>\n",
              "      <td>195406532</td>\n",
              "      <td>{'lat': 55.961122, 'long': 37.412325}</td>\n",
              "      <td>[Пешеходы, Все участники]</td>\n",
              "      <td>Тяжёлый</td>\n",
              "      <td>Молжаниновский</td>\n",
              "      <td>Москва</td>\n",
              "      <td>2016-07-11 21:20:00</td>\n",
              "      <td>г Москва, ш Международное</td>\n",
              "      <td>2</td>\n",
              "      <td>1</td>\n",
              "      <td>0</td>\n",
              "      <td>Наезд на пешехода</td>\n",
              "      <td>Светлое время суток</td>\n",
              "      <td>[]</td>\n",
              "      <td>[Ясно]</td>\n",
              "      <td>[Сухое]</td>\n",
              "      <td>[{'brand': 'ВАЗ', 'model': 'Kalina', 'color': 'Серый', 'year': 2011, 'category': 'А-класс (особо малый) до 3,5 м', 'participants': [{'health_status': 'Не пострадал', 'role': 'Водитель', 'gender': 'Мужской', 'years_of_driving_experience': 6, 'violations': []}]}]</td>\n",
              "      <td>[{'health_status': 'Раненый, находящийся (находившийся) на стационарном лечении', 'role': 'Пешеход', 'gender': 'Мужской', 'violations': ['Переход через проезжую часть вне пешеходного перехода в зоне его видимости либо при наличии в непосредственной близости подземного (надземного) пешеходного перехода']}]</td>\n",
              "      <td>[Дорожно-транспортные происшествия]</td>\n",
              "      <td>820</td>\n",
              "      <td>Monday</td>\n",
              "      <td>21</td>\n",
              "    </tr>\n",
              "  </tbody>\n",
              "</table>\n",
              "</div>"
            ],
            "text/plain": [
              "        id   gibdd_id  ... weekday hour\n",
              "0  1563301  195406532  ...  Monday   21\n",
              "\n",
              "[1 rows x 23 columns]"
            ]
          },
          "metadata": {},
          "execution_count": 10
        }
      ]
    },
    {
      "cell_type": "markdown",
      "metadata": {
        "id": "SwZfO1TXtTP3"
      },
      "source": [
        "Так как у нас есть числовые столбцы, то посмотрим кратко на их распределение:"
      ]
    },
    {
      "cell_type": "code",
      "metadata": {
        "colab": {
          "base_uri": "https://localhost:8080/",
          "height": 300
        },
        "id": "IV-7gTynWGYk",
        "outputId": "1259ee51-da31-46e9-e2b0-7db5f61282f4"
      },
      "source": [
        "data_all.describe()"
      ],
      "execution_count": null,
      "outputs": [
        {
          "output_type": "execute_result",
          "data": {
            "text/html": [
              "<div>\n",
              "<style scoped>\n",
              "    .dataframe tbody tr th:only-of-type {\n",
              "        vertical-align: middle;\n",
              "    }\n",
              "\n",
              "    .dataframe tbody tr th {\n",
              "        vertical-align: top;\n",
              "    }\n",
              "\n",
              "    .dataframe thead th {\n",
              "        text-align: right;\n",
              "    }\n",
              "</style>\n",
              "<table border=\"1\" class=\"dataframe\">\n",
              "  <thead>\n",
              "    <tr style=\"text-align: right;\">\n",
              "      <th></th>\n",
              "      <th>id</th>\n",
              "      <th>participants_count</th>\n",
              "      <th>injured_count</th>\n",
              "      <th>dead_count</th>\n",
              "      <th>hour</th>\n",
              "    </tr>\n",
              "  </thead>\n",
              "  <tbody>\n",
              "    <tr>\n",
              "      <th>count</th>\n",
              "      <td>5.713000e+04</td>\n",
              "      <td>57130.000000</td>\n",
              "      <td>57130.000000</td>\n",
              "      <td>57130.000000</td>\n",
              "      <td>57130.000000</td>\n",
              "    </tr>\n",
              "    <tr>\n",
              "      <th>mean</th>\n",
              "      <td>1.647731e+06</td>\n",
              "      <td>2.417574</td>\n",
              "      <td>1.141694</td>\n",
              "      <td>0.054140</td>\n",
              "      <td>13.728374</td>\n",
              "    </tr>\n",
              "    <tr>\n",
              "      <th>std</th>\n",
              "      <td>2.880663e+05</td>\n",
              "      <td>0.921676</td>\n",
              "      <td>0.630521</td>\n",
              "      <td>0.249052</td>\n",
              "      <td>6.071685</td>\n",
              "    </tr>\n",
              "    <tr>\n",
              "      <th>min</th>\n",
              "      <td>1.527476e+06</td>\n",
              "      <td>1.000000</td>\n",
              "      <td>0.000000</td>\n",
              "      <td>0.000000</td>\n",
              "      <td>0.000000</td>\n",
              "    </tr>\n",
              "    <tr>\n",
              "      <th>25%</th>\n",
              "      <td>1.541759e+06</td>\n",
              "      <td>2.000000</td>\n",
              "      <td>1.000000</td>\n",
              "      <td>0.000000</td>\n",
              "      <td>9.000000</td>\n",
              "    </tr>\n",
              "    <tr>\n",
              "      <th>50%</th>\n",
              "      <td>1.556044e+06</td>\n",
              "      <td>2.000000</td>\n",
              "      <td>1.000000</td>\n",
              "      <td>0.000000</td>\n",
              "      <td>15.000000</td>\n",
              "    </tr>\n",
              "    <tr>\n",
              "      <th>75%</th>\n",
              "      <td>1.570326e+06</td>\n",
              "      <td>3.000000</td>\n",
              "      <td>1.000000</td>\n",
              "      <td>0.000000</td>\n",
              "      <td>19.000000</td>\n",
              "    </tr>\n",
              "    <tr>\n",
              "      <th>max</th>\n",
              "      <td>2.562158e+06</td>\n",
              "      <td>21.000000</td>\n",
              "      <td>19.000000</td>\n",
              "      <td>8.000000</td>\n",
              "      <td>23.000000</td>\n",
              "    </tr>\n",
              "  </tbody>\n",
              "</table>\n",
              "</div>"
            ],
            "text/plain": [
              "                 id  participants_count  ...    dead_count          hour\n",
              "count  5.713000e+04        57130.000000  ...  57130.000000  57130.000000\n",
              "mean   1.647731e+06            2.417574  ...      0.054140     13.728374\n",
              "std    2.880663e+05            0.921676  ...      0.249052      6.071685\n",
              "min    1.527476e+06            1.000000  ...      0.000000      0.000000\n",
              "25%    1.541759e+06            2.000000  ...      0.000000      9.000000\n",
              "50%    1.556044e+06            2.000000  ...      0.000000     15.000000\n",
              "75%    1.570326e+06            3.000000  ...      0.000000     19.000000\n",
              "max    2.562158e+06           21.000000  ...      8.000000     23.000000\n",
              "\n",
              "[8 rows x 5 columns]"
            ]
          },
          "metadata": {},
          "execution_count": 11
        }
      ]
    },
    {
      "cell_type": "markdown",
      "metadata": {
        "id": "9tgVTwqCtYC1"
      },
      "source": [
        "Выводы:\n",
        "\n",
        "1. Число участников варьируется от 1 до 3 в 75% случаев, максимальное число участников: 21\n",
        "2. Число раненых составляет 1 человека в 75% случаев, максимальное число: 19\n",
        "3. Число смертельных исходов в 75% случаев составляет 0, максимальное число смертей: 8"
      ]
    },
    {
      "cell_type": "markdown",
      "metadata": {
        "id": "VGjzc0ifyPgM"
      },
      "source": [
        "# **2. Используемые функции в анализе.**"
      ]
    },
    {
      "cell_type": "markdown",
      "metadata": {
        "id": "J7jtNb5rygs5"
      },
      "source": [
        "Так как часть столбцов представляет из себя список из элементов, то создадим несколько функций для выделения сводной информации по ее параметрам."
      ]
    },
    {
      "cell_type": "markdown",
      "metadata": {
        "id": "VSpIhb97y5-X"
      },
      "source": [
        "1. Создание листа из уникальных значений для столбца title в датафрейме datafr."
      ]
    },
    {
      "cell_type": "code",
      "metadata": {
        "id": "S0cZuyoJUC75"
      },
      "source": [
        "def unique_el(title_column, datafr):\n",
        "  name = []\n",
        "  for row in range(len(datafr)):\n",
        "    for el in datafr.loc[row, title_column]:\n",
        "      if el not in name:\n",
        "        name.append(el)\n",
        "  return name"
      ],
      "execution_count": null,
      "outputs": []
    },
    {
      "cell_type": "markdown",
      "metadata": {
        "id": "OO0tuTljjiiD"
      },
      "source": [
        "2. Создание словаря с частотой упоминания уникальных значений для столбца title в датафрейме datafr."
      ]
    },
    {
      "cell_type": "code",
      "metadata": {
        "id": "99TZ9JNYjiiD"
      },
      "source": [
        "def uniq_count(title_column, datafr):\n",
        "  temp_dict = {}\n",
        "  temp_uniq = unique_el(title_column, datafr)\n",
        "  for el in temp_uniq:\n",
        "    count = 0\n",
        "    for row in range(len(datafr)):\n",
        "      for element in datafr.loc[row, title_column]:\n",
        "        if element == el:\n",
        "          count += 1\n",
        "      temp_dict[el] = count\n",
        "  return temp_dict"
      ],
      "execution_count": null,
      "outputs": []
    },
    {
      "cell_type": "markdown",
      "metadata": {
        "id": "xwpT9V0RPteW"
      },
      "source": [
        "3. Создание таблицы с частотой появления уникальных значений для столбца title в датафрейме datafr."
      ]
    },
    {
      "cell_type": "code",
      "metadata": {
        "id": "NpZZPwWdPtSr"
      },
      "source": [
        "def uniq_table(title_column, datafr):\n",
        "  uniq_temp = unique_el(title_column, datafr)\n",
        "  data_temp = pd.DataFrame()\n",
        "  for el in uniq_temp:\n",
        "    data_temp['id'] = datafr['id']\n",
        "    data_temp[el] = [1\n",
        "                                 if el in datafr.loc[row, title_column]\n",
        "                                 else 0\n",
        "                            for row in range(len(datafr))]\n",
        "  return data_temp"
      ],
      "execution_count": null,
      "outputs": []
    },
    {
      "cell_type": "markdown",
      "metadata": {
        "id": "xEUxP0xQQ-5n"
      },
      "source": [
        "4. Создание сводной таблицы по пострадавшим и выбранному столбцу title в датафрейме datafr."
      ]
    },
    {
      "cell_type": "code",
      "metadata": {
        "id": "PxmbUctqQ-q8"
      },
      "source": [
        "def uniq_pivot(title_column, datafr):\n",
        "  table_temp = pd.pivot_table(datafr, index=[title_column, 'severity'],\n",
        "                                      values=['injured_count',\n",
        "                                              'participants_count',\n",
        "                                              'dead_count'], aggfunc='sum'\n",
        "                                              ).reset_index()\n",
        "  table_temp['percent_injured'] = round(table_temp['injured_count'\n",
        "                                                    ] / table_temp['participants_count'\n",
        "                                                                  ],2)\n",
        "  table_temp['percent_dead'] = round(table_temp['dead_count'\n",
        "                                                ] / table_temp['participants_count'\n",
        "                                                                ],2)\n",
        "  return table_temp"
      ],
      "execution_count": null,
      "outputs": []
    },
    {
      "cell_type": "markdown",
      "metadata": {
        "id": "DDybUBVmyclC"
      },
      "source": [
        "# **3. План анализа данных**"
      ]
    },
    {
      "cell_type": "markdown",
      "metadata": {
        "id": "RHQhQd6D0JSs"
      },
      "source": [
        "Основная интересующая нас информация:\n",
        "\n",
        "Это зависимость числа пострадавших от того или иного параметра.\n",
        "Это позволяет разбить задачу по анализу данных на уровни сложности:\n",
        "\n",
        "1. Анализ числа аварий для различных дней недели, времени происшествия, района и т.д. То есть для столбцов представляенных в виде одного значения.\n",
        "2. Анализ столбцов представленных листами, т.е. определение связи с погодными условиями, дорожными условиями, типами участников и т.д.\n",
        "3. Анализ столбцов представленными в виде словаря и построение многопараметрического анализа."
      ]
    },
    {
      "cell_type": "markdown",
      "metadata": {
        "id": "0ma4LYzIAsSz"
      },
      "source": [
        "**В работе представлены разборы нескольких случаев для каждого из типов задач.**\n",
        "\n",
        "* Раздел 4 для простых задач\n",
        "* Раздел 5 для второго типа\n",
        "* Раздел 6 для разбора столбцов из словарей\n"
      ]
    },
    {
      "cell_type": "markdown",
      "metadata": {
        "id": "Rsui5NrL1zXx"
      },
      "source": [
        "# **4.1 Анализ числа аварий по дням недели.**"
      ]
    },
    {
      "cell_type": "markdown",
      "metadata": {
        "id": "hcqTrrvTBJLl"
      },
      "source": [
        "Воспользуемся заготовленными функциями и создадим сводную таблицу для данных по дням недели."
      ]
    },
    {
      "cell_type": "code",
      "metadata": {
        "id": "PCvYKYiP2IbQ"
      },
      "source": [
        "table_weekday = uniq_pivot('weekday', data_all)"
      ],
      "execution_count": null,
      "outputs": []
    },
    {
      "cell_type": "code",
      "metadata": {
        "colab": {
          "base_uri": "https://localhost:8080/",
          "height": 542
        },
        "id": "eTTCmZLq4sFn",
        "outputId": "91dd5629-5a70-49f2-bd8c-096939cc66ec"
      },
      "source": [
        "fig = px.bar(table_weekday, x='weekday', y='percent_injured', color='severity')\n",
        "fig.update_layout(barmode='group')\n",
        "fig.show()"
      ],
      "execution_count": null,
      "outputs": [
        {
          "output_type": "display_data",
          "data": {
            "text/html": [
              "<html>\n",
              "<head><meta charset=\"utf-8\" /></head>\n",
              "<body>\n",
              "    <div>\n",
              "            <script src=\"https://cdnjs.cloudflare.com/ajax/libs/mathjax/2.7.5/MathJax.js?config=TeX-AMS-MML_SVG\"></script><script type=\"text/javascript\">if (window.MathJax) {MathJax.Hub.Config({SVG: {font: \"STIX-Web\"}});}</script>\n",
              "                <script type=\"text/javascript\">window.PlotlyConfig = {MathJaxConfig: 'local'};</script>\n",
              "        <script src=\"https://cdn.plot.ly/plotly-latest.min.js\"></script>    \n",
              "            <div id=\"23742151-15cc-4118-b589-70afbf22d063\" class=\"plotly-graph-div\" style=\"height:525px; width:100%;\"></div>\n",
              "            <script type=\"text/javascript\">\n",
              "                \n",
              "                    window.PLOTLYENV=window.PLOTLYENV || {};\n",
              "                    \n",
              "                if (document.getElementById(\"23742151-15cc-4118-b589-70afbf22d063\")) {\n",
              "                    Plotly.newPlot(\n",
              "                        '23742151-15cc-4118-b589-70afbf22d063',\n",
              "                        [{\"alignmentgroup\": \"True\", \"hoverlabel\": {\"namelength\": 0}, \"hovertemplate\": \"severity=\\u041b\\u0435\\u0433\\u043a\\u0438\\u0439<br>weekday=%{x}<br>percent_injured=%{y}\", \"legendgroup\": \"severity=\\u041b\\u0435\\u0433\\u043a\\u0438\\u0439\", \"marker\": {\"color\": \"#636efa\"}, \"name\": \"severity=\\u041b\\u0435\\u0433\\u043a\\u0438\\u0439\", \"offsetgroup\": \"severity=\\u041b\\u0435\\u0433\\u043a\\u0438\\u0439\", \"orientation\": \"v\", \"showlegend\": true, \"textposition\": \"auto\", \"type\": \"bar\", \"x\": [\"Friday\", \"Monday\", \"Saturday\", \"Sunday\", \"Thursday\", \"Tuesday\", \"Wednesday\"], \"xaxis\": \"x\", \"y\": [0.47, 0.47, 0.47, 0.48, 0.47, 0.48, 0.47], \"yaxis\": \"y\"}, {\"alignmentgroup\": \"True\", \"hoverlabel\": {\"namelength\": 0}, \"hovertemplate\": \"severity=\\u0421 \\u043f\\u043e\\u0433\\u0438\\u0431\\u0448\\u0438\\u043c\\u0438<br>weekday=%{x}<br>percent_injured=%{y}\", \"legendgroup\": \"severity=\\u0421 \\u043f\\u043e\\u0433\\u0438\\u0431\\u0448\\u0438\\u043c\\u0438\", \"marker\": {\"color\": \"#EF553B\"}, \"name\": \"severity=\\u0421 \\u043f\\u043e\\u0433\\u0438\\u0431\\u0448\\u0438\\u043c\\u0438\", \"offsetgroup\": \"severity=\\u0421 \\u043f\\u043e\\u0433\\u0438\\u0431\\u0448\\u0438\\u043c\\u0438\", \"orientation\": \"v\", \"showlegend\": true, \"textposition\": \"auto\", \"type\": \"bar\", \"x\": [\"Friday\", \"Monday\", \"Saturday\", \"Sunday\", \"Thursday\", \"Tuesday\", \"Wednesday\"], \"xaxis\": \"x\", \"y\": [0.13, 0.18, 0.21, 0.22, 0.14, 0.16, 0.17], \"yaxis\": \"y\"}, {\"alignmentgroup\": \"True\", \"hoverlabel\": {\"namelength\": 0}, \"hovertemplate\": \"severity=\\u0422\\u044f\\u0436\\u0451\\u043b\\u044b\\u0439<br>weekday=%{x}<br>percent_injured=%{y}\", \"legendgroup\": \"severity=\\u0422\\u044f\\u0436\\u0451\\u043b\\u044b\\u0439\", \"marker\": {\"color\": \"#00cc96\"}, \"name\": \"severity=\\u0422\\u044f\\u0436\\u0451\\u043b\\u044b\\u0439\", \"offsetgroup\": \"severity=\\u0422\\u044f\\u0436\\u0451\\u043b\\u044b\\u0439\", \"orientation\": \"v\", \"showlegend\": true, \"textposition\": \"auto\", \"type\": \"bar\", \"x\": [\"Friday\", \"Monday\", \"Saturday\", \"Sunday\", \"Thursday\", \"Tuesday\", \"Wednesday\"], \"xaxis\": \"x\", \"y\": [0.52, 0.52, 0.53, 0.55, 0.52, 0.52, 0.52], \"yaxis\": \"y\"}],\n",
              "                        {\"barmode\": \"group\", \"legend\": {\"tracegroupgap\": 0}, \"margin\": {\"t\": 60}, \"template\": {\"data\": {\"bar\": [{\"error_x\": {\"color\": \"#2a3f5f\"}, \"error_y\": {\"color\": \"#2a3f5f\"}, \"marker\": {\"line\": {\"color\": \"#E5ECF6\", \"width\": 0.5}}, \"type\": \"bar\"}], \"barpolar\": [{\"marker\": {\"line\": {\"color\": \"#E5ECF6\", \"width\": 0.5}}, \"type\": \"barpolar\"}], \"carpet\": [{\"aaxis\": {\"endlinecolor\": \"#2a3f5f\", \"gridcolor\": \"white\", \"linecolor\": \"white\", \"minorgridcolor\": \"white\", \"startlinecolor\": \"#2a3f5f\"}, \"baxis\": {\"endlinecolor\": \"#2a3f5f\", \"gridcolor\": \"white\", \"linecolor\": \"white\", \"minorgridcolor\": \"white\", \"startlinecolor\": \"#2a3f5f\"}, \"type\": \"carpet\"}], \"choropleth\": [{\"colorbar\": {\"outlinewidth\": 0, \"ticks\": \"\"}, \"type\": \"choropleth\"}], \"contour\": [{\"colorbar\": {\"outlinewidth\": 0, \"ticks\": \"\"}, \"colorscale\": [[0.0, \"#0d0887\"], [0.1111111111111111, \"#46039f\"], [0.2222222222222222, \"#7201a8\"], [0.3333333333333333, \"#9c179e\"], [0.4444444444444444, \"#bd3786\"], [0.5555555555555556, \"#d8576b\"], [0.6666666666666666, \"#ed7953\"], [0.7777777777777778, \"#fb9f3a\"], [0.8888888888888888, \"#fdca26\"], [1.0, \"#f0f921\"]], \"type\": \"contour\"}], \"contourcarpet\": [{\"colorbar\": {\"outlinewidth\": 0, \"ticks\": \"\"}, \"type\": \"contourcarpet\"}], \"heatmap\": [{\"colorbar\": {\"outlinewidth\": 0, \"ticks\": \"\"}, \"colorscale\": [[0.0, \"#0d0887\"], [0.1111111111111111, \"#46039f\"], [0.2222222222222222, \"#7201a8\"], [0.3333333333333333, \"#9c179e\"], [0.4444444444444444, \"#bd3786\"], [0.5555555555555556, \"#d8576b\"], [0.6666666666666666, \"#ed7953\"], [0.7777777777777778, \"#fb9f3a\"], [0.8888888888888888, \"#fdca26\"], [1.0, \"#f0f921\"]], \"type\": \"heatmap\"}], \"heatmapgl\": [{\"colorbar\": {\"outlinewidth\": 0, \"ticks\": \"\"}, \"colorscale\": [[0.0, \"#0d0887\"], [0.1111111111111111, \"#46039f\"], [0.2222222222222222, \"#7201a8\"], [0.3333333333333333, \"#9c179e\"], [0.4444444444444444, \"#bd3786\"], [0.5555555555555556, \"#d8576b\"], [0.6666666666666666, \"#ed7953\"], [0.7777777777777778, \"#fb9f3a\"], [0.8888888888888888, \"#fdca26\"], [1.0, \"#f0f921\"]], \"type\": \"heatmapgl\"}], \"histogram\": [{\"marker\": {\"colorbar\": {\"outlinewidth\": 0, \"ticks\": \"\"}}, \"type\": \"histogram\"}], \"histogram2d\": [{\"colorbar\": {\"outlinewidth\": 0, \"ticks\": \"\"}, \"colorscale\": [[0.0, \"#0d0887\"], [0.1111111111111111, \"#46039f\"], [0.2222222222222222, \"#7201a8\"], [0.3333333333333333, \"#9c179e\"], [0.4444444444444444, \"#bd3786\"], [0.5555555555555556, \"#d8576b\"], [0.6666666666666666, \"#ed7953\"], [0.7777777777777778, \"#fb9f3a\"], [0.8888888888888888, \"#fdca26\"], [1.0, \"#f0f921\"]], \"type\": \"histogram2d\"}], \"histogram2dcontour\": [{\"colorbar\": {\"outlinewidth\": 0, \"ticks\": \"\"}, \"colorscale\": [[0.0, \"#0d0887\"], [0.1111111111111111, \"#46039f\"], [0.2222222222222222, \"#7201a8\"], [0.3333333333333333, \"#9c179e\"], [0.4444444444444444, \"#bd3786\"], [0.5555555555555556, \"#d8576b\"], [0.6666666666666666, \"#ed7953\"], [0.7777777777777778, \"#fb9f3a\"], [0.8888888888888888, \"#fdca26\"], [1.0, \"#f0f921\"]], \"type\": \"histogram2dcontour\"}], \"mesh3d\": [{\"colorbar\": {\"outlinewidth\": 0, \"ticks\": \"\"}, \"type\": \"mesh3d\"}], \"parcoords\": [{\"line\": {\"colorbar\": {\"outlinewidth\": 0, \"ticks\": \"\"}}, \"type\": \"parcoords\"}], \"pie\": [{\"automargin\": true, \"type\": \"pie\"}], \"scatter\": [{\"marker\": {\"colorbar\": {\"outlinewidth\": 0, \"ticks\": \"\"}}, \"type\": \"scatter\"}], \"scatter3d\": [{\"line\": {\"colorbar\": {\"outlinewidth\": 0, \"ticks\": \"\"}}, \"marker\": {\"colorbar\": {\"outlinewidth\": 0, \"ticks\": \"\"}}, \"type\": \"scatter3d\"}], \"scattercarpet\": [{\"marker\": {\"colorbar\": {\"outlinewidth\": 0, \"ticks\": \"\"}}, \"type\": \"scattercarpet\"}], \"scattergeo\": [{\"marker\": {\"colorbar\": {\"outlinewidth\": 0, \"ticks\": \"\"}}, \"type\": \"scattergeo\"}], \"scattergl\": [{\"marker\": {\"colorbar\": {\"outlinewidth\": 0, \"ticks\": \"\"}}, \"type\": \"scattergl\"}], \"scattermapbox\": [{\"marker\": {\"colorbar\": {\"outlinewidth\": 0, \"ticks\": \"\"}}, \"type\": \"scattermapbox\"}], \"scatterpolar\": [{\"marker\": {\"colorbar\": {\"outlinewidth\": 0, \"ticks\": \"\"}}, \"type\": \"scatterpolar\"}], \"scatterpolargl\": [{\"marker\": {\"colorbar\": {\"outlinewidth\": 0, \"ticks\": \"\"}}, \"type\": \"scatterpolargl\"}], \"scatterternary\": [{\"marker\": {\"colorbar\": {\"outlinewidth\": 0, \"ticks\": \"\"}}, \"type\": \"scatterternary\"}], \"surface\": [{\"colorbar\": {\"outlinewidth\": 0, \"ticks\": \"\"}, \"colorscale\": [[0.0, \"#0d0887\"], [0.1111111111111111, \"#46039f\"], [0.2222222222222222, \"#7201a8\"], [0.3333333333333333, \"#9c179e\"], [0.4444444444444444, \"#bd3786\"], [0.5555555555555556, \"#d8576b\"], [0.6666666666666666, \"#ed7953\"], [0.7777777777777778, \"#fb9f3a\"], [0.8888888888888888, \"#fdca26\"], [1.0, \"#f0f921\"]], \"type\": \"surface\"}], \"table\": [{\"cells\": {\"fill\": {\"color\": \"#EBF0F8\"}, \"line\": {\"color\": \"white\"}}, \"header\": {\"fill\": {\"color\": \"#C8D4E3\"}, \"line\": {\"color\": \"white\"}}, \"type\": \"table\"}]}, \"layout\": {\"annotationdefaults\": {\"arrowcolor\": \"#2a3f5f\", \"arrowhead\": 0, \"arrowwidth\": 1}, \"coloraxis\": {\"colorbar\": {\"outlinewidth\": 0, \"ticks\": \"\"}}, \"colorscale\": {\"diverging\": [[0, \"#8e0152\"], [0.1, \"#c51b7d\"], [0.2, \"#de77ae\"], [0.3, \"#f1b6da\"], [0.4, \"#fde0ef\"], [0.5, \"#f7f7f7\"], [0.6, \"#e6f5d0\"], [0.7, \"#b8e186\"], [0.8, \"#7fbc41\"], [0.9, \"#4d9221\"], [1, \"#276419\"]], \"sequential\": [[0.0, \"#0d0887\"], [0.1111111111111111, \"#46039f\"], [0.2222222222222222, \"#7201a8\"], [0.3333333333333333, \"#9c179e\"], [0.4444444444444444, \"#bd3786\"], [0.5555555555555556, \"#d8576b\"], [0.6666666666666666, \"#ed7953\"], [0.7777777777777778, \"#fb9f3a\"], [0.8888888888888888, \"#fdca26\"], [1.0, \"#f0f921\"]], \"sequentialminus\": [[0.0, \"#0d0887\"], [0.1111111111111111, \"#46039f\"], [0.2222222222222222, \"#7201a8\"], [0.3333333333333333, \"#9c179e\"], [0.4444444444444444, \"#bd3786\"], [0.5555555555555556, \"#d8576b\"], [0.6666666666666666, \"#ed7953\"], [0.7777777777777778, \"#fb9f3a\"], [0.8888888888888888, \"#fdca26\"], [1.0, \"#f0f921\"]]}, \"colorway\": [\"#636efa\", \"#EF553B\", \"#00cc96\", \"#ab63fa\", \"#FFA15A\", \"#19d3f3\", \"#FF6692\", \"#B6E880\", \"#FF97FF\", \"#FECB52\"], \"font\": {\"color\": \"#2a3f5f\"}, \"geo\": {\"bgcolor\": \"white\", \"lakecolor\": \"white\", \"landcolor\": \"#E5ECF6\", \"showlakes\": true, \"showland\": true, \"subunitcolor\": \"white\"}, \"hoverlabel\": {\"align\": \"left\"}, \"hovermode\": \"closest\", \"mapbox\": {\"style\": \"light\"}, \"paper_bgcolor\": \"white\", \"plot_bgcolor\": \"#E5ECF6\", \"polar\": {\"angularaxis\": {\"gridcolor\": \"white\", \"linecolor\": \"white\", \"ticks\": \"\"}, \"bgcolor\": \"#E5ECF6\", \"radialaxis\": {\"gridcolor\": \"white\", \"linecolor\": \"white\", \"ticks\": \"\"}}, \"scene\": {\"xaxis\": {\"backgroundcolor\": \"#E5ECF6\", \"gridcolor\": \"white\", \"gridwidth\": 2, \"linecolor\": \"white\", \"showbackground\": true, \"ticks\": \"\", \"zerolinecolor\": \"white\"}, \"yaxis\": {\"backgroundcolor\": \"#E5ECF6\", \"gridcolor\": \"white\", \"gridwidth\": 2, \"linecolor\": \"white\", \"showbackground\": true, \"ticks\": \"\", \"zerolinecolor\": \"white\"}, \"zaxis\": {\"backgroundcolor\": \"#E5ECF6\", \"gridcolor\": \"white\", \"gridwidth\": 2, \"linecolor\": \"white\", \"showbackground\": true, \"ticks\": \"\", \"zerolinecolor\": \"white\"}}, \"shapedefaults\": {\"line\": {\"color\": \"#2a3f5f\"}}, \"ternary\": {\"aaxis\": {\"gridcolor\": \"white\", \"linecolor\": \"white\", \"ticks\": \"\"}, \"baxis\": {\"gridcolor\": \"white\", \"linecolor\": \"white\", \"ticks\": \"\"}, \"bgcolor\": \"#E5ECF6\", \"caxis\": {\"gridcolor\": \"white\", \"linecolor\": \"white\", \"ticks\": \"\"}}, \"title\": {\"x\": 0.05}, \"xaxis\": {\"automargin\": true, \"gridcolor\": \"white\", \"linecolor\": \"white\", \"ticks\": \"\", \"title\": {\"standoff\": 15}, \"zerolinecolor\": \"white\", \"zerolinewidth\": 2}, \"yaxis\": {\"automargin\": true, \"gridcolor\": \"white\", \"linecolor\": \"white\", \"ticks\": \"\", \"title\": {\"standoff\": 15}, \"zerolinecolor\": \"white\", \"zerolinewidth\": 2}}}, \"xaxis\": {\"anchor\": \"y\", \"domain\": [0.0, 1.0], \"title\": {\"text\": \"weekday\"}}, \"yaxis\": {\"anchor\": \"x\", \"domain\": [0.0, 1.0], \"title\": {\"text\": \"percent_injured\"}}},\n",
              "                        {\"responsive\": true}\n",
              "                    ).then(function(){\n",
              "                            \n",
              "var gd = document.getElementById('23742151-15cc-4118-b589-70afbf22d063');\n",
              "var x = new MutationObserver(function (mutations, observer) {{\n",
              "        var display = window.getComputedStyle(gd).display;\n",
              "        if (!display || display === 'none') {{\n",
              "            console.log([gd, 'removed!']);\n",
              "            Plotly.purge(gd);\n",
              "            observer.disconnect();\n",
              "        }}\n",
              "}});\n",
              "\n",
              "// Listen for the removal of the full notebook cells\n",
              "var notebookContainer = gd.closest('#notebook-container');\n",
              "if (notebookContainer) {{\n",
              "    x.observe(notebookContainer, {childList: true});\n",
              "}}\n",
              "\n",
              "// Listen for the clearing of the current output cell\n",
              "var outputEl = gd.closest('.output');\n",
              "if (outputEl) {{\n",
              "    x.observe(outputEl, {childList: true});\n",
              "}}\n",
              "\n",
              "                        })\n",
              "                };\n",
              "                \n",
              "            </script>\n",
              "        </div>\n",
              "</body>\n",
              "</html>"
            ]
          },
          "metadata": {}
        }
      ]
    },
    {
      "cell_type": "code",
      "metadata": {
        "colab": {
          "base_uri": "https://localhost:8080/",
          "height": 542
        },
        "id": "ncOdST7l5XJV",
        "outputId": "a724c951-9a46-4263-c909-5eaba6509ef5"
      },
      "source": [
        "px.bar(table_weekday, x='weekday', y='percent_dead')"
      ],
      "execution_count": null,
      "outputs": [
        {
          "output_type": "display_data",
          "data": {
            "text/html": [
              "<html>\n",
              "<head><meta charset=\"utf-8\" /></head>\n",
              "<body>\n",
              "    <div>\n",
              "            <script src=\"https://cdnjs.cloudflare.com/ajax/libs/mathjax/2.7.5/MathJax.js?config=TeX-AMS-MML_SVG\"></script><script type=\"text/javascript\">if (window.MathJax) {MathJax.Hub.Config({SVG: {font: \"STIX-Web\"}});}</script>\n",
              "                <script type=\"text/javascript\">window.PlotlyConfig = {MathJaxConfig: 'local'};</script>\n",
              "        <script src=\"https://cdn.plot.ly/plotly-latest.min.js\"></script>    \n",
              "            <div id=\"9ff08838-a766-437f-849c-6d46915a3fe6\" class=\"plotly-graph-div\" style=\"height:525px; width:100%;\"></div>\n",
              "            <script type=\"text/javascript\">\n",
              "                \n",
              "                    window.PLOTLYENV=window.PLOTLYENV || {};\n",
              "                    \n",
              "                if (document.getElementById(\"9ff08838-a766-437f-849c-6d46915a3fe6\")) {\n",
              "                    Plotly.newPlot(\n",
              "                        '9ff08838-a766-437f-849c-6d46915a3fe6',\n",
              "                        [{\"alignmentgroup\": \"True\", \"hoverlabel\": {\"namelength\": 0}, \"hovertemplate\": \"weekday=%{x}<br>percent_dead=%{y}\", \"legendgroup\": \"\", \"marker\": {\"color\": \"#636efa\"}, \"name\": \"\", \"offsetgroup\": \"\", \"orientation\": \"v\", \"showlegend\": false, \"textposition\": \"auto\", \"type\": \"bar\", \"x\": [\"Friday\", \"Friday\", \"Friday\", \"Monday\", \"Monday\", \"Monday\", \"Saturday\", \"Saturday\", \"Saturday\", \"Sunday\", \"Sunday\", \"Sunday\", \"Thursday\", \"Thursday\", \"Thursday\", \"Tuesday\", \"Tuesday\", \"Tuesday\", \"Wednesday\", \"Wednesday\", \"Wednesday\"], \"xaxis\": \"x\", \"y\": [0.0, 0.44, 0.0, 0.0, 0.43, 0.0, 0.0, 0.43, 0.0, 0.0, 0.43, 0.0, 0.0, 0.45, 0.0, 0.0, 0.43, 0.0, 0.0, 0.43, 0.0], \"yaxis\": \"y\"}],\n",
              "                        {\"barmode\": \"relative\", \"legend\": {\"tracegroupgap\": 0}, \"margin\": {\"t\": 60}, \"template\": {\"data\": {\"bar\": [{\"error_x\": {\"color\": \"#2a3f5f\"}, \"error_y\": {\"color\": \"#2a3f5f\"}, \"marker\": {\"line\": {\"color\": \"#E5ECF6\", \"width\": 0.5}}, \"type\": \"bar\"}], \"barpolar\": [{\"marker\": {\"line\": {\"color\": \"#E5ECF6\", \"width\": 0.5}}, \"type\": \"barpolar\"}], \"carpet\": [{\"aaxis\": {\"endlinecolor\": \"#2a3f5f\", \"gridcolor\": \"white\", \"linecolor\": \"white\", \"minorgridcolor\": \"white\", \"startlinecolor\": \"#2a3f5f\"}, \"baxis\": {\"endlinecolor\": \"#2a3f5f\", \"gridcolor\": \"white\", \"linecolor\": \"white\", \"minorgridcolor\": \"white\", \"startlinecolor\": \"#2a3f5f\"}, \"type\": \"carpet\"}], \"choropleth\": [{\"colorbar\": {\"outlinewidth\": 0, \"ticks\": \"\"}, \"type\": \"choropleth\"}], \"contour\": [{\"colorbar\": {\"outlinewidth\": 0, \"ticks\": \"\"}, \"colorscale\": [[0.0, \"#0d0887\"], [0.1111111111111111, \"#46039f\"], [0.2222222222222222, \"#7201a8\"], [0.3333333333333333, \"#9c179e\"], [0.4444444444444444, \"#bd3786\"], [0.5555555555555556, \"#d8576b\"], [0.6666666666666666, \"#ed7953\"], [0.7777777777777778, \"#fb9f3a\"], [0.8888888888888888, \"#fdca26\"], [1.0, \"#f0f921\"]], \"type\": \"contour\"}], \"contourcarpet\": [{\"colorbar\": {\"outlinewidth\": 0, \"ticks\": \"\"}, \"type\": \"contourcarpet\"}], \"heatmap\": [{\"colorbar\": {\"outlinewidth\": 0, \"ticks\": \"\"}, \"colorscale\": [[0.0, \"#0d0887\"], [0.1111111111111111, \"#46039f\"], [0.2222222222222222, \"#7201a8\"], [0.3333333333333333, \"#9c179e\"], [0.4444444444444444, \"#bd3786\"], [0.5555555555555556, \"#d8576b\"], [0.6666666666666666, \"#ed7953\"], [0.7777777777777778, \"#fb9f3a\"], [0.8888888888888888, \"#fdca26\"], [1.0, \"#f0f921\"]], \"type\": \"heatmap\"}], \"heatmapgl\": [{\"colorbar\": {\"outlinewidth\": 0, \"ticks\": \"\"}, \"colorscale\": [[0.0, \"#0d0887\"], [0.1111111111111111, \"#46039f\"], [0.2222222222222222, \"#7201a8\"], [0.3333333333333333, \"#9c179e\"], [0.4444444444444444, \"#bd3786\"], [0.5555555555555556, \"#d8576b\"], [0.6666666666666666, \"#ed7953\"], [0.7777777777777778, \"#fb9f3a\"], [0.8888888888888888, \"#fdca26\"], [1.0, \"#f0f921\"]], \"type\": \"heatmapgl\"}], \"histogram\": [{\"marker\": {\"colorbar\": {\"outlinewidth\": 0, \"ticks\": \"\"}}, \"type\": \"histogram\"}], \"histogram2d\": [{\"colorbar\": {\"outlinewidth\": 0, \"ticks\": \"\"}, \"colorscale\": [[0.0, \"#0d0887\"], [0.1111111111111111, \"#46039f\"], [0.2222222222222222, \"#7201a8\"], [0.3333333333333333, \"#9c179e\"], [0.4444444444444444, \"#bd3786\"], [0.5555555555555556, \"#d8576b\"], [0.6666666666666666, \"#ed7953\"], [0.7777777777777778, \"#fb9f3a\"], [0.8888888888888888, \"#fdca26\"], [1.0, \"#f0f921\"]], \"type\": \"histogram2d\"}], \"histogram2dcontour\": [{\"colorbar\": {\"outlinewidth\": 0, \"ticks\": \"\"}, \"colorscale\": [[0.0, \"#0d0887\"], [0.1111111111111111, \"#46039f\"], [0.2222222222222222, \"#7201a8\"], [0.3333333333333333, \"#9c179e\"], [0.4444444444444444, \"#bd3786\"], [0.5555555555555556, \"#d8576b\"], [0.6666666666666666, \"#ed7953\"], [0.7777777777777778, \"#fb9f3a\"], [0.8888888888888888, \"#fdca26\"], [1.0, \"#f0f921\"]], \"type\": \"histogram2dcontour\"}], \"mesh3d\": [{\"colorbar\": {\"outlinewidth\": 0, \"ticks\": \"\"}, \"type\": \"mesh3d\"}], \"parcoords\": [{\"line\": {\"colorbar\": {\"outlinewidth\": 0, \"ticks\": \"\"}}, \"type\": \"parcoords\"}], \"pie\": [{\"automargin\": true, \"type\": \"pie\"}], \"scatter\": [{\"marker\": {\"colorbar\": {\"outlinewidth\": 0, \"ticks\": \"\"}}, \"type\": \"scatter\"}], \"scatter3d\": [{\"line\": {\"colorbar\": {\"outlinewidth\": 0, \"ticks\": \"\"}}, \"marker\": {\"colorbar\": {\"outlinewidth\": 0, \"ticks\": \"\"}}, \"type\": \"scatter3d\"}], \"scattercarpet\": [{\"marker\": {\"colorbar\": {\"outlinewidth\": 0, \"ticks\": \"\"}}, \"type\": \"scattercarpet\"}], \"scattergeo\": [{\"marker\": {\"colorbar\": {\"outlinewidth\": 0, \"ticks\": \"\"}}, \"type\": \"scattergeo\"}], \"scattergl\": [{\"marker\": {\"colorbar\": {\"outlinewidth\": 0, \"ticks\": \"\"}}, \"type\": \"scattergl\"}], \"scattermapbox\": [{\"marker\": {\"colorbar\": {\"outlinewidth\": 0, \"ticks\": \"\"}}, \"type\": \"scattermapbox\"}], \"scatterpolar\": [{\"marker\": {\"colorbar\": {\"outlinewidth\": 0, \"ticks\": \"\"}}, \"type\": \"scatterpolar\"}], \"scatterpolargl\": [{\"marker\": {\"colorbar\": {\"outlinewidth\": 0, \"ticks\": \"\"}}, \"type\": \"scatterpolargl\"}], \"scatterternary\": [{\"marker\": {\"colorbar\": {\"outlinewidth\": 0, \"ticks\": \"\"}}, \"type\": \"scatterternary\"}], \"surface\": [{\"colorbar\": {\"outlinewidth\": 0, \"ticks\": \"\"}, \"colorscale\": [[0.0, \"#0d0887\"], [0.1111111111111111, \"#46039f\"], [0.2222222222222222, \"#7201a8\"], [0.3333333333333333, \"#9c179e\"], [0.4444444444444444, \"#bd3786\"], [0.5555555555555556, \"#d8576b\"], [0.6666666666666666, \"#ed7953\"], [0.7777777777777778, \"#fb9f3a\"], [0.8888888888888888, \"#fdca26\"], [1.0, \"#f0f921\"]], \"type\": \"surface\"}], \"table\": [{\"cells\": {\"fill\": {\"color\": \"#EBF0F8\"}, \"line\": {\"color\": \"white\"}}, \"header\": {\"fill\": {\"color\": \"#C8D4E3\"}, \"line\": {\"color\": \"white\"}}, \"type\": \"table\"}]}, \"layout\": {\"annotationdefaults\": {\"arrowcolor\": \"#2a3f5f\", \"arrowhead\": 0, \"arrowwidth\": 1}, \"coloraxis\": {\"colorbar\": {\"outlinewidth\": 0, \"ticks\": \"\"}}, \"colorscale\": {\"diverging\": [[0, \"#8e0152\"], [0.1, \"#c51b7d\"], [0.2, \"#de77ae\"], [0.3, \"#f1b6da\"], [0.4, \"#fde0ef\"], [0.5, \"#f7f7f7\"], [0.6, \"#e6f5d0\"], [0.7, \"#b8e186\"], [0.8, \"#7fbc41\"], [0.9, \"#4d9221\"], [1, \"#276419\"]], \"sequential\": [[0.0, \"#0d0887\"], [0.1111111111111111, \"#46039f\"], [0.2222222222222222, \"#7201a8\"], [0.3333333333333333, \"#9c179e\"], [0.4444444444444444, \"#bd3786\"], [0.5555555555555556, \"#d8576b\"], [0.6666666666666666, \"#ed7953\"], [0.7777777777777778, \"#fb9f3a\"], [0.8888888888888888, \"#fdca26\"], [1.0, \"#f0f921\"]], \"sequentialminus\": [[0.0, \"#0d0887\"], [0.1111111111111111, \"#46039f\"], [0.2222222222222222, \"#7201a8\"], [0.3333333333333333, \"#9c179e\"], [0.4444444444444444, \"#bd3786\"], [0.5555555555555556, \"#d8576b\"], [0.6666666666666666, \"#ed7953\"], [0.7777777777777778, \"#fb9f3a\"], [0.8888888888888888, \"#fdca26\"], [1.0, \"#f0f921\"]]}, \"colorway\": [\"#636efa\", \"#EF553B\", \"#00cc96\", \"#ab63fa\", \"#FFA15A\", \"#19d3f3\", \"#FF6692\", \"#B6E880\", \"#FF97FF\", \"#FECB52\"], \"font\": {\"color\": \"#2a3f5f\"}, \"geo\": {\"bgcolor\": \"white\", \"lakecolor\": \"white\", \"landcolor\": \"#E5ECF6\", \"showlakes\": true, \"showland\": true, \"subunitcolor\": \"white\"}, \"hoverlabel\": {\"align\": \"left\"}, \"hovermode\": \"closest\", \"mapbox\": {\"style\": \"light\"}, \"paper_bgcolor\": \"white\", \"plot_bgcolor\": \"#E5ECF6\", \"polar\": {\"angularaxis\": {\"gridcolor\": \"white\", \"linecolor\": \"white\", \"ticks\": \"\"}, \"bgcolor\": \"#E5ECF6\", \"radialaxis\": {\"gridcolor\": \"white\", \"linecolor\": \"white\", \"ticks\": \"\"}}, \"scene\": {\"xaxis\": {\"backgroundcolor\": \"#E5ECF6\", \"gridcolor\": \"white\", \"gridwidth\": 2, \"linecolor\": \"white\", \"showbackground\": true, \"ticks\": \"\", \"zerolinecolor\": \"white\"}, \"yaxis\": {\"backgroundcolor\": \"#E5ECF6\", \"gridcolor\": \"white\", \"gridwidth\": 2, \"linecolor\": \"white\", \"showbackground\": true, \"ticks\": \"\", \"zerolinecolor\": \"white\"}, \"zaxis\": {\"backgroundcolor\": \"#E5ECF6\", \"gridcolor\": \"white\", \"gridwidth\": 2, \"linecolor\": \"white\", \"showbackground\": true, \"ticks\": \"\", \"zerolinecolor\": \"white\"}}, \"shapedefaults\": {\"line\": {\"color\": \"#2a3f5f\"}}, \"ternary\": {\"aaxis\": {\"gridcolor\": \"white\", \"linecolor\": \"white\", \"ticks\": \"\"}, \"baxis\": {\"gridcolor\": \"white\", \"linecolor\": \"white\", \"ticks\": \"\"}, \"bgcolor\": \"#E5ECF6\", \"caxis\": {\"gridcolor\": \"white\", \"linecolor\": \"white\", \"ticks\": \"\"}}, \"title\": {\"x\": 0.05}, \"xaxis\": {\"automargin\": true, \"gridcolor\": \"white\", \"linecolor\": \"white\", \"ticks\": \"\", \"title\": {\"standoff\": 15}, \"zerolinecolor\": \"white\", \"zerolinewidth\": 2}, \"yaxis\": {\"automargin\": true, \"gridcolor\": \"white\", \"linecolor\": \"white\", \"ticks\": \"\", \"title\": {\"standoff\": 15}, \"zerolinecolor\": \"white\", \"zerolinewidth\": 2}}}, \"xaxis\": {\"anchor\": \"y\", \"domain\": [0.0, 1.0], \"title\": {\"text\": \"weekday\"}}, \"yaxis\": {\"anchor\": \"x\", \"domain\": [0.0, 1.0], \"title\": {\"text\": \"percent_dead\"}}},\n",
              "                        {\"responsive\": true}\n",
              "                    ).then(function(){\n",
              "                            \n",
              "var gd = document.getElementById('9ff08838-a766-437f-849c-6d46915a3fe6');\n",
              "var x = new MutationObserver(function (mutations, observer) {{\n",
              "        var display = window.getComputedStyle(gd).display;\n",
              "        if (!display || display === 'none') {{\n",
              "            console.log([gd, 'removed!']);\n",
              "            Plotly.purge(gd);\n",
              "            observer.disconnect();\n",
              "        }}\n",
              "}});\n",
              "\n",
              "// Listen for the removal of the full notebook cells\n",
              "var notebookContainer = gd.closest('#notebook-container');\n",
              "if (notebookContainer) {{\n",
              "    x.observe(notebookContainer, {childList: true});\n",
              "}}\n",
              "\n",
              "// Listen for the clearing of the current output cell\n",
              "var outputEl = gd.closest('.output');\n",
              "if (outputEl) {{\n",
              "    x.observe(outputEl, {childList: true});\n",
              "}}\n",
              "\n",
              "                        })\n",
              "                };\n",
              "                \n",
              "            </script>\n",
              "        </div>\n",
              "</body>\n",
              "</html>"
            ]
          },
          "metadata": {}
        }
      ]
    },
    {
      "cell_type": "markdown",
      "metadata": {
        "id": "3KjUr6Ro5XWX"
      },
      "source": [
        "# **4.2 Анализ числа аварий по времени.**"
      ]
    },
    {
      "cell_type": "markdown",
      "metadata": {
        "id": "ueP0L6SmBRk-"
      },
      "source": [
        "Воспользуемся заготовленными функциями и создадим сводную таблицу для данных по часам."
      ]
    },
    {
      "cell_type": "code",
      "metadata": {
        "id": "IBheVD0V5XWZ"
      },
      "source": [
        "table_time = uniq_pivot('hour', data_all)"
      ],
      "execution_count": null,
      "outputs": []
    },
    {
      "cell_type": "code",
      "metadata": {
        "colab": {
          "base_uri": "https://localhost:8080/",
          "height": 542
        },
        "id": "NaOJ1Szm5XWZ",
        "outputId": "2a6989b6-d3f5-460d-c82c-cfc48913cba3"
      },
      "source": [
        "fig = px.bar(table_time, x='hour', y='percent_injured', color='severity')\n",
        "fig.update_layout(barmode='group')\n",
        "fig.show()"
      ],
      "execution_count": null,
      "outputs": [
        {
          "output_type": "display_data",
          "data": {
            "text/html": [
              "<html>\n",
              "<head><meta charset=\"utf-8\" /></head>\n",
              "<body>\n",
              "    <div>\n",
              "            <script src=\"https://cdnjs.cloudflare.com/ajax/libs/mathjax/2.7.5/MathJax.js?config=TeX-AMS-MML_SVG\"></script><script type=\"text/javascript\">if (window.MathJax) {MathJax.Hub.Config({SVG: {font: \"STIX-Web\"}});}</script>\n",
              "                <script type=\"text/javascript\">window.PlotlyConfig = {MathJaxConfig: 'local'};</script>\n",
              "        <script src=\"https://cdn.plot.ly/plotly-latest.min.js\"></script>    \n",
              "            <div id=\"6c31da43-ba7e-4ffe-af7b-1e80f37410da\" class=\"plotly-graph-div\" style=\"height:525px; width:100%;\"></div>\n",
              "            <script type=\"text/javascript\">\n",
              "                \n",
              "                    window.PLOTLYENV=window.PLOTLYENV || {};\n",
              "                    \n",
              "                if (document.getElementById(\"6c31da43-ba7e-4ffe-af7b-1e80f37410da\")) {\n",
              "                    Plotly.newPlot(\n",
              "                        '6c31da43-ba7e-4ffe-af7b-1e80f37410da',\n",
              "                        [{\"alignmentgroup\": \"True\", \"hoverlabel\": {\"namelength\": 0}, \"hovertemplate\": \"severity=\\u041b\\u0435\\u0433\\u043a\\u0438\\u0439<br>hour=%{x}<br>percent_injured=%{y}\", \"legendgroup\": \"severity=\\u041b\\u0435\\u0433\\u043a\\u0438\\u0439\", \"marker\": {\"color\": \"#636efa\"}, \"name\": \"severity=\\u041b\\u0435\\u0433\\u043a\\u0438\\u0439\", \"offsetgroup\": \"severity=\\u041b\\u0435\\u0433\\u043a\\u0438\\u0439\", \"orientation\": \"v\", \"showlegend\": true, \"textposition\": \"auto\", \"type\": \"bar\", \"x\": [0, 1, 2, 3, 4, 5, 6, 7, 8, 9, 10, 11, 12, 13, 14, 15, 16, 17, 18, 19, 20, 21, 22, 23], \"xaxis\": \"x\", \"y\": [0.48, 0.49, 0.5, 0.52, 0.51, 0.52, 0.47, 0.48, 0.46, 0.46, 0.47, 0.46, 0.47, 0.46, 0.47, 0.47, 0.47, 0.48, 0.47, 0.47, 0.47, 0.48, 0.48, 0.48], \"yaxis\": \"y\"}, {\"alignmentgroup\": \"True\", \"hoverlabel\": {\"namelength\": 0}, \"hovertemplate\": \"severity=\\u0421 \\u043f\\u043e\\u0433\\u0438\\u0431\\u0448\\u0438\\u043c\\u0438<br>hour=%{x}<br>percent_injured=%{y}\", \"legendgroup\": \"severity=\\u0421 \\u043f\\u043e\\u0433\\u0438\\u0431\\u0448\\u0438\\u043c\\u0438\", \"marker\": {\"color\": \"#EF553B\"}, \"name\": \"severity=\\u0421 \\u043f\\u043e\\u0433\\u0438\\u0431\\u0448\\u0438\\u043c\\u0438\", \"offsetgroup\": \"severity=\\u0421 \\u043f\\u043e\\u0433\\u0438\\u0431\\u0448\\u0438\\u043c\\u0438\", \"orientation\": \"v\", \"showlegend\": true, \"textposition\": \"auto\", \"type\": \"bar\", \"x\": [0, 1, 2, 3, 4, 5, 6, 7, 8, 9, 10, 11, 12, 13, 14, 15, 16, 17, 18, 19, 20, 21, 22, 23], \"xaxis\": \"x\", \"y\": [0.22, 0.24, 0.21, 0.2, 0.23, 0.26, 0.29, 0.16, 0.18, 0.16, 0.16, 0.11, 0.16, 0.15, 0.16, 0.13, 0.17, 0.12, 0.11, 0.14, 0.13, 0.14, 0.2, 0.23], \"yaxis\": \"y\"}, {\"alignmentgroup\": \"True\", \"hoverlabel\": {\"namelength\": 0}, \"hovertemplate\": \"severity=\\u0422\\u044f\\u0436\\u0451\\u043b\\u044b\\u0439<br>hour=%{x}<br>percent_injured=%{y}\", \"legendgroup\": \"severity=\\u0422\\u044f\\u0436\\u0451\\u043b\\u044b\\u0439\", \"marker\": {\"color\": \"#00cc96\"}, \"name\": \"severity=\\u0422\\u044f\\u0436\\u0451\\u043b\\u044b\\u0439\", \"offsetgroup\": \"severity=\\u0422\\u044f\\u0436\\u0451\\u043b\\u044b\\u0439\", \"orientation\": \"v\", \"showlegend\": true, \"textposition\": \"auto\", \"type\": \"bar\", \"x\": [0, 1, 2, 3, 4, 5, 6, 7, 8, 9, 10, 11, 12, 13, 14, 15, 16, 17, 18, 19, 20, 21, 22, 23], \"xaxis\": \"x\", \"y\": [0.56, 0.56, 0.61, 0.57, 0.6, 0.61, 0.56, 0.53, 0.51, 0.52, 0.51, 0.51, 0.51, 0.5, 0.5, 0.51, 0.52, 0.52, 0.51, 0.52, 0.52, 0.52, 0.53, 0.56], \"yaxis\": \"y\"}],\n",
              "                        {\"barmode\": \"group\", \"legend\": {\"tracegroupgap\": 0}, \"margin\": {\"t\": 60}, \"template\": {\"data\": {\"bar\": [{\"error_x\": {\"color\": \"#2a3f5f\"}, \"error_y\": {\"color\": \"#2a3f5f\"}, \"marker\": {\"line\": {\"color\": \"#E5ECF6\", \"width\": 0.5}}, \"type\": \"bar\"}], \"barpolar\": [{\"marker\": {\"line\": {\"color\": \"#E5ECF6\", \"width\": 0.5}}, \"type\": \"barpolar\"}], \"carpet\": [{\"aaxis\": {\"endlinecolor\": \"#2a3f5f\", \"gridcolor\": \"white\", \"linecolor\": \"white\", \"minorgridcolor\": \"white\", \"startlinecolor\": \"#2a3f5f\"}, \"baxis\": {\"endlinecolor\": \"#2a3f5f\", \"gridcolor\": \"white\", \"linecolor\": \"white\", \"minorgridcolor\": \"white\", \"startlinecolor\": \"#2a3f5f\"}, \"type\": \"carpet\"}], \"choropleth\": [{\"colorbar\": {\"outlinewidth\": 0, \"ticks\": \"\"}, \"type\": \"choropleth\"}], \"contour\": [{\"colorbar\": {\"outlinewidth\": 0, \"ticks\": \"\"}, \"colorscale\": [[0.0, \"#0d0887\"], [0.1111111111111111, \"#46039f\"], [0.2222222222222222, \"#7201a8\"], [0.3333333333333333, \"#9c179e\"], [0.4444444444444444, \"#bd3786\"], [0.5555555555555556, \"#d8576b\"], [0.6666666666666666, \"#ed7953\"], [0.7777777777777778, \"#fb9f3a\"], [0.8888888888888888, \"#fdca26\"], [1.0, \"#f0f921\"]], \"type\": \"contour\"}], \"contourcarpet\": [{\"colorbar\": {\"outlinewidth\": 0, \"ticks\": \"\"}, \"type\": \"contourcarpet\"}], \"heatmap\": [{\"colorbar\": {\"outlinewidth\": 0, \"ticks\": \"\"}, \"colorscale\": [[0.0, \"#0d0887\"], [0.1111111111111111, \"#46039f\"], [0.2222222222222222, \"#7201a8\"], [0.3333333333333333, \"#9c179e\"], [0.4444444444444444, \"#bd3786\"], [0.5555555555555556, \"#d8576b\"], [0.6666666666666666, \"#ed7953\"], [0.7777777777777778, \"#fb9f3a\"], [0.8888888888888888, \"#fdca26\"], [1.0, \"#f0f921\"]], \"type\": \"heatmap\"}], \"heatmapgl\": [{\"colorbar\": {\"outlinewidth\": 0, \"ticks\": \"\"}, \"colorscale\": [[0.0, \"#0d0887\"], [0.1111111111111111, \"#46039f\"], [0.2222222222222222, \"#7201a8\"], [0.3333333333333333, \"#9c179e\"], [0.4444444444444444, \"#bd3786\"], [0.5555555555555556, \"#d8576b\"], [0.6666666666666666, \"#ed7953\"], [0.7777777777777778, \"#fb9f3a\"], [0.8888888888888888, \"#fdca26\"], [1.0, \"#f0f921\"]], \"type\": \"heatmapgl\"}], \"histogram\": [{\"marker\": {\"colorbar\": {\"outlinewidth\": 0, \"ticks\": \"\"}}, \"type\": \"histogram\"}], \"histogram2d\": [{\"colorbar\": {\"outlinewidth\": 0, \"ticks\": \"\"}, \"colorscale\": [[0.0, \"#0d0887\"], [0.1111111111111111, \"#46039f\"], [0.2222222222222222, \"#7201a8\"], [0.3333333333333333, \"#9c179e\"], [0.4444444444444444, \"#bd3786\"], [0.5555555555555556, \"#d8576b\"], [0.6666666666666666, \"#ed7953\"], [0.7777777777777778, \"#fb9f3a\"], [0.8888888888888888, \"#fdca26\"], [1.0, \"#f0f921\"]], \"type\": \"histogram2d\"}], \"histogram2dcontour\": [{\"colorbar\": {\"outlinewidth\": 0, \"ticks\": \"\"}, \"colorscale\": [[0.0, \"#0d0887\"], [0.1111111111111111, \"#46039f\"], [0.2222222222222222, \"#7201a8\"], [0.3333333333333333, \"#9c179e\"], [0.4444444444444444, \"#bd3786\"], [0.5555555555555556, \"#d8576b\"], [0.6666666666666666, \"#ed7953\"], [0.7777777777777778, \"#fb9f3a\"], [0.8888888888888888, \"#fdca26\"], [1.0, \"#f0f921\"]], \"type\": \"histogram2dcontour\"}], \"mesh3d\": [{\"colorbar\": {\"outlinewidth\": 0, \"ticks\": \"\"}, \"type\": \"mesh3d\"}], \"parcoords\": [{\"line\": {\"colorbar\": {\"outlinewidth\": 0, \"ticks\": \"\"}}, \"type\": \"parcoords\"}], \"pie\": [{\"automargin\": true, \"type\": \"pie\"}], \"scatter\": [{\"marker\": {\"colorbar\": {\"outlinewidth\": 0, \"ticks\": \"\"}}, \"type\": \"scatter\"}], \"scatter3d\": [{\"line\": {\"colorbar\": {\"outlinewidth\": 0, \"ticks\": \"\"}}, \"marker\": {\"colorbar\": {\"outlinewidth\": 0, \"ticks\": \"\"}}, \"type\": \"scatter3d\"}], \"scattercarpet\": [{\"marker\": {\"colorbar\": {\"outlinewidth\": 0, \"ticks\": \"\"}}, \"type\": \"scattercarpet\"}], \"scattergeo\": [{\"marker\": {\"colorbar\": {\"outlinewidth\": 0, \"ticks\": \"\"}}, \"type\": \"scattergeo\"}], \"scattergl\": [{\"marker\": {\"colorbar\": {\"outlinewidth\": 0, \"ticks\": \"\"}}, \"type\": \"scattergl\"}], \"scattermapbox\": [{\"marker\": {\"colorbar\": {\"outlinewidth\": 0, \"ticks\": \"\"}}, \"type\": \"scattermapbox\"}], \"scatterpolar\": [{\"marker\": {\"colorbar\": {\"outlinewidth\": 0, \"ticks\": \"\"}}, \"type\": \"scatterpolar\"}], \"scatterpolargl\": [{\"marker\": {\"colorbar\": {\"outlinewidth\": 0, \"ticks\": \"\"}}, \"type\": \"scatterpolargl\"}], \"scatterternary\": [{\"marker\": {\"colorbar\": {\"outlinewidth\": 0, \"ticks\": \"\"}}, \"type\": \"scatterternary\"}], \"surface\": [{\"colorbar\": {\"outlinewidth\": 0, \"ticks\": \"\"}, \"colorscale\": [[0.0, \"#0d0887\"], [0.1111111111111111, \"#46039f\"], [0.2222222222222222, \"#7201a8\"], [0.3333333333333333, \"#9c179e\"], [0.4444444444444444, \"#bd3786\"], [0.5555555555555556, \"#d8576b\"], [0.6666666666666666, \"#ed7953\"], [0.7777777777777778, \"#fb9f3a\"], [0.8888888888888888, \"#fdca26\"], [1.0, \"#f0f921\"]], \"type\": \"surface\"}], \"table\": [{\"cells\": {\"fill\": {\"color\": \"#EBF0F8\"}, \"line\": {\"color\": \"white\"}}, \"header\": {\"fill\": {\"color\": \"#C8D4E3\"}, \"line\": {\"color\": \"white\"}}, \"type\": \"table\"}]}, \"layout\": {\"annotationdefaults\": {\"arrowcolor\": \"#2a3f5f\", \"arrowhead\": 0, \"arrowwidth\": 1}, \"coloraxis\": {\"colorbar\": {\"outlinewidth\": 0, \"ticks\": \"\"}}, \"colorscale\": {\"diverging\": [[0, \"#8e0152\"], [0.1, \"#c51b7d\"], [0.2, \"#de77ae\"], [0.3, \"#f1b6da\"], [0.4, \"#fde0ef\"], [0.5, \"#f7f7f7\"], [0.6, \"#e6f5d0\"], [0.7, \"#b8e186\"], [0.8, \"#7fbc41\"], [0.9, \"#4d9221\"], [1, \"#276419\"]], \"sequential\": [[0.0, \"#0d0887\"], [0.1111111111111111, \"#46039f\"], [0.2222222222222222, \"#7201a8\"], [0.3333333333333333, \"#9c179e\"], [0.4444444444444444, \"#bd3786\"], [0.5555555555555556, \"#d8576b\"], [0.6666666666666666, \"#ed7953\"], [0.7777777777777778, \"#fb9f3a\"], [0.8888888888888888, \"#fdca26\"], [1.0, \"#f0f921\"]], \"sequentialminus\": [[0.0, \"#0d0887\"], [0.1111111111111111, \"#46039f\"], [0.2222222222222222, \"#7201a8\"], [0.3333333333333333, \"#9c179e\"], [0.4444444444444444, \"#bd3786\"], [0.5555555555555556, \"#d8576b\"], [0.6666666666666666, \"#ed7953\"], [0.7777777777777778, \"#fb9f3a\"], [0.8888888888888888, \"#fdca26\"], [1.0, \"#f0f921\"]]}, \"colorway\": [\"#636efa\", \"#EF553B\", \"#00cc96\", \"#ab63fa\", \"#FFA15A\", \"#19d3f3\", \"#FF6692\", \"#B6E880\", \"#FF97FF\", \"#FECB52\"], \"font\": {\"color\": \"#2a3f5f\"}, \"geo\": {\"bgcolor\": \"white\", \"lakecolor\": \"white\", \"landcolor\": \"#E5ECF6\", \"showlakes\": true, \"showland\": true, \"subunitcolor\": \"white\"}, \"hoverlabel\": {\"align\": \"left\"}, \"hovermode\": \"closest\", \"mapbox\": {\"style\": \"light\"}, \"paper_bgcolor\": \"white\", \"plot_bgcolor\": \"#E5ECF6\", \"polar\": {\"angularaxis\": {\"gridcolor\": \"white\", \"linecolor\": \"white\", \"ticks\": \"\"}, \"bgcolor\": \"#E5ECF6\", \"radialaxis\": {\"gridcolor\": \"white\", \"linecolor\": \"white\", \"ticks\": \"\"}}, \"scene\": {\"xaxis\": {\"backgroundcolor\": \"#E5ECF6\", \"gridcolor\": \"white\", \"gridwidth\": 2, \"linecolor\": \"white\", \"showbackground\": true, \"ticks\": \"\", \"zerolinecolor\": \"white\"}, \"yaxis\": {\"backgroundcolor\": \"#E5ECF6\", \"gridcolor\": \"white\", \"gridwidth\": 2, \"linecolor\": \"white\", \"showbackground\": true, \"ticks\": \"\", \"zerolinecolor\": \"white\"}, \"zaxis\": {\"backgroundcolor\": \"#E5ECF6\", \"gridcolor\": \"white\", \"gridwidth\": 2, \"linecolor\": \"white\", \"showbackground\": true, \"ticks\": \"\", \"zerolinecolor\": \"white\"}}, \"shapedefaults\": {\"line\": {\"color\": \"#2a3f5f\"}}, \"ternary\": {\"aaxis\": {\"gridcolor\": \"white\", \"linecolor\": \"white\", \"ticks\": \"\"}, \"baxis\": {\"gridcolor\": \"white\", \"linecolor\": \"white\", \"ticks\": \"\"}, \"bgcolor\": \"#E5ECF6\", \"caxis\": {\"gridcolor\": \"white\", \"linecolor\": \"white\", \"ticks\": \"\"}}, \"title\": {\"x\": 0.05}, \"xaxis\": {\"automargin\": true, \"gridcolor\": \"white\", \"linecolor\": \"white\", \"ticks\": \"\", \"title\": {\"standoff\": 15}, \"zerolinecolor\": \"white\", \"zerolinewidth\": 2}, \"yaxis\": {\"automargin\": true, \"gridcolor\": \"white\", \"linecolor\": \"white\", \"ticks\": \"\", \"title\": {\"standoff\": 15}, \"zerolinecolor\": \"white\", \"zerolinewidth\": 2}}}, \"xaxis\": {\"anchor\": \"y\", \"domain\": [0.0, 1.0], \"title\": {\"text\": \"hour\"}}, \"yaxis\": {\"anchor\": \"x\", \"domain\": [0.0, 1.0], \"title\": {\"text\": \"percent_injured\"}}},\n",
              "                        {\"responsive\": true}\n",
              "                    ).then(function(){\n",
              "                            \n",
              "var gd = document.getElementById('6c31da43-ba7e-4ffe-af7b-1e80f37410da');\n",
              "var x = new MutationObserver(function (mutations, observer) {{\n",
              "        var display = window.getComputedStyle(gd).display;\n",
              "        if (!display || display === 'none') {{\n",
              "            console.log([gd, 'removed!']);\n",
              "            Plotly.purge(gd);\n",
              "            observer.disconnect();\n",
              "        }}\n",
              "}});\n",
              "\n",
              "// Listen for the removal of the full notebook cells\n",
              "var notebookContainer = gd.closest('#notebook-container');\n",
              "if (notebookContainer) {{\n",
              "    x.observe(notebookContainer, {childList: true});\n",
              "}}\n",
              "\n",
              "// Listen for the clearing of the current output cell\n",
              "var outputEl = gd.closest('.output');\n",
              "if (outputEl) {{\n",
              "    x.observe(outputEl, {childList: true});\n",
              "}}\n",
              "\n",
              "                        })\n",
              "                };\n",
              "                \n",
              "            </script>\n",
              "        </div>\n",
              "</body>\n",
              "</html>"
            ]
          },
          "metadata": {}
        }
      ]
    },
    {
      "cell_type": "markdown",
      "metadata": {
        "id": "3-GjXWKv6NGO"
      },
      "source": [
        "Выводы:\n",
        "1. В 5 утра выделяется пик количества аварий.\n",
        "2. С 9 вечера до 6 утра выделяется резкое увеличение числа аварий, что можно связать с наступлением темноты, а также к усталостью водителя.\n",
        "3. Аварии с погибшими чаще всего происходят в 5-6 утра."
      ]
    },
    {
      "cell_type": "code",
      "metadata": {
        "colab": {
          "base_uri": "https://localhost:8080/",
          "height": 542
        },
        "id": "xygWLKUC5wHB",
        "outputId": "04af75f6-97bc-487d-c6d3-629e35079430"
      },
      "source": [
        "px.bar(table_time, x='hour', y='dead_count', color='severity')"
      ],
      "execution_count": null,
      "outputs": [
        {
          "output_type": "display_data",
          "data": {
            "text/html": [
              "<html>\n",
              "<head><meta charset=\"utf-8\" /></head>\n",
              "<body>\n",
              "    <div>\n",
              "            <script src=\"https://cdnjs.cloudflare.com/ajax/libs/mathjax/2.7.5/MathJax.js?config=TeX-AMS-MML_SVG\"></script><script type=\"text/javascript\">if (window.MathJax) {MathJax.Hub.Config({SVG: {font: \"STIX-Web\"}});}</script>\n",
              "                <script type=\"text/javascript\">window.PlotlyConfig = {MathJaxConfig: 'local'};</script>\n",
              "        <script src=\"https://cdn.plot.ly/plotly-latest.min.js\"></script>    \n",
              "            <div id=\"490619a7-9fc7-417d-b085-42a13a8917db\" class=\"plotly-graph-div\" style=\"height:525px; width:100%;\"></div>\n",
              "            <script type=\"text/javascript\">\n",
              "                \n",
              "                    window.PLOTLYENV=window.PLOTLYENV || {};\n",
              "                    \n",
              "                if (document.getElementById(\"490619a7-9fc7-417d-b085-42a13a8917db\")) {\n",
              "                    Plotly.newPlot(\n",
              "                        '490619a7-9fc7-417d-b085-42a13a8917db',\n",
              "                        [{\"alignmentgroup\": \"True\", \"hoverlabel\": {\"namelength\": 0}, \"hovertemplate\": \"severity=\\u041b\\u0435\\u0433\\u043a\\u0438\\u0439<br>hour=%{x}<br>dead_count=%{y}\", \"legendgroup\": \"severity=\\u041b\\u0435\\u0433\\u043a\\u0438\\u0439\", \"marker\": {\"color\": \"#636efa\"}, \"name\": \"severity=\\u041b\\u0435\\u0433\\u043a\\u0438\\u0439\", \"offsetgroup\": \"severity=\\u041b\\u0435\\u0433\\u043a\\u0438\\u0439\", \"orientation\": \"v\", \"showlegend\": true, \"textposition\": \"auto\", \"type\": \"bar\", \"x\": [0, 1, 2, 3, 4, 5, 6, 7, 8, 9, 10, 11, 12, 13, 14, 15, 16, 17, 18, 19, 20, 21, 22, 23], \"xaxis\": \"x\", \"y\": [0, 0, 0, 0, 0, 0, 0, 0, 0, 0, 0, 0, 0, 0, 0, 0, 0, 0, 0, 0, 0, 0, 0, 0], \"yaxis\": \"y\"}, {\"alignmentgroup\": \"True\", \"hoverlabel\": {\"namelength\": 0}, \"hovertemplate\": \"severity=\\u0421 \\u043f\\u043e\\u0433\\u0438\\u0431\\u0448\\u0438\\u043c\\u0438<br>hour=%{x}<br>dead_count=%{y}\", \"legendgroup\": \"severity=\\u0421 \\u043f\\u043e\\u0433\\u0438\\u0431\\u0448\\u0438\\u043c\\u0438\", \"marker\": {\"color\": \"#EF553B\"}, \"name\": \"severity=\\u0421 \\u043f\\u043e\\u0433\\u0438\\u0431\\u0448\\u0438\\u043c\\u0438\", \"offsetgroup\": \"severity=\\u0421 \\u043f\\u043e\\u0433\\u0438\\u0431\\u0448\\u0438\\u043c\\u0438\", \"orientation\": \"v\", \"showlegend\": true, \"textposition\": \"auto\", \"type\": \"bar\", \"x\": [0, 1, 2, 3, 4, 5, 6, 7, 8, 9, 10, 11, 12, 13, 14, 15, 16, 17, 18, 19, 20, 21, 22, 23], \"xaxis\": \"x\", \"y\": [221, 148, 140, 84, 76, 95, 95, 104, 83, 94, 85, 105, 111, 110, 107, 109, 116, 147, 184, 201, 166, 167, 198, 147], \"yaxis\": \"y\"}, {\"alignmentgroup\": \"True\", \"hoverlabel\": {\"namelength\": 0}, \"hovertemplate\": \"severity=\\u0422\\u044f\\u0436\\u0451\\u043b\\u044b\\u0439<br>hour=%{x}<br>dead_count=%{y}\", \"legendgroup\": \"severity=\\u0422\\u044f\\u0436\\u0451\\u043b\\u044b\\u0439\", \"marker\": {\"color\": \"#00cc96\"}, \"name\": \"severity=\\u0422\\u044f\\u0436\\u0451\\u043b\\u044b\\u0439\", \"offsetgroup\": \"severity=\\u0422\\u044f\\u0436\\u0451\\u043b\\u044b\\u0439\", \"orientation\": \"v\", \"showlegend\": true, \"textposition\": \"auto\", \"type\": \"bar\", \"x\": [0, 1, 2, 3, 4, 5, 6, 7, 8, 9, 10, 11, 12, 13, 14, 15, 16, 17, 18, 19, 20, 21, 22, 23], \"xaxis\": \"x\", \"y\": [0, 0, 0, 0, 0, 0, 0, 0, 0, 0, 0, 0, 0, 0, 0, 0, 0, 0, 0, 0, 0, 0, 0, 0], \"yaxis\": \"y\"}],\n",
              "                        {\"barmode\": \"relative\", \"legend\": {\"tracegroupgap\": 0}, \"margin\": {\"t\": 60}, \"template\": {\"data\": {\"bar\": [{\"error_x\": {\"color\": \"#2a3f5f\"}, \"error_y\": {\"color\": \"#2a3f5f\"}, \"marker\": {\"line\": {\"color\": \"#E5ECF6\", \"width\": 0.5}}, \"type\": \"bar\"}], \"barpolar\": [{\"marker\": {\"line\": {\"color\": \"#E5ECF6\", \"width\": 0.5}}, \"type\": \"barpolar\"}], \"carpet\": [{\"aaxis\": {\"endlinecolor\": \"#2a3f5f\", \"gridcolor\": \"white\", \"linecolor\": \"white\", \"minorgridcolor\": \"white\", \"startlinecolor\": \"#2a3f5f\"}, \"baxis\": {\"endlinecolor\": \"#2a3f5f\", \"gridcolor\": \"white\", \"linecolor\": \"white\", \"minorgridcolor\": \"white\", \"startlinecolor\": \"#2a3f5f\"}, \"type\": \"carpet\"}], \"choropleth\": [{\"colorbar\": {\"outlinewidth\": 0, \"ticks\": \"\"}, \"type\": \"choropleth\"}], \"contour\": [{\"colorbar\": {\"outlinewidth\": 0, \"ticks\": \"\"}, \"colorscale\": [[0.0, \"#0d0887\"], [0.1111111111111111, \"#46039f\"], [0.2222222222222222, \"#7201a8\"], [0.3333333333333333, \"#9c179e\"], [0.4444444444444444, \"#bd3786\"], [0.5555555555555556, \"#d8576b\"], [0.6666666666666666, \"#ed7953\"], [0.7777777777777778, \"#fb9f3a\"], [0.8888888888888888, \"#fdca26\"], [1.0, \"#f0f921\"]], \"type\": \"contour\"}], \"contourcarpet\": [{\"colorbar\": {\"outlinewidth\": 0, \"ticks\": \"\"}, \"type\": \"contourcarpet\"}], \"heatmap\": [{\"colorbar\": {\"outlinewidth\": 0, \"ticks\": \"\"}, \"colorscale\": [[0.0, \"#0d0887\"], [0.1111111111111111, \"#46039f\"], [0.2222222222222222, \"#7201a8\"], [0.3333333333333333, \"#9c179e\"], [0.4444444444444444, \"#bd3786\"], [0.5555555555555556, \"#d8576b\"], [0.6666666666666666, \"#ed7953\"], [0.7777777777777778, \"#fb9f3a\"], [0.8888888888888888, \"#fdca26\"], [1.0, \"#f0f921\"]], \"type\": \"heatmap\"}], \"heatmapgl\": [{\"colorbar\": {\"outlinewidth\": 0, \"ticks\": \"\"}, \"colorscale\": [[0.0, \"#0d0887\"], [0.1111111111111111, \"#46039f\"], [0.2222222222222222, \"#7201a8\"], [0.3333333333333333, \"#9c179e\"], [0.4444444444444444, \"#bd3786\"], [0.5555555555555556, \"#d8576b\"], [0.6666666666666666, \"#ed7953\"], [0.7777777777777778, \"#fb9f3a\"], [0.8888888888888888, \"#fdca26\"], [1.0, \"#f0f921\"]], \"type\": \"heatmapgl\"}], \"histogram\": [{\"marker\": {\"colorbar\": {\"outlinewidth\": 0, \"ticks\": \"\"}}, \"type\": \"histogram\"}], \"histogram2d\": [{\"colorbar\": {\"outlinewidth\": 0, \"ticks\": \"\"}, \"colorscale\": [[0.0, \"#0d0887\"], [0.1111111111111111, \"#46039f\"], [0.2222222222222222, \"#7201a8\"], [0.3333333333333333, \"#9c179e\"], [0.4444444444444444, \"#bd3786\"], [0.5555555555555556, \"#d8576b\"], [0.6666666666666666, \"#ed7953\"], [0.7777777777777778, \"#fb9f3a\"], [0.8888888888888888, \"#fdca26\"], [1.0, \"#f0f921\"]], \"type\": \"histogram2d\"}], \"histogram2dcontour\": [{\"colorbar\": {\"outlinewidth\": 0, \"ticks\": \"\"}, \"colorscale\": [[0.0, \"#0d0887\"], [0.1111111111111111, \"#46039f\"], [0.2222222222222222, \"#7201a8\"], [0.3333333333333333, \"#9c179e\"], [0.4444444444444444, \"#bd3786\"], [0.5555555555555556, \"#d8576b\"], [0.6666666666666666, \"#ed7953\"], [0.7777777777777778, \"#fb9f3a\"], [0.8888888888888888, \"#fdca26\"], [1.0, \"#f0f921\"]], \"type\": \"histogram2dcontour\"}], \"mesh3d\": [{\"colorbar\": {\"outlinewidth\": 0, \"ticks\": \"\"}, \"type\": \"mesh3d\"}], \"parcoords\": [{\"line\": {\"colorbar\": {\"outlinewidth\": 0, \"ticks\": \"\"}}, \"type\": \"parcoords\"}], \"pie\": [{\"automargin\": true, \"type\": \"pie\"}], \"scatter\": [{\"marker\": {\"colorbar\": {\"outlinewidth\": 0, \"ticks\": \"\"}}, \"type\": \"scatter\"}], \"scatter3d\": [{\"line\": {\"colorbar\": {\"outlinewidth\": 0, \"ticks\": \"\"}}, \"marker\": {\"colorbar\": {\"outlinewidth\": 0, \"ticks\": \"\"}}, \"type\": \"scatter3d\"}], \"scattercarpet\": [{\"marker\": {\"colorbar\": {\"outlinewidth\": 0, \"ticks\": \"\"}}, \"type\": \"scattercarpet\"}], \"scattergeo\": [{\"marker\": {\"colorbar\": {\"outlinewidth\": 0, \"ticks\": \"\"}}, \"type\": \"scattergeo\"}], \"scattergl\": [{\"marker\": {\"colorbar\": {\"outlinewidth\": 0, \"ticks\": \"\"}}, \"type\": \"scattergl\"}], \"scattermapbox\": [{\"marker\": {\"colorbar\": {\"outlinewidth\": 0, \"ticks\": \"\"}}, \"type\": \"scattermapbox\"}], \"scatterpolar\": [{\"marker\": {\"colorbar\": {\"outlinewidth\": 0, \"ticks\": \"\"}}, \"type\": \"scatterpolar\"}], \"scatterpolargl\": [{\"marker\": {\"colorbar\": {\"outlinewidth\": 0, \"ticks\": \"\"}}, \"type\": \"scatterpolargl\"}], \"scatterternary\": [{\"marker\": {\"colorbar\": {\"outlinewidth\": 0, \"ticks\": \"\"}}, \"type\": \"scatterternary\"}], \"surface\": [{\"colorbar\": {\"outlinewidth\": 0, \"ticks\": \"\"}, \"colorscale\": [[0.0, \"#0d0887\"], [0.1111111111111111, \"#46039f\"], [0.2222222222222222, \"#7201a8\"], [0.3333333333333333, \"#9c179e\"], [0.4444444444444444, \"#bd3786\"], [0.5555555555555556, \"#d8576b\"], [0.6666666666666666, \"#ed7953\"], [0.7777777777777778, \"#fb9f3a\"], [0.8888888888888888, \"#fdca26\"], [1.0, \"#f0f921\"]], \"type\": \"surface\"}], \"table\": [{\"cells\": {\"fill\": {\"color\": \"#EBF0F8\"}, \"line\": {\"color\": \"white\"}}, \"header\": {\"fill\": {\"color\": \"#C8D4E3\"}, \"line\": {\"color\": \"white\"}}, \"type\": \"table\"}]}, \"layout\": {\"annotationdefaults\": {\"arrowcolor\": \"#2a3f5f\", \"arrowhead\": 0, \"arrowwidth\": 1}, \"coloraxis\": {\"colorbar\": {\"outlinewidth\": 0, \"ticks\": \"\"}}, \"colorscale\": {\"diverging\": [[0, \"#8e0152\"], [0.1, \"#c51b7d\"], [0.2, \"#de77ae\"], [0.3, \"#f1b6da\"], [0.4, \"#fde0ef\"], [0.5, \"#f7f7f7\"], [0.6, \"#e6f5d0\"], [0.7, \"#b8e186\"], [0.8, \"#7fbc41\"], [0.9, \"#4d9221\"], [1, \"#276419\"]], \"sequential\": [[0.0, \"#0d0887\"], [0.1111111111111111, \"#46039f\"], [0.2222222222222222, \"#7201a8\"], [0.3333333333333333, \"#9c179e\"], [0.4444444444444444, \"#bd3786\"], [0.5555555555555556, \"#d8576b\"], [0.6666666666666666, \"#ed7953\"], [0.7777777777777778, \"#fb9f3a\"], [0.8888888888888888, \"#fdca26\"], [1.0, \"#f0f921\"]], \"sequentialminus\": [[0.0, \"#0d0887\"], [0.1111111111111111, \"#46039f\"], [0.2222222222222222, \"#7201a8\"], [0.3333333333333333, \"#9c179e\"], [0.4444444444444444, \"#bd3786\"], [0.5555555555555556, \"#d8576b\"], [0.6666666666666666, \"#ed7953\"], [0.7777777777777778, \"#fb9f3a\"], [0.8888888888888888, \"#fdca26\"], [1.0, \"#f0f921\"]]}, \"colorway\": [\"#636efa\", \"#EF553B\", \"#00cc96\", \"#ab63fa\", \"#FFA15A\", \"#19d3f3\", \"#FF6692\", \"#B6E880\", \"#FF97FF\", \"#FECB52\"], \"font\": {\"color\": \"#2a3f5f\"}, \"geo\": {\"bgcolor\": \"white\", \"lakecolor\": \"white\", \"landcolor\": \"#E5ECF6\", \"showlakes\": true, \"showland\": true, \"subunitcolor\": \"white\"}, \"hoverlabel\": {\"align\": \"left\"}, \"hovermode\": \"closest\", \"mapbox\": {\"style\": \"light\"}, \"paper_bgcolor\": \"white\", \"plot_bgcolor\": \"#E5ECF6\", \"polar\": {\"angularaxis\": {\"gridcolor\": \"white\", \"linecolor\": \"white\", \"ticks\": \"\"}, \"bgcolor\": \"#E5ECF6\", \"radialaxis\": {\"gridcolor\": \"white\", \"linecolor\": \"white\", \"ticks\": \"\"}}, \"scene\": {\"xaxis\": {\"backgroundcolor\": \"#E5ECF6\", \"gridcolor\": \"white\", \"gridwidth\": 2, \"linecolor\": \"white\", \"showbackground\": true, \"ticks\": \"\", \"zerolinecolor\": \"white\"}, \"yaxis\": {\"backgroundcolor\": \"#E5ECF6\", \"gridcolor\": \"white\", \"gridwidth\": 2, \"linecolor\": \"white\", \"showbackground\": true, \"ticks\": \"\", \"zerolinecolor\": \"white\"}, \"zaxis\": {\"backgroundcolor\": \"#E5ECF6\", \"gridcolor\": \"white\", \"gridwidth\": 2, \"linecolor\": \"white\", \"showbackground\": true, \"ticks\": \"\", \"zerolinecolor\": \"white\"}}, \"shapedefaults\": {\"line\": {\"color\": \"#2a3f5f\"}}, \"ternary\": {\"aaxis\": {\"gridcolor\": \"white\", \"linecolor\": \"white\", \"ticks\": \"\"}, \"baxis\": {\"gridcolor\": \"white\", \"linecolor\": \"white\", \"ticks\": \"\"}, \"bgcolor\": \"#E5ECF6\", \"caxis\": {\"gridcolor\": \"white\", \"linecolor\": \"white\", \"ticks\": \"\"}}, \"title\": {\"x\": 0.05}, \"xaxis\": {\"automargin\": true, \"gridcolor\": \"white\", \"linecolor\": \"white\", \"ticks\": \"\", \"title\": {\"standoff\": 15}, \"zerolinecolor\": \"white\", \"zerolinewidth\": 2}, \"yaxis\": {\"automargin\": true, \"gridcolor\": \"white\", \"linecolor\": \"white\", \"ticks\": \"\", \"title\": {\"standoff\": 15}, \"zerolinecolor\": \"white\", \"zerolinewidth\": 2}}}, \"xaxis\": {\"anchor\": \"y\", \"domain\": [0.0, 1.0], \"title\": {\"text\": \"hour\"}}, \"yaxis\": {\"anchor\": \"x\", \"domain\": [0.0, 1.0], \"title\": {\"text\": \"dead_count\"}}},\n",
              "                        {\"responsive\": true}\n",
              "                    ).then(function(){\n",
              "                            \n",
              "var gd = document.getElementById('490619a7-9fc7-417d-b085-42a13a8917db');\n",
              "var x = new MutationObserver(function (mutations, observer) {{\n",
              "        var display = window.getComputedStyle(gd).display;\n",
              "        if (!display || display === 'none') {{\n",
              "            console.log([gd, 'removed!']);\n",
              "            Plotly.purge(gd);\n",
              "            observer.disconnect();\n",
              "        }}\n",
              "}});\n",
              "\n",
              "// Listen for the removal of the full notebook cells\n",
              "var notebookContainer = gd.closest('#notebook-container');\n",
              "if (notebookContainer) {{\n",
              "    x.observe(notebookContainer, {childList: true});\n",
              "}}\n",
              "\n",
              "// Listen for the clearing of the current output cell\n",
              "var outputEl = gd.closest('.output');\n",
              "if (outputEl) {{\n",
              "    x.observe(outputEl, {childList: true});\n",
              "}}\n",
              "\n",
              "                        })\n",
              "                };\n",
              "                \n",
              "            </script>\n",
              "        </div>\n",
              "</body>\n",
              "</html>"
            ]
          },
          "metadata": {}
        }
      ]
    },
    {
      "cell_type": "markdown",
      "metadata": {
        "id": "HhNvsP3f8tQl"
      },
      "source": [
        "Выводы:\n",
        "1. Количество смертей имеет пик в 12 ночи.\n",
        "2. С 3 утра до 16 вечера в целом число смертей выходит на плато и не меняется.\n",
        "3. С 17 до 23 часов выделяется повышенное число смертей, что может быть связано с усталостью водителя или с освещением.\n"
      ]
    },
    {
      "cell_type": "markdown",
      "metadata": {
        "id": "QiRuJ7dK94Ml"
      },
      "source": [
        "# **4.3 Анализ данных по районам.**"
      ]
    },
    {
      "cell_type": "markdown",
      "metadata": {
        "id": "Y5CE136v_Suj"
      },
      "source": [
        "Так как число регионов в таблице большое, то ограничимся топ 10 регионов по числу участников в авариях."
      ]
    },
    {
      "cell_type": "code",
      "metadata": {
        "id": "hPao0a_U-HH3"
      },
      "source": [
        "table_region = uniq_pivot('region', data_all)\n",
        "table_region_short = table_region.sort_values(by='participants_count', \n",
        "                                              ascending=False).head(10)\n",
        "table_region_fin = table_region[table_region['region'].isin(list(table_region_short.region))]"
      ],
      "execution_count": null,
      "outputs": []
    },
    {
      "cell_type": "code",
      "metadata": {
        "colab": {
          "base_uri": "https://localhost:8080/",
          "height": 542
        },
        "id": "kgQHQUoz-HH3",
        "outputId": "0c48546e-c3ad-4b4e-8956-ad441a0355a6"
      },
      "source": [
        "fig = px.bar(table_region_fin, x='region', y='percent_injured', color='severity')\n",
        "fig.update_layout(barmode='group')\n",
        "fig.show()"
      ],
      "execution_count": null,
      "outputs": [
        {
          "output_type": "display_data",
          "data": {
            "text/html": [
              "<html>\n",
              "<head><meta charset=\"utf-8\" /></head>\n",
              "<body>\n",
              "    <div>\n",
              "            <script src=\"https://cdnjs.cloudflare.com/ajax/libs/mathjax/2.7.5/MathJax.js?config=TeX-AMS-MML_SVG\"></script><script type=\"text/javascript\">if (window.MathJax) {MathJax.Hub.Config({SVG: {font: \"STIX-Web\"}});}</script>\n",
              "                <script type=\"text/javascript\">window.PlotlyConfig = {MathJaxConfig: 'local'};</script>\n",
              "        <script src=\"https://cdn.plot.ly/plotly-latest.min.js\"></script>    \n",
              "            <div id=\"01a46a8a-aa24-4ff9-b0dc-dbd28243062d\" class=\"plotly-graph-div\" style=\"height:525px; width:100%;\"></div>\n",
              "            <script type=\"text/javascript\">\n",
              "                \n",
              "                    window.PLOTLYENV=window.PLOTLYENV || {};\n",
              "                    \n",
              "                if (document.getElementById(\"01a46a8a-aa24-4ff9-b0dc-dbd28243062d\")) {\n",
              "                    Plotly.newPlot(\n",
              "                        '01a46a8a-aa24-4ff9-b0dc-dbd28243062d',\n",
              "                        [{\"alignmentgroup\": \"True\", \"hoverlabel\": {\"namelength\": 0}, \"hovertemplate\": \"severity=\\u041b\\u0435\\u0433\\u043a\\u0438\\u0439<br>region=%{x}<br>percent_injured=%{y}\", \"legendgroup\": \"severity=\\u041b\\u0435\\u0433\\u043a\\u0438\\u0439\", \"marker\": {\"color\": \"#636efa\"}, \"name\": \"severity=\\u041b\\u0435\\u0433\\u043a\\u0438\\u0439\", \"offsetgroup\": \"severity=\\u041b\\u0435\\u0433\\u043a\\u0438\\u0439\", \"orientation\": \"v\", \"showlegend\": true, \"textposition\": \"auto\", \"type\": \"bar\", \"x\": [\"\\u0412\\u044b\\u0445\\u0438\\u043d\\u043e-\\u0416\\u0443\\u043b\\u0435\\u0431\\u0438\\u043d\\u043e\", \"\\u0413\\u043e\\u043b\\u044c\\u044f\\u043d\\u043e\\u0432\\u043e\", \"\\u0414\\u0430\\u043d\\u0438\\u043b\\u043e\\u0432\\u0441\\u043a\\u0438\\u0439\", \"\\u041b\\u044e\\u0431\\u043b\\u0438\\u043d\\u043e\", \"\\u041c\\u0430\\u0440\\u044c\\u0438\\u043d\\u043e\", \"\\u041c\\u0438\\u0442\\u0438\\u043d\\u043e\", \"\\u041f\\u0440\\u0435\\u0441\\u043d\\u0435\\u043d\\u0441\\u043a\\u0438\\u0439\", \"\\u0421\\u043f\\u0435\\u0446\\u0442\\u0440\\u0430\\u0441\\u0441\\u044b\", \"\\u0421\\u0442\\u0440\\u043e\\u0433\\u0438\\u043d\\u043e\", \"\\u0425\\u043e\\u0440\\u043e\\u0448\\u0435\\u0432\\u043e-\\u041c\\u043d\\u0435\\u0432\\u043d\\u0438\\u043a\\u0438\"], \"xaxis\": \"x\", \"y\": [0.47, 0.49, 0.46, 0.47, 0.48, 0.48, 0.47, 0.47, 0.45, 0.48], \"yaxis\": \"y\"}, {\"alignmentgroup\": \"True\", \"hoverlabel\": {\"namelength\": 0}, \"hovertemplate\": \"severity=\\u0421 \\u043f\\u043e\\u0433\\u0438\\u0431\\u0448\\u0438\\u043c\\u0438<br>region=%{x}<br>percent_injured=%{y}\", \"legendgroup\": \"severity=\\u0421 \\u043f\\u043e\\u0433\\u0438\\u0431\\u0448\\u0438\\u043c\\u0438\", \"marker\": {\"color\": \"#EF553B\"}, \"name\": \"severity=\\u0421 \\u043f\\u043e\\u0433\\u0438\\u0431\\u0448\\u0438\\u043c\\u0438\", \"offsetgroup\": \"severity=\\u0421 \\u043f\\u043e\\u0433\\u0438\\u0431\\u0448\\u0438\\u043c\\u0438\", \"orientation\": \"v\", \"showlegend\": true, \"textposition\": \"auto\", \"type\": \"bar\", \"x\": [\"\\u0412\\u044b\\u0445\\u0438\\u043d\\u043e-\\u0416\\u0443\\u043b\\u0435\\u0431\\u0438\\u043d\\u043e\", \"\\u0413\\u043e\\u043b\\u044c\\u044f\\u043d\\u043e\\u0432\\u043e\", \"\\u0414\\u0430\\u043d\\u0438\\u043b\\u043e\\u0432\\u0441\\u043a\\u0438\\u0439\", \"\\u041b\\u044e\\u0431\\u043b\\u0438\\u043d\\u043e\", \"\\u041c\\u0430\\u0440\\u044c\\u0438\\u043d\\u043e\", \"\\u041c\\u0438\\u0442\\u0438\\u043d\\u043e\", \"\\u041f\\u0440\\u0435\\u0441\\u043d\\u0435\\u043d\\u0441\\u043a\\u0438\\u0439\", \"\\u0421\\u043f\\u0435\\u0446\\u0442\\u0440\\u0430\\u0441\\u0441\\u044b\", \"\\u0421\\u0442\\u0440\\u043e\\u0433\\u0438\\u043d\\u043e\", \"\\u0425\\u043e\\u0440\\u043e\\u0448\\u0435\\u0432\\u043e-\\u041c\\u043d\\u0435\\u0432\\u043d\\u0438\\u043a\\u0438\"], \"xaxis\": \"x\", \"y\": [0.21, 0.25, 0.15, 0.19, 0.14, 0.17, 0.12, 0.19, 0.2, 0.07], \"yaxis\": \"y\"}, {\"alignmentgroup\": \"True\", \"hoverlabel\": {\"namelength\": 0}, \"hovertemplate\": \"severity=\\u0422\\u044f\\u0436\\u0451\\u043b\\u044b\\u0439<br>region=%{x}<br>percent_injured=%{y}\", \"legendgroup\": \"severity=\\u0422\\u044f\\u0436\\u0451\\u043b\\u044b\\u0439\", \"marker\": {\"color\": \"#00cc96\"}, \"name\": \"severity=\\u0422\\u044f\\u0436\\u0451\\u043b\\u044b\\u0439\", \"offsetgroup\": \"severity=\\u0422\\u044f\\u0436\\u0451\\u043b\\u044b\\u0439\", \"orientation\": \"v\", \"showlegend\": true, \"textposition\": \"auto\", \"type\": \"bar\", \"x\": [\"\\u0412\\u044b\\u0445\\u0438\\u043d\\u043e-\\u0416\\u0443\\u043b\\u0435\\u0431\\u0438\\u043d\\u043e\", \"\\u0413\\u043e\\u043b\\u044c\\u044f\\u043d\\u043e\\u0432\\u043e\", \"\\u0414\\u0430\\u043d\\u0438\\u043b\\u043e\\u0432\\u0441\\u043a\\u0438\\u0439\", \"\\u041b\\u044e\\u0431\\u043b\\u0438\\u043d\\u043e\", \"\\u041c\\u0430\\u0440\\u044c\\u0438\\u043d\\u043e\", \"\\u041c\\u0438\\u0442\\u0438\\u043d\\u043e\", \"\\u041f\\u0440\\u0435\\u0441\\u043d\\u0435\\u043d\\u0441\\u043a\\u0438\\u0439\", \"\\u0421\\u043f\\u0435\\u0446\\u0442\\u0440\\u0430\\u0441\\u0441\\u044b\", \"\\u0421\\u0442\\u0440\\u043e\\u0433\\u0438\\u043d\\u043e\", \"\\u0425\\u043e\\u0440\\u043e\\u0448\\u0435\\u0432\\u043e-\\u041c\\u043d\\u0435\\u0432\\u043d\\u0438\\u043a\\u0438\"], \"xaxis\": \"x\", \"y\": [0.56, 0.53, 0.48, 0.52, 0.55, 0.51, 0.5, 0.53, 0.51, 0.54], \"yaxis\": \"y\"}],\n",
              "                        {\"barmode\": \"group\", \"legend\": {\"tracegroupgap\": 0}, \"margin\": {\"t\": 60}, \"template\": {\"data\": {\"bar\": [{\"error_x\": {\"color\": \"#2a3f5f\"}, \"error_y\": {\"color\": \"#2a3f5f\"}, \"marker\": {\"line\": {\"color\": \"#E5ECF6\", \"width\": 0.5}}, \"type\": \"bar\"}], \"barpolar\": [{\"marker\": {\"line\": {\"color\": \"#E5ECF6\", \"width\": 0.5}}, \"type\": \"barpolar\"}], \"carpet\": [{\"aaxis\": {\"endlinecolor\": \"#2a3f5f\", \"gridcolor\": \"white\", \"linecolor\": \"white\", \"minorgridcolor\": \"white\", \"startlinecolor\": \"#2a3f5f\"}, \"baxis\": {\"endlinecolor\": \"#2a3f5f\", \"gridcolor\": \"white\", \"linecolor\": \"white\", \"minorgridcolor\": \"white\", \"startlinecolor\": \"#2a3f5f\"}, \"type\": \"carpet\"}], \"choropleth\": [{\"colorbar\": {\"outlinewidth\": 0, \"ticks\": \"\"}, \"type\": \"choropleth\"}], \"contour\": [{\"colorbar\": {\"outlinewidth\": 0, \"ticks\": \"\"}, \"colorscale\": [[0.0, \"#0d0887\"], [0.1111111111111111, \"#46039f\"], [0.2222222222222222, \"#7201a8\"], [0.3333333333333333, \"#9c179e\"], [0.4444444444444444, \"#bd3786\"], [0.5555555555555556, \"#d8576b\"], [0.6666666666666666, \"#ed7953\"], [0.7777777777777778, \"#fb9f3a\"], [0.8888888888888888, \"#fdca26\"], [1.0, \"#f0f921\"]], \"type\": \"contour\"}], \"contourcarpet\": [{\"colorbar\": {\"outlinewidth\": 0, \"ticks\": \"\"}, \"type\": \"contourcarpet\"}], \"heatmap\": [{\"colorbar\": {\"outlinewidth\": 0, \"ticks\": \"\"}, \"colorscale\": [[0.0, \"#0d0887\"], [0.1111111111111111, \"#46039f\"], [0.2222222222222222, \"#7201a8\"], [0.3333333333333333, \"#9c179e\"], [0.4444444444444444, \"#bd3786\"], [0.5555555555555556, \"#d8576b\"], [0.6666666666666666, \"#ed7953\"], [0.7777777777777778, \"#fb9f3a\"], [0.8888888888888888, \"#fdca26\"], [1.0, \"#f0f921\"]], \"type\": \"heatmap\"}], \"heatmapgl\": [{\"colorbar\": {\"outlinewidth\": 0, \"ticks\": \"\"}, \"colorscale\": [[0.0, \"#0d0887\"], [0.1111111111111111, \"#46039f\"], [0.2222222222222222, \"#7201a8\"], [0.3333333333333333, \"#9c179e\"], [0.4444444444444444, \"#bd3786\"], [0.5555555555555556, \"#d8576b\"], [0.6666666666666666, \"#ed7953\"], [0.7777777777777778, \"#fb9f3a\"], [0.8888888888888888, \"#fdca26\"], [1.0, \"#f0f921\"]], \"type\": \"heatmapgl\"}], \"histogram\": [{\"marker\": {\"colorbar\": {\"outlinewidth\": 0, \"ticks\": \"\"}}, \"type\": \"histogram\"}], \"histogram2d\": [{\"colorbar\": {\"outlinewidth\": 0, \"ticks\": \"\"}, \"colorscale\": [[0.0, \"#0d0887\"], [0.1111111111111111, \"#46039f\"], [0.2222222222222222, \"#7201a8\"], [0.3333333333333333, \"#9c179e\"], [0.4444444444444444, \"#bd3786\"], [0.5555555555555556, \"#d8576b\"], [0.6666666666666666, \"#ed7953\"], [0.7777777777777778, \"#fb9f3a\"], [0.8888888888888888, \"#fdca26\"], [1.0, \"#f0f921\"]], \"type\": \"histogram2d\"}], \"histogram2dcontour\": [{\"colorbar\": {\"outlinewidth\": 0, \"ticks\": \"\"}, \"colorscale\": [[0.0, \"#0d0887\"], [0.1111111111111111, \"#46039f\"], [0.2222222222222222, \"#7201a8\"], [0.3333333333333333, \"#9c179e\"], [0.4444444444444444, \"#bd3786\"], [0.5555555555555556, \"#d8576b\"], [0.6666666666666666, \"#ed7953\"], [0.7777777777777778, \"#fb9f3a\"], [0.8888888888888888, \"#fdca26\"], [1.0, \"#f0f921\"]], \"type\": \"histogram2dcontour\"}], \"mesh3d\": [{\"colorbar\": {\"outlinewidth\": 0, \"ticks\": \"\"}, \"type\": \"mesh3d\"}], \"parcoords\": [{\"line\": {\"colorbar\": {\"outlinewidth\": 0, \"ticks\": \"\"}}, \"type\": \"parcoords\"}], \"pie\": [{\"automargin\": true, \"type\": \"pie\"}], \"scatter\": [{\"marker\": {\"colorbar\": {\"outlinewidth\": 0, \"ticks\": \"\"}}, \"type\": \"scatter\"}], \"scatter3d\": [{\"line\": {\"colorbar\": {\"outlinewidth\": 0, \"ticks\": \"\"}}, \"marker\": {\"colorbar\": {\"outlinewidth\": 0, \"ticks\": \"\"}}, \"type\": \"scatter3d\"}], \"scattercarpet\": [{\"marker\": {\"colorbar\": {\"outlinewidth\": 0, \"ticks\": \"\"}}, \"type\": \"scattercarpet\"}], \"scattergeo\": [{\"marker\": {\"colorbar\": {\"outlinewidth\": 0, \"ticks\": \"\"}}, \"type\": \"scattergeo\"}], \"scattergl\": [{\"marker\": {\"colorbar\": {\"outlinewidth\": 0, \"ticks\": \"\"}}, \"type\": \"scattergl\"}], \"scattermapbox\": [{\"marker\": {\"colorbar\": {\"outlinewidth\": 0, \"ticks\": \"\"}}, \"type\": \"scattermapbox\"}], \"scatterpolar\": [{\"marker\": {\"colorbar\": {\"outlinewidth\": 0, \"ticks\": \"\"}}, \"type\": \"scatterpolar\"}], \"scatterpolargl\": [{\"marker\": {\"colorbar\": {\"outlinewidth\": 0, \"ticks\": \"\"}}, \"type\": \"scatterpolargl\"}], \"scatterternary\": [{\"marker\": {\"colorbar\": {\"outlinewidth\": 0, \"ticks\": \"\"}}, \"type\": \"scatterternary\"}], \"surface\": [{\"colorbar\": {\"outlinewidth\": 0, \"ticks\": \"\"}, \"colorscale\": [[0.0, \"#0d0887\"], [0.1111111111111111, \"#46039f\"], [0.2222222222222222, \"#7201a8\"], [0.3333333333333333, \"#9c179e\"], [0.4444444444444444, \"#bd3786\"], [0.5555555555555556, \"#d8576b\"], [0.6666666666666666, \"#ed7953\"], [0.7777777777777778, \"#fb9f3a\"], [0.8888888888888888, \"#fdca26\"], [1.0, \"#f0f921\"]], \"type\": \"surface\"}], \"table\": [{\"cells\": {\"fill\": {\"color\": \"#EBF0F8\"}, \"line\": {\"color\": \"white\"}}, \"header\": {\"fill\": {\"color\": \"#C8D4E3\"}, \"line\": {\"color\": \"white\"}}, \"type\": \"table\"}]}, \"layout\": {\"annotationdefaults\": {\"arrowcolor\": \"#2a3f5f\", \"arrowhead\": 0, \"arrowwidth\": 1}, \"coloraxis\": {\"colorbar\": {\"outlinewidth\": 0, \"ticks\": \"\"}}, \"colorscale\": {\"diverging\": [[0, \"#8e0152\"], [0.1, \"#c51b7d\"], [0.2, \"#de77ae\"], [0.3, \"#f1b6da\"], [0.4, \"#fde0ef\"], [0.5, \"#f7f7f7\"], [0.6, \"#e6f5d0\"], [0.7, \"#b8e186\"], [0.8, \"#7fbc41\"], [0.9, \"#4d9221\"], [1, \"#276419\"]], \"sequential\": [[0.0, \"#0d0887\"], [0.1111111111111111, \"#46039f\"], [0.2222222222222222, \"#7201a8\"], [0.3333333333333333, \"#9c179e\"], [0.4444444444444444, \"#bd3786\"], [0.5555555555555556, \"#d8576b\"], [0.6666666666666666, \"#ed7953\"], [0.7777777777777778, \"#fb9f3a\"], [0.8888888888888888, \"#fdca26\"], [1.0, \"#f0f921\"]], \"sequentialminus\": [[0.0, \"#0d0887\"], [0.1111111111111111, \"#46039f\"], [0.2222222222222222, \"#7201a8\"], [0.3333333333333333, \"#9c179e\"], [0.4444444444444444, \"#bd3786\"], [0.5555555555555556, \"#d8576b\"], [0.6666666666666666, \"#ed7953\"], [0.7777777777777778, \"#fb9f3a\"], [0.8888888888888888, \"#fdca26\"], [1.0, \"#f0f921\"]]}, \"colorway\": [\"#636efa\", \"#EF553B\", \"#00cc96\", \"#ab63fa\", \"#FFA15A\", \"#19d3f3\", \"#FF6692\", \"#B6E880\", \"#FF97FF\", \"#FECB52\"], \"font\": {\"color\": \"#2a3f5f\"}, \"geo\": {\"bgcolor\": \"white\", \"lakecolor\": \"white\", \"landcolor\": \"#E5ECF6\", \"showlakes\": true, \"showland\": true, \"subunitcolor\": \"white\"}, \"hoverlabel\": {\"align\": \"left\"}, \"hovermode\": \"closest\", \"mapbox\": {\"style\": \"light\"}, \"paper_bgcolor\": \"white\", \"plot_bgcolor\": \"#E5ECF6\", \"polar\": {\"angularaxis\": {\"gridcolor\": \"white\", \"linecolor\": \"white\", \"ticks\": \"\"}, \"bgcolor\": \"#E5ECF6\", \"radialaxis\": {\"gridcolor\": \"white\", \"linecolor\": \"white\", \"ticks\": \"\"}}, \"scene\": {\"xaxis\": {\"backgroundcolor\": \"#E5ECF6\", \"gridcolor\": \"white\", \"gridwidth\": 2, \"linecolor\": \"white\", \"showbackground\": true, \"ticks\": \"\", \"zerolinecolor\": \"white\"}, \"yaxis\": {\"backgroundcolor\": \"#E5ECF6\", \"gridcolor\": \"white\", \"gridwidth\": 2, \"linecolor\": \"white\", \"showbackground\": true, \"ticks\": \"\", \"zerolinecolor\": \"white\"}, \"zaxis\": {\"backgroundcolor\": \"#E5ECF6\", \"gridcolor\": \"white\", \"gridwidth\": 2, \"linecolor\": \"white\", \"showbackground\": true, \"ticks\": \"\", \"zerolinecolor\": \"white\"}}, \"shapedefaults\": {\"line\": {\"color\": \"#2a3f5f\"}}, \"ternary\": {\"aaxis\": {\"gridcolor\": \"white\", \"linecolor\": \"white\", \"ticks\": \"\"}, \"baxis\": {\"gridcolor\": \"white\", \"linecolor\": \"white\", \"ticks\": \"\"}, \"bgcolor\": \"#E5ECF6\", \"caxis\": {\"gridcolor\": \"white\", \"linecolor\": \"white\", \"ticks\": \"\"}}, \"title\": {\"x\": 0.05}, \"xaxis\": {\"automargin\": true, \"gridcolor\": \"white\", \"linecolor\": \"white\", \"ticks\": \"\", \"title\": {\"standoff\": 15}, \"zerolinecolor\": \"white\", \"zerolinewidth\": 2}, \"yaxis\": {\"automargin\": true, \"gridcolor\": \"white\", \"linecolor\": \"white\", \"ticks\": \"\", \"title\": {\"standoff\": 15}, \"zerolinecolor\": \"white\", \"zerolinewidth\": 2}}}, \"xaxis\": {\"anchor\": \"y\", \"domain\": [0.0, 1.0], \"title\": {\"text\": \"region\"}}, \"yaxis\": {\"anchor\": \"x\", \"domain\": [0.0, 1.0], \"title\": {\"text\": \"percent_injured\"}}},\n",
              "                        {\"responsive\": true}\n",
              "                    ).then(function(){\n",
              "                            \n",
              "var gd = document.getElementById('01a46a8a-aa24-4ff9-b0dc-dbd28243062d');\n",
              "var x = new MutationObserver(function (mutations, observer) {{\n",
              "        var display = window.getComputedStyle(gd).display;\n",
              "        if (!display || display === 'none') {{\n",
              "            console.log([gd, 'removed!']);\n",
              "            Plotly.purge(gd);\n",
              "            observer.disconnect();\n",
              "        }}\n",
              "}});\n",
              "\n",
              "// Listen for the removal of the full notebook cells\n",
              "var notebookContainer = gd.closest('#notebook-container');\n",
              "if (notebookContainer) {{\n",
              "    x.observe(notebookContainer, {childList: true});\n",
              "}}\n",
              "\n",
              "// Listen for the clearing of the current output cell\n",
              "var outputEl = gd.closest('.output');\n",
              "if (outputEl) {{\n",
              "    x.observe(outputEl, {childList: true});\n",
              "}}\n",
              "\n",
              "                        })\n",
              "                };\n",
              "                \n",
              "            </script>\n",
              "        </div>\n",
              "</body>\n",
              "</html>"
            ]
          },
          "metadata": {}
        }
      ]
    },
    {
      "cell_type": "markdown",
      "metadata": {
        "id": "MIEn4Bv9_lzy"
      },
      "source": [
        "Выводы:\n",
        "1. В Гольяново и Выхино-Жулебино больше всего участников дтп. \n",
        "2. Легкие дтп в целом равномерно распределены по районам.\n",
        "3. С погибшими также чаще всего происходят в Гольяново и Выхино-Жулебино."
      ]
    },
    {
      "cell_type": "code",
      "metadata": {
        "colab": {
          "base_uri": "https://localhost:8080/",
          "height": 542
        },
        "id": "vLzcx98G_dpD",
        "outputId": "d5082dcb-7974-4886-fb41-74f588fb2af3"
      },
      "source": [
        "px.bar(table_region_fin, x='region', y='percent_dead', color='severity')"
      ],
      "execution_count": null,
      "outputs": [
        {
          "output_type": "display_data",
          "data": {
            "text/html": [
              "<html>\n",
              "<head><meta charset=\"utf-8\" /></head>\n",
              "<body>\n",
              "    <div>\n",
              "            <script src=\"https://cdnjs.cloudflare.com/ajax/libs/mathjax/2.7.5/MathJax.js?config=TeX-AMS-MML_SVG\"></script><script type=\"text/javascript\">if (window.MathJax) {MathJax.Hub.Config({SVG: {font: \"STIX-Web\"}});}</script>\n",
              "                <script type=\"text/javascript\">window.PlotlyConfig = {MathJaxConfig: 'local'};</script>\n",
              "        <script src=\"https://cdn.plot.ly/plotly-latest.min.js\"></script>    \n",
              "            <div id=\"10c22e90-5cde-4c25-adc3-6a1e1566ffee\" class=\"plotly-graph-div\" style=\"height:525px; width:100%;\"></div>\n",
              "            <script type=\"text/javascript\">\n",
              "                \n",
              "                    window.PLOTLYENV=window.PLOTLYENV || {};\n",
              "                    \n",
              "                if (document.getElementById(\"10c22e90-5cde-4c25-adc3-6a1e1566ffee\")) {\n",
              "                    Plotly.newPlot(\n",
              "                        '10c22e90-5cde-4c25-adc3-6a1e1566ffee',\n",
              "                        [{\"alignmentgroup\": \"True\", \"hoverlabel\": {\"namelength\": 0}, \"hovertemplate\": \"severity=\\u041b\\u0435\\u0433\\u043a\\u0438\\u0439<br>region=%{x}<br>percent_dead=%{y}\", \"legendgroup\": \"severity=\\u041b\\u0435\\u0433\\u043a\\u0438\\u0439\", \"marker\": {\"color\": \"#636efa\"}, \"name\": \"severity=\\u041b\\u0435\\u0433\\u043a\\u0438\\u0439\", \"offsetgroup\": \"severity=\\u041b\\u0435\\u0433\\u043a\\u0438\\u0439\", \"orientation\": \"v\", \"showlegend\": true, \"textposition\": \"auto\", \"type\": \"bar\", \"x\": [\"\\u0412\\u044b\\u0445\\u0438\\u043d\\u043e-\\u0416\\u0443\\u043b\\u0435\\u0431\\u0438\\u043d\\u043e\", \"\\u0413\\u043e\\u043b\\u044c\\u044f\\u043d\\u043e\\u0432\\u043e\", \"\\u0414\\u0430\\u043d\\u0438\\u043b\\u043e\\u0432\\u0441\\u043a\\u0438\\u0439\", \"\\u041b\\u044e\\u0431\\u043b\\u0438\\u043d\\u043e\", \"\\u041c\\u0430\\u0440\\u044c\\u0438\\u043d\\u043e\", \"\\u041c\\u0438\\u0442\\u0438\\u043d\\u043e\", \"\\u041f\\u0440\\u0435\\u0441\\u043d\\u0435\\u043d\\u0441\\u043a\\u0438\\u0439\", \"\\u0421\\u043f\\u0435\\u0446\\u0442\\u0440\\u0430\\u0441\\u0441\\u044b\", \"\\u0421\\u0442\\u0440\\u043e\\u0433\\u0438\\u043d\\u043e\", \"\\u0425\\u043e\\u0440\\u043e\\u0448\\u0435\\u0432\\u043e-\\u041c\\u043d\\u0435\\u0432\\u043d\\u0438\\u043a\\u0438\"], \"xaxis\": \"x\", \"y\": [0.0, 0.0, 0.0, 0.0, 0.0, 0.0, 0.0, 0.0, 0.0, 0.0], \"yaxis\": \"y\"}, {\"alignmentgroup\": \"True\", \"hoverlabel\": {\"namelength\": 0}, \"hovertemplate\": \"severity=\\u0421 \\u043f\\u043e\\u0433\\u0438\\u0431\\u0448\\u0438\\u043c\\u0438<br>region=%{x}<br>percent_dead=%{y}\", \"legendgroup\": \"severity=\\u0421 \\u043f\\u043e\\u0433\\u0438\\u0431\\u0448\\u0438\\u043c\\u0438\", \"marker\": {\"color\": \"#EF553B\"}, \"name\": \"severity=\\u0421 \\u043f\\u043e\\u0433\\u0438\\u0431\\u0448\\u0438\\u043c\\u0438\", \"offsetgroup\": \"severity=\\u0421 \\u043f\\u043e\\u0433\\u0438\\u0431\\u0448\\u0438\\u043c\\u0438\", \"orientation\": \"v\", \"showlegend\": true, \"textposition\": \"auto\", \"type\": \"bar\", \"x\": [\"\\u0412\\u044b\\u0445\\u0438\\u043d\\u043e-\\u0416\\u0443\\u043b\\u0435\\u0431\\u0438\\u043d\\u043e\", \"\\u0413\\u043e\\u043b\\u044c\\u044f\\u043d\\u043e\\u0432\\u043e\", \"\\u0414\\u0430\\u043d\\u0438\\u043b\\u043e\\u0432\\u0441\\u043a\\u0438\\u0439\", \"\\u041b\\u044e\\u0431\\u043b\\u0438\\u043d\\u043e\", \"\\u041c\\u0430\\u0440\\u044c\\u0438\\u043d\\u043e\", \"\\u041c\\u0438\\u0442\\u0438\\u043d\\u043e\", \"\\u041f\\u0440\\u0435\\u0441\\u043d\\u0435\\u043d\\u0441\\u043a\\u0438\\u0439\", \"\\u0421\\u043f\\u0435\\u0446\\u0442\\u0440\\u0430\\u0441\\u0441\\u044b\", \"\\u0421\\u0442\\u0440\\u043e\\u0433\\u0438\\u043d\\u043e\", \"\\u0425\\u043e\\u0440\\u043e\\u0448\\u0435\\u0432\\u043e-\\u041c\\u043d\\u0435\\u0432\\u043d\\u0438\\u043a\\u0438\"], \"xaxis\": \"x\", \"y\": [0.39, 0.4, 0.43, 0.4, 0.43, 0.43, 0.47, 0.44, 0.41, 0.49], \"yaxis\": \"y\"}, {\"alignmentgroup\": \"True\", \"hoverlabel\": {\"namelength\": 0}, \"hovertemplate\": \"severity=\\u0422\\u044f\\u0436\\u0451\\u043b\\u044b\\u0439<br>region=%{x}<br>percent_dead=%{y}\", \"legendgroup\": \"severity=\\u0422\\u044f\\u0436\\u0451\\u043b\\u044b\\u0439\", \"marker\": {\"color\": \"#00cc96\"}, \"name\": \"severity=\\u0422\\u044f\\u0436\\u0451\\u043b\\u044b\\u0439\", \"offsetgroup\": \"severity=\\u0422\\u044f\\u0436\\u0451\\u043b\\u044b\\u0439\", \"orientation\": \"v\", \"showlegend\": true, \"textposition\": \"auto\", \"type\": \"bar\", \"x\": [\"\\u0412\\u044b\\u0445\\u0438\\u043d\\u043e-\\u0416\\u0443\\u043b\\u0435\\u0431\\u0438\\u043d\\u043e\", \"\\u0413\\u043e\\u043b\\u044c\\u044f\\u043d\\u043e\\u0432\\u043e\", \"\\u0414\\u0430\\u043d\\u0438\\u043b\\u043e\\u0432\\u0441\\u043a\\u0438\\u0439\", \"\\u041b\\u044e\\u0431\\u043b\\u0438\\u043d\\u043e\", \"\\u041c\\u0430\\u0440\\u044c\\u0438\\u043d\\u043e\", \"\\u041c\\u0438\\u0442\\u0438\\u043d\\u043e\", \"\\u041f\\u0440\\u0435\\u0441\\u043d\\u0435\\u043d\\u0441\\u043a\\u0438\\u0439\", \"\\u0421\\u043f\\u0435\\u0446\\u0442\\u0440\\u0430\\u0441\\u0441\\u044b\", \"\\u0421\\u0442\\u0440\\u043e\\u0433\\u0438\\u043d\\u043e\", \"\\u0425\\u043e\\u0440\\u043e\\u0448\\u0435\\u0432\\u043e-\\u041c\\u043d\\u0435\\u0432\\u043d\\u0438\\u043a\\u0438\"], \"xaxis\": \"x\", \"y\": [0.0, 0.0, 0.0, 0.0, 0.0, 0.0, 0.0, 0.0, 0.0, 0.0], \"yaxis\": \"y\"}],\n",
              "                        {\"barmode\": \"relative\", \"legend\": {\"tracegroupgap\": 0}, \"margin\": {\"t\": 60}, \"template\": {\"data\": {\"bar\": [{\"error_x\": {\"color\": \"#2a3f5f\"}, \"error_y\": {\"color\": \"#2a3f5f\"}, \"marker\": {\"line\": {\"color\": \"#E5ECF6\", \"width\": 0.5}}, \"type\": \"bar\"}], \"barpolar\": [{\"marker\": {\"line\": {\"color\": \"#E5ECF6\", \"width\": 0.5}}, \"type\": \"barpolar\"}], \"carpet\": [{\"aaxis\": {\"endlinecolor\": \"#2a3f5f\", \"gridcolor\": \"white\", \"linecolor\": \"white\", \"minorgridcolor\": \"white\", \"startlinecolor\": \"#2a3f5f\"}, \"baxis\": {\"endlinecolor\": \"#2a3f5f\", \"gridcolor\": \"white\", \"linecolor\": \"white\", \"minorgridcolor\": \"white\", \"startlinecolor\": \"#2a3f5f\"}, \"type\": \"carpet\"}], \"choropleth\": [{\"colorbar\": {\"outlinewidth\": 0, \"ticks\": \"\"}, \"type\": \"choropleth\"}], \"contour\": [{\"colorbar\": {\"outlinewidth\": 0, \"ticks\": \"\"}, \"colorscale\": [[0.0, \"#0d0887\"], [0.1111111111111111, \"#46039f\"], [0.2222222222222222, \"#7201a8\"], [0.3333333333333333, \"#9c179e\"], [0.4444444444444444, \"#bd3786\"], [0.5555555555555556, \"#d8576b\"], [0.6666666666666666, \"#ed7953\"], [0.7777777777777778, \"#fb9f3a\"], [0.8888888888888888, \"#fdca26\"], [1.0, \"#f0f921\"]], \"type\": \"contour\"}], \"contourcarpet\": [{\"colorbar\": {\"outlinewidth\": 0, \"ticks\": \"\"}, \"type\": \"contourcarpet\"}], \"heatmap\": [{\"colorbar\": {\"outlinewidth\": 0, \"ticks\": \"\"}, \"colorscale\": [[0.0, \"#0d0887\"], [0.1111111111111111, \"#46039f\"], [0.2222222222222222, \"#7201a8\"], [0.3333333333333333, \"#9c179e\"], [0.4444444444444444, \"#bd3786\"], [0.5555555555555556, \"#d8576b\"], [0.6666666666666666, \"#ed7953\"], [0.7777777777777778, \"#fb9f3a\"], [0.8888888888888888, \"#fdca26\"], [1.0, \"#f0f921\"]], \"type\": \"heatmap\"}], \"heatmapgl\": [{\"colorbar\": {\"outlinewidth\": 0, \"ticks\": \"\"}, \"colorscale\": [[0.0, \"#0d0887\"], [0.1111111111111111, \"#46039f\"], [0.2222222222222222, \"#7201a8\"], [0.3333333333333333, \"#9c179e\"], [0.4444444444444444, \"#bd3786\"], [0.5555555555555556, \"#d8576b\"], [0.6666666666666666, \"#ed7953\"], [0.7777777777777778, \"#fb9f3a\"], [0.8888888888888888, \"#fdca26\"], [1.0, \"#f0f921\"]], \"type\": \"heatmapgl\"}], \"histogram\": [{\"marker\": {\"colorbar\": {\"outlinewidth\": 0, \"ticks\": \"\"}}, \"type\": \"histogram\"}], \"histogram2d\": [{\"colorbar\": {\"outlinewidth\": 0, \"ticks\": \"\"}, \"colorscale\": [[0.0, \"#0d0887\"], [0.1111111111111111, \"#46039f\"], [0.2222222222222222, \"#7201a8\"], [0.3333333333333333, \"#9c179e\"], [0.4444444444444444, \"#bd3786\"], [0.5555555555555556, \"#d8576b\"], [0.6666666666666666, \"#ed7953\"], [0.7777777777777778, \"#fb9f3a\"], [0.8888888888888888, \"#fdca26\"], [1.0, \"#f0f921\"]], \"type\": \"histogram2d\"}], \"histogram2dcontour\": [{\"colorbar\": {\"outlinewidth\": 0, \"ticks\": \"\"}, \"colorscale\": [[0.0, \"#0d0887\"], [0.1111111111111111, \"#46039f\"], [0.2222222222222222, \"#7201a8\"], [0.3333333333333333, \"#9c179e\"], [0.4444444444444444, \"#bd3786\"], [0.5555555555555556, \"#d8576b\"], [0.6666666666666666, \"#ed7953\"], [0.7777777777777778, \"#fb9f3a\"], [0.8888888888888888, \"#fdca26\"], [1.0, \"#f0f921\"]], \"type\": \"histogram2dcontour\"}], \"mesh3d\": [{\"colorbar\": {\"outlinewidth\": 0, \"ticks\": \"\"}, \"type\": \"mesh3d\"}], \"parcoords\": [{\"line\": {\"colorbar\": {\"outlinewidth\": 0, \"ticks\": \"\"}}, \"type\": \"parcoords\"}], \"pie\": [{\"automargin\": true, \"type\": \"pie\"}], \"scatter\": [{\"marker\": {\"colorbar\": {\"outlinewidth\": 0, \"ticks\": \"\"}}, \"type\": \"scatter\"}], \"scatter3d\": [{\"line\": {\"colorbar\": {\"outlinewidth\": 0, \"ticks\": \"\"}}, \"marker\": {\"colorbar\": {\"outlinewidth\": 0, \"ticks\": \"\"}}, \"type\": \"scatter3d\"}], \"scattercarpet\": [{\"marker\": {\"colorbar\": {\"outlinewidth\": 0, \"ticks\": \"\"}}, \"type\": \"scattercarpet\"}], \"scattergeo\": [{\"marker\": {\"colorbar\": {\"outlinewidth\": 0, \"ticks\": \"\"}}, \"type\": \"scattergeo\"}], \"scattergl\": [{\"marker\": {\"colorbar\": {\"outlinewidth\": 0, \"ticks\": \"\"}}, \"type\": \"scattergl\"}], \"scattermapbox\": [{\"marker\": {\"colorbar\": {\"outlinewidth\": 0, \"ticks\": \"\"}}, \"type\": \"scattermapbox\"}], \"scatterpolar\": [{\"marker\": {\"colorbar\": {\"outlinewidth\": 0, \"ticks\": \"\"}}, \"type\": \"scatterpolar\"}], \"scatterpolargl\": [{\"marker\": {\"colorbar\": {\"outlinewidth\": 0, \"ticks\": \"\"}}, \"type\": \"scatterpolargl\"}], \"scatterternary\": [{\"marker\": {\"colorbar\": {\"outlinewidth\": 0, \"ticks\": \"\"}}, \"type\": \"scatterternary\"}], \"surface\": [{\"colorbar\": {\"outlinewidth\": 0, \"ticks\": \"\"}, \"colorscale\": [[0.0, \"#0d0887\"], [0.1111111111111111, \"#46039f\"], [0.2222222222222222, \"#7201a8\"], [0.3333333333333333, \"#9c179e\"], [0.4444444444444444, \"#bd3786\"], [0.5555555555555556, \"#d8576b\"], [0.6666666666666666, \"#ed7953\"], [0.7777777777777778, \"#fb9f3a\"], [0.8888888888888888, \"#fdca26\"], [1.0, \"#f0f921\"]], \"type\": \"surface\"}], \"table\": [{\"cells\": {\"fill\": {\"color\": \"#EBF0F8\"}, \"line\": {\"color\": \"white\"}}, \"header\": {\"fill\": {\"color\": \"#C8D4E3\"}, \"line\": {\"color\": \"white\"}}, \"type\": \"table\"}]}, \"layout\": {\"annotationdefaults\": {\"arrowcolor\": \"#2a3f5f\", \"arrowhead\": 0, \"arrowwidth\": 1}, \"coloraxis\": {\"colorbar\": {\"outlinewidth\": 0, \"ticks\": \"\"}}, \"colorscale\": {\"diverging\": [[0, \"#8e0152\"], [0.1, \"#c51b7d\"], [0.2, \"#de77ae\"], [0.3, \"#f1b6da\"], [0.4, \"#fde0ef\"], [0.5, \"#f7f7f7\"], [0.6, \"#e6f5d0\"], [0.7, \"#b8e186\"], [0.8, \"#7fbc41\"], [0.9, \"#4d9221\"], [1, \"#276419\"]], \"sequential\": [[0.0, \"#0d0887\"], [0.1111111111111111, \"#46039f\"], [0.2222222222222222, \"#7201a8\"], [0.3333333333333333, \"#9c179e\"], [0.4444444444444444, \"#bd3786\"], [0.5555555555555556, \"#d8576b\"], [0.6666666666666666, \"#ed7953\"], [0.7777777777777778, \"#fb9f3a\"], [0.8888888888888888, \"#fdca26\"], [1.0, \"#f0f921\"]], \"sequentialminus\": [[0.0, \"#0d0887\"], [0.1111111111111111, \"#46039f\"], [0.2222222222222222, \"#7201a8\"], [0.3333333333333333, \"#9c179e\"], [0.4444444444444444, \"#bd3786\"], [0.5555555555555556, \"#d8576b\"], [0.6666666666666666, \"#ed7953\"], [0.7777777777777778, \"#fb9f3a\"], [0.8888888888888888, \"#fdca26\"], [1.0, \"#f0f921\"]]}, \"colorway\": [\"#636efa\", \"#EF553B\", \"#00cc96\", \"#ab63fa\", \"#FFA15A\", \"#19d3f3\", \"#FF6692\", \"#B6E880\", \"#FF97FF\", \"#FECB52\"], \"font\": {\"color\": \"#2a3f5f\"}, \"geo\": {\"bgcolor\": \"white\", \"lakecolor\": \"white\", \"landcolor\": \"#E5ECF6\", \"showlakes\": true, \"showland\": true, \"subunitcolor\": \"white\"}, \"hoverlabel\": {\"align\": \"left\"}, \"hovermode\": \"closest\", \"mapbox\": {\"style\": \"light\"}, \"paper_bgcolor\": \"white\", \"plot_bgcolor\": \"#E5ECF6\", \"polar\": {\"angularaxis\": {\"gridcolor\": \"white\", \"linecolor\": \"white\", \"ticks\": \"\"}, \"bgcolor\": \"#E5ECF6\", \"radialaxis\": {\"gridcolor\": \"white\", \"linecolor\": \"white\", \"ticks\": \"\"}}, \"scene\": {\"xaxis\": {\"backgroundcolor\": \"#E5ECF6\", \"gridcolor\": \"white\", \"gridwidth\": 2, \"linecolor\": \"white\", \"showbackground\": true, \"ticks\": \"\", \"zerolinecolor\": \"white\"}, \"yaxis\": {\"backgroundcolor\": \"#E5ECF6\", \"gridcolor\": \"white\", \"gridwidth\": 2, \"linecolor\": \"white\", \"showbackground\": true, \"ticks\": \"\", \"zerolinecolor\": \"white\"}, \"zaxis\": {\"backgroundcolor\": \"#E5ECF6\", \"gridcolor\": \"white\", \"gridwidth\": 2, \"linecolor\": \"white\", \"showbackground\": true, \"ticks\": \"\", \"zerolinecolor\": \"white\"}}, \"shapedefaults\": {\"line\": {\"color\": \"#2a3f5f\"}}, \"ternary\": {\"aaxis\": {\"gridcolor\": \"white\", \"linecolor\": \"white\", \"ticks\": \"\"}, \"baxis\": {\"gridcolor\": \"white\", \"linecolor\": \"white\", \"ticks\": \"\"}, \"bgcolor\": \"#E5ECF6\", \"caxis\": {\"gridcolor\": \"white\", \"linecolor\": \"white\", \"ticks\": \"\"}}, \"title\": {\"x\": 0.05}, \"xaxis\": {\"automargin\": true, \"gridcolor\": \"white\", \"linecolor\": \"white\", \"ticks\": \"\", \"title\": {\"standoff\": 15}, \"zerolinecolor\": \"white\", \"zerolinewidth\": 2}, \"yaxis\": {\"automargin\": true, \"gridcolor\": \"white\", \"linecolor\": \"white\", \"ticks\": \"\", \"title\": {\"standoff\": 15}, \"zerolinecolor\": \"white\", \"zerolinewidth\": 2}}}, \"xaxis\": {\"anchor\": \"y\", \"domain\": [0.0, 1.0], \"title\": {\"text\": \"region\"}}, \"yaxis\": {\"anchor\": \"x\", \"domain\": [0.0, 1.0], \"title\": {\"text\": \"percent_dead\"}}},\n",
              "                        {\"responsive\": true}\n",
              "                    ).then(function(){\n",
              "                            \n",
              "var gd = document.getElementById('10c22e90-5cde-4c25-adc3-6a1e1566ffee');\n",
              "var x = new MutationObserver(function (mutations, observer) {{\n",
              "        var display = window.getComputedStyle(gd).display;\n",
              "        if (!display || display === 'none') {{\n",
              "            console.log([gd, 'removed!']);\n",
              "            Plotly.purge(gd);\n",
              "            observer.disconnect();\n",
              "        }}\n",
              "}});\n",
              "\n",
              "// Listen for the removal of the full notebook cells\n",
              "var notebookContainer = gd.closest('#notebook-container');\n",
              "if (notebookContainer) {{\n",
              "    x.observe(notebookContainer, {childList: true});\n",
              "}}\n",
              "\n",
              "// Listen for the clearing of the current output cell\n",
              "var outputEl = gd.closest('.output');\n",
              "if (outputEl) {{\n",
              "    x.observe(outputEl, {childList: true});\n",
              "}}\n",
              "\n",
              "                        })\n",
              "                };\n",
              "                \n",
              "            </script>\n",
              "        </div>\n",
              "</body>\n",
              "</html>"
            ]
          },
          "metadata": {}
        }
      ]
    },
    {
      "cell_type": "markdown",
      "metadata": {
        "id": "mKb8ZxSZ_eSP"
      },
      "source": [
        "Вывод:\n",
        "\n",
        "Основной процент погибших приходится на Хорошево-Мневники и Пресненский от всех участников."
      ]
    },
    {
      "cell_type": "markdown",
      "metadata": {
        "id": "Gu-12S8wpR7k"
      },
      "source": [
        "# **5.1 Анализ столбца 'participant_categories'**"
      ]
    },
    {
      "cell_type": "markdown",
      "metadata": {
        "id": "c-ooAeqUB_cb"
      },
      "source": [
        "Обратимся к известным функциям:"
      ]
    },
    {
      "cell_type": "code",
      "metadata": {
        "id": "QtvWgUhIpVk6"
      },
      "source": [
        "unique_pc = unique_el('participant_categories', data_all)\n",
        "dict_pc = uniq_count('participant_categories', data_all)"
      ],
      "execution_count": null,
      "outputs": []
    },
    {
      "cell_type": "markdown",
      "metadata": {
        "id": "ERvR_wyxCFGM"
      },
      "source": [
        "В полученном словаре видно, что параметр все участники появляется в каждой строчке и таким образом не несет никакой информации. "
      ]
    },
    {
      "cell_type": "code",
      "metadata": {
        "colab": {
          "base_uri": "https://localhost:8080/"
        },
        "id": "Q0mvAyqFpcY8",
        "outputId": "b39bb3cf-1c54-4ea5-d79f-0b7edd484b0e"
      },
      "source": [
        "dict_pc"
      ],
      "execution_count": null,
      "outputs": [
        {
          "output_type": "execute_result",
          "data": {
            "text/plain": [
              "{'Велосипедисты': 1669,\n",
              " 'Все участники': 57130,\n",
              " 'Дети': 4746,\n",
              " 'Мотоциклисты': 4784,\n",
              " 'Общ. транспорт': 1075,\n",
              " 'Пешеходы': 21102}"
            ]
          },
          "metadata": {},
          "execution_count": 53
        }
      ]
    },
    {
      "cell_type": "markdown",
      "metadata": {
        "id": "U7nXN_hHDI5Z"
      },
      "source": [
        "Заменим столбцы, где только записано 'Все участники' на 'Только водители'."
      ]
    },
    {
      "cell_type": "code",
      "metadata": {
        "id": "sauxb92qUMTR"
      },
      "source": [
        "data_all['participant_categories'] = [['Только водители']\n",
        "                                            if data_all.loc[row,'participant_categories'] == ['Все участники']\n",
        "                                      else data_all.loc[row,'participant_categories']\n",
        "                                          for row in range(len(data_all))]"
      ],
      "execution_count": null,
      "outputs": []
    },
    {
      "cell_type": "markdown",
      "metadata": {
        "id": "fAH7gP8iDiWl"
      },
      "source": [
        "После этого заново создадим словарь с подсчетом встречающихся уникальных значений участников дтп, и удалим из него упоминание 'Все участники'."
      ]
    },
    {
      "cell_type": "code",
      "metadata": {
        "id": "W8yJ6K4KDwZ6"
      },
      "source": [
        "unique_pc = unique_el('participant_categories', data_all)\n",
        "dict_pc = uniq_count('participant_categories', data_all)"
      ],
      "execution_count": null,
      "outputs": []
    },
    {
      "cell_type": "code",
      "metadata": {
        "colab": {
          "base_uri": "https://localhost:8080/",
          "height": 542
        },
        "id": "W5gwqpwwRni1",
        "outputId": "577b2d1c-3d8e-46d8-ac3f-1efb2f765033"
      },
      "source": [
        "del dict_pc['Все участники']\n",
        "go.Figure([go.Bar(x=list(dict_pc.keys()), y = np.array(list(dict_pc.values()))/len(data_all))])\n",
        "#/len(data_all)"
      ],
      "execution_count": null,
      "outputs": [
        {
          "output_type": "display_data",
          "data": {
            "text/html": [
              "<html>\n",
              "<head><meta charset=\"utf-8\" /></head>\n",
              "<body>\n",
              "    <div>\n",
              "            <script src=\"https://cdnjs.cloudflare.com/ajax/libs/mathjax/2.7.5/MathJax.js?config=TeX-AMS-MML_SVG\"></script><script type=\"text/javascript\">if (window.MathJax) {MathJax.Hub.Config({SVG: {font: \"STIX-Web\"}});}</script>\n",
              "                <script type=\"text/javascript\">window.PlotlyConfig = {MathJaxConfig: 'local'};</script>\n",
              "        <script src=\"https://cdn.plot.ly/plotly-latest.min.js\"></script>    \n",
              "            <div id=\"a7778b29-3b34-4c5f-8893-8c3f9467fb1f\" class=\"plotly-graph-div\" style=\"height:525px; width:100%;\"></div>\n",
              "            <script type=\"text/javascript\">\n",
              "                \n",
              "                    window.PLOTLYENV=window.PLOTLYENV || {};\n",
              "                    \n",
              "                if (document.getElementById(\"a7778b29-3b34-4c5f-8893-8c3f9467fb1f\")) {\n",
              "                    Plotly.newPlot(\n",
              "                        'a7778b29-3b34-4c5f-8893-8c3f9467fb1f',\n",
              "                        [{\"type\": \"bar\", \"x\": [\"\\u041f\\u0435\\u0448\\u0435\\u0445\\u043e\\u0434\\u044b\", \"\\u0422\\u043e\\u043b\\u044c\\u043a\\u043e \\u0432\\u043e\\u0434\\u0438\\u0442\\u0435\\u043b\\u0438\", \"\\u0414\\u0435\\u0442\\u0438\", \"\\u041c\\u043e\\u0442\\u043e\\u0446\\u0438\\u043a\\u043b\\u0438\\u0441\\u0442\\u044b\", \"\\u041e\\u0431\\u0449. \\u0442\\u0440\\u0430\\u043d\\u0441\\u043f\\u043e\\u0440\\u0442\", \"\\u0412\\u0435\\u043b\\u043e\\u0441\\u0438\\u043f\\u0435\\u0434\\u0438\\u0441\\u0442\\u044b\"], \"y\": [0.36936810782426044, 0.4783651321547348, 0.08307369158060564, 0.08373884123927884, 0.018816733765097148, 0.029214073166462455]}],\n",
              "                        {\"template\": {\"data\": {\"bar\": [{\"error_x\": {\"color\": \"#2a3f5f\"}, \"error_y\": {\"color\": \"#2a3f5f\"}, \"marker\": {\"line\": {\"color\": \"#E5ECF6\", \"width\": 0.5}}, \"type\": \"bar\"}], \"barpolar\": [{\"marker\": {\"line\": {\"color\": \"#E5ECF6\", \"width\": 0.5}}, \"type\": \"barpolar\"}], \"carpet\": [{\"aaxis\": {\"endlinecolor\": \"#2a3f5f\", \"gridcolor\": \"white\", \"linecolor\": \"white\", \"minorgridcolor\": \"white\", \"startlinecolor\": \"#2a3f5f\"}, \"baxis\": {\"endlinecolor\": \"#2a3f5f\", \"gridcolor\": \"white\", \"linecolor\": \"white\", \"minorgridcolor\": \"white\", \"startlinecolor\": \"#2a3f5f\"}, \"type\": \"carpet\"}], \"choropleth\": [{\"colorbar\": {\"outlinewidth\": 0, \"ticks\": \"\"}, \"type\": \"choropleth\"}], \"contour\": [{\"colorbar\": {\"outlinewidth\": 0, \"ticks\": \"\"}, \"colorscale\": [[0.0, \"#0d0887\"], [0.1111111111111111, \"#46039f\"], [0.2222222222222222, \"#7201a8\"], [0.3333333333333333, \"#9c179e\"], [0.4444444444444444, \"#bd3786\"], [0.5555555555555556, \"#d8576b\"], [0.6666666666666666, \"#ed7953\"], [0.7777777777777778, \"#fb9f3a\"], [0.8888888888888888, \"#fdca26\"], [1.0, \"#f0f921\"]], \"type\": \"contour\"}], \"contourcarpet\": [{\"colorbar\": {\"outlinewidth\": 0, \"ticks\": \"\"}, \"type\": \"contourcarpet\"}], \"heatmap\": [{\"colorbar\": {\"outlinewidth\": 0, \"ticks\": \"\"}, \"colorscale\": [[0.0, \"#0d0887\"], [0.1111111111111111, \"#46039f\"], [0.2222222222222222, \"#7201a8\"], [0.3333333333333333, \"#9c179e\"], [0.4444444444444444, \"#bd3786\"], [0.5555555555555556, \"#d8576b\"], [0.6666666666666666, \"#ed7953\"], [0.7777777777777778, \"#fb9f3a\"], [0.8888888888888888, \"#fdca26\"], [1.0, \"#f0f921\"]], \"type\": \"heatmap\"}], \"heatmapgl\": [{\"colorbar\": {\"outlinewidth\": 0, \"ticks\": \"\"}, \"colorscale\": [[0.0, \"#0d0887\"], [0.1111111111111111, \"#46039f\"], [0.2222222222222222, \"#7201a8\"], [0.3333333333333333, \"#9c179e\"], [0.4444444444444444, \"#bd3786\"], [0.5555555555555556, \"#d8576b\"], [0.6666666666666666, \"#ed7953\"], [0.7777777777777778, \"#fb9f3a\"], [0.8888888888888888, \"#fdca26\"], [1.0, \"#f0f921\"]], \"type\": \"heatmapgl\"}], \"histogram\": [{\"marker\": {\"colorbar\": {\"outlinewidth\": 0, \"ticks\": \"\"}}, \"type\": \"histogram\"}], \"histogram2d\": [{\"colorbar\": {\"outlinewidth\": 0, \"ticks\": \"\"}, \"colorscale\": [[0.0, \"#0d0887\"], [0.1111111111111111, \"#46039f\"], [0.2222222222222222, \"#7201a8\"], [0.3333333333333333, \"#9c179e\"], [0.4444444444444444, \"#bd3786\"], [0.5555555555555556, \"#d8576b\"], [0.6666666666666666, \"#ed7953\"], [0.7777777777777778, \"#fb9f3a\"], [0.8888888888888888, \"#fdca26\"], [1.0, \"#f0f921\"]], \"type\": \"histogram2d\"}], \"histogram2dcontour\": [{\"colorbar\": {\"outlinewidth\": 0, \"ticks\": \"\"}, \"colorscale\": [[0.0, \"#0d0887\"], [0.1111111111111111, \"#46039f\"], [0.2222222222222222, \"#7201a8\"], [0.3333333333333333, \"#9c179e\"], [0.4444444444444444, \"#bd3786\"], [0.5555555555555556, \"#d8576b\"], [0.6666666666666666, \"#ed7953\"], [0.7777777777777778, \"#fb9f3a\"], [0.8888888888888888, \"#fdca26\"], [1.0, \"#f0f921\"]], \"type\": \"histogram2dcontour\"}], \"mesh3d\": [{\"colorbar\": {\"outlinewidth\": 0, \"ticks\": \"\"}, \"type\": \"mesh3d\"}], \"parcoords\": [{\"line\": {\"colorbar\": {\"outlinewidth\": 0, \"ticks\": \"\"}}, \"type\": \"parcoords\"}], \"pie\": [{\"automargin\": true, \"type\": \"pie\"}], \"scatter\": [{\"marker\": {\"colorbar\": {\"outlinewidth\": 0, \"ticks\": \"\"}}, \"type\": \"scatter\"}], \"scatter3d\": [{\"line\": {\"colorbar\": {\"outlinewidth\": 0, \"ticks\": \"\"}}, \"marker\": {\"colorbar\": {\"outlinewidth\": 0, \"ticks\": \"\"}}, \"type\": \"scatter3d\"}], \"scattercarpet\": [{\"marker\": {\"colorbar\": {\"outlinewidth\": 0, \"ticks\": \"\"}}, \"type\": \"scattercarpet\"}], \"scattergeo\": [{\"marker\": {\"colorbar\": {\"outlinewidth\": 0, \"ticks\": \"\"}}, \"type\": \"scattergeo\"}], \"scattergl\": [{\"marker\": {\"colorbar\": {\"outlinewidth\": 0, \"ticks\": \"\"}}, \"type\": \"scattergl\"}], \"scattermapbox\": [{\"marker\": {\"colorbar\": {\"outlinewidth\": 0, \"ticks\": \"\"}}, \"type\": \"scattermapbox\"}], \"scatterpolar\": [{\"marker\": {\"colorbar\": {\"outlinewidth\": 0, \"ticks\": \"\"}}, \"type\": \"scatterpolar\"}], \"scatterpolargl\": [{\"marker\": {\"colorbar\": {\"outlinewidth\": 0, \"ticks\": \"\"}}, \"type\": \"scatterpolargl\"}], \"scatterternary\": [{\"marker\": {\"colorbar\": {\"outlinewidth\": 0, \"ticks\": \"\"}}, \"type\": \"scatterternary\"}], \"surface\": [{\"colorbar\": {\"outlinewidth\": 0, \"ticks\": \"\"}, \"colorscale\": [[0.0, \"#0d0887\"], [0.1111111111111111, \"#46039f\"], [0.2222222222222222, \"#7201a8\"], [0.3333333333333333, \"#9c179e\"], [0.4444444444444444, \"#bd3786\"], [0.5555555555555556, \"#d8576b\"], [0.6666666666666666, \"#ed7953\"], [0.7777777777777778, \"#fb9f3a\"], [0.8888888888888888, \"#fdca26\"], [1.0, \"#f0f921\"]], \"type\": \"surface\"}], \"table\": [{\"cells\": {\"fill\": {\"color\": \"#EBF0F8\"}, \"line\": {\"color\": \"white\"}}, \"header\": {\"fill\": {\"color\": \"#C8D4E3\"}, \"line\": {\"color\": \"white\"}}, \"type\": \"table\"}]}, \"layout\": {\"annotationdefaults\": {\"arrowcolor\": \"#2a3f5f\", \"arrowhead\": 0, \"arrowwidth\": 1}, \"coloraxis\": {\"colorbar\": {\"outlinewidth\": 0, \"ticks\": \"\"}}, \"colorscale\": {\"diverging\": [[0, \"#8e0152\"], [0.1, \"#c51b7d\"], [0.2, \"#de77ae\"], [0.3, \"#f1b6da\"], [0.4, \"#fde0ef\"], [0.5, \"#f7f7f7\"], [0.6, \"#e6f5d0\"], [0.7, \"#b8e186\"], [0.8, \"#7fbc41\"], [0.9, \"#4d9221\"], [1, \"#276419\"]], \"sequential\": [[0.0, \"#0d0887\"], [0.1111111111111111, \"#46039f\"], [0.2222222222222222, \"#7201a8\"], [0.3333333333333333, \"#9c179e\"], [0.4444444444444444, \"#bd3786\"], [0.5555555555555556, \"#d8576b\"], [0.6666666666666666, \"#ed7953\"], [0.7777777777777778, \"#fb9f3a\"], [0.8888888888888888, \"#fdca26\"], [1.0, \"#f0f921\"]], \"sequentialminus\": [[0.0, \"#0d0887\"], [0.1111111111111111, \"#46039f\"], [0.2222222222222222, \"#7201a8\"], [0.3333333333333333, \"#9c179e\"], [0.4444444444444444, \"#bd3786\"], [0.5555555555555556, \"#d8576b\"], [0.6666666666666666, \"#ed7953\"], [0.7777777777777778, \"#fb9f3a\"], [0.8888888888888888, \"#fdca26\"], [1.0, \"#f0f921\"]]}, \"colorway\": [\"#636efa\", \"#EF553B\", \"#00cc96\", \"#ab63fa\", \"#FFA15A\", \"#19d3f3\", \"#FF6692\", \"#B6E880\", \"#FF97FF\", \"#FECB52\"], \"font\": {\"color\": \"#2a3f5f\"}, \"geo\": {\"bgcolor\": \"white\", \"lakecolor\": \"white\", \"landcolor\": \"#E5ECF6\", \"showlakes\": true, \"showland\": true, \"subunitcolor\": \"white\"}, \"hoverlabel\": {\"align\": \"left\"}, \"hovermode\": \"closest\", \"mapbox\": {\"style\": \"light\"}, \"paper_bgcolor\": \"white\", \"plot_bgcolor\": \"#E5ECF6\", \"polar\": {\"angularaxis\": {\"gridcolor\": \"white\", \"linecolor\": \"white\", \"ticks\": \"\"}, \"bgcolor\": \"#E5ECF6\", \"radialaxis\": {\"gridcolor\": \"white\", \"linecolor\": \"white\", \"ticks\": \"\"}}, \"scene\": {\"xaxis\": {\"backgroundcolor\": \"#E5ECF6\", \"gridcolor\": \"white\", \"gridwidth\": 2, \"linecolor\": \"white\", \"showbackground\": true, \"ticks\": \"\", \"zerolinecolor\": \"white\"}, \"yaxis\": {\"backgroundcolor\": \"#E5ECF6\", \"gridcolor\": \"white\", \"gridwidth\": 2, \"linecolor\": \"white\", \"showbackground\": true, \"ticks\": \"\", \"zerolinecolor\": \"white\"}, \"zaxis\": {\"backgroundcolor\": \"#E5ECF6\", \"gridcolor\": \"white\", \"gridwidth\": 2, \"linecolor\": \"white\", \"showbackground\": true, \"ticks\": \"\", \"zerolinecolor\": \"white\"}}, \"shapedefaults\": {\"line\": {\"color\": \"#2a3f5f\"}}, \"ternary\": {\"aaxis\": {\"gridcolor\": \"white\", \"linecolor\": \"white\", \"ticks\": \"\"}, \"baxis\": {\"gridcolor\": \"white\", \"linecolor\": \"white\", \"ticks\": \"\"}, \"bgcolor\": \"#E5ECF6\", \"caxis\": {\"gridcolor\": \"white\", \"linecolor\": \"white\", \"ticks\": \"\"}}, \"title\": {\"x\": 0.05}, \"xaxis\": {\"automargin\": true, \"gridcolor\": \"white\", \"linecolor\": \"white\", \"ticks\": \"\", \"title\": {\"standoff\": 15}, \"zerolinecolor\": \"white\", \"zerolinewidth\": 2}, \"yaxis\": {\"automargin\": true, \"gridcolor\": \"white\", \"linecolor\": \"white\", \"ticks\": \"\", \"title\": {\"standoff\": 15}, \"zerolinecolor\": \"white\", \"zerolinewidth\": 2}}}},\n",
              "                        {\"responsive\": true}\n",
              "                    ).then(function(){\n",
              "                            \n",
              "var gd = document.getElementById('a7778b29-3b34-4c5f-8893-8c3f9467fb1f');\n",
              "var x = new MutationObserver(function (mutations, observer) {{\n",
              "        var display = window.getComputedStyle(gd).display;\n",
              "        if (!display || display === 'none') {{\n",
              "            console.log([gd, 'removed!']);\n",
              "            Plotly.purge(gd);\n",
              "            observer.disconnect();\n",
              "        }}\n",
              "}});\n",
              "\n",
              "// Listen for the removal of the full notebook cells\n",
              "var notebookContainer = gd.closest('#notebook-container');\n",
              "if (notebookContainer) {{\n",
              "    x.observe(notebookContainer, {childList: true});\n",
              "}}\n",
              "\n",
              "// Listen for the clearing of the current output cell\n",
              "var outputEl = gd.closest('.output');\n",
              "if (outputEl) {{\n",
              "    x.observe(outputEl, {childList: true});\n",
              "}}\n",
              "\n",
              "                        })\n",
              "                };\n",
              "                \n",
              "            </script>\n",
              "        </div>\n",
              "</body>\n",
              "</html>"
            ]
          },
          "metadata": {}
        }
      ]
    },
    {
      "cell_type": "markdown",
      "metadata": {
        "id": "tq9XcWxSqIWz"
      },
      "source": [
        "Выводы:\n",
        "1. Основные участники дтп это только водители 47%\n",
        "2. В 37% дтп участвуют пешеходы.\n",
        "3. В 8% участвуют дети или мотоциклисты.\n",
        "4. На общественный транспорт или велосипедистов остается 2 и 3% соответственно."
      ]
    },
    {
      "cell_type": "markdown",
      "metadata": {
        "id": "-VJU8O7QaCDN"
      },
      "source": [
        "# **5.2 Анализ влияния погодных условий на дтп.**"
      ]
    },
    {
      "cell_type": "markdown",
      "metadata": {
        "id": "sp6pSGVoaJTt"
      },
      "source": [
        "Посмотрим на уникальные параметры погоды:"
      ]
    },
    {
      "cell_type": "code",
      "metadata": {
        "id": "wigoLwwrW2wi"
      },
      "source": [
        "unique_weather = unique_el('weather', data_all)\n",
        "dict_weather = uniq_count('weather', data_all)"
      ],
      "execution_count": null,
      "outputs": []
    },
    {
      "cell_type": "markdown",
      "metadata": {
        "id": "PGI5D8vdaM2x"
      },
      "source": [
        "Создадим словарь с частотой упоминания того или иного описания погоды:"
      ]
    },
    {
      "cell_type": "code",
      "metadata": {
        "colab": {
          "base_uri": "https://localhost:8080/"
        },
        "id": "NFf-jqfjKGiv",
        "outputId": "5d532921-6ef6-4233-8ade-bf9a0b176a81"
      },
      "source": [
        "dict_weather"
      ],
      "execution_count": null,
      "outputs": [
        {
          "output_type": "execute_result",
          "data": {
            "text/plain": [
              "{'Дождь': 2518,\n",
              " 'Метель': 17,\n",
              " 'Пасмурно': 30008,\n",
              " 'Снегопад': 1379,\n",
              " 'Температура выше +30С': 6,\n",
              " 'Температура ниже -30С': 2,\n",
              " 'Туман': 28,\n",
              " 'Ураганный ветер': 1,\n",
              " 'Ясно': 23695}"
            ]
          },
          "metadata": {},
          "execution_count": 51
        }
      ]
    },
    {
      "cell_type": "markdown",
      "metadata": {
        "id": "u6smMBkzaTME"
      },
      "source": [
        "Представим полученные данные на графике."
      ]
    },
    {
      "cell_type": "code",
      "metadata": {
        "colab": {
          "base_uri": "https://localhost:8080/",
          "height": 542
        },
        "id": "sBycSHkLXhJw",
        "outputId": "e62875ce-b5a6-46e1-c155-bc920b29d3e2"
      },
      "source": [
        "fig = go.Figure([go.Bar(x=list(dict_weather.keys()), y = list(dict_weather.values()))])\n",
        "fig.show()"
      ],
      "execution_count": null,
      "outputs": [
        {
          "output_type": "display_data",
          "data": {
            "text/html": [
              "<html>\n",
              "<head><meta charset=\"utf-8\" /></head>\n",
              "<body>\n",
              "    <div>\n",
              "            <script src=\"https://cdnjs.cloudflare.com/ajax/libs/mathjax/2.7.5/MathJax.js?config=TeX-AMS-MML_SVG\"></script><script type=\"text/javascript\">if (window.MathJax) {MathJax.Hub.Config({SVG: {font: \"STIX-Web\"}});}</script>\n",
              "                <script type=\"text/javascript\">window.PlotlyConfig = {MathJaxConfig: 'local'};</script>\n",
              "        <script src=\"https://cdn.plot.ly/plotly-latest.min.js\"></script>    \n",
              "            <div id=\"59bd6129-db8f-43b8-9787-8baac2a46516\" class=\"plotly-graph-div\" style=\"height:525px; width:100%;\"></div>\n",
              "            <script type=\"text/javascript\">\n",
              "                \n",
              "                    window.PLOTLYENV=window.PLOTLYENV || {};\n",
              "                    \n",
              "                if (document.getElementById(\"59bd6129-db8f-43b8-9787-8baac2a46516\")) {\n",
              "                    Plotly.newPlot(\n",
              "                        '59bd6129-db8f-43b8-9787-8baac2a46516',\n",
              "                        [{\"type\": \"bar\", \"x\": [\"\\u042f\\u0441\\u043d\\u043e\", \"\\u041f\\u0430\\u0441\\u043c\\u0443\\u0440\\u043d\\u043e\", \"\\u0414\\u043e\\u0436\\u0434\\u044c\", \"\\u0421\\u043d\\u0435\\u0433\\u043e\\u043f\\u0430\\u0434\", \"\\u0422\\u0443\\u043c\\u0430\\u043d\", \"\\u0422\\u0435\\u043c\\u043f\\u0435\\u0440\\u0430\\u0442\\u0443\\u0440\\u0430 \\u0432\\u044b\\u0448\\u0435 +30\\u0421\", \"\\u0423\\u0440\\u0430\\u0433\\u0430\\u043d\\u043d\\u044b\\u0439 \\u0432\\u0435\\u0442\\u0435\\u0440\", \"\\u041c\\u0435\\u0442\\u0435\\u043b\\u044c\", \"\\u0422\\u0435\\u043c\\u043f\\u0435\\u0440\\u0430\\u0442\\u0443\\u0440\\u0430 \\u043d\\u0438\\u0436\\u0435 -30\\u0421\"], \"y\": [23695, 30008, 2518, 1379, 28, 6, 1, 17, 2]}],\n",
              "                        {\"template\": {\"data\": {\"bar\": [{\"error_x\": {\"color\": \"#2a3f5f\"}, \"error_y\": {\"color\": \"#2a3f5f\"}, \"marker\": {\"line\": {\"color\": \"#E5ECF6\", \"width\": 0.5}}, \"type\": \"bar\"}], \"barpolar\": [{\"marker\": {\"line\": {\"color\": \"#E5ECF6\", \"width\": 0.5}}, \"type\": \"barpolar\"}], \"carpet\": [{\"aaxis\": {\"endlinecolor\": \"#2a3f5f\", \"gridcolor\": \"white\", \"linecolor\": \"white\", \"minorgridcolor\": \"white\", \"startlinecolor\": \"#2a3f5f\"}, \"baxis\": {\"endlinecolor\": \"#2a3f5f\", \"gridcolor\": \"white\", \"linecolor\": \"white\", \"minorgridcolor\": \"white\", \"startlinecolor\": \"#2a3f5f\"}, \"type\": \"carpet\"}], \"choropleth\": [{\"colorbar\": {\"outlinewidth\": 0, \"ticks\": \"\"}, \"type\": \"choropleth\"}], \"contour\": [{\"colorbar\": {\"outlinewidth\": 0, \"ticks\": \"\"}, \"colorscale\": [[0.0, \"#0d0887\"], [0.1111111111111111, \"#46039f\"], [0.2222222222222222, \"#7201a8\"], [0.3333333333333333, \"#9c179e\"], [0.4444444444444444, \"#bd3786\"], [0.5555555555555556, \"#d8576b\"], [0.6666666666666666, \"#ed7953\"], [0.7777777777777778, \"#fb9f3a\"], [0.8888888888888888, \"#fdca26\"], [1.0, \"#f0f921\"]], \"type\": \"contour\"}], \"contourcarpet\": [{\"colorbar\": {\"outlinewidth\": 0, \"ticks\": \"\"}, \"type\": \"contourcarpet\"}], \"heatmap\": [{\"colorbar\": {\"outlinewidth\": 0, \"ticks\": \"\"}, \"colorscale\": [[0.0, \"#0d0887\"], [0.1111111111111111, \"#46039f\"], [0.2222222222222222, \"#7201a8\"], [0.3333333333333333, \"#9c179e\"], [0.4444444444444444, \"#bd3786\"], [0.5555555555555556, \"#d8576b\"], [0.6666666666666666, \"#ed7953\"], [0.7777777777777778, \"#fb9f3a\"], [0.8888888888888888, \"#fdca26\"], [1.0, \"#f0f921\"]], \"type\": \"heatmap\"}], \"heatmapgl\": [{\"colorbar\": {\"outlinewidth\": 0, \"ticks\": \"\"}, \"colorscale\": [[0.0, \"#0d0887\"], [0.1111111111111111, \"#46039f\"], [0.2222222222222222, \"#7201a8\"], [0.3333333333333333, \"#9c179e\"], [0.4444444444444444, \"#bd3786\"], [0.5555555555555556, \"#d8576b\"], [0.6666666666666666, \"#ed7953\"], [0.7777777777777778, \"#fb9f3a\"], [0.8888888888888888, \"#fdca26\"], [1.0, \"#f0f921\"]], \"type\": \"heatmapgl\"}], \"histogram\": [{\"marker\": {\"colorbar\": {\"outlinewidth\": 0, \"ticks\": \"\"}}, \"type\": \"histogram\"}], \"histogram2d\": [{\"colorbar\": {\"outlinewidth\": 0, \"ticks\": \"\"}, \"colorscale\": [[0.0, \"#0d0887\"], [0.1111111111111111, \"#46039f\"], [0.2222222222222222, \"#7201a8\"], [0.3333333333333333, \"#9c179e\"], [0.4444444444444444, \"#bd3786\"], [0.5555555555555556, \"#d8576b\"], [0.6666666666666666, \"#ed7953\"], [0.7777777777777778, \"#fb9f3a\"], [0.8888888888888888, \"#fdca26\"], [1.0, \"#f0f921\"]], \"type\": \"histogram2d\"}], \"histogram2dcontour\": [{\"colorbar\": {\"outlinewidth\": 0, \"ticks\": \"\"}, \"colorscale\": [[0.0, \"#0d0887\"], [0.1111111111111111, \"#46039f\"], [0.2222222222222222, \"#7201a8\"], [0.3333333333333333, \"#9c179e\"], [0.4444444444444444, \"#bd3786\"], [0.5555555555555556, \"#d8576b\"], [0.6666666666666666, \"#ed7953\"], [0.7777777777777778, \"#fb9f3a\"], [0.8888888888888888, \"#fdca26\"], [1.0, \"#f0f921\"]], \"type\": \"histogram2dcontour\"}], \"mesh3d\": [{\"colorbar\": {\"outlinewidth\": 0, \"ticks\": \"\"}, \"type\": \"mesh3d\"}], \"parcoords\": [{\"line\": {\"colorbar\": {\"outlinewidth\": 0, \"ticks\": \"\"}}, \"type\": \"parcoords\"}], \"pie\": [{\"automargin\": true, \"type\": \"pie\"}], \"scatter\": [{\"marker\": {\"colorbar\": {\"outlinewidth\": 0, \"ticks\": \"\"}}, \"type\": \"scatter\"}], \"scatter3d\": [{\"line\": {\"colorbar\": {\"outlinewidth\": 0, \"ticks\": \"\"}}, \"marker\": {\"colorbar\": {\"outlinewidth\": 0, \"ticks\": \"\"}}, \"type\": \"scatter3d\"}], \"scattercarpet\": [{\"marker\": {\"colorbar\": {\"outlinewidth\": 0, \"ticks\": \"\"}}, \"type\": \"scattercarpet\"}], \"scattergeo\": [{\"marker\": {\"colorbar\": {\"outlinewidth\": 0, \"ticks\": \"\"}}, \"type\": \"scattergeo\"}], \"scattergl\": [{\"marker\": {\"colorbar\": {\"outlinewidth\": 0, \"ticks\": \"\"}}, \"type\": \"scattergl\"}], \"scattermapbox\": [{\"marker\": {\"colorbar\": {\"outlinewidth\": 0, \"ticks\": \"\"}}, \"type\": \"scattermapbox\"}], \"scatterpolar\": [{\"marker\": {\"colorbar\": {\"outlinewidth\": 0, \"ticks\": \"\"}}, \"type\": \"scatterpolar\"}], \"scatterpolargl\": [{\"marker\": {\"colorbar\": {\"outlinewidth\": 0, \"ticks\": \"\"}}, \"type\": \"scatterpolargl\"}], \"scatterternary\": [{\"marker\": {\"colorbar\": {\"outlinewidth\": 0, \"ticks\": \"\"}}, \"type\": \"scatterternary\"}], \"surface\": [{\"colorbar\": {\"outlinewidth\": 0, \"ticks\": \"\"}, \"colorscale\": [[0.0, \"#0d0887\"], [0.1111111111111111, \"#46039f\"], [0.2222222222222222, \"#7201a8\"], [0.3333333333333333, \"#9c179e\"], [0.4444444444444444, \"#bd3786\"], [0.5555555555555556, \"#d8576b\"], [0.6666666666666666, \"#ed7953\"], [0.7777777777777778, \"#fb9f3a\"], [0.8888888888888888, \"#fdca26\"], [1.0, \"#f0f921\"]], \"type\": \"surface\"}], \"table\": [{\"cells\": {\"fill\": {\"color\": \"#EBF0F8\"}, \"line\": {\"color\": \"white\"}}, \"header\": {\"fill\": {\"color\": \"#C8D4E3\"}, \"line\": {\"color\": \"white\"}}, \"type\": \"table\"}]}, \"layout\": {\"annotationdefaults\": {\"arrowcolor\": \"#2a3f5f\", \"arrowhead\": 0, \"arrowwidth\": 1}, \"coloraxis\": {\"colorbar\": {\"outlinewidth\": 0, \"ticks\": \"\"}}, \"colorscale\": {\"diverging\": [[0, \"#8e0152\"], [0.1, \"#c51b7d\"], [0.2, \"#de77ae\"], [0.3, \"#f1b6da\"], [0.4, \"#fde0ef\"], [0.5, \"#f7f7f7\"], [0.6, \"#e6f5d0\"], [0.7, \"#b8e186\"], [0.8, \"#7fbc41\"], [0.9, \"#4d9221\"], [1, \"#276419\"]], \"sequential\": [[0.0, \"#0d0887\"], [0.1111111111111111, \"#46039f\"], [0.2222222222222222, \"#7201a8\"], [0.3333333333333333, \"#9c179e\"], [0.4444444444444444, \"#bd3786\"], [0.5555555555555556, \"#d8576b\"], [0.6666666666666666, \"#ed7953\"], [0.7777777777777778, \"#fb9f3a\"], [0.8888888888888888, \"#fdca26\"], [1.0, \"#f0f921\"]], \"sequentialminus\": [[0.0, \"#0d0887\"], [0.1111111111111111, \"#46039f\"], [0.2222222222222222, \"#7201a8\"], [0.3333333333333333, \"#9c179e\"], [0.4444444444444444, \"#bd3786\"], [0.5555555555555556, \"#d8576b\"], [0.6666666666666666, \"#ed7953\"], [0.7777777777777778, \"#fb9f3a\"], [0.8888888888888888, \"#fdca26\"], [1.0, \"#f0f921\"]]}, \"colorway\": [\"#636efa\", \"#EF553B\", \"#00cc96\", \"#ab63fa\", \"#FFA15A\", \"#19d3f3\", \"#FF6692\", \"#B6E880\", \"#FF97FF\", \"#FECB52\"], \"font\": {\"color\": \"#2a3f5f\"}, \"geo\": {\"bgcolor\": \"white\", \"lakecolor\": \"white\", \"landcolor\": \"#E5ECF6\", \"showlakes\": true, \"showland\": true, \"subunitcolor\": \"white\"}, \"hoverlabel\": {\"align\": \"left\"}, \"hovermode\": \"closest\", \"mapbox\": {\"style\": \"light\"}, \"paper_bgcolor\": \"white\", \"plot_bgcolor\": \"#E5ECF6\", \"polar\": {\"angularaxis\": {\"gridcolor\": \"white\", \"linecolor\": \"white\", \"ticks\": \"\"}, \"bgcolor\": \"#E5ECF6\", \"radialaxis\": {\"gridcolor\": \"white\", \"linecolor\": \"white\", \"ticks\": \"\"}}, \"scene\": {\"xaxis\": {\"backgroundcolor\": \"#E5ECF6\", \"gridcolor\": \"white\", \"gridwidth\": 2, \"linecolor\": \"white\", \"showbackground\": true, \"ticks\": \"\", \"zerolinecolor\": \"white\"}, \"yaxis\": {\"backgroundcolor\": \"#E5ECF6\", \"gridcolor\": \"white\", \"gridwidth\": 2, \"linecolor\": \"white\", \"showbackground\": true, \"ticks\": \"\", \"zerolinecolor\": \"white\"}, \"zaxis\": {\"backgroundcolor\": \"#E5ECF6\", \"gridcolor\": \"white\", \"gridwidth\": 2, \"linecolor\": \"white\", \"showbackground\": true, \"ticks\": \"\", \"zerolinecolor\": \"white\"}}, \"shapedefaults\": {\"line\": {\"color\": \"#2a3f5f\"}}, \"ternary\": {\"aaxis\": {\"gridcolor\": \"white\", \"linecolor\": \"white\", \"ticks\": \"\"}, \"baxis\": {\"gridcolor\": \"white\", \"linecolor\": \"white\", \"ticks\": \"\"}, \"bgcolor\": \"#E5ECF6\", \"caxis\": {\"gridcolor\": \"white\", \"linecolor\": \"white\", \"ticks\": \"\"}}, \"title\": {\"x\": 0.05}, \"xaxis\": {\"automargin\": true, \"gridcolor\": \"white\", \"linecolor\": \"white\", \"ticks\": \"\", \"title\": {\"standoff\": 15}, \"zerolinecolor\": \"white\", \"zerolinewidth\": 2}, \"yaxis\": {\"automargin\": true, \"gridcolor\": \"white\", \"linecolor\": \"white\", \"ticks\": \"\", \"title\": {\"standoff\": 15}, \"zerolinecolor\": \"white\", \"zerolinewidth\": 2}}}},\n",
              "                        {\"responsive\": true}\n",
              "                    ).then(function(){\n",
              "                            \n",
              "var gd = document.getElementById('59bd6129-db8f-43b8-9787-8baac2a46516');\n",
              "var x = new MutationObserver(function (mutations, observer) {{\n",
              "        var display = window.getComputedStyle(gd).display;\n",
              "        if (!display || display === 'none') {{\n",
              "            console.log([gd, 'removed!']);\n",
              "            Plotly.purge(gd);\n",
              "            observer.disconnect();\n",
              "        }}\n",
              "}});\n",
              "\n",
              "// Listen for the removal of the full notebook cells\n",
              "var notebookContainer = gd.closest('#notebook-container');\n",
              "if (notebookContainer) {{\n",
              "    x.observe(notebookContainer, {childList: true});\n",
              "}}\n",
              "\n",
              "// Listen for the clearing of the current output cell\n",
              "var outputEl = gd.closest('.output');\n",
              "if (outputEl) {{\n",
              "    x.observe(outputEl, {childList: true});\n",
              "}}\n",
              "\n",
              "                        })\n",
              "                };\n",
              "                \n",
              "            </script>\n",
              "        </div>\n",
              "</body>\n",
              "</html>"
            ]
          },
          "metadata": {}
        }
      ]
    },
    {
      "cell_type": "markdown",
      "metadata": {
        "id": "b8b0Q3b5aYRk"
      },
      "source": [
        "Выводы:\n",
        "1. Основное описание погодных условий, это или пасмурно или ясно. \n",
        "2.  Для погодных условий \"Пасмурно\" существует уточнение и разделение на дождь или снег. Таких событий всего 2518 и 1379 соответственно.\n",
        "3. Остальные уточнения важны, но данных по ним очень мало и не несут статистическую значимость(их меньше 1% от всех событий).\n",
        "4. Заменим все уточнения на: ясно, пасмурно или остальное."
      ]
    },
    {
      "cell_type": "code",
      "metadata": {
        "id": "rkIvDf3HbT-V"
      },
      "source": [
        "data_all['weather'] = ['Ясно'\n",
        "                       if 'Ясно' in list(data_all.loc[row, 'weather'])\n",
        "                       else 'Пасмурно'\n",
        "                       if 'Пасмурно' in list(data_all.loc[row, 'weather'])\n",
        "                       else 'Остальное'\n",
        "                       for row in range(len(data_all))]\n"
      ],
      "execution_count": null,
      "outputs": []
    },
    {
      "cell_type": "markdown",
      "metadata": {
        "id": "h-WCMIbDEqo0"
      },
      "source": [
        "Таким образом мы получили только три уникальных варианта погодных условий: 'Ясно', 'Пасмурно', 'Остальное'. Частота с которой встречаются дтп при этих условиях:"
      ]
    },
    {
      "cell_type": "code",
      "metadata": {
        "colab": {
          "base_uri": "https://localhost:8080/"
        },
        "id": "Nu1-UN0-mCPH",
        "outputId": "6a3cfbb1-c36f-4380-979a-f5a82aae64f6"
      },
      "source": [
        "data_all.weather.value_counts()"
      ],
      "execution_count": null,
      "outputs": [
        {
          "output_type": "execute_result",
          "data": {
            "text/plain": [
              "Пасмурно     30008\n",
              "Ясно         23695\n",
              "Остальное     3427\n",
              "Name: weather, dtype: int64"
            ]
          },
          "metadata": {},
          "execution_count": 57
        }
      ]
    },
    {
      "cell_type": "markdown",
      "metadata": {
        "id": "EEBHLXBsFBPe"
      },
      "source": [
        "Создадим сводную таблицу и посмотрим на распределение типов дтп при каждом из таких погодных условий."
      ]
    },
    {
      "cell_type": "code",
      "metadata": {
        "colab": {
          "base_uri": "https://localhost:8080/",
          "height": 331
        },
        "id": "wVRGleKrZTMI",
        "outputId": "7b8cd8a2-1f9b-4177-a774-e0de3746376d"
      },
      "source": [
        "table_weather_people = uniq_pivot('weather', data_all)\n",
        "table_weather_people"
      ],
      "execution_count": null,
      "outputs": [
        {
          "output_type": "execute_result",
          "data": {
            "text/html": [
              "<div>\n",
              "<style scoped>\n",
              "    .dataframe tbody tr th:only-of-type {\n",
              "        vertical-align: middle;\n",
              "    }\n",
              "\n",
              "    .dataframe tbody tr th {\n",
              "        vertical-align: top;\n",
              "    }\n",
              "\n",
              "    .dataframe thead th {\n",
              "        text-align: right;\n",
              "    }\n",
              "</style>\n",
              "<table border=\"1\" class=\"dataframe\">\n",
              "  <thead>\n",
              "    <tr style=\"text-align: right;\">\n",
              "      <th></th>\n",
              "      <th>weather</th>\n",
              "      <th>severity</th>\n",
              "      <th>dead_count</th>\n",
              "      <th>injured_count</th>\n",
              "      <th>participants_count</th>\n",
              "      <th>percent_injured</th>\n",
              "      <th>percent_dead</th>\n",
              "    </tr>\n",
              "  </thead>\n",
              "  <tbody>\n",
              "    <tr>\n",
              "      <th>0</th>\n",
              "      <td>Остальное</td>\n",
              "      <td>Легкий</td>\n",
              "      <td>0</td>\n",
              "      <td>2438</td>\n",
              "      <td>5055</td>\n",
              "      <td>0.48</td>\n",
              "      <td>0.00</td>\n",
              "    </tr>\n",
              "    <tr>\n",
              "      <th>1</th>\n",
              "      <td>Остальное</td>\n",
              "      <td>С погибшими</td>\n",
              "      <td>227</td>\n",
              "      <td>105</td>\n",
              "      <td>535</td>\n",
              "      <td>0.20</td>\n",
              "      <td>0.42</td>\n",
              "    </tr>\n",
              "    <tr>\n",
              "      <th>2</th>\n",
              "      <td>Остальное</td>\n",
              "      <td>Тяжёлый</td>\n",
              "      <td>0</td>\n",
              "      <td>1492</td>\n",
              "      <td>2801</td>\n",
              "      <td>0.53</td>\n",
              "      <td>0.00</td>\n",
              "    </tr>\n",
              "    <tr>\n",
              "      <th>3</th>\n",
              "      <td>Пасмурно</td>\n",
              "      <td>Легкий</td>\n",
              "      <td>0</td>\n",
              "      <td>24332</td>\n",
              "      <td>51255</td>\n",
              "      <td>0.47</td>\n",
              "      <td>0.00</td>\n",
              "    </tr>\n",
              "    <tr>\n",
              "      <th>4</th>\n",
              "      <td>Пасмурно</td>\n",
              "      <td>С погибшими</td>\n",
              "      <td>1629</td>\n",
              "      <td>657</td>\n",
              "      <td>3720</td>\n",
              "      <td>0.18</td>\n",
              "      <td>0.44</td>\n",
              "    </tr>\n",
              "    <tr>\n",
              "      <th>5</th>\n",
              "      <td>Пасмурно</td>\n",
              "      <td>Тяжёлый</td>\n",
              "      <td>0</td>\n",
              "      <td>9317</td>\n",
              "      <td>17668</td>\n",
              "      <td>0.53</td>\n",
              "      <td>0.00</td>\n",
              "    </tr>\n",
              "    <tr>\n",
              "      <th>6</th>\n",
              "      <td>Ясно</td>\n",
              "      <td>Легкий</td>\n",
              "      <td>0</td>\n",
              "      <td>17994</td>\n",
              "      <td>38170</td>\n",
              "      <td>0.47</td>\n",
              "      <td>0.00</td>\n",
              "    </tr>\n",
              "    <tr>\n",
              "      <th>7</th>\n",
              "      <td>Ясно</td>\n",
              "      <td>С погибшими</td>\n",
              "      <td>1237</td>\n",
              "      <td>488</td>\n",
              "      <td>2861</td>\n",
              "      <td>0.17</td>\n",
              "      <td>0.43</td>\n",
              "    </tr>\n",
              "    <tr>\n",
              "      <th>8</th>\n",
              "      <td>Ясно</td>\n",
              "      <td>Тяжёлый</td>\n",
              "      <td>0</td>\n",
              "      <td>8402</td>\n",
              "      <td>16051</td>\n",
              "      <td>0.52</td>\n",
              "      <td>0.00</td>\n",
              "    </tr>\n",
              "  </tbody>\n",
              "</table>\n",
              "</div>"
            ],
            "text/plain": [
              "     weather     severity  ...  percent_injured  percent_dead\n",
              "0  Остальное       Легкий  ...             0.48          0.00\n",
              "1  Остальное  С погибшими  ...             0.20          0.42\n",
              "2  Остальное      Тяжёлый  ...             0.53          0.00\n",
              "3   Пасмурно       Легкий  ...             0.47          0.00\n",
              "4   Пасмурно  С погибшими  ...             0.18          0.44\n",
              "5   Пасмурно      Тяжёлый  ...             0.53          0.00\n",
              "6       Ясно       Легкий  ...             0.47          0.00\n",
              "7       Ясно  С погибшими  ...             0.17          0.43\n",
              "8       Ясно      Тяжёлый  ...             0.52          0.00\n",
              "\n",
              "[9 rows x 7 columns]"
            ]
          },
          "metadata": {},
          "execution_count": 59
        }
      ]
    },
    {
      "cell_type": "code",
      "metadata": {
        "colab": {
          "base_uri": "https://localhost:8080/",
          "height": 542
        },
        "id": "1-SjC0iGZ3J5",
        "outputId": "0a460838-1bbd-477b-d07a-abf035e5979b"
      },
      "source": [
        "fig = px.bar(table_weather_people, x='weather', y='percent_injured', color='severity')\n",
        "fig.update_layout(barmode='group')\n",
        "fig.show()"
      ],
      "execution_count": null,
      "outputs": [
        {
          "output_type": "display_data",
          "data": {
            "text/html": [
              "<html>\n",
              "<head><meta charset=\"utf-8\" /></head>\n",
              "<body>\n",
              "    <div>\n",
              "            <script src=\"https://cdnjs.cloudflare.com/ajax/libs/mathjax/2.7.5/MathJax.js?config=TeX-AMS-MML_SVG\"></script><script type=\"text/javascript\">if (window.MathJax) {MathJax.Hub.Config({SVG: {font: \"STIX-Web\"}});}</script>\n",
              "                <script type=\"text/javascript\">window.PlotlyConfig = {MathJaxConfig: 'local'};</script>\n",
              "        <script src=\"https://cdn.plot.ly/plotly-latest.min.js\"></script>    \n",
              "            <div id=\"7edb0a4b-0da8-4d00-877b-687fcde4c519\" class=\"plotly-graph-div\" style=\"height:525px; width:100%;\"></div>\n",
              "            <script type=\"text/javascript\">\n",
              "                \n",
              "                    window.PLOTLYENV=window.PLOTLYENV || {};\n",
              "                    \n",
              "                if (document.getElementById(\"7edb0a4b-0da8-4d00-877b-687fcde4c519\")) {\n",
              "                    Plotly.newPlot(\n",
              "                        '7edb0a4b-0da8-4d00-877b-687fcde4c519',\n",
              "                        [{\"alignmentgroup\": \"True\", \"hoverlabel\": {\"namelength\": 0}, \"hovertemplate\": \"severity=\\u041b\\u0435\\u0433\\u043a\\u0438\\u0439<br>weather=%{x}<br>percent_injured=%{y}\", \"legendgroup\": \"severity=\\u041b\\u0435\\u0433\\u043a\\u0438\\u0439\", \"marker\": {\"color\": \"#636efa\"}, \"name\": \"severity=\\u041b\\u0435\\u0433\\u043a\\u0438\\u0439\", \"offsetgroup\": \"severity=\\u041b\\u0435\\u0433\\u043a\\u0438\\u0439\", \"orientation\": \"v\", \"showlegend\": true, \"textposition\": \"auto\", \"type\": \"bar\", \"x\": [\"\\u041e\\u0441\\u0442\\u0430\\u043b\\u044c\\u043d\\u043e\\u0435\", \"\\u041f\\u0430\\u0441\\u043c\\u0443\\u0440\\u043d\\u043e\", \"\\u042f\\u0441\\u043d\\u043e\"], \"xaxis\": \"x\", \"y\": [0.48, 0.47, 0.47], \"yaxis\": \"y\"}, {\"alignmentgroup\": \"True\", \"hoverlabel\": {\"namelength\": 0}, \"hovertemplate\": \"severity=\\u0421 \\u043f\\u043e\\u0433\\u0438\\u0431\\u0448\\u0438\\u043c\\u0438<br>weather=%{x}<br>percent_injured=%{y}\", \"legendgroup\": \"severity=\\u0421 \\u043f\\u043e\\u0433\\u0438\\u0431\\u0448\\u0438\\u043c\\u0438\", \"marker\": {\"color\": \"#EF553B\"}, \"name\": \"severity=\\u0421 \\u043f\\u043e\\u0433\\u0438\\u0431\\u0448\\u0438\\u043c\\u0438\", \"offsetgroup\": \"severity=\\u0421 \\u043f\\u043e\\u0433\\u0438\\u0431\\u0448\\u0438\\u043c\\u0438\", \"orientation\": \"v\", \"showlegend\": true, \"textposition\": \"auto\", \"type\": \"bar\", \"x\": [\"\\u041e\\u0441\\u0442\\u0430\\u043b\\u044c\\u043d\\u043e\\u0435\", \"\\u041f\\u0430\\u0441\\u043c\\u0443\\u0440\\u043d\\u043e\", \"\\u042f\\u0441\\u043d\\u043e\"], \"xaxis\": \"x\", \"y\": [0.2, 0.18, 0.17], \"yaxis\": \"y\"}, {\"alignmentgroup\": \"True\", \"hoverlabel\": {\"namelength\": 0}, \"hovertemplate\": \"severity=\\u0422\\u044f\\u0436\\u0451\\u043b\\u044b\\u0439<br>weather=%{x}<br>percent_injured=%{y}\", \"legendgroup\": \"severity=\\u0422\\u044f\\u0436\\u0451\\u043b\\u044b\\u0439\", \"marker\": {\"color\": \"#00cc96\"}, \"name\": \"severity=\\u0422\\u044f\\u0436\\u0451\\u043b\\u044b\\u0439\", \"offsetgroup\": \"severity=\\u0422\\u044f\\u0436\\u0451\\u043b\\u044b\\u0439\", \"orientation\": \"v\", \"showlegend\": true, \"textposition\": \"auto\", \"type\": \"bar\", \"x\": [\"\\u041e\\u0441\\u0442\\u0430\\u043b\\u044c\\u043d\\u043e\\u0435\", \"\\u041f\\u0430\\u0441\\u043c\\u0443\\u0440\\u043d\\u043e\", \"\\u042f\\u0441\\u043d\\u043e\"], \"xaxis\": \"x\", \"y\": [0.53, 0.53, 0.52], \"yaxis\": \"y\"}],\n",
              "                        {\"barmode\": \"group\", \"legend\": {\"tracegroupgap\": 0}, \"margin\": {\"t\": 60}, \"template\": {\"data\": {\"bar\": [{\"error_x\": {\"color\": \"#2a3f5f\"}, \"error_y\": {\"color\": \"#2a3f5f\"}, \"marker\": {\"line\": {\"color\": \"#E5ECF6\", \"width\": 0.5}}, \"type\": \"bar\"}], \"barpolar\": [{\"marker\": {\"line\": {\"color\": \"#E5ECF6\", \"width\": 0.5}}, \"type\": \"barpolar\"}], \"carpet\": [{\"aaxis\": {\"endlinecolor\": \"#2a3f5f\", \"gridcolor\": \"white\", \"linecolor\": \"white\", \"minorgridcolor\": \"white\", \"startlinecolor\": \"#2a3f5f\"}, \"baxis\": {\"endlinecolor\": \"#2a3f5f\", \"gridcolor\": \"white\", \"linecolor\": \"white\", \"minorgridcolor\": \"white\", \"startlinecolor\": \"#2a3f5f\"}, \"type\": \"carpet\"}], \"choropleth\": [{\"colorbar\": {\"outlinewidth\": 0, \"ticks\": \"\"}, \"type\": \"choropleth\"}], \"contour\": [{\"colorbar\": {\"outlinewidth\": 0, \"ticks\": \"\"}, \"colorscale\": [[0.0, \"#0d0887\"], [0.1111111111111111, \"#46039f\"], [0.2222222222222222, \"#7201a8\"], [0.3333333333333333, \"#9c179e\"], [0.4444444444444444, \"#bd3786\"], [0.5555555555555556, \"#d8576b\"], [0.6666666666666666, \"#ed7953\"], [0.7777777777777778, \"#fb9f3a\"], [0.8888888888888888, \"#fdca26\"], [1.0, \"#f0f921\"]], \"type\": \"contour\"}], \"contourcarpet\": [{\"colorbar\": {\"outlinewidth\": 0, \"ticks\": \"\"}, \"type\": \"contourcarpet\"}], \"heatmap\": [{\"colorbar\": {\"outlinewidth\": 0, \"ticks\": \"\"}, \"colorscale\": [[0.0, \"#0d0887\"], [0.1111111111111111, \"#46039f\"], [0.2222222222222222, \"#7201a8\"], [0.3333333333333333, \"#9c179e\"], [0.4444444444444444, \"#bd3786\"], [0.5555555555555556, \"#d8576b\"], [0.6666666666666666, \"#ed7953\"], [0.7777777777777778, \"#fb9f3a\"], [0.8888888888888888, \"#fdca26\"], [1.0, \"#f0f921\"]], \"type\": \"heatmap\"}], \"heatmapgl\": [{\"colorbar\": {\"outlinewidth\": 0, \"ticks\": \"\"}, \"colorscale\": [[0.0, \"#0d0887\"], [0.1111111111111111, \"#46039f\"], [0.2222222222222222, \"#7201a8\"], [0.3333333333333333, \"#9c179e\"], [0.4444444444444444, \"#bd3786\"], [0.5555555555555556, \"#d8576b\"], [0.6666666666666666, \"#ed7953\"], [0.7777777777777778, \"#fb9f3a\"], [0.8888888888888888, \"#fdca26\"], [1.0, \"#f0f921\"]], \"type\": \"heatmapgl\"}], \"histogram\": [{\"marker\": {\"colorbar\": {\"outlinewidth\": 0, \"ticks\": \"\"}}, \"type\": \"histogram\"}], \"histogram2d\": [{\"colorbar\": {\"outlinewidth\": 0, \"ticks\": \"\"}, \"colorscale\": [[0.0, \"#0d0887\"], [0.1111111111111111, \"#46039f\"], [0.2222222222222222, \"#7201a8\"], [0.3333333333333333, \"#9c179e\"], [0.4444444444444444, \"#bd3786\"], [0.5555555555555556, \"#d8576b\"], [0.6666666666666666, \"#ed7953\"], [0.7777777777777778, \"#fb9f3a\"], [0.8888888888888888, \"#fdca26\"], [1.0, \"#f0f921\"]], \"type\": \"histogram2d\"}], \"histogram2dcontour\": [{\"colorbar\": {\"outlinewidth\": 0, \"ticks\": \"\"}, \"colorscale\": [[0.0, \"#0d0887\"], [0.1111111111111111, \"#46039f\"], [0.2222222222222222, \"#7201a8\"], [0.3333333333333333, \"#9c179e\"], [0.4444444444444444, \"#bd3786\"], [0.5555555555555556, \"#d8576b\"], [0.6666666666666666, \"#ed7953\"], [0.7777777777777778, \"#fb9f3a\"], [0.8888888888888888, \"#fdca26\"], [1.0, \"#f0f921\"]], \"type\": \"histogram2dcontour\"}], \"mesh3d\": [{\"colorbar\": {\"outlinewidth\": 0, \"ticks\": \"\"}, \"type\": \"mesh3d\"}], \"parcoords\": [{\"line\": {\"colorbar\": {\"outlinewidth\": 0, \"ticks\": \"\"}}, \"type\": \"parcoords\"}], \"pie\": [{\"automargin\": true, \"type\": \"pie\"}], \"scatter\": [{\"marker\": {\"colorbar\": {\"outlinewidth\": 0, \"ticks\": \"\"}}, \"type\": \"scatter\"}], \"scatter3d\": [{\"line\": {\"colorbar\": {\"outlinewidth\": 0, \"ticks\": \"\"}}, \"marker\": {\"colorbar\": {\"outlinewidth\": 0, \"ticks\": \"\"}}, \"type\": \"scatter3d\"}], \"scattercarpet\": [{\"marker\": {\"colorbar\": {\"outlinewidth\": 0, \"ticks\": \"\"}}, \"type\": \"scattercarpet\"}], \"scattergeo\": [{\"marker\": {\"colorbar\": {\"outlinewidth\": 0, \"ticks\": \"\"}}, \"type\": \"scattergeo\"}], \"scattergl\": [{\"marker\": {\"colorbar\": {\"outlinewidth\": 0, \"ticks\": \"\"}}, \"type\": \"scattergl\"}], \"scattermapbox\": [{\"marker\": {\"colorbar\": {\"outlinewidth\": 0, \"ticks\": \"\"}}, \"type\": \"scattermapbox\"}], \"scatterpolar\": [{\"marker\": {\"colorbar\": {\"outlinewidth\": 0, \"ticks\": \"\"}}, \"type\": \"scatterpolar\"}], \"scatterpolargl\": [{\"marker\": {\"colorbar\": {\"outlinewidth\": 0, \"ticks\": \"\"}}, \"type\": \"scatterpolargl\"}], \"scatterternary\": [{\"marker\": {\"colorbar\": {\"outlinewidth\": 0, \"ticks\": \"\"}}, \"type\": \"scatterternary\"}], \"surface\": [{\"colorbar\": {\"outlinewidth\": 0, \"ticks\": \"\"}, \"colorscale\": [[0.0, \"#0d0887\"], [0.1111111111111111, \"#46039f\"], [0.2222222222222222, \"#7201a8\"], [0.3333333333333333, \"#9c179e\"], [0.4444444444444444, \"#bd3786\"], [0.5555555555555556, \"#d8576b\"], [0.6666666666666666, \"#ed7953\"], [0.7777777777777778, \"#fb9f3a\"], [0.8888888888888888, \"#fdca26\"], [1.0, \"#f0f921\"]], \"type\": \"surface\"}], \"table\": [{\"cells\": {\"fill\": {\"color\": \"#EBF0F8\"}, \"line\": {\"color\": \"white\"}}, \"header\": {\"fill\": {\"color\": \"#C8D4E3\"}, \"line\": {\"color\": \"white\"}}, \"type\": \"table\"}]}, \"layout\": {\"annotationdefaults\": {\"arrowcolor\": \"#2a3f5f\", \"arrowhead\": 0, \"arrowwidth\": 1}, \"coloraxis\": {\"colorbar\": {\"outlinewidth\": 0, \"ticks\": \"\"}}, \"colorscale\": {\"diverging\": [[0, \"#8e0152\"], [0.1, \"#c51b7d\"], [0.2, \"#de77ae\"], [0.3, \"#f1b6da\"], [0.4, \"#fde0ef\"], [0.5, \"#f7f7f7\"], [0.6, \"#e6f5d0\"], [0.7, \"#b8e186\"], [0.8, \"#7fbc41\"], [0.9, \"#4d9221\"], [1, \"#276419\"]], \"sequential\": [[0.0, \"#0d0887\"], [0.1111111111111111, \"#46039f\"], [0.2222222222222222, \"#7201a8\"], [0.3333333333333333, \"#9c179e\"], [0.4444444444444444, \"#bd3786\"], [0.5555555555555556, \"#d8576b\"], [0.6666666666666666, \"#ed7953\"], [0.7777777777777778, \"#fb9f3a\"], [0.8888888888888888, \"#fdca26\"], [1.0, \"#f0f921\"]], \"sequentialminus\": [[0.0, \"#0d0887\"], [0.1111111111111111, \"#46039f\"], [0.2222222222222222, \"#7201a8\"], [0.3333333333333333, \"#9c179e\"], [0.4444444444444444, \"#bd3786\"], [0.5555555555555556, \"#d8576b\"], [0.6666666666666666, \"#ed7953\"], [0.7777777777777778, \"#fb9f3a\"], [0.8888888888888888, \"#fdca26\"], [1.0, \"#f0f921\"]]}, \"colorway\": [\"#636efa\", \"#EF553B\", \"#00cc96\", \"#ab63fa\", \"#FFA15A\", \"#19d3f3\", \"#FF6692\", \"#B6E880\", \"#FF97FF\", \"#FECB52\"], \"font\": {\"color\": \"#2a3f5f\"}, \"geo\": {\"bgcolor\": \"white\", \"lakecolor\": \"white\", \"landcolor\": \"#E5ECF6\", \"showlakes\": true, \"showland\": true, \"subunitcolor\": \"white\"}, \"hoverlabel\": {\"align\": \"left\"}, \"hovermode\": \"closest\", \"mapbox\": {\"style\": \"light\"}, \"paper_bgcolor\": \"white\", \"plot_bgcolor\": \"#E5ECF6\", \"polar\": {\"angularaxis\": {\"gridcolor\": \"white\", \"linecolor\": \"white\", \"ticks\": \"\"}, \"bgcolor\": \"#E5ECF6\", \"radialaxis\": {\"gridcolor\": \"white\", \"linecolor\": \"white\", \"ticks\": \"\"}}, \"scene\": {\"xaxis\": {\"backgroundcolor\": \"#E5ECF6\", \"gridcolor\": \"white\", \"gridwidth\": 2, \"linecolor\": \"white\", \"showbackground\": true, \"ticks\": \"\", \"zerolinecolor\": \"white\"}, \"yaxis\": {\"backgroundcolor\": \"#E5ECF6\", \"gridcolor\": \"white\", \"gridwidth\": 2, \"linecolor\": \"white\", \"showbackground\": true, \"ticks\": \"\", \"zerolinecolor\": \"white\"}, \"zaxis\": {\"backgroundcolor\": \"#E5ECF6\", \"gridcolor\": \"white\", \"gridwidth\": 2, \"linecolor\": \"white\", \"showbackground\": true, \"ticks\": \"\", \"zerolinecolor\": \"white\"}}, \"shapedefaults\": {\"line\": {\"color\": \"#2a3f5f\"}}, \"ternary\": {\"aaxis\": {\"gridcolor\": \"white\", \"linecolor\": \"white\", \"ticks\": \"\"}, \"baxis\": {\"gridcolor\": \"white\", \"linecolor\": \"white\", \"ticks\": \"\"}, \"bgcolor\": \"#E5ECF6\", \"caxis\": {\"gridcolor\": \"white\", \"linecolor\": \"white\", \"ticks\": \"\"}}, \"title\": {\"x\": 0.05}, \"xaxis\": {\"automargin\": true, \"gridcolor\": \"white\", \"linecolor\": \"white\", \"ticks\": \"\", \"title\": {\"standoff\": 15}, \"zerolinecolor\": \"white\", \"zerolinewidth\": 2}, \"yaxis\": {\"automargin\": true, \"gridcolor\": \"white\", \"linecolor\": \"white\", \"ticks\": \"\", \"title\": {\"standoff\": 15}, \"zerolinecolor\": \"white\", \"zerolinewidth\": 2}}}, \"xaxis\": {\"anchor\": \"y\", \"domain\": [0.0, 1.0], \"title\": {\"text\": \"weather\"}}, \"yaxis\": {\"anchor\": \"x\", \"domain\": [0.0, 1.0], \"title\": {\"text\": \"percent_injured\"}}},\n",
              "                        {\"responsive\": true}\n",
              "                    ).then(function(){\n",
              "                            \n",
              "var gd = document.getElementById('7edb0a4b-0da8-4d00-877b-687fcde4c519');\n",
              "var x = new MutationObserver(function (mutations, observer) {{\n",
              "        var display = window.getComputedStyle(gd).display;\n",
              "        if (!display || display === 'none') {{\n",
              "            console.log([gd, 'removed!']);\n",
              "            Plotly.purge(gd);\n",
              "            observer.disconnect();\n",
              "        }}\n",
              "}});\n",
              "\n",
              "// Listen for the removal of the full notebook cells\n",
              "var notebookContainer = gd.closest('#notebook-container');\n",
              "if (notebookContainer) {{\n",
              "    x.observe(notebookContainer, {childList: true});\n",
              "}}\n",
              "\n",
              "// Listen for the clearing of the current output cell\n",
              "var outputEl = gd.closest('.output');\n",
              "if (outputEl) {{\n",
              "    x.observe(outputEl, {childList: true});\n",
              "}}\n",
              "\n",
              "                        })\n",
              "                };\n",
              "                \n",
              "            </script>\n",
              "        </div>\n",
              "</body>\n",
              "</html>"
            ]
          },
          "metadata": {}
        }
      ]
    },
    {
      "cell_type": "markdown",
      "metadata": {
        "id": "Z1w4uS-wFIQ4"
      },
      "source": [
        "Выводы:\n",
        "* В остальные погодные условия происходит больший процент всех событий, однако число событий меньше.\n",
        "* В пасмурную погоду происходит больше тяжелых дтп и со смертельным исходом.\n",
        "* Процент погибших больше в пасмурную погоду, чем в остальные погодные условия. Видно из графика ниже."
      ]
    },
    {
      "cell_type": "code",
      "metadata": {
        "colab": {
          "base_uri": "https://localhost:8080/",
          "height": 542
        },
        "id": "GsQf44eHbtz9",
        "outputId": "f17fc091-2c8c-40db-db3c-d70d3066c6f0"
      },
      "source": [
        "px.bar(table_weather_people, x='weather', y='percent_dead', color='severity')"
      ],
      "execution_count": null,
      "outputs": [
        {
          "output_type": "display_data",
          "data": {
            "text/html": [
              "<html>\n",
              "<head><meta charset=\"utf-8\" /></head>\n",
              "<body>\n",
              "    <div>\n",
              "            <script src=\"https://cdnjs.cloudflare.com/ajax/libs/mathjax/2.7.5/MathJax.js?config=TeX-AMS-MML_SVG\"></script><script type=\"text/javascript\">if (window.MathJax) {MathJax.Hub.Config({SVG: {font: \"STIX-Web\"}});}</script>\n",
              "                <script type=\"text/javascript\">window.PlotlyConfig = {MathJaxConfig: 'local'};</script>\n",
              "        <script src=\"https://cdn.plot.ly/plotly-latest.min.js\"></script>    \n",
              "            <div id=\"ffe0cabc-00b2-4f68-a075-80bb2de48d06\" class=\"plotly-graph-div\" style=\"height:525px; width:100%;\"></div>\n",
              "            <script type=\"text/javascript\">\n",
              "                \n",
              "                    window.PLOTLYENV=window.PLOTLYENV || {};\n",
              "                    \n",
              "                if (document.getElementById(\"ffe0cabc-00b2-4f68-a075-80bb2de48d06\")) {\n",
              "                    Plotly.newPlot(\n",
              "                        'ffe0cabc-00b2-4f68-a075-80bb2de48d06',\n",
              "                        [{\"alignmentgroup\": \"True\", \"hoverlabel\": {\"namelength\": 0}, \"hovertemplate\": \"severity=\\u041b\\u0435\\u0433\\u043a\\u0438\\u0439<br>weather=%{x}<br>percent_dead=%{y}\", \"legendgroup\": \"severity=\\u041b\\u0435\\u0433\\u043a\\u0438\\u0439\", \"marker\": {\"color\": \"#636efa\"}, \"name\": \"severity=\\u041b\\u0435\\u0433\\u043a\\u0438\\u0439\", \"offsetgroup\": \"severity=\\u041b\\u0435\\u0433\\u043a\\u0438\\u0439\", \"orientation\": \"v\", \"showlegend\": true, \"textposition\": \"auto\", \"type\": \"bar\", \"x\": [\"\\u041e\\u0441\\u0442\\u0430\\u043b\\u044c\\u043d\\u043e\\u0435\", \"\\u041f\\u0430\\u0441\\u043c\\u0443\\u0440\\u043d\\u043e\", \"\\u042f\\u0441\\u043d\\u043e\"], \"xaxis\": \"x\", \"y\": [0.0, 0.0, 0.0], \"yaxis\": \"y\"}, {\"alignmentgroup\": \"True\", \"hoverlabel\": {\"namelength\": 0}, \"hovertemplate\": \"severity=\\u0421 \\u043f\\u043e\\u0433\\u0438\\u0431\\u0448\\u0438\\u043c\\u0438<br>weather=%{x}<br>percent_dead=%{y}\", \"legendgroup\": \"severity=\\u0421 \\u043f\\u043e\\u0433\\u0438\\u0431\\u0448\\u0438\\u043c\\u0438\", \"marker\": {\"color\": \"#EF553B\"}, \"name\": \"severity=\\u0421 \\u043f\\u043e\\u0433\\u0438\\u0431\\u0448\\u0438\\u043c\\u0438\", \"offsetgroup\": \"severity=\\u0421 \\u043f\\u043e\\u0433\\u0438\\u0431\\u0448\\u0438\\u043c\\u0438\", \"orientation\": \"v\", \"showlegend\": true, \"textposition\": \"auto\", \"type\": \"bar\", \"x\": [\"\\u041e\\u0441\\u0442\\u0430\\u043b\\u044c\\u043d\\u043e\\u0435\", \"\\u041f\\u0430\\u0441\\u043c\\u0443\\u0440\\u043d\\u043e\", \"\\u042f\\u0441\\u043d\\u043e\"], \"xaxis\": \"x\", \"y\": [0.42, 0.44, 0.43], \"yaxis\": \"y\"}, {\"alignmentgroup\": \"True\", \"hoverlabel\": {\"namelength\": 0}, \"hovertemplate\": \"severity=\\u0422\\u044f\\u0436\\u0451\\u043b\\u044b\\u0439<br>weather=%{x}<br>percent_dead=%{y}\", \"legendgroup\": \"severity=\\u0422\\u044f\\u0436\\u0451\\u043b\\u044b\\u0439\", \"marker\": {\"color\": \"#00cc96\"}, \"name\": \"severity=\\u0422\\u044f\\u0436\\u0451\\u043b\\u044b\\u0439\", \"offsetgroup\": \"severity=\\u0422\\u044f\\u0436\\u0451\\u043b\\u044b\\u0439\", \"orientation\": \"v\", \"showlegend\": true, \"textposition\": \"auto\", \"type\": \"bar\", \"x\": [\"\\u041e\\u0441\\u0442\\u0430\\u043b\\u044c\\u043d\\u043e\\u0435\", \"\\u041f\\u0430\\u0441\\u043c\\u0443\\u0440\\u043d\\u043e\", \"\\u042f\\u0441\\u043d\\u043e\"], \"xaxis\": \"x\", \"y\": [0.0, 0.0, 0.0], \"yaxis\": \"y\"}],\n",
              "                        {\"barmode\": \"relative\", \"legend\": {\"tracegroupgap\": 0}, \"margin\": {\"t\": 60}, \"template\": {\"data\": {\"bar\": [{\"error_x\": {\"color\": \"#2a3f5f\"}, \"error_y\": {\"color\": \"#2a3f5f\"}, \"marker\": {\"line\": {\"color\": \"#E5ECF6\", \"width\": 0.5}}, \"type\": \"bar\"}], \"barpolar\": [{\"marker\": {\"line\": {\"color\": \"#E5ECF6\", \"width\": 0.5}}, \"type\": \"barpolar\"}], \"carpet\": [{\"aaxis\": {\"endlinecolor\": \"#2a3f5f\", \"gridcolor\": \"white\", \"linecolor\": \"white\", \"minorgridcolor\": \"white\", \"startlinecolor\": \"#2a3f5f\"}, \"baxis\": {\"endlinecolor\": \"#2a3f5f\", \"gridcolor\": \"white\", \"linecolor\": \"white\", \"minorgridcolor\": \"white\", \"startlinecolor\": \"#2a3f5f\"}, \"type\": \"carpet\"}], \"choropleth\": [{\"colorbar\": {\"outlinewidth\": 0, \"ticks\": \"\"}, \"type\": \"choropleth\"}], \"contour\": [{\"colorbar\": {\"outlinewidth\": 0, \"ticks\": \"\"}, \"colorscale\": [[0.0, \"#0d0887\"], [0.1111111111111111, \"#46039f\"], [0.2222222222222222, \"#7201a8\"], [0.3333333333333333, \"#9c179e\"], [0.4444444444444444, \"#bd3786\"], [0.5555555555555556, \"#d8576b\"], [0.6666666666666666, \"#ed7953\"], [0.7777777777777778, \"#fb9f3a\"], [0.8888888888888888, \"#fdca26\"], [1.0, \"#f0f921\"]], \"type\": \"contour\"}], \"contourcarpet\": [{\"colorbar\": {\"outlinewidth\": 0, \"ticks\": \"\"}, \"type\": \"contourcarpet\"}], \"heatmap\": [{\"colorbar\": {\"outlinewidth\": 0, \"ticks\": \"\"}, \"colorscale\": [[0.0, \"#0d0887\"], [0.1111111111111111, \"#46039f\"], [0.2222222222222222, \"#7201a8\"], [0.3333333333333333, \"#9c179e\"], [0.4444444444444444, \"#bd3786\"], [0.5555555555555556, \"#d8576b\"], [0.6666666666666666, \"#ed7953\"], [0.7777777777777778, \"#fb9f3a\"], [0.8888888888888888, \"#fdca26\"], [1.0, \"#f0f921\"]], \"type\": \"heatmap\"}], \"heatmapgl\": [{\"colorbar\": {\"outlinewidth\": 0, \"ticks\": \"\"}, \"colorscale\": [[0.0, \"#0d0887\"], [0.1111111111111111, \"#46039f\"], [0.2222222222222222, \"#7201a8\"], [0.3333333333333333, \"#9c179e\"], [0.4444444444444444, \"#bd3786\"], [0.5555555555555556, \"#d8576b\"], [0.6666666666666666, \"#ed7953\"], [0.7777777777777778, \"#fb9f3a\"], [0.8888888888888888, \"#fdca26\"], [1.0, \"#f0f921\"]], \"type\": \"heatmapgl\"}], \"histogram\": [{\"marker\": {\"colorbar\": {\"outlinewidth\": 0, \"ticks\": \"\"}}, \"type\": \"histogram\"}], \"histogram2d\": [{\"colorbar\": {\"outlinewidth\": 0, \"ticks\": \"\"}, \"colorscale\": [[0.0, \"#0d0887\"], [0.1111111111111111, \"#46039f\"], [0.2222222222222222, \"#7201a8\"], [0.3333333333333333, \"#9c179e\"], [0.4444444444444444, \"#bd3786\"], [0.5555555555555556, \"#d8576b\"], [0.6666666666666666, \"#ed7953\"], [0.7777777777777778, \"#fb9f3a\"], [0.8888888888888888, \"#fdca26\"], [1.0, \"#f0f921\"]], \"type\": \"histogram2d\"}], \"histogram2dcontour\": [{\"colorbar\": {\"outlinewidth\": 0, \"ticks\": \"\"}, \"colorscale\": [[0.0, \"#0d0887\"], [0.1111111111111111, \"#46039f\"], [0.2222222222222222, \"#7201a8\"], [0.3333333333333333, \"#9c179e\"], [0.4444444444444444, \"#bd3786\"], [0.5555555555555556, \"#d8576b\"], [0.6666666666666666, \"#ed7953\"], [0.7777777777777778, \"#fb9f3a\"], [0.8888888888888888, \"#fdca26\"], [1.0, \"#f0f921\"]], \"type\": \"histogram2dcontour\"}], \"mesh3d\": [{\"colorbar\": {\"outlinewidth\": 0, \"ticks\": \"\"}, \"type\": \"mesh3d\"}], \"parcoords\": [{\"line\": {\"colorbar\": {\"outlinewidth\": 0, \"ticks\": \"\"}}, \"type\": \"parcoords\"}], \"pie\": [{\"automargin\": true, \"type\": \"pie\"}], \"scatter\": [{\"marker\": {\"colorbar\": {\"outlinewidth\": 0, \"ticks\": \"\"}}, \"type\": \"scatter\"}], \"scatter3d\": [{\"line\": {\"colorbar\": {\"outlinewidth\": 0, \"ticks\": \"\"}}, \"marker\": {\"colorbar\": {\"outlinewidth\": 0, \"ticks\": \"\"}}, \"type\": \"scatter3d\"}], \"scattercarpet\": [{\"marker\": {\"colorbar\": {\"outlinewidth\": 0, \"ticks\": \"\"}}, \"type\": \"scattercarpet\"}], \"scattergeo\": [{\"marker\": {\"colorbar\": {\"outlinewidth\": 0, \"ticks\": \"\"}}, \"type\": \"scattergeo\"}], \"scattergl\": [{\"marker\": {\"colorbar\": {\"outlinewidth\": 0, \"ticks\": \"\"}}, \"type\": \"scattergl\"}], \"scattermapbox\": [{\"marker\": {\"colorbar\": {\"outlinewidth\": 0, \"ticks\": \"\"}}, \"type\": \"scattermapbox\"}], \"scatterpolar\": [{\"marker\": {\"colorbar\": {\"outlinewidth\": 0, \"ticks\": \"\"}}, \"type\": \"scatterpolar\"}], \"scatterpolargl\": [{\"marker\": {\"colorbar\": {\"outlinewidth\": 0, \"ticks\": \"\"}}, \"type\": \"scatterpolargl\"}], \"scatterternary\": [{\"marker\": {\"colorbar\": {\"outlinewidth\": 0, \"ticks\": \"\"}}, \"type\": \"scatterternary\"}], \"surface\": [{\"colorbar\": {\"outlinewidth\": 0, \"ticks\": \"\"}, \"colorscale\": [[0.0, \"#0d0887\"], [0.1111111111111111, \"#46039f\"], [0.2222222222222222, \"#7201a8\"], [0.3333333333333333, \"#9c179e\"], [0.4444444444444444, \"#bd3786\"], [0.5555555555555556, \"#d8576b\"], [0.6666666666666666, \"#ed7953\"], [0.7777777777777778, \"#fb9f3a\"], [0.8888888888888888, \"#fdca26\"], [1.0, \"#f0f921\"]], \"type\": \"surface\"}], \"table\": [{\"cells\": {\"fill\": {\"color\": \"#EBF0F8\"}, \"line\": {\"color\": \"white\"}}, \"header\": {\"fill\": {\"color\": \"#C8D4E3\"}, \"line\": {\"color\": \"white\"}}, \"type\": \"table\"}]}, \"layout\": {\"annotationdefaults\": {\"arrowcolor\": \"#2a3f5f\", \"arrowhead\": 0, \"arrowwidth\": 1}, \"coloraxis\": {\"colorbar\": {\"outlinewidth\": 0, \"ticks\": \"\"}}, \"colorscale\": {\"diverging\": [[0, \"#8e0152\"], [0.1, \"#c51b7d\"], [0.2, \"#de77ae\"], [0.3, \"#f1b6da\"], [0.4, \"#fde0ef\"], [0.5, \"#f7f7f7\"], [0.6, \"#e6f5d0\"], [0.7, \"#b8e186\"], [0.8, \"#7fbc41\"], [0.9, \"#4d9221\"], [1, \"#276419\"]], \"sequential\": [[0.0, \"#0d0887\"], [0.1111111111111111, \"#46039f\"], [0.2222222222222222, \"#7201a8\"], [0.3333333333333333, \"#9c179e\"], [0.4444444444444444, \"#bd3786\"], [0.5555555555555556, \"#d8576b\"], [0.6666666666666666, \"#ed7953\"], [0.7777777777777778, \"#fb9f3a\"], [0.8888888888888888, \"#fdca26\"], [1.0, \"#f0f921\"]], \"sequentialminus\": [[0.0, \"#0d0887\"], [0.1111111111111111, \"#46039f\"], [0.2222222222222222, \"#7201a8\"], [0.3333333333333333, \"#9c179e\"], [0.4444444444444444, \"#bd3786\"], [0.5555555555555556, \"#d8576b\"], [0.6666666666666666, \"#ed7953\"], [0.7777777777777778, \"#fb9f3a\"], [0.8888888888888888, \"#fdca26\"], [1.0, \"#f0f921\"]]}, \"colorway\": [\"#636efa\", \"#EF553B\", \"#00cc96\", \"#ab63fa\", \"#FFA15A\", \"#19d3f3\", \"#FF6692\", \"#B6E880\", \"#FF97FF\", \"#FECB52\"], \"font\": {\"color\": \"#2a3f5f\"}, \"geo\": {\"bgcolor\": \"white\", \"lakecolor\": \"white\", \"landcolor\": \"#E5ECF6\", \"showlakes\": true, \"showland\": true, \"subunitcolor\": \"white\"}, \"hoverlabel\": {\"align\": \"left\"}, \"hovermode\": \"closest\", \"mapbox\": {\"style\": \"light\"}, \"paper_bgcolor\": \"white\", \"plot_bgcolor\": \"#E5ECF6\", \"polar\": {\"angularaxis\": {\"gridcolor\": \"white\", \"linecolor\": \"white\", \"ticks\": \"\"}, \"bgcolor\": \"#E5ECF6\", \"radialaxis\": {\"gridcolor\": \"white\", \"linecolor\": \"white\", \"ticks\": \"\"}}, \"scene\": {\"xaxis\": {\"backgroundcolor\": \"#E5ECF6\", \"gridcolor\": \"white\", \"gridwidth\": 2, \"linecolor\": \"white\", \"showbackground\": true, \"ticks\": \"\", \"zerolinecolor\": \"white\"}, \"yaxis\": {\"backgroundcolor\": \"#E5ECF6\", \"gridcolor\": \"white\", \"gridwidth\": 2, \"linecolor\": \"white\", \"showbackground\": true, \"ticks\": \"\", \"zerolinecolor\": \"white\"}, \"zaxis\": {\"backgroundcolor\": \"#E5ECF6\", \"gridcolor\": \"white\", \"gridwidth\": 2, \"linecolor\": \"white\", \"showbackground\": true, \"ticks\": \"\", \"zerolinecolor\": \"white\"}}, \"shapedefaults\": {\"line\": {\"color\": \"#2a3f5f\"}}, \"ternary\": {\"aaxis\": {\"gridcolor\": \"white\", \"linecolor\": \"white\", \"ticks\": \"\"}, \"baxis\": {\"gridcolor\": \"white\", \"linecolor\": \"white\", \"ticks\": \"\"}, \"bgcolor\": \"#E5ECF6\", \"caxis\": {\"gridcolor\": \"white\", \"linecolor\": \"white\", \"ticks\": \"\"}}, \"title\": {\"x\": 0.05}, \"xaxis\": {\"automargin\": true, \"gridcolor\": \"white\", \"linecolor\": \"white\", \"ticks\": \"\", \"title\": {\"standoff\": 15}, \"zerolinecolor\": \"white\", \"zerolinewidth\": 2}, \"yaxis\": {\"automargin\": true, \"gridcolor\": \"white\", \"linecolor\": \"white\", \"ticks\": \"\", \"title\": {\"standoff\": 15}, \"zerolinecolor\": \"white\", \"zerolinewidth\": 2}}}, \"xaxis\": {\"anchor\": \"y\", \"domain\": [0.0, 1.0], \"title\": {\"text\": \"weather\"}}, \"yaxis\": {\"anchor\": \"x\", \"domain\": [0.0, 1.0], \"title\": {\"text\": \"percent_dead\"}}},\n",
              "                        {\"responsive\": true}\n",
              "                    ).then(function(){\n",
              "                            \n",
              "var gd = document.getElementById('ffe0cabc-00b2-4f68-a075-80bb2de48d06');\n",
              "var x = new MutationObserver(function (mutations, observer) {{\n",
              "        var display = window.getComputedStyle(gd).display;\n",
              "        if (!display || display === 'none') {{\n",
              "            console.log([gd, 'removed!']);\n",
              "            Plotly.purge(gd);\n",
              "            observer.disconnect();\n",
              "        }}\n",
              "}});\n",
              "\n",
              "// Listen for the removal of the full notebook cells\n",
              "var notebookContainer = gd.closest('#notebook-container');\n",
              "if (notebookContainer) {{\n",
              "    x.observe(notebookContainer, {childList: true});\n",
              "}}\n",
              "\n",
              "// Listen for the clearing of the current output cell\n",
              "var outputEl = gd.closest('.output');\n",
              "if (outputEl) {{\n",
              "    x.observe(outputEl, {childList: true});\n",
              "}}\n",
              "\n",
              "                        })\n",
              "                };\n",
              "                \n",
              "            </script>\n",
              "        </div>\n",
              "</body>\n",
              "</html>"
            ]
          },
          "metadata": {}
        }
      ]
    },
    {
      "cell_type": "markdown",
      "metadata": {
        "id": "ptJLp_qSo75A"
      },
      "source": [
        "# **5.3 Анализ влияния дорожных условий на дтп.**"
      ]
    },
    {
      "cell_type": "markdown",
      "metadata": {
        "id": "FhhyEb7XNak6"
      },
      "source": [
        "Воспользуемся заготовкйо функций и посмотрим на количество упоминаний уникальных значений в столбце дорожные условия."
      ]
    },
    {
      "cell_type": "code",
      "metadata": {
        "id": "WpOGtqxPWr-H",
        "colab": {
          "base_uri": "https://localhost:8080/"
        },
        "outputId": "2044cae3-25b7-421d-b54b-cfed8eec54c5"
      },
      "source": [
        "unique_rc = unique_el('road_conditions', data_all)\n",
        "dict_rc = uniq_count('road_conditions', data_all)\n",
        "dict_rc"
      ],
      "execution_count": null,
      "outputs": [
        {
          "output_type": "execute_result",
          "data": {
            "text/plain": [
              "{'Гололедица': 118,\n",
              " 'Дефекты покрытия': 92,\n",
              " 'Загрязненное': 249,\n",
              " 'Залитое (покрытое) водой': 4,\n",
              " 'Заснеженное': 2050,\n",
              " 'Иные недостатки': 48,\n",
              " 'Мокрое': 15634,\n",
              " 'Нарушения в размещении наружной рекламы': 12,\n",
              " 'Не установлено': 8,\n",
              " 'Недостатки зимнего содержания': 313,\n",
              " 'Недостаточное освещение': 16,\n",
              " 'Неисправное освещение': 69,\n",
              " 'Неисправность светофора': 216,\n",
              " 'Неправильное применение, плохая видимость дорожных знаков': 2391,\n",
              " 'Неровное покрытие': 10,\n",
              " 'Несоответствие дорожных ограждений предъявляемым требованиям': 33,\n",
              " 'Несоответствие железнодорожного переезда предъявляемым требованиям': 2,\n",
              " 'Несоответствие люков смотровых колодцев и ливневой канализации предъявляемым требованиям': 27,\n",
              " 'Неудовлетворительное состояние обочин': 17,\n",
              " 'Неудовлетворительное состояние разделительной полосы': 14,\n",
              " 'Низкие сцепные качества покрытия': 11,\n",
              " 'Обработанное противогололедными материалами': 4297,\n",
              " 'Ограничение видимости': 6,\n",
              " 'Отсутствие временных ТСОД в местах проведения работ': 280,\n",
              " 'Отсутствие дорожных знаков в необходимых местах': 3588,\n",
              " 'Отсутствие дорожных ограждений в необходимых местах': 143,\n",
              " 'Отсутствие направляющих устройств и световозвращающих элементов на них': 5,\n",
              " 'Отсутствие освещения': 46,\n",
              " 'Отсутствие пешеходных ограждений в необходимых местах': 891,\n",
              " 'Отсутствие тротуаров (пешеходных дорожек)': 28,\n",
              " 'Отсутствие элементов обустройства остановочного пункта общественного пассажирского транспорта': 14,\n",
              " 'Отсутствие, плохая различимость вертикальной разметки': 174,\n",
              " 'Отсутствие, плохая различимость горизонтальной разметки проезжей части': 3599,\n",
              " 'Плохая видимость световозвращателей, размещенных на дорожных ограждениях': 1,\n",
              " 'Плохая видимость светофора': 37,\n",
              " 'Пыльное': 4,\n",
              " 'Свежеуложенная поверхностная обработка': 20,\n",
              " 'Со снежным накатом': 99,\n",
              " 'Сужение проезжей части, наличие препятствий, затрудняющих движение транспортных средств': 42,\n",
              " 'Сухое': 34647}"
            ]
          },
          "metadata": {},
          "execution_count": 62
        }
      ]
    },
    {
      "cell_type": "markdown",
      "metadata": {
        "id": "hbt9fct0Nn4p"
      },
      "source": [
        "Выделим основные дорожные условия, а именно топ 8. Ограничим их по числу таких событий."
      ]
    },
    {
      "cell_type": "code",
      "metadata": {
        "id": "_-llAzzMX1Gl"
      },
      "source": [
        "dict_short_rc = {key: value\n",
        "                 for key,value in dict_rc.items()\n",
        "                 if value > 890}"
      ],
      "execution_count": null,
      "outputs": []
    },
    {
      "cell_type": "markdown",
      "metadata": {
        "id": "cW-BauwuNzny"
      },
      "source": [
        "Представим полученные значения на графике:"
      ]
    },
    {
      "cell_type": "code",
      "metadata": {
        "colab": {
          "base_uri": "https://localhost:8080/",
          "height": 542
        },
        "id": "JSuEi-4HXnCv",
        "outputId": "90c70351-2af9-44a0-8439-b478c0e44e9a"
      },
      "source": [
        "go.Figure([go.Bar(x=list(dict_short_rc.keys()), y = np.array(list(dict_short_rc.values()))/len(data_all))])"
      ],
      "execution_count": null,
      "outputs": [
        {
          "output_type": "display_data",
          "data": {
            "text/html": [
              "<html>\n",
              "<head><meta charset=\"utf-8\" /></head>\n",
              "<body>\n",
              "    <div>\n",
              "            <script src=\"https://cdnjs.cloudflare.com/ajax/libs/mathjax/2.7.5/MathJax.js?config=TeX-AMS-MML_SVG\"></script><script type=\"text/javascript\">if (window.MathJax) {MathJax.Hub.Config({SVG: {font: \"STIX-Web\"}});}</script>\n",
              "                <script type=\"text/javascript\">window.PlotlyConfig = {MathJaxConfig: 'local'};</script>\n",
              "        <script src=\"https://cdn.plot.ly/plotly-latest.min.js\"></script>    \n",
              "            <div id=\"6af216d0-c6e8-43a3-b672-99ae21262610\" class=\"plotly-graph-div\" style=\"height:525px; width:100%;\"></div>\n",
              "            <script type=\"text/javascript\">\n",
              "                \n",
              "                    window.PLOTLYENV=window.PLOTLYENV || {};\n",
              "                    \n",
              "                if (document.getElementById(\"6af216d0-c6e8-43a3-b672-99ae21262610\")) {\n",
              "                    Plotly.newPlot(\n",
              "                        '6af216d0-c6e8-43a3-b672-99ae21262610',\n",
              "                        [{\"type\": \"bar\", \"x\": [\"\\u0421\\u0443\\u0445\\u043e\\u0435\", \"\\u041c\\u043e\\u043a\\u0440\\u043e\\u0435\", \"\\u041e\\u0442\\u0441\\u0443\\u0442\\u0441\\u0442\\u0432\\u0438\\u0435 \\u043f\\u0435\\u0448\\u0435\\u0445\\u043e\\u0434\\u043d\\u044b\\u0445 \\u043e\\u0433\\u0440\\u0430\\u0436\\u0434\\u0435\\u043d\\u0438\\u0439 \\u0432 \\u043d\\u0435\\u043e\\u0431\\u0445\\u043e\\u0434\\u0438\\u043c\\u044b\\u0445 \\u043c\\u0435\\u0441\\u0442\\u0430\\u0445\", \"\\u041e\\u0442\\u0441\\u0443\\u0442\\u0441\\u0442\\u0432\\u0438\\u0435 \\u0434\\u043e\\u0440\\u043e\\u0436\\u043d\\u044b\\u0445 \\u0437\\u043d\\u0430\\u043a\\u043e\\u0432 \\u0432 \\u043d\\u0435\\u043e\\u0431\\u0445\\u043e\\u0434\\u0438\\u043c\\u044b\\u0445 \\u043c\\u0435\\u0441\\u0442\\u0430\\u0445\", \"\\u041e\\u0442\\u0441\\u0443\\u0442\\u0441\\u0442\\u0432\\u0438\\u0435, \\u043f\\u043b\\u043e\\u0445\\u0430\\u044f \\u0440\\u0430\\u0437\\u043b\\u0438\\u0447\\u0438\\u043c\\u043e\\u0441\\u0442\\u044c \\u0433\\u043e\\u0440\\u0438\\u0437\\u043e\\u043d\\u0442\\u0430\\u043b\\u044c\\u043d\\u043e\\u0439 \\u0440\\u0430\\u0437\\u043c\\u0435\\u0442\\u043a\\u0438 \\u043f\\u0440\\u043e\\u0435\\u0437\\u0436\\u0435\\u0439 \\u0447\\u0430\\u0441\\u0442\\u0438\", \"\\u0417\\u0430\\u0441\\u043d\\u0435\\u0436\\u0435\\u043d\\u043d\\u043e\\u0435\", \"\\u041d\\u0435\\u043f\\u0440\\u0430\\u0432\\u0438\\u043b\\u044c\\u043d\\u043e\\u0435 \\u043f\\u0440\\u0438\\u043c\\u0435\\u043d\\u0435\\u043d\\u0438\\u0435, \\u043f\\u043b\\u043e\\u0445\\u0430\\u044f \\u0432\\u0438\\u0434\\u0438\\u043c\\u043e\\u0441\\u0442\\u044c \\u0434\\u043e\\u0440\\u043e\\u0436\\u043d\\u044b\\u0445 \\u0437\\u043d\\u0430\\u043a\\u043e\\u0432\", \"\\u041e\\u0431\\u0440\\u0430\\u0431\\u043e\\u0442\\u0430\\u043d\\u043d\\u043e\\u0435 \\u043f\\u0440\\u043e\\u0442\\u0438\\u0432\\u043e\\u0433\\u043e\\u043b\\u043e\\u043b\\u0435\\u0434\\u043d\\u044b\\u043c\\u0438 \\u043c\\u0430\\u0442\\u0435\\u0440\\u0438\\u0430\\u043b\\u0430\\u043c\\u0438\"], \"y\": [0.6064589532644845, 0.273656572728864, 0.015596009102047961, 0.06280413092945913, 0.06299667425170663, 0.03588307369158061, 0.04185191668125328, 0.07521442324523017]}],\n",
              "                        {\"template\": {\"data\": {\"bar\": [{\"error_x\": {\"color\": \"#2a3f5f\"}, \"error_y\": {\"color\": \"#2a3f5f\"}, \"marker\": {\"line\": {\"color\": \"#E5ECF6\", \"width\": 0.5}}, \"type\": \"bar\"}], \"barpolar\": [{\"marker\": {\"line\": {\"color\": \"#E5ECF6\", \"width\": 0.5}}, \"type\": \"barpolar\"}], \"carpet\": [{\"aaxis\": {\"endlinecolor\": \"#2a3f5f\", \"gridcolor\": \"white\", \"linecolor\": \"white\", \"minorgridcolor\": \"white\", \"startlinecolor\": \"#2a3f5f\"}, \"baxis\": {\"endlinecolor\": \"#2a3f5f\", \"gridcolor\": \"white\", \"linecolor\": \"white\", \"minorgridcolor\": \"white\", \"startlinecolor\": \"#2a3f5f\"}, \"type\": \"carpet\"}], \"choropleth\": [{\"colorbar\": {\"outlinewidth\": 0, \"ticks\": \"\"}, \"type\": \"choropleth\"}], \"contour\": [{\"colorbar\": {\"outlinewidth\": 0, \"ticks\": \"\"}, \"colorscale\": [[0.0, \"#0d0887\"], [0.1111111111111111, \"#46039f\"], [0.2222222222222222, \"#7201a8\"], [0.3333333333333333, \"#9c179e\"], [0.4444444444444444, \"#bd3786\"], [0.5555555555555556, \"#d8576b\"], [0.6666666666666666, \"#ed7953\"], [0.7777777777777778, \"#fb9f3a\"], [0.8888888888888888, \"#fdca26\"], [1.0, \"#f0f921\"]], \"type\": \"contour\"}], \"contourcarpet\": [{\"colorbar\": {\"outlinewidth\": 0, \"ticks\": \"\"}, \"type\": \"contourcarpet\"}], \"heatmap\": [{\"colorbar\": {\"outlinewidth\": 0, \"ticks\": \"\"}, \"colorscale\": [[0.0, \"#0d0887\"], [0.1111111111111111, \"#46039f\"], [0.2222222222222222, \"#7201a8\"], [0.3333333333333333, \"#9c179e\"], [0.4444444444444444, \"#bd3786\"], [0.5555555555555556, \"#d8576b\"], [0.6666666666666666, \"#ed7953\"], [0.7777777777777778, \"#fb9f3a\"], [0.8888888888888888, \"#fdca26\"], [1.0, \"#f0f921\"]], \"type\": \"heatmap\"}], \"heatmapgl\": [{\"colorbar\": {\"outlinewidth\": 0, \"ticks\": \"\"}, \"colorscale\": [[0.0, \"#0d0887\"], [0.1111111111111111, \"#46039f\"], [0.2222222222222222, \"#7201a8\"], [0.3333333333333333, \"#9c179e\"], [0.4444444444444444, \"#bd3786\"], [0.5555555555555556, \"#d8576b\"], [0.6666666666666666, \"#ed7953\"], [0.7777777777777778, \"#fb9f3a\"], [0.8888888888888888, \"#fdca26\"], [1.0, \"#f0f921\"]], \"type\": \"heatmapgl\"}], \"histogram\": [{\"marker\": {\"colorbar\": {\"outlinewidth\": 0, \"ticks\": \"\"}}, \"type\": \"histogram\"}], \"histogram2d\": [{\"colorbar\": {\"outlinewidth\": 0, \"ticks\": \"\"}, \"colorscale\": [[0.0, \"#0d0887\"], [0.1111111111111111, \"#46039f\"], [0.2222222222222222, \"#7201a8\"], [0.3333333333333333, \"#9c179e\"], [0.4444444444444444, \"#bd3786\"], [0.5555555555555556, \"#d8576b\"], [0.6666666666666666, \"#ed7953\"], [0.7777777777777778, \"#fb9f3a\"], [0.8888888888888888, \"#fdca26\"], [1.0, \"#f0f921\"]], \"type\": \"histogram2d\"}], \"histogram2dcontour\": [{\"colorbar\": {\"outlinewidth\": 0, \"ticks\": \"\"}, \"colorscale\": [[0.0, \"#0d0887\"], [0.1111111111111111, \"#46039f\"], [0.2222222222222222, \"#7201a8\"], [0.3333333333333333, \"#9c179e\"], [0.4444444444444444, \"#bd3786\"], [0.5555555555555556, \"#d8576b\"], [0.6666666666666666, \"#ed7953\"], [0.7777777777777778, \"#fb9f3a\"], [0.8888888888888888, \"#fdca26\"], [1.0, \"#f0f921\"]], \"type\": \"histogram2dcontour\"}], \"mesh3d\": [{\"colorbar\": {\"outlinewidth\": 0, \"ticks\": \"\"}, \"type\": \"mesh3d\"}], \"parcoords\": [{\"line\": {\"colorbar\": {\"outlinewidth\": 0, \"ticks\": \"\"}}, \"type\": \"parcoords\"}], \"pie\": [{\"automargin\": true, \"type\": \"pie\"}], \"scatter\": [{\"marker\": {\"colorbar\": {\"outlinewidth\": 0, \"ticks\": \"\"}}, \"type\": \"scatter\"}], \"scatter3d\": [{\"line\": {\"colorbar\": {\"outlinewidth\": 0, \"ticks\": \"\"}}, \"marker\": {\"colorbar\": {\"outlinewidth\": 0, \"ticks\": \"\"}}, \"type\": \"scatter3d\"}], \"scattercarpet\": [{\"marker\": {\"colorbar\": {\"outlinewidth\": 0, \"ticks\": \"\"}}, \"type\": \"scattercarpet\"}], \"scattergeo\": [{\"marker\": {\"colorbar\": {\"outlinewidth\": 0, \"ticks\": \"\"}}, \"type\": \"scattergeo\"}], \"scattergl\": [{\"marker\": {\"colorbar\": {\"outlinewidth\": 0, \"ticks\": \"\"}}, \"type\": \"scattergl\"}], \"scattermapbox\": [{\"marker\": {\"colorbar\": {\"outlinewidth\": 0, \"ticks\": \"\"}}, \"type\": \"scattermapbox\"}], \"scatterpolar\": [{\"marker\": {\"colorbar\": {\"outlinewidth\": 0, \"ticks\": \"\"}}, \"type\": \"scatterpolar\"}], \"scatterpolargl\": [{\"marker\": {\"colorbar\": {\"outlinewidth\": 0, \"ticks\": \"\"}}, \"type\": \"scatterpolargl\"}], \"scatterternary\": [{\"marker\": {\"colorbar\": {\"outlinewidth\": 0, \"ticks\": \"\"}}, \"type\": \"scatterternary\"}], \"surface\": [{\"colorbar\": {\"outlinewidth\": 0, \"ticks\": \"\"}, \"colorscale\": [[0.0, \"#0d0887\"], [0.1111111111111111, \"#46039f\"], [0.2222222222222222, \"#7201a8\"], [0.3333333333333333, \"#9c179e\"], [0.4444444444444444, \"#bd3786\"], [0.5555555555555556, \"#d8576b\"], [0.6666666666666666, \"#ed7953\"], [0.7777777777777778, \"#fb9f3a\"], [0.8888888888888888, \"#fdca26\"], [1.0, \"#f0f921\"]], \"type\": \"surface\"}], \"table\": [{\"cells\": {\"fill\": {\"color\": \"#EBF0F8\"}, \"line\": {\"color\": \"white\"}}, \"header\": {\"fill\": {\"color\": \"#C8D4E3\"}, \"line\": {\"color\": \"white\"}}, \"type\": \"table\"}]}, \"layout\": {\"annotationdefaults\": {\"arrowcolor\": \"#2a3f5f\", \"arrowhead\": 0, \"arrowwidth\": 1}, \"coloraxis\": {\"colorbar\": {\"outlinewidth\": 0, \"ticks\": \"\"}}, \"colorscale\": {\"diverging\": [[0, \"#8e0152\"], [0.1, \"#c51b7d\"], [0.2, \"#de77ae\"], [0.3, \"#f1b6da\"], [0.4, \"#fde0ef\"], [0.5, \"#f7f7f7\"], [0.6, \"#e6f5d0\"], [0.7, \"#b8e186\"], [0.8, \"#7fbc41\"], [0.9, \"#4d9221\"], [1, \"#276419\"]], \"sequential\": [[0.0, \"#0d0887\"], [0.1111111111111111, \"#46039f\"], [0.2222222222222222, \"#7201a8\"], [0.3333333333333333, \"#9c179e\"], [0.4444444444444444, \"#bd3786\"], [0.5555555555555556, \"#d8576b\"], [0.6666666666666666, \"#ed7953\"], [0.7777777777777778, \"#fb9f3a\"], [0.8888888888888888, \"#fdca26\"], [1.0, \"#f0f921\"]], \"sequentialminus\": [[0.0, \"#0d0887\"], [0.1111111111111111, \"#46039f\"], [0.2222222222222222, \"#7201a8\"], [0.3333333333333333, \"#9c179e\"], [0.4444444444444444, \"#bd3786\"], [0.5555555555555556, \"#d8576b\"], [0.6666666666666666, \"#ed7953\"], [0.7777777777777778, \"#fb9f3a\"], [0.8888888888888888, \"#fdca26\"], [1.0, \"#f0f921\"]]}, \"colorway\": [\"#636efa\", \"#EF553B\", \"#00cc96\", \"#ab63fa\", \"#FFA15A\", \"#19d3f3\", \"#FF6692\", \"#B6E880\", \"#FF97FF\", \"#FECB52\"], \"font\": {\"color\": \"#2a3f5f\"}, \"geo\": {\"bgcolor\": \"white\", \"lakecolor\": \"white\", \"landcolor\": \"#E5ECF6\", \"showlakes\": true, \"showland\": true, \"subunitcolor\": \"white\"}, \"hoverlabel\": {\"align\": \"left\"}, \"hovermode\": \"closest\", \"mapbox\": {\"style\": \"light\"}, \"paper_bgcolor\": \"white\", \"plot_bgcolor\": \"#E5ECF6\", \"polar\": {\"angularaxis\": {\"gridcolor\": \"white\", \"linecolor\": \"white\", \"ticks\": \"\"}, \"bgcolor\": \"#E5ECF6\", \"radialaxis\": {\"gridcolor\": \"white\", \"linecolor\": \"white\", \"ticks\": \"\"}}, \"scene\": {\"xaxis\": {\"backgroundcolor\": \"#E5ECF6\", \"gridcolor\": \"white\", \"gridwidth\": 2, \"linecolor\": \"white\", \"showbackground\": true, \"ticks\": \"\", \"zerolinecolor\": \"white\"}, \"yaxis\": {\"backgroundcolor\": \"#E5ECF6\", \"gridcolor\": \"white\", \"gridwidth\": 2, \"linecolor\": \"white\", \"showbackground\": true, \"ticks\": \"\", \"zerolinecolor\": \"white\"}, \"zaxis\": {\"backgroundcolor\": \"#E5ECF6\", \"gridcolor\": \"white\", \"gridwidth\": 2, \"linecolor\": \"white\", \"showbackground\": true, \"ticks\": \"\", \"zerolinecolor\": \"white\"}}, \"shapedefaults\": {\"line\": {\"color\": \"#2a3f5f\"}}, \"ternary\": {\"aaxis\": {\"gridcolor\": \"white\", \"linecolor\": \"white\", \"ticks\": \"\"}, \"baxis\": {\"gridcolor\": \"white\", \"linecolor\": \"white\", \"ticks\": \"\"}, \"bgcolor\": \"#E5ECF6\", \"caxis\": {\"gridcolor\": \"white\", \"linecolor\": \"white\", \"ticks\": \"\"}}, \"title\": {\"x\": 0.05}, \"xaxis\": {\"automargin\": true, \"gridcolor\": \"white\", \"linecolor\": \"white\", \"ticks\": \"\", \"title\": {\"standoff\": 15}, \"zerolinecolor\": \"white\", \"zerolinewidth\": 2}, \"yaxis\": {\"automargin\": true, \"gridcolor\": \"white\", \"linecolor\": \"white\", \"ticks\": \"\", \"title\": {\"standoff\": 15}, \"zerolinecolor\": \"white\", \"zerolinewidth\": 2}}}},\n",
              "                        {\"responsive\": true}\n",
              "                    ).then(function(){\n",
              "                            \n",
              "var gd = document.getElementById('6af216d0-c6e8-43a3-b672-99ae21262610');\n",
              "var x = new MutationObserver(function (mutations, observer) {{\n",
              "        var display = window.getComputedStyle(gd).display;\n",
              "        if (!display || display === 'none') {{\n",
              "            console.log([gd, 'removed!']);\n",
              "            Plotly.purge(gd);\n",
              "            observer.disconnect();\n",
              "        }}\n",
              "}});\n",
              "\n",
              "// Listen for the removal of the full notebook cells\n",
              "var notebookContainer = gd.closest('#notebook-container');\n",
              "if (notebookContainer) {{\n",
              "    x.observe(notebookContainer, {childList: true});\n",
              "}}\n",
              "\n",
              "// Listen for the clearing of the current output cell\n",
              "var outputEl = gd.closest('.output');\n",
              "if (outputEl) {{\n",
              "    x.observe(outputEl, {childList: true});\n",
              "}}\n",
              "\n",
              "                        })\n",
              "                };\n",
              "                \n",
              "            </script>\n",
              "        </div>\n",
              "</body>\n",
              "</html>"
            ]
          },
          "metadata": {}
        }
      ]
    },
    {
      "cell_type": "markdown",
      "metadata": {
        "id": "fWzLl_S7N5PV"
      },
      "source": [
        "Видно, что основные условия это сухое, мокрое или заснеженное покрытие. Остальное это уточнение видимости знаков, покрытия и т.д. Таким образом оставим только основные дорожные условия:"
      ]
    },
    {
      "cell_type": "code",
      "metadata": {
        "id": "4ZlJxeBHQNRb"
      },
      "source": [
        "data_all['road_conditions'] = ['Сухое'\n",
        "                       if 'Сухое' in list(data_all.loc[row, 'road_conditions'])\n",
        "                       else 'Мокрое'\n",
        "                       if 'Мокрое' in list(data_all.loc[row, 'road_conditions'])\n",
        "                       else 'Заснеженное'\n",
        "                       if 'Заснеженное' in list(data_all.loc[row, 'road_conditions'])                       \n",
        "                       else 'Остальное'\n",
        "                       for row in range(len(data_all))]"
      ],
      "execution_count": null,
      "outputs": []
    },
    {
      "cell_type": "markdown",
      "metadata": {
        "id": "pcIDETxHS3Ci"
      },
      "source": [
        "Создадим сводную таблицу по пострадавшим:"
      ]
    },
    {
      "cell_type": "code",
      "metadata": {
        "id": "QWvK3Nb5ZMvN",
        "colab": {
          "base_uri": "https://localhost:8080/",
          "height": 426
        },
        "outputId": "77022059-d048-42a7-804e-4287d6cd45f2"
      },
      "source": [
        "table_rc = uniq_pivot('road_conditions', data_all)\n",
        "table_rc_short = table_rc.sort_values(by='participants_count', \n",
        "                                              ascending=False).head(10)\n",
        "table_rc_fin = table_rc[table_rc['road_conditions'].isin(list(table_rc_short.road_conditions))]\n",
        "table_rc_fin"
      ],
      "execution_count": null,
      "outputs": [
        {
          "output_type": "execute_result",
          "data": {
            "text/html": [
              "<div>\n",
              "<style scoped>\n",
              "    .dataframe tbody tr th:only-of-type {\n",
              "        vertical-align: middle;\n",
              "    }\n",
              "\n",
              "    .dataframe tbody tr th {\n",
              "        vertical-align: top;\n",
              "    }\n",
              "\n",
              "    .dataframe thead th {\n",
              "        text-align: right;\n",
              "    }\n",
              "</style>\n",
              "<table border=\"1\" class=\"dataframe\">\n",
              "  <thead>\n",
              "    <tr style=\"text-align: right;\">\n",
              "      <th></th>\n",
              "      <th>road_conditions</th>\n",
              "      <th>severity</th>\n",
              "      <th>dead_count</th>\n",
              "      <th>injured_count</th>\n",
              "      <th>participants_count</th>\n",
              "      <th>percent_injured</th>\n",
              "      <th>percent_dead</th>\n",
              "    </tr>\n",
              "  </thead>\n",
              "  <tbody>\n",
              "    <tr>\n",
              "      <th>0</th>\n",
              "      <td>Заснеженное</td>\n",
              "      <td>Легкий</td>\n",
              "      <td>0</td>\n",
              "      <td>1653</td>\n",
              "      <td>3443</td>\n",
              "      <td>0.48</td>\n",
              "      <td>0.00</td>\n",
              "    </tr>\n",
              "    <tr>\n",
              "      <th>1</th>\n",
              "      <td>Заснеженное</td>\n",
              "      <td>С погибшими</td>\n",
              "      <td>75</td>\n",
              "      <td>44</td>\n",
              "      <td>189</td>\n",
              "      <td>0.23</td>\n",
              "      <td>0.40</td>\n",
              "    </tr>\n",
              "    <tr>\n",
              "      <th>2</th>\n",
              "      <td>Заснеженное</td>\n",
              "      <td>Тяжёлый</td>\n",
              "      <td>0</td>\n",
              "      <td>705</td>\n",
              "      <td>1324</td>\n",
              "      <td>0.53</td>\n",
              "      <td>0.00</td>\n",
              "    </tr>\n",
              "    <tr>\n",
              "      <th>3</th>\n",
              "      <td>Мокрое</td>\n",
              "      <td>Легкий</td>\n",
              "      <td>0</td>\n",
              "      <td>12162</td>\n",
              "      <td>25275</td>\n",
              "      <td>0.48</td>\n",
              "      <td>0.00</td>\n",
              "    </tr>\n",
              "    <tr>\n",
              "      <th>4</th>\n",
              "      <td>Мокрое</td>\n",
              "      <td>С погибшими</td>\n",
              "      <td>927</td>\n",
              "      <td>370</td>\n",
              "      <td>2114</td>\n",
              "      <td>0.18</td>\n",
              "      <td>0.44</td>\n",
              "    </tr>\n",
              "    <tr>\n",
              "      <th>5</th>\n",
              "      <td>Мокрое</td>\n",
              "      <td>Тяжёлый</td>\n",
              "      <td>0</td>\n",
              "      <td>5348</td>\n",
              "      <td>10050</td>\n",
              "      <td>0.53</td>\n",
              "      <td>0.00</td>\n",
              "    </tr>\n",
              "    <tr>\n",
              "      <th>6</th>\n",
              "      <td>Остальное</td>\n",
              "      <td>Легкий</td>\n",
              "      <td>0</td>\n",
              "      <td>3917</td>\n",
              "      <td>8171</td>\n",
              "      <td>0.48</td>\n",
              "      <td>0.00</td>\n",
              "    </tr>\n",
              "    <tr>\n",
              "      <th>7</th>\n",
              "      <td>Остальное</td>\n",
              "      <td>С погибшими</td>\n",
              "      <td>266</td>\n",
              "      <td>133</td>\n",
              "      <td>632</td>\n",
              "      <td>0.21</td>\n",
              "      <td>0.42</td>\n",
              "    </tr>\n",
              "    <tr>\n",
              "      <th>8</th>\n",
              "      <td>Остальное</td>\n",
              "      <td>Тяжёлый</td>\n",
              "      <td>0</td>\n",
              "      <td>1600</td>\n",
              "      <td>3003</td>\n",
              "      <td>0.53</td>\n",
              "      <td>0.00</td>\n",
              "    </tr>\n",
              "    <tr>\n",
              "      <th>9</th>\n",
              "      <td>Сухое</td>\n",
              "      <td>Легкий</td>\n",
              "      <td>0</td>\n",
              "      <td>27032</td>\n",
              "      <td>57591</td>\n",
              "      <td>0.47</td>\n",
              "      <td>0.00</td>\n",
              "    </tr>\n",
              "    <tr>\n",
              "      <th>10</th>\n",
              "      <td>Сухое</td>\n",
              "      <td>С погибшими</td>\n",
              "      <td>1825</td>\n",
              "      <td>703</td>\n",
              "      <td>4181</td>\n",
              "      <td>0.17</td>\n",
              "      <td>0.44</td>\n",
              "    </tr>\n",
              "    <tr>\n",
              "      <th>11</th>\n",
              "      <td>Сухое</td>\n",
              "      <td>Тяжёлый</td>\n",
              "      <td>0</td>\n",
              "      <td>11558</td>\n",
              "      <td>22143</td>\n",
              "      <td>0.52</td>\n",
              "      <td>0.00</td>\n",
              "    </tr>\n",
              "  </tbody>\n",
              "</table>\n",
              "</div>"
            ],
            "text/plain": [
              "   road_conditions     severity  ...  percent_injured  percent_dead\n",
              "0      Заснеженное       Легкий  ...             0.48          0.00\n",
              "1      Заснеженное  С погибшими  ...             0.23          0.40\n",
              "2      Заснеженное      Тяжёлый  ...             0.53          0.00\n",
              "3           Мокрое       Легкий  ...             0.48          0.00\n",
              "4           Мокрое  С погибшими  ...             0.18          0.44\n",
              "5           Мокрое      Тяжёлый  ...             0.53          0.00\n",
              "6        Остальное       Легкий  ...             0.48          0.00\n",
              "7        Остальное  С погибшими  ...             0.21          0.42\n",
              "8        Остальное      Тяжёлый  ...             0.53          0.00\n",
              "9            Сухое       Легкий  ...             0.47          0.00\n",
              "10           Сухое  С погибшими  ...             0.17          0.44\n",
              "11           Сухое      Тяжёлый  ...             0.52          0.00\n",
              "\n",
              "[12 rows x 7 columns]"
            ]
          },
          "metadata": {},
          "execution_count": 67
        }
      ]
    },
    {
      "cell_type": "markdown",
      "metadata": {
        "id": "JTi_4Ha0S6XE"
      },
      "source": [
        "Построим данные по каждому из типов аварии:"
      ]
    },
    {
      "cell_type": "code",
      "metadata": {
        "colab": {
          "base_uri": "https://localhost:8080/",
          "height": 542
        },
        "id": "Du4HnoUjRFCa",
        "outputId": "34490123-6de2-4954-ce0b-a4e7a16d89a8"
      },
      "source": [
        "fig = px.bar(table_rc_fin, x='road_conditions', y='percent_injured', color='severity')\n",
        "fig.update_layout(barmode='group')\n",
        "fig.show()"
      ],
      "execution_count": null,
      "outputs": [
        {
          "output_type": "display_data",
          "data": {
            "text/html": [
              "<html>\n",
              "<head><meta charset=\"utf-8\" /></head>\n",
              "<body>\n",
              "    <div>\n",
              "            <script src=\"https://cdnjs.cloudflare.com/ajax/libs/mathjax/2.7.5/MathJax.js?config=TeX-AMS-MML_SVG\"></script><script type=\"text/javascript\">if (window.MathJax) {MathJax.Hub.Config({SVG: {font: \"STIX-Web\"}});}</script>\n",
              "                <script type=\"text/javascript\">window.PlotlyConfig = {MathJaxConfig: 'local'};</script>\n",
              "        <script src=\"https://cdn.plot.ly/plotly-latest.min.js\"></script>    \n",
              "            <div id=\"72c9c7cf-ccdd-4f0f-a652-47ecc5ca0d78\" class=\"plotly-graph-div\" style=\"height:525px; width:100%;\"></div>\n",
              "            <script type=\"text/javascript\">\n",
              "                \n",
              "                    window.PLOTLYENV=window.PLOTLYENV || {};\n",
              "                    \n",
              "                if (document.getElementById(\"72c9c7cf-ccdd-4f0f-a652-47ecc5ca0d78\")) {\n",
              "                    Plotly.newPlot(\n",
              "                        '72c9c7cf-ccdd-4f0f-a652-47ecc5ca0d78',\n",
              "                        [{\"alignmentgroup\": \"True\", \"hoverlabel\": {\"namelength\": 0}, \"hovertemplate\": \"severity=\\u041b\\u0435\\u0433\\u043a\\u0438\\u0439<br>road_conditions=%{x}<br>percent_injured=%{y}\", \"legendgroup\": \"severity=\\u041b\\u0435\\u0433\\u043a\\u0438\\u0439\", \"marker\": {\"color\": \"#636efa\"}, \"name\": \"severity=\\u041b\\u0435\\u0433\\u043a\\u0438\\u0439\", \"offsetgroup\": \"severity=\\u041b\\u0435\\u0433\\u043a\\u0438\\u0439\", \"orientation\": \"v\", \"showlegend\": true, \"textposition\": \"auto\", \"type\": \"bar\", \"x\": [\"\\u0417\\u0430\\u0441\\u043d\\u0435\\u0436\\u0435\\u043d\\u043d\\u043e\\u0435\", \"\\u041c\\u043e\\u043a\\u0440\\u043e\\u0435\", \"\\u041e\\u0441\\u0442\\u0430\\u043b\\u044c\\u043d\\u043e\\u0435\", \"\\u0421\\u0443\\u0445\\u043e\\u0435\"], \"xaxis\": \"x\", \"y\": [0.48, 0.48, 0.48, 0.47], \"yaxis\": \"y\"}, {\"alignmentgroup\": \"True\", \"hoverlabel\": {\"namelength\": 0}, \"hovertemplate\": \"severity=\\u0421 \\u043f\\u043e\\u0433\\u0438\\u0431\\u0448\\u0438\\u043c\\u0438<br>road_conditions=%{x}<br>percent_injured=%{y}\", \"legendgroup\": \"severity=\\u0421 \\u043f\\u043e\\u0433\\u0438\\u0431\\u0448\\u0438\\u043c\\u0438\", \"marker\": {\"color\": \"#EF553B\"}, \"name\": \"severity=\\u0421 \\u043f\\u043e\\u0433\\u0438\\u0431\\u0448\\u0438\\u043c\\u0438\", \"offsetgroup\": \"severity=\\u0421 \\u043f\\u043e\\u0433\\u0438\\u0431\\u0448\\u0438\\u043c\\u0438\", \"orientation\": \"v\", \"showlegend\": true, \"textposition\": \"auto\", \"type\": \"bar\", \"x\": [\"\\u0417\\u0430\\u0441\\u043d\\u0435\\u0436\\u0435\\u043d\\u043d\\u043e\\u0435\", \"\\u041c\\u043e\\u043a\\u0440\\u043e\\u0435\", \"\\u041e\\u0441\\u0442\\u0430\\u043b\\u044c\\u043d\\u043e\\u0435\", \"\\u0421\\u0443\\u0445\\u043e\\u0435\"], \"xaxis\": \"x\", \"y\": [0.23, 0.18, 0.21, 0.17], \"yaxis\": \"y\"}, {\"alignmentgroup\": \"True\", \"hoverlabel\": {\"namelength\": 0}, \"hovertemplate\": \"severity=\\u0422\\u044f\\u0436\\u0451\\u043b\\u044b\\u0439<br>road_conditions=%{x}<br>percent_injured=%{y}\", \"legendgroup\": \"severity=\\u0422\\u044f\\u0436\\u0451\\u043b\\u044b\\u0439\", \"marker\": {\"color\": \"#00cc96\"}, \"name\": \"severity=\\u0422\\u044f\\u0436\\u0451\\u043b\\u044b\\u0439\", \"offsetgroup\": \"severity=\\u0422\\u044f\\u0436\\u0451\\u043b\\u044b\\u0439\", \"orientation\": \"v\", \"showlegend\": true, \"textposition\": \"auto\", \"type\": \"bar\", \"x\": [\"\\u0417\\u0430\\u0441\\u043d\\u0435\\u0436\\u0435\\u043d\\u043d\\u043e\\u0435\", \"\\u041c\\u043e\\u043a\\u0440\\u043e\\u0435\", \"\\u041e\\u0441\\u0442\\u0430\\u043b\\u044c\\u043d\\u043e\\u0435\", \"\\u0421\\u0443\\u0445\\u043e\\u0435\"], \"xaxis\": \"x\", \"y\": [0.53, 0.53, 0.53, 0.52], \"yaxis\": \"y\"}],\n",
              "                        {\"barmode\": \"group\", \"legend\": {\"tracegroupgap\": 0}, \"margin\": {\"t\": 60}, \"template\": {\"data\": {\"bar\": [{\"error_x\": {\"color\": \"#2a3f5f\"}, \"error_y\": {\"color\": \"#2a3f5f\"}, \"marker\": {\"line\": {\"color\": \"#E5ECF6\", \"width\": 0.5}}, \"type\": \"bar\"}], \"barpolar\": [{\"marker\": {\"line\": {\"color\": \"#E5ECF6\", \"width\": 0.5}}, \"type\": \"barpolar\"}], \"carpet\": [{\"aaxis\": {\"endlinecolor\": \"#2a3f5f\", \"gridcolor\": \"white\", \"linecolor\": \"white\", \"minorgridcolor\": \"white\", \"startlinecolor\": \"#2a3f5f\"}, \"baxis\": {\"endlinecolor\": \"#2a3f5f\", \"gridcolor\": \"white\", \"linecolor\": \"white\", \"minorgridcolor\": \"white\", \"startlinecolor\": \"#2a3f5f\"}, \"type\": \"carpet\"}], \"choropleth\": [{\"colorbar\": {\"outlinewidth\": 0, \"ticks\": \"\"}, \"type\": \"choropleth\"}], \"contour\": [{\"colorbar\": {\"outlinewidth\": 0, \"ticks\": \"\"}, \"colorscale\": [[0.0, \"#0d0887\"], [0.1111111111111111, \"#46039f\"], [0.2222222222222222, \"#7201a8\"], [0.3333333333333333, \"#9c179e\"], [0.4444444444444444, \"#bd3786\"], [0.5555555555555556, \"#d8576b\"], [0.6666666666666666, \"#ed7953\"], [0.7777777777777778, \"#fb9f3a\"], [0.8888888888888888, \"#fdca26\"], [1.0, \"#f0f921\"]], \"type\": \"contour\"}], \"contourcarpet\": [{\"colorbar\": {\"outlinewidth\": 0, \"ticks\": \"\"}, \"type\": \"contourcarpet\"}], \"heatmap\": [{\"colorbar\": {\"outlinewidth\": 0, \"ticks\": \"\"}, \"colorscale\": [[0.0, \"#0d0887\"], [0.1111111111111111, \"#46039f\"], [0.2222222222222222, \"#7201a8\"], [0.3333333333333333, \"#9c179e\"], [0.4444444444444444, \"#bd3786\"], [0.5555555555555556, \"#d8576b\"], [0.6666666666666666, \"#ed7953\"], [0.7777777777777778, \"#fb9f3a\"], [0.8888888888888888, \"#fdca26\"], [1.0, \"#f0f921\"]], \"type\": \"heatmap\"}], \"heatmapgl\": [{\"colorbar\": {\"outlinewidth\": 0, \"ticks\": \"\"}, \"colorscale\": [[0.0, \"#0d0887\"], [0.1111111111111111, \"#46039f\"], [0.2222222222222222, \"#7201a8\"], [0.3333333333333333, \"#9c179e\"], [0.4444444444444444, \"#bd3786\"], [0.5555555555555556, \"#d8576b\"], [0.6666666666666666, \"#ed7953\"], [0.7777777777777778, \"#fb9f3a\"], [0.8888888888888888, \"#fdca26\"], [1.0, \"#f0f921\"]], \"type\": \"heatmapgl\"}], \"histogram\": [{\"marker\": {\"colorbar\": {\"outlinewidth\": 0, \"ticks\": \"\"}}, \"type\": \"histogram\"}], \"histogram2d\": [{\"colorbar\": {\"outlinewidth\": 0, \"ticks\": \"\"}, \"colorscale\": [[0.0, \"#0d0887\"], [0.1111111111111111, \"#46039f\"], [0.2222222222222222, \"#7201a8\"], [0.3333333333333333, \"#9c179e\"], [0.4444444444444444, \"#bd3786\"], [0.5555555555555556, \"#d8576b\"], [0.6666666666666666, \"#ed7953\"], [0.7777777777777778, \"#fb9f3a\"], [0.8888888888888888, \"#fdca26\"], [1.0, \"#f0f921\"]], \"type\": \"histogram2d\"}], \"histogram2dcontour\": [{\"colorbar\": {\"outlinewidth\": 0, \"ticks\": \"\"}, \"colorscale\": [[0.0, \"#0d0887\"], [0.1111111111111111, \"#46039f\"], [0.2222222222222222, \"#7201a8\"], [0.3333333333333333, \"#9c179e\"], [0.4444444444444444, \"#bd3786\"], [0.5555555555555556, \"#d8576b\"], [0.6666666666666666, \"#ed7953\"], [0.7777777777777778, \"#fb9f3a\"], [0.8888888888888888, \"#fdca26\"], [1.0, \"#f0f921\"]], \"type\": \"histogram2dcontour\"}], \"mesh3d\": [{\"colorbar\": {\"outlinewidth\": 0, \"ticks\": \"\"}, \"type\": \"mesh3d\"}], \"parcoords\": [{\"line\": {\"colorbar\": {\"outlinewidth\": 0, \"ticks\": \"\"}}, \"type\": \"parcoords\"}], \"pie\": [{\"automargin\": true, \"type\": \"pie\"}], \"scatter\": [{\"marker\": {\"colorbar\": {\"outlinewidth\": 0, \"ticks\": \"\"}}, \"type\": \"scatter\"}], \"scatter3d\": [{\"line\": {\"colorbar\": {\"outlinewidth\": 0, \"ticks\": \"\"}}, \"marker\": {\"colorbar\": {\"outlinewidth\": 0, \"ticks\": \"\"}}, \"type\": \"scatter3d\"}], \"scattercarpet\": [{\"marker\": {\"colorbar\": {\"outlinewidth\": 0, \"ticks\": \"\"}}, \"type\": \"scattercarpet\"}], \"scattergeo\": [{\"marker\": {\"colorbar\": {\"outlinewidth\": 0, \"ticks\": \"\"}}, \"type\": \"scattergeo\"}], \"scattergl\": [{\"marker\": {\"colorbar\": {\"outlinewidth\": 0, \"ticks\": \"\"}}, \"type\": \"scattergl\"}], \"scattermapbox\": [{\"marker\": {\"colorbar\": {\"outlinewidth\": 0, \"ticks\": \"\"}}, \"type\": \"scattermapbox\"}], \"scatterpolar\": [{\"marker\": {\"colorbar\": {\"outlinewidth\": 0, \"ticks\": \"\"}}, \"type\": \"scatterpolar\"}], \"scatterpolargl\": [{\"marker\": {\"colorbar\": {\"outlinewidth\": 0, \"ticks\": \"\"}}, \"type\": \"scatterpolargl\"}], \"scatterternary\": [{\"marker\": {\"colorbar\": {\"outlinewidth\": 0, \"ticks\": \"\"}}, \"type\": \"scatterternary\"}], \"surface\": [{\"colorbar\": {\"outlinewidth\": 0, \"ticks\": \"\"}, \"colorscale\": [[0.0, \"#0d0887\"], [0.1111111111111111, \"#46039f\"], [0.2222222222222222, \"#7201a8\"], [0.3333333333333333, \"#9c179e\"], [0.4444444444444444, \"#bd3786\"], [0.5555555555555556, \"#d8576b\"], [0.6666666666666666, \"#ed7953\"], [0.7777777777777778, \"#fb9f3a\"], [0.8888888888888888, \"#fdca26\"], [1.0, \"#f0f921\"]], \"type\": \"surface\"}], \"table\": [{\"cells\": {\"fill\": {\"color\": \"#EBF0F8\"}, \"line\": {\"color\": \"white\"}}, \"header\": {\"fill\": {\"color\": \"#C8D4E3\"}, \"line\": {\"color\": \"white\"}}, \"type\": \"table\"}]}, \"layout\": {\"annotationdefaults\": {\"arrowcolor\": \"#2a3f5f\", \"arrowhead\": 0, \"arrowwidth\": 1}, \"coloraxis\": {\"colorbar\": {\"outlinewidth\": 0, \"ticks\": \"\"}}, \"colorscale\": {\"diverging\": [[0, \"#8e0152\"], [0.1, \"#c51b7d\"], [0.2, \"#de77ae\"], [0.3, \"#f1b6da\"], [0.4, \"#fde0ef\"], [0.5, \"#f7f7f7\"], [0.6, \"#e6f5d0\"], [0.7, \"#b8e186\"], [0.8, \"#7fbc41\"], [0.9, \"#4d9221\"], [1, \"#276419\"]], \"sequential\": [[0.0, \"#0d0887\"], [0.1111111111111111, \"#46039f\"], [0.2222222222222222, \"#7201a8\"], [0.3333333333333333, \"#9c179e\"], [0.4444444444444444, \"#bd3786\"], [0.5555555555555556, \"#d8576b\"], [0.6666666666666666, \"#ed7953\"], [0.7777777777777778, \"#fb9f3a\"], [0.8888888888888888, \"#fdca26\"], [1.0, \"#f0f921\"]], \"sequentialminus\": [[0.0, \"#0d0887\"], [0.1111111111111111, \"#46039f\"], [0.2222222222222222, \"#7201a8\"], [0.3333333333333333, \"#9c179e\"], [0.4444444444444444, \"#bd3786\"], [0.5555555555555556, \"#d8576b\"], [0.6666666666666666, \"#ed7953\"], [0.7777777777777778, \"#fb9f3a\"], [0.8888888888888888, \"#fdca26\"], [1.0, \"#f0f921\"]]}, \"colorway\": [\"#636efa\", \"#EF553B\", \"#00cc96\", \"#ab63fa\", \"#FFA15A\", \"#19d3f3\", \"#FF6692\", \"#B6E880\", \"#FF97FF\", \"#FECB52\"], \"font\": {\"color\": \"#2a3f5f\"}, \"geo\": {\"bgcolor\": \"white\", \"lakecolor\": \"white\", \"landcolor\": \"#E5ECF6\", \"showlakes\": true, \"showland\": true, \"subunitcolor\": \"white\"}, \"hoverlabel\": {\"align\": \"left\"}, \"hovermode\": \"closest\", \"mapbox\": {\"style\": \"light\"}, \"paper_bgcolor\": \"white\", \"plot_bgcolor\": \"#E5ECF6\", \"polar\": {\"angularaxis\": {\"gridcolor\": \"white\", \"linecolor\": \"white\", \"ticks\": \"\"}, \"bgcolor\": \"#E5ECF6\", \"radialaxis\": {\"gridcolor\": \"white\", \"linecolor\": \"white\", \"ticks\": \"\"}}, \"scene\": {\"xaxis\": {\"backgroundcolor\": \"#E5ECF6\", \"gridcolor\": \"white\", \"gridwidth\": 2, \"linecolor\": \"white\", \"showbackground\": true, \"ticks\": \"\", \"zerolinecolor\": \"white\"}, \"yaxis\": {\"backgroundcolor\": \"#E5ECF6\", \"gridcolor\": \"white\", \"gridwidth\": 2, \"linecolor\": \"white\", \"showbackground\": true, \"ticks\": \"\", \"zerolinecolor\": \"white\"}, \"zaxis\": {\"backgroundcolor\": \"#E5ECF6\", \"gridcolor\": \"white\", \"gridwidth\": 2, \"linecolor\": \"white\", \"showbackground\": true, \"ticks\": \"\", \"zerolinecolor\": \"white\"}}, \"shapedefaults\": {\"line\": {\"color\": \"#2a3f5f\"}}, \"ternary\": {\"aaxis\": {\"gridcolor\": \"white\", \"linecolor\": \"white\", \"ticks\": \"\"}, \"baxis\": {\"gridcolor\": \"white\", \"linecolor\": \"white\", \"ticks\": \"\"}, \"bgcolor\": \"#E5ECF6\", \"caxis\": {\"gridcolor\": \"white\", \"linecolor\": \"white\", \"ticks\": \"\"}}, \"title\": {\"x\": 0.05}, \"xaxis\": {\"automargin\": true, \"gridcolor\": \"white\", \"linecolor\": \"white\", \"ticks\": \"\", \"title\": {\"standoff\": 15}, \"zerolinecolor\": \"white\", \"zerolinewidth\": 2}, \"yaxis\": {\"automargin\": true, \"gridcolor\": \"white\", \"linecolor\": \"white\", \"ticks\": \"\", \"title\": {\"standoff\": 15}, \"zerolinecolor\": \"white\", \"zerolinewidth\": 2}}}, \"xaxis\": {\"anchor\": \"y\", \"domain\": [0.0, 1.0], \"title\": {\"text\": \"road_conditions\"}}, \"yaxis\": {\"anchor\": \"x\", \"domain\": [0.0, 1.0], \"title\": {\"text\": \"percent_injured\"}}},\n",
              "                        {\"responsive\": true}\n",
              "                    ).then(function(){\n",
              "                            \n",
              "var gd = document.getElementById('72c9c7cf-ccdd-4f0f-a652-47ecc5ca0d78');\n",
              "var x = new MutationObserver(function (mutations, observer) {{\n",
              "        var display = window.getComputedStyle(gd).display;\n",
              "        if (!display || display === 'none') {{\n",
              "            console.log([gd, 'removed!']);\n",
              "            Plotly.purge(gd);\n",
              "            observer.disconnect();\n",
              "        }}\n",
              "}});\n",
              "\n",
              "// Listen for the removal of the full notebook cells\n",
              "var notebookContainer = gd.closest('#notebook-container');\n",
              "if (notebookContainer) {{\n",
              "    x.observe(notebookContainer, {childList: true});\n",
              "}}\n",
              "\n",
              "// Listen for the clearing of the current output cell\n",
              "var outputEl = gd.closest('.output');\n",
              "if (outputEl) {{\n",
              "    x.observe(outputEl, {childList: true});\n",
              "}}\n",
              "\n",
              "                        })\n",
              "                };\n",
              "                \n",
              "            </script>\n",
              "        </div>\n",
              "</body>\n",
              "</html>"
            ]
          },
          "metadata": {}
        }
      ]
    },
    {
      "cell_type": "code",
      "metadata": {
        "colab": {
          "base_uri": "https://localhost:8080/",
          "height": 542
        },
        "id": "6ui5W_v4SmH1",
        "outputId": "eeed88ba-69ca-4459-c9fc-8f76e179acc3"
      },
      "source": [
        "px.bar(table_rc_fin, x='road_conditions', y='percent_dead', color='severity')"
      ],
      "execution_count": null,
      "outputs": [
        {
          "output_type": "display_data",
          "data": {
            "text/html": [
              "<html>\n",
              "<head><meta charset=\"utf-8\" /></head>\n",
              "<body>\n",
              "    <div>\n",
              "            <script src=\"https://cdnjs.cloudflare.com/ajax/libs/mathjax/2.7.5/MathJax.js?config=TeX-AMS-MML_SVG\"></script><script type=\"text/javascript\">if (window.MathJax) {MathJax.Hub.Config({SVG: {font: \"STIX-Web\"}});}</script>\n",
              "                <script type=\"text/javascript\">window.PlotlyConfig = {MathJaxConfig: 'local'};</script>\n",
              "        <script src=\"https://cdn.plot.ly/plotly-latest.min.js\"></script>    \n",
              "            <div id=\"3de8376f-1459-46af-a0c5-fd6d43f29dd9\" class=\"plotly-graph-div\" style=\"height:525px; width:100%;\"></div>\n",
              "            <script type=\"text/javascript\">\n",
              "                \n",
              "                    window.PLOTLYENV=window.PLOTLYENV || {};\n",
              "                    \n",
              "                if (document.getElementById(\"3de8376f-1459-46af-a0c5-fd6d43f29dd9\")) {\n",
              "                    Plotly.newPlot(\n",
              "                        '3de8376f-1459-46af-a0c5-fd6d43f29dd9',\n",
              "                        [{\"alignmentgroup\": \"True\", \"hoverlabel\": {\"namelength\": 0}, \"hovertemplate\": \"severity=\\u041b\\u0435\\u0433\\u043a\\u0438\\u0439<br>road_conditions=%{x}<br>percent_dead=%{y}\", \"legendgroup\": \"severity=\\u041b\\u0435\\u0433\\u043a\\u0438\\u0439\", \"marker\": {\"color\": \"#636efa\"}, \"name\": \"severity=\\u041b\\u0435\\u0433\\u043a\\u0438\\u0439\", \"offsetgroup\": \"severity=\\u041b\\u0435\\u0433\\u043a\\u0438\\u0439\", \"orientation\": \"v\", \"showlegend\": true, \"textposition\": \"auto\", \"type\": \"bar\", \"x\": [\"\\u0417\\u0430\\u0441\\u043d\\u0435\\u0436\\u0435\\u043d\\u043d\\u043e\\u0435\", \"\\u041c\\u043e\\u043a\\u0440\\u043e\\u0435\", \"\\u041e\\u0441\\u0442\\u0430\\u043b\\u044c\\u043d\\u043e\\u0435\", \"\\u0421\\u0443\\u0445\\u043e\\u0435\"], \"xaxis\": \"x\", \"y\": [0.0, 0.0, 0.0, 0.0], \"yaxis\": \"y\"}, {\"alignmentgroup\": \"True\", \"hoverlabel\": {\"namelength\": 0}, \"hovertemplate\": \"severity=\\u0421 \\u043f\\u043e\\u0433\\u0438\\u0431\\u0448\\u0438\\u043c\\u0438<br>road_conditions=%{x}<br>percent_dead=%{y}\", \"legendgroup\": \"severity=\\u0421 \\u043f\\u043e\\u0433\\u0438\\u0431\\u0448\\u0438\\u043c\\u0438\", \"marker\": {\"color\": \"#EF553B\"}, \"name\": \"severity=\\u0421 \\u043f\\u043e\\u0433\\u0438\\u0431\\u0448\\u0438\\u043c\\u0438\", \"offsetgroup\": \"severity=\\u0421 \\u043f\\u043e\\u0433\\u0438\\u0431\\u0448\\u0438\\u043c\\u0438\", \"orientation\": \"v\", \"showlegend\": true, \"textposition\": \"auto\", \"type\": \"bar\", \"x\": [\"\\u0417\\u0430\\u0441\\u043d\\u0435\\u0436\\u0435\\u043d\\u043d\\u043e\\u0435\", \"\\u041c\\u043e\\u043a\\u0440\\u043e\\u0435\", \"\\u041e\\u0441\\u0442\\u0430\\u043b\\u044c\\u043d\\u043e\\u0435\", \"\\u0421\\u0443\\u0445\\u043e\\u0435\"], \"xaxis\": \"x\", \"y\": [0.4, 0.44, 0.42, 0.44], \"yaxis\": \"y\"}, {\"alignmentgroup\": \"True\", \"hoverlabel\": {\"namelength\": 0}, \"hovertemplate\": \"severity=\\u0422\\u044f\\u0436\\u0451\\u043b\\u044b\\u0439<br>road_conditions=%{x}<br>percent_dead=%{y}\", \"legendgroup\": \"severity=\\u0422\\u044f\\u0436\\u0451\\u043b\\u044b\\u0439\", \"marker\": {\"color\": \"#00cc96\"}, \"name\": \"severity=\\u0422\\u044f\\u0436\\u0451\\u043b\\u044b\\u0439\", \"offsetgroup\": \"severity=\\u0422\\u044f\\u0436\\u0451\\u043b\\u044b\\u0439\", \"orientation\": \"v\", \"showlegend\": true, \"textposition\": \"auto\", \"type\": \"bar\", \"x\": [\"\\u0417\\u0430\\u0441\\u043d\\u0435\\u0436\\u0435\\u043d\\u043d\\u043e\\u0435\", \"\\u041c\\u043e\\u043a\\u0440\\u043e\\u0435\", \"\\u041e\\u0441\\u0442\\u0430\\u043b\\u044c\\u043d\\u043e\\u0435\", \"\\u0421\\u0443\\u0445\\u043e\\u0435\"], \"xaxis\": \"x\", \"y\": [0.0, 0.0, 0.0, 0.0], \"yaxis\": \"y\"}],\n",
              "                        {\"barmode\": \"relative\", \"legend\": {\"tracegroupgap\": 0}, \"margin\": {\"t\": 60}, \"template\": {\"data\": {\"bar\": [{\"error_x\": {\"color\": \"#2a3f5f\"}, \"error_y\": {\"color\": \"#2a3f5f\"}, \"marker\": {\"line\": {\"color\": \"#E5ECF6\", \"width\": 0.5}}, \"type\": \"bar\"}], \"barpolar\": [{\"marker\": {\"line\": {\"color\": \"#E5ECF6\", \"width\": 0.5}}, \"type\": \"barpolar\"}], \"carpet\": [{\"aaxis\": {\"endlinecolor\": \"#2a3f5f\", \"gridcolor\": \"white\", \"linecolor\": \"white\", \"minorgridcolor\": \"white\", \"startlinecolor\": \"#2a3f5f\"}, \"baxis\": {\"endlinecolor\": \"#2a3f5f\", \"gridcolor\": \"white\", \"linecolor\": \"white\", \"minorgridcolor\": \"white\", \"startlinecolor\": \"#2a3f5f\"}, \"type\": \"carpet\"}], \"choropleth\": [{\"colorbar\": {\"outlinewidth\": 0, \"ticks\": \"\"}, \"type\": \"choropleth\"}], \"contour\": [{\"colorbar\": {\"outlinewidth\": 0, \"ticks\": \"\"}, \"colorscale\": [[0.0, \"#0d0887\"], [0.1111111111111111, \"#46039f\"], [0.2222222222222222, \"#7201a8\"], [0.3333333333333333, \"#9c179e\"], [0.4444444444444444, \"#bd3786\"], [0.5555555555555556, \"#d8576b\"], [0.6666666666666666, \"#ed7953\"], [0.7777777777777778, \"#fb9f3a\"], [0.8888888888888888, \"#fdca26\"], [1.0, \"#f0f921\"]], \"type\": \"contour\"}], \"contourcarpet\": [{\"colorbar\": {\"outlinewidth\": 0, \"ticks\": \"\"}, \"type\": \"contourcarpet\"}], \"heatmap\": [{\"colorbar\": {\"outlinewidth\": 0, \"ticks\": \"\"}, \"colorscale\": [[0.0, \"#0d0887\"], [0.1111111111111111, \"#46039f\"], [0.2222222222222222, \"#7201a8\"], [0.3333333333333333, \"#9c179e\"], [0.4444444444444444, \"#bd3786\"], [0.5555555555555556, \"#d8576b\"], [0.6666666666666666, \"#ed7953\"], [0.7777777777777778, \"#fb9f3a\"], [0.8888888888888888, \"#fdca26\"], [1.0, \"#f0f921\"]], \"type\": \"heatmap\"}], \"heatmapgl\": [{\"colorbar\": {\"outlinewidth\": 0, \"ticks\": \"\"}, \"colorscale\": [[0.0, \"#0d0887\"], [0.1111111111111111, \"#46039f\"], [0.2222222222222222, \"#7201a8\"], [0.3333333333333333, \"#9c179e\"], [0.4444444444444444, \"#bd3786\"], [0.5555555555555556, \"#d8576b\"], [0.6666666666666666, \"#ed7953\"], [0.7777777777777778, \"#fb9f3a\"], [0.8888888888888888, \"#fdca26\"], [1.0, \"#f0f921\"]], \"type\": \"heatmapgl\"}], \"histogram\": [{\"marker\": {\"colorbar\": {\"outlinewidth\": 0, \"ticks\": \"\"}}, \"type\": \"histogram\"}], \"histogram2d\": [{\"colorbar\": {\"outlinewidth\": 0, \"ticks\": \"\"}, \"colorscale\": [[0.0, \"#0d0887\"], [0.1111111111111111, \"#46039f\"], [0.2222222222222222, \"#7201a8\"], [0.3333333333333333, \"#9c179e\"], [0.4444444444444444, \"#bd3786\"], [0.5555555555555556, \"#d8576b\"], [0.6666666666666666, \"#ed7953\"], [0.7777777777777778, \"#fb9f3a\"], [0.8888888888888888, \"#fdca26\"], [1.0, \"#f0f921\"]], \"type\": \"histogram2d\"}], \"histogram2dcontour\": [{\"colorbar\": {\"outlinewidth\": 0, \"ticks\": \"\"}, \"colorscale\": [[0.0, \"#0d0887\"], [0.1111111111111111, \"#46039f\"], [0.2222222222222222, \"#7201a8\"], [0.3333333333333333, \"#9c179e\"], [0.4444444444444444, \"#bd3786\"], [0.5555555555555556, \"#d8576b\"], [0.6666666666666666, \"#ed7953\"], [0.7777777777777778, \"#fb9f3a\"], [0.8888888888888888, \"#fdca26\"], [1.0, \"#f0f921\"]], \"type\": \"histogram2dcontour\"}], \"mesh3d\": [{\"colorbar\": {\"outlinewidth\": 0, \"ticks\": \"\"}, \"type\": \"mesh3d\"}], \"parcoords\": [{\"line\": {\"colorbar\": {\"outlinewidth\": 0, \"ticks\": \"\"}}, \"type\": \"parcoords\"}], \"pie\": [{\"automargin\": true, \"type\": \"pie\"}], \"scatter\": [{\"marker\": {\"colorbar\": {\"outlinewidth\": 0, \"ticks\": \"\"}}, \"type\": \"scatter\"}], \"scatter3d\": [{\"line\": {\"colorbar\": {\"outlinewidth\": 0, \"ticks\": \"\"}}, \"marker\": {\"colorbar\": {\"outlinewidth\": 0, \"ticks\": \"\"}}, \"type\": \"scatter3d\"}], \"scattercarpet\": [{\"marker\": {\"colorbar\": {\"outlinewidth\": 0, \"ticks\": \"\"}}, \"type\": \"scattercarpet\"}], \"scattergeo\": [{\"marker\": {\"colorbar\": {\"outlinewidth\": 0, \"ticks\": \"\"}}, \"type\": \"scattergeo\"}], \"scattergl\": [{\"marker\": {\"colorbar\": {\"outlinewidth\": 0, \"ticks\": \"\"}}, \"type\": \"scattergl\"}], \"scattermapbox\": [{\"marker\": {\"colorbar\": {\"outlinewidth\": 0, \"ticks\": \"\"}}, \"type\": \"scattermapbox\"}], \"scatterpolar\": [{\"marker\": {\"colorbar\": {\"outlinewidth\": 0, \"ticks\": \"\"}}, \"type\": \"scatterpolar\"}], \"scatterpolargl\": [{\"marker\": {\"colorbar\": {\"outlinewidth\": 0, \"ticks\": \"\"}}, \"type\": \"scatterpolargl\"}], \"scatterternary\": [{\"marker\": {\"colorbar\": {\"outlinewidth\": 0, \"ticks\": \"\"}}, \"type\": \"scatterternary\"}], \"surface\": [{\"colorbar\": {\"outlinewidth\": 0, \"ticks\": \"\"}, \"colorscale\": [[0.0, \"#0d0887\"], [0.1111111111111111, \"#46039f\"], [0.2222222222222222, \"#7201a8\"], [0.3333333333333333, \"#9c179e\"], [0.4444444444444444, \"#bd3786\"], [0.5555555555555556, \"#d8576b\"], [0.6666666666666666, \"#ed7953\"], [0.7777777777777778, \"#fb9f3a\"], [0.8888888888888888, \"#fdca26\"], [1.0, \"#f0f921\"]], \"type\": \"surface\"}], \"table\": [{\"cells\": {\"fill\": {\"color\": \"#EBF0F8\"}, \"line\": {\"color\": \"white\"}}, \"header\": {\"fill\": {\"color\": \"#C8D4E3\"}, \"line\": {\"color\": \"white\"}}, \"type\": \"table\"}]}, \"layout\": {\"annotationdefaults\": {\"arrowcolor\": \"#2a3f5f\", \"arrowhead\": 0, \"arrowwidth\": 1}, \"coloraxis\": {\"colorbar\": {\"outlinewidth\": 0, \"ticks\": \"\"}}, \"colorscale\": {\"diverging\": [[0, \"#8e0152\"], [0.1, \"#c51b7d\"], [0.2, \"#de77ae\"], [0.3, \"#f1b6da\"], [0.4, \"#fde0ef\"], [0.5, \"#f7f7f7\"], [0.6, \"#e6f5d0\"], [0.7, \"#b8e186\"], [0.8, \"#7fbc41\"], [0.9, \"#4d9221\"], [1, \"#276419\"]], \"sequential\": [[0.0, \"#0d0887\"], [0.1111111111111111, \"#46039f\"], [0.2222222222222222, \"#7201a8\"], [0.3333333333333333, \"#9c179e\"], [0.4444444444444444, \"#bd3786\"], [0.5555555555555556, \"#d8576b\"], [0.6666666666666666, \"#ed7953\"], [0.7777777777777778, \"#fb9f3a\"], [0.8888888888888888, \"#fdca26\"], [1.0, \"#f0f921\"]], \"sequentialminus\": [[0.0, \"#0d0887\"], [0.1111111111111111, \"#46039f\"], [0.2222222222222222, \"#7201a8\"], [0.3333333333333333, \"#9c179e\"], [0.4444444444444444, \"#bd3786\"], [0.5555555555555556, \"#d8576b\"], [0.6666666666666666, \"#ed7953\"], [0.7777777777777778, \"#fb9f3a\"], [0.8888888888888888, \"#fdca26\"], [1.0, \"#f0f921\"]]}, \"colorway\": [\"#636efa\", \"#EF553B\", \"#00cc96\", \"#ab63fa\", \"#FFA15A\", \"#19d3f3\", \"#FF6692\", \"#B6E880\", \"#FF97FF\", \"#FECB52\"], \"font\": {\"color\": \"#2a3f5f\"}, \"geo\": {\"bgcolor\": \"white\", \"lakecolor\": \"white\", \"landcolor\": \"#E5ECF6\", \"showlakes\": true, \"showland\": true, \"subunitcolor\": \"white\"}, \"hoverlabel\": {\"align\": \"left\"}, \"hovermode\": \"closest\", \"mapbox\": {\"style\": \"light\"}, \"paper_bgcolor\": \"white\", \"plot_bgcolor\": \"#E5ECF6\", \"polar\": {\"angularaxis\": {\"gridcolor\": \"white\", \"linecolor\": \"white\", \"ticks\": \"\"}, \"bgcolor\": \"#E5ECF6\", \"radialaxis\": {\"gridcolor\": \"white\", \"linecolor\": \"white\", \"ticks\": \"\"}}, \"scene\": {\"xaxis\": {\"backgroundcolor\": \"#E5ECF6\", \"gridcolor\": \"white\", \"gridwidth\": 2, \"linecolor\": \"white\", \"showbackground\": true, \"ticks\": \"\", \"zerolinecolor\": \"white\"}, \"yaxis\": {\"backgroundcolor\": \"#E5ECF6\", \"gridcolor\": \"white\", \"gridwidth\": 2, \"linecolor\": \"white\", \"showbackground\": true, \"ticks\": \"\", \"zerolinecolor\": \"white\"}, \"zaxis\": {\"backgroundcolor\": \"#E5ECF6\", \"gridcolor\": \"white\", \"gridwidth\": 2, \"linecolor\": \"white\", \"showbackground\": true, \"ticks\": \"\", \"zerolinecolor\": \"white\"}}, \"shapedefaults\": {\"line\": {\"color\": \"#2a3f5f\"}}, \"ternary\": {\"aaxis\": {\"gridcolor\": \"white\", \"linecolor\": \"white\", \"ticks\": \"\"}, \"baxis\": {\"gridcolor\": \"white\", \"linecolor\": \"white\", \"ticks\": \"\"}, \"bgcolor\": \"#E5ECF6\", \"caxis\": {\"gridcolor\": \"white\", \"linecolor\": \"white\", \"ticks\": \"\"}}, \"title\": {\"x\": 0.05}, \"xaxis\": {\"automargin\": true, \"gridcolor\": \"white\", \"linecolor\": \"white\", \"ticks\": \"\", \"title\": {\"standoff\": 15}, \"zerolinecolor\": \"white\", \"zerolinewidth\": 2}, \"yaxis\": {\"automargin\": true, \"gridcolor\": \"white\", \"linecolor\": \"white\", \"ticks\": \"\", \"title\": {\"standoff\": 15}, \"zerolinecolor\": \"white\", \"zerolinewidth\": 2}}}, \"xaxis\": {\"anchor\": \"y\", \"domain\": [0.0, 1.0], \"title\": {\"text\": \"road_conditions\"}}, \"yaxis\": {\"anchor\": \"x\", \"domain\": [0.0, 1.0], \"title\": {\"text\": \"percent_dead\"}}},\n",
              "                        {\"responsive\": true}\n",
              "                    ).then(function(){\n",
              "                            \n",
              "var gd = document.getElementById('3de8376f-1459-46af-a0c5-fd6d43f29dd9');\n",
              "var x = new MutationObserver(function (mutations, observer) {{\n",
              "        var display = window.getComputedStyle(gd).display;\n",
              "        if (!display || display === 'none') {{\n",
              "            console.log([gd, 'removed!']);\n",
              "            Plotly.purge(gd);\n",
              "            observer.disconnect();\n",
              "        }}\n",
              "}});\n",
              "\n",
              "// Listen for the removal of the full notebook cells\n",
              "var notebookContainer = gd.closest('#notebook-container');\n",
              "if (notebookContainer) {{\n",
              "    x.observe(notebookContainer, {childList: true});\n",
              "}}\n",
              "\n",
              "// Listen for the clearing of the current output cell\n",
              "var outputEl = gd.closest('.output');\n",
              "if (outputEl) {{\n",
              "    x.observe(outputEl, {childList: true});\n",
              "}}\n",
              "\n",
              "                        })\n",
              "                };\n",
              "                \n",
              "            </script>\n",
              "        </div>\n",
              "</body>\n",
              "</html>"
            ]
          },
          "metadata": {}
        }
      ]
    },
    {
      "cell_type": "markdown",
      "metadata": {
        "id": "TMMrBkMFTAB1"
      },
      "source": [
        "Выводы:\n",
        "* Меньше всего тяжелых аварий на сухих дорогах (52% вместо 53%)\n",
        "* С погибшими аварий больше на заснеженном покрытии 23%, для мокрого и сухого 17-18%.\n",
        "* Больше всего процент погибших для мокрого и сухого покрытия 44%, тогда как для заснеженного 40%.\n"
      ]
    },
    {
      "cell_type": "markdown",
      "metadata": {
        "id": "h-KUIC8iTvzb"
      },
      "source": [
        "# **6. Обработка данных по маркам машин участвующих в дтп**"
      ]
    },
    {
      "cell_type": "markdown",
      "metadata": {
        "id": "JTOywG2_ULQG"
      },
      "source": [
        "В столбце 'vehicles' представлены словари для каждой машины участвующей в дтп. Пройдемся по всему списку и создадим словарь для марки машины и типа ранений водителя."
      ]
    },
    {
      "cell_type": "code",
      "metadata": {
        "id": "fp7DDCDJdSxV"
      },
      "source": [
        "car_dict = {}\n",
        "for vehicle_el in data_all['vehicles']:\n",
        "  for car in vehicle_el:\n",
        "    if not car_dict.get(car['brand']):\n",
        "      car_dict[car['brand']] = {}\n",
        "    for participant in car['participants']:\n",
        "      if not car_dict[car['brand']].get(participant['health_status']) :\n",
        "        car_dict[car['brand']][participant['health_status']] = 1\n",
        "      else:\n",
        "        car_dict[car['brand']][participant['health_status']] += 10"
      ],
      "execution_count": null,
      "outputs": []
    },
    {
      "cell_type": "code",
      "metadata": {
        "id": "JLS-lc7WfZ3J"
      },
      "source": [
        "car_dict"
      ],
      "execution_count": null,
      "outputs": []
    },
    {
      "cell_type": "markdown",
      "metadata": {
        "id": "-PrVSxByUd7B"
      },
      "source": [
        "Типы телесных повреждений делятся на три:\n",
        "* не пострадал;\n",
        "* ранен;\n",
        "* скончался.\n",
        "Приведем значения в словаре к этим типам."
      ]
    },
    {
      "cell_type": "code",
      "metadata": {
        "id": "bPyvc4hRU7Um"
      },
      "source": [
        "car_dict_short = {}\n",
        "for car in car_dict.keys():\n",
        "  car_dict_short[car] = {}\n",
        "  car_dict_short[car]['Скончался'] = 0\n",
        "  car_dict_short[car]['Раненый'] = 0\n",
        "  car_dict_short[car]['Не пострадал'] = 0\n",
        "  car_dict_short[car]['Общее число'] = 0\n",
        "  for health in car_dict[car].keys():\n",
        "    car_dict_short[car]['Общее число'] += car_dict[car][health]\n",
        "    if \"Скончался\" in str(health):\n",
        "      car_dict_short[car]['Скончался'] += car_dict[car][health]\n",
        "    elif 'Получил' in str(health):\n",
        "      car_dict_short[car]['Раненый'] += car_dict[car][health]\n",
        "    elif 'Раненый' in str(health):\n",
        "      car_dict_short[car]['Раненый'] += car_dict[car][health]\n",
        "    else:\n",
        "      car_dict_short[car]['Не пострадал'] += car_dict[car][health]\n"
      ],
      "execution_count": null,
      "outputs": []
    },
    {
      "cell_type": "markdown",
      "metadata": {
        "id": "qNyzZcdDp-4J"
      },
      "source": [
        "Теперь перестроим словарь в датафрейм"
      ]
    },
    {
      "cell_type": "code",
      "metadata": {
        "id": "h8-3QbZEoPyN"
      },
      "source": [
        "table_car = pd.DataFrame()\n",
        "for index, car in enumerate(car_dict_short.keys()):\n",
        "  table_car.loc[index, 'brand'] = car\n",
        "  table_car.loc[index, 'Не пострадал'] = car_dict_short[car]['Не пострадал']\n",
        "  table_car.loc[index, 'Раненый'] = car_dict_short[car]['Раненый']   \n",
        "  table_car.loc[index, 'Скончался'] = car_dict_short[car]['Скончался']\n",
        "  table_car.loc[index, 'Общее число'] = car_dict_short[car]['Общее число']  "
      ],
      "execution_count": null,
      "outputs": []
    },
    {
      "cell_type": "code",
      "metadata": {
        "colab": {
          "base_uri": "https://localhost:8080/",
          "height": 424
        },
        "id": "EEqL-yMrpCFb",
        "outputId": "b7555b7e-8874-4df7-883d-b3ed2fbade85"
      },
      "source": [
        "table_car.sort_values(by='Общее число', ascending=False)"
      ],
      "execution_count": null,
      "outputs": [
        {
          "output_type": "execute_result",
          "data": {
            "text/html": [
              "<div>\n",
              "<style scoped>\n",
              "    .dataframe tbody tr th:only-of-type {\n",
              "        vertical-align: middle;\n",
              "    }\n",
              "\n",
              "    .dataframe tbody tr th {\n",
              "        vertical-align: top;\n",
              "    }\n",
              "\n",
              "    .dataframe thead th {\n",
              "        text-align: right;\n",
              "    }\n",
              "</style>\n",
              "<table border=\"1\" class=\"dataframe\">\n",
              "  <thead>\n",
              "    <tr style=\"text-align: right;\">\n",
              "      <th></th>\n",
              "      <th>brand</th>\n",
              "      <th>Не пострадал</th>\n",
              "      <th>Раненый</th>\n",
              "      <th>Скончался</th>\n",
              "      <th>Общее число</th>\n",
              "    </tr>\n",
              "  </thead>\n",
              "  <tbody>\n",
              "    <tr>\n",
              "      <th>17</th>\n",
              "      <td>HYUNDAI</td>\n",
              "      <td>66932.0</td>\n",
              "      <td>41096.0</td>\n",
              "      <td>1146.0</td>\n",
              "      <td>109174.0</td>\n",
              "    </tr>\n",
              "    <tr>\n",
              "      <th>13</th>\n",
              "      <td>KIA</td>\n",
              "      <td>56132.0</td>\n",
              "      <td>36065.0</td>\n",
              "      <td>850.0</td>\n",
              "      <td>93047.0</td>\n",
              "    </tr>\n",
              "    <tr>\n",
              "      <th>18</th>\n",
              "      <td>VOLKSWAGEN</td>\n",
              "      <td>42042.0</td>\n",
              "      <td>24885.0</td>\n",
              "      <td>697.0</td>\n",
              "      <td>67624.0</td>\n",
              "    </tr>\n",
              "    <tr>\n",
              "      <th>0</th>\n",
              "      <td>ВАЗ</td>\n",
              "      <td>32402.0</td>\n",
              "      <td>31914.0</td>\n",
              "      <td>1413.0</td>\n",
              "      <td>65729.0</td>\n",
              "    </tr>\n",
              "    <tr>\n",
              "      <th>15</th>\n",
              "      <td>FORD</td>\n",
              "      <td>36362.0</td>\n",
              "      <td>19365.0</td>\n",
              "      <td>392.0</td>\n",
              "      <td>56119.0</td>\n",
              "    </tr>\n",
              "    <tr>\n",
              "      <th>...</th>\n",
              "      <td>...</td>\n",
              "      <td>...</td>\n",
              "      <td>...</td>\n",
              "      <td>...</td>\n",
              "      <td>...</td>\n",
              "    </tr>\n",
              "    <tr>\n",
              "      <th>220</th>\n",
              "      <td>ASTRA</td>\n",
              "      <td>1.0</td>\n",
              "      <td>0.0</td>\n",
              "      <td>0.0</td>\n",
              "      <td>1.0</td>\n",
              "    </tr>\n",
              "    <tr>\n",
              "      <th>223</th>\n",
              "      <td>SPYKER</td>\n",
              "      <td>0.0</td>\n",
              "      <td>1.0</td>\n",
              "      <td>0.0</td>\n",
              "      <td>1.0</td>\n",
              "    </tr>\n",
              "    <tr>\n",
              "      <th>225</th>\n",
              "      <td>SALEEN</td>\n",
              "      <td>0.0</td>\n",
              "      <td>1.0</td>\n",
              "      <td>0.0</td>\n",
              "      <td>1.0</td>\n",
              "    </tr>\n",
              "    <tr>\n",
              "      <th>227</th>\n",
              "      <td>PANONIA</td>\n",
              "      <td>0.0</td>\n",
              "      <td>1.0</td>\n",
              "      <td>0.0</td>\n",
              "      <td>1.0</td>\n",
              "    </tr>\n",
              "    <tr>\n",
              "      <th>259</th>\n",
              "      <td>YANGTZE</td>\n",
              "      <td>0.0</td>\n",
              "      <td>1.0</td>\n",
              "      <td>0.0</td>\n",
              "      <td>1.0</td>\n",
              "    </tr>\n",
              "  </tbody>\n",
              "</table>\n",
              "<p>260 rows × 5 columns</p>\n",
              "</div>"
            ],
            "text/plain": [
              "          brand  Не пострадал  Раненый  Скончался  Общее число\n",
              "17      HYUNDAI       66932.0  41096.0     1146.0     109174.0\n",
              "13          KIA       56132.0  36065.0      850.0      93047.0\n",
              "18   VOLKSWAGEN       42042.0  24885.0      697.0      67624.0\n",
              "0           ВАЗ       32402.0  31914.0     1413.0      65729.0\n",
              "15         FORD       36362.0  19365.0      392.0      56119.0\n",
              "..          ...           ...      ...        ...          ...\n",
              "220       ASTRA           1.0      0.0        0.0          1.0\n",
              "223      SPYKER           0.0      1.0        0.0          1.0\n",
              "225      SALEEN           0.0      1.0        0.0          1.0\n",
              "227     PANONIA           0.0      1.0        0.0          1.0\n",
              "259     YANGTZE           0.0      1.0        0.0          1.0\n",
              "\n",
              "[260 rows x 5 columns]"
            ]
          },
          "metadata": {},
          "execution_count": 134
        }
      ]
    },
    {
      "cell_type": "markdown",
      "metadata": {
        "id": "3L-Mov_HsQrh"
      },
      "source": [
        "Посмотрим на описание полученных данных:"
      ]
    },
    {
      "cell_type": "code",
      "metadata": {
        "colab": {
          "base_uri": "https://localhost:8080/",
          "height": 300
        },
        "id": "DERvlfTIsPfi",
        "outputId": "82e44343-8718-4e56-f638-29503a475cdc"
      },
      "source": [
        "table_car.describe()"
      ],
      "execution_count": null,
      "outputs": [
        {
          "output_type": "execute_result",
          "data": {
            "text/html": [
              "<div>\n",
              "<style scoped>\n",
              "    .dataframe tbody tr th:only-of-type {\n",
              "        vertical-align: middle;\n",
              "    }\n",
              "\n",
              "    .dataframe tbody tr th {\n",
              "        vertical-align: top;\n",
              "    }\n",
              "\n",
              "    .dataframe thead th {\n",
              "        text-align: right;\n",
              "    }\n",
              "</style>\n",
              "<table border=\"1\" class=\"dataframe\">\n",
              "  <thead>\n",
              "    <tr style=\"text-align: right;\">\n",
              "      <th></th>\n",
              "      <th>Не пострадал</th>\n",
              "      <th>Раненый</th>\n",
              "      <th>Скончался</th>\n",
              "      <th>Общее число</th>\n",
              "    </tr>\n",
              "  </thead>\n",
              "  <tbody>\n",
              "    <tr>\n",
              "      <th>count</th>\n",
              "      <td>260.000000</td>\n",
              "      <td>260.000000</td>\n",
              "      <td>260.000000</td>\n",
              "      <td>260.000000</td>\n",
              "    </tr>\n",
              "    <tr>\n",
              "      <th>mean</th>\n",
              "      <td>2653.876923</td>\n",
              "      <td>1700.530769</td>\n",
              "      <td>43.230769</td>\n",
              "      <td>4397.638462</td>\n",
              "    </tr>\n",
              "    <tr>\n",
              "      <th>std</th>\n",
              "      <td>8369.004870</td>\n",
              "      <td>5423.502175</td>\n",
              "      <td>157.841206</td>\n",
              "      <td>13766.632895</td>\n",
              "    </tr>\n",
              "    <tr>\n",
              "      <th>min</th>\n",
              "      <td>0.000000</td>\n",
              "      <td>0.000000</td>\n",
              "      <td>0.000000</td>\n",
              "      <td>1.000000</td>\n",
              "    </tr>\n",
              "    <tr>\n",
              "      <th>25%</th>\n",
              "      <td>1.000000</td>\n",
              "      <td>1.000000</td>\n",
              "      <td>0.000000</td>\n",
              "      <td>2.000000</td>\n",
              "    </tr>\n",
              "    <tr>\n",
              "      <th>50%</th>\n",
              "      <td>31.000000</td>\n",
              "      <td>21.000000</td>\n",
              "      <td>0.000000</td>\n",
              "      <td>51.500000</td>\n",
              "    </tr>\n",
              "    <tr>\n",
              "      <th>75%</th>\n",
              "      <td>436.000000</td>\n",
              "      <td>335.750000</td>\n",
              "      <td>1.000000</td>\n",
              "      <td>940.750000</td>\n",
              "    </tr>\n",
              "    <tr>\n",
              "      <th>max</th>\n",
              "      <td>66932.000000</td>\n",
              "      <td>41096.000000</td>\n",
              "      <td>1413.000000</td>\n",
              "      <td>109174.000000</td>\n",
              "    </tr>\n",
              "  </tbody>\n",
              "</table>\n",
              "</div>"
            ],
            "text/plain": [
              "       Не пострадал       Раненый    Скончался    Общее число\n",
              "count    260.000000    260.000000   260.000000     260.000000\n",
              "mean    2653.876923   1700.530769    43.230769    4397.638462\n",
              "std     8369.004870   5423.502175   157.841206   13766.632895\n",
              "min        0.000000      0.000000     0.000000       1.000000\n",
              "25%        1.000000      1.000000     0.000000       2.000000\n",
              "50%       31.000000     21.000000     0.000000      51.500000\n",
              "75%      436.000000    335.750000     1.000000     940.750000\n",
              "max    66932.000000  41096.000000  1413.000000  109174.000000"
            ]
          },
          "metadata": {},
          "execution_count": 136
        }
      ]
    },
    {
      "cell_type": "markdown",
      "metadata": {
        "id": "dl6GtmzisGf_"
      },
      "source": [
        "Выделим первые 10 брэндов машин по общим участникам дтп и построим для них распределение повреждений в ходе дтп."
      ]
    },
    {
      "cell_type": "code",
      "metadata": {
        "id": "sp0CAzb2r8dD"
      },
      "source": [
        "table_car_short = table_car.sort_values(by='Общее число', ascending=False).head(10)"
      ],
      "execution_count": null,
      "outputs": []
    },
    {
      "cell_type": "code",
      "metadata": {
        "colab": {
          "base_uri": "https://localhost:8080/",
          "height": 542
        },
        "id": "IgXeT7MirNlm",
        "outputId": "31cadee2-7563-4619-ece5-9bf4ca588853"
      },
      "source": [
        "fig = go.Figure(data = [go.Bar(name='Не пострадал', x=table_car_short['brand'], \n",
        "                               y=table_car_short['Не пострадал']), \n",
        "                        go.Bar(name='Раненый', x=table_car_short['brand'], \n",
        "                               y=table_car_short['Раненый']), \n",
        "                        go.Bar(name='Скончался', x=table_car_short['brand'], \n",
        "                               y=table_car_short['Скончался'])\n",
        "                        ])\n",
        "fig.update_layout(barmode='group')\n",
        "fig.show()"
      ],
      "execution_count": null,
      "outputs": [
        {
          "output_type": "display_data",
          "data": {
            "text/html": [
              "<html>\n",
              "<head><meta charset=\"utf-8\" /></head>\n",
              "<body>\n",
              "    <div>\n",
              "            <script src=\"https://cdnjs.cloudflare.com/ajax/libs/mathjax/2.7.5/MathJax.js?config=TeX-AMS-MML_SVG\"></script><script type=\"text/javascript\">if (window.MathJax) {MathJax.Hub.Config({SVG: {font: \"STIX-Web\"}});}</script>\n",
              "                <script type=\"text/javascript\">window.PlotlyConfig = {MathJaxConfig: 'local'};</script>\n",
              "        <script src=\"https://cdn.plot.ly/plotly-latest.min.js\"></script>    \n",
              "            <div id=\"d291c8a1-68c7-4b34-b88b-30be5570faaa\" class=\"plotly-graph-div\" style=\"height:525px; width:100%;\"></div>\n",
              "            <script type=\"text/javascript\">\n",
              "                \n",
              "                    window.PLOTLYENV=window.PLOTLYENV || {};\n",
              "                    \n",
              "                if (document.getElementById(\"d291c8a1-68c7-4b34-b88b-30be5570faaa\")) {\n",
              "                    Plotly.newPlot(\n",
              "                        'd291c8a1-68c7-4b34-b88b-30be5570faaa',\n",
              "                        [{\"name\": \"\\u041d\\u0435 \\u043f\\u043e\\u0441\\u0442\\u0440\\u0430\\u0434\\u0430\\u043b\", \"type\": \"bar\", \"x\": [\"HYUNDAI\", \"KIA\", \"VOLKSWAGEN\", \"\\u0412\\u0410\\u0417\", \"FORD\", \"MERCEDES\", \"\\u041b\\u0418\\u0410\\u0417\", \"SKODA\", \"NISSAN\", \"TOYOTA\"], \"y\": [66932.0, 56132.0, 42042.0, 32402.0, 36362.0, 36012.0, 26642.0, 28742.0, 30382.0, 30462.0]}, {\"name\": \"\\u0420\\u0430\\u043d\\u0435\\u043d\\u044b\\u0439\", \"type\": \"bar\", \"x\": [\"HYUNDAI\", \"KIA\", \"VOLKSWAGEN\", \"\\u0412\\u0410\\u0417\", \"FORD\", \"MERCEDES\", \"\\u041b\\u0418\\u0410\\u0417\", \"SKODA\", \"NISSAN\", \"TOYOTA\"], \"y\": [41096.0, 36065.0, 24885.0, 31914.0, 19365.0, 17875.0, 22844.0, 18464.0, 15835.0, 14415.0]}, {\"name\": \"\\u0421\\u043a\\u043e\\u043d\\u0447\\u0430\\u043b\\u0441\\u044f\", \"type\": \"bar\", \"x\": [\"HYUNDAI\", \"KIA\", \"VOLKSWAGEN\", \"\\u0412\\u0410\\u0417\", \"FORD\", \"MERCEDES\", \"\\u041b\\u0418\\u0410\\u0417\", \"SKODA\", \"NISSAN\", \"TOYOTA\"], \"y\": [1146.0, 850.0, 697.0, 1413.0, 392.0, 331.0, 60.0, 244.0, 301.0, 393.0]}],\n",
              "                        {\"barmode\": \"group\", \"template\": {\"data\": {\"bar\": [{\"error_x\": {\"color\": \"#2a3f5f\"}, \"error_y\": {\"color\": \"#2a3f5f\"}, \"marker\": {\"line\": {\"color\": \"#E5ECF6\", \"width\": 0.5}}, \"type\": \"bar\"}], \"barpolar\": [{\"marker\": {\"line\": {\"color\": \"#E5ECF6\", \"width\": 0.5}}, \"type\": \"barpolar\"}], \"carpet\": [{\"aaxis\": {\"endlinecolor\": \"#2a3f5f\", \"gridcolor\": \"white\", \"linecolor\": \"white\", \"minorgridcolor\": \"white\", \"startlinecolor\": \"#2a3f5f\"}, \"baxis\": {\"endlinecolor\": \"#2a3f5f\", \"gridcolor\": \"white\", \"linecolor\": \"white\", \"minorgridcolor\": \"white\", \"startlinecolor\": \"#2a3f5f\"}, \"type\": \"carpet\"}], \"choropleth\": [{\"colorbar\": {\"outlinewidth\": 0, \"ticks\": \"\"}, \"type\": \"choropleth\"}], \"contour\": [{\"colorbar\": {\"outlinewidth\": 0, \"ticks\": \"\"}, \"colorscale\": [[0.0, \"#0d0887\"], [0.1111111111111111, \"#46039f\"], [0.2222222222222222, \"#7201a8\"], [0.3333333333333333, \"#9c179e\"], [0.4444444444444444, \"#bd3786\"], [0.5555555555555556, \"#d8576b\"], [0.6666666666666666, \"#ed7953\"], [0.7777777777777778, \"#fb9f3a\"], [0.8888888888888888, \"#fdca26\"], [1.0, \"#f0f921\"]], \"type\": \"contour\"}], \"contourcarpet\": [{\"colorbar\": {\"outlinewidth\": 0, \"ticks\": \"\"}, \"type\": \"contourcarpet\"}], \"heatmap\": [{\"colorbar\": {\"outlinewidth\": 0, \"ticks\": \"\"}, \"colorscale\": [[0.0, \"#0d0887\"], [0.1111111111111111, \"#46039f\"], [0.2222222222222222, \"#7201a8\"], [0.3333333333333333, \"#9c179e\"], [0.4444444444444444, \"#bd3786\"], [0.5555555555555556, \"#d8576b\"], [0.6666666666666666, \"#ed7953\"], [0.7777777777777778, \"#fb9f3a\"], [0.8888888888888888, \"#fdca26\"], [1.0, \"#f0f921\"]], \"type\": \"heatmap\"}], \"heatmapgl\": [{\"colorbar\": {\"outlinewidth\": 0, \"ticks\": \"\"}, \"colorscale\": [[0.0, \"#0d0887\"], [0.1111111111111111, \"#46039f\"], [0.2222222222222222, \"#7201a8\"], [0.3333333333333333, \"#9c179e\"], [0.4444444444444444, \"#bd3786\"], [0.5555555555555556, \"#d8576b\"], [0.6666666666666666, \"#ed7953\"], [0.7777777777777778, \"#fb9f3a\"], [0.8888888888888888, \"#fdca26\"], [1.0, \"#f0f921\"]], \"type\": \"heatmapgl\"}], \"histogram\": [{\"marker\": {\"colorbar\": {\"outlinewidth\": 0, \"ticks\": \"\"}}, \"type\": \"histogram\"}], \"histogram2d\": [{\"colorbar\": {\"outlinewidth\": 0, \"ticks\": \"\"}, \"colorscale\": [[0.0, \"#0d0887\"], [0.1111111111111111, \"#46039f\"], [0.2222222222222222, \"#7201a8\"], [0.3333333333333333, \"#9c179e\"], [0.4444444444444444, \"#bd3786\"], [0.5555555555555556, \"#d8576b\"], [0.6666666666666666, \"#ed7953\"], [0.7777777777777778, \"#fb9f3a\"], [0.8888888888888888, \"#fdca26\"], [1.0, \"#f0f921\"]], \"type\": \"histogram2d\"}], \"histogram2dcontour\": [{\"colorbar\": {\"outlinewidth\": 0, \"ticks\": \"\"}, \"colorscale\": [[0.0, \"#0d0887\"], [0.1111111111111111, \"#46039f\"], [0.2222222222222222, \"#7201a8\"], [0.3333333333333333, \"#9c179e\"], [0.4444444444444444, \"#bd3786\"], [0.5555555555555556, \"#d8576b\"], [0.6666666666666666, \"#ed7953\"], [0.7777777777777778, \"#fb9f3a\"], [0.8888888888888888, \"#fdca26\"], [1.0, \"#f0f921\"]], \"type\": \"histogram2dcontour\"}], \"mesh3d\": [{\"colorbar\": {\"outlinewidth\": 0, \"ticks\": \"\"}, \"type\": \"mesh3d\"}], \"parcoords\": [{\"line\": {\"colorbar\": {\"outlinewidth\": 0, \"ticks\": \"\"}}, \"type\": \"parcoords\"}], \"pie\": [{\"automargin\": true, \"type\": \"pie\"}], \"scatter\": [{\"marker\": {\"colorbar\": {\"outlinewidth\": 0, \"ticks\": \"\"}}, \"type\": \"scatter\"}], \"scatter3d\": [{\"line\": {\"colorbar\": {\"outlinewidth\": 0, \"ticks\": \"\"}}, \"marker\": {\"colorbar\": {\"outlinewidth\": 0, \"ticks\": \"\"}}, \"type\": \"scatter3d\"}], \"scattercarpet\": [{\"marker\": {\"colorbar\": {\"outlinewidth\": 0, \"ticks\": \"\"}}, \"type\": \"scattercarpet\"}], \"scattergeo\": [{\"marker\": {\"colorbar\": {\"outlinewidth\": 0, \"ticks\": \"\"}}, \"type\": \"scattergeo\"}], \"scattergl\": [{\"marker\": {\"colorbar\": {\"outlinewidth\": 0, \"ticks\": \"\"}}, \"type\": \"scattergl\"}], \"scattermapbox\": [{\"marker\": {\"colorbar\": {\"outlinewidth\": 0, \"ticks\": \"\"}}, \"type\": \"scattermapbox\"}], \"scatterpolar\": [{\"marker\": {\"colorbar\": {\"outlinewidth\": 0, \"ticks\": \"\"}}, \"type\": \"scatterpolar\"}], \"scatterpolargl\": [{\"marker\": {\"colorbar\": {\"outlinewidth\": 0, \"ticks\": \"\"}}, \"type\": \"scatterpolargl\"}], \"scatterternary\": [{\"marker\": {\"colorbar\": {\"outlinewidth\": 0, \"ticks\": \"\"}}, \"type\": \"scatterternary\"}], \"surface\": [{\"colorbar\": {\"outlinewidth\": 0, \"ticks\": \"\"}, \"colorscale\": [[0.0, \"#0d0887\"], [0.1111111111111111, \"#46039f\"], [0.2222222222222222, \"#7201a8\"], [0.3333333333333333, \"#9c179e\"], [0.4444444444444444, \"#bd3786\"], [0.5555555555555556, \"#d8576b\"], [0.6666666666666666, \"#ed7953\"], [0.7777777777777778, \"#fb9f3a\"], [0.8888888888888888, \"#fdca26\"], [1.0, \"#f0f921\"]], \"type\": \"surface\"}], \"table\": [{\"cells\": {\"fill\": {\"color\": \"#EBF0F8\"}, \"line\": {\"color\": \"white\"}}, \"header\": {\"fill\": {\"color\": \"#C8D4E3\"}, \"line\": {\"color\": \"white\"}}, \"type\": \"table\"}]}, \"layout\": {\"annotationdefaults\": {\"arrowcolor\": \"#2a3f5f\", \"arrowhead\": 0, \"arrowwidth\": 1}, \"coloraxis\": {\"colorbar\": {\"outlinewidth\": 0, \"ticks\": \"\"}}, \"colorscale\": {\"diverging\": [[0, \"#8e0152\"], [0.1, \"#c51b7d\"], [0.2, \"#de77ae\"], [0.3, \"#f1b6da\"], [0.4, \"#fde0ef\"], [0.5, \"#f7f7f7\"], [0.6, \"#e6f5d0\"], [0.7, \"#b8e186\"], [0.8, \"#7fbc41\"], [0.9, \"#4d9221\"], [1, \"#276419\"]], \"sequential\": [[0.0, \"#0d0887\"], [0.1111111111111111, \"#46039f\"], [0.2222222222222222, \"#7201a8\"], [0.3333333333333333, \"#9c179e\"], [0.4444444444444444, \"#bd3786\"], [0.5555555555555556, \"#d8576b\"], [0.6666666666666666, \"#ed7953\"], [0.7777777777777778, \"#fb9f3a\"], [0.8888888888888888, \"#fdca26\"], [1.0, \"#f0f921\"]], \"sequentialminus\": [[0.0, \"#0d0887\"], [0.1111111111111111, \"#46039f\"], [0.2222222222222222, \"#7201a8\"], [0.3333333333333333, \"#9c179e\"], [0.4444444444444444, \"#bd3786\"], [0.5555555555555556, \"#d8576b\"], [0.6666666666666666, \"#ed7953\"], [0.7777777777777778, \"#fb9f3a\"], [0.8888888888888888, \"#fdca26\"], [1.0, \"#f0f921\"]]}, \"colorway\": [\"#636efa\", \"#EF553B\", \"#00cc96\", \"#ab63fa\", \"#FFA15A\", \"#19d3f3\", \"#FF6692\", \"#B6E880\", \"#FF97FF\", \"#FECB52\"], \"font\": {\"color\": \"#2a3f5f\"}, \"geo\": {\"bgcolor\": \"white\", \"lakecolor\": \"white\", \"landcolor\": \"#E5ECF6\", \"showlakes\": true, \"showland\": true, \"subunitcolor\": \"white\"}, \"hoverlabel\": {\"align\": \"left\"}, \"hovermode\": \"closest\", \"mapbox\": {\"style\": \"light\"}, \"paper_bgcolor\": \"white\", \"plot_bgcolor\": \"#E5ECF6\", \"polar\": {\"angularaxis\": {\"gridcolor\": \"white\", \"linecolor\": \"white\", \"ticks\": \"\"}, \"bgcolor\": \"#E5ECF6\", \"radialaxis\": {\"gridcolor\": \"white\", \"linecolor\": \"white\", \"ticks\": \"\"}}, \"scene\": {\"xaxis\": {\"backgroundcolor\": \"#E5ECF6\", \"gridcolor\": \"white\", \"gridwidth\": 2, \"linecolor\": \"white\", \"showbackground\": true, \"ticks\": \"\", \"zerolinecolor\": \"white\"}, \"yaxis\": {\"backgroundcolor\": \"#E5ECF6\", \"gridcolor\": \"white\", \"gridwidth\": 2, \"linecolor\": \"white\", \"showbackground\": true, \"ticks\": \"\", \"zerolinecolor\": \"white\"}, \"zaxis\": {\"backgroundcolor\": \"#E5ECF6\", \"gridcolor\": \"white\", \"gridwidth\": 2, \"linecolor\": \"white\", \"showbackground\": true, \"ticks\": \"\", \"zerolinecolor\": \"white\"}}, \"shapedefaults\": {\"line\": {\"color\": \"#2a3f5f\"}}, \"ternary\": {\"aaxis\": {\"gridcolor\": \"white\", \"linecolor\": \"white\", \"ticks\": \"\"}, \"baxis\": {\"gridcolor\": \"white\", \"linecolor\": \"white\", \"ticks\": \"\"}, \"bgcolor\": \"#E5ECF6\", \"caxis\": {\"gridcolor\": \"white\", \"linecolor\": \"white\", \"ticks\": \"\"}}, \"title\": {\"x\": 0.05}, \"xaxis\": {\"automargin\": true, \"gridcolor\": \"white\", \"linecolor\": \"white\", \"ticks\": \"\", \"title\": {\"standoff\": 15}, \"zerolinecolor\": \"white\", \"zerolinewidth\": 2}, \"yaxis\": {\"automargin\": true, \"gridcolor\": \"white\", \"linecolor\": \"white\", \"ticks\": \"\", \"title\": {\"standoff\": 15}, \"zerolinecolor\": \"white\", \"zerolinewidth\": 2}}}},\n",
              "                        {\"responsive\": true}\n",
              "                    ).then(function(){\n",
              "                            \n",
              "var gd = document.getElementById('d291c8a1-68c7-4b34-b88b-30be5570faaa');\n",
              "var x = new MutationObserver(function (mutations, observer) {{\n",
              "        var display = window.getComputedStyle(gd).display;\n",
              "        if (!display || display === 'none') {{\n",
              "            console.log([gd, 'removed!']);\n",
              "            Plotly.purge(gd);\n",
              "            observer.disconnect();\n",
              "        }}\n",
              "}});\n",
              "\n",
              "// Listen for the removal of the full notebook cells\n",
              "var notebookContainer = gd.closest('#notebook-container');\n",
              "if (notebookContainer) {{\n",
              "    x.observe(notebookContainer, {childList: true});\n",
              "}}\n",
              "\n",
              "// Listen for the clearing of the current output cell\n",
              "var outputEl = gd.closest('.output');\n",
              "if (outputEl) {{\n",
              "    x.observe(outputEl, {childList: true});\n",
              "}}\n",
              "\n",
              "                        })\n",
              "                };\n",
              "                \n",
              "            </script>\n",
              "        </div>\n",
              "</body>\n",
              "</html>"
            ]
          },
          "metadata": {}
        }
      ]
    },
    {
      "cell_type": "markdown",
      "metadata": {
        "id": "8XuRTj35ujFR"
      },
      "source": [
        "Такой подход не позволяет говорить о том, где больше погибает или больше не получает повреждений. Но показывает марки машин, которые чаще всего попадают в дтп, и распределение количества и степени повреждений в них.\n",
        "\n",
        "Для этого оставим в таблице только машины с участниками от 30000. И добавим столбцы процентов смертей, пострадавших и непострадавших."
      ]
    },
    {
      "cell_type": "code",
      "metadata": {
        "colab": {
          "base_uri": "https://localhost:8080/",
          "height": 708
        },
        "id": "rsFTElvWvoTf",
        "outputId": "dfef2a34-1c39-4691-d445-a0839025c95b"
      },
      "source": [
        "table_medium = table_car[table_car['Общее число'] > 15000\n",
        "                         ].sort_values(by='Общее число', ascending=False)\n",
        "table_medium['percent_inj'] = round(table_medium['Раненый'] / table_medium['Общее число'],2)\n",
        "table_medium['percent_dead'] = round(table_medium['Скончался'] / table_medium['Общее число'],2)\n",
        "table_medium"
      ],
      "execution_count": null,
      "outputs": [
        {
          "output_type": "execute_result",
          "data": {
            "text/html": [
              "<div>\n",
              "<style scoped>\n",
              "    .dataframe tbody tr th:only-of-type {\n",
              "        vertical-align: middle;\n",
              "    }\n",
              "\n",
              "    .dataframe tbody tr th {\n",
              "        vertical-align: top;\n",
              "    }\n",
              "\n",
              "    .dataframe thead th {\n",
              "        text-align: right;\n",
              "    }\n",
              "</style>\n",
              "<table border=\"1\" class=\"dataframe\">\n",
              "  <thead>\n",
              "    <tr style=\"text-align: right;\">\n",
              "      <th></th>\n",
              "      <th>brand</th>\n",
              "      <th>Не пострадал</th>\n",
              "      <th>Раненый</th>\n",
              "      <th>Скончался</th>\n",
              "      <th>Общее число</th>\n",
              "      <th>percent_inj</th>\n",
              "      <th>percent_dead</th>\n",
              "    </tr>\n",
              "  </thead>\n",
              "  <tbody>\n",
              "    <tr>\n",
              "      <th>17</th>\n",
              "      <td>HYUNDAI</td>\n",
              "      <td>66932.0</td>\n",
              "      <td>41096.0</td>\n",
              "      <td>1146.0</td>\n",
              "      <td>109174.0</td>\n",
              "      <td>0.38</td>\n",
              "      <td>0.01</td>\n",
              "    </tr>\n",
              "    <tr>\n",
              "      <th>13</th>\n",
              "      <td>KIA</td>\n",
              "      <td>56132.0</td>\n",
              "      <td>36065.0</td>\n",
              "      <td>850.0</td>\n",
              "      <td>93047.0</td>\n",
              "      <td>0.39</td>\n",
              "      <td>0.01</td>\n",
              "    </tr>\n",
              "    <tr>\n",
              "      <th>18</th>\n",
              "      <td>VOLKSWAGEN</td>\n",
              "      <td>42042.0</td>\n",
              "      <td>24885.0</td>\n",
              "      <td>697.0</td>\n",
              "      <td>67624.0</td>\n",
              "      <td>0.37</td>\n",
              "      <td>0.01</td>\n",
              "    </tr>\n",
              "    <tr>\n",
              "      <th>0</th>\n",
              "      <td>ВАЗ</td>\n",
              "      <td>32402.0</td>\n",
              "      <td>31914.0</td>\n",
              "      <td>1413.0</td>\n",
              "      <td>65729.0</td>\n",
              "      <td>0.49</td>\n",
              "      <td>0.02</td>\n",
              "    </tr>\n",
              "    <tr>\n",
              "      <th>15</th>\n",
              "      <td>FORD</td>\n",
              "      <td>36362.0</td>\n",
              "      <td>19365.0</td>\n",
              "      <td>392.0</td>\n",
              "      <td>56119.0</td>\n",
              "      <td>0.35</td>\n",
              "      <td>0.01</td>\n",
              "    </tr>\n",
              "    <tr>\n",
              "      <th>26</th>\n",
              "      <td>MERCEDES</td>\n",
              "      <td>36012.0</td>\n",
              "      <td>17875.0</td>\n",
              "      <td>331.0</td>\n",
              "      <td>54218.0</td>\n",
              "      <td>0.33</td>\n",
              "      <td>0.01</td>\n",
              "    </tr>\n",
              "    <tr>\n",
              "      <th>7</th>\n",
              "      <td>ЛИАЗ</td>\n",
              "      <td>26642.0</td>\n",
              "      <td>22844.0</td>\n",
              "      <td>60.0</td>\n",
              "      <td>49546.0</td>\n",
              "      <td>0.46</td>\n",
              "      <td>0.00</td>\n",
              "    </tr>\n",
              "    <tr>\n",
              "      <th>1</th>\n",
              "      <td>SKODA</td>\n",
              "      <td>28742.0</td>\n",
              "      <td>18464.0</td>\n",
              "      <td>244.0</td>\n",
              "      <td>47450.0</td>\n",
              "      <td>0.39</td>\n",
              "      <td>0.01</td>\n",
              "    </tr>\n",
              "    <tr>\n",
              "      <th>5</th>\n",
              "      <td>NISSAN</td>\n",
              "      <td>30382.0</td>\n",
              "      <td>15835.0</td>\n",
              "      <td>301.0</td>\n",
              "      <td>46518.0</td>\n",
              "      <td>0.34</td>\n",
              "      <td>0.01</td>\n",
              "    </tr>\n",
              "    <tr>\n",
              "      <th>2</th>\n",
              "      <td>TOYOTA</td>\n",
              "      <td>30462.0</td>\n",
              "      <td>14415.0</td>\n",
              "      <td>393.0</td>\n",
              "      <td>45270.0</td>\n",
              "      <td>0.32</td>\n",
              "      <td>0.01</td>\n",
              "    </tr>\n",
              "    <tr>\n",
              "      <th>30</th>\n",
              "      <td>BMW</td>\n",
              "      <td>23922.0</td>\n",
              "      <td>13445.0</td>\n",
              "      <td>534.0</td>\n",
              "      <td>37901.0</td>\n",
              "      <td>0.35</td>\n",
              "      <td>0.01</td>\n",
              "    </tr>\n",
              "    <tr>\n",
              "      <th>6</th>\n",
              "      <td>RENAULT</td>\n",
              "      <td>18742.0</td>\n",
              "      <td>12364.0</td>\n",
              "      <td>353.0</td>\n",
              "      <td>31459.0</td>\n",
              "      <td>0.39</td>\n",
              "      <td>0.01</td>\n",
              "    </tr>\n",
              "    <tr>\n",
              "      <th>11</th>\n",
              "      <td>HONDA</td>\n",
              "      <td>11082.0</td>\n",
              "      <td>18144.0</td>\n",
              "      <td>773.0</td>\n",
              "      <td>29999.0</td>\n",
              "      <td>0.60</td>\n",
              "      <td>0.03</td>\n",
              "    </tr>\n",
              "    <tr>\n",
              "      <th>36</th>\n",
              "      <td>ГАЗ</td>\n",
              "      <td>21002.0</td>\n",
              "      <td>7754.0</td>\n",
              "      <td>202.0</td>\n",
              "      <td>28958.0</td>\n",
              "      <td>0.27</td>\n",
              "      <td>0.01</td>\n",
              "    </tr>\n",
              "    <tr>\n",
              "      <th>38</th>\n",
              "      <td>CHEVROLET</td>\n",
              "      <td>18302.0</td>\n",
              "      <td>10184.0</td>\n",
              "      <td>294.0</td>\n",
              "      <td>28780.0</td>\n",
              "      <td>0.35</td>\n",
              "      <td>0.01</td>\n",
              "    </tr>\n",
              "    <tr>\n",
              "      <th>27</th>\n",
              "      <td>None</td>\n",
              "      <td>8422.0</td>\n",
              "      <td>16554.0</td>\n",
              "      <td>132.0</td>\n",
              "      <td>25108.0</td>\n",
              "      <td>0.66</td>\n",
              "      <td>0.01</td>\n",
              "    </tr>\n",
              "    <tr>\n",
              "      <th>19</th>\n",
              "      <td>MITSUBISHI</td>\n",
              "      <td>16462.0</td>\n",
              "      <td>8015.0</td>\n",
              "      <td>288.0</td>\n",
              "      <td>24765.0</td>\n",
              "      <td>0.32</td>\n",
              "      <td>0.01</td>\n",
              "    </tr>\n",
              "    <tr>\n",
              "      <th>4</th>\n",
              "      <td>OPEL</td>\n",
              "      <td>14621.0</td>\n",
              "      <td>8335.0</td>\n",
              "      <td>188.0</td>\n",
              "      <td>23144.0</td>\n",
              "      <td>0.36</td>\n",
              "      <td>0.01</td>\n",
              "    </tr>\n",
              "    <tr>\n",
              "      <th>34</th>\n",
              "      <td>AUDI</td>\n",
              "      <td>14712.0</td>\n",
              "      <td>6634.0</td>\n",
              "      <td>54.0</td>\n",
              "      <td>21400.0</td>\n",
              "      <td>0.31</td>\n",
              "      <td>0.00</td>\n",
              "    </tr>\n",
              "    <tr>\n",
              "      <th>32</th>\n",
              "      <td>MAZDA</td>\n",
              "      <td>12062.0</td>\n",
              "      <td>7345.0</td>\n",
              "      <td>260.0</td>\n",
              "      <td>19667.0</td>\n",
              "      <td>0.37</td>\n",
              "      <td>0.01</td>\n",
              "    </tr>\n",
              "    <tr>\n",
              "      <th>12</th>\n",
              "      <td>Прочие марки ТС</td>\n",
              "      <td>8622.0</td>\n",
              "      <td>10824.0</td>\n",
              "      <td>152.0</td>\n",
              "      <td>19598.0</td>\n",
              "      <td>0.55</td>\n",
              "      <td>0.01</td>\n",
              "    </tr>\n",
              "  </tbody>\n",
              "</table>\n",
              "</div>"
            ],
            "text/plain": [
              "              brand  Не пострадал  ...  percent_inj  percent_dead\n",
              "17          HYUNDAI       66932.0  ...         0.38          0.01\n",
              "13              KIA       56132.0  ...         0.39          0.01\n",
              "18       VOLKSWAGEN       42042.0  ...         0.37          0.01\n",
              "0               ВАЗ       32402.0  ...         0.49          0.02\n",
              "15             FORD       36362.0  ...         0.35          0.01\n",
              "26         MERCEDES       36012.0  ...         0.33          0.01\n",
              "7              ЛИАЗ       26642.0  ...         0.46          0.00\n",
              "1             SKODA       28742.0  ...         0.39          0.01\n",
              "5            NISSAN       30382.0  ...         0.34          0.01\n",
              "2            TOYOTA       30462.0  ...         0.32          0.01\n",
              "30              BMW       23922.0  ...         0.35          0.01\n",
              "6           RENAULT       18742.0  ...         0.39          0.01\n",
              "11            HONDA       11082.0  ...         0.60          0.03\n",
              "36              ГАЗ       21002.0  ...         0.27          0.01\n",
              "38        CHEVROLET       18302.0  ...         0.35          0.01\n",
              "27             None        8422.0  ...         0.66          0.01\n",
              "19       MITSUBISHI       16462.0  ...         0.32          0.01\n",
              "4              OPEL       14621.0  ...         0.36          0.01\n",
              "34             AUDI       14712.0  ...         0.31          0.00\n",
              "32            MAZDA       12062.0  ...         0.37          0.01\n",
              "12  Прочие марки ТС        8622.0  ...         0.55          0.01\n",
              "\n",
              "[21 rows x 7 columns]"
            ]
          },
          "metadata": {},
          "execution_count": 153
        }
      ]
    },
    {
      "cell_type": "markdown",
      "metadata": {
        "id": "MINoRaRKwjA0"
      },
      "source": [
        "Из таблицы сразу можно заметить, что процент смертности для всех одинаков 1%, кроме Хонды 3%, ВАЗ 2% и минимум смертности на ЛИАЗ 0%. \n",
        "Для анализа данных по ранениям лучше всего визуализировать данные."
      ]
    },
    {
      "cell_type": "markdown",
      "metadata": {
        "id": "jN41Ga-Du6OG"
      },
      "source": [
        "Выведем топ 10 марок машин с наибольшим количеством не пострадавших, как топ 10 безопасных машин и топ 10 машин, где было больше всего смертей."
      ]
    },
    {
      "cell_type": "code",
      "metadata": {
        "colab": {
          "base_uri": "https://localhost:8080/",
          "height": 542
        },
        "id": "SIJP_Wnrn5BA",
        "outputId": "70fc89aa-26bb-4e0f-a5e1-a5cb7ee2921d"
      },
      "source": [
        "px.bar(table_medium.sort_values(by='percent_inj', ascending=False), x='brand', y='percent_inj')"
      ],
      "execution_count": null,
      "outputs": [
        {
          "output_type": "display_data",
          "data": {
            "text/html": [
              "<html>\n",
              "<head><meta charset=\"utf-8\" /></head>\n",
              "<body>\n",
              "    <div>\n",
              "            <script src=\"https://cdnjs.cloudflare.com/ajax/libs/mathjax/2.7.5/MathJax.js?config=TeX-AMS-MML_SVG\"></script><script type=\"text/javascript\">if (window.MathJax) {MathJax.Hub.Config({SVG: {font: \"STIX-Web\"}});}</script>\n",
              "                <script type=\"text/javascript\">window.PlotlyConfig = {MathJaxConfig: 'local'};</script>\n",
              "        <script src=\"https://cdn.plot.ly/plotly-latest.min.js\"></script>    \n",
              "            <div id=\"45546029-9906-4802-b958-1e7aa6fa254b\" class=\"plotly-graph-div\" style=\"height:525px; width:100%;\"></div>\n",
              "            <script type=\"text/javascript\">\n",
              "                \n",
              "                    window.PLOTLYENV=window.PLOTLYENV || {};\n",
              "                    \n",
              "                if (document.getElementById(\"45546029-9906-4802-b958-1e7aa6fa254b\")) {\n",
              "                    Plotly.newPlot(\n",
              "                        '45546029-9906-4802-b958-1e7aa6fa254b',\n",
              "                        [{\"alignmentgroup\": \"True\", \"hoverlabel\": {\"namelength\": 0}, \"hovertemplate\": \"brand=%{x}<br>percent_inj=%{y}\", \"legendgroup\": \"\", \"marker\": {\"color\": \"#636efa\"}, \"name\": \"\", \"offsetgroup\": \"\", \"orientation\": \"v\", \"showlegend\": false, \"textposition\": \"auto\", \"type\": \"bar\", \"x\": [null, \"HONDA\", \"\\u041f\\u0440\\u043e\\u0447\\u0438\\u0435 \\u043c\\u0430\\u0440\\u043a\\u0438 \\u0422\\u0421\", \"\\u0412\\u0410\\u0417\", \"\\u041b\\u0418\\u0410\\u0417\", \"KIA\", \"RENAULT\", \"SKODA\", \"HYUNDAI\", \"VOLKSWAGEN\", \"MAZDA\", \"OPEL\", \"FORD\", \"CHEVROLET\", \"BMW\", \"NISSAN\", \"MERCEDES\", \"TOYOTA\", \"MITSUBISHI\", \"AUDI\", \"\\u0413\\u0410\\u0417\"], \"xaxis\": \"x\", \"y\": [0.66, 0.6, 0.55, 0.49, 0.46, 0.39, 0.39, 0.39, 0.38, 0.37, 0.37, 0.36, 0.35, 0.35, 0.35, 0.34, 0.33, 0.32, 0.32, 0.31, 0.27], \"yaxis\": \"y\"}],\n",
              "                        {\"barmode\": \"relative\", \"legend\": {\"tracegroupgap\": 0}, \"margin\": {\"t\": 60}, \"template\": {\"data\": {\"bar\": [{\"error_x\": {\"color\": \"#2a3f5f\"}, \"error_y\": {\"color\": \"#2a3f5f\"}, \"marker\": {\"line\": {\"color\": \"#E5ECF6\", \"width\": 0.5}}, \"type\": \"bar\"}], \"barpolar\": [{\"marker\": {\"line\": {\"color\": \"#E5ECF6\", \"width\": 0.5}}, \"type\": \"barpolar\"}], \"carpet\": [{\"aaxis\": {\"endlinecolor\": \"#2a3f5f\", \"gridcolor\": \"white\", \"linecolor\": \"white\", \"minorgridcolor\": \"white\", \"startlinecolor\": \"#2a3f5f\"}, \"baxis\": {\"endlinecolor\": \"#2a3f5f\", \"gridcolor\": \"white\", \"linecolor\": \"white\", \"minorgridcolor\": \"white\", \"startlinecolor\": \"#2a3f5f\"}, \"type\": \"carpet\"}], \"choropleth\": [{\"colorbar\": {\"outlinewidth\": 0, \"ticks\": \"\"}, \"type\": \"choropleth\"}], \"contour\": [{\"colorbar\": {\"outlinewidth\": 0, \"ticks\": \"\"}, \"colorscale\": [[0.0, \"#0d0887\"], [0.1111111111111111, \"#46039f\"], [0.2222222222222222, \"#7201a8\"], [0.3333333333333333, \"#9c179e\"], [0.4444444444444444, \"#bd3786\"], [0.5555555555555556, \"#d8576b\"], [0.6666666666666666, \"#ed7953\"], [0.7777777777777778, \"#fb9f3a\"], [0.8888888888888888, \"#fdca26\"], [1.0, \"#f0f921\"]], \"type\": \"contour\"}], \"contourcarpet\": [{\"colorbar\": {\"outlinewidth\": 0, \"ticks\": \"\"}, \"type\": \"contourcarpet\"}], \"heatmap\": [{\"colorbar\": {\"outlinewidth\": 0, \"ticks\": \"\"}, \"colorscale\": [[0.0, \"#0d0887\"], [0.1111111111111111, \"#46039f\"], [0.2222222222222222, \"#7201a8\"], [0.3333333333333333, \"#9c179e\"], [0.4444444444444444, \"#bd3786\"], [0.5555555555555556, \"#d8576b\"], [0.6666666666666666, \"#ed7953\"], [0.7777777777777778, \"#fb9f3a\"], [0.8888888888888888, \"#fdca26\"], [1.0, \"#f0f921\"]], \"type\": \"heatmap\"}], \"heatmapgl\": [{\"colorbar\": {\"outlinewidth\": 0, \"ticks\": \"\"}, \"colorscale\": [[0.0, \"#0d0887\"], [0.1111111111111111, \"#46039f\"], [0.2222222222222222, \"#7201a8\"], [0.3333333333333333, \"#9c179e\"], [0.4444444444444444, \"#bd3786\"], [0.5555555555555556, \"#d8576b\"], [0.6666666666666666, \"#ed7953\"], [0.7777777777777778, \"#fb9f3a\"], [0.8888888888888888, \"#fdca26\"], [1.0, \"#f0f921\"]], \"type\": \"heatmapgl\"}], \"histogram\": [{\"marker\": {\"colorbar\": {\"outlinewidth\": 0, \"ticks\": \"\"}}, \"type\": \"histogram\"}], \"histogram2d\": [{\"colorbar\": {\"outlinewidth\": 0, \"ticks\": \"\"}, \"colorscale\": [[0.0, \"#0d0887\"], [0.1111111111111111, \"#46039f\"], [0.2222222222222222, \"#7201a8\"], [0.3333333333333333, \"#9c179e\"], [0.4444444444444444, \"#bd3786\"], [0.5555555555555556, \"#d8576b\"], [0.6666666666666666, \"#ed7953\"], [0.7777777777777778, \"#fb9f3a\"], [0.8888888888888888, \"#fdca26\"], [1.0, \"#f0f921\"]], \"type\": \"histogram2d\"}], \"histogram2dcontour\": [{\"colorbar\": {\"outlinewidth\": 0, \"ticks\": \"\"}, \"colorscale\": [[0.0, \"#0d0887\"], [0.1111111111111111, \"#46039f\"], [0.2222222222222222, \"#7201a8\"], [0.3333333333333333, \"#9c179e\"], [0.4444444444444444, \"#bd3786\"], [0.5555555555555556, \"#d8576b\"], [0.6666666666666666, \"#ed7953\"], [0.7777777777777778, \"#fb9f3a\"], [0.8888888888888888, \"#fdca26\"], [1.0, \"#f0f921\"]], \"type\": \"histogram2dcontour\"}], \"mesh3d\": [{\"colorbar\": {\"outlinewidth\": 0, \"ticks\": \"\"}, \"type\": \"mesh3d\"}], \"parcoords\": [{\"line\": {\"colorbar\": {\"outlinewidth\": 0, \"ticks\": \"\"}}, \"type\": \"parcoords\"}], \"pie\": [{\"automargin\": true, \"type\": \"pie\"}], \"scatter\": [{\"marker\": {\"colorbar\": {\"outlinewidth\": 0, \"ticks\": \"\"}}, \"type\": \"scatter\"}], \"scatter3d\": [{\"line\": {\"colorbar\": {\"outlinewidth\": 0, \"ticks\": \"\"}}, \"marker\": {\"colorbar\": {\"outlinewidth\": 0, \"ticks\": \"\"}}, \"type\": \"scatter3d\"}], \"scattercarpet\": [{\"marker\": {\"colorbar\": {\"outlinewidth\": 0, \"ticks\": \"\"}}, \"type\": \"scattercarpet\"}], \"scattergeo\": [{\"marker\": {\"colorbar\": {\"outlinewidth\": 0, \"ticks\": \"\"}}, \"type\": \"scattergeo\"}], \"scattergl\": [{\"marker\": {\"colorbar\": {\"outlinewidth\": 0, \"ticks\": \"\"}}, \"type\": \"scattergl\"}], \"scattermapbox\": [{\"marker\": {\"colorbar\": {\"outlinewidth\": 0, \"ticks\": \"\"}}, \"type\": \"scattermapbox\"}], \"scatterpolar\": [{\"marker\": {\"colorbar\": {\"outlinewidth\": 0, \"ticks\": \"\"}}, \"type\": \"scatterpolar\"}], \"scatterpolargl\": [{\"marker\": {\"colorbar\": {\"outlinewidth\": 0, \"ticks\": \"\"}}, \"type\": \"scatterpolargl\"}], \"scatterternary\": [{\"marker\": {\"colorbar\": {\"outlinewidth\": 0, \"ticks\": \"\"}}, \"type\": \"scatterternary\"}], \"surface\": [{\"colorbar\": {\"outlinewidth\": 0, \"ticks\": \"\"}, \"colorscale\": [[0.0, \"#0d0887\"], [0.1111111111111111, \"#46039f\"], [0.2222222222222222, \"#7201a8\"], [0.3333333333333333, \"#9c179e\"], [0.4444444444444444, \"#bd3786\"], [0.5555555555555556, \"#d8576b\"], [0.6666666666666666, \"#ed7953\"], [0.7777777777777778, \"#fb9f3a\"], [0.8888888888888888, \"#fdca26\"], [1.0, \"#f0f921\"]], \"type\": \"surface\"}], \"table\": [{\"cells\": {\"fill\": {\"color\": \"#EBF0F8\"}, \"line\": {\"color\": \"white\"}}, \"header\": {\"fill\": {\"color\": \"#C8D4E3\"}, \"line\": {\"color\": \"white\"}}, \"type\": \"table\"}]}, \"layout\": {\"annotationdefaults\": {\"arrowcolor\": \"#2a3f5f\", \"arrowhead\": 0, \"arrowwidth\": 1}, \"coloraxis\": {\"colorbar\": {\"outlinewidth\": 0, \"ticks\": \"\"}}, \"colorscale\": {\"diverging\": [[0, \"#8e0152\"], [0.1, \"#c51b7d\"], [0.2, \"#de77ae\"], [0.3, \"#f1b6da\"], [0.4, \"#fde0ef\"], [0.5, \"#f7f7f7\"], [0.6, \"#e6f5d0\"], [0.7, \"#b8e186\"], [0.8, \"#7fbc41\"], [0.9, \"#4d9221\"], [1, \"#276419\"]], \"sequential\": [[0.0, \"#0d0887\"], [0.1111111111111111, \"#46039f\"], [0.2222222222222222, \"#7201a8\"], [0.3333333333333333, \"#9c179e\"], [0.4444444444444444, \"#bd3786\"], [0.5555555555555556, \"#d8576b\"], [0.6666666666666666, \"#ed7953\"], [0.7777777777777778, \"#fb9f3a\"], [0.8888888888888888, \"#fdca26\"], [1.0, \"#f0f921\"]], \"sequentialminus\": [[0.0, \"#0d0887\"], [0.1111111111111111, \"#46039f\"], [0.2222222222222222, \"#7201a8\"], [0.3333333333333333, \"#9c179e\"], [0.4444444444444444, \"#bd3786\"], [0.5555555555555556, \"#d8576b\"], [0.6666666666666666, \"#ed7953\"], [0.7777777777777778, \"#fb9f3a\"], [0.8888888888888888, \"#fdca26\"], [1.0, \"#f0f921\"]]}, \"colorway\": [\"#636efa\", \"#EF553B\", \"#00cc96\", \"#ab63fa\", \"#FFA15A\", \"#19d3f3\", \"#FF6692\", \"#B6E880\", \"#FF97FF\", \"#FECB52\"], \"font\": {\"color\": \"#2a3f5f\"}, \"geo\": {\"bgcolor\": \"white\", \"lakecolor\": \"white\", \"landcolor\": \"#E5ECF6\", \"showlakes\": true, \"showland\": true, \"subunitcolor\": \"white\"}, \"hoverlabel\": {\"align\": \"left\"}, \"hovermode\": \"closest\", \"mapbox\": {\"style\": \"light\"}, \"paper_bgcolor\": \"white\", \"plot_bgcolor\": \"#E5ECF6\", \"polar\": {\"angularaxis\": {\"gridcolor\": \"white\", \"linecolor\": \"white\", \"ticks\": \"\"}, \"bgcolor\": \"#E5ECF6\", \"radialaxis\": {\"gridcolor\": \"white\", \"linecolor\": \"white\", \"ticks\": \"\"}}, \"scene\": {\"xaxis\": {\"backgroundcolor\": \"#E5ECF6\", \"gridcolor\": \"white\", \"gridwidth\": 2, \"linecolor\": \"white\", \"showbackground\": true, \"ticks\": \"\", \"zerolinecolor\": \"white\"}, \"yaxis\": {\"backgroundcolor\": \"#E5ECF6\", \"gridcolor\": \"white\", \"gridwidth\": 2, \"linecolor\": \"white\", \"showbackground\": true, \"ticks\": \"\", \"zerolinecolor\": \"white\"}, \"zaxis\": {\"backgroundcolor\": \"#E5ECF6\", \"gridcolor\": \"white\", \"gridwidth\": 2, \"linecolor\": \"white\", \"showbackground\": true, \"ticks\": \"\", \"zerolinecolor\": \"white\"}}, \"shapedefaults\": {\"line\": {\"color\": \"#2a3f5f\"}}, \"ternary\": {\"aaxis\": {\"gridcolor\": \"white\", \"linecolor\": \"white\", \"ticks\": \"\"}, \"baxis\": {\"gridcolor\": \"white\", \"linecolor\": \"white\", \"ticks\": \"\"}, \"bgcolor\": \"#E5ECF6\", \"caxis\": {\"gridcolor\": \"white\", \"linecolor\": \"white\", \"ticks\": \"\"}}, \"title\": {\"x\": 0.05}, \"xaxis\": {\"automargin\": true, \"gridcolor\": \"white\", \"linecolor\": \"white\", \"ticks\": \"\", \"title\": {\"standoff\": 15}, \"zerolinecolor\": \"white\", \"zerolinewidth\": 2}, \"yaxis\": {\"automargin\": true, \"gridcolor\": \"white\", \"linecolor\": \"white\", \"ticks\": \"\", \"title\": {\"standoff\": 15}, \"zerolinecolor\": \"white\", \"zerolinewidth\": 2}}}, \"xaxis\": {\"anchor\": \"y\", \"domain\": [0.0, 1.0], \"title\": {\"text\": \"brand\"}}, \"yaxis\": {\"anchor\": \"x\", \"domain\": [0.0, 1.0], \"title\": {\"text\": \"percent_inj\"}}},\n",
              "                        {\"responsive\": true}\n",
              "                    ).then(function(){\n",
              "                            \n",
              "var gd = document.getElementById('45546029-9906-4802-b958-1e7aa6fa254b');\n",
              "var x = new MutationObserver(function (mutations, observer) {{\n",
              "        var display = window.getComputedStyle(gd).display;\n",
              "        if (!display || display === 'none') {{\n",
              "            console.log([gd, 'removed!']);\n",
              "            Plotly.purge(gd);\n",
              "            observer.disconnect();\n",
              "        }}\n",
              "}});\n",
              "\n",
              "// Listen for the removal of the full notebook cells\n",
              "var notebookContainer = gd.closest('#notebook-container');\n",
              "if (notebookContainer) {{\n",
              "    x.observe(notebookContainer, {childList: true});\n",
              "}}\n",
              "\n",
              "// Listen for the clearing of the current output cell\n",
              "var outputEl = gd.closest('.output');\n",
              "if (outputEl) {{\n",
              "    x.observe(outputEl, {childList: true});\n",
              "}}\n",
              "\n",
              "                        })\n",
              "                };\n",
              "                \n",
              "            </script>\n",
              "        </div>\n",
              "</body>\n",
              "</html>"
            ]
          },
          "metadata": {}
        }
      ]
    },
    {
      "cell_type": "markdown",
      "metadata": {
        "id": "_0x_Pfqpxwtz"
      },
      "source": [
        "Выводы:\n",
        "* Хонда, прочие марки ТС, ВАЗ, ЛИАЗ выделяются пиком по травматичности в дтп на фоне остальных марок\n",
        "* На данных по ГАЗ резко обрывается плавный спад процента ранений в авариях."
      ]
    },
    {
      "cell_type": "markdown",
      "metadata": {
        "id": "GQVV1h96yLUd"
      },
      "source": [
        "# **7. Общие слова по тестовому заданию**"
      ]
    },
    {
      "cell_type": "markdown",
      "metadata": {
        "id": "LvX1pJECyPYc"
      },
      "source": [
        "В хо"
      ]
    }
  ]
}