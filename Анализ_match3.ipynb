{
  "nbformat": 4,
  "nbformat_minor": 0,
  "metadata": {
    "colab": {
      "name": "Анализ_match3.ipynb",
      "provenance": [],
      "collapsed_sections": [
        "fGnNQstVOaI_",
        "4QrywwjnO0Gm",
        "47lNDJJXvxw6",
        "Ea2qp7QzOxLp"
      ],
      "toc_visible": true,
      "authorship_tag": "ABX9TyOEQ1dfh8mRyD5pnkpZNIkw"
    },
    "kernelspec": {
      "display_name": "Python 3",
      "name": "python3"
    },
    "language_info": {
      "name": "python"
    }
  },
  "cells": [
    {
      "cell_type": "markdown",
      "metadata": {
        "id": "88dIZ5ldLuvo"
      },
      "source": [
        "**Анализ данных**\n",
        "\n",
        "В файлах events и levels по игре Bewitching Forest. Желательно установить и поиграть, доступна на Google Play. В таблицах данные по событиям за первые 24 часа жизни пользователя.\n",
        "\n",
        "levels: \n",
        "* uid - айди юзера\n",
        "* created_at - дата/время события\n",
        "* event_name - события, связанные с уровнем (начало, конец, выигрыш, проигрыш и тд)\n",
        "* level_move - кол-во ходов уровня\n",
        "* Number_of_used_moves - Количество использованных ходов\n",
        "* target - Количество целей в начале уровня\n",
        "* remaining_targets - Счетчик оставшихся целей\n",
        "* reg_dt\t- дата регистрации\n",
        "* churn - отвал после первых 24 часов 1(да), 0(нет)\n",
        "\n",
        "events:\n",
        "Тут события, которые могут быть внутри уровня. \n",
        "* Расход жизней на уровне -\tspent_replay\n",
        "* Расход бесконечных жизней на уровне - spent_unlimited_lives_replay\n",
        "* Покупка жизней - spent_life_purchase\n",
        "* Покупка ходов в гринде - spent_turns_purchase\n",
        "* Покупка пака хинтов - pent_hint_pack_purchase\n",
        "* Покупка пака бустеров - spent_booster_pack_purchase\n",
        "* Расход хинта на уровне - spent_level\n",
        "\n",
        "Задача: проанализировать отвалы по уровням и событиям внутри уровней. "
      ]
    },
    {
      "cell_type": "code",
      "metadata": {
        "colab": {
          "base_uri": "https://localhost:8080/"
        },
        "id": "HnKotBeVLOws",
        "outputId": "9abb29b3-356d-446d-831a-8fcf811d6255"
      },
      "source": [
        "!pip install plotly==5.2.1"
      ],
      "execution_count": null,
      "outputs": [
        {
          "name": "stdout",
          "output_type": "stream",
          "text": [
            "Collecting plotly==5.2.1\n",
            "  Downloading plotly-5.2.1-py2.py3-none-any.whl (21.8 MB)\n",
            "\u001b[K     |████████████████████████████████| 21.8 MB 1.3 MB/s \n",
            "\u001b[?25hCollecting tenacity>=6.2.0\n",
            "  Downloading tenacity-8.0.1-py3-none-any.whl (24 kB)\n",
            "Requirement already satisfied: six in /usr/local/lib/python3.7/dist-packages (from plotly==5.2.1) (1.15.0)\n",
            "Installing collected packages: tenacity, plotly\n",
            "  Attempting uninstall: plotly\n",
            "    Found existing installation: plotly 4.4.1\n",
            "    Uninstalling plotly-4.4.1:\n",
            "      Successfully uninstalled plotly-4.4.1\n",
            "Successfully installed plotly-5.2.1 tenacity-8.0.1\n"
          ]
        }
      ]
    },
    {
      "cell_type": "markdown",
      "metadata": {
        "id": "NUczcs2W7-cA"
      },
      "source": [
        "# **0. Предобработка и загрузка данных.**"
      ]
    },
    {
      "cell_type": "markdown",
      "metadata": {
        "id": "YZK9zVlGL2wq"
      },
      "source": [
        "Обновим версию plotly до последней, чтоб использовать все возможные особенности. Также импортируем основные библиотеки."
      ]
    },
    {
      "cell_type": "code",
      "metadata": {
        "id": "CTw8zncHs11w"
      },
      "source": [
        "import pandas as pd\n",
        "import numpy as np\n",
        "from datetime import datetime\n",
        "import plotly.express as px\n",
        "import plotly.graph_objects as go\n",
        "\n",
        "# чтобы не получать лишние предупреждения\n",
        "pd.options.mode.chained_assignment = None"
      ],
      "execution_count": null,
      "outputs": []
    },
    {
      "cell_type": "code",
      "metadata": {
        "colab": {
          "base_uri": "https://localhost:8080/"
        },
        "id": "0hAzzW55tAQY",
        "outputId": "581ab544-9893-4ce9-9422-8c30fbc1706c"
      },
      "source": [
        "from google.colab import drive\n",
        "drive.mount('/gdrive')\n",
        "%cd /gdrive"
      ],
      "execution_count": null,
      "outputs": [
        {
          "name": "stdout",
          "output_type": "stream",
          "text": [
            "Mounted at /gdrive\n",
            "/gdrive\n"
          ]
        }
      ]
    },
    {
      "cell_type": "code",
      "metadata": {
        "colab": {
          "base_uri": "https://localhost:8080/"
        },
        "id": "Mx9hYpdLtBBA",
        "outputId": "28abfb47-094a-4e3a-a247-503bc62424f2"
      },
      "source": [
        "df_events = pd.read_csv('/gdrive/MyDrive/Mail test/events.csv')\n",
        "df_levels = pd.read_csv('/gdrive/MyDrive/Mail test/levels.csv')"
      ],
      "execution_count": null,
      "outputs": [
        {
          "name": "stderr",
          "output_type": "stream",
          "text": [
            "/usr/local/lib/python3.7/dist-packages/IPython/core/interactiveshell.py:2718: DtypeWarning: Columns (3) have mixed types.Specify dtype option on import or set low_memory=False.\n",
            "  interactivity=interactivity, compiler=compiler, result=result)\n"
          ]
        }
      ]
    },
    {
      "cell_type": "markdown",
      "metadata": {
        "id": "Avh-UuwdMN9l"
      },
      "source": [
        "Посмотрим на файл levels."
      ]
    },
    {
      "cell_type": "code",
      "metadata": {
        "colab": {
          "base_uri": "https://localhost:8080/",
          "height": 98
        },
        "id": "-XWSPhjvb5Sm",
        "outputId": "0c1cc0fd-ffe6-4c28-b7a9-d88849a47496"
      },
      "source": [
        "df_levels.head(1)"
      ],
      "execution_count": null,
      "outputs": [
        {
          "data": {
            "text/html": [
              "<div>\n",
              "<style scoped>\n",
              "    .dataframe tbody tr th:only-of-type {\n",
              "        vertical-align: middle;\n",
              "    }\n",
              "\n",
              "    .dataframe tbody tr th {\n",
              "        vertical-align: top;\n",
              "    }\n",
              "\n",
              "    .dataframe thead th {\n",
              "        text-align: right;\n",
              "    }\n",
              "</style>\n",
              "<table border=\"1\" class=\"dataframe\">\n",
              "  <thead>\n",
              "    <tr style=\"text-align: right;\">\n",
              "      <th></th>\n",
              "      <th>uid</th>\n",
              "      <th>created_at</th>\n",
              "      <th>event_name</th>\n",
              "      <th>level_move</th>\n",
              "      <th>Number_of_used_moves</th>\n",
              "      <th>target</th>\n",
              "      <th>remaining_targets</th>\n",
              "      <th>reg_dt</th>\n",
              "      <th>churn</th>\n",
              "    </tr>\n",
              "  </thead>\n",
              "  <tbody>\n",
              "    <tr>\n",
              "      <th>0</th>\n",
              "      <td>5bc9921d-5a3c-41c7-9a43-65496e6ecebe</td>\n",
              "      <td>2021-03-15 18:56:12</td>\n",
              "      <td>battle_start</td>\n",
              "      <td>20</td>\n",
              "      <td>NaN</td>\n",
              "      <td>NaN</td>\n",
              "      <td>NaN</td>\n",
              "      <td>2021-03-13 00:05:17</td>\n",
              "      <td>1</td>\n",
              "    </tr>\n",
              "  </tbody>\n",
              "</table>\n",
              "</div>"
            ],
            "text/plain": [
              "                                    uid  ... churn\n",
              "0  5bc9921d-5a3c-41c7-9a43-65496e6ecebe  ...     1\n",
              "\n",
              "[1 rows x 9 columns]"
            ]
          },
          "execution_count": 5,
          "metadata": {},
          "output_type": "execute_result"
        }
      ]
    },
    {
      "cell_type": "code",
      "metadata": {
        "colab": {
          "base_uri": "https://localhost:8080/"
        },
        "id": "u0_9v0eKqJuw",
        "outputId": "20dfcfff-b1f8-4ba2-fa73-33b67996571d"
      },
      "source": [
        "df_levels.info()"
      ],
      "execution_count": null,
      "outputs": [
        {
          "name": "stdout",
          "output_type": "stream",
          "text": [
            "<class 'pandas.core.frame.DataFrame'>\n",
            "RangeIndex: 319297 entries, 0 to 319296\n",
            "Data columns (total 9 columns):\n",
            " #   Column                Non-Null Count   Dtype  \n",
            "---  ------                --------------   -----  \n",
            " 0   uid                   319297 non-null  object \n",
            " 1   created_at            319297 non-null  object \n",
            " 2   event_name            319297 non-null  object \n",
            " 3   level_move            319297 non-null  object \n",
            " 4   Number_of_used_moves  156433 non-null  float64\n",
            " 5   target                156433 non-null  object \n",
            " 6   remaining_targets     153768 non-null  float64\n",
            " 7   reg_dt                319297 non-null  object \n",
            " 8   churn                 319297 non-null  int64  \n",
            "dtypes: float64(2), int64(1), object(6)\n",
            "memory usage: 21.9+ MB\n"
          ]
        }
      ]
    },
    {
      "cell_type": "markdown",
      "metadata": {
        "id": "lkuw5dM5U4w8"
      },
      "source": [
        "Необходимо перевести временные колонки в формат datetime."
      ]
    },
    {
      "cell_type": "code",
      "metadata": {
        "id": "0Z3LDlgsU4ZW"
      },
      "source": [
        "df_levels['created_at'] = pd.to_datetime(df_levels['created_at'])\n",
        "df_levels['reg_dt'] = pd.to_datetime(df_levels['reg_dt'])"
      ],
      "execution_count": null,
      "outputs": []
    },
    {
      "cell_type": "markdown",
      "metadata": {
        "id": "McDthCDGMTCH"
      },
      "source": [
        "Точно также выведем основную информацию по файлу events."
      ]
    },
    {
      "cell_type": "code",
      "metadata": {
        "colab": {
          "base_uri": "https://localhost:8080/"
        },
        "id": "J-Wm_ArUEUzf",
        "outputId": "f63a975c-9812-4067-f757-ccebeff6924b"
      },
      "source": [
        "df_events.info()"
      ],
      "execution_count": null,
      "outputs": [
        {
          "name": "stdout",
          "output_type": "stream",
          "text": [
            "<class 'pandas.core.frame.DataFrame'>\n",
            "RangeIndex: 50494 entries, 0 to 50493\n",
            "Data columns (total 5 columns):\n",
            " #   Column      Non-Null Count  Dtype \n",
            "---  ------      --------------  ----- \n",
            " 0   uid         50494 non-null  object\n",
            " 1   event_name  50494 non-null  object\n",
            " 2   created_at  50494 non-null  object\n",
            " 3   reg_dt      50494 non-null  object\n",
            " 4   churn       50494 non-null  int64 \n",
            "dtypes: int64(1), object(4)\n",
            "memory usage: 1.9+ MB\n"
          ]
        }
      ]
    },
    {
      "cell_type": "code",
      "metadata": {
        "colab": {
          "base_uri": "https://localhost:8080/",
          "height": 112
        },
        "id": "ybAWuLrNEaqL",
        "outputId": "897d065d-889d-47f2-af4e-9a65447e7754"
      },
      "source": [
        "df_events.head(2)"
      ],
      "execution_count": null,
      "outputs": [
        {
          "data": {
            "text/html": [
              "<div>\n",
              "<style scoped>\n",
              "    .dataframe tbody tr th:only-of-type {\n",
              "        vertical-align: middle;\n",
              "    }\n",
              "\n",
              "    .dataframe tbody tr th {\n",
              "        vertical-align: top;\n",
              "    }\n",
              "\n",
              "    .dataframe thead th {\n",
              "        text-align: right;\n",
              "    }\n",
              "</style>\n",
              "<table border=\"1\" class=\"dataframe\">\n",
              "  <thead>\n",
              "    <tr style=\"text-align: right;\">\n",
              "      <th></th>\n",
              "      <th>uid</th>\n",
              "      <th>event_name</th>\n",
              "      <th>created_at</th>\n",
              "      <th>reg_dt</th>\n",
              "      <th>churn</th>\n",
              "    </tr>\n",
              "  </thead>\n",
              "  <tbody>\n",
              "    <tr>\n",
              "      <th>0</th>\n",
              "      <td>ad1be1b6-e696-42d6-ac03-99be5803a14b</td>\n",
              "      <td>spent_replay</td>\n",
              "      <td>2021-03-13 03:38:24</td>\n",
              "      <td>2021-03-13 03:36:08</td>\n",
              "      <td>1</td>\n",
              "    </tr>\n",
              "    <tr>\n",
              "      <th>1</th>\n",
              "      <td>77ad3869-852d-4520-a1c4-5fc7c3fe7c98</td>\n",
              "      <td>spent_replay</td>\n",
              "      <td>2021-03-13 08:43:37</td>\n",
              "      <td>2021-03-13 08:41:28</td>\n",
              "      <td>0</td>\n",
              "    </tr>\n",
              "  </tbody>\n",
              "</table>\n",
              "</div>"
            ],
            "text/plain": [
              "                                    uid  ... churn\n",
              "0  ad1be1b6-e696-42d6-ac03-99be5803a14b  ...     1\n",
              "1  77ad3869-852d-4520-a1c4-5fc7c3fe7c98  ...     0\n",
              "\n",
              "[2 rows x 5 columns]"
            ]
          },
          "execution_count": 9,
          "metadata": {},
          "output_type": "execute_result"
        }
      ]
    },
    {
      "cell_type": "markdown",
      "metadata": {
        "id": "A72DHDgkVBrJ"
      },
      "source": [
        "# **1. Добавление стартовых разделов.**"
      ]
    },
    {
      "cell_type": "markdown",
      "metadata": {
        "id": "HFFUxOB5VPkG"
      },
      "source": [
        "Добавим столбец указывающий время прохождения уровня, как победной сессии, так и обычной. Для этого отфильтруем данные по времени событий и добавим прошедшее время между двумя строками с battle_start для каждого юзера. Второй battle_start не включен в рассмотрение."
      ]
    },
    {
      "cell_type": "code",
      "metadata": {
        "id": "4ln1RDDoJ0_6"
      },
      "source": [
        "df_levels = df_levels.sort_values(by='created_at', ascending=True).reset_index()"
      ],
      "execution_count": null,
      "outputs": []
    },
    {
      "cell_type": "code",
      "metadata": {
        "id": "sA-y5UiNqCUx"
      },
      "source": [
        "index_start = [row\n",
        "               for row in range(len(df_levels))\n",
        "               if df_levels.loc[row, 'event_name'] == 'battle_start']\n"
      ],
      "execution_count": null,
      "outputs": []
    },
    {
      "cell_type": "code",
      "metadata": {
        "id": "LVhIIIQjMcjj"
      },
      "source": [
        "user_list = list(df_levels.uid.unique())"
      ],
      "execution_count": null,
      "outputs": []
    },
    {
      "cell_type": "code",
      "metadata": {
        "id": "GGSTV2Ooes4H"
      },
      "source": [
        "for user in user_list:\n",
        "  df_temp = df_levels[df_levels['uid'] == user]\n",
        "  index_start = [row\n",
        "                  for row in list(df_temp.index)\n",
        "                  if df_temp.loc[row, 'event_name'] == 'battle_start']\n",
        "  index_temp = list(df_temp.index)\n",
        "  for i in range(len(index_start)):\n",
        "    if i == len(index_start)-1:\n",
        "      df_levels.loc[index_start[i], 'delta_time'] = df_temp.loc[index_temp[-1],'created_at'] - \\\n",
        "                             df_temp.loc[index_start[i],'created_at']\n",
        "    else:\n",
        "      index_temp_1 = index_temp.index(index_start[i + 1])\n",
        "      df_levels.loc[index_start[i], 'delta_time'] = df_temp.loc[index_temp[index_temp_1 - 1],'created_at'] - \\\n",
        "                             df_temp.loc[index_start[i],'created_at']    "
      ],
      "execution_count": null,
      "outputs": []
    },
    {
      "cell_type": "markdown",
      "metadata": {
        "id": "gGZLbTFvV34J"
      },
      "source": [
        "Помимо этого добавим для каждой строки battle_win значение уровня, который был пройден."
      ]
    },
    {
      "cell_type": "code",
      "metadata": {
        "id": "9glM2Qy2jW4K"
      },
      "source": [
        "df_levels_new = pd.DataFrame(columns=['index', 'uid', 'created_at', 'event_name',\n",
        " 'level_move', 'Number_of_used_moves', 'target', 'remaining_targets',\n",
        " 'reg_dt', 'churn', 'level'])"
      ],
      "execution_count": null,
      "outputs": []
    },
    {
      "cell_type": "code",
      "metadata": {
        "id": "kJSwPPh03qM7"
      },
      "source": [
        "for user in user_list:\n",
        "  count = 1\n",
        "  df_temp = df_levels[df_levels['uid'] == user].sort_values(by='created_at')\n",
        "  df_temp['level'] = np.nan\n",
        "  for row in list(df_temp.index):\n",
        "    if df_temp.loc[row, 'event_name'] == 'battle_win':\n",
        "      df_temp.loc[row, 'level'] = count\n",
        "      count += 1\n",
        "  df_temp['level'].fillna(method='bfill', inplace=True)\n",
        "  df_levels_new = pd.concat([df_levels_new,df_temp])"
      ],
      "execution_count": null,
      "outputs": []
    },
    {
      "cell_type": "code",
      "metadata": {
        "colab": {
          "base_uri": "https://localhost:8080/",
          "height": 704
        },
        "id": "N92VMGa8bjFN",
        "outputId": "5c91a05c-2e10-44aa-8339-57c36e4731be"
      },
      "source": [
        "df_levels_new = df_levels_new.sort_values(by='created_at')\n",
        "df_levels_new['level'].fillna(0, inplace=True) \n",
        "df_levels_new"
      ],
      "execution_count": null,
      "outputs": [
        {
          "output_type": "execute_result",
          "data": {
            "text/html": [
              "<div>\n",
              "<style scoped>\n",
              "    .dataframe tbody tr th:only-of-type {\n",
              "        vertical-align: middle;\n",
              "    }\n",
              "\n",
              "    .dataframe tbody tr th {\n",
              "        vertical-align: top;\n",
              "    }\n",
              "\n",
              "    .dataframe thead th {\n",
              "        text-align: right;\n",
              "    }\n",
              "</style>\n",
              "<table border=\"1\" class=\"dataframe\">\n",
              "  <thead>\n",
              "    <tr style=\"text-align: right;\">\n",
              "      <th></th>\n",
              "      <th>index</th>\n",
              "      <th>uid</th>\n",
              "      <th>created_at</th>\n",
              "      <th>event_name</th>\n",
              "      <th>level_move</th>\n",
              "      <th>Number_of_used_moves</th>\n",
              "      <th>target</th>\n",
              "      <th>remaining_targets</th>\n",
              "      <th>reg_dt</th>\n",
              "      <th>churn</th>\n",
              "      <th>level</th>\n",
              "      <th>delta_time</th>\n",
              "    </tr>\n",
              "  </thead>\n",
              "  <tbody>\n",
              "    <tr>\n",
              "      <th>0</th>\n",
              "      <td>24</td>\n",
              "      <td>ad1be1b6-e696-42d6-ac03-99be5803a14b</td>\n",
              "      <td>2021-03-13 03:38:18</td>\n",
              "      <td>battle_start</td>\n",
              "      <td>20</td>\n",
              "      <td>NaN</td>\n",
              "      <td>NaN</td>\n",
              "      <td>NaN</td>\n",
              "      <td>2021-03-13 03:36:08</td>\n",
              "      <td>0</td>\n",
              "      <td>1.0</td>\n",
              "      <td>0 days 00:01:52</td>\n",
              "    </tr>\n",
              "    <tr>\n",
              "      <th>1</th>\n",
              "      <td>25</td>\n",
              "      <td>ad1be1b6-e696-42d6-ac03-99be5803a14b</td>\n",
              "      <td>2021-03-13 03:40:10</td>\n",
              "      <td>battle_win</td>\n",
              "      <td>20</td>\n",
              "      <td>8.0</td>\n",
              "      <td>73</td>\n",
              "      <td>112.0</td>\n",
              "      <td>2021-03-13 03:36:08</td>\n",
              "      <td>0</td>\n",
              "      <td>1.0</td>\n",
              "      <td>NaT</td>\n",
              "    </tr>\n",
              "    <tr>\n",
              "      <th>2</th>\n",
              "      <td>26</td>\n",
              "      <td>77ad3869-852d-4520-a1c4-5fc7c3fe7c98</td>\n",
              "      <td>2021-03-13 08:43:15</td>\n",
              "      <td>battle_start</td>\n",
              "      <td>20</td>\n",
              "      <td>NaN</td>\n",
              "      <td>NaN</td>\n",
              "      <td>NaN</td>\n",
              "      <td>2021-03-13 08:41:28</td>\n",
              "      <td>1</td>\n",
              "      <td>1.0</td>\n",
              "      <td>0 days 00:02:22</td>\n",
              "    </tr>\n",
              "    <tr>\n",
              "      <th>3</th>\n",
              "      <td>27</td>\n",
              "      <td>77ad3869-852d-4520-a1c4-5fc7c3fe7c98</td>\n",
              "      <td>2021-03-13 08:45:37</td>\n",
              "      <td>battle_win</td>\n",
              "      <td>20</td>\n",
              "      <td>6.0</td>\n",
              "      <td>73</td>\n",
              "      <td>142.0</td>\n",
              "      <td>2021-03-13 08:41:28</td>\n",
              "      <td>1</td>\n",
              "      <td>1.0</td>\n",
              "      <td>NaT</td>\n",
              "    </tr>\n",
              "    <tr>\n",
              "      <th>4</th>\n",
              "      <td>28</td>\n",
              "      <td>77ad3869-852d-4520-a1c4-5fc7c3fe7c98</td>\n",
              "      <td>2021-03-13 08:46:39</td>\n",
              "      <td>battle_start</td>\n",
              "      <td>20</td>\n",
              "      <td>NaN</td>\n",
              "      <td>NaN</td>\n",
              "      <td>NaN</td>\n",
              "      <td>2021-03-13 08:41:28</td>\n",
              "      <td>1</td>\n",
              "      <td>2.0</td>\n",
              "      <td>0 days 00:00:54</td>\n",
              "    </tr>\n",
              "    <tr>\n",
              "      <th>...</th>\n",
              "      <td>...</td>\n",
              "      <td>...</td>\n",
              "      <td>...</td>\n",
              "      <td>...</td>\n",
              "      <td>...</td>\n",
              "      <td>...</td>\n",
              "      <td>...</td>\n",
              "      <td>...</td>\n",
              "      <td>...</td>\n",
              "      <td>...</td>\n",
              "      <td>...</td>\n",
              "      <td>...</td>\n",
              "    </tr>\n",
              "    <tr>\n",
              "      <th>319292</th>\n",
              "      <td>228793</td>\n",
              "      <td>04cb05e7-67e6-4a6e-a40f-657432f157ba</td>\n",
              "      <td>2021-04-07 14:09:50</td>\n",
              "      <td>battle_start</td>\n",
              "      <td>29</td>\n",
              "      <td>NaN</td>\n",
              "      <td>NaN</td>\n",
              "      <td>NaN</td>\n",
              "      <td>2021-03-16 14:04:39</td>\n",
              "      <td>1</td>\n",
              "      <td>0.0</td>\n",
              "      <td>0 days 00:02:25</td>\n",
              "    </tr>\n",
              "    <tr>\n",
              "      <th>319293</th>\n",
              "      <td>228794</td>\n",
              "      <td>04cb05e7-67e6-4a6e-a40f-657432f157ba</td>\n",
              "      <td>2021-04-07 14:12:15</td>\n",
              "      <td>battle_loss</td>\n",
              "      <td>29</td>\n",
              "      <td>29.0</td>\n",
              "      <td>114</td>\n",
              "      <td>35.0</td>\n",
              "      <td>2021-03-16 14:04:39</td>\n",
              "      <td>1</td>\n",
              "      <td>0.0</td>\n",
              "      <td>NaT</td>\n",
              "    </tr>\n",
              "    <tr>\n",
              "      <th>319294</th>\n",
              "      <td>228795</td>\n",
              "      <td>04cb05e7-67e6-4a6e-a40f-657432f157ba</td>\n",
              "      <td>2021-04-07 14:12:19</td>\n",
              "      <td>battle_start</td>\n",
              "      <td>29</td>\n",
              "      <td>NaN</td>\n",
              "      <td>NaN</td>\n",
              "      <td>NaN</td>\n",
              "      <td>2021-03-16 14:04:39</td>\n",
              "      <td>1</td>\n",
              "      <td>0.0</td>\n",
              "      <td>0 days 00:00:00</td>\n",
              "    </tr>\n",
              "    <tr>\n",
              "      <th>319295</th>\n",
              "      <td>262394</td>\n",
              "      <td>1f822608-4036-47f4-b36d-7ac648c89103</td>\n",
              "      <td>2021-04-07 14:23:07</td>\n",
              "      <td>battle_start</td>\n",
              "      <td>23</td>\n",
              "      <td>NaN</td>\n",
              "      <td>NaN</td>\n",
              "      <td>NaN</td>\n",
              "      <td>2021-03-16 21:01:04</td>\n",
              "      <td>1</td>\n",
              "      <td>0.0</td>\n",
              "      <td>0 days 00:02:14</td>\n",
              "    </tr>\n",
              "    <tr>\n",
              "      <th>319296</th>\n",
              "      <td>262395</td>\n",
              "      <td>1f822608-4036-47f4-b36d-7ac648c89103</td>\n",
              "      <td>2021-04-07 14:25:21</td>\n",
              "      <td>battle_loss</td>\n",
              "      <td>23</td>\n",
              "      <td>23.0</td>\n",
              "      <td>102</td>\n",
              "      <td>40.0</td>\n",
              "      <td>2021-03-16 21:01:04</td>\n",
              "      <td>1</td>\n",
              "      <td>0.0</td>\n",
              "      <td>NaT</td>\n",
              "    </tr>\n",
              "  </tbody>\n",
              "</table>\n",
              "<p>319297 rows × 12 columns</p>\n",
              "</div>"
            ],
            "text/plain": [
              "         index                                   uid  ... level      delta_time\n",
              "0           24  ad1be1b6-e696-42d6-ac03-99be5803a14b  ...   1.0 0 days 00:01:52\n",
              "1           25  ad1be1b6-e696-42d6-ac03-99be5803a14b  ...   1.0             NaT\n",
              "2           26  77ad3869-852d-4520-a1c4-5fc7c3fe7c98  ...   1.0 0 days 00:02:22\n",
              "3           27  77ad3869-852d-4520-a1c4-5fc7c3fe7c98  ...   1.0             NaT\n",
              "4           28  77ad3869-852d-4520-a1c4-5fc7c3fe7c98  ...   2.0 0 days 00:00:54\n",
              "...        ...                                   ...  ...   ...             ...\n",
              "319292  228793  04cb05e7-67e6-4a6e-a40f-657432f157ba  ...   0.0 0 days 00:02:25\n",
              "319293  228794  04cb05e7-67e6-4a6e-a40f-657432f157ba  ...   0.0             NaT\n",
              "319294  228795  04cb05e7-67e6-4a6e-a40f-657432f157ba  ...   0.0 0 days 00:00:00\n",
              "319295  262394  1f822608-4036-47f4-b36d-7ac648c89103  ...   0.0 0 days 00:02:14\n",
              "319296  262395  1f822608-4036-47f4-b36d-7ac648c89103  ...   0.0             NaT\n",
              "\n",
              "[319297 rows x 12 columns]"
            ]
          },
          "metadata": {},
          "execution_count": 58
        }
      ]
    },
    {
      "cell_type": "markdown",
      "metadata": {
        "id": "fGnNQstVOaI_"
      },
      "source": [
        "# **1.1 Выделение событий произошедших за первые 24 часа после регистрации.**"
      ]
    },
    {
      "cell_type": "markdown",
      "metadata": {
        "id": "LRpTQTr09AmU"
      },
      "source": [
        "Посчитаем разницу между датой регистрации и каждым событием для пользователей, и добавим метрику указывающую было ли это до 24 часов или после."
      ]
    },
    {
      "cell_type": "code",
      "metadata": {
        "id": "eYlRpTmXqRIh"
      },
      "source": [
        "\n",
        "df_levels['timedelta'] = df_levels['created_at'] - df_levels['reg_dt']\n",
        "df_levels['24_hour'] = [1\n",
        "                        if df_levels.loc[row,'timedelta'].days < 1\n",
        "                        else 2\n",
        "                        for row in range(len(df_levels))]"
      ],
      "execution_count": null,
      "outputs": []
    },
    {
      "cell_type": "markdown",
      "metadata": {
        "id": "aheBrU3T-CyS"
      },
      "source": [
        "Таким образом обрежем значения по столбцу df_levels['24_hour'] = 1.\n",
        "Полученный дата сет df_24."
      ]
    },
    {
      "cell_type": "code",
      "metadata": {
        "id": "DQOozT7Lqw64"
      },
      "source": [
        "df_24 = df_levels[df_levels['24_hour'] == 1]"
      ],
      "execution_count": null,
      "outputs": []
    },
    {
      "cell_type": "markdown",
      "metadata": {
        "id": "999toVb_9UBZ"
      },
      "source": [
        "Посмотрим на оставшийся кусок данных с первого дня по 3 день."
      ]
    },
    {
      "cell_type": "code",
      "metadata": {
        "id": "Co9O6bxvO1WO",
        "colab": {
          "base_uri": "https://localhost:8080/",
          "height": 617
        },
        "outputId": "a9fc374e-2a8e-40be-e9c8-1c04be641109"
      },
      "source": [
        "df_3 = df_levels[df_levels['24_hour'] == 2]\n",
        "df_3"
      ],
      "execution_count": null,
      "outputs": [
        {
          "output_type": "execute_result",
          "data": {
            "text/html": [
              "<div>\n",
              "<style scoped>\n",
              "    .dataframe tbody tr th:only-of-type {\n",
              "        vertical-align: middle;\n",
              "    }\n",
              "\n",
              "    .dataframe tbody tr th {\n",
              "        vertical-align: top;\n",
              "    }\n",
              "\n",
              "    .dataframe thead th {\n",
              "        text-align: right;\n",
              "    }\n",
              "</style>\n",
              "<table border=\"1\" class=\"dataframe\">\n",
              "  <thead>\n",
              "    <tr style=\"text-align: right;\">\n",
              "      <th></th>\n",
              "      <th>index</th>\n",
              "      <th>uid</th>\n",
              "      <th>created_at</th>\n",
              "      <th>event_name</th>\n",
              "      <th>level_move</th>\n",
              "      <th>Number_of_used_moves</th>\n",
              "      <th>target</th>\n",
              "      <th>remaining_targets</th>\n",
              "      <th>reg_dt</th>\n",
              "      <th>churn</th>\n",
              "      <th>delta_time</th>\n",
              "      <th>timedelta</th>\n",
              "      <th>24_hour</th>\n",
              "    </tr>\n",
              "  </thead>\n",
              "  <tbody>\n",
              "    <tr>\n",
              "      <th>22336</th>\n",
              "      <td>1475</td>\n",
              "      <td>f6b63ace-9dc0-4244-ac97-2ee5df268408</td>\n",
              "      <td>2021-03-14 13:58:52</td>\n",
              "      <td>battle_start</td>\n",
              "      <td>25</td>\n",
              "      <td>NaN</td>\n",
              "      <td>NaN</td>\n",
              "      <td>NaN</td>\n",
              "      <td>2021-03-13 12:19:22</td>\n",
              "      <td>1</td>\n",
              "      <td>0 days 00:01:30</td>\n",
              "      <td>1 days 01:39:30</td>\n",
              "      <td>2</td>\n",
              "    </tr>\n",
              "    <tr>\n",
              "      <th>22381</th>\n",
              "      <td>1476</td>\n",
              "      <td>f6b63ace-9dc0-4244-ac97-2ee5df268408</td>\n",
              "      <td>2021-03-14 14:00:22</td>\n",
              "      <td>battle_loss</td>\n",
              "      <td>25</td>\n",
              "      <td>25.0</td>\n",
              "      <td>87</td>\n",
              "      <td>1.0</td>\n",
              "      <td>2021-03-13 12:19:22</td>\n",
              "      <td>1</td>\n",
              "      <td>NaT</td>\n",
              "      <td>1 days 01:41:00</td>\n",
              "      <td>2</td>\n",
              "    </tr>\n",
              "    <tr>\n",
              "      <th>22384</th>\n",
              "      <td>1477</td>\n",
              "      <td>f6b63ace-9dc0-4244-ac97-2ee5df268408</td>\n",
              "      <td>2021-03-14 14:00:26</td>\n",
              "      <td>battle_start</td>\n",
              "      <td>25</td>\n",
              "      <td>NaN</td>\n",
              "      <td>NaN</td>\n",
              "      <td>NaN</td>\n",
              "      <td>2021-03-13 12:19:22</td>\n",
              "      <td>1</td>\n",
              "      <td>0 days 00:01:17</td>\n",
              "      <td>1 days 01:41:04</td>\n",
              "      <td>2</td>\n",
              "    </tr>\n",
              "    <tr>\n",
              "      <th>22420</th>\n",
              "      <td>1478</td>\n",
              "      <td>f6b63ace-9dc0-4244-ac97-2ee5df268408</td>\n",
              "      <td>2021-03-14 14:01:43</td>\n",
              "      <td>battle_loss</td>\n",
              "      <td>25</td>\n",
              "      <td>25.0</td>\n",
              "      <td>87</td>\n",
              "      <td>1.0</td>\n",
              "      <td>2021-03-13 12:19:22</td>\n",
              "      <td>1</td>\n",
              "      <td>NaT</td>\n",
              "      <td>1 days 01:42:21</td>\n",
              "      <td>2</td>\n",
              "    </tr>\n",
              "    <tr>\n",
              "      <th>22423</th>\n",
              "      <td>1479</td>\n",
              "      <td>f6b63ace-9dc0-4244-ac97-2ee5df268408</td>\n",
              "      <td>2021-03-14 14:01:47</td>\n",
              "      <td>battle_start</td>\n",
              "      <td>25</td>\n",
              "      <td>NaN</td>\n",
              "      <td>NaN</td>\n",
              "      <td>NaN</td>\n",
              "      <td>2021-03-13 12:19:22</td>\n",
              "      <td>1</td>\n",
              "      <td>0 days 00:01:09</td>\n",
              "      <td>1 days 01:42:25</td>\n",
              "      <td>2</td>\n",
              "    </tr>\n",
              "    <tr>\n",
              "      <th>...</th>\n",
              "      <td>...</td>\n",
              "      <td>...</td>\n",
              "      <td>...</td>\n",
              "      <td>...</td>\n",
              "      <td>...</td>\n",
              "      <td>...</td>\n",
              "      <td>...</td>\n",
              "      <td>...</td>\n",
              "      <td>...</td>\n",
              "      <td>...</td>\n",
              "      <td>...</td>\n",
              "      <td>...</td>\n",
              "      <td>...</td>\n",
              "    </tr>\n",
              "    <tr>\n",
              "      <th>319292</th>\n",
              "      <td>228793</td>\n",
              "      <td>04cb05e7-67e6-4a6e-a40f-657432f157ba</td>\n",
              "      <td>2021-04-07 14:09:50</td>\n",
              "      <td>battle_start</td>\n",
              "      <td>29</td>\n",
              "      <td>NaN</td>\n",
              "      <td>NaN</td>\n",
              "      <td>NaN</td>\n",
              "      <td>2021-03-16 14:04:39</td>\n",
              "      <td>1</td>\n",
              "      <td>0 days 00:02:25</td>\n",
              "      <td>22 days 00:05:11</td>\n",
              "      <td>2</td>\n",
              "    </tr>\n",
              "    <tr>\n",
              "      <th>319293</th>\n",
              "      <td>228794</td>\n",
              "      <td>04cb05e7-67e6-4a6e-a40f-657432f157ba</td>\n",
              "      <td>2021-04-07 14:12:15</td>\n",
              "      <td>battle_loss</td>\n",
              "      <td>29</td>\n",
              "      <td>29.0</td>\n",
              "      <td>114</td>\n",
              "      <td>35.0</td>\n",
              "      <td>2021-03-16 14:04:39</td>\n",
              "      <td>1</td>\n",
              "      <td>NaT</td>\n",
              "      <td>22 days 00:07:36</td>\n",
              "      <td>2</td>\n",
              "    </tr>\n",
              "    <tr>\n",
              "      <th>319294</th>\n",
              "      <td>228795</td>\n",
              "      <td>04cb05e7-67e6-4a6e-a40f-657432f157ba</td>\n",
              "      <td>2021-04-07 14:12:19</td>\n",
              "      <td>battle_start</td>\n",
              "      <td>29</td>\n",
              "      <td>NaN</td>\n",
              "      <td>NaN</td>\n",
              "      <td>NaN</td>\n",
              "      <td>2021-03-16 14:04:39</td>\n",
              "      <td>1</td>\n",
              "      <td>0 days 00:00:00</td>\n",
              "      <td>22 days 00:07:40</td>\n",
              "      <td>2</td>\n",
              "    </tr>\n",
              "    <tr>\n",
              "      <th>319295</th>\n",
              "      <td>262394</td>\n",
              "      <td>1f822608-4036-47f4-b36d-7ac648c89103</td>\n",
              "      <td>2021-04-07 14:23:07</td>\n",
              "      <td>battle_start</td>\n",
              "      <td>23</td>\n",
              "      <td>NaN</td>\n",
              "      <td>NaN</td>\n",
              "      <td>NaN</td>\n",
              "      <td>2021-03-16 21:01:04</td>\n",
              "      <td>1</td>\n",
              "      <td>0 days 00:02:14</td>\n",
              "      <td>21 days 17:22:03</td>\n",
              "      <td>2</td>\n",
              "    </tr>\n",
              "    <tr>\n",
              "      <th>319296</th>\n",
              "      <td>262395</td>\n",
              "      <td>1f822608-4036-47f4-b36d-7ac648c89103</td>\n",
              "      <td>2021-04-07 14:25:21</td>\n",
              "      <td>battle_loss</td>\n",
              "      <td>23</td>\n",
              "      <td>23.0</td>\n",
              "      <td>102</td>\n",
              "      <td>40.0</td>\n",
              "      <td>2021-03-16 21:01:04</td>\n",
              "      <td>1</td>\n",
              "      <td>NaT</td>\n",
              "      <td>21 days 17:24:17</td>\n",
              "      <td>2</td>\n",
              "    </tr>\n",
              "  </tbody>\n",
              "</table>\n",
              "<p>190339 rows × 13 columns</p>\n",
              "</div>"
            ],
            "text/plain": [
              "         index                                   uid  ...        timedelta 24_hour\n",
              "22336     1475  f6b63ace-9dc0-4244-ac97-2ee5df268408  ...  1 days 01:39:30       2\n",
              "22381     1476  f6b63ace-9dc0-4244-ac97-2ee5df268408  ...  1 days 01:41:00       2\n",
              "22384     1477  f6b63ace-9dc0-4244-ac97-2ee5df268408  ...  1 days 01:41:04       2\n",
              "22420     1478  f6b63ace-9dc0-4244-ac97-2ee5df268408  ...  1 days 01:42:21       2\n",
              "22423     1479  f6b63ace-9dc0-4244-ac97-2ee5df268408  ...  1 days 01:42:25       2\n",
              "...        ...                                   ...  ...              ...     ...\n",
              "319292  228793  04cb05e7-67e6-4a6e-a40f-657432f157ba  ... 22 days 00:05:11       2\n",
              "319293  228794  04cb05e7-67e6-4a6e-a40f-657432f157ba  ... 22 days 00:07:36       2\n",
              "319294  228795  04cb05e7-67e6-4a6e-a40f-657432f157ba  ... 22 days 00:07:40       2\n",
              "319295  262394  1f822608-4036-47f4-b36d-7ac648c89103  ... 21 days 17:22:03       2\n",
              "319296  262395  1f822608-4036-47f4-b36d-7ac648c89103  ... 21 days 17:24:17       2\n",
              "\n",
              "[190339 rows x 13 columns]"
            ]
          },
          "metadata": {},
          "execution_count": 61
        }
      ]
    },
    {
      "cell_type": "markdown",
      "metadata": {
        "id": "ZCQ6d5yoaxg4"
      },
      "source": [
        "* Всего количество пользователей 2812, из них первые 24 часа было активно 2789, после 24 активно 1413.\n",
        "* Общее число пользователей закончивших хотя бы один уровень 2723, из них первые 24 часа - 2689, после 24 - 1335."
      ]
    },
    {
      "cell_type": "code",
      "metadata": {
        "id": "ELl-52rW8pSR",
        "colab": {
          "base_uri": "https://localhost:8080/",
          "height": 143
        },
        "outputId": "59bb7a2f-8b58-4736-c64e-ed621a6a128f"
      },
      "source": [
        "dataset_all=pd.DataFrame(columns=['title','count'])\n",
        "dataset_all.loc['all users','count'] = len(df_levels.uid.unique())\n",
        "dataset_all.loc['24 hour','count'] = len(df_24.uid.unique())\n",
        "dataset_all.loc['more than 24 h','count'] = len(df_3.uid.unique())\n",
        "dataset_all"
      ],
      "execution_count": null,
      "outputs": [
        {
          "output_type": "execute_result",
          "data": {
            "text/html": [
              "<div>\n",
              "<style scoped>\n",
              "    .dataframe tbody tr th:only-of-type {\n",
              "        vertical-align: middle;\n",
              "    }\n",
              "\n",
              "    .dataframe tbody tr th {\n",
              "        vertical-align: top;\n",
              "    }\n",
              "\n",
              "    .dataframe thead th {\n",
              "        text-align: right;\n",
              "    }\n",
              "</style>\n",
              "<table border=\"1\" class=\"dataframe\">\n",
              "  <thead>\n",
              "    <tr style=\"text-align: right;\">\n",
              "      <th></th>\n",
              "      <th>title</th>\n",
              "      <th>count</th>\n",
              "    </tr>\n",
              "  </thead>\n",
              "  <tbody>\n",
              "    <tr>\n",
              "      <th>all users</th>\n",
              "      <td>NaN</td>\n",
              "      <td>2812</td>\n",
              "    </tr>\n",
              "    <tr>\n",
              "      <th>24 hour</th>\n",
              "      <td>NaN</td>\n",
              "      <td>2789</td>\n",
              "    </tr>\n",
              "    <tr>\n",
              "      <th>more than 24 h</th>\n",
              "      <td>NaN</td>\n",
              "      <td>1413</td>\n",
              "    </tr>\n",
              "  </tbody>\n",
              "</table>\n",
              "</div>"
            ],
            "text/plain": [
              "               title count\n",
              "all users        NaN  2812\n",
              "24 hour          NaN  2789\n",
              "more than 24 h   NaN  1413"
            ]
          },
          "metadata": {},
          "execution_count": 62
        }
      ]
    },
    {
      "cell_type": "code",
      "metadata": {
        "id": "qP1PWS4v9A0x"
      },
      "source": [
        "dataset_players=pd.DataFrame()\n",
        "dataset_players.loc['all users','count'] = len(df_levels.uid.unique())\n",
        "dataset_players.loc['1 level','count'] = len(df_levels[df_levels['event_name'] == 'battle_win'].uid.unique())\n",
        "dataset_players.loc['24 hour','count'] = len(df_24[df_24['event_name'] == 'battle_win'].uid.unique())\n",
        "dataset_players.loc['more than 24 h','count'] = len(df_3[df_3['event_name'] == 'battle_win'].uid.unique())"
      ],
      "execution_count": null,
      "outputs": []
    },
    {
      "cell_type": "code",
      "metadata": {
        "id": "o9HjJ5Tp8e4G",
        "colab": {
          "base_uri": "https://localhost:8080/",
          "height": 542
        },
        "outputId": "8fea9590-07af-4920-93ca-ecb2feccc56b"
      },
      "source": [
        "fig = go.Figure(go.Funnel(\n",
        "    y = dataset_all.index,\n",
        "    x = dataset_all['count'], textposition = \"inside\",\n",
        "    textinfo = \"value+percent previous\"))\n",
        "\n",
        "fig.update_layout(title = 'data for all users')\n",
        "fig.show()"
      ],
      "execution_count": null,
      "outputs": [
        {
          "output_type": "display_data",
          "data": {
            "text/html": [
              "<html>\n",
              "<head><meta charset=\"utf-8\" /></head>\n",
              "<body>\n",
              "    <div>            <script src=\"https://cdnjs.cloudflare.com/ajax/libs/mathjax/2.7.5/MathJax.js?config=TeX-AMS-MML_SVG\"></script><script type=\"text/javascript\">if (window.MathJax) {MathJax.Hub.Config({SVG: {font: \"STIX-Web\"}});}</script>                <script type=\"text/javascript\">window.PlotlyConfig = {MathJaxConfig: 'local'};</script>\n",
              "        <script src=\"https://cdn.plot.ly/plotly-2.3.1.min.js\"></script>                <div id=\"ebca2e8c-abe4-4d20-bdf2-341628d71b2b\" class=\"plotly-graph-div\" style=\"height:525px; width:100%;\"></div>            <script type=\"text/javascript\">                                    window.PLOTLYENV=window.PLOTLYENV || {};                                    if (document.getElementById(\"ebca2e8c-abe4-4d20-bdf2-341628d71b2b\")) {                    Plotly.newPlot(                        \"ebca2e8c-abe4-4d20-bdf2-341628d71b2b\",                        [{\"textinfo\":\"value+percent previous\",\"textposition\":\"inside\",\"type\":\"funnel\",\"x\":[2812,2789,1413],\"y\":[\"all users\",\"24 hour\",\"more than 24 h\"]}],                        {\"template\":{\"data\":{\"bar\":[{\"error_x\":{\"color\":\"#2a3f5f\"},\"error_y\":{\"color\":\"#2a3f5f\"},\"marker\":{\"line\":{\"color\":\"#E5ECF6\",\"width\":0.5},\"pattern\":{\"fillmode\":\"overlay\",\"size\":10,\"solidity\":0.2}},\"type\":\"bar\"}],\"barpolar\":[{\"marker\":{\"line\":{\"color\":\"#E5ECF6\",\"width\":0.5},\"pattern\":{\"fillmode\":\"overlay\",\"size\":10,\"solidity\":0.2}},\"type\":\"barpolar\"}],\"carpet\":[{\"aaxis\":{\"endlinecolor\":\"#2a3f5f\",\"gridcolor\":\"white\",\"linecolor\":\"white\",\"minorgridcolor\":\"white\",\"startlinecolor\":\"#2a3f5f\"},\"baxis\":{\"endlinecolor\":\"#2a3f5f\",\"gridcolor\":\"white\",\"linecolor\":\"white\",\"minorgridcolor\":\"white\",\"startlinecolor\":\"#2a3f5f\"},\"type\":\"carpet\"}],\"choropleth\":[{\"colorbar\":{\"outlinewidth\":0,\"ticks\":\"\"},\"type\":\"choropleth\"}],\"contour\":[{\"colorbar\":{\"outlinewidth\":0,\"ticks\":\"\"},\"colorscale\":[[0.0,\"#0d0887\"],[0.1111111111111111,\"#46039f\"],[0.2222222222222222,\"#7201a8\"],[0.3333333333333333,\"#9c179e\"],[0.4444444444444444,\"#bd3786\"],[0.5555555555555556,\"#d8576b\"],[0.6666666666666666,\"#ed7953\"],[0.7777777777777778,\"#fb9f3a\"],[0.8888888888888888,\"#fdca26\"],[1.0,\"#f0f921\"]],\"type\":\"contour\"}],\"contourcarpet\":[{\"colorbar\":{\"outlinewidth\":0,\"ticks\":\"\"},\"type\":\"contourcarpet\"}],\"heatmap\":[{\"colorbar\":{\"outlinewidth\":0,\"ticks\":\"\"},\"colorscale\":[[0.0,\"#0d0887\"],[0.1111111111111111,\"#46039f\"],[0.2222222222222222,\"#7201a8\"],[0.3333333333333333,\"#9c179e\"],[0.4444444444444444,\"#bd3786\"],[0.5555555555555556,\"#d8576b\"],[0.6666666666666666,\"#ed7953\"],[0.7777777777777778,\"#fb9f3a\"],[0.8888888888888888,\"#fdca26\"],[1.0,\"#f0f921\"]],\"type\":\"heatmap\"}],\"heatmapgl\":[{\"colorbar\":{\"outlinewidth\":0,\"ticks\":\"\"},\"colorscale\":[[0.0,\"#0d0887\"],[0.1111111111111111,\"#46039f\"],[0.2222222222222222,\"#7201a8\"],[0.3333333333333333,\"#9c179e\"],[0.4444444444444444,\"#bd3786\"],[0.5555555555555556,\"#d8576b\"],[0.6666666666666666,\"#ed7953\"],[0.7777777777777778,\"#fb9f3a\"],[0.8888888888888888,\"#fdca26\"],[1.0,\"#f0f921\"]],\"type\":\"heatmapgl\"}],\"histogram\":[{\"marker\":{\"pattern\":{\"fillmode\":\"overlay\",\"size\":10,\"solidity\":0.2}},\"type\":\"histogram\"}],\"histogram2d\":[{\"colorbar\":{\"outlinewidth\":0,\"ticks\":\"\"},\"colorscale\":[[0.0,\"#0d0887\"],[0.1111111111111111,\"#46039f\"],[0.2222222222222222,\"#7201a8\"],[0.3333333333333333,\"#9c179e\"],[0.4444444444444444,\"#bd3786\"],[0.5555555555555556,\"#d8576b\"],[0.6666666666666666,\"#ed7953\"],[0.7777777777777778,\"#fb9f3a\"],[0.8888888888888888,\"#fdca26\"],[1.0,\"#f0f921\"]],\"type\":\"histogram2d\"}],\"histogram2dcontour\":[{\"colorbar\":{\"outlinewidth\":0,\"ticks\":\"\"},\"colorscale\":[[0.0,\"#0d0887\"],[0.1111111111111111,\"#46039f\"],[0.2222222222222222,\"#7201a8\"],[0.3333333333333333,\"#9c179e\"],[0.4444444444444444,\"#bd3786\"],[0.5555555555555556,\"#d8576b\"],[0.6666666666666666,\"#ed7953\"],[0.7777777777777778,\"#fb9f3a\"],[0.8888888888888888,\"#fdca26\"],[1.0,\"#f0f921\"]],\"type\":\"histogram2dcontour\"}],\"mesh3d\":[{\"colorbar\":{\"outlinewidth\":0,\"ticks\":\"\"},\"type\":\"mesh3d\"}],\"parcoords\":[{\"line\":{\"colorbar\":{\"outlinewidth\":0,\"ticks\":\"\"}},\"type\":\"parcoords\"}],\"pie\":[{\"automargin\":true,\"type\":\"pie\"}],\"scatter\":[{\"marker\":{\"colorbar\":{\"outlinewidth\":0,\"ticks\":\"\"}},\"type\":\"scatter\"}],\"scatter3d\":[{\"line\":{\"colorbar\":{\"outlinewidth\":0,\"ticks\":\"\"}},\"marker\":{\"colorbar\":{\"outlinewidth\":0,\"ticks\":\"\"}},\"type\":\"scatter3d\"}],\"scattercarpet\":[{\"marker\":{\"colorbar\":{\"outlinewidth\":0,\"ticks\":\"\"}},\"type\":\"scattercarpet\"}],\"scattergeo\":[{\"marker\":{\"colorbar\":{\"outlinewidth\":0,\"ticks\":\"\"}},\"type\":\"scattergeo\"}],\"scattergl\":[{\"marker\":{\"colorbar\":{\"outlinewidth\":0,\"ticks\":\"\"}},\"type\":\"scattergl\"}],\"scattermapbox\":[{\"marker\":{\"colorbar\":{\"outlinewidth\":0,\"ticks\":\"\"}},\"type\":\"scattermapbox\"}],\"scatterpolar\":[{\"marker\":{\"colorbar\":{\"outlinewidth\":0,\"ticks\":\"\"}},\"type\":\"scatterpolar\"}],\"scatterpolargl\":[{\"marker\":{\"colorbar\":{\"outlinewidth\":0,\"ticks\":\"\"}},\"type\":\"scatterpolargl\"}],\"scatterternary\":[{\"marker\":{\"colorbar\":{\"outlinewidth\":0,\"ticks\":\"\"}},\"type\":\"scatterternary\"}],\"surface\":[{\"colorbar\":{\"outlinewidth\":0,\"ticks\":\"\"},\"colorscale\":[[0.0,\"#0d0887\"],[0.1111111111111111,\"#46039f\"],[0.2222222222222222,\"#7201a8\"],[0.3333333333333333,\"#9c179e\"],[0.4444444444444444,\"#bd3786\"],[0.5555555555555556,\"#d8576b\"],[0.6666666666666666,\"#ed7953\"],[0.7777777777777778,\"#fb9f3a\"],[0.8888888888888888,\"#fdca26\"],[1.0,\"#f0f921\"]],\"type\":\"surface\"}],\"table\":[{\"cells\":{\"fill\":{\"color\":\"#EBF0F8\"},\"line\":{\"color\":\"white\"}},\"header\":{\"fill\":{\"color\":\"#C8D4E3\"},\"line\":{\"color\":\"white\"}},\"type\":\"table\"}]},\"layout\":{\"annotationdefaults\":{\"arrowcolor\":\"#2a3f5f\",\"arrowhead\":0,\"arrowwidth\":1},\"autotypenumbers\":\"strict\",\"coloraxis\":{\"colorbar\":{\"outlinewidth\":0,\"ticks\":\"\"}},\"colorscale\":{\"diverging\":[[0,\"#8e0152\"],[0.1,\"#c51b7d\"],[0.2,\"#de77ae\"],[0.3,\"#f1b6da\"],[0.4,\"#fde0ef\"],[0.5,\"#f7f7f7\"],[0.6,\"#e6f5d0\"],[0.7,\"#b8e186\"],[0.8,\"#7fbc41\"],[0.9,\"#4d9221\"],[1,\"#276419\"]],\"sequential\":[[0.0,\"#0d0887\"],[0.1111111111111111,\"#46039f\"],[0.2222222222222222,\"#7201a8\"],[0.3333333333333333,\"#9c179e\"],[0.4444444444444444,\"#bd3786\"],[0.5555555555555556,\"#d8576b\"],[0.6666666666666666,\"#ed7953\"],[0.7777777777777778,\"#fb9f3a\"],[0.8888888888888888,\"#fdca26\"],[1.0,\"#f0f921\"]],\"sequentialminus\":[[0.0,\"#0d0887\"],[0.1111111111111111,\"#46039f\"],[0.2222222222222222,\"#7201a8\"],[0.3333333333333333,\"#9c179e\"],[0.4444444444444444,\"#bd3786\"],[0.5555555555555556,\"#d8576b\"],[0.6666666666666666,\"#ed7953\"],[0.7777777777777778,\"#fb9f3a\"],[0.8888888888888888,\"#fdca26\"],[1.0,\"#f0f921\"]]},\"colorway\":[\"#636efa\",\"#EF553B\",\"#00cc96\",\"#ab63fa\",\"#FFA15A\",\"#19d3f3\",\"#FF6692\",\"#B6E880\",\"#FF97FF\",\"#FECB52\"],\"font\":{\"color\":\"#2a3f5f\"},\"geo\":{\"bgcolor\":\"white\",\"lakecolor\":\"white\",\"landcolor\":\"#E5ECF6\",\"showlakes\":true,\"showland\":true,\"subunitcolor\":\"white\"},\"hoverlabel\":{\"align\":\"left\"},\"hovermode\":\"closest\",\"mapbox\":{\"style\":\"light\"},\"paper_bgcolor\":\"white\",\"plot_bgcolor\":\"#E5ECF6\",\"polar\":{\"angularaxis\":{\"gridcolor\":\"white\",\"linecolor\":\"white\",\"ticks\":\"\"},\"bgcolor\":\"#E5ECF6\",\"radialaxis\":{\"gridcolor\":\"white\",\"linecolor\":\"white\",\"ticks\":\"\"}},\"scene\":{\"xaxis\":{\"backgroundcolor\":\"#E5ECF6\",\"gridcolor\":\"white\",\"gridwidth\":2,\"linecolor\":\"white\",\"showbackground\":true,\"ticks\":\"\",\"zerolinecolor\":\"white\"},\"yaxis\":{\"backgroundcolor\":\"#E5ECF6\",\"gridcolor\":\"white\",\"gridwidth\":2,\"linecolor\":\"white\",\"showbackground\":true,\"ticks\":\"\",\"zerolinecolor\":\"white\"},\"zaxis\":{\"backgroundcolor\":\"#E5ECF6\",\"gridcolor\":\"white\",\"gridwidth\":2,\"linecolor\":\"white\",\"showbackground\":true,\"ticks\":\"\",\"zerolinecolor\":\"white\"}},\"shapedefaults\":{\"line\":{\"color\":\"#2a3f5f\"}},\"ternary\":{\"aaxis\":{\"gridcolor\":\"white\",\"linecolor\":\"white\",\"ticks\":\"\"},\"baxis\":{\"gridcolor\":\"white\",\"linecolor\":\"white\",\"ticks\":\"\"},\"bgcolor\":\"#E5ECF6\",\"caxis\":{\"gridcolor\":\"white\",\"linecolor\":\"white\",\"ticks\":\"\"}},\"title\":{\"x\":0.05},\"xaxis\":{\"automargin\":true,\"gridcolor\":\"white\",\"linecolor\":\"white\",\"ticks\":\"\",\"title\":{\"standoff\":15},\"zerolinecolor\":\"white\",\"zerolinewidth\":2},\"yaxis\":{\"automargin\":true,\"gridcolor\":\"white\",\"linecolor\":\"white\",\"ticks\":\"\",\"title\":{\"standoff\":15},\"zerolinecolor\":\"white\",\"zerolinewidth\":2}}},\"title\":{\"text\":\"data for all users\"}},                        {\"responsive\": true}                    ).then(function(){\n",
              "                            \n",
              "var gd = document.getElementById('ebca2e8c-abe4-4d20-bdf2-341628d71b2b');\n",
              "var x = new MutationObserver(function (mutations, observer) {{\n",
              "        var display = window.getComputedStyle(gd).display;\n",
              "        if (!display || display === 'none') {{\n",
              "            console.log([gd, 'removed!']);\n",
              "            Plotly.purge(gd);\n",
              "            observer.disconnect();\n",
              "        }}\n",
              "}});\n",
              "\n",
              "// Listen for the removal of the full notebook cells\n",
              "var notebookContainer = gd.closest('#notebook-container');\n",
              "if (notebookContainer) {{\n",
              "    x.observe(notebookContainer, {childList: true});\n",
              "}}\n",
              "\n",
              "// Listen for the clearing of the current output cell\n",
              "var outputEl = gd.closest('.output');\n",
              "if (outputEl) {{\n",
              "    x.observe(outputEl, {childList: true});\n",
              "}}\n",
              "\n",
              "                        })                };                            </script>        </div>\n",
              "</body>\n",
              "</html>"
            ]
          },
          "metadata": {}
        }
      ]
    },
    {
      "cell_type": "code",
      "metadata": {
        "id": "qgyomyCL-R_b",
        "colab": {
          "base_uri": "https://localhost:8080/",
          "height": 542
        },
        "outputId": "9fdf74e5-6511-4536-833a-d4b0232ac51f"
      },
      "source": [
        "fig = go.Figure(go.Funnel(\n",
        "    y = dataset_players.index,\n",
        "    x = dataset_players['count'], textposition = \"inside\",\n",
        "    textinfo = \"value+percent previous\"))\n",
        "\n",
        "fig.update_layout(title = 'data for playing users')\n",
        "fig.show()"
      ],
      "execution_count": null,
      "outputs": [
        {
          "output_type": "display_data",
          "data": {
            "text/html": [
              "<html>\n",
              "<head><meta charset=\"utf-8\" /></head>\n",
              "<body>\n",
              "    <div>            <script src=\"https://cdnjs.cloudflare.com/ajax/libs/mathjax/2.7.5/MathJax.js?config=TeX-AMS-MML_SVG\"></script><script type=\"text/javascript\">if (window.MathJax) {MathJax.Hub.Config({SVG: {font: \"STIX-Web\"}});}</script>                <script type=\"text/javascript\">window.PlotlyConfig = {MathJaxConfig: 'local'};</script>\n",
              "        <script src=\"https://cdn.plot.ly/plotly-2.3.1.min.js\"></script>                <div id=\"56ec31ac-b2ab-42b8-863f-903ee17b22a0\" class=\"plotly-graph-div\" style=\"height:525px; width:100%;\"></div>            <script type=\"text/javascript\">                                    window.PLOTLYENV=window.PLOTLYENV || {};                                    if (document.getElementById(\"56ec31ac-b2ab-42b8-863f-903ee17b22a0\")) {                    Plotly.newPlot(                        \"56ec31ac-b2ab-42b8-863f-903ee17b22a0\",                        [{\"textinfo\":\"value+percent previous\",\"textposition\":\"inside\",\"type\":\"funnel\",\"x\":[2812.0,2723.0,2689.0,1335.0],\"y\":[\"all users\",\"1 level\",\"24 hour\",\"more than 24 h\"]}],                        {\"template\":{\"data\":{\"bar\":[{\"error_x\":{\"color\":\"#2a3f5f\"},\"error_y\":{\"color\":\"#2a3f5f\"},\"marker\":{\"line\":{\"color\":\"#E5ECF6\",\"width\":0.5},\"pattern\":{\"fillmode\":\"overlay\",\"size\":10,\"solidity\":0.2}},\"type\":\"bar\"}],\"barpolar\":[{\"marker\":{\"line\":{\"color\":\"#E5ECF6\",\"width\":0.5},\"pattern\":{\"fillmode\":\"overlay\",\"size\":10,\"solidity\":0.2}},\"type\":\"barpolar\"}],\"carpet\":[{\"aaxis\":{\"endlinecolor\":\"#2a3f5f\",\"gridcolor\":\"white\",\"linecolor\":\"white\",\"minorgridcolor\":\"white\",\"startlinecolor\":\"#2a3f5f\"},\"baxis\":{\"endlinecolor\":\"#2a3f5f\",\"gridcolor\":\"white\",\"linecolor\":\"white\",\"minorgridcolor\":\"white\",\"startlinecolor\":\"#2a3f5f\"},\"type\":\"carpet\"}],\"choropleth\":[{\"colorbar\":{\"outlinewidth\":0,\"ticks\":\"\"},\"type\":\"choropleth\"}],\"contour\":[{\"colorbar\":{\"outlinewidth\":0,\"ticks\":\"\"},\"colorscale\":[[0.0,\"#0d0887\"],[0.1111111111111111,\"#46039f\"],[0.2222222222222222,\"#7201a8\"],[0.3333333333333333,\"#9c179e\"],[0.4444444444444444,\"#bd3786\"],[0.5555555555555556,\"#d8576b\"],[0.6666666666666666,\"#ed7953\"],[0.7777777777777778,\"#fb9f3a\"],[0.8888888888888888,\"#fdca26\"],[1.0,\"#f0f921\"]],\"type\":\"contour\"}],\"contourcarpet\":[{\"colorbar\":{\"outlinewidth\":0,\"ticks\":\"\"},\"type\":\"contourcarpet\"}],\"heatmap\":[{\"colorbar\":{\"outlinewidth\":0,\"ticks\":\"\"},\"colorscale\":[[0.0,\"#0d0887\"],[0.1111111111111111,\"#46039f\"],[0.2222222222222222,\"#7201a8\"],[0.3333333333333333,\"#9c179e\"],[0.4444444444444444,\"#bd3786\"],[0.5555555555555556,\"#d8576b\"],[0.6666666666666666,\"#ed7953\"],[0.7777777777777778,\"#fb9f3a\"],[0.8888888888888888,\"#fdca26\"],[1.0,\"#f0f921\"]],\"type\":\"heatmap\"}],\"heatmapgl\":[{\"colorbar\":{\"outlinewidth\":0,\"ticks\":\"\"},\"colorscale\":[[0.0,\"#0d0887\"],[0.1111111111111111,\"#46039f\"],[0.2222222222222222,\"#7201a8\"],[0.3333333333333333,\"#9c179e\"],[0.4444444444444444,\"#bd3786\"],[0.5555555555555556,\"#d8576b\"],[0.6666666666666666,\"#ed7953\"],[0.7777777777777778,\"#fb9f3a\"],[0.8888888888888888,\"#fdca26\"],[1.0,\"#f0f921\"]],\"type\":\"heatmapgl\"}],\"histogram\":[{\"marker\":{\"pattern\":{\"fillmode\":\"overlay\",\"size\":10,\"solidity\":0.2}},\"type\":\"histogram\"}],\"histogram2d\":[{\"colorbar\":{\"outlinewidth\":0,\"ticks\":\"\"},\"colorscale\":[[0.0,\"#0d0887\"],[0.1111111111111111,\"#46039f\"],[0.2222222222222222,\"#7201a8\"],[0.3333333333333333,\"#9c179e\"],[0.4444444444444444,\"#bd3786\"],[0.5555555555555556,\"#d8576b\"],[0.6666666666666666,\"#ed7953\"],[0.7777777777777778,\"#fb9f3a\"],[0.8888888888888888,\"#fdca26\"],[1.0,\"#f0f921\"]],\"type\":\"histogram2d\"}],\"histogram2dcontour\":[{\"colorbar\":{\"outlinewidth\":0,\"ticks\":\"\"},\"colorscale\":[[0.0,\"#0d0887\"],[0.1111111111111111,\"#46039f\"],[0.2222222222222222,\"#7201a8\"],[0.3333333333333333,\"#9c179e\"],[0.4444444444444444,\"#bd3786\"],[0.5555555555555556,\"#d8576b\"],[0.6666666666666666,\"#ed7953\"],[0.7777777777777778,\"#fb9f3a\"],[0.8888888888888888,\"#fdca26\"],[1.0,\"#f0f921\"]],\"type\":\"histogram2dcontour\"}],\"mesh3d\":[{\"colorbar\":{\"outlinewidth\":0,\"ticks\":\"\"},\"type\":\"mesh3d\"}],\"parcoords\":[{\"line\":{\"colorbar\":{\"outlinewidth\":0,\"ticks\":\"\"}},\"type\":\"parcoords\"}],\"pie\":[{\"automargin\":true,\"type\":\"pie\"}],\"scatter\":[{\"marker\":{\"colorbar\":{\"outlinewidth\":0,\"ticks\":\"\"}},\"type\":\"scatter\"}],\"scatter3d\":[{\"line\":{\"colorbar\":{\"outlinewidth\":0,\"ticks\":\"\"}},\"marker\":{\"colorbar\":{\"outlinewidth\":0,\"ticks\":\"\"}},\"type\":\"scatter3d\"}],\"scattercarpet\":[{\"marker\":{\"colorbar\":{\"outlinewidth\":0,\"ticks\":\"\"}},\"type\":\"scattercarpet\"}],\"scattergeo\":[{\"marker\":{\"colorbar\":{\"outlinewidth\":0,\"ticks\":\"\"}},\"type\":\"scattergeo\"}],\"scattergl\":[{\"marker\":{\"colorbar\":{\"outlinewidth\":0,\"ticks\":\"\"}},\"type\":\"scattergl\"}],\"scattermapbox\":[{\"marker\":{\"colorbar\":{\"outlinewidth\":0,\"ticks\":\"\"}},\"type\":\"scattermapbox\"}],\"scatterpolar\":[{\"marker\":{\"colorbar\":{\"outlinewidth\":0,\"ticks\":\"\"}},\"type\":\"scatterpolar\"}],\"scatterpolargl\":[{\"marker\":{\"colorbar\":{\"outlinewidth\":0,\"ticks\":\"\"}},\"type\":\"scatterpolargl\"}],\"scatterternary\":[{\"marker\":{\"colorbar\":{\"outlinewidth\":0,\"ticks\":\"\"}},\"type\":\"scatterternary\"}],\"surface\":[{\"colorbar\":{\"outlinewidth\":0,\"ticks\":\"\"},\"colorscale\":[[0.0,\"#0d0887\"],[0.1111111111111111,\"#46039f\"],[0.2222222222222222,\"#7201a8\"],[0.3333333333333333,\"#9c179e\"],[0.4444444444444444,\"#bd3786\"],[0.5555555555555556,\"#d8576b\"],[0.6666666666666666,\"#ed7953\"],[0.7777777777777778,\"#fb9f3a\"],[0.8888888888888888,\"#fdca26\"],[1.0,\"#f0f921\"]],\"type\":\"surface\"}],\"table\":[{\"cells\":{\"fill\":{\"color\":\"#EBF0F8\"},\"line\":{\"color\":\"white\"}},\"header\":{\"fill\":{\"color\":\"#C8D4E3\"},\"line\":{\"color\":\"white\"}},\"type\":\"table\"}]},\"layout\":{\"annotationdefaults\":{\"arrowcolor\":\"#2a3f5f\",\"arrowhead\":0,\"arrowwidth\":1},\"autotypenumbers\":\"strict\",\"coloraxis\":{\"colorbar\":{\"outlinewidth\":0,\"ticks\":\"\"}},\"colorscale\":{\"diverging\":[[0,\"#8e0152\"],[0.1,\"#c51b7d\"],[0.2,\"#de77ae\"],[0.3,\"#f1b6da\"],[0.4,\"#fde0ef\"],[0.5,\"#f7f7f7\"],[0.6,\"#e6f5d0\"],[0.7,\"#b8e186\"],[0.8,\"#7fbc41\"],[0.9,\"#4d9221\"],[1,\"#276419\"]],\"sequential\":[[0.0,\"#0d0887\"],[0.1111111111111111,\"#46039f\"],[0.2222222222222222,\"#7201a8\"],[0.3333333333333333,\"#9c179e\"],[0.4444444444444444,\"#bd3786\"],[0.5555555555555556,\"#d8576b\"],[0.6666666666666666,\"#ed7953\"],[0.7777777777777778,\"#fb9f3a\"],[0.8888888888888888,\"#fdca26\"],[1.0,\"#f0f921\"]],\"sequentialminus\":[[0.0,\"#0d0887\"],[0.1111111111111111,\"#46039f\"],[0.2222222222222222,\"#7201a8\"],[0.3333333333333333,\"#9c179e\"],[0.4444444444444444,\"#bd3786\"],[0.5555555555555556,\"#d8576b\"],[0.6666666666666666,\"#ed7953\"],[0.7777777777777778,\"#fb9f3a\"],[0.8888888888888888,\"#fdca26\"],[1.0,\"#f0f921\"]]},\"colorway\":[\"#636efa\",\"#EF553B\",\"#00cc96\",\"#ab63fa\",\"#FFA15A\",\"#19d3f3\",\"#FF6692\",\"#B6E880\",\"#FF97FF\",\"#FECB52\"],\"font\":{\"color\":\"#2a3f5f\"},\"geo\":{\"bgcolor\":\"white\",\"lakecolor\":\"white\",\"landcolor\":\"#E5ECF6\",\"showlakes\":true,\"showland\":true,\"subunitcolor\":\"white\"},\"hoverlabel\":{\"align\":\"left\"},\"hovermode\":\"closest\",\"mapbox\":{\"style\":\"light\"},\"paper_bgcolor\":\"white\",\"plot_bgcolor\":\"#E5ECF6\",\"polar\":{\"angularaxis\":{\"gridcolor\":\"white\",\"linecolor\":\"white\",\"ticks\":\"\"},\"bgcolor\":\"#E5ECF6\",\"radialaxis\":{\"gridcolor\":\"white\",\"linecolor\":\"white\",\"ticks\":\"\"}},\"scene\":{\"xaxis\":{\"backgroundcolor\":\"#E5ECF6\",\"gridcolor\":\"white\",\"gridwidth\":2,\"linecolor\":\"white\",\"showbackground\":true,\"ticks\":\"\",\"zerolinecolor\":\"white\"},\"yaxis\":{\"backgroundcolor\":\"#E5ECF6\",\"gridcolor\":\"white\",\"gridwidth\":2,\"linecolor\":\"white\",\"showbackground\":true,\"ticks\":\"\",\"zerolinecolor\":\"white\"},\"zaxis\":{\"backgroundcolor\":\"#E5ECF6\",\"gridcolor\":\"white\",\"gridwidth\":2,\"linecolor\":\"white\",\"showbackground\":true,\"ticks\":\"\",\"zerolinecolor\":\"white\"}},\"shapedefaults\":{\"line\":{\"color\":\"#2a3f5f\"}},\"ternary\":{\"aaxis\":{\"gridcolor\":\"white\",\"linecolor\":\"white\",\"ticks\":\"\"},\"baxis\":{\"gridcolor\":\"white\",\"linecolor\":\"white\",\"ticks\":\"\"},\"bgcolor\":\"#E5ECF6\",\"caxis\":{\"gridcolor\":\"white\",\"linecolor\":\"white\",\"ticks\":\"\"}},\"title\":{\"x\":0.05},\"xaxis\":{\"automargin\":true,\"gridcolor\":\"white\",\"linecolor\":\"white\",\"ticks\":\"\",\"title\":{\"standoff\":15},\"zerolinecolor\":\"white\",\"zerolinewidth\":2},\"yaxis\":{\"automargin\":true,\"gridcolor\":\"white\",\"linecolor\":\"white\",\"ticks\":\"\",\"title\":{\"standoff\":15},\"zerolinecolor\":\"white\",\"zerolinewidth\":2}}},\"title\":{\"text\":\"data for playing users\"}},                        {\"responsive\": true}                    ).then(function(){\n",
              "                            \n",
              "var gd = document.getElementById('56ec31ac-b2ab-42b8-863f-903ee17b22a0');\n",
              "var x = new MutationObserver(function (mutations, observer) {{\n",
              "        var display = window.getComputedStyle(gd).display;\n",
              "        if (!display || display === 'none') {{\n",
              "            console.log([gd, 'removed!']);\n",
              "            Plotly.purge(gd);\n",
              "            observer.disconnect();\n",
              "        }}\n",
              "}});\n",
              "\n",
              "// Listen for the removal of the full notebook cells\n",
              "var notebookContainer = gd.closest('#notebook-container');\n",
              "if (notebookContainer) {{\n",
              "    x.observe(notebookContainer, {childList: true});\n",
              "}}\n",
              "\n",
              "// Listen for the clearing of the current output cell\n",
              "var outputEl = gd.closest('.output');\n",
              "if (outputEl) {{\n",
              "    x.observe(outputEl, {childList: true});\n",
              "}}\n",
              "\n",
              "                        })                };                            </script>        </div>\n",
              "</body>\n",
              "</html>"
            ]
          },
          "metadata": {}
        }
      ]
    },
    {
      "cell_type": "markdown",
      "metadata": {
        "id": "4QrywwjnO0Gm"
      },
      "source": [
        "# **2. Выделение номера уровня, или количества пройденных игр.**"
      ]
    },
    {
      "cell_type": "markdown",
      "metadata": {
        "id": "Rcoqu1WD_8mb"
      },
      "source": [
        "Посмотрим на уникальные event_name, чтоб выделить уровни, или количество пройденных игр пользователями."
      ]
    },
    {
      "cell_type": "code",
      "metadata": {
        "id": "DCdNYLlqpF2n",
        "colab": {
          "base_uri": "https://localhost:8080/"
        },
        "outputId": "64b2fa9f-34f9-4ddb-94a5-fb224d063ac7"
      },
      "source": [
        "df_levels.event_name.unique()"
      ],
      "execution_count": null,
      "outputs": [
        {
          "output_type": "execute_result",
          "data": {
            "text/plain": [
              "array(['battle_start', 'battle_win', 'battle_loss', 'battle_backtrack'],\n",
              "      dtype=object)"
            ]
          },
          "metadata": {},
          "execution_count": 66
        }
      ]
    },
    {
      "cell_type": "markdown",
      "metadata": {
        "id": "4Zs0EW18AOvy"
      },
      "source": [
        "В ходе игры, если пользователь проходит уровень, то сразу переходит к следующему. Значит по значению event_name = battle_win можно определить на каком уровне пользователь находится."
      ]
    },
    {
      "cell_type": "markdown",
      "metadata": {
        "id": "NIO4TkeDAoK-"
      },
      "source": [
        "Для этого построим сводную таблицу, где посчитаем сколько раз каждый из пользователей заканчивал уровень, крашил уровень, проигрывал и т.д. Кроме того узнаем до какого уровня пользователь дошел за 24 часа.\n",
        "Точно информацию по игре не нашла, но вроде есть уровни выше 389. Так что дополнительно посмотрим на максимум полученного значения уровня."
      ]
    },
    {
      "cell_type": "markdown",
      "metadata": {
        "id": "gyEqS9xdvYi8"
      },
      "source": [
        "Выделив все варианты названия события для пользователя построим в начале таблицу суммы всех событий и соединим потом с таблицей данных по максимальным уровням."
      ]
    },
    {
      "cell_type": "code",
      "metadata": {
        "id": "lKf4yXnKtA17",
        "colab": {
          "base_uri": "https://localhost:8080/"
        },
        "outputId": "8480c1d7-e6fe-4a2c-faf8-d0addc2da4b5"
      },
      "source": [
        "df_levels.event_name.unique()"
      ],
      "execution_count": null,
      "outputs": [
        {
          "output_type": "execute_result",
          "data": {
            "text/plain": [
              "array(['battle_start', 'battle_win', 'battle_loss', 'battle_backtrack'],\n",
              "      dtype=object)"
            ]
          },
          "metadata": {},
          "execution_count": 67
        }
      ]
    },
    {
      "cell_type": "code",
      "metadata": {
        "id": "P3pAkmZzsrg2",
        "colab": {
          "base_uri": "https://localhost:8080/"
        },
        "outputId": "c54d3a9f-6608-4d2e-8f62-15d590365f40"
      },
      "source": [
        "table_all_1 = df_levels.pivot_table(index='uid', columns='event_name', \n",
        "                                    values='churn',\n",
        "                                    aggfunc='count', fill_value=0\n",
        "                                    ).reset_index()\n",
        "table_all_1['battle_crash'] = table_all_1['battle_start'] - \\\n",
        "                              table_all_1['battle_win'] - \\\n",
        "                              table_all_1['battle_loss'] - \\\n",
        "                              table_all_1['battle_backtrack']\n",
        "table_all_1"
      ],
      "execution_count": null,
      "outputs": [
        {
          "output_type": "execute_result",
          "data": {
            "text/html": [
              "<div>\n",
              "<style scoped>\n",
              "    .dataframe tbody tr th:only-of-type {\n",
              "        vertical-align: middle;\n",
              "    }\n",
              "\n",
              "    .dataframe tbody tr th {\n",
              "        vertical-align: top;\n",
              "    }\n",
              "\n",
              "    .dataframe thead th {\n",
              "        text-align: right;\n",
              "    }\n",
              "</style>\n",
              "<table border=\"1\" class=\"dataframe\">\n",
              "  <thead>\n",
              "    <tr style=\"text-align: right;\">\n",
              "      <th>event_name</th>\n",
              "      <th>uid</th>\n",
              "      <th>battle_backtrack</th>\n",
              "      <th>battle_loss</th>\n",
              "      <th>battle_start</th>\n",
              "      <th>battle_win</th>\n",
              "      <th>battle_crash</th>\n",
              "    </tr>\n",
              "  </thead>\n",
              "  <tbody>\n",
              "    <tr>\n",
              "      <th>0</th>\n",
              "      <td>000c51e7-db50-4f30-95d6-462be3a2a5d3</td>\n",
              "      <td>0</td>\n",
              "      <td>0</td>\n",
              "      <td>5</td>\n",
              "      <td>5</td>\n",
              "      <td>0</td>\n",
              "    </tr>\n",
              "    <tr>\n",
              "      <th>1</th>\n",
              "      <td>0018f5d2-d883-4ad2-9b96-29028069ee81</td>\n",
              "      <td>0</td>\n",
              "      <td>31</td>\n",
              "      <td>149</td>\n",
              "      <td>126</td>\n",
              "      <td>-8</td>\n",
              "    </tr>\n",
              "    <tr>\n",
              "      <th>2</th>\n",
              "      <td>00431e7e-d833-47c9-aae9-7ce21652902f</td>\n",
              "      <td>0</td>\n",
              "      <td>0</td>\n",
              "      <td>4</td>\n",
              "      <td>4</td>\n",
              "      <td>0</td>\n",
              "    </tr>\n",
              "    <tr>\n",
              "      <th>3</th>\n",
              "      <td>0060a2dd-18d8-4122-96ca-92ae699a1a52</td>\n",
              "      <td>1</td>\n",
              "      <td>103</td>\n",
              "      <td>207</td>\n",
              "      <td>93</td>\n",
              "      <td>10</td>\n",
              "    </tr>\n",
              "    <tr>\n",
              "      <th>4</th>\n",
              "      <td>0063c814-edef-4d88-b866-f39ac440c538</td>\n",
              "      <td>0</td>\n",
              "      <td>1</td>\n",
              "      <td>11</td>\n",
              "      <td>10</td>\n",
              "      <td>0</td>\n",
              "    </tr>\n",
              "    <tr>\n",
              "      <th>...</th>\n",
              "      <td>...</td>\n",
              "      <td>...</td>\n",
              "      <td>...</td>\n",
              "      <td>...</td>\n",
              "      <td>...</td>\n",
              "      <td>...</td>\n",
              "    </tr>\n",
              "    <tr>\n",
              "      <th>2807</th>\n",
              "      <td>ff958cbb-bd1a-4f53-a545-79ea2fba993e</td>\n",
              "      <td>0</td>\n",
              "      <td>0</td>\n",
              "      <td>14</td>\n",
              "      <td>12</td>\n",
              "      <td>2</td>\n",
              "    </tr>\n",
              "    <tr>\n",
              "      <th>2808</th>\n",
              "      <td>ff96e64e-8ebf-48e3-8d52-78f247468068</td>\n",
              "      <td>0</td>\n",
              "      <td>51</td>\n",
              "      <td>94</td>\n",
              "      <td>31</td>\n",
              "      <td>12</td>\n",
              "    </tr>\n",
              "    <tr>\n",
              "      <th>2809</th>\n",
              "      <td>ffc552f6-b662-4b62-bf3b-188cf5c23760</td>\n",
              "      <td>0</td>\n",
              "      <td>0</td>\n",
              "      <td>4</td>\n",
              "      <td>4</td>\n",
              "      <td>0</td>\n",
              "    </tr>\n",
              "    <tr>\n",
              "      <th>2810</th>\n",
              "      <td>ffdb1aaf-6c57-4fb7-a3a9-da40857f9cf8</td>\n",
              "      <td>0</td>\n",
              "      <td>5</td>\n",
              "      <td>25</td>\n",
              "      <td>17</td>\n",
              "      <td>3</td>\n",
              "    </tr>\n",
              "    <tr>\n",
              "      <th>2811</th>\n",
              "      <td>ffeac949-b24f-48cf-936f-2ffc117b8da2</td>\n",
              "      <td>0</td>\n",
              "      <td>4</td>\n",
              "      <td>27</td>\n",
              "      <td>22</td>\n",
              "      <td>1</td>\n",
              "    </tr>\n",
              "  </tbody>\n",
              "</table>\n",
              "<p>2812 rows × 6 columns</p>\n",
              "</div>"
            ],
            "text/plain": [
              "event_name                                   uid  ...  battle_crash\n",
              "0           000c51e7-db50-4f30-95d6-462be3a2a5d3  ...             0\n",
              "1           0018f5d2-d883-4ad2-9b96-29028069ee81  ...            -8\n",
              "2           00431e7e-d833-47c9-aae9-7ce21652902f  ...             0\n",
              "3           0060a2dd-18d8-4122-96ca-92ae699a1a52  ...            10\n",
              "4           0063c814-edef-4d88-b866-f39ac440c538  ...             0\n",
              "...                                          ...  ...           ...\n",
              "2807        ff958cbb-bd1a-4f53-a545-79ea2fba993e  ...             2\n",
              "2808        ff96e64e-8ebf-48e3-8d52-78f247468068  ...            12\n",
              "2809        ffc552f6-b662-4b62-bf3b-188cf5c23760  ...             0\n",
              "2810        ffdb1aaf-6c57-4fb7-a3a9-da40857f9cf8  ...             3\n",
              "2811        ffeac949-b24f-48cf-936f-2ffc117b8da2  ...             1\n",
              "\n",
              "[2812 rows x 6 columns]"
            ]
          },
          "metadata": {},
          "execution_count": 68
        }
      ]
    },
    {
      "cell_type": "code",
      "metadata": {
        "id": "uRexWYb1pZGM",
        "colab": {
          "base_uri": "https://localhost:8080/"
        },
        "outputId": "61e6594c-688f-41b1-837e-ad0daea9adb9"
      },
      "source": [
        "table_all_2 = df_levels[df_levels['event_name'\n",
        "                    ] == 'battle_win'\n",
        "                    ].pivot_table(index='uid', \n",
        "                                 aggfunc={'event_name': 'count',\n",
        "                                          '24_hour':'max',\n",
        "                                          'churn':'mean'}\n",
        "                                ).reset_index().sort_values(by='event_name', \n",
        "                                                            ascending=False)\n",
        "table_all_2 = table_all_2.rename(columns={'event_name': 'count_event'})\n",
        "table_all = pd.merge(table_all_1, table_all_2, how='inner', on='uid')\n",
        "table_all.head(2)"
      ],
      "execution_count": null,
      "outputs": [
        {
          "output_type": "execute_result",
          "data": {
            "text/html": [
              "<div>\n",
              "<style scoped>\n",
              "    .dataframe tbody tr th:only-of-type {\n",
              "        vertical-align: middle;\n",
              "    }\n",
              "\n",
              "    .dataframe tbody tr th {\n",
              "        vertical-align: top;\n",
              "    }\n",
              "\n",
              "    .dataframe thead th {\n",
              "        text-align: right;\n",
              "    }\n",
              "</style>\n",
              "<table border=\"1\" class=\"dataframe\">\n",
              "  <thead>\n",
              "    <tr style=\"text-align: right;\">\n",
              "      <th></th>\n",
              "      <th>uid</th>\n",
              "      <th>battle_backtrack</th>\n",
              "      <th>battle_loss</th>\n",
              "      <th>battle_start</th>\n",
              "      <th>battle_win</th>\n",
              "      <th>battle_crash</th>\n",
              "      <th>24_hour</th>\n",
              "      <th>churn</th>\n",
              "      <th>count_event</th>\n",
              "    </tr>\n",
              "  </thead>\n",
              "  <tbody>\n",
              "    <tr>\n",
              "      <th>0</th>\n",
              "      <td>000c51e7-db50-4f30-95d6-462be3a2a5d3</td>\n",
              "      <td>0</td>\n",
              "      <td>0</td>\n",
              "      <td>5</td>\n",
              "      <td>5</td>\n",
              "      <td>0</td>\n",
              "      <td>1</td>\n",
              "      <td>0</td>\n",
              "      <td>5</td>\n",
              "    </tr>\n",
              "    <tr>\n",
              "      <th>1</th>\n",
              "      <td>0018f5d2-d883-4ad2-9b96-29028069ee81</td>\n",
              "      <td>0</td>\n",
              "      <td>31</td>\n",
              "      <td>149</td>\n",
              "      <td>126</td>\n",
              "      <td>-8</td>\n",
              "      <td>2</td>\n",
              "      <td>1</td>\n",
              "      <td>126</td>\n",
              "    </tr>\n",
              "  </tbody>\n",
              "</table>\n",
              "</div>"
            ],
            "text/plain": [
              "                                    uid  battle_backtrack  ...  churn  count_event\n",
              "0  000c51e7-db50-4f30-95d6-462be3a2a5d3                 0  ...      0            5\n",
              "1  0018f5d2-d883-4ad2-9b96-29028069ee81                 0  ...      1          126\n",
              "\n",
              "[2 rows x 9 columns]"
            ]
          },
          "metadata": {},
          "execution_count": 69
        }
      ]
    },
    {
      "cell_type": "markdown",
      "metadata": {
        "id": "OVw9l3LJSWNP"
      },
      "source": [
        "Разделим таблицу на людей играющих только 24 часа и с 1 дня по 3."
      ]
    },
    {
      "cell_type": "code",
      "metadata": {
        "id": "OajAMtXqW4zv",
        "colab": {
          "base_uri": "https://localhost:8080/"
        },
        "outputId": "fd8975f3-859d-454b-d92f-ea9a11eed6c6"
      },
      "source": [
        "table_24_1 = df_levels[(df_levels['24_hour'\n",
        "                    ] == 1)].pivot_table(index='uid', columns='event_name', \n",
        "                                    values='churn',\n",
        "                                    aggfunc='count', fill_value=0\n",
        "                                    ).reset_index()\n",
        "table_24_1['battle_crash'] = table_24_1['battle_start'] - \\\n",
        "                              table_24_1['battle_win'] - \\\n",
        "                              table_24_1['battle_loss'] - \\\n",
        "                              table_24_1['battle_backtrack']\n",
        "table_24_2 = df_levels[(df_levels['event_name'\n",
        "                    ] == 'battle_win') &\n",
        "                     (df_levels['24_hour'\n",
        "                    ] == 1)\n",
        "                    ].pivot_table(index='uid', \n",
        "                                 aggfunc={'event_name': 'count',\n",
        "                                          'churn':'mean'}\n",
        "                                ).reset_index().sort_values(by='event_name', \n",
        "                                                            ascending=False)\n",
        "table_24_2 = table_24_2.rename(columns={'event_name': 'max_level'})\n",
        "table_24 = pd.merge(table_24_1, table_24_2, how='inner', on='uid')\n",
        "table_24"
      ],
      "execution_count": null,
      "outputs": [
        {
          "output_type": "execute_result",
          "data": {
            "text/html": [
              "<div>\n",
              "<style scoped>\n",
              "    .dataframe tbody tr th:only-of-type {\n",
              "        vertical-align: middle;\n",
              "    }\n",
              "\n",
              "    .dataframe tbody tr th {\n",
              "        vertical-align: top;\n",
              "    }\n",
              "\n",
              "    .dataframe thead th {\n",
              "        text-align: right;\n",
              "    }\n",
              "</style>\n",
              "<table border=\"1\" class=\"dataframe\">\n",
              "  <thead>\n",
              "    <tr style=\"text-align: right;\">\n",
              "      <th></th>\n",
              "      <th>uid</th>\n",
              "      <th>battle_backtrack</th>\n",
              "      <th>battle_loss</th>\n",
              "      <th>battle_start</th>\n",
              "      <th>battle_win</th>\n",
              "      <th>battle_crash</th>\n",
              "      <th>churn</th>\n",
              "      <th>max_level</th>\n",
              "    </tr>\n",
              "  </thead>\n",
              "  <tbody>\n",
              "    <tr>\n",
              "      <th>0</th>\n",
              "      <td>000c51e7-db50-4f30-95d6-462be3a2a5d3</td>\n",
              "      <td>0</td>\n",
              "      <td>0</td>\n",
              "      <td>5</td>\n",
              "      <td>5</td>\n",
              "      <td>0</td>\n",
              "      <td>0</td>\n",
              "      <td>5</td>\n",
              "    </tr>\n",
              "    <tr>\n",
              "      <th>1</th>\n",
              "      <td>0018f5d2-d883-4ad2-9b96-29028069ee81</td>\n",
              "      <td>0</td>\n",
              "      <td>11</td>\n",
              "      <td>54</td>\n",
              "      <td>43</td>\n",
              "      <td>0</td>\n",
              "      <td>1</td>\n",
              "      <td>43</td>\n",
              "    </tr>\n",
              "    <tr>\n",
              "      <th>2</th>\n",
              "      <td>00431e7e-d833-47c9-aae9-7ce21652902f</td>\n",
              "      <td>0</td>\n",
              "      <td>0</td>\n",
              "      <td>4</td>\n",
              "      <td>4</td>\n",
              "      <td>0</td>\n",
              "      <td>0</td>\n",
              "      <td>4</td>\n",
              "    </tr>\n",
              "    <tr>\n",
              "      <th>3</th>\n",
              "      <td>0060a2dd-18d8-4122-96ca-92ae699a1a52</td>\n",
              "      <td>0</td>\n",
              "      <td>38</td>\n",
              "      <td>98</td>\n",
              "      <td>57</td>\n",
              "      <td>3</td>\n",
              "      <td>1</td>\n",
              "      <td>57</td>\n",
              "    </tr>\n",
              "    <tr>\n",
              "      <th>4</th>\n",
              "      <td>0063c814-edef-4d88-b866-f39ac440c538</td>\n",
              "      <td>0</td>\n",
              "      <td>0</td>\n",
              "      <td>4</td>\n",
              "      <td>4</td>\n",
              "      <td>0</td>\n",
              "      <td>1</td>\n",
              "      <td>4</td>\n",
              "    </tr>\n",
              "    <tr>\n",
              "      <th>...</th>\n",
              "      <td>...</td>\n",
              "      <td>...</td>\n",
              "      <td>...</td>\n",
              "      <td>...</td>\n",
              "      <td>...</td>\n",
              "      <td>...</td>\n",
              "      <td>...</td>\n",
              "      <td>...</td>\n",
              "    </tr>\n",
              "    <tr>\n",
              "      <th>2684</th>\n",
              "      <td>ff958cbb-bd1a-4f53-a545-79ea2fba993e</td>\n",
              "      <td>0</td>\n",
              "      <td>0</td>\n",
              "      <td>14</td>\n",
              "      <td>12</td>\n",
              "      <td>2</td>\n",
              "      <td>0</td>\n",
              "      <td>12</td>\n",
              "    </tr>\n",
              "    <tr>\n",
              "      <th>2685</th>\n",
              "      <td>ff96e64e-8ebf-48e3-8d52-78f247468068</td>\n",
              "      <td>0</td>\n",
              "      <td>12</td>\n",
              "      <td>38</td>\n",
              "      <td>24</td>\n",
              "      <td>2</td>\n",
              "      <td>1</td>\n",
              "      <td>24</td>\n",
              "    </tr>\n",
              "    <tr>\n",
              "      <th>2686</th>\n",
              "      <td>ffc552f6-b662-4b62-bf3b-188cf5c23760</td>\n",
              "      <td>0</td>\n",
              "      <td>0</td>\n",
              "      <td>4</td>\n",
              "      <td>4</td>\n",
              "      <td>0</td>\n",
              "      <td>0</td>\n",
              "      <td>4</td>\n",
              "    </tr>\n",
              "    <tr>\n",
              "      <th>2687</th>\n",
              "      <td>ffdb1aaf-6c57-4fb7-a3a9-da40857f9cf8</td>\n",
              "      <td>0</td>\n",
              "      <td>0</td>\n",
              "      <td>5</td>\n",
              "      <td>4</td>\n",
              "      <td>1</td>\n",
              "      <td>1</td>\n",
              "      <td>4</td>\n",
              "    </tr>\n",
              "    <tr>\n",
              "      <th>2688</th>\n",
              "      <td>ffeac949-b24f-48cf-936f-2ffc117b8da2</td>\n",
              "      <td>0</td>\n",
              "      <td>2</td>\n",
              "      <td>19</td>\n",
              "      <td>15</td>\n",
              "      <td>2</td>\n",
              "      <td>1</td>\n",
              "      <td>15</td>\n",
              "    </tr>\n",
              "  </tbody>\n",
              "</table>\n",
              "<p>2689 rows × 8 columns</p>\n",
              "</div>"
            ],
            "text/plain": [
              "                                       uid  battle_backtrack  ...  churn  max_level\n",
              "0     000c51e7-db50-4f30-95d6-462be3a2a5d3                 0  ...      0          5\n",
              "1     0018f5d2-d883-4ad2-9b96-29028069ee81                 0  ...      1         43\n",
              "2     00431e7e-d833-47c9-aae9-7ce21652902f                 0  ...      0          4\n",
              "3     0060a2dd-18d8-4122-96ca-92ae699a1a52                 0  ...      1         57\n",
              "4     0063c814-edef-4d88-b866-f39ac440c538                 0  ...      1          4\n",
              "...                                    ...               ...  ...    ...        ...\n",
              "2684  ff958cbb-bd1a-4f53-a545-79ea2fba993e                 0  ...      0         12\n",
              "2685  ff96e64e-8ebf-48e3-8d52-78f247468068                 0  ...      1         24\n",
              "2686  ffc552f6-b662-4b62-bf3b-188cf5c23760                 0  ...      0          4\n",
              "2687  ffdb1aaf-6c57-4fb7-a3a9-da40857f9cf8                 0  ...      1          4\n",
              "2688  ffeac949-b24f-48cf-936f-2ffc117b8da2                 0  ...      1         15\n",
              "\n",
              "[2689 rows x 8 columns]"
            ]
          },
          "metadata": {},
          "execution_count": 70
        }
      ]
    },
    {
      "cell_type": "code",
      "metadata": {
        "id": "IS8zxiy1Vlam",
        "colab": {
          "base_uri": "https://localhost:8080/"
        },
        "outputId": "a41c111c-aa2b-41be-a4c2-e144bb841036"
      },
      "source": [
        "table_3 = table_all[table_all['24_hour'] == 2]\n",
        "table_3['max_level'] = table_3['battle_win']\n",
        "table_3.head(1)"
      ],
      "execution_count": null,
      "outputs": [
        {
          "output_type": "execute_result",
          "data": {
            "text/html": [
              "<div>\n",
              "<style scoped>\n",
              "    .dataframe tbody tr th:only-of-type {\n",
              "        vertical-align: middle;\n",
              "    }\n",
              "\n",
              "    .dataframe tbody tr th {\n",
              "        vertical-align: top;\n",
              "    }\n",
              "\n",
              "    .dataframe thead th {\n",
              "        text-align: right;\n",
              "    }\n",
              "</style>\n",
              "<table border=\"1\" class=\"dataframe\">\n",
              "  <thead>\n",
              "    <tr style=\"text-align: right;\">\n",
              "      <th></th>\n",
              "      <th>uid</th>\n",
              "      <th>battle_backtrack</th>\n",
              "      <th>battle_loss</th>\n",
              "      <th>battle_start</th>\n",
              "      <th>battle_win</th>\n",
              "      <th>battle_crash</th>\n",
              "      <th>24_hour</th>\n",
              "      <th>churn</th>\n",
              "      <th>count_event</th>\n",
              "      <th>max_level</th>\n",
              "    </tr>\n",
              "  </thead>\n",
              "  <tbody>\n",
              "    <tr>\n",
              "      <th>1</th>\n",
              "      <td>0018f5d2-d883-4ad2-9b96-29028069ee81</td>\n",
              "      <td>0</td>\n",
              "      <td>31</td>\n",
              "      <td>149</td>\n",
              "      <td>126</td>\n",
              "      <td>-8</td>\n",
              "      <td>2</td>\n",
              "      <td>1</td>\n",
              "      <td>126</td>\n",
              "      <td>126</td>\n",
              "    </tr>\n",
              "  </tbody>\n",
              "</table>\n",
              "</div>"
            ],
            "text/plain": [
              "                                    uid  ...  max_level\n",
              "1  0018f5d2-d883-4ad2-9b96-29028069ee81  ...        126\n",
              "\n",
              "[1 rows x 10 columns]"
            ]
          },
          "metadata": {},
          "execution_count": 71
        }
      ]
    },
    {
      "cell_type": "markdown",
      "metadata": {
        "id": "BQ_LjBA-vx7A"
      },
      "source": [
        "В данных возник выброс в виде того, что есть пользователи, у которых количество пройденных, проигранных и запущенных игр не равно друг другу. В данных таблицах это записывалась как краш игры. Но есть пользователи, где он отрицательный. Посмотрим на распределение получившегося столбца."
      ]
    },
    {
      "cell_type": "code",
      "metadata": {
        "id": "fRyomewxwMuF",
        "colab": {
          "base_uri": "https://localhost:8080/"
        },
        "outputId": "d39afe4d-d664-424c-f264-7b6acae20397"
      },
      "source": [
        "px.box(table_all, y='battle_crash', x='churn')"
      ],
      "execution_count": null,
      "outputs": [
        {
          "output_type": "display_data",
          "data": {
            "text/html": [
              "<html>\n",
              "<head><meta charset=\"utf-8\" /></head>\n",
              "<body>\n",
              "    <div>            <script src=\"https://cdnjs.cloudflare.com/ajax/libs/mathjax/2.7.5/MathJax.js?config=TeX-AMS-MML_SVG\"></script><script type=\"text/javascript\">if (window.MathJax) {MathJax.Hub.Config({SVG: {font: \"STIX-Web\"}});}</script>                <script type=\"text/javascript\">window.PlotlyConfig = {MathJaxConfig: 'local'};</script>\n",
              "        <script src=\"https://cdn.plot.ly/plotly-2.3.1.min.js\"></script>                <div id=\"389db531-da11-4475-9a68-3d5c2a1b44f9\" class=\"plotly-graph-div\" style=\"height:525px; width:100%;\"></div>            <script type=\"text/javascript\">                                    window.PLOTLYENV=window.PLOTLYENV || {};                                    if (document.getElementById(\"389db531-da11-4475-9a68-3d5c2a1b44f9\")) {                    Plotly.newPlot(                        \"389db531-da11-4475-9a68-3d5c2a1b44f9\",                        [{\"alignmentgroup\":\"True\",\"hovertemplate\":\"churn=%{x}<br>battle_crash=%{y}<extra></extra>\",\"legendgroup\":\"\",\"marker\":{\"color\":\"#636efa\"},\"name\":\"\",\"notched\":false,\"offsetgroup\":\"\",\"orientation\":\"v\",\"showlegend\":false,\"type\":\"box\",\"x\":[0,1,0,1,1,0,1,1,0,0,1,1,1,1,0,0,1,1,0,1,1,1,1,1,1,1,0,1,0,0,1,0,1,0,1,1,0,0,0,1,1,0,1,0,1,1,1,0,1,0,0,1,1,1,1,0,0,0,0,1,0,0,1,0,1,0,1,0,0,0,0,1,0,0,1,1,1,1,1,1,0,0,0,1,1,1,0,0,1,0,1,0,1,1,0,0,1,1,1,0,1,1,0,0,0,0,1,0,1,1,0,0,0,0,0,1,1,1,1,0,0,1,0,1,1,1,1,1,0,1,1,1,0,1,1,0,0,1,1,1,0,1,1,0,0,1,0,0,1,1,1,1,1,1,1,0,0,0,1,0,0,1,1,0,1,1,1,1,0,1,0,0,1,0,0,1,0,0,0,0,0,0,1,1,1,1,0,0,0,0,1,0,1,0,0,1,1,1,1,1,0,1,0,0,1,1,1,1,0,1,1,0,0,1,1,0,1,1,0,0,0,1,0,1,1,0,0,0,0,0,1,1,0,0,0,0,0,0,1,1,0,1,1,1,1,1,0,1,1,0,1,1,1,1,0,0,0,0,1,1,0,1,1,0,1,0,1,1,0,1,0,0,1,0,0,0,0,1,0,0,0,1,0,1,0,1,1,0,0,0,1,0,0,0,0,0,1,1,1,0,1,1,1,1,0,1,0,0,1,1,1,1,1,1,1,1,1,0,1,1,0,0,1,1,1,0,0,1,1,1,1,0,0,1,0,1,0,0,1,1,1,1,1,1,1,1,0,0,0,1,0,0,0,0,0,0,0,1,1,0,1,0,1,0,1,1,0,0,1,1,1,1,0,1,0,0,1,0,1,1,0,0,1,1,0,1,0,1,1,1,1,0,1,1,1,1,1,1,0,1,0,1,1,0,1,1,1,0,1,1,1,1,1,1,1,1,0,0,0,0,0,0,0,1,1,1,0,1,0,0,0,0,1,0,1,0,0,0,1,1,1,1,0,1,0,1,1,0,0,1,1,0,1,1,0,1,0,1,1,0,0,0,0,0,1,1,1,1,0,1,0,1,1,1,0,1,0,0,1,0,1,0,0,0,1,1,0,1,0,1,1,1,0,0,0,0,1,0,1,1,1,1,1,0,1,1,0,0,0,0,1,0,1,0,0,0,1,1,0,1,1,0,0,0,1,1,1,1,0,0,0,0,1,0,1,1,1,1,1,1,1,1,1,1,0,1,1,1,1,1,0,1,0,0,1,1,0,1,1,1,1,1,1,0,0,1,1,1,0,1,1,1,1,1,1,0,1,0,0,1,1,0,1,0,1,1,1,1,1,0,0,1,0,0,1,0,0,0,0,1,0,1,0,0,1,0,1,1,0,1,0,0,0,0,0,1,1,0,1,1,0,1,0,1,0,0,0,0,0,0,1,0,1,0,0,1,0,0,1,1,1,1,1,0,0,1,0,1,0,0,0,0,0,1,0,1,1,1,1,0,0,1,0,1,0,1,1,1,1,0,0,1,0,1,0,1,0,0,0,0,0,1,1,1,1,0,0,1,0,1,1,1,1,0,1,1,1,1,1,0,1,0,1,1,1,0,1,0,1,1,1,1,0,1,1,1,0,1,0,1,1,0,0,1,0,1,0,1,0,0,1,1,0,0,1,1,1,1,1,0,1,0,0,0,0,0,0,0,0,1,0,1,1,0,0,0,1,0,1,0,1,0,0,1,0,1,1,0,1,0,1,0,1,1,0,1,1,0,1,0,1,1,1,0,0,1,0,1,1,1,1,1,1,1,1,1,1,0,1,0,0,1,1,1,1,1,0,1,1,1,1,0,0,0,1,0,0,0,0,0,1,0,0,1,1,1,0,1,1,1,1,0,1,1,1,1,1,1,0,1,0,0,0,1,1,0,1,0,0,1,0,0,1,0,0,1,0,1,0,1,1,1,0,0,1,0,0,1,0,0,1,1,0,1,1,0,1,1,0,1,0,1,0,0,0,0,1,1,0,1,1,1,1,0,1,1,1,0,1,1,0,0,1,0,0,0,1,0,0,1,1,1,0,1,1,1,0,0,1,1,0,0,1,1,1,1,1,1,0,1,0,0,0,1,1,1,0,1,0,0,1,1,1,0,0,0,1,1,0,1,0,0,1,0,0,0,0,1,1,0,1,1,0,0,1,1,1,1,1,1,1,0,0,1,0,0,0,1,1,0,1,0,0,1,0,1,1,0,1,1,1,0,0,1,0,0,0,1,1,1,1,1,1,0,1,1,1,1,0,0,0,1,0,1,1,1,1,1,0,1,1,1,1,0,1,1,1,1,1,0,1,0,1,0,0,0,1,1,1,1,1,0,1,1,0,1,1,1,1,1,1,1,1,1,1,1,1,1,0,0,1,1,0,1,1,0,0,1,1,0,1,0,0,1,1,0,0,0,1,1,1,1,0,0,1,0,0,1,1,0,1,0,1,0,1,1,1,0,0,0,1,1,0,1,0,0,1,0,0,0,1,0,1,0,1,0,0,1,1,1,0,0,1,1,1,0,0,1,1,0,1,0,0,1,1,1,0,0,0,1,1,1,0,0,0,0,1,1,0,1,0,0,1,1,1,1,1,0,1,0,1,0,1,0,0,1,1,1,0,1,1,0,1,0,1,1,0,1,1,0,0,1,0,0,1,0,1,0,0,0,0,1,1,0,1,0,1,1,0,1,1,0,1,1,1,0,1,0,0,1,1,0,1,0,1,1,0,0,1,1,1,1,1,0,0,0,0,0,0,1,0,1,0,1,0,0,1,0,0,1,0,0,1,0,1,1,0,1,1,1,0,1,1,0,1,1,0,1,0,0,0,1,1,0,0,0,0,1,0,1,0,1,1,1,0,1,0,1,0,0,0,0,1,0,1,1,1,1,0,0,0,1,0,0,0,1,1,1,1,0,0,1,1,1,1,0,0,1,1,0,1,1,1,1,0,0,1,1,1,0,1,0,0,1,0,0,0,0,0,1,0,1,0,1,0,0,1,1,1,1,0,0,1,0,1,1,1,1,0,1,0,0,0,0,1,0,1,0,0,1,0,1,0,1,1,1,1,0,0,1,0,0,0,0,1,0,1,1,0,1,0,1,1,0,0,0,0,0,1,0,1,1,0,0,0,1,0,1,0,0,0,1,0,0,1,1,0,1,0,0,1,1,0,1,1,0,1,0,0,0,1,0,0,1,0,0,1,0,0,1,1,0,1,0,1,0,1,0,0,0,1,0,1,0,0,1,1,1,0,0,1,1,1,0,1,0,1,0,0,1,0,0,1,1,0,1,1,1,0,1,0,1,0,1,0,0,0,1,0,0,1,0,1,1,0,0,0,0,0,1,0,1,1,0,0,0,0,1,0,1,0,0,0,0,1,0,0,1,1,1,0,1,1,1,0,1,1,0,0,0,1,0,1,0,0,1,1,1,0,1,1,1,1,0,0,1,0,0,1,1,0,1,0,0,1,0,1,0,1,0,0,0,1,0,1,1,1,1,0,0,1,1,0,1,0,1,1,1,1,0,1,1,1,0,0,0,0,1,0,1,0,0,0,1,1,1,1,1,1,1,0,0,1,1,0,0,0,1,1,1,1,1,1,1,0,1,0,0,1,1,1,1,0,1,0,0,1,1,0,0,1,1,1,0,1,0,1,1,0,1,1,1,0,0,1,1,1,1,1,0,0,0,1,0,1,1,1,1,1,0,1,0,1,1,1,0,1,1,1,1,1,0,1,1,1,0,0,1,0,0,1,1,1,1,0,0,0,1,1,0,0,1,0,1,0,1,0,0,1,0,0,0,1,0,1,0,1,0,0,1,0,1,1,0,1,1,0,1,0,0,0,0,1,0,1,0,1,1,0,1,1,1,1,0,0,0,1,0,1,0,1,1,1,0,0,1,1,1,0,1,1,1,1,1,1,0,0,1,0,0,0,0,0,0,0,0,0,1,1,0,1,1,1,0,1,1,1,1,1,1,1,1,0,0,0,0,0,1,1,1,0,0,1,0,1,0,0,1,0,1,1,0,1,0,0,1,0,1,1,0,0,1,1,1,0,0,0,0,0,0,0,0,0,1,1,0,1,1,0,1,1,1,1,1,0,0,1,1,1,0,1,1,0,0,0,1,0,1,1,0,1,0,1,1,0,0,1,1,0,0,1,1,0,1,1,1,1,1,1,0,0,1,0,0,0,0,1,0,0,1,1,0,0,1,1,0,0,1,0,1,0,1,0,0,1,1,1,0,1,0,1,1,0,1,1,1,0,1,1,0,0,1,1,1,1,1,1,1,1,1,0,0,1,1,1,0,1,0,0,0,0,0,0,0,1,1,1,1,1,1,1,1,1,0,0,1,1,1,1,1,0,1,1,1,1,0,1,1,1,0,1,0,1,1,1,1,0,1,1,1,0,0,0,1,0,1,1,1,1,1,0,1,1,1,0,0,1,0,0,0,1,0,1,0,0,1,1,1,1,1,1,0,1,0,0,0,1,0,1,1,1,0,1,1,1,0,1,1,0,0,1,1,0,1,0,0,0,0,1,0,1,0,1,1,0,1,1,1,1,1,1,1,0,0,1,0,1,0,1,1,1,1,0,1,0,0,1,1,1,1,0,0,0,1,0,0,0,1,0,1,1,1,1,1,0,1,0,1,0,1,0,1,1,1,1,0,0,1,1,1,1,1,0,0,1,0,1,1,1,0,1,0,0,0,0,1,1,1,1,0,1,0,0,0,0,0,0,0,1,1,1,0,1,0,0,1,0,1,1,0,1,1,0,0,0,0,0,1,0,0,0,0,0,0,1,0,0,0,0,1,1,0,1,0,0,1,0,0,1,1,1,1,0,0,1,0,1,0,1,0,1,0,1,0,0,0,0,1,0,0,0,0,1,0,1,0,0,0,1,0,1,0,1,1,1,1,0,1,1,1,1,1,0,0,1,1,1,0,0,0,0,1,1,1,0,0,0,0,0,1,0,0,1,0,1,0,0,1,1,0,0,0,0,0,1,0,1,0,0,0,1,0,1,0,1,1,1,0,1,0,1,0,0,0,0,0,1,1,1,1,1,0,1,1,0,1,0,1,0,1,1,0,1,0,0,0,1,1,0,0,0,1,1,1,1,0,1,1,0,1,1,1,1,1,1,0,1,0,0,1,1,1,1,0,0,1,1,1,1,1,0,1,0,1,1,1,1,0,1,0,1,0,1,1,1,0,1,0,1,1,1,0,1,1,0,1,1,1,1,1,1,0,1,1,0,1,1,1,0,1,0,0,0,1,0,1,1,1,0,1,0,1,0,1,1,0,0,0,0,1,1,1,1,0,1,1,0,1,1,1,1,0,0,1,1,0,0,1,1,1,1,0,1,1,0,1,1,0,0,1,0,0,1,0,0,1,0,1,1,1,1,1,1,1,0,0,1,0,1,0,1,0,0,1,1,0,1,0,0,0,1,0,0,0,1,0,0,1,1,1,1,1,0,1,1,1,0,0,1,0,0,0,1,0,1,0,1,1,0,0,0,1,0,0,1,0,0,0,1,0,1,0,0,1,0,1,0,1,0,0,0,1,0,1,1,0,1,0,0,1,0,1,0,1,0,0,1,1,1,0,0,0,1,0,1,1,1,0,0,0,0,0,0,0,1,0,1,0,1,1,0,0,0,0,1,0,0,1,0,1,0,1,0,1,1,1,1,1,1,0,0,0,0,0,0,0,0,1,0,1,1,1,1,0,0,0,0,1,1,1,1,0,1,0,0,0,1,0,0,1,1,0,0,1,0,0,0,0,0,0,1,1,1,0,0,1,1,0,0,0,1,1,0,1,1,1,1,1,0,1,1,0,1,1,0,1,1,0,1,0,0,1,0,0,1,0,1,0,1,1,0,0,0,1,0,1,1,0,1,1,1,1,1,1,1,1,1,1,0,1,0,1,0,1,1,0,0,1,1,0,1,1,1,1,1,1,0,0,0,1,1,1,0,1,1,1,0,1,1,0,0,0,1,1,1,0,0,1,0,0,0,1,0,1,1,0,1,1,0,1,1,0,1,0,1,1,0,1,1,0,0,1,1,0,1,1,1,0,0,0,0,1,1,0,1,1,1,1,0,0,0,0,0,0,0,0,0,1,0,1,0,1,1],\"x0\":\" \",\"xaxis\":\"x\",\"y\":[0,-8,0,10,0,0,2,1,0,0,1,3,-5,-2,1,0,-40,2,1,2,-8,-2,1,4,1,-3,1,1,1,0,0,0,29,1,3,5,0,1,0,1,21,0,3,0,0,7,60,1,5,1,2,10,1,12,3,0,0,0,1,-2,1,2,1,0,24,0,0,1,0,0,1,3,0,0,15,0,0,5,2,6,1,0,2,1,1,3,1,0,4,0,1,0,3,8,2,0,11,-8,2,1,1,2,0,0,0,0,3,0,0,0,0,0,1,2,2,1,1,3,5,3,1,1,0,0,1,1,1,2,0,0,2,0,2,4,1,0,0,9,0,12,0,-18,3,0,0,12,0,0,2,1,0,2,2,-15,3,1,0,0,2,0,0,8,2,0,2,1,1,0,0,-11,1,2,0,0,0,5,1,0,1,1,0,0,1,6,1,2,3,0,0,1,9,0,3,0,0,4,7,2,5,4,0,-3,2,1,1,0,11,0,0,0,2,0,0,3,7,0,26,5,0,0,1,1,0,3,1,0,0,1,0,0,2,4,0,0,0,0,1,0,2,10,1,4,6,2,0,-4,0,2,-19,0,3,3,0,0,3,0,0,1,0,-3,0,33,-3,1,6,1,4,-9,0,2,1,0,-1,2,0,1,0,9,1,1,1,2,0,5,0,2,3,1,0,0,26,1,1,0,1,2,0,4,3,1,5,28,1,-10,1,2,0,1,7,1,0,14,2,4,-5,5,20,0,1,0,1,0,2,5,1,0,1,2,3,4,0,0,0,1,0,1,1,0,2,-3,3,-1,1,5,9,151,1,0,1,1,1,0,1,0,1,1,0,13,5,0,61,0,3,0,0,2,0,1,3,1,-1,4,0,4,0,0,7,0,34,0,0,0,3,0,0,3,1,6,6,1,-4,0,12,3,2,-2,1,3,0,0,1,0,22,0,12,0,0,0,1,2,1,1,3,6,24,1,0,1,1,0,0,3,2,1,20,16,0,5,3,1,1,0,7,0,2,0,1,0,18,-2,2,-10,1,1,1,5,1,0,1,0,23,1,-15,1,0,15,0,-14,0,0,0,1,1,0,13,3,10,3,0,4,0,8,2,1,0,5,1,1,2,0,1,0,0,0,11,-8,1,-12,0,2,-1,12,0,0,1,0,0,-1,2,7,2,0,4,0,9,0,0,0,0,0,3,0,4,0,0,0,5,10,1,20,4,0,0,0,5,3,13,4,0,0,0,1,2,2,2,7,1,50,2,3,9,16,1,-20,0,4,5,-8,2,1,1,1,0,1,9,0,2,4,3,1,-2,2,-2,0,0,2,2,7,0,1,5,1,7,7,0,0,0,1,1,1,1,0,-18,1,1,2,1,9,3,0,1,7,1,0,1,4,1,0,0,7,0,7,0,0,4,0,1,1,0,-6,0,0,0,1,1,4,2,0,5,27,0,3,0,0,0,1,1,1,0,0,0,1,18,0,2,1,0,1,2,14,1,23,-21,0,0,0,1,1,0,0,0,0,0,9,3,0,1,-8,1,1,0,8,0,2,3,-18,1,1,9,1,1,15,0,4,2,-22,1,-1,2,0,1,6,5,6,4,2,0,-1,1,2,1,9,1,0,1,9,7,1,5,0,2,0,3,17,35,1,0,0,7,0,7,13,0,2,0,2,0,1,1,6,2,0,0,0,0,2,2,-1,0,0,45,7,0,1,21,-14,4,7,2,0,3,1,0,0,1,1,0,3,0,0,0,4,2,1,0,1,2,1,1,0,0,0,1,3,0,4,3,1,9,0,1,-1,0,4,0,1,2,0,6,2,13,28,4,0,1,6,0,2,1,9,1,0,6,0,1,0,8,0,2,0,1,3,16,3,3,1,0,-15,3,0,-1,1,1,0,18,0,0,1,0,1,15,0,0,0,53,1,0,0,1,-18,6,0,15,4,0,0,2,1,5,-13,0,0,0,4,8,0,0,0,0,-2,0,0,-8,1,0,5,0,-10,1,1,2,1,1,2,1,0,1,35,0,0,2,21,0,8,1,0,6,20,0,6,1,2,0,0,1,0,4,6,1,3,1,3,2,0,7,4,0,2,0,43,1,0,0,0,1,2,0,0,1,6,10,2,1,0,1,0,0,0,2,3,0,1,-2,2,-5,2,3,-14,0,2,1,1,1,0,-5,12,0,0,0,0,1,2,0,0,0,0,1,3,0,2,0,1,2,1,2,0,0,3,12,0,6,1,0,0,12,3,-4,7,-9,4,3,0,0,8,1,0,0,1,1,0,8,0,1,0,1,1,0,0,3,0,13,0,1,14,1,1,0,1,2,-12,1,-22,0,0,3,2,3,17,1,0,0,-1,0,1,0,-11,7,4,2,-1,1,5,5,0,39,2,0,6,2,1,2,0,20,1,1,1,7,2,0,16,2,0,2,0,0,1,3,14,5,1,17,2,5,1,1,5,0,1,1,1,6,1,1,11,1,1,0,3,-3,1,9,1,0,3,-8,0,1,1,10,4,7,11,0,0,-6,0,0,-2,0,1,4,0,28,1,9,4,0,0,1,1,1,3,1,0,0,0,1,1,0,3,2,0,1,1,0,1,2,8,8,4,0,0,3,3,3,0,0,6,3,1,13,0,1,4,12,1,1,1,1,5,9,1,0,1,0,1,3,0,1,3,0,0,0,8,21,6,6,1,11,1,0,1,-10,1,0,2,6,19,-1,1,3,0,-12,0,2,0,0,3,2,0,0,1,2,0,2,0,4,0,0,2,1,0,1,0,3,0,5,30,0,2,0,1,6,1,4,1,0,0,3,16,4,0,1,0,4,6,1,1,5,2,3,-3,0,0,0,0,0,0,0,1,0,7,0,4,0,0,-4,0,0,1,0,1,7,1,6,8,1,2,18,0,0,2,3,0,2,0,2,3,0,1,0,8,1,1,0,2,1,-3,0,1,0,-13,3,11,1,3,0,-13,0,1,0,0,21,1,1,-6,5,3,0,0,0,1,2,1,0,3,13,1,8,0,0,5,6,6,0,0,0,0,-1,2,0,2,2,6,0,0,4,1,0,2,2,0,1,-12,0,1,0,2,0,6,1,0,0,0,0,0,7,2,1,6,0,0,3,0,1,3,3,0,1,16,1,0,0,0,27,1,3,1,0,2,0,7,2,4,0,8,1,0,1,-2,0,0,0,0,0,0,2,3,1,2,1,2,7,1,0,0,0,0,5,0,3,6,1,0,0,2,1,0,2,0,1,13,2,0,3,21,0,5,1,0,1,0,1,3,9,1,0,0,1,0,1,0,0,5,0,0,-15,3,0,1,34,0,3,0,5,0,3,3,0,0,1,0,13,0,0,11,13,15,1,0,4,7,7,0,-10,0,10,0,1,-19,1,0,1,1,0,6,2,10,0,4,0,3,0,1,0,0,0,5,0,1,0,0,1,3,1,0,1,0,0,2,0,0,0,1,0,0,0,1,0,0,0,0,1,1,0,0,0,10,4,3,0,2,3,3,0,2,10,0,0,0,0,2,2,0,0,1,-6,-7,1,13,0,9,0,0,1,2,0,0,6,6,0,8,0,0,2,0,3,0,0,0,0,0,2,1,0,2,11,0,0,1,1,4,0,1,2,2,0,5,2,0,10,2,7,0,2,0,2,1,1,0,1,0,0,1,1,-11,15,11,9,-8,2,1,0,0,0,0,1,-8,1,0,9,1,3,1,1,1,1,0,12,3,1,6,2,-4,0,0,4,1,1,1,1,0,2,0,0,5,18,1,0,1,19,1,0,0,-5,0,0,0,1,0,0,0,1,0,1,0,19,-9,0,1,5,0,7,1,1,0,1,-24,1,9,1,1,19,1,2,0,1,3,0,1,14,-3,2,3,0,0,-1,1,0,0,0,-10,0,1,0,3,1,0,-10,1,0,0,1,1,4,3,31,0,0,4,0,3,-5,0,2,0,1,1,1,0,1,0,1,0,0,1,7,1,0,2,7,8,0,1,0,0,3,0,2,1,2,2,7,1,0,2,-2,7,0,3,0,1,-1,7,6,0,0,4,0,1,1,2,0,0,2,0,0,0,3,0,44,2,12,0,1,1,18,0,13,-19,6,6,3,2,2,0,0,-14,7,2,0,0,1,2,0,2,0,4,0,4,4,1,7,0,0,1,0,2,7,1,0,1,0,-16,0,0,0,1,0,0,0,0,0,3,24,1,-17,1,0,1,7,1,12,-12,0,0,-5,8,2,0,12,14,0,1,0,-18,0,6,4,2,10,1,4,0,0,1,2,1,0,0,27,4,1,8,3,2,5,2,5,1,0,0,0,0,2,0,-4,0,1,8,3,0,0,1,3,1,1,17,1,2,0,1,0,0,1,1,-1,0,-23,0,0,0,0,8,0,2,1,1,0,0,1,1,1,12,3,2,4,-19,3,2,1,0,2,9,2,0,3,0,0,0,0,0,1,0,0,4,3,3,0,2,5,2,2,1,0,5,28,1,9,1,0,-5,-4,3,32,0,2,3,27,0,3,1,0,3,-9,1,0,2,-25,6,1,0,0,3,0,6,1,-29,10,1,0,4,8,4,0,1,-18,0,0,1,6,0,0,0,0,8,1,-3,7,3,-6,0,13,0,0,0,2,2,0,2,36,0,10,0,1,0,6,17,0,1,5,2,1,15,0,0,2,1,0,0,0,0,1,4,0,4,4,5,2,3,10,6,0,0,14,1,8,0,-9,7,0,4,0,3,0,1,3,0,27,8,0,3,0,4,1,0,0,1,0,1,-9,1,-17,2,1,11,0,3,0,3,0,5,31,0,1,0,1,6,1,-2,11,-16,0,0,4,1,7,3,3,0,-21,0,1,1,0,2,22,6,4,0,0,1,1,0,1,1,0,0,4,5,2,0,9,1,0,6,1,0,1,0,1,40,0,0,0,3,1,2,0,0,1,1,1,0,4,0,2,0,2,5,4,1,16,0,0,2,1,0,0,1,0,8,0,1,12,2,0,1,3,1,4,3,1,0,0,0,2,4,0,1,0,0,14,0,2,4,0,0,2,1,1,1,-6,1,5,0,0,0,13,-3,2,-10,0,1,1,14,10,0,1,0,1,1,1,-5,0,0,1,0,0,0,0,0,3,1,4,0,1,1,0,0,0,0,0,0,3,1,7,0,0,2,6,0,0,1,37,14,1,0,19,0,10,1,0,0,0,0,2,0,0,9,-23,0,2,1,0,5,1,0,0,3,3,0,1,0,1,1,-2,3,0,2,0,3,0,7,5,1,4,1,0,10,1,1,3,38,2,0,0,0,0,6,5,0,-2,0,0,1,56,6,1,1,1,0,0,2,-11,0,3,1,0,0,-9,0,17,2,5,0,9,0,6,-16,1,1,2,0,0,1,3,8,6,3,1,0,0,3,0,38,188,2,0,-2,0,3,1,40,2,0,0,0,0,1,0,0,0,7,2,0,1,4,2,3,1,1,3,1,1,2,0,6,9,0,19,1,0,6,4,0,0,-14,2,1,1,3,0,10,0,1,11,0,1,20,0,0,16,0,-1,1,0,3,0,1,2,2,1,0,1,0,7,0,11,0,0,0,0,2,2,0,-3,0,0,0,2,1,1,0,5,2,2,0,18,2,1,2,0,2,-15,1,1,0,2,0,0,0,-2,0,71,1,174,6,0,0,0,1,1,1,11,0,0,4,1,0,2,0,0,2,0,0,1,10,1,1,0,2,2,1,3,1,9,0,0,2,1,2,0,4,0,0,38,-6,-1,0,1,1,2,1,4,0,20,0,1,0,0,1,0,0,1,0,4,0,1,3,0,1,-1,0,3,0,1,-2,2,1,0,1,0,1,7,14,5,4,8,1,0,1,0,0,1,0,1,-2,2,-10,12,7,5,1,0,1,3,4,2,1,7,0,4,0,1,0,5,1,1,5,0,0,0,1,1,1,1,1,0,0,1,-22,3,0,0,0,-1,0,0,0,0,3,1,3,1,1,5,2,0,1,2,1,4,0,0,3,4,0,5,2,1,2,1,1,6,0,5,0,9,4,1,1,1,0,0,1,5,0,3,8,1,13,9,5,-4,5,2,0,0,6,1,-7,0,2,1,0,-1,3,1,1,29,-9,2,0,1,1,2,0,0,31,1,22,0,3,-9,45,0,-4,4,0,1,0,3,4,2,1,0,2,1,0,0,1,0,2,7,0,1,1,0,1,2,1,-3,0,4,19,0,1,13,0,0,2,-27,0,0,1,4,1,0,1,1,4,0,1,3,6,0,1,0,2,2,0,0,0,0,0,1,5,2,12,0,3,1],\"y0\":\" \",\"yaxis\":\"y\"}],                        {\"boxmode\":\"group\",\"legend\":{\"tracegroupgap\":0},\"margin\":{\"t\":60},\"template\":{\"data\":{\"bar\":[{\"error_x\":{\"color\":\"#2a3f5f\"},\"error_y\":{\"color\":\"#2a3f5f\"},\"marker\":{\"line\":{\"color\":\"#E5ECF6\",\"width\":0.5},\"pattern\":{\"fillmode\":\"overlay\",\"size\":10,\"solidity\":0.2}},\"type\":\"bar\"}],\"barpolar\":[{\"marker\":{\"line\":{\"color\":\"#E5ECF6\",\"width\":0.5},\"pattern\":{\"fillmode\":\"overlay\",\"size\":10,\"solidity\":0.2}},\"type\":\"barpolar\"}],\"carpet\":[{\"aaxis\":{\"endlinecolor\":\"#2a3f5f\",\"gridcolor\":\"white\",\"linecolor\":\"white\",\"minorgridcolor\":\"white\",\"startlinecolor\":\"#2a3f5f\"},\"baxis\":{\"endlinecolor\":\"#2a3f5f\",\"gridcolor\":\"white\",\"linecolor\":\"white\",\"minorgridcolor\":\"white\",\"startlinecolor\":\"#2a3f5f\"},\"type\":\"carpet\"}],\"choropleth\":[{\"colorbar\":{\"outlinewidth\":0,\"ticks\":\"\"},\"type\":\"choropleth\"}],\"contour\":[{\"colorbar\":{\"outlinewidth\":0,\"ticks\":\"\"},\"colorscale\":[[0.0,\"#0d0887\"],[0.1111111111111111,\"#46039f\"],[0.2222222222222222,\"#7201a8\"],[0.3333333333333333,\"#9c179e\"],[0.4444444444444444,\"#bd3786\"],[0.5555555555555556,\"#d8576b\"],[0.6666666666666666,\"#ed7953\"],[0.7777777777777778,\"#fb9f3a\"],[0.8888888888888888,\"#fdca26\"],[1.0,\"#f0f921\"]],\"type\":\"contour\"}],\"contourcarpet\":[{\"colorbar\":{\"outlinewidth\":0,\"ticks\":\"\"},\"type\":\"contourcarpet\"}],\"heatmap\":[{\"colorbar\":{\"outlinewidth\":0,\"ticks\":\"\"},\"colorscale\":[[0.0,\"#0d0887\"],[0.1111111111111111,\"#46039f\"],[0.2222222222222222,\"#7201a8\"],[0.3333333333333333,\"#9c179e\"],[0.4444444444444444,\"#bd3786\"],[0.5555555555555556,\"#d8576b\"],[0.6666666666666666,\"#ed7953\"],[0.7777777777777778,\"#fb9f3a\"],[0.8888888888888888,\"#fdca26\"],[1.0,\"#f0f921\"]],\"type\":\"heatmap\"}],\"heatmapgl\":[{\"colorbar\":{\"outlinewidth\":0,\"ticks\":\"\"},\"colorscale\":[[0.0,\"#0d0887\"],[0.1111111111111111,\"#46039f\"],[0.2222222222222222,\"#7201a8\"],[0.3333333333333333,\"#9c179e\"],[0.4444444444444444,\"#bd3786\"],[0.5555555555555556,\"#d8576b\"],[0.6666666666666666,\"#ed7953\"],[0.7777777777777778,\"#fb9f3a\"],[0.8888888888888888,\"#fdca26\"],[1.0,\"#f0f921\"]],\"type\":\"heatmapgl\"}],\"histogram\":[{\"marker\":{\"pattern\":{\"fillmode\":\"overlay\",\"size\":10,\"solidity\":0.2}},\"type\":\"histogram\"}],\"histogram2d\":[{\"colorbar\":{\"outlinewidth\":0,\"ticks\":\"\"},\"colorscale\":[[0.0,\"#0d0887\"],[0.1111111111111111,\"#46039f\"],[0.2222222222222222,\"#7201a8\"],[0.3333333333333333,\"#9c179e\"],[0.4444444444444444,\"#bd3786\"],[0.5555555555555556,\"#d8576b\"],[0.6666666666666666,\"#ed7953\"],[0.7777777777777778,\"#fb9f3a\"],[0.8888888888888888,\"#fdca26\"],[1.0,\"#f0f921\"]],\"type\":\"histogram2d\"}],\"histogram2dcontour\":[{\"colorbar\":{\"outlinewidth\":0,\"ticks\":\"\"},\"colorscale\":[[0.0,\"#0d0887\"],[0.1111111111111111,\"#46039f\"],[0.2222222222222222,\"#7201a8\"],[0.3333333333333333,\"#9c179e\"],[0.4444444444444444,\"#bd3786\"],[0.5555555555555556,\"#d8576b\"],[0.6666666666666666,\"#ed7953\"],[0.7777777777777778,\"#fb9f3a\"],[0.8888888888888888,\"#fdca26\"],[1.0,\"#f0f921\"]],\"type\":\"histogram2dcontour\"}],\"mesh3d\":[{\"colorbar\":{\"outlinewidth\":0,\"ticks\":\"\"},\"type\":\"mesh3d\"}],\"parcoords\":[{\"line\":{\"colorbar\":{\"outlinewidth\":0,\"ticks\":\"\"}},\"type\":\"parcoords\"}],\"pie\":[{\"automargin\":true,\"type\":\"pie\"}],\"scatter\":[{\"marker\":{\"colorbar\":{\"outlinewidth\":0,\"ticks\":\"\"}},\"type\":\"scatter\"}],\"scatter3d\":[{\"line\":{\"colorbar\":{\"outlinewidth\":0,\"ticks\":\"\"}},\"marker\":{\"colorbar\":{\"outlinewidth\":0,\"ticks\":\"\"}},\"type\":\"scatter3d\"}],\"scattercarpet\":[{\"marker\":{\"colorbar\":{\"outlinewidth\":0,\"ticks\":\"\"}},\"type\":\"scattercarpet\"}],\"scattergeo\":[{\"marker\":{\"colorbar\":{\"outlinewidth\":0,\"ticks\":\"\"}},\"type\":\"scattergeo\"}],\"scattergl\":[{\"marker\":{\"colorbar\":{\"outlinewidth\":0,\"ticks\":\"\"}},\"type\":\"scattergl\"}],\"scattermapbox\":[{\"marker\":{\"colorbar\":{\"outlinewidth\":0,\"ticks\":\"\"}},\"type\":\"scattermapbox\"}],\"scatterpolar\":[{\"marker\":{\"colorbar\":{\"outlinewidth\":0,\"ticks\":\"\"}},\"type\":\"scatterpolar\"}],\"scatterpolargl\":[{\"marker\":{\"colorbar\":{\"outlinewidth\":0,\"ticks\":\"\"}},\"type\":\"scatterpolargl\"}],\"scatterternary\":[{\"marker\":{\"colorbar\":{\"outlinewidth\":0,\"ticks\":\"\"}},\"type\":\"scatterternary\"}],\"surface\":[{\"colorbar\":{\"outlinewidth\":0,\"ticks\":\"\"},\"colorscale\":[[0.0,\"#0d0887\"],[0.1111111111111111,\"#46039f\"],[0.2222222222222222,\"#7201a8\"],[0.3333333333333333,\"#9c179e\"],[0.4444444444444444,\"#bd3786\"],[0.5555555555555556,\"#d8576b\"],[0.6666666666666666,\"#ed7953\"],[0.7777777777777778,\"#fb9f3a\"],[0.8888888888888888,\"#fdca26\"],[1.0,\"#f0f921\"]],\"type\":\"surface\"}],\"table\":[{\"cells\":{\"fill\":{\"color\":\"#EBF0F8\"},\"line\":{\"color\":\"white\"}},\"header\":{\"fill\":{\"color\":\"#C8D4E3\"},\"line\":{\"color\":\"white\"}},\"type\":\"table\"}]},\"layout\":{\"annotationdefaults\":{\"arrowcolor\":\"#2a3f5f\",\"arrowhead\":0,\"arrowwidth\":1},\"autotypenumbers\":\"strict\",\"coloraxis\":{\"colorbar\":{\"outlinewidth\":0,\"ticks\":\"\"}},\"colorscale\":{\"diverging\":[[0,\"#8e0152\"],[0.1,\"#c51b7d\"],[0.2,\"#de77ae\"],[0.3,\"#f1b6da\"],[0.4,\"#fde0ef\"],[0.5,\"#f7f7f7\"],[0.6,\"#e6f5d0\"],[0.7,\"#b8e186\"],[0.8,\"#7fbc41\"],[0.9,\"#4d9221\"],[1,\"#276419\"]],\"sequential\":[[0.0,\"#0d0887\"],[0.1111111111111111,\"#46039f\"],[0.2222222222222222,\"#7201a8\"],[0.3333333333333333,\"#9c179e\"],[0.4444444444444444,\"#bd3786\"],[0.5555555555555556,\"#d8576b\"],[0.6666666666666666,\"#ed7953\"],[0.7777777777777778,\"#fb9f3a\"],[0.8888888888888888,\"#fdca26\"],[1.0,\"#f0f921\"]],\"sequentialminus\":[[0.0,\"#0d0887\"],[0.1111111111111111,\"#46039f\"],[0.2222222222222222,\"#7201a8\"],[0.3333333333333333,\"#9c179e\"],[0.4444444444444444,\"#bd3786\"],[0.5555555555555556,\"#d8576b\"],[0.6666666666666666,\"#ed7953\"],[0.7777777777777778,\"#fb9f3a\"],[0.8888888888888888,\"#fdca26\"],[1.0,\"#f0f921\"]]},\"colorway\":[\"#636efa\",\"#EF553B\",\"#00cc96\",\"#ab63fa\",\"#FFA15A\",\"#19d3f3\",\"#FF6692\",\"#B6E880\",\"#FF97FF\",\"#FECB52\"],\"font\":{\"color\":\"#2a3f5f\"},\"geo\":{\"bgcolor\":\"white\",\"lakecolor\":\"white\",\"landcolor\":\"#E5ECF6\",\"showlakes\":true,\"showland\":true,\"subunitcolor\":\"white\"},\"hoverlabel\":{\"align\":\"left\"},\"hovermode\":\"closest\",\"mapbox\":{\"style\":\"light\"},\"paper_bgcolor\":\"white\",\"plot_bgcolor\":\"#E5ECF6\",\"polar\":{\"angularaxis\":{\"gridcolor\":\"white\",\"linecolor\":\"white\",\"ticks\":\"\"},\"bgcolor\":\"#E5ECF6\",\"radialaxis\":{\"gridcolor\":\"white\",\"linecolor\":\"white\",\"ticks\":\"\"}},\"scene\":{\"xaxis\":{\"backgroundcolor\":\"#E5ECF6\",\"gridcolor\":\"white\",\"gridwidth\":2,\"linecolor\":\"white\",\"showbackground\":true,\"ticks\":\"\",\"zerolinecolor\":\"white\"},\"yaxis\":{\"backgroundcolor\":\"#E5ECF6\",\"gridcolor\":\"white\",\"gridwidth\":2,\"linecolor\":\"white\",\"showbackground\":true,\"ticks\":\"\",\"zerolinecolor\":\"white\"},\"zaxis\":{\"backgroundcolor\":\"#E5ECF6\",\"gridcolor\":\"white\",\"gridwidth\":2,\"linecolor\":\"white\",\"showbackground\":true,\"ticks\":\"\",\"zerolinecolor\":\"white\"}},\"shapedefaults\":{\"line\":{\"color\":\"#2a3f5f\"}},\"ternary\":{\"aaxis\":{\"gridcolor\":\"white\",\"linecolor\":\"white\",\"ticks\":\"\"},\"baxis\":{\"gridcolor\":\"white\",\"linecolor\":\"white\",\"ticks\":\"\"},\"bgcolor\":\"#E5ECF6\",\"caxis\":{\"gridcolor\":\"white\",\"linecolor\":\"white\",\"ticks\":\"\"}},\"title\":{\"x\":0.05},\"xaxis\":{\"automargin\":true,\"gridcolor\":\"white\",\"linecolor\":\"white\",\"ticks\":\"\",\"title\":{\"standoff\":15},\"zerolinecolor\":\"white\",\"zerolinewidth\":2},\"yaxis\":{\"automargin\":true,\"gridcolor\":\"white\",\"linecolor\":\"white\",\"ticks\":\"\",\"title\":{\"standoff\":15},\"zerolinecolor\":\"white\",\"zerolinewidth\":2}}},\"xaxis\":{\"anchor\":\"y\",\"domain\":[0.0,1.0],\"title\":{\"text\":\"churn\"}},\"yaxis\":{\"anchor\":\"x\",\"domain\":[0.0,1.0],\"title\":{\"text\":\"battle_crash\"}}},                        {\"responsive\": true}                    ).then(function(){\n",
              "                            \n",
              "var gd = document.getElementById('389db531-da11-4475-9a68-3d5c2a1b44f9');\n",
              "var x = new MutationObserver(function (mutations, observer) {{\n",
              "        var display = window.getComputedStyle(gd).display;\n",
              "        if (!display || display === 'none') {{\n",
              "            console.log([gd, 'removed!']);\n",
              "            Plotly.purge(gd);\n",
              "            observer.disconnect();\n",
              "        }}\n",
              "}});\n",
              "\n",
              "// Listen for the removal of the full notebook cells\n",
              "var notebookContainer = gd.closest('#notebook-container');\n",
              "if (notebookContainer) {{\n",
              "    x.observe(notebookContainer, {childList: true});\n",
              "}}\n",
              "\n",
              "// Listen for the clearing of the current output cell\n",
              "var outputEl = gd.closest('.output');\n",
              "if (outputEl) {{\n",
              "    x.observe(outputEl, {childList: true});\n",
              "}}\n",
              "\n",
              "                        })                };                            </script>        </div>\n",
              "</body>\n",
              "</html>"
            ]
          },
          "metadata": {}
        }
      ]
    },
    {
      "cell_type": "markdown",
      "metadata": {
        "id": "hElXNf3gzPn2"
      },
      "source": [
        "**Интересный факт**\n",
        "Меньше 25% всех пользователей столкнулись с тем, что количество так называемых крашей игр, или случаев когда количество запусков игры не равняется сумме винов, лузов или того, что игрок сдался."
      ]
    },
    {
      "cell_type": "markdown",
      "metadata": {
        "id": "47lNDJJXvxw6"
      },
      "source": [
        "# **3. Связь отвала пользователей с номером максимального уровня, до которого они смогли добраться.**"
      ]
    },
    {
      "cell_type": "markdown",
      "metadata": {
        "id": "EFVhxxbADsA_"
      },
      "source": [
        "Построим полученный отвал пользователей для обеих групп, с указанием на 'churn' в виде цвета гистограммы."
      ]
    },
    {
      "cell_type": "code",
      "metadata": {
        "id": "CydApWdqsNEF",
        "colab": {
          "base_uri": "https://localhost:8080/"
        },
        "outputId": "10b280aa-8902-4ac4-973b-43d217be93ba"
      },
      "source": [
        "px.histogram(table_24[table_24['max_level'] <=100], x=\"max_level\", color='churn',\n",
        "            title='Рис.1 Гистограмма для пользователей, играющих только первые 24 часа', nbins=50)\n"
      ],
      "execution_count": null,
      "outputs": [
        {
          "output_type": "display_data",
          "data": {
            "text/html": [
              "<html>\n",
              "<head><meta charset=\"utf-8\" /></head>\n",
              "<body>\n",
              "    <div>            <script src=\"https://cdnjs.cloudflare.com/ajax/libs/mathjax/2.7.5/MathJax.js?config=TeX-AMS-MML_SVG\"></script><script type=\"text/javascript\">if (window.MathJax) {MathJax.Hub.Config({SVG: {font: \"STIX-Web\"}});}</script>                <script type=\"text/javascript\">window.PlotlyConfig = {MathJaxConfig: 'local'};</script>\n",
              "        <script src=\"https://cdn.plot.ly/plotly-2.3.1.min.js\"></script>                <div id=\"f79ea47b-3d7c-4cad-9607-43043fea4fa9\" class=\"plotly-graph-div\" style=\"height:525px; width:100%;\"></div>            <script type=\"text/javascript\">                                    window.PLOTLYENV=window.PLOTLYENV || {};                                    if (document.getElementById(\"f79ea47b-3d7c-4cad-9607-43043fea4fa9\")) {                    Plotly.newPlot(                        \"f79ea47b-3d7c-4cad-9607-43043fea4fa9\",                        [{\"alignmentgroup\":\"True\",\"bingroup\":\"x\",\"hovertemplate\":\"churn=0<br>max_level=%{x}<br>count=%{y}<extra></extra>\",\"legendgroup\":\"0\",\"marker\":{\"color\":\"#636efa\",\"pattern\":{\"shape\":\"\"}},\"name\":\"0\",\"nbinsx\":50,\"offsetgroup\":\"0\",\"orientation\":\"v\",\"showlegend\":true,\"type\":\"histogram\",\"x\":[5,4,2,11,5,13,3,13,22,1,9,3,2,9,39,6,3,10,9,28,11,16,12,1,3,14,3,13,7,4,10,6,3,2,14,3,1,18,15,11,1,8,14,6,26,6,2,1,10,6,5,4,3,31,6,23,10,6,17,28,2,14,6,1,1,7,11,30,6,32,15,20,4,10,2,22,19,7,40,4,6,2,8,43,50,12,11,16,1,8,20,9,22,18,3,1,14,4,14,11,14,8,6,1,14,14,2,24,2,1,7,9,31,9,22,4,17,4,15,7,5,1,6,1,2,1,15,2,14,9,19,13,28,3,9,10,17,6,10,6,1,15,28,47,36,1,4,9,15,16,1,23,2,2,8,10,4,27,4,13,7,4,15,6,1,15,17,1,13,5,1,15,4,9,2,1,3,9,11,16,11,17,10,2,5,4,11,16,1,3,28,27,1,28,11,15,1,8,1,3,19,15,14,11,19,19,11,1,2,15,31,20,5,14,17,15,26,6,10,6,26,2,16,5,3,3,1,9,20,5,11,11,5,15,11,16,11,4,26,1,16,1,2,14,41,9,4,4,2,2,11,21,1,1,14,4,14,1,7,22,15,28,7,11,49,14,14,2,1,22,6,9,5,5,15,4,28,4,9,5,2,1,30,16,6,5,1,7,5,40,15,14,15,1,1,22,1,3,10,2,52,35,4,3,17,10,6,12,36,14,36,3,3,16,28,1,14,7,4,1,22,3,13,9,15,11,24,7,21,18,1,9,1,1,3,1,1,30,15,7,49,1,2,28,3,15,13,6,3,10,3,14,18,24,2,4,19,5,19,1,9,12,14,4,19,10,10,2,1,8,2,10,3,2,25,1,38,4,22,3,3,10,19,13,16,19,4,7,15,34,19,19,15,1,2,9,1,10,10,9,6,3,11,9,18,13,7,2,1,50,25,10,14,15,5,1,1,1,1,15,3,6,3,32,7,3,3,6,7,30,3,28,13,10,1,13,3,3,6,2,3,2,4,7,1,15,28,10,35,2,16,10,1,3,28,5,4,9,36,15,1,37,19,2,2,13,20,6,2,57,9,2,15,2,20,5,28,15,5,30,14,13,6,1,23,9,4,14,23,5,8,14,21,24,4,13,1,15,7,38,1,17,28,7,13,6,26,1,2,14,2,5,14,3,12,15,14,32,39,15,22,8,6,2,2,12,19,1,6,5,4,19,39,2,12,1,16,28,3,36,1,19,9,5,9,4,4,4,14,1,3,6,11,3,2,12,3,2,4,13,3,9,40,4,3,4,11,21,24,36,25,4,6,4,10,2,15,1,36,5,2,9,32,14,5,17,3,5,12,46,4,1,6,5,10,4,8,5,14,9,14,2,5,7,16,8,17,22,10,2,1,13,31,6,4,13,15,14,14,4,13,2,4,5,23,26,1,15,14,2,2,14,1,2,11,7,27,9,16,16,13,5,28,7,6,7,2,2,14,1,1,2,11,28,15,7,4,10,12,1,8,2,9,11,14,1,5,4,46,22,22,14,6,13,1,20,12,22,1,2,26,11,14,28,1,10,16,1,40,41,1,1,2,9,7,22,4,5,4,4,1,13,2,1,28,15,21,14,10,1,2,10,1,22,12,9,11,5,9,7,2,8,7,1,22,7,14,24,2,37,14,18,5,8,8,4,1,10,3,10,3,9,9,29,13,1,4,1,22,26,7,10,3,13,2,45,16,5,15,15,4,5,3,19,1,8,9,8,1,1,5,2,1,26,1,1,3,38,17,19,10,3,36,3,15,15,3,11,10,10,15,4,4,4,22,8,3,10,6,1,15,19,5,38,17,18,28,20,10,2,2,22,39,14,1,5,1,3,4,14,21,9,10,15,11,7,3,1,3,14,11,15,5,32,19,19,10,9,1,1,11,14,1,7,15,11,27,2,8,19,1,5,13,10,1,14,6,49,12,7,27,2,7,3,15,3,11,10,7,27,14,16,15,12,14,13,12,11,7,2,2,14,9,24,5,7,6,11,16,1,15,5,5,1,11,6,4,7,19,9,14,19,12,1,2,16,15,2,10,18,5,12,2,15,31,7,13,19,15,6,2,6,2,6,14,5,1,7,14,5,22,2,3,3,25,12,25,3,15,1,7,18,1,14,22,3,9,22,1,19,4,16,14,1,23,40,19,7,2,19,4,16,1,3,5,14,57,2,14,23,7,17,19,2,14,51,3,8,6,8,2,4,2,2,1,32,13,1,18,7,5,1,46,2,23,7,2,1,6,2,8,15,4,6,3,54,1,15,6,10,5,4,6,1,8,5,7,22,6,15,4,2,7,22,35,10,5,4,14,18,15,14,11,28,14,2,2,2,1,7,19,21,5,3,14,15,1,14,5,10,2,14,1,3,14,7,10,18,16,7,2,2,1,15,18,2,5,4,2,22,6,26,14,4,16,9,22,19,26,28,4,22,2,12,10,18,18,13,3,5,2,1,16,11,14,12,3,5,21,17,1,3,7,25,13,19,1,37,8,5,39,11,4,4,12,14,14,1,9,3,16,12,5,3,43,20,4,1,10,3,28,14,14,15,14,2,34,12,17,6,5,4,4,14,12,6,5,14,1,28,1,2,18,2,2,9,7,2,3,9,1,2,14,10,1,1,3,2,28,1,6,23,28,4,8,13,7,11,24,13,31,21,1,9,14,15,26,7,5,4,4,5,40,2,1,22,2,10,1,2,31,10,15,1,2,10,9,1,9,23,6,9,2,18,8,13,15,3,5,13,8,13,1,9,2,15,1,18,11,1,2,1,8,2,16,18,3,1,5,1,5,3,1,9,10,7,3,1,12,6,2,3,16,12,4],\"xaxis\":\"x\",\"yaxis\":\"y\"},{\"alignmentgroup\":\"True\",\"bingroup\":\"x\",\"hovertemplate\":\"churn=1<br>max_level=%{x}<br>count=%{y}<extra></extra>\",\"legendgroup\":\"1\",\"marker\":{\"color\":\"#EF553B\",\"pattern\":{\"shape\":\"\"}},\"name\":\"1\",\"nbinsx\":50,\"offsetgroup\":\"1\",\"orientation\":\"v\",\"showlegend\":true,\"type\":\"histogram\",\"x\":[43,57,4,19,28,5,18,20,24,4,15,34,19,23,28,21,40,40,18,16,21,25,39,15,15,39,15,28,28,12,36,5,19,8,22,9,15,19,32,45,7,16,29,24,16,9,38,27,16,12,22,21,23,42,46,20,40,1,3,48,25,14,30,36,21,9,7,32,42,11,11,2,6,5,40,14,36,36,30,38,13,26,15,22,30,39,2,10,15,14,28,15,14,9,36,30,7,1,22,3,16,32,42,26,36,38,19,14,45,2,3,16,10,7,14,32,28,24,26,32,14,25,31,28,29,89,19,16,13,9,29,3,15,15,1,28,26,60,42,14,19,45,39,22,15,14,30,30,49,49,13,6,39,26,15,18,7,26,28,1,27,35,16,15,13,26,7,2,10,30,17,53,29,27,32,3,39,12,16,28,24,5,23,37,71,29,12,49,24,53,2,16,10,5,1,24,50,38,30,16,53,32,11,26,30,11,19,13,27,20,11,43,39,4,28,15,1,26,2,27,15,22,18,28,22,5,22,48,37,41,36,28,42,54,9,10,48,49,14,11,61,38,9,18,31,12,22,15,19,17,32,40,15,28,51,24,14,40,26,51,15,31,38,11,24,25,19,8,9,28,2,2,49,76,28,45,5,5,32,31,12,45,8,21,10,59,49,29,45,45,22,45,25,5,13,12,1,29,50,1,28,8,6,30,34,14,30,45,18,54,27,11,32,16,31,27,1,46,18,7,15,8,28,22,36,33,28,31,15,10,37,22,39,15,26,4,1,48,15,19,49,35,9,20,26,19,10,12,22,18,48,14,2,42,3,43,33,15,4,11,13,45,43,15,22,1,59,22,1,39,32,22,28,19,40,39,45,9,31,14,53,32,24,1,10,6,47,21,11,49,20,28,21,82,8,31,13,15,6,52,8,14,18,16,21,76,32,5,9,1,36,15,2,36,37,31,20,14,18,14,30,46,18,45,9,39,39,23,10,6,20,30,39,28,73,29,6,9,24,31,18,59,22,6,28,11,40,44,21,1,7,22,2,60,74,27,2,9,59,13,9,14,28,9,6,28,48,28,25,36,49,63,28,14,8,23,8,26,28,29,61,24,10,8,44,5,35,45,75,14,8,4,33,19,10,40,8,23,17,1,18,15,10,24,5,19,2,47,24,21,28,43,17,49,8,48,22,16,15,19,9,41,45,9,11,4,30,20,26,13,27,22,16,28,6,16,28,25,25,3,22,5,13,25,42,15,21,10,28,16,15,4,52,13,7,11,15,28,22,34,43,1,14,5,15,32,28,13,22,53,12,11,14,46,1,1,40,9,48,5,9,14,19,9,4,21,42,38,30,1,3,15,35,36,31,46,9,5,13,26,5,5,51,67,49,41,30,15,38,26,28,60,16,26,43,19,25,49,29,4,4,38,28,30,31,21,28,28,45,26,14,14,5,6,10,7,32,35,19,16,22,22,19,40,48,31,3,12,1,49,12,49,26,15,23,10,57,57,30,19,13,7,38,30,6,22,31,31,18,42,32,2,15,15,8,12,19,22,3,20,26,6,26,15,36,16,48,22,12,36,28,15,43,24,9,32,15,36,42,15,6,22,28,8,48,43,47,32,4,27,28,26,5,31,10,30,19,46,14,34,15,13,47,14,10,20,26,14,24,5,4,18,2,17,28,29,71,4,15,67,16,1,30,32,45,13,53,7,21,43,12,38,49,14,1,28,28,32,45,24,58,2,46,36,19,38,28,35,35,47,7,11,45,9,28,13,7,27,5,21,8,43,40,15,22,18,7,14,43,28,29,22,11,31,67,16,13,23,16,39,14,14,36,6,26,43,12,28,15,30,19,29,5,21,40,1,5,17,9,16,8,32,5,22,15,27,20,15,18,16,24,46,27,39,21,26,15,31,13,24,48,14,52,24,37,28,5,40,6,38,36,8,26,20,10,40,18,14,49,28,1,9,9,14,40,46,31,40,9,46,21,4,30,13,28,4,47,14,28,22,15,60,37,40,10,6,4,34,48,31,6,29,30,14,2,11,15,15,16,34,17,28,14,50,15,12,15,63,10,27,28,3,31,41,28,22,15,8,32,28,15,8,24,20,28,21,9,39,19,68,30,27,30,33,19,37,15,15,14,42,41,22,9,32,56,36,13,14,15,22,3,49,25,28,31,41,43,17,9,11,37,14,14,10,38,49,1,28,3,32,40,31,4,28,9,36,14,10,16,26,13,4,13,29,5,12,8,12,13,4,5,49,12,11,25,22,43,29,28,1,6,7,5,33,19,19,53,12,22,3,49,45,15,19,22,15,14,24,32,39,15,24,59,31,28,13,47,24,49,23,9,40,19,15,4,14,36,15,63,11,32,32,10,22,34,29,24,24,26,10,22,30,32,61,15,14,31,12,29,28,2,13,38,26,22,28,31,1,3,18,5,31,18,15,34,48,30,42,32,67,10,12,1,28,1,6,28,57,16,25,15,11,7,46,27,49,12,10,46,49,4,10,46,8,28,43,12,7,47,49,48,17,10,19,40,22,16,14,41,18,24,8,1,22,2,22,28,18,34,28,23,30,2,5,5,28,26,28,31,32,22,12,16,14,34,22,20,20,14,10,26,28,15,9,53,28,26,39,31,25,54,11,31,39,28,13,25,49,28,2,46,7,1,48,38,15,5,9,31,28,26,21,15,2,19,35,15,36,45,41,4,28,14,47,9,9,3,49,15,30,22,13,32,28,1,31,27,20,14,8,16,28,48,11,2,17,21,20,26,14,34,32,19,9,15,15,10,14,36,40,39,31,16,10,19,23,37,19,23,24,6,15,32,6,15,29,18,49,14,42,45,22,22,64,19,59,18,2,28,33,11,2,8,39,3,49,19,33,15,42,13,14,8,16,16,20,11,32,3,43,8,38,22,16,15,38,57,48,11,51,28,12,43,13,32,72,30,15,28,19,24,22,6,46,26,19,28,46,31,14,45,79,22,10,33,41,12,31,12,30,10,15,16,11,7,13,8,33,47,3,45,15,2,4,28,21,38,4,19,3,30,28,36,21,9,15,16,23,17,8,1,67,24,28,10,41,11,15,43,39,14,36,22,19,18,22,45,22,40,22,25,32,28,45,22,15,17,38,38,22,22,10,56,14,27,18,27,19,47,59,32,12,6,24,31,11,40,6,2,52,49,21,5,22,28,14,11,37,15,32,9,39,16,40,4,45,19,28,47,36,22,1,48,24,11,25,14,12,12,22,24,4,15],\"xaxis\":\"x\",\"yaxis\":\"y\"}],                        {\"barmode\":\"relative\",\"legend\":{\"title\":{\"text\":\"churn\"},\"tracegroupgap\":0},\"template\":{\"data\":{\"bar\":[{\"error_x\":{\"color\":\"#2a3f5f\"},\"error_y\":{\"color\":\"#2a3f5f\"},\"marker\":{\"line\":{\"color\":\"#E5ECF6\",\"width\":0.5},\"pattern\":{\"fillmode\":\"overlay\",\"size\":10,\"solidity\":0.2}},\"type\":\"bar\"}],\"barpolar\":[{\"marker\":{\"line\":{\"color\":\"#E5ECF6\",\"width\":0.5},\"pattern\":{\"fillmode\":\"overlay\",\"size\":10,\"solidity\":0.2}},\"type\":\"barpolar\"}],\"carpet\":[{\"aaxis\":{\"endlinecolor\":\"#2a3f5f\",\"gridcolor\":\"white\",\"linecolor\":\"white\",\"minorgridcolor\":\"white\",\"startlinecolor\":\"#2a3f5f\"},\"baxis\":{\"endlinecolor\":\"#2a3f5f\",\"gridcolor\":\"white\",\"linecolor\":\"white\",\"minorgridcolor\":\"white\",\"startlinecolor\":\"#2a3f5f\"},\"type\":\"carpet\"}],\"choropleth\":[{\"colorbar\":{\"outlinewidth\":0,\"ticks\":\"\"},\"type\":\"choropleth\"}],\"contour\":[{\"colorbar\":{\"outlinewidth\":0,\"ticks\":\"\"},\"colorscale\":[[0.0,\"#0d0887\"],[0.1111111111111111,\"#46039f\"],[0.2222222222222222,\"#7201a8\"],[0.3333333333333333,\"#9c179e\"],[0.4444444444444444,\"#bd3786\"],[0.5555555555555556,\"#d8576b\"],[0.6666666666666666,\"#ed7953\"],[0.7777777777777778,\"#fb9f3a\"],[0.8888888888888888,\"#fdca26\"],[1.0,\"#f0f921\"]],\"type\":\"contour\"}],\"contourcarpet\":[{\"colorbar\":{\"outlinewidth\":0,\"ticks\":\"\"},\"type\":\"contourcarpet\"}],\"heatmap\":[{\"colorbar\":{\"outlinewidth\":0,\"ticks\":\"\"},\"colorscale\":[[0.0,\"#0d0887\"],[0.1111111111111111,\"#46039f\"],[0.2222222222222222,\"#7201a8\"],[0.3333333333333333,\"#9c179e\"],[0.4444444444444444,\"#bd3786\"],[0.5555555555555556,\"#d8576b\"],[0.6666666666666666,\"#ed7953\"],[0.7777777777777778,\"#fb9f3a\"],[0.8888888888888888,\"#fdca26\"],[1.0,\"#f0f921\"]],\"type\":\"heatmap\"}],\"heatmapgl\":[{\"colorbar\":{\"outlinewidth\":0,\"ticks\":\"\"},\"colorscale\":[[0.0,\"#0d0887\"],[0.1111111111111111,\"#46039f\"],[0.2222222222222222,\"#7201a8\"],[0.3333333333333333,\"#9c179e\"],[0.4444444444444444,\"#bd3786\"],[0.5555555555555556,\"#d8576b\"],[0.6666666666666666,\"#ed7953\"],[0.7777777777777778,\"#fb9f3a\"],[0.8888888888888888,\"#fdca26\"],[1.0,\"#f0f921\"]],\"type\":\"heatmapgl\"}],\"histogram\":[{\"marker\":{\"pattern\":{\"fillmode\":\"overlay\",\"size\":10,\"solidity\":0.2}},\"type\":\"histogram\"}],\"histogram2d\":[{\"colorbar\":{\"outlinewidth\":0,\"ticks\":\"\"},\"colorscale\":[[0.0,\"#0d0887\"],[0.1111111111111111,\"#46039f\"],[0.2222222222222222,\"#7201a8\"],[0.3333333333333333,\"#9c179e\"],[0.4444444444444444,\"#bd3786\"],[0.5555555555555556,\"#d8576b\"],[0.6666666666666666,\"#ed7953\"],[0.7777777777777778,\"#fb9f3a\"],[0.8888888888888888,\"#fdca26\"],[1.0,\"#f0f921\"]],\"type\":\"histogram2d\"}],\"histogram2dcontour\":[{\"colorbar\":{\"outlinewidth\":0,\"ticks\":\"\"},\"colorscale\":[[0.0,\"#0d0887\"],[0.1111111111111111,\"#46039f\"],[0.2222222222222222,\"#7201a8\"],[0.3333333333333333,\"#9c179e\"],[0.4444444444444444,\"#bd3786\"],[0.5555555555555556,\"#d8576b\"],[0.6666666666666666,\"#ed7953\"],[0.7777777777777778,\"#fb9f3a\"],[0.8888888888888888,\"#fdca26\"],[1.0,\"#f0f921\"]],\"type\":\"histogram2dcontour\"}],\"mesh3d\":[{\"colorbar\":{\"outlinewidth\":0,\"ticks\":\"\"},\"type\":\"mesh3d\"}],\"parcoords\":[{\"line\":{\"colorbar\":{\"outlinewidth\":0,\"ticks\":\"\"}},\"type\":\"parcoords\"}],\"pie\":[{\"automargin\":true,\"type\":\"pie\"}],\"scatter\":[{\"marker\":{\"colorbar\":{\"outlinewidth\":0,\"ticks\":\"\"}},\"type\":\"scatter\"}],\"scatter3d\":[{\"line\":{\"colorbar\":{\"outlinewidth\":0,\"ticks\":\"\"}},\"marker\":{\"colorbar\":{\"outlinewidth\":0,\"ticks\":\"\"}},\"type\":\"scatter3d\"}],\"scattercarpet\":[{\"marker\":{\"colorbar\":{\"outlinewidth\":0,\"ticks\":\"\"}},\"type\":\"scattercarpet\"}],\"scattergeo\":[{\"marker\":{\"colorbar\":{\"outlinewidth\":0,\"ticks\":\"\"}},\"type\":\"scattergeo\"}],\"scattergl\":[{\"marker\":{\"colorbar\":{\"outlinewidth\":0,\"ticks\":\"\"}},\"type\":\"scattergl\"}],\"scattermapbox\":[{\"marker\":{\"colorbar\":{\"outlinewidth\":0,\"ticks\":\"\"}},\"type\":\"scattermapbox\"}],\"scatterpolar\":[{\"marker\":{\"colorbar\":{\"outlinewidth\":0,\"ticks\":\"\"}},\"type\":\"scatterpolar\"}],\"scatterpolargl\":[{\"marker\":{\"colorbar\":{\"outlinewidth\":0,\"ticks\":\"\"}},\"type\":\"scatterpolargl\"}],\"scatterternary\":[{\"marker\":{\"colorbar\":{\"outlinewidth\":0,\"ticks\":\"\"}},\"type\":\"scatterternary\"}],\"surface\":[{\"colorbar\":{\"outlinewidth\":0,\"ticks\":\"\"},\"colorscale\":[[0.0,\"#0d0887\"],[0.1111111111111111,\"#46039f\"],[0.2222222222222222,\"#7201a8\"],[0.3333333333333333,\"#9c179e\"],[0.4444444444444444,\"#bd3786\"],[0.5555555555555556,\"#d8576b\"],[0.6666666666666666,\"#ed7953\"],[0.7777777777777778,\"#fb9f3a\"],[0.8888888888888888,\"#fdca26\"],[1.0,\"#f0f921\"]],\"type\":\"surface\"}],\"table\":[{\"cells\":{\"fill\":{\"color\":\"#EBF0F8\"},\"line\":{\"color\":\"white\"}},\"header\":{\"fill\":{\"color\":\"#C8D4E3\"},\"line\":{\"color\":\"white\"}},\"type\":\"table\"}]},\"layout\":{\"annotationdefaults\":{\"arrowcolor\":\"#2a3f5f\",\"arrowhead\":0,\"arrowwidth\":1},\"autotypenumbers\":\"strict\",\"coloraxis\":{\"colorbar\":{\"outlinewidth\":0,\"ticks\":\"\"}},\"colorscale\":{\"diverging\":[[0,\"#8e0152\"],[0.1,\"#c51b7d\"],[0.2,\"#de77ae\"],[0.3,\"#f1b6da\"],[0.4,\"#fde0ef\"],[0.5,\"#f7f7f7\"],[0.6,\"#e6f5d0\"],[0.7,\"#b8e186\"],[0.8,\"#7fbc41\"],[0.9,\"#4d9221\"],[1,\"#276419\"]],\"sequential\":[[0.0,\"#0d0887\"],[0.1111111111111111,\"#46039f\"],[0.2222222222222222,\"#7201a8\"],[0.3333333333333333,\"#9c179e\"],[0.4444444444444444,\"#bd3786\"],[0.5555555555555556,\"#d8576b\"],[0.6666666666666666,\"#ed7953\"],[0.7777777777777778,\"#fb9f3a\"],[0.8888888888888888,\"#fdca26\"],[1.0,\"#f0f921\"]],\"sequentialminus\":[[0.0,\"#0d0887\"],[0.1111111111111111,\"#46039f\"],[0.2222222222222222,\"#7201a8\"],[0.3333333333333333,\"#9c179e\"],[0.4444444444444444,\"#bd3786\"],[0.5555555555555556,\"#d8576b\"],[0.6666666666666666,\"#ed7953\"],[0.7777777777777778,\"#fb9f3a\"],[0.8888888888888888,\"#fdca26\"],[1.0,\"#f0f921\"]]},\"colorway\":[\"#636efa\",\"#EF553B\",\"#00cc96\",\"#ab63fa\",\"#FFA15A\",\"#19d3f3\",\"#FF6692\",\"#B6E880\",\"#FF97FF\",\"#FECB52\"],\"font\":{\"color\":\"#2a3f5f\"},\"geo\":{\"bgcolor\":\"white\",\"lakecolor\":\"white\",\"landcolor\":\"#E5ECF6\",\"showlakes\":true,\"showland\":true,\"subunitcolor\":\"white\"},\"hoverlabel\":{\"align\":\"left\"},\"hovermode\":\"closest\",\"mapbox\":{\"style\":\"light\"},\"paper_bgcolor\":\"white\",\"plot_bgcolor\":\"#E5ECF6\",\"polar\":{\"angularaxis\":{\"gridcolor\":\"white\",\"linecolor\":\"white\",\"ticks\":\"\"},\"bgcolor\":\"#E5ECF6\",\"radialaxis\":{\"gridcolor\":\"white\",\"linecolor\":\"white\",\"ticks\":\"\"}},\"scene\":{\"xaxis\":{\"backgroundcolor\":\"#E5ECF6\",\"gridcolor\":\"white\",\"gridwidth\":2,\"linecolor\":\"white\",\"showbackground\":true,\"ticks\":\"\",\"zerolinecolor\":\"white\"},\"yaxis\":{\"backgroundcolor\":\"#E5ECF6\",\"gridcolor\":\"white\",\"gridwidth\":2,\"linecolor\":\"white\",\"showbackground\":true,\"ticks\":\"\",\"zerolinecolor\":\"white\"},\"zaxis\":{\"backgroundcolor\":\"#E5ECF6\",\"gridcolor\":\"white\",\"gridwidth\":2,\"linecolor\":\"white\",\"showbackground\":true,\"ticks\":\"\",\"zerolinecolor\":\"white\"}},\"shapedefaults\":{\"line\":{\"color\":\"#2a3f5f\"}},\"ternary\":{\"aaxis\":{\"gridcolor\":\"white\",\"linecolor\":\"white\",\"ticks\":\"\"},\"baxis\":{\"gridcolor\":\"white\",\"linecolor\":\"white\",\"ticks\":\"\"},\"bgcolor\":\"#E5ECF6\",\"caxis\":{\"gridcolor\":\"white\",\"linecolor\":\"white\",\"ticks\":\"\"}},\"title\":{\"x\":0.05},\"xaxis\":{\"automargin\":true,\"gridcolor\":\"white\",\"linecolor\":\"white\",\"ticks\":\"\",\"title\":{\"standoff\":15},\"zerolinecolor\":\"white\",\"zerolinewidth\":2},\"yaxis\":{\"automargin\":true,\"gridcolor\":\"white\",\"linecolor\":\"white\",\"ticks\":\"\",\"title\":{\"standoff\":15},\"zerolinecolor\":\"white\",\"zerolinewidth\":2}}},\"title\":{\"text\":\"\\u0420\\u0438\\u0441.1 \\u0413\\u0438\\u0441\\u0442\\u043e\\u0433\\u0440\\u0430\\u043c\\u043c\\u0430 \\u0434\\u043b\\u044f \\u043f\\u043e\\u043b\\u044c\\u0437\\u043e\\u0432\\u0430\\u0442\\u0435\\u043b\\u0435\\u0439, \\u0438\\u0433\\u0440\\u0430\\u044e\\u0449\\u0438\\u0445 \\u0442\\u043e\\u043b\\u044c\\u043a\\u043e \\u043f\\u0435\\u0440\\u0432\\u044b\\u0435 24 \\u0447\\u0430\\u0441\\u0430\"},\"xaxis\":{\"anchor\":\"y\",\"domain\":[0.0,1.0],\"title\":{\"text\":\"max_level\"}},\"yaxis\":{\"anchor\":\"x\",\"domain\":[0.0,1.0],\"title\":{\"text\":\"count\"}}},                        {\"responsive\": true}                    ).then(function(){\n",
              "                            \n",
              "var gd = document.getElementById('f79ea47b-3d7c-4cad-9607-43043fea4fa9');\n",
              "var x = new MutationObserver(function (mutations, observer) {{\n",
              "        var display = window.getComputedStyle(gd).display;\n",
              "        if (!display || display === 'none') {{\n",
              "            console.log([gd, 'removed!']);\n",
              "            Plotly.purge(gd);\n",
              "            observer.disconnect();\n",
              "        }}\n",
              "}});\n",
              "\n",
              "// Listen for the removal of the full notebook cells\n",
              "var notebookContainer = gd.closest('#notebook-container');\n",
              "if (notebookContainer) {{\n",
              "    x.observe(notebookContainer, {childList: true});\n",
              "}}\n",
              "\n",
              "// Listen for the clearing of the current output cell\n",
              "var outputEl = gd.closest('.output');\n",
              "if (outputEl) {{\n",
              "    x.observe(outputEl, {childList: true});\n",
              "}}\n",
              "\n",
              "                        })                };                            </script>        </div>\n",
              "</body>\n",
              "</html>"
            ]
          },
          "metadata": {}
        }
      ]
    },
    {
      "cell_type": "code",
      "metadata": {
        "id": "4SVpAL6FToLg",
        "colab": {
          "base_uri": "https://localhost:8080/"
        },
        "outputId": "182881b7-6633-4e79-fe49-d0fffcf48837"
      },
      "source": [
        "px.histogram(table_3[table_3['max_level'] <= 100], x=\"max_level\", color='churn',\n",
        "            title='Рис.2 Гистограмма для пользователей, играющих 1-3 дня', nbins=50)"
      ],
      "execution_count": null,
      "outputs": [
        {
          "output_type": "display_data",
          "data": {
            "text/html": [
              "<html>\n",
              "<head><meta charset=\"utf-8\" /></head>\n",
              "<body>\n",
              "    <div>            <script src=\"https://cdnjs.cloudflare.com/ajax/libs/mathjax/2.7.5/MathJax.js?config=TeX-AMS-MML_SVG\"></script><script type=\"text/javascript\">if (window.MathJax) {MathJax.Hub.Config({SVG: {font: \"STIX-Web\"}});}</script>                <script type=\"text/javascript\">window.PlotlyConfig = {MathJaxConfig: 'local'};</script>\n",
              "        <script src=\"https://cdn.plot.ly/plotly-2.3.1.min.js\"></script>                <div id=\"0b08f0ec-0e8a-44a3-b0cd-ee39e13f956e\" class=\"plotly-graph-div\" style=\"height:525px; width:100%;\"></div>            <script type=\"text/javascript\">                                    window.PLOTLYENV=window.PLOTLYENV || {};                                    if (document.getElementById(\"0b08f0ec-0e8a-44a3-b0cd-ee39e13f956e\")) {                    Plotly.newPlot(                        \"0b08f0ec-0e8a-44a3-b0cd-ee39e13f956e\",                        [{\"alignmentgroup\":\"True\",\"bingroup\":\"x\",\"hovertemplate\":\"churn=1<br>max_level=%{x}<br>count=%{y}<extra></extra>\",\"legendgroup\":\"1\",\"marker\":{\"color\":\"#636efa\",\"pattern\":{\"shape\":\"\"}},\"name\":\"1\",\"nbinsx\":50,\"offsetgroup\":\"1\",\"orientation\":\"v\",\"showlegend\":true,\"type\":\"histogram\",\"x\":[93,10,26,49,40,47,83,52,26,47,50,42,49,37,62,27,22,55,30,47,21,57,48,49,72,68,49,35,28,95,43,2,25,63,28,19,46,37,18,72,79,39,48,59,32,49,3,6,51,33,37,49,82,27,22,76,49,49,3,13,49,50,89,56,82,14,42,24,49,80,3,13,65,51,37,31,15,15,32,14,32,40,4,45,45,67,31,45,40,32,16,81,5,49,18,30,37,57,66,35,79,6,15,49,45,46,35,48,67,10,23,32,51,6,16,28,1,46,32,40,42,47,16,45,27,69,31,42,46,11,58,30,67,18,24,3,15,34,46,60,39,38,36,15,24,65,48,48,12,27,76,30,34,76,76,29,13,7,9,43,52,49,49,79,10,45,21,36,39,47,51,38,49,43,55,39,5,31,28,23,40,80,6,57,75,76,31,84,55,59,95,15,92,32,21,84,53,71,27,36,48,16,75,39,28,48,40,33,47,19,40,88,28,14,31,49,3,28,73,56,53,8,14,40,49,60,48,15,57,24,63,38,49,26,39,34,67,23,5,32,5,38,51,12,29,31,47,46,75,19,93,30,34,31,13,47,58,33,26,13,68,32,40,39,29,65,60,2,12,34,39,46,57,60,10,35,19,6,90,22,28,60,14,15,97,40,43,11,73,67,72,27,28,17,35,4,39,83,24,97,22,46,100,74,10,95,36,7,13,49,47,23,59,64,88,37,53,15,16,57,31,27,22,20,22,40,46,15,2,45,6,38,45,40,23,37,22,49,41,56,10,49,69,73,23,14,68,36,43,87,40,16,36,27,79,24,25,28,83,47,14,40,14,31,15,28,71,57,90,43,53,98,53,21,32,36,39,31,60,66,75,49,28,12,40,12,28,34,32,2,72,69,81,42,27,11,37,1,53,63,42,51,49,31,42,53,38,38,98,82,37,41,40,13,57,11,15,19,82,84,31,56,45,39,78,49,75,29,36,36,53,17,43,45,14,76,69,21,34,14,31,43,7,54,59,59,22,46,53,27,25,45,43,17,44,30,21,32,12,67,11,54,46,36,85,41,58,66,100,35,18,37,17,49,32,22,83,38,10,15,49,11,7,82,60,48,49,26,56,45,36,90,87,29,73,48,28,54,13,85,46,79,56,92,51,46,99,15,16,76,36,18,63,38,23,14,37,69,46,4,23,6,63,56,79,40,24,35,68,67,31,91,17,15,47,32,26,31,48,49,30,45,25,58,73,31,22,32,22,93,34,28,45,86,49,32,49,36,76,75,24,57,40,46,27,14,94,22,62,73,99,11,31,41,14,40,15,36,43,49,19,59,49,32,53,25,30,39,72,40,42,22,3,32,49,43,11,16,30,10,49,37,86,25,67,11,26,56,13,41,67,82,39,39,67,28,60,47,89,30,89,39,67,81,12,15,12,32,15,8,45,22,22,11,56,49,19,1,29,47,8,51,49,48,28,43,47,91,22,18,26,49,19,59,13,46,76,57,19,69,26,36,10,22,51,15,34,17,19,17,68,18,27,18,76,22,26,22,81,95,56,49,78,31,16,18,76,15,53,7,49,53,24,63,42,51,43,19,47,30,11,14,24,36,57,74,11,16,21,52,93,4,13,64,30,21,19,51,47,11,7,59,60,67,14,24,42,36,32,53,76,22,38,29,13,33,56,33,66,13,16,75,68,50,34,87,68,32,52,35,13,49,39,19,23,12,22,92,41,84,40,49,78,47,14,42,15,67,58,24,16,47,60,50,96,51,96,27,55,55,51,63,10,84,62,51,15,88,99,6,66,64,35,30,68,37,28,6,30,28,23,11,51,31,33,14,18,60,11,67,15,15,32,47,37,32,14,22,90,49,22,30,60,76,4,53,39,21,55,61,28,38,93,30,49,13,55,31,59,27,32,70,23,28,53,45,67,26,49,25,28,51,35,97,46,75,45,39,85,26,22,66,18,49,3,34,46,59,45,5,22,40,49,64,38,52,42,55,63,49,66,72,88,31,5,49,5,14,21,28,26,39,9,30,62,36,48,49,5,22,48,24,65,89,100,67,65,49,47,29,36,46,29,35,3,3,96,38,28,76,48,28,31,6,8,80,72,61,23,45,66,27,50,28,75,35,43,11,28,61,62,30,81,39,32,66,40,29,36,45,19,30,67,15,19,49,72,14,11,36,56,28,36,39,37,67,46,22,45,20,53,22,15,51,48,23,73,36,13,36,93,31,9,23,55,68,16,46,15,49,79,75,52,12,46,82,52,42,11,36,24,100,9,30,28,17,38,30,59,16,49,79,42,32,63,2,38,62,12,17,4,70,16,71,16,45,24,28,40,63,4,67,10,31,63,28,77,64,51,18,63,87,19,55,48,28,84,28,40,7,67,24,85,80,31,49,69,31,53,17,22,35,15,22,51,21,15,14,41,53,19,54,19,44,66,37,43,7,27,8,42,57,64,26,22,24,1,27,36,39,11,61,13,21,50,57,31,49,42,45,19,46,46,74,24,68,90,45,55,28,57,52,23,23,83,53,32,40,78,20,40,13,37,39,15,19,63,14,42,43,52,53,24,57,12,32,40,21,19,31,31,17,22],\"xaxis\":\"x\",\"yaxis\":\"y\"}],                        {\"barmode\":\"relative\",\"legend\":{\"title\":{\"text\":\"churn\"},\"tracegroupgap\":0},\"template\":{\"data\":{\"bar\":[{\"error_x\":{\"color\":\"#2a3f5f\"},\"error_y\":{\"color\":\"#2a3f5f\"},\"marker\":{\"line\":{\"color\":\"#E5ECF6\",\"width\":0.5},\"pattern\":{\"fillmode\":\"overlay\",\"size\":10,\"solidity\":0.2}},\"type\":\"bar\"}],\"barpolar\":[{\"marker\":{\"line\":{\"color\":\"#E5ECF6\",\"width\":0.5},\"pattern\":{\"fillmode\":\"overlay\",\"size\":10,\"solidity\":0.2}},\"type\":\"barpolar\"}],\"carpet\":[{\"aaxis\":{\"endlinecolor\":\"#2a3f5f\",\"gridcolor\":\"white\",\"linecolor\":\"white\",\"minorgridcolor\":\"white\",\"startlinecolor\":\"#2a3f5f\"},\"baxis\":{\"endlinecolor\":\"#2a3f5f\",\"gridcolor\":\"white\",\"linecolor\":\"white\",\"minorgridcolor\":\"white\",\"startlinecolor\":\"#2a3f5f\"},\"type\":\"carpet\"}],\"choropleth\":[{\"colorbar\":{\"outlinewidth\":0,\"ticks\":\"\"},\"type\":\"choropleth\"}],\"contour\":[{\"colorbar\":{\"outlinewidth\":0,\"ticks\":\"\"},\"colorscale\":[[0.0,\"#0d0887\"],[0.1111111111111111,\"#46039f\"],[0.2222222222222222,\"#7201a8\"],[0.3333333333333333,\"#9c179e\"],[0.4444444444444444,\"#bd3786\"],[0.5555555555555556,\"#d8576b\"],[0.6666666666666666,\"#ed7953\"],[0.7777777777777778,\"#fb9f3a\"],[0.8888888888888888,\"#fdca26\"],[1.0,\"#f0f921\"]],\"type\":\"contour\"}],\"contourcarpet\":[{\"colorbar\":{\"outlinewidth\":0,\"ticks\":\"\"},\"type\":\"contourcarpet\"}],\"heatmap\":[{\"colorbar\":{\"outlinewidth\":0,\"ticks\":\"\"},\"colorscale\":[[0.0,\"#0d0887\"],[0.1111111111111111,\"#46039f\"],[0.2222222222222222,\"#7201a8\"],[0.3333333333333333,\"#9c179e\"],[0.4444444444444444,\"#bd3786\"],[0.5555555555555556,\"#d8576b\"],[0.6666666666666666,\"#ed7953\"],[0.7777777777777778,\"#fb9f3a\"],[0.8888888888888888,\"#fdca26\"],[1.0,\"#f0f921\"]],\"type\":\"heatmap\"}],\"heatmapgl\":[{\"colorbar\":{\"outlinewidth\":0,\"ticks\":\"\"},\"colorscale\":[[0.0,\"#0d0887\"],[0.1111111111111111,\"#46039f\"],[0.2222222222222222,\"#7201a8\"],[0.3333333333333333,\"#9c179e\"],[0.4444444444444444,\"#bd3786\"],[0.5555555555555556,\"#d8576b\"],[0.6666666666666666,\"#ed7953\"],[0.7777777777777778,\"#fb9f3a\"],[0.8888888888888888,\"#fdca26\"],[1.0,\"#f0f921\"]],\"type\":\"heatmapgl\"}],\"histogram\":[{\"marker\":{\"pattern\":{\"fillmode\":\"overlay\",\"size\":10,\"solidity\":0.2}},\"type\":\"histogram\"}],\"histogram2d\":[{\"colorbar\":{\"outlinewidth\":0,\"ticks\":\"\"},\"colorscale\":[[0.0,\"#0d0887\"],[0.1111111111111111,\"#46039f\"],[0.2222222222222222,\"#7201a8\"],[0.3333333333333333,\"#9c179e\"],[0.4444444444444444,\"#bd3786\"],[0.5555555555555556,\"#d8576b\"],[0.6666666666666666,\"#ed7953\"],[0.7777777777777778,\"#fb9f3a\"],[0.8888888888888888,\"#fdca26\"],[1.0,\"#f0f921\"]],\"type\":\"histogram2d\"}],\"histogram2dcontour\":[{\"colorbar\":{\"outlinewidth\":0,\"ticks\":\"\"},\"colorscale\":[[0.0,\"#0d0887\"],[0.1111111111111111,\"#46039f\"],[0.2222222222222222,\"#7201a8\"],[0.3333333333333333,\"#9c179e\"],[0.4444444444444444,\"#bd3786\"],[0.5555555555555556,\"#d8576b\"],[0.6666666666666666,\"#ed7953\"],[0.7777777777777778,\"#fb9f3a\"],[0.8888888888888888,\"#fdca26\"],[1.0,\"#f0f921\"]],\"type\":\"histogram2dcontour\"}],\"mesh3d\":[{\"colorbar\":{\"outlinewidth\":0,\"ticks\":\"\"},\"type\":\"mesh3d\"}],\"parcoords\":[{\"line\":{\"colorbar\":{\"outlinewidth\":0,\"ticks\":\"\"}},\"type\":\"parcoords\"}],\"pie\":[{\"automargin\":true,\"type\":\"pie\"}],\"scatter\":[{\"marker\":{\"colorbar\":{\"outlinewidth\":0,\"ticks\":\"\"}},\"type\":\"scatter\"}],\"scatter3d\":[{\"line\":{\"colorbar\":{\"outlinewidth\":0,\"ticks\":\"\"}},\"marker\":{\"colorbar\":{\"outlinewidth\":0,\"ticks\":\"\"}},\"type\":\"scatter3d\"}],\"scattercarpet\":[{\"marker\":{\"colorbar\":{\"outlinewidth\":0,\"ticks\":\"\"}},\"type\":\"scattercarpet\"}],\"scattergeo\":[{\"marker\":{\"colorbar\":{\"outlinewidth\":0,\"ticks\":\"\"}},\"type\":\"scattergeo\"}],\"scattergl\":[{\"marker\":{\"colorbar\":{\"outlinewidth\":0,\"ticks\":\"\"}},\"type\":\"scattergl\"}],\"scattermapbox\":[{\"marker\":{\"colorbar\":{\"outlinewidth\":0,\"ticks\":\"\"}},\"type\":\"scattermapbox\"}],\"scatterpolar\":[{\"marker\":{\"colorbar\":{\"outlinewidth\":0,\"ticks\":\"\"}},\"type\":\"scatterpolar\"}],\"scatterpolargl\":[{\"marker\":{\"colorbar\":{\"outlinewidth\":0,\"ticks\":\"\"}},\"type\":\"scatterpolargl\"}],\"scatterternary\":[{\"marker\":{\"colorbar\":{\"outlinewidth\":0,\"ticks\":\"\"}},\"type\":\"scatterternary\"}],\"surface\":[{\"colorbar\":{\"outlinewidth\":0,\"ticks\":\"\"},\"colorscale\":[[0.0,\"#0d0887\"],[0.1111111111111111,\"#46039f\"],[0.2222222222222222,\"#7201a8\"],[0.3333333333333333,\"#9c179e\"],[0.4444444444444444,\"#bd3786\"],[0.5555555555555556,\"#d8576b\"],[0.6666666666666666,\"#ed7953\"],[0.7777777777777778,\"#fb9f3a\"],[0.8888888888888888,\"#fdca26\"],[1.0,\"#f0f921\"]],\"type\":\"surface\"}],\"table\":[{\"cells\":{\"fill\":{\"color\":\"#EBF0F8\"},\"line\":{\"color\":\"white\"}},\"header\":{\"fill\":{\"color\":\"#C8D4E3\"},\"line\":{\"color\":\"white\"}},\"type\":\"table\"}]},\"layout\":{\"annotationdefaults\":{\"arrowcolor\":\"#2a3f5f\",\"arrowhead\":0,\"arrowwidth\":1},\"autotypenumbers\":\"strict\",\"coloraxis\":{\"colorbar\":{\"outlinewidth\":0,\"ticks\":\"\"}},\"colorscale\":{\"diverging\":[[0,\"#8e0152\"],[0.1,\"#c51b7d\"],[0.2,\"#de77ae\"],[0.3,\"#f1b6da\"],[0.4,\"#fde0ef\"],[0.5,\"#f7f7f7\"],[0.6,\"#e6f5d0\"],[0.7,\"#b8e186\"],[0.8,\"#7fbc41\"],[0.9,\"#4d9221\"],[1,\"#276419\"]],\"sequential\":[[0.0,\"#0d0887\"],[0.1111111111111111,\"#46039f\"],[0.2222222222222222,\"#7201a8\"],[0.3333333333333333,\"#9c179e\"],[0.4444444444444444,\"#bd3786\"],[0.5555555555555556,\"#d8576b\"],[0.6666666666666666,\"#ed7953\"],[0.7777777777777778,\"#fb9f3a\"],[0.8888888888888888,\"#fdca26\"],[1.0,\"#f0f921\"]],\"sequentialminus\":[[0.0,\"#0d0887\"],[0.1111111111111111,\"#46039f\"],[0.2222222222222222,\"#7201a8\"],[0.3333333333333333,\"#9c179e\"],[0.4444444444444444,\"#bd3786\"],[0.5555555555555556,\"#d8576b\"],[0.6666666666666666,\"#ed7953\"],[0.7777777777777778,\"#fb9f3a\"],[0.8888888888888888,\"#fdca26\"],[1.0,\"#f0f921\"]]},\"colorway\":[\"#636efa\",\"#EF553B\",\"#00cc96\",\"#ab63fa\",\"#FFA15A\",\"#19d3f3\",\"#FF6692\",\"#B6E880\",\"#FF97FF\",\"#FECB52\"],\"font\":{\"color\":\"#2a3f5f\"},\"geo\":{\"bgcolor\":\"white\",\"lakecolor\":\"white\",\"landcolor\":\"#E5ECF6\",\"showlakes\":true,\"showland\":true,\"subunitcolor\":\"white\"},\"hoverlabel\":{\"align\":\"left\"},\"hovermode\":\"closest\",\"mapbox\":{\"style\":\"light\"},\"paper_bgcolor\":\"white\",\"plot_bgcolor\":\"#E5ECF6\",\"polar\":{\"angularaxis\":{\"gridcolor\":\"white\",\"linecolor\":\"white\",\"ticks\":\"\"},\"bgcolor\":\"#E5ECF6\",\"radialaxis\":{\"gridcolor\":\"white\",\"linecolor\":\"white\",\"ticks\":\"\"}},\"scene\":{\"xaxis\":{\"backgroundcolor\":\"#E5ECF6\",\"gridcolor\":\"white\",\"gridwidth\":2,\"linecolor\":\"white\",\"showbackground\":true,\"ticks\":\"\",\"zerolinecolor\":\"white\"},\"yaxis\":{\"backgroundcolor\":\"#E5ECF6\",\"gridcolor\":\"white\",\"gridwidth\":2,\"linecolor\":\"white\",\"showbackground\":true,\"ticks\":\"\",\"zerolinecolor\":\"white\"},\"zaxis\":{\"backgroundcolor\":\"#E5ECF6\",\"gridcolor\":\"white\",\"gridwidth\":2,\"linecolor\":\"white\",\"showbackground\":true,\"ticks\":\"\",\"zerolinecolor\":\"white\"}},\"shapedefaults\":{\"line\":{\"color\":\"#2a3f5f\"}},\"ternary\":{\"aaxis\":{\"gridcolor\":\"white\",\"linecolor\":\"white\",\"ticks\":\"\"},\"baxis\":{\"gridcolor\":\"white\",\"linecolor\":\"white\",\"ticks\":\"\"},\"bgcolor\":\"#E5ECF6\",\"caxis\":{\"gridcolor\":\"white\",\"linecolor\":\"white\",\"ticks\":\"\"}},\"title\":{\"x\":0.05},\"xaxis\":{\"automargin\":true,\"gridcolor\":\"white\",\"linecolor\":\"white\",\"ticks\":\"\",\"title\":{\"standoff\":15},\"zerolinecolor\":\"white\",\"zerolinewidth\":2},\"yaxis\":{\"automargin\":true,\"gridcolor\":\"white\",\"linecolor\":\"white\",\"ticks\":\"\",\"title\":{\"standoff\":15},\"zerolinecolor\":\"white\",\"zerolinewidth\":2}}},\"title\":{\"text\":\"\\u0420\\u0438\\u0441.2 \\u0413\\u0438\\u0441\\u0442\\u043e\\u0433\\u0440\\u0430\\u043c\\u043c\\u0430 \\u0434\\u043b\\u044f \\u043f\\u043e\\u043b\\u044c\\u0437\\u043e\\u0432\\u0430\\u0442\\u0435\\u043b\\u0435\\u0439, \\u0438\\u0433\\u0440\\u0430\\u044e\\u0449\\u0438\\u0445 1-3 \\u0434\\u043d\\u044f\"},\"xaxis\":{\"anchor\":\"y\",\"domain\":[0.0,1.0],\"title\":{\"text\":\"max_level\"}},\"yaxis\":{\"anchor\":\"x\",\"domain\":[0.0,1.0],\"title\":{\"text\":\"count\"}}},                        {\"responsive\": true}                    ).then(function(){\n",
              "                            \n",
              "var gd = document.getElementById('0b08f0ec-0e8a-44a3-b0cd-ee39e13f956e');\n",
              "var x = new MutationObserver(function (mutations, observer) {{\n",
              "        var display = window.getComputedStyle(gd).display;\n",
              "        if (!display || display === 'none') {{\n",
              "            console.log([gd, 'removed!']);\n",
              "            Plotly.purge(gd);\n",
              "            observer.disconnect();\n",
              "        }}\n",
              "}});\n",
              "\n",
              "// Listen for the removal of the full notebook cells\n",
              "var notebookContainer = gd.closest('#notebook-container');\n",
              "if (notebookContainer) {{\n",
              "    x.observe(notebookContainer, {childList: true});\n",
              "}}\n",
              "\n",
              "// Listen for the clearing of the current output cell\n",
              "var outputEl = gd.closest('.output');\n",
              "if (outputEl) {{\n",
              "    x.observe(outputEl, {childList: true});\n",
              "}}\n",
              "\n",
              "                        })                };                            </script>        </div>\n",
              "</body>\n",
              "</html>"
            ]
          },
          "metadata": {}
        }
      ]
    },
    {
      "cell_type": "code",
      "metadata": {
        "id": "exbKiH5XK6LI",
        "colab": {
          "base_uri": "https://localhost:8080/"
        },
        "outputId": "f47cf427-d090-4d05-ed5f-ce15d0561d3e"
      },
      "source": [
        "px.histogram(table_3[table_3['max_level'] > 100], x=\"max_level\", color='churn',\n",
        "            title='Рис.3 Гистограмма для пользователей, играющих 1-3 дня max_level>100')"
      ],
      "execution_count": null,
      "outputs": [
        {
          "output_type": "display_data",
          "data": {
            "text/html": [
              "<html>\n",
              "<head><meta charset=\"utf-8\" /></head>\n",
              "<body>\n",
              "    <div>            <script src=\"https://cdnjs.cloudflare.com/ajax/libs/mathjax/2.7.5/MathJax.js?config=TeX-AMS-MML_SVG\"></script><script type=\"text/javascript\">if (window.MathJax) {MathJax.Hub.Config({SVG: {font: \"STIX-Web\"}});}</script>                <script type=\"text/javascript\">window.PlotlyConfig = {MathJaxConfig: 'local'};</script>\n",
              "        <script src=\"https://cdn.plot.ly/plotly-2.3.1.min.js\"></script>                <div id=\"e8eda61f-aeba-418c-9b3f-6879b354e31e\" class=\"plotly-graph-div\" style=\"height:525px; width:100%;\"></div>            <script type=\"text/javascript\">                                    window.PLOTLYENV=window.PLOTLYENV || {};                                    if (document.getElementById(\"e8eda61f-aeba-418c-9b3f-6879b354e31e\")) {                    Plotly.newPlot(                        \"e8eda61f-aeba-418c-9b3f-6879b354e31e\",                        [{\"alignmentgroup\":\"True\",\"bingroup\":\"x\",\"hovertemplate\":\"churn=1<br>max_level=%{x}<br>count=%{y}<extra></extra>\",\"legendgroup\":\"1\",\"marker\":{\"color\":\"#636efa\",\"pattern\":{\"shape\":\"\"}},\"name\":\"1\",\"offsetgroup\":\"1\",\"orientation\":\"v\",\"showlegend\":true,\"type\":\"histogram\",\"x\":[126,230,111,122,151,107,126,203,168,101,166,132,159,196,154,208,141,176,148,104,183,174,306,134,121,105,115,164,156,176,184,172,144,163,183,222,228,203,206,103,119,183,133,101,104,178,108,181,132,204,133,153,102,126,114,167,111,108,107,172,192,136,178,108,203,145,161,143,190,114,193,108,172,159,233,129,188,169,171,180,186,108,137,101,117,138,108,174,128,103,171,161,134,171,103,202,171,139,142,138,197,134,101,133,104,192,158,149,132,199,173,191,209,195,184,143,102,144,121,140,105,183,120,156,202,102,101,104,129,181,145,202,139,121,111,201,104,151,189,105,194,195,154,164,108,194,179,134,125,181,166,139,131,117,102,193,115,189,156,179,120,107,118,108,133,142,110,142,168,171,139,185,217,159,119,206,109,120,139,151,117,113,117,105,119,180,172,104,253,113,124,220],\"xaxis\":\"x\",\"yaxis\":\"y\"}],                        {\"barmode\":\"relative\",\"legend\":{\"title\":{\"text\":\"churn\"},\"tracegroupgap\":0},\"template\":{\"data\":{\"bar\":[{\"error_x\":{\"color\":\"#2a3f5f\"},\"error_y\":{\"color\":\"#2a3f5f\"},\"marker\":{\"line\":{\"color\":\"#E5ECF6\",\"width\":0.5},\"pattern\":{\"fillmode\":\"overlay\",\"size\":10,\"solidity\":0.2}},\"type\":\"bar\"}],\"barpolar\":[{\"marker\":{\"line\":{\"color\":\"#E5ECF6\",\"width\":0.5},\"pattern\":{\"fillmode\":\"overlay\",\"size\":10,\"solidity\":0.2}},\"type\":\"barpolar\"}],\"carpet\":[{\"aaxis\":{\"endlinecolor\":\"#2a3f5f\",\"gridcolor\":\"white\",\"linecolor\":\"white\",\"minorgridcolor\":\"white\",\"startlinecolor\":\"#2a3f5f\"},\"baxis\":{\"endlinecolor\":\"#2a3f5f\",\"gridcolor\":\"white\",\"linecolor\":\"white\",\"minorgridcolor\":\"white\",\"startlinecolor\":\"#2a3f5f\"},\"type\":\"carpet\"}],\"choropleth\":[{\"colorbar\":{\"outlinewidth\":0,\"ticks\":\"\"},\"type\":\"choropleth\"}],\"contour\":[{\"colorbar\":{\"outlinewidth\":0,\"ticks\":\"\"},\"colorscale\":[[0.0,\"#0d0887\"],[0.1111111111111111,\"#46039f\"],[0.2222222222222222,\"#7201a8\"],[0.3333333333333333,\"#9c179e\"],[0.4444444444444444,\"#bd3786\"],[0.5555555555555556,\"#d8576b\"],[0.6666666666666666,\"#ed7953\"],[0.7777777777777778,\"#fb9f3a\"],[0.8888888888888888,\"#fdca26\"],[1.0,\"#f0f921\"]],\"type\":\"contour\"}],\"contourcarpet\":[{\"colorbar\":{\"outlinewidth\":0,\"ticks\":\"\"},\"type\":\"contourcarpet\"}],\"heatmap\":[{\"colorbar\":{\"outlinewidth\":0,\"ticks\":\"\"},\"colorscale\":[[0.0,\"#0d0887\"],[0.1111111111111111,\"#46039f\"],[0.2222222222222222,\"#7201a8\"],[0.3333333333333333,\"#9c179e\"],[0.4444444444444444,\"#bd3786\"],[0.5555555555555556,\"#d8576b\"],[0.6666666666666666,\"#ed7953\"],[0.7777777777777778,\"#fb9f3a\"],[0.8888888888888888,\"#fdca26\"],[1.0,\"#f0f921\"]],\"type\":\"heatmap\"}],\"heatmapgl\":[{\"colorbar\":{\"outlinewidth\":0,\"ticks\":\"\"},\"colorscale\":[[0.0,\"#0d0887\"],[0.1111111111111111,\"#46039f\"],[0.2222222222222222,\"#7201a8\"],[0.3333333333333333,\"#9c179e\"],[0.4444444444444444,\"#bd3786\"],[0.5555555555555556,\"#d8576b\"],[0.6666666666666666,\"#ed7953\"],[0.7777777777777778,\"#fb9f3a\"],[0.8888888888888888,\"#fdca26\"],[1.0,\"#f0f921\"]],\"type\":\"heatmapgl\"}],\"histogram\":[{\"marker\":{\"pattern\":{\"fillmode\":\"overlay\",\"size\":10,\"solidity\":0.2}},\"type\":\"histogram\"}],\"histogram2d\":[{\"colorbar\":{\"outlinewidth\":0,\"ticks\":\"\"},\"colorscale\":[[0.0,\"#0d0887\"],[0.1111111111111111,\"#46039f\"],[0.2222222222222222,\"#7201a8\"],[0.3333333333333333,\"#9c179e\"],[0.4444444444444444,\"#bd3786\"],[0.5555555555555556,\"#d8576b\"],[0.6666666666666666,\"#ed7953\"],[0.7777777777777778,\"#fb9f3a\"],[0.8888888888888888,\"#fdca26\"],[1.0,\"#f0f921\"]],\"type\":\"histogram2d\"}],\"histogram2dcontour\":[{\"colorbar\":{\"outlinewidth\":0,\"ticks\":\"\"},\"colorscale\":[[0.0,\"#0d0887\"],[0.1111111111111111,\"#46039f\"],[0.2222222222222222,\"#7201a8\"],[0.3333333333333333,\"#9c179e\"],[0.4444444444444444,\"#bd3786\"],[0.5555555555555556,\"#d8576b\"],[0.6666666666666666,\"#ed7953\"],[0.7777777777777778,\"#fb9f3a\"],[0.8888888888888888,\"#fdca26\"],[1.0,\"#f0f921\"]],\"type\":\"histogram2dcontour\"}],\"mesh3d\":[{\"colorbar\":{\"outlinewidth\":0,\"ticks\":\"\"},\"type\":\"mesh3d\"}],\"parcoords\":[{\"line\":{\"colorbar\":{\"outlinewidth\":0,\"ticks\":\"\"}},\"type\":\"parcoords\"}],\"pie\":[{\"automargin\":true,\"type\":\"pie\"}],\"scatter\":[{\"marker\":{\"colorbar\":{\"outlinewidth\":0,\"ticks\":\"\"}},\"type\":\"scatter\"}],\"scatter3d\":[{\"line\":{\"colorbar\":{\"outlinewidth\":0,\"ticks\":\"\"}},\"marker\":{\"colorbar\":{\"outlinewidth\":0,\"ticks\":\"\"}},\"type\":\"scatter3d\"}],\"scattercarpet\":[{\"marker\":{\"colorbar\":{\"outlinewidth\":0,\"ticks\":\"\"}},\"type\":\"scattercarpet\"}],\"scattergeo\":[{\"marker\":{\"colorbar\":{\"outlinewidth\":0,\"ticks\":\"\"}},\"type\":\"scattergeo\"}],\"scattergl\":[{\"marker\":{\"colorbar\":{\"outlinewidth\":0,\"ticks\":\"\"}},\"type\":\"scattergl\"}],\"scattermapbox\":[{\"marker\":{\"colorbar\":{\"outlinewidth\":0,\"ticks\":\"\"}},\"type\":\"scattermapbox\"}],\"scatterpolar\":[{\"marker\":{\"colorbar\":{\"outlinewidth\":0,\"ticks\":\"\"}},\"type\":\"scatterpolar\"}],\"scatterpolargl\":[{\"marker\":{\"colorbar\":{\"outlinewidth\":0,\"ticks\":\"\"}},\"type\":\"scatterpolargl\"}],\"scatterternary\":[{\"marker\":{\"colorbar\":{\"outlinewidth\":0,\"ticks\":\"\"}},\"type\":\"scatterternary\"}],\"surface\":[{\"colorbar\":{\"outlinewidth\":0,\"ticks\":\"\"},\"colorscale\":[[0.0,\"#0d0887\"],[0.1111111111111111,\"#46039f\"],[0.2222222222222222,\"#7201a8\"],[0.3333333333333333,\"#9c179e\"],[0.4444444444444444,\"#bd3786\"],[0.5555555555555556,\"#d8576b\"],[0.6666666666666666,\"#ed7953\"],[0.7777777777777778,\"#fb9f3a\"],[0.8888888888888888,\"#fdca26\"],[1.0,\"#f0f921\"]],\"type\":\"surface\"}],\"table\":[{\"cells\":{\"fill\":{\"color\":\"#EBF0F8\"},\"line\":{\"color\":\"white\"}},\"header\":{\"fill\":{\"color\":\"#C8D4E3\"},\"line\":{\"color\":\"white\"}},\"type\":\"table\"}]},\"layout\":{\"annotationdefaults\":{\"arrowcolor\":\"#2a3f5f\",\"arrowhead\":0,\"arrowwidth\":1},\"autotypenumbers\":\"strict\",\"coloraxis\":{\"colorbar\":{\"outlinewidth\":0,\"ticks\":\"\"}},\"colorscale\":{\"diverging\":[[0,\"#8e0152\"],[0.1,\"#c51b7d\"],[0.2,\"#de77ae\"],[0.3,\"#f1b6da\"],[0.4,\"#fde0ef\"],[0.5,\"#f7f7f7\"],[0.6,\"#e6f5d0\"],[0.7,\"#b8e186\"],[0.8,\"#7fbc41\"],[0.9,\"#4d9221\"],[1,\"#276419\"]],\"sequential\":[[0.0,\"#0d0887\"],[0.1111111111111111,\"#46039f\"],[0.2222222222222222,\"#7201a8\"],[0.3333333333333333,\"#9c179e\"],[0.4444444444444444,\"#bd3786\"],[0.5555555555555556,\"#d8576b\"],[0.6666666666666666,\"#ed7953\"],[0.7777777777777778,\"#fb9f3a\"],[0.8888888888888888,\"#fdca26\"],[1.0,\"#f0f921\"]],\"sequentialminus\":[[0.0,\"#0d0887\"],[0.1111111111111111,\"#46039f\"],[0.2222222222222222,\"#7201a8\"],[0.3333333333333333,\"#9c179e\"],[0.4444444444444444,\"#bd3786\"],[0.5555555555555556,\"#d8576b\"],[0.6666666666666666,\"#ed7953\"],[0.7777777777777778,\"#fb9f3a\"],[0.8888888888888888,\"#fdca26\"],[1.0,\"#f0f921\"]]},\"colorway\":[\"#636efa\",\"#EF553B\",\"#00cc96\",\"#ab63fa\",\"#FFA15A\",\"#19d3f3\",\"#FF6692\",\"#B6E880\",\"#FF97FF\",\"#FECB52\"],\"font\":{\"color\":\"#2a3f5f\"},\"geo\":{\"bgcolor\":\"white\",\"lakecolor\":\"white\",\"landcolor\":\"#E5ECF6\",\"showlakes\":true,\"showland\":true,\"subunitcolor\":\"white\"},\"hoverlabel\":{\"align\":\"left\"},\"hovermode\":\"closest\",\"mapbox\":{\"style\":\"light\"},\"paper_bgcolor\":\"white\",\"plot_bgcolor\":\"#E5ECF6\",\"polar\":{\"angularaxis\":{\"gridcolor\":\"white\",\"linecolor\":\"white\",\"ticks\":\"\"},\"bgcolor\":\"#E5ECF6\",\"radialaxis\":{\"gridcolor\":\"white\",\"linecolor\":\"white\",\"ticks\":\"\"}},\"scene\":{\"xaxis\":{\"backgroundcolor\":\"#E5ECF6\",\"gridcolor\":\"white\",\"gridwidth\":2,\"linecolor\":\"white\",\"showbackground\":true,\"ticks\":\"\",\"zerolinecolor\":\"white\"},\"yaxis\":{\"backgroundcolor\":\"#E5ECF6\",\"gridcolor\":\"white\",\"gridwidth\":2,\"linecolor\":\"white\",\"showbackground\":true,\"ticks\":\"\",\"zerolinecolor\":\"white\"},\"zaxis\":{\"backgroundcolor\":\"#E5ECF6\",\"gridcolor\":\"white\",\"gridwidth\":2,\"linecolor\":\"white\",\"showbackground\":true,\"ticks\":\"\",\"zerolinecolor\":\"white\"}},\"shapedefaults\":{\"line\":{\"color\":\"#2a3f5f\"}},\"ternary\":{\"aaxis\":{\"gridcolor\":\"white\",\"linecolor\":\"white\",\"ticks\":\"\"},\"baxis\":{\"gridcolor\":\"white\",\"linecolor\":\"white\",\"ticks\":\"\"},\"bgcolor\":\"#E5ECF6\",\"caxis\":{\"gridcolor\":\"white\",\"linecolor\":\"white\",\"ticks\":\"\"}},\"title\":{\"x\":0.05},\"xaxis\":{\"automargin\":true,\"gridcolor\":\"white\",\"linecolor\":\"white\",\"ticks\":\"\",\"title\":{\"standoff\":15},\"zerolinecolor\":\"white\",\"zerolinewidth\":2},\"yaxis\":{\"automargin\":true,\"gridcolor\":\"white\",\"linecolor\":\"white\",\"ticks\":\"\",\"title\":{\"standoff\":15},\"zerolinecolor\":\"white\",\"zerolinewidth\":2}}},\"title\":{\"text\":\"\\u0420\\u0438\\u0441.3 \\u0413\\u0438\\u0441\\u0442\\u043e\\u0433\\u0440\\u0430\\u043c\\u043c\\u0430 \\u0434\\u043b\\u044f \\u043f\\u043e\\u043b\\u044c\\u0437\\u043e\\u0432\\u0430\\u0442\\u0435\\u043b\\u0435\\u0439, \\u0438\\u0433\\u0440\\u0430\\u044e\\u0449\\u0438\\u0445 1-3 \\u0434\\u043d\\u044f max_level>100\"},\"xaxis\":{\"anchor\":\"y\",\"domain\":[0.0,1.0],\"title\":{\"text\":\"max_level\"}},\"yaxis\":{\"anchor\":\"x\",\"domain\":[0.0,1.0],\"title\":{\"text\":\"count\"}}},                        {\"responsive\": true}                    ).then(function(){\n",
              "                            \n",
              "var gd = document.getElementById('e8eda61f-aeba-418c-9b3f-6879b354e31e');\n",
              "var x = new MutationObserver(function (mutations, observer) {{\n",
              "        var display = window.getComputedStyle(gd).display;\n",
              "        if (!display || display === 'none') {{\n",
              "            console.log([gd, 'removed!']);\n",
              "            Plotly.purge(gd);\n",
              "            observer.disconnect();\n",
              "        }}\n",
              "}});\n",
              "\n",
              "// Listen for the removal of the full notebook cells\n",
              "var notebookContainer = gd.closest('#notebook-container');\n",
              "if (notebookContainer) {{\n",
              "    x.observe(notebookContainer, {childList: true});\n",
              "}}\n",
              "\n",
              "// Listen for the clearing of the current output cell\n",
              "var outputEl = gd.closest('.output');\n",
              "if (outputEl) {{\n",
              "    x.observe(outputEl, {childList: true});\n",
              "}}\n",
              "\n",
              "                        })                };                            </script>        </div>\n",
              "</body>\n",
              "</html>"
            ]
          },
          "metadata": {}
        }
      ]
    },
    {
      "cell_type": "markdown",
      "metadata": {
        "id": "__kcKXYVTO7F"
      },
      "source": [
        "**Выводы:**\n",
        "* Выделяются уровни на которых отсеилось большинство игроков. Это 14-15 уровень и 28-29. 48-49 тоже выделяется, но его статистическая значимость меньше, так как выборка становится значительно уменьшается. Видно из рис. 1.\n",
        "* Если согласно описанию таблицы, churn=1 это отвал игрока через 24 часа, то выделяется тенденция, что синяя гистограмма имеет распределение похожее на ступеньку. Это говорит о том, что отвал игроков происходит практически равномерно с 0 уровня по 48, не считая пиков. Видно из рис. 1.\n",
        "* В то же время пользователи играющие после 24 часов прекращают проходить уровни начальной группы ( с 1 по 19 уровень), что видно из красной гистограммы. Видно из рис. 1.\n",
        "* Странный факт, что все игроки играющие больше 1 дня имеют churn = 1 Это говорит о том, что все игроки играющие дольше забросили игру после 24 часов. Возможно не правильно дано описание этой колонки.\n",
        "* Пользователи оставшиеся в игре больше 24 часов, чаще всего забрасывают игру после уровней с 10 по 49. Дальше уже виден плавный спад."
      ]
    },
    {
      "cell_type": "markdown",
      "metadata": {
        "id": "FHqSzuDBCZcI"
      },
      "source": [
        "# **4. Разделение всех пользователей на когорты согласно пройденным уровням.**"
      ]
    },
    {
      "cell_type": "markdown",
      "metadata": {
        "id": "cqW7Z70PO992"
      },
      "source": [
        "Разделим пользователей на когорты по уровням, на которых они закончили играть по имеющимся данным. Отдельно рассмотрим данные за первые 24 часа в игре и с 1 по 3 день. Для удобства создадим функцию для расчета когорт.\n",
        "\n",
        "В качестве разделения уровней выберем через каждые 15 уровней. Это связано с первым пиком на рис.1. Так как первая сложность и высокая вероятность того, что игроки забросят игру был на 15, потов районе 28-29. Таким образом проверим количество пользователей через каждые 15 уровней мы также зацепим эти пики.\n",
        "\n",
        "Для удобства работы с указателем на группы, мы заполним столбец не интервала групп, а минимальным из когорт, т.е. 0, 15, 30 и т.д. "
      ]
    },
    {
      "cell_type": "code",
      "metadata": {
        "id": "iciBgmlbPgKv"
      },
      "source": [
        "def kogort_15(table):\n",
        "  for i in range(0, 415, 15):\n",
        "    temp_data = table[(table['max_level'] >= i - 15) & (table['max_level'] <= i)]\n",
        "    temp_index = list(temp_data.index)\n",
        "    table.loc[temp_index, 'level_group'] = str(i - 15)# + ' - ' + str(i)\n",
        "    table = table.reset_index(drop=True)\n",
        "  return table"
      ],
      "execution_count": null,
      "outputs": []
    },
    {
      "cell_type": "markdown",
      "metadata": {
        "id": "FRLxp66SZZq8"
      },
      "source": [
        "Для данных за первые 24 часа имеем:"
      ]
    },
    {
      "cell_type": "code",
      "metadata": {
        "id": "WtzqUkQQZhW2",
        "colab": {
          "base_uri": "https://localhost:8080/"
        },
        "outputId": "d0b1bc16-500a-492c-e906-11b3cbb7ee7c"
      },
      "source": [
        "table_short_24 = kogort_15(table_24).pivot_table(index='level_group', \n",
        "                                                 values='churn', \n",
        "                                                 aggfunc='count')#lambda series: series.sum() / len(series) )\n",
        "table_short_24 = table_short_24.reset_index()\n",
        "table_short_24['level_group'] = table_short_24['level_group'].astype('int64')\n",
        "table_short_24 = table_short_24.rename(columns={'churn': 'count_users'})\n",
        "table_short_24"
      ],
      "execution_count": null,
      "outputs": [
        {
          "output_type": "execute_result",
          "data": {
            "text/html": [
              "<div>\n",
              "<style scoped>\n",
              "    .dataframe tbody tr th:only-of-type {\n",
              "        vertical-align: middle;\n",
              "    }\n",
              "\n",
              "    .dataframe tbody tr th {\n",
              "        vertical-align: top;\n",
              "    }\n",
              "\n",
              "    .dataframe thead th {\n",
              "        text-align: right;\n",
              "    }\n",
              "</style>\n",
              "<table border=\"1\" class=\"dataframe\">\n",
              "  <thead>\n",
              "    <tr style=\"text-align: right;\">\n",
              "      <th></th>\n",
              "      <th>level_group</th>\n",
              "      <th>count_users</th>\n",
              "    </tr>\n",
              "  </thead>\n",
              "  <tbody>\n",
              "    <tr>\n",
              "      <th>0</th>\n",
              "      <td>0</td>\n",
              "      <td>1358</td>\n",
              "    </tr>\n",
              "    <tr>\n",
              "      <th>1</th>\n",
              "      <td>15</td>\n",
              "      <td>810</td>\n",
              "    </tr>\n",
              "    <tr>\n",
              "      <th>2</th>\n",
              "      <td>30</td>\n",
              "      <td>338</td>\n",
              "    </tr>\n",
              "    <tr>\n",
              "      <th>3</th>\n",
              "      <td>45</td>\n",
              "      <td>154</td>\n",
              "    </tr>\n",
              "    <tr>\n",
              "      <th>4</th>\n",
              "      <td>60</td>\n",
              "      <td>22</td>\n",
              "    </tr>\n",
              "    <tr>\n",
              "      <th>5</th>\n",
              "      <td>75</td>\n",
              "      <td>6</td>\n",
              "    </tr>\n",
              "    <tr>\n",
              "      <th>6</th>\n",
              "      <td>90</td>\n",
              "      <td>1</td>\n",
              "    </tr>\n",
              "  </tbody>\n",
              "</table>\n",
              "</div>"
            ],
            "text/plain": [
              "   level_group  count_users\n",
              "0            0         1358\n",
              "1           15          810\n",
              "2           30          338\n",
              "3           45          154\n",
              "4           60           22\n",
              "5           75            6\n",
              "6           90            1"
            ]
          },
          "metadata": {},
          "execution_count": 77
        }
      ]
    },
    {
      "cell_type": "code",
      "metadata": {
        "id": "R74oll3QadGg",
        "colab": {
          "base_uri": "https://localhost:8080/"
        },
        "outputId": "31f61f74-01b4-414f-8b6b-ae8fb325b863"
      },
      "source": [
        "table_short_3 = kogort_15(table_3).pivot_table(index='level_group', \n",
        "                                                 values='churn', \n",
        "                                                 aggfunc='count')\n",
        "table_short_3 = table_short_3.reset_index()\n",
        "table_short_3['level_group'] = table_short_3['level_group'].astype('int64')\n",
        "table_short_3 = table_short_3.sort_values(by='level_group')\n",
        "table_short_3 = table_short_3.rename(columns={'churn': 'count_users'})\n",
        "table_short_3"
      ],
      "execution_count": null,
      "outputs": [
        {
          "output_type": "execute_result",
          "data": {
            "text/html": [
              "<div>\n",
              "<style scoped>\n",
              "    .dataframe tbody tr th:only-of-type {\n",
              "        vertical-align: middle;\n",
              "    }\n",
              "\n",
              "    .dataframe tbody tr th {\n",
              "        vertical-align: top;\n",
              "    }\n",
              "\n",
              "    .dataframe thead th {\n",
              "        text-align: right;\n",
              "    }\n",
              "</style>\n",
              "<table border=\"1\" class=\"dataframe\">\n",
              "  <thead>\n",
              "    <tr style=\"text-align: right;\">\n",
              "      <th></th>\n",
              "      <th>level_group</th>\n",
              "      <th>count_users</th>\n",
              "    </tr>\n",
              "  </thead>\n",
              "  <tbody>\n",
              "    <tr>\n",
              "      <th>0</th>\n",
              "      <td>0</td>\n",
              "      <td>142</td>\n",
              "    </tr>\n",
              "    <tr>\n",
              "      <th>4</th>\n",
              "      <td>15</td>\n",
              "      <td>255</td>\n",
              "    </tr>\n",
              "    <tr>\n",
              "      <th>12</th>\n",
              "      <td>30</td>\n",
              "      <td>260</td>\n",
              "    </tr>\n",
              "    <tr>\n",
              "      <th>14</th>\n",
              "      <td>45</td>\n",
              "      <td>252</td>\n",
              "    </tr>\n",
              "    <tr>\n",
              "      <th>15</th>\n",
              "      <td>60</td>\n",
              "      <td>116</td>\n",
              "    </tr>\n",
              "    <tr>\n",
              "      <th>16</th>\n",
              "      <td>75</td>\n",
              "      <td>82</td>\n",
              "    </tr>\n",
              "    <tr>\n",
              "      <th>17</th>\n",
              "      <td>90</td>\n",
              "      <td>54</td>\n",
              "    </tr>\n",
              "    <tr>\n",
              "      <th>1</th>\n",
              "      <td>105</td>\n",
              "      <td>34</td>\n",
              "    </tr>\n",
              "    <tr>\n",
              "      <th>2</th>\n",
              "      <td>120</td>\n",
              "      <td>27</td>\n",
              "    </tr>\n",
              "    <tr>\n",
              "      <th>3</th>\n",
              "      <td>135</td>\n",
              "      <td>22</td>\n",
              "    </tr>\n",
              "    <tr>\n",
              "      <th>5</th>\n",
              "      <td>150</td>\n",
              "      <td>18</td>\n",
              "    </tr>\n",
              "    <tr>\n",
              "      <th>6</th>\n",
              "      <td>165</td>\n",
              "      <td>24</td>\n",
              "    </tr>\n",
              "    <tr>\n",
              "      <th>7</th>\n",
              "      <td>180</td>\n",
              "      <td>24</td>\n",
              "    </tr>\n",
              "    <tr>\n",
              "      <th>8</th>\n",
              "      <td>195</td>\n",
              "      <td>17</td>\n",
              "    </tr>\n",
              "    <tr>\n",
              "      <th>9</th>\n",
              "      <td>210</td>\n",
              "      <td>3</td>\n",
              "    </tr>\n",
              "    <tr>\n",
              "      <th>10</th>\n",
              "      <td>225</td>\n",
              "      <td>3</td>\n",
              "    </tr>\n",
              "    <tr>\n",
              "      <th>11</th>\n",
              "      <td>240</td>\n",
              "      <td>1</td>\n",
              "    </tr>\n",
              "    <tr>\n",
              "      <th>13</th>\n",
              "      <td>300</td>\n",
              "      <td>1</td>\n",
              "    </tr>\n",
              "  </tbody>\n",
              "</table>\n",
              "</div>"
            ],
            "text/plain": [
              "    level_group  count_users\n",
              "0             0          142\n",
              "4            15          255\n",
              "12           30          260\n",
              "14           45          252\n",
              "15           60          116\n",
              "16           75           82\n",
              "17           90           54\n",
              "1           105           34\n",
              "2           120           27\n",
              "3           135           22\n",
              "5           150           18\n",
              "6           165           24\n",
              "7           180           24\n",
              "8           195           17\n",
              "9           210            3\n",
              "10          225            3\n",
              "11          240            1\n",
              "13          300            1"
            ]
          },
          "metadata": {},
          "execution_count": 78
        }
      ]
    },
    {
      "cell_type": "code",
      "metadata": {
        "id": "9xe5mbgflZi7",
        "colab": {
          "base_uri": "https://localhost:8080/"
        },
        "outputId": "26676cb0-0af0-4808-a8a3-6f95d59a221c"
      },
      "source": [
        "fig = go.Figure(data = [go.Bar(name='24 hour', x=table_short_24['level_group'], \n",
        "                               y=table_short_24['count_users']), \n",
        "                        go.Bar(name='1-3 days', x=table_short_3['level_group'], \n",
        "                               y=table_short_3['count_users']), \n",
        "                        ])\n",
        "fig.update_layout(barmode='group')\n",
        "fig.show()"
      ],
      "execution_count": null,
      "outputs": [
        {
          "output_type": "display_data",
          "data": {
            "text/html": [
              "<html>\n",
              "<head><meta charset=\"utf-8\" /></head>\n",
              "<body>\n",
              "    <div>            <script src=\"https://cdnjs.cloudflare.com/ajax/libs/mathjax/2.7.5/MathJax.js?config=TeX-AMS-MML_SVG\"></script><script type=\"text/javascript\">if (window.MathJax) {MathJax.Hub.Config({SVG: {font: \"STIX-Web\"}});}</script>                <script type=\"text/javascript\">window.PlotlyConfig = {MathJaxConfig: 'local'};</script>\n",
              "        <script src=\"https://cdn.plot.ly/plotly-2.3.1.min.js\"></script>                <div id=\"95cf2f99-f82a-45a8-84c9-bf19e8c9dc15\" class=\"plotly-graph-div\" style=\"height:525px; width:100%;\"></div>            <script type=\"text/javascript\">                                    window.PLOTLYENV=window.PLOTLYENV || {};                                    if (document.getElementById(\"95cf2f99-f82a-45a8-84c9-bf19e8c9dc15\")) {                    Plotly.newPlot(                        \"95cf2f99-f82a-45a8-84c9-bf19e8c9dc15\",                        [{\"name\":\"24 hour\",\"type\":\"bar\",\"x\":[0,15,30,45,60,75,90],\"y\":[1358,810,338,154,22,6,1]},{\"name\":\"1-3 days\",\"type\":\"bar\",\"x\":[0,15,30,45,60,75,90,105,120,135,150,165,180,195,210,225,240,300],\"y\":[142,255,260,252,116,82,54,34,27,22,18,24,24,17,3,3,1,1]}],                        {\"barmode\":\"group\",\"template\":{\"data\":{\"bar\":[{\"error_x\":{\"color\":\"#2a3f5f\"},\"error_y\":{\"color\":\"#2a3f5f\"},\"marker\":{\"line\":{\"color\":\"#E5ECF6\",\"width\":0.5},\"pattern\":{\"fillmode\":\"overlay\",\"size\":10,\"solidity\":0.2}},\"type\":\"bar\"}],\"barpolar\":[{\"marker\":{\"line\":{\"color\":\"#E5ECF6\",\"width\":0.5},\"pattern\":{\"fillmode\":\"overlay\",\"size\":10,\"solidity\":0.2}},\"type\":\"barpolar\"}],\"carpet\":[{\"aaxis\":{\"endlinecolor\":\"#2a3f5f\",\"gridcolor\":\"white\",\"linecolor\":\"white\",\"minorgridcolor\":\"white\",\"startlinecolor\":\"#2a3f5f\"},\"baxis\":{\"endlinecolor\":\"#2a3f5f\",\"gridcolor\":\"white\",\"linecolor\":\"white\",\"minorgridcolor\":\"white\",\"startlinecolor\":\"#2a3f5f\"},\"type\":\"carpet\"}],\"choropleth\":[{\"colorbar\":{\"outlinewidth\":0,\"ticks\":\"\"},\"type\":\"choropleth\"}],\"contour\":[{\"colorbar\":{\"outlinewidth\":0,\"ticks\":\"\"},\"colorscale\":[[0.0,\"#0d0887\"],[0.1111111111111111,\"#46039f\"],[0.2222222222222222,\"#7201a8\"],[0.3333333333333333,\"#9c179e\"],[0.4444444444444444,\"#bd3786\"],[0.5555555555555556,\"#d8576b\"],[0.6666666666666666,\"#ed7953\"],[0.7777777777777778,\"#fb9f3a\"],[0.8888888888888888,\"#fdca26\"],[1.0,\"#f0f921\"]],\"type\":\"contour\"}],\"contourcarpet\":[{\"colorbar\":{\"outlinewidth\":0,\"ticks\":\"\"},\"type\":\"contourcarpet\"}],\"heatmap\":[{\"colorbar\":{\"outlinewidth\":0,\"ticks\":\"\"},\"colorscale\":[[0.0,\"#0d0887\"],[0.1111111111111111,\"#46039f\"],[0.2222222222222222,\"#7201a8\"],[0.3333333333333333,\"#9c179e\"],[0.4444444444444444,\"#bd3786\"],[0.5555555555555556,\"#d8576b\"],[0.6666666666666666,\"#ed7953\"],[0.7777777777777778,\"#fb9f3a\"],[0.8888888888888888,\"#fdca26\"],[1.0,\"#f0f921\"]],\"type\":\"heatmap\"}],\"heatmapgl\":[{\"colorbar\":{\"outlinewidth\":0,\"ticks\":\"\"},\"colorscale\":[[0.0,\"#0d0887\"],[0.1111111111111111,\"#46039f\"],[0.2222222222222222,\"#7201a8\"],[0.3333333333333333,\"#9c179e\"],[0.4444444444444444,\"#bd3786\"],[0.5555555555555556,\"#d8576b\"],[0.6666666666666666,\"#ed7953\"],[0.7777777777777778,\"#fb9f3a\"],[0.8888888888888888,\"#fdca26\"],[1.0,\"#f0f921\"]],\"type\":\"heatmapgl\"}],\"histogram\":[{\"marker\":{\"pattern\":{\"fillmode\":\"overlay\",\"size\":10,\"solidity\":0.2}},\"type\":\"histogram\"}],\"histogram2d\":[{\"colorbar\":{\"outlinewidth\":0,\"ticks\":\"\"},\"colorscale\":[[0.0,\"#0d0887\"],[0.1111111111111111,\"#46039f\"],[0.2222222222222222,\"#7201a8\"],[0.3333333333333333,\"#9c179e\"],[0.4444444444444444,\"#bd3786\"],[0.5555555555555556,\"#d8576b\"],[0.6666666666666666,\"#ed7953\"],[0.7777777777777778,\"#fb9f3a\"],[0.8888888888888888,\"#fdca26\"],[1.0,\"#f0f921\"]],\"type\":\"histogram2d\"}],\"histogram2dcontour\":[{\"colorbar\":{\"outlinewidth\":0,\"ticks\":\"\"},\"colorscale\":[[0.0,\"#0d0887\"],[0.1111111111111111,\"#46039f\"],[0.2222222222222222,\"#7201a8\"],[0.3333333333333333,\"#9c179e\"],[0.4444444444444444,\"#bd3786\"],[0.5555555555555556,\"#d8576b\"],[0.6666666666666666,\"#ed7953\"],[0.7777777777777778,\"#fb9f3a\"],[0.8888888888888888,\"#fdca26\"],[1.0,\"#f0f921\"]],\"type\":\"histogram2dcontour\"}],\"mesh3d\":[{\"colorbar\":{\"outlinewidth\":0,\"ticks\":\"\"},\"type\":\"mesh3d\"}],\"parcoords\":[{\"line\":{\"colorbar\":{\"outlinewidth\":0,\"ticks\":\"\"}},\"type\":\"parcoords\"}],\"pie\":[{\"automargin\":true,\"type\":\"pie\"}],\"scatter\":[{\"marker\":{\"colorbar\":{\"outlinewidth\":0,\"ticks\":\"\"}},\"type\":\"scatter\"}],\"scatter3d\":[{\"line\":{\"colorbar\":{\"outlinewidth\":0,\"ticks\":\"\"}},\"marker\":{\"colorbar\":{\"outlinewidth\":0,\"ticks\":\"\"}},\"type\":\"scatter3d\"}],\"scattercarpet\":[{\"marker\":{\"colorbar\":{\"outlinewidth\":0,\"ticks\":\"\"}},\"type\":\"scattercarpet\"}],\"scattergeo\":[{\"marker\":{\"colorbar\":{\"outlinewidth\":0,\"ticks\":\"\"}},\"type\":\"scattergeo\"}],\"scattergl\":[{\"marker\":{\"colorbar\":{\"outlinewidth\":0,\"ticks\":\"\"}},\"type\":\"scattergl\"}],\"scattermapbox\":[{\"marker\":{\"colorbar\":{\"outlinewidth\":0,\"ticks\":\"\"}},\"type\":\"scattermapbox\"}],\"scatterpolar\":[{\"marker\":{\"colorbar\":{\"outlinewidth\":0,\"ticks\":\"\"}},\"type\":\"scatterpolar\"}],\"scatterpolargl\":[{\"marker\":{\"colorbar\":{\"outlinewidth\":0,\"ticks\":\"\"}},\"type\":\"scatterpolargl\"}],\"scatterternary\":[{\"marker\":{\"colorbar\":{\"outlinewidth\":0,\"ticks\":\"\"}},\"type\":\"scatterternary\"}],\"surface\":[{\"colorbar\":{\"outlinewidth\":0,\"ticks\":\"\"},\"colorscale\":[[0.0,\"#0d0887\"],[0.1111111111111111,\"#46039f\"],[0.2222222222222222,\"#7201a8\"],[0.3333333333333333,\"#9c179e\"],[0.4444444444444444,\"#bd3786\"],[0.5555555555555556,\"#d8576b\"],[0.6666666666666666,\"#ed7953\"],[0.7777777777777778,\"#fb9f3a\"],[0.8888888888888888,\"#fdca26\"],[1.0,\"#f0f921\"]],\"type\":\"surface\"}],\"table\":[{\"cells\":{\"fill\":{\"color\":\"#EBF0F8\"},\"line\":{\"color\":\"white\"}},\"header\":{\"fill\":{\"color\":\"#C8D4E3\"},\"line\":{\"color\":\"white\"}},\"type\":\"table\"}]},\"layout\":{\"annotationdefaults\":{\"arrowcolor\":\"#2a3f5f\",\"arrowhead\":0,\"arrowwidth\":1},\"autotypenumbers\":\"strict\",\"coloraxis\":{\"colorbar\":{\"outlinewidth\":0,\"ticks\":\"\"}},\"colorscale\":{\"diverging\":[[0,\"#8e0152\"],[0.1,\"#c51b7d\"],[0.2,\"#de77ae\"],[0.3,\"#f1b6da\"],[0.4,\"#fde0ef\"],[0.5,\"#f7f7f7\"],[0.6,\"#e6f5d0\"],[0.7,\"#b8e186\"],[0.8,\"#7fbc41\"],[0.9,\"#4d9221\"],[1,\"#276419\"]],\"sequential\":[[0.0,\"#0d0887\"],[0.1111111111111111,\"#46039f\"],[0.2222222222222222,\"#7201a8\"],[0.3333333333333333,\"#9c179e\"],[0.4444444444444444,\"#bd3786\"],[0.5555555555555556,\"#d8576b\"],[0.6666666666666666,\"#ed7953\"],[0.7777777777777778,\"#fb9f3a\"],[0.8888888888888888,\"#fdca26\"],[1.0,\"#f0f921\"]],\"sequentialminus\":[[0.0,\"#0d0887\"],[0.1111111111111111,\"#46039f\"],[0.2222222222222222,\"#7201a8\"],[0.3333333333333333,\"#9c179e\"],[0.4444444444444444,\"#bd3786\"],[0.5555555555555556,\"#d8576b\"],[0.6666666666666666,\"#ed7953\"],[0.7777777777777778,\"#fb9f3a\"],[0.8888888888888888,\"#fdca26\"],[1.0,\"#f0f921\"]]},\"colorway\":[\"#636efa\",\"#EF553B\",\"#00cc96\",\"#ab63fa\",\"#FFA15A\",\"#19d3f3\",\"#FF6692\",\"#B6E880\",\"#FF97FF\",\"#FECB52\"],\"font\":{\"color\":\"#2a3f5f\"},\"geo\":{\"bgcolor\":\"white\",\"lakecolor\":\"white\",\"landcolor\":\"#E5ECF6\",\"showlakes\":true,\"showland\":true,\"subunitcolor\":\"white\"},\"hoverlabel\":{\"align\":\"left\"},\"hovermode\":\"closest\",\"mapbox\":{\"style\":\"light\"},\"paper_bgcolor\":\"white\",\"plot_bgcolor\":\"#E5ECF6\",\"polar\":{\"angularaxis\":{\"gridcolor\":\"white\",\"linecolor\":\"white\",\"ticks\":\"\"},\"bgcolor\":\"#E5ECF6\",\"radialaxis\":{\"gridcolor\":\"white\",\"linecolor\":\"white\",\"ticks\":\"\"}},\"scene\":{\"xaxis\":{\"backgroundcolor\":\"#E5ECF6\",\"gridcolor\":\"white\",\"gridwidth\":2,\"linecolor\":\"white\",\"showbackground\":true,\"ticks\":\"\",\"zerolinecolor\":\"white\"},\"yaxis\":{\"backgroundcolor\":\"#E5ECF6\",\"gridcolor\":\"white\",\"gridwidth\":2,\"linecolor\":\"white\",\"showbackground\":true,\"ticks\":\"\",\"zerolinecolor\":\"white\"},\"zaxis\":{\"backgroundcolor\":\"#E5ECF6\",\"gridcolor\":\"white\",\"gridwidth\":2,\"linecolor\":\"white\",\"showbackground\":true,\"ticks\":\"\",\"zerolinecolor\":\"white\"}},\"shapedefaults\":{\"line\":{\"color\":\"#2a3f5f\"}},\"ternary\":{\"aaxis\":{\"gridcolor\":\"white\",\"linecolor\":\"white\",\"ticks\":\"\"},\"baxis\":{\"gridcolor\":\"white\",\"linecolor\":\"white\",\"ticks\":\"\"},\"bgcolor\":\"#E5ECF6\",\"caxis\":{\"gridcolor\":\"white\",\"linecolor\":\"white\",\"ticks\":\"\"}},\"title\":{\"x\":0.05},\"xaxis\":{\"automargin\":true,\"gridcolor\":\"white\",\"linecolor\":\"white\",\"ticks\":\"\",\"title\":{\"standoff\":15},\"zerolinecolor\":\"white\",\"zerolinewidth\":2},\"yaxis\":{\"automargin\":true,\"gridcolor\":\"white\",\"linecolor\":\"white\",\"ticks\":\"\",\"title\":{\"standoff\":15},\"zerolinecolor\":\"white\",\"zerolinewidth\":2}}}},                        {\"responsive\": true}                    ).then(function(){\n",
              "                            \n",
              "var gd = document.getElementById('95cf2f99-f82a-45a8-84c9-bf19e8c9dc15');\n",
              "var x = new MutationObserver(function (mutations, observer) {{\n",
              "        var display = window.getComputedStyle(gd).display;\n",
              "        if (!display || display === 'none') {{\n",
              "            console.log([gd, 'removed!']);\n",
              "            Plotly.purge(gd);\n",
              "            observer.disconnect();\n",
              "        }}\n",
              "}});\n",
              "\n",
              "// Listen for the removal of the full notebook cells\n",
              "var notebookContainer = gd.closest('#notebook-container');\n",
              "if (notebookContainer) {{\n",
              "    x.observe(notebookContainer, {childList: true});\n",
              "}}\n",
              "\n",
              "// Listen for the clearing of the current output cell\n",
              "var outputEl = gd.closest('.output');\n",
              "if (outputEl) {{\n",
              "    x.observe(outputEl, {childList: true});\n",
              "}}\n",
              "\n",
              "                        })                };                            </script>        </div>\n",
              "</body>\n",
              "</html>"
            ]
          },
          "metadata": {}
        }
      ]
    },
    {
      "cell_type": "markdown",
      "metadata": {
        "id": "1LVq91_VG7ad"
      },
      "source": [
        "**Выводы:**\n",
        "\n",
        "Из распределения пройденного максимального уровня видно, что за первые 24 часа чаще всего забрасывают игру люди остановившиеся на 0-15 и 15-30 уровнях.\n",
        "\n",
        "Однако если игроки заходят в игру от 1 до 3 дней, то распределение максимального уровня сдвигается и это уже 15-65 уровни. \n",
        "\n",
        "ДОбавим процент забросивших игру для каждой из когорт. А именно подсчет churn. Здесь мы выведем только график для данных об 24 часах, так как мы видели ранее, что пользователи проводившие в игре свыше 1 дня всегда имеют churn=1."
      ]
    },
    {
      "cell_type": "code",
      "metadata": {
        "id": "jsfvL7VCHyXq",
        "colab": {
          "base_uri": "https://localhost:8080/"
        },
        "outputId": "ace624a5-2f0e-4c1d-d7ab-ca63cef5f308"
      },
      "source": [
        "table_short_24_churn = kogort_15(table_24).pivot_table(index=['level_group'], \n",
        "                                                 values='churn', aggfunc=lambda series: series.sum() / len(series) )\n",
        "table_short_24_churn = table_short_24_churn.reset_index()\n",
        "table_short_24_churn"
      ],
      "execution_count": null,
      "outputs": [
        {
          "output_type": "execute_result",
          "data": {
            "text/html": [
              "<div>\n",
              "<style scoped>\n",
              "    .dataframe tbody tr th:only-of-type {\n",
              "        vertical-align: middle;\n",
              "    }\n",
              "\n",
              "    .dataframe tbody tr th {\n",
              "        vertical-align: top;\n",
              "    }\n",
              "\n",
              "    .dataframe thead th {\n",
              "        text-align: right;\n",
              "    }\n",
              "</style>\n",
              "<table border=\"1\" class=\"dataframe\">\n",
              "  <thead>\n",
              "    <tr style=\"text-align: right;\">\n",
              "      <th></th>\n",
              "      <th>level_group</th>\n",
              "      <th>churn</th>\n",
              "    </tr>\n",
              "  </thead>\n",
              "  <tbody>\n",
              "    <tr>\n",
              "      <th>0</th>\n",
              "      <td>0</td>\n",
              "      <td>0.329161</td>\n",
              "    </tr>\n",
              "    <tr>\n",
              "      <th>1</th>\n",
              "      <td>15</td>\n",
              "      <td>0.659259</td>\n",
              "    </tr>\n",
              "    <tr>\n",
              "      <th>2</th>\n",
              "      <td>30</td>\n",
              "      <td>0.843195</td>\n",
              "    </tr>\n",
              "    <tr>\n",
              "      <th>3</th>\n",
              "      <td>45</td>\n",
              "      <td>0.902597</td>\n",
              "    </tr>\n",
              "    <tr>\n",
              "      <th>4</th>\n",
              "      <td>60</td>\n",
              "      <td>1.000000</td>\n",
              "    </tr>\n",
              "    <tr>\n",
              "      <th>5</th>\n",
              "      <td>75</td>\n",
              "      <td>1.000000</td>\n",
              "    </tr>\n",
              "    <tr>\n",
              "      <th>6</th>\n",
              "      <td>90</td>\n",
              "      <td>1.000000</td>\n",
              "    </tr>\n",
              "  </tbody>\n",
              "</table>\n",
              "</div>"
            ],
            "text/plain": [
              "  level_group     churn\n",
              "0           0  0.329161\n",
              "1          15  0.659259\n",
              "2          30  0.843195\n",
              "3          45  0.902597\n",
              "4          60  1.000000\n",
              "5          75  1.000000\n",
              "6          90  1.000000"
            ]
          },
          "metadata": {},
          "execution_count": 80
        }
      ]
    },
    {
      "cell_type": "code",
      "metadata": {
        "id": "z2mPnBjHIt6x",
        "colab": {
          "base_uri": "https://localhost:8080/"
        },
        "outputId": "5c120ed9-86a3-4232-c2ea-e1dec2fce8b2"
      },
      "source": [
        "px.bar(table_short_24_churn, x='level_group', y='churn')"
      ],
      "execution_count": null,
      "outputs": [
        {
          "output_type": "display_data",
          "data": {
            "text/html": [
              "<html>\n",
              "<head><meta charset=\"utf-8\" /></head>\n",
              "<body>\n",
              "    <div>            <script src=\"https://cdnjs.cloudflare.com/ajax/libs/mathjax/2.7.5/MathJax.js?config=TeX-AMS-MML_SVG\"></script><script type=\"text/javascript\">if (window.MathJax) {MathJax.Hub.Config({SVG: {font: \"STIX-Web\"}});}</script>                <script type=\"text/javascript\">window.PlotlyConfig = {MathJaxConfig: 'local'};</script>\n",
              "        <script src=\"https://cdn.plot.ly/plotly-2.3.1.min.js\"></script>                <div id=\"886b14a9-fd7e-4d84-88c0-62f185272098\" class=\"plotly-graph-div\" style=\"height:525px; width:100%;\"></div>            <script type=\"text/javascript\">                                    window.PLOTLYENV=window.PLOTLYENV || {};                                    if (document.getElementById(\"886b14a9-fd7e-4d84-88c0-62f185272098\")) {                    Plotly.newPlot(                        \"886b14a9-fd7e-4d84-88c0-62f185272098\",                        [{\"alignmentgroup\":\"True\",\"hovertemplate\":\"level_group=%{x}<br>churn=%{y}<extra></extra>\",\"legendgroup\":\"\",\"marker\":{\"color\":\"#636efa\",\"pattern\":{\"shape\":\"\"}},\"name\":\"\",\"offsetgroup\":\"\",\"orientation\":\"v\",\"showlegend\":false,\"textposition\":\"auto\",\"type\":\"bar\",\"x\":[\"0\",\"15\",\"30\",\"45\",\"60\",\"75\",\"90\"],\"xaxis\":\"x\",\"y\":[0.329160530191458,0.6592592592592592,0.8431952662721893,0.9025974025974026,1.0,1.0,1.0],\"yaxis\":\"y\"}],                        {\"barmode\":\"relative\",\"legend\":{\"tracegroupgap\":0},\"margin\":{\"t\":60},\"template\":{\"data\":{\"bar\":[{\"error_x\":{\"color\":\"#2a3f5f\"},\"error_y\":{\"color\":\"#2a3f5f\"},\"marker\":{\"line\":{\"color\":\"#E5ECF6\",\"width\":0.5},\"pattern\":{\"fillmode\":\"overlay\",\"size\":10,\"solidity\":0.2}},\"type\":\"bar\"}],\"barpolar\":[{\"marker\":{\"line\":{\"color\":\"#E5ECF6\",\"width\":0.5},\"pattern\":{\"fillmode\":\"overlay\",\"size\":10,\"solidity\":0.2}},\"type\":\"barpolar\"}],\"carpet\":[{\"aaxis\":{\"endlinecolor\":\"#2a3f5f\",\"gridcolor\":\"white\",\"linecolor\":\"white\",\"minorgridcolor\":\"white\",\"startlinecolor\":\"#2a3f5f\"},\"baxis\":{\"endlinecolor\":\"#2a3f5f\",\"gridcolor\":\"white\",\"linecolor\":\"white\",\"minorgridcolor\":\"white\",\"startlinecolor\":\"#2a3f5f\"},\"type\":\"carpet\"}],\"choropleth\":[{\"colorbar\":{\"outlinewidth\":0,\"ticks\":\"\"},\"type\":\"choropleth\"}],\"contour\":[{\"colorbar\":{\"outlinewidth\":0,\"ticks\":\"\"},\"colorscale\":[[0.0,\"#0d0887\"],[0.1111111111111111,\"#46039f\"],[0.2222222222222222,\"#7201a8\"],[0.3333333333333333,\"#9c179e\"],[0.4444444444444444,\"#bd3786\"],[0.5555555555555556,\"#d8576b\"],[0.6666666666666666,\"#ed7953\"],[0.7777777777777778,\"#fb9f3a\"],[0.8888888888888888,\"#fdca26\"],[1.0,\"#f0f921\"]],\"type\":\"contour\"}],\"contourcarpet\":[{\"colorbar\":{\"outlinewidth\":0,\"ticks\":\"\"},\"type\":\"contourcarpet\"}],\"heatmap\":[{\"colorbar\":{\"outlinewidth\":0,\"ticks\":\"\"},\"colorscale\":[[0.0,\"#0d0887\"],[0.1111111111111111,\"#46039f\"],[0.2222222222222222,\"#7201a8\"],[0.3333333333333333,\"#9c179e\"],[0.4444444444444444,\"#bd3786\"],[0.5555555555555556,\"#d8576b\"],[0.6666666666666666,\"#ed7953\"],[0.7777777777777778,\"#fb9f3a\"],[0.8888888888888888,\"#fdca26\"],[1.0,\"#f0f921\"]],\"type\":\"heatmap\"}],\"heatmapgl\":[{\"colorbar\":{\"outlinewidth\":0,\"ticks\":\"\"},\"colorscale\":[[0.0,\"#0d0887\"],[0.1111111111111111,\"#46039f\"],[0.2222222222222222,\"#7201a8\"],[0.3333333333333333,\"#9c179e\"],[0.4444444444444444,\"#bd3786\"],[0.5555555555555556,\"#d8576b\"],[0.6666666666666666,\"#ed7953\"],[0.7777777777777778,\"#fb9f3a\"],[0.8888888888888888,\"#fdca26\"],[1.0,\"#f0f921\"]],\"type\":\"heatmapgl\"}],\"histogram\":[{\"marker\":{\"pattern\":{\"fillmode\":\"overlay\",\"size\":10,\"solidity\":0.2}},\"type\":\"histogram\"}],\"histogram2d\":[{\"colorbar\":{\"outlinewidth\":0,\"ticks\":\"\"},\"colorscale\":[[0.0,\"#0d0887\"],[0.1111111111111111,\"#46039f\"],[0.2222222222222222,\"#7201a8\"],[0.3333333333333333,\"#9c179e\"],[0.4444444444444444,\"#bd3786\"],[0.5555555555555556,\"#d8576b\"],[0.6666666666666666,\"#ed7953\"],[0.7777777777777778,\"#fb9f3a\"],[0.8888888888888888,\"#fdca26\"],[1.0,\"#f0f921\"]],\"type\":\"histogram2d\"}],\"histogram2dcontour\":[{\"colorbar\":{\"outlinewidth\":0,\"ticks\":\"\"},\"colorscale\":[[0.0,\"#0d0887\"],[0.1111111111111111,\"#46039f\"],[0.2222222222222222,\"#7201a8\"],[0.3333333333333333,\"#9c179e\"],[0.4444444444444444,\"#bd3786\"],[0.5555555555555556,\"#d8576b\"],[0.6666666666666666,\"#ed7953\"],[0.7777777777777778,\"#fb9f3a\"],[0.8888888888888888,\"#fdca26\"],[1.0,\"#f0f921\"]],\"type\":\"histogram2dcontour\"}],\"mesh3d\":[{\"colorbar\":{\"outlinewidth\":0,\"ticks\":\"\"},\"type\":\"mesh3d\"}],\"parcoords\":[{\"line\":{\"colorbar\":{\"outlinewidth\":0,\"ticks\":\"\"}},\"type\":\"parcoords\"}],\"pie\":[{\"automargin\":true,\"type\":\"pie\"}],\"scatter\":[{\"marker\":{\"colorbar\":{\"outlinewidth\":0,\"ticks\":\"\"}},\"type\":\"scatter\"}],\"scatter3d\":[{\"line\":{\"colorbar\":{\"outlinewidth\":0,\"ticks\":\"\"}},\"marker\":{\"colorbar\":{\"outlinewidth\":0,\"ticks\":\"\"}},\"type\":\"scatter3d\"}],\"scattercarpet\":[{\"marker\":{\"colorbar\":{\"outlinewidth\":0,\"ticks\":\"\"}},\"type\":\"scattercarpet\"}],\"scattergeo\":[{\"marker\":{\"colorbar\":{\"outlinewidth\":0,\"ticks\":\"\"}},\"type\":\"scattergeo\"}],\"scattergl\":[{\"marker\":{\"colorbar\":{\"outlinewidth\":0,\"ticks\":\"\"}},\"type\":\"scattergl\"}],\"scattermapbox\":[{\"marker\":{\"colorbar\":{\"outlinewidth\":0,\"ticks\":\"\"}},\"type\":\"scattermapbox\"}],\"scatterpolar\":[{\"marker\":{\"colorbar\":{\"outlinewidth\":0,\"ticks\":\"\"}},\"type\":\"scatterpolar\"}],\"scatterpolargl\":[{\"marker\":{\"colorbar\":{\"outlinewidth\":0,\"ticks\":\"\"}},\"type\":\"scatterpolargl\"}],\"scatterternary\":[{\"marker\":{\"colorbar\":{\"outlinewidth\":0,\"ticks\":\"\"}},\"type\":\"scatterternary\"}],\"surface\":[{\"colorbar\":{\"outlinewidth\":0,\"ticks\":\"\"},\"colorscale\":[[0.0,\"#0d0887\"],[0.1111111111111111,\"#46039f\"],[0.2222222222222222,\"#7201a8\"],[0.3333333333333333,\"#9c179e\"],[0.4444444444444444,\"#bd3786\"],[0.5555555555555556,\"#d8576b\"],[0.6666666666666666,\"#ed7953\"],[0.7777777777777778,\"#fb9f3a\"],[0.8888888888888888,\"#fdca26\"],[1.0,\"#f0f921\"]],\"type\":\"surface\"}],\"table\":[{\"cells\":{\"fill\":{\"color\":\"#EBF0F8\"},\"line\":{\"color\":\"white\"}},\"header\":{\"fill\":{\"color\":\"#C8D4E3\"},\"line\":{\"color\":\"white\"}},\"type\":\"table\"}]},\"layout\":{\"annotationdefaults\":{\"arrowcolor\":\"#2a3f5f\",\"arrowhead\":0,\"arrowwidth\":1},\"autotypenumbers\":\"strict\",\"coloraxis\":{\"colorbar\":{\"outlinewidth\":0,\"ticks\":\"\"}},\"colorscale\":{\"diverging\":[[0,\"#8e0152\"],[0.1,\"#c51b7d\"],[0.2,\"#de77ae\"],[0.3,\"#f1b6da\"],[0.4,\"#fde0ef\"],[0.5,\"#f7f7f7\"],[0.6,\"#e6f5d0\"],[0.7,\"#b8e186\"],[0.8,\"#7fbc41\"],[0.9,\"#4d9221\"],[1,\"#276419\"]],\"sequential\":[[0.0,\"#0d0887\"],[0.1111111111111111,\"#46039f\"],[0.2222222222222222,\"#7201a8\"],[0.3333333333333333,\"#9c179e\"],[0.4444444444444444,\"#bd3786\"],[0.5555555555555556,\"#d8576b\"],[0.6666666666666666,\"#ed7953\"],[0.7777777777777778,\"#fb9f3a\"],[0.8888888888888888,\"#fdca26\"],[1.0,\"#f0f921\"]],\"sequentialminus\":[[0.0,\"#0d0887\"],[0.1111111111111111,\"#46039f\"],[0.2222222222222222,\"#7201a8\"],[0.3333333333333333,\"#9c179e\"],[0.4444444444444444,\"#bd3786\"],[0.5555555555555556,\"#d8576b\"],[0.6666666666666666,\"#ed7953\"],[0.7777777777777778,\"#fb9f3a\"],[0.8888888888888888,\"#fdca26\"],[1.0,\"#f0f921\"]]},\"colorway\":[\"#636efa\",\"#EF553B\",\"#00cc96\",\"#ab63fa\",\"#FFA15A\",\"#19d3f3\",\"#FF6692\",\"#B6E880\",\"#FF97FF\",\"#FECB52\"],\"font\":{\"color\":\"#2a3f5f\"},\"geo\":{\"bgcolor\":\"white\",\"lakecolor\":\"white\",\"landcolor\":\"#E5ECF6\",\"showlakes\":true,\"showland\":true,\"subunitcolor\":\"white\"},\"hoverlabel\":{\"align\":\"left\"},\"hovermode\":\"closest\",\"mapbox\":{\"style\":\"light\"},\"paper_bgcolor\":\"white\",\"plot_bgcolor\":\"#E5ECF6\",\"polar\":{\"angularaxis\":{\"gridcolor\":\"white\",\"linecolor\":\"white\",\"ticks\":\"\"},\"bgcolor\":\"#E5ECF6\",\"radialaxis\":{\"gridcolor\":\"white\",\"linecolor\":\"white\",\"ticks\":\"\"}},\"scene\":{\"xaxis\":{\"backgroundcolor\":\"#E5ECF6\",\"gridcolor\":\"white\",\"gridwidth\":2,\"linecolor\":\"white\",\"showbackground\":true,\"ticks\":\"\",\"zerolinecolor\":\"white\"},\"yaxis\":{\"backgroundcolor\":\"#E5ECF6\",\"gridcolor\":\"white\",\"gridwidth\":2,\"linecolor\":\"white\",\"showbackground\":true,\"ticks\":\"\",\"zerolinecolor\":\"white\"},\"zaxis\":{\"backgroundcolor\":\"#E5ECF6\",\"gridcolor\":\"white\",\"gridwidth\":2,\"linecolor\":\"white\",\"showbackground\":true,\"ticks\":\"\",\"zerolinecolor\":\"white\"}},\"shapedefaults\":{\"line\":{\"color\":\"#2a3f5f\"}},\"ternary\":{\"aaxis\":{\"gridcolor\":\"white\",\"linecolor\":\"white\",\"ticks\":\"\"},\"baxis\":{\"gridcolor\":\"white\",\"linecolor\":\"white\",\"ticks\":\"\"},\"bgcolor\":\"#E5ECF6\",\"caxis\":{\"gridcolor\":\"white\",\"linecolor\":\"white\",\"ticks\":\"\"}},\"title\":{\"x\":0.05},\"xaxis\":{\"automargin\":true,\"gridcolor\":\"white\",\"linecolor\":\"white\",\"ticks\":\"\",\"title\":{\"standoff\":15},\"zerolinecolor\":\"white\",\"zerolinewidth\":2},\"yaxis\":{\"automargin\":true,\"gridcolor\":\"white\",\"linecolor\":\"white\",\"ticks\":\"\",\"title\":{\"standoff\":15},\"zerolinecolor\":\"white\",\"zerolinewidth\":2}}},\"xaxis\":{\"anchor\":\"y\",\"domain\":[0.0,1.0],\"title\":{\"text\":\"level_group\"}},\"yaxis\":{\"anchor\":\"x\",\"domain\":[0.0,1.0],\"title\":{\"text\":\"churn\"}}},                        {\"responsive\": true}                    ).then(function(){\n",
              "                            \n",
              "var gd = document.getElementById('886b14a9-fd7e-4d84-88c0-62f185272098');\n",
              "var x = new MutationObserver(function (mutations, observer) {{\n",
              "        var display = window.getComputedStyle(gd).display;\n",
              "        if (!display || display === 'none') {{\n",
              "            console.log([gd, 'removed!']);\n",
              "            Plotly.purge(gd);\n",
              "            observer.disconnect();\n",
              "        }}\n",
              "}});\n",
              "\n",
              "// Listen for the removal of the full notebook cells\n",
              "var notebookContainer = gd.closest('#notebook-container');\n",
              "if (notebookContainer) {{\n",
              "    x.observe(notebookContainer, {childList: true});\n",
              "}}\n",
              "\n",
              "// Listen for the clearing of the current output cell\n",
              "var outputEl = gd.closest('.output');\n",
              "if (outputEl) {{\n",
              "    x.observe(outputEl, {childList: true});\n",
              "}}\n",
              "\n",
              "                        })                };                            </script>        </div>\n",
              "</body>\n",
              "</html>"
            ]
          },
          "metadata": {}
        }
      ]
    },
    {
      "cell_type": "markdown",
      "metadata": {
        "id": "6P1yj3bpJb4e"
      },
      "source": [
        "**Вывод:**\n",
        "\n",
        "C 1 уровня до 59 происходит рост отвала пользователей и с 60 churn=1."
      ]
    },
    {
      "cell_type": "markdown",
      "metadata": {
        "id": "hLncSOh6Ek4X"
      },
      "source": [
        "# **5. Связь прохождения уровней с типом бустера.**"
      ]
    },
    {
      "cell_type": "markdown",
      "metadata": {
        "id": "SG-miNuArcJy"
      },
      "source": [
        "Создадим таблицу числа всех ивентов для пользователей:"
      ]
    },
    {
      "cell_type": "code",
      "metadata": {
        "id": "wGI3fNFBrboc",
        "colab": {
          "base_uri": "https://localhost:8080/"
        },
        "outputId": "0aec4755-64d6-4021-ae81-4a6061c41043"
      },
      "source": [
        "table_sum = df_events.pivot_table(index=['uid','event_name'],  values='churn', aggfunc='count').reset_index()\n",
        "table_sum = table_sum.rename(columns={'churn': 'count_event'})\n",
        "table_sum.head()"
      ],
      "execution_count": null,
      "outputs": [
        {
          "output_type": "execute_result",
          "data": {
            "text/html": [
              "<div>\n",
              "<style scoped>\n",
              "    .dataframe tbody tr th:only-of-type {\n",
              "        vertical-align: middle;\n",
              "    }\n",
              "\n",
              "    .dataframe tbody tr th {\n",
              "        vertical-align: top;\n",
              "    }\n",
              "\n",
              "    .dataframe thead th {\n",
              "        text-align: right;\n",
              "    }\n",
              "</style>\n",
              "<table border=\"1\" class=\"dataframe\">\n",
              "  <thead>\n",
              "    <tr style=\"text-align: right;\">\n",
              "      <th></th>\n",
              "      <th>uid</th>\n",
              "      <th>event_name</th>\n",
              "      <th>count_event</th>\n",
              "    </tr>\n",
              "  </thead>\n",
              "  <tbody>\n",
              "    <tr>\n",
              "      <th>0</th>\n",
              "      <td>000c51e7-db50-4f30-95d6-462be3a2a5d3</td>\n",
              "      <td>spent_replay</td>\n",
              "      <td>4</td>\n",
              "    </tr>\n",
              "    <tr>\n",
              "      <th>1</th>\n",
              "      <td>0018f5d2-d883-4ad2-9b96-29028069ee81</td>\n",
              "      <td>spent_level</td>\n",
              "      <td>20</td>\n",
              "    </tr>\n",
              "    <tr>\n",
              "      <th>2</th>\n",
              "      <td>0018f5d2-d883-4ad2-9b96-29028069ee81</td>\n",
              "      <td>spent_replay</td>\n",
              "      <td>21</td>\n",
              "    </tr>\n",
              "    <tr>\n",
              "      <th>3</th>\n",
              "      <td>0018f5d2-d883-4ad2-9b96-29028069ee81</td>\n",
              "      <td>spent_turns_purchase</td>\n",
              "      <td>3</td>\n",
              "    </tr>\n",
              "    <tr>\n",
              "      <th>4</th>\n",
              "      <td>00431e7e-d833-47c9-aae9-7ce21652902f</td>\n",
              "      <td>spent_replay</td>\n",
              "      <td>4</td>\n",
              "    </tr>\n",
              "  </tbody>\n",
              "</table>\n",
              "</div>"
            ],
            "text/plain": [
              "                                    uid            event_name  count_event\n",
              "0  000c51e7-db50-4f30-95d6-462be3a2a5d3          spent_replay            4\n",
              "1  0018f5d2-d883-4ad2-9b96-29028069ee81           spent_level           20\n",
              "2  0018f5d2-d883-4ad2-9b96-29028069ee81          spent_replay           21\n",
              "3  0018f5d2-d883-4ad2-9b96-29028069ee81  spent_turns_purchase            3\n",
              "4  00431e7e-d833-47c9-aae9-7ce21652902f          spent_replay            4"
            ]
          },
          "metadata": {},
          "execution_count": 82
        }
      ]
    },
    {
      "cell_type": "markdown",
      "metadata": {
        "id": "wdq9jKYA0ZMh"
      },
      "source": [
        "Выделим события для пользователей в течение первых 24 часов, и для 1-3 дней со старта."
      ]
    },
    {
      "cell_type": "code",
      "metadata": {
        "id": "K_Z-OnBGoG7y",
        "colab": {
          "base_uri": "https://localhost:8080/"
        },
        "outputId": "47e3ae64-44fc-422c-bd0f-b3545bf42475"
      },
      "source": [
        "table_sum"
      ],
      "execution_count": null,
      "outputs": [
        {
          "output_type": "execute_result",
          "data": {
            "text/html": [
              "<div>\n",
              "<style scoped>\n",
              "    .dataframe tbody tr th:only-of-type {\n",
              "        vertical-align: middle;\n",
              "    }\n",
              "\n",
              "    .dataframe tbody tr th {\n",
              "        vertical-align: top;\n",
              "    }\n",
              "\n",
              "    .dataframe thead th {\n",
              "        text-align: right;\n",
              "    }\n",
              "</style>\n",
              "<table border=\"1\" class=\"dataframe\">\n",
              "  <thead>\n",
              "    <tr style=\"text-align: right;\">\n",
              "      <th></th>\n",
              "      <th>uid</th>\n",
              "      <th>event_name</th>\n",
              "      <th>count_event</th>\n",
              "    </tr>\n",
              "  </thead>\n",
              "  <tbody>\n",
              "    <tr>\n",
              "      <th>0</th>\n",
              "      <td>000c51e7-db50-4f30-95d6-462be3a2a5d3</td>\n",
              "      <td>spent_replay</td>\n",
              "      <td>4</td>\n",
              "    </tr>\n",
              "    <tr>\n",
              "      <th>1</th>\n",
              "      <td>0018f5d2-d883-4ad2-9b96-29028069ee81</td>\n",
              "      <td>spent_level</td>\n",
              "      <td>20</td>\n",
              "    </tr>\n",
              "    <tr>\n",
              "      <th>2</th>\n",
              "      <td>0018f5d2-d883-4ad2-9b96-29028069ee81</td>\n",
              "      <td>spent_replay</td>\n",
              "      <td>21</td>\n",
              "    </tr>\n",
              "    <tr>\n",
              "      <th>3</th>\n",
              "      <td>0018f5d2-d883-4ad2-9b96-29028069ee81</td>\n",
              "      <td>spent_turns_purchase</td>\n",
              "      <td>3</td>\n",
              "    </tr>\n",
              "    <tr>\n",
              "      <th>4</th>\n",
              "      <td>00431e7e-d833-47c9-aae9-7ce21652902f</td>\n",
              "      <td>spent_replay</td>\n",
              "      <td>4</td>\n",
              "    </tr>\n",
              "    <tr>\n",
              "      <th>...</th>\n",
              "      <td>...</td>\n",
              "      <td>...</td>\n",
              "      <td>...</td>\n",
              "    </tr>\n",
              "    <tr>\n",
              "      <th>5264</th>\n",
              "      <td>ff96e64e-8ebf-48e3-8d52-78f247468068</td>\n",
              "      <td>spent_replay</td>\n",
              "      <td>31</td>\n",
              "    </tr>\n",
              "    <tr>\n",
              "      <th>5265</th>\n",
              "      <td>ff96e64e-8ebf-48e3-8d52-78f247468068</td>\n",
              "      <td>spent_turns_purchase</td>\n",
              "      <td>3</td>\n",
              "    </tr>\n",
              "    <tr>\n",
              "      <th>5266</th>\n",
              "      <td>ffc552f6-b662-4b62-bf3b-188cf5c23760</td>\n",
              "      <td>spent_replay</td>\n",
              "      <td>4</td>\n",
              "    </tr>\n",
              "    <tr>\n",
              "      <th>5267</th>\n",
              "      <td>ffdb1aaf-6c57-4fb7-a3a9-da40857f9cf8</td>\n",
              "      <td>spent_replay</td>\n",
              "      <td>5</td>\n",
              "    </tr>\n",
              "    <tr>\n",
              "      <th>5268</th>\n",
              "      <td>ffeac949-b24f-48cf-936f-2ffc117b8da2</td>\n",
              "      <td>spent_replay</td>\n",
              "      <td>7</td>\n",
              "    </tr>\n",
              "  </tbody>\n",
              "</table>\n",
              "<p>5269 rows × 3 columns</p>\n",
              "</div>"
            ],
            "text/plain": [
              "                                       uid            event_name  count_event\n",
              "0     000c51e7-db50-4f30-95d6-462be3a2a5d3          spent_replay            4\n",
              "1     0018f5d2-d883-4ad2-9b96-29028069ee81           spent_level           20\n",
              "2     0018f5d2-d883-4ad2-9b96-29028069ee81          spent_replay           21\n",
              "3     0018f5d2-d883-4ad2-9b96-29028069ee81  spent_turns_purchase            3\n",
              "4     00431e7e-d833-47c9-aae9-7ce21652902f          spent_replay            4\n",
              "...                                    ...                   ...          ...\n",
              "5264  ff96e64e-8ebf-48e3-8d52-78f247468068          spent_replay           31\n",
              "5265  ff96e64e-8ebf-48e3-8d52-78f247468068  spent_turns_purchase            3\n",
              "5266  ffc552f6-b662-4b62-bf3b-188cf5c23760          spent_replay            4\n",
              "5267  ffdb1aaf-6c57-4fb7-a3a9-da40857f9cf8          spent_replay            5\n",
              "5268  ffeac949-b24f-48cf-936f-2ffc117b8da2          spent_replay            7\n",
              "\n",
              "[5269 rows x 3 columns]"
            ]
          },
          "metadata": {},
          "execution_count": 83
        }
      ]
    },
    {
      "cell_type": "code",
      "metadata": {
        "id": "g6UZpGudtGri"
      },
      "source": [
        "table_events_24 = pd.merge(table_24, table_sum, how='inner', on='uid')\n",
        "table_events_3 = pd.merge(table_3, table_sum, how='inner', on='uid')"
      ],
      "execution_count": null,
      "outputs": []
    },
    {
      "cell_type": "markdown",
      "metadata": {
        "id": "xESO_cdeJ0KI"
      },
      "source": [
        "Посмотрим на процент игр с использованнием бустеров, для этого добавим столбец отношения суммы бустеров к количеству игр, но не к максимальному уровню."
      ]
    },
    {
      "cell_type": "code",
      "metadata": {
        "id": "kbthLx1BGLQw"
      },
      "source": [
        "table_events_24['percent'] = table_events_24['count_event'] / table_events_24['battle_start']\n",
        "table_events_3['percent'] = table_events_3['count_event_y'] / table_events_3['battle_start']"
      ],
      "execution_count": null,
      "outputs": []
    },
    {
      "cell_type": "markdown",
      "metadata": {
        "id": "TtdPhGhuKK9o"
      },
      "source": [
        "Для каждого из типов ивентов построим гистограмму распределения этого отношения в зависимости от churn."
      ]
    },
    {
      "cell_type": "code",
      "metadata": {
        "id": "CUITlfVwzCea",
        "colab": {
          "base_uri": "https://localhost:8080/"
        },
        "outputId": "7328ed9c-56b0-4d28-f1b5-ed146ac162b4"
      },
      "source": [
        "pd.pivot_table(table_events_24, index='event_name',columns='churn', values='uid', aggfunc='nunique').reset_index()"
      ],
      "execution_count": null,
      "outputs": [
        {
          "output_type": "execute_result",
          "data": {
            "text/html": [
              "<div>\n",
              "<style scoped>\n",
              "    .dataframe tbody tr th:only-of-type {\n",
              "        vertical-align: middle;\n",
              "    }\n",
              "\n",
              "    .dataframe tbody tr th {\n",
              "        vertical-align: top;\n",
              "    }\n",
              "\n",
              "    .dataframe thead th {\n",
              "        text-align: right;\n",
              "    }\n",
              "</style>\n",
              "<table border=\"1\" class=\"dataframe\">\n",
              "  <thead>\n",
              "    <tr style=\"text-align: right;\">\n",
              "      <th>churn</th>\n",
              "      <th>event_name</th>\n",
              "      <th>0</th>\n",
              "      <th>1</th>\n",
              "    </tr>\n",
              "  </thead>\n",
              "  <tbody>\n",
              "    <tr>\n",
              "      <th>0</th>\n",
              "      <td>spent_level</td>\n",
              "      <td>284</td>\n",
              "      <td>876</td>\n",
              "    </tr>\n",
              "    <tr>\n",
              "      <th>1</th>\n",
              "      <td>spent_life_purchase</td>\n",
              "      <td>5</td>\n",
              "      <td>53</td>\n",
              "    </tr>\n",
              "    <tr>\n",
              "      <th>2</th>\n",
              "      <td>spent_replay</td>\n",
              "      <td>1254</td>\n",
              "      <td>1431</td>\n",
              "    </tr>\n",
              "    <tr>\n",
              "      <th>3</th>\n",
              "      <td>spent_turns_purchase</td>\n",
              "      <td>368</td>\n",
              "      <td>910</td>\n",
              "    </tr>\n",
              "  </tbody>\n",
              "</table>\n",
              "</div>"
            ],
            "text/plain": [
              "churn            event_name     0     1\n",
              "0               spent_level   284   876\n",
              "1       spent_life_purchase     5    53\n",
              "2              spent_replay  1254  1431\n",
              "3      spent_turns_purchase   368   910"
            ]
          },
          "metadata": {},
          "execution_count": 86
        }
      ]
    },
    {
      "cell_type": "markdown",
      "metadata": {
        "id": "w1PWLOWqKspf"
      },
      "source": [
        "# **5.1 Связь прохождения уровней с расходом жизней на уровне - spent_replay**"
      ]
    },
    {
      "cell_type": "code",
      "metadata": {
        "id": "pt7kUZOOoRpK"
      },
      "source": [
        "table_24_kogort = kogort_15(table_events_24)\n",
        "table_3_kogort = kogort_15(table_events_3)"
      ],
      "execution_count": null,
      "outputs": []
    },
    {
      "cell_type": "code",
      "metadata": {
        "id": "s3njGyFaocVI",
        "colab": {
          "base_uri": "https://localhost:8080/"
        },
        "outputId": "ff9c0e2a-3d87-4866-dca8-9afbfb0403d9"
      },
      "source": [
        "px.histogram(table_24_kogort[(table_24_kogort['event_name'] == 'spent_replay') &\n",
        "                             (table_24_kogort['percent'] <= 1) &\n",
        "                              (table_24_kogort['churn'] == 1)], \n",
        "              x=\"percent\", color='level_group',\n",
        "            barmode='group',nbins=5,\n",
        "             title='With spent_replay for churn = 1')"
      ],
      "execution_count": null,
      "outputs": [
        {
          "output_type": "display_data",
          "data": {
            "text/html": [
              "<html>\n",
              "<head><meta charset=\"utf-8\" /></head>\n",
              "<body>\n",
              "    <div>            <script src=\"https://cdnjs.cloudflare.com/ajax/libs/mathjax/2.7.5/MathJax.js?config=TeX-AMS-MML_SVG\"></script><script type=\"text/javascript\">if (window.MathJax) {MathJax.Hub.Config({SVG: {font: \"STIX-Web\"}});}</script>                <script type=\"text/javascript\">window.PlotlyConfig = {MathJaxConfig: 'local'};</script>\n",
              "        <script src=\"https://cdn.plot.ly/plotly-2.3.1.min.js\"></script>                <div id=\"466014e4-6fc5-45ef-aa6d-3fc56c584d02\" class=\"plotly-graph-div\" style=\"height:525px; width:100%;\"></div>            <script type=\"text/javascript\">                                    window.PLOTLYENV=window.PLOTLYENV || {};                                    if (document.getElementById(\"466014e4-6fc5-45ef-aa6d-3fc56c584d02\")) {                    Plotly.newPlot(                        \"466014e4-6fc5-45ef-aa6d-3fc56c584d02\",                        [{\"alignmentgroup\":\"True\",\"bingroup\":\"x\",\"hovertemplate\":\"level_group=30<br>percent=%{x}<br>count=%{y}<extra></extra>\",\"legendgroup\":\"30\",\"marker\":{\"color\":\"#636efa\",\"pattern\":{\"shape\":\"\"}},\"name\":\"30\",\"nbinsx\":5,\"offsetgroup\":\"30\",\"orientation\":\"v\",\"showlegend\":true,\"type\":\"histogram\",\"x\":[0.3888888888888889,0.5,0.37777777777777777,0.5230769230769231,0.6226415094339622,0.5866666666666667,0.7692307692307693,0.3611111111111111,0.48,0.3125,0.6206896551724138,0.5813953488372093,0.8636363636363636,0.75,0.23880597014925373,0.5974025974025974,0.5555555555555556,0.7580645161290323,0.5,0.7808219178082192,0.6341463414634146,0.5357142857142857,0.6538461538461539,0.6,0.5348837209302325,0.6792452830188679,0.2698412698412698,0.5689655172413793,0.16279069767441862,0.46511627906976744,0.4897959183673469,0.6774193548387096,0.46551724137931033,0.5454545454545454,0.5,0.5161290322580645,0.6521739130434783,0.6595744680851063,0.34146341463414637,0.5306122448979592,0.3717948717948718,0.6730769230769231,0.6229508196721312,0.34210526315789475,0.3939393939393939,0.4696969696969697,0.2727272727272727,0.44642857142857145,0.19642857142857142,0.40425531914893614,0.5081967213114754,0.4909090909090909,0.46153846153846156,0.5769230769230769,0.5945945945945946,0.726027397260274,0.44,0.6538461538461539,0.43137254901960786,0.325,0.4523809523809524,0.62,0.4444444444444444,0.6,0.7948717948717948,0.43283582089552236,0.3142857142857143,0.8095238095238095,0.5636363636363636,0.3392857142857143,0.53125,0.62,0.5223880597014925,0.3673469387755102,0.46,0.6610169491525424,0.5365853658536586,0.3373493975903614,0.7419354838709677,0.6326530612244898,0.3181818181818182,0.46,0.4230769230769231,0.6842105263157895,0.42424242424242425,0.7428571428571429,0.532258064516129,0.7948717948717948,0.3103448275862069,0.5074626865671642,0.7954545454545454,0.4444444444444444,0.5,0.56,0.620253164556962,0.4166666666666667,0.8285714285714286,0.72,0.48717948717948717,0.6792452830188679,0.5757575757575758,0.3728813559322034,0.4782608695652174,0.671875,0.21428571428571427,0.2777777777777778,0.8181818181818182,0.4642857142857143,0.5714285714285714,0.3384615384615385,0.32432432432432434,0.782608695652174,0.3333333333333333,0.6304347826086957,0.7115384615384616,0.35555555555555557,0.7083333333333334,0.6181818181818182,0.6458333333333334,0.6153846153846154,0.7021276595744681,0.44680851063829785,0.6041666666666666,0.3333333333333333,0.29545454545454547,0.6190476190476191,0.6911764705882353,0.6379310344827587,0.391304347826087,0.6595744680851063,0.53125,0.8636363636363636,0.6976744186046512,0.475,0.532258064516129,0.5098039215686274,0.43548387096774194,0.6470588235294118,0.4696969696969697,0.5192307692307693,0.6382978723404256,0.42424242424242425,0.7,0.6976744186046512,0.3492063492063492,0.7536231884057971,0.7777777777777778,0.8372093023255814,0.7045454545454546,0.43137254901960786,0.45098039215686275,0.7083333333333334,0.3492063492063492,0.5283018867924528,0.4264705882352941,0.7368421052631579,0.19047619047619047,0.5454545454545454,0.5636363636363636,0.45714285714285713,0.5230769230769231,0.5,0.40384615384615385,0.6046511627906976,0.7,0.6458333333333334,0.9347826086956522,0.1509433962264151,0.6451612903225806,0.6,0.3333333333333333,0.6111111111111112,0.9210526315789473,0.5333333333333333,0.6326530612244898,0.7435897435897436,0.5833333333333334,0.8,0.7619047619047619,0.5952380952380952,0.6507936507936508,0.4772727272727273,0.2923076923076923,0.5,0.4418604651162791,0.3181818181818182,0.425531914893617,0.34615384615384615,0.7678571428571429,0.328125,0.32432432432432434,0.55,0.660377358490566,0.6949152542372882,0.3148148148148148,0.9148936170212766,0.3541666666666667,0.55,0.6,0.3695652173913043,0.4918032786885246,0.7674418604651163,0.38461538461538464,0.7457627118644068,0.6458333333333334,0.7857142857142857,0.45,0.55,0.4727272727272727,0.8,0.543859649122807,0.6363636363636364,0.696969696969697,0.3235294117647059,0.23255813953488372,0.6,0.5957446808510638,0.475,0.576271186440678,0.5538461538461539,0.34328358208955223,0.3384615384615385,0.575,0.5,0.5217391304347826,0.5833333333333334,0.38461538461538464,0.675,0.32926829268292684,0.8571428571428571,0.5555555555555556,0.5263157894736842,0.8035714285714286,0.7551020408163265,0.425531914893617,0.6101694915254238,0.559322033898305,0.8,0.29545454545454547,0.6363636363636364,0.5263157894736842,0.8478260869565217,0.47619047619047616,0.37681159420289856,0.6,0.3076923076923077,0.8924731182795699,0.6153846153846154,0.3333333333333333,0.48717948717948717,0.7547169811320755,0.5967741935483871,0.6111111111111112,0.6739130434782609,0.6071428571428571,0.6458333333333334,0.6164383561643836,0.6444444444444445,0.5,0.7777777777777778,0.7073170731707317,0.6976744186046512,0.4,0.5581395348837209,0.5128205128205128,0.3333333333333333,0.9,0.6666666666666666,0.34615384615384615,0.5507246376811594,0.543859649122807,0.7380952380952381,0.49122807017543857,0.6351351351351351,0.68,0.8,0.4318181818181818,0.5128205128205128,0.8571428571428571,0.5,0.3409090909090909,0.34146341463414637,0.4117647058823529,0.53125,0.3958333333333333],\"xaxis\":\"x\",\"yaxis\":\"y\"},{\"alignmentgroup\":\"True\",\"bingroup\":\"x\",\"hovertemplate\":\"level_group=45<br>percent=%{x}<br>count=%{y}<extra></extra>\",\"legendgroup\":\"45\",\"marker\":{\"color\":\"#EF553B\",\"pattern\":{\"shape\":\"\"}},\"name\":\"45\",\"nbinsx\":5,\"offsetgroup\":\"45\",\"orientation\":\"v\",\"showlegend\":true,\"type\":\"histogram\",\"x\":[0.4387755102040816,0.620253164556962,0.6333333333333333,0.265625,0.5901639344262295,0.603448275862069,0.6329113924050633,0.75,0.5757575757575758,0.47058823529411764,0.5483870967741935,0.5616438356164384,0.4606741573033708,0.6593406593406593,0.7142857142857143,0.5833333333333334,0.38636363636363635,0.3723404255319149,0.4943820224719101,0.5666666666666667,0.5942028985507246,0.47540983606557374,0.7010309278350515,0.20634920634920634,0.7671232876712328,0.5822784810126582,0.56,0.8225806451612904,0.43103448275862066,0.46774193548387094,0.7636363636363637,0.559322033898305,0.4673913043478261,0.35526315789473684,0.4,0.6585365853658537,0.5784313725490197,0.7671232876712328,0.5909090909090909,0.5070422535211268,0.5172413793103449,0.5833333333333334,0.6521739130434783,0.6666666666666666,0.6464646464646465,0.26153846153846155,0.494949494949495,0.639344262295082,0.136986301369863,0.38961038961038963,0.43478260869565216,0.5373134328358209,0.5238095238095238,0.5692307692307692,0.6607142857142857,0.8732394366197183,0.4117647058823529,0.7571428571428571,0.6329113924050633,0.5333333333333333,0.5362318840579711,0.7285714285714285,0.44871794871794873,0.5657894736842105,0.8472222222222222,0.28,0.7468354430379747,0.5942028985507246,0.7746478873239436,0.5522388059701493,0.6451612903225806,0.5802469135802469,0.5483870967741935,0.36666666666666664,0.5084745762711864,0.7575757575757576,0.75,0.4576271186440678,0.7727272727272727,0.7088607594936709,0.6229508196721312,0.5694444444444444,0.30303030303030304,0.803030303030303,0.7162162162162162,0.6144578313253012,0.8787878787878788,0.40625,0.46153846153846156,0.2375,0.30303030303030304,0.35135135135135137,0.4732142857142857,0.40860215053763443,0.9142857142857143,0.5277777777777778,0.46551724137931033,0.88,0.47368421052631576,0.6057692307692307,0.21052631578947367,0.6822429906542056,0.6901408450704225,0.65,0.5,0.41379310344827586,0.5932203389830508,0.6052631578947368,0.5,0.3968253968253968,0.8142857142857143,0.2545454545454545,0.7126436781609196,0.2641509433962264,0.6470588235294118,0.3939393939393939,0.7115384615384616,0.7741935483870968,0.2878787878787879,0.47435897435897434,0.6666666666666666,0.26506024096385544,0.40298507462686567,0.5652173913043478,0.5135135135135135,0.6333333333333333,0.5303030303030303,0.6022727272727273,0.5285714285714286,0.7808219178082192,0.4057971014492754,0.7246376811594203,0.782608695652174,0.7530864197530864,0.625,0.7,0.8923076923076924,0.5694444444444444,0.5645161290322581],\"xaxis\":\"x\",\"yaxis\":\"y\"},{\"alignmentgroup\":\"True\",\"bingroup\":\"x\",\"hovertemplate\":\"level_group=0<br>percent=%{x}<br>count=%{y}<extra></extra>\",\"legendgroup\":\"0\",\"marker\":{\"color\":\"#00cc96\",\"pattern\":{\"shape\":\"\"}},\"name\":\"0\",\"nbinsx\":5,\"offsetgroup\":\"0\",\"orientation\":\"v\",\"showlegend\":true,\"type\":\"histogram\",\"x\":[1.0,1.0,1.0,0.8333333333333334,0.875,0.631578947368421,0.5714285714285714,1.0,0.9230769230769231,1.0,1.0,0.8823529411764706,0.7,1.0,1.0,0.5,1.0,0.4,1.0,0.6666666666666666,0.35714285714285715,0.6666666666666666,0.5,0.8125,0.07142857142857142,0.6666666666666666,1.0,1.0,1.0,0.6428571428571429,0.6666666666666666,1.0,0.6,1.0,0.2857142857142857,0.2,0.9285714285714286,0.3157894736842105,1.0,1.0,0.7058823529411765,0.3333333333333333,0.42857142857142855,0.75,1.0,1.0,0.4375,0.5714285714285714,1.0,0.7,1.0,0.2857142857142857,1.0,1.0,0.5,1.0,0.6666666666666666,0.9166666666666666,0.9230769230769231,0.7272727272727273,0.75,0.2,1.0,1.0,1.0,1.0,1.0,0.14285714285714285,1.0,0.5555555555555556,1.0,0.4117647058823529,0.5454545454545454,1.0,0.18181818181818182,1.0,1.0,0.16666666666666666,0.9166666666666666,0.38461538461538464,0.7692307692307693,0.8181818181818182,1.0,0.3684210526315789,0.3076923076923077,1.0,1.0,0.7777777777777778,0.14285714285714285,0.0625,0.75,1.0,0.8571428571428571,0.75,1.0,1.0,1.0,0.7777777777777778,0.1,1.0,0.4,1.0,0.3333333333333333,1.0,0.5454545454545454,0.6428571428571429,1.0,1.0,0.6666666666666666,0.35714285714285715,1.0,0.9,0.8571428571428571,1.0,0.3333333333333333,0.5,0.3333333333333333,0.75,0.4375,1.0,0.6666666666666666,1.0,1.0,0.8095238095238095,0.7333333333333333,1.0,1.0,0.7777777777777778,1.0,0.4444444444444444,1.0,0.5454545454545454,1.0,0.8571428571428571,0.75,1.0,1.0,0.9090909090909091,0.9090909090909091,0.375,1.0,1.0,1.0,0.875,0.125,0.3,0.7777777777777778,1.0,0.05,1.0,1.0,1.0,0.7777777777777778,1.0,0.6666666666666666,0.4,1.0,0.2,0.25,1.0,0.5714285714285714,0.75,0.782608695652174,1.0,1.0,0.6,0.8,0.5454545454545454,0.25,0.85,1.0,0.4166666666666667,1.0,1.0,1.0,1.0,0.7692307692307693,0.5,0.7647058823529411,1.0,1.0,0.4444444444444444,0.2,0.5,0.95,0.7,0.5,1.0,1.0,1.0,1.0,0.35714285714285715,1.0,1.0,1.0,0.8,0.7142857142857143,0.4375,0.5,0.5714285714285714,0.9,0.2857142857142857,1.0,0.35294117647058826,1.0,1.0,0.3,0.9230769230769231,1.0,0.16666666666666666,1.0,1.0,0.6153846153846154,1.0,0.6666666666666666,1.0,1.0,0.5,1.0,1.0,1.0,1.0,0.875,0.5384615384615384,0.8285714285714286,0.6,0.125,1.0,1.0,0.3333333333333333,0.5,1.0,0.42857142857142855,1.0,0.5,0.34782608695652173,1.0,1.0,0.5714285714285714,0.36363636363636365,0.36363636363636365,0.8181818181818182,0.9,0.4,1.0,0.5714285714285714,0.44,0.36363636363636365,0.875,0.5,0.7857142857142857,1.0,0.6666666666666666,1.0,1.0,1.0,1.0,1.0,0.8571428571428571,0.6153846153846154,0.6428571428571429,1.0,1.0,0.125,1.0,0.3333333333333333,1.0,1.0,0.2222222222222222,0.7222222222222222,0.6666666666666666,0.2,0.9375,1.0,1.0,0.46153846153846156,1.0,1.0,0.14285714285714285,0.47368421052631576,1.0,0.5454545454545454,0.75,1.0,0.2727272727272727,1.0,0.6666666666666666,1.0,0.6,0.3888888888888889,0.6,0.46153846153846156,0.0625,1.0,0.30434782608695654,0.6363636363636364,1.0,0.375,0.5,1.0,0.75,1.0,0.7777777777777778,1.0,0.9090909090909091,0.38461538461538464,0.2,0.5,0.2,0.7333333333333333,0.5555555555555556,0.23076923076923078,0.9333333333333333,0.75,0.16666666666666666,0.4166666666666667,0.45454545454545453,1.0,0.75,0.8,1.0,0.5714285714285714,1.0,1.0,0.46153846153846156,0.5555555555555556,0.25,0.5263157894736842,0.5454545454545454,0.6,0.5454545454545454,1.0,0.6923076923076923,1.0,0.9285714285714286,0.5,1.0,1.0,1.0,0.5714285714285714,1.0,1.0,1.0,0.5,0.5714285714285714,0.9047619047619048,1.0,0.7,0.5,1.0,0.5714285714285714,0.6,1.0,1.0,1.0,1.0,0.5,1.0,0.2,0.6666666666666666,0.7142857142857143,0.6842105263157895,0.9,0.6,0.2727272727272727,1.0,1.0,0.6521739130434783,1.0,1.0,0.6666666666666666,1.0,1.0,0.4444444444444444,1.0,0.5151515151515151,1.0,0.7692307692307693,1.0,0.7894736842105263,1.0,1.0,1.0,0.4,0.6666666666666666,0.4,0.6428571428571429,0.7,1.0,0.8571428571428571,0.6428571428571429,1.0,0.35714285714285715,0.6666666666666666,0.75,0.6666666666666666,0.6153846153846154,0.35294117647058826,0.5,0.7692307692307693,1.0,0.8181818181818182,0.9090909090909091,0.08333333333333333,0.07692307692307693,1.0,1.0,1.0,1.0,0.14285714285714285,0.6,1.0,0.14285714285714285,0.42857142857142855,1.0,0.3333333333333333,1.0,0.5,1.0,0.4444444444444444,0.375,1.0,0.6,0.9230769230769231,0.4666666666666667,0.4,0.8,1.0,0.5714285714285714,0.4166666666666667,0.875,1.0,1.0,0.5454545454545454,0.8181818181818182,1.0,1.0,1.0,0.5,0.6470588235294118,0.16666666666666666,1.0,1.0],\"xaxis\":\"x\",\"yaxis\":\"y\"},{\"alignmentgroup\":\"True\",\"bingroup\":\"x\",\"hovertemplate\":\"level_group=15<br>percent=%{x}<br>count=%{y}<extra></extra>\",\"legendgroup\":\"15\",\"marker\":{\"color\":\"#ab63fa\",\"pattern\":{\"shape\":\"\"}},\"name\":\"15\",\"nbinsx\":5,\"offsetgroup\":\"15\",\"orientation\":\"v\",\"showlegend\":true,\"type\":\"histogram\",\"x\":[0.43478260869565216,0.2777777777777778,0.45,0.76,0.3870967741935484,0.375,0.21428571428571427,0.5862068965517241,0.53125,0.6521739130434783,0.43478260869565216,0.55,0.8208955223880597,0.15789473684210525,0.9411764705882353,0.5555555555555556,0.2,0.8269230769230769,0.5405405405405406,0.6666666666666666,0.20689655172413793,0.9565217391304348,0.391304347826087,0.7407407407407407,0.4375,0.7142857142857143,0.5,0.43902439024390244,0.6470588235294118,0.84,0.4642857142857143,0.4166666666666667,0.7619047619047619,0.14285714285714285,0.5,0.48484848484848486,0.125,0.04,0.05,0.16666666666666666,0.8125,1.0,0.75,0.5853658536585366,0.5833333333333334,0.3333333333333333,0.5476190476190477,0.625,0.5555555555555556,0.4,0.5,0.37209302325581395,0.64,0.375,0.6666666666666666,0.25,0.6190476190476191,0.40540540540540543,0.7346938775510204,0.7916666666666666,0.5428571428571428,0.30434782608695654,0.627906976744186,0.375,1.0,0.17777777777777778,0.6764705882352942,0.40816326530612246,0.8421052631578947,0.4,0.6060606060606061,0.9411764705882353,0.8269230769230769,0.3611111111111111,0.8636363636363636,0.5476190476190477,0.2,0.5813953488372093,0.625,0.6363636363636364,0.8,0.24,0.6470588235294118,0.29545454545454547,0.42857142857142855,0.2777777777777778,0.7037037037037037,0.5,0.1935483870967742,0.1875,0.6285714285714286,0.8,0.25,0.6,0.46,0.6756756756756757,0.4230769230769231,0.6578947368421053,0.42857142857142855,0.6764705882352942,0.17647058823529413,0.5789473684210527,0.6842105263157895,0.625,0.3870967741935484,0.4594594594594595,0.6153846153846154,0.058823529411764705,0.5,0.21875,0.8636363636363636,0.6153846153846154,0.4883720930232558,0.46153846153846156,0.7297297297297297,0.5714285714285714,0.6,0.4444444444444444,0.7419354838709677,0.2571428571428571,0.46511627906976744,0.23809523809523808,0.53125,0.8888888888888888,0.8666666666666667,0.6,0.9583333333333334,0.5952380952380952,0.8125,0.48,0.7777777777777778,0.4482758620689655,0.2777777777777778,0.3181818181818182,0.5909090909090909,0.6666666666666666,0.9642857142857143,0.23333333333333334,0.28,0.48,0.13333333333333333,0.5384615384615384,0.4482758620689655,0.68,0.4878048780487805,0.2692307692307692,0.3333333333333333,0.6666666666666666,0.034482758620689655,0.8269230769230769,0.5833333333333334,0.6153846153846154,0.45,1.0,0.6666666666666666,0.7727272727272727,0.5238095238095238,0.5,0.3333333333333333,0.5,0.2608695652173913,0.35294117647058826,0.5,0.8181818181818182,0.42857142857142855,0.8,0.23255813953488372,0.6111111111111112,0.47368421052631576,0.7272727272727273,0.6666666666666666,0.3972602739726027,0.3170731707317073,0.4,0.7647058823529411,0.925,0.2962962962962963,0.782608695652174,0.34285714285714286,0.36363636363636365,0.1,0.2413793103448276,0.6470588235294118,0.35,0.6,0.28,0.5238095238095238,0.71875,0.20833333333333334,0.41975308641975306,0.47058823529411764,0.7878787878787878,0.5,0.4444444444444444,0.6333333333333333,0.631578947368421,0.6046511627906976,0.4,0.5769230769230769,0.85,0.6666666666666666,0.35294117647058826,0.7674418604651163,0.5121951219512195,0.1724137931034483,0.56,0.6,0.4827586206896552,0.5675675675675675,0.4,0.9642857142857143,0.6666666666666666,0.6666666666666666,0.48717948717948717,0.34615384615384615,1.0,0.2564102564102564,0.6031746031746031,0.7058823529411765,0.25,0.2608695652173913,0.5333333333333333,1.0,0.4722222222222222,0.6666666666666666,0.5,0.6296296296296297,0.6153846153846154,0.375,0.23529411764705882,0.5,0.11538461538461539,0.6271186440677966,0.4897959183673469,0.7777777777777778,0.6818181818181818,0.3333333333333333,0.7317073170731707,0.125,0.46551724137931033,0.717948717948718,0.4,0.7647058823529411,0.55,0.2647058823529412,0.8,0.45454545454545453,0.2857142857142857,0.4583333333333333,0.8148148148148148,0.2727272727272727,0.2558139534883721,0.2765957446808511,0.9411764705882353,0.7647058823529411,0.2727272727272727,0.2647058823529412,0.3333333333333333,0.6470588235294118,0.65,0.23529411764705882,0.40625,0.6923076923076923,0.36363636363636365,0.4444444444444444,0.4358974358974359,0.5172413793103449,0.7647058823529411,0.7142857142857143,0.8888888888888888,0.5555555555555556,0.42105263157894735,0.05263157894736842,0.2413793103448276,0.5128205128205128,0.375,0.4117647058823529,0.8064516129032258,0.2,0.49206349206349204,0.43243243243243246,0.72,0.72,0.6530612244897959,0.5757575757575758,0.5,0.3333333333333333,0.43333333333333335,0.5,0.9215686274509803,0.30303030303030304,0.45161290322580644,0.4827586206896552,0.1935483870967742,0.375,0.3,0.7560975609756098,0.6,0.41379310344827586,0.358974358974359,0.6521739130434783,0.3888888888888889,0.6,0.5087719298245614,0.35294117647058826,0.6491228070175439,0.6666666666666666,0.6666666666666666,0.09090909090909091,0.6470588235294118,0.27586206896551724,0.5,0.375,0.10344827586206896,0.6,0.37037037037037035,0.23076923076923078,0.5714285714285714,0.375,0.375,0.42105263157894735,0.6470588235294118,0.5925925925925926,0.29545454545454547,0.5166666666666667,0.8,0.65,0.48484848484848486,0.3333333333333333,0.5,0.5384615384615384,0.35294117647058826,0.7105263157894737,0.6842105263157895,0.2608695652173913,0.6956521739130435,0.43137254901960786,0.5789473684210527,0.25,0.625,0.7045454545454546,0.35294117647058826,0.35294117647058826,0.8125,0.6444444444444445,0.6444444444444445,0.391304347826087,0.47368421052631576,0.391304347826087,0.5,0.625,0.6785714285714286,0.3684210526315789,0.3333333333333333,0.5833333333333334,0.5142857142857142,0.7058823529411765,0.3783783783783784,0.35135135135135137,0.8461538461538461,0.37209302325581395,0.8285714285714286,0.35714285714285715,0.2413793103448276,0.5833333333333334,0.4782608695652174,0.5416666666666666,0.4827586206896552,0.34210526315789475,0.7,0.5416666666666666,0.5517241379310345,0.8823529411764706,0.5588235294117647,0.7058823529411765,0.6333333333333333,0.20588235294117646,0.4772727272727273,0.35555555555555557,0.7142857142857143,1.0,0.8823529411764706,0.5925925925925926,0.8723404255319149,0.6078431372549019,0.5833333333333334,0.45454545454545453,0.7241379310344828,0.7741935483870968,0.5918367346938775,0.8,0.6285714285714286,0.35714285714285715,0.4864864864864865,0.3888888888888889,0.46153846153846156,0.375,0.23333333333333334,0.2857142857142857,0.6086956521739131,0.40625,1.0,0.06896551724137931,0.65625,0.3333333333333333,0.5217391304347826,0.6666666666666666,1.0,0.7037037037037037,0.7647058823529411,0.41935483870967744,0.45454545454545453,0.10344827586206896,0.24242424242424243,0.7674418604651163,0.6666666666666666,0.2727272727272727,0.3333333333333333,0.6470588235294118,0.48,0.7037037037037037,0.6086956521739131,0.6206896551724138,0.5714285714285714,0.0967741935483871,0.6,1.0,0.8085106382978723,0.5641025641025641,0.4634146341463415,0.7419354838709677,0.5714285714285714,0.38636363636363635,0.7391304347826086,0.9354838709677419,0.8461538461538461,0.5714285714285714,0.95,0.5833333333333334,0.5263157894736842,0.48484848484848486,0.0625,0.34285714285714286,0.6,0.7272727272727273,0.8518518518518519,0.4,0.3333333333333333,0.7777777777777778,0.7142857142857143,0.4583333333333333,0.6296296296296297,0.5555555555555556,1.0,0.8,0.28,0.5,0.7297297297297297,0.19230769230769232,0.9615384615384616,0.5942028985507246,0.35294117647058826,0.5238095238095238,0.5714285714285714,0.631578947368421,0.4444444444444444,0.3076923076923077,0.5185185185185185,0.8648648648648649,0.5641025641025641,0.5,0.6666666666666666,0.6470588235294118,0.75,0.9545454545454546,0.5757575757575758,0.36363636363636365,1.0,0.32432432432432434,0.6842105263157895,0.25862068965517243,0.9230769230769231,0.2857142857142857,0.2608695652173913,0.6944444444444444,0.45454545454545453,0.18181818181818182,0.5925925925925926,0.6666666666666666,0.8636363636363636,0.5178571428571429,0.42857142857142855,0.38,0.6363636363636364,0.3939393939393939,0.3333333333333333,0.5714285714285714,0.9375,0.2222222222222222,0.42105263157894735,0.7714285714285715,0.44680851063829785,0.6666666666666666,0.8518518518518519,0.10526315789473684,0.42857142857142855,0.71875,0.36,0.4642857142857143,0.425531914893617,0.18421052631578946,0.6923076923076923,1.0,0.45454545454545453,0.48,0.4117647058823529,0.5869565217391305,0.42105263157894735,0.6363636363636364,0.2916666666666667,0.5,0.45454545454545453,0.696969696969697,0.6,0.7674418604651163,0.3157894736842105,0.05263157894736842,0.7142857142857143,0.5517241379310345,0.23076923076923078,0.967741935483871,0.8571428571428571,0.8157894736842105,0.3684210526315789],\"xaxis\":\"x\",\"yaxis\":\"y\"},{\"alignmentgroup\":\"True\",\"bingroup\":\"x\",\"hovertemplate\":\"level_group=75<br>percent=%{x}<br>count=%{y}<extra></extra>\",\"legendgroup\":\"75\",\"marker\":{\"color\":\"#FFA15A\",\"pattern\":{\"shape\":\"\"}},\"name\":\"75\",\"nbinsx\":5,\"offsetgroup\":\"75\",\"orientation\":\"v\",\"showlegend\":true,\"type\":\"histogram\",\"x\":[0.7833333333333333,0.4444444444444444,0.7394957983193278,0.5876288659793815,0.6636363636363637,0.5739130434782609],\"xaxis\":\"x\",\"yaxis\":\"y\"},{\"alignmentgroup\":\"True\",\"bingroup\":\"x\",\"hovertemplate\":\"level_group=60<br>percent=%{x}<br>count=%{y}<extra></extra>\",\"legendgroup\":\"60\",\"marker\":{\"color\":\"#19d3f3\",\"pattern\":{\"shape\":\"\"}},\"name\":\"60\",\"nbinsx\":5,\"offsetgroup\":\"60\",\"orientation\":\"v\",\"showlegend\":true,\"type\":\"histogram\",\"x\":[0.5238095238095238,0.7433628318584071,0.6075949367088608,0.5535714285714286,0.6265060240963856,0.6666666666666666,0.6,0.5319148936170213,0.5052631578947369,0.7733333333333333,0.5833333333333334,0.47413793103448276,0.3829787234042553,0.3291139240506329,0.26506024096385544,0.6194690265486725,0.5392156862745098,0.3181818181818182,0.81,0.38636363636363635,0.8055555555555556,0.46808510638297873],\"xaxis\":\"x\",\"yaxis\":\"y\"},{\"alignmentgroup\":\"True\",\"bingroup\":\"x\",\"hovertemplate\":\"level_group=90<br>percent=%{x}<br>count=%{y}<extra></extra>\",\"legendgroup\":\"90\",\"marker\":{\"color\":\"#FF6692\",\"pattern\":{\"shape\":\"\"}},\"name\":\"90\",\"nbinsx\":5,\"offsetgroup\":\"90\",\"orientation\":\"v\",\"showlegend\":true,\"type\":\"histogram\",\"x\":[0.6493506493506493],\"xaxis\":\"x\",\"yaxis\":\"y\"}],                        {\"barmode\":\"group\",\"legend\":{\"title\":{\"text\":\"level_group\"},\"tracegroupgap\":0},\"template\":{\"data\":{\"bar\":[{\"error_x\":{\"color\":\"#2a3f5f\"},\"error_y\":{\"color\":\"#2a3f5f\"},\"marker\":{\"line\":{\"color\":\"#E5ECF6\",\"width\":0.5},\"pattern\":{\"fillmode\":\"overlay\",\"size\":10,\"solidity\":0.2}},\"type\":\"bar\"}],\"barpolar\":[{\"marker\":{\"line\":{\"color\":\"#E5ECF6\",\"width\":0.5},\"pattern\":{\"fillmode\":\"overlay\",\"size\":10,\"solidity\":0.2}},\"type\":\"barpolar\"}],\"carpet\":[{\"aaxis\":{\"endlinecolor\":\"#2a3f5f\",\"gridcolor\":\"white\",\"linecolor\":\"white\",\"minorgridcolor\":\"white\",\"startlinecolor\":\"#2a3f5f\"},\"baxis\":{\"endlinecolor\":\"#2a3f5f\",\"gridcolor\":\"white\",\"linecolor\":\"white\",\"minorgridcolor\":\"white\",\"startlinecolor\":\"#2a3f5f\"},\"type\":\"carpet\"}],\"choropleth\":[{\"colorbar\":{\"outlinewidth\":0,\"ticks\":\"\"},\"type\":\"choropleth\"}],\"contour\":[{\"colorbar\":{\"outlinewidth\":0,\"ticks\":\"\"},\"colorscale\":[[0.0,\"#0d0887\"],[0.1111111111111111,\"#46039f\"],[0.2222222222222222,\"#7201a8\"],[0.3333333333333333,\"#9c179e\"],[0.4444444444444444,\"#bd3786\"],[0.5555555555555556,\"#d8576b\"],[0.6666666666666666,\"#ed7953\"],[0.7777777777777778,\"#fb9f3a\"],[0.8888888888888888,\"#fdca26\"],[1.0,\"#f0f921\"]],\"type\":\"contour\"}],\"contourcarpet\":[{\"colorbar\":{\"outlinewidth\":0,\"ticks\":\"\"},\"type\":\"contourcarpet\"}],\"heatmap\":[{\"colorbar\":{\"outlinewidth\":0,\"ticks\":\"\"},\"colorscale\":[[0.0,\"#0d0887\"],[0.1111111111111111,\"#46039f\"],[0.2222222222222222,\"#7201a8\"],[0.3333333333333333,\"#9c179e\"],[0.4444444444444444,\"#bd3786\"],[0.5555555555555556,\"#d8576b\"],[0.6666666666666666,\"#ed7953\"],[0.7777777777777778,\"#fb9f3a\"],[0.8888888888888888,\"#fdca26\"],[1.0,\"#f0f921\"]],\"type\":\"heatmap\"}],\"heatmapgl\":[{\"colorbar\":{\"outlinewidth\":0,\"ticks\":\"\"},\"colorscale\":[[0.0,\"#0d0887\"],[0.1111111111111111,\"#46039f\"],[0.2222222222222222,\"#7201a8\"],[0.3333333333333333,\"#9c179e\"],[0.4444444444444444,\"#bd3786\"],[0.5555555555555556,\"#d8576b\"],[0.6666666666666666,\"#ed7953\"],[0.7777777777777778,\"#fb9f3a\"],[0.8888888888888888,\"#fdca26\"],[1.0,\"#f0f921\"]],\"type\":\"heatmapgl\"}],\"histogram\":[{\"marker\":{\"pattern\":{\"fillmode\":\"overlay\",\"size\":10,\"solidity\":0.2}},\"type\":\"histogram\"}],\"histogram2d\":[{\"colorbar\":{\"outlinewidth\":0,\"ticks\":\"\"},\"colorscale\":[[0.0,\"#0d0887\"],[0.1111111111111111,\"#46039f\"],[0.2222222222222222,\"#7201a8\"],[0.3333333333333333,\"#9c179e\"],[0.4444444444444444,\"#bd3786\"],[0.5555555555555556,\"#d8576b\"],[0.6666666666666666,\"#ed7953\"],[0.7777777777777778,\"#fb9f3a\"],[0.8888888888888888,\"#fdca26\"],[1.0,\"#f0f921\"]],\"type\":\"histogram2d\"}],\"histogram2dcontour\":[{\"colorbar\":{\"outlinewidth\":0,\"ticks\":\"\"},\"colorscale\":[[0.0,\"#0d0887\"],[0.1111111111111111,\"#46039f\"],[0.2222222222222222,\"#7201a8\"],[0.3333333333333333,\"#9c179e\"],[0.4444444444444444,\"#bd3786\"],[0.5555555555555556,\"#d8576b\"],[0.6666666666666666,\"#ed7953\"],[0.7777777777777778,\"#fb9f3a\"],[0.8888888888888888,\"#fdca26\"],[1.0,\"#f0f921\"]],\"type\":\"histogram2dcontour\"}],\"mesh3d\":[{\"colorbar\":{\"outlinewidth\":0,\"ticks\":\"\"},\"type\":\"mesh3d\"}],\"parcoords\":[{\"line\":{\"colorbar\":{\"outlinewidth\":0,\"ticks\":\"\"}},\"type\":\"parcoords\"}],\"pie\":[{\"automargin\":true,\"type\":\"pie\"}],\"scatter\":[{\"marker\":{\"colorbar\":{\"outlinewidth\":0,\"ticks\":\"\"}},\"type\":\"scatter\"}],\"scatter3d\":[{\"line\":{\"colorbar\":{\"outlinewidth\":0,\"ticks\":\"\"}},\"marker\":{\"colorbar\":{\"outlinewidth\":0,\"ticks\":\"\"}},\"type\":\"scatter3d\"}],\"scattercarpet\":[{\"marker\":{\"colorbar\":{\"outlinewidth\":0,\"ticks\":\"\"}},\"type\":\"scattercarpet\"}],\"scattergeo\":[{\"marker\":{\"colorbar\":{\"outlinewidth\":0,\"ticks\":\"\"}},\"type\":\"scattergeo\"}],\"scattergl\":[{\"marker\":{\"colorbar\":{\"outlinewidth\":0,\"ticks\":\"\"}},\"type\":\"scattergl\"}],\"scattermapbox\":[{\"marker\":{\"colorbar\":{\"outlinewidth\":0,\"ticks\":\"\"}},\"type\":\"scattermapbox\"}],\"scatterpolar\":[{\"marker\":{\"colorbar\":{\"outlinewidth\":0,\"ticks\":\"\"}},\"type\":\"scatterpolar\"}],\"scatterpolargl\":[{\"marker\":{\"colorbar\":{\"outlinewidth\":0,\"ticks\":\"\"}},\"type\":\"scatterpolargl\"}],\"scatterternary\":[{\"marker\":{\"colorbar\":{\"outlinewidth\":0,\"ticks\":\"\"}},\"type\":\"scatterternary\"}],\"surface\":[{\"colorbar\":{\"outlinewidth\":0,\"ticks\":\"\"},\"colorscale\":[[0.0,\"#0d0887\"],[0.1111111111111111,\"#46039f\"],[0.2222222222222222,\"#7201a8\"],[0.3333333333333333,\"#9c179e\"],[0.4444444444444444,\"#bd3786\"],[0.5555555555555556,\"#d8576b\"],[0.6666666666666666,\"#ed7953\"],[0.7777777777777778,\"#fb9f3a\"],[0.8888888888888888,\"#fdca26\"],[1.0,\"#f0f921\"]],\"type\":\"surface\"}],\"table\":[{\"cells\":{\"fill\":{\"color\":\"#EBF0F8\"},\"line\":{\"color\":\"white\"}},\"header\":{\"fill\":{\"color\":\"#C8D4E3\"},\"line\":{\"color\":\"white\"}},\"type\":\"table\"}]},\"layout\":{\"annotationdefaults\":{\"arrowcolor\":\"#2a3f5f\",\"arrowhead\":0,\"arrowwidth\":1},\"autotypenumbers\":\"strict\",\"coloraxis\":{\"colorbar\":{\"outlinewidth\":0,\"ticks\":\"\"}},\"colorscale\":{\"diverging\":[[0,\"#8e0152\"],[0.1,\"#c51b7d\"],[0.2,\"#de77ae\"],[0.3,\"#f1b6da\"],[0.4,\"#fde0ef\"],[0.5,\"#f7f7f7\"],[0.6,\"#e6f5d0\"],[0.7,\"#b8e186\"],[0.8,\"#7fbc41\"],[0.9,\"#4d9221\"],[1,\"#276419\"]],\"sequential\":[[0.0,\"#0d0887\"],[0.1111111111111111,\"#46039f\"],[0.2222222222222222,\"#7201a8\"],[0.3333333333333333,\"#9c179e\"],[0.4444444444444444,\"#bd3786\"],[0.5555555555555556,\"#d8576b\"],[0.6666666666666666,\"#ed7953\"],[0.7777777777777778,\"#fb9f3a\"],[0.8888888888888888,\"#fdca26\"],[1.0,\"#f0f921\"]],\"sequentialminus\":[[0.0,\"#0d0887\"],[0.1111111111111111,\"#46039f\"],[0.2222222222222222,\"#7201a8\"],[0.3333333333333333,\"#9c179e\"],[0.4444444444444444,\"#bd3786\"],[0.5555555555555556,\"#d8576b\"],[0.6666666666666666,\"#ed7953\"],[0.7777777777777778,\"#fb9f3a\"],[0.8888888888888888,\"#fdca26\"],[1.0,\"#f0f921\"]]},\"colorway\":[\"#636efa\",\"#EF553B\",\"#00cc96\",\"#ab63fa\",\"#FFA15A\",\"#19d3f3\",\"#FF6692\",\"#B6E880\",\"#FF97FF\",\"#FECB52\"],\"font\":{\"color\":\"#2a3f5f\"},\"geo\":{\"bgcolor\":\"white\",\"lakecolor\":\"white\",\"landcolor\":\"#E5ECF6\",\"showlakes\":true,\"showland\":true,\"subunitcolor\":\"white\"},\"hoverlabel\":{\"align\":\"left\"},\"hovermode\":\"closest\",\"mapbox\":{\"style\":\"light\"},\"paper_bgcolor\":\"white\",\"plot_bgcolor\":\"#E5ECF6\",\"polar\":{\"angularaxis\":{\"gridcolor\":\"white\",\"linecolor\":\"white\",\"ticks\":\"\"},\"bgcolor\":\"#E5ECF6\",\"radialaxis\":{\"gridcolor\":\"white\",\"linecolor\":\"white\",\"ticks\":\"\"}},\"scene\":{\"xaxis\":{\"backgroundcolor\":\"#E5ECF6\",\"gridcolor\":\"white\",\"gridwidth\":2,\"linecolor\":\"white\",\"showbackground\":true,\"ticks\":\"\",\"zerolinecolor\":\"white\"},\"yaxis\":{\"backgroundcolor\":\"#E5ECF6\",\"gridcolor\":\"white\",\"gridwidth\":2,\"linecolor\":\"white\",\"showbackground\":true,\"ticks\":\"\",\"zerolinecolor\":\"white\"},\"zaxis\":{\"backgroundcolor\":\"#E5ECF6\",\"gridcolor\":\"white\",\"gridwidth\":2,\"linecolor\":\"white\",\"showbackground\":true,\"ticks\":\"\",\"zerolinecolor\":\"white\"}},\"shapedefaults\":{\"line\":{\"color\":\"#2a3f5f\"}},\"ternary\":{\"aaxis\":{\"gridcolor\":\"white\",\"linecolor\":\"white\",\"ticks\":\"\"},\"baxis\":{\"gridcolor\":\"white\",\"linecolor\":\"white\",\"ticks\":\"\"},\"bgcolor\":\"#E5ECF6\",\"caxis\":{\"gridcolor\":\"white\",\"linecolor\":\"white\",\"ticks\":\"\"}},\"title\":{\"x\":0.05},\"xaxis\":{\"automargin\":true,\"gridcolor\":\"white\",\"linecolor\":\"white\",\"ticks\":\"\",\"title\":{\"standoff\":15},\"zerolinecolor\":\"white\",\"zerolinewidth\":2},\"yaxis\":{\"automargin\":true,\"gridcolor\":\"white\",\"linecolor\":\"white\",\"ticks\":\"\",\"title\":{\"standoff\":15},\"zerolinecolor\":\"white\",\"zerolinewidth\":2}}},\"title\":{\"text\":\"With spent_replay for churn = 1\"},\"xaxis\":{\"anchor\":\"y\",\"domain\":[0.0,1.0],\"title\":{\"text\":\"percent\"}},\"yaxis\":{\"anchor\":\"x\",\"domain\":[0.0,1.0],\"title\":{\"text\":\"count\"}}},                        {\"responsive\": true}                    ).then(function(){\n",
              "                            \n",
              "var gd = document.getElementById('466014e4-6fc5-45ef-aa6d-3fc56c584d02');\n",
              "var x = new MutationObserver(function (mutations, observer) {{\n",
              "        var display = window.getComputedStyle(gd).display;\n",
              "        if (!display || display === 'none') {{\n",
              "            console.log([gd, 'removed!']);\n",
              "            Plotly.purge(gd);\n",
              "            observer.disconnect();\n",
              "        }}\n",
              "}});\n",
              "\n",
              "// Listen for the removal of the full notebook cells\n",
              "var notebookContainer = gd.closest('#notebook-container');\n",
              "if (notebookContainer) {{\n",
              "    x.observe(notebookContainer, {childList: true});\n",
              "}}\n",
              "\n",
              "// Listen for the clearing of the current output cell\n",
              "var outputEl = gd.closest('.output');\n",
              "if (outputEl) {{\n",
              "    x.observe(outputEl, {childList: true});\n",
              "}}\n",
              "\n",
              "                        })                };                            </script>        </div>\n",
              "</body>\n",
              "</html>"
            ]
          },
          "metadata": {}
        }
      ]
    },
    {
      "cell_type": "code",
      "metadata": {
        "id": "ClKd_tZD160z",
        "colab": {
          "base_uri": "https://localhost:8080/"
        },
        "outputId": "7c3c00fc-b05e-4879-cf9b-79bdf073459f"
      },
      "source": [
        "px.histogram(table_24_kogort[(table_24_kogort['event_name'] == 'spent_replay') &\n",
        "                             (table_24_kogort['percent'] <= 1) &\n",
        "                              (table_24_kogort['churn'] == 0)], \n",
        "              x=\"percent\", color='level_group',\n",
        "            barmode='group',nbins=5,\n",
        "             title='With spent_replay for churn = 0')"
      ],
      "execution_count": null,
      "outputs": [
        {
          "output_type": "display_data",
          "data": {
            "text/html": [
              "<html>\n",
              "<head><meta charset=\"utf-8\" /></head>\n",
              "<body>\n",
              "    <div>            <script src=\"https://cdnjs.cloudflare.com/ajax/libs/mathjax/2.7.5/MathJax.js?config=TeX-AMS-MML_SVG\"></script><script type=\"text/javascript\">if (window.MathJax) {MathJax.Hub.Config({SVG: {font: \"STIX-Web\"}});}</script>                <script type=\"text/javascript\">window.PlotlyConfig = {MathJaxConfig: 'local'};</script>\n",
              "        <script src=\"https://cdn.plot.ly/plotly-2.3.1.min.js\"></script>                <div id=\"b9c17e3c-9d74-4cb0-aaf2-6b83ef63b9ff\" class=\"plotly-graph-div\" style=\"height:525px; width:100%;\"></div>            <script type=\"text/javascript\">                                    window.PLOTLYENV=window.PLOTLYENV || {};                                    if (document.getElementById(\"b9c17e3c-9d74-4cb0-aaf2-6b83ef63b9ff\")) {                    Plotly.newPlot(                        \"b9c17e3c-9d74-4cb0-aaf2-6b83ef63b9ff\",                        [{\"alignmentgroup\":\"True\",\"bingroup\":\"x\",\"hovertemplate\":\"level_group=0<br>percent=%{x}<br>count=%{y}<extra></extra>\",\"legendgroup\":\"0\",\"marker\":{\"color\":\"#636efa\",\"pattern\":{\"shape\":\"\"}},\"name\":\"0\",\"nbinsx\":5,\"offsetgroup\":\"0\",\"orientation\":\"v\",\"showlegend\":true,\"type\":\"histogram\",\"x\":[0.8,1.0,0.5,0.5454545454545454,1.0,1.0,1.0,0.7142857142857143,0.5,1.0,0.6666666666666666,1.0,0.5384615384615384,1.0,1.0,1.0,0.4,0.8461538461538461,0.9166666666666666,1.0,1.0,1.0,0.4,0.46153846153846156,0.8571428571428571,1.0,0.5454545454545454,1.0,1.0,1.0,0.7058823529411765,1.0,1.0,0.6363636363636364,1.0,0.125,0.5263157894736842,1.0,1.0,1.0,1.0,1.0,1.0,1.0,1.0,1.0,0.625,0.5454545454545454,1.0,1.0,0.6428571428571429,1.0,1.0,1.0,1.0,0.36363636363636365,1.0,1.0,1.0,1.0,1.0,1.0,1.0,0.3333333333333333,1.0,1.0,1.0,1.0,0.875,0.6,1.0,1.0,1.0,1.0,0.42857142857142855,0.36363636363636365,0.8636363636363636,0.75,1.0,1.0,1.0,0.8,1.0,1.0,1.0,1.0,1.0,0.7,1.0,1.0,1.0,1.0,1.0,0.8571428571428571,1.0,1.0,1.0,1.0,0.17647058823529413,1.0,0.21428571428571427,1.0,1.0,0.6666666666666666,1.0,0.5454545454545454,0.8571428571428571,1.0,1.0,0.6666666666666666,0.1111111111111111,1.0,1.0,1.0,0.75,1.0,0.25,1.0,0.4,0.5,0.5,1.0,0.5,1.0,0.631578947368421,1.0,1.0,1.0,1.0,1.0,1.0,1.0,0.7777777777777778,0.36363636363636365,1.0,0.5454545454545454,1.0,1.0,1.0,1.0,1.0,1.0,1.0,0.5,1.0,0.75,1.0,1.0,0.6,1.0,1.0,1.0,1.0,1.0,0.35294117647058826,0.8571428571428571,0.6363636363636364,1.0,1.0,1.0,1.0,1.0,1.0,0.2222222222222222,1.0,1.0,0.5454545454545454,0.8,0.36363636363636365,0.4166666666666667,1.0,1.0,1.0,1.0,0.42857142857142855,0.5,1.0,1.0,1.0,1.0,0.35714285714285715,1.0,1.0,1.0,1.0,0.9333333333333333,0.5,0.2857142857142857,0.6111111111111112,1.0,0.8666666666666667,0.875,1.0,1.0,1.0,1.0,0.2,0.2,1.0,0.8,0.2222222222222222,0.8,1.0,1.0,0.8571428571428571,0.2,1.0,0.75,0.4,0.375,1.0,1.0,1.0,1.0,0.2,1.0,0.5,1.0,0.18181818181818182,1.0,0.5833333333333334,0.8666666666666667,0.8,1.0,1.0,0.625,1.0,1.0,1.0,1.0,1.0,1.0,0.5454545454545454,0.8571428571428571,1.0,1.0,1.0,1.0,0.75,1.0,1.0,0.5714285714285714,1.0,1.0,1.0,0.5714285714285714,1.0,1.0,0.5714285714285714,1.0,1.0,1.0,1.0,0.2,1.0,1.0,1.0,1.0,1.0,1.0,0.2,1.0,1.0,1.0,1.0,0.46153846153846156,0.3333333333333333,1.0,1.0,1.0,0.3333333333333333,1.0,0.4166666666666667,0.15384615384615385,1.0,1.0,1.0,1.0,1.0,1.0,0.5454545454545454,0.5454545454545454,0.6666666666666666,1.0,1.0,0.9090909090909091,0.45454545454545453,0.7333333333333333,0.6666666666666666,1.0,1.0,1.0,0.7333333333333333,1.0,1.0,1.0,0.16666666666666666,1.0,1.0,0.8571428571428571,1.0,1.0,1.0,1.0,1.0,1.0,1.0,0.5294117647058824,0.5,1.0,0.9230769230769231,1.0,1.0,1.0,1.0,1.0,1.0,1.0,1.0,1.0,0.6,1.0,1.0,1.0,1.0,1.0,1.0,0.4444444444444444,1.0,0.6666666666666666,1.0,0.9230769230769231,1.0,0.6666666666666666,1.0,1.0,0.3333333333333333,1.0,0.5,0.8571428571428571,0.42857142857142855,0.8571428571428571,1.0,1.0,1.0,0.35294117647058826,1.0,0.75,0.4,1.0,0.5,1.0,1.0,1.0,1.0,1.0,0.2857142857142857,1.0,1.0,0.875,1.0,1.0,0.4666666666666667,1.0,1.0,0.5333333333333333,1.0,0.8333333333333334,1.0,1.0,0.08333333333333333,1.0,1.0,1.0,1.0,1.0,0.5,1.0,1.0,1.0,1.0,1.0,1.0,1.0,1.0,1.0,0.47058823529411764,1.0,1.0,1.0,1.0,1.0,0.5,1.0,1.0,0.6666666666666666,1.0,0.9333333333333333,1.0,1.0,1.0,0.75,1.0,0.6153846153846154,1.0,0.875,1.0,1.0,1.0,1.0,1.0,1.0,0.6666666666666666,1.0,1.0,1.0,1.0,1.0,1.0,1.0,0.5555555555555556,1.0,0.8333333333333334,1.0,0.7777777777777778,1.0,0.75,0.3333333333333333,0.4666666666666667,1.0,1.0,0.42857142857142855,1.0,0.5454545454545454,1.0,1.0,0.9230769230769231,1.0,1.0,1.0,1.0,0.4375,1.0,1.0,1.0,1.0,1.0,0.5,0.8571428571428571,1.0,1.0,1.0,0.5,1.0,0.5454545454545454,0.875,1.0,0.46153846153846156,1.0,0.42857142857142855,1.0,1.0,1.0,1.0,0.7142857142857143,1.0,1.0,1.0,0.5454545454545454,1.0,1.0,1.0,1.0,1.0,1.0,1.0,1.0,1.0,0.3333333333333333,1.0,0.4,1.0,0.2857142857142857,1.0,1.0,1.0,1.0,1.0,1.0,0.5,0.5,0.5,1.0,1.0,1.0,1.0,1.0,1.0,1.0,0.2,0.2,0.5,1.0,1.0,1.0,1.0,1.0,1.0,0.4,1.0,0.5,0.5454545454545454,1.0,0.16666666666666666,1.0,0.8181818181818182,1.0,1.0,0.8571428571428571,1.0,1.0,1.0,1.0,1.0,0.75,1.0,0.15789473684210525,1.0,1.0,0.4,1.0,1.0,0.6,0.75,1.0,0.75,1.0,0.6363636363636364,0.9230769230769231,1.0,1.0,1.0,1.0,0.3157894736842105,1.0,0.8461538461538461,1.0,1.0,1.0,1.0,1.0,1.0,0.625,1.0,0.75,1.0,1.0,1.0,0.6666666666666666,1.0,1.0,1.0,0.75,0.6,1.0,0.75,1.0,0.18181818181818182,0.5454545454545454,0.6,0.25,1.0,1.0,0.2,1.0,1.0,1.0,1.0,1.0,1.0,1.0,1.0,0.5,1.0,1.0,1.0,1.0,1.0,0.6111111111111112,0.6666666666666666,0.9090909090909091,1.0,0.2857142857142857,0.75,1.0,1.0,0.4666666666666667,0.09090909090909091,1.0,1.0,0.5,1.0,1.0,1.0,0.45454545454545453,1.0,1.0,1.0,0.6666666666666666,0.75,1.0,1.0,0.42857142857142855,1.0,1.0,0.6842105263157895,1.0,1.0,1.0,0.5,1.0,1.0,1.0,0.9166666666666666,0.6,1.0,1.0,1.0,0.5625,1.0,0.5,1.0,1.0,1.0,1.0,0.8,0.4444444444444444,1.0,0.75,1.0,0.45454545454545453,1.0,1.0,0.16666666666666666,1.0,0.46153846153846156,1.0,1.0,1.0,1.0,0.4,0.9166666666666666,1.0,1.0,1.0,0.6,0.4,0.6666666666666666,1.0,0.8571428571428571,0.9230769230769231,1.0,1.0,1.0,1.0,0.8333333333333334,0.8,1.0,1.0,1.0,0.6,1.0,1.0,1.0,0.3333333333333333,0.5,1.0,1.0,1.0,1.0,0.8571428571428571,0.6666666666666666,0.1111111111111111,0.5,0.5,0.1875,1.0,1.0,1.0,1.0,1.0,1.0,0.8,0.5,0.6666666666666666,1.0,0.75,1.0,1.0,0.3333333333333333,0.5,0.14285714285714285,1.0,1.0,1.0,1.0,1.0,1.0,0.7894736842105263,1.0,0.8571428571428571,0.8,1.0,1.0,1.0,1.0,1.0,1.0,1.0,1.0,1.0,1.0,1.0,1.0,1.0,0.3076923076923077,1.0,1.0,0.42857142857142855,1.0,0.75,1.0,1.0,1.0,1.0,1.0,0.1111111111111111,0.9090909090909091,1.0,0.46875,0.42857142857142855,1.0,0.14285714285714285,1.0,1.0,1.0,1.0,0.8571428571428571,1.0,1.0,0.4,1.0,0.2727272727272727,1.0,0.5454545454545454,1.0,0.21428571428571427,1.0,1.0,0.5882352941176471,1.0,0.9166666666666666,1.0,1.0,1.0,1.0,1.0,0.8,1.0,1.0,1.0,0.8,1.0,1.0,0.25,1.0,0.23076923076923078,1.0,0.42857142857142855,1.0,1.0,0.5,1.0,0.6363636363636364,0.5,0.5,1.0,1.0,1.0,1.0,1.0,1.0,1.0,1.0,1.0,1.0,1.0,1.0,1.0,0.9285714285714286,0.4375,1.0,0.5,1.0,0.9230769230769231,1.0,1.0,1.0,1.0,1.0,1.0,0.26666666666666666,0.8571428571428571,0.6111111111111112,0.5,0.9230769230769231,1.0,1.0,1.0,0.9090909090909091,0.5333333333333333,0.9230769230769231,1.0,0.8333333333333334,0.631578947368421,1.0,1.0,1.0,1.0,1.0,0.3,1.0,1.0,1.0,0.6,1.0,1.0,0.5714285714285714,0.8181818181818182,1.0,1.0,1.0,1.0,1.0,0.5714285714285714,1.0,0.8888888888888888,0.6666666666666666,1.0,0.09090909090909091,1.0,1.0,0.2727272727272727,0.6896551724137931,0.75,1.0,1.0,0.75,1.0,1.0,1.0,1.0,0.6363636363636364,1.0,1.0,1.0,1.0,1.0,1.0,0.6,1.0,1.0,1.0,1.0,0.75,0.75,0.21428571428571427,0.3333333333333333,0.2,0.9230769230769231,1.0,0.23076923076923078,1.0,0.2727272727272727,1.0,1.0,0.5,1.0,1.0,1.0,0.625,1.0,0.3333333333333333,1.0,0.8,1.0,1.0,1.0,0.5,1.0,1.0,0.7,0.8,1.0,1.0,1.0,1.0,1.0,0.42857142857142855,1.0],\"xaxis\":\"x\",\"yaxis\":\"y\"},{\"alignmentgroup\":\"True\",\"bingroup\":\"x\",\"hovertemplate\":\"level_group=15<br>percent=%{x}<br>count=%{y}<extra></extra>\",\"legendgroup\":\"15\",\"marker\":{\"color\":\"#EF553B\",\"pattern\":{\"shape\":\"\"}},\"name\":\"15\",\"nbinsx\":5,\"offsetgroup\":\"15\",\"orientation\":\"v\",\"showlegend\":true,\"type\":\"histogram\",\"x\":[0.375,0.3611111111111111,1.0,0.5769230769230769,0.75,0.3870967741935484,0.9487179487179487,1.0,0.6304347826086957,0.375,0.2727272727272727,0.3333333333333333,0.6666666666666666,0.75,0.6,0.7666666666666667,0.5909090909090909,0.46153846153846156,0.6923076923076923,0.34615384615384615,0.9411764705882353,0.32,0.48148148148148145,0.4411764705882353,0.5217391304347826,0.7647058823529411,0.6666666666666666,0.75,0.7058823529411765,0.5862068965517241,0.2553191489361702,0.6842105263157895,0.7647058823529411,0.05555555555555555,0.5263157894736842,0.21052631578947367,0.35294117647058826,0.7222222222222222,0.6341463414634146,0.3333333333333333,0.74,0.4782608695652174,0.48,0.375,0.22727272727272727,0.6428571428571429,0.6,0.6666666666666666,0.45454545454545453,0.3333333333333333,0.42857142857142855,0.3157894736842105,0.5555555555555556,0.5384615384615384,0.2727272727272727,1.0,0.40816326530612246,0.75,0.9375,0.15384615384615385,0.5,0.21875,0.25,1.0,0.5428571428571428,0.2608695652173913,0.375,0.8,0.78125,0.5714285714285714,0.6190476190476191,0.9473684210526315,0.48148148148148145,0.0625,0.2857142857142857,0.3225806451612903,0.8095238095238095,0.2727272727272727,0.5135135135135135,0.4375,0.3333333333333333,0.37142857142857144,0.7391304347826086,0.7619047619047619,0.7241379310344828,0.44,0.2727272727272727,0.7272727272727273,0.5263157894736842,0.38095238095238093,0.6666666666666666,0.35714285714285715,0.8421052631578947,0.56,0.3,0.6071428571428571,0.16666666666666666,1.0,0.4722222222222222,0.3888888888888889,0.4666666666666667,0.39285714285714285,0.48484848484848486,0.17647058823529413,0.6666666666666666,0.7391304347826086,0.4117647058823529,0.4782608695652174,0.32558139534883723,0.9375,0.6071428571428571,0.28,0.6521739130434783,0.6666666666666666,0.7941176470588235,0.6470588235294118,0.27906976744186046,0.4634146341463415,0.5882352941176471,0.8235294117647058,0.5714285714285714,0.5333333333333333,0.045454545454545456,0.5238095238095238,0.2682926829268293,0.5454545454545454,0.7142857142857143,0.5714285714285714,0.425,0.42857142857142855,0.631578947368421,0.8888888888888888,0.8235294117647058,0.20833333333333334,0.5,0.5517241379310345,0.5,0.44,0.7368421052631579,0.391304347826087,0.631578947368421,0.34146341463414637,0.7027027027027027,0.4,0.23076923076923078,0.2608695652173913,0.2857142857142857,0.15384615384615385,0.3170731707317073,0.5,0.75,0.5217391304347826,0.5087719298245614,0.6,0.5,0.6842105263157895,0.3888888888888889,0.3389830508474576,0.5483870967741935,0.25,0.8363636363636363,0.42857142857142855,0.35294117647058826,0.4666666666666667,0.6666666666666666,0.5,0.43636363636363634,0.3888888888888889,0.6842105263157895,0.8,0.4444444444444444,0.5,0.84,0.6666666666666666,0.2916666666666667,0.29411764705882354,0.6190476190476191,0.5818181818181818,0.6,0.5142857142857142,0.2727272727272727,0.06666666666666667,1.0,0.6818181818181818,0.5666666666666667,0.05263157894736842,0.2857142857142857,0.4166666666666667,0.20689655172413793,0.4375,0.25,0.4444444444444444,0.3684210526315789,0.12,0.3333333333333333,0.35294117647058826,0.6666666666666666,0.30434782608695654,0.75,1.0,0.4782608695652174,0.7058823529411765,0.42857142857142855,0.6470588235294118,0.5294117647058824,0.5555555555555556,0.3793103448275862,0.8,0.5217391304347826,0.391304347826087,0.4523809523809524,0.9230769230769231,0.29411764705882354,0.48484848484848486,0.47619047619047616,0.5454545454545454,0.75,0.43478260869565216,0.47619047619047616,0.53125,0.6,0.32142857142857145,0.3157894736842105,0.56,0.16666666666666666,0.9375,0.3103448275862069,0.8095238095238095,0.7222222222222222,0.3488372093023256,0.5588235294117647,0.16129032258064516,0.25,0.3,0.6666666666666666,0.75,0.3157894736842105,0.42857142857142855,0.7714285714285715,0.35294117647058826,0.6428571428571429,0.5666666666666667,0.7096774193548387,0.27906976744186046,0.4375,0.3902439024390244,0.3333333333333333,0.25,0.38095238095238093,0.8333333333333334,0.3076923076923077,0.68,0.125,0.5217391304347826,0.4473684210526316,0.9090909090909091,0.8387096774193549,0.717948717948718,0.6363636363636364,0.3958333333333333,0.20588235294117646,0.2222222222222222,0.42857142857142855,0.4230769230769231,0.3125,0.41935483870967744,1.0,0.3333333333333333,0.38235294117647056,0.6666666666666666,0.6111111111111112,0.3333333333333333,0.38461538461538464,1.0,0.07142857142857142,0.35294117647058826],\"xaxis\":\"x\",\"yaxis\":\"y\"},{\"alignmentgroup\":\"True\",\"bingroup\":\"x\",\"hovertemplate\":\"level_group=30<br>percent=%{x}<br>count=%{y}<extra></extra>\",\"legendgroup\":\"30\",\"marker\":{\"color\":\"#00cc96\",\"pattern\":{\"shape\":\"\"}},\"name\":\"30\",\"nbinsx\":5,\"offsetgroup\":\"30\",\"orientation\":\"v\",\"showlegend\":true,\"type\":\"histogram\",\"x\":[0.54,0.325,0.65,0.36363636363636365,0.5753424657534246,0.25,0.1875,0.5,0.5909090909090909,0.45454545454545453,0.24390243902439024,0.5869565217391305,0.3333333333333333,0.5238095238095238,0.4444444444444444,0.3055555555555556,0.71875,0.3673469387755102,0.42857142857142855,0.2702702702702703,0.4791666666666667,0.75,0.4523809523809524,0.3888888888888889,0.6744186046511628,0.7272727272727273,0.5,0.7755102040816326,0.5471698113207547,0.4423076923076923,0.32608695652173914,0.45098039215686275,0.6041666666666666,0.3333333333333333,0.5079365079365079,0.5862068965517241,0.5384615384615384,0.8235294117647058,0.7708333333333334,0.26785714285714285,0.569620253164557,0.34285714285714286,1.0,0.62,0.2894736842105263,0.4074074074074074,0.5555555555555556,0.15217391304347827,0.45,0.2558139534883721,0.46,0.3333333333333333,0.5853658536585366],\"xaxis\":\"x\",\"yaxis\":\"y\"},{\"alignmentgroup\":\"True\",\"bingroup\":\"x\",\"hovertemplate\":\"level_group=45<br>percent=%{x}<br>count=%{y}<extra></extra>\",\"legendgroup\":\"45\",\"marker\":{\"color\":\"#ab63fa\",\"pattern\":{\"shape\":\"\"}},\"name\":\"45\",\"nbinsx\":5,\"offsetgroup\":\"45\",\"orientation\":\"v\",\"showlegend\":true,\"type\":\"histogram\",\"x\":[0.44,0.22950819672131148,0.4634146341463415,0.32051282051282054,0.6351351351351351,0.7719298245614035,0.4605263157894737,0.575,0.25,0.2786885245901639,0.4722222222222222,0.6162790697674418,0.5151515151515151,0.30120481927710846,0.3880597014925373],\"xaxis\":\"x\",\"yaxis\":\"y\"}],                        {\"barmode\":\"group\",\"legend\":{\"title\":{\"text\":\"level_group\"},\"tracegroupgap\":0},\"template\":{\"data\":{\"bar\":[{\"error_x\":{\"color\":\"#2a3f5f\"},\"error_y\":{\"color\":\"#2a3f5f\"},\"marker\":{\"line\":{\"color\":\"#E5ECF6\",\"width\":0.5},\"pattern\":{\"fillmode\":\"overlay\",\"size\":10,\"solidity\":0.2}},\"type\":\"bar\"}],\"barpolar\":[{\"marker\":{\"line\":{\"color\":\"#E5ECF6\",\"width\":0.5},\"pattern\":{\"fillmode\":\"overlay\",\"size\":10,\"solidity\":0.2}},\"type\":\"barpolar\"}],\"carpet\":[{\"aaxis\":{\"endlinecolor\":\"#2a3f5f\",\"gridcolor\":\"white\",\"linecolor\":\"white\",\"minorgridcolor\":\"white\",\"startlinecolor\":\"#2a3f5f\"},\"baxis\":{\"endlinecolor\":\"#2a3f5f\",\"gridcolor\":\"white\",\"linecolor\":\"white\",\"minorgridcolor\":\"white\",\"startlinecolor\":\"#2a3f5f\"},\"type\":\"carpet\"}],\"choropleth\":[{\"colorbar\":{\"outlinewidth\":0,\"ticks\":\"\"},\"type\":\"choropleth\"}],\"contour\":[{\"colorbar\":{\"outlinewidth\":0,\"ticks\":\"\"},\"colorscale\":[[0.0,\"#0d0887\"],[0.1111111111111111,\"#46039f\"],[0.2222222222222222,\"#7201a8\"],[0.3333333333333333,\"#9c179e\"],[0.4444444444444444,\"#bd3786\"],[0.5555555555555556,\"#d8576b\"],[0.6666666666666666,\"#ed7953\"],[0.7777777777777778,\"#fb9f3a\"],[0.8888888888888888,\"#fdca26\"],[1.0,\"#f0f921\"]],\"type\":\"contour\"}],\"contourcarpet\":[{\"colorbar\":{\"outlinewidth\":0,\"ticks\":\"\"},\"type\":\"contourcarpet\"}],\"heatmap\":[{\"colorbar\":{\"outlinewidth\":0,\"ticks\":\"\"},\"colorscale\":[[0.0,\"#0d0887\"],[0.1111111111111111,\"#46039f\"],[0.2222222222222222,\"#7201a8\"],[0.3333333333333333,\"#9c179e\"],[0.4444444444444444,\"#bd3786\"],[0.5555555555555556,\"#d8576b\"],[0.6666666666666666,\"#ed7953\"],[0.7777777777777778,\"#fb9f3a\"],[0.8888888888888888,\"#fdca26\"],[1.0,\"#f0f921\"]],\"type\":\"heatmap\"}],\"heatmapgl\":[{\"colorbar\":{\"outlinewidth\":0,\"ticks\":\"\"},\"colorscale\":[[0.0,\"#0d0887\"],[0.1111111111111111,\"#46039f\"],[0.2222222222222222,\"#7201a8\"],[0.3333333333333333,\"#9c179e\"],[0.4444444444444444,\"#bd3786\"],[0.5555555555555556,\"#d8576b\"],[0.6666666666666666,\"#ed7953\"],[0.7777777777777778,\"#fb9f3a\"],[0.8888888888888888,\"#fdca26\"],[1.0,\"#f0f921\"]],\"type\":\"heatmapgl\"}],\"histogram\":[{\"marker\":{\"pattern\":{\"fillmode\":\"overlay\",\"size\":10,\"solidity\":0.2}},\"type\":\"histogram\"}],\"histogram2d\":[{\"colorbar\":{\"outlinewidth\":0,\"ticks\":\"\"},\"colorscale\":[[0.0,\"#0d0887\"],[0.1111111111111111,\"#46039f\"],[0.2222222222222222,\"#7201a8\"],[0.3333333333333333,\"#9c179e\"],[0.4444444444444444,\"#bd3786\"],[0.5555555555555556,\"#d8576b\"],[0.6666666666666666,\"#ed7953\"],[0.7777777777777778,\"#fb9f3a\"],[0.8888888888888888,\"#fdca26\"],[1.0,\"#f0f921\"]],\"type\":\"histogram2d\"}],\"histogram2dcontour\":[{\"colorbar\":{\"outlinewidth\":0,\"ticks\":\"\"},\"colorscale\":[[0.0,\"#0d0887\"],[0.1111111111111111,\"#46039f\"],[0.2222222222222222,\"#7201a8\"],[0.3333333333333333,\"#9c179e\"],[0.4444444444444444,\"#bd3786\"],[0.5555555555555556,\"#d8576b\"],[0.6666666666666666,\"#ed7953\"],[0.7777777777777778,\"#fb9f3a\"],[0.8888888888888888,\"#fdca26\"],[1.0,\"#f0f921\"]],\"type\":\"histogram2dcontour\"}],\"mesh3d\":[{\"colorbar\":{\"outlinewidth\":0,\"ticks\":\"\"},\"type\":\"mesh3d\"}],\"parcoords\":[{\"line\":{\"colorbar\":{\"outlinewidth\":0,\"ticks\":\"\"}},\"type\":\"parcoords\"}],\"pie\":[{\"automargin\":true,\"type\":\"pie\"}],\"scatter\":[{\"marker\":{\"colorbar\":{\"outlinewidth\":0,\"ticks\":\"\"}},\"type\":\"scatter\"}],\"scatter3d\":[{\"line\":{\"colorbar\":{\"outlinewidth\":0,\"ticks\":\"\"}},\"marker\":{\"colorbar\":{\"outlinewidth\":0,\"ticks\":\"\"}},\"type\":\"scatter3d\"}],\"scattercarpet\":[{\"marker\":{\"colorbar\":{\"outlinewidth\":0,\"ticks\":\"\"}},\"type\":\"scattercarpet\"}],\"scattergeo\":[{\"marker\":{\"colorbar\":{\"outlinewidth\":0,\"ticks\":\"\"}},\"type\":\"scattergeo\"}],\"scattergl\":[{\"marker\":{\"colorbar\":{\"outlinewidth\":0,\"ticks\":\"\"}},\"type\":\"scattergl\"}],\"scattermapbox\":[{\"marker\":{\"colorbar\":{\"outlinewidth\":0,\"ticks\":\"\"}},\"type\":\"scattermapbox\"}],\"scatterpolar\":[{\"marker\":{\"colorbar\":{\"outlinewidth\":0,\"ticks\":\"\"}},\"type\":\"scatterpolar\"}],\"scatterpolargl\":[{\"marker\":{\"colorbar\":{\"outlinewidth\":0,\"ticks\":\"\"}},\"type\":\"scatterpolargl\"}],\"scatterternary\":[{\"marker\":{\"colorbar\":{\"outlinewidth\":0,\"ticks\":\"\"}},\"type\":\"scatterternary\"}],\"surface\":[{\"colorbar\":{\"outlinewidth\":0,\"ticks\":\"\"},\"colorscale\":[[0.0,\"#0d0887\"],[0.1111111111111111,\"#46039f\"],[0.2222222222222222,\"#7201a8\"],[0.3333333333333333,\"#9c179e\"],[0.4444444444444444,\"#bd3786\"],[0.5555555555555556,\"#d8576b\"],[0.6666666666666666,\"#ed7953\"],[0.7777777777777778,\"#fb9f3a\"],[0.8888888888888888,\"#fdca26\"],[1.0,\"#f0f921\"]],\"type\":\"surface\"}],\"table\":[{\"cells\":{\"fill\":{\"color\":\"#EBF0F8\"},\"line\":{\"color\":\"white\"}},\"header\":{\"fill\":{\"color\":\"#C8D4E3\"},\"line\":{\"color\":\"white\"}},\"type\":\"table\"}]},\"layout\":{\"annotationdefaults\":{\"arrowcolor\":\"#2a3f5f\",\"arrowhead\":0,\"arrowwidth\":1},\"autotypenumbers\":\"strict\",\"coloraxis\":{\"colorbar\":{\"outlinewidth\":0,\"ticks\":\"\"}},\"colorscale\":{\"diverging\":[[0,\"#8e0152\"],[0.1,\"#c51b7d\"],[0.2,\"#de77ae\"],[0.3,\"#f1b6da\"],[0.4,\"#fde0ef\"],[0.5,\"#f7f7f7\"],[0.6,\"#e6f5d0\"],[0.7,\"#b8e186\"],[0.8,\"#7fbc41\"],[0.9,\"#4d9221\"],[1,\"#276419\"]],\"sequential\":[[0.0,\"#0d0887\"],[0.1111111111111111,\"#46039f\"],[0.2222222222222222,\"#7201a8\"],[0.3333333333333333,\"#9c179e\"],[0.4444444444444444,\"#bd3786\"],[0.5555555555555556,\"#d8576b\"],[0.6666666666666666,\"#ed7953\"],[0.7777777777777778,\"#fb9f3a\"],[0.8888888888888888,\"#fdca26\"],[1.0,\"#f0f921\"]],\"sequentialminus\":[[0.0,\"#0d0887\"],[0.1111111111111111,\"#46039f\"],[0.2222222222222222,\"#7201a8\"],[0.3333333333333333,\"#9c179e\"],[0.4444444444444444,\"#bd3786\"],[0.5555555555555556,\"#d8576b\"],[0.6666666666666666,\"#ed7953\"],[0.7777777777777778,\"#fb9f3a\"],[0.8888888888888888,\"#fdca26\"],[1.0,\"#f0f921\"]]},\"colorway\":[\"#636efa\",\"#EF553B\",\"#00cc96\",\"#ab63fa\",\"#FFA15A\",\"#19d3f3\",\"#FF6692\",\"#B6E880\",\"#FF97FF\",\"#FECB52\"],\"font\":{\"color\":\"#2a3f5f\"},\"geo\":{\"bgcolor\":\"white\",\"lakecolor\":\"white\",\"landcolor\":\"#E5ECF6\",\"showlakes\":true,\"showland\":true,\"subunitcolor\":\"white\"},\"hoverlabel\":{\"align\":\"left\"},\"hovermode\":\"closest\",\"mapbox\":{\"style\":\"light\"},\"paper_bgcolor\":\"white\",\"plot_bgcolor\":\"#E5ECF6\",\"polar\":{\"angularaxis\":{\"gridcolor\":\"white\",\"linecolor\":\"white\",\"ticks\":\"\"},\"bgcolor\":\"#E5ECF6\",\"radialaxis\":{\"gridcolor\":\"white\",\"linecolor\":\"white\",\"ticks\":\"\"}},\"scene\":{\"xaxis\":{\"backgroundcolor\":\"#E5ECF6\",\"gridcolor\":\"white\",\"gridwidth\":2,\"linecolor\":\"white\",\"showbackground\":true,\"ticks\":\"\",\"zerolinecolor\":\"white\"},\"yaxis\":{\"backgroundcolor\":\"#E5ECF6\",\"gridcolor\":\"white\",\"gridwidth\":2,\"linecolor\":\"white\",\"showbackground\":true,\"ticks\":\"\",\"zerolinecolor\":\"white\"},\"zaxis\":{\"backgroundcolor\":\"#E5ECF6\",\"gridcolor\":\"white\",\"gridwidth\":2,\"linecolor\":\"white\",\"showbackground\":true,\"ticks\":\"\",\"zerolinecolor\":\"white\"}},\"shapedefaults\":{\"line\":{\"color\":\"#2a3f5f\"}},\"ternary\":{\"aaxis\":{\"gridcolor\":\"white\",\"linecolor\":\"white\",\"ticks\":\"\"},\"baxis\":{\"gridcolor\":\"white\",\"linecolor\":\"white\",\"ticks\":\"\"},\"bgcolor\":\"#E5ECF6\",\"caxis\":{\"gridcolor\":\"white\",\"linecolor\":\"white\",\"ticks\":\"\"}},\"title\":{\"x\":0.05},\"xaxis\":{\"automargin\":true,\"gridcolor\":\"white\",\"linecolor\":\"white\",\"ticks\":\"\",\"title\":{\"standoff\":15},\"zerolinecolor\":\"white\",\"zerolinewidth\":2},\"yaxis\":{\"automargin\":true,\"gridcolor\":\"white\",\"linecolor\":\"white\",\"ticks\":\"\",\"title\":{\"standoff\":15},\"zerolinecolor\":\"white\",\"zerolinewidth\":2}}},\"title\":{\"text\":\"With spent_replay for churn = 0\"},\"xaxis\":{\"anchor\":\"y\",\"domain\":[0.0,1.0],\"title\":{\"text\":\"percent\"}},\"yaxis\":{\"anchor\":\"x\",\"domain\":[0.0,1.0],\"title\":{\"text\":\"count\"}}},                        {\"responsive\": true}                    ).then(function(){\n",
              "                            \n",
              "var gd = document.getElementById('b9c17e3c-9d74-4cb0-aaf2-6b83ef63b9ff');\n",
              "var x = new MutationObserver(function (mutations, observer) {{\n",
              "        var display = window.getComputedStyle(gd).display;\n",
              "        if (!display || display === 'none') {{\n",
              "            console.log([gd, 'removed!']);\n",
              "            Plotly.purge(gd);\n",
              "            observer.disconnect();\n",
              "        }}\n",
              "}});\n",
              "\n",
              "// Listen for the removal of the full notebook cells\n",
              "var notebookContainer = gd.closest('#notebook-container');\n",
              "if (notebookContainer) {{\n",
              "    x.observe(notebookContainer, {childList: true});\n",
              "}}\n",
              "\n",
              "// Listen for the clearing of the current output cell\n",
              "var outputEl = gd.closest('.output');\n",
              "if (outputEl) {{\n",
              "    x.observe(outputEl, {childList: true});\n",
              "}}\n",
              "\n",
              "                        })                };                            </script>        </div>\n",
              "</body>\n",
              "</html>"
            ]
          },
          "metadata": {}
        }
      ]
    },
    {
      "cell_type": "code",
      "metadata": {
        "id": "EfpkoLifuEcf",
        "colab": {
          "base_uri": "https://localhost:8080/"
        },
        "outputId": "ae2009df-fa4c-4e53-de79-b844b59cab17"
      },
      "source": [
        "px.histogram(table_3_kogort[(table_3_kogort['event_name'] == 'spent_replay')], \n",
        "              x=\"percent\", color='level_group',\n",
        "             title='Histogram for count for spend_replay',\n",
        "             barmode='group', nbins=5)"
      ],
      "execution_count": null,
      "outputs": [
        {
          "output_type": "display_data",
          "data": {
            "text/html": [
              "<html>\n",
              "<head><meta charset=\"utf-8\" /></head>\n",
              "<body>\n",
              "    <div>            <script src=\"https://cdnjs.cloudflare.com/ajax/libs/mathjax/2.7.5/MathJax.js?config=TeX-AMS-MML_SVG\"></script><script type=\"text/javascript\">if (window.MathJax) {MathJax.Hub.Config({SVG: {font: \"STIX-Web\"}});}</script>                <script type=\"text/javascript\">window.PlotlyConfig = {MathJaxConfig: 'local'};</script>\n",
              "        <script src=\"https://cdn.plot.ly/plotly-2.3.1.min.js\"></script>                <div id=\"e851799c-09be-4a92-a825-22301ee9e042\" class=\"plotly-graph-div\" style=\"height:525px; width:100%;\"></div>            <script type=\"text/javascript\">                                    window.PLOTLYENV=window.PLOTLYENV || {};                                    if (document.getElementById(\"e851799c-09be-4a92-a825-22301ee9e042\")) {                    Plotly.newPlot(                        \"e851799c-09be-4a92-a825-22301ee9e042\",                        [{\"alignmentgroup\":\"True\",\"bingroup\":\"x\",\"hovertemplate\":\"level_group=120<br>percent=%{x}<br>count=%{y}<extra></extra>\",\"legendgroup\":\"120\",\"marker\":{\"color\":\"#636efa\",\"pattern\":{\"shape\":\"\"}},\"name\":\"120\",\"nbinsx\":5,\"offsetgroup\":\"120\",\"orientation\":\"v\",\"showlegend\":true,\"type\":\"histogram\",\"x\":[0.14093959731543623,0.04024144869215292,0.1467065868263473,0.14666666666666667,0.0625,0.09134615384615384,0.07272727272727272,0.013605442176870748,0.1411042944785276,0.224,0.16216216216216217,0.08494208494208494,0.12313432835820895,0.03827751196172249,0.15656565656565657,0.0480225988700565,0.08064516129032258,0.030042918454935622,0.016129032258064516,0.11450381679389313,0.06938775510204082,0.09925558312655088,0.13333333333333333,0.16736401673640167,0.045454545454545456,0.12837837837837837],\"xaxis\":\"x\",\"yaxis\":\"y\"},{\"alignmentgroup\":\"True\",\"bingroup\":\"x\",\"hovertemplate\":\"level_group=90<br>percent=%{x}<br>count=%{y}<extra></extra>\",\"legendgroup\":\"90\",\"marker\":{\"color\":\"#EF553B\",\"pattern\":{\"shape\":\"\"}},\"name\":\"90\",\"nbinsx\":5,\"offsetgroup\":\"90\",\"orientation\":\"v\",\"showlegend\":true,\"type\":\"histogram\",\"x\":[0.20772946859903382,0.07006369426751592,0.003703703703703704,0.07894736842105263,0.1827956989247312,0.10185185185185185,0.2802197802197802,0.14634146341463414,0.09285714285714286,0.14864864864864866,0.07692307692307693,0.05511811023622047,0.12087912087912088,0.09302325581395349,0.19827586206896552,0.13596491228070176,0.08053691275167785,0.25680933852140075,0.010309278350515464,0.07017543859649122,0.3,0.4496124031007752,0.14545454545454545,0.04608294930875576,0.09322033898305085,0.05128205128205128,0.03508771929824561,0.07878787878787878,0.16770186335403728,0.0898876404494382,0.20809248554913296,0.0449438202247191,0.26291079812206575,0.18055555555555555,0.3706293706293706,0.05689277899343545,0.0794979079497908,0.05217391304347826,0.026923076923076925,0.11235955056179775,0.05747126436781609,0.06201550387596899,0.04716981132075472,0.16730038022813687,0.2733812949640288,0.12015503875968993,0.05263157894736842,0.08571428571428572,0.0398936170212766,0.11358024691358025,0.06302521008403361,0.09318181818181819,0.1837837837837838,0.13877551020408163],\"xaxis\":\"x\",\"yaxis\":\"y\"},{\"alignmentgroup\":\"True\",\"bingroup\":\"x\",\"hovertemplate\":\"level_group=0<br>percent=%{x}<br>count=%{y}<extra></extra>\",\"legendgroup\":\"0\",\"marker\":{\"color\":\"#00cc96\",\"pattern\":{\"shape\":\"\"}},\"name\":\"0\",\"nbinsx\":5,\"offsetgroup\":\"0\",\"orientation\":\"v\",\"showlegend\":true,\"type\":\"histogram\",\"x\":[0.36363636363636365,0.3333333333333333,0.5,0.6666666666666666,0.3125,0.3125,0.2222222222222222,0.3125,0.3142857142857143,0.8,0.6,0.17647058823529413,0.3333333333333333,0.3333333333333333,0.09090909090909091,0.6666666666666666,0.46153846153846156,0.7692307692307693,0.5,0.4230769230769231,0.7142857142857143,0.5714285714285714,1.0,0.08333333333333333,0.36666666666666664,0.3333333333333333,0.25,0.07692307692307693,0.041666666666666664,0.4,0.3333333333333333,0.07692307692307693,0.4,0.14285714285714285,0.07142857142857142,0.08333333333333333,0.4,0.6,0.14285714285714285,0.5294117647058824,0.5,0.375,0.9,0.28,0.14285714285714285,0.5555555555555556,0.4166666666666667,0.6666666666666666,0.14285714285714285,0.8181818181818182,0.75,0.3333333333333333,0.125,0.3076923076923077,0.23809523809523808,0.5,0.3333333333333333,0.5555555555555556,0.3076923076923077,0.75,0.2857142857142857,0.21428571428571427,0.19047619047619047,0.2,0.15,0.1,0.6363636363636364,0.46153846153846156,0.23529411764705882,0.2857142857142857,0.42857142857142855,0.6666666666666666,0.5,0.46153846153846156,0.5,0.125,0.9166666666666666,0.8181818181818182,0.46153846153846156,0.2857142857142857,0.9230769230769231,0.4444444444444444,0.46153846153846156,0.23333333333333334,0.16666666666666666,0.05128205128205128,0.3333333333333333,0.23076923076923078,0.0967741935483871,0.75,1.0,0.2,0.2,0.125,0.03225806451612903,0.4,0.8,0.3333333333333333,0.5,0.7142857142857143,0.125,0.8181818181818182,0.3333333333333333,0.5454545454545454,0.07692307692307693,0.6153846153846154,0.3333333333333333,0.6363636363636364,0.6666666666666666,0.18518518518518517,0.5,0.75,0.6,0.8571428571428571,0.35294117647058826,0.2857142857142857,0.2222222222222222,0.25,0.5,0.5454545454545454,0.3181818181818182,0.5625,0.46153846153846156],\"xaxis\":\"x\",\"yaxis\":\"y\"},{\"alignmentgroup\":\"True\",\"bingroup\":\"x\",\"hovertemplate\":\"level_group=15<br>percent=%{x}<br>count=%{y}<extra></extra>\",\"legendgroup\":\"15\",\"marker\":{\"color\":\"#ab63fa\",\"pattern\":{\"shape\":\"\"}},\"name\":\"15\",\"nbinsx\":5,\"offsetgroup\":\"15\",\"orientation\":\"v\",\"showlegend\":true,\"type\":\"histogram\",\"x\":[0.2702702702702703,0.20689655172413793,0.2564102564102564,0.3235294117647059,0.64,0.17647058823529413,0.3125,0.42857142857142855,0.391304347826087,0.55,0.34375,0.20588235294117646,0.030303030303030304,0.0625,0.4,0.4090909090909091,0.3684210526315789,0.15384615384615385,0.08571428571428572,0.375,0.4318181818181818,0.23076923076923078,0.18181818181818182,0.21875,0.13333333333333333,0.4117647058823529,0.19047619047619047,0.125,0.30120481927710846,0.37209302325581395,0.2926829268292683,0.17647058823529413,0.42857142857142855,0.11764705882352941,0.1935483870967742,0.37142857142857144,0.43478260869565216,0.11864406779661017,0.3,0.5588235294117647,0.03773584905660377,0.4166666666666667,0.2571428571428571,0.46511627906976744,0.13333333333333333,0.03333333333333333,0.375,0.38235294117647056,0.3968253968253968,0.11904761904761904,0.5416666666666666,0.5,0.75,0.10526315789473684,0.23076923076923078,0.125,0.5862068965517241,0.21212121212121213,0.4782608695652174,0.3888888888888889,0.48484848484848486,0.19444444444444445,0.2903225806451613,0.8260869565217391,0.4864864864864865,0.375,0.35051546391752575,0.44,0.4,0.2222222222222222,0.625,0.43137254901960786,0.24,0.35294117647058826,0.5625,0.18181818181818182,0.625,0.1,0.07017543859649122,0.19444444444444445,0.36363636363636365,0.15789473684210525,0.2,0.033707865168539325,0.32558139534883723,0.1724137931034483,0.02631578947368421,0.1724137931034483,0.6086956521739131,0.2222222222222222,0.0625,0.20689655172413793,0.2631578947368421,0.3541666666666667,0.5151515151515151,0.3333333333333333,0.3888888888888889,0.17647058823529413,0.10526315789473684,0.5769230769230769,0.125,0.24,0.7058823529411765,0.4117647058823529,0.038461538461538464,0.07407407407407407,0.2962962962962963,0.11538461538461539,0.26,0.32142857142857145,0.11428571428571428,0.21428571428571427,0.6111111111111112,0.5185185185185185,0.5555555555555556,0.32,0.2857142857142857,0.0967741935483871,0.5434782608695652,0.36363636363636365,0.25,0.6428571428571429,0.03389830508474576,0.4838709677419355,0.2631578947368421,0.3333333333333333,0.3181818181818182,0.3783783783783784,0.5185185185185185,0.14634146341463414,0.5789473684210527,0.4186046511627907,0.26666666666666666,0.40540540540540543,0.3125,0.5,0.42857142857142855,0.3333333333333333,0.2857142857142857,0.2871287128712871,0.24,0.6086956521739131,0.06666666666666667,0.44,0.5294117647058824,0.38095238095238093,0.47368421052631576,0.18518518518518517,0.041666666666666664,0.27586206896551724,0.11764705882352941,0.48148148148148145,0.03333333333333333,0.6,0.2222222222222222,0.18,0.2,0.16666666666666666,0.4,0.32954545454545453,0.3333333333333333,0.6129032258064516,0.3,0.10256410256410256,0.3157894736842105,0.2564102564102564,0.2909090909090909,0.16129032258064516,0.13043478260869565,0.22727272727272727,0.2777777777777778,0.20689655172413793,0.40625,0.4482758620689655,0.3220338983050847,0.3684210526315789,0.5925925925925926,0.02702702702702703,0.18181818181818182,0.1875,0.3404255319148936,0.2222222222222222,0.5769230769230769,0.45,0.125,0.3684210526315789,0.35135135135135137,0.4411764705882353,0.2916666666666667,0.14285714285714285,0.47619047619047616,0.5,0.16326530612244897,0.26356589147286824,0.4444444444444444,0.3225806451612903,0.3684210526315789,0.08571428571428572,0.38,0.65,0.1388888888888889,0.043478260869565216,0.34285714285714286,0.14814814814814814,0.1509433962264151,0.2702702702702703,0.20987654320987653,0.43478260869565216,0.25,0.11764705882352941,0.35294117647058826,0.14705882352941177,0.17142857142857143,0.4583333333333333,0.45,0.10526315789473684,0.4444444444444444,0.19047619047619047,0.48,0.7,0.625,0.5,0.043478260869565216,0.3333333333333333,0.2222222222222222,0.3125,0.6666666666666666,0.06896551724137931,0.3333333333333333,0.3157894736842105,0.6,0.045454545454545456,0.038461538461538464,0.05263157894736842,0.3888888888888889,0.225,0.34285714285714286,0.5,0.25,0.4,0.41379310344827586,0.43333333333333335,0.5,0.35,0.12121212121212122,0.14705882352941177,0.4444444444444444,0.45,0.4444444444444444,0.08333333333333333,0.42857142857142855,0.2,0.25925925925925924],\"xaxis\":\"x\",\"yaxis\":\"y\"},{\"alignmentgroup\":\"True\",\"bingroup\":\"x\",\"hovertemplate\":\"level_group=45<br>percent=%{x}<br>count=%{y}<extra></extra>\",\"legendgroup\":\"45\",\"marker\":{\"color\":\"#FFA15A\",\"pattern\":{\"shape\":\"\"}},\"name\":\"45\",\"nbinsx\":5,\"offsetgroup\":\"45\",\"orientation\":\"v\",\"showlegend\":true,\"type\":\"histogram\",\"x\":[0.15625,0.15,0.13186813186813187,0.3181818181818182,0.08571428571428572,0.2537313432835821,0.20754716981132076,0.3793103448275862,0.04830917874396135,0.411214953271028,0.05454545454545454,0.14864864864864866,0.35294117647058826,0.23809523809523808,0.48717948717948717,0.43373493975903615,0.2361111111111111,0.2777777777777778,0.1951219512195122,0.08,0.368,0.3007518796992481,0.23809523809523808,0.3939393939393939,0.15853658536585366,0.20689655172413793,0.3333333333333333,0.16346153846153846,0.05,0.19008264462809918,0.136986301369863,0.32432432432432434,0.21481481481481482,0.1111111111111111,0.17333333333333334,0.1623931623931624,0.08,0.3855421686746988,0.26136363636363635,0.3225806451612903,0.2711864406779661,0.26436781609195403,0.08955223880597014,0.5324675324675324,0.4375,0.18032786885245902,0.21311475409836064,0.11428571428571428,0.056962025316455694,0.3974358974358974,0.045454545454545456,0.47244094488188976,0.11538461538461539,0.42168674698795183,0.043478260869565216,0.3548387096774194,0.424,0.4214876033057851,0.2882882882882883,0.16666666666666666,0.27702702702702703,0.11504424778761062,0.42028985507246375,0.1348314606741573,0.4745762711864407,0.09090909090909091,0.3968253968253968,0.07317073170731707,0.7368421052631579,0.4,0.19672131147540983,0.22093023255813954,0.2828282828282828,0.41935483870967744,0.1794871794871795,0.4090909090909091,0.44554455445544555,0.056818181818181816,0.46987951807228917,0.46846846846846846,0.26495726495726496,0.5294117647058824,0.25,0.2962962962962963,0.19540229885057472,0.3983739837398374,0.27956989247311825,0.1875,0.09722222222222222,0.1282051282051282,0.3026315789473684,0.3917525773195876,0.2926829268292683,0.09230769230769231,0.23529411764705882,0.34375,0.07462686567164178,0.04,0.5076923076923077,0.19767441860465115,0.09090909090909091,0.0736196319018405,0.18269230769230768,0.5625,0.1557377049180328,0.22018348623853212,0.34146341463414637,0.17391304347826086,0.1927710843373494,0.49333333333333335,0.19047619047619047,0.3333333333333333,0.25,0.17204301075268819,0.05128205128205128,0.3333333333333333,0.02631578947368421,0.44047619047619047,0.3431372549019608,0.1625,0.16666666666666666,0.44761904761904764,0.16363636363636364,0.31958762886597936,0.4927536231884058,0.15151515151515152,0.4918032786885246,0.10526315789473684,0.296875,0.23214285714285715,0.2872340425531915,0.4567901234567901,0.2966101694915254,0.1262135922330097,0.08571428571428572,0.1,0.22058823529411764,0.4444444444444444,0.012987012987012988,0.25,0.24175824175824176,0.3888888888888889,0.13636363636363635,0.08088235294117647,0.34523809523809523,0.17543859649122806,0.46153846153846156,0.0967741935483871,0.22556390977443608,0.1232876712328767,0.28703703703703703,0.2857142857142857,0.1724137931034483,0.17073170731707318,0.5256410256410257,0.08450704225352113,0.3333333333333333,0.524390243902439,0.1935483870967742,0.2631578947368421,0.4411764705882353,0.4358974358974359,0.22058823529411764,0.08609271523178808,0.1951219512195122,0.07228915662650602,0.21568627450980393,0.06818181818181818,0.2079207920792079,0.17272727272727273,0.08823529411764706,0.40186915887850466,0.18584070796460178,0.21052631578947367,0.011764705882352941,0.2087912087912088,0.1794871794871795,0.2608695652173913,0.07407407407407407,0.06779661016949153,0.410958904109589,0.4583333333333333,0.735632183908046,0.20253164556962025,0.19791666666666666,0.3875,0.3333333333333333,0.225,0.19480519480519481,0.21311475409836064,0.43478260869565216,0.2727272727272727,0.31313131313131315,0.3106796116504854,0.24444444444444444,0.1301775147928994,0.11235955056179775,0.056179775280898875,0.08823529411764706,0.4153846153846154,0.3063063063063063,0.09333333333333334,0.6049382716049383,0.45121951219512196,0.08,0.2857142857142857,0.4791666666666667,0.4024390243902439,0.10810810810810811,0.391304347826087,0.45098039215686275,0.40789473684210525,0.2972972972972973,0.4782608695652174,0.22535211267605634,0.4731182795698925,0.32098765432098764,0.015151515151515152,0.578125,0.2222222222222222,0.3157894736842105,0.2857142857142857,0.36585365853658536,0.35714285714285715,0.4897959183673469,0.2698412698412698,0.12087912087912088,0.38028169014084506,0.46774193548387094,0.42168674698795183,0.3977272727272727,0.3488372093023256,0.22093023255813954,0.1297709923664122,0.38144329896907214,0.15476190476190477,0.4626865671641791,0.4246575342465753,0.32558139534883723,0.025974025974025976,0.22549019607843138,0.6785714285714286,0.07608695652173914,0.25688073394495414,0.39215686274509803,0.1111111111111111,0.13114754098360656,0.012345679012345678,0.2097902097902098,0.07228915662650602],\"xaxis\":\"x\",\"yaxis\":\"y\"},{\"alignmentgroup\":\"True\",\"bingroup\":\"x\",\"hovertemplate\":\"level_group=30<br>percent=%{x}<br>count=%{y}<extra></extra>\",\"legendgroup\":\"30\",\"marker\":{\"color\":\"#19d3f3\",\"pattern\":{\"shape\":\"\"}},\"name\":\"30\",\"nbinsx\":5,\"offsetgroup\":\"30\",\"orientation\":\"v\",\"showlegend\":true,\"type\":\"histogram\",\"x\":[0.10204081632653061,0.29310344827586204,0.21739130434782608,0.08333333333333333,0.1320754716981132,0.13846153846153847,0.2535211267605634,0.14942528735632185,0.34782608695652173,0.10416666666666667,0.22727272727272727,0.2857142857142857,0.1111111111111111,0.34210526315789475,0.5192307692307693,0.022222222222222223,0.2875,0.34782608695652173,0.515625,0.2545454545454545,0.10810810810810811,0.1320754716981132,0.39473684210526316,0.26666666666666666,0.08888888888888889,0.08928571428571429,0.3076923076923077,0.3466666666666667,0.15555555555555556,0.09195402298850575,0.37209302325581395,0.5344827586206896,0.44329896907216493,0.26,0.30434782608695654,0.5714285714285714,0.12149532710280374,0.11320754716981132,0.18309859154929578,0.29545454545454547,0.4318181818181818,0.24,0.11538461538461539,0.2857142857142857,0.23,0.5813953488372093,0.13513513513513514,0.4838709677419355,0.2698412698412698,0.018518518518518517,0.4230769230769231,0.2463768115942029,0.038461538461538464,0.3142857142857143,0.47368421052631576,0.34782608695652173,0.07575757575757576,0.35555555555555557,0.45098039215686275,0.38095238095238093,0.1,0.7380952380952381,0.4594594594594595,0.1276595744680851,0.5897435897435898,0.35802469135802467,0.23404255319148937,0.3333333333333333,0.5166666666666667,0.02,0.0967741935483871,0.6078431372549019,0.2692307692307692,0.21666666666666667,0.1282051282051282,0.3770491803278688,0.12,0.27848101265822783,0.35,0.19642857142857142,0.21739130434782608,0.13333333333333333,0.6140350877192983,0.35294117647058826,0.30158730158730157,0.4205607476635514,0.16981132075471697,0.6,0.29850746268656714,0.19444444444444445,0.5211267605633803,0.02,0.21621621621621623,0.5901639344262295,0.475,0.04878048780487805,0.1896551724137931,0.02702702702702703,0.03571428571428571,0.11363636363636363,0.2463768115942029,0.1951219512195122,0.12903225806451613,0.07920792079207921,0.16666666666666666,0.24528301886792453,0.2777777777777778,0.5238095238095238,0.3620689655172414,0.25,0.42,0.29333333333333333,0.32926829268292684,0.1388888888888889,0.20994475138121546,0.15873015873015872,0.027777777777777776,0.16666666666666666,0.10077519379844961,0.07142857142857142,0.5471698113207547,0.1724137931034483,0.28846153846153844,0.23684210526315788,0.4915254237288136,0.075,0.3373493975903614,0.49056603773584906,0.5416666666666666,0.5211267605633803,0.16981132075471697,0.36923076923076925,0.18604651162790697,0.21153846153846154,0.1746031746031746,0.4827586206896552,0.16981132075471697,0.16049382716049382,0.2926829268292683,0.21518987341772153,0.410958904109589,0.34146341463414637,0.2,0.14795918367346939,0.7407407407407407,0.3333333333333333,0.014492753623188406,0.0851063829787234,0.01694915254237288,0.28169014084507044,0.19444444444444445,0.25882352941176473,0.711864406779661,0.023255813953488372,0.631578947368421,0.46153846153846156,0.48,0.3404255319148936,0.05405405405405406,0.27450980392156865,0.11475409836065574,0.08333333333333333,0.11764705882352941,0.10526315789473684,0.23076923076923078,0.07216494845360824,0.34782608695652173,0.09302325581395349,0.6304347826086957,0.030303030303030304,0.06,0.18604651162790697,0.5625,0.08,0.44,0.23255813953488372,0.45588235294117646,0.13432835820895522,0.32142857142857145,0.3508771929824561,0.08620689655172414,0.29545454545454547,0.3269230769230769,0.3728813559322034,0.7435897435897436,0.024390243902439025,0.26785714285714285,0.375,0.2018348623853211,0.18666666666666668,0.23333333333333334,0.2808988764044944,0.32432432432432434,0.14583333333333334,0.1388888888888889,0.6212121212121212,0.4745762711864407,0.22033898305084745,0.11864406779661017,0.19047619047619047,0.4307692307692308,0.2318840579710145,0.2,0.05405405405405406,0.2923076923076923,0.20987654320987653,0.16363636363636364,0.07317073170731707,0.5,0.2727272727272727,0.16049382716049382,0.125,0.6031746031746031,0.25882352941176473,0.5357142857142857,0.43859649122807015,0.47058823529411764,0.49333333333333335,0.3064516129032258,0.05128205128205128,0.39215686274509803,0.39705882352941174,0.5217391304347826,0.25,0.22641509433962265,0.19298245614035087,0.17647058823529413,0.32558139534883723,0.3157894736842105,0.18181818181818182,0.1791044776119403,0.02531645569620253,0.1282051282051282,0.36538461538461536,0.1276595744680851,0.43243243243243246,0.3225806451612903,0.36363636363636365,0.12903225806451613,0.125,0.19387755102040816,0.7397260273972602,0.3783783783783784,0.40298507462686567,0.28378378378378377,0.11666666666666667,0.3709677419354839,0.20512820512820512,0.36363636363636365,0.03333333333333333,0.35384615384615387,0.39344262295081966,0.3684210526315789,0.07142857142857142,0.6,0.15492957746478872,0.6428571428571429,0.32978723404255317],\"xaxis\":\"x\",\"yaxis\":\"y\"},{\"alignmentgroup\":\"True\",\"bingroup\":\"x\",\"hovertemplate\":\"level_group=75<br>percent=%{x}<br>count=%{y}<extra></extra>\",\"legendgroup\":\"75\",\"marker\":{\"color\":\"#FF6692\",\"pattern\":{\"shape\":\"\"}},\"name\":\"75\",\"nbinsx\":5,\"offsetgroup\":\"75\",\"orientation\":\"v\",\"showlegend\":true,\"type\":\"histogram\",\"x\":[0.10734463276836158,0.16666666666666666,0.3247863247863248,0.23300970873786409,0.36153846153846153,0.2384937238493724,0.32967032967032966,0.32727272727272727,0.18018018018018017,0.13122171945701358,0.26666666666666666,0.3434343434343434,0.3082706766917293,0.15337423312883436,0.09166666666666666,0.13194444444444445,0.45112781954887216,0.11330049261083744,0.2413793103448276,0.0457516339869281,0.3258426966292135,0.25,0.0375,0.12244897959183673,0.21374045801526717,0.5528455284552846,0.3937007874015748,0.058333333333333334,0.22608695652173913,0.15714285714285714,0.07407407407407407,0.19767441860465115,0.09836065573770492,0.2222222222222222,0.017699115044247787,0.21,0.43089430894308944,0.04564315352697095,0.08408408408408409,0.22297297297297297,0.05,0.23626373626373626,0.1262135922330097,0.3055555555555556,0.12359550561797752,0.16319444444444445,0.06722689075630252,0.2318181818181818,0.15384615384615385,0.20481927710843373,0.06451612903225806,0.18877551020408162,0.09876543209876543,0.10112359550561797,0.2773722627737226,0.15254237288135594,0.1896551724137931,0.1592356687898089,0.3825136612021858,0.1346153846153846,0.10059171597633136,0.27044025157232704,0.08441558441558442,0.1794871794871795,0.224,0.06944444444444445,0.13068181818181818,0.13793103448275862,0.06766917293233082,0.11764705882352941,0.38461538461538464,0.17972350230414746,0.06451612903225806,0.1566265060240964,0.1292517006802721,0.2102803738317757,0.1276595744680851,0.05555555555555555,0.3275862068965517,0.17575757575757575,0.4098360655737705,0.2037735849056604],\"xaxis\":\"x\",\"yaxis\":\"y\"},{\"alignmentgroup\":\"True\",\"bingroup\":\"x\",\"hovertemplate\":\"level_group=225<br>percent=%{x}<br>count=%{y}<extra></extra>\",\"legendgroup\":\"225\",\"marker\":{\"color\":\"#B6E880\",\"pattern\":{\"shape\":\"\"}},\"name\":\"225\",\"nbinsx\":5,\"offsetgroup\":\"225\",\"orientation\":\"v\",\"showlegend\":true,\"type\":\"histogram\",\"x\":[0.013651877133105802,0.09869375907111756,0.022263450834879406],\"xaxis\":\"x\",\"yaxis\":\"y\"},{\"alignmentgroup\":\"True\",\"bingroup\":\"x\",\"hovertemplate\":\"level_group=60<br>percent=%{x}<br>count=%{y}<extra></extra>\",\"legendgroup\":\"60\",\"marker\":{\"color\":\"#FF97FF\",\"pattern\":{\"shape\":\"\"}},\"name\":\"60\",\"nbinsx\":5,\"offsetgroup\":\"60\",\"orientation\":\"v\",\"showlegend\":true,\"type\":\"histogram\",\"x\":[0.24285714285714285,0.056818181818181816,0.17721518987341772,0.1411764705882353,0.00684931506849315,0.27906976744186046,0.12552301255230125,0.12149532710280374,0.29411764705882354,0.08333333333333333,0.4810126582278481,0.15702479338842976,0.10426540284360189,0.3469387755102041,0.047619047619047616,0.13541666666666666,0.08045977011494253,0.16853932584269662,0.2677165354330709,0.1511627906976744,0.06325301204819277,0.2109375,0.25547445255474455,0.0821917808219178,0.058823529411764705,0.21532846715328466,0.007352941176470588,0.2556390977443609,0.08108108108108109,0.03821656050955414,0.08708708708708708,0.33962264150943394,0.13636363636363635,0.07518796992481203,0.04794520547945205,0.02702702702702703,0.33076923076923076,0.41333333333333333,0.1732283464566929,0.45454545454545453,0.2982456140350877,0.20588235294117646,0.21074380165289255,0.35353535353535354,0.025210084033613446,0.6224489795918368,0.05454545454545454,0.45054945054945056,0.2605042016806723,0.03355704697986577,0.40476190476190477,0.22,0.30303030303030304,0.6756756756756757,0.25555555555555554,0.16666666666666666,0.23423423423423423,0.33695652173913043,0.1981981981981982,0.4380165289256198,0.3037974683544304,0.2743362831858407,0.11304347826086956,0.026785714285714284,0.3474576271186441,0.16822429906542055,0.4375,0.096,0.25862068965517243,0.12844036697247707,0.192,0.058823529411764705,0.35,0.2184873949579832,0.3706293706293706,0.16304347826086957,0.43137254901960786,0.4074074074074074,0.27058823529411763,0.20388349514563106,0.12666666666666668,0.20454545454545456,0.7297297297297297,0.3989071038251366,0.23863636363636365,0.4069767441860465,0.4423076923076923,0.06806282722513089,0.13636363636363635,0.12025316455696203,0.16981132075471697,0.24242424242424243,0.15517241379310345,0.4523809523809524,0.2848101265822785,0.16666666666666666,0.12871287128712872,0.11504424778761062,0.10144927536231885,0.2235294117647059,0.352112676056338,0.05084745762711865,0.27927927927927926,0.3695652173913043,0.058823529411764705,0.2268041237113402,0.4148936170212766,0.30158730158730157,0.17391304347826086,0.14093959731543623,0.16822429906542055,0.34234234234234234,0.075,0.11976047904191617,0.18292682926829268],\"xaxis\":\"x\",\"yaxis\":\"y\"},{\"alignmentgroup\":\"True\",\"bingroup\":\"x\",\"hovertemplate\":\"level_group=105<br>percent=%{x}<br>count=%{y}<extra></extra>\",\"legendgroup\":\"105\",\"marker\":{\"color\":\"#FECB52\",\"pattern\":{\"shape\":\"\"}},\"name\":\"105\",\"nbinsx\":5,\"offsetgroup\":\"105\",\"orientation\":\"v\",\"showlegend\":true,\"type\":\"histogram\",\"x\":[0.1650485436893204,0.06770833333333333,0.0778816199376947,0.07482993197278912,0.10614525139664804,0.12686567164179105,0.06363636363636363,0.39461883408071746,0.37748344370860926,0.10060975609756098,0.043478260869565216,0.18831168831168832,0.3945945945945946,0.143646408839779,0.15048543689320387,0.10256410256410256,0.2713178294573643,0.12574850299401197,0.10596026490066225,0.0502092050209205,0.14736842105263157,0.07009345794392523,0.19883040935672514,0.14453125,0.10377358490566038,0.125,0.11206896551724138,0.2398190045248869,0.03333333333333333,0.1165644171779141,0.1569767441860465,0.391025641025641,0.10877192982456141,0.18468468468468469],\"xaxis\":\"x\",\"yaxis\":\"y\"},{\"alignmentgroup\":\"True\",\"bingroup\":\"x\",\"hovertemplate\":\"level_group=150<br>percent=%{x}<br>count=%{y}<extra></extra>\",\"legendgroup\":\"150\",\"marker\":{\"color\":\"#636efa\",\"pattern\":{\"shape\":\"\"}},\"name\":\"150\",\"nbinsx\":5,\"offsetgroup\":\"150\",\"orientation\":\"v\",\"showlegend\":true,\"type\":\"histogram\",\"x\":[0.1556420233463035,0.12903225806451613,0.1794871794871795,0.06527415143603134,0.11071428571428571,0.09411764705882353,0.24324324324324326,0.2882882882882883,0.003355704697986577,0.17717717717717718,0.10204081632653061,0.04594594594594595,0.035794183445190156,0.10526315789473684,0.03296703296703297,0.09485714285714286,0.19020172910662825,0.061016949152542375],\"xaxis\":\"x\",\"yaxis\":\"y\"},{\"alignmentgroup\":\"True\",\"bingroup\":\"x\",\"hovertemplate\":\"level_group=195<br>percent=%{x}<br>count=%{y}<extra></extra>\",\"legendgroup\":\"195\",\"marker\":{\"color\":\"#EF553B\",\"pattern\":{\"shape\":\"\"}},\"name\":\"195\",\"nbinsx\":5,\"offsetgroup\":\"195\",\"orientation\":\"v\",\"showlegend\":true,\"type\":\"histogram\",\"x\":[0.027548209366391185,0.0757314974182444,0.11254019292604502,0.08795411089866156,0.10714285714285714,0.036511156186612576,0.12009803921568628,0.08908685968819599,0.12056737588652482,0.10060975609756098,0.07624633431085044,0.14009661835748793,0.07221006564551423,0.029940119760479042,0.04148783977110158,0.014388489208633094,0.05228758169934641],\"xaxis\":\"x\",\"yaxis\":\"y\"},{\"alignmentgroup\":\"True\",\"bingroup\":\"x\",\"hovertemplate\":\"level_group=165<br>percent=%{x}<br>count=%{y}<extra></extra>\",\"legendgroup\":\"165\",\"marker\":{\"color\":\"#00cc96\",\"pattern\":{\"shape\":\"\"}},\"name\":\"165\",\"nbinsx\":5,\"offsetgroup\":\"165\",\"orientation\":\"v\",\"showlegend\":true,\"type\":\"histogram\",\"x\":[0.12318840579710146,0.4051724137931034,0.09487666034155598,0.05012531328320802,0.03289473684210526,0.1062992125984252,0.11977715877437325,0.07202680067001675,0.11217948717948718,0.11222444889779559,0.1276595744680851,0.025252525252525252,0.0410958904109589,0.12582781456953643,0.05144694533762058,0.09507042253521127,0.1794871794871795,0.06018518518518518,0.09090909090909091,0.13302752293577982,0.08196721311475409,0.10032362459546926,0.0034602076124567475,0.1590909090909091],\"xaxis\":\"x\",\"yaxis\":\"y\"},{\"alignmentgroup\":\"True\",\"bingroup\":\"x\",\"hovertemplate\":\"level_group=135<br>percent=%{x}<br>count=%{y}<extra></extra>\",\"legendgroup\":\"135\",\"marker\":{\"color\":\"#ab63fa\",\"pattern\":{\"shape\":\"\"}},\"name\":\"135\",\"nbinsx\":5,\"offsetgroup\":\"135\",\"orientation\":\"v\",\"showlegend\":true,\"type\":\"histogram\",\"x\":[0.11739130434782609,0.1951219512195122,0.07346938775510205,0.07241379310344828,0.2937853107344633,0.045662100456621,0.10140845070422536,0.14566929133858267,0.028277634961439587,0.1040268456375839,0.15168539325842698,0.12539184952978055,0.12807881773399016,0.09090909090909091,0.07236842105263158,0.07575757575757576,0.15492957746478872,0.15126050420168066,0.03404255319148936,0.16417910447761194,0.057724957555178265,0.18333333333333332],\"xaxis\":\"x\",\"yaxis\":\"y\"},{\"alignmentgroup\":\"True\",\"bingroup\":\"x\",\"hovertemplate\":\"level_group=180<br>percent=%{x}<br>count=%{y}<extra></extra>\",\"legendgroup\":\"180\",\"marker\":{\"color\":\"#FFA15A\",\"pattern\":{\"shape\":\"\"}},\"name\":\"180\",\"nbinsx\":5,\"offsetgroup\":\"180\",\"orientation\":\"v\",\"showlegend\":true,\"type\":\"histogram\",\"x\":[0.03577817531305903,0.15047021943573669,0.20276497695852536,0.08882521489971347,0.07758620689655173,0.26609442060085836,0.02850877192982456,0.11504424778761062,0.0738255033557047,0.3115264797507788,0.12171052631578948,0.028328611898016998,0.06512605042016807,0.09502262443438914,0.12693498452012383,0.13387423935091278,0.13938053097345132,0.10547667342799188,0.05339805825242718,0.03017241379310345,0.03767123287671233,0.05222437137330754,0.12850812407680945,0.10655737704918032],\"xaxis\":\"x\",\"yaxis\":\"y\"},{\"alignmentgroup\":\"True\",\"bingroup\":\"x\",\"hovertemplate\":\"level_group=300<br>percent=%{x}<br>count=%{y}<extra></extra>\",\"legendgroup\":\"300\",\"marker\":{\"color\":\"#19d3f3\",\"pattern\":{\"shape\":\"\"}},\"name\":\"300\",\"nbinsx\":5,\"offsetgroup\":\"300\",\"orientation\":\"v\",\"showlegend\":true,\"type\":\"histogram\",\"x\":[0.06970954356846473],\"xaxis\":\"x\",\"yaxis\":\"y\"},{\"alignmentgroup\":\"True\",\"bingroup\":\"x\",\"hovertemplate\":\"level_group=210<br>percent=%{x}<br>count=%{y}<extra></extra>\",\"legendgroup\":\"210\",\"marker\":{\"color\":\"#FF6692\",\"pattern\":{\"shape\":\"\"}},\"name\":\"210\",\"nbinsx\":5,\"offsetgroup\":\"210\",\"orientation\":\"v\",\"showlegend\":true,\"type\":\"histogram\",\"x\":[0.09243697478991597,0.011538461538461539,0.08235294117647059],\"xaxis\":\"x\",\"yaxis\":\"y\"},{\"alignmentgroup\":\"True\",\"bingroup\":\"x\",\"hovertemplate\":\"level_group=240<br>percent=%{x}<br>count=%{y}<extra></extra>\",\"legendgroup\":\"240\",\"marker\":{\"color\":\"#B6E880\",\"pattern\":{\"shape\":\"\"}},\"name\":\"240\",\"nbinsx\":5,\"offsetgroup\":\"240\",\"orientation\":\"v\",\"showlegend\":true,\"type\":\"histogram\",\"x\":[0.09339774557165861],\"xaxis\":\"x\",\"yaxis\":\"y\"}],                        {\"barmode\":\"group\",\"legend\":{\"title\":{\"text\":\"level_group\"},\"tracegroupgap\":0},\"template\":{\"data\":{\"bar\":[{\"error_x\":{\"color\":\"#2a3f5f\"},\"error_y\":{\"color\":\"#2a3f5f\"},\"marker\":{\"line\":{\"color\":\"#E5ECF6\",\"width\":0.5},\"pattern\":{\"fillmode\":\"overlay\",\"size\":10,\"solidity\":0.2}},\"type\":\"bar\"}],\"barpolar\":[{\"marker\":{\"line\":{\"color\":\"#E5ECF6\",\"width\":0.5},\"pattern\":{\"fillmode\":\"overlay\",\"size\":10,\"solidity\":0.2}},\"type\":\"barpolar\"}],\"carpet\":[{\"aaxis\":{\"endlinecolor\":\"#2a3f5f\",\"gridcolor\":\"white\",\"linecolor\":\"white\",\"minorgridcolor\":\"white\",\"startlinecolor\":\"#2a3f5f\"},\"baxis\":{\"endlinecolor\":\"#2a3f5f\",\"gridcolor\":\"white\",\"linecolor\":\"white\",\"minorgridcolor\":\"white\",\"startlinecolor\":\"#2a3f5f\"},\"type\":\"carpet\"}],\"choropleth\":[{\"colorbar\":{\"outlinewidth\":0,\"ticks\":\"\"},\"type\":\"choropleth\"}],\"contour\":[{\"colorbar\":{\"outlinewidth\":0,\"ticks\":\"\"},\"colorscale\":[[0.0,\"#0d0887\"],[0.1111111111111111,\"#46039f\"],[0.2222222222222222,\"#7201a8\"],[0.3333333333333333,\"#9c179e\"],[0.4444444444444444,\"#bd3786\"],[0.5555555555555556,\"#d8576b\"],[0.6666666666666666,\"#ed7953\"],[0.7777777777777778,\"#fb9f3a\"],[0.8888888888888888,\"#fdca26\"],[1.0,\"#f0f921\"]],\"type\":\"contour\"}],\"contourcarpet\":[{\"colorbar\":{\"outlinewidth\":0,\"ticks\":\"\"},\"type\":\"contourcarpet\"}],\"heatmap\":[{\"colorbar\":{\"outlinewidth\":0,\"ticks\":\"\"},\"colorscale\":[[0.0,\"#0d0887\"],[0.1111111111111111,\"#46039f\"],[0.2222222222222222,\"#7201a8\"],[0.3333333333333333,\"#9c179e\"],[0.4444444444444444,\"#bd3786\"],[0.5555555555555556,\"#d8576b\"],[0.6666666666666666,\"#ed7953\"],[0.7777777777777778,\"#fb9f3a\"],[0.8888888888888888,\"#fdca26\"],[1.0,\"#f0f921\"]],\"type\":\"heatmap\"}],\"heatmapgl\":[{\"colorbar\":{\"outlinewidth\":0,\"ticks\":\"\"},\"colorscale\":[[0.0,\"#0d0887\"],[0.1111111111111111,\"#46039f\"],[0.2222222222222222,\"#7201a8\"],[0.3333333333333333,\"#9c179e\"],[0.4444444444444444,\"#bd3786\"],[0.5555555555555556,\"#d8576b\"],[0.6666666666666666,\"#ed7953\"],[0.7777777777777778,\"#fb9f3a\"],[0.8888888888888888,\"#fdca26\"],[1.0,\"#f0f921\"]],\"type\":\"heatmapgl\"}],\"histogram\":[{\"marker\":{\"pattern\":{\"fillmode\":\"overlay\",\"size\":10,\"solidity\":0.2}},\"type\":\"histogram\"}],\"histogram2d\":[{\"colorbar\":{\"outlinewidth\":0,\"ticks\":\"\"},\"colorscale\":[[0.0,\"#0d0887\"],[0.1111111111111111,\"#46039f\"],[0.2222222222222222,\"#7201a8\"],[0.3333333333333333,\"#9c179e\"],[0.4444444444444444,\"#bd3786\"],[0.5555555555555556,\"#d8576b\"],[0.6666666666666666,\"#ed7953\"],[0.7777777777777778,\"#fb9f3a\"],[0.8888888888888888,\"#fdca26\"],[1.0,\"#f0f921\"]],\"type\":\"histogram2d\"}],\"histogram2dcontour\":[{\"colorbar\":{\"outlinewidth\":0,\"ticks\":\"\"},\"colorscale\":[[0.0,\"#0d0887\"],[0.1111111111111111,\"#46039f\"],[0.2222222222222222,\"#7201a8\"],[0.3333333333333333,\"#9c179e\"],[0.4444444444444444,\"#bd3786\"],[0.5555555555555556,\"#d8576b\"],[0.6666666666666666,\"#ed7953\"],[0.7777777777777778,\"#fb9f3a\"],[0.8888888888888888,\"#fdca26\"],[1.0,\"#f0f921\"]],\"type\":\"histogram2dcontour\"}],\"mesh3d\":[{\"colorbar\":{\"outlinewidth\":0,\"ticks\":\"\"},\"type\":\"mesh3d\"}],\"parcoords\":[{\"line\":{\"colorbar\":{\"outlinewidth\":0,\"ticks\":\"\"}},\"type\":\"parcoords\"}],\"pie\":[{\"automargin\":true,\"type\":\"pie\"}],\"scatter\":[{\"marker\":{\"colorbar\":{\"outlinewidth\":0,\"ticks\":\"\"}},\"type\":\"scatter\"}],\"scatter3d\":[{\"line\":{\"colorbar\":{\"outlinewidth\":0,\"ticks\":\"\"}},\"marker\":{\"colorbar\":{\"outlinewidth\":0,\"ticks\":\"\"}},\"type\":\"scatter3d\"}],\"scattercarpet\":[{\"marker\":{\"colorbar\":{\"outlinewidth\":0,\"ticks\":\"\"}},\"type\":\"scattercarpet\"}],\"scattergeo\":[{\"marker\":{\"colorbar\":{\"outlinewidth\":0,\"ticks\":\"\"}},\"type\":\"scattergeo\"}],\"scattergl\":[{\"marker\":{\"colorbar\":{\"outlinewidth\":0,\"ticks\":\"\"}},\"type\":\"scattergl\"}],\"scattermapbox\":[{\"marker\":{\"colorbar\":{\"outlinewidth\":0,\"ticks\":\"\"}},\"type\":\"scattermapbox\"}],\"scatterpolar\":[{\"marker\":{\"colorbar\":{\"outlinewidth\":0,\"ticks\":\"\"}},\"type\":\"scatterpolar\"}],\"scatterpolargl\":[{\"marker\":{\"colorbar\":{\"outlinewidth\":0,\"ticks\":\"\"}},\"type\":\"scatterpolargl\"}],\"scatterternary\":[{\"marker\":{\"colorbar\":{\"outlinewidth\":0,\"ticks\":\"\"}},\"type\":\"scatterternary\"}],\"surface\":[{\"colorbar\":{\"outlinewidth\":0,\"ticks\":\"\"},\"colorscale\":[[0.0,\"#0d0887\"],[0.1111111111111111,\"#46039f\"],[0.2222222222222222,\"#7201a8\"],[0.3333333333333333,\"#9c179e\"],[0.4444444444444444,\"#bd3786\"],[0.5555555555555556,\"#d8576b\"],[0.6666666666666666,\"#ed7953\"],[0.7777777777777778,\"#fb9f3a\"],[0.8888888888888888,\"#fdca26\"],[1.0,\"#f0f921\"]],\"type\":\"surface\"}],\"table\":[{\"cells\":{\"fill\":{\"color\":\"#EBF0F8\"},\"line\":{\"color\":\"white\"}},\"header\":{\"fill\":{\"color\":\"#C8D4E3\"},\"line\":{\"color\":\"white\"}},\"type\":\"table\"}]},\"layout\":{\"annotationdefaults\":{\"arrowcolor\":\"#2a3f5f\",\"arrowhead\":0,\"arrowwidth\":1},\"autotypenumbers\":\"strict\",\"coloraxis\":{\"colorbar\":{\"outlinewidth\":0,\"ticks\":\"\"}},\"colorscale\":{\"diverging\":[[0,\"#8e0152\"],[0.1,\"#c51b7d\"],[0.2,\"#de77ae\"],[0.3,\"#f1b6da\"],[0.4,\"#fde0ef\"],[0.5,\"#f7f7f7\"],[0.6,\"#e6f5d0\"],[0.7,\"#b8e186\"],[0.8,\"#7fbc41\"],[0.9,\"#4d9221\"],[1,\"#276419\"]],\"sequential\":[[0.0,\"#0d0887\"],[0.1111111111111111,\"#46039f\"],[0.2222222222222222,\"#7201a8\"],[0.3333333333333333,\"#9c179e\"],[0.4444444444444444,\"#bd3786\"],[0.5555555555555556,\"#d8576b\"],[0.6666666666666666,\"#ed7953\"],[0.7777777777777778,\"#fb9f3a\"],[0.8888888888888888,\"#fdca26\"],[1.0,\"#f0f921\"]],\"sequentialminus\":[[0.0,\"#0d0887\"],[0.1111111111111111,\"#46039f\"],[0.2222222222222222,\"#7201a8\"],[0.3333333333333333,\"#9c179e\"],[0.4444444444444444,\"#bd3786\"],[0.5555555555555556,\"#d8576b\"],[0.6666666666666666,\"#ed7953\"],[0.7777777777777778,\"#fb9f3a\"],[0.8888888888888888,\"#fdca26\"],[1.0,\"#f0f921\"]]},\"colorway\":[\"#636efa\",\"#EF553B\",\"#00cc96\",\"#ab63fa\",\"#FFA15A\",\"#19d3f3\",\"#FF6692\",\"#B6E880\",\"#FF97FF\",\"#FECB52\"],\"font\":{\"color\":\"#2a3f5f\"},\"geo\":{\"bgcolor\":\"white\",\"lakecolor\":\"white\",\"landcolor\":\"#E5ECF6\",\"showlakes\":true,\"showland\":true,\"subunitcolor\":\"white\"},\"hoverlabel\":{\"align\":\"left\"},\"hovermode\":\"closest\",\"mapbox\":{\"style\":\"light\"},\"paper_bgcolor\":\"white\",\"plot_bgcolor\":\"#E5ECF6\",\"polar\":{\"angularaxis\":{\"gridcolor\":\"white\",\"linecolor\":\"white\",\"ticks\":\"\"},\"bgcolor\":\"#E5ECF6\",\"radialaxis\":{\"gridcolor\":\"white\",\"linecolor\":\"white\",\"ticks\":\"\"}},\"scene\":{\"xaxis\":{\"backgroundcolor\":\"#E5ECF6\",\"gridcolor\":\"white\",\"gridwidth\":2,\"linecolor\":\"white\",\"showbackground\":true,\"ticks\":\"\",\"zerolinecolor\":\"white\"},\"yaxis\":{\"backgroundcolor\":\"#E5ECF6\",\"gridcolor\":\"white\",\"gridwidth\":2,\"linecolor\":\"white\",\"showbackground\":true,\"ticks\":\"\",\"zerolinecolor\":\"white\"},\"zaxis\":{\"backgroundcolor\":\"#E5ECF6\",\"gridcolor\":\"white\",\"gridwidth\":2,\"linecolor\":\"white\",\"showbackground\":true,\"ticks\":\"\",\"zerolinecolor\":\"white\"}},\"shapedefaults\":{\"line\":{\"color\":\"#2a3f5f\"}},\"ternary\":{\"aaxis\":{\"gridcolor\":\"white\",\"linecolor\":\"white\",\"ticks\":\"\"},\"baxis\":{\"gridcolor\":\"white\",\"linecolor\":\"white\",\"ticks\":\"\"},\"bgcolor\":\"#E5ECF6\",\"caxis\":{\"gridcolor\":\"white\",\"linecolor\":\"white\",\"ticks\":\"\"}},\"title\":{\"x\":0.05},\"xaxis\":{\"automargin\":true,\"gridcolor\":\"white\",\"linecolor\":\"white\",\"ticks\":\"\",\"title\":{\"standoff\":15},\"zerolinecolor\":\"white\",\"zerolinewidth\":2},\"yaxis\":{\"automargin\":true,\"gridcolor\":\"white\",\"linecolor\":\"white\",\"ticks\":\"\",\"title\":{\"standoff\":15},\"zerolinecolor\":\"white\",\"zerolinewidth\":2}}},\"title\":{\"text\":\"Histogram for count for spend_replay\"},\"xaxis\":{\"anchor\":\"y\",\"domain\":[0.0,1.0],\"title\":{\"text\":\"percent\"}},\"yaxis\":{\"anchor\":\"x\",\"domain\":[0.0,1.0],\"title\":{\"text\":\"count\"}}},                        {\"responsive\": true}                    ).then(function(){\n",
              "                            \n",
              "var gd = document.getElementById('e851799c-09be-4a92-a825-22301ee9e042');\n",
              "var x = new MutationObserver(function (mutations, observer) {{\n",
              "        var display = window.getComputedStyle(gd).display;\n",
              "        if (!display || display === 'none') {{\n",
              "            console.log([gd, 'removed!']);\n",
              "            Plotly.purge(gd);\n",
              "            observer.disconnect();\n",
              "        }}\n",
              "}});\n",
              "\n",
              "// Listen for the removal of the full notebook cells\n",
              "var notebookContainer = gd.closest('#notebook-container');\n",
              "if (notebookContainer) {{\n",
              "    x.observe(notebookContainer, {childList: true});\n",
              "}}\n",
              "\n",
              "// Listen for the clearing of the current output cell\n",
              "var outputEl = gd.closest('.output');\n",
              "if (outputEl) {{\n",
              "    x.observe(outputEl, {childList: true});\n",
              "}}\n",
              "\n",
              "                        })                };                            </script>        </div>\n",
              "</body>\n",
              "</html>"
            ]
          },
          "metadata": {}
        }
      ]
    },
    {
      "cell_type": "markdown",
      "metadata": {
        "id": "brpiuIk8LQC4"
      },
      "source": [
        "**Выводы:** \n",
        "\n",
        "* Люди, которые забрасывают играть с churn=1 в среднем используют бустеры с процентом от 0.025 до 0.175.\n",
        "* Люди которые дальше играют, имеют явный пик на 1. То есть используют этот тип бустера, в каждой игре.\n",
        "* Для пользователей играющих больше чем сутки, процент спадает до 0.025-0.175.\n"
      ]
    },
    {
      "cell_type": "markdown",
      "metadata": {
        "id": "iHnqOngOK6mY"
      },
      "source": [
        "# **5.2 Связь прохождения уровней с расходом хинта на уровне - spent_level**"
      ]
    },
    {
      "cell_type": "code",
      "metadata": {
        "id": "T7pXx0CEHcf_",
        "colab": {
          "base_uri": "https://localhost:8080/",
          "height": 542
        },
        "outputId": "3f1f1ab8-d754-4ce4-9956-420840642bc1"
      },
      "source": [
        "px.histogram(table_24_kogort[(table_24_kogort['event_name'] == 'spent_level') &\n",
        "                              (table_24_kogort['churn'] == 1)], \n",
        "              x=\"percent\", color='level_group',\n",
        "            barmode='group',nbins=5,\n",
        "             title='Histogram for count for spend_level with churn = 1')"
      ],
      "execution_count": null,
      "outputs": [
        {
          "output_type": "display_data",
          "data": {
            "text/html": [
              "<html>\n",
              "<head><meta charset=\"utf-8\" /></head>\n",
              "<body>\n",
              "    <div>            <script src=\"https://cdnjs.cloudflare.com/ajax/libs/mathjax/2.7.5/MathJax.js?config=TeX-AMS-MML_SVG\"></script><script type=\"text/javascript\">if (window.MathJax) {MathJax.Hub.Config({SVG: {font: \"STIX-Web\"}});}</script>                <script type=\"text/javascript\">window.PlotlyConfig = {MathJaxConfig: 'local'};</script>\n",
              "        <script src=\"https://cdn.plot.ly/plotly-2.3.1.min.js\"></script>                <div id=\"8708b1c5-7851-4edf-b8b7-82db513bc170\" class=\"plotly-graph-div\" style=\"height:525px; width:100%;\"></div>            <script type=\"text/javascript\">                                    window.PLOTLYENV=window.PLOTLYENV || {};                                    if (document.getElementById(\"8708b1c5-7851-4edf-b8b7-82db513bc170\")) {                    Plotly.newPlot(                        \"8708b1c5-7851-4edf-b8b7-82db513bc170\",                        [{\"alignmentgroup\":\"True\",\"bingroup\":\"x\",\"hovertemplate\":\"level_group=30<br>percent=%{x}<br>count=%{y}<extra></extra>\",\"legendgroup\":\"30\",\"marker\":{\"color\":\"#636efa\",\"pattern\":{\"shape\":\"\"}},\"name\":\"30\",\"nbinsx\":5,\"offsetgroup\":\"30\",\"orientation\":\"v\",\"showlegend\":true,\"type\":\"histogram\",\"x\":[0.37037037037037035,0.3333333333333333,0.08888888888888889,0.2153846153846154,0.37735849056603776,0.24,0.23076923076923078,0.1388888888888889,0.04,0.375,0.3275862068965517,0.023255813953488372,0.045454545454545456,0.03125,0.37662337662337664,0.16666666666666666,0.0821917808219178,0.24390243902439024,0.07142857142857142,0.27906976744186046,0.24528301886792453,0.30158730158730157,0.29310344827586204,0.46511627906976744,0.3023255813953488,0.12244897959183673,0.1935483870967742,0.22413793103448276,0.20454545454545456,0.38461538461538464,0.16129032258064516,0.21739130434782608,0.19148936170212766,0.07317073170731707,0.2857142857142857,0.19230769230769232,0.4230769230769231,0.32786885245901637,0.09090909090909091,0.3409090909090909,0.32142857142857145,0.1276595744680851,0.01639344262295082,0.23636363636363636,0.23076923076923078,0.038461538461538464,0.1891891891891892,0.2465753424657534,0.16,0.20512820512820512,0.21568627450980393,0.3,0.21428571428571427,0.02,0.2777777777777778,0.275,0.02564102564102564,0.3880597014925373,0.14285714285714285,0.16666666666666666,0.10909090909090909,0.125,0.03125,0.18,0.40298507462686567,0.28,0.1016949152542373,0.024390243902439025,0.04819277108433735,0.16129032258064516,0.20408163265306123,0.18181818181818182,0.06,0.07692307692307693,0.22807017543859648,0.2878787878787879,0.2714285714285714,0.1774193548387097,0.05128205128205128,0.06896551724137931,0.05970149253731343,0.11363636363636363,0.3888888888888889,0.2619047619047619,0.2,0.35443037974683544,0.375,0.3142857142857143,0.15384615384615385,0.11320754716981132,0.030303030303030304,0.05084745762711865,0.21739130434782608,0.125,0.16666666666666666,0.3148148148148148,0.38636363636363635,0.21428571428571427,0.4897959183673469,0.36923076923076925,0.4864864864864865,0.21739130434782608,0.3958333333333333,0.2608695652173913,0.19230769230769232,0.022222222222222223,0.375,0.2,0.16666666666666666,0.358974358974359,0.3404255319148936,0.1702127659574468,0.20833333333333334,0.36363636363636365,0.19117647058823528,0.3103448275862069,0.1956521739130435,0.06818181818181818,0.09302325581395349,0.25,0.22580645161290322,0.2549019607843137,0.3064516129032258,0.17647058823529413,0.015151515151515152,0.17307692307692307,0.2127659574468085,0.06060606060606061,0.04,0.09302325581395349,0.07936507936507936,0.36231884057971014,0.2037037037037037,0.16279069767441862,0.058823529411764705,0.3333333333333333,0.1875,0.14285714285714285,0.16981132075471697,0.10294117647058823,0.21052631578947367,0.19047619047619047,0.34545454545454546,0.2,0.2857142857142857,0.36923076923076925,0.19230769230769232,0.3269230769230769,0.13953488372093023,0.38,0.3125,0.30434782608695654,0.32075471698113206,0.1935483870967742,0.44,0.2549019607843137,0.018518518518518517,0.07894736842105263,0.2222222222222222,0.16326530612244897,0.10256410256410256,0.08333333333333333,0.35555555555555557,0.19047619047619047,0.09523809523809523,0.14285714285714285,0.4090909090909091,0.3384615384615385,0.023809523809523808,0.3023255813953488,0.1590909090909091,0.2978723404255319,0.40384615384615385,0.25,0.21875,0.13513513513513514,0.175,0.3584905660377358,0.23728813559322035,0.4444444444444444,0.1702127659574468,0.375,0.31666666666666665,0.175,0.5,0.19672131147540983,0.20930232558139536,0.24615384615384617,0.1864406779661017,0.05357142857142857,0.1,0.275,0.2727272727272727,0.02,0.2631578947368421,0.29545454545454547,0.15151515151515152,0.2647058823529412,0.046511627906976744,0.5714285714285714,0.3829787234042553,0.15,0.3220338983050847,0.26153846153846155,0.16417910447761194,0.27692307692307694,0.2375,0.225,0.17391304347826086,0.14583333333333334,0.20512820512820512,0.225,0.2926829268292683,0.4,0.08888888888888889,0.19298245614035087,0.10714285714285714,0.3469387755102041,0.23404255319148937,0.03389830508474576,0.0847457627118644,0.34,0.045454545454545456,0.41304347826086957,0.2222222222222222,0.08695652173913043,0.16,0.15384615384615385,0.21505376344086022,0.05128205128205128,0.2549019607843137,0.02564102564102564,0.07547169811320754,0.1935483870967742,0.09259259259259259,0.06521739130434782,0.017857142857142856,0.3333333333333333,0.136986301369863,0.3333333333333333,0.19117647058823528,0.3902439024390244,0.16279069767441862,0.015384615384615385,0.20930232558139536,0.3333333333333333,0.4,0.16666666666666666,0.038461538461538464,0.45614035087719296,0.047619047619047616,0.2982456140350877,0.24324324324324326,0.02,0.22,0.29545454545454547,0.5128205128205128,0.1746031746031746,0.3870967741935484,0.1590909090909091,0.21951219512195122,0.17647058823529413,0.359375,0.25],\"xaxis\":\"x\",\"yaxis\":\"y\"},{\"alignmentgroup\":\"True\",\"bingroup\":\"x\",\"hovertemplate\":\"level_group=45<br>percent=%{x}<br>count=%{y}<extra></extra>\",\"legendgroup\":\"45\",\"marker\":{\"color\":\"#EF553B\",\"pattern\":{\"shape\":\"\"}},\"name\":\"45\",\"nbinsx\":5,\"offsetgroup\":\"45\",\"orientation\":\"v\",\"showlegend\":true,\"type\":\"histogram\",\"x\":[0.30612244897959184,0.3037974683544304,0.03333333333333333,0.140625,0.39344262295081966,0.20689655172413793,0.27848101265822783,0.0625,0.48484848484848486,0.12941176470588237,0.0967741935483871,0.0547945205479452,0.3707865168539326,0.1978021978021978,0.08333333333333333,0.06666666666666667,0.29545454545454547,0.031914893617021274,0.16853932584269662,0.31666666666666665,0.36231884057971014,0.041237113402061855,0.12698412698412698,0.3561643835616438,0.35443037974683544,0.09333333333333334,0.3870967741935484,0.25862068965517243,0.3225806451612903,0.2545454545454545,0.4745762711864407,0.09782608695652174,0.2631578947368421,0.0125,0.2682926829268293,0.2647058823529412,0.1917808219178082,0.3787878787878788,0.1267605633802817,0.26436781609195403,0.4666666666666667,0.08695652173913043,0.20238095238095238,0.04040404040404041,0.2,0.16161616161616163,0.16393442622950818,0.0273972602739726,0.36363636363636365,0.34782608695652173,0.26865671641791045,0.4444444444444444,0.15384615384615385,0.07142857142857142,0.323943661971831,0.13725490196078433,0.21428571428571427,0.3924050632911392,0.013333333333333334,0.2463768115942029,0.35714285714285715,0.23076923076923078,0.35526315789473684,0.1527777777777778,0.24,0.21518987341772153,0.5072463768115942,0.36619718309859156,0.40298507462686567,0.1774193548387097,0.16049382716049382,0.46774193548387094,0.26666666666666666,0.3389830508474576,0.21212121212121213,0.17647058823529413,0.4576271186440678,0.36363636363636365,0.25316455696202533,0.1111111111111111,0.3333333333333333,0.3939393939393939,0.25675675675675674,0.024096385542168676,0.25757575757575757,0.0625,0.23076923076923078,0.2625,0.10606060606060606,0.4189189189189189,0.26785714285714285,0.3548387096774194,0.32857142857142857,0.4444444444444444,0.46551724137931033,0.3466666666666667,0.24561403508771928,0.18269230769230768,0.19626168224299065,0.43661971830985913,0.175,0.2972972972972973,0.06896551724137931,0.288135593220339,0.32894736842105265,0.14444444444444443,0.3968253968253968,0.1,0.2,0.1839080459770115,0.18867924528301888,0.27941176470588236,0.4090909090909091,0.1346153846153846,0.3709677419354839,0.16666666666666666,0.4358974358974359,0.29333333333333333,0.10843373493975904,0.11940298507462686,0.10144927536231885,0.2702702702702703,0.14444444444444443,0.24242424242424243,0.03409090909090909,0.1,0.2465753424657534,0.36231884057971014,0.11594202898550725,0.2898550724637681,0.14814814814814814,0.17307692307692307,0.2857142857142857,0.07692307692307693,0.4444444444444444,0.03225806451612903],\"xaxis\":\"x\",\"yaxis\":\"y\"},{\"alignmentgroup\":\"True\",\"bingroup\":\"x\",\"hovertemplate\":\"level_group=15<br>percent=%{x}<br>count=%{y}<extra></extra>\",\"legendgroup\":\"15\",\"marker\":{\"color\":\"#00cc96\",\"pattern\":{\"shape\":\"\"}},\"name\":\"15\",\"nbinsx\":5,\"offsetgroup\":\"15\",\"orientation\":\"v\",\"showlegend\":true,\"type\":\"histogram\",\"x\":[0.2777777777777778,0.12,0.0625,0.14285714285714285,0.10344827586206896,0.28125,0.13043478260869565,0.1044776119402985,0.07894736842105263,0.16666666666666666,0.15384615384615385,0.32432432432432434,0.030303030303030304,0.06896551724137931,0.30434782608695654,0.17391304347826086,0.07407407407407407,0.0625,0.2682926829268293,0.058823529411764705,0.125,0.14285714285714285,0.05714285714285714,0.30303030303030304,0.1875,0.04,0.027777777777777776,0.13043478260869565,0.3170731707317073,0.20833333333333334,0.38095238095238093,0.2916666666666667,0.14814814814814814,0.08,0.25862068965517243,0.3023255813953488,0.12121212121212122,0.19047619047619047,0.24324324324324326,0.14285714285714285,0.125,0.2857142857142857,0.13043478260869565,0.13953488372093023,0.0625,0.05,0.13333333333333333,0.23529411764705882,0.20408163265306123,0.10526315789473684,0.09090909090909091,0.17307692307692307,0.3611111111111111,0.045454545454545456,0.11904761904761904,0.2,0.16279069767441862,0.09375,0.10606060606060606,0.1,0.04,0.058823529411764705,0.3409090909090909,0.047619047619047616,0.027777777777777776,0.1111111111111111,0.1,0.0967741935483871,0.2571428571428571,0.4166666666666667,0.3,0.28,0.08108108108108109,0.038461538461538464,0.15789473684210525,0.125,0.2647058823529412,0.23684210526315788,0.15789473684210525,0.08108108108108109,0.07692307692307693,0.029411764705882353,0.0625,0.18181818181818182,0.3076923076923077,0.06976744186046512,0.35135135135135137,0.11428571428571428,0.05,0.1111111111111111,0.5161290322580645,0.2857142857142857,0.023255813953488372,0.047619047619047616,0.09375,0.16666666666666666,0.44,0.041666666666666664,0.023809523809523808,0.08,0.10344827586206896,0.1111111111111111,0.16666666666666666,0.14285714285714285,0.2,0.08,0.12,0.07692307692307693,0.27586206896551724,0.34146341463414637,0.038461538461538464,0.023809523809523808,0.047619047619047616,0.11538461538461539,0.15384615384615385,0.05,0.045454545454545456,0.09523809523809523,0.2,0.3,0.23529411764705882,0.21052631578947367,0.07272727272727272,0.16,0.06976744186046512,0.05555555555555555,0.2631578947368421,0.045454545454545456,0.027777777777777776,0.06666666666666667,0.23529411764705882,0.025,0.07407407407407407,0.08695652173913043,0.14285714285714285,0.1,0.034482758620689655,0.15,0.23809523809523808,0.15625,0.2345679012345679,0.12121212121212122,0.1875,0.13333333333333333,0.15789473684210525,0.2558139534883721,0.26666666666666666,0.07692307692307693,0.05,0.030303030303030304,0.16279069767441862,0.0975609756097561,0.3103448275862069,0.12,0.1,0.10344827586206896,0.2545454545454545,0.35714285714285715,0.07692307692307693,0.10256410256410256,0.20634920634920634,0.029411764705882353,0.19230769230769232,0.13043478260869565,0.2,0.058823529411764705,0.05555555555555555,0.26666666666666666,0.2222222222222222,0.3076923076923077,0.23214285714285715,0.22033898305084745,0.24489795918367346,0.24444444444444444,0.09090909090909091,0.04878048780487805,0.041666666666666664,0.10344827586206896,0.23076923076923078,0.20588235294117646,0.3,0.3,0.18181818181818182,0.047619047619047616,0.4074074074074074,0.2553191489361702,0.045454545454545456,0.20588235294117646,0.2222222222222222,0.2647058823529412,0.05,0.058823529411764705,0.0625,0.030303030303030304,0.10344827586206896,0.11764705882352941,0.47619047619047616,0.1111111111111111,0.05263157894736842,0.10526315789473684,0.10344827586206896,0.16363636363636364,0.09523809523809523,0.24324324324324326,0.04,0.22,0.061224489795918366,0.12121212121212122,0.13333333333333333,0.16666666666666666,0.27450980392156865,0.30303030303030304,0.2903225806451613,0.3870967741935484,0.1875,0.36666666666666664,0.1,0.20689655172413793,0.07692307692307693,0.2608695652173913,0.12280701754385964,0.24561403508771928,0.22727272727272727,0.4482758620689655,0.03333333333333333,0.08333333333333333,0.037037037037037035,0.038461538461538464,0.30952380952380953,0.03125,0.05263157894736842,0.29411764705882354,0.05555555555555555,0.022727272727272728,0.21666666666666667,0.08571428571428572,0.35,0.030303030303030304,0.08333333333333333,0.0625,0.2692307692307692,0.13157894736842105,0.30434782608695654,0.21739130434782608,0.0784313725490196,0.02631578947368421,0.041666666666666664,0.125,0.045454545454545456,0.14705882352941177,0.08823529411764706,0.1875,0.1111111111111111,0.17777777777777778,0.041666666666666664,0.32142857142857145,0.03333333333333333,0.05555555555555555,0.42857142857142855,0.17647058823529413,0.13513513513513514,0.1891891891891892,0.15384615384615385,0.3488372093023256,0.02857142857142857,0.21428571428571427,0.1724137931034483,0.4444444444444444,0.32608695652173914,0.041666666666666664,0.13793103448275862,0.07894736842105263,0.20833333333333334,0.034482758620689655,0.029411764705882353,0.4666666666666667,0.17647058823529413,0.20454545454545456,0.3333333333333333,0.23529411764705882,0.18518518518518517,0.2553191489361702,0.1111111111111111,0.10606060606060606,0.06896551724137931,0.16326530612244897,0.35,0.02857142857142857,0.24324324324324326,0.05555555555555555,0.0625,0.1,0.05357142857142857,0.09375,0.034482758620689655,0.25,0.16666666666666666,0.29411764705882354,0.4838709677419355,0.3333333333333333,0.1724137931034483,0.3023255813953488,0.27450980392156865,0.1794871794871795,0.14705882352941177,0.04,0.25925925925925924,0.21739130434782608,0.10344827586206896,0.09523809523809523,0.35555555555555557,0.1702127659574468,0.05128205128205128,0.12195121951219512,0.03225806451612903,0.18181818181818182,0.21739130434782608,0.05,0.16666666666666666,0.15151515151515152,0.2857142857142857,0.022222222222222223,0.15151515151515152,0.16666666666666666,0.1,0.17777777777777778,0.2222222222222222,0.38095238095238093,0.041666666666666664,0.2222222222222222,0.18518518518518517,0.125,0.22727272727272727,0.21621621621621623,0.34615384615384615,0.5384615384615384,0.08695652173913043,0.14285714285714285,0.20408163265306123,0.25925925925925924,0.3076923076923077,0.18518518518518517,0.02702702702702703,0.2564102564102564,0.15625,0.13333333333333333,0.0625,0.24242424242424243,0.05,0.05263157894736842,0.22413793103448276,0.19230769230769232,0.21428571428571427,0.13043478260869565,0.05555555555555555,0.045454545454545456,0.07407407407407407,0.05555555555555555,0.10714285714285714,0.22448979591836735,0.1,0.09090909090909091,0.42424242424242425,0.25925925925925924,0.37142857142857144,0.1111111111111111,0.25,0.25,0.12,0.23404255319148937,0.038461538461538464,0.2727272727272727,0.16,0.2647058823529412,0.043478260869565216,0.36363636363636365,0.3333333333333333,0.39285714285714285,0.030303030303030304,0.12121212121212122,0.3,0.13953488372093023,0.15789473684210525,0.15789473684210525,0.07142857142857142,0.19230769230769232,0.16129032258064516,0.23809523809523808,0.18421052631578946],\"xaxis\":\"x\",\"yaxis\":\"y\"},{\"alignmentgroup\":\"True\",\"bingroup\":\"x\",\"hovertemplate\":\"level_group=0<br>percent=%{x}<br>count=%{y}<extra></extra>\",\"legendgroup\":\"0\",\"marker\":{\"color\":\"#ab63fa\",\"pattern\":{\"shape\":\"\"}},\"name\":\"0\",\"nbinsx\":5,\"offsetgroup\":\"0\",\"orientation\":\"v\",\"showlegend\":true,\"type\":\"histogram\",\"x\":[0.2,0.06666666666666667,0.09523809523809523,0.11764705882352941,0.25,0.07142857142857142,0.46153846153846156,0.4166666666666667,0.15384615384615385,0.2,0.058823529411764705,0.09090909090909091,0.07692307692307693,0.15789473684210525,0.1,0.16666666666666666,0.18181818181818182,0.13636363636363635,0.1875,0.32,0.25,0.05,0.1111111111111111,0.08333333333333333,0.17391304347826086,0.23076923076923078,0.15,0.1,0.14285714285714285,0.2857142857142857,0.17647058823529413,0.23076923076923078,0.07692307692307693,0.2,0.16666666666666666,0.08695652173913043,0.3,0.12,0.14285714285714285,0.07692307692307693,0.25,0.15,0.2,0.0625,0.07692307692307693,0.06666666666666667,0.25,0.35714285714285715,0.14285714285714285,0.15384615384615385,0.15789473684210525,0.18181818181818182,0.05555555555555555,0.2631578947368421,0.2,0.17647058823529413,0.1,0.18181818181818182],\"xaxis\":\"x\",\"yaxis\":\"y\"},{\"alignmentgroup\":\"True\",\"bingroup\":\"x\",\"hovertemplate\":\"level_group=75<br>percent=%{x}<br>count=%{y}<extra></extra>\",\"legendgroup\":\"75\",\"marker\":{\"color\":\"#FFA15A\",\"pattern\":{\"shape\":\"\"}},\"name\":\"75\",\"nbinsx\":5,\"offsetgroup\":\"75\",\"orientation\":\"v\",\"showlegend\":true,\"type\":\"histogram\",\"x\":[0.19166666666666668,0.2222222222222222,0.17647058823529413,0.17525773195876287,0.18181818181818182,0.2956521739130435],\"xaxis\":\"x\",\"yaxis\":\"y\"},{\"alignmentgroup\":\"True\",\"bingroup\":\"x\",\"hovertemplate\":\"level_group=60<br>percent=%{x}<br>count=%{y}<extra></extra>\",\"legendgroup\":\"60\",\"marker\":{\"color\":\"#19d3f3\",\"pattern\":{\"shape\":\"\"}},\"name\":\"60\",\"nbinsx\":5,\"offsetgroup\":\"60\",\"orientation\":\"v\",\"showlegend\":true,\"type\":\"histogram\",\"x\":[0.2261904761904762,0.23893805309734514,0.17721518987341772,0.2857142857142857,0.012048192771084338,0.21568627450980393,0.3,0.39361702127659576,0.22105263157894736,0.30666666666666664,0.24074074074074073,0.29310344827586204,0.2978723404255319,0.13924050632911392,0.2289156626506024,0.3008849557522124,0.27450980392156865,0.045454545454545456,0.02,0.4090909090909091,0.25,0.30851063829787234],\"xaxis\":\"x\",\"yaxis\":\"y\"},{\"alignmentgroup\":\"True\",\"bingroup\":\"x\",\"hovertemplate\":\"level_group=90<br>percent=%{x}<br>count=%{y}<extra></extra>\",\"legendgroup\":\"90\",\"marker\":{\"color\":\"#FF6692\",\"pattern\":{\"shape\":\"\"}},\"name\":\"90\",\"nbinsx\":5,\"offsetgroup\":\"90\",\"orientation\":\"v\",\"showlegend\":true,\"type\":\"histogram\",\"x\":[0.19480519480519481],\"xaxis\":\"x\",\"yaxis\":\"y\"}],                        {\"barmode\":\"group\",\"legend\":{\"title\":{\"text\":\"level_group\"},\"tracegroupgap\":0},\"template\":{\"data\":{\"bar\":[{\"error_x\":{\"color\":\"#2a3f5f\"},\"error_y\":{\"color\":\"#2a3f5f\"},\"marker\":{\"line\":{\"color\":\"#E5ECF6\",\"width\":0.5},\"pattern\":{\"fillmode\":\"overlay\",\"size\":10,\"solidity\":0.2}},\"type\":\"bar\"}],\"barpolar\":[{\"marker\":{\"line\":{\"color\":\"#E5ECF6\",\"width\":0.5},\"pattern\":{\"fillmode\":\"overlay\",\"size\":10,\"solidity\":0.2}},\"type\":\"barpolar\"}],\"carpet\":[{\"aaxis\":{\"endlinecolor\":\"#2a3f5f\",\"gridcolor\":\"white\",\"linecolor\":\"white\",\"minorgridcolor\":\"white\",\"startlinecolor\":\"#2a3f5f\"},\"baxis\":{\"endlinecolor\":\"#2a3f5f\",\"gridcolor\":\"white\",\"linecolor\":\"white\",\"minorgridcolor\":\"white\",\"startlinecolor\":\"#2a3f5f\"},\"type\":\"carpet\"}],\"choropleth\":[{\"colorbar\":{\"outlinewidth\":0,\"ticks\":\"\"},\"type\":\"choropleth\"}],\"contour\":[{\"colorbar\":{\"outlinewidth\":0,\"ticks\":\"\"},\"colorscale\":[[0.0,\"#0d0887\"],[0.1111111111111111,\"#46039f\"],[0.2222222222222222,\"#7201a8\"],[0.3333333333333333,\"#9c179e\"],[0.4444444444444444,\"#bd3786\"],[0.5555555555555556,\"#d8576b\"],[0.6666666666666666,\"#ed7953\"],[0.7777777777777778,\"#fb9f3a\"],[0.8888888888888888,\"#fdca26\"],[1.0,\"#f0f921\"]],\"type\":\"contour\"}],\"contourcarpet\":[{\"colorbar\":{\"outlinewidth\":0,\"ticks\":\"\"},\"type\":\"contourcarpet\"}],\"heatmap\":[{\"colorbar\":{\"outlinewidth\":0,\"ticks\":\"\"},\"colorscale\":[[0.0,\"#0d0887\"],[0.1111111111111111,\"#46039f\"],[0.2222222222222222,\"#7201a8\"],[0.3333333333333333,\"#9c179e\"],[0.4444444444444444,\"#bd3786\"],[0.5555555555555556,\"#d8576b\"],[0.6666666666666666,\"#ed7953\"],[0.7777777777777778,\"#fb9f3a\"],[0.8888888888888888,\"#fdca26\"],[1.0,\"#f0f921\"]],\"type\":\"heatmap\"}],\"heatmapgl\":[{\"colorbar\":{\"outlinewidth\":0,\"ticks\":\"\"},\"colorscale\":[[0.0,\"#0d0887\"],[0.1111111111111111,\"#46039f\"],[0.2222222222222222,\"#7201a8\"],[0.3333333333333333,\"#9c179e\"],[0.4444444444444444,\"#bd3786\"],[0.5555555555555556,\"#d8576b\"],[0.6666666666666666,\"#ed7953\"],[0.7777777777777778,\"#fb9f3a\"],[0.8888888888888888,\"#fdca26\"],[1.0,\"#f0f921\"]],\"type\":\"heatmapgl\"}],\"histogram\":[{\"marker\":{\"pattern\":{\"fillmode\":\"overlay\",\"size\":10,\"solidity\":0.2}},\"type\":\"histogram\"}],\"histogram2d\":[{\"colorbar\":{\"outlinewidth\":0,\"ticks\":\"\"},\"colorscale\":[[0.0,\"#0d0887\"],[0.1111111111111111,\"#46039f\"],[0.2222222222222222,\"#7201a8\"],[0.3333333333333333,\"#9c179e\"],[0.4444444444444444,\"#bd3786\"],[0.5555555555555556,\"#d8576b\"],[0.6666666666666666,\"#ed7953\"],[0.7777777777777778,\"#fb9f3a\"],[0.8888888888888888,\"#fdca26\"],[1.0,\"#f0f921\"]],\"type\":\"histogram2d\"}],\"histogram2dcontour\":[{\"colorbar\":{\"outlinewidth\":0,\"ticks\":\"\"},\"colorscale\":[[0.0,\"#0d0887\"],[0.1111111111111111,\"#46039f\"],[0.2222222222222222,\"#7201a8\"],[0.3333333333333333,\"#9c179e\"],[0.4444444444444444,\"#bd3786\"],[0.5555555555555556,\"#d8576b\"],[0.6666666666666666,\"#ed7953\"],[0.7777777777777778,\"#fb9f3a\"],[0.8888888888888888,\"#fdca26\"],[1.0,\"#f0f921\"]],\"type\":\"histogram2dcontour\"}],\"mesh3d\":[{\"colorbar\":{\"outlinewidth\":0,\"ticks\":\"\"},\"type\":\"mesh3d\"}],\"parcoords\":[{\"line\":{\"colorbar\":{\"outlinewidth\":0,\"ticks\":\"\"}},\"type\":\"parcoords\"}],\"pie\":[{\"automargin\":true,\"type\":\"pie\"}],\"scatter\":[{\"marker\":{\"colorbar\":{\"outlinewidth\":0,\"ticks\":\"\"}},\"type\":\"scatter\"}],\"scatter3d\":[{\"line\":{\"colorbar\":{\"outlinewidth\":0,\"ticks\":\"\"}},\"marker\":{\"colorbar\":{\"outlinewidth\":0,\"ticks\":\"\"}},\"type\":\"scatter3d\"}],\"scattercarpet\":[{\"marker\":{\"colorbar\":{\"outlinewidth\":0,\"ticks\":\"\"}},\"type\":\"scattercarpet\"}],\"scattergeo\":[{\"marker\":{\"colorbar\":{\"outlinewidth\":0,\"ticks\":\"\"}},\"type\":\"scattergeo\"}],\"scattergl\":[{\"marker\":{\"colorbar\":{\"outlinewidth\":0,\"ticks\":\"\"}},\"type\":\"scattergl\"}],\"scattermapbox\":[{\"marker\":{\"colorbar\":{\"outlinewidth\":0,\"ticks\":\"\"}},\"type\":\"scattermapbox\"}],\"scatterpolar\":[{\"marker\":{\"colorbar\":{\"outlinewidth\":0,\"ticks\":\"\"}},\"type\":\"scatterpolar\"}],\"scatterpolargl\":[{\"marker\":{\"colorbar\":{\"outlinewidth\":0,\"ticks\":\"\"}},\"type\":\"scatterpolargl\"}],\"scatterternary\":[{\"marker\":{\"colorbar\":{\"outlinewidth\":0,\"ticks\":\"\"}},\"type\":\"scatterternary\"}],\"surface\":[{\"colorbar\":{\"outlinewidth\":0,\"ticks\":\"\"},\"colorscale\":[[0.0,\"#0d0887\"],[0.1111111111111111,\"#46039f\"],[0.2222222222222222,\"#7201a8\"],[0.3333333333333333,\"#9c179e\"],[0.4444444444444444,\"#bd3786\"],[0.5555555555555556,\"#d8576b\"],[0.6666666666666666,\"#ed7953\"],[0.7777777777777778,\"#fb9f3a\"],[0.8888888888888888,\"#fdca26\"],[1.0,\"#f0f921\"]],\"type\":\"surface\"}],\"table\":[{\"cells\":{\"fill\":{\"color\":\"#EBF0F8\"},\"line\":{\"color\":\"white\"}},\"header\":{\"fill\":{\"color\":\"#C8D4E3\"},\"line\":{\"color\":\"white\"}},\"type\":\"table\"}]},\"layout\":{\"annotationdefaults\":{\"arrowcolor\":\"#2a3f5f\",\"arrowhead\":0,\"arrowwidth\":1},\"autotypenumbers\":\"strict\",\"coloraxis\":{\"colorbar\":{\"outlinewidth\":0,\"ticks\":\"\"}},\"colorscale\":{\"diverging\":[[0,\"#8e0152\"],[0.1,\"#c51b7d\"],[0.2,\"#de77ae\"],[0.3,\"#f1b6da\"],[0.4,\"#fde0ef\"],[0.5,\"#f7f7f7\"],[0.6,\"#e6f5d0\"],[0.7,\"#b8e186\"],[0.8,\"#7fbc41\"],[0.9,\"#4d9221\"],[1,\"#276419\"]],\"sequential\":[[0.0,\"#0d0887\"],[0.1111111111111111,\"#46039f\"],[0.2222222222222222,\"#7201a8\"],[0.3333333333333333,\"#9c179e\"],[0.4444444444444444,\"#bd3786\"],[0.5555555555555556,\"#d8576b\"],[0.6666666666666666,\"#ed7953\"],[0.7777777777777778,\"#fb9f3a\"],[0.8888888888888888,\"#fdca26\"],[1.0,\"#f0f921\"]],\"sequentialminus\":[[0.0,\"#0d0887\"],[0.1111111111111111,\"#46039f\"],[0.2222222222222222,\"#7201a8\"],[0.3333333333333333,\"#9c179e\"],[0.4444444444444444,\"#bd3786\"],[0.5555555555555556,\"#d8576b\"],[0.6666666666666666,\"#ed7953\"],[0.7777777777777778,\"#fb9f3a\"],[0.8888888888888888,\"#fdca26\"],[1.0,\"#f0f921\"]]},\"colorway\":[\"#636efa\",\"#EF553B\",\"#00cc96\",\"#ab63fa\",\"#FFA15A\",\"#19d3f3\",\"#FF6692\",\"#B6E880\",\"#FF97FF\",\"#FECB52\"],\"font\":{\"color\":\"#2a3f5f\"},\"geo\":{\"bgcolor\":\"white\",\"lakecolor\":\"white\",\"landcolor\":\"#E5ECF6\",\"showlakes\":true,\"showland\":true,\"subunitcolor\":\"white\"},\"hoverlabel\":{\"align\":\"left\"},\"hovermode\":\"closest\",\"mapbox\":{\"style\":\"light\"},\"paper_bgcolor\":\"white\",\"plot_bgcolor\":\"#E5ECF6\",\"polar\":{\"angularaxis\":{\"gridcolor\":\"white\",\"linecolor\":\"white\",\"ticks\":\"\"},\"bgcolor\":\"#E5ECF6\",\"radialaxis\":{\"gridcolor\":\"white\",\"linecolor\":\"white\",\"ticks\":\"\"}},\"scene\":{\"xaxis\":{\"backgroundcolor\":\"#E5ECF6\",\"gridcolor\":\"white\",\"gridwidth\":2,\"linecolor\":\"white\",\"showbackground\":true,\"ticks\":\"\",\"zerolinecolor\":\"white\"},\"yaxis\":{\"backgroundcolor\":\"#E5ECF6\",\"gridcolor\":\"white\",\"gridwidth\":2,\"linecolor\":\"white\",\"showbackground\":true,\"ticks\":\"\",\"zerolinecolor\":\"white\"},\"zaxis\":{\"backgroundcolor\":\"#E5ECF6\",\"gridcolor\":\"white\",\"gridwidth\":2,\"linecolor\":\"white\",\"showbackground\":true,\"ticks\":\"\",\"zerolinecolor\":\"white\"}},\"shapedefaults\":{\"line\":{\"color\":\"#2a3f5f\"}},\"ternary\":{\"aaxis\":{\"gridcolor\":\"white\",\"linecolor\":\"white\",\"ticks\":\"\"},\"baxis\":{\"gridcolor\":\"white\",\"linecolor\":\"white\",\"ticks\":\"\"},\"bgcolor\":\"#E5ECF6\",\"caxis\":{\"gridcolor\":\"white\",\"linecolor\":\"white\",\"ticks\":\"\"}},\"title\":{\"x\":0.05},\"xaxis\":{\"automargin\":true,\"gridcolor\":\"white\",\"linecolor\":\"white\",\"ticks\":\"\",\"title\":{\"standoff\":15},\"zerolinecolor\":\"white\",\"zerolinewidth\":2},\"yaxis\":{\"automargin\":true,\"gridcolor\":\"white\",\"linecolor\":\"white\",\"ticks\":\"\",\"title\":{\"standoff\":15},\"zerolinecolor\":\"white\",\"zerolinewidth\":2}}},\"title\":{\"text\":\"Histogram for count for spend_level with churn = 1\"},\"xaxis\":{\"anchor\":\"y\",\"domain\":[0.0,1.0],\"title\":{\"text\":\"percent\"}},\"yaxis\":{\"anchor\":\"x\",\"domain\":[0.0,1.0],\"title\":{\"text\":\"count\"}}},                        {\"responsive\": true}                    ).then(function(){\n",
              "                            \n",
              "var gd = document.getElementById('8708b1c5-7851-4edf-b8b7-82db513bc170');\n",
              "var x = new MutationObserver(function (mutations, observer) {{\n",
              "        var display = window.getComputedStyle(gd).display;\n",
              "        if (!display || display === 'none') {{\n",
              "            console.log([gd, 'removed!']);\n",
              "            Plotly.purge(gd);\n",
              "            observer.disconnect();\n",
              "        }}\n",
              "}});\n",
              "\n",
              "// Listen for the removal of the full notebook cells\n",
              "var notebookContainer = gd.closest('#notebook-container');\n",
              "if (notebookContainer) {{\n",
              "    x.observe(notebookContainer, {childList: true});\n",
              "}}\n",
              "\n",
              "// Listen for the clearing of the current output cell\n",
              "var outputEl = gd.closest('.output');\n",
              "if (outputEl) {{\n",
              "    x.observe(outputEl, {childList: true});\n",
              "}}\n",
              "\n",
              "                        })                };                            </script>        </div>\n",
              "</body>\n",
              "</html>"
            ]
          },
          "metadata": {}
        }
      ]
    },
    {
      "cell_type": "code",
      "metadata": {
        "id": "w1_dRgVw2Yq5",
        "colab": {
          "base_uri": "https://localhost:8080/",
          "height": 542
        },
        "outputId": "e4413157-4ac9-4373-fd59-0575121a6afe"
      },
      "source": [
        "px.histogram(table_24_kogort[(table_24_kogort['event_name'] == 'spent_level') &\n",
        "                              (table_24_kogort['churn'] == 0)], \n",
        "              x=\"percent\", color='level_group',\n",
        "            barmode='group',nbins=10,\n",
        "             title='Histogram for count for spend_level with churn = 0')"
      ],
      "execution_count": null,
      "outputs": [
        {
          "output_type": "display_data",
          "data": {
            "text/html": [
              "<html>\n",
              "<head><meta charset=\"utf-8\" /></head>\n",
              "<body>\n",
              "    <div>            <script src=\"https://cdnjs.cloudflare.com/ajax/libs/mathjax/2.7.5/MathJax.js?config=TeX-AMS-MML_SVG\"></script><script type=\"text/javascript\">if (window.MathJax) {MathJax.Hub.Config({SVG: {font: \"STIX-Web\"}});}</script>                <script type=\"text/javascript\">window.PlotlyConfig = {MathJaxConfig: 'local'};</script>\n",
              "        <script src=\"https://cdn.plot.ly/plotly-2.3.1.min.js\"></script>                <div id=\"dee357f9-f90c-470f-b881-e45d1a428cb7\" class=\"plotly-graph-div\" style=\"height:525px; width:100%;\"></div>            <script type=\"text/javascript\">                                    window.PLOTLYENV=window.PLOTLYENV || {};                                    if (document.getElementById(\"dee357f9-f90c-470f-b881-e45d1a428cb7\")) {                    Plotly.newPlot(                        \"dee357f9-f90c-470f-b881-e45d1a428cb7\",                        [{\"alignmentgroup\":\"True\",\"bingroup\":\"x\",\"hovertemplate\":\"level_group=0<br>percent=%{x}<br>count=%{y}<extra></extra>\",\"legendgroup\":\"0\",\"marker\":{\"color\":\"#636efa\",\"pattern\":{\"shape\":\"\"}},\"name\":\"0\",\"nbinsx\":10,\"offsetgroup\":\"0\",\"orientation\":\"v\",\"showlegend\":true,\"type\":\"histogram\",\"x\":[0.14285714285714285,0.25,0.05263157894736842,0.1,0.11764705882352941,0.2,0.09090909090909091,0.15789473684210525,0.25,0.08333333333333333,0.1875,0.25,0.09090909090909091,0.4,0.13333333333333333,0.11764705882352941,0.058823529411764705,0.2,0.1875,0.1875,0.0625,0.15384615384615385,0.18181818181818182,0.18181818181818182,0.125,1.3333333333333333,0.16666666666666666,0.09090909090909091,0.18181818181818182,0.05263157894736842,0.1,0.08333333333333333,0.09090909090909091,0.25,0.07142857142857142,0.05263157894736842,0.2,0.125,0.2,0.09090909090909091,0.08333333333333333,0.2222222222222222,0.05263157894736842,0.06896551724137931,0.08333333333333333,0.08333333333333333],\"xaxis\":\"x\",\"yaxis\":\"y\"},{\"alignmentgroup\":\"True\",\"bingroup\":\"x\",\"hovertemplate\":\"level_group=30<br>percent=%{x}<br>count=%{y}<extra></extra>\",\"legendgroup\":\"30\",\"marker\":{\"color\":\"#EF553B\",\"pattern\":{\"shape\":\"\"}},\"name\":\"30\",\"nbinsx\":10,\"offsetgroup\":\"30\",\"orientation\":\"v\",\"showlegend\":true,\"type\":\"histogram\",\"x\":[0.06,0.025,0.325,0.12121212121212122,0.2054794520547945,0.21428571428571427,0.25,0.3076923076923077,0.06818181818181818,0.5227272727272727,0.07317073170731707,0.30434782608695654,0.02564102564102564,0.19047619047619047,0.2222222222222222,0.027777777777777776,0.12244897959183673,0.45714285714285713,0.08108108108108109,0.3125,0.038461538461538464,0.21428571428571427,0.11627906976744186,0.09090909090909091,0.38095238095238093,0.14285714285714285,0.16981132075471697,0.28846153846153844,0.17391304347826086,0.20833333333333334,0.09090909090909091,0.36507936507936506,0.034482758620689655,0.07692307692307693,0.11764705882352941,0.125,0.32142857142857145,0.21518987341772153,0.37142857142857144,0.08108108108108109,0.1,0.34210526315789475,0.09259259259259259,0.37037037037037035,0.6086956521739131,0.4,0.06976744186046512,0.04,0.014492753623188406,0.07317073170731707],\"xaxis\":\"x\",\"yaxis\":\"y\"},{\"alignmentgroup\":\"True\",\"bingroup\":\"x\",\"hovertemplate\":\"level_group=15<br>percent=%{x}<br>count=%{y}<extra></extra>\",\"legendgroup\":\"15\",\"marker\":{\"color\":\"#00cc96\",\"pattern\":{\"shape\":\"\"}},\"name\":\"15\",\"nbinsx\":10,\"offsetgroup\":\"15\",\"orientation\":\"v\",\"showlegend\":true,\"type\":\"histogram\",\"x\":[0.1111111111111111,0.02564102564102564,0.05263157894736842,0.021739130434782608,0.125,0.22727272727272727,0.2727272727272727,0.3333333333333333,0.045454545454545456,0.038461538461538464,0.2,0.13043478260869565,0.05128205128205128,0.11764705882352941,0.20689655172413793,0.15789473684210525,0.1111111111111111,0.4146341463414634,0.30952380952380953,0.28,0.2857142857142857,0.25,0.13636363636363635,0.16666666666666666,0.05714285714285714,0.02631578947368421,0.045454545454545456,0.2222222222222222,0.10204081632653061,0.625,0.15625,0.08333333333333333,0.05714285714285714,0.30434782608695654,0.1875,0.125,0.09523809523809523,0.05263157894736842,0.14814814814814814,0.35714285714285715,0.03225806451612903,0.09090909090909091,0.02702702702702703,0.05555555555555555,0.14285714285714285,0.043478260869565216,0.09523809523809523,0.3103448275862069,0.2,0.045454545454545456,0.05263157894736842,0.2777777777777778,0.16071428571428573,0.05263157894736842,0.19642857142857142,0.2777777777777778,0.2777777777777778,0.05555555555555555,0.06666666666666667,0.17857142857142858,0.058823529411764705,0.2608695652173913,0.08695652173913043,0.023255813953488372,0.14285714285714285,0.12,0.43478260869565216,0.2222222222222222,0.058823529411764705,0.023255813953488372,0.12195121951219512,0.11764705882352941,0.11764705882352941,0.14285714285714285,0.3,0.2857142857142857,0.3902439024390244,0.13636363636363635,0.2,0.125,0.05555555555555555,0.27586206896551724,0.04,0.05263157894736842,0.13043478260869565,0.05263157894736842,0.3902439024390244,0.2702702702702703,0.2692307692307692,0.08695652173913043,0.28205128205128205,0.2926829268292683,0.043478260869565216,0.19298245614035087,0.2,0.2631578947368421,0.2222222222222222,0.1694915254237288,0.06451612903225806,0.125,0.2545454545454545,0.2857142857142857,0.17647058823529413,0.2,0.25,0.01818181818181818,0.16666666666666666,0.05555555555555555,0.09090909090909091,0.32,0.05714285714285714,0.13636363636363635,0.13333333333333333,0.05,0.18181818181818182,0.2619047619047619,0.25,0.27586206896551724,0.0625,0.07142857142857142,0.12,0.058823529411764705,0.043478260869565216,0.0625,0.043478260869565216,0.058823529411764705,0.11764705882352941,0.18518518518518517,0.06896551724137931,0.043478260869565216,0.13043478260869565,0.11904761904761904,0.038461538461538464,0.030303030303030304,0.09523809523809523,0.045454545454545456,0.17391304347826086,0.1875,0.35714285714285715,0.2,0.23809523809523808,0.05555555555555555,0.16279069767441862,0.058823529411764705,0.1935483870967742,0.39285714285714285,0.058823529411764705,0.10714285714285714,0.06666666666666667,0.03225806451612903,0.11627906976744186,0.14634146341463414,0.2777777777777778,0.1111111111111111,0.10256410256410256,0.17391304347826086,0.05263157894736842,0.13636363636363635,0.3333333333333333,0.18181818181818182,0.14705882352941177,0.1388888888888889,0.21428571428571427,0.125,0.3225806451612903,0.25925925925925924,0.047619047619047616,0.029411764705882353,0.05555555555555555,0.3888888888888889,0.23076923076923078,0.6428571428571429,0.29411764705882354],\"xaxis\":\"x\",\"yaxis\":\"y\"},{\"alignmentgroup\":\"True\",\"bingroup\":\"x\",\"hovertemplate\":\"level_group=45<br>percent=%{x}<br>count=%{y}<extra></extra>\",\"legendgroup\":\"45\",\"marker\":{\"color\":\"#ab63fa\",\"pattern\":{\"shape\":\"\"}},\"name\":\"45\",\"nbinsx\":10,\"offsetgroup\":\"45\",\"orientation\":\"v\",\"showlegend\":true,\"type\":\"histogram\",\"x\":[0.38666666666666666,0.29508196721311475,0.36585365853658536,0.3333333333333333,0.28378378378378377,0.42105263157894735,0.3157894736842105,0.0125,0.029411764705882353,0.45901639344262296,0.027777777777777776,0.16279069767441862,0.3484848484848485,0.07228915662650602,0.13432835820895522],\"xaxis\":\"x\",\"yaxis\":\"y\"}],                        {\"barmode\":\"group\",\"legend\":{\"title\":{\"text\":\"level_group\"},\"tracegroupgap\":0},\"template\":{\"data\":{\"bar\":[{\"error_x\":{\"color\":\"#2a3f5f\"},\"error_y\":{\"color\":\"#2a3f5f\"},\"marker\":{\"line\":{\"color\":\"#E5ECF6\",\"width\":0.5},\"pattern\":{\"fillmode\":\"overlay\",\"size\":10,\"solidity\":0.2}},\"type\":\"bar\"}],\"barpolar\":[{\"marker\":{\"line\":{\"color\":\"#E5ECF6\",\"width\":0.5},\"pattern\":{\"fillmode\":\"overlay\",\"size\":10,\"solidity\":0.2}},\"type\":\"barpolar\"}],\"carpet\":[{\"aaxis\":{\"endlinecolor\":\"#2a3f5f\",\"gridcolor\":\"white\",\"linecolor\":\"white\",\"minorgridcolor\":\"white\",\"startlinecolor\":\"#2a3f5f\"},\"baxis\":{\"endlinecolor\":\"#2a3f5f\",\"gridcolor\":\"white\",\"linecolor\":\"white\",\"minorgridcolor\":\"white\",\"startlinecolor\":\"#2a3f5f\"},\"type\":\"carpet\"}],\"choropleth\":[{\"colorbar\":{\"outlinewidth\":0,\"ticks\":\"\"},\"type\":\"choropleth\"}],\"contour\":[{\"colorbar\":{\"outlinewidth\":0,\"ticks\":\"\"},\"colorscale\":[[0.0,\"#0d0887\"],[0.1111111111111111,\"#46039f\"],[0.2222222222222222,\"#7201a8\"],[0.3333333333333333,\"#9c179e\"],[0.4444444444444444,\"#bd3786\"],[0.5555555555555556,\"#d8576b\"],[0.6666666666666666,\"#ed7953\"],[0.7777777777777778,\"#fb9f3a\"],[0.8888888888888888,\"#fdca26\"],[1.0,\"#f0f921\"]],\"type\":\"contour\"}],\"contourcarpet\":[{\"colorbar\":{\"outlinewidth\":0,\"ticks\":\"\"},\"type\":\"contourcarpet\"}],\"heatmap\":[{\"colorbar\":{\"outlinewidth\":0,\"ticks\":\"\"},\"colorscale\":[[0.0,\"#0d0887\"],[0.1111111111111111,\"#46039f\"],[0.2222222222222222,\"#7201a8\"],[0.3333333333333333,\"#9c179e\"],[0.4444444444444444,\"#bd3786\"],[0.5555555555555556,\"#d8576b\"],[0.6666666666666666,\"#ed7953\"],[0.7777777777777778,\"#fb9f3a\"],[0.8888888888888888,\"#fdca26\"],[1.0,\"#f0f921\"]],\"type\":\"heatmap\"}],\"heatmapgl\":[{\"colorbar\":{\"outlinewidth\":0,\"ticks\":\"\"},\"colorscale\":[[0.0,\"#0d0887\"],[0.1111111111111111,\"#46039f\"],[0.2222222222222222,\"#7201a8\"],[0.3333333333333333,\"#9c179e\"],[0.4444444444444444,\"#bd3786\"],[0.5555555555555556,\"#d8576b\"],[0.6666666666666666,\"#ed7953\"],[0.7777777777777778,\"#fb9f3a\"],[0.8888888888888888,\"#fdca26\"],[1.0,\"#f0f921\"]],\"type\":\"heatmapgl\"}],\"histogram\":[{\"marker\":{\"pattern\":{\"fillmode\":\"overlay\",\"size\":10,\"solidity\":0.2}},\"type\":\"histogram\"}],\"histogram2d\":[{\"colorbar\":{\"outlinewidth\":0,\"ticks\":\"\"},\"colorscale\":[[0.0,\"#0d0887\"],[0.1111111111111111,\"#46039f\"],[0.2222222222222222,\"#7201a8\"],[0.3333333333333333,\"#9c179e\"],[0.4444444444444444,\"#bd3786\"],[0.5555555555555556,\"#d8576b\"],[0.6666666666666666,\"#ed7953\"],[0.7777777777777778,\"#fb9f3a\"],[0.8888888888888888,\"#fdca26\"],[1.0,\"#f0f921\"]],\"type\":\"histogram2d\"}],\"histogram2dcontour\":[{\"colorbar\":{\"outlinewidth\":0,\"ticks\":\"\"},\"colorscale\":[[0.0,\"#0d0887\"],[0.1111111111111111,\"#46039f\"],[0.2222222222222222,\"#7201a8\"],[0.3333333333333333,\"#9c179e\"],[0.4444444444444444,\"#bd3786\"],[0.5555555555555556,\"#d8576b\"],[0.6666666666666666,\"#ed7953\"],[0.7777777777777778,\"#fb9f3a\"],[0.8888888888888888,\"#fdca26\"],[1.0,\"#f0f921\"]],\"type\":\"histogram2dcontour\"}],\"mesh3d\":[{\"colorbar\":{\"outlinewidth\":0,\"ticks\":\"\"},\"type\":\"mesh3d\"}],\"parcoords\":[{\"line\":{\"colorbar\":{\"outlinewidth\":0,\"ticks\":\"\"}},\"type\":\"parcoords\"}],\"pie\":[{\"automargin\":true,\"type\":\"pie\"}],\"scatter\":[{\"marker\":{\"colorbar\":{\"outlinewidth\":0,\"ticks\":\"\"}},\"type\":\"scatter\"}],\"scatter3d\":[{\"line\":{\"colorbar\":{\"outlinewidth\":0,\"ticks\":\"\"}},\"marker\":{\"colorbar\":{\"outlinewidth\":0,\"ticks\":\"\"}},\"type\":\"scatter3d\"}],\"scattercarpet\":[{\"marker\":{\"colorbar\":{\"outlinewidth\":0,\"ticks\":\"\"}},\"type\":\"scattercarpet\"}],\"scattergeo\":[{\"marker\":{\"colorbar\":{\"outlinewidth\":0,\"ticks\":\"\"}},\"type\":\"scattergeo\"}],\"scattergl\":[{\"marker\":{\"colorbar\":{\"outlinewidth\":0,\"ticks\":\"\"}},\"type\":\"scattergl\"}],\"scattermapbox\":[{\"marker\":{\"colorbar\":{\"outlinewidth\":0,\"ticks\":\"\"}},\"type\":\"scattermapbox\"}],\"scatterpolar\":[{\"marker\":{\"colorbar\":{\"outlinewidth\":0,\"ticks\":\"\"}},\"type\":\"scatterpolar\"}],\"scatterpolargl\":[{\"marker\":{\"colorbar\":{\"outlinewidth\":0,\"ticks\":\"\"}},\"type\":\"scatterpolargl\"}],\"scatterternary\":[{\"marker\":{\"colorbar\":{\"outlinewidth\":0,\"ticks\":\"\"}},\"type\":\"scatterternary\"}],\"surface\":[{\"colorbar\":{\"outlinewidth\":0,\"ticks\":\"\"},\"colorscale\":[[0.0,\"#0d0887\"],[0.1111111111111111,\"#46039f\"],[0.2222222222222222,\"#7201a8\"],[0.3333333333333333,\"#9c179e\"],[0.4444444444444444,\"#bd3786\"],[0.5555555555555556,\"#d8576b\"],[0.6666666666666666,\"#ed7953\"],[0.7777777777777778,\"#fb9f3a\"],[0.8888888888888888,\"#fdca26\"],[1.0,\"#f0f921\"]],\"type\":\"surface\"}],\"table\":[{\"cells\":{\"fill\":{\"color\":\"#EBF0F8\"},\"line\":{\"color\":\"white\"}},\"header\":{\"fill\":{\"color\":\"#C8D4E3\"},\"line\":{\"color\":\"white\"}},\"type\":\"table\"}]},\"layout\":{\"annotationdefaults\":{\"arrowcolor\":\"#2a3f5f\",\"arrowhead\":0,\"arrowwidth\":1},\"autotypenumbers\":\"strict\",\"coloraxis\":{\"colorbar\":{\"outlinewidth\":0,\"ticks\":\"\"}},\"colorscale\":{\"diverging\":[[0,\"#8e0152\"],[0.1,\"#c51b7d\"],[0.2,\"#de77ae\"],[0.3,\"#f1b6da\"],[0.4,\"#fde0ef\"],[0.5,\"#f7f7f7\"],[0.6,\"#e6f5d0\"],[0.7,\"#b8e186\"],[0.8,\"#7fbc41\"],[0.9,\"#4d9221\"],[1,\"#276419\"]],\"sequential\":[[0.0,\"#0d0887\"],[0.1111111111111111,\"#46039f\"],[0.2222222222222222,\"#7201a8\"],[0.3333333333333333,\"#9c179e\"],[0.4444444444444444,\"#bd3786\"],[0.5555555555555556,\"#d8576b\"],[0.6666666666666666,\"#ed7953\"],[0.7777777777777778,\"#fb9f3a\"],[0.8888888888888888,\"#fdca26\"],[1.0,\"#f0f921\"]],\"sequentialminus\":[[0.0,\"#0d0887\"],[0.1111111111111111,\"#46039f\"],[0.2222222222222222,\"#7201a8\"],[0.3333333333333333,\"#9c179e\"],[0.4444444444444444,\"#bd3786\"],[0.5555555555555556,\"#d8576b\"],[0.6666666666666666,\"#ed7953\"],[0.7777777777777778,\"#fb9f3a\"],[0.8888888888888888,\"#fdca26\"],[1.0,\"#f0f921\"]]},\"colorway\":[\"#636efa\",\"#EF553B\",\"#00cc96\",\"#ab63fa\",\"#FFA15A\",\"#19d3f3\",\"#FF6692\",\"#B6E880\",\"#FF97FF\",\"#FECB52\"],\"font\":{\"color\":\"#2a3f5f\"},\"geo\":{\"bgcolor\":\"white\",\"lakecolor\":\"white\",\"landcolor\":\"#E5ECF6\",\"showlakes\":true,\"showland\":true,\"subunitcolor\":\"white\"},\"hoverlabel\":{\"align\":\"left\"},\"hovermode\":\"closest\",\"mapbox\":{\"style\":\"light\"},\"paper_bgcolor\":\"white\",\"plot_bgcolor\":\"#E5ECF6\",\"polar\":{\"angularaxis\":{\"gridcolor\":\"white\",\"linecolor\":\"white\",\"ticks\":\"\"},\"bgcolor\":\"#E5ECF6\",\"radialaxis\":{\"gridcolor\":\"white\",\"linecolor\":\"white\",\"ticks\":\"\"}},\"scene\":{\"xaxis\":{\"backgroundcolor\":\"#E5ECF6\",\"gridcolor\":\"white\",\"gridwidth\":2,\"linecolor\":\"white\",\"showbackground\":true,\"ticks\":\"\",\"zerolinecolor\":\"white\"},\"yaxis\":{\"backgroundcolor\":\"#E5ECF6\",\"gridcolor\":\"white\",\"gridwidth\":2,\"linecolor\":\"white\",\"showbackground\":true,\"ticks\":\"\",\"zerolinecolor\":\"white\"},\"zaxis\":{\"backgroundcolor\":\"#E5ECF6\",\"gridcolor\":\"white\",\"gridwidth\":2,\"linecolor\":\"white\",\"showbackground\":true,\"ticks\":\"\",\"zerolinecolor\":\"white\"}},\"shapedefaults\":{\"line\":{\"color\":\"#2a3f5f\"}},\"ternary\":{\"aaxis\":{\"gridcolor\":\"white\",\"linecolor\":\"white\",\"ticks\":\"\"},\"baxis\":{\"gridcolor\":\"white\",\"linecolor\":\"white\",\"ticks\":\"\"},\"bgcolor\":\"#E5ECF6\",\"caxis\":{\"gridcolor\":\"white\",\"linecolor\":\"white\",\"ticks\":\"\"}},\"title\":{\"x\":0.05},\"xaxis\":{\"automargin\":true,\"gridcolor\":\"white\",\"linecolor\":\"white\",\"ticks\":\"\",\"title\":{\"standoff\":15},\"zerolinecolor\":\"white\",\"zerolinewidth\":2},\"yaxis\":{\"automargin\":true,\"gridcolor\":\"white\",\"linecolor\":\"white\",\"ticks\":\"\",\"title\":{\"standoff\":15},\"zerolinecolor\":\"white\",\"zerolinewidth\":2}}},\"title\":{\"text\":\"Histogram for count for spend_level with churn = 0\"},\"xaxis\":{\"anchor\":\"y\",\"domain\":[0.0,1.0],\"title\":{\"text\":\"percent\"}},\"yaxis\":{\"anchor\":\"x\",\"domain\":[0.0,1.0],\"title\":{\"text\":\"count\"}}},                        {\"responsive\": true}                    ).then(function(){\n",
              "                            \n",
              "var gd = document.getElementById('dee357f9-f90c-470f-b881-e45d1a428cb7');\n",
              "var x = new MutationObserver(function (mutations, observer) {{\n",
              "        var display = window.getComputedStyle(gd).display;\n",
              "        if (!display || display === 'none') {{\n",
              "            console.log([gd, 'removed!']);\n",
              "            Plotly.purge(gd);\n",
              "            observer.disconnect();\n",
              "        }}\n",
              "}});\n",
              "\n",
              "// Listen for the removal of the full notebook cells\n",
              "var notebookContainer = gd.closest('#notebook-container');\n",
              "if (notebookContainer) {{\n",
              "    x.observe(notebookContainer, {childList: true});\n",
              "}}\n",
              "\n",
              "// Listen for the clearing of the current output cell\n",
              "var outputEl = gd.closest('.output');\n",
              "if (outputEl) {{\n",
              "    x.observe(outputEl, {childList: true});\n",
              "}}\n",
              "\n",
              "                        })                };                            </script>        </div>\n",
              "</body>\n",
              "</html>"
            ]
          },
          "metadata": {}
        }
      ]
    },
    {
      "cell_type": "code",
      "metadata": {
        "id": "_R-xLUcNyDrb",
        "colab": {
          "base_uri": "https://localhost:8080/",
          "height": 542
        },
        "outputId": "abdccf20-1443-4478-b05a-329a7cd79ae0"
      },
      "source": [
        "px.histogram(table_24_kogort[(table_24_kogort['event_name'] == 'spent_level') &\n",
        "                             (table_24_kogort['churn'] == 0)], \n",
        "              x=\"percent\", color='level_group',\n",
        "             title='Histogram for count for spend_level',\n",
        "             barmode='group',nbins=5)"
      ],
      "execution_count": null,
      "outputs": [
        {
          "output_type": "display_data",
          "data": {
            "text/html": [
              "<html>\n",
              "<head><meta charset=\"utf-8\" /></head>\n",
              "<body>\n",
              "    <div>            <script src=\"https://cdnjs.cloudflare.com/ajax/libs/mathjax/2.7.5/MathJax.js?config=TeX-AMS-MML_SVG\"></script><script type=\"text/javascript\">if (window.MathJax) {MathJax.Hub.Config({SVG: {font: \"STIX-Web\"}});}</script>                <script type=\"text/javascript\">window.PlotlyConfig = {MathJaxConfig: 'local'};</script>\n",
              "        <script src=\"https://cdn.plot.ly/plotly-2.3.1.min.js\"></script>                <div id=\"2b035115-30ff-4649-b4b2-a0310b708c8c\" class=\"plotly-graph-div\" style=\"height:525px; width:100%;\"></div>            <script type=\"text/javascript\">                                    window.PLOTLYENV=window.PLOTLYENV || {};                                    if (document.getElementById(\"2b035115-30ff-4649-b4b2-a0310b708c8c\")) {                    Plotly.newPlot(                        \"2b035115-30ff-4649-b4b2-a0310b708c8c\",                        [{\"alignmentgroup\":\"True\",\"bingroup\":\"x\",\"hovertemplate\":\"level_group=0<br>percent=%{x}<br>count=%{y}<extra></extra>\",\"legendgroup\":\"0\",\"marker\":{\"color\":\"#636efa\",\"pattern\":{\"shape\":\"\"}},\"name\":\"0\",\"nbinsx\":5,\"offsetgroup\":\"0\",\"orientation\":\"v\",\"showlegend\":true,\"type\":\"histogram\",\"x\":[0.14285714285714285,0.25,0.05263157894736842,0.1,0.11764705882352941,0.2,0.09090909090909091,0.15789473684210525,0.25,0.08333333333333333,0.1875,0.25,0.09090909090909091,0.4,0.13333333333333333,0.11764705882352941,0.058823529411764705,0.2,0.1875,0.1875,0.0625,0.15384615384615385,0.18181818181818182,0.18181818181818182,0.125,1.3333333333333333,0.16666666666666666,0.09090909090909091,0.18181818181818182,0.05263157894736842,0.1,0.08333333333333333,0.09090909090909091,0.25,0.07142857142857142,0.05263157894736842,0.2,0.125,0.2,0.09090909090909091,0.08333333333333333,0.2222222222222222,0.05263157894736842,0.06896551724137931,0.08333333333333333,0.08333333333333333],\"xaxis\":\"x\",\"yaxis\":\"y\"},{\"alignmentgroup\":\"True\",\"bingroup\":\"x\",\"hovertemplate\":\"level_group=30<br>percent=%{x}<br>count=%{y}<extra></extra>\",\"legendgroup\":\"30\",\"marker\":{\"color\":\"#EF553B\",\"pattern\":{\"shape\":\"\"}},\"name\":\"30\",\"nbinsx\":5,\"offsetgroup\":\"30\",\"orientation\":\"v\",\"showlegend\":true,\"type\":\"histogram\",\"x\":[0.06,0.025,0.325,0.12121212121212122,0.2054794520547945,0.21428571428571427,0.25,0.3076923076923077,0.06818181818181818,0.5227272727272727,0.07317073170731707,0.30434782608695654,0.02564102564102564,0.19047619047619047,0.2222222222222222,0.027777777777777776,0.12244897959183673,0.45714285714285713,0.08108108108108109,0.3125,0.038461538461538464,0.21428571428571427,0.11627906976744186,0.09090909090909091,0.38095238095238093,0.14285714285714285,0.16981132075471697,0.28846153846153844,0.17391304347826086,0.20833333333333334,0.09090909090909091,0.36507936507936506,0.034482758620689655,0.07692307692307693,0.11764705882352941,0.125,0.32142857142857145,0.21518987341772153,0.37142857142857144,0.08108108108108109,0.1,0.34210526315789475,0.09259259259259259,0.37037037037037035,0.6086956521739131,0.4,0.06976744186046512,0.04,0.014492753623188406,0.07317073170731707],\"xaxis\":\"x\",\"yaxis\":\"y\"},{\"alignmentgroup\":\"True\",\"bingroup\":\"x\",\"hovertemplate\":\"level_group=15<br>percent=%{x}<br>count=%{y}<extra></extra>\",\"legendgroup\":\"15\",\"marker\":{\"color\":\"#00cc96\",\"pattern\":{\"shape\":\"\"}},\"name\":\"15\",\"nbinsx\":5,\"offsetgroup\":\"15\",\"orientation\":\"v\",\"showlegend\":true,\"type\":\"histogram\",\"x\":[0.1111111111111111,0.02564102564102564,0.05263157894736842,0.021739130434782608,0.125,0.22727272727272727,0.2727272727272727,0.3333333333333333,0.045454545454545456,0.038461538461538464,0.2,0.13043478260869565,0.05128205128205128,0.11764705882352941,0.20689655172413793,0.15789473684210525,0.1111111111111111,0.4146341463414634,0.30952380952380953,0.28,0.2857142857142857,0.25,0.13636363636363635,0.16666666666666666,0.05714285714285714,0.02631578947368421,0.045454545454545456,0.2222222222222222,0.10204081632653061,0.625,0.15625,0.08333333333333333,0.05714285714285714,0.30434782608695654,0.1875,0.125,0.09523809523809523,0.05263157894736842,0.14814814814814814,0.35714285714285715,0.03225806451612903,0.09090909090909091,0.02702702702702703,0.05555555555555555,0.14285714285714285,0.043478260869565216,0.09523809523809523,0.3103448275862069,0.2,0.045454545454545456,0.05263157894736842,0.2777777777777778,0.16071428571428573,0.05263157894736842,0.19642857142857142,0.2777777777777778,0.2777777777777778,0.05555555555555555,0.06666666666666667,0.17857142857142858,0.058823529411764705,0.2608695652173913,0.08695652173913043,0.023255813953488372,0.14285714285714285,0.12,0.43478260869565216,0.2222222222222222,0.058823529411764705,0.023255813953488372,0.12195121951219512,0.11764705882352941,0.11764705882352941,0.14285714285714285,0.3,0.2857142857142857,0.3902439024390244,0.13636363636363635,0.2,0.125,0.05555555555555555,0.27586206896551724,0.04,0.05263157894736842,0.13043478260869565,0.05263157894736842,0.3902439024390244,0.2702702702702703,0.2692307692307692,0.08695652173913043,0.28205128205128205,0.2926829268292683,0.043478260869565216,0.19298245614035087,0.2,0.2631578947368421,0.2222222222222222,0.1694915254237288,0.06451612903225806,0.125,0.2545454545454545,0.2857142857142857,0.17647058823529413,0.2,0.25,0.01818181818181818,0.16666666666666666,0.05555555555555555,0.09090909090909091,0.32,0.05714285714285714,0.13636363636363635,0.13333333333333333,0.05,0.18181818181818182,0.2619047619047619,0.25,0.27586206896551724,0.0625,0.07142857142857142,0.12,0.058823529411764705,0.043478260869565216,0.0625,0.043478260869565216,0.058823529411764705,0.11764705882352941,0.18518518518518517,0.06896551724137931,0.043478260869565216,0.13043478260869565,0.11904761904761904,0.038461538461538464,0.030303030303030304,0.09523809523809523,0.045454545454545456,0.17391304347826086,0.1875,0.35714285714285715,0.2,0.23809523809523808,0.05555555555555555,0.16279069767441862,0.058823529411764705,0.1935483870967742,0.39285714285714285,0.058823529411764705,0.10714285714285714,0.06666666666666667,0.03225806451612903,0.11627906976744186,0.14634146341463414,0.2777777777777778,0.1111111111111111,0.10256410256410256,0.17391304347826086,0.05263157894736842,0.13636363636363635,0.3333333333333333,0.18181818181818182,0.14705882352941177,0.1388888888888889,0.21428571428571427,0.125,0.3225806451612903,0.25925925925925924,0.047619047619047616,0.029411764705882353,0.05555555555555555,0.3888888888888889,0.23076923076923078,0.6428571428571429,0.29411764705882354],\"xaxis\":\"x\",\"yaxis\":\"y\"},{\"alignmentgroup\":\"True\",\"bingroup\":\"x\",\"hovertemplate\":\"level_group=45<br>percent=%{x}<br>count=%{y}<extra></extra>\",\"legendgroup\":\"45\",\"marker\":{\"color\":\"#ab63fa\",\"pattern\":{\"shape\":\"\"}},\"name\":\"45\",\"nbinsx\":5,\"offsetgroup\":\"45\",\"orientation\":\"v\",\"showlegend\":true,\"type\":\"histogram\",\"x\":[0.38666666666666666,0.29508196721311475,0.36585365853658536,0.3333333333333333,0.28378378378378377,0.42105263157894735,0.3157894736842105,0.0125,0.029411764705882353,0.45901639344262296,0.027777777777777776,0.16279069767441862,0.3484848484848485,0.07228915662650602,0.13432835820895522],\"xaxis\":\"x\",\"yaxis\":\"y\"}],                        {\"barmode\":\"group\",\"legend\":{\"title\":{\"text\":\"level_group\"},\"tracegroupgap\":0},\"template\":{\"data\":{\"bar\":[{\"error_x\":{\"color\":\"#2a3f5f\"},\"error_y\":{\"color\":\"#2a3f5f\"},\"marker\":{\"line\":{\"color\":\"#E5ECF6\",\"width\":0.5},\"pattern\":{\"fillmode\":\"overlay\",\"size\":10,\"solidity\":0.2}},\"type\":\"bar\"}],\"barpolar\":[{\"marker\":{\"line\":{\"color\":\"#E5ECF6\",\"width\":0.5},\"pattern\":{\"fillmode\":\"overlay\",\"size\":10,\"solidity\":0.2}},\"type\":\"barpolar\"}],\"carpet\":[{\"aaxis\":{\"endlinecolor\":\"#2a3f5f\",\"gridcolor\":\"white\",\"linecolor\":\"white\",\"minorgridcolor\":\"white\",\"startlinecolor\":\"#2a3f5f\"},\"baxis\":{\"endlinecolor\":\"#2a3f5f\",\"gridcolor\":\"white\",\"linecolor\":\"white\",\"minorgridcolor\":\"white\",\"startlinecolor\":\"#2a3f5f\"},\"type\":\"carpet\"}],\"choropleth\":[{\"colorbar\":{\"outlinewidth\":0,\"ticks\":\"\"},\"type\":\"choropleth\"}],\"contour\":[{\"colorbar\":{\"outlinewidth\":0,\"ticks\":\"\"},\"colorscale\":[[0.0,\"#0d0887\"],[0.1111111111111111,\"#46039f\"],[0.2222222222222222,\"#7201a8\"],[0.3333333333333333,\"#9c179e\"],[0.4444444444444444,\"#bd3786\"],[0.5555555555555556,\"#d8576b\"],[0.6666666666666666,\"#ed7953\"],[0.7777777777777778,\"#fb9f3a\"],[0.8888888888888888,\"#fdca26\"],[1.0,\"#f0f921\"]],\"type\":\"contour\"}],\"contourcarpet\":[{\"colorbar\":{\"outlinewidth\":0,\"ticks\":\"\"},\"type\":\"contourcarpet\"}],\"heatmap\":[{\"colorbar\":{\"outlinewidth\":0,\"ticks\":\"\"},\"colorscale\":[[0.0,\"#0d0887\"],[0.1111111111111111,\"#46039f\"],[0.2222222222222222,\"#7201a8\"],[0.3333333333333333,\"#9c179e\"],[0.4444444444444444,\"#bd3786\"],[0.5555555555555556,\"#d8576b\"],[0.6666666666666666,\"#ed7953\"],[0.7777777777777778,\"#fb9f3a\"],[0.8888888888888888,\"#fdca26\"],[1.0,\"#f0f921\"]],\"type\":\"heatmap\"}],\"heatmapgl\":[{\"colorbar\":{\"outlinewidth\":0,\"ticks\":\"\"},\"colorscale\":[[0.0,\"#0d0887\"],[0.1111111111111111,\"#46039f\"],[0.2222222222222222,\"#7201a8\"],[0.3333333333333333,\"#9c179e\"],[0.4444444444444444,\"#bd3786\"],[0.5555555555555556,\"#d8576b\"],[0.6666666666666666,\"#ed7953\"],[0.7777777777777778,\"#fb9f3a\"],[0.8888888888888888,\"#fdca26\"],[1.0,\"#f0f921\"]],\"type\":\"heatmapgl\"}],\"histogram\":[{\"marker\":{\"pattern\":{\"fillmode\":\"overlay\",\"size\":10,\"solidity\":0.2}},\"type\":\"histogram\"}],\"histogram2d\":[{\"colorbar\":{\"outlinewidth\":0,\"ticks\":\"\"},\"colorscale\":[[0.0,\"#0d0887\"],[0.1111111111111111,\"#46039f\"],[0.2222222222222222,\"#7201a8\"],[0.3333333333333333,\"#9c179e\"],[0.4444444444444444,\"#bd3786\"],[0.5555555555555556,\"#d8576b\"],[0.6666666666666666,\"#ed7953\"],[0.7777777777777778,\"#fb9f3a\"],[0.8888888888888888,\"#fdca26\"],[1.0,\"#f0f921\"]],\"type\":\"histogram2d\"}],\"histogram2dcontour\":[{\"colorbar\":{\"outlinewidth\":0,\"ticks\":\"\"},\"colorscale\":[[0.0,\"#0d0887\"],[0.1111111111111111,\"#46039f\"],[0.2222222222222222,\"#7201a8\"],[0.3333333333333333,\"#9c179e\"],[0.4444444444444444,\"#bd3786\"],[0.5555555555555556,\"#d8576b\"],[0.6666666666666666,\"#ed7953\"],[0.7777777777777778,\"#fb9f3a\"],[0.8888888888888888,\"#fdca26\"],[1.0,\"#f0f921\"]],\"type\":\"histogram2dcontour\"}],\"mesh3d\":[{\"colorbar\":{\"outlinewidth\":0,\"ticks\":\"\"},\"type\":\"mesh3d\"}],\"parcoords\":[{\"line\":{\"colorbar\":{\"outlinewidth\":0,\"ticks\":\"\"}},\"type\":\"parcoords\"}],\"pie\":[{\"automargin\":true,\"type\":\"pie\"}],\"scatter\":[{\"marker\":{\"colorbar\":{\"outlinewidth\":0,\"ticks\":\"\"}},\"type\":\"scatter\"}],\"scatter3d\":[{\"line\":{\"colorbar\":{\"outlinewidth\":0,\"ticks\":\"\"}},\"marker\":{\"colorbar\":{\"outlinewidth\":0,\"ticks\":\"\"}},\"type\":\"scatter3d\"}],\"scattercarpet\":[{\"marker\":{\"colorbar\":{\"outlinewidth\":0,\"ticks\":\"\"}},\"type\":\"scattercarpet\"}],\"scattergeo\":[{\"marker\":{\"colorbar\":{\"outlinewidth\":0,\"ticks\":\"\"}},\"type\":\"scattergeo\"}],\"scattergl\":[{\"marker\":{\"colorbar\":{\"outlinewidth\":0,\"ticks\":\"\"}},\"type\":\"scattergl\"}],\"scattermapbox\":[{\"marker\":{\"colorbar\":{\"outlinewidth\":0,\"ticks\":\"\"}},\"type\":\"scattermapbox\"}],\"scatterpolar\":[{\"marker\":{\"colorbar\":{\"outlinewidth\":0,\"ticks\":\"\"}},\"type\":\"scatterpolar\"}],\"scatterpolargl\":[{\"marker\":{\"colorbar\":{\"outlinewidth\":0,\"ticks\":\"\"}},\"type\":\"scatterpolargl\"}],\"scatterternary\":[{\"marker\":{\"colorbar\":{\"outlinewidth\":0,\"ticks\":\"\"}},\"type\":\"scatterternary\"}],\"surface\":[{\"colorbar\":{\"outlinewidth\":0,\"ticks\":\"\"},\"colorscale\":[[0.0,\"#0d0887\"],[0.1111111111111111,\"#46039f\"],[0.2222222222222222,\"#7201a8\"],[0.3333333333333333,\"#9c179e\"],[0.4444444444444444,\"#bd3786\"],[0.5555555555555556,\"#d8576b\"],[0.6666666666666666,\"#ed7953\"],[0.7777777777777778,\"#fb9f3a\"],[0.8888888888888888,\"#fdca26\"],[1.0,\"#f0f921\"]],\"type\":\"surface\"}],\"table\":[{\"cells\":{\"fill\":{\"color\":\"#EBF0F8\"},\"line\":{\"color\":\"white\"}},\"header\":{\"fill\":{\"color\":\"#C8D4E3\"},\"line\":{\"color\":\"white\"}},\"type\":\"table\"}]},\"layout\":{\"annotationdefaults\":{\"arrowcolor\":\"#2a3f5f\",\"arrowhead\":0,\"arrowwidth\":1},\"autotypenumbers\":\"strict\",\"coloraxis\":{\"colorbar\":{\"outlinewidth\":0,\"ticks\":\"\"}},\"colorscale\":{\"diverging\":[[0,\"#8e0152\"],[0.1,\"#c51b7d\"],[0.2,\"#de77ae\"],[0.3,\"#f1b6da\"],[0.4,\"#fde0ef\"],[0.5,\"#f7f7f7\"],[0.6,\"#e6f5d0\"],[0.7,\"#b8e186\"],[0.8,\"#7fbc41\"],[0.9,\"#4d9221\"],[1,\"#276419\"]],\"sequential\":[[0.0,\"#0d0887\"],[0.1111111111111111,\"#46039f\"],[0.2222222222222222,\"#7201a8\"],[0.3333333333333333,\"#9c179e\"],[0.4444444444444444,\"#bd3786\"],[0.5555555555555556,\"#d8576b\"],[0.6666666666666666,\"#ed7953\"],[0.7777777777777778,\"#fb9f3a\"],[0.8888888888888888,\"#fdca26\"],[1.0,\"#f0f921\"]],\"sequentialminus\":[[0.0,\"#0d0887\"],[0.1111111111111111,\"#46039f\"],[0.2222222222222222,\"#7201a8\"],[0.3333333333333333,\"#9c179e\"],[0.4444444444444444,\"#bd3786\"],[0.5555555555555556,\"#d8576b\"],[0.6666666666666666,\"#ed7953\"],[0.7777777777777778,\"#fb9f3a\"],[0.8888888888888888,\"#fdca26\"],[1.0,\"#f0f921\"]]},\"colorway\":[\"#636efa\",\"#EF553B\",\"#00cc96\",\"#ab63fa\",\"#FFA15A\",\"#19d3f3\",\"#FF6692\",\"#B6E880\",\"#FF97FF\",\"#FECB52\"],\"font\":{\"color\":\"#2a3f5f\"},\"geo\":{\"bgcolor\":\"white\",\"lakecolor\":\"white\",\"landcolor\":\"#E5ECF6\",\"showlakes\":true,\"showland\":true,\"subunitcolor\":\"white\"},\"hoverlabel\":{\"align\":\"left\"},\"hovermode\":\"closest\",\"mapbox\":{\"style\":\"light\"},\"paper_bgcolor\":\"white\",\"plot_bgcolor\":\"#E5ECF6\",\"polar\":{\"angularaxis\":{\"gridcolor\":\"white\",\"linecolor\":\"white\",\"ticks\":\"\"},\"bgcolor\":\"#E5ECF6\",\"radialaxis\":{\"gridcolor\":\"white\",\"linecolor\":\"white\",\"ticks\":\"\"}},\"scene\":{\"xaxis\":{\"backgroundcolor\":\"#E5ECF6\",\"gridcolor\":\"white\",\"gridwidth\":2,\"linecolor\":\"white\",\"showbackground\":true,\"ticks\":\"\",\"zerolinecolor\":\"white\"},\"yaxis\":{\"backgroundcolor\":\"#E5ECF6\",\"gridcolor\":\"white\",\"gridwidth\":2,\"linecolor\":\"white\",\"showbackground\":true,\"ticks\":\"\",\"zerolinecolor\":\"white\"},\"zaxis\":{\"backgroundcolor\":\"#E5ECF6\",\"gridcolor\":\"white\",\"gridwidth\":2,\"linecolor\":\"white\",\"showbackground\":true,\"ticks\":\"\",\"zerolinecolor\":\"white\"}},\"shapedefaults\":{\"line\":{\"color\":\"#2a3f5f\"}},\"ternary\":{\"aaxis\":{\"gridcolor\":\"white\",\"linecolor\":\"white\",\"ticks\":\"\"},\"baxis\":{\"gridcolor\":\"white\",\"linecolor\":\"white\",\"ticks\":\"\"},\"bgcolor\":\"#E5ECF6\",\"caxis\":{\"gridcolor\":\"white\",\"linecolor\":\"white\",\"ticks\":\"\"}},\"title\":{\"x\":0.05},\"xaxis\":{\"automargin\":true,\"gridcolor\":\"white\",\"linecolor\":\"white\",\"ticks\":\"\",\"title\":{\"standoff\":15},\"zerolinecolor\":\"white\",\"zerolinewidth\":2},\"yaxis\":{\"automargin\":true,\"gridcolor\":\"white\",\"linecolor\":\"white\",\"ticks\":\"\",\"title\":{\"standoff\":15},\"zerolinecolor\":\"white\",\"zerolinewidth\":2}}},\"title\":{\"text\":\"Histogram for count for spend_level\"},\"xaxis\":{\"anchor\":\"y\",\"domain\":[0.0,1.0],\"title\":{\"text\":\"percent\"}},\"yaxis\":{\"anchor\":\"x\",\"domain\":[0.0,1.0],\"title\":{\"text\":\"count\"}}},                        {\"responsive\": true}                    ).then(function(){\n",
              "                            \n",
              "var gd = document.getElementById('2b035115-30ff-4649-b4b2-a0310b708c8c');\n",
              "var x = new MutationObserver(function (mutations, observer) {{\n",
              "        var display = window.getComputedStyle(gd).display;\n",
              "        if (!display || display === 'none') {{\n",
              "            console.log([gd, 'removed!']);\n",
              "            Plotly.purge(gd);\n",
              "            observer.disconnect();\n",
              "        }}\n",
              "}});\n",
              "\n",
              "// Listen for the removal of the full notebook cells\n",
              "var notebookContainer = gd.closest('#notebook-container');\n",
              "if (notebookContainer) {{\n",
              "    x.observe(notebookContainer, {childList: true});\n",
              "}}\n",
              "\n",
              "// Listen for the clearing of the current output cell\n",
              "var outputEl = gd.closest('.output');\n",
              "if (outputEl) {{\n",
              "    x.observe(outputEl, {childList: true});\n",
              "}}\n",
              "\n",
              "                        })                };                            </script>        </div>\n",
              "</body>\n",
              "</html>"
            ]
          },
          "metadata": {}
        }
      ]
    },
    {
      "cell_type": "code",
      "metadata": {
        "id": "_ITmAJeKR4iI",
        "colab": {
          "base_uri": "https://localhost:8080/",
          "height": 542
        },
        "outputId": "c2e063e9-6f39-4ee8-e866-9bb5b54a0e1e"
      },
      "source": [
        "px.histogram(table_events_3[table_events_3['event_name'] == 'spent_level'], \n",
        "              x=\"percent\", color='churn',\n",
        "             title='Histogram for count for spend_level',\n",
        "             barmode='group')"
      ],
      "execution_count": null,
      "outputs": [
        {
          "output_type": "display_data",
          "data": {
            "text/html": [
              "<html>\n",
              "<head><meta charset=\"utf-8\" /></head>\n",
              "<body>\n",
              "    <div>            <script src=\"https://cdnjs.cloudflare.com/ajax/libs/mathjax/2.7.5/MathJax.js?config=TeX-AMS-MML_SVG\"></script><script type=\"text/javascript\">if (window.MathJax) {MathJax.Hub.Config({SVG: {font: \"STIX-Web\"}});}</script>                <script type=\"text/javascript\">window.PlotlyConfig = {MathJaxConfig: 'local'};</script>\n",
              "        <script src=\"https://cdn.plot.ly/plotly-2.3.1.min.js\"></script>                <div id=\"2ef827db-c71f-4444-9c26-f48d9590343b\" class=\"plotly-graph-div\" style=\"height:525px; width:100%;\"></div>            <script type=\"text/javascript\">                                    window.PLOTLYENV=window.PLOTLYENV || {};                                    if (document.getElementById(\"2ef827db-c71f-4444-9c26-f48d9590343b\")) {                    Plotly.newPlot(                        \"2ef827db-c71f-4444-9c26-f48d9590343b\",                        [{\"alignmentgroup\":\"True\",\"bingroup\":\"x\",\"hovertemplate\":\"churn=1<br>percent=%{x}<br>count=%{y}<extra></extra>\",\"legendgroup\":\"1\",\"marker\":{\"color\":\"#636efa\",\"pattern\":{\"shape\":\"\"}},\"name\":\"1\",\"offsetgroup\":\"1\",\"orientation\":\"v\",\"showlegend\":true,\"type\":\"histogram\",\"x\":[0.1342281879194631,0.14492753623188406,0.15625,0.01694915254237288,0.034482758620689655,0.21212121212121213,0.05714285714285714,0.05172413793103448,0.13432835820895522,0.043478260869565216,0.05714285714285714,0.06796116504854369,0.026415094339622643,0.041666666666666664,0.22988505747126436,0.014492753623188406,0.16822429906542055,0.02414486921529175,0.04669260700389105,0.006756756756756757,0.058823529411764705,0.022292993630573247,0.06153846153846154,0.026041666666666668,0.0718562874251497,0.03125,0.02531645569620253,0.029411764705882353,0.15492957746478872,0.05,0.008264462809917356,0.2857142857142857,0.02564102564102564,0.06521739130434782,0.2289156626506024,0.125,0.041666666666666664,0.011111111111111112,0.017094017094017096,0.009708737864077669,0.232,0.09022556390977443,0.02510460251046025,0.17857142857142858,0.030303030303030304,0.15151515151515152,0.04395604395604396,0.018518518518518517,0.0375,0.17391304347826086,0.10077519379844961,0.18840579710144928,0.18269230769230768,0.265625,0.09090909090909091,0.06060606060606061,0.21818181818181817,0.37735849056603776,0.1322314049586777,0.058577405857740586,0.10526315789473684,0.11711711711711711,0.0273972602739726,0.08108108108108109,0.1111111111111111,0.21666666666666667,0.09913793103448276,0.02666666666666667,0.05333333333333334,0.025089605734767026,0.03270223752151463,0.05128205128205128,0.0625,0.06818181818181818,0.03858520900321544,0.05652173913043478,0.08547008547008547,0.11538461538461539,0.26666666666666666,0.04174573055028463,0.016260162601626018,0.12048192771084337,0.017543859649122806,0.030303030303030304,0.014705882352941176,0.06896551724137931,0.09090909090909091,0.017889087656529516,0.10752688172043011,0.046511627906976744,0.125,0.007518796992481203,0.15517241379310345,0.4050632911392405,0.09278350515463918,0.26,0.06521739130434782,0.03125,0.008264462809917356,0.05747126436781609,0.08955223880597014,0.08433734939759036,0.06787330316742081,0.022406639004149378,0.08571428571428572,0.056074766355140186,0.07333333333333333,0.010416666666666666,0.06060606060606061,0.046511627906976744,0.19230769230769232,0.018867924528301886,0.05194805194805195,0.275,0.04807692307692308,0.01639344262295082,0.24812030075187969,0.04878048780487805,0.2112676056338028,0.06818181818181818,0.006329113924050633,0.06818181818181818,0.3,0.01557632398753894,0.022727272727272728,0.29411764705882354,0.21428571428571427,0.14,0.018404907975460124,0.006802721088435374,0.14173228346456693,0.15,0.041666666666666664,0.13953488372093023,0.0035714285714285713,0.05263157894736842,0.04819277108433735,0.13978494623655913,0.0438871473354232,0.051181102362204724,0.056451612903225805,0.036734693877551024,0.04433497536945813,0.04265402843601896,0.08571428571428572,0.03225806451612903,0.11290322580645161,0.020689655172413793,0.047619047619047616,0.01694915254237288,0.144,0.011764705882352941,0.06912442396313365,0.15384615384615385,0.1322314049586777,0.05,0.014492753623188406,0.013071895424836602,0.11764705882352941,0.14414414414414414,0.19387755102040816,0.046218487394957986,0.023809523809523808,0.16891891891891891,0.15714285714285714,0.10619469026548672,0.009523809523809525,0.005805515239477504,0.08333333333333333,0.22807017543859648,0.22033898305084745,0.05353728489483748,0.09302325581395349,0.017857142857142856,0.028985507246376812,0.034482758620689655,0.08888888888888889,0.13186813186813187,0.3137254901960784,0.05027932960893855,0.0028653295128939827,0.23809523809523808,0.23809523809523808,0.08130081300813008,0.2247191011235955,0.0036363636363636364,0.06707317073170732,0.02,0.023809523809523808,0.08108108108108109,0.24561403508771928,0.075,0.12359550561797752,0.02564102564102564,0.32098765432098764,0.10638297872340426,0.015873015873015872,0.05511811023622047,0.1,0.03278688524590164,0.08139534883720931,0.02142857142857143,0.12612612612612611,0.047619047619047616,0.025069637883008356,0.007462686567164179,0.125,0.03125,0.07142857142857142,0.047244094488188976,0.05747126436781609,0.17647058823529413,0.19708029197080293,0.02054794520547945,0.08588957055214724,0.038461538461538464,0.0990990990990991,0.13333333333333333,0.038461538461538464,0.005494505494505495,0.06511627906976744,0.030303030303030304,0.04040404040404041,0.04310344827586207,0.09854014598540146,0.043859649122807015,0.056,0.03636363636363636,0.26881720430107525,0.01282051282051282,0.10227272727272728,0.010050251256281407,0.09417040358744394,0.04918032786885246,0.12121212121212122,0.22772277227722773,0.03225806451612903,0.11258278145695365,0.05063291139240506,0.1566265060240964,0.2375,0.17117117117117117,0.03353658536585366,0.03571428571428571,0.07216494845360824,0.08695652173913043,0.017094017094017096,0.08974358974358974,0.07058823529411765,0.05555555555555555,0.03007518796992481,0.04864864864864865,0.08771929824561403,0.3088235294117647,0.08163265306122448,0.13733905579399142,0.12698412698412698,0.037383177570093455,0.03793103448275862,0.03406813627254509,0.125,0.014492753623188406,0.07633587786259542,0.06862745098039216,0.0392156862745098,0.19607843137254902,0.005649717514124294,0.17886178861788618,0.018518518518518517,0.018018018018018018,0.08333333333333333,0.025,0.14942528735632185,0.013422818791946308,0.26865671641791045,0.13008130081300814,0.12840466926070038,0.08602150537634409,0.2,0.05555555555555555,0.014084507042253521,0.05405405405405406,0.03773584905660377,0.056818181818181816,0.29133858267716534,0.07142857142857142,0.029498525073746312,0.10810810810810811,0.15,0.04878048780487805,0.02127659574468085,0.008333333333333333,0.08333333333333333,0.02564102564102564,0.06578947368421052,0.13768115942028986,0.020618556701030927,0.12972972972972974,0.034782608695652174,0.04838709677419355,0.03508771929824561,0.047619047619047616,0.010067114093959731,0.14634146341463414,0.07142857142857142,0.018518518518518517,0.10377358490566038,0.020512820512820513,0.1568627450980392,0.037037037037037035,0.011627906976744186,0.015625,0.1111111111111111,0.06896551724137931,0.13432835820895522,0.05357142857142857,0.037037037037037035,0.06153846153846154,0.06976744186046512,0.18666666666666668,0.12195121951219512,0.4307692307692308,0.028846153846153848,0.04657534246575343,0.265625,0.09345794392523364,0.05555555555555555,0.0718232044198895,0.047619047619047616,0.013157894736842105,0.06629834254143646,0.15333333333333332,0.02459016393442623,0.009174311926605505,0.023809523809523808,0.07751937984496124,0.2926829268292683,0.1889763779527559,0.10526315789473684,0.10344827586206896,0.028169014084507043,0.20652173913043478,0.22641509433962265,0.07,0.10526315789473684,0.07228915662650602,0.12195121951219512,0.13125,0.2818181818181818,0.13333333333333333,0.011904761904761904,0.020833333333333332,0.17647058823529413,0.029411764705882353,0.11538461538461539,0.17829457364341086,0.18181818181818182,0.09649122807017543,0.08602150537634409,0.038834951456310676,0.03903903903903904,0.19444444444444445,0.10810810810810811,0.051181102362204724,0.07272727272727272,0.20238095238095238,0.10784313725490197,0.025,0.0784313725490196,0.07692307692307693,0.025,0.0641025641025641,0.10330578512396695,0.2,0.0625,0.18181818181818182,0.14835164835164835,0.10843373493975904,0.1320754716981132,0.11224489795918367,0.05084745762711865,0.17647058823529413,0.12380952380952381,0.2535211267605634,0.08181818181818182,0.13846153846153847,0.009933774834437087,0.06060606060606061,0.00909090909090909,0.037037037037037035,0.04247104247104247,0.24,0.06557377049180328,0.05105105105105105,0.017543859649122806,0.15625,0.1320754716981132,0.12962962962962962,0.05056179775280899,0.11607142857142858,0.012345679012345678,0.20212765957446807,0.033582089552238806,0.02857142857142857,0.012121212121212121,0.38461538461538464,0.008403361344537815,0.055900621118012424,0.024390243902439025,0.136986301369863,0.04878048780487805,0.04,0.3333333333333333,0.01694915254237288,0.019417475728155338,0.024498886414253896,0.03571428571428571,0.37037037037037035,0.06666666666666667,0.04,0.03389830508474576,0.04285714285714286,0.07407407407407407,0.029411764705882353,0.058823529411764705,0.04513888888888889,0.34523809523809523,0.21367521367521367,0.1864406779661017,0.16,0.01680672268907563,0.02313624678663239,0.12280701754385964,0.20202020202020202,0.20454545454545456,0.1891891891891892,0.05454545454545454,0.02564102564102564,0.02097902097902098,0.14666666666666667,0.18888888888888888,0.05421686746987952,0.15168539325842698,0.05673758865248227,0.031914893617021274,0.14285714285714285,0.05263157894736842,0.12903225806451613,0.0989010989010989,0.125,0.045454545454545456,0.022058823529411766,0.08333333333333333,0.17543859649122806,0.20454545454545456,0.13186813186813187,0.16184971098265896,0.2926829268292683,0.04838709677419355,0.03827751196172249,0.14285714285714285,0.1506849315068493,0.05555555555555555,0.06976744186046512,0.10416666666666667,0.13333333333333333,0.058823529411764705,0.16216216216216217,0.20168067226890757,0.09009009009009009,0.06930693069306931,0.07142857142857142,0.16666666666666666,0.16049382716049382,0.09389671361502347,0.011494252873563218,0.13821138211382114,0.02247191011235955,0.041666666666666664,0.0028328611898017,0.10256410256410256,0.014084507042253521,0.05539358600583091,0.18055555555555555,0.16304347826086957,0.17073170731707318,0.2236842105263158,0.016129032258064516,0.03761755485893417,0.034482758620689655,0.030927835051546393,0.2894736842105263,0.09009009009009009,0.3235294117647059,0.18181818181818182,0.03672316384180791,0.003048780487804878,0.15702479338842976,0.03260869565217391,0.004629629629629629,0.017094017094017096,0.0273109243697479,0.046357615894039736,0.03225806451612903,0.12658227848101267,0.07079646017699115,0.047619047619047616,0.08695652173913043,0.04106280193236715,0.013574660633484163,0.012195121951219513,0.06779661016949153,0.023255813953488372,0.10416666666666667,0.019704433497536946,0.23076923076923078,0.19444444444444445,0.16379310344827586,0.0392156862745098,0.025477707006369428,0.07627118644067797,0.02,0.011363636363636364,0.046511627906976744,0.1782178217821782,0.029411764705882353,0.01312910284463895,0.09090909090909091,0.09205020920502092,0.18579234972677597,0.004329004329004329,0.11818181818181818,0.0673076923076923,0.24561403508771928,0.19626168224299065,0.1308411214953271,0.2903225806451613,0.12389380530973451,0.21875,0.08771929824561403,0.008064516129032258,0.23076923076923078,0.017094017094017096,0.21739130434782608,0.023026315789473683,0.14728682170542637,0.043343653250773995,0.024,0.14201183431952663,0.050314465408805034,0.03932584269662921,0.045871559633027525,0.04864864864864865,0.04157549234135667,0.056,0.1590909090909091,0.4423076923076923,0.038461538461538464,0.06779661016949153,0.2727272727272727,0.05128205128205128,0.00847457627118644,0.02564102564102564,0.043478260869565216,0.025,0.2605042016806723,0.13636363636363635,0.16071428571428573,0.1643835616438356,0.2857142857142857,0.13761467889908258,0.125,0.03125,0.05333333333333334,0.2097902097902098,0.01948051948051948,0.26436781609195403,0.1724137931034483,0.012658227848101266,0.01694915254237288,0.1797752808988764,0.04182509505703422,0.14583333333333334,0.2302158273381295,0.125,0.3333333333333333,0.15789473684210525,0.05273833671399594,0.029411764705882353,0.03535353535353535,0.05,0.05194805194805195,0.2074074074074074,0.07746478873239436,0.12295081967213115,0.10638297872340426,0.010869565217391304,0.18181818181818182,0.023952095808383235,0.06363636363636363,0.017094017094017096,0.15151515151515152,0.22033898305084745,0.032,0.058823529411764705,0.011444921316165951,0.13592233009708737,0.2,0.005917159763313609,0.010526315789473684,0.01694915254237288,0.1941747572815534,0.014705882352941176,0.27692307692307694,0.2153846153846154,0.04,0.17117117117117117,0.09659090909090909,0.018018018018018018,0.14492753623188406,0.04,0.006711409395973154,0.0420353982300885,0.08108108108108109,0.02702702702702703,0.11475409836065574,0.046153846153846156,0.028169014084507043,0.38271604938271603,0.028397565922920892,0.2682926829268293,0.09090909090909091,0.0625,0.017543859649122806,0.19767441860465115,0.2403846153846154,0.23376623376623376,0.11904761904761904,0.19791666666666666,0.19230769230769232,0.02925531914893617,0.12195121951219512,0.06206896551724138,0.15853658536585366,0.10852713178294573,0.16666666666666666,0.03664921465968586,0.012135922330097087,0.07272727272727272,0.037037037037037035,0.04430379746835443,0.13043478260869565,0.13157894736842105,0.0196078431372549,0.045454545454545456,0.037037037037037035,0.10062893081761007,0.1111111111111111,0.12698412698412698,0.023529411764705882,0.13793103448275862,0.25,0.1,0.09090909090909091,0.07017543859649122,0.04198473282442748,0.0196078431372549,0.05555555555555555,0.0326530612244898,0.023706896551724137,0.10526315789473684,0.0379746835443038,0.22666666666666666,0.016129032258064516,0.21568627450980393,0.008403361344537815,0.11904761904761904,0.07246376811594203,0.07042253521126761,0.018867924528301886,0.20430107526881722,0.3333333333333333,0.04218362282878412,0.019801980198019802,0.014705882352941176,0.10869565217391304,0.022222222222222223,0.08333333333333333,0.0625,0.03361344537815126,0.109375,0.003424657534246575,0.0784313725490196,0.17647058823529413,0.08755760368663594,0.02336448598130841,0.03571428571428571,0.17073170731707318,0.03614457831325301,0.09523809523809523,0.11320754716981132,0.08771929824561403,0.015473887814313346,0.022857142857142857,0.2647058823529412,0.04590163934426229,0.013636363636363636,0.011111111111111112,0.125,0.11627906976744186,0.23469387755102042,0.20634920634920634,0.07482993197278912,0.10606060606060606,0.1791044776119403,0.21052631578947367,0.036231884057971016,0.1328125,0.04716981132075472,0.011764705882352941,0.016736401673640166,0.15492957746478872,0.010638297872340425,0.04054054054054054,0.024875621890547265,0.025423728813559324,0.04,0.02702702702702703,0.010869565217391304,0.05177993527508091,0.15384615384615385,0.03125,0.04672897196261682,0.09278350515463918,0.11267605633802817,0.07446808510638298,0.24193548387096775,0.022071307300509338,0.03988183161004431,0.02564102564102564,0.04814814814814815,0.16666666666666666,0.06382978723404255,0.15873015873015872,0.03125,0.07471264367816093,0.09696969696969697,0.18181818181818182,0.09798270893371758,0.021739130434782608,0.08139534883720931,0.004310344827586207,0.0196078431372549,0.02631578947368421,0.1297709923664122,0.013574660633484163,0.07216494845360824,0.0738255033557047,0.05102040816326531,0.3287671232876712,0.05555555555555555,0.0945945945945946,0.16666666666666666,0.018691588785046728,0.05303030303030303,0.12083333333333333,0.19402985074626866,0.3880597014925373,0.0273972602739726,0.19767441860465115,0.04838709677419355,0.2413793103448276,0.0784313725490196,0.21428571428571427,0.025,0.0658682634730539,0.005405405405405406,0.22935779816513763,0.027777777777777776,0.02,0.10784313725490197,0.07975460122699386,0.037037037037037035,0.225,0.06557377049180328,0.01639344262295082,0.05813953488372093,0.07692307692307693,0.36363636363636365,0.04150943396226415,0.08421052631578947,0.029508196721311476,0.06493506493506493,0.06153846153846154,0.19672131147540983,0.14814814814814814,0.08536585365853659,0.15789473684210525,0.09387755102040816,0.008051529790660225,0.037037037037037035,0.02097902097902098,0.14414414414414414,0.08108108108108109,0.004705882352941176,0.060240963855421686,0.1,0.17857142857142858,0.07446808510638298],\"xaxis\":\"x\",\"yaxis\":\"y\"}],                        {\"barmode\":\"group\",\"legend\":{\"title\":{\"text\":\"churn\"},\"tracegroupgap\":0},\"template\":{\"data\":{\"bar\":[{\"error_x\":{\"color\":\"#2a3f5f\"},\"error_y\":{\"color\":\"#2a3f5f\"},\"marker\":{\"line\":{\"color\":\"#E5ECF6\",\"width\":0.5},\"pattern\":{\"fillmode\":\"overlay\",\"size\":10,\"solidity\":0.2}},\"type\":\"bar\"}],\"barpolar\":[{\"marker\":{\"line\":{\"color\":\"#E5ECF6\",\"width\":0.5},\"pattern\":{\"fillmode\":\"overlay\",\"size\":10,\"solidity\":0.2}},\"type\":\"barpolar\"}],\"carpet\":[{\"aaxis\":{\"endlinecolor\":\"#2a3f5f\",\"gridcolor\":\"white\",\"linecolor\":\"white\",\"minorgridcolor\":\"white\",\"startlinecolor\":\"#2a3f5f\"},\"baxis\":{\"endlinecolor\":\"#2a3f5f\",\"gridcolor\":\"white\",\"linecolor\":\"white\",\"minorgridcolor\":\"white\",\"startlinecolor\":\"#2a3f5f\"},\"type\":\"carpet\"}],\"choropleth\":[{\"colorbar\":{\"outlinewidth\":0,\"ticks\":\"\"},\"type\":\"choropleth\"}],\"contour\":[{\"colorbar\":{\"outlinewidth\":0,\"ticks\":\"\"},\"colorscale\":[[0.0,\"#0d0887\"],[0.1111111111111111,\"#46039f\"],[0.2222222222222222,\"#7201a8\"],[0.3333333333333333,\"#9c179e\"],[0.4444444444444444,\"#bd3786\"],[0.5555555555555556,\"#d8576b\"],[0.6666666666666666,\"#ed7953\"],[0.7777777777777778,\"#fb9f3a\"],[0.8888888888888888,\"#fdca26\"],[1.0,\"#f0f921\"]],\"type\":\"contour\"}],\"contourcarpet\":[{\"colorbar\":{\"outlinewidth\":0,\"ticks\":\"\"},\"type\":\"contourcarpet\"}],\"heatmap\":[{\"colorbar\":{\"outlinewidth\":0,\"ticks\":\"\"},\"colorscale\":[[0.0,\"#0d0887\"],[0.1111111111111111,\"#46039f\"],[0.2222222222222222,\"#7201a8\"],[0.3333333333333333,\"#9c179e\"],[0.4444444444444444,\"#bd3786\"],[0.5555555555555556,\"#d8576b\"],[0.6666666666666666,\"#ed7953\"],[0.7777777777777778,\"#fb9f3a\"],[0.8888888888888888,\"#fdca26\"],[1.0,\"#f0f921\"]],\"type\":\"heatmap\"}],\"heatmapgl\":[{\"colorbar\":{\"outlinewidth\":0,\"ticks\":\"\"},\"colorscale\":[[0.0,\"#0d0887\"],[0.1111111111111111,\"#46039f\"],[0.2222222222222222,\"#7201a8\"],[0.3333333333333333,\"#9c179e\"],[0.4444444444444444,\"#bd3786\"],[0.5555555555555556,\"#d8576b\"],[0.6666666666666666,\"#ed7953\"],[0.7777777777777778,\"#fb9f3a\"],[0.8888888888888888,\"#fdca26\"],[1.0,\"#f0f921\"]],\"type\":\"heatmapgl\"}],\"histogram\":[{\"marker\":{\"pattern\":{\"fillmode\":\"overlay\",\"size\":10,\"solidity\":0.2}},\"type\":\"histogram\"}],\"histogram2d\":[{\"colorbar\":{\"outlinewidth\":0,\"ticks\":\"\"},\"colorscale\":[[0.0,\"#0d0887\"],[0.1111111111111111,\"#46039f\"],[0.2222222222222222,\"#7201a8\"],[0.3333333333333333,\"#9c179e\"],[0.4444444444444444,\"#bd3786\"],[0.5555555555555556,\"#d8576b\"],[0.6666666666666666,\"#ed7953\"],[0.7777777777777778,\"#fb9f3a\"],[0.8888888888888888,\"#fdca26\"],[1.0,\"#f0f921\"]],\"type\":\"histogram2d\"}],\"histogram2dcontour\":[{\"colorbar\":{\"outlinewidth\":0,\"ticks\":\"\"},\"colorscale\":[[0.0,\"#0d0887\"],[0.1111111111111111,\"#46039f\"],[0.2222222222222222,\"#7201a8\"],[0.3333333333333333,\"#9c179e\"],[0.4444444444444444,\"#bd3786\"],[0.5555555555555556,\"#d8576b\"],[0.6666666666666666,\"#ed7953\"],[0.7777777777777778,\"#fb9f3a\"],[0.8888888888888888,\"#fdca26\"],[1.0,\"#f0f921\"]],\"type\":\"histogram2dcontour\"}],\"mesh3d\":[{\"colorbar\":{\"outlinewidth\":0,\"ticks\":\"\"},\"type\":\"mesh3d\"}],\"parcoords\":[{\"line\":{\"colorbar\":{\"outlinewidth\":0,\"ticks\":\"\"}},\"type\":\"parcoords\"}],\"pie\":[{\"automargin\":true,\"type\":\"pie\"}],\"scatter\":[{\"marker\":{\"colorbar\":{\"outlinewidth\":0,\"ticks\":\"\"}},\"type\":\"scatter\"}],\"scatter3d\":[{\"line\":{\"colorbar\":{\"outlinewidth\":0,\"ticks\":\"\"}},\"marker\":{\"colorbar\":{\"outlinewidth\":0,\"ticks\":\"\"}},\"type\":\"scatter3d\"}],\"scattercarpet\":[{\"marker\":{\"colorbar\":{\"outlinewidth\":0,\"ticks\":\"\"}},\"type\":\"scattercarpet\"}],\"scattergeo\":[{\"marker\":{\"colorbar\":{\"outlinewidth\":0,\"ticks\":\"\"}},\"type\":\"scattergeo\"}],\"scattergl\":[{\"marker\":{\"colorbar\":{\"outlinewidth\":0,\"ticks\":\"\"}},\"type\":\"scattergl\"}],\"scattermapbox\":[{\"marker\":{\"colorbar\":{\"outlinewidth\":0,\"ticks\":\"\"}},\"type\":\"scattermapbox\"}],\"scatterpolar\":[{\"marker\":{\"colorbar\":{\"outlinewidth\":0,\"ticks\":\"\"}},\"type\":\"scatterpolar\"}],\"scatterpolargl\":[{\"marker\":{\"colorbar\":{\"outlinewidth\":0,\"ticks\":\"\"}},\"type\":\"scatterpolargl\"}],\"scatterternary\":[{\"marker\":{\"colorbar\":{\"outlinewidth\":0,\"ticks\":\"\"}},\"type\":\"scatterternary\"}],\"surface\":[{\"colorbar\":{\"outlinewidth\":0,\"ticks\":\"\"},\"colorscale\":[[0.0,\"#0d0887\"],[0.1111111111111111,\"#46039f\"],[0.2222222222222222,\"#7201a8\"],[0.3333333333333333,\"#9c179e\"],[0.4444444444444444,\"#bd3786\"],[0.5555555555555556,\"#d8576b\"],[0.6666666666666666,\"#ed7953\"],[0.7777777777777778,\"#fb9f3a\"],[0.8888888888888888,\"#fdca26\"],[1.0,\"#f0f921\"]],\"type\":\"surface\"}],\"table\":[{\"cells\":{\"fill\":{\"color\":\"#EBF0F8\"},\"line\":{\"color\":\"white\"}},\"header\":{\"fill\":{\"color\":\"#C8D4E3\"},\"line\":{\"color\":\"white\"}},\"type\":\"table\"}]},\"layout\":{\"annotationdefaults\":{\"arrowcolor\":\"#2a3f5f\",\"arrowhead\":0,\"arrowwidth\":1},\"autotypenumbers\":\"strict\",\"coloraxis\":{\"colorbar\":{\"outlinewidth\":0,\"ticks\":\"\"}},\"colorscale\":{\"diverging\":[[0,\"#8e0152\"],[0.1,\"#c51b7d\"],[0.2,\"#de77ae\"],[0.3,\"#f1b6da\"],[0.4,\"#fde0ef\"],[0.5,\"#f7f7f7\"],[0.6,\"#e6f5d0\"],[0.7,\"#b8e186\"],[0.8,\"#7fbc41\"],[0.9,\"#4d9221\"],[1,\"#276419\"]],\"sequential\":[[0.0,\"#0d0887\"],[0.1111111111111111,\"#46039f\"],[0.2222222222222222,\"#7201a8\"],[0.3333333333333333,\"#9c179e\"],[0.4444444444444444,\"#bd3786\"],[0.5555555555555556,\"#d8576b\"],[0.6666666666666666,\"#ed7953\"],[0.7777777777777778,\"#fb9f3a\"],[0.8888888888888888,\"#fdca26\"],[1.0,\"#f0f921\"]],\"sequentialminus\":[[0.0,\"#0d0887\"],[0.1111111111111111,\"#46039f\"],[0.2222222222222222,\"#7201a8\"],[0.3333333333333333,\"#9c179e\"],[0.4444444444444444,\"#bd3786\"],[0.5555555555555556,\"#d8576b\"],[0.6666666666666666,\"#ed7953\"],[0.7777777777777778,\"#fb9f3a\"],[0.8888888888888888,\"#fdca26\"],[1.0,\"#f0f921\"]]},\"colorway\":[\"#636efa\",\"#EF553B\",\"#00cc96\",\"#ab63fa\",\"#FFA15A\",\"#19d3f3\",\"#FF6692\",\"#B6E880\",\"#FF97FF\",\"#FECB52\"],\"font\":{\"color\":\"#2a3f5f\"},\"geo\":{\"bgcolor\":\"white\",\"lakecolor\":\"white\",\"landcolor\":\"#E5ECF6\",\"showlakes\":true,\"showland\":true,\"subunitcolor\":\"white\"},\"hoverlabel\":{\"align\":\"left\"},\"hovermode\":\"closest\",\"mapbox\":{\"style\":\"light\"},\"paper_bgcolor\":\"white\",\"plot_bgcolor\":\"#E5ECF6\",\"polar\":{\"angularaxis\":{\"gridcolor\":\"white\",\"linecolor\":\"white\",\"ticks\":\"\"},\"bgcolor\":\"#E5ECF6\",\"radialaxis\":{\"gridcolor\":\"white\",\"linecolor\":\"white\",\"ticks\":\"\"}},\"scene\":{\"xaxis\":{\"backgroundcolor\":\"#E5ECF6\",\"gridcolor\":\"white\",\"gridwidth\":2,\"linecolor\":\"white\",\"showbackground\":true,\"ticks\":\"\",\"zerolinecolor\":\"white\"},\"yaxis\":{\"backgroundcolor\":\"#E5ECF6\",\"gridcolor\":\"white\",\"gridwidth\":2,\"linecolor\":\"white\",\"showbackground\":true,\"ticks\":\"\",\"zerolinecolor\":\"white\"},\"zaxis\":{\"backgroundcolor\":\"#E5ECF6\",\"gridcolor\":\"white\",\"gridwidth\":2,\"linecolor\":\"white\",\"showbackground\":true,\"ticks\":\"\",\"zerolinecolor\":\"white\"}},\"shapedefaults\":{\"line\":{\"color\":\"#2a3f5f\"}},\"ternary\":{\"aaxis\":{\"gridcolor\":\"white\",\"linecolor\":\"white\",\"ticks\":\"\"},\"baxis\":{\"gridcolor\":\"white\",\"linecolor\":\"white\",\"ticks\":\"\"},\"bgcolor\":\"#E5ECF6\",\"caxis\":{\"gridcolor\":\"white\",\"linecolor\":\"white\",\"ticks\":\"\"}},\"title\":{\"x\":0.05},\"xaxis\":{\"automargin\":true,\"gridcolor\":\"white\",\"linecolor\":\"white\",\"ticks\":\"\",\"title\":{\"standoff\":15},\"zerolinecolor\":\"white\",\"zerolinewidth\":2},\"yaxis\":{\"automargin\":true,\"gridcolor\":\"white\",\"linecolor\":\"white\",\"ticks\":\"\",\"title\":{\"standoff\":15},\"zerolinecolor\":\"white\",\"zerolinewidth\":2}}},\"title\":{\"text\":\"Histogram for count for spend_level\"},\"xaxis\":{\"anchor\":\"y\",\"domain\":[0.0,1.0],\"title\":{\"text\":\"percent\"}},\"yaxis\":{\"anchor\":\"x\",\"domain\":[0.0,1.0],\"title\":{\"text\":\"count\"}}},                        {\"responsive\": true}                    ).then(function(){\n",
              "                            \n",
              "var gd = document.getElementById('2ef827db-c71f-4444-9c26-f48d9590343b');\n",
              "var x = new MutationObserver(function (mutations, observer) {{\n",
              "        var display = window.getComputedStyle(gd).display;\n",
              "        if (!display || display === 'none') {{\n",
              "            console.log([gd, 'removed!']);\n",
              "            Plotly.purge(gd);\n",
              "            observer.disconnect();\n",
              "        }}\n",
              "}});\n",
              "\n",
              "// Listen for the removal of the full notebook cells\n",
              "var notebookContainer = gd.closest('#notebook-container');\n",
              "if (notebookContainer) {{\n",
              "    x.observe(notebookContainer, {childList: true});\n",
              "}}\n",
              "\n",
              "// Listen for the clearing of the current output cell\n",
              "var outputEl = gd.closest('.output');\n",
              "if (outputEl) {{\n",
              "    x.observe(outputEl, {childList: true});\n",
              "}}\n",
              "\n",
              "                        })                };                            </script>        </div>\n",
              "</body>\n",
              "</html>"
            ]
          },
          "metadata": {}
        }
      ]
    },
    {
      "cell_type": "markdown",
      "metadata": {
        "id": "_9fNfih8N_lA"
      },
      "source": [
        "**Выводы:**\n",
        "\n",
        "* Упоминание данного ивента чаще регистрируется для людей с churn=1.  \n",
        "* Данный тип бустера используется в среднем 0-0.04 процентов игр для людей с churn=1 и 0.02 - 0.2 людьми продолжающими играть.\n",
        "* Также в данных встретился случай, когда пользователи, использовав этот бустер, были записаны повторно. Возможно опечатка, возможно этот бустер можно использовать несколько раз за игру.\n",
        "* Для пользователей играющих больше суток распределение процентов такое же.\n"
      ]
    },
    {
      "cell_type": "markdown",
      "metadata": {
        "id": "dgImjj7YLCMy"
      },
      "source": [
        "# **5.3 Связь прохождения уровней с покупкой ходов в гринде - spent_turns_purchase**"
      ]
    },
    {
      "cell_type": "code",
      "metadata": {
        "id": "Vd54vEVs2Yoj"
      },
      "source": [
        "px.histogram(table_24_kogort[(table_24_kogort['event_name'] == 'spent_turns_purchase') &\n",
        "                             (table_24_kogort['churn'] == 0)], \n",
        "              x=\"percent\", color='level_group',\n",
        "             title='Histogram for count for spent_turns_purchase with churn = 0',\n",
        "             barmode='group',nbins=5)"
      ],
      "execution_count": null,
      "outputs": []
    },
    {
      "cell_type": "code",
      "metadata": {
        "id": "Yot9kfXHYXep"
      },
      "source": [
        "px.histogram(table_24_kogort[(table_24_kogort['event_name'] == 'spent_turns_purchase') &\n",
        "                             (table_24_kogort['churn'] == 1)], \n",
        "              x=\"percent\", color='level_group',\n",
        "             title='Histogram for count for spent_turns_purchase with churn = 1',\n",
        "             barmode='group',nbins=5)"
      ],
      "execution_count": null,
      "outputs": []
    },
    {
      "cell_type": "code",
      "metadata": {
        "id": "RFuvBsAzSEr3"
      },
      "source": [
        "px.histogram(table_events_3[table_events_3['event_name'] == 'spent_turns_purchase'], \n",
        "              x=\"percent\", color='churn',\n",
        "             title='Histogram for count for spent_turns_purchase',\n",
        "             barmode='group')"
      ],
      "execution_count": null,
      "outputs": []
    },
    {
      "cell_type": "markdown",
      "metadata": {
        "id": "f6W0xsjQOwgY"
      },
      "source": [
        "**Выводы:**\n",
        "\n",
        "* Упоминание данного ивента чаще регистрируется для игроков, которые забрасывают играть, чем теми, кто остается .\n",
        "* Процент использования данного бустера для людей с churn=1 составляет 0.005-0.045. Это верно для людей играющих сутки или больше.\n",
        "* Процент использования данного бустера для людей с churn=0 составляет 0.045-0.135. Но данных для этой группы пользователей меньше."
      ]
    },
    {
      "cell_type": "markdown",
      "metadata": {
        "id": "Ea2qp7QzOxLp"
      },
      "source": [
        "# **5.4 Связь прохождения уровней с покупкой жизней - spent_life_purchase**"
      ]
    },
    {
      "cell_type": "code",
      "metadata": {
        "id": "DsfpOY612YmF"
      },
      "source": [
        "px.histogram(table_events_24[table_events_24['event_name'] == 'spent_life_purchase'], \n",
        "              x=\"percent\", color='churn',\n",
        "             title='Histogram for count for spent_life_purchase',\n",
        "             barmode='group')"
      ],
      "execution_count": null,
      "outputs": []
    },
    {
      "cell_type": "code",
      "metadata": {
        "id": "g4s850B9SOcp"
      },
      "source": [
        "px.histogram(table_events_3[table_events_3['event_name'] == 'spent_life_purchase'], \n",
        "              x=\"percent\", color='churn',\n",
        "             title='Histogram for count for spent_life_purchase')"
      ],
      "execution_count": null,
      "outputs": []
    },
    {
      "cell_type": "markdown",
      "metadata": {
        "id": "p8WZuG0pPEJM"
      },
      "source": [
        "**Выводы:**\n",
        "* Данный бустер используется реже всего. И чаще его используют люди, которые забрасывают играть.\n",
        "* Выборка данных для данного бустера сликшмо мала, чтоб рассуждать о проценте использования."
      ]
    },
    {
      "cell_type": "markdown",
      "metadata": {
        "id": "EnT7jafaOvMG"
      },
      "source": [
        "# **6.1 Зависимость времени прохождения игры от когорты пользователей по уровням.**"
      ]
    },
    {
      "cell_type": "code",
      "metadata": {
        "id": "ycnHWdD_jLH0"
      },
      "source": [
        "df_levels_new['delta_time'] == df_levels_new['delta_time'].dt.total_seconds()\n",
        "df_levels_new['delta_time'] =df_levels_new['delta_time'].dt.seconds.astype('float64') /60"
      ],
      "execution_count": null,
      "outputs": []
    },
    {
      "cell_type": "code",
      "metadata": {
        "id": "B3kKtIxVc-31"
      },
      "source": [
        "df_temp = pd.merge(df_levels_new,table_24_kogort[['uid','level_group']],how='inner', on='uid')"
      ],
      "execution_count": null,
      "outputs": []
    },
    {
      "cell_type": "code",
      "metadata": {
        "id": "e0XeVoFotd99"
      },
      "source": [
        "df_temp['level_group'] = df_temp['level_group'].astype('float64') \n",
        "df_temp_24 = df_temp[df_temp['24_hour'] == 1]"
      ],
      "execution_count": null,
      "outputs": []
    },
    {
      "cell_type": "code",
      "metadata": {
        "colab": {
          "base_uri": "https://localhost:8080/"
        },
        "id": "-ku3wG3rs5x2",
        "outputId": "797631d0-c30b-448a-d807-54266f9334ea"
      },
      "source": [
        "df_temp.info()"
      ],
      "execution_count": null,
      "outputs": [
        {
          "output_type": "stream",
          "name": "stdout",
          "text": [
            "<class 'pandas.core.frame.DataFrame'>\n",
            "Int64Index: 818579 entries, 0 to 818578\n",
            "Data columns (total 15 columns):\n",
            " #   Column                Non-Null Count   Dtype          \n",
            "---  ------                --------------   -----          \n",
            " 0   index                 818579 non-null  object         \n",
            " 1   uid                   818579 non-null  object         \n",
            " 2   created_at            818579 non-null  datetime64[ns] \n",
            " 3   event_name            818579 non-null  object         \n",
            " 4   level_move            818579 non-null  object         \n",
            " 5   Number_of_used_moves  400306 non-null  float64        \n",
            " 6   target                400306 non-null  object         \n",
            " 7   remaining_targets     393982 non-null  float64        \n",
            " 8   reg_dt                818579 non-null  datetime64[ns] \n",
            " 9   churn                 818579 non-null  object         \n",
            " 10  level                 782803 non-null  float64        \n",
            " 11  delta_time            418273 non-null  float64        \n",
            " 12  timedelta             818579 non-null  timedelta64[ns]\n",
            " 13  24_hour               818579 non-null  float64        \n",
            " 14  level_group           818579 non-null  float64        \n",
            "dtypes: datetime64[ns](2), float64(6), object(6), timedelta64[ns](1)\n",
            "memory usage: 99.9+ MB\n"
          ]
        }
      ]
    },
    {
      "cell_type": "code",
      "metadata": {
        "colab": {
          "base_uri": "https://localhost:8080/",
          "height": 175
        },
        "id": "gsVewc5-hsAg",
        "outputId": "4089f154-67ef-4dbf-b2ad-0a6840c09a33"
      },
      "source": [
        "table_2 = df_temp_24[df_temp_24['event_name'] == 'battle_start'\n",
        "                        ].pivot_table(index=['uid','churn', 'level_group'], \n",
        "                                      aggfunc={'level': 'max','delta_time': 'median'}).reset_index()\n",
        "table_2.head(4)"
      ],
      "execution_count": null,
      "outputs": [
        {
          "output_type": "execute_result",
          "data": {
            "text/html": [
              "<div>\n",
              "<style scoped>\n",
              "    .dataframe tbody tr th:only-of-type {\n",
              "        vertical-align: middle;\n",
              "    }\n",
              "\n",
              "    .dataframe tbody tr th {\n",
              "        vertical-align: top;\n",
              "    }\n",
              "\n",
              "    .dataframe thead th {\n",
              "        text-align: right;\n",
              "    }\n",
              "</style>\n",
              "<table border=\"1\" class=\"dataframe\">\n",
              "  <thead>\n",
              "    <tr style=\"text-align: right;\">\n",
              "      <th></th>\n",
              "      <th>uid</th>\n",
              "      <th>churn</th>\n",
              "      <th>level_group</th>\n",
              "      <th>delta_time</th>\n",
              "      <th>level</th>\n",
              "    </tr>\n",
              "  </thead>\n",
              "  <tbody>\n",
              "    <tr>\n",
              "      <th>0</th>\n",
              "      <td>000c51e7-db50-4f30-95d6-462be3a2a5d3</td>\n",
              "      <td>0</td>\n",
              "      <td>0.0</td>\n",
              "      <td>0.700000</td>\n",
              "      <td>5.0</td>\n",
              "    </tr>\n",
              "    <tr>\n",
              "      <th>1</th>\n",
              "      <td>0018f5d2-d883-4ad2-9b96-29028069ee81</td>\n",
              "      <td>1</td>\n",
              "      <td>30.0</td>\n",
              "      <td>1.800000</td>\n",
              "      <td>44.0</td>\n",
              "    </tr>\n",
              "    <tr>\n",
              "      <th>2</th>\n",
              "      <td>00431e7e-d833-47c9-aae9-7ce21652902f</td>\n",
              "      <td>0</td>\n",
              "      <td>0.0</td>\n",
              "      <td>0.808333</td>\n",
              "      <td>4.0</td>\n",
              "    </tr>\n",
              "    <tr>\n",
              "      <th>3</th>\n",
              "      <td>0060a2dd-18d8-4122-96ca-92ae699a1a52</td>\n",
              "      <td>1</td>\n",
              "      <td>45.0</td>\n",
              "      <td>1.641667</td>\n",
              "      <td>58.0</td>\n",
              "    </tr>\n",
              "  </tbody>\n",
              "</table>\n",
              "</div>"
            ],
            "text/plain": [
              "                                    uid  churn  level_group  delta_time  level\n",
              "0  000c51e7-db50-4f30-95d6-462be3a2a5d3      0          0.0    0.700000    5.0\n",
              "1  0018f5d2-d883-4ad2-9b96-29028069ee81      1         30.0    1.800000   44.0\n",
              "2  00431e7e-d833-47c9-aae9-7ce21652902f      0          0.0    0.808333    4.0\n",
              "3  0060a2dd-18d8-4122-96ca-92ae699a1a52      1         45.0    1.641667   58.0"
            ]
          },
          "metadata": {},
          "execution_count": 142
        }
      ]
    },
    {
      "cell_type": "code",
      "metadata": {
        "colab": {
          "base_uri": "https://localhost:8080/",
          "height": 542
        },
        "id": "kZlmkA5cugrD",
        "outputId": "fd398b08-3929-441d-c004-06e3e00d0ccb"
      },
      "source": [
        "px.box(table_2, y='delta_time')"
      ],
      "execution_count": null,
      "outputs": [
        {
          "output_type": "display_data",
          "data": {
            "text/html": [
              "<html>\n",
              "<head><meta charset=\"utf-8\" /></head>\n",
              "<body>\n",
              "    <div>            <script src=\"https://cdnjs.cloudflare.com/ajax/libs/mathjax/2.7.5/MathJax.js?config=TeX-AMS-MML_SVG\"></script><script type=\"text/javascript\">if (window.MathJax) {MathJax.Hub.Config({SVG: {font: \"STIX-Web\"}});}</script>                <script type=\"text/javascript\">window.PlotlyConfig = {MathJaxConfig: 'local'};</script>\n",
              "        <script src=\"https://cdn.plot.ly/plotly-2.3.1.min.js\"></script>                <div id=\"82359365-c447-4796-a64b-b3dc77722595\" class=\"plotly-graph-div\" style=\"height:525px; width:100%;\"></div>            <script type=\"text/javascript\">                                    window.PLOTLYENV=window.PLOTLYENV || {};                                    if (document.getElementById(\"82359365-c447-4796-a64b-b3dc77722595\")) {                    Plotly.newPlot(                        \"82359365-c447-4796-a64b-b3dc77722595\",                        [{\"alignmentgroup\":\"True\",\"hovertemplate\":\"delta_time=%{y}<extra></extra>\",\"legendgroup\":\"\",\"marker\":{\"color\":\"#636efa\"},\"name\":\"\",\"notched\":false,\"offsetgroup\":\"\",\"orientation\":\"v\",\"showlegend\":false,\"type\":\"box\",\"x0\":\" \",\"xaxis\":\"x\",\"y\":[0.7,1.8,0.8083333333333333,1.6416666666666666,1.0083333333333333,3.0083333333333333,1.65,1.25,1.2333333333333334,0.8833333333333333,0.75,0.9583333333333334,1.55,1.3333333333333333,1.3333333333333335,0.65,0.8583333333333334,0.9583333333333333,1.0,1.3166666666666667,1.3083333333333333,1.4166666666666667,1.5083333333333333,1.0166666666666666,1.45,1.5,1.3166666666666667,1.3666666666666667,1.0583333333333333,1.0833333333333333,1.4833333333333334,2.3333333333333335,2.183333333333333,0.8333333333333334,1.4666666666666666,1.6333333333333333,2.0833333333333335,2.2666666666666666,0.8,1.05,1.375,0.6666666666666666,1.5833333333333333,0.7583333333333333,1.2333333333333334,1.3416666666666668,1.8666666666666667,0.9416666666666667,1.8916666666666666,0.8666666666666667,1.4666666666666668,0.9583333333333333,1.6833333333333333,1.075,1.075,1.2333333333333334,2.05,0.7666666666666667,1.1666666666666667,1.2166666666666668,1.3833333333333333,1.65,1.2833333333333334,1.5,0.8166666666666667,1.2666666666666666,0.55,1.0833333333333333,0.8333333333333334,0.6583333333333333,1.2833333333333332,1.225,1.1833333333333333,1.4666666666666666,1.2666666666666666,1.45,1.2333333333333334,1.3916666666666666,0.6333333333333333,2.55,1.4083333333333332,1.0499999999999998,0.9333333333333333,1.3,1.0083333333333333,0.95,1.2666666666666666,2.05,1.2166666666666666,0.9083333333333333,0.8166666666666667,1.5166666666666666,1.0166666666666666,0.9166666666666666,1.2583333333333333,1.65,1.4583333333333335,1.5,1.85,1.25,1.3333333333333333,1.2666666666666666,1.75,1.2333333333333334,1.6416666666666666,0.9666666666666668,2.1333333333333333,1.9,0.9833333333333333,0.675,0.48333333333333334,1.2166666666666666,0.6833333333333333,1.5166666666666666,1.2333333333333334,1.3,1.9,1.4666666666666666,1.3166666666666667,1.375,1.1083333333333334,1.2,0.775,0.9666666666666667,0.975,1.4333333333333333,1.1166666666666667,0.8166666666666667,1.5416666666666665,2.6083333333333334,1.2333333333333334,1.2666666666666666,1.1166666666666667,1.35,1.3333333333333335,1.5166666666666666,1.0333333333333334,1.3583333333333334,0.675,1.4833333333333334,1.4666666666666668,1.7666666666666666,1.95,1.2833333333333334,1.0666666666666667,1.1,0.9416666666666667,1.3333333333333333,1.3,1.2166666666666666,1.3333333333333333,1.9,2.716666666666667,1.1666666666666665,0.9083333333333333,1.0166666666666666,1.5166666666666666,1.4416666666666667,1.0666666666666667,1.6583333333333332,1.075,1.2249999999999999,1.3333333333333335,1.0166666666666666,0.9166666666666667,0.6666666666666666,0.675,1.3333333333333333,0.6666666666666666,1.65,1.4,0.95,0.9833333333333333,1.25,1.5,1.3333333333333335,0.7,0.6833333333333333,1.0,1.3083333333333333,2.9,1.2166666666666666,0.8416666666666667,0.9666666666666667,1.65,0.7583333333333333,1.1166666666666667,1.3583333333333334,1.3666666666666667,1.9833333333333334,2.216666666666667,0.9916666666666667,1.5583333333333333,1.5333333333333334,1.4,1.6,1.5583333333333331,2.3166666666666664,1.0416666666666667,1.35,1.5416666666666665,1.125,0.6833333333333333,2.0166666666666666,0.9916666666666667,1.5166666666666666,0.7833333333333333,0.7,0.9416666666666667,4.2,1.5083333333333333,1.1166666666666667,1.525,0.8416666666666667,1.75,0.875,0.7833333333333333,1.2333333333333334,1.45,1.0583333333333333,1.35,0.9666666666666667,2.216666666666667,1.5,1.05,1.425,1.6583333333333332,1.35,1.0833333333333335,1.1,1.9666666666666666,0.7333333333333333,1.0,1.1666666666666667,1.9166666666666667,1.5333333333333334,0.8500000000000001,1.55,1.7083333333333333,1.7,0.8500000000000001,1.3083333333333333,1.3333333333333333,1.15,1.0666666666666667,0.8583333333333334,0.9,1.35,1.1833333333333333,453.40833333333336,1.0916666666666668,0.8583333333333334,1.3666666666666667,1.0583333333333333,1.4166666666666667,1.85,1.3666666666666667,1.5416666666666667,1.3916666666666666,1.3666666666666667,1.0333333333333334,0.8166666666666667,1.4083333333333332,1.5416666666666667,1.8833333333333333,0.6,1.65,1.3333333333333333,2.45,1.9583333333333333,1.4,0.8666666666666667,1.1166666666666667,1.5833333333333333,0.9333333333333333,1.2000000000000002,1.7,0.7833333333333333,1.0333333333333334,1.0333333333333334,1.4833333333333334,1.45,1.6833333333333333,1.1833333333333333,1.0083333333333333,2.0166666666666666,1.55,0.6833333333333333,2.283333333333333,1.0833333333333333,1.4833333333333334,1.3333333333333333,1.35,1.2916666666666667,1.4666666666666666,1.2416666666666667,1.1833333333333333,1.175,1.4,1.4,0.8666666666666667,2.6666666666666665,1.7333333333333334,1.4166666666666667,1.9333333333333331,3.0833333333333335,1.3666666666666667,1.3,1.15,0.8333333333333334,1.4333333333333333,1.6166666666666667,1.0666666666666667,0.8166666666666667,1.2,0.9416666666666667,1.3666666666666667,1.1666666666666667,1.3333333333333333,1.25,2.1166666666666667,1.3833333333333333,1.7166666666666668,1.725,1.05,1.6333333333333333,1.2333333333333334,1.2833333333333332,0.8,0.9166666666666667,1.6666666666666667,1.25,1.125,1.5333333333333332,1.5166666666666666,1.2833333333333332,1.0750000000000002,0.5666666666666667,1.7833333333333334,1.4666666666666666,1.5166666666666666,1.25,0.6833333333333333,1.4333333333333333,1.6666666666666665,0.9083333333333333,0.6166666666666667,1.3333333333333333,1.0166666666666666,1.2083333333333333,1.0166666666666666,1.1416666666666666,1.1333333333333333,1.6666666666666667,2.316666666666667,1.6916666666666667,1.4666666666666666,1.425,0.9166666666666666,1.15,1.6416666666666666,2.216666666666667,1.35,1.475,0.8666666666666667,1.75,1.2833333333333334,0.825,1.7833333333333334,1.7833333333333334,1.4666666666666668,1.35,2.433333333333333,1.3833333333333333,1.0833333333333333,1.1333333333333333,0.9,1.3833333333333333,0.95,1.075,0.95,1.2333333333333334,1.5083333333333333,1.0,1.2,1.1166666666666667,1.2166666666666666,1.2666666666666666,1.2416666666666667,1.8166666666666667,0.9833333333333333,1.5083333333333333,1.0,1.4333333333333333,0.75,1.0083333333333333,1.6083333333333334,1.4,1.6,1.8,1.2583333333333333,0.8833333333333333,1.6666666666666667,1.2,0.9916666666666667,1.6083333333333334,1.4833333333333334,1.425,1.2833333333333334,1.35,1.0416666666666667,1.4583333333333333,2.3333333333333335,0.7833333333333333,1.7666666666666666,1.125,1.0916666666666668,1.5333333333333334,1.275,1.6833333333333333,1.4166666666666665,1.4333333333333333,1.1749999999999998,1.5166666666666666,2.2,1.3833333333333333,1.0333333333333334,1.7416666666666667,2.15,0.9083333333333333,1.65,1.35,1.8416666666666668,1.0166666666666666,0.8333333333333333,0.8999999999999999,1.5750000000000002,1.2333333333333334,1.2666666666666666,1.0416666666666667,1.2583333333333333,1.7416666666666667,0.7833333333333333,1.75,1.4083333333333332,1.6333333333333333,1.1166666666666667,1.25,1.725,2.3666666666666667,1.35,1.05,1.3833333333333333,1.425,1.7833333333333334,1.0333333333333334,0.9,1.4583333333333333,0.9,1.6166666666666667,1.9833333333333334,1.4333333333333333,1.4,1.3666666666666667,1.6333333333333333,1.0916666666666668,1.1166666666666667,1.2916666666666667,1.475,1.3666666666666667,0.5833333333333334,1.2166666666666666,1.1333333333333333,1.4333333333333333,0.825,1.675,1.05,1.6,1.4666666666666666,1.1166666666666667,1.9166666666666667,0.8166666666666667,1.2333333333333334,1.3166666666666667,1.725,0.6666666666666666,0.8333333333333334,0.9083333333333333,1.05,1.05,1.775,1.5499999999999998,1.425,1.35,1.1749999999999998,1.4333333333333333,1.1166666666666667,1.725,3.816666666666667,0.9666666666666667,1.0,0.8666666666666667,1.325,1.3083333333333333,0.7833333333333333,1.225,0.9916666666666667,1.4166666666666667,0.6000000000000001,1.4,1.3,1.8166666666666667,1.2833333333333334,1.0083333333333333,1.7666666666666666,0.7833333333333333,2.3666666666666667,1.9166666666666665,1.4166666666666667,1.5,0.7666666666666667,1.0916666666666666,1.125,1.6916666666666667,1.2833333333333332,1.25,1.3250000000000002,1.5,1.2,1.25,1.4166666666666667,1.2833333333333334,1.3166666666666667,1.6333333333333333,1.7833333333333334,1.3666666666666667,1.65,0.7333333333333334,1.275,0.9333333333333333,1.7,1.1,0.9083333333333333,0.95,1.6666666666666667,1.0333333333333332,0.9,1.7583333333333333,305.05,1.4916666666666667,1.1833333333333333,1.1,0.6333333333333333,1.35,1.3666666666666667,1.0583333333333333,1.8333333333333333,1.9333333333333333,1.225,1.4416666666666667,1.9666666666666666,0.9833333333333333,1.4083333333333332,1.45,1.3,1.1916666666666667,1.1166666666666667,1.5,0.775,1.3333333333333335,0.8666666666666667,0.9583333333333334,1.5833333333333333,1.3666666666666667,1.4333333333333333,1.2583333333333333,1.275,0.8166666666666667,1.7666666666666666,1.2083333333333335,1.4833333333333334,1.35,0.9333333333333333,1.25,1.2333333333333334,3.4833333333333334,1.5083333333333333,1.2,1.475,1.0,1.0083333333333333,1.425,1.3333333333333333,1.8,1.6416666666666666,0.9666666666666667,1.0833333333333333,1.1666666666666665,1.3166666666666667,0.9,1.0666666666666667,1.0833333333333333,0.925,0.8833333333333333,1.1333333333333333,0.75,1.5833333333333333,1.45,0.85,1.375,1.3,1.1833333333333333,1.2666666666666666,1.1083333333333334,0.775,2.0,1.4333333333333333,1.3833333333333333,1.25,0.7,1.7666666666666666,2.1,1.0083333333333333,1.2333333333333334,1.35,1.2666666666666666,1.5,1.3583333333333334,1.125,1.125,1.5416666666666667,1.2666666666666666,1.0333333333333334,1.0833333333333333,1.4833333333333334,1.1749999999999998,0.95,1.525,1.9416666666666667,2.3,0.8666666666666667,1.3833333333333333,1.2583333333333333,1.4333333333333333,1.4416666666666667,0.9666666666666667,1.5916666666666668,1.5833333333333335,1.2,1.35,0.8166666666666667,1.45,0.7666666666666667,1.4333333333333333,1.2333333333333334,1.225,2.0583333333333336,1.1,1.5,1.25,1.0333333333333334,1.3333333333333333,0.8666666666666667,1.4,1.3166666666666667,0.8583333333333334,1.1833333333333333,1.5833333333333333,1.0666666666666667,0.6,1.25,1.1166666666666667,1.25,1.475,1.2833333333333332,1.6916666666666667,1.85,0.9666666666666667,1.1749999999999998,1.8333333333333333,0.9916666666666667,1.6166666666666667,1.4166666666666667,1.25,1.2,2.1333333333333333,1.65,1.5666666666666667,1.4166666666666667,0.8166666666666667,1.3916666666666666,1.8833333333333333,1.3833333333333333,1.5,2.091666666666667,1.0666666666666667,1.3333333333333333,1.7666666666666666,2.1666666666666665,1.0083333333333333,1.5666666666666667,1.5,0.8666666666666667,1.6,2.2333333333333334,1.475,1.15,1.2,1.125,1.4333333333333333,1.5666666666666667,1.0166666666666666,1.3833333333333333,0.9666666666666667,0.95,1.5333333333333334,0.9833333333333333,1.1166666666666667,1.3666666666666667,2.55,1.5666666666666667,1.6,1.1833333333333333,1.1916666666666667,1.3666666666666667,0.9333333333333333,2.325,1.0,1.9166666666666667,1.5499999999999998,0.4916666666666667,1.6833333333333333,1.8,1.2083333333333333,1.3416666666666668,1.1833333333333333,1.625,1.8166666666666667,1.6333333333333333,1.2,2.2,1.4166666666666667,1.25,1.35,1.1583333333333332,1.3250000000000002,0.9583333333333333,1.625,1.0166666666666666,1.0833333333333333,0.95,1.4166666666666665,1.1333333333333333,0.6833333333333333,1.45,1.4166666666666667,1.0666666666666667,0.8666666666666667,1.3,1.2166666666666666,2.0166666666666666,2.316666666666667,2.066666666666667,1.2666666666666666,1.7999999999999998,0.8666666666666667,0.6833333333333333,1.5666666666666667,1.3666666666666667,1.775,1.4083333333333332,1.1666666666666667,1.8666666666666667,1.35,1.375,1.8,0.9083333333333333,1.05,1.4333333333333333,1.65,1.7916666666666665,1.4666666666666666,1.2,1.2333333333333334,1.4333333333333333,1.3416666666666668,1.0333333333333334,1.3583333333333334,1.1,1.4833333333333334,1.0666666666666667,1.1833333333333333,1.525,1.3916666666666666,1.2916666666666667,0.8166666666666667,1.5916666666666668,1.4666666666666666,1.2833333333333332,1.4333333333333333,1.35,0.9666666666666667,0.75,2.2,1.0916666666666668,1.9833333333333334,0.9166666666666666,1.3250000000000002,1.0333333333333334,1.4333333333333331,0.7666666666666667,1.0916666666666668,1.3833333333333333,1.475,1.6333333333333333,1.4166666666666667,0.7,1.45,1.6,1.4083333333333332,1.9,1.7666666666666666,1.3250000000000002,2.183333333333333,0.9666666666666667,1.3166666666666667,1.6333333333333333,1.6583333333333332,1.5666666666666667,0.6333333333333333,0.9583333333333333,0.9833333333333333,1.425,1.5416666666666667,0.75,1.7999999999999998,1.2833333333333332,1.2916666666666667,1.5,0.9666666666666667,1.0666666666666667,1.5333333333333334,1.1166666666666667,0.725,2.3166666666666664,0.9333333333333333,0.9666666666666667,1.0583333333333333,1.3916666666666666,1.4416666666666667,1.2666666666666666,1.2333333333333334,1.5416666666666667,0.7250000000000001,1.2,2.0166666666666666,1.4,1.75,1.4666666666666666,1.75,1.3333333333333333,0.9666666666666667,1.4333333333333333,1.4666666666666666,1.75,1.5666666666666667,1.475,1.0,1.6333333333333333,0.8,1.8666666666666667,1.2166666666666666,0.95,0.575,1.0166666666666666,1.2916666666666667,1.7,1.05,1.1333333333333333,1.2,1.5333333333333332,1.7333333333333334,1.225,1.5083333333333333,1.0333333333333334,1.35,0.8333333333333334,1.2833333333333334,1.6916666666666667,1.3666666666666667,1.6583333333333334,0.9333333333333333,1.7333333333333334,1.2166666666666666,1.275,1.825,0.9666666666666667,1.15,1.3333333333333333,1.8166666666666667,0.8500000000000001,1.5083333333333333,1.1166666666666667,1.3333333333333333,1.6666666666666667,0.8333333333333334,1.65,0.9583333333333333,1.5833333333333333,0.3916666666666667,0.95,1.7833333333333334,1.4166666666666667,1.5833333333333333,1.2333333333333334,2.3333333333333335,1.5333333333333334,1.1,0.975,0.8916666666666666,0.9,1.2083333333333333,1.1333333333333333,1.5666666666666667,0.9333333333333333,2.6166666666666667,1.2166666666666666,1.0333333333333334,0.75,0.75,0.6916666666666667,1.1166666666666667,2.3333333333333335,0.8166666666666667,1.3,1.5666666666666667,0.7250000000000001,1.6333333333333333,1.85,0.9666666666666667,1.125,1.8333333333333333,1.2666666666666666,1.4166666666666667,1.3,1.3416666666666668,1.05,0.95,0.55,1.3833333333333333,1.375,1.7333333333333334,1.65,1.3333333333333335,1.2916666666666667,1.0083333333333333,1.35,2.0083333333333333,0.575,1.5416666666666667,1.3583333333333334,1.275,1.4333333333333333,0.7166666666666667,1.65,1.6666666666666667,0.9666666666666667,0.8166666666666667,1.3916666666666666,1.5499999999999998,0.9583333333333334,0.9416666666666667,2.025,1.35,1.5,1.4333333333333333,0.95,1.3333333333333333,1.2666666666666666,0.8833333333333333,1.8333333333333333,1.3416666666666668,1.6833333333333331,1.2333333333333334,1.0333333333333334,1.1083333333333334,1.3833333333333333,1.0166666666666666,1.4,1.45,1.4333333333333333,1.0333333333333334,1.1,0.9,1.2166666666666668,1.1833333333333333,1.15,1.8166666666666667,1.3333333333333333,1.35,1.3333333333333335,1.2833333333333334,1.65,1.6833333333333333,1.5666666666666667,1.3666666666666667,1.5833333333333333,1.2333333333333334,1.3833333333333333,1.7333333333333334,1.4833333333333334,1.5833333333333335,1.0166666666666666,0.825,1.2666666666666666,1.3833333333333333,1.625,1.05,0.55,0.45,1.7,1.0333333333333334,1.225,1.3333333333333335,1.175,0.9,1.2666666666666666,1.0666666666666667,1.0,1.2333333333333334,1.3583333333333334,1.6166666666666667,1.4666666666666666,1.3583333333333334,1.5333333333333334,1.4,1.1,1.1666666666666665,1.3666666666666667,1.2166666666666666,1.8333333333333333,2.216666666666667,1.05,0.5333333333333333,1.4333333333333333,1.2833333333333334,1.5,1.5,0.9166666666666666,1.3666666666666667,1.3833333333333333,1.4,1.9249999999999998,1.1166666666666667,1.5,0.9166666666666666,1.1,1.475,1.325,0.7666666666666667,1.4333333333333333,1.2666666666666666,1.25,2.1166666666666667,1.8833333333333333,1.2333333333333334,0.9583333333333334,1.2333333333333334,1.05,1.2,1.8833333333333333,2.1666666666666665,1.2333333333333334,1.3,1.9833333333333334,2.1416666666666666,1.3083333333333333,1.6583333333333332,1.2416666666666667,0.75,0.9833333333333333,1.2166666666666666,1.3666666666666667,1.2416666666666667,1.1,0.9666666666666667,0.95,0.9583333333333334,2.1916666666666664,0.9833333333333333,1.8833333333333333,1.4333333333333333,1.675,0.7166666666666667,0.8333333333333334,1.2916666666666665,1.0833333333333333,0.925,1.4666666666666666,1.525,1.2833333333333334,1.4833333333333334,1.1,1.1666666666666667,1.4583333333333333,1.2333333333333334,1.1833333333333333,1.6666666666666667,1.0333333333333334,1.7416666666666667,1.5916666666666668,1.5833333333333333,1.3666666666666667,1.2166666666666666,0.7083333333333333,1.6833333333333333,2.0833333333333335,1.4166666666666667,1.2166666666666666,1.3833333333333333,1.0333333333333334,1.5833333333333333,1.3416666666666668,1.4333333333333333,1.0333333333333334,1.0416666666666665,1.025,0.875,1.5166666666666666,1.55,0.9,0.7083333333333333,0.7666666666666667,1.0833333333333333,3.4833333333333334,1.3583333333333334,1.575,1.0333333333333334,1.4666666666666666,1.2,1.45,0.95,1.4333333333333333,1.8916666666666666,1.7666666666666666,1.2583333333333333,1.1666666666666667,1.5666666666666667,1.6833333333333333,1.05,1.2,1.0833333333333335,1.5416666666666665,0.675,2.1,1.275,1.0916666666666668,1.0166666666666666,1.1833333333333333,1.6166666666666667,1.4083333333333332,1.4583333333333333,0.9083333333333333,1.3833333333333333,2.0666666666666664,1.75,1.225,0.8916666666666666,1.6333333333333333,0.9166666666666666,0.8166666666666667,1.4583333333333333,1.35,1.05,1.325,1.775,0.8583333333333334,1.3083333333333333,1.3333333333333335,2.95,1.3083333333333333,0.6833333333333333,1.15,1.2833333333333334,1.1916666666666667,2.2083333333333335,1.4166666666666667,0.8333333333333334,0.75,1.2666666666666666,1.4666666666666668,1.6833333333333333,1.9,0.75,1.5083333333333333,1.4583333333333333,0.975,0.925,1.0666666666666667,1.6583333333333332,1.3,1.3166666666666667,1.5750000000000002,0.8333333333333334,0.8666666666666667,0.7583333333333333,0.725,1.45,1.7333333333333334,2.7,0.95,0.8333333333333334,1.7,1.3083333333333333,1.875,0.95,0.75,0.8,1.2,0.875,1.625,0.8166666666666667,0.6666666666666666,1.4666666666666668,0.5833333333333334,1.3166666666666667,1.3083333333333333,1.3,1.2,1.3833333333333333,1.05,1.0666666666666667,1.2,0.95,0.75,1.2166666666666668,1.5166666666666666,1.6666666666666665,1.1583333333333332,1.0,1.2833333333333332,0.6333333333333333,1.2666666666666666,0.7666666666666667,1.6,1.15,0.975,1.3166666666666667,1.4166666666666665,1.55,1.3166666666666667,1.2833333333333332,0.975,1.4666666666666666,1.1,0.9833333333333334,1.2666666666666666,1.3666666666666667,1.4833333333333334,1.25,1.5166666666666666,1.3333333333333333,2.283333333333333,1.5166666666666666,1.0166666666666666,1.0666666666666667,1.1083333333333334,1.5666666666666667,1.6166666666666667,0.7666666666666667,1.3333333333333333,0.75,1.2083333333333333,1.2333333333333334,1.1333333333333333,0.6333333333333333,1.525,1.0166666666666666,0.9166666666666666,1.4666666666666666,1.15,0.9833333333333333,2.333333333333333,1.4083333333333332,1.4833333333333334,0.9166666666666666,1.4083333333333334,1.1916666666666667,2.4166666666666665,1.5416666666666667,1.8416666666666668,1.4166666666666667,1.55,1.75,1.275,0.7333333333333333,1.6833333333333333,1.4,1.45,1.2083333333333333,1.8833333333333333,0.9666666666666667,0.8333333333333334,1.2416666666666667,1.575,0.95,0.8833333333333333,0.6833333333333333,1.1416666666666666,1.1166666666666667,1.0166666666666666,1.1666666666666667,1.0,1.6833333333333331,0.7833333333333333,1.3,1.4166666666666667,1.2,0.9666666666666667,1.8666666666666667,1.2583333333333333,0.7333333333333334,1.9666666666666666,1.2666666666666666,1.2583333333333333,1.45,1.2666666666666666,1.5333333333333334,1.2833333333333332,1.5833333333333335,1.4,1.4166666666666665,1.8833333333333333,0.7833333333333333,1.5833333333333333,1.3333333333333333,0.8916666666666666,1.05,0.9166666666666666,1.1333333333333333,0.9666666666666667,1.4,1.4583333333333333,1.6333333333333333,1.4,0.8,1.4833333333333334,1.0333333333333332,0.8999999999999999,0.9166666666666666,1.3166666666666667,1.0583333333333333,0.7749999999999999,1.2666666666666666,1.2333333333333334,0.48333333333333334,1.2333333333333334,1.3833333333333333,1.4,1.1416666666666666,2.0,1.5083333333333333,0.9166666666666666,1.2666666666666666,1.1833333333333333,1.225,1.8499999999999999,0.7416666666666667,1.15,2.65,1.6333333333333333,1.0666666666666667,1.4916666666666667,1.75,0.95,0.8583333333333334,2.716666666666667,1.2833333333333332,1.8,1.35,1.4833333333333334,1.0,1.05,1.3333333333333333,1.1666666666666667,0.8833333333333333,1.3166666666666667,1.0833333333333333,0.7833333333333333,1.45,1.1666666666666667,0.7666666666666667,1.3833333333333333,1.3833333333333333,1.2666666666666666,0.9416666666666667,1.2833333333333332,0.5166666666666667,0.9666666666666666,1.475,1.4666666666666666,1.6416666666666666,1.4083333333333332,1.275,1.1666666666666667,1.3833333333333333,1.05,1.0166666666666666,1.7166666666666666,1.4166666666666667,0.8666666666666667,1.3666666666666667,0.7416666666666667,1.4,0.9083333333333333,1.4166666666666667,0.9,2.3833333333333333,0.7416666666666667,1.3,1.2,1.85,0.8,1.0666666666666667,2.2083333333333335,1.6,1.5083333333333333,1.2833333333333334,2.1166666666666667,1.3166666666666667,1.3333333333333333,1.3250000000000002,1.1,1.5166666666666666,0.575,1.4916666666666667,1.1,1.5166666666666666,1.4333333333333333,1.05,1.225,0.9833333333333333,0.8833333333333333,0.9583333333333333,1.35,1.0666666666666667,1.8333333333333333,0.75,1.1416666666666666,2.033333333333333,1.9166666666666665,0.85,1.3166666666666667,0.9666666666666667,1.1833333333333333,2.4166666666666665,0.8833333333333333,1.2833333333333332,1.3,1.3333333333333335,0.9666666666666666,1.1083333333333334,1.7333333333333334,1.1749999999999998,1.2,1.1916666666666667,0.9166666666666666,1.1166666666666667,1.8166666666666667,1.9333333333333333,1.3833333333333333,1.8166666666666667,1.4416666666666667,2.45,1.8833333333333333,1.6666666666666667,1.5166666666666666,1.2083333333333333,0.75,1.0166666666666666,1.2833333333333334,1.3,1.1166666666666667,0.7166666666666667,1.1083333333333334,1.6666666666666667,2.0166666666666666,1.4666666666666666,0.7416666666666667,1.2666666666666666,1.75,1.2333333333333334,1.8166666666666667,1.5166666666666666,1.3583333333333334,1.35,1.3083333333333333,1.5666666666666667,1.6166666666666667,1.1666666666666667,1.3916666666666666,0.9666666666666667,1.4833333333333334,1.4166666666666667,1.0333333333333334,1.3,1.3166666666666667,1.125,1.0750000000000002,1.1833333333333333,0.65,1.225,1.85,1.5916666666666668,1.7083333333333333,1.0666666666666667,1.3,1.1749999999999998,2.45,1.5666666666666667,1.4916666666666667,1.05,1.7666666666666666,1.05,1.2166666666666666,0.9666666666666667,1.2666666666666666,1.2666666666666666,1.0333333333333334,0.7833333333333333,1.4333333333333333,0.6833333333333333,0.7,1.1,1.85,2.3,0.7583333333333333,0.9916666666666667,0.9833333333333333,0.9166666666666666,1.9333333333333333,1.25,1.2333333333333334,1.2416666666666667,1.1333333333333333,1.4166666666666667,0.85,1.0,1.6333333333333333,0.95,1.4,1.5,1.35,1.3583333333333334,1.7333333333333334,1.3333333333333333,1.1166666666666667,1.0166666666666666,1.3833333333333333,1.4833333333333334,1.025,1.4583333333333333,1.3166666666666667,1.5,1.7666666666666666,1.1749999999999998,1.7916666666666667,1.5166666666666666,1.0333333333333332,1.45,1.2666666666666666,1.0,1.8166666666666667,0.7,0.7333333333333334,1.3333333333333333,1.25,1.5333333333333334,1.55,1.2333333333333334,1.3416666666666668,0.9833333333333333,1.45,0.8166666666666667,0.9,1.6833333333333333,1.175,0.8333333333333334,1.725,1.4333333333333333,1.0416666666666667,1.275,1.35,1.6749999999999998,1.3666666666666667,1.3,1.0166666666666666,0.975,1.3416666666666668,0.9666666666666667,2.05,0.8666666666666667,2.216666666666667,1.8666666666666667,1.6166666666666667,1.1,1.3333333333333333,1.2666666666666666,1.0833333333333333,1.7,1.3916666666666666,2.683333333333333,0.95,0.75,1.0916666666666668,0.5916666666666667,0.9833333333333333,1.1916666666666667,1.975,1.8333333333333333,1.5,1.35,1.5750000000000002,0.8833333333333333,1.25,1.625,1.0333333333333334,1.4416666666666667,0.8333333333333334,1.2083333333333333,1.15,0.95,1.65,1.3583333333333334,1.55,1.1,2.1,1.2833333333333334,0.7833333333333334,0.7083333333333333,1.6833333333333333,0.9166666666666666,1.0416666666666667,1.2666666666666666,1.3666666666666667,1.3,1.3,1.7333333333333334,0.7666666666666666,1.0333333333333334,1.3,1.1833333333333333,0.95,2.2,1.375,1.9,1.35,1.15,1.9333333333333331,1.3666666666666667,1.95,1.4666666666666666,1.3,1.9333333333333333,1.7666666666666666,1.0833333333333333,0.875,1.3166666666666667,1.3833333333333333,1.4,1.0666666666666667,1.25,2.1666666666666665,0.925,0.7666666666666667,0.6666666666666666,0.8833333333333333,1.4916666666666667,1.7416666666666667,1.0416666666666667,0.8583333333333334,0.9,1.6,1.0666666666666667,1.3083333333333333,0.8166666666666667,1.675,0.9333333333333333,0.8333333333333334,1.4,0.7833333333333334,0.9083333333333333,1.3083333333333333,1.1666666666666667,1.5,1.4249999999999998,0.825,0.7166666666666667,1.5,0.9416666666666667,1.5,1.3333333333333333,1.7666666666666666,1.275,1.6333333333333333,1.125,1.35,1.25,1.6,1.5,0.75,1.1,0.975,1.0166666666666666,1.9416666666666667,1.875,1.3916666666666666,1.025,2.283333333333333,1.5166666666666666,1.4083333333333332,1.4083333333333332,0.75,1.375,0.9166666666666666,1.0333333333333334,1.3833333333333333,1.0833333333333335,1.1,0.925,1.3666666666666667,1.3166666666666667,1.2166666666666666,1.25,1.55,1.425,1.525,1.4333333333333333,1.5,1.5,2.075,1.4583333333333333,1.55,1.5,1.6333333333333333,1.3333333333333333,1.5833333333333333,0.9,1.4083333333333332,1.2833333333333334,1.85,1.5333333333333334,1.3333333333333333,0.9083333333333333,1.275,1.6333333333333333,1.9333333333333333,1.5583333333333333,0.8333333333333334,1.2666666666666666,1.6,0.95,2.05,1.2833333333333334,0.9166666666666666,1.3666666666666667,1.3166666666666667,0.875,1.375,0.9500000000000001,1.5333333333333334,1.3333333333333333,1.25,1.6166666666666667,0.7166666666666667,1.2333333333333334,1.0833333333333333,1.275,1.0666666666666667,1.5,1.6,1.5916666666666668,0.8833333333333333,1.025,1.4166666666666667,1.5,1.9333333333333333,0.875,1.7166666666666666,1.4666666666666668,1.3833333333333333,1.6166666666666667,2.158333333333333,1.6166666666666667,2.533333333333333,0.9666666666666666,1.8833333333333333,0.85,1.7833333333333334,1.5666666666666667,1.1666666666666667,1.375,1.8666666666666667,0.7333333333333334,1.1833333333333333,1.1666666666666667,1.0166666666666666,0.8833333333333333,0.9583333333333333,1.525,1.5166666666666666,0.6666666666666666,1.45,1.6833333333333333,0.8,1.15,1.1333333333333333,0.825,2.033333333333333,1.35,1.3833333333333333,2.025,0.8416666666666667,1.2916666666666667,0.8833333333333333,1.2166666666666666,0.9333333333333333,1.3916666666666666,1.875,0.8833333333333333,2.283333333333333,1.5833333333333333,1.025,1.2833333333333332,1.15,1.2666666666666666,0.7666666666666667,1.3166666666666667,1.2583333333333333,1.25,1.7166666666666668,1.6166666666666667,1.0833333333333333,1.3916666666666666,0.7583333333333333,0.9916666666666667,1.9083333333333334,0.8916666666666666,1.45,1.1333333333333333,0.8,1.4500000000000002,1.3,1.9916666666666667,1.6333333333333333,1.4333333333333333,1.6916666666666667,1.6833333333333333,1.1166666666666667,0.9583333333333334,1.275,1.1,1.6833333333333333,1.3083333333333333,1.3166666666666667,1.0833333333333333,1.15,1.55,1.2166666666666666,1.05,1.4,1.4500000000000002,1.4500000000000002,1.7333333333333334,0.65,1.225,1.0833333333333333,1.65,1.2916666666666667,0.8416666666666667,1.1583333333333332,1.6833333333333333,1.425,1.2166666666666668,0.9166666666666666,1.525,0.7666666666666667,1.3166666666666667,1.4249999999999998,1.2,1.0666666666666667,1.3666666666666667,0.8,1.1333333333333333,1.7166666666666666,1.5416666666666667,1.5833333333333335,2.041666666666667,1.5,1.45,1.75,1.0666666666666669,0.875,1.2166666666666668,1.4166666666666667,1.6833333333333333,1.3833333333333333,1.2083333333333335,1.3333333333333333,1.4,1.7416666666666667,1.2916666666666667,1.05,0.9416666666666667,1.6833333333333333,1.625,1.5,2.0,1.3333333333333333,0.8,1.35,1.5083333333333333,0.9166666666666666,1.3833333333333333,0.6166666666666667,0.8166666666666667,0.8333333333333334,1.5916666666666668,0.925,1.65,1.2166666666666666,1.4833333333333334,0.7833333333333333,1.95,1.1833333333333333,1.425,1.3666666666666667,1.3166666666666669,1.0,1.3666666666666667,1.2833333333333334,1.2166666666666666,1.15,0.95,0.8,1.0166666666666666,1.5166666666666666,1.7333333333333334,1.2083333333333335,1.35,1.9833333333333334,1.4666666666666666,1.9833333333333334,1.25,1.1166666666666667,1.1333333333333333,1.4916666666666667,1.5833333333333333,0.8500000000000001,1.4666666666666666,1.5,1.2583333333333333,0.8666666666666667,1.05,1.5166666666666666,1.0666666666666667,0.9833333333333333,1.25,0.6666666666666666,1.3916666666666666,1.9666666666666666,1.275,0.8833333333333333,1.3,1.3,1.2333333333333334,1.3166666666666667,1.5833333333333335,1.3,1.4833333333333334,1.4333333333333333,0.95,1.1166666666666667,0.95,0.8666666666666667,67.70833333333333,0.8333333333333334,1.0166666666666666,1.225,1.2333333333333334,0.8833333333333333,0.7416666666666667,1.4333333333333333,1.3083333333333333,0.8833333333333333,1.5833333333333333,1.25,1.2916666666666667,1.5666666666666667,1.5166666666666666,1.0583333333333333,1.6,0.7333333333333333,1.7333333333333334,0.8166666666666667,1.15,1.6333333333333333,2.3666666666666667,1.2583333333333333,2.0,1.0833333333333333,0.9166666666666666,3.15,1.3166666666666667,1.2666666666666666,1.6916666666666667,0.9833333333333333,1.35,1.8916666666666666,0.9166666666666666,0.625,0.7166666666666667,1.2,1.2166666666666668,1.25,1.3333333333333333,0.9666666666666666,1.1666666666666667,1.2916666666666667,1.1166666666666667,1.0166666666666666,1.2666666666666666,0.85,1.85,1.1166666666666667,1.8,1.8833333333333333,1.5166666666666666,1.4833333333333334,0.9333333333333333,1.2666666666666666,1.1,1.6666666666666667,1.275,0.9583333333333333,1.6,1.35,1.025,1.7833333333333334,1.1166666666666667,0.9666666666666667,1.8833333333333333,1.6916666666666667,1.85,1.5166666666666666,0.8833333333333333,1.1833333333333333,1.0166666666666666,1.6083333333333334,1.0333333333333334,1.3666666666666667,1.1916666666666667,1.2833333333333334,1.1666666666666667,1.1166666666666667,0.8500000000000001,1.1333333333333333,1.0833333333333333,0.9583333333333333,2.05,1.2333333333333334,1.525,1.2333333333333334,0.95,1.4166666666666667,1.6333333333333333,0.95,1.375,1.25,1.15,0.9083333333333334,0.6833333333333333,1.1666666666666665,3.9,2.1166666666666667,2.05,1.1083333333333334,1.4,0.7,1.0333333333333334,1.3666666666666667,1.5666666666666667,1.1166666666666667,1.0833333333333333,1.0333333333333334,1.7,1.5166666666666666,1.1,1.7416666666666667,1.3416666666666668,1.2833333333333334,0.95,1.6833333333333333,0.8333333333333334,1.275,1.45,1.5,1.0333333333333334,1.7833333333333334,0.7666666666666667,1.6583333333333332,1.5166666666666666,0.8,1.225,2.1666666666666665,1.1333333333333333,0.9166666666666666,1.3166666666666667,1.7416666666666667,2.025,1.2,1.6666666666666665,1.475,1.2833333333333334,1.375,1.4166666666666667,1.4666666666666666,1.35,1.1,1.3333333333333333,1.25,3.55,1.45,1.5583333333333333,1.6333333333333333,1.4416666666666667,1.0,0.8833333333333333,1.7333333333333334,3.466666666666667,0.9416666666666667,1.05,1.4833333333333334,0.8083333333333333,1.35,1.2,1.1833333333333333,0.7,1.2166666666666666,1.1166666666666667,1.4333333333333333,0.925,0.725,1.1666666666666667,1.5666666666666667,1.3083333333333333,1.0083333333333333,1.4333333333333333,0.8166666666666667,1.45,1.85,1.5666666666666667,1.3333333333333333,1.9333333333333333,1.7166666666666666,0.8583333333333334,1.5666666666666667,1.3333333333333333,1.4833333333333334,1.3333333333333333,1.2166666666666666,0.7833333333333333,1.1333333333333333,2.0166666666666666,1.475,1.1333333333333333,1.0833333333333333,0.95,1.95,1.3583333333333334,1.5666666666666667,0.8166666666666667,1.1666666666666665,1.3333333333333333,1.05,0.675,1.1166666666666667,1.45,1.5,1.4583333333333333,1.125,0.9666666666666667,1.4166666666666667,0.8666666666666667,1.5750000000000002,1.5833333333333333,1.2333333333333334,1.2416666666666667,1.6166666666666667,1.4833333333333334,1.3166666666666667,1.75,0.9166666666666667,1.8166666666666667,0.95,1.6749999999999998,1.0666666666666667,1.025,1.1833333333333333,1.5916666666666668,1.2666666666666666,1.5166666666666666,0.9,0.85,2.0,1.9833333333333334,2.3666666666666667,1.0750000000000002,1.05,0.9166666666666666,1.2833333333333334,1.2166666666666666,1.075,1.2833333333333334,1.7166666666666666,1.7333333333333334,0.5833333333333334,1.3666666666666667,0.9333333333333333,1.0333333333333334,0.9166666666666667,1.6833333333333333,1.3166666666666667,1.7166666666666666,1.0750000000000002,1.0166666666666666,1.5666666666666667,0.9166666666666667,1.5833333333333333,1.2833333333333332,1.4,1.5,1.1083333333333334,2.4833333333333334,2.2666666666666666,0.675,1.575,1.1666666666666665,1.6,1.5166666666666666,1.0333333333333334,0.95,1.75,1.1666666666666667,1.475,1.45,1.6833333333333333,1.2083333333333333,1.4166666666666667,1.6,1.0666666666666667,1.625,1.2833333333333334,1.0166666666666666,1.35,0.8416666666666667,1.2833333333333334,1.4083333333333332,1.4916666666666667,1.1666666666666667,1.0666666666666667,1.4333333333333333,0.9416666666666667,1.1333333333333333,1.2666666666666666,1.2916666666666665,1.2916666666666665,1.825,1.3166666666666667,1.45,1.275,1.6333333333333333,2.683333333333333,1.3,0.9666666666666667,1.475,0.8666666666666667,1.4083333333333332,1.7,1.8833333333333333,0.9583333333333333,1.1166666666666667,1.5333333333333334,1.4333333333333333,1.0333333333333334,1.3833333333333333,1.4583333333333335,1.1333333333333333,1.7999999999999998,1.4,1.6166666666666667,2.1333333333333333,1.2833333333333334,1.0666666666666667,1.9083333333333332,1.1583333333333332,1.0333333333333334,0.7166666666666667,1.7333333333333334,1.1,0.8833333333333333,1.4666666666666666,1.2833333333333334,1.25,0.9,0.625,1.7,1.1666666666666667,1.4833333333333334,0.9833333333333333,1.0666666666666667,1.375,1.5333333333333332,1.3333333333333333,1.6333333333333333,0.9166666666666667,1.3166666666666667,1.2833333333333334,1.15,1.3,1.0333333333333334,0.8500000000000001,1.2333333333333334,1.5,2.033333333333333,1.3916666666666666,1.2166666666666668,1.3833333333333333,1.7416666666666667,1.45,1.4833333333333334,2.2,1.2333333333333334,1.775,0.7666666666666667,1.5666666666666667,1.4083333333333332,1.6166666666666667,1.1333333333333333,4.7,1.6666666666666667,1.0083333333333333,0.9083333333333333,1.1749999999999998,0.7333333333333333,1.2083333333333333,1.7666666666666666,1.5666666666666667,1.3,1.6,0.9833333333333333,1.75,1.1,1.8,1.4583333333333333,1.1,1.1,1.6,1.0916666666666668,0.8666666666666667,1.1166666666666667,0.7666666666666667,1.3583333333333334,0.75,1.7833333333333334,1.05,1.0416666666666667,1.8,1.15,1.9,1.9,0.7666666666666667,1.1833333333333333,1.3333333333333333,1.15,1.1166666666666667,1.2333333333333334,1.9166666666666667,1.3166666666666667,1.275,1.5666666666666667,1.5833333333333333,1.4666666666666666,1.35,1.3833333333333333,0.8666666666666667,1.0666666666666667,1.5166666666666666,1.4166666666666667,1.2416666666666667,1.125,0.8,1.2666666666666666,1.7333333333333334,0.7083333333333333,0.8999999999999999,1.2,0.9166666666666666,1.3666666666666667,1.3416666666666668,1.4833333333333334,2.033333333333333,1.9333333333333333,1.025,0.5,1.15,1.4833333333333334,0.8166666666666667,1.1666666666666667,0.6166666666666667,0.9666666666666667,1.2583333333333333,1.025,1.4166666666666667,1.4833333333333334,1.2416666666666667,2.466666666666667,1.2666666666666666,1.3,0.8583333333333334,0.9916666666666667,1.5166666666666666,1.5333333333333334,0.9333333333333333,0.8166666666666667,1.1666666666666667,1.0916666666666668,1.2583333333333333,1.4166666666666667,1.2416666666666667,1.25,1.1666666666666667,1.35,1.2833333333333334,1.1666666666666667,1.1166666666666667,1.6666666666666667,1.4916666666666667,1.7833333333333332,0.7833333333333333,1.4666666666666666,1.0666666666666667,0.75,0.8999999999999999,1.1166666666666667,1.2,1.85,1.4833333333333334,1.1166666666666667,1.3,1.3,0.7833333333333333,1.0166666666666666,1.4333333333333333,1.95,1.5333333333333334,2.433333333333333,1.0833333333333335,1.7000000000000002,1.2916666666666667,1.0833333333333333,1.2583333333333333,1.1833333333333333,1.5,1.1166666666666667,0.975,0.8416666666666667,1.6333333333333333,1.2166666666666668,0.6833333333333333,0.8833333333333333,1.4666666666666668,0.0,1.0166666666666666,1.3416666666666668,1.05,1.5583333333333331,1.25,1.7333333333333334,1.2833333333333334,1.4833333333333334,1.9666666666666668,1.9083333333333332,1.3,2.1166666666666667,1.725,1.05,2.4166666666666665,1.475,1.7,1.0,1179.8666666666666,1.4166666666666667,0.65,1.5833333333333333,1.3416666666666668,1.4583333333333333,1.3,1.7166666666666668,1.2666666666666666,1.3583333333333334,4.6499999999999995,1.0916666666666668,1.7416666666666667,1.4666666666666668,1.0166666666666666,1.1166666666666667,1.0833333333333333,1.3,1.0,1.2083333333333333,1.475,1.4,1.3,1.3166666666666667,1.9666666666666666,1.7666666666666666,2.0833333333333335,1.6,1.0166666666666666,1.35,1.0083333333333333,1.1166666666666667,1.3333333333333333,1.1666666666666665,1.2,1.025,0.8833333333333333,1.1833333333333333,1.6916666666666667,1.4333333333333333,1.15,2.1333333333333333,2.1,1.8416666666666668,1.2666666666666666,1.75,1.4833333333333334,1.1333333333333333,1.3166666666666667,1.3,1.325,1.55,1.7,1.0666666666666667,1.3666666666666667,0.8833333333333333,2.3,1.3,1.0,1.5833333333333335,1.15,1.3666666666666667,1.075,1.4916666666666667,1.6666666666666667,1.2416666666666667,1.5666666666666669,2.1333333333333333,1.35,0.8833333333333333,1.5833333333333333,1.8416666666666668,0.8083333333333333,3.1,0.975,1.225,1.375,1.5,1.375,1.0499999999999998,1.25,1.4166666666666667,1.1416666666666666,0.95,1.8333333333333335,1.4333333333333333,1.3583333333333334,1.3333333333333333,1.2416666666666667,0.9833333333333334,0.8666666666666667,1.6,1.7166666666666666,1.5166666666666666,0.9666666666666667,1.675,1.4833333333333334,0.9333333333333333,1.3166666666666667,1.7333333333333334,1.6083333333333334,1.2333333333333334,1.45,1.5666666666666667,1.8833333333333333,1.3666666666666667,1.0166666666666666,1.2333333333333334,0.8583333333333333,1.3666666666666667,1.2166666666666666,1.4,1.0083333333333333,1.7,1.0583333333333333,0.75,464.5333333333333,1.5666666666666667,1.1833333333333333,1.5,1.2,1.6666666666666667,1.1666666666666667,1.3833333333333333,1.4166666666666667,1.7333333333333334,1.8416666666666668,1.6666666666666665,1.9833333333333334,1.3083333333333333,1.2333333333333334,1.1833333333333331,1.7166666666666666,0.8166666666666667,1.375,1.1916666666666667,1.3333333333333333,2.4,1.1,1.3333333333333333,1.3916666666666666,1.45,1.6,0.43333333333333335,1.3666666666666667,1.2,0.5,1.45,1.3333333333333333,1.1666666666666667,1.3833333333333333,0.8666666666666667,2.15,2.0166666666666666,1.3916666666666666,1.2833333333333334,1.3666666666666667,1.8666666666666667,1.725,0.9083333333333333,0.8,0.925,1.075,1.6,1.8333333333333333,1.3166666666666667,1.15,1.55,1.1583333333333334,1.35,1.5333333333333332,1.1666666666666665,0.8333333333333334,2.066666666666667,0.925,0.8083333333333333,1.6833333333333333,0.6666666666666666,0.9833333333333333,1.6833333333333331,0.8666666666666667,1.225,0.7166666666666667,0.8333333333333334,1.0833333333333333],\"y0\":\" \",\"yaxis\":\"y\"}],                        {\"boxmode\":\"group\",\"legend\":{\"tracegroupgap\":0},\"margin\":{\"t\":60},\"template\":{\"data\":{\"bar\":[{\"error_x\":{\"color\":\"#2a3f5f\"},\"error_y\":{\"color\":\"#2a3f5f\"},\"marker\":{\"line\":{\"color\":\"#E5ECF6\",\"width\":0.5},\"pattern\":{\"fillmode\":\"overlay\",\"size\":10,\"solidity\":0.2}},\"type\":\"bar\"}],\"barpolar\":[{\"marker\":{\"line\":{\"color\":\"#E5ECF6\",\"width\":0.5},\"pattern\":{\"fillmode\":\"overlay\",\"size\":10,\"solidity\":0.2}},\"type\":\"barpolar\"}],\"carpet\":[{\"aaxis\":{\"endlinecolor\":\"#2a3f5f\",\"gridcolor\":\"white\",\"linecolor\":\"white\",\"minorgridcolor\":\"white\",\"startlinecolor\":\"#2a3f5f\"},\"baxis\":{\"endlinecolor\":\"#2a3f5f\",\"gridcolor\":\"white\",\"linecolor\":\"white\",\"minorgridcolor\":\"white\",\"startlinecolor\":\"#2a3f5f\"},\"type\":\"carpet\"}],\"choropleth\":[{\"colorbar\":{\"outlinewidth\":0,\"ticks\":\"\"},\"type\":\"choropleth\"}],\"contour\":[{\"colorbar\":{\"outlinewidth\":0,\"ticks\":\"\"},\"colorscale\":[[0.0,\"#0d0887\"],[0.1111111111111111,\"#46039f\"],[0.2222222222222222,\"#7201a8\"],[0.3333333333333333,\"#9c179e\"],[0.4444444444444444,\"#bd3786\"],[0.5555555555555556,\"#d8576b\"],[0.6666666666666666,\"#ed7953\"],[0.7777777777777778,\"#fb9f3a\"],[0.8888888888888888,\"#fdca26\"],[1.0,\"#f0f921\"]],\"type\":\"contour\"}],\"contourcarpet\":[{\"colorbar\":{\"outlinewidth\":0,\"ticks\":\"\"},\"type\":\"contourcarpet\"}],\"heatmap\":[{\"colorbar\":{\"outlinewidth\":0,\"ticks\":\"\"},\"colorscale\":[[0.0,\"#0d0887\"],[0.1111111111111111,\"#46039f\"],[0.2222222222222222,\"#7201a8\"],[0.3333333333333333,\"#9c179e\"],[0.4444444444444444,\"#bd3786\"],[0.5555555555555556,\"#d8576b\"],[0.6666666666666666,\"#ed7953\"],[0.7777777777777778,\"#fb9f3a\"],[0.8888888888888888,\"#fdca26\"],[1.0,\"#f0f921\"]],\"type\":\"heatmap\"}],\"heatmapgl\":[{\"colorbar\":{\"outlinewidth\":0,\"ticks\":\"\"},\"colorscale\":[[0.0,\"#0d0887\"],[0.1111111111111111,\"#46039f\"],[0.2222222222222222,\"#7201a8\"],[0.3333333333333333,\"#9c179e\"],[0.4444444444444444,\"#bd3786\"],[0.5555555555555556,\"#d8576b\"],[0.6666666666666666,\"#ed7953\"],[0.7777777777777778,\"#fb9f3a\"],[0.8888888888888888,\"#fdca26\"],[1.0,\"#f0f921\"]],\"type\":\"heatmapgl\"}],\"histogram\":[{\"marker\":{\"pattern\":{\"fillmode\":\"overlay\",\"size\":10,\"solidity\":0.2}},\"type\":\"histogram\"}],\"histogram2d\":[{\"colorbar\":{\"outlinewidth\":0,\"ticks\":\"\"},\"colorscale\":[[0.0,\"#0d0887\"],[0.1111111111111111,\"#46039f\"],[0.2222222222222222,\"#7201a8\"],[0.3333333333333333,\"#9c179e\"],[0.4444444444444444,\"#bd3786\"],[0.5555555555555556,\"#d8576b\"],[0.6666666666666666,\"#ed7953\"],[0.7777777777777778,\"#fb9f3a\"],[0.8888888888888888,\"#fdca26\"],[1.0,\"#f0f921\"]],\"type\":\"histogram2d\"}],\"histogram2dcontour\":[{\"colorbar\":{\"outlinewidth\":0,\"ticks\":\"\"},\"colorscale\":[[0.0,\"#0d0887\"],[0.1111111111111111,\"#46039f\"],[0.2222222222222222,\"#7201a8\"],[0.3333333333333333,\"#9c179e\"],[0.4444444444444444,\"#bd3786\"],[0.5555555555555556,\"#d8576b\"],[0.6666666666666666,\"#ed7953\"],[0.7777777777777778,\"#fb9f3a\"],[0.8888888888888888,\"#fdca26\"],[1.0,\"#f0f921\"]],\"type\":\"histogram2dcontour\"}],\"mesh3d\":[{\"colorbar\":{\"outlinewidth\":0,\"ticks\":\"\"},\"type\":\"mesh3d\"}],\"parcoords\":[{\"line\":{\"colorbar\":{\"outlinewidth\":0,\"ticks\":\"\"}},\"type\":\"parcoords\"}],\"pie\":[{\"automargin\":true,\"type\":\"pie\"}],\"scatter\":[{\"marker\":{\"colorbar\":{\"outlinewidth\":0,\"ticks\":\"\"}},\"type\":\"scatter\"}],\"scatter3d\":[{\"line\":{\"colorbar\":{\"outlinewidth\":0,\"ticks\":\"\"}},\"marker\":{\"colorbar\":{\"outlinewidth\":0,\"ticks\":\"\"}},\"type\":\"scatter3d\"}],\"scattercarpet\":[{\"marker\":{\"colorbar\":{\"outlinewidth\":0,\"ticks\":\"\"}},\"type\":\"scattercarpet\"}],\"scattergeo\":[{\"marker\":{\"colorbar\":{\"outlinewidth\":0,\"ticks\":\"\"}},\"type\":\"scattergeo\"}],\"scattergl\":[{\"marker\":{\"colorbar\":{\"outlinewidth\":0,\"ticks\":\"\"}},\"type\":\"scattergl\"}],\"scattermapbox\":[{\"marker\":{\"colorbar\":{\"outlinewidth\":0,\"ticks\":\"\"}},\"type\":\"scattermapbox\"}],\"scatterpolar\":[{\"marker\":{\"colorbar\":{\"outlinewidth\":0,\"ticks\":\"\"}},\"type\":\"scatterpolar\"}],\"scatterpolargl\":[{\"marker\":{\"colorbar\":{\"outlinewidth\":0,\"ticks\":\"\"}},\"type\":\"scatterpolargl\"}],\"scatterternary\":[{\"marker\":{\"colorbar\":{\"outlinewidth\":0,\"ticks\":\"\"}},\"type\":\"scatterternary\"}],\"surface\":[{\"colorbar\":{\"outlinewidth\":0,\"ticks\":\"\"},\"colorscale\":[[0.0,\"#0d0887\"],[0.1111111111111111,\"#46039f\"],[0.2222222222222222,\"#7201a8\"],[0.3333333333333333,\"#9c179e\"],[0.4444444444444444,\"#bd3786\"],[0.5555555555555556,\"#d8576b\"],[0.6666666666666666,\"#ed7953\"],[0.7777777777777778,\"#fb9f3a\"],[0.8888888888888888,\"#fdca26\"],[1.0,\"#f0f921\"]],\"type\":\"surface\"}],\"table\":[{\"cells\":{\"fill\":{\"color\":\"#EBF0F8\"},\"line\":{\"color\":\"white\"}},\"header\":{\"fill\":{\"color\":\"#C8D4E3\"},\"line\":{\"color\":\"white\"}},\"type\":\"table\"}]},\"layout\":{\"annotationdefaults\":{\"arrowcolor\":\"#2a3f5f\",\"arrowhead\":0,\"arrowwidth\":1},\"autotypenumbers\":\"strict\",\"coloraxis\":{\"colorbar\":{\"outlinewidth\":0,\"ticks\":\"\"}},\"colorscale\":{\"diverging\":[[0,\"#8e0152\"],[0.1,\"#c51b7d\"],[0.2,\"#de77ae\"],[0.3,\"#f1b6da\"],[0.4,\"#fde0ef\"],[0.5,\"#f7f7f7\"],[0.6,\"#e6f5d0\"],[0.7,\"#b8e186\"],[0.8,\"#7fbc41\"],[0.9,\"#4d9221\"],[1,\"#276419\"]],\"sequential\":[[0.0,\"#0d0887\"],[0.1111111111111111,\"#46039f\"],[0.2222222222222222,\"#7201a8\"],[0.3333333333333333,\"#9c179e\"],[0.4444444444444444,\"#bd3786\"],[0.5555555555555556,\"#d8576b\"],[0.6666666666666666,\"#ed7953\"],[0.7777777777777778,\"#fb9f3a\"],[0.8888888888888888,\"#fdca26\"],[1.0,\"#f0f921\"]],\"sequentialminus\":[[0.0,\"#0d0887\"],[0.1111111111111111,\"#46039f\"],[0.2222222222222222,\"#7201a8\"],[0.3333333333333333,\"#9c179e\"],[0.4444444444444444,\"#bd3786\"],[0.5555555555555556,\"#d8576b\"],[0.6666666666666666,\"#ed7953\"],[0.7777777777777778,\"#fb9f3a\"],[0.8888888888888888,\"#fdca26\"],[1.0,\"#f0f921\"]]},\"colorway\":[\"#636efa\",\"#EF553B\",\"#00cc96\",\"#ab63fa\",\"#FFA15A\",\"#19d3f3\",\"#FF6692\",\"#B6E880\",\"#FF97FF\",\"#FECB52\"],\"font\":{\"color\":\"#2a3f5f\"},\"geo\":{\"bgcolor\":\"white\",\"lakecolor\":\"white\",\"landcolor\":\"#E5ECF6\",\"showlakes\":true,\"showland\":true,\"subunitcolor\":\"white\"},\"hoverlabel\":{\"align\":\"left\"},\"hovermode\":\"closest\",\"mapbox\":{\"style\":\"light\"},\"paper_bgcolor\":\"white\",\"plot_bgcolor\":\"#E5ECF6\",\"polar\":{\"angularaxis\":{\"gridcolor\":\"white\",\"linecolor\":\"white\",\"ticks\":\"\"},\"bgcolor\":\"#E5ECF6\",\"radialaxis\":{\"gridcolor\":\"white\",\"linecolor\":\"white\",\"ticks\":\"\"}},\"scene\":{\"xaxis\":{\"backgroundcolor\":\"#E5ECF6\",\"gridcolor\":\"white\",\"gridwidth\":2,\"linecolor\":\"white\",\"showbackground\":true,\"ticks\":\"\",\"zerolinecolor\":\"white\"},\"yaxis\":{\"backgroundcolor\":\"#E5ECF6\",\"gridcolor\":\"white\",\"gridwidth\":2,\"linecolor\":\"white\",\"showbackground\":true,\"ticks\":\"\",\"zerolinecolor\":\"white\"},\"zaxis\":{\"backgroundcolor\":\"#E5ECF6\",\"gridcolor\":\"white\",\"gridwidth\":2,\"linecolor\":\"white\",\"showbackground\":true,\"ticks\":\"\",\"zerolinecolor\":\"white\"}},\"shapedefaults\":{\"line\":{\"color\":\"#2a3f5f\"}},\"ternary\":{\"aaxis\":{\"gridcolor\":\"white\",\"linecolor\":\"white\",\"ticks\":\"\"},\"baxis\":{\"gridcolor\":\"white\",\"linecolor\":\"white\",\"ticks\":\"\"},\"bgcolor\":\"#E5ECF6\",\"caxis\":{\"gridcolor\":\"white\",\"linecolor\":\"white\",\"ticks\":\"\"}},\"title\":{\"x\":0.05},\"xaxis\":{\"automargin\":true,\"gridcolor\":\"white\",\"linecolor\":\"white\",\"ticks\":\"\",\"title\":{\"standoff\":15},\"zerolinecolor\":\"white\",\"zerolinewidth\":2},\"yaxis\":{\"automargin\":true,\"gridcolor\":\"white\",\"linecolor\":\"white\",\"ticks\":\"\",\"title\":{\"standoff\":15},\"zerolinecolor\":\"white\",\"zerolinewidth\":2}}},\"xaxis\":{\"anchor\":\"y\",\"domain\":[0.0,1.0]},\"yaxis\":{\"anchor\":\"x\",\"domain\":[0.0,1.0],\"title\":{\"text\":\"delta_time\"}}},                        {\"responsive\": true}                    ).then(function(){\n",
              "                            \n",
              "var gd = document.getElementById('82359365-c447-4796-a64b-b3dc77722595');\n",
              "var x = new MutationObserver(function (mutations, observer) {{\n",
              "        var display = window.getComputedStyle(gd).display;\n",
              "        if (!display || display === 'none') {{\n",
              "            console.log([gd, 'removed!']);\n",
              "            Plotly.purge(gd);\n",
              "            observer.disconnect();\n",
              "        }}\n",
              "}});\n",
              "\n",
              "// Listen for the removal of the full notebook cells\n",
              "var notebookContainer = gd.closest('#notebook-container');\n",
              "if (notebookContainer) {{\n",
              "    x.observe(notebookContainer, {childList: true});\n",
              "}}\n",
              "\n",
              "// Listen for the clearing of the current output cell\n",
              "var outputEl = gd.closest('.output');\n",
              "if (outputEl) {{\n",
              "    x.observe(outputEl, {childList: true});\n",
              "}}\n",
              "\n",
              "                        })                };                            </script>        </div>\n",
              "</body>\n",
              "</html>"
            ]
          },
          "metadata": {}
        }
      ]
    },
    {
      "cell_type": "code",
      "metadata": {
        "colab": {
          "base_uri": "https://localhost:8080/",
          "height": 542
        },
        "id": "rmTC0-HykXp6",
        "outputId": "f98a7056-c0df-4ac0-82c8-7eb31ecba11e"
      },
      "source": [
        "px.histogram(table_2[table_2['delta_time'] < 3], x='delta_time', color='level_group', pattern_shape=\"churn\",\n",
        "             title='Histogram for delta_time',\n",
        "             barmode='group',nbins=5)"
      ],
      "execution_count": null,
      "outputs": [
        {
          "output_type": "display_data",
          "data": {
            "text/html": [
              "<html>\n",
              "<head><meta charset=\"utf-8\" /></head>\n",
              "<body>\n",
              "    <div>            <script src=\"https://cdnjs.cloudflare.com/ajax/libs/mathjax/2.7.5/MathJax.js?config=TeX-AMS-MML_SVG\"></script><script type=\"text/javascript\">if (window.MathJax) {MathJax.Hub.Config({SVG: {font: \"STIX-Web\"}});}</script>                <script type=\"text/javascript\">window.PlotlyConfig = {MathJaxConfig: 'local'};</script>\n",
              "        <script src=\"https://cdn.plot.ly/plotly-2.3.1.min.js\"></script>                <div id=\"b02186ef-96e6-4564-8998-eac3ab9da46b\" class=\"plotly-graph-div\" style=\"height:525px; width:100%;\"></div>            <script type=\"text/javascript\">                                    window.PLOTLYENV=window.PLOTLYENV || {};                                    if (document.getElementById(\"b02186ef-96e6-4564-8998-eac3ab9da46b\")) {                    Plotly.newPlot(                        \"b02186ef-96e6-4564-8998-eac3ab9da46b\",                        [{\"alignmentgroup\":\"True\",\"bingroup\":\"x\",\"hovertemplate\":\"level_group=0.0<br>churn=0<br>delta_time=%{x}<br>count=%{y}<extra></extra>\",\"legendgroup\":\"0.0, 0\",\"marker\":{\"color\":\"#636efa\",\"pattern\":{\"shape\":\"\"}},\"name\":\"0.0, 0\",\"nbinsx\":5,\"offsetgroup\":\"0.0, 0\",\"orientation\":\"v\",\"showlegend\":true,\"type\":\"histogram\",\"x\":[0.7,0.8083333333333333,1.2333333333333334,0.8833333333333333,1.3333333333333335,0.65,1.0,1.0583333333333333,1.0833333333333333,2.3333333333333335,0.8333333333333334,2.0833333333333335,0.8,0.6666666666666666,0.7583333333333333,0.9416666666666667,0.8666666666666667,1.2333333333333334,2.05,0.7666666666666667,1.2166666666666668,1.3833333333333333,1.2833333333333334,0.8166666666666667,0.55,1.0833333333333333,0.8333333333333334,0.6583333333333333,1.225,1.1833333333333333,0.6333333333333333,2.55,0.95,2.05,0.9083333333333333,1.0166666666666666,0.9166666666666666,1.3333333333333333,1.2666666666666666,1.75,1.2333333333333334,0.9666666666666668,0.9833333333333333,0.675,0.48333333333333334,0.6833333333333333,1.3166666666666667,1.1083333333333334,1.35,1.3333333333333335,0.675,1.7666666666666666,1.95,1.0666666666666667,1.1,0.9083333333333333,1.2249999999999999,0.675,0.6666666666666666,0.9833333333333333,1.3333333333333335,0.7,0.6833333333333333,1.0,0.7583333333333333,1.1166666666666667,1.9833333333333334,0.9916666666666667,1.0416666666666667,0.7833333333333333,1.5083333333333333,0.8416666666666667,0.875,0.7833333333333333,1.2333333333333334,1.0583333333333333,0.9666666666666667,2.216666666666667,1.5,1.05,1.425,1.1,1.9666666666666666,0.7333333333333333,1.0,0.8500000000000001,0.8583333333333334,0.8583333333333334,1.0583333333333333,1.3666666666666667,1.3666666666666667,0.8166666666666667,1.8833333333333333,0.6,1.65,1.9583333333333333,1.4,0.8666666666666667,0.9333333333333333,0.7833333333333333,1.0333333333333334,1.6833333333333333,1.0083333333333333,1.55,0.6833333333333333,2.283333333333333,2.6666666666666665,1.7333333333333334,1.0666666666666667,2.1166666666666667,1.2333333333333334,1.2833333333333332,0.9166666666666667,1.25,1.125,0.6833333333333333,1.4333333333333333,0.9083333333333333,0.6166666666666667,1.0166666666666666,1.2083333333333333,2.316666666666667,1.4666666666666666,0.9166666666666666,2.216666666666667,0.825,1.7833333333333334,1.4666666666666668,2.433333333333333,1.1333333333333333,0.9,0.95,1.1166666666666667,0.75,1.4,0.8833333333333333,1.35,1.0416666666666667,2.3333333333333335,0.7833333333333333,1.6833333333333333,1.1749999999999998,2.2,1.0333333333333334,2.15,0.9083333333333333,1.2333333333333334,1.2583333333333333,1.25,2.3666666666666667,1.3833333333333333,0.9,1.4333333333333333,0.5833333333333334,1.1333333333333333,0.825,1.05,0.8166666666666667,0.6666666666666666,0.8333333333333334,0.9083333333333333,1.05,1.1166666666666667,0.9666666666666667,1.0,0.8666666666666667,0.7833333333333333,1.4166666666666667,0.6000000000000001,1.7666666666666666,2.3666666666666667,1.0916666666666666,1.125,1.2833333333333332,1.3250000000000002,0.7333333333333334,0.95,1.0333333333333332,0.9,1.8333333333333333,1.9333333333333333,0.9833333333333333,0.775,0.8666666666666667,0.9583333333333334,1.4333333333333333,1.5083333333333333,1.0,1.0083333333333333,1.425,1.8,1.0833333333333333,1.3166666666666667,0.9,1.0833333333333333,0.8833333333333333,0.75,0.85,1.1833333333333333,1.1083333333333334,2.0,1.25,0.7,1.7666666666666666,1.0083333333333333,1.35,1.125,1.4833333333333334,0.95,2.3,0.8666666666666667,1.3833333333333333,1.2583333333333333,0.8166666666666667,0.7666666666666667,1.25,1.0333333333333334,0.8666666666666667,1.1833333333333333,1.0666666666666667,0.6,1.85,1.1749999999999998,1.25,0.8166666666666667,1.8833333333333333,1.7666666666666666,0.8666666666666667,1.15,1.0166666666666666,0.95,2.55,1.1833333333333333,1.1916666666666667,1.9166666666666667,0.4916666666666667,1.6833333333333333,1.8,1.1833333333333333,1.8166666666666667,1.2,1.35,0.9583333333333333,1.0166666666666666,0.95,1.4166666666666665,0.6833333333333333,1.0666666666666667,1.2666666666666666,0.6833333333333333,1.8666666666666667,1.8,1.0333333333333334,1.1,1.4833333333333334,0.8166666666666667,0.9666666666666667,0.75,1.0916666666666668,1.9833333333333334,0.9166666666666666,1.3250000000000002,1.0333333333333334,0.7666666666666667,1.0916666666666668,1.9,0.6333333333333333,0.9833333333333333,0.75,1.2833333333333332,0.9666666666666667,0.725,0.9333333333333333,1.75,1.4666666666666666,0.9666666666666667,1.75,1.0,0.8,1.2166666666666666,0.95,0.575,1.0166666666666666,1.05,0.8333333333333334,1.3666666666666667,1.6583333333333334,1.7333333333333334,0.9666666666666667,1.15,0.8333333333333334,1.65,1.5833333333333333,0.3916666666666667,1.5333333333333334,0.8916666666666666,0.9,1.1333333333333333,0.9333333333333333,0.75,0.75,0.6916666666666667,0.8166666666666667,0.7250000000000001,0.9666666666666667,1.125,1.8333333333333333,1.3,0.95,0.55,1.0083333333333333,1.35,0.575,1.5416666666666667,1.3583333333333334,0.7166666666666667,1.6666666666666667,0.9416666666666667,0.95,0.8833333333333333,1.8333333333333333,1.0166666666666666,0.9,1.2166666666666668,1.15,0.825,0.55,0.45,0.9,1.05,0.5333333333333333,1.3666666666666667,1.3833333333333333,0.9166666666666666,0.7666666666666667,0.9583333333333334,1.05,1.2,1.2333333333333334,1.9833333333333334,0.75,0.9833333333333333,1.2166666666666666,0.95,0.9583333333333334,0.9833333333333333,0.7166666666666667,1.2916666666666665,0.925,1.1,1.6666666666666667,1.2166666666666666,0.7083333333333333,1.2166666666666666,1.0333333333333334,1.0333333333333334,1.0416666666666665,1.025,0.875,0.9,0.7666666666666667,1.0833333333333333,0.95,0.675,1.275,1.1833333333333333,1.4583333333333333,0.9083333333333333,1.75,0.8916666666666666,0.9166666666666666,0.8166666666666667,1.325,0.8583333333333334,2.95,0.75,1.9,0.925,1.0666666666666667,0.8666666666666667,0.7583333333333333,0.725,1.45,1.7333333333333334,2.7,0.8333333333333334,1.3083333333333333,0.95,0.75,1.2,0.875,0.8166666666666667,0.6666666666666666,0.5833333333333334,1.3,1.0666666666666667,0.75,1.0,1.2833333333333332,0.6333333333333333,1.6,1.2833333333333332,0.9833333333333334,1.3666666666666667,1.25,1.5166666666666666,2.283333333333333,0.7666666666666667,1.3333333333333333,0.75,1.1333333333333333,0.6333333333333333,0.9833333333333333,1.4083333333333334,1.1916666666666667,0.7333333333333333,1.6833333333333333,1.8833333333333333,0.8333333333333334,1.2416666666666667,0.95,0.8833333333333333,0.6833333333333333,1.1416666666666666,1.1166666666666667,1.1666666666666667,1.6833333333333331,0.7833333333333333,1.3,0.7333333333333334,1.4,1.4166666666666665,1.8833333333333333,0.7833333333333333,1.05,0.9166666666666666,0.9666666666666667,1.4833333333333334,1.0333333333333332,0.9166666666666666,1.3166666666666667,1.0583333333333333,0.7749999999999999,1.2333333333333334,0.9166666666666666,1.1833333333333333,1.225,1.8499999999999999,1.15,1.0666666666666667,1.4916666666666667,1.75,0.8583333333333334,1.8,1.05,0.8833333333333333,0.7833333333333333,0.7666666666666667,1.2666666666666666,1.2833333333333332,0.5166666666666667,0.9666666666666666,1.4666666666666666,1.6416666666666666,1.275,1.1666666666666667,0.8666666666666667,0.7416666666666667,0.9083333333333333,0.9,2.3833333333333333,0.7416666666666667,1.2,0.8,1.0666666666666667,1.2833333333333334,2.1166666666666667,1.1,0.575,1.225,0.9583333333333333,0.75,2.033333333333333,0.9666666666666667,2.4166666666666665,1.2833333333333332,0.9666666666666666,1.1749999999999998,1.1916666666666667,0.9166666666666666,1.9333333333333333,2.45,1.8833333333333333,1.5166666666666666,0.75,1.0166666666666666,1.3,0.7166666666666667,1.1083333333333334,0.7416666666666667,1.8166666666666667,1.35,1.3083333333333333,1.5666666666666667,1.3166666666666667,1.225,1.85,1.7083333333333333,1.0666666666666667,2.45,1.05,1.05,0.9666666666666667,1.2666666666666666,1.0333333333333334,0.7833333333333333,0.6833333333333333,0.7583333333333333,0.9916666666666667,1.9333333333333333,1.0,1.5,1.3583333333333334,1.1166666666666667,1.4833333333333334,1.025,1.0333333333333332,1.45,1.8166666666666667,0.7,0.7333333333333334,0.9833333333333333,0.8166666666666667,0.9,1.4333333333333333,1.35,1.3,1.0166666666666666,2.05,1.0833333333333333,1.7,0.5916666666666667,0.9833333333333333,1.1916666666666667,1.0333333333333334,0.7833333333333334,0.7083333333333333,0.9166666666666666,1.7333333333333334,0.7666666666666666,1.0333333333333334,0.95,2.2,1.9,1.15,1.3666666666666667,1.95,1.9333333333333333,1.7666666666666666,0.875,0.925,0.8833333333333333,0.8583333333333334,1.0666666666666667,0.8166666666666667,0.9333333333333333,0.7833333333333334,0.825,0.7166666666666667,0.9416666666666667,1.125,1.35,0.75,1.025,2.283333333333333,0.75,1.1,1.3166666666666667,1.425,1.3333333333333333,1.5833333333333333,0.9,1.85,1.5333333333333334,0.9083333333333333,1.6333333333333333,0.8333333333333334,0.95,0.9166666666666666,1.3166666666666667,0.9500000000000001,1.5333333333333334,0.7166666666666667,1.2333333333333334,1.0833333333333333,1.0666666666666667,0.8833333333333333,1.5,1.7166666666666666,2.533333333333333,0.9666666666666666,1.5666666666666667,1.8666666666666667,0.7333333333333334,1.0166666666666666,0.6666666666666666,0.8,2.033333333333333,1.35,0.8416666666666667,0.8833333333333333,2.283333333333333,1.5833333333333333,1.025,1.15,0.7666666666666667,1.7166666666666668,1.6166666666666667,0.7583333333333333,0.8916666666666666,1.1333333333333333,1.4500000000000002,1.3,1.1166666666666667,1.2166666666666666,1.05,0.8416666666666667,1.1583333333333332,0.9166666666666666,0.7666666666666667,1.3166666666666667,1.4249999999999998,1.2,1.0666666666666667,0.8,0.875,1.2166666666666668,1.3333333333333333,2.0,0.6166666666666667,0.925,1.65,1.2166666666666666,0.7833333333333333,1.0,1.15,0.8,1.0166666666666666,1.2083333333333335,1.9833333333333334,1.4666666666666666,1.2583333333333333,0.8666666666666667,0.6666666666666666,0.8833333333333333,1.2333333333333334,0.95,1.1166666666666667,0.8333333333333334,1.225,0.7416666666666667,1.5166666666666666,1.0583333333333333,0.7333333333333333,0.8166666666666667,2.0,1.0833333333333333,0.9166666666666666,0.9833333333333333,1.8916666666666666,0.625,0.7166666666666667,1.25,0.85,1.8833333333333333,1.1,1.7833333333333334,1.1166666666666667,0.8833333333333333,1.0166666666666666,1.0333333333333334,0.8500000000000001,0.9583333333333333,2.05,0.95,1.375,0.9083333333333334,2.05,0.7,1.0333333333333334,1.3666666666666667,1.1166666666666667,1.0333333333333334,1.5166666666666666,1.3416666666666668,0.95,0.8333333333333334,1.275,1.0333333333333334,0.7666666666666667,1.6583333333333332,0.8,1.225,1.7416666666666667,2.025,1.2833333333333334,1.4166666666666667,1.3333333333333333,1.25,1.6333333333333333,1.0,0.8833333333333333,1.05,1.4833333333333334,0.8083333333333333,0.7,0.725,0.8166666666666667,1.9333333333333333,0.8583333333333334,1.5666666666666667,1.2166666666666666,0.7833333333333333,1.1333333333333333,2.0166666666666666,1.475,1.0833333333333333,0.95,0.8166666666666667,0.675,1.1166666666666667,1.45,0.9666666666666667,0.8666666666666667,1.5750000000000002,0.9166666666666667,0.95,1.025,1.1833333333333333,1.5916666666666668,1.2666666666666666,2.3666666666666667,0.9166666666666666,0.5833333333333334,0.9333333333333333,1.0333333333333334,1.7166666666666666,1.0750000000000002,1.0166666666666666,1.4,2.4833333333333334,1.0333333333333334,1.75,1.1666666666666667,1.4166666666666667,1.6,0.8416666666666667,1.2666666666666666,1.2916666666666665,1.275,2.683333333333333,1.4583333333333335,1.4,1.0666666666666667,1.1583333333333332,0.7166666666666667,1.25,0.625,1.0666666666666667,0.8500000000000001,1.2166666666666668,1.45,1.4833333333333334,1.0083333333333333,0.9083333333333333,0.7333333333333333,1.2083333333333333,1.5666666666666667,0.9833333333333333,1.0916666666666668,0.8666666666666667,0.7666666666666667,0.75,1.9,0.7666666666666667,1.1833333333333333,1.1166666666666667,1.9166666666666667,1.5666666666666667,1.0666666666666667,0.8,1.7333333333333334,0.7083333333333333,0.8999999999999999,0.9166666666666666,1.3416666666666668,1.9333333333333333,1.025,0.5,0.8166666666666667,0.6166666666666667,0.9666666666666667,1.2416666666666667,2.466666666666667,1.3,0.9916666666666667,0.9333333333333333,0.8166666666666667,1.2416666666666667,1.1666666666666667,1.1666666666666667,1.7833333333333332,0.7833333333333333,0.8999999999999999,1.1166666666666667,1.2,1.4833333333333334,0.7833333333333333,1.0166666666666666,1.4333333333333333,1.95,2.433333333333333,1.0833333333333335,1.2583333333333333,1.1166666666666667,0.975,0.8416666666666667,1.6333333333333333,0.6833333333333333,0.8833333333333333,0.0,1.3416666666666668,1.5583333333333331,1.3,2.1166666666666667,1.725,1.05,2.4166666666666665,1.7,1.0,1.7166666666666668,1.2666666666666666,1.3583333333333334,1.0166666666666666,1.0833333333333333,1.0,1.9666666666666666,1.7666666666666666,1.6,1.0083333333333333,1.1166666666666667,1.3333333333333333,1.025,0.8833333333333333,1.15,2.1333333333333333,1.325,1.0666666666666667,2.3,1.5833333333333335,1.075,1.2416666666666667,2.1333333333333333,0.8833333333333333,0.8083333333333333,0.975,1.0499999999999998,0.8666666666666667,1.7166666666666666,0.9333333333333333,1.3166666666666667,0.8583333333333333,1.3666666666666667,1.2166666666666666,1.0583333333333333,1.1833333333333333,1.6666666666666667,1.1666666666666667,1.3833333333333333,1.9833333333333334,1.1833333333333331,1.7166666666666666,1.375,2.4,1.3916666666666666,0.43333333333333335,0.8666666666666667,2.15,1.2833333333333334,0.9083333333333333,0.8,0.925,1.075,1.3166666666666667,1.5333333333333332,1.1666666666666665,0.8333333333333334,2.066666666666667,0.925,0.8083333333333333,1.6833333333333333,0.6666666666666666,0.8666666666666667,0.7166666666666667],\"xaxis\":\"x\",\"yaxis\":\"y\"},{\"alignmentgroup\":\"True\",\"bingroup\":\"x\",\"hovertemplate\":\"level_group=0.0<br>churn=1<br>delta_time=%{x}<br>count=%{y}<extra></extra>\",\"legendgroup\":\"0.0, 1\",\"marker\":{\"color\":\"#636efa\",\"pattern\":{\"shape\":\"/\"}},\"name\":\"0.0, 1\",\"nbinsx\":5,\"offsetgroup\":\"0.0, 1\",\"orientation\":\"v\",\"showlegend\":true,\"type\":\"histogram\",\"x\":[1.0083333333333333,0.75,0.8583333333333334,0.9583333333333333,1.075,1.65,1.2666666666666666,0.9333333333333333,0.8166666666666667,2.1333333333333333,1.9,1.3,0.775,0.9666666666666667,0.8166666666666667,1.5416666666666665,2.6083333333333334,1.2666666666666666,1.1166666666666667,1.0333333333333334,0.9416666666666667,2.716666666666667,1.5166666666666666,1.075,0.9166666666666667,0.6666666666666666,1.25,2.9,0.8416666666666667,2.3166666666666664,0.6833333333333333,2.0166666666666666,1.5166666666666666,0.7,0.9416666666666667,1.6583333333333332,1.3083333333333333,1.15,0.9,1.0333333333333334,1.0333333333333334,1.35,1.2916666666666667,0.8666666666666667,1.4333333333333333,0.8166666666666667,1.2,1.1666666666666667,0.8,1.5333333333333332,0.5666666666666667,1.1333333333333333,1.15,1.475,0.8666666666666667,1.75,1.2333333333333334,1.2,1.2666666666666666,0.9833333333333333,1.0083333333333333,1.8,1.2833333333333334,1.0166666666666666,0.8333333333333333,1.0416666666666667,0.7833333333333333,1.1166666666666667,1.05,1.4333333333333333,1.05,1.1749999999999998,1.4333333333333333,1.3083333333333333,1.0083333333333333,1.9166666666666665,0.7666666666666667,1.5,1.25,0.9333333333333333,1.7,1.1,0.9083333333333333,1.1,0.6333333333333333,1.0583333333333333,1.3,1.5833333333333333,0.8166666666666667,1.2083333333333335,1.0666666666666667,0.775,2.1,1.0333333333333334,0.9666666666666667,1.5916666666666668,1.4333333333333333,1.225,1.1,0.8583333333333334,1.1166666666666667,1.25,0.9916666666666667,1.2,1.3333333333333333,1.0083333333333333,2.2333333333333334,1.475,1.2,0.9666666666666667,0.9333333333333333,1.0,1.6333333333333333,1.4166666666666667,1.3250000000000002,0.8666666666666667,1.2166666666666666,2.316666666666667,0.8666666666666667,1.375,1.05,1.2,1.3583333333333334,1.0666666666666667,1.2833333333333332,1.4333333333333333,0.7,1.6,2.183333333333333,0.9666666666666667,1.6333333333333333,1.7999999999999998,1.5,2.3166666666666664,0.9666666666666667,1.3916666666666666,1.2666666666666666,0.7250000000000001,1.8666666666666667,1.2916666666666667,1.1333333333333333,1.35,1.2833333333333334,0.9333333333333333,0.8500000000000001,1.1166666666666667,1.3333333333333333,0.95,1.4166666666666667,2.3333333333333335,2.6166666666666667,1.0333333333333334,2.3333333333333335,1.375,1.275,0.8166666666666667,1.5499999999999998,0.9583333333333334,1.3333333333333333,1.1083333333333334,1.0333333333333334,1.8166666666666667,1.3333333333333333,1.5666666666666667,1.7333333333333334,1.5833333333333335,1.0166666666666666,1.2666666666666666,1.175,1.2666666666666666,1.0666666666666667,1.3583333333333334,1.1,1.1666666666666665,1.3666666666666667,1.8333333333333333,2.216666666666667,1.2833333333333334,0.9166666666666666,1.4,1.9249999999999998,1.475,1.325,1.8833333333333333,2.1666666666666665,1.2416666666666667,0.9666666666666667,2.1916666666666664,0.8333333333333334,1.0833333333333333,0.7083333333333333,1.05,1.0833333333333335,1.5416666666666665,2.1,1.0916666666666668,1.0166666666666666,0.6833333333333333,1.2833333333333334,1.1916666666666667,0.8333333333333334,0.975,0.8333333333333334,0.95,0.8,1.05,1.2166666666666668,1.5166666666666666,0.7666666666666667,0.975,1.1083333333333334,0.9166666666666666,2.4166666666666665,1.55,1.2083333333333333,1.0,1.2,1.2583333333333333,1.5333333333333334,1.5833333333333333,0.8916666666666666,1.6333333333333333,0.8,0.8999999999999999,0.48333333333333334,0.7416666666666667,2.716666666666667,1.3166666666666667,1.1666666666666667,0.9416666666666667,1.3833333333333333,1.7166666666666666,2.2083333333333335,0.9833333333333333,0.8833333333333333,1.0666666666666667,1.1416666666666666,1.9166666666666665,0.8833333333333333,1.1083333333333334,1.1166666666666667,1.6666666666666667,1.2333333333333334,1.3916666666666666,1.125,1.0750000000000002,0.65,1.1749999999999998,0.7,2.3,0.9833333333333333,1.25,1.1333333333333333,0.85,1.25,1.2333333333333334,0.8333333333333334,1.0416666666666667,0.975,0.8666666666666667,1.3333333333333333,2.683333333333333,0.95,0.75,1.0916666666666668,0.8833333333333333,0.8333333333333334,0.95,1.3583333333333334,1.1,1.3,1.1833333333333333,1.375,1.0833333333333333,2.1666666666666665,0.7666666666666667,0.6666666666666666,0.9083333333333333,1.5,1.7666666666666666,1.25,1.9416666666666667,0.925,1.525,1.2666666666666666,0.875,1.6166666666666667,1.025,0.875,1.7833333333333334,1.1666666666666667,1.1666666666666667,0.8833333333333333,0.9583333333333333,1.6833333333333333,0.825,0.8833333333333333,0.9333333333333333,1.875,1.2666666666666666,1.0833333333333333,1.3916666666666666,1.9083333333333334,0.8,1.9916666666666667,1.6333333333333333,1.4333333333333333,1.6833333333333333,0.9583333333333334,1.275,1.3083333333333333,1.3166666666666667,1.7333333333333334,0.65,1.225,1.0833333333333333,1.2166666666666668,1.1333333333333333,1.75,1.05,1.35,0.8166666666666667,0.8333333333333334,1.1833333333333333,1.3166666666666669,1.25,1.05,0.9833333333333333,1.9666666666666666,1.275,1.0166666666666666,0.8833333333333333,1.15,1.6333333333333333,2.3666666666666667,1.3166666666666667,0.9666666666666666,1.1666666666666667,1.85,1.8,0.9333333333333333,1.2666666666666666,0.9583333333333333,1.025,0.9666666666666667,1.1916666666666667,1.4166666666666667,0.6833333333333333,1.1083333333333334,2.1666666666666665,1.1333333333333333,0.9166666666666666,1.5583333333333333,0.9416666666666667,1.4333333333333333,0.925,1.0083333333333333,1.1333333333333333,1.05,1.2416666666666667,1.3166666666666667,1.75,0.9,0.85,1.075,0.9166666666666667,1.2833333333333332,1.1083333333333334,2.2666666666666666,0.675,0.95,1.6833333333333333,1.2833333333333334,1.0166666666666666,1.1666666666666667,1.0666666666666667,1.3166666666666667,0.9666666666666667,1.7,0.9583333333333333,1.1333333333333333,0.8833333333333333,0.9,0.9166666666666667,1.7416666666666667,1.775,0.7666666666666667,1.4083333333333332,1.1,1.8,1.4583333333333333,1.1166666666666667,1.7833333333333334,1.15,0.8666666666666667,1.2416666666666667,1.2,0.8583333333333334,1.1166666666666667,0.75,1.3,1.7000000000000002,1.1833333333333333,1.4666666666666668,1.0166666666666666,1.05,1.25,1.4833333333333334,0.65,1.7416666666666667,1.3166666666666667,1.6916666666666667,2.1,1.1333333333333333,1.3,0.8833333333333333,0.9833333333333334,1.5166666666666666,1.3666666666666667,1.0166666666666666,1.0083333333333333,0.75,1.4166666666666667,1.3083333333333333,0.8166666666666667,1.3333333333333333,0.5,1.8666666666666667,1.8333333333333333,1.55,1.1583333333333334,1.35,0.8333333333333334],\"xaxis\":\"x\",\"yaxis\":\"y\"},{\"alignmentgroup\":\"True\",\"bingroup\":\"x\",\"hovertemplate\":\"level_group=30.0<br>churn=0<br>delta_time=%{x}<br>count=%{y}<extra></extra>\",\"legendgroup\":\"30.0, 0\",\"marker\":{\"color\":\"#EF553B\",\"pattern\":{\"shape\":\"\"}},\"name\":\"30.0, 0\",\"nbinsx\":5,\"offsetgroup\":\"30.0, 0\",\"orientation\":\"v\",\"showlegend\":true,\"type\":\"histogram\",\"x\":[2.2666666666666666,1.2166666666666666,1.1666666666666665,1.0166666666666666,1.5,1.3083333333333333,1.1666666666666667,1.4,1.7833333333333334,1.6916666666666667,1.4333333333333333,1.2666666666666666,1.35,1.3166666666666667,1.5833333333333333,1.2083333333333333,1.6583333333333332,1.2333333333333334,1.5666666666666667,1.5666666666666667,1.4333333333333333,1.65,1.3833333333333333,1.2333333333333334,1.1666666666666667,1.8916666666666666,1.2583333333333333,1.35,1.2666666666666666,1.6666666666666665,1.3166666666666667,1.0166666666666666,1.2333333333333334,1.3333333333333333,1.8166666666666667,1.4416666666666667,1.7333333333333334,1.3833333333333333,1.7416666666666667,1.375,1.6333333333333333,1.5,1.4833333333333334,1.525,1.6666666666666665,1.4583333333333333,1.275,1.125,1.2583333333333333,1.35,1.475,1.4333333333333333,1.3666666666666667],\"xaxis\":\"x\",\"yaxis\":\"y\"},{\"alignmentgroup\":\"True\",\"bingroup\":\"x\",\"hovertemplate\":\"level_group=30.0<br>churn=1<br>delta_time=%{x}<br>count=%{y}<extra></extra>\",\"legendgroup\":\"30.0, 1\",\"marker\":{\"color\":\"#EF553B\",\"pattern\":{\"shape\":\"/\"}},\"name\":\"30.0, 1\",\"nbinsx\":5,\"offsetgroup\":\"30.0, 1\",\"orientation\":\"v\",\"showlegend\":true,\"type\":\"histogram\",\"x\":[1.8,1.3166666666666667,1.45,1.5,1.6333333333333333,1.5833333333333333,1.4666666666666668,1.2833333333333332,1.3,1.4583333333333335,1.6416666666666666,1.9,1.375,0.975,1.4333333333333333,1.5166666666666666,1.3583333333333334,1.4833333333333334,1.4666666666666668,1.2833333333333334,1.3333333333333333,1.9,1.3333333333333333,1.4,1.3666666666666667,2.216666666666667,1.4,1.6,1.1166666666666667,1.35,1.9166666666666667,1.3916666666666666,1.3333333333333333,1.4833333333333334,1.45,1.2416666666666667,1.3,1.3333333333333333,1.6333333333333333,1.6666666666666667,1.4666666666666666,1.35,1.3833333333333333,1.075,1.0,1.5083333333333333,1.4333333333333333,1.275,1.4166666666666665,1.3833333333333333,1.35,1.6333333333333333,1.35,1.4,1.6333333333333333,1.6,1.3166666666666667,1.725,1.4166666666666667,1.5,1.35,1.3666666666666667,1.225,1.1916666666666667,1.5,1.2333333333333334,1.2,1.6416666666666666,1.5833333333333333,1.375,1.2666666666666666,2.0583333333333336,1.5,1.3333333333333333,1.2833333333333332,2.1333333333333333,1.65,1.3833333333333333,1.5,2.1666666666666665,1.5,2.325,1.4166666666666667,2.066666666666667,1.5666666666666667,1.775,1.4083333333333332,1.4333333333333333,1.2333333333333334,1.4333333333333333,1.525,1.3916666666666666,1.4333333333333331,1.4083333333333332,1.7666666666666666,1.4666666666666666,1.6916666666666667,1.825,1.6666666666666667,1.7833333333333334,1.3416666666666668,1.4333333333333333,2.025,1.3333333333333335,1.225,1.3333333333333335,1.3583333333333334,1.4333333333333333,2.1166666666666667,1.8833333333333333,1.2333333333333334,2.1416666666666666,1.6583333333333332,1.2416666666666667,1.4583333333333333,1.2333333333333334,1.7416666666666667,1.5833333333333333,1.3583333333333334,1.0333333333333334,1.4666666666666666,1.6166666666666667,1.4083333333333332,1.3083333333333333,1.3083333333333333,1.3166666666666667,1.7,1.875,1.4666666666666668,1.3166666666666667,1.2,1.3833333333333333,1.2666666666666666,1.5666666666666667,1.525,1.4666666666666666,1.4083333333333332,1.4833333333333334,1.275,1.45,1.4166666666666667,0.9666666666666667,1.45,1.4833333333333334,1.3333333333333333,1.3833333333333333,1.475,1.4,1.5083333333333333,1.3333333333333333,1.5166666666666666,1.4916666666666667,1.7333333333333334,1.8166666666666667,2.0166666666666666,1.5166666666666666,1.3,1.1833333333333333,1.3,1.2166666666666666,1.85,1.4166666666666667,1.7916666666666667,1.3333333333333333,1.6833333333333333,1.725,1.6749999999999998,1.3666666666666667,1.8666666666666667,1.975,1.35,1.5750000000000002,1.2083333333333333,1.3,1.3,1.35,1.4666666666666666,1.4,1.675,1.6,1.5,1.875,1.4333333333333333,2.075,1.55,1.4083333333333332,1.3333333333333333,1.6,2.05,1.375,1.25,2.158333333333333,1.6166666666666667,1.8833333333333333,1.375,1.5166666666666666,1.3833333333333333,2.025,1.2916666666666667,1.3916666666666666,1.4,1.65,1.4166666666666667,1.6833333333333333,1.7416666666666667,1.5083333333333333,1.5916666666666668,1.425,1.3666666666666667,1.2833333333333334,1.1333333333333333,1.4916666666666667,1.0666666666666667,1.3,1.4333333333333333,1.4333333333333333,1.5833333333333333,1.2916666666666667,1.5666666666666667,1.6,1.35,1.1666666666666667,1.6333333333333333,1.45,1.5166666666666666,1.375,1.4666666666666666,1.35,1.3333333333333333,1.3333333333333333,1.95,1.5666666666666667,1.6749999999999998,2.0,1.7333333333333334,1.6833333333333333,1.5666666666666667,1.6,1.475,1.2083333333333333,1.45,1.6333333333333333,1.1166666666666667,1.5333333333333334,1.4333333333333333,1.0333333333333334,2.1333333333333333,1.2833333333333334,1.3166666666666667,1.2333333333333334,1.6166666666666667,1.7666666666666666,1.75,1.3583333333333334,1.8,1.9,1.4666666666666666,1.2666666666666666,1.3666666666666667,2.033333333333333,1.2833333333333334,1.85,1.1166666666666667,1.3,1.0833333333333333,1.7333333333333334,1.4583333333333333,1.4666666666666668,1.2083333333333333,1.3166666666666667,1.7,1.3666666666666667,1.3,1.8416666666666668,1.375,1.4333333333333333,1.3583333333333334,1.8833333333333333,1.4,1.7,1.1916666666666667,1.1,1.45,1.3666666666666667,1.3916666666666666],\"xaxis\":\"x\",\"yaxis\":\"y\"},{\"alignmentgroup\":\"True\",\"bingroup\":\"x\",\"hovertemplate\":\"level_group=45.0<br>churn=0<br>delta_time=%{x}<br>count=%{y}<extra></extra>\",\"legendgroup\":\"45.0, 0\",\"marker\":{\"color\":\"#00cc96\",\"pattern\":{\"shape\":\"\"}},\"name\":\"45.0, 0\",\"nbinsx\":5,\"offsetgroup\":\"45.0, 0\",\"orientation\":\"v\",\"showlegend\":true,\"type\":\"histogram\",\"x\":[1.65,1.4666666666666666,1.475,1.4416666666666667,1.625,1.2166666666666666,1.5,1.8416666666666668,1.1,1.8333333333333333,1.2833333333333332,1.5666666666666667,1.6833333333333333,1.45,1.45],\"xaxis\":\"x\",\"yaxis\":\"y\"},{\"alignmentgroup\":\"True\",\"bingroup\":\"x\",\"hovertemplate\":\"level_group=45.0<br>churn=1<br>delta_time=%{x}<br>count=%{y}<extra></extra>\",\"legendgroup\":\"45.0, 1\",\"marker\":{\"color\":\"#00cc96\",\"pattern\":{\"shape\":\"/\"}},\"name\":\"45.0, 1\",\"nbinsx\":5,\"offsetgroup\":\"45.0, 1\",\"orientation\":\"v\",\"showlegend\":true,\"type\":\"histogram\",\"x\":[1.6416666666666666,1.4666666666666666,1.85,1.5166666666666666,1.35,1.5416666666666667,2.0166666666666666,1.3333333333333333,1.7166666666666668,1.6666666666666667,1.425,1.7833333333333334,1.3833333333333333,1.5333333333333334,1.8416666666666668,1.5750000000000002,1.2666666666666666,1.475,1.9166666666666667,1.225,1.2833333333333334,1.25,1.4166666666666667,1.2833333333333334,1.6333333333333333,1.7833333333333334,1.65,1.7583333333333333,1.4416666666666667,1.4083333333333332,1.3666666666666667,1.2333333333333334,1.5416666666666667,1.45,1.475,1.6166666666666667,2.091666666666667,1.5666666666666667,1.4333333333333333,1.5333333333333334,2.2,1.65,1.4666666666666666,1.475,1.5333333333333334,1.75,1.5666666666666667,1.3333333333333333,1.3,1.3833333333333333,1.7333333333333334,1.65,1.4833333333333334,1.4,1.2166666666666666,1.5,1.3666666666666667,1.525,1.4833333333333334,1.5166666666666666,1.5666666666666667,1.3333333333333335,2.2083333333333335,1.4666666666666668,1.6583333333333332,1.3,1.5166666666666666,1.75,1.4,1.9666666666666666,1.5833333333333335,1.1666666666666667,1.45,1.4083333333333332,1.4166666666666667,1.85,1.6,1.4333333333333333,1.35,1.7666666666666666,1.55,1.3416666666666668,1.2666666666666666,1.5,1.625,1.55,1.9333333333333331,1.3083333333333333,1.3333333333333333,1.4666666666666668,1.45,1.6833333333333333,1.425,1.7166666666666666,1.5416666666666667,1.4,1.6833333333333333,1.5,1.25,1.6916666666666667,1.2916666666666667,1.2666666666666666,1.5166666666666666,1.4833333333333334,1.275,1.6916666666666667,1.85,1.5166666666666666,1.4333333333333333,1.3333333333333333,1.4166666666666667,1.4833333333333334,1.8166666666666667,1.3166666666666667,1.5,1.575,1.4916666666666667,1.6333333333333333,1.2833333333333334,2.033333333333333,1.6666666666666667,1.35,1.3833333333333333,1.5166666666666666,1.5166666666666666,1.25,1.4916666666666667,1.2833333333333334,1.9666666666666668,1.35,1.4166666666666667,1.6,1.45,1.5666666666666667,1.5666666666666667,1.5,1.45,2.0166666666666666,1.725],\"xaxis\":\"x\",\"yaxis\":\"y\"},{\"alignmentgroup\":\"True\",\"bingroup\":\"x\",\"hovertemplate\":\"level_group=15.0<br>churn=0<br>delta_time=%{x}<br>count=%{y}<extra></extra>\",\"legendgroup\":\"15.0, 0\",\"marker\":{\"color\":\"#ab63fa\",\"pattern\":{\"shape\":\"\"}},\"name\":\"15.0, 0\",\"nbinsx\":5,\"offsetgroup\":\"15.0, 0\",\"orientation\":\"v\",\"showlegend\":true,\"type\":\"histogram\",\"x\":[1.3166666666666667,1.8916666666666666,1.075,1.4083333333333332,1.0083333333333333,1.5,1.4666666666666666,1.1166666666666667,1.2333333333333334,1.4416666666666667,1.0666666666666667,1.65,0.95,1.3583333333333334,1.5583333333333333,1.5416666666666665,1.125,1.0833333333333335,1.3333333333333333,1.0916666666666668,1.3666666666666667,2.45,1.5833333333333333,1.2000000000000002,1.1833333333333333,1.0833333333333333,1.4833333333333334,0.9416666666666667,1.3666666666666667,1.3833333333333333,1.25,1.3333333333333333,1.0166666666666666,1.1416666666666666,1.35,0.95,1.0,1.4583333333333333,1.7666666666666666,1.125,1.4333333333333333,1.5166666666666666,1.65,0.8999999999999999,1.7416666666666667,1.4083333333333332,1.425,1.0333333333333334,1.3666666666666667,1.2916666666666667,1.3666666666666667,1.675,1.1166666666666667,1.775,1.325,0.9916666666666667,1.8166666666666667,0.7833333333333333,1.4916666666666667,1.275,0.9333333333333333,1.25,0.9666666666666667,0.925,1.1333333333333333,1.3833333333333333,1.3583333333333334,1.0833333333333333,1.9416666666666667,1.2333333333333334,1.25,1.6916666666666667,1.0666666666666667,1.125,1.3833333333333333,0.9833333333333333,1.3666666666666667,1.3416666666666668,1.25,1.1583333333333332,1.3,2.0166666666666666,1.3666666666666667,1.35,1.35,1.4166666666666667,0.9583333333333333,1.2916666666666667,1.0666666666666667,1.1166666666666667,1.0583333333333333,1.5416666666666667,1.2,2.0166666666666666,1.225,1.275,1.5083333333333333,0.975,1.85,0.9666666666666667,1.3916666666666666,1.2666666666666666,1.1,1.2333333333333334,1.05,1.0,1.1166666666666667,1.1,1.4333333333333333,1.2666666666666666,1.3083333333333333,1.1,1.8833333333333333,1.4333333333333333,1.4666666666666666,1.0333333333333334,1.5833333333333333,1.3833333333333333,1.2,1.1666666666666667,1.2,2.0666666666666664,1.4583333333333333,1.15,1.4166666666666667,1.5083333333333333,1.15,0.975,1.55,1.3333333333333333,1.15,1.2583333333333333,1.2666666666666666,1.2833333333333332,1.4583333333333333,1.3833333333333333,1.1416666666666666,1.2666666666666666,1.2833333333333332,1.35,1.0,1.0833333333333333,1.05,1.0166666666666666,1.5166666666666666,1.05,0.85,1.1833333333333333,1.3,1.2,1.1166666666666667,1.2833333333333334,1.1666666666666667,0.9666666666666667,1.4833333333333334,1.4916666666666667,1.2333333333333334,1.35,1.3833333333333333,1.275,2.216666666666667,1.6166666666666667,1.25,1.15,2.1,1.0416666666666667,1.3,1.0666666666666667,1.25,0.9,1.6,1.4249999999999998,1.3333333333333333,1.4083333333333332,1.4083333333333332,0.9166666666666666,1.0333333333333334,1.3833333333333333,1.0833333333333335,1.5,1.9333333333333333,1.2833333333333334,1.275,1.6,1.5916666666666668,1.1833333333333333,1.525,1.15,1.3166666666666667,0.9916666666666667,1.6916666666666667,1.1,1.0833333333333333,1.3666666666666667,0.9416666666666667,0.8,0.95,1.5166666666666666,0.8500000000000001,1.5,1.5166666666666666,1.3166666666666667,0.95,0.8666666666666667,1.35,1.2,1.0166666666666666,1.1166666666666667,1.6666666666666667,1.8833333333333333,1.6083333333333334,1.3666666666666667,1.0833333333333333,1.2333333333333334,1.2333333333333334,1.15,1.1666666666666665,1.7,1.1,1.7416666666666667,1.35,1.4416666666666667,1.2,1.7166666666666666,1.3583333333333334,1.1666666666666665,1.5,1.2333333333333334,1.6166666666666667,1.0666666666666667,1.2166666666666666,1.2833333333333334,0.9166666666666667,1.4083333333333332,0.9416666666666667,0.8666666666666667,1.8833333333333333,1.0333333333333334,1.1,1.1666666666666667,1.375,1.5333333333333332,1.3333333333333333,1.15,1.3916666666666666,1.5666666666666667,1.1333333333333333,1.3,1.05,1.0416666666666667,1.3333333333333333,1.2333333333333334,1.4833333333333334,1.4166666666666667,1.5333333333333334,1.0916666666666668,1.6666666666666667,1.5333333333333334,1.2916666666666667,1.475,1.4166666666666667,1.3,1.3,1.4,1.0166666666666666,1.35,1.2666666666666666,1.6666666666666667,1.375,0.9666666666666667,1.2333333333333334,1.6666666666666665,1.2333333333333334,1.2,1.3333333333333333,0.9833333333333333],\"xaxis\":\"x\",\"yaxis\":\"y\"},{\"alignmentgroup\":\"True\",\"bingroup\":\"x\",\"hovertemplate\":\"level_group=15.0<br>churn=1<br>delta_time=%{x}<br>count=%{y}<extra></extra>\",\"legendgroup\":\"15.0, 1\",\"marker\":{\"color\":\"#ab63fa\",\"pattern\":{\"shape\":\"/\"}},\"name\":\"15.0, 1\",\"nbinsx\":5,\"offsetgroup\":\"15.0, 1\",\"orientation\":\"v\",\"showlegend\":true,\"type\":\"histogram\",\"x\":[1.65,1.25,0.9583333333333334,1.55,1.3333333333333333,0.9583333333333333,1.3083333333333333,1.4166666666666667,1.5083333333333333,1.0166666666666666,1.3666666666666667,1.4833333333333334,2.183333333333333,1.4666666666666666,1.05,1.375,1.2333333333333334,1.3416666666666668,1.8666666666666667,1.6833333333333333,1.1666666666666667,1.5,1.2666666666666666,1.45,1.2333333333333334,1.3916666666666666,1.0499999999999998,1.2666666666666666,1.2166666666666666,1.5166666666666666,1.2583333333333333,1.65,1.25,1.2333333333333334,1.2,1.3333333333333333,1.3,1.2166666666666666,1.6583333333333332,1.3333333333333335,1.0166666666666666,1.2166666666666666,0.9666666666666667,1.5333333333333334,1.5583333333333331,0.9916666666666667,1.525,1.75,1.45,1.35,1.5333333333333334,1.55,1.7,0.8500000000000001,1.0666666666666667,1.35,1.1833333333333333,1.4166666666666667,1.85,1.4083333333333332,1.1166666666666667,1.7,1.1833333333333333,1.175,1.4,1.4166666666666667,1.9333333333333331,1.3666666666666667,1.15,0.8333333333333334,1.6166666666666667,1.25,1.725,1.05,1.5166666666666666,1.2833333333333332,1.0750000000000002,1.7833333333333334,1.6666666666666665,1.6916666666666667,1.6416666666666666,1.2833333333333334,1.0833333333333333,1.5083333333333333,1.2166666666666666,1.2416666666666667,1.8166666666666667,1.6083333333333334,1.6,1.2583333333333333,1.6666666666666667,1.2,0.9916666666666667,1.6083333333333334,1.4833333333333334,1.425,1.0916666666666668,1.7416666666666667,1.725,1.4583333333333333,0.9,1.6166666666666667,1.9833333333333334,1.0916666666666668,1.1166666666666667,1.2166666666666666,1.4666666666666666,1.2333333333333334,1.5499999999999998,1.425,1.35,1.725,1.3,1.2,1.3166666666666667,1.3666666666666667,1.275,1.6666666666666667,1.1833333333333333,1.9666666666666666,1.45,1.1166666666666667,1.3333333333333335,1.2583333333333333,1.7666666666666666,1.4833333333333334,1.35,1.3333333333333333,1.1666666666666665,1.45,1.3,1.2666666666666666,1.5,1.125,1.1749999999999998,1.525,1.4333333333333333,1.5833333333333335,1.2,1.4,0.9666666666666667,1.8333333333333333,1.4166666666666667,1.5666666666666667,1.4166666666666667,1.3916666666666666,1.6,1.5666666666666667,1.1166666666666667,1.5666666666666667,1.6,1.5499999999999998,1.625,1.0833333333333333,1.1333333333333333,1.7999999999999998,1.1666666666666667,0.9083333333333333,1.7916666666666665,1.3416666666666668,1.1833333333333333,1.2916666666666667,1.4666666666666666,2.2,1.3833333333333333,1.6333333333333333,1.45,1.3250000000000002,1.3166666666666667,1.5416666666666667,1.4416666666666667,1.4,1.3333333333333333,1.4333333333333333,1.6333333333333333,1.7,1.2,1.5333333333333332,1.7333333333333334,1.0333333333333334,0.9583333333333333,1.5833333333333333,1.2333333333333334,1.1,1.2083333333333333,1.2166666666666666,1.1166666666666667,1.6333333333333333,1.2666666666666666,1.4166666666666667,1.05,1.65,1.3333333333333335,1.2916666666666667,2.0083333333333333,1.35,1.5,1.3416666666666668,1.6833333333333331,1.2333333333333334,1.0333333333333334,1.3833333333333333,1.4,1.45,1.4333333333333333,1.1833333333333333,1.35,1.2833333333333334,1.6833333333333333,1.3666666666666667,1.5833333333333333,1.3833333333333333,1.625,1.7,1.0333333333333334,1.2333333333333334,1.4666666666666666,1.5333333333333334,1.5,1.25,1.3,1.675,1.1833333333333333,1.5916666666666668,1.3666666666666667,2.0833333333333335,1.4166666666666667,1.3416666666666668,1.4333333333333333,1.55,1.575,1.45,1.4333333333333333,1.7666666666666666,1.6833333333333333,1.3833333333333333,1.225,1.6333333333333333,1.05,1.775,1.6833333333333333,0.75,1.4583333333333333,1.5750000000000002,1.625,1.3083333333333333,1.2,0.95,1.1583333333333332,1.2666666666666666,1.4166666666666665,1.3166666666666667,1.4666666666666666,1.1,1.4833333333333334,1.0666666666666667,1.6166666666666667,1.2083333333333333,1.0166666666666666,2.333333333333333,0.9166666666666666,1.5416666666666667,1.4166666666666667,0.9666666666666667,1.575,1.0166666666666666,1.8666666666666667,1.2666666666666666,1.1333333333333333,1.4,1.4,1.2666666666666666,1.2333333333333334,1.4,2.0,2.65,0.95,1.3833333333333333,1.4166666666666667,1.3666666666666667,1.3,1.3166666666666667,1.3250000000000002,1.8333333333333333,1.3166666666666667,1.3333333333333335,1.3833333333333333,1.6666666666666667,1.2083333333333333,1.4666666666666666,1.2666666666666666,1.75,1.6166666666666667,1.4166666666666667,1.0333333333333334,1.5916666666666668,1.5666666666666667,1.7666666666666666,1.2666666666666666,1.4333333333333333,1.1,0.9166666666666666,1.2416666666666667,1.6333333333333333,0.95,1.4,1.3333333333333333,1.0166666666666666,1.4583333333333333,1.3166666666666667,1.5,1.1749999999999998,1.5166666666666666,1.2666666666666666,1.0,1.5333333333333334,1.45,1.175,1.3416666666666668,0.9666666666666667,1.1,1.3916666666666666,1.4416666666666667,1.65,1.2833333333333334,1.6833333333333333,1.2666666666666666,1.3166666666666667,1.4916666666666667,1.0416666666666667,1.3083333333333333,0.8333333333333334,1.4,1.1666666666666667,1.5,1.275,1.6333333333333333,1.1,0.975,1.0166666666666666,1.3916666666666666,1.5166666666666666,1.3666666666666667,1.2166666666666666,1.25,1.55,1.5,1.4583333333333333,1.2833333333333334,1.275,1.5583333333333333,1.3666666666666667,1.4166666666666667,1.9333333333333333,1.3833333333333333,1.6166666666666667,0.85,1.1333333333333333,1.2166666666666666,1.2583333333333333,1.25,1.45,1.15,1.55,1.4500000000000002,1.4500000000000002,1.2916666666666667,1.6833333333333333,1.525,1.5833333333333335,2.041666666666667,1.5,1.45,1.0666666666666669,1.3833333333333333,1.2083333333333335,1.2916666666666667,1.625,1.3333333333333333,0.9166666666666666,1.3833333333333333,1.4833333333333334,1.3666666666666667,1.2166666666666666,1.7333333333333334,1.35,1.9833333333333334,1.1166666666666667,1.4666666666666666,1.25,1.3916666666666666,1.3,1.5833333333333335,1.3,1.2333333333333334,1.3083333333333333,0.8833333333333333,1.2583333333333333,1.2666666666666666,0.9166666666666666,1.2166666666666668,1.3333333333333333,1.1166666666666667,1.6,1.1833333333333333,1.2833333333333334,1.1166666666666667,1.1333333333333333,0.95,1.25,2.1166666666666667,1.4,1.0833333333333333,1.2833333333333334,1.5,1.7833333333333334,1.3166666666666667,1.2,1.475,1.1,1.7333333333333334,1.1833333333333333,1.2166666666666666,1.1166666666666667,1.1666666666666667,1.5666666666666667,1.3083333333333333,1.85,1.5666666666666667,1.4833333333333334,1.3333333333333333,1.125,1.5833333333333333,1.5166666666666666,1.9833333333333334,1.0750000000000002,1.05,1.2833333333333334,1.7166666666666666,1.3666666666666667,1.5833333333333333,1.1666666666666665,1.5166666666666666,1.45,1.0666666666666667,1.625,1.35,1.2833333333333334,1.4333333333333333,1.1333333333333333,1.2916666666666665,1.825,1.3,1.475,1.4083333333333332,1.3833333333333333,1.7999999999999998,1.6166666666666667,1.2833333333333334,1.9083333333333332,1.7333333333333334,1.4666666666666666,1.7,1.4833333333333334,0.9833333333333333,1.3,1.0333333333333334,1.5,1.3833333333333333,2.2,1.1749999999999998,1.6,1.1,1.1,1.6,1.15,1.3166666666666667,1.5833333333333333,1.4166666666666667,1.15,1.1666666666666667,1.025,1.4833333333333334,1.2666666666666666,1.1666666666666667,1.2583333333333333,1.4166666666666667,1.0666666666666667,1.5,1.2166666666666668,1.9083333333333332,1.5833333333333333,1.3416666666666668,1.0916666666666668,1.1166666666666667,1.3,2.0833333333333335,1.1666666666666665,1.2,1.1833333333333333,1.75,1.4833333333333334,1.55,1.0,1.15,1.4916666666666667,1.5666666666666669,1.5833333333333333,1.225,1.5,1.25,1.1416666666666666,0.95,1.8333333333333335,1.3333333333333333,1.2416666666666667,1.675,1.4833333333333334,1.7333333333333334,1.6083333333333334,1.2333333333333334,1.2,1.7333333333333334,1.8416666666666668,1.3333333333333333,1.6,1.1666666666666667,1.3833333333333333,1.3666666666666667,1.6,1.15,1.6833333333333331,1.225,1.0833333333333333],\"xaxis\":\"x\",\"yaxis\":\"y\"},{\"alignmentgroup\":\"True\",\"bingroup\":\"x\",\"hovertemplate\":\"level_group=75.0<br>churn=1<br>delta_time=%{x}<br>count=%{y}<extra></extra>\",\"legendgroup\":\"75.0, 1\",\"marker\":{\"color\":\"#FFA15A\",\"pattern\":{\"shape\":\"/\"}},\"name\":\"75.0, 1\",\"nbinsx\":5,\"offsetgroup\":\"75.0, 1\",\"orientation\":\"v\",\"showlegend\":true,\"type\":\"histogram\",\"x\":[1.7083333333333333,1.4,1.3666666666666667,1.45,1.8166666666666667,1.4666666666666666],\"xaxis\":\"x\",\"yaxis\":\"y\"},{\"alignmentgroup\":\"True\",\"bingroup\":\"x\",\"hovertemplate\":\"level_group=60.0<br>churn=1<br>delta_time=%{x}<br>count=%{y}<extra></extra>\",\"legendgroup\":\"60.0, 1\",\"marker\":{\"color\":\"#19d3f3\",\"pattern\":{\"shape\":\"/\"}},\"name\":\"60.0, 1\",\"nbinsx\":5,\"offsetgroup\":\"60.0, 1\",\"orientation\":\"v\",\"showlegend\":true,\"type\":\"histogram\",\"x\":[1.5416666666666667,1.5166666666666666,1.75,1.5916666666666668,1.5666666666666667,1.425,1.475,1.5083333333333333,1.2833333333333334,1.6833333333333333,1.5083333333333333,1.6333333333333333,1.3583333333333334,1.3666666666666667,1.5,1.5,1.95,1.5833333333333333,1.7333333333333334,1.2333333333333334,1.4833333333333334,1.8416666666666668],\"xaxis\":\"x\",\"yaxis\":\"y\"},{\"alignmentgroup\":\"True\",\"bingroup\":\"x\",\"hovertemplate\":\"level_group=90.0<br>churn=1<br>delta_time=%{x}<br>count=%{y}<extra></extra>\",\"legendgroup\":\"90.0, 1\",\"marker\":{\"color\":\"#FF6692\",\"pattern\":{\"shape\":\"/\"}},\"name\":\"90.0, 1\",\"nbinsx\":5,\"offsetgroup\":\"90.0, 1\",\"orientation\":\"v\",\"showlegend\":true,\"type\":\"histogram\",\"x\":[1.6166666666666667],\"xaxis\":\"x\",\"yaxis\":\"y\"}],                        {\"barmode\":\"group\",\"legend\":{\"title\":{\"text\":\"level_group, churn\"},\"tracegroupgap\":0},\"template\":{\"data\":{\"bar\":[{\"error_x\":{\"color\":\"#2a3f5f\"},\"error_y\":{\"color\":\"#2a3f5f\"},\"marker\":{\"line\":{\"color\":\"#E5ECF6\",\"width\":0.5},\"pattern\":{\"fillmode\":\"overlay\",\"size\":10,\"solidity\":0.2}},\"type\":\"bar\"}],\"barpolar\":[{\"marker\":{\"line\":{\"color\":\"#E5ECF6\",\"width\":0.5},\"pattern\":{\"fillmode\":\"overlay\",\"size\":10,\"solidity\":0.2}},\"type\":\"barpolar\"}],\"carpet\":[{\"aaxis\":{\"endlinecolor\":\"#2a3f5f\",\"gridcolor\":\"white\",\"linecolor\":\"white\",\"minorgridcolor\":\"white\",\"startlinecolor\":\"#2a3f5f\"},\"baxis\":{\"endlinecolor\":\"#2a3f5f\",\"gridcolor\":\"white\",\"linecolor\":\"white\",\"minorgridcolor\":\"white\",\"startlinecolor\":\"#2a3f5f\"},\"type\":\"carpet\"}],\"choropleth\":[{\"colorbar\":{\"outlinewidth\":0,\"ticks\":\"\"},\"type\":\"choropleth\"}],\"contour\":[{\"colorbar\":{\"outlinewidth\":0,\"ticks\":\"\"},\"colorscale\":[[0.0,\"#0d0887\"],[0.1111111111111111,\"#46039f\"],[0.2222222222222222,\"#7201a8\"],[0.3333333333333333,\"#9c179e\"],[0.4444444444444444,\"#bd3786\"],[0.5555555555555556,\"#d8576b\"],[0.6666666666666666,\"#ed7953\"],[0.7777777777777778,\"#fb9f3a\"],[0.8888888888888888,\"#fdca26\"],[1.0,\"#f0f921\"]],\"type\":\"contour\"}],\"contourcarpet\":[{\"colorbar\":{\"outlinewidth\":0,\"ticks\":\"\"},\"type\":\"contourcarpet\"}],\"heatmap\":[{\"colorbar\":{\"outlinewidth\":0,\"ticks\":\"\"},\"colorscale\":[[0.0,\"#0d0887\"],[0.1111111111111111,\"#46039f\"],[0.2222222222222222,\"#7201a8\"],[0.3333333333333333,\"#9c179e\"],[0.4444444444444444,\"#bd3786\"],[0.5555555555555556,\"#d8576b\"],[0.6666666666666666,\"#ed7953\"],[0.7777777777777778,\"#fb9f3a\"],[0.8888888888888888,\"#fdca26\"],[1.0,\"#f0f921\"]],\"type\":\"heatmap\"}],\"heatmapgl\":[{\"colorbar\":{\"outlinewidth\":0,\"ticks\":\"\"},\"colorscale\":[[0.0,\"#0d0887\"],[0.1111111111111111,\"#46039f\"],[0.2222222222222222,\"#7201a8\"],[0.3333333333333333,\"#9c179e\"],[0.4444444444444444,\"#bd3786\"],[0.5555555555555556,\"#d8576b\"],[0.6666666666666666,\"#ed7953\"],[0.7777777777777778,\"#fb9f3a\"],[0.8888888888888888,\"#fdca26\"],[1.0,\"#f0f921\"]],\"type\":\"heatmapgl\"}],\"histogram\":[{\"marker\":{\"pattern\":{\"fillmode\":\"overlay\",\"size\":10,\"solidity\":0.2}},\"type\":\"histogram\"}],\"histogram2d\":[{\"colorbar\":{\"outlinewidth\":0,\"ticks\":\"\"},\"colorscale\":[[0.0,\"#0d0887\"],[0.1111111111111111,\"#46039f\"],[0.2222222222222222,\"#7201a8\"],[0.3333333333333333,\"#9c179e\"],[0.4444444444444444,\"#bd3786\"],[0.5555555555555556,\"#d8576b\"],[0.6666666666666666,\"#ed7953\"],[0.7777777777777778,\"#fb9f3a\"],[0.8888888888888888,\"#fdca26\"],[1.0,\"#f0f921\"]],\"type\":\"histogram2d\"}],\"histogram2dcontour\":[{\"colorbar\":{\"outlinewidth\":0,\"ticks\":\"\"},\"colorscale\":[[0.0,\"#0d0887\"],[0.1111111111111111,\"#46039f\"],[0.2222222222222222,\"#7201a8\"],[0.3333333333333333,\"#9c179e\"],[0.4444444444444444,\"#bd3786\"],[0.5555555555555556,\"#d8576b\"],[0.6666666666666666,\"#ed7953\"],[0.7777777777777778,\"#fb9f3a\"],[0.8888888888888888,\"#fdca26\"],[1.0,\"#f0f921\"]],\"type\":\"histogram2dcontour\"}],\"mesh3d\":[{\"colorbar\":{\"outlinewidth\":0,\"ticks\":\"\"},\"type\":\"mesh3d\"}],\"parcoords\":[{\"line\":{\"colorbar\":{\"outlinewidth\":0,\"ticks\":\"\"}},\"type\":\"parcoords\"}],\"pie\":[{\"automargin\":true,\"type\":\"pie\"}],\"scatter\":[{\"marker\":{\"colorbar\":{\"outlinewidth\":0,\"ticks\":\"\"}},\"type\":\"scatter\"}],\"scatter3d\":[{\"line\":{\"colorbar\":{\"outlinewidth\":0,\"ticks\":\"\"}},\"marker\":{\"colorbar\":{\"outlinewidth\":0,\"ticks\":\"\"}},\"type\":\"scatter3d\"}],\"scattercarpet\":[{\"marker\":{\"colorbar\":{\"outlinewidth\":0,\"ticks\":\"\"}},\"type\":\"scattercarpet\"}],\"scattergeo\":[{\"marker\":{\"colorbar\":{\"outlinewidth\":0,\"ticks\":\"\"}},\"type\":\"scattergeo\"}],\"scattergl\":[{\"marker\":{\"colorbar\":{\"outlinewidth\":0,\"ticks\":\"\"}},\"type\":\"scattergl\"}],\"scattermapbox\":[{\"marker\":{\"colorbar\":{\"outlinewidth\":0,\"ticks\":\"\"}},\"type\":\"scattermapbox\"}],\"scatterpolar\":[{\"marker\":{\"colorbar\":{\"outlinewidth\":0,\"ticks\":\"\"}},\"type\":\"scatterpolar\"}],\"scatterpolargl\":[{\"marker\":{\"colorbar\":{\"outlinewidth\":0,\"ticks\":\"\"}},\"type\":\"scatterpolargl\"}],\"scatterternary\":[{\"marker\":{\"colorbar\":{\"outlinewidth\":0,\"ticks\":\"\"}},\"type\":\"scatterternary\"}],\"surface\":[{\"colorbar\":{\"outlinewidth\":0,\"ticks\":\"\"},\"colorscale\":[[0.0,\"#0d0887\"],[0.1111111111111111,\"#46039f\"],[0.2222222222222222,\"#7201a8\"],[0.3333333333333333,\"#9c179e\"],[0.4444444444444444,\"#bd3786\"],[0.5555555555555556,\"#d8576b\"],[0.6666666666666666,\"#ed7953\"],[0.7777777777777778,\"#fb9f3a\"],[0.8888888888888888,\"#fdca26\"],[1.0,\"#f0f921\"]],\"type\":\"surface\"}],\"table\":[{\"cells\":{\"fill\":{\"color\":\"#EBF0F8\"},\"line\":{\"color\":\"white\"}},\"header\":{\"fill\":{\"color\":\"#C8D4E3\"},\"line\":{\"color\":\"white\"}},\"type\":\"table\"}]},\"layout\":{\"annotationdefaults\":{\"arrowcolor\":\"#2a3f5f\",\"arrowhead\":0,\"arrowwidth\":1},\"autotypenumbers\":\"strict\",\"coloraxis\":{\"colorbar\":{\"outlinewidth\":0,\"ticks\":\"\"}},\"colorscale\":{\"diverging\":[[0,\"#8e0152\"],[0.1,\"#c51b7d\"],[0.2,\"#de77ae\"],[0.3,\"#f1b6da\"],[0.4,\"#fde0ef\"],[0.5,\"#f7f7f7\"],[0.6,\"#e6f5d0\"],[0.7,\"#b8e186\"],[0.8,\"#7fbc41\"],[0.9,\"#4d9221\"],[1,\"#276419\"]],\"sequential\":[[0.0,\"#0d0887\"],[0.1111111111111111,\"#46039f\"],[0.2222222222222222,\"#7201a8\"],[0.3333333333333333,\"#9c179e\"],[0.4444444444444444,\"#bd3786\"],[0.5555555555555556,\"#d8576b\"],[0.6666666666666666,\"#ed7953\"],[0.7777777777777778,\"#fb9f3a\"],[0.8888888888888888,\"#fdca26\"],[1.0,\"#f0f921\"]],\"sequentialminus\":[[0.0,\"#0d0887\"],[0.1111111111111111,\"#46039f\"],[0.2222222222222222,\"#7201a8\"],[0.3333333333333333,\"#9c179e\"],[0.4444444444444444,\"#bd3786\"],[0.5555555555555556,\"#d8576b\"],[0.6666666666666666,\"#ed7953\"],[0.7777777777777778,\"#fb9f3a\"],[0.8888888888888888,\"#fdca26\"],[1.0,\"#f0f921\"]]},\"colorway\":[\"#636efa\",\"#EF553B\",\"#00cc96\",\"#ab63fa\",\"#FFA15A\",\"#19d3f3\",\"#FF6692\",\"#B6E880\",\"#FF97FF\",\"#FECB52\"],\"font\":{\"color\":\"#2a3f5f\"},\"geo\":{\"bgcolor\":\"white\",\"lakecolor\":\"white\",\"landcolor\":\"#E5ECF6\",\"showlakes\":true,\"showland\":true,\"subunitcolor\":\"white\"},\"hoverlabel\":{\"align\":\"left\"},\"hovermode\":\"closest\",\"mapbox\":{\"style\":\"light\"},\"paper_bgcolor\":\"white\",\"plot_bgcolor\":\"#E5ECF6\",\"polar\":{\"angularaxis\":{\"gridcolor\":\"white\",\"linecolor\":\"white\",\"ticks\":\"\"},\"bgcolor\":\"#E5ECF6\",\"radialaxis\":{\"gridcolor\":\"white\",\"linecolor\":\"white\",\"ticks\":\"\"}},\"scene\":{\"xaxis\":{\"backgroundcolor\":\"#E5ECF6\",\"gridcolor\":\"white\",\"gridwidth\":2,\"linecolor\":\"white\",\"showbackground\":true,\"ticks\":\"\",\"zerolinecolor\":\"white\"},\"yaxis\":{\"backgroundcolor\":\"#E5ECF6\",\"gridcolor\":\"white\",\"gridwidth\":2,\"linecolor\":\"white\",\"showbackground\":true,\"ticks\":\"\",\"zerolinecolor\":\"white\"},\"zaxis\":{\"backgroundcolor\":\"#E5ECF6\",\"gridcolor\":\"white\",\"gridwidth\":2,\"linecolor\":\"white\",\"showbackground\":true,\"ticks\":\"\",\"zerolinecolor\":\"white\"}},\"shapedefaults\":{\"line\":{\"color\":\"#2a3f5f\"}},\"ternary\":{\"aaxis\":{\"gridcolor\":\"white\",\"linecolor\":\"white\",\"ticks\":\"\"},\"baxis\":{\"gridcolor\":\"white\",\"linecolor\":\"white\",\"ticks\":\"\"},\"bgcolor\":\"#E5ECF6\",\"caxis\":{\"gridcolor\":\"white\",\"linecolor\":\"white\",\"ticks\":\"\"}},\"title\":{\"x\":0.05},\"xaxis\":{\"automargin\":true,\"gridcolor\":\"white\",\"linecolor\":\"white\",\"ticks\":\"\",\"title\":{\"standoff\":15},\"zerolinecolor\":\"white\",\"zerolinewidth\":2},\"yaxis\":{\"automargin\":true,\"gridcolor\":\"white\",\"linecolor\":\"white\",\"ticks\":\"\",\"title\":{\"standoff\":15},\"zerolinecolor\":\"white\",\"zerolinewidth\":2}}},\"title\":{\"text\":\"Histogram for delta_time\"},\"xaxis\":{\"anchor\":\"y\",\"domain\":[0.0,1.0],\"title\":{\"text\":\"delta_time\"}},\"yaxis\":{\"anchor\":\"x\",\"domain\":[0.0,1.0],\"title\":{\"text\":\"count\"}}},                        {\"responsive\": true}                    ).then(function(){\n",
              "                            \n",
              "var gd = document.getElementById('b02186ef-96e6-4564-8998-eac3ab9da46b');\n",
              "var x = new MutationObserver(function (mutations, observer) {{\n",
              "        var display = window.getComputedStyle(gd).display;\n",
              "        if (!display || display === 'none') {{\n",
              "            console.log([gd, 'removed!']);\n",
              "            Plotly.purge(gd);\n",
              "            observer.disconnect();\n",
              "        }}\n",
              "}});\n",
              "\n",
              "// Listen for the removal of the full notebook cells\n",
              "var notebookContainer = gd.closest('#notebook-container');\n",
              "if (notebookContainer) {{\n",
              "    x.observe(notebookContainer, {childList: true});\n",
              "}}\n",
              "\n",
              "// Listen for the clearing of the current output cell\n",
              "var outputEl = gd.closest('.output');\n",
              "if (outputEl) {{\n",
              "    x.observe(outputEl, {childList: true});\n",
              "}}\n",
              "\n",
              "                        })                };                            </script>        </div>\n",
              "</body>\n",
              "</html>"
            ]
          },
          "metadata": {}
        }
      ]
    },
    {
      "cell_type": "code",
      "metadata": {
        "colab": {
          "base_uri": "https://localhost:8080/",
          "height": 542
        },
        "id": "cWrNEU5pwKSB",
        "outputId": "a4de3326-f51d-49c4-9e5a-3b6ffb30ba07"
      },
      "source": [
        "px.histogram(table_2[table_2['delta_time']>= 3], x='delta_time', color='level_group', pattern_shape=\"churn\",\n",
        "             title='Histogram for delta_time',\n",
        "             barmode='group',nbins=5)"
      ],
      "execution_count": null,
      "outputs": [
        {
          "output_type": "display_data",
          "data": {
            "text/html": [
              "<html>\n",
              "<head><meta charset=\"utf-8\" /></head>\n",
              "<body>\n",
              "    <div>            <script src=\"https://cdnjs.cloudflare.com/ajax/libs/mathjax/2.7.5/MathJax.js?config=TeX-AMS-MML_SVG\"></script><script type=\"text/javascript\">if (window.MathJax) {MathJax.Hub.Config({SVG: {font: \"STIX-Web\"}});}</script>                <script type=\"text/javascript\">window.PlotlyConfig = {MathJaxConfig: 'local'};</script>\n",
              "        <script src=\"https://cdn.plot.ly/plotly-2.3.1.min.js\"></script>                <div id=\"5abb505c-7e89-4f67-9852-cfdd6001768a\" class=\"plotly-graph-div\" style=\"height:525px; width:100%;\"></div>            <script type=\"text/javascript\">                                    window.PLOTLYENV=window.PLOTLYENV || {};                                    if (document.getElementById(\"5abb505c-7e89-4f67-9852-cfdd6001768a\")) {                    Plotly.newPlot(                        \"5abb505c-7e89-4f67-9852-cfdd6001768a\",                        [{\"alignmentgroup\":\"True\",\"bingroup\":\"x\",\"hovertemplate\":\"level_group=0.0<br>churn=0<br>delta_time=%{x}<br>count=%{y}<extra></extra>\",\"legendgroup\":\"0.0, 0\",\"marker\":{\"color\":\"#636efa\",\"pattern\":{\"shape\":\"\"}},\"name\":\"0.0, 0\",\"nbinsx\":5,\"offsetgroup\":\"0.0, 0\",\"orientation\":\"v\",\"showlegend\":true,\"type\":\"histogram\",\"x\":[3.0083333333333333,4.2,3.4833333333333334,3.55,3.466666666666667,3.1],\"xaxis\":\"x\",\"yaxis\":\"y\"},{\"alignmentgroup\":\"True\",\"bingroup\":\"x\",\"hovertemplate\":\"level_group=0.0<br>churn=1<br>delta_time=%{x}<br>count=%{y}<extra></extra>\",\"legendgroup\":\"0.0, 1\",\"marker\":{\"color\":\"#636efa\",\"pattern\":{\"shape\":\"/\"}},\"name\":\"0.0, 1\",\"nbinsx\":5,\"offsetgroup\":\"0.0, 1\",\"orientation\":\"v\",\"showlegend\":true,\"type\":\"histogram\",\"x\":[453.40833333333336,3.0833333333333335,3.816666666666667,305.05,3.4833333333333334,67.70833333333333,3.15,3.9,4.7,1179.8666666666666,4.6499999999999995,464.5333333333333],\"xaxis\":\"x\",\"yaxis\":\"y\"}],                        {\"barmode\":\"group\",\"legend\":{\"title\":{\"text\":\"level_group, churn\"},\"tracegroupgap\":0},\"template\":{\"data\":{\"bar\":[{\"error_x\":{\"color\":\"#2a3f5f\"},\"error_y\":{\"color\":\"#2a3f5f\"},\"marker\":{\"line\":{\"color\":\"#E5ECF6\",\"width\":0.5},\"pattern\":{\"fillmode\":\"overlay\",\"size\":10,\"solidity\":0.2}},\"type\":\"bar\"}],\"barpolar\":[{\"marker\":{\"line\":{\"color\":\"#E5ECF6\",\"width\":0.5},\"pattern\":{\"fillmode\":\"overlay\",\"size\":10,\"solidity\":0.2}},\"type\":\"barpolar\"}],\"carpet\":[{\"aaxis\":{\"endlinecolor\":\"#2a3f5f\",\"gridcolor\":\"white\",\"linecolor\":\"white\",\"minorgridcolor\":\"white\",\"startlinecolor\":\"#2a3f5f\"},\"baxis\":{\"endlinecolor\":\"#2a3f5f\",\"gridcolor\":\"white\",\"linecolor\":\"white\",\"minorgridcolor\":\"white\",\"startlinecolor\":\"#2a3f5f\"},\"type\":\"carpet\"}],\"choropleth\":[{\"colorbar\":{\"outlinewidth\":0,\"ticks\":\"\"},\"type\":\"choropleth\"}],\"contour\":[{\"colorbar\":{\"outlinewidth\":0,\"ticks\":\"\"},\"colorscale\":[[0.0,\"#0d0887\"],[0.1111111111111111,\"#46039f\"],[0.2222222222222222,\"#7201a8\"],[0.3333333333333333,\"#9c179e\"],[0.4444444444444444,\"#bd3786\"],[0.5555555555555556,\"#d8576b\"],[0.6666666666666666,\"#ed7953\"],[0.7777777777777778,\"#fb9f3a\"],[0.8888888888888888,\"#fdca26\"],[1.0,\"#f0f921\"]],\"type\":\"contour\"}],\"contourcarpet\":[{\"colorbar\":{\"outlinewidth\":0,\"ticks\":\"\"},\"type\":\"contourcarpet\"}],\"heatmap\":[{\"colorbar\":{\"outlinewidth\":0,\"ticks\":\"\"},\"colorscale\":[[0.0,\"#0d0887\"],[0.1111111111111111,\"#46039f\"],[0.2222222222222222,\"#7201a8\"],[0.3333333333333333,\"#9c179e\"],[0.4444444444444444,\"#bd3786\"],[0.5555555555555556,\"#d8576b\"],[0.6666666666666666,\"#ed7953\"],[0.7777777777777778,\"#fb9f3a\"],[0.8888888888888888,\"#fdca26\"],[1.0,\"#f0f921\"]],\"type\":\"heatmap\"}],\"heatmapgl\":[{\"colorbar\":{\"outlinewidth\":0,\"ticks\":\"\"},\"colorscale\":[[0.0,\"#0d0887\"],[0.1111111111111111,\"#46039f\"],[0.2222222222222222,\"#7201a8\"],[0.3333333333333333,\"#9c179e\"],[0.4444444444444444,\"#bd3786\"],[0.5555555555555556,\"#d8576b\"],[0.6666666666666666,\"#ed7953\"],[0.7777777777777778,\"#fb9f3a\"],[0.8888888888888888,\"#fdca26\"],[1.0,\"#f0f921\"]],\"type\":\"heatmapgl\"}],\"histogram\":[{\"marker\":{\"pattern\":{\"fillmode\":\"overlay\",\"size\":10,\"solidity\":0.2}},\"type\":\"histogram\"}],\"histogram2d\":[{\"colorbar\":{\"outlinewidth\":0,\"ticks\":\"\"},\"colorscale\":[[0.0,\"#0d0887\"],[0.1111111111111111,\"#46039f\"],[0.2222222222222222,\"#7201a8\"],[0.3333333333333333,\"#9c179e\"],[0.4444444444444444,\"#bd3786\"],[0.5555555555555556,\"#d8576b\"],[0.6666666666666666,\"#ed7953\"],[0.7777777777777778,\"#fb9f3a\"],[0.8888888888888888,\"#fdca26\"],[1.0,\"#f0f921\"]],\"type\":\"histogram2d\"}],\"histogram2dcontour\":[{\"colorbar\":{\"outlinewidth\":0,\"ticks\":\"\"},\"colorscale\":[[0.0,\"#0d0887\"],[0.1111111111111111,\"#46039f\"],[0.2222222222222222,\"#7201a8\"],[0.3333333333333333,\"#9c179e\"],[0.4444444444444444,\"#bd3786\"],[0.5555555555555556,\"#d8576b\"],[0.6666666666666666,\"#ed7953\"],[0.7777777777777778,\"#fb9f3a\"],[0.8888888888888888,\"#fdca26\"],[1.0,\"#f0f921\"]],\"type\":\"histogram2dcontour\"}],\"mesh3d\":[{\"colorbar\":{\"outlinewidth\":0,\"ticks\":\"\"},\"type\":\"mesh3d\"}],\"parcoords\":[{\"line\":{\"colorbar\":{\"outlinewidth\":0,\"ticks\":\"\"}},\"type\":\"parcoords\"}],\"pie\":[{\"automargin\":true,\"type\":\"pie\"}],\"scatter\":[{\"marker\":{\"colorbar\":{\"outlinewidth\":0,\"ticks\":\"\"}},\"type\":\"scatter\"}],\"scatter3d\":[{\"line\":{\"colorbar\":{\"outlinewidth\":0,\"ticks\":\"\"}},\"marker\":{\"colorbar\":{\"outlinewidth\":0,\"ticks\":\"\"}},\"type\":\"scatter3d\"}],\"scattercarpet\":[{\"marker\":{\"colorbar\":{\"outlinewidth\":0,\"ticks\":\"\"}},\"type\":\"scattercarpet\"}],\"scattergeo\":[{\"marker\":{\"colorbar\":{\"outlinewidth\":0,\"ticks\":\"\"}},\"type\":\"scattergeo\"}],\"scattergl\":[{\"marker\":{\"colorbar\":{\"outlinewidth\":0,\"ticks\":\"\"}},\"type\":\"scattergl\"}],\"scattermapbox\":[{\"marker\":{\"colorbar\":{\"outlinewidth\":0,\"ticks\":\"\"}},\"type\":\"scattermapbox\"}],\"scatterpolar\":[{\"marker\":{\"colorbar\":{\"outlinewidth\":0,\"ticks\":\"\"}},\"type\":\"scatterpolar\"}],\"scatterpolargl\":[{\"marker\":{\"colorbar\":{\"outlinewidth\":0,\"ticks\":\"\"}},\"type\":\"scatterpolargl\"}],\"scatterternary\":[{\"marker\":{\"colorbar\":{\"outlinewidth\":0,\"ticks\":\"\"}},\"type\":\"scatterternary\"}],\"surface\":[{\"colorbar\":{\"outlinewidth\":0,\"ticks\":\"\"},\"colorscale\":[[0.0,\"#0d0887\"],[0.1111111111111111,\"#46039f\"],[0.2222222222222222,\"#7201a8\"],[0.3333333333333333,\"#9c179e\"],[0.4444444444444444,\"#bd3786\"],[0.5555555555555556,\"#d8576b\"],[0.6666666666666666,\"#ed7953\"],[0.7777777777777778,\"#fb9f3a\"],[0.8888888888888888,\"#fdca26\"],[1.0,\"#f0f921\"]],\"type\":\"surface\"}],\"table\":[{\"cells\":{\"fill\":{\"color\":\"#EBF0F8\"},\"line\":{\"color\":\"white\"}},\"header\":{\"fill\":{\"color\":\"#C8D4E3\"},\"line\":{\"color\":\"white\"}},\"type\":\"table\"}]},\"layout\":{\"annotationdefaults\":{\"arrowcolor\":\"#2a3f5f\",\"arrowhead\":0,\"arrowwidth\":1},\"autotypenumbers\":\"strict\",\"coloraxis\":{\"colorbar\":{\"outlinewidth\":0,\"ticks\":\"\"}},\"colorscale\":{\"diverging\":[[0,\"#8e0152\"],[0.1,\"#c51b7d\"],[0.2,\"#de77ae\"],[0.3,\"#f1b6da\"],[0.4,\"#fde0ef\"],[0.5,\"#f7f7f7\"],[0.6,\"#e6f5d0\"],[0.7,\"#b8e186\"],[0.8,\"#7fbc41\"],[0.9,\"#4d9221\"],[1,\"#276419\"]],\"sequential\":[[0.0,\"#0d0887\"],[0.1111111111111111,\"#46039f\"],[0.2222222222222222,\"#7201a8\"],[0.3333333333333333,\"#9c179e\"],[0.4444444444444444,\"#bd3786\"],[0.5555555555555556,\"#d8576b\"],[0.6666666666666666,\"#ed7953\"],[0.7777777777777778,\"#fb9f3a\"],[0.8888888888888888,\"#fdca26\"],[1.0,\"#f0f921\"]],\"sequentialminus\":[[0.0,\"#0d0887\"],[0.1111111111111111,\"#46039f\"],[0.2222222222222222,\"#7201a8\"],[0.3333333333333333,\"#9c179e\"],[0.4444444444444444,\"#bd3786\"],[0.5555555555555556,\"#d8576b\"],[0.6666666666666666,\"#ed7953\"],[0.7777777777777778,\"#fb9f3a\"],[0.8888888888888888,\"#fdca26\"],[1.0,\"#f0f921\"]]},\"colorway\":[\"#636efa\",\"#EF553B\",\"#00cc96\",\"#ab63fa\",\"#FFA15A\",\"#19d3f3\",\"#FF6692\",\"#B6E880\",\"#FF97FF\",\"#FECB52\"],\"font\":{\"color\":\"#2a3f5f\"},\"geo\":{\"bgcolor\":\"white\",\"lakecolor\":\"white\",\"landcolor\":\"#E5ECF6\",\"showlakes\":true,\"showland\":true,\"subunitcolor\":\"white\"},\"hoverlabel\":{\"align\":\"left\"},\"hovermode\":\"closest\",\"mapbox\":{\"style\":\"light\"},\"paper_bgcolor\":\"white\",\"plot_bgcolor\":\"#E5ECF6\",\"polar\":{\"angularaxis\":{\"gridcolor\":\"white\",\"linecolor\":\"white\",\"ticks\":\"\"},\"bgcolor\":\"#E5ECF6\",\"radialaxis\":{\"gridcolor\":\"white\",\"linecolor\":\"white\",\"ticks\":\"\"}},\"scene\":{\"xaxis\":{\"backgroundcolor\":\"#E5ECF6\",\"gridcolor\":\"white\",\"gridwidth\":2,\"linecolor\":\"white\",\"showbackground\":true,\"ticks\":\"\",\"zerolinecolor\":\"white\"},\"yaxis\":{\"backgroundcolor\":\"#E5ECF6\",\"gridcolor\":\"white\",\"gridwidth\":2,\"linecolor\":\"white\",\"showbackground\":true,\"ticks\":\"\",\"zerolinecolor\":\"white\"},\"zaxis\":{\"backgroundcolor\":\"#E5ECF6\",\"gridcolor\":\"white\",\"gridwidth\":2,\"linecolor\":\"white\",\"showbackground\":true,\"ticks\":\"\",\"zerolinecolor\":\"white\"}},\"shapedefaults\":{\"line\":{\"color\":\"#2a3f5f\"}},\"ternary\":{\"aaxis\":{\"gridcolor\":\"white\",\"linecolor\":\"white\",\"ticks\":\"\"},\"baxis\":{\"gridcolor\":\"white\",\"linecolor\":\"white\",\"ticks\":\"\"},\"bgcolor\":\"#E5ECF6\",\"caxis\":{\"gridcolor\":\"white\",\"linecolor\":\"white\",\"ticks\":\"\"}},\"title\":{\"x\":0.05},\"xaxis\":{\"automargin\":true,\"gridcolor\":\"white\",\"linecolor\":\"white\",\"ticks\":\"\",\"title\":{\"standoff\":15},\"zerolinecolor\":\"white\",\"zerolinewidth\":2},\"yaxis\":{\"automargin\":true,\"gridcolor\":\"white\",\"linecolor\":\"white\",\"ticks\":\"\",\"title\":{\"standoff\":15},\"zerolinecolor\":\"white\",\"zerolinewidth\":2}}},\"title\":{\"text\":\"Histogram for delta_time\"},\"xaxis\":{\"anchor\":\"y\",\"domain\":[0.0,1.0],\"title\":{\"text\":\"delta_time\"}},\"yaxis\":{\"anchor\":\"x\",\"domain\":[0.0,1.0],\"title\":{\"text\":\"count\"}}},                        {\"responsive\": true}                    ).then(function(){\n",
              "                            \n",
              "var gd = document.getElementById('5abb505c-7e89-4f67-9852-cfdd6001768a');\n",
              "var x = new MutationObserver(function (mutations, observer) {{\n",
              "        var display = window.getComputedStyle(gd).display;\n",
              "        if (!display || display === 'none') {{\n",
              "            console.log([gd, 'removed!']);\n",
              "            Plotly.purge(gd);\n",
              "            observer.disconnect();\n",
              "        }}\n",
              "}});\n",
              "\n",
              "// Listen for the removal of the full notebook cells\n",
              "var notebookContainer = gd.closest('#notebook-container');\n",
              "if (notebookContainer) {{\n",
              "    x.observe(notebookContainer, {childList: true});\n",
              "}}\n",
              "\n",
              "// Listen for the clearing of the current output cell\n",
              "var outputEl = gd.closest('.output');\n",
              "if (outputEl) {{\n",
              "    x.observe(outputEl, {childList: true});\n",
              "}}\n",
              "\n",
              "                        })                };                            </script>        </div>\n",
              "</body>\n",
              "</html>"
            ]
          },
          "metadata": {}
        }
      ]
    },
    {
      "cell_type": "code",
      "metadata": {
        "colab": {
          "base_uri": "https://localhost:8080/",
          "height": 542
        },
        "id": "IGpttmVO6h_c",
        "outputId": "23c86b0e-bb58-4563-b9d4-a2b35c5d9406"
      },
      "source": [
        "px.scatter(table_2[table_2['delta_time'] < 3], x=\"level\", y=\"delta_time\", color='churn',\n",
        "\t         size=\"level_group\", size_max=60)"
      ],
      "execution_count": null,
      "outputs": [
        {
          "output_type": "display_data",
          "data": {
            "text/html": [
              "<html>\n",
              "<head><meta charset=\"utf-8\" /></head>\n",
              "<body>\n",
              "    <div>            <script src=\"https://cdnjs.cloudflare.com/ajax/libs/mathjax/2.7.5/MathJax.js?config=TeX-AMS-MML_SVG\"></script><script type=\"text/javascript\">if (window.MathJax) {MathJax.Hub.Config({SVG: {font: \"STIX-Web\"}});}</script>                <script type=\"text/javascript\">window.PlotlyConfig = {MathJaxConfig: 'local'};</script>\n",
              "        <script src=\"https://cdn.plot.ly/plotly-2.3.1.min.js\"></script>                <div id=\"5c28c191-a846-47dc-8939-f7cd56b5f17a\" class=\"plotly-graph-div\" style=\"height:525px; width:100%;\"></div>            <script type=\"text/javascript\">                                    window.PLOTLYENV=window.PLOTLYENV || {};                                    if (document.getElementById(\"5c28c191-a846-47dc-8939-f7cd56b5f17a\")) {                    Plotly.newPlot(                        \"5c28c191-a846-47dc-8939-f7cd56b5f17a\",                        [{\"hovertemplate\":\"level=%{x}<br>delta_time=%{y}<br>level_group=%{marker.size}<br>churn=%{marker.color}<extra></extra>\",\"legendgroup\":\"\",\"marker\":{\"color\":[0,1,0,1,1,1,1,0,0,1,1,1,1,0,0,1,1,0,1,1,1,1,1,1,1,0,1,0,0,1,0,1,0,1,1,0,0,0,1,1,0,1,0,1,1,1,0,0,0,1,1,1,1,0,0,0,0,1,0,0,1,0,1,0,1,0,0,0,0,1,0,0,1,1,1,1,1,0,0,0,1,1,1,0,0,1,0,1,0,1,1,0,0,1,1,1,0,1,1,0,0,0,0,1,0,1,1,0,0,0,0,0,1,1,1,1,0,0,1,0,1,1,1,1,1,0,1,1,1,0,1,1,0,0,1,1,1,0,1,1,0,0,1,0,0,1,1,1,1,1,1,1,0,0,0,1,0,0,1,1,0,1,1,1,1,0,1,0,0,1,0,0,1,0,0,0,0,0,0,1,1,1,1,0,0,0,0,1,0,1,0,0,1,1,1,1,1,0,1,0,0,1,1,1,1,0,1,1,0,1,1,0,1,0,0,0,1,0,1,0,0,0,0,0,1,1,0,0,0,0,0,0,1,1,0,1,1,1,1,1,0,1,1,0,1,1,1,0,0,0,0,1,1,0,1,1,0,1,0,1,1,0,0,0,1,0,0,0,0,1,0,0,0,1,0,1,0,1,1,0,0,0,1,0,0,0,0,0,1,1,1,0,1,1,1,1,0,1,0,0,1,1,1,1,1,1,1,1,0,1,1,0,0,1,1,1,0,0,1,1,1,1,0,0,1,0,1,0,0,1,1,1,1,1,1,1,1,0,0,0,1,0,0,0,0,0,0,0,1,1,0,1,0,1,0,1,1,0,0,1,1,1,1,0,1,0,0,1,0,1,1,0,0,1,0,1,0,1,1,1,1,0,1,1,1,1,1,1,0,1,0,1,1,0,1,1,1,0,1,1,1,1,1,1,1,0,0,0,0,0,0,0,1,1,1,0,1,0,0,0,0,1,0,1,0,0,0,1,1,1,1,0,1,0,1,1,0,0,1,1,0,1,1,0,1,0,1,1,0,0,0,0,0,1,1,1,1,0,1,0,1,1,1,0,1,0,0,1,0,1,0,0,0,1,1,0,1,0,1,1,1,0,0,0,0,1,0,1,1,1,1,1,0,1,0,0,0,0,1,0,1,0,0,0,1,1,0,1,1,0,0,0,1,1,1,1,0,0,0,0,1,0,1,1,1,1,1,1,1,1,1,1,0,1,1,1,1,1,0,1,0,0,1,0,1,1,1,1,1,1,0,0,1,1,1,0,1,1,1,1,1,1,0,1,0,0,1,1,0,1,0,1,1,1,1,1,0,0,1,0,1,0,0,0,0,1,0,1,0,0,1,0,0,1,0,0,0,0,0,1,1,0,1,1,0,1,0,1,0,0,0,0,0,0,1,0,1,0,0,1,0,0,1,1,1,1,0,0,1,0,1,0,0,0,0,0,1,0,1,1,1,1,0,0,1,0,1,0,1,1,1,1,0,0,1,0,1,0,1,0,0,0,0,0,1,1,1,1,0,0,1,0,1,1,1,1,0,1,1,1,1,1,0,1,0,1,1,1,0,1,0,1,1,1,1,0,1,1,1,0,1,0,1,1,0,0,1,0,1,0,1,0,0,1,1,0,0,1,1,1,1,0,1,0,0,0,0,0,0,0,0,1,0,1,1,0,0,0,1,0,1,0,1,0,0,1,0,1,1,0,1,0,1,0,1,1,0,1,1,0,1,0,1,1,1,0,0,1,0,1,1,1,1,1,1,1,1,1,1,0,1,0,0,1,1,1,1,1,0,1,1,1,1,0,0,0,1,0,0,0,0,0,1,0,0,1,1,1,0,1,1,1,1,0,1,1,1,1,1,1,0,1,0,0,0,1,1,0,1,0,0,1,0,0,1,0,0,1,0,1,0,1,1,1,0,0,1,0,0,1,0,0,1,1,0,1,1,0,1,1,0,1,0,1,0,0,0,0,1,1,0,1,1,1,1,0,1,1,1,0,1,1,0,0,1,0,0,0,1,0,0,1,1,1,0,1,1,1,0,0,1,0,0,1,1,1,1,1,1,0,1,0,0,0,1,0,0,0,1,1,1,0,0,0,1,1,0,1,0,0,1,0,0,0,0,1,1,0,1,1,0,0,1,1,1,1,1,1,0,0,1,0,0,0,1,1,0,1,0,0,1,0,1,1,0,1,1,1,0,0,1,0,0,0,1,1,1,1,1,1,0,1,1,1,1,0,0,0,1,0,1,1,1,1,1,0,1,1,1,1,0,1,1,1,1,1,0,1,0,1,0,0,0,1,1,1,1,1,0,1,1,0,1,1,1,1,1,1,1,1,1,1,1,1,1,0,0,1,1,0,1,1,0,0,1,1,0,1,0,0,1,1,0,0,0,1,1,1,1,0,0,0,0,1,1,0,1,0,1,0,1,1,0,0,0,1,1,0,1,0,0,1,0,0,0,1,0,1,0,1,0,0,1,1,1,0,0,1,1,1,0,0,1,1,0,1,0,0,1,1,1,0,0,0,1,1,1,0,0,0,0,1,1,0,1,0,0,1,1,1,1,0,1,0,1,0,1,0,0,1,1,1,0,1,1,0,1,0,1,1,0,1,1,0,0,1,0,0,1,0,1,0,0,0,0,1,0,1,0,1,1,0,1,1,0,1,1,1,0,1,0,0,1,1,0,1,0,1,1,0,0,1,1,1,1,1,0,0,0,0,0,0,1,0,1,0,1,0,0,1,0,0,1,0,0,1,0,1,1,0,1,1,1,0,1,1,0,1,1,0,1,0,0,0,1,1,0,0,0,0,1,0,1,0,1,1,1,0,1,0,1,0,0,0,0,1,0,1,1,1,1,0,0,0,1,0,0,0,1,1,1,1,0,0,1,1,1,1,0,0,1,1,0,1,1,1,1,0,0,1,1,1,0,1,0,0,1,0,0,0,0,0,1,0,1,0,0,0,1,1,1,1,0,0,1,0,1,1,1,1,0,1,0,0,0,0,1,0,1,0,0,1,0,1,0,1,1,1,0,0,1,0,0,0,0,1,0,1,1,0,1,0,1,1,0,0,0,0,0,1,0,1,1,0,0,0,1,0,1,0,0,0,1,0,0,1,1,0,1,0,0,1,1,0,1,1,0,1,0,0,0,1,0,0,1,0,0,1,0,0,1,1,0,1,0,1,0,1,0,0,0,1,0,1,0,0,1,1,1,0,0,1,1,1,0,1,0,1,0,0,1,0,0,1,1,0,1,1,1,0,1,0,1,0,1,0,0,0,1,0,0,1,0,1,1,0,0,0,0,0,1,0,1,0,0,0,0,1,0,1,0,0,0,0,1,0,0,1,1,1,0,1,1,1,0,1,1,0,0,0,1,0,1,0,0,1,1,1,0,1,1,1,1,0,0,1,0,0,1,1,0,1,0,0,1,0,1,0,1,0,0,0,1,0,1,1,1,1,0,0,1,1,0,1,0,1,1,1,1,0,1,1,1,0,0,0,0,1,0,1,0,0,0,1,1,1,1,1,1,1,0,0,1,1,0,0,0,1,1,1,1,1,1,0,1,0,0,1,1,1,1,0,1,0,0,1,1,0,0,1,1,1,0,1,0,1,0,1,1,1,0,0,1,1,1,1,1,0,0,0,1,0,1,1,1,1,0,1,0,1,1,1,0,1,1,1,1,1,0,1,0,0,1,0,0,1,1,1,1,0,0,0,1,1,0,0,1,0,1,0,1,0,0,1,0,0,0,1,0,1,0,1,0,0,1,0,1,1,0,1,0,1,0,0,0,0,1,0,1,0,1,1,0,1,1,1,1,0,0,0,1,0,1,0,1,1,1,0,0,1,1,1,0,1,1,1,1,1,1,0,0,1,0,0,0,0,0,0,0,0,0,1,1,0,1,1,1,0,1,1,1,1,1,1,1,0,0,0,0,0,1,1,0,0,1,0,1,0,0,1,0,1,1,0,1,0,0,1,0,1,1,0,0,1,1,1,0,0,0,0,0,0,0,0,0,1,1,0,1,1,0,1,1,1,1,1,0,0,1,1,1,0,1,1,0,0,0,1,0,1,1,0,1,0,1,1,0,0,1,1,0,0,1,1,0,1,1,1,1,1,1,0,0,0,0,0,0,1,0,0,1,1,0,0,1,1,0,0,1,0,1,0,1,0,0,1,1,1,0,1,0,1,1,0,1,1,1,0,1,1,0,0,1,1,1,1,1,1,1,1,1,0,0,1,1,1,0,1,0,0,0,0,0,0,0,1,1,1,1,1,1,1,1,1,0,0,1,1,1,1,0,1,1,1,1,0,1,1,1,0,1,0,1,1,1,1,0,1,1,1,0,0,0,1,0,1,1,1,1,1,0,1,1,1,0,0,0,0,0,1,0,1,0,0,1,1,1,1,1,1,0,1,0,0,0,1,0,1,1,1,0,1,1,1,0,1,1,0,0,1,1,0,1,0,0,0,0,0,1,0,1,1,0,1,1,1,1,1,1,1,0,0,1,0,1,0,1,1,1,1,0,0,0,1,1,1,0,0,0,1,0,0,0,1,0,1,1,1,1,1,0,1,0,1,0,1,0,1,1,1,1,0,0,1,1,1,1,1,0,0,1,0,1,1,1,0,1,0,0,0,0,1,1,1,1,0,1,0,0,0,0,0,0,0,1,1,1,0,1,0,0,1,0,1,0,1,1,0,0,0,0,0,1,0,0,0,0,0,0,1,0,0,0,0,1,1,0,1,0,0,1,0,0,1,1,1,1,0,0,1,0,1,0,1,0,1,0,1,0,0,0,1,0,0,0,0,1,1,0,0,0,1,0,1,0,1,1,1,1,0,1,1,1,1,1,0,0,1,1,1,0,0,0,0,1,1,1,0,0,0,0,0,1,0,0,1,0,1,0,0,1,1,0,0,0,0,0,1,0,1,0,0,1,0,1,0,1,1,1,0,1,0,1,0,0,0,0,0,1,1,1,1,1,0,1,1,0,1,0,1,0,1,1,0,1,0,0,0,1,1,0,0,0,1,1,1,1,0,1,1,0,1,1,1,1,1,1,0,1,0,0,1,1,1,1,0,0,1,1,1,1,1,0,1,0,1,1,1,1,0,1,0,1,0,1,1,1,0,1,0,1,1,1,0,1,1,0,1,1,1,1,1,1,0,1,1,0,1,1,1,0,1,0,0,0,1,0,1,1,1,0,1,0,1,0,1,1,0,0,0,0,1,1,1,1,0,1,1,0,1,1,1,0,0,1,1,0,0,1,1,1,1,0,1,1,0,1,0,0,1,0,0,1,0,0,1,0,1,1,1,1,1,1,1,0,0,1,0,1,0,1,0,0,1,1,0,1,0,0,0,1,0,0,0,1,0,0,1,1,1,1,1,0,1,1,1,0,0,1,0,0,0,1,0,1,0,1,1,0,0,0,1,0,0,1,0,0,0,1,0,1,0,0,1,0,1,0,1,0,0,0,1,0,1,1,0,1,0,0,1,0,1,0,1,0,0,1,1,1,0,0,0,1,0,1,1,1,0,0,0,0,0,0,0,1,0,1,0,1,1,0,0,0,0,1,0,0,1,0,1,0,1,0,1,1,1,1,1,1,0,0,0,0,0,0,0,0,0,1,1,1,1,0,0,0,0,1,1,1,0,1,0,0,0,1,0,0,1,1,0,0,1,0,0,0,0,0,0,1,1,0,0,1,1,0,0,0,1,1,0,1,1,1,1,1,0,1,1,0,1,1,0,1,1,0,1,0,0,1,0,0,1,0,1,0,1,1,0,0,1,0,1,1,0,1,1,1,1,1,1,1,1,1,1,0,1,0,1,0,1,1,0,0,1,1,0,1,1,1,1,1,1,0,0,0,1,1,1,0,1,1,0,1,1,0,0,0,1,1,1,0,0,1,0,0,0,1,0,1,1,0,1,1,0,1,1,0,1,0,1,1,0,1,1,0,0,1,1,0,1,1,1,0,0,0,0,1,1,0,1,1,1,1,0,0,0,0,0,0,0,0,0,1,0,1,0,1,1],\"coloraxis\":\"coloraxis\",\"size\":[0.0,30.0,0.0,45.0,0.0,15.0,15.0,0.0,0.0,0.0,15.0,15.0,15.0,0.0,0.0,0.0,15.0,0.0,30.0,15.0,15.0,15.0,15.0,30.0,30.0,15.0,15.0,0.0,0.0,15.0,0.0,15.0,0.0,15.0,30.0,0.0,30.0,0.0,15.0,15.0,0.0,30.0,0.0,15.0,15.0,15.0,0.0,15.0,0.0,30.0,0.0,15.0,0.0,15.0,0.0,0.0,0.0,15.0,0.0,0.0,0.0,0.0,15.0,0.0,15.0,0.0,0.0,0.0,0.0,30.0,0.0,0.0,45.0,0.0,15.0,15.0,15.0,0.0,0.0,15.0,15.0,0.0,30.0,15.0,0.0,15.0,0.0,15.0,0.0,0.0,15.0,0.0,0.0,15.0,15.0,30.0,15.0,45.0,15.0,0.0,0.0,0.0,0.0,30.0,0.0,0.0,0.0,0.0,0.0,0.0,30.0,0.0,45.0,15.0,0.0,30.0,15.0,0.0,30.0,0.0,15.0,0.0,0.0,30.0,30.0,15.0,0.0,0.0,0.0,15.0,0.0,0.0,0.0,0.0,30.0,0.0,30.0,0.0,30.0,30.0,0.0,0.0,30.0,0.0,0.0,0.0,15.0,15.0,15.0,30.0,30.0,0.0,30.0,0.0,30.0,0.0,15.0,15.0,15.0,0.0,0.0,15.0,15.0,0.0,0.0,0.0,30.0,0.0,15.0,30.0,15.0,0.0,0.0,30.0,0.0,0.0,0.0,0.0,30.0,0.0,15.0,0.0,15.0,45.0,0.0,0.0,15.0,30.0,0.0,30.0,0.0,15.0,15.0,30.0,30.0,15.0,0.0,0.0,45.0,15.0,15.0,0.0,0.0,15.0,0.0,0.0,0.0,0.0,0.0,30.0,15.0,0.0,15.0,0.0,0.0,0.0,15.0,0.0,30.0,0.0,0.0,0.0,0.0,0.0,0.0,15.0,15.0,0.0,0.0,0.0,0.0,30.0,30.0,15.0,0.0,15.0,75.0,15.0,15.0,0.0,15.0,0.0,15.0,0.0,0.0,15.0,15.0,15.0,0.0,15.0,0.0,15.0,15.0,0.0,60.0,30.0,0.0,0.0,0.0,15.0,45.0,0.0,0.0,0.0,30.0,15.0,0.0,0.0,0.0,15.0,15.0,0.0,15.0,15.0,0.0,0.0,0.0,30.0,30.0,0.0,15.0,0.0,45.0,0.0,0.0,0.0,15.0,15.0,45.0,0.0,0.0,45.0,30.0,15.0,15.0,15.0,30.0,0.0,0.0,0.0,15.0,15.0,15.0,30.0,15.0,15.0,0.0,15.0,0.0,0.0,0.0,15.0,15.0,0.0,30.0,15.0,0.0,15.0,45.0,15.0,15.0,30.0,0.0,0.0,0.0,0.0,30.0,0.0,0.0,0.0,15.0,15.0,15.0,0.0,15.0,30.0,60.0,15.0,0.0,0.0,15.0,0.0,0.0,15.0,0.0,0.0,15.0,15.0,0.0,45.0,0.0,15.0,0.0,45.0,0.0,0.0,15.0,0.0,15.0,0.0,0.0,0.0,15.0,0.0,45.0,0.0,0.0,30.0,0.0,30.0,15.0,0.0,0.0,45.0,0.0,30.0,15.0,0.0,15.0,30.0,0.0,0.0,15.0,0.0,15.0,15.0,0.0,30.0,15.0,30.0,0.0,0.0,15.0,0.0,15.0,0.0,15.0,0.0,15.0,15.0,15.0,15.0,15.0,15.0,0.0,0.0,0.0,15.0,0.0,0.0,15.0,15.0,15.0,45.0,30.0,0.0,30.0,15.0,0.0,15.0,0.0,30.0,0.0,15.0,0.0,0.0,15.0,30.0,45.0,0.0,0.0,15.0,45.0,0.0,45.0,0.0,0.0,15.0,0.0,60.0,15.0,30.0,0.0,0.0,15.0,0.0,30.0,0.0,0.0,15.0,30.0,15.0,0.0,15.0,15.0,15.0,15.0,0.0,30.0,15.0,30.0,15.0,15.0,15.0,45.0,15.0,0.0,15.0,0.0,0.0,0.0,15.0,0.0,30.0,15.0,15.0,45.0,0.0,15.0,30.0,30.0,0.0,0.0,0.0,0.0,0.0,15.0,15.0,15.0,15.0,0.0,0.0,0.0,15.0,0.0,0.0,0.0,15.0,0.0,0.0,45.0,15.0,0.0,0.0,75.0,15.0,15.0,45.0,0.0,0.0,15.0,0.0,0.0,30.0,30.0,0.0,0.0,0.0,30.0,0.0,45.0,0.0,0.0,15.0,0.0,45.0,45.0,15.0,45.0,45.0,15.0,45.0,0.0,15.0,0.0,0.0,0.0,0.0,0.0,15.0,0.0,0.0,45.0,15.0,15.0,0.0,0.0,30.0,30.0,0.0,0.0,0.0,30.0,45.0,15.0,0.0,45.0,15.0,0.0,30.0,15.0,30.0,0.0,15.0,0.0,0.0,0.0,45.0,0.0,15.0,15.0,0.0,15.0,0.0,15.0,15.0,15.0,15.0,30.0,0.0,30.0,45.0,0.0,0.0,0.0,15.0,0.0,30.0,15.0,0.0,15.0,0.0,0.0,0.0,0.0,15.0,0.0,15.0,0.0,30.0,15.0,0.0,30.0,15.0,0.0,15.0,0.0,0.0,0.0,30.0,15.0,0.0,0.0,0.0,0.0,0.0,45.0,0.0,30.0,15.0,15.0,0.0,15.0,45.0,30.0,0.0,15.0,0.0,15.0,0.0,15.0,15.0,0.0,0.0,0.0,0.0,15.0,45.0,0.0,0.0,15.0,15.0,30.0,0.0,45.0,0.0,0.0,15.0,0.0,30.0,0.0,30.0,0.0,0.0,30.0,0.0,15.0,30.0,0.0,0.0,30.0,0.0,0.0,15.0,0.0,0.0,45.0,30.0,15.0,0.0,15.0,0.0,15.0,0.0,45.0,15.0,0.0,0.0,30.0,30.0,15.0,15.0,0.0,15.0,0.0,30.0,30.0,45.0,15.0,0.0,0.0,30.0,0.0,45.0,30.0,0.0,15.0,0.0,0.0,0.0,0.0,15.0,45.0,15.0,0.0,15.0,0.0,0.0,45.0,15.0,15.0,15.0,0.0,15.0,15.0,0.0,0.0,75.0,0.0,30.0,0.0,0.0,15.0,0.0,0.0,0.0,30.0,15.0,0.0,45.0,0.0,0.0,0.0,45.0,0.0,15.0,0.0,15.0,0.0,0.0,15.0,0.0,15.0,0.0,0.0,15.0,0.0,75.0,30.0,0.0,0.0,15.0,0.0,15.0,0.0,30.0,0.0,15.0,0.0,0.0,30.0,15.0,30.0,30.0,15.0,0.0,15.0,0.0,0.0,15.0,0.0,30.0,45.0,15.0,45.0,0.0,30.0,30.0,15.0,0.0,0.0,0.0,0.0,0.0,15.0,30.0,30.0,15.0,0.0,60.0,15.0,0.0,0.0,15.0,0.0,0.0,15.0,0.0,0.0,0.0,0.0,0.0,30.0,0.0,0.0,15.0,45.0,15.0,15.0,0.0,15.0,0.0,30.0,0.0,30.0,15.0,0.0,0.0,15.0,0.0,30.0,60.0,0.0,15.0,0.0,60.0,15.0,0.0,0.0,0.0,15.0,0.0,0.0,15.0,45.0,15.0,0.0,0.0,0.0,0.0,15.0,0.0,15.0,0.0,30.0,15.0,0.0,15.0,15.0,15.0,0.0,0.0,45.0,15.0,0.0,15.0,30.0,0.0,45.0,60.0,0.0,15.0,0.0,0.0,0.0,0.0,0.0,0.0,0.0,15.0,0.0,0.0,15.0,15.0,15.0,15.0,60.0,15.0,0.0,0.0,0.0,30.0,0.0,0.0,0.0,0.0,45.0,15.0,30.0,0.0,0.0,45.0,75.0,0.0,15.0,0.0,0.0,30.0,0.0,0.0,15.0,0.0,0.0,0.0,30.0,0.0,15.0,15.0,0.0,0.0,15.0,15.0,0.0,0.0,15.0,0.0,30.0,0.0,0.0,15.0,0.0,0.0,0.0,0.0,15.0,0.0,0.0,45.0,30.0,0.0,15.0,15.0,0.0,0.0,0.0,15.0,15.0,0.0,30.0,15.0,0.0,0.0,45.0,0.0,45.0,15.0,15.0,15.0,0.0,0.0,15.0,0.0,0.0,0.0,0.0,30.0,0.0,45.0,0.0,15.0,0.0,15.0,0.0,0.0,0.0,30.0,15.0,15.0,30.0,0.0,0.0,15.0,0.0,0.0,15.0,15.0,15.0,15.0,0.0,15.0,0.0,15.0,15.0,15.0,0.0,15.0,0.0,0.0,15.0,0.0,0.0,0.0,15.0,30.0,15.0,30.0,15.0,0.0,15.0,15.0,15.0,15.0,0.0,45.0,0.0,0.0,0.0,0.0,30.0,15.0,15.0,0.0,0.0,15.0,15.0,30.0,30.0,0.0,0.0,0.0,0.0,15.0,15.0,30.0,90.0,15.0,0.0,15.0,45.0,0.0,0.0,0.0,45.0,0.0,0.0,0.0,0.0,30.0,0.0,45.0,45.0,0.0,0.0,0.0,0.0,0.0,15.0,15.0,0.0,15.0,0.0,0.0,0.0,15.0,15.0,15.0,30.0,30.0,30.0,0.0,30.0,0.0,0.0,0.0,0.0,0.0,15.0,0.0,30.0,15.0,30.0,30.0,0.0,0.0,0.0,45.0,0.0,15.0,0.0,0.0,0.0,0.0,0.0,15.0,15.0,15.0,0.0,0.0,0.0,0.0,0.0,15.0,45.0,60.0,45.0,0.0,30.0,30.0,30.0,15.0,0.0,15.0,30.0,15.0,15.0,15.0,0.0,0.0,60.0,15.0,15.0,0.0,15.0,0.0,30.0,15.0,15.0,0.0,0.0,0.0,0.0,45.0,15.0,0.0,0.0,0.0,0.0,30.0,15.0,30.0,30.0,15.0,15.0,0.0,15.0,30.0,15.0,30.0,15.0,45.0,15.0,0.0,15.0,0.0,0.0,0.0,0.0,0.0,0.0,0.0,0.0,30.0,30.0,0.0,0.0,15.0,15.0,0.0,15.0,0.0,15.0,0.0,0.0,15.0,30.0,15.0,0.0,15.0,0.0,30.0,45.0,0.0,30.0,0.0,15.0,0.0,0.0,45.0,15.0,0.0,0.0,30.0,45.0,15.0,0.0,15.0,15.0,15.0,0.0,0.0,0.0,45.0,45.0,30.0,15.0,0.0,0.0,0.0,0.0,0.0,0.0,0.0,0.0,0.0,30.0,0.0,30.0,0.0,0.0,0.0,0.0,0.0,15.0,0.0,0.0,30.0,0.0,30.0,15.0,0.0,30.0,30.0,0.0,0.0,15.0,15.0,0.0,0.0,0.0,30.0,15.0,0.0,0.0,0.0,15.0,0.0,0.0,15.0,15.0,30.0,15.0,15.0,15.0,0.0,0.0,15.0,15.0,0.0,30.0,0.0,15.0,0.0,0.0,15.0,0.0,45.0,30.0,15.0,0.0,30.0,15.0,0.0,0.0,0.0,15.0,30.0,0.0,0.0,30.0,15.0,0.0,30.0,15.0,0.0,15.0,30.0,30.0,15.0,0.0,0.0,0.0,15.0,45.0,15.0,0.0,45.0,30.0,0.0,0.0,45.0,30.0,0.0,0.0,15.0,0.0,0.0,15.0,0.0,0.0,0.0,0.0,0.0,15.0,0.0,0.0,0.0,0.0,0.0,30.0,0.0,30.0,15.0,15.0,0.0,45.0,15.0,0.0,30.0,15.0,0.0,15.0,45.0,0.0,0.0,0.0,0.0,0.0,30.0,0.0,0.0,0.0,15.0,0.0,15.0,15.0,0.0,15.0,0.0,0.0,0.0,0.0,0.0,0.0,0.0,0.0,15.0,0.0,0.0,15.0,15.0,15.0,15.0,15.0,60.0,0.0,15.0,0.0,0.0,0.0,0.0,0.0,15.0,60.0,0.0,0.0,0.0,15.0,0.0,0.0,15.0,0.0,15.0,30.0,15.0,0.0,30.0,45.0,0.0,0.0,15.0,0.0,45.0,0.0,0.0,15.0,30.0,0.0,0.0,0.0,0.0,0.0,30.0,0.0,0.0,45.0,0.0,0.0,0.0,15.0,15.0,0.0,15.0,0.0,15.0,0.0,30.0,0.0,45.0,0.0,0.0,0.0,15.0,0.0,45.0,0.0,0.0,0.0,45.0,30.0,0.0,0.0,15.0,30.0,15.0,0.0,30.0,0.0,30.0,45.0,15.0,45.0,15.0,0.0,0.0,0.0,0.0,45.0,0.0,15.0,0.0,0.0,0.0,0.0,15.0,15.0,0.0,15.0,0.0,0.0,0.0,15.0,15.0,0.0,0.0,30.0,0.0,15.0,0.0,0.0,15.0,30.0,0.0,15.0,30.0,30.0,0.0,0.0,15.0,0.0,15.0,0.0,0.0,15.0,0.0,0.0,0.0,0.0,0.0,30.0,15.0,0.0,15.0,15.0,0.0,0.0,30.0,60.0,0.0,0.0,0.0,15.0,15.0,0.0,15.0,15.0,15.0,15.0,30.0,0.0,0.0,0.0,30.0,0.0,0.0,0.0,15.0,0.0,0.0,30.0,0.0,0.0,15.0,15.0,0.0,15.0,0.0,30.0,0.0,15.0,0.0,0.0,0.0,15.0,0.0,0.0,15.0,30.0,0.0,0.0,0.0,0.0,15.0,0.0,0.0,15.0,15.0,0.0,30.0,0.0,0.0,15.0,15.0,15.0,0.0,15.0,0.0,30.0,15.0,0.0,15.0,15.0,0.0,0.0,15.0,15.0,15.0,45.0,15.0,30.0,15.0,0.0,0.0,15.0,15.0,0.0,0.0,0.0,30.0,0.0,15.0,45.0,0.0,45.0,0.0,15.0,0.0,0.0,30.0,15.0,0.0,30.0,0.0,0.0,15.0,0.0,30.0,30.0,0.0,0.0,0.0,15.0,15.0,0.0,0.0,15.0,30.0,15.0,15.0,0.0,45.0,0.0,0.0,15.0,0.0,0.0,0.0,0.0,0.0,0.0,0.0,30.0,45.0,45.0,30.0,30.0,0.0,15.0,45.0,0.0,15.0,0.0,30.0,15.0,0.0,15.0,0.0,45.0,0.0,15.0,15.0,0.0,0.0,15.0,0.0,15.0,15.0,60.0,30.0,30.0,0.0,0.0,0.0,0.0,0.0,0.0,0.0,0.0,0.0,30.0,0.0,45.0,0.0,0.0,30.0,15.0,0.0,0.0,0.0,0.0,15.0,30.0,30.0,15.0,15.0,0.0,0.0,0.0,0.0,0.0,15.0,30.0,15.0,0.0,15.0,15.0,0.0,15.0,0.0,30.0,0.0,15.0,15.0,0.0,0.0,45.0,15.0,0.0,15.0,0.0,0.0,15.0,0.0,60.0,15.0,0.0,15.0,15.0,0.0,0.0,0.0,30.0,30.0,0.0,15.0,15.0,15.0,0.0,30.0,15.0,0.0,0.0,15.0,15.0,15.0,0.0,30.0,15.0,15.0,15.0,15.0,0.0,0.0,15.0,0.0,15.0,15.0,15.0,0.0,0.0,30.0,15.0,60.0,30.0,15.0,30.0,15.0,30.0,0.0,0.0,0.0,30.0,15.0,0.0,0.0,30.0,0.0,15.0,0.0,15.0,15.0,0.0,0.0,30.0,0.0,30.0,15.0,0.0,15.0,0.0,0.0,30.0,0.0,0.0,45.0,30.0,0.0,0.0,0.0,0.0,15.0,0.0,30.0,15.0,15.0,0.0,0.0,15.0,0.0,15.0,0.0,0.0,45.0,15.0,15.0,30.0,30.0,0.0,0.0,30.0,15.0,0.0,0.0,0.0,30.0,0.0,0.0,15.0,0.0,0.0,0.0,0.0,15.0,30.0,0.0,45.0,0.0,0.0,15.0,15.0,0.0,0.0,0.0,30.0,30.0,0.0,30.0,0.0,15.0,0.0,30.0,0.0,0.0,0.0,0.0,0.0,45.0,0.0,0.0,0.0,15.0,15.0,15.0,0.0,0.0,0.0,0.0,0.0,15.0,0.0,0.0,15.0,0.0,0.0,0.0,0.0,0.0,0.0,0.0,15.0,0.0,0.0,0.0,0.0,15.0,45.0,0.0,0.0,15.0,15.0,15.0,0.0,0.0,30.0,15.0,15.0,0.0,0.0,0.0,0.0,30.0,15.0,0.0,0.0,15.0,45.0,0.0,0.0,15.0,0.0,0.0,0.0,0.0,0.0,15.0,0.0,0.0,45.0,45.0,15.0,15.0,15.0,15.0,0.0,15.0,0.0,0.0,30.0,30.0,15.0,15.0,0.0,45.0,30.0,15.0,0.0,15.0,45.0,15.0,45.0,0.0,15.0,15.0,0.0,30.0,15.0,15.0,0.0,0.0,0.0,30.0,0.0,0.0,0.0,15.0,0.0,60.0,0.0,30.0,30.0,0.0,0.0,15.0,30.0,15.0,0.0,15.0,0.0,0.0,15.0,15.0,0.0,15.0,0.0,0.0,15.0,0.0,15.0,30.0,30.0,60.0,15.0,15.0,15.0,0.0,0.0,0.0,15.0,30.0,0.0,15.0,0.0,15.0,0.0,0.0,0.0,30.0,15.0,0.0,15.0,15.0,15.0,30.0,30.0,0.0,0.0,15.0,15.0,0.0,0.0,0.0,15.0,0.0,0.0,30.0,15.0,15.0,30.0,45.0,30.0,30.0,0.0,0.0,30.0,0.0,60.0,0.0,0.0,0.0,0.0,15.0,0.0,0.0,0.0,0.0,15.0,45.0,0.0,15.0,0.0,15.0,0.0,0.0,15.0,15.0,0.0,15.0,0.0,0.0,45.0,15.0,15.0,45.0,0.0,0.0,15.0,0.0,0.0,45.0,45.0,0.0,0.0,0.0,15.0,45.0,0.0,15.0,30.0,0.0,0.0,0.0,0.0,15.0,45.0,45.0,45.0,0.0,15.0,0.0,15.0,0.0,15.0,0.0,15.0,30.0,15.0,0.0,15.0,15.0,0.0,0.0,15.0,30.0,15.0,0.0,0.0,30.0,15.0,0.0,15.0,15.0,0.0,0.0,15.0,15.0,0.0,0.0,15.0,0.0,0.0,0.0,45.0,0.0,15.0,0.0,15.0,0.0,15.0,15.0,0.0,15.0,0.0,45.0,0.0,0.0,30.0,15.0,0.0,15.0,0.0,0.0,30.0,0.0,0.0,0.0,0.0,0.0,15.0,0.0,0.0,15.0,30.0,15.0,0.0,30.0,0.0,30.0,15.0,15.0,0.0,0.0,45.0,0.0,0.0,15.0,0.0,0.0,15.0,0.0,0.0,0.0,0.0,30.0,15.0,15.0,0.0,15.0,15.0,0.0,0.0,0.0,15.0,15.0,15.0,0.0,45.0,0.0,45.0,15.0,15.0,30.0,0.0,15.0,0.0,0.0,30.0,15.0,45.0,0.0,0.0,0.0,0.0,0.0,0.0,0.0,0.0,30.0,15.0,30.0,0.0,15.0,15.0,0.0,0.0,0.0,0.0,15.0,30.0,15.0,0.0,45.0,0.0,0.0,15.0,15.0,0.0,15.0,45.0,0.0,0.0,0.0,45.0,0.0,30.0,15.0,0.0,0.0,0.0,0.0,15.0,0.0,0.0,30.0,15.0,0.0,15.0,15.0,0.0,15.0,15.0,0.0,15.0,15.0,30.0,0.0,15.0,0.0,0.0,15.0,30.0,45.0,0.0,0.0,0.0,30.0,0.0,15.0,0.0,0.0,45.0,0.0,0.0,0.0,0.0,45.0,15.0,30.0,15.0,0.0,0.0,0.0,0.0,30.0,15.0,0.0,30.0,0.0,0.0,15.0,15.0,0.0,0.0,15.0,0.0,15.0,15.0,45.0,0.0,0.0,15.0,15.0,15.0,0.0,15.0,0.0,15.0,0.0,30.0,0.0,30.0,0.0,15.0,0.0,15.0,15.0,15.0,0.0,15.0,0.0,30.0,30.0,30.0,30.0,15.0,0.0,0.0,15.0,0.0,15.0,30.0,15.0,0.0,15.0,0.0,15.0,0.0,15.0,15.0,0.0,15.0,30.0,0.0,0.0,0.0,15.0,15.0,15.0,15.0,0.0,15.0,15.0,15.0,45.0,0.0,30.0,45.0,15.0,15.0,15.0,0.0,60.0,15.0,45.0,15.0,0.0,15.0,0.0,0.0,0.0,15.0,30.0,0.0,0.0,15.0,0.0,30.0,15.0,45.0,0.0,0.0,15.0,0.0,0.0,30.0,0.0,15.0,15.0,0.0,30.0,0.0,0.0,0.0,15.0,15.0,15.0,0.0,0.0,0.0,0.0,30.0,0.0,0.0,15.0,15.0,30.0,0.0,0.0,30.0,0.0,0.0,15.0,15.0,0.0,15.0,0.0,15.0,30.0,0.0,15.0,30.0,45.0,45.0,0.0,0.0,45.0,15.0,0.0,30.0,0.0,30.0,0.0,0.0,0.0,0.0,0.0,30.0,0.0,60.0,30.0,0.0,0.0,0.0,15.0,15.0,0.0,15.0,0.0,0.0,30.0,15.0,15.0,15.0,0.0,0.0,15.0,0.0,0.0,0.0,45.0,15.0,0.0,0.0,15.0,15.0,15.0,15.0,0.0,45.0,0.0,30.0,30.0,0.0,0.0,15.0,45.0,0.0,0.0,75.0,15.0,0.0,0.0,0.0,0.0,30.0,0.0,30.0,0.0,30.0,0.0,0.0,0.0,0.0,15.0,0.0,0.0,0.0,15.0,30.0,0.0,0.0,15.0,0.0,0.0,0.0,0.0,15.0,0.0,0.0,0.0,0.0,0.0,0.0,0.0,0.0,0.0,30.0,45.0,0.0,45.0,15.0,0.0,0.0,0.0,0.0,0.0,15.0,0.0,0.0,15.0,0.0,15.0,15.0,30.0,15.0,0.0,0.0,0.0,15.0,0.0,30.0,0.0,15.0,0.0,15.0,0.0,30.0,30.0,15.0,15.0,0.0,0.0,0.0,15.0,0.0,15.0,15.0,0.0,0.0,0.0,15.0,15.0,0.0,0.0,15.0,0.0,30.0,0.0,0.0,0.0,60.0,15.0,15.0,15.0,0.0,30.0,0.0,0.0,15.0,30.0,0.0,30.0,0.0,0.0,30.0,15.0,0.0,15.0,30.0,0.0,15.0,15.0,0.0,15.0,0.0,45.0,0.0,15.0,30.0,0.0,0.0,15.0,15.0,15.0,30.0,0.0,15.0,45.0,15.0,15.0,15.0,30.0,30.0,15.0,15.0,0.0,0.0,45.0,0.0,0.0,15.0,15.0,15.0,0.0,0.0,15.0,15.0,15.0,45.0,45.0,30.0,0.0,0.0,15.0,0.0,0.0,0.0,30.0,0.0,30.0,0.0,0.0,45.0,0.0,45.0,15.0,0.0,0.0,0.0,0.0,15.0,15.0,15.0,0.0,0.0,15.0,0.0,0.0,0.0,0.0,30.0,15.0,0.0,30.0,0.0,0.0,30.0,15.0,0.0,30.0,15.0,0.0,45.0,15.0,15.0,15.0,0.0,0.0,45.0,30.0,0.0,15.0,0.0,45.0,0.0,0.0,0.0,0.0,15.0,0.0,0.0,15.0,0.0,0.0,0.0,0.0,0.0,0.0,0.0,0.0,0.0,0.0,0.0,15.0,15.0,0.0,15.0,0.0,0.0,15.0],\"sizemode\":\"area\",\"sizeref\":0.025,\"symbol\":\"circle\"},\"mode\":\"markers\",\"name\":\"\",\"showlegend\":false,\"type\":\"scattergl\",\"x\":[5.0,44.0,4.0,58.0,4.0,19.0,28.0,11.0,5.0,5.0,19.0,20.0,25.0,13.0,3.0,4.0,16.0,13.0,35.0,20.0,23.0,29.0,21.0,41.0,41.0,22.0,19.0,1.0,9.0,16.0,3.0,22.0,2.0,25.0,40.0,9.0,39.0,6.0,15.0,15.0,3.0,40.0,10.0,15.0,28.0,29.0,9.0,28.0,11.0,37.0,6.0,20.0,8.0,16.0,12.0,1.0,3.0,23.0,14.0,3.0,9.0,13.0,16.0,7.0,20.0,4.0,10.0,6.0,3.0,32.0,2.0,14.0,46.0,7.0,17.0,29.0,25.0,3.0,1.0,18.0,16.0,9.0,39.0,15.0,11.0,28.0,1.0,16.0,8.0,13.0,23.0,14.0,6.0,22.0,24.0,43.0,26.0,47.0,20.0,6.0,2.0,1.0,10.0,41.0,6.0,1.0,3.0,5.0,4.0,3.0,31.0,6.0,49.0,26.0,15.0,31.0,23.0,10.0,37.0,6.0,21.0,9.0,7.0,32.0,43.0,17.0,11.0,11.0,2.0,28.0,6.0,5.0,2.0,14.0,41.0,14.0,37.0,6.0,37.0,31.0,1.0,1.0,39.0,7.0,11.0,14.0,26.0,15.0,23.0,31.0,40.0,3.0,30.0,6.0,32.0,10.0,15.0,20.0,16.0,15.0,4.0,28.0,15.0,14.0,9.0,10.0,37.0,2.0,22.0,31.0,19.0,7.0,8.0,40.0,4.0,6.0,2.0,8.0,43.0,1.0,22.0,4.0,16.0,50.0,12.0,11.0,16.0,33.0,1.0,43.0,8.0,20.0,27.0,37.0,39.0,20.0,15.0,9.0,46.0,22.0,18.0,2.0,3.0,17.0,10.0,3.0,7.0,14.0,14.0,33.0,29.0,4.0,25.0,14.0,11.0,14.0,27.0,8.0,33.0,6.0,1.0,14.0,14.0,2.0,15.0,25.0,24.0,2.0,1.0,7.0,9.0,31.0,32.0,29.0,9.0,29.0,90.0,19.0,16.0,14.0,22.0,10.0,29.0,4.0,3.0,16.0,16.0,17.0,4.0,15.0,7.0,28.0,27.0,5.0,61.0,43.0,1.0,15.0,6.0,20.0,46.0,1.0,2.0,1.0,39.0,15.0,2.0,14.0,9.0,23.0,19.0,13.0,28.0,15.0,3.0,15.0,9.0,31.0,31.0,10.0,17.0,6.0,50.0,10.0,6.0,1.0,15.0,28.0,50.0,14.0,7.0,47.0,40.0,27.0,15.0,19.0,36.0,7.0,1.0,4.0,27.0,29.0,28.0,35.0,17.0,15.0,14.0,27.0,9.0,7.0,2.0,15.0,16.0,10.0,31.0,17.0,1.0,23.0,54.0,30.0,28.0,33.0,2.0,2.0,4.0,8.0,39.0,10.0,4.0,13.0,17.0,29.0,25.0,6.0,24.0,38.0,72.0,27.0,4.0,13.0,30.0,7.0,4.0,15.0,6.0,1.0,15.0,17.0,13.0,50.0,1.0,25.0,13.0,53.0,5.0,2.0,16.0,1.0,15.0,11.0,5.0,2.0,25.0,4.0,51.0,9.0,2.0,39.0,1.0,30.0,17.0,3.0,9.0,54.0,11.0,33.0,16.0,11.0,26.0,31.0,11.0,11.0,20.0,13.0,27.0,21.0,11.0,44.0,17.0,40.0,10.0,4.0,29.0,2.0,15.0,1.0,27.0,5.0,27.0,15.0,23.0,19.0,29.0,23.0,5.0,4.0,11.0,16.0,1.0,3.0,28.0,27.0,23.0,49.0,38.0,1.0,41.0,28.0,11.0,15.0,1.0,37.0,8.0,29.0,1.0,3.0,19.0,43.0,54.0,9.0,10.0,15.0,48.0,14.0,50.0,14.0,11.0,19.0,11.0,61.0,19.0,38.0,9.0,11.0,19.0,1.0,32.0,12.0,2.0,15.0,31.0,20.0,5.0,23.0,15.0,20.0,18.0,14.0,33.0,17.0,41.0,16.0,28.0,15.0,52.0,26.0,6.0,24.0,10.0,15.0,6.0,26.0,2.0,40.0,27.0,16.0,52.0,5.0,16.0,31.0,39.0,3.0,3.0,1.0,9.0,11.0,20.0,25.0,26.0,20.0,8.0,10.0,5.0,29.0,11.0,11.0,5.0,15.0,2.0,11.0,50.0,16.0,11.0,4.0,77.0,29.0,26.0,46.0,6.0,1.0,16.0,1.0,6.0,33.0,32.0,13.0,2.0,14.0,41.0,9.0,46.0,4.0,9.0,22.0,11.0,60.0,49.0,29.0,46.0,46.0,23.0,46.0,4.0,25.0,5.0,14.0,13.0,2.0,2.0,30.0,2.0,11.0,51.0,21.0,29.0,9.0,7.0,31.0,35.0,15.0,1.0,1.0,31.0,46.0,19.0,14.0,54.0,28.0,12.0,33.0,17.0,31.0,4.0,27.0,14.0,1.0,1.0,47.0,7.0,18.0,22.0,7.0,15.0,8.0,29.0,23.0,15.0,28.0,37.0,11.0,33.0,49.0,14.0,14.0,2.0,29.0,1.0,32.0,22.0,6.0,16.0,9.0,5.0,10.0,5.0,15.0,4.0,28.0,4.0,38.0,23.0,9.0,40.0,16.0,5.0,26.0,2.0,4.0,1.0,30.0,16.0,6.0,5.0,1.0,1.0,7.0,49.0,5.0,40.0,16.0,15.0,14.0,19.0,50.0,36.0,9.0,15.0,1.0,20.0,1.0,27.0,22.0,1.0,3.0,10.0,2.0,20.0,52.0,10.0,12.0,23.0,18.0,35.0,4.0,49.0,3.0,14.0,17.0,2.0,43.0,3.0,44.0,10.0,6.0,34.0,12.0,16.0,36.0,4.0,14.0,36.0,3.0,3.0,16.0,11.0,14.0,45.0,44.0,28.0,1.0,15.0,14.0,23.0,1.0,60.0,23.0,7.0,1.0,40.0,33.0,22.0,29.0,4.0,20.0,1.0,41.0,40.0,46.0,22.0,9.0,3.0,32.0,14.0,54.0,33.0,13.0,24.0,1.0,10.0,9.0,6.0,15.0,48.0,21.0,11.0,24.0,11.0,7.0,50.0,21.0,20.0,18.0,1.0,29.0,21.0,9.0,1.0,83.0,9.0,32.0,14.0,1.0,16.0,3.0,1.0,1.0,30.0,15.0,7.0,49.0,1.0,6.0,2.0,53.0,8.0,28.0,3.0,15.0,14.0,13.0,19.0,6.0,17.0,3.0,10.0,21.0,3.0,77.0,33.0,14.0,5.0,18.0,9.0,24.0,1.0,37.0,2.0,15.0,2.0,4.0,37.0,19.0,38.0,32.0,20.0,5.0,19.0,15.0,1.0,19.0,15.0,31.0,47.0,18.0,46.0,9.0,40.0,40.0,24.0,9.0,10.0,12.0,14.0,7.0,20.0,31.0,40.0,28.0,4.0,74.0,29.0,6.0,9.0,19.0,10.0,10.0,25.0,2.0,1.0,8.0,2.0,10.0,32.0,3.0,2.0,18.0,60.0,22.0,25.0,6.0,28.0,11.0,41.0,1.0,45.0,22.0,1.0,7.0,23.0,2.0,38.0,61.0,4.0,22.0,3.0,75.0,28.0,3.0,2.0,10.0,19.0,9.0,13.0,16.0,60.0,19.0,4.0,14.0,7.0,9.0,15.0,14.0,29.0,9.0,34.0,19.0,6.0,19.0,15.0,29.0,1.0,2.0,49.0,29.0,9.0,25.0,37.0,1.0,50.0,64.0,10.0,29.0,10.0,15.0,9.0,6.0,3.0,11.0,9.0,24.0,9.0,8.0,26.0,29.0,29.0,18.0,61.0,25.0,10.0,13.0,8.0,44.0,7.0,2.0,5.0,1.0,50.0,25.0,36.0,10.0,14.0,46.0,76.0,14.0,15.0,8.0,4.0,33.0,5.0,1.0,20.0,1.0,1.0,10.0,41.0,8.0,23.0,17.0,1.0,1.0,18.0,15.0,3.0,6.0,16.0,3.0,32.0,7.0,10.0,24.0,5.0,3.0,3.0,6.0,19.0,2.0,7.0,48.0,30.0,3.0,25.0,28.0,13.0,10.0,1.0,21.0,29.0,13.0,44.0,17.0,3.0,3.0,49.0,9.0,49.0,23.0,16.0,15.0,6.0,2.0,20.0,3.0,2.0,4.0,9.0,41.0,7.0,46.0,1.0,15.0,9.0,28.0,11.0,4.0,10.0,31.0,20.0,27.0,35.0,2.0,14.0,16.0,10.0,1.0,27.0,22.0,17.0,29.0,6.0,16.0,3.0,29.0,25.0,26.0,3.0,28.0,5.0,4.0,22.0,9.0,5.0,14.0,25.0,43.0,16.0,36.0,21.0,11.0,29.0,17.0,15.0,15.0,4.0,52.0,14.0,7.0,1.0,12.0,37.0,15.0,19.0,2.0,2.0,29.0,22.0,34.0,44.0,2.0,13.0,14.0,5.0,20.0,15.0,33.0,103.0,29.0,13.0,23.0,53.0,13.0,12.0,14.0,47.0,1.0,1.0,6.0,2.0,41.0,9.0,57.0,49.0,5.0,9.0,2.0,10.0,15.0,15.0,20.0,2.0,20.0,10.0,4.0,5.0,28.0,15.0,22.0,43.0,39.0,31.0,5.0,30.0,14.0,13.0,1.0,3.0,6.0,16.0,1.0,35.0,23.0,37.0,32.0,9.0,4.0,14.0,47.0,10.0,23.0,5.0,5.0,8.0,13.0,14.0,21.0,24.0,27.0,4.0,5.0,13.0,5.0,1.0,15.0,52.0,68.0,50.0,7.0,38.0,42.0,31.0,16.0,1.0,17.0,38.0,27.0,28.0,28.0,7.0,13.0,61.0,17.0,26.0,6.0,26.0,1.0,44.0,20.0,25.0,2.0,14.0,2.0,5.0,49.0,29.0,14.0,4.0,3.0,12.0,38.0,29.0,31.0,32.0,15.0,21.0,14.0,29.0,32.0,29.0,39.0,15.0,46.0,27.0,14.0,22.0,14.0,6.0,8.0,6.0,6.0,10.0,7.0,2.0,33.0,36.0,2.0,12.0,20.0,19.0,1.0,16.0,6.0,22.0,5.0,4.0,19.0,39.0,22.0,2.0,19.0,12.0,40.0,49.0,1.0,32.0,3.0,16.0,13.0,2.0,50.0,28.0,12.0,3.0,36.0,50.0,27.0,1.0,15.0,19.0,23.0,10.0,9.0,5.0,58.0,57.0,31.0,19.0,13.0,9.0,4.0,4.0,4.0,14.0,1.0,7.0,3.0,39.0,6.0,31.0,11.0,3.0,6.0,2.0,12.0,23.0,3.0,2.0,31.0,4.0,32.0,19.0,13.0,43.0,33.0,2.0,3.0,16.0,16.0,9.0,8.0,12.0,40.0,20.0,4.0,3.0,4.0,23.0,3.0,11.0,21.0,24.0,36.0,21.0,25.0,27.0,4.0,6.0,27.0,16.0,6.0,37.0,4.0,16.0,10.0,2.0,15.0,1.0,49.0,36.0,22.0,13.0,37.0,29.0,5.0,2.0,9.0,15.0,32.0,14.0,5.0,44.0,25.0,9.0,32.0,17.0,3.0,16.0,37.0,43.0,16.0,5.0,12.0,6.0,23.0,46.0,29.0,8.0,49.0,44.0,4.0,1.0,47.0,33.0,3.0,6.0,28.0,5.0,10.0,29.0,4.0,8.0,5.0,14.0,9.0,27.0,14.0,5.0,2.0,5.0,7.0,32.0,11.0,30.0,20.0,16.0,8.0,47.0,17.0,15.0,35.0,15.0,13.0,22.0,48.0,10.0,2.0,1.0,13.0,15.0,31.0,10.0,6.0,4.0,21.0,13.0,27.0,15.0,14.0,24.0,5.0,14.0,14.0,4.0,4.0,13.0,2.0,4.0,18.0,5.0,2.0,17.0,23.0,28.0,26.0,29.0,72.0,1.0,15.0,14.0,2.0,2.0,5.0,14.0,16.0,67.0,1.0,2.0,11.0,17.0,7.0,1.0,27.0,9.0,16.0,31.0,16.0,13.0,33.0,46.0,5.0,13.0,28.0,7.0,54.0,7.0,6.0,22.0,44.0,7.0,12.0,2.0,2.0,14.0,39.0,1.0,1.0,50.0,2.0,11.0,15.0,28.0,15.0,1.0,29.0,7.0,28.0,4.0,33.0,10.0,46.0,12.0,1.0,8.0,24.0,2.0,59.0,9.0,11.0,2.0,47.0,37.0,14.0,1.0,20.0,38.0,29.0,5.0,36.0,4.0,35.0,46.0,22.0,48.0,22.0,14.0,7.0,11.0,6.0,46.0,9.0,29.0,13.0,14.0,1.0,8.0,20.0,27.0,12.0,22.0,1.0,5.0,2.0,26.0,21.0,11.0,8.0,43.0,14.0,28.0,1.0,10.0,16.0,41.0,1.0,15.0,40.0,41.0,1.0,1.0,23.0,2.0,18.0,9.0,7.0,22.0,4.0,7.0,5.0,4.0,15.0,44.0,28.0,4.0,29.0,23.0,11.0,1.0,32.0,68.0,13.0,2.0,1.0,17.0,28.0,14.0,15.0,21.0,24.0,16.0,39.0,14.0,15.0,14.0,37.0,6.0,10.0,1.0,27.0,2.0,10.0,44.0,12.0,1.0,29.0,22.0,12.0,16.0,9.0,31.0,11.0,19.0,5.0,9.0,7.0,29.0,2.0,5.0,22.0,41.0,1.0,8.0,7.0,5.0,17.0,1.0,9.0,22.0,17.0,8.0,33.0,5.0,7.0,23.0,15.0,28.0,14.0,24.0,2.0,37.0,20.0,14.0,15.0,18.0,5.0,8.0,19.0,17.0,24.0,47.0,28.0,40.0,21.0,8.0,4.0,27.0,15.0,1.0,10.0,3.0,32.0,13.0,25.0,49.0,14.0,52.0,10.0,24.0,3.0,9.0,37.0,29.0,5.0,41.0,9.0,6.0,29.0,13.0,38.0,37.0,1.0,4.0,8.0,27.0,21.0,1.0,11.0,22.0,41.0,26.0,18.0,15.0,50.0,7.0,10.0,29.0,1.0,9.0,9.0,15.0,3.0,13.0,2.0,40.0,45.0,47.0,32.0,41.0,9.0,16.0,47.0,5.0,22.0,4.0,30.0,15.0,14.0,29.0,4.0,48.0,14.0,15.0,29.0,4.0,5.0,22.0,3.0,19.0,16.0,61.0,38.0,41.0,1.0,8.0,9.0,11.0,6.0,8.0,1.0,4.0,1.0,34.0,5.0,49.0,2.0,1.0,32.0,26.0,1.0,1.0,7.0,3.0,29.0,38.0,31.0,17.0,19.0,15.0,10.0,3.0,11.0,3.0,15.0,36.0,16.0,3.0,15.0,15.0,3.0,16.0,11.0,34.0,10.0,17.0,29.0,10.0,14.0,51.0,16.0,12.0,15.0,4.0,4.0,16.0,4.0,64.0,22.0,10.0,27.0,29.0,8.0,3.0,4.0,32.0,42.0,10.0,29.0,22.0,15.0,9.0,33.0,29.0,6.0,1.0,15.0,15.0,19.0,5.0,38.0,17.0,18.0,28.0,20.0,10.0,8.0,24.0,2.0,20.0,28.0,22.0,2.0,10.0,40.0,20.0,69.0,31.0,28.0,31.0,22.0,39.0,14.0,1.0,5.0,34.0,19.0,1.0,3.0,37.0,4.0,15.0,14.0,21.0,15.0,9.0,15.0,43.0,10.0,42.0,15.0,11.0,23.0,7.0,9.0,33.0,3.0,1.0,57.0,36.0,13.0,3.0,14.0,11.0,15.0,5.0,32.0,19.0,19.0,10.0,15.0,16.0,9.0,23.0,4.0,1.0,50.0,26.0,29.0,32.0,41.0,1.0,11.0,44.0,17.0,10.0,14.0,11.0,38.0,1.0,7.0,15.0,14.0,11.0,15.0,11.0,27.0,39.0,2.0,50.0,1.0,8.0,19.0,29.0,3.0,1.0,5.0,33.0,41.0,13.0,32.0,5.0,29.0,9.0,37.0,15.0,10.0,1.0,14.0,6.0,49.0,12.0,11.0,7.0,27.0,17.0,27.0,2.0,7.0,13.0,5.0,3.0,15.0,14.0,3.0,29.0,11.0,5.0,10.0,7.0,12.0,9.0,12.0,27.0,13.0,14.0,4.0,5.0,16.0,50.0,12.0,11.0,15.0,25.0,22.0,12.0,14.0,44.0,29.0,29.0,2.0,7.0,8.0,5.0,33.0,20.0,13.0,12.0,19.0,54.0,12.0,11.0,23.0,7.0,2.0,2.0,14.0,9.0,24.0,5.0,3.0,49.0,46.0,16.0,20.0,23.0,16.0,14.0,25.0,7.0,6.0,33.0,39.0,16.0,25.0,11.0,60.0,32.0,29.0,13.0,16.0,48.0,25.0,50.0,1.0,23.0,15.0,9.0,41.0,20.0,16.0,5.0,4.0,15.0,37.0,5.0,1.0,11.0,16.0,6.0,64.0,11.0,33.0,33.0,10.0,4.0,23.0,35.0,30.0,7.0,19.0,9.0,14.0,19.0,25.0,12.0,25.0,1.0,2.0,27.0,10.0,23.0,31.0,32.0,62.0,16.0,16.0,15.0,2.0,10.0,15.0,18.0,32.0,12.0,29.0,5.0,29.0,3.0,13.0,12.0,39.0,27.0,2.0,15.0,23.0,28.0,31.0,32.0,7.0,13.0,19.0,15.0,6.0,3.0,2.0,18.0,5.0,6.0,32.0,19.0,16.0,35.0,48.0,30.0,42.0,2.0,6.0,33.0,14.0,67.0,5.0,10.0,13.0,1.0,29.0,1.0,7.0,14.0,6.0,29.0,58.0,5.0,22.0,2.0,17.0,3.0,3.0,25.0,26.0,12.0,15.0,12.0,7.0,46.0,28.0,25.0,50.0,3.0,13.0,15.0,10.0,1.0,47.0,50.0,4.0,10.0,7.0,18.0,47.0,8.0,29.0,44.0,12.0,1.0,14.0,7.0,22.0,48.0,50.0,49.0,3.0,17.0,9.0,22.0,1.0,19.0,10.0,20.0,41.0,23.0,4.0,16.0,16.0,14.0,1.0,23.0,40.0,19.0,7.0,15.0,41.0,18.0,2.0,25.0,19.0,4.0,8.0,16.0,22.0,1.0,2.0,23.0,3.0,5.0,14.0,57.0,2.0,29.0,14.0,23.0,7.0,17.0,19.0,2.0,19.0,14.0,51.0,3.0,8.0,34.0,29.0,6.0,24.0,8.0,2.0,31.0,4.0,2.0,2.0,5.0,5.0,29.0,2.0,1.0,27.0,32.0,29.0,13.0,31.0,1.0,33.0,18.0,23.0,7.0,5.0,46.0,12.0,2.0,23.0,7.0,2.0,17.0,14.0,6.0,2.0,8.0,34.0,15.0,22.0,4.0,20.0,20.0,15.0,10.0,6.0,27.0,29.0,16.0,10.0,54.0,3.0,54.0,29.0,27.0,40.0,1.0,15.0,6.0,10.0,32.0,25.0,54.0,5.0,4.0,6.0,1.0,8.0,11.0,5.0,7.0,32.0,22.0,40.0,6.0,15.0,29.0,13.0,4.0,2.0,7.0,22.0,35.0,26.0,10.0,50.0,5.0,14.0,29.0,18.0,2.0,15.0,46.0,8.0,1.0,14.0,49.0,11.0,39.0,28.0,14.0,2.0,2.0,2.0,15.0,5.0,9.0,32.0,28.0,1.0,26.0,21.0,7.0,16.0,19.0,2.0,21.0,19.0,36.0,5.0,15.0,3.0,14.0,15.0,37.0,46.0,1.0,14.0,5.0,41.0,4.0,29.0,14.0,10.0,48.0,10.0,2.0,10.0,3.0,50.0,16.0,31.0,22.0,14.0,13.0,1.0,3.0,33.0,29.0,1.0,32.0,14.0,7.0,27.0,21.0,15.0,8.0,17.0,10.0,29.0,18.0,49.0,11.0,2.0,17.0,16.0,21.0,7.0,21.0,2.0,27.0,15.0,35.0,2.0,33.0,1.0,20.0,9.0,15.0,15.0,15.0,10.0,18.0,14.0,37.0,41.0,40.0,32.0,16.0,2.0,10.0,20.0,5.0,24.0,38.0,20.0,4.0,24.0,2.0,22.0,6.0,25.0,26.0,6.0,15.0,32.0,14.0,7.0,4.0,16.0,16.0,30.0,19.0,9.0,22.0,19.0,26.0,50.0,14.0,42.0,46.0,28.0,23.0,23.0,4.0,65.0,20.0,60.0,22.0,2.0,18.0,2.0,12.0,10.0,29.0,34.0,11.0,2.0,18.0,8.0,39.0,18.0,50.0,13.0,3.0,20.0,5.0,2.0,33.0,1.0,16.0,15.0,11.0,43.0,13.0,15.0,8.0,16.0,16.0,20.0,14.0,12.0,12.0,3.0,33.0,5.0,3.0,21.0,17.0,44.0,9.0,1.0,39.0,3.0,7.0,25.0,23.0,13.0,19.0,1.0,17.0,37.0,8.0,16.0,39.0,58.0,48.0,11.0,5.0,52.0,29.0,12.0,39.0,11.0,43.0,4.0,4.0,12.0,13.0,14.0,33.0,14.0,73.0,31.0,1.0,9.0,3.0,16.0,16.0,12.0,29.0,5.0,3.0,43.0,19.0,20.0,25.0,4.0,1.0,23.0,10.0,6.0,3.0,47.0,28.0,14.0,14.0,26.0,15.0,20.0,28.0,14.0,47.0,2.0,34.0,32.0,12.0,15.0,17.0,46.0,6.0,5.0,80.0,23.0,10.0,4.0,4.0,14.0,33.0,12.0,41.0,12.0,32.0,6.0,5.0,14.0,1.0,28.0,1.0,2.0,12.0,18.0,31.0,2.0,10.0,16.0,2.0,9.0,7.0,2.0,17.0,3.0,9.0,11.0,1.0,7.0,2.0,13.0,14.0,8.0,33.0,48.0,3.0,45.0,15.0,10.0,1.0,1.0,3.0,2.0,28.0,1.0,6.0,23.0,5.0,29.0,22.0,39.0,28.0,4.0,8.0,13.0,20.0,4.0,31.0,7.0,29.0,11.0,24.0,13.0,37.0,31.0,21.0,22.0,9.0,1.0,9.0,16.0,14.0,15.0,26.0,7.0,5.0,4.0,16.0,23.0,4.0,5.0,17.0,8.0,40.0,2.0,1.0,1.0,68.0,22.0,25.0,29.0,10.0,42.0,12.0,2.0,16.0,44.0,10.0,39.0,15.0,1.0,37.0,23.0,2.0,19.0,31.0,10.0,19.0,15.0,1.0,23.0,2.0,46.0,10.0,23.0,40.0,9.0,9.0,22.0,23.0,26.0,33.0,6.0,28.0,46.0,23.0,16.0,18.0,39.0,38.0,22.0,23.0,10.0,9.0,57.0,2.0,15.0,18.0,27.0,18.0,8.0,13.0,27.0,19.0,15.0,47.0,60.0,33.0,12.0,6.0,24.0,3.0,5.0,13.0,32.0,11.0,41.0,8.0,6.0,53.0,13.0,50.0,21.0,1.0,9.0,2.0,5.0,23.0,29.0,15.0,1.0,15.0,18.0,11.0,1.0,11.0,2.0,37.0,15.0,1.0,32.0,9.0,8.0,39.0,16.0,2.0,41.0,16.0,5.0,46.0,18.0,19.0,29.0,3.0,1.0,48.0,37.0,5.0,23.0,1.0,49.0,1.0,5.0,3.0,1.0,24.0,11.0,9.0,26.0,15.0,12.0,12.0,10.0,7.0,3.0,1.0,12.0,6.0,2.0,3.0,16.0,23.0,12.0,25.0,4.0,5.0,16.0],\"xaxis\":\"x\",\"y\":[0.7,1.8,0.8083333333333333,1.6416666666666666,1.0083333333333333,1.65,1.25,1.2333333333333334,0.8833333333333333,0.75,0.9583333333333334,1.55,1.3333333333333333,1.3333333333333335,0.65,0.8583333333333334,0.9583333333333333,1.0,1.3166666666666667,1.3083333333333333,1.4166666666666667,1.5083333333333333,1.0166666666666666,1.45,1.5,1.3166666666666667,1.3666666666666667,1.0583333333333333,1.0833333333333333,1.4833333333333334,2.3333333333333335,2.183333333333333,0.8333333333333334,1.4666666666666666,1.6333333333333333,2.0833333333333335,2.2666666666666666,0.8,1.05,1.375,0.6666666666666666,1.5833333333333333,0.7583333333333333,1.2333333333333334,1.3416666666666668,1.8666666666666667,0.9416666666666667,1.8916666666666666,0.8666666666666667,1.4666666666666668,0.9583333333333333,1.6833333333333333,1.075,1.075,1.2333333333333334,2.05,0.7666666666666667,1.1666666666666667,1.2166666666666668,1.3833333333333333,1.65,1.2833333333333334,1.5,0.8166666666666667,1.2666666666666666,0.55,1.0833333333333333,0.8333333333333334,0.6583333333333333,1.2833333333333332,1.225,1.1833333333333333,1.4666666666666666,1.2666666666666666,1.45,1.2333333333333334,1.3916666666666666,0.6333333333333333,2.55,1.4083333333333332,1.0499999999999998,0.9333333333333333,1.3,1.0083333333333333,0.95,1.2666666666666666,2.05,1.2166666666666666,0.9083333333333333,0.8166666666666667,1.5166666666666666,1.0166666666666666,0.9166666666666666,1.2583333333333333,1.65,1.4583333333333335,1.5,1.85,1.25,1.3333333333333333,1.2666666666666666,1.75,1.2333333333333334,1.6416666666666666,0.9666666666666668,2.1333333333333333,1.9,0.9833333333333333,0.675,0.48333333333333334,1.2166666666666666,0.6833333333333333,1.5166666666666666,1.2333333333333334,1.3,1.9,1.4666666666666666,1.3166666666666667,1.375,1.1083333333333334,1.2,0.775,0.9666666666666667,0.975,1.4333333333333333,1.1166666666666667,0.8166666666666667,1.5416666666666665,2.6083333333333334,1.2333333333333334,1.2666666666666666,1.1166666666666667,1.35,1.3333333333333335,1.5166666666666666,1.0333333333333334,1.3583333333333334,0.675,1.4833333333333334,1.4666666666666668,1.7666666666666666,1.95,1.2833333333333334,1.0666666666666667,1.1,0.9416666666666667,1.3333333333333333,1.3,1.2166666666666666,1.3333333333333333,1.9,2.716666666666667,1.1666666666666665,0.9083333333333333,1.0166666666666666,1.5166666666666666,1.4416666666666667,1.0666666666666667,1.6583333333333332,1.075,1.2249999999999999,1.3333333333333335,1.0166666666666666,0.9166666666666667,0.6666666666666666,0.675,1.3333333333333333,0.6666666666666666,1.65,1.4,0.95,0.9833333333333333,1.25,1.5,1.3333333333333335,0.7,0.6833333333333333,1.0,1.3083333333333333,2.9,1.2166666666666666,0.8416666666666667,0.9666666666666667,1.65,0.7583333333333333,1.1166666666666667,1.3583333333333334,1.3666666666666667,1.9833333333333334,2.216666666666667,0.9916666666666667,1.5583333333333333,1.5333333333333334,1.4,1.6,1.5583333333333331,2.3166666666666664,1.0416666666666667,1.35,1.5416666666666665,1.125,0.6833333333333333,2.0166666666666666,0.9916666666666667,1.5166666666666666,0.7833333333333333,0.7,0.9416666666666667,1.5083333333333333,1.1166666666666667,1.525,0.8416666666666667,1.75,0.875,0.7833333333333333,1.2333333333333334,1.45,1.0583333333333333,1.35,0.9666666666666667,2.216666666666667,1.5,1.05,1.425,1.6583333333333332,1.35,1.0833333333333335,1.1,1.9666666666666666,0.7333333333333333,1.0,1.1666666666666667,1.9166666666666667,1.5333333333333334,0.8500000000000001,1.55,1.7083333333333333,1.7,0.8500000000000001,1.3083333333333333,1.3333333333333333,1.15,1.0666666666666667,0.8583333333333334,0.9,1.35,1.1833333333333333,1.0916666666666668,0.8583333333333334,1.3666666666666667,1.0583333333333333,1.4166666666666667,1.85,1.3666666666666667,1.5416666666666667,1.3916666666666666,1.3666666666666667,1.0333333333333334,0.8166666666666667,1.4083333333333332,1.5416666666666667,1.8833333333333333,0.6,1.65,1.3333333333333333,2.45,1.9583333333333333,1.4,0.8666666666666667,1.1166666666666667,1.5833333333333333,0.9333333333333333,1.2000000000000002,1.7,0.7833333333333333,1.0333333333333334,1.0333333333333334,1.4833333333333334,1.45,1.6833333333333333,1.1833333333333333,1.0083333333333333,2.0166666666666666,1.55,0.6833333333333333,2.283333333333333,1.0833333333333333,1.4833333333333334,1.3333333333333333,1.35,1.2916666666666667,1.4666666666666666,1.2416666666666667,1.1833333333333333,1.175,1.4,1.4,0.8666666666666667,2.6666666666666665,1.7333333333333334,1.4166666666666667,1.9333333333333331,1.3666666666666667,1.3,1.15,0.8333333333333334,1.4333333333333333,1.6166666666666667,1.0666666666666667,0.8166666666666667,1.2,0.9416666666666667,1.3666666666666667,1.1666666666666667,1.3333333333333333,1.25,2.1166666666666667,1.3833333333333333,1.7166666666666668,1.725,1.05,1.6333333333333333,1.2333333333333334,1.2833333333333332,0.8,0.9166666666666667,1.6666666666666667,1.25,1.125,1.5333333333333332,1.5166666666666666,1.2833333333333332,1.0750000000000002,0.5666666666666667,1.7833333333333334,1.4666666666666666,1.5166666666666666,1.25,0.6833333333333333,1.4333333333333333,1.6666666666666665,0.9083333333333333,0.6166666666666667,1.3333333333333333,1.0166666666666666,1.2083333333333333,1.0166666666666666,1.1416666666666666,1.1333333333333333,1.6666666666666667,2.316666666666667,1.6916666666666667,1.4666666666666666,1.425,0.9166666666666666,1.15,1.6416666666666666,2.216666666666667,1.35,1.475,0.8666666666666667,1.75,1.2833333333333334,0.825,1.7833333333333334,1.7833333333333334,1.4666666666666668,1.35,2.433333333333333,1.3833333333333333,1.0833333333333333,1.1333333333333333,0.9,1.3833333333333333,0.95,1.075,0.95,1.2333333333333334,1.5083333333333333,1.0,1.2,1.1166666666666667,1.2166666666666666,1.2666666666666666,1.2416666666666667,1.8166666666666667,0.9833333333333333,1.5083333333333333,1.0,1.4333333333333333,0.75,1.0083333333333333,1.6083333333333334,1.4,1.6,1.8,1.2583333333333333,0.8833333333333333,1.6666666666666667,1.2,0.9916666666666667,1.6083333333333334,1.4833333333333334,1.425,1.2833333333333334,1.35,1.0416666666666667,1.4583333333333333,2.3333333333333335,0.7833333333333333,1.7666666666666666,1.125,1.0916666666666668,1.5333333333333334,1.275,1.6833333333333333,1.4166666666666665,1.4333333333333333,1.1749999999999998,1.5166666666666666,2.2,1.3833333333333333,1.0333333333333334,1.7416666666666667,2.15,0.9083333333333333,1.65,1.35,1.8416666666666668,1.0166666666666666,0.8333333333333333,0.8999999999999999,1.5750000000000002,1.2333333333333334,1.2666666666666666,1.0416666666666667,1.2583333333333333,1.7416666666666667,0.7833333333333333,1.75,1.4083333333333332,1.6333333333333333,1.1166666666666667,1.25,1.725,2.3666666666666667,1.35,1.05,1.3833333333333333,1.425,1.7833333333333334,1.0333333333333334,0.9,1.4583333333333333,0.9,1.6166666666666667,1.9833333333333334,1.4333333333333333,1.4,1.3666666666666667,1.6333333333333333,1.0916666666666668,1.1166666666666667,1.2916666666666667,1.475,1.3666666666666667,0.5833333333333334,1.2166666666666666,1.1333333333333333,1.4333333333333333,0.825,1.675,1.05,1.6,1.4666666666666666,1.1166666666666667,1.9166666666666667,0.8166666666666667,1.2333333333333334,1.3166666666666667,1.725,0.6666666666666666,0.8333333333333334,0.9083333333333333,1.05,1.05,1.775,1.5499999999999998,1.425,1.35,1.1749999999999998,1.4333333333333333,1.1166666666666667,1.725,0.9666666666666667,1.0,0.8666666666666667,1.325,1.3083333333333333,0.7833333333333333,1.225,0.9916666666666667,1.4166666666666667,0.6000000000000001,1.4,1.3,1.8166666666666667,1.2833333333333334,1.0083333333333333,1.7666666666666666,0.7833333333333333,2.3666666666666667,1.9166666666666665,1.4166666666666667,1.5,0.7666666666666667,1.0916666666666666,1.125,1.6916666666666667,1.2833333333333332,1.25,1.3250000000000002,1.5,1.2,1.25,1.4166666666666667,1.2833333333333334,1.3166666666666667,1.6333333333333333,1.7833333333333334,1.3666666666666667,1.65,0.7333333333333334,1.275,0.9333333333333333,1.7,1.1,0.9083333333333333,0.95,1.6666666666666667,1.0333333333333332,0.9,1.7583333333333333,1.4916666666666667,1.1833333333333333,1.1,0.6333333333333333,1.35,1.3666666666666667,1.0583333333333333,1.8333333333333333,1.9333333333333333,1.225,1.4416666666666667,1.9666666666666666,0.9833333333333333,1.4083333333333332,1.45,1.3,1.1916666666666667,1.1166666666666667,1.5,0.775,1.3333333333333335,0.8666666666666667,0.9583333333333334,1.5833333333333333,1.3666666666666667,1.4333333333333333,1.2583333333333333,1.275,0.8166666666666667,1.7666666666666666,1.2083333333333335,1.4833333333333334,1.35,0.9333333333333333,1.25,1.2333333333333334,1.5083333333333333,1.2,1.475,1.0,1.0083333333333333,1.425,1.3333333333333333,1.8,1.6416666666666666,0.9666666666666667,1.0833333333333333,1.1666666666666665,1.3166666666666667,0.9,1.0666666666666667,1.0833333333333333,0.925,0.8833333333333333,1.1333333333333333,0.75,1.5833333333333333,1.45,0.85,1.375,1.3,1.1833333333333333,1.2666666666666666,1.1083333333333334,0.775,2.0,1.4333333333333333,1.3833333333333333,1.25,0.7,1.7666666666666666,2.1,1.0083333333333333,1.2333333333333334,1.35,1.2666666666666666,1.5,1.3583333333333334,1.125,1.125,1.5416666666666667,1.2666666666666666,1.0333333333333334,1.0833333333333333,1.4833333333333334,1.1749999999999998,0.95,1.525,1.9416666666666667,2.3,0.8666666666666667,1.3833333333333333,1.2583333333333333,1.4333333333333333,1.4416666666666667,0.9666666666666667,1.5916666666666668,1.5833333333333335,1.2,1.35,0.8166666666666667,1.45,0.7666666666666667,1.4333333333333333,1.2333333333333334,1.225,2.0583333333333336,1.1,1.5,1.25,1.0333333333333334,1.3333333333333333,0.8666666666666667,1.4,1.3166666666666667,0.8583333333333334,1.1833333333333333,1.5833333333333333,1.0666666666666667,0.6,1.25,1.1166666666666667,1.25,1.475,1.2833333333333332,1.6916666666666667,1.85,0.9666666666666667,1.1749999999999998,1.8333333333333333,0.9916666666666667,1.6166666666666667,1.4166666666666667,1.25,1.2,2.1333333333333333,1.65,1.5666666666666667,1.4166666666666667,0.8166666666666667,1.3916666666666666,1.8833333333333333,1.3833333333333333,1.5,2.091666666666667,1.0666666666666667,1.3333333333333333,1.7666666666666666,2.1666666666666665,1.0083333333333333,1.5666666666666667,1.5,0.8666666666666667,1.6,2.2333333333333334,1.475,1.15,1.2,1.125,1.4333333333333333,1.5666666666666667,1.0166666666666666,1.3833333333333333,0.9666666666666667,0.95,1.5333333333333334,0.9833333333333333,1.1166666666666667,1.3666666666666667,2.55,1.5666666666666667,1.6,1.1833333333333333,1.1916666666666667,1.3666666666666667,0.9333333333333333,2.325,1.0,1.9166666666666667,1.5499999999999998,0.4916666666666667,1.6833333333333333,1.8,1.2083333333333333,1.3416666666666668,1.1833333333333333,1.625,1.8166666666666667,1.6333333333333333,1.2,2.2,1.4166666666666667,1.25,1.35,1.1583333333333332,1.3250000000000002,0.9583333333333333,1.625,1.0166666666666666,1.0833333333333333,0.95,1.4166666666666665,1.1333333333333333,0.6833333333333333,1.45,1.4166666666666667,1.0666666666666667,0.8666666666666667,1.3,1.2166666666666666,2.0166666666666666,2.316666666666667,2.066666666666667,1.2666666666666666,1.7999999999999998,0.8666666666666667,0.6833333333333333,1.5666666666666667,1.3666666666666667,1.775,1.4083333333333332,1.1666666666666667,1.8666666666666667,1.35,1.375,1.8,0.9083333333333333,1.05,1.4333333333333333,1.65,1.7916666666666665,1.4666666666666666,1.2,1.2333333333333334,1.4333333333333333,1.3416666666666668,1.0333333333333334,1.3583333333333334,1.1,1.4833333333333334,1.0666666666666667,1.1833333333333333,1.525,1.3916666666666666,1.2916666666666667,0.8166666666666667,1.5916666666666668,1.4666666666666666,1.2833333333333332,1.4333333333333333,1.35,0.9666666666666667,0.75,2.2,1.0916666666666668,1.9833333333333334,0.9166666666666666,1.3250000000000002,1.0333333333333334,1.4333333333333331,0.7666666666666667,1.0916666666666668,1.3833333333333333,1.475,1.6333333333333333,1.4166666666666667,0.7,1.45,1.6,1.4083333333333332,1.9,1.7666666666666666,1.3250000000000002,2.183333333333333,0.9666666666666667,1.3166666666666667,1.6333333333333333,1.6583333333333332,1.5666666666666667,0.6333333333333333,0.9583333333333333,0.9833333333333333,1.425,1.5416666666666667,0.75,1.7999999999999998,1.2833333333333332,1.2916666666666667,1.5,0.9666666666666667,1.0666666666666667,1.5333333333333334,1.1166666666666667,0.725,2.3166666666666664,0.9333333333333333,0.9666666666666667,1.0583333333333333,1.3916666666666666,1.4416666666666667,1.2666666666666666,1.2333333333333334,1.5416666666666667,0.7250000000000001,1.2,2.0166666666666666,1.4,1.75,1.4666666666666666,1.75,1.3333333333333333,0.9666666666666667,1.4333333333333333,1.4666666666666666,1.75,1.5666666666666667,1.475,1.0,1.6333333333333333,0.8,1.8666666666666667,1.2166666666666666,0.95,0.575,1.0166666666666666,1.2916666666666667,1.7,1.05,1.1333333333333333,1.2,1.5333333333333332,1.7333333333333334,1.225,1.5083333333333333,1.0333333333333334,1.35,0.8333333333333334,1.2833333333333334,1.6916666666666667,1.3666666666666667,1.6583333333333334,0.9333333333333333,1.7333333333333334,1.2166666666666666,1.275,1.825,0.9666666666666667,1.15,1.3333333333333333,1.8166666666666667,0.8500000000000001,1.5083333333333333,1.1166666666666667,1.3333333333333333,1.6666666666666667,0.8333333333333334,1.65,0.9583333333333333,1.5833333333333333,0.3916666666666667,0.95,1.7833333333333334,1.4166666666666667,1.5833333333333333,1.2333333333333334,2.3333333333333335,1.5333333333333334,1.1,0.975,0.8916666666666666,0.9,1.2083333333333333,1.1333333333333333,1.5666666666666667,0.9333333333333333,2.6166666666666667,1.2166666666666666,1.0333333333333334,0.75,0.75,0.6916666666666667,1.1166666666666667,2.3333333333333335,0.8166666666666667,1.3,1.5666666666666667,0.7250000000000001,1.6333333333333333,1.85,0.9666666666666667,1.125,1.8333333333333333,1.2666666666666666,1.4166666666666667,1.3,1.3416666666666668,1.05,0.95,0.55,1.3833333333333333,1.375,1.7333333333333334,1.65,1.3333333333333335,1.2916666666666667,1.0083333333333333,1.35,2.0083333333333333,0.575,1.5416666666666667,1.3583333333333334,1.275,1.4333333333333333,0.7166666666666667,1.65,1.6666666666666667,0.9666666666666667,0.8166666666666667,1.3916666666666666,1.5499999999999998,0.9583333333333334,0.9416666666666667,2.025,1.35,1.5,1.4333333333333333,0.95,1.3333333333333333,1.2666666666666666,0.8833333333333333,1.8333333333333333,1.3416666666666668,1.6833333333333331,1.2333333333333334,1.0333333333333334,1.1083333333333334,1.3833333333333333,1.0166666666666666,1.4,1.45,1.4333333333333333,1.0333333333333334,1.1,0.9,1.2166666666666668,1.1833333333333333,1.15,1.8166666666666667,1.3333333333333333,1.35,1.3333333333333335,1.2833333333333334,1.65,1.6833333333333333,1.5666666666666667,1.3666666666666667,1.5833333333333333,1.2333333333333334,1.3833333333333333,1.7333333333333334,1.4833333333333334,1.5833333333333335,1.0166666666666666,0.825,1.2666666666666666,1.3833333333333333,1.625,1.05,0.55,0.45,1.7,1.0333333333333334,1.225,1.3333333333333335,1.175,0.9,1.2666666666666666,1.0666666666666667,1.0,1.2333333333333334,1.3583333333333334,1.6166666666666667,1.4666666666666666,1.3583333333333334,1.5333333333333334,1.4,1.1,1.1666666666666665,1.3666666666666667,1.2166666666666666,1.8333333333333333,2.216666666666667,1.05,0.5333333333333333,1.4333333333333333,1.2833333333333334,1.5,1.5,0.9166666666666666,1.3666666666666667,1.3833333333333333,1.4,1.9249999999999998,1.1166666666666667,1.5,0.9166666666666666,1.1,1.475,1.325,0.7666666666666667,1.4333333333333333,1.2666666666666666,1.25,2.1166666666666667,1.8833333333333333,1.2333333333333334,0.9583333333333334,1.2333333333333334,1.05,1.2,1.8833333333333333,2.1666666666666665,1.2333333333333334,1.3,1.9833333333333334,2.1416666666666666,1.3083333333333333,1.6583333333333332,1.2416666666666667,0.75,0.9833333333333333,1.2166666666666666,1.3666666666666667,1.2416666666666667,1.1,0.9666666666666667,0.95,0.9583333333333334,2.1916666666666664,0.9833333333333333,1.8833333333333333,1.4333333333333333,1.675,0.7166666666666667,0.8333333333333334,1.2916666666666665,1.0833333333333333,0.925,1.4666666666666666,1.525,1.2833333333333334,1.4833333333333334,1.1,1.1666666666666667,1.4583333333333333,1.2333333333333334,1.1833333333333333,1.6666666666666667,1.0333333333333334,1.7416666666666667,1.5916666666666668,1.5833333333333333,1.3666666666666667,1.2166666666666666,0.7083333333333333,1.6833333333333333,2.0833333333333335,1.4166666666666667,1.2166666666666666,1.3833333333333333,1.0333333333333334,1.5833333333333333,1.3416666666666668,1.4333333333333333,1.0333333333333334,1.0416666666666665,1.025,0.875,1.5166666666666666,1.55,0.9,0.7083333333333333,0.7666666666666667,1.0833333333333333,1.3583333333333334,1.575,1.0333333333333334,1.4666666666666666,1.2,1.45,0.95,1.4333333333333333,1.8916666666666666,1.7666666666666666,1.2583333333333333,1.1666666666666667,1.5666666666666667,1.6833333333333333,1.05,1.2,1.0833333333333335,1.5416666666666665,0.675,2.1,1.275,1.0916666666666668,1.0166666666666666,1.1833333333333333,1.6166666666666667,1.4083333333333332,1.4583333333333333,0.9083333333333333,1.3833333333333333,2.0666666666666664,1.75,1.225,0.8916666666666666,1.6333333333333333,0.9166666666666666,0.8166666666666667,1.4583333333333333,1.35,1.05,1.325,1.775,0.8583333333333334,1.3083333333333333,1.3333333333333335,2.95,1.3083333333333333,0.6833333333333333,1.15,1.2833333333333334,1.1916666666666667,2.2083333333333335,1.4166666666666667,0.8333333333333334,0.75,1.2666666666666666,1.4666666666666668,1.6833333333333333,1.9,0.75,1.5083333333333333,1.4583333333333333,0.975,0.925,1.0666666666666667,1.6583333333333332,1.3,1.3166666666666667,1.5750000000000002,0.8333333333333334,0.8666666666666667,0.7583333333333333,0.725,1.45,1.7333333333333334,2.7,0.95,0.8333333333333334,1.7,1.3083333333333333,1.875,0.95,0.75,0.8,1.2,0.875,1.625,0.8166666666666667,0.6666666666666666,1.4666666666666668,0.5833333333333334,1.3166666666666667,1.3083333333333333,1.3,1.2,1.3833333333333333,1.05,1.0666666666666667,1.2,0.95,0.75,1.2166666666666668,1.5166666666666666,1.6666666666666665,1.1583333333333332,1.0,1.2833333333333332,0.6333333333333333,1.2666666666666666,0.7666666666666667,1.6,1.15,0.975,1.3166666666666667,1.4166666666666665,1.55,1.3166666666666667,1.2833333333333332,0.975,1.4666666666666666,1.1,0.9833333333333334,1.2666666666666666,1.3666666666666667,1.4833333333333334,1.25,1.5166666666666666,1.3333333333333333,2.283333333333333,1.5166666666666666,1.0166666666666666,1.0666666666666667,1.1083333333333334,1.5666666666666667,1.6166666666666667,0.7666666666666667,1.3333333333333333,0.75,1.2083333333333333,1.2333333333333334,1.1333333333333333,0.6333333333333333,1.525,1.0166666666666666,0.9166666666666666,1.4666666666666666,1.15,0.9833333333333333,2.333333333333333,1.4083333333333332,1.4833333333333334,0.9166666666666666,1.4083333333333334,1.1916666666666667,2.4166666666666665,1.5416666666666667,1.8416666666666668,1.4166666666666667,1.55,1.75,1.275,0.7333333333333333,1.6833333333333333,1.4,1.45,1.2083333333333333,1.8833333333333333,0.9666666666666667,0.8333333333333334,1.2416666666666667,1.575,0.95,0.8833333333333333,0.6833333333333333,1.1416666666666666,1.1166666666666667,1.0166666666666666,1.1666666666666667,1.0,1.6833333333333331,0.7833333333333333,1.3,1.4166666666666667,1.2,0.9666666666666667,1.8666666666666667,1.2583333333333333,0.7333333333333334,1.9666666666666666,1.2666666666666666,1.2583333333333333,1.45,1.2666666666666666,1.5333333333333334,1.2833333333333332,1.5833333333333335,1.4,1.4166666666666665,1.8833333333333333,0.7833333333333333,1.5833333333333333,1.3333333333333333,0.8916666666666666,1.05,0.9166666666666666,1.1333333333333333,0.9666666666666667,1.4,1.4583333333333333,1.6333333333333333,1.4,0.8,1.4833333333333334,1.0333333333333332,0.8999999999999999,0.9166666666666666,1.3166666666666667,1.0583333333333333,0.7749999999999999,1.2666666666666666,1.2333333333333334,0.48333333333333334,1.2333333333333334,1.3833333333333333,1.4,1.1416666666666666,2.0,1.5083333333333333,0.9166666666666666,1.2666666666666666,1.1833333333333333,1.225,1.8499999999999999,0.7416666666666667,1.15,2.65,1.6333333333333333,1.0666666666666667,1.4916666666666667,1.75,0.95,0.8583333333333334,2.716666666666667,1.2833333333333332,1.8,1.35,1.4833333333333334,1.0,1.05,1.3333333333333333,1.1666666666666667,0.8833333333333333,1.3166666666666667,1.0833333333333333,0.7833333333333333,1.45,1.1666666666666667,0.7666666666666667,1.3833333333333333,1.3833333333333333,1.2666666666666666,0.9416666666666667,1.2833333333333332,0.5166666666666667,0.9666666666666666,1.475,1.4666666666666666,1.6416666666666666,1.4083333333333332,1.275,1.1666666666666667,1.3833333333333333,1.05,1.0166666666666666,1.7166666666666666,1.4166666666666667,0.8666666666666667,1.3666666666666667,0.7416666666666667,1.4,0.9083333333333333,1.4166666666666667,0.9,2.3833333333333333,0.7416666666666667,1.3,1.2,1.85,0.8,1.0666666666666667,2.2083333333333335,1.6,1.5083333333333333,1.2833333333333334,2.1166666666666667,1.3166666666666667,1.3333333333333333,1.3250000000000002,1.1,1.5166666666666666,0.575,1.4916666666666667,1.1,1.5166666666666666,1.4333333333333333,1.05,1.225,0.9833333333333333,0.8833333333333333,0.9583333333333333,1.35,1.0666666666666667,1.8333333333333333,0.75,1.1416666666666666,2.033333333333333,1.9166666666666665,0.85,1.3166666666666667,0.9666666666666667,1.1833333333333333,2.4166666666666665,0.8833333333333333,1.2833333333333332,1.3,1.3333333333333335,0.9666666666666666,1.1083333333333334,1.7333333333333334,1.1749999999999998,1.2,1.1916666666666667,0.9166666666666666,1.1166666666666667,1.8166666666666667,1.9333333333333333,1.3833333333333333,1.8166666666666667,1.4416666666666667,2.45,1.8833333333333333,1.6666666666666667,1.5166666666666666,1.2083333333333333,0.75,1.0166666666666666,1.2833333333333334,1.3,1.1166666666666667,0.7166666666666667,1.1083333333333334,1.6666666666666667,2.0166666666666666,1.4666666666666666,0.7416666666666667,1.2666666666666666,1.75,1.2333333333333334,1.8166666666666667,1.5166666666666666,1.3583333333333334,1.35,1.3083333333333333,1.5666666666666667,1.6166666666666667,1.1666666666666667,1.3916666666666666,0.9666666666666667,1.4833333333333334,1.4166666666666667,1.0333333333333334,1.3,1.3166666666666667,1.125,1.0750000000000002,1.1833333333333333,0.65,1.225,1.85,1.5916666666666668,1.7083333333333333,1.0666666666666667,1.3,1.1749999999999998,2.45,1.5666666666666667,1.4916666666666667,1.05,1.7666666666666666,1.05,1.2166666666666666,0.9666666666666667,1.2666666666666666,1.2666666666666666,1.0333333333333334,0.7833333333333333,1.4333333333333333,0.6833333333333333,0.7,1.1,1.85,2.3,0.7583333333333333,0.9916666666666667,0.9833333333333333,0.9166666666666666,1.9333333333333333,1.25,1.2333333333333334,1.2416666666666667,1.1333333333333333,1.4166666666666667,0.85,1.0,1.6333333333333333,0.95,1.4,1.5,1.35,1.3583333333333334,1.7333333333333334,1.3333333333333333,1.1166666666666667,1.0166666666666666,1.3833333333333333,1.4833333333333334,1.025,1.4583333333333333,1.3166666666666667,1.5,1.7666666666666666,1.1749999999999998,1.7916666666666667,1.5166666666666666,1.0333333333333332,1.45,1.2666666666666666,1.0,1.8166666666666667,0.7,0.7333333333333334,1.3333333333333333,1.25,1.5333333333333334,1.55,1.2333333333333334,1.3416666666666668,0.9833333333333333,1.45,0.8166666666666667,0.9,1.6833333333333333,1.175,0.8333333333333334,1.725,1.4333333333333333,1.0416666666666667,1.275,1.35,1.6749999999999998,1.3666666666666667,1.3,1.0166666666666666,0.975,1.3416666666666668,0.9666666666666667,2.05,0.8666666666666667,2.216666666666667,1.8666666666666667,1.6166666666666667,1.1,1.3333333333333333,1.2666666666666666,1.0833333333333333,1.7,1.3916666666666666,2.683333333333333,0.95,0.75,1.0916666666666668,0.5916666666666667,0.9833333333333333,1.1916666666666667,1.975,1.8333333333333333,1.5,1.35,1.5750000000000002,0.8833333333333333,1.25,1.625,1.0333333333333334,1.4416666666666667,0.8333333333333334,1.2083333333333333,1.15,0.95,1.65,1.3583333333333334,1.55,1.1,2.1,1.2833333333333334,0.7833333333333334,0.7083333333333333,1.6833333333333333,0.9166666666666666,1.0416666666666667,1.2666666666666666,1.3666666666666667,1.3,1.3,1.7333333333333334,0.7666666666666666,1.0333333333333334,1.3,1.1833333333333333,0.95,2.2,1.375,1.9,1.35,1.15,1.9333333333333331,1.3666666666666667,1.95,1.4666666666666666,1.3,1.9333333333333333,1.7666666666666666,1.0833333333333333,0.875,1.3166666666666667,1.3833333333333333,1.4,1.0666666666666667,1.25,2.1666666666666665,0.925,0.7666666666666667,0.6666666666666666,0.8833333333333333,1.4916666666666667,1.7416666666666667,1.0416666666666667,0.8583333333333334,0.9,1.6,1.0666666666666667,1.3083333333333333,0.8166666666666667,1.675,0.9333333333333333,0.8333333333333334,1.4,0.7833333333333334,0.9083333333333333,1.3083333333333333,1.1666666666666667,1.5,1.4249999999999998,0.825,0.7166666666666667,1.5,0.9416666666666667,1.5,1.3333333333333333,1.7666666666666666,1.275,1.6333333333333333,1.125,1.35,1.25,1.6,1.5,0.75,1.1,0.975,1.0166666666666666,1.9416666666666667,1.875,1.3916666666666666,1.025,2.283333333333333,1.5166666666666666,1.4083333333333332,1.4083333333333332,0.75,1.375,0.9166666666666666,1.0333333333333334,1.3833333333333333,1.0833333333333335,1.1,0.925,1.3666666666666667,1.3166666666666667,1.2166666666666666,1.25,1.55,1.425,1.525,1.4333333333333333,1.5,1.5,2.075,1.4583333333333333,1.55,1.5,1.6333333333333333,1.3333333333333333,1.5833333333333333,0.9,1.4083333333333332,1.2833333333333334,1.85,1.5333333333333334,1.3333333333333333,0.9083333333333333,1.275,1.6333333333333333,1.9333333333333333,1.5583333333333333,0.8333333333333334,1.2666666666666666,1.6,0.95,2.05,1.2833333333333334,0.9166666666666666,1.3666666666666667,1.3166666666666667,0.875,1.375,0.9500000000000001,1.5333333333333334,1.3333333333333333,1.25,1.6166666666666667,0.7166666666666667,1.2333333333333334,1.0833333333333333,1.275,1.0666666666666667,1.5,1.6,1.5916666666666668,0.8833333333333333,1.025,1.4166666666666667,1.5,1.9333333333333333,0.875,1.7166666666666666,1.4666666666666668,1.3833333333333333,1.6166666666666667,2.158333333333333,1.6166666666666667,2.533333333333333,0.9666666666666666,1.8833333333333333,0.85,1.7833333333333334,1.5666666666666667,1.1666666666666667,1.375,1.8666666666666667,0.7333333333333334,1.1833333333333333,1.1666666666666667,1.0166666666666666,0.8833333333333333,0.9583333333333333,1.525,1.5166666666666666,0.6666666666666666,1.45,1.6833333333333333,0.8,1.15,1.1333333333333333,0.825,2.033333333333333,1.35,1.3833333333333333,2.025,0.8416666666666667,1.2916666666666667,0.8833333333333333,1.2166666666666666,0.9333333333333333,1.3916666666666666,1.875,0.8833333333333333,2.283333333333333,1.5833333333333333,1.025,1.2833333333333332,1.15,1.2666666666666666,0.7666666666666667,1.3166666666666667,1.2583333333333333,1.25,1.7166666666666668,1.6166666666666667,1.0833333333333333,1.3916666666666666,0.7583333333333333,0.9916666666666667,1.9083333333333334,0.8916666666666666,1.45,1.1333333333333333,0.8,1.4500000000000002,1.3,1.9916666666666667,1.6333333333333333,1.4333333333333333,1.6916666666666667,1.6833333333333333,1.1166666666666667,0.9583333333333334,1.275,1.1,1.6833333333333333,1.3083333333333333,1.3166666666666667,1.0833333333333333,1.15,1.55,1.2166666666666666,1.05,1.4,1.4500000000000002,1.4500000000000002,1.7333333333333334,0.65,1.225,1.0833333333333333,1.65,1.2916666666666667,0.8416666666666667,1.1583333333333332,1.6833333333333333,1.425,1.2166666666666668,0.9166666666666666,1.525,0.7666666666666667,1.3166666666666667,1.4249999999999998,1.2,1.0666666666666667,1.3666666666666667,0.8,1.1333333333333333,1.7166666666666666,1.5416666666666667,1.5833333333333335,2.041666666666667,1.5,1.45,1.75,1.0666666666666669,0.875,1.2166666666666668,1.4166666666666667,1.6833333333333333,1.3833333333333333,1.2083333333333335,1.3333333333333333,1.4,1.7416666666666667,1.2916666666666667,1.05,0.9416666666666667,1.6833333333333333,1.625,1.5,2.0,1.3333333333333333,0.8,1.35,1.5083333333333333,0.9166666666666666,1.3833333333333333,0.6166666666666667,0.8166666666666667,0.8333333333333334,1.5916666666666668,0.925,1.65,1.2166666666666666,1.4833333333333334,0.7833333333333333,1.95,1.1833333333333333,1.425,1.3666666666666667,1.3166666666666669,1.0,1.3666666666666667,1.2833333333333334,1.2166666666666666,1.15,0.95,0.8,1.0166666666666666,1.5166666666666666,1.7333333333333334,1.2083333333333335,1.35,1.9833333333333334,1.4666666666666666,1.9833333333333334,1.25,1.1166666666666667,1.1333333333333333,1.4916666666666667,1.5833333333333333,0.8500000000000001,1.4666666666666666,1.5,1.2583333333333333,0.8666666666666667,1.05,1.5166666666666666,1.0666666666666667,0.9833333333333333,1.25,0.6666666666666666,1.3916666666666666,1.9666666666666666,1.275,0.8833333333333333,1.3,1.3,1.2333333333333334,1.3166666666666667,1.5833333333333335,1.3,1.4833333333333334,1.4333333333333333,0.95,1.1166666666666667,0.95,0.8666666666666667,0.8333333333333334,1.0166666666666666,1.225,1.2333333333333334,0.8833333333333333,0.7416666666666667,1.4333333333333333,1.3083333333333333,0.8833333333333333,1.5833333333333333,1.25,1.2916666666666667,1.5666666666666667,1.5166666666666666,1.0583333333333333,1.6,0.7333333333333333,1.7333333333333334,0.8166666666666667,1.15,1.6333333333333333,2.3666666666666667,1.2583333333333333,2.0,1.0833333333333333,0.9166666666666666,1.3166666666666667,1.2666666666666666,1.6916666666666667,0.9833333333333333,1.35,1.8916666666666666,0.9166666666666666,0.625,0.7166666666666667,1.2,1.2166666666666668,1.25,1.3333333333333333,0.9666666666666666,1.1666666666666667,1.2916666666666667,1.1166666666666667,1.0166666666666666,1.2666666666666666,0.85,1.85,1.1166666666666667,1.8,1.8833333333333333,1.5166666666666666,1.4833333333333334,0.9333333333333333,1.2666666666666666,1.1,1.6666666666666667,1.275,0.9583333333333333,1.6,1.35,1.025,1.7833333333333334,1.1166666666666667,0.9666666666666667,1.8833333333333333,1.6916666666666667,1.85,1.5166666666666666,0.8833333333333333,1.1833333333333333,1.0166666666666666,1.6083333333333334,1.0333333333333334,1.3666666666666667,1.1916666666666667,1.2833333333333334,1.1666666666666667,1.1166666666666667,0.8500000000000001,1.1333333333333333,1.0833333333333333,0.9583333333333333,2.05,1.2333333333333334,1.525,1.2333333333333334,0.95,1.4166666666666667,1.6333333333333333,0.95,1.375,1.25,1.15,0.9083333333333334,0.6833333333333333,1.1666666666666665,2.1166666666666667,2.05,1.1083333333333334,1.4,0.7,1.0333333333333334,1.3666666666666667,1.5666666666666667,1.1166666666666667,1.0833333333333333,1.0333333333333334,1.7,1.5166666666666666,1.1,1.7416666666666667,1.3416666666666668,1.2833333333333334,0.95,1.6833333333333333,0.8333333333333334,1.275,1.45,1.5,1.0333333333333334,1.7833333333333334,0.7666666666666667,1.6583333333333332,1.5166666666666666,0.8,1.225,2.1666666666666665,1.1333333333333333,0.9166666666666666,1.3166666666666667,1.7416666666666667,2.025,1.2,1.6666666666666665,1.475,1.2833333333333334,1.375,1.4166666666666667,1.4666666666666666,1.35,1.1,1.3333333333333333,1.25,1.45,1.5583333333333333,1.6333333333333333,1.4416666666666667,1.0,0.8833333333333333,1.7333333333333334,0.9416666666666667,1.05,1.4833333333333334,0.8083333333333333,1.35,1.2,1.1833333333333333,0.7,1.2166666666666666,1.1166666666666667,1.4333333333333333,0.925,0.725,1.1666666666666667,1.5666666666666667,1.3083333333333333,1.0083333333333333,1.4333333333333333,0.8166666666666667,1.45,1.85,1.5666666666666667,1.3333333333333333,1.9333333333333333,1.7166666666666666,0.8583333333333334,1.5666666666666667,1.3333333333333333,1.4833333333333334,1.3333333333333333,1.2166666666666666,0.7833333333333333,1.1333333333333333,2.0166666666666666,1.475,1.1333333333333333,1.0833333333333333,0.95,1.95,1.3583333333333334,1.5666666666666667,0.8166666666666667,1.1666666666666665,1.3333333333333333,1.05,0.675,1.1166666666666667,1.45,1.5,1.4583333333333333,1.125,0.9666666666666667,1.4166666666666667,0.8666666666666667,1.5750000000000002,1.5833333333333333,1.2333333333333334,1.2416666666666667,1.6166666666666667,1.4833333333333334,1.3166666666666667,1.75,0.9166666666666667,1.8166666666666667,0.95,1.6749999999999998,1.0666666666666667,1.025,1.1833333333333333,1.5916666666666668,1.2666666666666666,1.5166666666666666,0.9,0.85,2.0,1.9833333333333334,2.3666666666666667,1.0750000000000002,1.05,0.9166666666666666,1.2833333333333334,1.2166666666666666,1.075,1.2833333333333334,1.7166666666666666,1.7333333333333334,0.5833333333333334,1.3666666666666667,0.9333333333333333,1.0333333333333334,0.9166666666666667,1.6833333333333333,1.3166666666666667,1.7166666666666666,1.0750000000000002,1.0166666666666666,1.5666666666666667,0.9166666666666667,1.5833333333333333,1.2833333333333332,1.4,1.5,1.1083333333333334,2.4833333333333334,2.2666666666666666,0.675,1.575,1.1666666666666665,1.6,1.5166666666666666,1.0333333333333334,0.95,1.75,1.1666666666666667,1.475,1.45,1.6833333333333333,1.2083333333333333,1.4166666666666667,1.6,1.0666666666666667,1.625,1.2833333333333334,1.0166666666666666,1.35,0.8416666666666667,1.2833333333333334,1.4083333333333332,1.4916666666666667,1.1666666666666667,1.0666666666666667,1.4333333333333333,0.9416666666666667,1.1333333333333333,1.2666666666666666,1.2916666666666665,1.2916666666666665,1.825,1.3166666666666667,1.45,1.275,1.6333333333333333,2.683333333333333,1.3,0.9666666666666667,1.475,0.8666666666666667,1.4083333333333332,1.7,1.8833333333333333,0.9583333333333333,1.1166666666666667,1.5333333333333334,1.4333333333333333,1.0333333333333334,1.3833333333333333,1.4583333333333335,1.1333333333333333,1.7999999999999998,1.4,1.6166666666666667,2.1333333333333333,1.2833333333333334,1.0666666666666667,1.9083333333333332,1.1583333333333332,1.0333333333333334,0.7166666666666667,1.7333333333333334,1.1,0.8833333333333333,1.4666666666666666,1.2833333333333334,1.25,0.9,0.625,1.7,1.1666666666666667,1.4833333333333334,0.9833333333333333,1.0666666666666667,1.375,1.5333333333333332,1.3333333333333333,1.6333333333333333,0.9166666666666667,1.3166666666666667,1.2833333333333334,1.15,1.3,1.0333333333333334,0.8500000000000001,1.2333333333333334,1.5,2.033333333333333,1.3916666666666666,1.2166666666666668,1.3833333333333333,1.7416666666666667,1.45,1.4833333333333334,2.2,1.2333333333333334,1.775,0.7666666666666667,1.5666666666666667,1.4083333333333332,1.6166666666666667,1.1333333333333333,1.6666666666666667,1.0083333333333333,0.9083333333333333,1.1749999999999998,0.7333333333333333,1.2083333333333333,1.7666666666666666,1.5666666666666667,1.3,1.6,0.9833333333333333,1.75,1.1,1.8,1.4583333333333333,1.1,1.1,1.6,1.0916666666666668,0.8666666666666667,1.1166666666666667,0.7666666666666667,1.3583333333333334,0.75,1.7833333333333334,1.05,1.0416666666666667,1.8,1.15,1.9,1.9,0.7666666666666667,1.1833333333333333,1.3333333333333333,1.15,1.1166666666666667,1.2333333333333334,1.9166666666666667,1.3166666666666667,1.275,1.5666666666666667,1.5833333333333333,1.4666666666666666,1.35,1.3833333333333333,0.8666666666666667,1.0666666666666667,1.5166666666666666,1.4166666666666667,1.2416666666666667,1.125,0.8,1.2666666666666666,1.7333333333333334,0.7083333333333333,0.8999999999999999,1.2,0.9166666666666666,1.3666666666666667,1.3416666666666668,1.4833333333333334,2.033333333333333,1.9333333333333333,1.025,0.5,1.15,1.4833333333333334,0.8166666666666667,1.1666666666666667,0.6166666666666667,0.9666666666666667,1.2583333333333333,1.025,1.4166666666666667,1.4833333333333334,1.2416666666666667,2.466666666666667,1.2666666666666666,1.3,0.8583333333333334,0.9916666666666667,1.5166666666666666,1.5333333333333334,0.9333333333333333,0.8166666666666667,1.1666666666666667,1.0916666666666668,1.2583333333333333,1.4166666666666667,1.2416666666666667,1.25,1.1666666666666667,1.35,1.2833333333333334,1.1666666666666667,1.1166666666666667,1.6666666666666667,1.4916666666666667,1.7833333333333332,0.7833333333333333,1.4666666666666666,1.0666666666666667,0.75,0.8999999999999999,1.1166666666666667,1.2,1.85,1.4833333333333334,1.1166666666666667,1.3,1.3,0.7833333333333333,1.0166666666666666,1.4333333333333333,1.95,1.5333333333333334,2.433333333333333,1.0833333333333335,1.7000000000000002,1.2916666666666667,1.0833333333333333,1.2583333333333333,1.1833333333333333,1.5,1.1166666666666667,0.975,0.8416666666666667,1.6333333333333333,1.2166666666666668,0.6833333333333333,0.8833333333333333,1.4666666666666668,0.0,1.0166666666666666,1.3416666666666668,1.05,1.5583333333333331,1.25,1.7333333333333334,1.2833333333333334,1.4833333333333334,1.9666666666666668,1.9083333333333332,1.3,2.1166666666666667,1.725,1.05,2.4166666666666665,1.475,1.7,1.0,1.4166666666666667,0.65,1.5833333333333333,1.3416666666666668,1.4583333333333333,1.3,1.7166666666666668,1.2666666666666666,1.3583333333333334,1.0916666666666668,1.7416666666666667,1.4666666666666668,1.0166666666666666,1.1166666666666667,1.0833333333333333,1.3,1.0,1.2083333333333333,1.475,1.4,1.3,1.3166666666666667,1.9666666666666666,1.7666666666666666,2.0833333333333335,1.6,1.0166666666666666,1.35,1.0083333333333333,1.1166666666666667,1.3333333333333333,1.1666666666666665,1.2,1.025,0.8833333333333333,1.1833333333333333,1.6916666666666667,1.4333333333333333,1.15,2.1333333333333333,2.1,1.8416666666666668,1.2666666666666666,1.75,1.4833333333333334,1.1333333333333333,1.3166666666666667,1.3,1.325,1.55,1.7,1.0666666666666667,1.3666666666666667,0.8833333333333333,2.3,1.3,1.0,1.5833333333333335,1.15,1.3666666666666667,1.075,1.4916666666666667,1.6666666666666667,1.2416666666666667,1.5666666666666669,2.1333333333333333,1.35,0.8833333333333333,1.5833333333333333,1.8416666666666668,0.8083333333333333,0.975,1.225,1.375,1.5,1.375,1.0499999999999998,1.25,1.4166666666666667,1.1416666666666666,0.95,1.8333333333333335,1.4333333333333333,1.3583333333333334,1.3333333333333333,1.2416666666666667,0.9833333333333334,0.8666666666666667,1.6,1.7166666666666666,1.5166666666666666,0.9666666666666667,1.675,1.4833333333333334,0.9333333333333333,1.3166666666666667,1.7333333333333334,1.6083333333333334,1.2333333333333334,1.45,1.5666666666666667,1.8833333333333333,1.3666666666666667,1.0166666666666666,1.2333333333333334,0.8583333333333333,1.3666666666666667,1.2166666666666666,1.4,1.0083333333333333,1.7,1.0583333333333333,0.75,1.5666666666666667,1.1833333333333333,1.5,1.2,1.6666666666666667,1.1666666666666667,1.3833333333333333,1.4166666666666667,1.7333333333333334,1.8416666666666668,1.6666666666666665,1.9833333333333334,1.3083333333333333,1.2333333333333334,1.1833333333333331,1.7166666666666666,0.8166666666666667,1.375,1.1916666666666667,1.3333333333333333,2.4,1.1,1.3333333333333333,1.3916666666666666,1.45,1.6,0.43333333333333335,1.3666666666666667,1.2,0.5,1.45,1.3333333333333333,1.1666666666666667,1.3833333333333333,0.8666666666666667,2.15,2.0166666666666666,1.3916666666666666,1.2833333333333334,1.3666666666666667,1.8666666666666667,1.725,0.9083333333333333,0.8,0.925,1.075,1.6,1.8333333333333333,1.3166666666666667,1.15,1.55,1.1583333333333334,1.35,1.5333333333333332,1.1666666666666665,0.8333333333333334,2.066666666666667,0.925,0.8083333333333333,1.6833333333333333,0.6666666666666666,0.9833333333333333,1.6833333333333331,0.8666666666666667,1.225,0.7166666666666667,0.8333333333333334,1.0833333333333333],\"yaxis\":\"y\"}],                        {\"coloraxis\":{\"colorbar\":{\"title\":{\"text\":\"churn\"}},\"colorscale\":[[0.0,\"#0d0887\"],[0.1111111111111111,\"#46039f\"],[0.2222222222222222,\"#7201a8\"],[0.3333333333333333,\"#9c179e\"],[0.4444444444444444,\"#bd3786\"],[0.5555555555555556,\"#d8576b\"],[0.6666666666666666,\"#ed7953\"],[0.7777777777777778,\"#fb9f3a\"],[0.8888888888888888,\"#fdca26\"],[1.0,\"#f0f921\"]]},\"legend\":{\"itemsizing\":\"constant\",\"tracegroupgap\":0},\"margin\":{\"t\":60},\"template\":{\"data\":{\"bar\":[{\"error_x\":{\"color\":\"#2a3f5f\"},\"error_y\":{\"color\":\"#2a3f5f\"},\"marker\":{\"line\":{\"color\":\"#E5ECF6\",\"width\":0.5},\"pattern\":{\"fillmode\":\"overlay\",\"size\":10,\"solidity\":0.2}},\"type\":\"bar\"}],\"barpolar\":[{\"marker\":{\"line\":{\"color\":\"#E5ECF6\",\"width\":0.5},\"pattern\":{\"fillmode\":\"overlay\",\"size\":10,\"solidity\":0.2}},\"type\":\"barpolar\"}],\"carpet\":[{\"aaxis\":{\"endlinecolor\":\"#2a3f5f\",\"gridcolor\":\"white\",\"linecolor\":\"white\",\"minorgridcolor\":\"white\",\"startlinecolor\":\"#2a3f5f\"},\"baxis\":{\"endlinecolor\":\"#2a3f5f\",\"gridcolor\":\"white\",\"linecolor\":\"white\",\"minorgridcolor\":\"white\",\"startlinecolor\":\"#2a3f5f\"},\"type\":\"carpet\"}],\"choropleth\":[{\"colorbar\":{\"outlinewidth\":0,\"ticks\":\"\"},\"type\":\"choropleth\"}],\"contour\":[{\"colorbar\":{\"outlinewidth\":0,\"ticks\":\"\"},\"colorscale\":[[0.0,\"#0d0887\"],[0.1111111111111111,\"#46039f\"],[0.2222222222222222,\"#7201a8\"],[0.3333333333333333,\"#9c179e\"],[0.4444444444444444,\"#bd3786\"],[0.5555555555555556,\"#d8576b\"],[0.6666666666666666,\"#ed7953\"],[0.7777777777777778,\"#fb9f3a\"],[0.8888888888888888,\"#fdca26\"],[1.0,\"#f0f921\"]],\"type\":\"contour\"}],\"contourcarpet\":[{\"colorbar\":{\"outlinewidth\":0,\"ticks\":\"\"},\"type\":\"contourcarpet\"}],\"heatmap\":[{\"colorbar\":{\"outlinewidth\":0,\"ticks\":\"\"},\"colorscale\":[[0.0,\"#0d0887\"],[0.1111111111111111,\"#46039f\"],[0.2222222222222222,\"#7201a8\"],[0.3333333333333333,\"#9c179e\"],[0.4444444444444444,\"#bd3786\"],[0.5555555555555556,\"#d8576b\"],[0.6666666666666666,\"#ed7953\"],[0.7777777777777778,\"#fb9f3a\"],[0.8888888888888888,\"#fdca26\"],[1.0,\"#f0f921\"]],\"type\":\"heatmap\"}],\"heatmapgl\":[{\"colorbar\":{\"outlinewidth\":0,\"ticks\":\"\"},\"colorscale\":[[0.0,\"#0d0887\"],[0.1111111111111111,\"#46039f\"],[0.2222222222222222,\"#7201a8\"],[0.3333333333333333,\"#9c179e\"],[0.4444444444444444,\"#bd3786\"],[0.5555555555555556,\"#d8576b\"],[0.6666666666666666,\"#ed7953\"],[0.7777777777777778,\"#fb9f3a\"],[0.8888888888888888,\"#fdca26\"],[1.0,\"#f0f921\"]],\"type\":\"heatmapgl\"}],\"histogram\":[{\"marker\":{\"pattern\":{\"fillmode\":\"overlay\",\"size\":10,\"solidity\":0.2}},\"type\":\"histogram\"}],\"histogram2d\":[{\"colorbar\":{\"outlinewidth\":0,\"ticks\":\"\"},\"colorscale\":[[0.0,\"#0d0887\"],[0.1111111111111111,\"#46039f\"],[0.2222222222222222,\"#7201a8\"],[0.3333333333333333,\"#9c179e\"],[0.4444444444444444,\"#bd3786\"],[0.5555555555555556,\"#d8576b\"],[0.6666666666666666,\"#ed7953\"],[0.7777777777777778,\"#fb9f3a\"],[0.8888888888888888,\"#fdca26\"],[1.0,\"#f0f921\"]],\"type\":\"histogram2d\"}],\"histogram2dcontour\":[{\"colorbar\":{\"outlinewidth\":0,\"ticks\":\"\"},\"colorscale\":[[0.0,\"#0d0887\"],[0.1111111111111111,\"#46039f\"],[0.2222222222222222,\"#7201a8\"],[0.3333333333333333,\"#9c179e\"],[0.4444444444444444,\"#bd3786\"],[0.5555555555555556,\"#d8576b\"],[0.6666666666666666,\"#ed7953\"],[0.7777777777777778,\"#fb9f3a\"],[0.8888888888888888,\"#fdca26\"],[1.0,\"#f0f921\"]],\"type\":\"histogram2dcontour\"}],\"mesh3d\":[{\"colorbar\":{\"outlinewidth\":0,\"ticks\":\"\"},\"type\":\"mesh3d\"}],\"parcoords\":[{\"line\":{\"colorbar\":{\"outlinewidth\":0,\"ticks\":\"\"}},\"type\":\"parcoords\"}],\"pie\":[{\"automargin\":true,\"type\":\"pie\"}],\"scatter\":[{\"marker\":{\"colorbar\":{\"outlinewidth\":0,\"ticks\":\"\"}},\"type\":\"scatter\"}],\"scatter3d\":[{\"line\":{\"colorbar\":{\"outlinewidth\":0,\"ticks\":\"\"}},\"marker\":{\"colorbar\":{\"outlinewidth\":0,\"ticks\":\"\"}},\"type\":\"scatter3d\"}],\"scattercarpet\":[{\"marker\":{\"colorbar\":{\"outlinewidth\":0,\"ticks\":\"\"}},\"type\":\"scattercarpet\"}],\"scattergeo\":[{\"marker\":{\"colorbar\":{\"outlinewidth\":0,\"ticks\":\"\"}},\"type\":\"scattergeo\"}],\"scattergl\":[{\"marker\":{\"colorbar\":{\"outlinewidth\":0,\"ticks\":\"\"}},\"type\":\"scattergl\"}],\"scattermapbox\":[{\"marker\":{\"colorbar\":{\"outlinewidth\":0,\"ticks\":\"\"}},\"type\":\"scattermapbox\"}],\"scatterpolar\":[{\"marker\":{\"colorbar\":{\"outlinewidth\":0,\"ticks\":\"\"}},\"type\":\"scatterpolar\"}],\"scatterpolargl\":[{\"marker\":{\"colorbar\":{\"outlinewidth\":0,\"ticks\":\"\"}},\"type\":\"scatterpolargl\"}],\"scatterternary\":[{\"marker\":{\"colorbar\":{\"outlinewidth\":0,\"ticks\":\"\"}},\"type\":\"scatterternary\"}],\"surface\":[{\"colorbar\":{\"outlinewidth\":0,\"ticks\":\"\"},\"colorscale\":[[0.0,\"#0d0887\"],[0.1111111111111111,\"#46039f\"],[0.2222222222222222,\"#7201a8\"],[0.3333333333333333,\"#9c179e\"],[0.4444444444444444,\"#bd3786\"],[0.5555555555555556,\"#d8576b\"],[0.6666666666666666,\"#ed7953\"],[0.7777777777777778,\"#fb9f3a\"],[0.8888888888888888,\"#fdca26\"],[1.0,\"#f0f921\"]],\"type\":\"surface\"}],\"table\":[{\"cells\":{\"fill\":{\"color\":\"#EBF0F8\"},\"line\":{\"color\":\"white\"}},\"header\":{\"fill\":{\"color\":\"#C8D4E3\"},\"line\":{\"color\":\"white\"}},\"type\":\"table\"}]},\"layout\":{\"annotationdefaults\":{\"arrowcolor\":\"#2a3f5f\",\"arrowhead\":0,\"arrowwidth\":1},\"autotypenumbers\":\"strict\",\"coloraxis\":{\"colorbar\":{\"outlinewidth\":0,\"ticks\":\"\"}},\"colorscale\":{\"diverging\":[[0,\"#8e0152\"],[0.1,\"#c51b7d\"],[0.2,\"#de77ae\"],[0.3,\"#f1b6da\"],[0.4,\"#fde0ef\"],[0.5,\"#f7f7f7\"],[0.6,\"#e6f5d0\"],[0.7,\"#b8e186\"],[0.8,\"#7fbc41\"],[0.9,\"#4d9221\"],[1,\"#276419\"]],\"sequential\":[[0.0,\"#0d0887\"],[0.1111111111111111,\"#46039f\"],[0.2222222222222222,\"#7201a8\"],[0.3333333333333333,\"#9c179e\"],[0.4444444444444444,\"#bd3786\"],[0.5555555555555556,\"#d8576b\"],[0.6666666666666666,\"#ed7953\"],[0.7777777777777778,\"#fb9f3a\"],[0.8888888888888888,\"#fdca26\"],[1.0,\"#f0f921\"]],\"sequentialminus\":[[0.0,\"#0d0887\"],[0.1111111111111111,\"#46039f\"],[0.2222222222222222,\"#7201a8\"],[0.3333333333333333,\"#9c179e\"],[0.4444444444444444,\"#bd3786\"],[0.5555555555555556,\"#d8576b\"],[0.6666666666666666,\"#ed7953\"],[0.7777777777777778,\"#fb9f3a\"],[0.8888888888888888,\"#fdca26\"],[1.0,\"#f0f921\"]]},\"colorway\":[\"#636efa\",\"#EF553B\",\"#00cc96\",\"#ab63fa\",\"#FFA15A\",\"#19d3f3\",\"#FF6692\",\"#B6E880\",\"#FF97FF\",\"#FECB52\"],\"font\":{\"color\":\"#2a3f5f\"},\"geo\":{\"bgcolor\":\"white\",\"lakecolor\":\"white\",\"landcolor\":\"#E5ECF6\",\"showlakes\":true,\"showland\":true,\"subunitcolor\":\"white\"},\"hoverlabel\":{\"align\":\"left\"},\"hovermode\":\"closest\",\"mapbox\":{\"style\":\"light\"},\"paper_bgcolor\":\"white\",\"plot_bgcolor\":\"#E5ECF6\",\"polar\":{\"angularaxis\":{\"gridcolor\":\"white\",\"linecolor\":\"white\",\"ticks\":\"\"},\"bgcolor\":\"#E5ECF6\",\"radialaxis\":{\"gridcolor\":\"white\",\"linecolor\":\"white\",\"ticks\":\"\"}},\"scene\":{\"xaxis\":{\"backgroundcolor\":\"#E5ECF6\",\"gridcolor\":\"white\",\"gridwidth\":2,\"linecolor\":\"white\",\"showbackground\":true,\"ticks\":\"\",\"zerolinecolor\":\"white\"},\"yaxis\":{\"backgroundcolor\":\"#E5ECF6\",\"gridcolor\":\"white\",\"gridwidth\":2,\"linecolor\":\"white\",\"showbackground\":true,\"ticks\":\"\",\"zerolinecolor\":\"white\"},\"zaxis\":{\"backgroundcolor\":\"#E5ECF6\",\"gridcolor\":\"white\",\"gridwidth\":2,\"linecolor\":\"white\",\"showbackground\":true,\"ticks\":\"\",\"zerolinecolor\":\"white\"}},\"shapedefaults\":{\"line\":{\"color\":\"#2a3f5f\"}},\"ternary\":{\"aaxis\":{\"gridcolor\":\"white\",\"linecolor\":\"white\",\"ticks\":\"\"},\"baxis\":{\"gridcolor\":\"white\",\"linecolor\":\"white\",\"ticks\":\"\"},\"bgcolor\":\"#E5ECF6\",\"caxis\":{\"gridcolor\":\"white\",\"linecolor\":\"white\",\"ticks\":\"\"}},\"title\":{\"x\":0.05},\"xaxis\":{\"automargin\":true,\"gridcolor\":\"white\",\"linecolor\":\"white\",\"ticks\":\"\",\"title\":{\"standoff\":15},\"zerolinecolor\":\"white\",\"zerolinewidth\":2},\"yaxis\":{\"automargin\":true,\"gridcolor\":\"white\",\"linecolor\":\"white\",\"ticks\":\"\",\"title\":{\"standoff\":15},\"zerolinecolor\":\"white\",\"zerolinewidth\":2}}},\"xaxis\":{\"anchor\":\"y\",\"domain\":[0.0,1.0],\"title\":{\"text\":\"level\"}},\"yaxis\":{\"anchor\":\"x\",\"domain\":[0.0,1.0],\"title\":{\"text\":\"delta_time\"}}},                        {\"responsive\": true}                    ).then(function(){\n",
              "                            \n",
              "var gd = document.getElementById('5c28c191-a846-47dc-8939-f7cd56b5f17a');\n",
              "var x = new MutationObserver(function (mutations, observer) {{\n",
              "        var display = window.getComputedStyle(gd).display;\n",
              "        if (!display || display === 'none') {{\n",
              "            console.log([gd, 'removed!']);\n",
              "            Plotly.purge(gd);\n",
              "            observer.disconnect();\n",
              "        }}\n",
              "}});\n",
              "\n",
              "// Listen for the removal of the full notebook cells\n",
              "var notebookContainer = gd.closest('#notebook-container');\n",
              "if (notebookContainer) {{\n",
              "    x.observe(notebookContainer, {childList: true});\n",
              "}}\n",
              "\n",
              "// Listen for the clearing of the current output cell\n",
              "var outputEl = gd.closest('.output');\n",
              "if (outputEl) {{\n",
              "    x.observe(outputEl, {childList: true});\n",
              "}}\n",
              "\n",
              "                        })                };                            </script>        </div>\n",
              "</body>\n",
              "</html>"
            ]
          },
          "metadata": {}
        }
      ]
    },
    {
      "cell_type": "code",
      "metadata": {
        "colab": {
          "base_uri": "https://localhost:8080/",
          "height": 135
        },
        "id": "2ye8zzZB0hEP",
        "outputId": "235d8b60-2c74-4f1b-aa4e-20045865ff7b"
      },
      "source": [
        "df_temp_24.head(1)"
      ],
      "execution_count": null,
      "outputs": [
        {
          "output_type": "execute_result",
          "data": {
            "text/html": [
              "<div>\n",
              "<style scoped>\n",
              "    .dataframe tbody tr th:only-of-type {\n",
              "        vertical-align: middle;\n",
              "    }\n",
              "\n",
              "    .dataframe tbody tr th {\n",
              "        vertical-align: top;\n",
              "    }\n",
              "\n",
              "    .dataframe thead th {\n",
              "        text-align: right;\n",
              "    }\n",
              "</style>\n",
              "<table border=\"1\" class=\"dataframe\">\n",
              "  <thead>\n",
              "    <tr style=\"text-align: right;\">\n",
              "      <th></th>\n",
              "      <th>index</th>\n",
              "      <th>uid</th>\n",
              "      <th>created_at</th>\n",
              "      <th>event_name</th>\n",
              "      <th>level_move</th>\n",
              "      <th>Number_of_used_moves</th>\n",
              "      <th>target</th>\n",
              "      <th>remaining_targets</th>\n",
              "      <th>reg_dt</th>\n",
              "      <th>churn</th>\n",
              "      <th>level</th>\n",
              "      <th>delta_time</th>\n",
              "      <th>timedelta</th>\n",
              "      <th>24_hour</th>\n",
              "      <th>level_group</th>\n",
              "    </tr>\n",
              "  </thead>\n",
              "  <tbody>\n",
              "    <tr>\n",
              "      <th>0</th>\n",
              "      <td>24</td>\n",
              "      <td>ad1be1b6-e696-42d6-ac03-99be5803a14b</td>\n",
              "      <td>2021-03-13 03:38:18</td>\n",
              "      <td>battle_start</td>\n",
              "      <td>20</td>\n",
              "      <td>NaN</td>\n",
              "      <td>NaN</td>\n",
              "      <td>NaN</td>\n",
              "      <td>2021-03-13 03:36:08</td>\n",
              "      <td>0</td>\n",
              "      <td>1.0</td>\n",
              "      <td>1.866667</td>\n",
              "      <td>0 days 00:02:10</td>\n",
              "      <td>1.0</td>\n",
              "      <td>0.0</td>\n",
              "    </tr>\n",
              "  </tbody>\n",
              "</table>\n",
              "</div>"
            ],
            "text/plain": [
              "  index                                   uid  ... 24_hour level_group\n",
              "0    24  ad1be1b6-e696-42d6-ac03-99be5803a14b  ...     1.0         0.0\n",
              "\n",
              "[1 rows x 15 columns]"
            ]
          },
          "metadata": {},
          "execution_count": 162
        }
      ]
    },
    {
      "cell_type": "code",
      "metadata": {
        "colab": {
          "base_uri": "https://localhost:8080/",
          "height": 175
        },
        "id": "6tTWHOGy0aiC",
        "outputId": "16074fcc-eb52-49ab-dcb2-537ea3f24fc9"
      },
      "source": [
        "table_3 = df_temp_24[df_temp_24['event_name'] == 'battle_start'\n",
        "                        ].pivot_table(index=['uid','churn'], \n",
        "                                      aggfunc={'level': 'max','delta_time': 'sum'}).reset_index()\n",
        "table_3.head(4)"
      ],
      "execution_count": null,
      "outputs": [
        {
          "output_type": "execute_result",
          "data": {
            "text/html": [
              "<div>\n",
              "<style scoped>\n",
              "    .dataframe tbody tr th:only-of-type {\n",
              "        vertical-align: middle;\n",
              "    }\n",
              "\n",
              "    .dataframe tbody tr th {\n",
              "        vertical-align: top;\n",
              "    }\n",
              "\n",
              "    .dataframe thead th {\n",
              "        text-align: right;\n",
              "    }\n",
              "</style>\n",
              "<table border=\"1\" class=\"dataframe\">\n",
              "  <thead>\n",
              "    <tr style=\"text-align: right;\">\n",
              "      <th></th>\n",
              "      <th>uid</th>\n",
              "      <th>churn</th>\n",
              "      <th>delta_time</th>\n",
              "      <th>level</th>\n",
              "    </tr>\n",
              "  </thead>\n",
              "  <tbody>\n",
              "    <tr>\n",
              "      <th>0</th>\n",
              "      <td>000c51e7-db50-4f30-95d6-462be3a2a5d3</td>\n",
              "      <td>0</td>\n",
              "      <td>4.216667</td>\n",
              "      <td>5.0</td>\n",
              "    </tr>\n",
              "    <tr>\n",
              "      <th>1</th>\n",
              "      <td>0018f5d2-d883-4ad2-9b96-29028069ee81</td>\n",
              "      <td>1</td>\n",
              "      <td>360.750000</td>\n",
              "      <td>44.0</td>\n",
              "    </tr>\n",
              "    <tr>\n",
              "      <th>2</th>\n",
              "      <td>00431e7e-d833-47c9-aae9-7ce21652902f</td>\n",
              "      <td>0</td>\n",
              "      <td>4.233333</td>\n",
              "      <td>4.0</td>\n",
              "    </tr>\n",
              "    <tr>\n",
              "      <th>3</th>\n",
              "      <td>0060a2dd-18d8-4122-96ca-92ae699a1a52</td>\n",
              "      <td>1</td>\n",
              "      <td>473.850000</td>\n",
              "      <td>58.0</td>\n",
              "    </tr>\n",
              "  </tbody>\n",
              "</table>\n",
              "</div>"
            ],
            "text/plain": [
              "                                    uid  churn  delta_time  level\n",
              "0  000c51e7-db50-4f30-95d6-462be3a2a5d3      0    4.216667    5.0\n",
              "1  0018f5d2-d883-4ad2-9b96-29028069ee81      1  360.750000   44.0\n",
              "2  00431e7e-d833-47c9-aae9-7ce21652902f      0    4.233333    4.0\n",
              "3  0060a2dd-18d8-4122-96ca-92ae699a1a52      1  473.850000   58.0"
            ]
          },
          "metadata": {},
          "execution_count": 163
        }
      ]
    },
    {
      "cell_type": "code",
      "metadata": {
        "colab": {
          "base_uri": "https://localhost:8080/",
          "height": 542
        },
        "id": "C29a0sIq1YQ8",
        "outputId": "9efb9887-7c95-4c2d-c0b2-ea5991bb3d1b"
      },
      "source": [
        "px.box(table_3, y='delta_time', x='churn')"
      ],
      "execution_count": null,
      "outputs": [
        {
          "output_type": "display_data",
          "data": {
            "text/html": [
              "<html>\n",
              "<head><meta charset=\"utf-8\" /></head>\n",
              "<body>\n",
              "    <div>            <script src=\"https://cdnjs.cloudflare.com/ajax/libs/mathjax/2.7.5/MathJax.js?config=TeX-AMS-MML_SVG\"></script><script type=\"text/javascript\">if (window.MathJax) {MathJax.Hub.Config({SVG: {font: \"STIX-Web\"}});}</script>                <script type=\"text/javascript\">window.PlotlyConfig = {MathJaxConfig: 'local'};</script>\n",
              "        <script src=\"https://cdn.plot.ly/plotly-2.3.1.min.js\"></script>                <div id=\"18c0472d-d45f-46fc-b745-cafcb84e9ca7\" class=\"plotly-graph-div\" style=\"height:525px; width:100%;\"></div>            <script type=\"text/javascript\">                                    window.PLOTLYENV=window.PLOTLYENV || {};                                    if (document.getElementById(\"18c0472d-d45f-46fc-b745-cafcb84e9ca7\")) {                    Plotly.newPlot(                        \"18c0472d-d45f-46fc-b745-cafcb84e9ca7\",                        [{\"alignmentgroup\":\"True\",\"hovertemplate\":\"churn=%{x}<br>delta_time=%{y}<extra></extra>\",\"legendgroup\":\"\",\"marker\":{\"color\":\"#636efa\"},\"name\":\"\",\"notched\":false,\"offsetgroup\":\"\",\"orientation\":\"v\",\"showlegend\":false,\"type\":\"box\",\"x\":[0,1,0,1,1,0,1,1,0,0,1,1,1,1,0,0,1,1,0,1,1,1,1,1,1,1,0,1,0,0,1,0,1,0,1,1,0,0,0,1,1,0,1,0,1,1,1,0,0,0,1,1,1,1,0,0,0,0,1,0,0,1,0,1,0,1,0,0,0,0,1,0,0,1,1,1,1,1,0,0,0,1,1,1,0,0,1,0,1,0,1,1,0,0,1,1,1,0,1,1,0,0,0,0,1,0,1,1,0,0,0,0,0,1,1,1,1,0,0,1,0,1,1,1,1,1,0,1,1,1,0,1,1,0,0,1,1,1,0,1,1,0,0,1,0,0,1,1,1,1,1,1,1,0,0,0,1,0,0,1,1,0,1,1,1,1,0,1,0,0,1,0,0,1,0,0,0,0,0,0,1,1,1,1,0,0,0,0,1,0,1,0,0,1,1,1,1,1,0,1,0,0,1,1,1,1,0,1,1,0,0,1,1,0,1,0,0,0,1,0,1,0,0,0,0,0,1,1,0,0,0,0,0,0,1,1,0,1,1,1,1,1,0,1,1,0,1,1,1,1,0,0,0,0,1,1,0,1,1,0,1,0,1,1,0,0,0,1,0,0,0,0,1,0,0,0,1,0,1,0,1,1,0,0,0,1,0,0,0,0,0,1,1,1,0,1,1,1,1,0,1,0,0,1,1,1,1,1,1,1,1,1,0,1,1,0,0,1,1,1,0,0,1,1,1,1,0,0,1,0,1,0,0,1,1,1,1,1,1,1,1,0,0,0,1,0,0,0,0,0,0,0,1,1,0,1,0,1,0,1,1,0,0,1,1,1,1,0,1,0,0,1,0,1,1,0,0,1,0,1,0,1,1,1,1,0,1,1,1,1,1,1,0,1,0,1,1,0,1,1,1,0,1,1,1,1,1,1,1,0,0,0,0,0,0,0,1,1,1,0,1,0,0,0,0,1,0,1,0,0,0,1,1,1,1,0,1,0,1,1,0,0,1,1,0,1,1,0,1,0,1,1,0,0,0,0,0,1,1,1,1,0,1,0,1,1,1,0,1,0,0,1,0,1,0,0,0,1,1,0,1,0,1,1,1,0,0,0,0,1,0,1,1,1,1,1,0,1,1,0,0,0,0,1,0,1,0,0,0,1,1,0,1,1,0,0,0,1,1,1,1,0,0,0,0,1,0,1,1,1,1,1,1,1,1,1,1,0,1,1,1,1,1,0,1,0,0,1,1,0,1,1,1,1,1,1,0,0,1,1,1,0,1,1,1,1,1,1,0,1,0,0,1,1,0,1,0,1,1,1,1,1,0,0,1,0,0,1,0,0,0,0,1,0,1,0,0,1,0,0,1,0,0,0,0,0,1,1,0,1,1,0,1,0,1,0,0,0,0,0,0,1,0,1,0,0,1,0,0,1,1,1,1,0,0,1,0,1,0,0,0,0,0,1,0,1,1,1,1,0,0,1,0,1,0,1,1,1,1,0,0,1,0,1,0,1,0,0,0,0,0,1,1,1,1,0,0,1,0,1,1,1,1,0,1,1,1,1,1,0,1,0,1,1,1,0,1,0,1,1,1,1,0,1,1,1,0,1,0,1,1,0,0,1,0,1,0,1,0,0,1,1,0,0,1,1,1,1,0,1,0,0,0,0,0,0,0,0,1,0,1,1,0,0,0,1,0,1,0,1,0,0,1,0,1,1,0,1,0,1,0,1,1,0,1,1,0,1,0,1,1,1,0,0,1,0,1,1,1,1,1,1,1,1,1,1,0,1,0,0,1,1,1,1,1,0,1,1,1,1,0,0,0,1,0,0,0,0,0,1,0,0,1,1,1,0,1,1,1,1,0,1,1,1,1,1,1,0,1,0,0,0,1,1,0,1,0,0,1,0,0,1,0,0,1,0,1,0,1,1,1,0,0,1,0,0,1,0,0,1,1,0,1,1,0,1,1,0,1,0,1,0,0,0,0,1,1,0,1,1,1,1,0,1,1,1,0,1,1,0,0,1,0,0,0,1,0,0,1,1,1,0,1,1,1,0,0,1,0,0,1,1,1,1,1,1,0,1,0,0,0,1,0,0,0,1,1,1,0,0,0,1,1,0,1,0,0,1,0,0,0,0,1,1,0,1,1,0,0,1,1,1,1,1,1,0,0,1,0,0,0,1,1,0,1,0,0,1,0,1,1,0,1,1,1,0,0,1,0,0,0,1,1,1,1,1,1,0,1,1,1,1,0,0,0,1,0,1,1,1,1,1,0,1,1,1,1,0,1,1,1,1,1,0,1,0,1,0,0,0,1,1,1,1,1,0,1,1,0,1,1,1,1,1,1,1,1,1,1,1,1,1,0,0,1,1,0,1,1,0,0,1,1,0,1,0,0,1,1,0,0,0,1,1,1,1,0,0,0,0,1,1,0,1,0,1,0,1,1,0,0,0,1,1,0,1,0,0,1,0,0,0,1,0,1,0,1,0,0,1,1,1,0,0,1,1,1,0,0,1,1,0,1,0,0,1,1,1,0,0,0,1,1,1,0,0,0,0,1,1,0,1,0,0,1,1,1,1,1,0,1,0,1,0,1,0,0,1,1,1,0,1,1,0,1,0,1,1,0,1,1,0,0,1,0,0,1,0,1,0,0,0,0,1,0,1,0,1,1,0,1,1,0,1,1,1,0,1,0,0,1,1,0,1,0,1,1,0,0,1,1,1,1,1,0,0,0,0,0,0,1,0,1,0,1,0,0,1,0,0,1,0,0,1,0,1,1,0,1,1,1,0,1,1,0,1,1,0,1,0,0,0,1,1,0,0,0,0,1,0,1,0,1,1,1,0,1,0,1,0,0,0,0,1,0,1,1,1,1,0,0,0,1,0,0,0,1,1,1,1,0,0,1,1,1,1,0,0,1,1,0,1,1,1,1,0,0,1,1,1,0,1,0,0,1,0,0,0,0,0,1,0,1,0,0,0,1,1,1,1,0,0,1,0,1,1,1,1,0,1,0,0,0,0,1,0,1,0,0,1,0,1,0,1,1,1,0,0,1,0,0,0,0,1,0,1,1,0,1,0,1,1,0,0,0,0,0,1,0,1,1,0,0,0,1,0,1,0,0,0,1,0,0,1,1,0,1,0,0,1,1,0,1,1,0,1,0,0,0,1,0,0,1,0,0,1,0,0,1,1,0,1,0,1,0,1,0,0,0,1,0,1,0,0,1,1,1,0,0,1,1,1,0,1,0,1,0,0,1,0,0,1,1,0,1,1,1,0,1,0,1,0,1,0,0,0,1,0,0,1,0,1,1,0,0,0,0,0,1,0,1,0,0,0,0,1,0,1,0,0,0,0,1,0,0,1,1,1,0,1,1,1,0,1,1,0,0,0,1,0,1,0,0,1,1,1,0,1,1,1,1,0,0,1,0,0,1,1,0,1,0,0,1,0,1,0,1,0,0,0,1,0,1,1,1,1,0,0,1,1,0,1,0,1,1,1,1,0,1,1,1,0,0,0,0,1,0,1,0,0,0,1,1,1,1,1,1,1,0,0,1,1,0,0,0,1,1,1,1,1,1,0,1,0,0,1,1,1,1,0,1,0,0,1,1,0,0,1,1,1,0,1,0,1,0,1,1,1,0,0,1,1,1,1,1,0,0,0,1,0,1,1,1,1,0,1,0,1,1,1,0,1,1,1,1,1,0,1,0,0,1,0,0,1,1,1,1,0,0,0,1,1,0,0,1,0,1,0,1,0,0,1,0,0,0,1,0,1,0,1,0,0,1,0,1,1,0,1,0,1,0,0,0,0,1,0,1,0,1,1,0,1,1,1,1,0,0,0,1,0,1,0,1,1,1,0,0,1,1,1,0,1,1,1,1,1,1,0,0,1,0,0,0,0,0,0,0,0,0,1,1,0,1,1,1,0,1,1,1,1,1,1,1,0,0,0,0,0,1,1,0,0,1,0,1,0,0,1,0,1,1,0,1,0,0,1,0,1,1,0,0,1,1,1,0,0,0,0,0,0,0,0,0,1,1,0,1,1,0,1,1,1,1,1,0,0,1,1,1,0,1,1,0,0,0,1,0,1,1,0,1,0,1,1,0,0,1,1,0,0,1,1,0,1,1,1,1,1,1,0,0,0,0,0,0,1,0,0,1,1,0,0,1,1,0,0,1,0,1,0,1,0,0,1,1,1,0,1,0,1,1,0,1,1,1,0,1,1,0,0,1,1,1,1,1,1,1,1,1,0,0,1,1,1,0,1,0,0,0,0,0,0,0,1,1,1,1,1,1,1,1,1,0,0,1,1,1,1,0,1,1,1,1,0,1,1,1,0,1,0,1,1,1,1,0,1,1,1,0,0,0,1,0,1,1,1,1,1,0,1,1,1,0,0,0,0,0,1,0,1,0,0,1,1,1,1,1,1,0,1,0,0,0,1,0,1,1,1,0,1,1,1,0,1,1,0,0,1,1,0,1,0,0,0,0,1,0,1,0,1,1,0,1,1,1,1,1,1,1,0,0,1,0,1,0,1,1,1,1,0,0,0,1,1,1,1,0,0,0,1,0,0,0,1,0,1,1,1,1,1,0,1,0,1,0,1,0,1,1,1,1,0,0,1,1,1,1,1,0,0,1,0,1,1,1,0,1,0,0,0,0,1,1,1,1,0,1,0,0,0,0,0,0,0,1,1,1,0,1,0,0,1,0,1,1,0,1,1,0,0,0,0,0,1,0,0,0,0,0,0,1,0,0,0,0,1,1,0,1,0,0,1,0,0,1,1,1,1,0,0,1,0,1,0,1,0,1,0,1,0,0,0,0,1,0,0,0,0,1,0,1,0,0,0,1,0,1,0,1,1,1,1,0,1,1,1,1,1,0,0,1,1,1,0,0,0,0,1,1,1,0,0,0,0,0,1,0,0,1,0,1,0,0,1,1,0,0,0,0,0,1,0,1,0,0,1,0,1,0,1,1,1,0,1,0,1,0,0,0,0,0,1,1,1,1,1,0,1,1,0,1,0,1,0,1,1,0,1,0,0,0,1,1,0,0,0,1,1,1,1,0,1,1,0,1,1,1,1,1,1,0,1,0,0,1,1,1,1,0,0,1,1,1,1,1,0,1,0,1,1,1,1,0,1,0,1,0,1,1,1,0,1,0,1,1,1,0,1,1,0,1,1,1,1,1,1,0,1,1,0,1,1,1,0,1,0,0,0,1,0,1,1,1,0,1,0,1,0,1,1,0,0,0,0,1,1,1,1,0,1,1,0,1,1,1,0,0,1,1,0,0,1,1,1,1,0,1,1,0,1,1,0,0,1,0,0,1,0,0,1,0,1,1,1,1,1,1,1,0,0,1,0,1,0,1,0,0,1,1,0,1,0,0,0,1,0,0,0,1,0,0,1,1,1,1,1,0,1,1,1,0,0,1,0,0,0,1,0,1,0,1,1,0,0,0,1,0,0,1,0,0,0,1,0,1,0,0,1,0,1,0,1,0,0,0,1,0,1,1,0,1,0,0,1,0,1,0,1,0,0,1,1,1,0,0,0,1,0,1,1,1,0,0,0,0,0,0,0,1,0,1,0,1,1,0,0,0,0,1,0,0,1,0,1,0,1,0,1,1,1,1,1,1,0,0,0,0,0,0,0,0,1,0,1,1,1,1,0,0,0,0,1,1,1,1,0,1,0,0,0,1,0,0,1,1,0,0,1,0,0,0,0,0,0,1,1,0,0,1,1,0,0,0,1,1,0,1,1,1,1,1,0,1,1,0,1,1,0,1,1,0,1,0,0,1,0,0,1,0,1,0,1,1,0,0,0,1,0,1,1,0,1,1,1,1,1,1,1,1,1,1,0,1,0,1,0,1,1,0,0,1,1,0,1,1,1,1,1,1,0,0,0,1,1,1,0,1,1,1,0,1,1,0,0,0,1,1,1,0,0,1,0,0,0,1,0,1,1,0,1,1,0,1,1,0,1,0,1,1,0,1,1,0,0,1,1,0,1,1,1,0,0,0,0,1,1,0,1,1,1,1,0,0,0,0,0,0,0,0,0,1,0,1,0,1,1],\"x0\":\" \",\"xaxis\":\"x\",\"y\":[4.216666666666667,360.75000000000006,4.233333333333333,473.8500000000004,5.083333333333334,6.016666666666667,40.166666666666664,136.60000000000002,13.55,5.1,4.166666666666667,38.09999999999999,136.15000000000003,41.06666666666666,51.66666666666667,3.183333333333333,4.333333333333333,45.900000000000006,1546.8499999999997,167.85000000000016,664.5,139.74999999999994,149.1999999999999,89.15000000000003,203.90000000000012,292.2000000000001,84.10000000000001,304.3,2.1166666666666667,10.233333333333334,2037.1999999999998,5.433333333333334,1091.9500000000014,3.1166666666666667,172.35000000000002,4461.65,24.366666666666667,348.90000000000026,5.783333333333333,18.033333333333335,91.85000000000002,3.1333333333333333,2646.749999999999,9.683333333333334,50.23333333333333,739.0499999999998,203.74999999999997,32.083333333333336,219.89999999999992,10.716666666666669,220.55000000000015,5.233333333333333,447.8,10.283333333333333,17.966666666666665,103.60000000000001,2.05,4.05,68.66666666666667,62.95000000000001,16.133333333333333,431.30000000000007,16.516666666666666,420.33333333333326,7.116666666666666,85.59999999999998,3.5166666666666666,13.583333333333334,5.833333333333334,3.716666666666667,148.95000000000005,2.45,1408.1333333333332,4319.200000000001,916.5,115.89999999999995,132.25000000000009,1199.8333333333335,2.9166666666666665,2.55,73.06666666666663,2857.5333333333333,9.05,208.99999999999997,16.099999999999998,10.383333333333333,4206.95,2.05,3848.05,8.316666666666666,10.45,76.29999999999998,490.9,6.033333333333333,227.26666666666662,3722.5,213.4499999999999,46.36666666666666,215.93333333333337,82.69999999999997,21.633333333333333,2.533333333333333,1.75,13.766666666666666,1252.3500000000004,12.4,2.1333333333333333,9.3,6.933333333333334,3.7166666666666672,2.583333333333333,143.84999999999997,5.433333333333334,300.40000000000003,92.29999999999997,191.76666666666665,4854.299999999997,802.9499999999992,13.98333333333333,846.3000000000009,7.2666666666666675,42.58333333333333,8.799999999999999,8.4,104.95000000000005,103.44999999999999,89.79999999999997,11.866666666666665,18.31666666666667,5.216666666666667,424.13333333333344,3757.35,6.733333333333333,2.7,296.76666666666665,617.3666666666667,37.199999999999996,280.7500000000003,4.6000000000000005,354.69999999999993,1987.5666666666666,1.7666666666666666,1.95,2619.600000000003,8.649999999999999,12.233333333333334,14.016666666666666,148.9,2402.0499999999997,104.90000000000002,1659.9,371.55000000000007,11.666666666666666,343.7499999999999,5.883333333333333,104.45,15.916666666666666,44.36666666666667,314.1500000000001,38.28333333333333,1069.6833333333334,10.566666666666666,142.7,18.549999999999994,13.083333333333332,8.133333333333335,7.833333333333333,159.39999999999998,2.933333333333333,252.4000000000001,2904.4999999999995,46.53333333333333,8.316666666666666,13.433333333333334,421.3999999999997,5.766666666666667,11.033333333333331,1.3833333333333333,8.600000000000001,226.44999999999985,2.9,90.90000000000002,3.533333333333333,32.8,510.4,20.766666666666666,20.3,27.1,168.79999999999995,1.9833333333333334,5356.849999999999,9.1,64.93333333333334,2113.149999999999,922.2499999999999,267.70000000000016,109.54999999999995,350.0499999999998,21.333333333333332,2813.55,241.09999999999994,84.65,3.4333333333333336,5.483333333333333,39.050000000000004,15.799999999999997,3.1166666666666663,6.45,14.01666666666667,4.2,40.96666666666666,608.1000000000001,238.45000000000013,4.3,477.8499999999999,12.166666666666664,9.666666666666666,65.2,109.95000000000005,8.166666666666666,162.59999999999994,6.966666666666667,2.216666666666667,22.900000000000002,15.316666666666665,2.85,1358.6166666666666,100.30000000000001,89.79999999999998,2.2,1.9666666666666666,5.783333333333333,9.683333333333334,117.10000000000008,383.2666666666668,269.4,9.583333333333332,241.54999999999993,1591.0999999999995,52.76666666666666,31.599999999999994,39.63333333333334,65.76666666666667,21.28333333333333,94.5,4.3,4.066666666666666,215.11666666666667,5057.55,906.8166666666667,423.8833333333333,4.45,24.466666666666672,8.35,1544.9666666666672,1130.1999999999998,8.2,1703.5999999999992,352.14999999999986,2.7333333333333334,64.44999999999999,6.166666666666666,100.84999999999997,178.23333333333338,1.8833333333333333,2.5,1.65,333.86666666666656,175.65,3.9166666666666665,243.65000000000003,8.866666666666669,122.74999999999996,86.8,12.133333333333333,84.4666666666666,120.40000000000003,3.6,35.6,25.866666666666667,3890.75,306.733333333333,73.14999999999999,90.94999999999993,6.933333333333332,470.6499999999999,34.900000000000006,4.933333333333334,2.283333333333333,34.36666666666668,236.00000000000009,298.2500000000001,19.616666666666667,10.7,281.00000000000017,224.99999999999994,240.33333333333323,38.89999999999999,2020.1000000000001,221.80000000000013,6.633333333333334,2.6666666666666665,243.93333333333334,227.54999999999995,198.35000000000016,3.0833333333333335,620.8000000000002,3860.2,85.65000000000003,15.15,76.99999999999999,159.45,9.866666666666667,6.033333333333333,2.4,29.699999999999996,53.83333333333335,13.749999999999998,1240.1999999999998,21.449999999999996,2.1166666666666667,781.0000000000005,341.1500000000002,272.9500000000001,1342.3000000000006,210.3,2.466666666666667,2.5666666666666664,4.15,7.733333333333333,1237.2333333333333,16.083333333333332,5.216666666666667,60.00000000000002,4707.35,3201.1499999999996,73.5,3.9333333333333336,2194.2,1278.5,1540.7999999999981,118.00000000000001,3.916666666666667,47.63333333333333,164.64999999999992,8.9,3.4333333333333336,76.89999999999999,7.0,2.4166666666666665,16.55,45.73333333333332,47.54999999999999,738.4499999999994,2.316666666666667,497.26666666666654,84.39999999999998,3433.999999999999,6.700000000000001,2.3,631.0,2.216666666666667,38.28333333333333,61.83333333333332,5.683333333333334,37.666666666666664,102.30000000000007,4.266666666666667,379.85,18.083333333333332,2.9333333333333336,617.6499999999993,2.433333333333333,1109.6000000000004,1383.3000000000002,4.216666666666667,8.716666666666667,3060.2000000000003,11.500000000000002,82.79999999999997,18.883333333333333,178.30000000000007,130.00000000000003,100.15000000000006,14.316666666666666,14.766666666666666,2574.8500000000004,18.400000000000002,126.74999999999997,137.60000000000005,51.30000000000002,94.96666666666668,38.76666666666665,195.70000000000024,8.966666666666665,5.316666666666666,332.5000000000001,2.8,147.30000000000004,1.8,1086.3666666666668,5.449999999999999,2536.6499999999965,18.666666666666668,76.30000000000004,3656.1000000000004,226.49999999999991,2184.3333333333335,6.733333333333334,5.55,42.40000000000001,82.2,2.3333333333333335,3.6999999999999997,275.75000000000006,925.0499999999996,91.44999999999996,402.15000000000015,98.74999999999999,1.6833333333333333,245.99999999999997,1007.8499999999997,37.29999999999999,46.516666666666666,2.2,191.54999999999993,8.883333333333333,2422.2,2.15,4.016666666666667,109.63333333333333,326.4666666666667,2107.5333333333324,10.0,9.049999999999999,14.583333333333334,2679.5499999999993,325.4666666666667,976.8499999999997,15.35,18.183333333333337,73.40000000000003,10.600000000000001,895.9500000000002,127.55000000000003,268.90000000000003,10.600000000000001,33.23333333333333,353.0999999999995,2.3666666666666667,171.1,12.95,2.7666666666666666,105.04999999999997,244.89999999999986,43.23333333333333,6.383333333333334,1020.9999999999999,15.95,3170.3,275.24999999999983,56.199999999999996,308.4999999999998,94.80000000000005,546.0500000000003,34.63333333333333,265.8666666666667,91.34999999999997,444.40000000000055,2335.5999999999995,4.733333333333333,2396.199999999998,14.033333333333335,4404.7,6.1,196.55000000000007,2.1,3340.550000000003,2577.866666666667,40.76666666666665,888.2000000000006,4.533333333333334,388.4166666666667,1823.2666666666667,396.6999999999998,3.0166666666666666,3.8000000000000003,1.8166666666666667,9.716666666666665,21.966666666666665,102.5,254.1000000000001,3165.9000000000005,94.04999999999993,9.7,127.06666666666666,6.083333333333334,258.5,79.73333333333332,22.533333333333335,13.933333333333332,5.1499999999999995,75.19999999999999,2.6166666666666667,10.8,362.8499999999999,67.0,17.96666666666667,3.6,434.6500000000004,290.34999999999997,307.9000000000001,2183.949999999998,6.35,1.7666666666666666,14.466666666666667,2.3666666666666667,975.5666666666667,641.75,183.04999999999993,23.233333333333327,2.183333333333333,15.583333333333332,230.1499999999998,13.55,183.59999999999997,19.06666666666667,23.333333333333336,168.0666666666667,14.283333333333331,445.45000000000005,258.9499999999999,144.85000000000002,3614.65,1542.15,1588.7500000000002,3721.0,3.8666666666666667,825.6999999999999,5.5166666666666675,63.400000000000006,16.533333333333335,1.8166666666666667,2.8499999999999996,178.04999999999995,2.0666666666666664,1064.2333333333331,384.05,610.1,693.3500000000001,114.04999999999998,477.2,5.283333333333333,202.24999999999994,206.3499999999999,16.966666666666665,1.8333333333333333,1.9333333333333333,1585.75,3527.2000000000007,259.29999999999995,16.433333333333334,285.74999999999994,3198.6333333333328,18.46666666666667,138.90000000000006,66.8,181.85,4.35,151.75000000000003,14.600000000000001,1.9166666666666667,1.5833333333333333,247.50000000000003,12.1,52.666666666666664,72.43333333333335,6.600000000000001,25.666666666666664,9.416666666666668,516.8666666666666,230.75,31.53333333333335,116.75,240.90000000000003,132.7,18.916666666666668,500.25000000000006,376.7000000000001,14.033333333333333,34.3,2.85,179.2500000000001,1.8,193.1499999999999,79.05,7.766666666666666,140.43333333333334,12.000000000000002,5.083333333333334,22.733333333333338,6.1,15.483333333333334,4.433333333333334,85.36666666666666,4.25,270.24999999999994,6941.05,8.299999999999999,167.29999999999998,69.69999999999997,13.600000000000001,1907.3000000000002,2.216666666666667,3.8833333333333333,2.0,117.80000000000007,106.15000000000002,8.866666666666667,4.7,1.7666666666666666,2.1,8.250000000000002,232.45000000000013,7.333333333333334,248.74999999999997,612.7499999999999,67.35000000000001,53.49999999999999,1207.9333333333334,530.8000000000008,319.0999999999999,10.200000000000001,38.33333333333332,1.4833333333333334,27.833333333333332,1.9,3159.099999999999,228.79999999999998,2.3,3.6999999999999997,14.316666666666668,2.5166666666666666,86.89999999999998,344.3999999999997,26.533333333333328,16.4,227.0499999999998,67.16666666666667,155.50000000000009,4.1,2408.1999999999994,3.25,47.533333333333324,45.41666666666667,2.45,354.7500000000001,3.8333333333333335,355.99999999999994,13.883333333333331,7.583333333333333,64.11666666666667,21.4,62.76666666666666,2425.1000000000013,4.1,17.450000000000003,224.75000000000006,9.333333333333332,2.5999999999999996,49.66666666666667,13.1,21.633333333333333,1159.1000000000001,3862.950000000001,229.8499999999999,1.85,18.5,37.63333333333333,153.6,1.9833333333333334,682.9999999999994,483.5,9.233333333333333,2.4,367.3,323.73333333333323,86.89999999999999,173.05000000000004,4.183333333333334,118.1,1.8833333333333333,550.1999999999999,340.4500000000001,627.25,2785.250000000003,11.783333333333333,14.383333333333333,521.8666666666664,14.899999999999999,545.9500000000003,195.65,12.366666666666665,3574.2,2.2333333333333334,15.733333333333334,10.566666666666666,19.333333333333332,39.66666666666666,281.65000000000026,106.89999999999999,25.96666666666667,124.24999999999999,12.4,9.149999999999999,2799.5666666666666,93.95,32.61666666666666,30.58333333333333,2.55,1852.4666666666687,1523.6000000000006,11.883333333333333,2.3833333333333333,491.09999999999985,18.700000000000003,1227.2,13.65,1.9166666666666667,1124.5499999999997,2.716666666666667,1.6833333333333333,1.8,190.35000000000008,87.60000000000002,8.549999999999999,350.70000000000016,1.8166666666666667,17.633333333333336,2.4,557.9000000000003,11.65,591.4000000000001,4.966666666666667,24.049999999999997,29.466666666666665,29.800000000000008,4773.450000000001,6.483333333333333,349.93333333333334,3.7333333333333334,217.96666666666664,40.349999999999994,3.1,1013.4500000000005,3464.2500000000005,17.95,5.166666666666666,45.766666666666666,25.7,372.43333333333345,2.316666666666667,520.9000000000002,2.533333333333333,1076.6499999999999,2.8833333333333333,3.4833333333333334,806.0500000000002,90.44999999999999,947.4,278.9000000000001,77.49999999999999,23.95,83.14999999999996,3549.1999999999994,1.8,124.26666666666668,31.266666666666666,181.35000000000005,329.9999999999999,73.13333333333334,1773.65,12.15,1256.4999999999995,309.35,117.75000000000004,10.783333333333335,14.399999999999999,13.716666666666667,61.166666666666664,2370.133333333333,28.6,4041.950000000001,232.40000000000012,144.74999999999997,4.85,529.4000000000005,131.40000000000006,8.416666666666666,13.75,1677.1499999999992,10.633333333333335,8.75,334.79999999999995,2.1833333333333336,1.9833333333333334,8.683333333333334,2.6500000000000004,13.566666666666668,183.45000000000007,3.0666666666666664,2.1833333333333336,30.93333333333333,500.6666666666669,121.35000000000004,2435.5333333333338,5.45,6296.150000000001,35.900000000000006,2942.3500000000004,1.9,494.0000000000004,159.8499999999999,2.183333333333333,7.65,2449.85,5.733333333333333,208.9666666666665,408.6999999999998,3.8166666666666664,65.30000000000001,4.2,1152.0000000000002,5273.8,3.916666666666667,3.5999999999999996,15.166666666666668,30.43333333333333,13.433333333333334,12.866666666666667,70.14999999999996,1023.4499999999995,48.36666666666665,3.8499999999999996,541.15,14.5,13.8,59.149999999999984,63.1,112.60000000000004,27.599999999999998,119.93333333333337,315.3999999999998,5.250000000000001,84.15000000000002,469.75,247.33333333333317,1.75,2.933333333333333,363.25000000000034,143.3,12.049999999999999,1988.5999999999997,4467.750000000001,1.75,1073.1000000000008,1190.7000000000003,11.816666666666666,3511.3000000000015,9.850000000000001,252.10000000000002,15.066666666666666,6.266666666666666,3.1333333333333333,10.783333333333333,2508.5999999999995,1552.2000000000012,81.29999999999998,10.233333333333333,106.45000000000002,772.6666666666665,186.14999999999972,26.366666666666667,465.9500000000003,70.70000000000002,28.68333333333333,201.85,12.633333333333333,803.1000000000006,26.66666666666667,3.316666666666667,6.050000000000001,1.7333333333333334,216.2499999999997,252.1,209.43333333333322,11.0,18.21666666666666,878.2999999999998,5262.066666666668,33.3,112.3,11.566666666666666,7.216666666666667,211.49999999999991,4.6,1.65,68.55000000000003,1.5833333333333333,3.75,9.783333333333333,549.8500000000003,19.51666666666667,95.29999999999997,42.0,2.3333333333333335,1.5333333333333334,70.99999999999999,18.333333333333336,6.966666666666667,13.066666666666666,58.53333333333334,7.816666666666666,176.7999999999998,7.300000000000001,4497.949999999999,31.83333333333334,6.016666666666667,3.6166666666666663,4.183333333333334,13.366666666666667,155.25000000000006,4.666666666666667,7.416666666666666,276.34999999999997,177.29999999999998,3.4,270.3999999999998,214.00000000000006,51.500000000000014,29.833333333333332,1.8333333333333333,69.86666666666666,326.40000000000015,40.900000000000006,298.9000000000001,17.083333333333336,3.9333333333333336,2.5166666666666666,321.3499999999996,12.366666666666667,1760.550000000001,208.85,2769.4500000000003,28.616666666666667,6.833333333333333,2.7,319.5,3.7666666666666666,3.0833333333333335,6.466666666666667,33.73333333333333,2352.7000000000003,6.45,336.89999999999986,1.6666666666666667,36.0,9.483333333333333,1043.55,60.26666666666665,5.2,10.850000000000001,282.1999999999997,88.39999999999999,179.95000000000016,221.35000000000005,3.166666666666667,1732.2999999999997,672.0999999999996,8.833333333333334,1.8333333333333333,128.14999999999998,144.00000000000003,53.16666666666667,1850.5,7.35,51.96666666666666,4.35,384.1000000000001,804.8000000000002,125.05000000000007,3.7,71.83333333333333,4.816666666666667,5.800000000000001,3047.55,12.25,9.583333333333334,691.3666666666667,132.00000000000006,254.60000000000008,115.14999999999992,257.10000000000014,637.7999999999997,122.16666666666667,3931.7999999999997,132.10000000000008,45.39999999999999,44.23333333333333,12.75,369.8500000000002,30.416666666666664,8.066666666666666,1.65,33.099999999999994,177.60000000000002,57.36666666666666,47.26666666666665,2.2333333333333334,2.033333333333333,225.84999999999994,55.13333333333331,160.89999999999998,245.64999999999995,2.35,12.366666666666667,17.9,5.1499999999999995,80.14999999999999,552.6,119.9333333333334,1685.400000000002,114.10000000000005,17.5,1492.2500000000005,361.1000000000002,48.150000000000006,31.766666666666662,897.55,207.39999999999995,1.8333333333333333,2.216666666666667,7.766666666666667,2.216666666666667,3275.550000000004,470.40000000000003,346.75000000000057,5232.200000000001,11.699999999999998,12.216666666666665,2.7666666666666666,2712.666666666667,116.05000000000001,19.383333333333336,105.50000000000001,2.683333333333333,113.26666666666667,2775.8,11.299999999999999,4.55,118.93333333333332,19.833333333333332,198.19999999999996,313.49999999999983,400.6000000000001,137.45000000000007,6.566666666666666,46.88333333333334,15.783333333333335,18.216666666666665,1.8833333333333333,66.78333333333333,7.283333333333333,96.59999999999992,1.9833333333333334,295.9500000000002,120.89999999999998,3720.85,164.45000000000007,8.000000000000002,4.833333333333334,62.69999999999999,3010.5,933.7166666666667,86.30000000000001,7.7,5.716666666666667,9.716666666666667,100.70000000000002,46.5,153.75000000000009,3565.499999999999,159.45,3.6999999999999997,5.4833333333333325,201.45000000000002,8.733333333333333,1.85,2787.966666666667,454.0000000000002,355.25,760.0999999999987,12.499999999999998,153.95,236.0,117.06666666666662,70.29999999999998,1.6666666666666667,54.70000000000002,254.39999999999995,178.95000000000007,202.1000000000002,803.5499999999998,18.566666666666663,10.116666666666667,383.05000000000007,93.39999999999999,125.89999999999999,9.049999999999999,204.85000000000005,2.066666666666667,617.4999999999999,102.94999999999999,95.39999999999998,2.066666666666667,50.24999999999998,2.05,5.166666666666667,2177.350000000001,55.33333333333332,13.066666666666666,3.9666666666666663,3.3,12.966666666666667,75.3,2077.95,263.34999999999985,1084.4499999999991,188.90000000000006,65.69999999999999,77.89999999999999,13.816666666666666,339.75,228.44999999999993,175.60000000000005,153.4499999999999,90.80000000000001,4740.95,1837.3000000000004,15.666666666666666,79.75000000000004,36.53333333333332,571.2000000000003,6.266666666666667,22.53333333333333,8.15,22.43333333333333,8.0,2.3666666666666667,218.75000000000003,2908.866666666667,2.9166666666666665,12.416666666666668,141.54999999999995,176.90000000000015,1.75,28.8,5.816666666666666,2202.7999999999993,5.25,4.066666666666666,68.43333333333334,245.6500000000002,84.24999999999997,2.65,343.3999999999998,10.733333333333334,189.1499999999999,328.95000000000016,2.95,251.9499999999998,3.9333333333333336,77.34999999999998,40.26666666666666,2.3833333333333333,516.6999999999997,265.2999999999999,11.266666666666667,3.2,201.25000000000006,466.5000000000001,212.40000000000006,1.9,27.53333333333334,111.90000000000002,320.4000000000001,1397.9166666666665,12.666666666666666,6.6000000000000005,570.0499999999998,429.5000000000001,119.59999999999998,104.75000000000001,24.83333333333333,10.666666666666668,3.8000000000000003,3.716666666666667,5.9,31.866666666666667,2.7,5.983333333333333,3.533333333333333,925.4499999999999,19.7,618.6,11.683333333333334,3.0166666666666666,5.416666666666667,2.4,11.7,808.45,3.2499999999999996,2.4833333333333334,203.24999999999994,3.783333333333333,295.5000000000001,108.34999999999997,37.166666666666664,269.85000000000025,417.2,2.1,3.6166666666666663,3505.0499999999997,2911.8333333333335,8.383333333333335,10.266666666666666,82.53333333333333,261.9499999999999,26.883333333333333,4.433333333333333,5.4,3.2666666666666666,101.69999999999993,3.1166666666666667,23.06666666666667,50.000000000000014,142.9666666666666,173.25,32.65,218.65000000000015,110.99999999999991,5.4,6.166666666666666,4352.049999999999,24.416666666666664,11.849999999999998,3342.3499999999995,8.000000000000002,24.133333333333333,12.916666666666666,4.733333333333333,28.73333333333334,2.283333333333333,366.79999999999984,106.56666666666662,51.699999999999996,16.23333333333333,3723.449999999998,2928.8,4.45,2.6666666666666665,7.199999999999999,66.5,185.75,19.5,4.699999999999999,280.24999999999994,105.55000000000003,9.133333333333335,1175.4000000000003,23.333333333333332,4.0,479.7,2055.5000000000005,2276.9000000000005,46.93333333333334,8.916666666666666,15.366666666666665,304.98333333333335,155.80000000000004,428.45000000000044,602.3666666666667,29.700000000000003,2317.2,244.20000000000007,4.65,1.6833333333333333,2132.7500000000005,267.65000000000003,38.31666666666666,33.83333333333333,3971.6,5.283333333333334,27.533333333333328,134.3,4.283333333333333,8.466666666666667,4.35,33.733333333333334,9.266666666666666,40.9,19.633333333333333,5.416666666666667,3.3666666666666663,4.666666666666666,11.299999999999999,180.70000000000002,13.983333333333333,101.19999999999995,104.36666666666663,32.43333333333334,7.116666666666666,1740.8999999999994,45.63333333333333,1042.3999999999999,225.24999999999986,77.74999999999999,39.766666666666666,87.3,455.54999999999984,28.700000000000006,2.833333333333333,1.8833333333333333,11.316666666666666,1081.9000000000005,136.55000000000004,10.583333333333334,7.333333333333333,4.666666666666666,45.733333333333334,13.75,59.81666666666667,161.2,2241.8499999999995,118.24999999999997,4.216666666666667,21.816666666666666,16.216666666666665,5.5,6.166666666666667,41.599999999999994,2.1166666666666667,4.016666666666666,1097.9999999999998,6.966666666666668,2.15,51.23333333333333,123.30000000000001,162.05,32.4,155.4666666666666,1452.55,1.8333333333333333,84.83333333333336,17.55,2.45,3.6999999999999997,5.0,33.9,39.49999999999999,661.0000000000005,2.1333333333333333,2.9833333333333334,44.300000000000004,196.2,7.083333333333333,2.716666666666667,163.70000000000002,35.900000000000006,93.65,190.9000000000001,61.9,18.199999999999996,1611.5,270.8,4.766666666666667,17.35,147.10000000000005,6.55,271.75000000000017,8.75,5.6,96.76666666666672,1329.2,10.633333333333335,11.649999999999999,2.5666666666666664,2.1666666666666665,29.2,2133.2999999999984,1.4666666666666666,16.03333333333333,272.2,2.55,16.53333333333333,740.1500000000001,480.3999999999998,33.99999999999999,1.7166666666666666,245.29999999999987,7.216666666666668,2221.0,3.75,454.3499999999998,9.333333333333332,2690.650000000002,12.766666666666667,2.3833333333333333,6.866666666666667,172.10000000000005,2.4,566.0000000000001,10.600000000000001,12.850000000000001,4.416666666666667,2390.0666666666675,824.5333333333333,18.0,2.1166666666666667,4265.55,295.2999999999999,1057.8,5.383333333333333,222.6999999999999,3.366666666666667,1319.9999999999998,228.44999999999987,117.54999999999998,250.39999999999995,72.14999999999998,18.35,8.0,11.099999999999998,6.433333333333334,412.7000000000002,293.81666666666666,2420.749999999999,10.566666666666665,698.5666666666666,2.033333333333333,2303.7,44.16666666666666,129.4,11.9,178.85000000000008,2.4166666666666665,5.949999999999999,2.5666666666666664,171.95000000000002,127.2499999999999,12.85,9.500000000000002,314.50000000000017,61.150000000000006,68.03333333333335,2.3833333333333333,10.283333333333331,19.133333333333333,281.0,1.9333333333333333,1339.816666666667,3365.7,1656.3000000000002,2.45,1.8833333333333333,116.33333333333331,3.033333333333333,68.10000000000004,12.783333333333335,7.283333333333333,82.69999999999996,12.833333333333336,8.266666666666667,4.45,4.766666666666667,1082.8500000000004,401.55000000000007,1200.5999999999997,3.7333333333333334,126.35,201.55,14.833333333333336,1.8166666666666667,248.55000000000027,383.6500000000009,57.20000000000002,2.6166666666666667,1.5666666666666667,1537.2666666666664,230.74999999999991,22.366666666666667,49.449999999999996,44.81666666666667,125.45000000000003,58.29999999999999,231.74999999999994,45.4,32.099999999999994,15.466666666666665,2850.4500000000016,4.783333333333333,12.633333333333335,7.4,3339.7000000000003,3.4166666666666665,25.63333333333334,3904.6000000000004,17.95,2.45,126.93333333333337,2082.4500000000007,13.283333333333333,170.80000000000007,9.733333333333333,1307.6000000000006,10.866666666666667,113.19999999999995,6.05,9.783333333333333,6.6,189.55,3.9333333333333336,4.216666666666666,80.65000000000006,451.04999999999995,2.3,6.7,8.416666666666666,5.800000000000001,1237.35,1.9333333333333333,12.433333333333334,202.8000000000002,2630.6666666666665,10.75,1713.65,5.766666666666667,7.316666666666667,644.0000000000008,18.866666666666667,238.8500000000001,25.75,298.49999999999983,2.716666666666667,258.75,76.19999999999997,20.56666666666667,16.066666666666666,137.6,6.75,8.566666666666666,3861.5,530.9,144.25000000000006,2411.6499999999974,798.65,624.9,121.54999999999998,9.866666666666667,6.8999999999999995,2052.366666666668,15.016666666666667,1.8166666666666667,7.95,3.7,164.60000000000002,16.533333333333335,117.89999999999993,103.94999999999997,16.71666666666667,311.0000000000002,11.283333333333331,119.24999999999997,3.7333333333333334,8.6,1370.15,150.19999999999987,5.183333333333334,258.5,43.899999999999984,6.883333333333333,78.0333333333333,19.566666666666666,253.54999999999987,3994.2,2.6,4.883333333333333,8.65,138.59999999999997,71.86666666666669,2.05,12.433333333333332,582.3999999999999,495.94999999999953,134.39999999999998,261.55000000000007,501.49999999999994,289.3499999999999,7.533333333333333,66.50000000000001,255.84999999999994,2.683333333333333,8.916666666666666,7.916666666666668,22.083333333333336,3.5,16.416666666666668,2.3833333333333333,461.84999999999997,347.15000000000003,1780.1499999999999,212.8,3445.9999999999986,8.7,66.8,2807.849999999999,5.4,3265.4499999999994,3.7,417.6,35.266666666666666,78.03333333333333,140.63333333333335,11.766666666666666,246.06666666666672,16.049999999999997,162.29999999999995,2857.8000000000006,4.633333333333334,4.583333333333333,131.83333333333331,3.6166666666666667,86.0,368.2500000000002,337.6000000000002,168.10000000000002,2645.8000000000043,1.7333333333333334,6.883333333333334,11.516666666666666,1230.6,6.933333333333333,9.483333333333334,2.2,1408.6833333333332,1.9,220.70000000000005,5.633333333333333,600.4499999999998,3.4166666666666665,1.95,108.73333333333332,183.59999999999994,1.9333333333333333,1.7666666666666666,6.85,4.666666666666666,138.85000000000014,313.5,300.75000000000017,63.35,52.73333333333333,76.63333333333337,11.100000000000001,2.566666666666667,9.0,3.466666666666667,110.59999999999997,263.1000000000002,4035.75,3.5333333333333337,15.616666666666669,86.44999999999997,4.183333333333333,7460.049999999999,18.96666666666667,277.05000000000007,11.083333333333334,34.49999999999999,183.95000000000013,18.06666666666667,15.266666666666666,242.69999999999987,1922.8333333333335,40.533333333333324,288.95000000000005,4.483333333333333,7.2666666666666675,4413.4,4.383333333333333,378.30000000000007,564.3500000000001,29.9,3959.2000000000007,1776.2666666666664,9.350000000000001,4.383333333333334,417.1333333333333,221.15000000000006,927.8499999999995,8.583333333333334,131.04999999999995,80.50000000000006,34.800000000000004,1848.6333333333337,1734.9,270.5499999999999,6.9333333333333345,2.283333333333333,778.6999999999998,54.5,72.16666666666667,12.0,311.8,35.166666666666664,688.1166666666664,145.73333333333326,48.20000000000001,11.250000000000002,8.233333333333333,251.49999999999994,2.6333333333333333,82.16666666666663,3540.3,315.34999999999997,2.85,784.5666666666667,284.5499999999999,49.216666666666676,3334.2500000000005,291.55000000000007,51.93333333333334,2202.2,145.35,671.8999999999993,118.89999999999995,1.5833333333333333,5.083333333333334,4980.75,785.2333333333333,1.85,8.7,220.80000000000004,4.916666666666667,44.66666666666668,82.54999999999998,93.56666666666665,81.49999999999999,8.133333333333333,43.866666666666674,1238.549999999999,9.583333333333332,4393.700000000001,59.69999999999999,10.666666666666668,5333.099999999999,18.799999999999997,9.233333333333333,252.94999999999973,3.783333333333333,1.5333333333333334,4645.849999999999,137.35000000000002,48.80000000000001,2.966666666666667,25.21666666666667,27.566666666666666,77.54999999999998,5.55,175.49999999999997,116.25000000000001,50.24999999999999,9.933333333333334,16.533333333333335,1698.7333333333333,41.300000000000004,135.1333333333333,3.716666666666667,1.7166666666666666,1082.8499999999997,633.6999999999996,173.65000000000012,607.9,252.4,2.533333333333333,12.066666666666666,2120.2500000000005,51.050000000000004,2430.6,108.84999999999991,13.799999999999999,228.95000000000022,1.8666666666666667,8.716666666666667,23.833333333333336,19.383333333333333,13.733333333333334,14.483333333333333,24.06666666666667,214.5500000000001,255.74999999999977,2.75,1609.6499999999999,1.6833333333333333,6.966666666666666,77.05000000000004,124.40000000000008,5.933333333333334,2.033333333333333,7.433333333333334,192.00000000000014,2825.7000000000003,12.283333333333331,1704.35,1438.6166666666666,137.9,8.5,2130.2999999999997,1595.65,10.366666666666667,2.283333333333333,91.30000000000004,6.7,296.9500000000003,13.616666666666667,25.383333333333333,6.116666666666666,91.33333333333337,1115.8499999999992,165.39999999999995,3.4333333333333336,11.5,14.299999999999999,2075.2333333333336,3.1666666666666665,49.19999999999997,93.50000000000001,3.8500000000000005,153.60000000000008,13.55,6.033333333333334,30.766666666666666,8.883333333333333,159.73333333333335,905.4166666666666,37.56666666666666,162.80000000000013,49.93333333333331,22.449999999999996,4.816666666666666,7.933333333333333,41.36666666666667,378.0999999999997,98.05000000000004,30.300000000000008,43.70000000000001,166.85000000000002,141.8999999999999,15.116666666666667,29.66666666666667,261.7499999999998,436.15,206.49999999999997,2320.2333333333336,4.883333333333334,1611.1,6.583333333333333,1134.7500000000005,1547.5499999999993,12.966666666666665,43.85,101.83333333333334,743.7,552.4666666666667,10.149999999999999,184.10000000000005,6.816666666666666,2.6333333333333333,2.8499999999999996,17.766666666666666,11.1,131.15000000000003,4.95,3.7666666666666666,1122.4000000000005,1634.5999999999983,71.36666666666666,4071.4499999999994,92.13333333333333,21.883333333333333,32.550000000000004,112.14999999999995,7.4833333333333325,8.383333333333333,298.99999999999994,292.35000000000014,25.55,1984.6000000000006,44.24999999999997,363.45,734.6999999999999,138.3999999999999,14.933333333333334,19.45,305.4000000000002,1085.4000000000005,370.64999999999964,2.0,124.96666666666663,32.23333333333333,13.683333333333332,708.1999999999994,4036.95,1342.0833333333335,4.15,3.9000000000000004,15.933333333333335,306.9,6.083333333333334,1.65,15.816666666666665,95.40000000000006,6.0,735.05,13.066666666666668,169.4500000000001,229.4500000000001,15.983333333333333,4.783333333333333,107.69999999999997,205.59999999999997,484.19999999999953,8.4,41.19999999999999,8.583333333333332,16.516666666666666,66.83333333333333,215.63333333333335,41.43333333333332,2731.85,1.9833333333333334,2.933333333333333,527.9,12.816666666666666,274.8666666666666,192.24999999999994,348.7,411.64999999999986,15.45,95.89999999999996,72.19999999999999,2.5166666666666666,10.533333333333333,32.16666666666667,215.50000000000006,4434.65,11.85,309.25000000000006,5.699999999999999,752.8000000000008,20.7,41.75,12.25,353.73333333333363,155.49999999999991,2.466666666666667,69.54999999999998,92.23333333333328,137.25,162.10000000000005,1627.3999999999994,13.35,14.700000000000001,21.616666666666667,51.40000000000002,135.41666666666666,5.85,3.483333333333333,2.45,73.35,5.116666666666667,4.8999999999999995,154.75,32.083333333333336,40.699999999999996,2213.399999999998,1492.9500000000007,163.79999999999998,308.1999999999998,3.033333333333333,9.350000000000001,1990.649999999999,24.299999999999994,1055.1500000000005,4.6499999999999995,20.083333333333332,82.5,2.3666666666666667,111.69999999999996,2.0,8.4,28.800000000000008,3.15,8.25,202.15000000000026,1122.4,5.316666666666666,88.43333333333335,3.783333333333333,22.333333333333336,3.6499999999999995,3.033333333333333,100.85000000000008,2794.7,31.16666666666667,44.866666666666674,12.899999999999999,114.31666666666668,212.2,105.29999999999995,2218.6000000000004,1753.9333333333334,3.7833333333333337,131.15,32.833333333333336,46.13333333333334,1.8833333333333333,530.4000000000002,361.4,5.05,12.666666666666664,7.783333333333335,907.5,285.54999999999967,9.233333333333333,198.95,256.65,13.383333333333335,1.7833333333333334,16.25,8.0,255.6,404.9000000000001,2128.25,1835.2999999999988,3.4,22.450000000000003,12.833333333333334,1844.533333333334,2.066666666666667,148.3000000000001,13.416666666666668,30.383333333333333,219.09999999999988,99.20000000000005,4.033333333333333,18.333333333333336,865.5,33.099999999999994,2.05,123.09999999999994,244.59999999999977,61.73333333333333,7.083333333333334,1359.9666666666667,376.4999999999999,25.71666666666667,2.75,116.69999999999999,79.70000000000006,4.533333333333333,7.75,54.36666666666666,3.9,4774.15,2.05,2.216666666666667,142.29999999999998,4.333333333333334,13.833333333333332,18.61666666666667,716.4999999999998,3.816666666666667,98.35,15.283333333333335,124.15,13.25,23.249999999999996,168.70000000000002,2.6833333333333336,82.7,28.733333333333324,340.35,3.1166666666666667,11.183333333333334,177.6,4330.8,7.15,2096.3000000000006,6.65,3.3166666666666664,3786.7,432.15000000000003,2.45,4.333333333333333,6.966666666666667,4.95,85.86666666666666,3.4833333333333334,8.1,136.14999999999992,181.69999999999996,151.75000000000006,2906.95,207.0499999999999,2.8333333333333335,169.90000000000003,811.0500000000001,57.53333333333334,10.383333333333333,6.6000000000000005,3.55,385.5499999999997,20.049999999999997,3.2666666666666666,186.59999999999997,7.666666666666667,3.8666666666666663,604.85,6.933333333333334,13.883333333333333,22.800000000000004,2.966666666666667,7.633333333333332,1696.6000000000004,22.73333333333333,84.60000000000001,4.199999999999999,117.99999999999997,73.25000000000001,81.09999999999998,9.183333333333334,5.166666666666667,36.93333333333333,191.34999999999997,323.5333333333333,10.383333333333333,759.9500000000008,3.2666666666666666,303.09999999999997,368.94999999999965,157.44999999999996,334.05000000000007,1.9333333333333333,130.25000000000003,9.950000000000001,59.31666666666667,4334.55,560.2500000000006,280.19999999999993,7.250000000000001,4.0,6.799999999999999,2.0166666666666666,11.799999999999999,26.900000000000013,126.76666666666665,7.333333333333333,391.35,83.39999999999995,3268.1500000000015,5.75,19.25,4377.900000000001,14.733333333333333,3.4833333333333334,2.2333333333333334,22.666666666666668,52.94999999999999,3899.3499999999995,1799.0,11.95,743.750000000001,5.433333333333334,832.9999999999998,206.9000000000002,628.25,2.4833333333333334,82.84999999999998,347.3500000000002,59.9666666666667,1.75,13.316666666666668,1618.3000000000002,10.733333333333333,327.4000000000003,134.70000000000002,15.683333333333334,2.3666666666666667,3.1833333333333336,2.533333333333333,1182.1499999999999,6.166666666666668,9.533333333333333,386.15000000000026,128.69999999999996,2.3666666666666667,54.66666666666666,44.60000000000002,7.433333333333334,49.16666666666666,139.3,2.15,140.90000000000006,3037.65,319.0666666666665,4.783333333333333,150.8,3.2666666666666666,54.55000000000001,30.699999999999985,2952.2333333333336,214.94999999999996,1.7166666666666666,70.33333333333337,5.316666666666667,301.75,4.966666666666667,716.7666666666669,47.33333333333334,35.46666666666667,326.19999999999976,23.93333333333333,4.966666666666667,1270.0666666666673,2.9166666666666665,1007.7000000000008,19.950000000000006,230.79999999999984,4048.45,30.53333333333334,33.60000000000001,1.75,3.6333333333333337,208.9499999999999,196.55000000000004,1.6833333333333333,103.13333333333331,56.46666666666666,11.95,76.06666666666665,1044.15,72.64999999999999,9.416666666666666,542.05,11.366666666666667,188.60000000000008,56.43333333333333,155.23333333333343,15.933333333333334,2.1333333333333333,110.09999999999997,17.299999999999997,72.54999999999998,8.233333333333334,93.29999999999998,2.583333333333333,1511.5500000000002,2413.35,174.01666666666665,2.55,2736.1500000000015,2.683333333333333,116.75000000000001,9.85,47.83333333333334,14.08333333333333,88.95,16.866666666666667,38.333333333333336,334.0666666666666,207.29999999999987,206.46666666666664,3593.5999999999976,131.84999999999997,73.76666666666667,2.916666666666667,11.583333333333332,2658.55,18.866666666666667,217.79999999999984,1408.8000000000022,96.30000000000001,4.566666666666666,148.54999999999993,2.3166666666666664,865.7499999999999,5.333333333333333,781.2499999999998,532.1333333333333,5.766666666666667,24.199999999999996,103.80000000000005,17.983333333333334,1374.0333333333333,3.3833333333333333,109.29999999999998,46.43333333333332,241.65000000000006,47.33333333333332,9.733333333333333,129.85,541.7499999999999,450.3666666666667,539.05,19.083333333333332,209.39999999999998,285.24999999999983,150.20000000000016,115.05000000000003,134.2,4.783333333333333,336.1499999999998,126.20000000000006,493.75,45.08333333333333,2.4333333333333336,532.0500000000002,3.4833333333333334,18.216666666666665,15.616666666666667,248.99999999999997,146.04999999999995,51.63333333333331,3.05,1964.9500000000012,12.75,292.70000000000016,77.90000000000002,55.60000000000001,477.74999999999983,14.566666666666666,3.966666666666667,425.95,5.1499999999999995,2.4166666666666665,6826.6,1.5666666666666667,44.86666666666668,970.3333333333335,11.783333333333335,316.65000000000015,15.649999999999999,404.45,11.666666666666666,17.733333333333334,97.05000000000001,42.983333333333334,18.083333333333336,34.550000000000004,2092.3666666666663,2.9833333333333334,193.04999999999995,4.466666666666667,4.716666666666667,50.90000000000002,176.9000000000001,382.6999999999997,12.233333333333333,1.9,280.75000000000034,3.783333333333333,9.483333333333334,155.69999999999996,3884.2500000000005,33.1,72.03333333333335,1.9166666666666667,62.76666666666666,201.4499999999998,16.616666666666667,214.73333333333335,3228.500000000001,355.25000000000045,205.66666666666669,38.15,5.8,439.26666666666745,125.86666666666665,29.5,155.04999999999998,10.066666666666668,188.85,7.366666666666667,3.8833333333333333,11.05,16.6,14.033333333333333,4173.25,20.383333333333336,826.4999999999991,707.833333333333,1.9333333333333333,10.1,2.75,1081.8000000000002,74.6,11.816666666666666,218.14999999999998,4.066666666666666,3.45,235.60000000000002,59.83333333333332,102.44999999999995,136.79999999999995,5.3,2.466666666666667,96.50000000000001,24.866666666666664,5.666666666666668,3.833333333333333,331.6999999999997,255.75,31.099999999999998,14.266666666666666,89.1333333333333,74.94999999999999,4352.5,55.89999999999999,501.0999999999999,4398.75,2.3333333333333335,173.99999999999994,898.65,15.25,17.21666666666666,816.8999999999997,2009.7000000000005,10.516666666666667,4.933333333333334,494.6000000000002,59.333333333333314,13.7,3.7666666666666666,638.6333333333334,481.6333333333334,222.95000000000007,18.85,1070.1000000000017,16.083333333333332,313.35,5.283333333333333,5.933333333333334,80.75,1.95,390.55,2.433333333333333,2.166666666666667,409.4333333333335,235.56666666666666,45.416666666666664,2.5166666666666666,12.283333333333335,217.80000000000007,2.2333333333333334,10.45,6.733333333333333,3.2666666666666666,1001.75,3.416666666666667,9.25,44.999999999999986,13.2,7.516666666666667,2.6833333333333336,30.7,44.466666666666654,10.433333333333334,306.35,2668.2999999999997,5.45,463.1000000000001,322.84999999999997,28.03333333333333,2.1166666666666667,3.45,3.45,9.666666666666666,72.36666666666666,1.7,6.333333333333332,1179.8666666666666,146.45000000000007,3.933333333333333,327.99999999999994,215.75,1799.7499999999998,137.44999999999993,6.583333333333333,10.25,44.766666666666644,1203.0,48.23333333333335,7.783333333333333,194.15000000000006,12.0,1620.7,16.35,112.39999999999995,13.866666666666665,198.2000000000001,227.7,198.50000000000006,81.39999999999996,91.25,1.9666666666666666,39.13333333333333,2849.133333333333,131.55,31.966666666666672,187.74999999999991,8.983333333333333,6.183333333333334,23.966666666666658,19.483333333333334,157.75,4.633333333333334,6.183333333333334,22.75,1380.3,303.2000000000001,2.3,2.1333333333333333,2.1,519.6499999999995,106.49999999999997,189.25000000000009,799.6666666666667,11.1,669.0,35.533333333333324,2.65,593.1000000000001,308.49999999999955,12.45,287.2000000000002,17.3,2.3,208.55000000000015,82.64999999999998,3.166666666666667,45.16666666666665,165.2,26.433333333333337,4130.6,184.25,2.4833333333333334,145.44999999999987,4.266666666666667,2805.4666666666662,9.55,3876.35,1752.8,8.583333333333332,12.4,10.616666666666667,75.73333333333335,100.63333333333333,467.15000000000003,132.70000000000005,6.616666666666667,53.24999999999999,295.9000000000001,4283.6,128.13333333333333,143.2,411.0499999999997,192.69999999999993,104.84999999999995,133.44999999999993,10.899999999999999,8.283333333333333,320.25,12.7,2127.999999999999,18.31666666666667,1363.4000000000003,28.71666666666666,7.983333333333333,22.166666666666668,187.60000000000016,129.14999999999998,67.30000000000001,1018.5333333333324,861.466666666666,238.9999999999998,18.183333333333334,6.766666666666667,133.8,5.1,8.666666666666668,15.766666666666666,343.1333333333335,29.23333333333333,306.5499999999998,9.566666666666666,8.066666666666666,929.0666666666666,756.6666666666663,16.650000000000002,313.7500000000002,110.9500000000001,1.6666666666666667,12.383333333333331,2.7666666666666666,9.383333333333335,739.5999999999998,225.29999999999984,89.59999999999998,1.9833333333333334,123.75,103.59999999999995,17.599999999999998,1.7166666666666666,10.149999999999999,2.75,176.99999999999986,290.45000000000005,2.4,98.0333333333334,11.933333333333334,12.299999999999999,231.20000000000005,120.34999999999994,2.45,2300.2000000000007,44.866666666666674,4.016666666666667,2199.0333333333333,110.50000000000003,73.65,172.20000000000007,3.583333333333333,2.15,467.6999999999992,2018.2000000000005,218.86666666666667,88.93333333333331,1.8666666666666667,369.25,1.8166666666666667,7.633333333333334,4.8500000000000005,2.15,130.2,40.33333333333333,16.3,3872.8500000000004,25.283333333333335,16.650000000000002,91.60000000000001,39.26666666666667,10.983333333333334,7.866666666666666,2.066666666666667,12.316666666666666,6.133333333333333,3.3666666666666667,3.05,56.60000000000001,212.04999999999998,12.383333333333331,142.54999999999998,3.8,4.5,873.8666666666667],\"y0\":\" \",\"yaxis\":\"y\"}],                        {\"boxmode\":\"group\",\"legend\":{\"tracegroupgap\":0},\"margin\":{\"t\":60},\"template\":{\"data\":{\"bar\":[{\"error_x\":{\"color\":\"#2a3f5f\"},\"error_y\":{\"color\":\"#2a3f5f\"},\"marker\":{\"line\":{\"color\":\"#E5ECF6\",\"width\":0.5},\"pattern\":{\"fillmode\":\"overlay\",\"size\":10,\"solidity\":0.2}},\"type\":\"bar\"}],\"barpolar\":[{\"marker\":{\"line\":{\"color\":\"#E5ECF6\",\"width\":0.5},\"pattern\":{\"fillmode\":\"overlay\",\"size\":10,\"solidity\":0.2}},\"type\":\"barpolar\"}],\"carpet\":[{\"aaxis\":{\"endlinecolor\":\"#2a3f5f\",\"gridcolor\":\"white\",\"linecolor\":\"white\",\"minorgridcolor\":\"white\",\"startlinecolor\":\"#2a3f5f\"},\"baxis\":{\"endlinecolor\":\"#2a3f5f\",\"gridcolor\":\"white\",\"linecolor\":\"white\",\"minorgridcolor\":\"white\",\"startlinecolor\":\"#2a3f5f\"},\"type\":\"carpet\"}],\"choropleth\":[{\"colorbar\":{\"outlinewidth\":0,\"ticks\":\"\"},\"type\":\"choropleth\"}],\"contour\":[{\"colorbar\":{\"outlinewidth\":0,\"ticks\":\"\"},\"colorscale\":[[0.0,\"#0d0887\"],[0.1111111111111111,\"#46039f\"],[0.2222222222222222,\"#7201a8\"],[0.3333333333333333,\"#9c179e\"],[0.4444444444444444,\"#bd3786\"],[0.5555555555555556,\"#d8576b\"],[0.6666666666666666,\"#ed7953\"],[0.7777777777777778,\"#fb9f3a\"],[0.8888888888888888,\"#fdca26\"],[1.0,\"#f0f921\"]],\"type\":\"contour\"}],\"contourcarpet\":[{\"colorbar\":{\"outlinewidth\":0,\"ticks\":\"\"},\"type\":\"contourcarpet\"}],\"heatmap\":[{\"colorbar\":{\"outlinewidth\":0,\"ticks\":\"\"},\"colorscale\":[[0.0,\"#0d0887\"],[0.1111111111111111,\"#46039f\"],[0.2222222222222222,\"#7201a8\"],[0.3333333333333333,\"#9c179e\"],[0.4444444444444444,\"#bd3786\"],[0.5555555555555556,\"#d8576b\"],[0.6666666666666666,\"#ed7953\"],[0.7777777777777778,\"#fb9f3a\"],[0.8888888888888888,\"#fdca26\"],[1.0,\"#f0f921\"]],\"type\":\"heatmap\"}],\"heatmapgl\":[{\"colorbar\":{\"outlinewidth\":0,\"ticks\":\"\"},\"colorscale\":[[0.0,\"#0d0887\"],[0.1111111111111111,\"#46039f\"],[0.2222222222222222,\"#7201a8\"],[0.3333333333333333,\"#9c179e\"],[0.4444444444444444,\"#bd3786\"],[0.5555555555555556,\"#d8576b\"],[0.6666666666666666,\"#ed7953\"],[0.7777777777777778,\"#fb9f3a\"],[0.8888888888888888,\"#fdca26\"],[1.0,\"#f0f921\"]],\"type\":\"heatmapgl\"}],\"histogram\":[{\"marker\":{\"pattern\":{\"fillmode\":\"overlay\",\"size\":10,\"solidity\":0.2}},\"type\":\"histogram\"}],\"histogram2d\":[{\"colorbar\":{\"outlinewidth\":0,\"ticks\":\"\"},\"colorscale\":[[0.0,\"#0d0887\"],[0.1111111111111111,\"#46039f\"],[0.2222222222222222,\"#7201a8\"],[0.3333333333333333,\"#9c179e\"],[0.4444444444444444,\"#bd3786\"],[0.5555555555555556,\"#d8576b\"],[0.6666666666666666,\"#ed7953\"],[0.7777777777777778,\"#fb9f3a\"],[0.8888888888888888,\"#fdca26\"],[1.0,\"#f0f921\"]],\"type\":\"histogram2d\"}],\"histogram2dcontour\":[{\"colorbar\":{\"outlinewidth\":0,\"ticks\":\"\"},\"colorscale\":[[0.0,\"#0d0887\"],[0.1111111111111111,\"#46039f\"],[0.2222222222222222,\"#7201a8\"],[0.3333333333333333,\"#9c179e\"],[0.4444444444444444,\"#bd3786\"],[0.5555555555555556,\"#d8576b\"],[0.6666666666666666,\"#ed7953\"],[0.7777777777777778,\"#fb9f3a\"],[0.8888888888888888,\"#fdca26\"],[1.0,\"#f0f921\"]],\"type\":\"histogram2dcontour\"}],\"mesh3d\":[{\"colorbar\":{\"outlinewidth\":0,\"ticks\":\"\"},\"type\":\"mesh3d\"}],\"parcoords\":[{\"line\":{\"colorbar\":{\"outlinewidth\":0,\"ticks\":\"\"}},\"type\":\"parcoords\"}],\"pie\":[{\"automargin\":true,\"type\":\"pie\"}],\"scatter\":[{\"marker\":{\"colorbar\":{\"outlinewidth\":0,\"ticks\":\"\"}},\"type\":\"scatter\"}],\"scatter3d\":[{\"line\":{\"colorbar\":{\"outlinewidth\":0,\"ticks\":\"\"}},\"marker\":{\"colorbar\":{\"outlinewidth\":0,\"ticks\":\"\"}},\"type\":\"scatter3d\"}],\"scattercarpet\":[{\"marker\":{\"colorbar\":{\"outlinewidth\":0,\"ticks\":\"\"}},\"type\":\"scattercarpet\"}],\"scattergeo\":[{\"marker\":{\"colorbar\":{\"outlinewidth\":0,\"ticks\":\"\"}},\"type\":\"scattergeo\"}],\"scattergl\":[{\"marker\":{\"colorbar\":{\"outlinewidth\":0,\"ticks\":\"\"}},\"type\":\"scattergl\"}],\"scattermapbox\":[{\"marker\":{\"colorbar\":{\"outlinewidth\":0,\"ticks\":\"\"}},\"type\":\"scattermapbox\"}],\"scatterpolar\":[{\"marker\":{\"colorbar\":{\"outlinewidth\":0,\"ticks\":\"\"}},\"type\":\"scatterpolar\"}],\"scatterpolargl\":[{\"marker\":{\"colorbar\":{\"outlinewidth\":0,\"ticks\":\"\"}},\"type\":\"scatterpolargl\"}],\"scatterternary\":[{\"marker\":{\"colorbar\":{\"outlinewidth\":0,\"ticks\":\"\"}},\"type\":\"scatterternary\"}],\"surface\":[{\"colorbar\":{\"outlinewidth\":0,\"ticks\":\"\"},\"colorscale\":[[0.0,\"#0d0887\"],[0.1111111111111111,\"#46039f\"],[0.2222222222222222,\"#7201a8\"],[0.3333333333333333,\"#9c179e\"],[0.4444444444444444,\"#bd3786\"],[0.5555555555555556,\"#d8576b\"],[0.6666666666666666,\"#ed7953\"],[0.7777777777777778,\"#fb9f3a\"],[0.8888888888888888,\"#fdca26\"],[1.0,\"#f0f921\"]],\"type\":\"surface\"}],\"table\":[{\"cells\":{\"fill\":{\"color\":\"#EBF0F8\"},\"line\":{\"color\":\"white\"}},\"header\":{\"fill\":{\"color\":\"#C8D4E3\"},\"line\":{\"color\":\"white\"}},\"type\":\"table\"}]},\"layout\":{\"annotationdefaults\":{\"arrowcolor\":\"#2a3f5f\",\"arrowhead\":0,\"arrowwidth\":1},\"autotypenumbers\":\"strict\",\"coloraxis\":{\"colorbar\":{\"outlinewidth\":0,\"ticks\":\"\"}},\"colorscale\":{\"diverging\":[[0,\"#8e0152\"],[0.1,\"#c51b7d\"],[0.2,\"#de77ae\"],[0.3,\"#f1b6da\"],[0.4,\"#fde0ef\"],[0.5,\"#f7f7f7\"],[0.6,\"#e6f5d0\"],[0.7,\"#b8e186\"],[0.8,\"#7fbc41\"],[0.9,\"#4d9221\"],[1,\"#276419\"]],\"sequential\":[[0.0,\"#0d0887\"],[0.1111111111111111,\"#46039f\"],[0.2222222222222222,\"#7201a8\"],[0.3333333333333333,\"#9c179e\"],[0.4444444444444444,\"#bd3786\"],[0.5555555555555556,\"#d8576b\"],[0.6666666666666666,\"#ed7953\"],[0.7777777777777778,\"#fb9f3a\"],[0.8888888888888888,\"#fdca26\"],[1.0,\"#f0f921\"]],\"sequentialminus\":[[0.0,\"#0d0887\"],[0.1111111111111111,\"#46039f\"],[0.2222222222222222,\"#7201a8\"],[0.3333333333333333,\"#9c179e\"],[0.4444444444444444,\"#bd3786\"],[0.5555555555555556,\"#d8576b\"],[0.6666666666666666,\"#ed7953\"],[0.7777777777777778,\"#fb9f3a\"],[0.8888888888888888,\"#fdca26\"],[1.0,\"#f0f921\"]]},\"colorway\":[\"#636efa\",\"#EF553B\",\"#00cc96\",\"#ab63fa\",\"#FFA15A\",\"#19d3f3\",\"#FF6692\",\"#B6E880\",\"#FF97FF\",\"#FECB52\"],\"font\":{\"color\":\"#2a3f5f\"},\"geo\":{\"bgcolor\":\"white\",\"lakecolor\":\"white\",\"landcolor\":\"#E5ECF6\",\"showlakes\":true,\"showland\":true,\"subunitcolor\":\"white\"},\"hoverlabel\":{\"align\":\"left\"},\"hovermode\":\"closest\",\"mapbox\":{\"style\":\"light\"},\"paper_bgcolor\":\"white\",\"plot_bgcolor\":\"#E5ECF6\",\"polar\":{\"angularaxis\":{\"gridcolor\":\"white\",\"linecolor\":\"white\",\"ticks\":\"\"},\"bgcolor\":\"#E5ECF6\",\"radialaxis\":{\"gridcolor\":\"white\",\"linecolor\":\"white\",\"ticks\":\"\"}},\"scene\":{\"xaxis\":{\"backgroundcolor\":\"#E5ECF6\",\"gridcolor\":\"white\",\"gridwidth\":2,\"linecolor\":\"white\",\"showbackground\":true,\"ticks\":\"\",\"zerolinecolor\":\"white\"},\"yaxis\":{\"backgroundcolor\":\"#E5ECF6\",\"gridcolor\":\"white\",\"gridwidth\":2,\"linecolor\":\"white\",\"showbackground\":true,\"ticks\":\"\",\"zerolinecolor\":\"white\"},\"zaxis\":{\"backgroundcolor\":\"#E5ECF6\",\"gridcolor\":\"white\",\"gridwidth\":2,\"linecolor\":\"white\",\"showbackground\":true,\"ticks\":\"\",\"zerolinecolor\":\"white\"}},\"shapedefaults\":{\"line\":{\"color\":\"#2a3f5f\"}},\"ternary\":{\"aaxis\":{\"gridcolor\":\"white\",\"linecolor\":\"white\",\"ticks\":\"\"},\"baxis\":{\"gridcolor\":\"white\",\"linecolor\":\"white\",\"ticks\":\"\"},\"bgcolor\":\"#E5ECF6\",\"caxis\":{\"gridcolor\":\"white\",\"linecolor\":\"white\",\"ticks\":\"\"}},\"title\":{\"x\":0.05},\"xaxis\":{\"automargin\":true,\"gridcolor\":\"white\",\"linecolor\":\"white\",\"ticks\":\"\",\"title\":{\"standoff\":15},\"zerolinecolor\":\"white\",\"zerolinewidth\":2},\"yaxis\":{\"automargin\":true,\"gridcolor\":\"white\",\"linecolor\":\"white\",\"ticks\":\"\",\"title\":{\"standoff\":15},\"zerolinecolor\":\"white\",\"zerolinewidth\":2}}},\"xaxis\":{\"anchor\":\"y\",\"domain\":[0.0,1.0],\"title\":{\"text\":\"churn\"}},\"yaxis\":{\"anchor\":\"x\",\"domain\":[0.0,1.0],\"title\":{\"text\":\"delta_time\"}}},                        {\"responsive\": true}                    ).then(function(){\n",
              "                            \n",
              "var gd = document.getElementById('18c0472d-d45f-46fc-b745-cafcb84e9ca7');\n",
              "var x = new MutationObserver(function (mutations, observer) {{\n",
              "        var display = window.getComputedStyle(gd).display;\n",
              "        if (!display || display === 'none') {{\n",
              "            console.log([gd, 'removed!']);\n",
              "            Plotly.purge(gd);\n",
              "            observer.disconnect();\n",
              "        }}\n",
              "}});\n",
              "\n",
              "// Listen for the removal of the full notebook cells\n",
              "var notebookContainer = gd.closest('#notebook-container');\n",
              "if (notebookContainer) {{\n",
              "    x.observe(notebookContainer, {childList: true});\n",
              "}}\n",
              "\n",
              "// Listen for the clearing of the current output cell\n",
              "var outputEl = gd.closest('.output');\n",
              "if (outputEl) {{\n",
              "    x.observe(outputEl, {childList: true});\n",
              "}}\n",
              "\n",
              "                        })                };                            </script>        </div>\n",
              "</body>\n",
              "</html>"
            ]
          },
          "metadata": {}
        }
      ]
    },
    {
      "cell_type": "code",
      "metadata": {
        "colab": {
          "base_uri": "https://localhost:8080/",
          "height": 542
        },
        "id": "gH2S9edH0nzZ",
        "outputId": "41281caa-d328-4aad-b547-11d7412b46da"
      },
      "source": [
        "px.bar(table_3, x='level', y='delta_time',\n",
        "             title='Histogram for delta_time',\n",
        "             barmode='group')"
      ],
      "execution_count": null,
      "outputs": [
        {
          "output_type": "display_data",
          "data": {
            "text/html": [
              "<html>\n",
              "<head><meta charset=\"utf-8\" /></head>\n",
              "<body>\n",
              "    <div>            <script src=\"https://cdnjs.cloudflare.com/ajax/libs/mathjax/2.7.5/MathJax.js?config=TeX-AMS-MML_SVG\"></script><script type=\"text/javascript\">if (window.MathJax) {MathJax.Hub.Config({SVG: {font: \"STIX-Web\"}});}</script>                <script type=\"text/javascript\">window.PlotlyConfig = {MathJaxConfig: 'local'};</script>\n",
              "        <script src=\"https://cdn.plot.ly/plotly-2.3.1.min.js\"></script>                <div id=\"63c44a49-2b3c-42ed-ab75-08e9ecf47416\" class=\"plotly-graph-div\" style=\"height:525px; width:100%;\"></div>            <script type=\"text/javascript\">                                    window.PLOTLYENV=window.PLOTLYENV || {};                                    if (document.getElementById(\"63c44a49-2b3c-42ed-ab75-08e9ecf47416\")) {                    Plotly.newPlot(                        \"63c44a49-2b3c-42ed-ab75-08e9ecf47416\",                        [{\"alignmentgroup\":\"True\",\"hovertemplate\":\"level=%{x}<br>delta_time=%{y}<extra></extra>\",\"legendgroup\":\"\",\"marker\":{\"color\":\"#636efa\",\"pattern\":{\"shape\":\"\"}},\"name\":\"\",\"offsetgroup\":\"\",\"orientation\":\"v\",\"showlegend\":false,\"textposition\":\"auto\",\"type\":\"bar\",\"x\":[5.0,44.0,4.0,58.0,4.0,2.0,19.0,28.0,11.0,5.0,5.0,19.0,20.0,25.0,13.0,3.0,4.0,16.0,13.0,35.0,20.0,23.0,29.0,21.0,41.0,41.0,22.0,19.0,1.0,9.0,16.0,3.0,22.0,2.0,25.0,40.0,9.0,39.0,6.0,15.0,15.0,3.0,40.0,10.0,15.0,28.0,29.0,9.0,28.0,11.0,37.0,6.0,20.0,8.0,16.0,12.0,1.0,3.0,23.0,14.0,3.0,9.0,13.0,16.0,7.0,20.0,4.0,10.0,6.0,3.0,32.0,2.0,14.0,46.0,7.0,17.0,29.0,25.0,3.0,1.0,18.0,16.0,9.0,39.0,15.0,11.0,28.0,1.0,16.0,8.0,13.0,23.0,14.0,6.0,22.0,24.0,43.0,26.0,47.0,20.0,6.0,2.0,1.0,10.0,41.0,6.0,1.0,3.0,5.0,4.0,3.0,31.0,6.0,49.0,26.0,15.0,31.0,23.0,10.0,37.0,6.0,21.0,9.0,7.0,32.0,43.0,17.0,11.0,11.0,2.0,28.0,6.0,5.0,2.0,14.0,41.0,14.0,37.0,6.0,37.0,31.0,1.0,1.0,39.0,7.0,11.0,14.0,26.0,15.0,23.0,31.0,40.0,3.0,30.0,6.0,32.0,10.0,15.0,20.0,16.0,15.0,4.0,28.0,15.0,14.0,9.0,10.0,37.0,2.0,22.0,31.0,19.0,7.0,8.0,40.0,4.0,6.0,2.0,8.0,43.0,1.0,22.0,4.0,16.0,50.0,12.0,11.0,16.0,33.0,1.0,43.0,8.0,20.0,27.0,37.0,39.0,20.0,15.0,9.0,46.0,22.0,18.0,2.0,3.0,17.0,10.0,3.0,7.0,14.0,1.0,14.0,33.0,29.0,4.0,25.0,14.0,11.0,14.0,27.0,8.0,33.0,6.0,1.0,14.0,14.0,2.0,15.0,25.0,24.0,2.0,1.0,7.0,9.0,31.0,32.0,29.0,9.0,29.0,90.0,19.0,16.0,14.0,22.0,10.0,29.0,4.0,3.0,16.0,16.0,2.0,17.0,4.0,15.0,7.0,28.0,27.0,5.0,61.0,43.0,1.0,15.0,6.0,20.0,46.0,1.0,2.0,1.0,39.0,15.0,2.0,14.0,9.0,23.0,19.0,13.0,28.0,15.0,3.0,15.0,9.0,31.0,31.0,10.0,17.0,6.0,50.0,10.0,6.0,1.0,15.0,28.0,50.0,14.0,7.0,47.0,40.0,27.0,15.0,19.0,36.0,7.0,1.0,4.0,27.0,29.0,1.0,28.0,35.0,17.0,15.0,14.0,27.0,9.0,7.0,2.0,15.0,16.0,10.0,31.0,17.0,1.0,23.0,54.0,30.0,28.0,33.0,2.0,2.0,4.0,8.0,39.0,10.0,4.0,13.0,17.0,29.0,25.0,6.0,24.0,38.0,72.0,27.0,4.0,13.0,30.0,7.0,4.0,15.0,6.0,1.0,15.0,17.0,13.0,50.0,1.0,25.0,13.0,53.0,5.0,2.0,16.0,1.0,15.0,11.0,5.0,2.0,25.0,4.0,51.0,9.0,2.0,39.0,1.0,30.0,17.0,3.0,9.0,54.0,11.0,33.0,16.0,11.0,26.0,31.0,11.0,11.0,20.0,13.0,27.0,21.0,11.0,44.0,17.0,40.0,10.0,4.0,29.0,2.0,15.0,1.0,27.0,5.0,27.0,15.0,23.0,19.0,29.0,23.0,5.0,4.0,11.0,16.0,1.0,3.0,28.0,27.0,23.0,49.0,38.0,1.0,41.0,28.0,11.0,15.0,1.0,37.0,8.0,29.0,1.0,3.0,19.0,43.0,54.0,9.0,10.0,15.0,48.0,14.0,50.0,14.0,11.0,19.0,11.0,61.0,19.0,38.0,9.0,11.0,19.0,1.0,32.0,12.0,2.0,15.0,31.0,20.0,5.0,23.0,15.0,20.0,18.0,14.0,33.0,17.0,41.0,16.0,28.0,15.0,52.0,26.0,6.0,24.0,10.0,15.0,6.0,26.0,2.0,40.0,27.0,16.0,52.0,5.0,16.0,31.0,39.0,3.0,3.0,1.0,9.0,11.0,20.0,25.0,26.0,20.0,8.0,10.0,5.0,29.0,3.0,11.0,11.0,5.0,15.0,2.0,11.0,50.0,16.0,11.0,4.0,77.0,29.0,26.0,46.0,6.0,1.0,16.0,1.0,6.0,33.0,32.0,13.0,2.0,14.0,41.0,9.0,46.0,4.0,9.0,22.0,11.0,60.0,49.0,29.0,46.0,46.0,23.0,46.0,4.0,25.0,5.0,14.0,13.0,2.0,2.0,30.0,2.0,11.0,51.0,2.0,21.0,29.0,9.0,7.0,31.0,35.0,15.0,1.0,1.0,31.0,46.0,19.0,14.0,54.0,28.0,12.0,33.0,17.0,31.0,4.0,27.0,14.0,1.0,1.0,47.0,7.0,18.0,22.0,7.0,15.0,8.0,29.0,23.0,15.0,28.0,37.0,7.0,11.0,33.0,49.0,14.0,14.0,2.0,29.0,1.0,32.0,22.0,6.0,16.0,9.0,5.0,10.0,5.0,15.0,4.0,28.0,4.0,38.0,23.0,9.0,40.0,16.0,5.0,26.0,2.0,4.0,1.0,30.0,16.0,6.0,5.0,1.0,1.0,7.0,49.0,5.0,40.0,16.0,15.0,14.0,19.0,50.0,36.0,9.0,15.0,1.0,20.0,1.0,27.0,22.0,1.0,3.0,10.0,2.0,20.0,52.0,10.0,12.0,23.0,18.0,35.0,4.0,49.0,3.0,14.0,17.0,2.0,43.0,3.0,44.0,10.0,6.0,34.0,12.0,16.0,36.0,4.0,14.0,36.0,3.0,3.0,16.0,11.0,14.0,45.0,44.0,28.0,1.0,15.0,14.0,23.0,1.0,60.0,23.0,7.0,1.0,40.0,33.0,22.0,29.0,4.0,20.0,1.0,41.0,40.0,46.0,22.0,9.0,3.0,32.0,14.0,54.0,33.0,13.0,24.0,1.0,10.0,9.0,6.0,15.0,48.0,21.0,11.0,24.0,11.0,7.0,50.0,21.0,20.0,18.0,1.0,29.0,21.0,9.0,1.0,83.0,9.0,32.0,14.0,1.0,16.0,3.0,1.0,1.0,30.0,15.0,7.0,49.0,1.0,6.0,2.0,53.0,8.0,28.0,3.0,15.0,14.0,13.0,19.0,6.0,17.0,3.0,10.0,21.0,3.0,77.0,33.0,14.0,5.0,18.0,9.0,24.0,1.0,37.0,2.0,15.0,2.0,4.0,37.0,19.0,38.0,32.0,20.0,5.0,19.0,15.0,1.0,19.0,15.0,31.0,47.0,18.0,46.0,9.0,40.0,40.0,24.0,9.0,10.0,12.0,14.0,7.0,20.0,31.0,40.0,28.0,4.0,74.0,29.0,6.0,9.0,19.0,10.0,10.0,25.0,2.0,1.0,8.0,2.0,10.0,32.0,3.0,2.0,18.0,60.0,22.0,25.0,6.0,28.0,11.0,41.0,1.0,45.0,22.0,1.0,7.0,23.0,2.0,38.0,61.0,4.0,22.0,3.0,75.0,28.0,3.0,2.0,10.0,19.0,9.0,13.0,16.0,60.0,19.0,4.0,14.0,7.0,9.0,15.0,14.0,29.0,9.0,34.0,19.0,6.0,19.0,15.0,29.0,1.0,2.0,49.0,29.0,9.0,25.0,37.0,1.0,50.0,64.0,10.0,29.0,10.0,15.0,9.0,6.0,3.0,11.0,9.0,24.0,9.0,8.0,26.0,29.0,29.0,18.0,61.0,25.0,10.0,13.0,8.0,44.0,7.0,2.0,5.0,1.0,50.0,25.0,36.0,10.0,14.0,46.0,76.0,14.0,15.0,8.0,4.0,33.0,5.0,1.0,20.0,1.0,1.0,10.0,41.0,8.0,23.0,17.0,1.0,1.0,18.0,15.0,3.0,6.0,16.0,3.0,32.0,7.0,10.0,24.0,5.0,3.0,3.0,6.0,19.0,2.0,7.0,48.0,30.0,3.0,25.0,28.0,13.0,10.0,1.0,21.0,29.0,13.0,44.0,17.0,3.0,3.0,49.0,9.0,49.0,23.0,16.0,15.0,6.0,2.0,20.0,3.0,2.0,4.0,9.0,41.0,7.0,46.0,1.0,15.0,9.0,28.0,11.0,4.0,10.0,31.0,20.0,27.0,35.0,2.0,14.0,16.0,10.0,1.0,27.0,22.0,17.0,29.0,6.0,16.0,3.0,29.0,25.0,26.0,3.0,28.0,5.0,4.0,22.0,9.0,5.0,14.0,25.0,43.0,16.0,36.0,21.0,11.0,29.0,17.0,15.0,15.0,4.0,52.0,14.0,7.0,1.0,12.0,37.0,15.0,19.0,2.0,2.0,29.0,22.0,34.0,44.0,2.0,13.0,14.0,5.0,20.0,15.0,33.0,103.0,29.0,13.0,23.0,53.0,13.0,12.0,14.0,47.0,1.0,1.0,6.0,2.0,41.0,9.0,57.0,49.0,5.0,9.0,2.0,10.0,15.0,15.0,20.0,2.0,20.0,10.0,4.0,5.0,28.0,15.0,22.0,43.0,39.0,31.0,5.0,30.0,14.0,13.0,1.0,3.0,6.0,16.0,1.0,35.0,23.0,37.0,32.0,9.0,4.0,14.0,47.0,10.0,23.0,5.0,5.0,8.0,13.0,14.0,21.0,24.0,27.0,4.0,5.0,13.0,5.0,1.0,15.0,52.0,68.0,50.0,7.0,38.0,42.0,31.0,16.0,1.0,17.0,38.0,27.0,28.0,28.0,7.0,13.0,61.0,17.0,26.0,6.0,26.0,1.0,44.0,20.0,25.0,2.0,14.0,2.0,5.0,49.0,29.0,14.0,4.0,3.0,12.0,5.0,38.0,29.0,31.0,32.0,15.0,21.0,14.0,29.0,32.0,29.0,39.0,15.0,46.0,27.0,14.0,22.0,14.0,6.0,8.0,6.0,6.0,10.0,7.0,2.0,33.0,36.0,2.0,12.0,20.0,19.0,1.0,16.0,6.0,22.0,5.0,4.0,19.0,39.0,22.0,2.0,19.0,12.0,40.0,49.0,1.0,32.0,3.0,16.0,13.0,2.0,50.0,28.0,12.0,3.0,36.0,50.0,27.0,1.0,15.0,19.0,23.0,10.0,9.0,5.0,58.0,57.0,31.0,19.0,13.0,9.0,4.0,4.0,4.0,14.0,1.0,7.0,3.0,39.0,6.0,31.0,11.0,3.0,6.0,2.0,12.0,23.0,3.0,2.0,31.0,4.0,32.0,19.0,13.0,43.0,33.0,2.0,3.0,16.0,16.0,9.0,8.0,12.0,40.0,20.0,4.0,3.0,4.0,23.0,3.0,11.0,21.0,24.0,36.0,21.0,25.0,27.0,4.0,6.0,27.0,16.0,6.0,37.0,4.0,16.0,10.0,2.0,15.0,1.0,49.0,36.0,22.0,13.0,37.0,29.0,5.0,2.0,9.0,15.0,32.0,14.0,5.0,44.0,25.0,9.0,32.0,17.0,3.0,16.0,37.0,43.0,16.0,5.0,12.0,6.0,23.0,46.0,29.0,8.0,49.0,44.0,4.0,1.0,47.0,33.0,3.0,6.0,28.0,5.0,10.0,29.0,4.0,8.0,5.0,14.0,9.0,27.0,14.0,5.0,2.0,5.0,7.0,32.0,11.0,30.0,20.0,16.0,8.0,47.0,17.0,15.0,35.0,15.0,13.0,22.0,48.0,10.0,2.0,1.0,13.0,15.0,31.0,10.0,6.0,4.0,21.0,13.0,27.0,15.0,14.0,24.0,5.0,14.0,14.0,4.0,4.0,13.0,2.0,4.0,18.0,5.0,2.0,17.0,23.0,28.0,26.0,29.0,72.0,1.0,15.0,14.0,2.0,2.0,5.0,14.0,16.0,67.0,1.0,2.0,11.0,17.0,7.0,1.0,27.0,9.0,16.0,31.0,16.0,13.0,33.0,46.0,5.0,13.0,28.0,7.0,54.0,7.0,6.0,22.0,44.0,7.0,12.0,2.0,2.0,14.0,39.0,1.0,1.0,50.0,2.0,11.0,15.0,28.0,15.0,1.0,29.0,7.0,28.0,4.0,33.0,10.0,46.0,12.0,1.0,8.0,24.0,2.0,59.0,9.0,11.0,2.0,47.0,37.0,14.0,1.0,20.0,38.0,29.0,5.0,36.0,4.0,35.0,46.0,22.0,48.0,22.0,14.0,7.0,11.0,6.0,46.0,9.0,29.0,13.0,14.0,1.0,8.0,20.0,27.0,12.0,22.0,1.0,5.0,2.0,26.0,21.0,11.0,8.0,43.0,14.0,28.0,1.0,10.0,16.0,41.0,1.0,15.0,40.0,41.0,1.0,1.0,23.0,2.0,18.0,9.0,7.0,22.0,4.0,7.0,5.0,4.0,15.0,44.0,28.0,4.0,29.0,23.0,11.0,1.0,32.0,68.0,13.0,2.0,1.0,17.0,28.0,14.0,15.0,21.0,24.0,16.0,39.0,14.0,15.0,14.0,37.0,6.0,10.0,1.0,27.0,2.0,10.0,44.0,12.0,1.0,29.0,22.0,12.0,16.0,9.0,31.0,11.0,19.0,5.0,9.0,7.0,29.0,2.0,5.0,22.0,41.0,1.0,8.0,7.0,5.0,17.0,1.0,9.0,22.0,17.0,8.0,33.0,5.0,7.0,23.0,15.0,28.0,14.0,24.0,2.0,37.0,20.0,14.0,15.0,18.0,5.0,8.0,19.0,17.0,24.0,47.0,28.0,40.0,21.0,8.0,4.0,27.0,15.0,1.0,10.0,3.0,32.0,13.0,25.0,49.0,14.0,52.0,10.0,24.0,3.0,9.0,37.0,29.0,5.0,41.0,9.0,6.0,29.0,13.0,38.0,37.0,1.0,4.0,8.0,27.0,21.0,1.0,11.0,22.0,41.0,26.0,18.0,15.0,50.0,7.0,10.0,29.0,1.0,9.0,9.0,15.0,3.0,13.0,2.0,40.0,45.0,47.0,32.0,41.0,9.0,16.0,47.0,5.0,22.0,4.0,30.0,15.0,14.0,29.0,4.0,48.0,14.0,15.0,29.0,4.0,5.0,22.0,3.0,19.0,16.0,61.0,38.0,41.0,1.0,8.0,9.0,11.0,6.0,8.0,1.0,4.0,1.0,34.0,5.0,49.0,2.0,1.0,32.0,26.0,1.0,1.0,7.0,3.0,29.0,38.0,31.0,17.0,19.0,15.0,10.0,3.0,11.0,3.0,15.0,36.0,16.0,3.0,15.0,15.0,3.0,16.0,11.0,34.0,10.0,17.0,29.0,10.0,14.0,51.0,16.0,12.0,15.0,4.0,4.0,16.0,4.0,64.0,22.0,10.0,27.0,29.0,8.0,3.0,4.0,32.0,42.0,10.0,29.0,22.0,15.0,9.0,33.0,29.0,6.0,1.0,15.0,15.0,19.0,5.0,38.0,17.0,18.0,28.0,20.0,10.0,8.0,24.0,2.0,20.0,28.0,22.0,2.0,10.0,40.0,20.0,69.0,31.0,28.0,31.0,22.0,39.0,14.0,1.0,5.0,34.0,19.0,1.0,3.0,37.0,4.0,15.0,14.0,21.0,15.0,9.0,15.0,43.0,10.0,42.0,15.0,11.0,23.0,7.0,9.0,33.0,3.0,1.0,57.0,36.0,13.0,3.0,14.0,11.0,15.0,5.0,32.0,19.0,19.0,10.0,15.0,16.0,9.0,23.0,4.0,1.0,50.0,26.0,29.0,32.0,41.0,1.0,11.0,44.0,17.0,10.0,14.0,11.0,38.0,1.0,7.0,15.0,14.0,11.0,15.0,11.0,27.0,39.0,2.0,50.0,1.0,8.0,19.0,29.0,3.0,1.0,5.0,33.0,41.0,13.0,32.0,5.0,29.0,9.0,37.0,15.0,10.0,1.0,14.0,6.0,49.0,12.0,11.0,7.0,27.0,17.0,27.0,2.0,7.0,13.0,5.0,3.0,15.0,14.0,3.0,29.0,11.0,5.0,10.0,7.0,12.0,9.0,12.0,27.0,13.0,14.0,4.0,5.0,16.0,50.0,12.0,11.0,15.0,25.0,22.0,12.0,14.0,44.0,29.0,29.0,2.0,7.0,8.0,5.0,33.0,20.0,13.0,12.0,19.0,54.0,12.0,11.0,23.0,7.0,2.0,2.0,14.0,9.0,24.0,5.0,3.0,49.0,46.0,16.0,20.0,23.0,16.0,14.0,25.0,7.0,6.0,33.0,39.0,16.0,25.0,11.0,60.0,32.0,29.0,13.0,16.0,48.0,25.0,50.0,1.0,23.0,15.0,9.0,41.0,20.0,16.0,5.0,4.0,15.0,37.0,5.0,1.0,11.0,16.0,6.0,64.0,11.0,33.0,33.0,10.0,4.0,23.0,35.0,30.0,7.0,19.0,9.0,14.0,19.0,25.0,12.0,25.0,1.0,2.0,27.0,10.0,23.0,31.0,32.0,62.0,16.0,16.0,15.0,2.0,10.0,15.0,18.0,32.0,12.0,29.0,5.0,29.0,3.0,13.0,12.0,39.0,27.0,2.0,15.0,23.0,28.0,31.0,32.0,7.0,13.0,19.0,15.0,2.0,6.0,3.0,2.0,18.0,5.0,6.0,32.0,19.0,16.0,35.0,48.0,30.0,42.0,2.0,6.0,33.0,14.0,67.0,5.0,10.0,13.0,1.0,29.0,1.0,7.0,14.0,1.0,6.0,29.0,58.0,5.0,22.0,2.0,17.0,3.0,3.0,25.0,26.0,12.0,15.0,12.0,7.0,46.0,28.0,25.0,50.0,3.0,13.0,15.0,10.0,1.0,47.0,50.0,4.0,10.0,7.0,18.0,47.0,8.0,29.0,44.0,12.0,1.0,14.0,7.0,22.0,48.0,50.0,49.0,3.0,17.0,9.0,22.0,1.0,19.0,10.0,20.0,41.0,23.0,4.0,16.0,16.0,14.0,1.0,23.0,40.0,19.0,7.0,15.0,41.0,18.0,2.0,25.0,19.0,4.0,8.0,16.0,1.0,22.0,1.0,2.0,23.0,3.0,5.0,14.0,57.0,2.0,29.0,14.0,23.0,7.0,17.0,19.0,2.0,19.0,14.0,51.0,3.0,8.0,34.0,29.0,6.0,24.0,8.0,2.0,31.0,4.0,2.0,2.0,5.0,5.0,29.0,2.0,1.0,27.0,32.0,29.0,13.0,31.0,1.0,33.0,18.0,23.0,7.0,5.0,1.0,46.0,12.0,2.0,23.0,7.0,2.0,17.0,1.0,14.0,6.0,2.0,8.0,34.0,15.0,22.0,4.0,20.0,20.0,15.0,10.0,6.0,27.0,29.0,16.0,10.0,54.0,3.0,54.0,29.0,27.0,40.0,1.0,15.0,6.0,10.0,32.0,25.0,54.0,5.0,4.0,6.0,1.0,8.0,11.0,5.0,7.0,32.0,22.0,40.0,6.0,15.0,29.0,13.0,4.0,2.0,7.0,22.0,35.0,26.0,10.0,50.0,5.0,14.0,29.0,18.0,2.0,15.0,46.0,8.0,1.0,14.0,49.0,11.0,39.0,28.0,14.0,2.0,2.0,2.0,15.0,5.0,9.0,32.0,28.0,1.0,26.0,21.0,7.0,16.0,19.0,2.0,21.0,19.0,36.0,5.0,15.0,3.0,14.0,15.0,37.0,46.0,1.0,14.0,5.0,41.0,4.0,29.0,14.0,10.0,48.0,10.0,2.0,10.0,3.0,50.0,16.0,31.0,22.0,14.0,13.0,1.0,3.0,33.0,29.0,1.0,32.0,14.0,7.0,27.0,21.0,15.0,8.0,17.0,10.0,29.0,18.0,49.0,11.0,2.0,17.0,16.0,21.0,7.0,21.0,2.0,27.0,15.0,35.0,2.0,33.0,1.0,20.0,9.0,15.0,15.0,15.0,10.0,18.0,14.0,37.0,41.0,40.0,32.0,16.0,2.0,10.0,20.0,5.0,24.0,38.0,20.0,4.0,24.0,2.0,22.0,6.0,25.0,26.0,6.0,15.0,32.0,14.0,7.0,4.0,16.0,16.0,30.0,19.0,9.0,22.0,19.0,26.0,50.0,14.0,42.0,46.0,28.0,23.0,23.0,4.0,65.0,20.0,60.0,22.0,2.0,18.0,2.0,12.0,10.0,29.0,34.0,11.0,2.0,18.0,8.0,39.0,18.0,3.0,50.0,13.0,3.0,20.0,5.0,2.0,33.0,1.0,16.0,15.0,11.0,43.0,13.0,15.0,8.0,16.0,16.0,20.0,14.0,12.0,12.0,3.0,33.0,5.0,3.0,21.0,17.0,44.0,9.0,1.0,39.0,3.0,7.0,25.0,23.0,13.0,19.0,1.0,17.0,37.0,8.0,16.0,39.0,58.0,48.0,11.0,5.0,52.0,29.0,12.0,39.0,11.0,43.0,4.0,4.0,12.0,13.0,14.0,33.0,14.0,73.0,31.0,1.0,9.0,3.0,16.0,16.0,12.0,29.0,5.0,3.0,43.0,19.0,20.0,25.0,4.0,1.0,23.0,10.0,6.0,3.0,47.0,28.0,14.0,14.0,26.0,15.0,20.0,28.0,14.0,47.0,2.0,34.0,32.0,12.0,15.0,17.0,46.0,6.0,5.0,80.0,23.0,10.0,4.0,4.0,14.0,33.0,12.0,41.0,12.0,32.0,6.0,5.0,14.0,1.0,28.0,1.0,2.0,12.0,18.0,31.0,2.0,10.0,16.0,2.0,9.0,7.0,2.0,17.0,3.0,9.0,11.0,1.0,7.0,2.0,13.0,14.0,8.0,33.0,48.0,3.0,45.0,15.0,10.0,1.0,1.0,3.0,2.0,28.0,1.0,6.0,1.0,23.0,5.0,29.0,22.0,39.0,28.0,4.0,8.0,13.0,5.0,20.0,4.0,31.0,7.0,29.0,11.0,24.0,13.0,37.0,31.0,21.0,22.0,9.0,1.0,9.0,16.0,14.0,15.0,26.0,7.0,5.0,4.0,16.0,23.0,4.0,5.0,17.0,8.0,40.0,2.0,1.0,1.0,68.0,22.0,25.0,29.0,10.0,42.0,12.0,2.0,16.0,44.0,10.0,39.0,15.0,1.0,37.0,23.0,2.0,19.0,31.0,10.0,19.0,15.0,1.0,23.0,2.0,46.0,10.0,23.0,40.0,9.0,1.0,9.0,22.0,23.0,26.0,33.0,6.0,28.0,46.0,23.0,16.0,18.0,39.0,38.0,22.0,23.0,10.0,9.0,57.0,2.0,15.0,18.0,27.0,18.0,8.0,13.0,27.0,19.0,15.0,47.0,60.0,33.0,12.0,6.0,24.0,3.0,5.0,13.0,32.0,11.0,41.0,8.0,6.0,2.0,53.0,13.0,50.0,21.0,1.0,9.0,2.0,5.0,23.0,29.0,15.0,1.0,15.0,18.0,11.0,1.0,11.0,2.0,37.0,15.0,1.0,32.0,9.0,8.0,39.0,16.0,2.0,41.0,16.0,5.0,46.0,18.0,19.0,29.0,3.0,1.0,48.0,37.0,5.0,23.0,1.0,49.0,1.0,5.0,3.0,1.0,24.0,11.0,9.0,26.0,15.0,12.0,12.0,10.0,7.0,3.0,1.0,12.0,6.0,2.0,3.0,16.0,23.0,12.0,25.0,4.0,5.0,16.0],\"xaxis\":\"x\",\"y\":[4.216666666666667,360.75000000000006,4.233333333333333,473.8500000000004,5.083333333333334,6.016666666666667,40.166666666666664,136.60000000000002,13.55,5.1,4.166666666666667,38.09999999999999,136.15000000000003,41.06666666666666,51.66666666666667,3.183333333333333,4.333333333333333,45.900000000000006,1546.8499999999997,167.85000000000016,664.5,139.74999999999994,149.1999999999999,89.15000000000003,203.90000000000012,292.2000000000001,84.10000000000001,304.3,2.1166666666666667,10.233333333333334,2037.1999999999998,5.433333333333334,1091.9500000000014,3.1166666666666667,172.35000000000002,4461.65,24.366666666666667,348.90000000000026,5.783333333333333,18.033333333333335,91.85000000000002,3.1333333333333333,2646.749999999999,9.683333333333334,50.23333333333333,739.0499999999998,203.74999999999997,32.083333333333336,219.89999999999992,10.716666666666669,220.55000000000015,5.233333333333333,447.8,10.283333333333333,17.966666666666665,103.60000000000001,2.05,4.05,68.66666666666667,62.95000000000001,16.133333333333333,431.30000000000007,16.516666666666666,420.33333333333326,7.116666666666666,85.59999999999998,3.5166666666666666,13.583333333333334,5.833333333333334,3.716666666666667,148.95000000000005,2.45,1408.1333333333332,4319.200000000001,916.5,115.89999999999995,132.25000000000009,1199.8333333333335,2.9166666666666665,2.55,73.06666666666663,2857.5333333333333,9.05,208.99999999999997,16.099999999999998,10.383333333333333,4206.95,2.05,3848.05,8.316666666666666,10.45,76.29999999999998,490.9,6.033333333333333,227.26666666666662,3722.5,213.4499999999999,46.36666666666666,215.93333333333337,82.69999999999997,21.633333333333333,2.533333333333333,1.75,13.766666666666666,1252.3500000000004,12.4,2.1333333333333333,9.3,6.933333333333334,3.7166666666666672,2.583333333333333,143.84999999999997,5.433333333333334,300.40000000000003,92.29999999999997,191.76666666666665,4854.299999999997,802.9499999999992,13.98333333333333,846.3000000000009,7.2666666666666675,42.58333333333333,8.799999999999999,8.4,104.95000000000005,103.44999999999999,89.79999999999997,11.866666666666665,18.31666666666667,5.216666666666667,424.13333333333344,3757.35,6.733333333333333,2.7,296.76666666666665,617.3666666666667,37.199999999999996,280.7500000000003,4.6000000000000005,354.69999999999993,1987.5666666666666,1.7666666666666666,1.95,2619.600000000003,8.649999999999999,12.233333333333334,14.016666666666666,148.9,2402.0499999999997,104.90000000000002,1659.9,371.55000000000007,11.666666666666666,343.7499999999999,5.883333333333333,104.45,15.916666666666666,44.36666666666667,314.1500000000001,38.28333333333333,1069.6833333333334,10.566666666666666,142.7,18.549999999999994,13.083333333333332,8.133333333333335,7.833333333333333,159.39999999999998,2.933333333333333,252.4000000000001,2904.4999999999995,46.53333333333333,8.316666666666666,13.433333333333334,421.3999999999997,5.766666666666667,11.033333333333331,1.3833333333333333,8.600000000000001,226.44999999999985,2.9,90.90000000000002,3.533333333333333,32.8,510.4,20.766666666666666,20.3,27.1,168.79999999999995,1.9833333333333334,5356.849999999999,9.1,64.93333333333334,2113.149999999999,922.2499999999999,267.70000000000016,109.54999999999995,350.0499999999998,21.333333333333332,2813.55,241.09999999999994,84.65,3.4333333333333336,5.483333333333333,39.050000000000004,15.799999999999997,3.1166666666666663,6.45,14.01666666666667,4.2,40.96666666666666,608.1000000000001,238.45000000000013,4.3,477.8499999999999,12.166666666666664,9.666666666666666,65.2,109.95000000000005,8.166666666666666,162.59999999999994,6.966666666666667,2.216666666666667,22.900000000000002,15.316666666666665,2.85,1358.6166666666666,100.30000000000001,89.79999999999998,2.2,1.9666666666666666,5.783333333333333,9.683333333333334,117.10000000000008,383.2666666666668,269.4,9.583333333333332,241.54999999999993,1591.0999999999995,52.76666666666666,31.599999999999994,39.63333333333334,65.76666666666667,21.28333333333333,94.5,4.3,4.066666666666666,215.11666666666667,5057.55,906.8166666666667,423.8833333333333,4.45,24.466666666666672,8.35,1544.9666666666672,1130.1999999999998,8.2,1703.5999999999992,352.14999999999986,2.7333333333333334,64.44999999999999,6.166666666666666,100.84999999999997,178.23333333333338,1.8833333333333333,2.5,1.65,333.86666666666656,175.65,3.9166666666666665,243.65000000000003,8.866666666666669,122.74999999999996,86.8,12.133333333333333,84.4666666666666,120.40000000000003,3.6,35.6,25.866666666666667,3890.75,306.733333333333,73.14999999999999,90.94999999999993,6.933333333333332,470.6499999999999,34.900000000000006,4.933333333333334,2.283333333333333,34.36666666666668,236.00000000000009,298.2500000000001,19.616666666666667,10.7,281.00000000000017,224.99999999999994,240.33333333333323,38.89999999999999,2020.1000000000001,221.80000000000013,6.633333333333334,2.6666666666666665,243.93333333333334,227.54999999999995,198.35000000000016,3.0833333333333335,620.8000000000002,3860.2,85.65000000000003,15.15,76.99999999999999,159.45,9.866666666666667,6.033333333333333,2.4,29.699999999999996,53.83333333333335,13.749999999999998,1240.1999999999998,21.449999999999996,2.1166666666666667,781.0000000000005,341.1500000000002,272.9500000000001,1342.3000000000006,210.3,2.466666666666667,2.5666666666666664,4.15,7.733333333333333,1237.2333333333333,16.083333333333332,5.216666666666667,60.00000000000002,4707.35,3201.1499999999996,73.5,3.9333333333333336,2194.2,1278.5,1540.7999999999981,118.00000000000001,3.916666666666667,47.63333333333333,164.64999999999992,8.9,3.4333333333333336,76.89999999999999,7.0,2.4166666666666665,16.55,45.73333333333332,47.54999999999999,738.4499999999994,2.316666666666667,497.26666666666654,84.39999999999998,3433.999999999999,6.700000000000001,2.3,631.0,2.216666666666667,38.28333333333333,61.83333333333332,5.683333333333334,37.666666666666664,102.30000000000007,4.266666666666667,379.85,18.083333333333332,2.9333333333333336,617.6499999999993,2.433333333333333,1109.6000000000004,1383.3000000000002,4.216666666666667,8.716666666666667,3060.2000000000003,11.500000000000002,82.79999999999997,18.883333333333333,178.30000000000007,130.00000000000003,100.15000000000006,14.316666666666666,14.766666666666666,2574.8500000000004,18.400000000000002,126.74999999999997,137.60000000000005,51.30000000000002,94.96666666666668,38.76666666666665,195.70000000000024,8.966666666666665,5.316666666666666,332.5000000000001,2.8,147.30000000000004,1.8,1086.3666666666668,5.449999999999999,2536.6499999999965,18.666666666666668,76.30000000000004,3656.1000000000004,226.49999999999991,2184.3333333333335,6.733333333333334,5.55,42.40000000000001,82.2,2.3333333333333335,3.6999999999999997,275.75000000000006,925.0499999999996,91.44999999999996,402.15000000000015,98.74999999999999,1.6833333333333333,245.99999999999997,1007.8499999999997,37.29999999999999,46.516666666666666,2.2,191.54999999999993,8.883333333333333,2422.2,2.15,4.016666666666667,109.63333333333333,326.4666666666667,2107.5333333333324,10.0,9.049999999999999,14.583333333333334,2679.5499999999993,325.4666666666667,976.8499999999997,15.35,18.183333333333337,73.40000000000003,10.600000000000001,895.9500000000002,127.55000000000003,268.90000000000003,10.600000000000001,33.23333333333333,353.0999999999995,2.3666666666666667,171.1,12.95,2.7666666666666666,105.04999999999997,244.89999999999986,43.23333333333333,6.383333333333334,1020.9999999999999,15.95,3170.3,275.24999999999983,56.199999999999996,308.4999999999998,94.80000000000005,546.0500000000003,34.63333333333333,265.8666666666667,91.34999999999997,444.40000000000055,2335.5999999999995,4.733333333333333,2396.199999999998,14.033333333333335,4404.7,6.1,196.55000000000007,2.1,3340.550000000003,2577.866666666667,40.76666666666665,888.2000000000006,4.533333333333334,388.4166666666667,1823.2666666666667,396.6999999999998,3.0166666666666666,3.8000000000000003,1.8166666666666667,9.716666666666665,21.966666666666665,102.5,254.1000000000001,3165.9000000000005,94.04999999999993,9.7,127.06666666666666,6.083333333333334,258.5,79.73333333333332,22.533333333333335,13.933333333333332,5.1499999999999995,75.19999999999999,2.6166666666666667,10.8,362.8499999999999,67.0,17.96666666666667,3.6,434.6500000000004,290.34999999999997,307.9000000000001,2183.949999999998,6.35,1.7666666666666666,14.466666666666667,2.3666666666666667,975.5666666666667,641.75,183.04999999999993,23.233333333333327,2.183333333333333,15.583333333333332,230.1499999999998,13.55,183.59999999999997,19.06666666666667,23.333333333333336,168.0666666666667,14.283333333333331,445.45000000000005,258.9499999999999,144.85000000000002,3614.65,1542.15,1588.7500000000002,3721.0,3.8666666666666667,825.6999999999999,5.5166666666666675,63.400000000000006,16.533333333333335,1.8166666666666667,2.8499999999999996,178.04999999999995,2.0666666666666664,1064.2333333333331,384.05,610.1,693.3500000000001,114.04999999999998,477.2,5.283333333333333,202.24999999999994,206.3499999999999,16.966666666666665,1.8333333333333333,1.9333333333333333,1585.75,3527.2000000000007,259.29999999999995,16.433333333333334,285.74999999999994,3198.6333333333328,18.46666666666667,138.90000000000006,66.8,181.85,4.35,151.75000000000003,14.600000000000001,1.9166666666666667,1.5833333333333333,247.50000000000003,12.1,52.666666666666664,72.43333333333335,6.600000000000001,25.666666666666664,9.416666666666668,516.8666666666666,230.75,31.53333333333335,116.75,240.90000000000003,132.7,18.916666666666668,500.25000000000006,376.7000000000001,14.033333333333333,34.3,2.85,179.2500000000001,1.8,193.1499999999999,79.05,7.766666666666666,140.43333333333334,12.000000000000002,5.083333333333334,22.733333333333338,6.1,15.483333333333334,4.433333333333334,85.36666666666666,4.25,270.24999999999994,6941.05,8.299999999999999,167.29999999999998,69.69999999999997,13.600000000000001,1907.3000000000002,2.216666666666667,3.8833333333333333,2.0,117.80000000000007,106.15000000000002,8.866666666666667,4.7,1.7666666666666666,2.1,8.250000000000002,232.45000000000013,7.333333333333334,248.74999999999997,612.7499999999999,67.35000000000001,53.49999999999999,1207.9333333333334,530.8000000000008,319.0999999999999,10.200000000000001,38.33333333333332,1.4833333333333334,27.833333333333332,1.9,3159.099999999999,228.79999999999998,2.3,3.6999999999999997,14.316666666666668,2.5166666666666666,86.89999999999998,344.3999999999997,26.533333333333328,16.4,227.0499999999998,67.16666666666667,155.50000000000009,4.1,2408.1999999999994,3.25,47.533333333333324,45.41666666666667,2.45,354.7500000000001,3.8333333333333335,355.99999999999994,13.883333333333331,7.583333333333333,64.11666666666667,21.4,62.76666666666666,2425.1000000000013,4.1,17.450000000000003,224.75000000000006,9.333333333333332,2.5999999999999996,49.66666666666667,13.1,21.633333333333333,1159.1000000000001,3862.950000000001,229.8499999999999,1.85,18.5,37.63333333333333,153.6,1.9833333333333334,682.9999999999994,483.5,9.233333333333333,2.4,367.3,323.73333333333323,86.89999999999999,173.05000000000004,4.183333333333334,118.1,1.8833333333333333,550.1999999999999,340.4500000000001,627.25,2785.250000000003,11.783333333333333,14.383333333333333,521.8666666666664,14.899999999999999,545.9500000000003,195.65,12.366666666666665,3574.2,2.2333333333333334,15.733333333333334,10.566666666666666,19.333333333333332,39.66666666666666,281.65000000000026,106.89999999999999,25.96666666666667,124.24999999999999,12.4,9.149999999999999,2799.5666666666666,93.95,32.61666666666666,30.58333333333333,2.55,1852.4666666666687,1523.6000000000006,11.883333333333333,2.3833333333333333,491.09999999999985,18.700000000000003,1227.2,13.65,1.9166666666666667,1124.5499999999997,2.716666666666667,1.6833333333333333,1.8,190.35000000000008,87.60000000000002,8.549999999999999,350.70000000000016,1.8166666666666667,17.633333333333336,2.4,557.9000000000003,11.65,591.4000000000001,4.966666666666667,24.049999999999997,29.466666666666665,29.800000000000008,4773.450000000001,6.483333333333333,349.93333333333334,3.7333333333333334,217.96666666666664,40.349999999999994,3.1,1013.4500000000005,3464.2500000000005,17.95,5.166666666666666,45.766666666666666,25.7,372.43333333333345,2.316666666666667,520.9000000000002,2.533333333333333,1076.6499999999999,2.8833333333333333,3.4833333333333334,806.0500000000002,90.44999999999999,947.4,278.9000000000001,77.49999999999999,23.95,83.14999999999996,3549.1999999999994,1.8,124.26666666666668,31.266666666666666,181.35000000000005,329.9999999999999,73.13333333333334,1773.65,12.15,1256.4999999999995,309.35,117.75000000000004,10.783333333333335,14.399999999999999,13.716666666666667,61.166666666666664,2370.133333333333,28.6,4041.950000000001,232.40000000000012,144.74999999999997,4.85,529.4000000000005,131.40000000000006,8.416666666666666,13.75,1677.1499999999992,10.633333333333335,8.75,334.79999999999995,2.1833333333333336,1.9833333333333334,8.683333333333334,2.6500000000000004,13.566666666666668,183.45000000000007,3.0666666666666664,2.1833333333333336,30.93333333333333,500.6666666666669,121.35000000000004,2435.5333333333338,5.45,6296.150000000001,35.900000000000006,2942.3500000000004,1.9,494.0000000000004,159.8499999999999,2.183333333333333,7.65,2449.85,5.733333333333333,208.9666666666665,408.6999999999998,3.8166666666666664,65.30000000000001,4.2,1152.0000000000002,5273.8,3.916666666666667,3.5999999999999996,15.166666666666668,30.43333333333333,13.433333333333334,12.866666666666667,70.14999999999996,1023.4499999999995,48.36666666666665,3.8499999999999996,541.15,14.5,13.8,59.149999999999984,63.1,112.60000000000004,27.599999999999998,119.93333333333337,315.3999999999998,5.250000000000001,84.15000000000002,469.75,247.33333333333317,1.75,2.933333333333333,363.25000000000034,143.3,12.049999999999999,1988.5999999999997,4467.750000000001,1.75,1073.1000000000008,1190.7000000000003,11.816666666666666,3511.3000000000015,9.850000000000001,252.10000000000002,15.066666666666666,6.266666666666666,3.1333333333333333,10.783333333333333,2508.5999999999995,1552.2000000000012,81.29999999999998,10.233333333333333,106.45000000000002,772.6666666666665,186.14999999999972,26.366666666666667,465.9500000000003,70.70000000000002,28.68333333333333,201.85,12.633333333333333,803.1000000000006,26.66666666666667,3.316666666666667,6.050000000000001,1.7333333333333334,216.2499999999997,252.1,209.43333333333322,11.0,18.21666666666666,878.2999999999998,5262.066666666668,33.3,112.3,11.566666666666666,7.216666666666667,211.49999999999991,4.6,1.65,68.55000000000003,1.5833333333333333,3.75,9.783333333333333,549.8500000000003,19.51666666666667,95.29999999999997,42.0,2.3333333333333335,1.5333333333333334,70.99999999999999,18.333333333333336,6.966666666666667,13.066666666666666,58.53333333333334,7.816666666666666,176.7999999999998,7.300000000000001,4497.949999999999,31.83333333333334,6.016666666666667,3.6166666666666663,4.183333333333334,13.366666666666667,155.25000000000006,4.666666666666667,7.416666666666666,276.34999999999997,177.29999999999998,3.4,270.3999999999998,214.00000000000006,51.500000000000014,29.833333333333332,1.8333333333333333,69.86666666666666,326.40000000000015,40.900000000000006,298.9000000000001,17.083333333333336,3.9333333333333336,2.5166666666666666,321.3499999999996,12.366666666666667,1760.550000000001,208.85,2769.4500000000003,28.616666666666667,6.833333333333333,2.7,319.5,3.7666666666666666,3.0833333333333335,6.466666666666667,33.73333333333333,2352.7000000000003,6.45,336.89999999999986,1.6666666666666667,36.0,9.483333333333333,1043.55,60.26666666666665,5.2,10.850000000000001,282.1999999999997,88.39999999999999,179.95000000000016,221.35000000000005,3.166666666666667,1732.2999999999997,672.0999999999996,8.833333333333334,1.8333333333333333,128.14999999999998,144.00000000000003,53.16666666666667,1850.5,7.35,51.96666666666666,4.35,384.1000000000001,804.8000000000002,125.05000000000007,3.7,71.83333333333333,4.816666666666667,5.800000000000001,3047.55,12.25,9.583333333333334,691.3666666666667,132.00000000000006,254.60000000000008,115.14999999999992,257.10000000000014,637.7999999999997,122.16666666666667,3931.7999999999997,132.10000000000008,45.39999999999999,44.23333333333333,12.75,369.8500000000002,30.416666666666664,8.066666666666666,1.65,33.099999999999994,177.60000000000002,57.36666666666666,47.26666666666665,2.2333333333333334,2.033333333333333,225.84999999999994,55.13333333333331,160.89999999999998,245.64999999999995,2.35,12.366666666666667,17.9,5.1499999999999995,80.14999999999999,552.6,119.9333333333334,1685.400000000002,114.10000000000005,17.5,1492.2500000000005,361.1000000000002,48.150000000000006,31.766666666666662,897.55,207.39999999999995,1.8333333333333333,2.216666666666667,7.766666666666667,2.216666666666667,3275.550000000004,470.40000000000003,346.75000000000057,5232.200000000001,11.699999999999998,12.216666666666665,2.7666666666666666,2712.666666666667,116.05000000000001,19.383333333333336,105.50000000000001,2.683333333333333,113.26666666666667,2775.8,11.299999999999999,4.55,118.93333333333332,19.833333333333332,198.19999999999996,313.49999999999983,400.6000000000001,137.45000000000007,6.566666666666666,46.88333333333334,15.783333333333335,18.216666666666665,1.8833333333333333,66.78333333333333,7.283333333333333,96.59999999999992,1.9833333333333334,295.9500000000002,120.89999999999998,3720.85,164.45000000000007,8.000000000000002,4.833333333333334,62.69999999999999,3010.5,933.7166666666667,86.30000000000001,7.7,5.716666666666667,9.716666666666667,100.70000000000002,46.5,153.75000000000009,3565.499999999999,159.45,3.6999999999999997,5.4833333333333325,201.45000000000002,8.733333333333333,1.85,2787.966666666667,454.0000000000002,355.25,760.0999999999987,12.499999999999998,153.95,236.0,117.06666666666662,70.29999999999998,1.6666666666666667,54.70000000000002,254.39999999999995,178.95000000000007,202.1000000000002,803.5499999999998,18.566666666666663,10.116666666666667,383.05000000000007,93.39999999999999,125.89999999999999,9.049999999999999,204.85000000000005,2.066666666666667,617.4999999999999,102.94999999999999,95.39999999999998,2.066666666666667,50.24999999999998,2.05,5.166666666666667,2177.350000000001,55.33333333333332,13.066666666666666,3.9666666666666663,3.3,12.966666666666667,75.3,2077.95,263.34999999999985,1084.4499999999991,188.90000000000006,65.69999999999999,77.89999999999999,13.816666666666666,339.75,228.44999999999993,175.60000000000005,153.4499999999999,90.80000000000001,4740.95,1837.3000000000004,15.666666666666666,79.75000000000004,36.53333333333332,571.2000000000003,6.266666666666667,22.53333333333333,8.15,22.43333333333333,8.0,2.3666666666666667,218.75000000000003,2908.866666666667,2.9166666666666665,12.416666666666668,141.54999999999995,176.90000000000015,1.75,28.8,5.816666666666666,2202.7999999999993,5.25,4.066666666666666,68.43333333333334,245.6500000000002,84.24999999999997,2.65,343.3999999999998,10.733333333333334,189.1499999999999,328.95000000000016,2.95,251.9499999999998,3.9333333333333336,77.34999999999998,40.26666666666666,2.3833333333333333,516.6999999999997,265.2999999999999,11.266666666666667,3.2,201.25000000000006,466.5000000000001,212.40000000000006,1.9,27.53333333333334,111.90000000000002,320.4000000000001,1397.9166666666665,12.666666666666666,6.6000000000000005,570.0499999999998,429.5000000000001,119.59999999999998,104.75000000000001,24.83333333333333,10.666666666666668,3.8000000000000003,3.716666666666667,5.9,31.866666666666667,2.7,5.983333333333333,3.533333333333333,925.4499999999999,19.7,618.6,11.683333333333334,3.0166666666666666,5.416666666666667,2.4,11.7,808.45,3.2499999999999996,2.4833333333333334,203.24999999999994,3.783333333333333,295.5000000000001,108.34999999999997,37.166666666666664,269.85000000000025,417.2,2.1,3.6166666666666663,3505.0499999999997,2911.8333333333335,8.383333333333335,10.266666666666666,82.53333333333333,261.9499999999999,26.883333333333333,4.433333333333333,5.4,3.2666666666666666,101.69999999999993,3.1166666666666667,23.06666666666667,50.000000000000014,142.9666666666666,173.25,32.65,218.65000000000015,110.99999999999991,5.4,6.166666666666666,4352.049999999999,24.416666666666664,11.849999999999998,3342.3499999999995,8.000000000000002,24.133333333333333,12.916666666666666,4.733333333333333,28.73333333333334,2.283333333333333,366.79999999999984,106.56666666666662,51.699999999999996,16.23333333333333,3723.449999999998,2928.8,4.45,2.6666666666666665,7.199999999999999,66.5,185.75,19.5,4.699999999999999,280.24999999999994,105.55000000000003,9.133333333333335,1175.4000000000003,23.333333333333332,4.0,479.7,2055.5000000000005,2276.9000000000005,46.93333333333334,8.916666666666666,15.366666666666665,304.98333333333335,155.80000000000004,428.45000000000044,602.3666666666667,29.700000000000003,2317.2,244.20000000000007,4.65,1.6833333333333333,2132.7500000000005,267.65000000000003,38.31666666666666,33.83333333333333,3971.6,5.283333333333334,27.533333333333328,134.3,4.283333333333333,8.466666666666667,4.35,33.733333333333334,9.266666666666666,40.9,19.633333333333333,5.416666666666667,3.3666666666666663,4.666666666666666,11.299999999999999,180.70000000000002,13.983333333333333,101.19999999999995,104.36666666666663,32.43333333333334,7.116666666666666,1740.8999999999994,45.63333333333333,1042.3999999999999,225.24999999999986,77.74999999999999,39.766666666666666,87.3,455.54999999999984,28.700000000000006,2.833333333333333,1.8833333333333333,11.316666666666666,1081.9000000000005,136.55000000000004,10.583333333333334,7.333333333333333,4.666666666666666,45.733333333333334,13.75,59.81666666666667,161.2,2241.8499999999995,118.24999999999997,4.216666666666667,21.816666666666666,16.216666666666665,5.5,6.166666666666667,41.599999999999994,2.1166666666666667,4.016666666666666,1097.9999999999998,6.966666666666668,2.15,51.23333333333333,123.30000000000001,162.05,32.4,155.4666666666666,1452.55,1.8333333333333333,84.83333333333336,17.55,2.45,3.6999999999999997,5.0,33.9,39.49999999999999,661.0000000000005,2.1333333333333333,2.9833333333333334,44.300000000000004,196.2,7.083333333333333,2.716666666666667,163.70000000000002,35.900000000000006,93.65,190.9000000000001,61.9,18.199999999999996,1611.5,270.8,4.766666666666667,17.35,147.10000000000005,6.55,271.75000000000017,8.75,5.6,96.76666666666672,1329.2,10.633333333333335,11.649999999999999,2.5666666666666664,2.1666666666666665,29.2,2133.2999999999984,1.4666666666666666,16.03333333333333,272.2,2.55,16.53333333333333,740.1500000000001,480.3999999999998,33.99999999999999,1.7166666666666666,245.29999999999987,7.216666666666668,2221.0,3.75,454.3499999999998,9.333333333333332,2690.650000000002,12.766666666666667,2.3833333333333333,6.866666666666667,172.10000000000005,2.4,566.0000000000001,10.600000000000001,12.850000000000001,4.416666666666667,2390.0666666666675,824.5333333333333,18.0,2.1166666666666667,4265.55,295.2999999999999,1057.8,5.383333333333333,222.6999999999999,3.366666666666667,1319.9999999999998,228.44999999999987,117.54999999999998,250.39999999999995,72.14999999999998,18.35,8.0,11.099999999999998,6.433333333333334,412.7000000000002,293.81666666666666,2420.749999999999,10.566666666666665,698.5666666666666,2.033333333333333,2303.7,44.16666666666666,129.4,11.9,178.85000000000008,2.4166666666666665,5.949999999999999,2.5666666666666664,171.95000000000002,127.2499999999999,12.85,9.500000000000002,314.50000000000017,61.150000000000006,68.03333333333335,2.3833333333333333,10.283333333333331,19.133333333333333,281.0,1.9333333333333333,1339.816666666667,3365.7,1656.3000000000002,2.45,1.8833333333333333,116.33333333333331,3.033333333333333,68.10000000000004,12.783333333333335,7.283333333333333,82.69999999999996,12.833333333333336,8.266666666666667,4.45,4.766666666666667,1082.8500000000004,401.55000000000007,1200.5999999999997,3.7333333333333334,126.35,201.55,14.833333333333336,1.8166666666666667,248.55000000000027,383.6500000000009,57.20000000000002,2.6166666666666667,1.5666666666666667,1537.2666666666664,230.74999999999991,22.366666666666667,49.449999999999996,44.81666666666667,125.45000000000003,58.29999999999999,231.74999999999994,45.4,32.099999999999994,15.466666666666665,2850.4500000000016,4.783333333333333,12.633333333333335,7.4,3339.7000000000003,3.4166666666666665,25.63333333333334,3904.6000000000004,17.95,2.45,126.93333333333337,2082.4500000000007,13.283333333333333,170.80000000000007,9.733333333333333,1307.6000000000006,10.866666666666667,113.19999999999995,6.05,9.783333333333333,6.6,189.55,3.9333333333333336,4.216666666666666,80.65000000000006,451.04999999999995,2.3,6.7,8.416666666666666,5.800000000000001,1237.35,1.9333333333333333,12.433333333333334,202.8000000000002,2630.6666666666665,10.75,1713.65,5.766666666666667,7.316666666666667,644.0000000000008,18.866666666666667,238.8500000000001,25.75,298.49999999999983,2.716666666666667,258.75,76.19999999999997,20.56666666666667,16.066666666666666,137.6,6.75,8.566666666666666,3861.5,530.9,144.25000000000006,2411.6499999999974,798.65,624.9,121.54999999999998,9.866666666666667,6.8999999999999995,2052.366666666668,15.016666666666667,1.8166666666666667,7.95,3.7,164.60000000000002,16.533333333333335,117.89999999999993,103.94999999999997,16.71666666666667,311.0000000000002,11.283333333333331,119.24999999999997,3.7333333333333334,8.6,1370.15,150.19999999999987,5.183333333333334,258.5,43.899999999999984,6.883333333333333,78.0333333333333,19.566666666666666,253.54999999999987,3994.2,2.6,4.883333333333333,8.65,138.59999999999997,71.86666666666669,2.05,12.433333333333332,582.3999999999999,495.94999999999953,134.39999999999998,261.55000000000007,501.49999999999994,289.3499999999999,7.533333333333333,66.50000000000001,255.84999999999994,2.683333333333333,8.916666666666666,7.916666666666668,22.083333333333336,3.5,16.416666666666668,2.3833333333333333,461.84999999999997,347.15000000000003,1780.1499999999999,212.8,3445.9999999999986,8.7,66.8,2807.849999999999,5.4,3265.4499999999994,3.7,417.6,35.266666666666666,78.03333333333333,140.63333333333335,11.766666666666666,246.06666666666672,16.049999999999997,162.29999999999995,2857.8000000000006,4.633333333333334,4.583333333333333,131.83333333333331,3.6166666666666667,86.0,368.2500000000002,337.6000000000002,168.10000000000002,2645.8000000000043,1.7333333333333334,6.883333333333334,11.516666666666666,1230.6,6.933333333333333,9.483333333333334,2.2,1408.6833333333332,1.9,220.70000000000005,5.633333333333333,600.4499999999998,3.4166666666666665,1.95,108.73333333333332,183.59999999999994,1.9333333333333333,1.7666666666666666,6.85,4.666666666666666,138.85000000000014,313.5,300.75000000000017,63.35,52.73333333333333,76.63333333333337,11.100000000000001,2.566666666666667,9.0,3.466666666666667,110.59999999999997,263.1000000000002,4035.75,3.5333333333333337,15.616666666666669,86.44999999999997,4.183333333333333,7460.049999999999,18.96666666666667,277.05000000000007,11.083333333333334,34.49999999999999,183.95000000000013,18.06666666666667,15.266666666666666,242.69999999999987,1922.8333333333335,40.533333333333324,288.95000000000005,4.483333333333333,7.2666666666666675,4413.4,4.383333333333333,378.30000000000007,564.3500000000001,29.9,3959.2000000000007,1776.2666666666664,9.350000000000001,4.383333333333334,417.1333333333333,221.15000000000006,927.8499999999995,8.583333333333334,131.04999999999995,80.50000000000006,34.800000000000004,1848.6333333333337,1734.9,270.5499999999999,6.9333333333333345,2.283333333333333,778.6999999999998,54.5,72.16666666666667,12.0,311.8,35.166666666666664,688.1166666666664,145.73333333333326,48.20000000000001,11.250000000000002,8.233333333333333,251.49999999999994,2.6333333333333333,82.16666666666663,3540.3,315.34999999999997,2.85,784.5666666666667,284.5499999999999,49.216666666666676,3334.2500000000005,291.55000000000007,51.93333333333334,2202.2,145.35,671.8999999999993,118.89999999999995,1.5833333333333333,5.083333333333334,4980.75,785.2333333333333,1.85,8.7,220.80000000000004,4.916666666666667,44.66666666666668,82.54999999999998,93.56666666666665,81.49999999999999,8.133333333333333,43.866666666666674,1238.549999999999,9.583333333333332,4393.700000000001,59.69999999999999,10.666666666666668,5333.099999999999,18.799999999999997,9.233333333333333,252.94999999999973,3.783333333333333,1.5333333333333334,4645.849999999999,137.35000000000002,48.80000000000001,2.966666666666667,25.21666666666667,27.566666666666666,77.54999999999998,5.55,175.49999999999997,116.25000000000001,50.24999999999999,9.933333333333334,16.533333333333335,1698.7333333333333,41.300000000000004,135.1333333333333,3.716666666666667,1.7166666666666666,1082.8499999999997,633.6999999999996,173.65000000000012,607.9,252.4,2.533333333333333,12.066666666666666,2120.2500000000005,51.050000000000004,2430.6,108.84999999999991,13.799999999999999,228.95000000000022,1.8666666666666667,8.716666666666667,23.833333333333336,19.383333333333333,13.733333333333334,14.483333333333333,24.06666666666667,214.5500000000001,255.74999999999977,2.75,1609.6499999999999,1.6833333333333333,6.966666666666666,77.05000000000004,124.40000000000008,5.933333333333334,2.033333333333333,7.433333333333334,192.00000000000014,2825.7000000000003,12.283333333333331,1704.35,1438.6166666666666,137.9,8.5,2130.2999999999997,1595.65,10.366666666666667,2.283333333333333,91.30000000000004,6.7,296.9500000000003,13.616666666666667,25.383333333333333,6.116666666666666,91.33333333333337,1115.8499999999992,165.39999999999995,3.4333333333333336,11.5,14.299999999999999,2075.2333333333336,3.1666666666666665,49.19999999999997,93.50000000000001,3.8500000000000005,153.60000000000008,13.55,6.033333333333334,30.766666666666666,8.883333333333333,159.73333333333335,905.4166666666666,37.56666666666666,162.80000000000013,49.93333333333331,22.449999999999996,4.816666666666666,7.933333333333333,41.36666666666667,378.0999999999997,98.05000000000004,30.300000000000008,43.70000000000001,166.85000000000002,141.8999999999999,15.116666666666667,29.66666666666667,261.7499999999998,436.15,206.49999999999997,2320.2333333333336,4.883333333333334,1611.1,6.583333333333333,1134.7500000000005,1547.5499999999993,12.966666666666665,43.85,101.83333333333334,743.7,552.4666666666667,10.149999999999999,184.10000000000005,6.816666666666666,2.6333333333333333,2.8499999999999996,17.766666666666666,11.1,131.15000000000003,4.95,3.7666666666666666,1122.4000000000005,1634.5999999999983,71.36666666666666,4071.4499999999994,92.13333333333333,21.883333333333333,32.550000000000004,112.14999999999995,7.4833333333333325,8.383333333333333,298.99999999999994,292.35000000000014,25.55,1984.6000000000006,44.24999999999997,363.45,734.6999999999999,138.3999999999999,14.933333333333334,19.45,305.4000000000002,1085.4000000000005,370.64999999999964,2.0,124.96666666666663,32.23333333333333,13.683333333333332,708.1999999999994,4036.95,1342.0833333333335,4.15,3.9000000000000004,15.933333333333335,306.9,6.083333333333334,1.65,15.816666666666665,95.40000000000006,6.0,735.05,13.066666666666668,169.4500000000001,229.4500000000001,15.983333333333333,4.783333333333333,107.69999999999997,205.59999999999997,484.19999999999953,8.4,41.19999999999999,8.583333333333332,16.516666666666666,66.83333333333333,215.63333333333335,41.43333333333332,2731.85,1.9833333333333334,2.933333333333333,527.9,12.816666666666666,274.8666666666666,192.24999999999994,348.7,411.64999999999986,15.45,95.89999999999996,72.19999999999999,2.5166666666666666,10.533333333333333,32.16666666666667,215.50000000000006,4434.65,11.85,309.25000000000006,5.699999999999999,752.8000000000008,20.7,41.75,12.25,353.73333333333363,155.49999999999991,2.466666666666667,69.54999999999998,92.23333333333328,137.25,162.10000000000005,1627.3999999999994,13.35,14.700000000000001,21.616666666666667,51.40000000000002,135.41666666666666,5.85,3.483333333333333,2.45,73.35,5.116666666666667,4.8999999999999995,154.75,32.083333333333336,40.699999999999996,2213.399999999998,1492.9500000000007,163.79999999999998,308.1999999999998,3.033333333333333,9.350000000000001,1990.649999999999,24.299999999999994,1055.1500000000005,4.6499999999999995,20.083333333333332,82.5,2.3666666666666667,111.69999999999996,2.0,8.4,28.800000000000008,3.15,8.25,202.15000000000026,1122.4,5.316666666666666,88.43333333333335,3.783333333333333,22.333333333333336,3.6499999999999995,3.033333333333333,100.85000000000008,2794.7,31.16666666666667,44.866666666666674,12.899999999999999,114.31666666666668,212.2,105.29999999999995,2218.6000000000004,1753.9333333333334,3.7833333333333337,131.15,32.833333333333336,46.13333333333334,1.8833333333333333,530.4000000000002,361.4,5.05,12.666666666666664,7.783333333333335,907.5,285.54999999999967,9.233333333333333,198.95,256.65,13.383333333333335,1.7833333333333334,16.25,8.0,255.6,404.9000000000001,2128.25,1835.2999999999988,3.4,22.450000000000003,12.833333333333334,1844.533333333334,2.066666666666667,148.3000000000001,13.416666666666668,30.383333333333333,219.09999999999988,99.20000000000005,4.033333333333333,18.333333333333336,865.5,33.099999999999994,2.05,123.09999999999994,244.59999999999977,61.73333333333333,7.083333333333334,1359.9666666666667,376.4999999999999,25.71666666666667,2.75,116.69999999999999,79.70000000000006,4.533333333333333,7.75,54.36666666666666,3.9,4774.15,2.05,2.216666666666667,142.29999999999998,4.333333333333334,13.833333333333332,18.61666666666667,716.4999999999998,3.816666666666667,98.35,15.283333333333335,124.15,13.25,23.249999999999996,168.70000000000002,2.6833333333333336,82.7,28.733333333333324,340.35,3.1166666666666667,11.183333333333334,177.6,4330.8,7.15,2096.3000000000006,6.65,3.3166666666666664,3786.7,432.15000000000003,2.45,4.333333333333333,6.966666666666667,4.95,85.86666666666666,3.4833333333333334,8.1,136.14999999999992,181.69999999999996,151.75000000000006,2906.95,207.0499999999999,2.8333333333333335,169.90000000000003,811.0500000000001,57.53333333333334,10.383333333333333,6.6000000000000005,3.55,385.5499999999997,20.049999999999997,3.2666666666666666,186.59999999999997,7.666666666666667,3.8666666666666663,604.85,6.933333333333334,13.883333333333333,22.800000000000004,2.966666666666667,7.633333333333332,1696.6000000000004,22.73333333333333,84.60000000000001,4.199999999999999,117.99999999999997,73.25000000000001,81.09999999999998,9.183333333333334,5.166666666666667,36.93333333333333,191.34999999999997,323.5333333333333,10.383333333333333,759.9500000000008,3.2666666666666666,303.09999999999997,368.94999999999965,157.44999999999996,334.05000000000007,1.9333333333333333,130.25000000000003,9.950000000000001,59.31666666666667,4334.55,560.2500000000006,280.19999999999993,7.250000000000001,4.0,6.799999999999999,2.0166666666666666,11.799999999999999,26.900000000000013,126.76666666666665,7.333333333333333,391.35,83.39999999999995,3268.1500000000015,5.75,19.25,4377.900000000001,14.733333333333333,3.4833333333333334,2.2333333333333334,22.666666666666668,52.94999999999999,3899.3499999999995,1799.0,11.95,743.750000000001,5.433333333333334,832.9999999999998,206.9000000000002,628.25,2.4833333333333334,82.84999999999998,347.3500000000002,59.9666666666667,1.75,13.316666666666668,1618.3000000000002,10.733333333333333,327.4000000000003,134.70000000000002,15.683333333333334,2.3666666666666667,3.1833333333333336,2.533333333333333,1182.1499999999999,6.166666666666668,9.533333333333333,386.15000000000026,128.69999999999996,2.3666666666666667,54.66666666666666,44.60000000000002,7.433333333333334,49.16666666666666,139.3,2.15,140.90000000000006,3037.65,319.0666666666665,4.783333333333333,150.8,3.2666666666666666,54.55000000000001,30.699999999999985,2952.2333333333336,214.94999999999996,1.7166666666666666,70.33333333333337,5.316666666666667,301.75,4.966666666666667,716.7666666666669,47.33333333333334,35.46666666666667,326.19999999999976,23.93333333333333,4.966666666666667,1270.0666666666673,2.9166666666666665,1007.7000000000008,19.950000000000006,230.79999999999984,4048.45,30.53333333333334,33.60000000000001,1.75,3.6333333333333337,208.9499999999999,196.55000000000004,1.6833333333333333,103.13333333333331,56.46666666666666,11.95,76.06666666666665,1044.15,72.64999999999999,9.416666666666666,542.05,11.366666666666667,188.60000000000008,56.43333333333333,155.23333333333343,15.933333333333334,2.1333333333333333,110.09999999999997,17.299999999999997,72.54999999999998,8.233333333333334,93.29999999999998,2.583333333333333,1511.5500000000002,2413.35,174.01666666666665,2.55,2736.1500000000015,2.683333333333333,116.75000000000001,9.85,47.83333333333334,14.08333333333333,88.95,16.866666666666667,38.333333333333336,334.0666666666666,207.29999999999987,206.46666666666664,3593.5999999999976,131.84999999999997,73.76666666666667,2.916666666666667,11.583333333333332,2658.55,18.866666666666667,217.79999999999984,1408.8000000000022,96.30000000000001,4.566666666666666,148.54999999999993,2.3166666666666664,865.7499999999999,5.333333333333333,781.2499999999998,532.1333333333333,5.766666666666667,24.199999999999996,103.80000000000005,17.983333333333334,1374.0333333333333,3.3833333333333333,109.29999999999998,46.43333333333332,241.65000000000006,47.33333333333332,9.733333333333333,129.85,541.7499999999999,450.3666666666667,539.05,19.083333333333332,209.39999999999998,285.24999999999983,150.20000000000016,115.05000000000003,134.2,4.783333333333333,336.1499999999998,126.20000000000006,493.75,45.08333333333333,2.4333333333333336,532.0500000000002,3.4833333333333334,18.216666666666665,15.616666666666667,248.99999999999997,146.04999999999995,51.63333333333331,3.05,1964.9500000000012,12.75,292.70000000000016,77.90000000000002,55.60000000000001,477.74999999999983,14.566666666666666,3.966666666666667,425.95,5.1499999999999995,2.4166666666666665,6826.6,1.5666666666666667,44.86666666666668,970.3333333333335,11.783333333333335,316.65000000000015,15.649999999999999,404.45,11.666666666666666,17.733333333333334,97.05000000000001,42.983333333333334,18.083333333333336,34.550000000000004,2092.3666666666663,2.9833333333333334,193.04999999999995,4.466666666666667,4.716666666666667,50.90000000000002,176.9000000000001,382.6999999999997,12.233333333333333,1.9,280.75000000000034,3.783333333333333,9.483333333333334,155.69999999999996,3884.2500000000005,33.1,72.03333333333335,1.9166666666666667,62.76666666666666,201.4499999999998,16.616666666666667,214.73333333333335,3228.500000000001,355.25000000000045,205.66666666666669,38.15,5.8,439.26666666666745,125.86666666666665,29.5,155.04999999999998,10.066666666666668,188.85,7.366666666666667,3.8833333333333333,11.05,16.6,14.033333333333333,4173.25,20.383333333333336,826.4999999999991,707.833333333333,1.9333333333333333,10.1,2.75,1081.8000000000002,74.6,11.816666666666666,218.14999999999998,4.066666666666666,3.45,235.60000000000002,59.83333333333332,102.44999999999995,136.79999999999995,5.3,2.466666666666667,96.50000000000001,24.866666666666664,5.666666666666668,3.833333333333333,331.6999999999997,255.75,31.099999999999998,14.266666666666666,89.1333333333333,74.94999999999999,4352.5,55.89999999999999,501.0999999999999,4398.75,2.3333333333333335,173.99999999999994,898.65,15.25,17.21666666666666,816.8999999999997,2009.7000000000005,10.516666666666667,4.933333333333334,494.6000000000002,59.333333333333314,13.7,3.7666666666666666,638.6333333333334,481.6333333333334,222.95000000000007,18.85,1070.1000000000017,16.083333333333332,313.35,5.283333333333333,5.933333333333334,80.75,1.95,390.55,2.433333333333333,2.166666666666667,409.4333333333335,235.56666666666666,45.416666666666664,2.5166666666666666,12.283333333333335,217.80000000000007,2.2333333333333334,10.45,6.733333333333333,3.2666666666666666,1001.75,3.416666666666667,9.25,44.999999999999986,13.2,7.516666666666667,2.6833333333333336,30.7,44.466666666666654,10.433333333333334,306.35,2668.2999999999997,5.45,463.1000000000001,322.84999999999997,28.03333333333333,2.1166666666666667,3.45,3.45,9.666666666666666,72.36666666666666,1.7,6.333333333333332,1179.8666666666666,146.45000000000007,3.933333333333333,327.99999999999994,215.75,1799.7499999999998,137.44999999999993,6.583333333333333,10.25,44.766666666666644,1203.0,48.23333333333335,7.783333333333333,194.15000000000006,12.0,1620.7,16.35,112.39999999999995,13.866666666666665,198.2000000000001,227.7,198.50000000000006,81.39999999999996,91.25,1.9666666666666666,39.13333333333333,2849.133333333333,131.55,31.966666666666672,187.74999999999991,8.983333333333333,6.183333333333334,23.966666666666658,19.483333333333334,157.75,4.633333333333334,6.183333333333334,22.75,1380.3,303.2000000000001,2.3,2.1333333333333333,2.1,519.6499999999995,106.49999999999997,189.25000000000009,799.6666666666667,11.1,669.0,35.533333333333324,2.65,593.1000000000001,308.49999999999955,12.45,287.2000000000002,17.3,2.3,208.55000000000015,82.64999999999998,3.166666666666667,45.16666666666665,165.2,26.433333333333337,4130.6,184.25,2.4833333333333334,145.44999999999987,4.266666666666667,2805.4666666666662,9.55,3876.35,1752.8,8.583333333333332,12.4,10.616666666666667,75.73333333333335,100.63333333333333,467.15000000000003,132.70000000000005,6.616666666666667,53.24999999999999,295.9000000000001,4283.6,128.13333333333333,143.2,411.0499999999997,192.69999999999993,104.84999999999995,133.44999999999993,10.899999999999999,8.283333333333333,320.25,12.7,2127.999999999999,18.31666666666667,1363.4000000000003,28.71666666666666,7.983333333333333,22.166666666666668,187.60000000000016,129.14999999999998,67.30000000000001,1018.5333333333324,861.466666666666,238.9999999999998,18.183333333333334,6.766666666666667,133.8,5.1,8.666666666666668,15.766666666666666,343.1333333333335,29.23333333333333,306.5499999999998,9.566666666666666,8.066666666666666,929.0666666666666,756.6666666666663,16.650000000000002,313.7500000000002,110.9500000000001,1.6666666666666667,12.383333333333331,2.7666666666666666,9.383333333333335,739.5999999999998,225.29999999999984,89.59999999999998,1.9833333333333334,123.75,103.59999999999995,17.599999999999998,1.7166666666666666,10.149999999999999,2.75,176.99999999999986,290.45000000000005,2.4,98.0333333333334,11.933333333333334,12.299999999999999,231.20000000000005,120.34999999999994,2.45,2300.2000000000007,44.866666666666674,4.016666666666667,2199.0333333333333,110.50000000000003,73.65,172.20000000000007,3.583333333333333,2.15,467.6999999999992,2018.2000000000005,218.86666666666667,88.93333333333331,1.8666666666666667,369.25,1.8166666666666667,7.633333333333334,4.8500000000000005,2.15,130.2,40.33333333333333,16.3,3872.8500000000004,25.283333333333335,16.650000000000002,91.60000000000001,39.26666666666667,10.983333333333334,7.866666666666666,2.066666666666667,12.316666666666666,6.133333333333333,3.3666666666666667,3.05,56.60000000000001,212.04999999999998,12.383333333333331,142.54999999999998,3.8,4.5,873.8666666666667],\"yaxis\":\"y\"}],                        {\"barmode\":\"group\",\"legend\":{\"tracegroupgap\":0},\"template\":{\"data\":{\"bar\":[{\"error_x\":{\"color\":\"#2a3f5f\"},\"error_y\":{\"color\":\"#2a3f5f\"},\"marker\":{\"line\":{\"color\":\"#E5ECF6\",\"width\":0.5},\"pattern\":{\"fillmode\":\"overlay\",\"size\":10,\"solidity\":0.2}},\"type\":\"bar\"}],\"barpolar\":[{\"marker\":{\"line\":{\"color\":\"#E5ECF6\",\"width\":0.5},\"pattern\":{\"fillmode\":\"overlay\",\"size\":10,\"solidity\":0.2}},\"type\":\"barpolar\"}],\"carpet\":[{\"aaxis\":{\"endlinecolor\":\"#2a3f5f\",\"gridcolor\":\"white\",\"linecolor\":\"white\",\"minorgridcolor\":\"white\",\"startlinecolor\":\"#2a3f5f\"},\"baxis\":{\"endlinecolor\":\"#2a3f5f\",\"gridcolor\":\"white\",\"linecolor\":\"white\",\"minorgridcolor\":\"white\",\"startlinecolor\":\"#2a3f5f\"},\"type\":\"carpet\"}],\"choropleth\":[{\"colorbar\":{\"outlinewidth\":0,\"ticks\":\"\"},\"type\":\"choropleth\"}],\"contour\":[{\"colorbar\":{\"outlinewidth\":0,\"ticks\":\"\"},\"colorscale\":[[0.0,\"#0d0887\"],[0.1111111111111111,\"#46039f\"],[0.2222222222222222,\"#7201a8\"],[0.3333333333333333,\"#9c179e\"],[0.4444444444444444,\"#bd3786\"],[0.5555555555555556,\"#d8576b\"],[0.6666666666666666,\"#ed7953\"],[0.7777777777777778,\"#fb9f3a\"],[0.8888888888888888,\"#fdca26\"],[1.0,\"#f0f921\"]],\"type\":\"contour\"}],\"contourcarpet\":[{\"colorbar\":{\"outlinewidth\":0,\"ticks\":\"\"},\"type\":\"contourcarpet\"}],\"heatmap\":[{\"colorbar\":{\"outlinewidth\":0,\"ticks\":\"\"},\"colorscale\":[[0.0,\"#0d0887\"],[0.1111111111111111,\"#46039f\"],[0.2222222222222222,\"#7201a8\"],[0.3333333333333333,\"#9c179e\"],[0.4444444444444444,\"#bd3786\"],[0.5555555555555556,\"#d8576b\"],[0.6666666666666666,\"#ed7953\"],[0.7777777777777778,\"#fb9f3a\"],[0.8888888888888888,\"#fdca26\"],[1.0,\"#f0f921\"]],\"type\":\"heatmap\"}],\"heatmapgl\":[{\"colorbar\":{\"outlinewidth\":0,\"ticks\":\"\"},\"colorscale\":[[0.0,\"#0d0887\"],[0.1111111111111111,\"#46039f\"],[0.2222222222222222,\"#7201a8\"],[0.3333333333333333,\"#9c179e\"],[0.4444444444444444,\"#bd3786\"],[0.5555555555555556,\"#d8576b\"],[0.6666666666666666,\"#ed7953\"],[0.7777777777777778,\"#fb9f3a\"],[0.8888888888888888,\"#fdca26\"],[1.0,\"#f0f921\"]],\"type\":\"heatmapgl\"}],\"histogram\":[{\"marker\":{\"pattern\":{\"fillmode\":\"overlay\",\"size\":10,\"solidity\":0.2}},\"type\":\"histogram\"}],\"histogram2d\":[{\"colorbar\":{\"outlinewidth\":0,\"ticks\":\"\"},\"colorscale\":[[0.0,\"#0d0887\"],[0.1111111111111111,\"#46039f\"],[0.2222222222222222,\"#7201a8\"],[0.3333333333333333,\"#9c179e\"],[0.4444444444444444,\"#bd3786\"],[0.5555555555555556,\"#d8576b\"],[0.6666666666666666,\"#ed7953\"],[0.7777777777777778,\"#fb9f3a\"],[0.8888888888888888,\"#fdca26\"],[1.0,\"#f0f921\"]],\"type\":\"histogram2d\"}],\"histogram2dcontour\":[{\"colorbar\":{\"outlinewidth\":0,\"ticks\":\"\"},\"colorscale\":[[0.0,\"#0d0887\"],[0.1111111111111111,\"#46039f\"],[0.2222222222222222,\"#7201a8\"],[0.3333333333333333,\"#9c179e\"],[0.4444444444444444,\"#bd3786\"],[0.5555555555555556,\"#d8576b\"],[0.6666666666666666,\"#ed7953\"],[0.7777777777777778,\"#fb9f3a\"],[0.8888888888888888,\"#fdca26\"],[1.0,\"#f0f921\"]],\"type\":\"histogram2dcontour\"}],\"mesh3d\":[{\"colorbar\":{\"outlinewidth\":0,\"ticks\":\"\"},\"type\":\"mesh3d\"}],\"parcoords\":[{\"line\":{\"colorbar\":{\"outlinewidth\":0,\"ticks\":\"\"}},\"type\":\"parcoords\"}],\"pie\":[{\"automargin\":true,\"type\":\"pie\"}],\"scatter\":[{\"marker\":{\"colorbar\":{\"outlinewidth\":0,\"ticks\":\"\"}},\"type\":\"scatter\"}],\"scatter3d\":[{\"line\":{\"colorbar\":{\"outlinewidth\":0,\"ticks\":\"\"}},\"marker\":{\"colorbar\":{\"outlinewidth\":0,\"ticks\":\"\"}},\"type\":\"scatter3d\"}],\"scattercarpet\":[{\"marker\":{\"colorbar\":{\"outlinewidth\":0,\"ticks\":\"\"}},\"type\":\"scattercarpet\"}],\"scattergeo\":[{\"marker\":{\"colorbar\":{\"outlinewidth\":0,\"ticks\":\"\"}},\"type\":\"scattergeo\"}],\"scattergl\":[{\"marker\":{\"colorbar\":{\"outlinewidth\":0,\"ticks\":\"\"}},\"type\":\"scattergl\"}],\"scattermapbox\":[{\"marker\":{\"colorbar\":{\"outlinewidth\":0,\"ticks\":\"\"}},\"type\":\"scattermapbox\"}],\"scatterpolar\":[{\"marker\":{\"colorbar\":{\"outlinewidth\":0,\"ticks\":\"\"}},\"type\":\"scatterpolar\"}],\"scatterpolargl\":[{\"marker\":{\"colorbar\":{\"outlinewidth\":0,\"ticks\":\"\"}},\"type\":\"scatterpolargl\"}],\"scatterternary\":[{\"marker\":{\"colorbar\":{\"outlinewidth\":0,\"ticks\":\"\"}},\"type\":\"scatterternary\"}],\"surface\":[{\"colorbar\":{\"outlinewidth\":0,\"ticks\":\"\"},\"colorscale\":[[0.0,\"#0d0887\"],[0.1111111111111111,\"#46039f\"],[0.2222222222222222,\"#7201a8\"],[0.3333333333333333,\"#9c179e\"],[0.4444444444444444,\"#bd3786\"],[0.5555555555555556,\"#d8576b\"],[0.6666666666666666,\"#ed7953\"],[0.7777777777777778,\"#fb9f3a\"],[0.8888888888888888,\"#fdca26\"],[1.0,\"#f0f921\"]],\"type\":\"surface\"}],\"table\":[{\"cells\":{\"fill\":{\"color\":\"#EBF0F8\"},\"line\":{\"color\":\"white\"}},\"header\":{\"fill\":{\"color\":\"#C8D4E3\"},\"line\":{\"color\":\"white\"}},\"type\":\"table\"}]},\"layout\":{\"annotationdefaults\":{\"arrowcolor\":\"#2a3f5f\",\"arrowhead\":0,\"arrowwidth\":1},\"autotypenumbers\":\"strict\",\"coloraxis\":{\"colorbar\":{\"outlinewidth\":0,\"ticks\":\"\"}},\"colorscale\":{\"diverging\":[[0,\"#8e0152\"],[0.1,\"#c51b7d\"],[0.2,\"#de77ae\"],[0.3,\"#f1b6da\"],[0.4,\"#fde0ef\"],[0.5,\"#f7f7f7\"],[0.6,\"#e6f5d0\"],[0.7,\"#b8e186\"],[0.8,\"#7fbc41\"],[0.9,\"#4d9221\"],[1,\"#276419\"]],\"sequential\":[[0.0,\"#0d0887\"],[0.1111111111111111,\"#46039f\"],[0.2222222222222222,\"#7201a8\"],[0.3333333333333333,\"#9c179e\"],[0.4444444444444444,\"#bd3786\"],[0.5555555555555556,\"#d8576b\"],[0.6666666666666666,\"#ed7953\"],[0.7777777777777778,\"#fb9f3a\"],[0.8888888888888888,\"#fdca26\"],[1.0,\"#f0f921\"]],\"sequentialminus\":[[0.0,\"#0d0887\"],[0.1111111111111111,\"#46039f\"],[0.2222222222222222,\"#7201a8\"],[0.3333333333333333,\"#9c179e\"],[0.4444444444444444,\"#bd3786\"],[0.5555555555555556,\"#d8576b\"],[0.6666666666666666,\"#ed7953\"],[0.7777777777777778,\"#fb9f3a\"],[0.8888888888888888,\"#fdca26\"],[1.0,\"#f0f921\"]]},\"colorway\":[\"#636efa\",\"#EF553B\",\"#00cc96\",\"#ab63fa\",\"#FFA15A\",\"#19d3f3\",\"#FF6692\",\"#B6E880\",\"#FF97FF\",\"#FECB52\"],\"font\":{\"color\":\"#2a3f5f\"},\"geo\":{\"bgcolor\":\"white\",\"lakecolor\":\"white\",\"landcolor\":\"#E5ECF6\",\"showlakes\":true,\"showland\":true,\"subunitcolor\":\"white\"},\"hoverlabel\":{\"align\":\"left\"},\"hovermode\":\"closest\",\"mapbox\":{\"style\":\"light\"},\"paper_bgcolor\":\"white\",\"plot_bgcolor\":\"#E5ECF6\",\"polar\":{\"angularaxis\":{\"gridcolor\":\"white\",\"linecolor\":\"white\",\"ticks\":\"\"},\"bgcolor\":\"#E5ECF6\",\"radialaxis\":{\"gridcolor\":\"white\",\"linecolor\":\"white\",\"ticks\":\"\"}},\"scene\":{\"xaxis\":{\"backgroundcolor\":\"#E5ECF6\",\"gridcolor\":\"white\",\"gridwidth\":2,\"linecolor\":\"white\",\"showbackground\":true,\"ticks\":\"\",\"zerolinecolor\":\"white\"},\"yaxis\":{\"backgroundcolor\":\"#E5ECF6\",\"gridcolor\":\"white\",\"gridwidth\":2,\"linecolor\":\"white\",\"showbackground\":true,\"ticks\":\"\",\"zerolinecolor\":\"white\"},\"zaxis\":{\"backgroundcolor\":\"#E5ECF6\",\"gridcolor\":\"white\",\"gridwidth\":2,\"linecolor\":\"white\",\"showbackground\":true,\"ticks\":\"\",\"zerolinecolor\":\"white\"}},\"shapedefaults\":{\"line\":{\"color\":\"#2a3f5f\"}},\"ternary\":{\"aaxis\":{\"gridcolor\":\"white\",\"linecolor\":\"white\",\"ticks\":\"\"},\"baxis\":{\"gridcolor\":\"white\",\"linecolor\":\"white\",\"ticks\":\"\"},\"bgcolor\":\"#E5ECF6\",\"caxis\":{\"gridcolor\":\"white\",\"linecolor\":\"white\",\"ticks\":\"\"}},\"title\":{\"x\":0.05},\"xaxis\":{\"automargin\":true,\"gridcolor\":\"white\",\"linecolor\":\"white\",\"ticks\":\"\",\"title\":{\"standoff\":15},\"zerolinecolor\":\"white\",\"zerolinewidth\":2},\"yaxis\":{\"automargin\":true,\"gridcolor\":\"white\",\"linecolor\":\"white\",\"ticks\":\"\",\"title\":{\"standoff\":15},\"zerolinecolor\":\"white\",\"zerolinewidth\":2}}},\"title\":{\"text\":\"Histogram for delta_time\"},\"xaxis\":{\"anchor\":\"y\",\"domain\":[0.0,1.0],\"title\":{\"text\":\"level\"}},\"yaxis\":{\"anchor\":\"x\",\"domain\":[0.0,1.0],\"title\":{\"text\":\"delta_time\"}}},                        {\"responsive\": true}                    ).then(function(){\n",
              "                            \n",
              "var gd = document.getElementById('63c44a49-2b3c-42ed-ab75-08e9ecf47416');\n",
              "var x = new MutationObserver(function (mutations, observer) {{\n",
              "        var display = window.getComputedStyle(gd).display;\n",
              "        if (!display || display === 'none') {{\n",
              "            console.log([gd, 'removed!']);\n",
              "            Plotly.purge(gd);\n",
              "            observer.disconnect();\n",
              "        }}\n",
              "}});\n",
              "\n",
              "// Listen for the removal of the full notebook cells\n",
              "var notebookContainer = gd.closest('#notebook-container');\n",
              "if (notebookContainer) {{\n",
              "    x.observe(notebookContainer, {childList: true});\n",
              "}}\n",
              "\n",
              "// Listen for the clearing of the current output cell\n",
              "var outputEl = gd.closest('.output');\n",
              "if (outputEl) {{\n",
              "    x.observe(outputEl, {childList: true});\n",
              "}}\n",
              "\n",
              "                        })                };                            </script>        </div>\n",
              "</body>\n",
              "</html>"
            ]
          },
          "metadata": {}
        }
      ]
    },
    {
      "cell_type": "code",
      "metadata": {
        "colab": {
          "base_uri": "https://localhost:8080/",
          "height": 542
        },
        "id": "jPuhrpuc1NYK",
        "outputId": "0f3c88e9-4e1f-41fe-952d-d90c94298ffc"
      },
      "source": [
        "px.scatter(table_3, x=\"level\", y=\"delta_time\", color='churn', size_max=60)"
      ],
      "execution_count": null,
      "outputs": [
        {
          "output_type": "display_data",
          "data": {
            "text/html": [
              "<html>\n",
              "<head><meta charset=\"utf-8\" /></head>\n",
              "<body>\n",
              "    <div>            <script src=\"https://cdnjs.cloudflare.com/ajax/libs/mathjax/2.7.5/MathJax.js?config=TeX-AMS-MML_SVG\"></script><script type=\"text/javascript\">if (window.MathJax) {MathJax.Hub.Config({SVG: {font: \"STIX-Web\"}});}</script>                <script type=\"text/javascript\">window.PlotlyConfig = {MathJaxConfig: 'local'};</script>\n",
              "        <script src=\"https://cdn.plot.ly/plotly-2.3.1.min.js\"></script>                <div id=\"f0be9505-1b40-4cb1-b816-02e8e2faabef\" class=\"plotly-graph-div\" style=\"height:525px; width:100%;\"></div>            <script type=\"text/javascript\">                                    window.PLOTLYENV=window.PLOTLYENV || {};                                    if (document.getElementById(\"f0be9505-1b40-4cb1-b816-02e8e2faabef\")) {                    Plotly.newPlot(                        \"f0be9505-1b40-4cb1-b816-02e8e2faabef\",                        [{\"hovertemplate\":\"level=%{x}<br>delta_time=%{y}<br>churn=%{marker.color}<extra></extra>\",\"legendgroup\":\"\",\"marker\":{\"color\":[0,1,0,1,1,0,1,1,0,0,1,1,1,1,0,0,1,1,0,1,1,1,1,1,1,1,0,1,0,0,1,0,1,0,1,1,0,0,0,1,1,0,1,0,1,1,1,0,0,0,1,1,1,1,0,0,0,0,1,0,0,1,0,1,0,1,0,0,0,0,1,0,0,1,1,1,1,1,0,0,0,1,1,1,0,0,1,0,1,0,1,1,0,0,1,1,1,0,1,1,0,0,0,0,1,0,1,1,0,0,0,0,0,1,1,1,1,0,0,1,0,1,1,1,1,1,0,1,1,1,0,1,1,0,0,1,1,1,0,1,1,0,0,1,0,0,1,1,1,1,1,1,1,0,0,0,1,0,0,1,1,0,1,1,1,1,0,1,0,0,1,0,0,1,0,0,0,0,0,0,1,1,1,1,0,0,0,0,1,0,1,0,0,1,1,1,1,1,0,1,0,0,1,1,1,1,0,1,1,0,0,1,1,0,1,0,0,0,1,0,1,0,0,0,0,0,1,1,0,0,0,0,0,0,1,1,0,1,1,1,1,1,0,1,1,0,1,1,1,1,0,0,0,0,1,1,0,1,1,0,1,0,1,1,0,0,0,1,0,0,0,0,1,0,0,0,1,0,1,0,1,1,0,0,0,1,0,0,0,0,0,1,1,1,0,1,1,1,1,0,1,0,0,1,1,1,1,1,1,1,1,1,0,1,1,0,0,1,1,1,0,0,1,1,1,1,0,0,1,0,1,0,0,1,1,1,1,1,1,1,1,0,0,0,1,0,0,0,0,0,0,0,1,1,0,1,0,1,0,1,1,0,0,1,1,1,1,0,1,0,0,1,0,1,1,0,0,1,0,1,0,1,1,1,1,0,1,1,1,1,1,1,0,1,0,1,1,0,1,1,1,0,1,1,1,1,1,1,1,0,0,0,0,0,0,0,1,1,1,0,1,0,0,0,0,1,0,1,0,0,0,1,1,1,1,0,1,0,1,1,0,0,1,1,0,1,1,0,1,0,1,1,0,0,0,0,0,1,1,1,1,0,1,0,1,1,1,0,1,0,0,1,0,1,0,0,0,1,1,0,1,0,1,1,1,0,0,0,0,1,0,1,1,1,1,1,0,1,1,0,0,0,0,1,0,1,0,0,0,1,1,0,1,1,0,0,0,1,1,1,1,0,0,0,0,1,0,1,1,1,1,1,1,1,1,1,1,0,1,1,1,1,1,0,1,0,0,1,1,0,1,1,1,1,1,1,0,0,1,1,1,0,1,1,1,1,1,1,0,1,0,0,1,1,0,1,0,1,1,1,1,1,0,0,1,0,0,1,0,0,0,0,1,0,1,0,0,1,0,0,1,0,0,0,0,0,1,1,0,1,1,0,1,0,1,0,0,0,0,0,0,1,0,1,0,0,1,0,0,1,1,1,1,0,0,1,0,1,0,0,0,0,0,1,0,1,1,1,1,0,0,1,0,1,0,1,1,1,1,0,0,1,0,1,0,1,0,0,0,0,0,1,1,1,1,0,0,1,0,1,1,1,1,0,1,1,1,1,1,0,1,0,1,1,1,0,1,0,1,1,1,1,0,1,1,1,0,1,0,1,1,0,0,1,0,1,0,1,0,0,1,1,0,0,1,1,1,1,0,1,0,0,0,0,0,0,0,0,1,0,1,1,0,0,0,1,0,1,0,1,0,0,1,0,1,1,0,1,0,1,0,1,1,0,1,1,0,1,0,1,1,1,0,0,1,0,1,1,1,1,1,1,1,1,1,1,0,1,0,0,1,1,1,1,1,0,1,1,1,1,0,0,0,1,0,0,0,0,0,1,0,0,1,1,1,0,1,1,1,1,0,1,1,1,1,1,1,0,1,0,0,0,1,1,0,1,0,0,1,0,0,1,0,0,1,0,1,0,1,1,1,0,0,1,0,0,1,0,0,1,1,0,1,1,0,1,1,0,1,0,1,0,0,0,0,1,1,0,1,1,1,1,0,1,1,1,0,1,1,0,0,1,0,0,0,1,0,0,1,1,1,0,1,1,1,0,0,1,0,0,1,1,1,1,1,1,0,1,0,0,0,1,0,0,0,1,1,1,0,0,0,1,1,0,1,0,0,1,0,0,0,0,1,1,0,1,1,0,0,1,1,1,1,1,1,0,0,1,0,0,0,1,1,0,1,0,0,1,0,1,1,0,1,1,1,0,0,1,0,0,0,1,1,1,1,1,1,0,1,1,1,1,0,0,0,1,0,1,1,1,1,1,0,1,1,1,1,0,1,1,1,1,1,0,1,0,1,0,0,0,1,1,1,1,1,0,1,1,0,1,1,1,1,1,1,1,1,1,1,1,1,1,0,0,1,1,0,1,1,0,0,1,1,0,1,0,0,1,1,0,0,0,1,1,1,1,0,0,0,0,1,1,0,1,0,1,0,1,1,0,0,0,1,1,0,1,0,0,1,0,0,0,1,0,1,0,1,0,0,1,1,1,0,0,1,1,1,0,0,1,1,0,1,0,0,1,1,1,0,0,0,1,1,1,0,0,0,0,1,1,0,1,0,0,1,1,1,1,1,0,1,0,1,0,1,0,0,1,1,1,0,1,1,0,1,0,1,1,0,1,1,0,0,1,0,0,1,0,1,0,0,0,0,1,0,1,0,1,1,0,1,1,0,1,1,1,0,1,0,0,1,1,0,1,0,1,1,0,0,1,1,1,1,1,0,0,0,0,0,0,1,0,1,0,1,0,0,1,0,0,1,0,0,1,0,1,1,0,1,1,1,0,1,1,0,1,1,0,1,0,0,0,1,1,0,0,0,0,1,0,1,0,1,1,1,0,1,0,1,0,0,0,0,1,0,1,1,1,1,0,0,0,1,0,0,0,1,1,1,1,0,0,1,1,1,1,0,0,1,1,0,1,1,1,1,0,0,1,1,1,0,1,0,0,1,0,0,0,0,0,1,0,1,0,0,0,1,1,1,1,0,0,1,0,1,1,1,1,0,1,0,0,0,0,1,0,1,0,0,1,0,1,0,1,1,1,0,0,1,0,0,0,0,1,0,1,1,0,1,0,1,1,0,0,0,0,0,1,0,1,1,0,0,0,1,0,1,0,0,0,1,0,0,1,1,0,1,0,0,1,1,0,1,1,0,1,0,0,0,1,0,0,1,0,0,1,0,0,1,1,0,1,0,1,0,1,0,0,0,1,0,1,0,0,1,1,1,0,0,1,1,1,0,1,0,1,0,0,1,0,0,1,1,0,1,1,1,0,1,0,1,0,1,0,0,0,1,0,0,1,0,1,1,0,0,0,0,0,1,0,1,0,0,0,0,1,0,1,0,0,0,0,1,0,0,1,1,1,0,1,1,1,0,1,1,0,0,0,1,0,1,0,0,1,1,1,0,1,1,1,1,0,0,1,0,0,1,1,0,1,0,0,1,0,1,0,1,0,0,0,1,0,1,1,1,1,0,0,1,1,0,1,0,1,1,1,1,0,1,1,1,0,0,0,0,1,0,1,0,0,0,1,1,1,1,1,1,1,0,0,1,1,0,0,0,1,1,1,1,1,1,0,1,0,0,1,1,1,1,0,1,0,0,1,1,0,0,1,1,1,0,1,0,1,0,1,1,1,0,0,1,1,1,1,1,0,0,0,1,0,1,1,1,1,0,1,0,1,1,1,0,1,1,1,1,1,0,1,0,0,1,0,0,1,1,1,1,0,0,0,1,1,0,0,1,0,1,0,1,0,0,1,0,0,0,1,0,1,0,1,0,0,1,0,1,1,0,1,0,1,0,0,0,0,1,0,1,0,1,1,0,1,1,1,1,0,0,0,1,0,1,0,1,1,1,0,0,1,1,1,0,1,1,1,1,1,1,0,0,1,0,0,0,0,0,0,0,0,0,1,1,0,1,1,1,0,1,1,1,1,1,1,1,0,0,0,0,0,1,1,0,0,1,0,1,0,0,1,0,1,1,0,1,0,0,1,0,1,1,0,0,1,1,1,0,0,0,0,0,0,0,0,0,1,1,0,1,1,0,1,1,1,1,1,0,0,1,1,1,0,1,1,0,0,0,1,0,1,1,0,1,0,1,1,0,0,1,1,0,0,1,1,0,1,1,1,1,1,1,0,0,0,0,0,0,1,0,0,1,1,0,0,1,1,0,0,1,0,1,0,1,0,0,1,1,1,0,1,0,1,1,0,1,1,1,0,1,1,0,0,1,1,1,1,1,1,1,1,1,0,0,1,1,1,0,1,0,0,0,0,0,0,0,1,1,1,1,1,1,1,1,1,0,0,1,1,1,1,0,1,1,1,1,0,1,1,1,0,1,0,1,1,1,1,0,1,1,1,0,0,0,1,0,1,1,1,1,1,0,1,1,1,0,0,0,0,0,1,0,1,0,0,1,1,1,1,1,1,0,1,0,0,0,1,0,1,1,1,0,1,1,1,0,1,1,0,0,1,1,0,1,0,0,0,0,1,0,1,0,1,1,0,1,1,1,1,1,1,1,0,0,1,0,1,0,1,1,1,1,0,0,0,1,1,1,1,0,0,0,1,0,0,0,1,0,1,1,1,1,1,0,1,0,1,0,1,0,1,1,1,1,0,0,1,1,1,1,1,0,0,1,0,1,1,1,0,1,0,0,0,0,1,1,1,1,0,1,0,0,0,0,0,0,0,1,1,1,0,1,0,0,1,0,1,1,0,1,1,0,0,0,0,0,1,0,0,0,0,0,0,1,0,0,0,0,1,1,0,1,0,0,1,0,0,1,1,1,1,0,0,1,0,1,0,1,0,1,0,1,0,0,0,0,1,0,0,0,0,1,0,1,0,0,0,1,0,1,0,1,1,1,1,0,1,1,1,1,1,0,0,1,1,1,0,0,0,0,1,1,1,0,0,0,0,0,1,0,0,1,0,1,0,0,1,1,0,0,0,0,0,1,0,1,0,0,1,0,1,0,1,1,1,0,1,0,1,0,0,0,0,0,1,1,1,1,1,0,1,1,0,1,0,1,0,1,1,0,1,0,0,0,1,1,0,0,0,1,1,1,1,0,1,1,0,1,1,1,1,1,1,0,1,0,0,1,1,1,1,0,0,1,1,1,1,1,0,1,0,1,1,1,1,0,1,0,1,0,1,1,1,0,1,0,1,1,1,0,1,1,0,1,1,1,1,1,1,0,1,1,0,1,1,1,0,1,0,0,0,1,0,1,1,1,0,1,0,1,0,1,1,0,0,0,0,1,1,1,1,0,1,1,0,1,1,1,0,0,1,1,0,0,1,1,1,1,0,1,1,0,1,1,0,0,1,0,0,1,0,0,1,0,1,1,1,1,1,1,1,0,0,1,0,1,0,1,0,0,1,1,0,1,0,0,0,1,0,0,0,1,0,0,1,1,1,1,1,0,1,1,1,0,0,1,0,0,0,1,0,1,0,1,1,0,0,0,1,0,0,1,0,0,0,1,0,1,0,0,1,0,1,0,1,0,0,0,1,0,1,1,0,1,0,0,1,0,1,0,1,0,0,1,1,1,0,0,0,1,0,1,1,1,0,0,0,0,0,0,0,1,0,1,0,1,1,0,0,0,0,1,0,0,1,0,1,0,1,0,1,1,1,1,1,1,0,0,0,0,0,0,0,0,1,0,1,1,1,1,0,0,0,0,1,1,1,1,0,1,0,0,0,1,0,0,1,1,0,0,1,0,0,0,0,0,0,1,1,0,0,1,1,0,0,0,1,1,0,1,1,1,1,1,0,1,1,0,1,1,0,1,1,0,1,0,0,1,0,0,1,0,1,0,1,1,0,0,0,1,0,1,1,0,1,1,1,1,1,1,1,1,1,1,0,1,0,1,0,1,1,0,0,1,1,0,1,1,1,1,1,1,0,0,0,1,1,1,0,1,1,1,0,1,1,0,0,0,1,1,1,0,0,1,0,0,0,1,0,1,1,0,1,1,0,1,1,0,1,0,1,1,0,1,1,0,0,1,1,0,1,1,1,0,0,0,0,1,1,0,1,1,1,1,0,0,0,0,0,0,0,0,0,1,0,1,0,1,1],\"coloraxis\":\"coloraxis\",\"symbol\":\"circle\"},\"mode\":\"markers\",\"name\":\"\",\"showlegend\":false,\"type\":\"scattergl\",\"x\":[5.0,44.0,4.0,58.0,4.0,2.0,19.0,28.0,11.0,5.0,5.0,19.0,20.0,25.0,13.0,3.0,4.0,16.0,13.0,35.0,20.0,23.0,29.0,21.0,41.0,41.0,22.0,19.0,1.0,9.0,16.0,3.0,22.0,2.0,25.0,40.0,9.0,39.0,6.0,15.0,15.0,3.0,40.0,10.0,15.0,28.0,29.0,9.0,28.0,11.0,37.0,6.0,20.0,8.0,16.0,12.0,1.0,3.0,23.0,14.0,3.0,9.0,13.0,16.0,7.0,20.0,4.0,10.0,6.0,3.0,32.0,2.0,14.0,46.0,7.0,17.0,29.0,25.0,3.0,1.0,18.0,16.0,9.0,39.0,15.0,11.0,28.0,1.0,16.0,8.0,13.0,23.0,14.0,6.0,22.0,24.0,43.0,26.0,47.0,20.0,6.0,2.0,1.0,10.0,41.0,6.0,1.0,3.0,5.0,4.0,3.0,31.0,6.0,49.0,26.0,15.0,31.0,23.0,10.0,37.0,6.0,21.0,9.0,7.0,32.0,43.0,17.0,11.0,11.0,2.0,28.0,6.0,5.0,2.0,14.0,41.0,14.0,37.0,6.0,37.0,31.0,1.0,1.0,39.0,7.0,11.0,14.0,26.0,15.0,23.0,31.0,40.0,3.0,30.0,6.0,32.0,10.0,15.0,20.0,16.0,15.0,4.0,28.0,15.0,14.0,9.0,10.0,37.0,2.0,22.0,31.0,19.0,7.0,8.0,40.0,4.0,6.0,2.0,8.0,43.0,1.0,22.0,4.0,16.0,50.0,12.0,11.0,16.0,33.0,1.0,43.0,8.0,20.0,27.0,37.0,39.0,20.0,15.0,9.0,46.0,22.0,18.0,2.0,3.0,17.0,10.0,3.0,7.0,14.0,1.0,14.0,33.0,29.0,4.0,25.0,14.0,11.0,14.0,27.0,8.0,33.0,6.0,1.0,14.0,14.0,2.0,15.0,25.0,24.0,2.0,1.0,7.0,9.0,31.0,32.0,29.0,9.0,29.0,90.0,19.0,16.0,14.0,22.0,10.0,29.0,4.0,3.0,16.0,16.0,2.0,17.0,4.0,15.0,7.0,28.0,27.0,5.0,61.0,43.0,1.0,15.0,6.0,20.0,46.0,1.0,2.0,1.0,39.0,15.0,2.0,14.0,9.0,23.0,19.0,13.0,28.0,15.0,3.0,15.0,9.0,31.0,31.0,10.0,17.0,6.0,50.0,10.0,6.0,1.0,15.0,28.0,50.0,14.0,7.0,47.0,40.0,27.0,15.0,19.0,36.0,7.0,1.0,4.0,27.0,29.0,1.0,28.0,35.0,17.0,15.0,14.0,27.0,9.0,7.0,2.0,15.0,16.0,10.0,31.0,17.0,1.0,23.0,54.0,30.0,28.0,33.0,2.0,2.0,4.0,8.0,39.0,10.0,4.0,13.0,17.0,29.0,25.0,6.0,24.0,38.0,72.0,27.0,4.0,13.0,30.0,7.0,4.0,15.0,6.0,1.0,15.0,17.0,13.0,50.0,1.0,25.0,13.0,53.0,5.0,2.0,16.0,1.0,15.0,11.0,5.0,2.0,25.0,4.0,51.0,9.0,2.0,39.0,1.0,30.0,17.0,3.0,9.0,54.0,11.0,33.0,16.0,11.0,26.0,31.0,11.0,11.0,20.0,13.0,27.0,21.0,11.0,44.0,17.0,40.0,10.0,4.0,29.0,2.0,15.0,1.0,27.0,5.0,27.0,15.0,23.0,19.0,29.0,23.0,5.0,4.0,11.0,16.0,1.0,3.0,28.0,27.0,23.0,49.0,38.0,1.0,41.0,28.0,11.0,15.0,1.0,37.0,8.0,29.0,1.0,3.0,19.0,43.0,54.0,9.0,10.0,15.0,48.0,14.0,50.0,14.0,11.0,19.0,11.0,61.0,19.0,38.0,9.0,11.0,19.0,1.0,32.0,12.0,2.0,15.0,31.0,20.0,5.0,23.0,15.0,20.0,18.0,14.0,33.0,17.0,41.0,16.0,28.0,15.0,52.0,26.0,6.0,24.0,10.0,15.0,6.0,26.0,2.0,40.0,27.0,16.0,52.0,5.0,16.0,31.0,39.0,3.0,3.0,1.0,9.0,11.0,20.0,25.0,26.0,20.0,8.0,10.0,5.0,29.0,3.0,11.0,11.0,5.0,15.0,2.0,11.0,50.0,16.0,11.0,4.0,77.0,29.0,26.0,46.0,6.0,1.0,16.0,1.0,6.0,33.0,32.0,13.0,2.0,14.0,41.0,9.0,46.0,4.0,9.0,22.0,11.0,60.0,49.0,29.0,46.0,46.0,23.0,46.0,4.0,25.0,5.0,14.0,13.0,2.0,2.0,30.0,2.0,11.0,51.0,2.0,21.0,29.0,9.0,7.0,31.0,35.0,15.0,1.0,1.0,31.0,46.0,19.0,14.0,54.0,28.0,12.0,33.0,17.0,31.0,4.0,27.0,14.0,1.0,1.0,47.0,7.0,18.0,22.0,7.0,15.0,8.0,29.0,23.0,15.0,28.0,37.0,7.0,11.0,33.0,49.0,14.0,14.0,2.0,29.0,1.0,32.0,22.0,6.0,16.0,9.0,5.0,10.0,5.0,15.0,4.0,28.0,4.0,38.0,23.0,9.0,40.0,16.0,5.0,26.0,2.0,4.0,1.0,30.0,16.0,6.0,5.0,1.0,1.0,7.0,49.0,5.0,40.0,16.0,15.0,14.0,19.0,50.0,36.0,9.0,15.0,1.0,20.0,1.0,27.0,22.0,1.0,3.0,10.0,2.0,20.0,52.0,10.0,12.0,23.0,18.0,35.0,4.0,49.0,3.0,14.0,17.0,2.0,43.0,3.0,44.0,10.0,6.0,34.0,12.0,16.0,36.0,4.0,14.0,36.0,3.0,3.0,16.0,11.0,14.0,45.0,44.0,28.0,1.0,15.0,14.0,23.0,1.0,60.0,23.0,7.0,1.0,40.0,33.0,22.0,29.0,4.0,20.0,1.0,41.0,40.0,46.0,22.0,9.0,3.0,32.0,14.0,54.0,33.0,13.0,24.0,1.0,10.0,9.0,6.0,15.0,48.0,21.0,11.0,24.0,11.0,7.0,50.0,21.0,20.0,18.0,1.0,29.0,21.0,9.0,1.0,83.0,9.0,32.0,14.0,1.0,16.0,3.0,1.0,1.0,30.0,15.0,7.0,49.0,1.0,6.0,2.0,53.0,8.0,28.0,3.0,15.0,14.0,13.0,19.0,6.0,17.0,3.0,10.0,21.0,3.0,77.0,33.0,14.0,5.0,18.0,9.0,24.0,1.0,37.0,2.0,15.0,2.0,4.0,37.0,19.0,38.0,32.0,20.0,5.0,19.0,15.0,1.0,19.0,15.0,31.0,47.0,18.0,46.0,9.0,40.0,40.0,24.0,9.0,10.0,12.0,14.0,7.0,20.0,31.0,40.0,28.0,4.0,74.0,29.0,6.0,9.0,19.0,10.0,10.0,25.0,2.0,1.0,8.0,2.0,10.0,32.0,3.0,2.0,18.0,60.0,22.0,25.0,6.0,28.0,11.0,41.0,1.0,45.0,22.0,1.0,7.0,23.0,2.0,38.0,61.0,4.0,22.0,3.0,75.0,28.0,3.0,2.0,10.0,19.0,9.0,13.0,16.0,60.0,19.0,4.0,14.0,7.0,9.0,15.0,14.0,29.0,9.0,34.0,19.0,6.0,19.0,15.0,29.0,1.0,2.0,49.0,29.0,9.0,25.0,37.0,1.0,50.0,64.0,10.0,29.0,10.0,15.0,9.0,6.0,3.0,11.0,9.0,24.0,9.0,8.0,26.0,29.0,29.0,18.0,61.0,25.0,10.0,13.0,8.0,44.0,7.0,2.0,5.0,1.0,50.0,25.0,36.0,10.0,14.0,46.0,76.0,14.0,15.0,8.0,4.0,33.0,5.0,1.0,20.0,1.0,1.0,10.0,41.0,8.0,23.0,17.0,1.0,1.0,18.0,15.0,3.0,6.0,16.0,3.0,32.0,7.0,10.0,24.0,5.0,3.0,3.0,6.0,19.0,2.0,7.0,48.0,30.0,3.0,25.0,28.0,13.0,10.0,1.0,21.0,29.0,13.0,44.0,17.0,3.0,3.0,49.0,9.0,49.0,23.0,16.0,15.0,6.0,2.0,20.0,3.0,2.0,4.0,9.0,41.0,7.0,46.0,1.0,15.0,9.0,28.0,11.0,4.0,10.0,31.0,20.0,27.0,35.0,2.0,14.0,16.0,10.0,1.0,27.0,22.0,17.0,29.0,6.0,16.0,3.0,29.0,25.0,26.0,3.0,28.0,5.0,4.0,22.0,9.0,5.0,14.0,25.0,43.0,16.0,36.0,21.0,11.0,29.0,17.0,15.0,15.0,4.0,52.0,14.0,7.0,1.0,12.0,37.0,15.0,19.0,2.0,2.0,29.0,22.0,34.0,44.0,2.0,13.0,14.0,5.0,20.0,15.0,33.0,103.0,29.0,13.0,23.0,53.0,13.0,12.0,14.0,47.0,1.0,1.0,6.0,2.0,41.0,9.0,57.0,49.0,5.0,9.0,2.0,10.0,15.0,15.0,20.0,2.0,20.0,10.0,4.0,5.0,28.0,15.0,22.0,43.0,39.0,31.0,5.0,30.0,14.0,13.0,1.0,3.0,6.0,16.0,1.0,35.0,23.0,37.0,32.0,9.0,4.0,14.0,47.0,10.0,23.0,5.0,5.0,8.0,13.0,14.0,21.0,24.0,27.0,4.0,5.0,13.0,5.0,1.0,15.0,52.0,68.0,50.0,7.0,38.0,42.0,31.0,16.0,1.0,17.0,38.0,27.0,28.0,28.0,7.0,13.0,61.0,17.0,26.0,6.0,26.0,1.0,44.0,20.0,25.0,2.0,14.0,2.0,5.0,49.0,29.0,14.0,4.0,3.0,12.0,5.0,38.0,29.0,31.0,32.0,15.0,21.0,14.0,29.0,32.0,29.0,39.0,15.0,46.0,27.0,14.0,22.0,14.0,6.0,8.0,6.0,6.0,10.0,7.0,2.0,33.0,36.0,2.0,12.0,20.0,19.0,1.0,16.0,6.0,22.0,5.0,4.0,19.0,39.0,22.0,2.0,19.0,12.0,40.0,49.0,1.0,32.0,3.0,16.0,13.0,2.0,50.0,28.0,12.0,3.0,36.0,50.0,27.0,1.0,15.0,19.0,23.0,10.0,9.0,5.0,58.0,57.0,31.0,19.0,13.0,9.0,4.0,4.0,4.0,14.0,1.0,7.0,3.0,39.0,6.0,31.0,11.0,3.0,6.0,2.0,12.0,23.0,3.0,2.0,31.0,4.0,32.0,19.0,13.0,43.0,33.0,2.0,3.0,16.0,16.0,9.0,8.0,12.0,40.0,20.0,4.0,3.0,4.0,23.0,3.0,11.0,21.0,24.0,36.0,21.0,25.0,27.0,4.0,6.0,27.0,16.0,6.0,37.0,4.0,16.0,10.0,2.0,15.0,1.0,49.0,36.0,22.0,13.0,37.0,29.0,5.0,2.0,9.0,15.0,32.0,14.0,5.0,44.0,25.0,9.0,32.0,17.0,3.0,16.0,37.0,43.0,16.0,5.0,12.0,6.0,23.0,46.0,29.0,8.0,49.0,44.0,4.0,1.0,47.0,33.0,3.0,6.0,28.0,5.0,10.0,29.0,4.0,8.0,5.0,14.0,9.0,27.0,14.0,5.0,2.0,5.0,7.0,32.0,11.0,30.0,20.0,16.0,8.0,47.0,17.0,15.0,35.0,15.0,13.0,22.0,48.0,10.0,2.0,1.0,13.0,15.0,31.0,10.0,6.0,4.0,21.0,13.0,27.0,15.0,14.0,24.0,5.0,14.0,14.0,4.0,4.0,13.0,2.0,4.0,18.0,5.0,2.0,17.0,23.0,28.0,26.0,29.0,72.0,1.0,15.0,14.0,2.0,2.0,5.0,14.0,16.0,67.0,1.0,2.0,11.0,17.0,7.0,1.0,27.0,9.0,16.0,31.0,16.0,13.0,33.0,46.0,5.0,13.0,28.0,7.0,54.0,7.0,6.0,22.0,44.0,7.0,12.0,2.0,2.0,14.0,39.0,1.0,1.0,50.0,2.0,11.0,15.0,28.0,15.0,1.0,29.0,7.0,28.0,4.0,33.0,10.0,46.0,12.0,1.0,8.0,24.0,2.0,59.0,9.0,11.0,2.0,47.0,37.0,14.0,1.0,20.0,38.0,29.0,5.0,36.0,4.0,35.0,46.0,22.0,48.0,22.0,14.0,7.0,11.0,6.0,46.0,9.0,29.0,13.0,14.0,1.0,8.0,20.0,27.0,12.0,22.0,1.0,5.0,2.0,26.0,21.0,11.0,8.0,43.0,14.0,28.0,1.0,10.0,16.0,41.0,1.0,15.0,40.0,41.0,1.0,1.0,23.0,2.0,18.0,9.0,7.0,22.0,4.0,7.0,5.0,4.0,15.0,44.0,28.0,4.0,29.0,23.0,11.0,1.0,32.0,68.0,13.0,2.0,1.0,17.0,28.0,14.0,15.0,21.0,24.0,16.0,39.0,14.0,15.0,14.0,37.0,6.0,10.0,1.0,27.0,2.0,10.0,44.0,12.0,1.0,29.0,22.0,12.0,16.0,9.0,31.0,11.0,19.0,5.0,9.0,7.0,29.0,2.0,5.0,22.0,41.0,1.0,8.0,7.0,5.0,17.0,1.0,9.0,22.0,17.0,8.0,33.0,5.0,7.0,23.0,15.0,28.0,14.0,24.0,2.0,37.0,20.0,14.0,15.0,18.0,5.0,8.0,19.0,17.0,24.0,47.0,28.0,40.0,21.0,8.0,4.0,27.0,15.0,1.0,10.0,3.0,32.0,13.0,25.0,49.0,14.0,52.0,10.0,24.0,3.0,9.0,37.0,29.0,5.0,41.0,9.0,6.0,29.0,13.0,38.0,37.0,1.0,4.0,8.0,27.0,21.0,1.0,11.0,22.0,41.0,26.0,18.0,15.0,50.0,7.0,10.0,29.0,1.0,9.0,9.0,15.0,3.0,13.0,2.0,40.0,45.0,47.0,32.0,41.0,9.0,16.0,47.0,5.0,22.0,4.0,30.0,15.0,14.0,29.0,4.0,48.0,14.0,15.0,29.0,4.0,5.0,22.0,3.0,19.0,16.0,61.0,38.0,41.0,1.0,8.0,9.0,11.0,6.0,8.0,1.0,4.0,1.0,34.0,5.0,49.0,2.0,1.0,32.0,26.0,1.0,1.0,7.0,3.0,29.0,38.0,31.0,17.0,19.0,15.0,10.0,3.0,11.0,3.0,15.0,36.0,16.0,3.0,15.0,15.0,3.0,16.0,11.0,34.0,10.0,17.0,29.0,10.0,14.0,51.0,16.0,12.0,15.0,4.0,4.0,16.0,4.0,64.0,22.0,10.0,27.0,29.0,8.0,3.0,4.0,32.0,42.0,10.0,29.0,22.0,15.0,9.0,33.0,29.0,6.0,1.0,15.0,15.0,19.0,5.0,38.0,17.0,18.0,28.0,20.0,10.0,8.0,24.0,2.0,20.0,28.0,22.0,2.0,10.0,40.0,20.0,69.0,31.0,28.0,31.0,22.0,39.0,14.0,1.0,5.0,34.0,19.0,1.0,3.0,37.0,4.0,15.0,14.0,21.0,15.0,9.0,15.0,43.0,10.0,42.0,15.0,11.0,23.0,7.0,9.0,33.0,3.0,1.0,57.0,36.0,13.0,3.0,14.0,11.0,15.0,5.0,32.0,19.0,19.0,10.0,15.0,16.0,9.0,23.0,4.0,1.0,50.0,26.0,29.0,32.0,41.0,1.0,11.0,44.0,17.0,10.0,14.0,11.0,38.0,1.0,7.0,15.0,14.0,11.0,15.0,11.0,27.0,39.0,2.0,50.0,1.0,8.0,19.0,29.0,3.0,1.0,5.0,33.0,41.0,13.0,32.0,5.0,29.0,9.0,37.0,15.0,10.0,1.0,14.0,6.0,49.0,12.0,11.0,7.0,27.0,17.0,27.0,2.0,7.0,13.0,5.0,3.0,15.0,14.0,3.0,29.0,11.0,5.0,10.0,7.0,12.0,9.0,12.0,27.0,13.0,14.0,4.0,5.0,16.0,50.0,12.0,11.0,15.0,25.0,22.0,12.0,14.0,44.0,29.0,29.0,2.0,7.0,8.0,5.0,33.0,20.0,13.0,12.0,19.0,54.0,12.0,11.0,23.0,7.0,2.0,2.0,14.0,9.0,24.0,5.0,3.0,49.0,46.0,16.0,20.0,23.0,16.0,14.0,25.0,7.0,6.0,33.0,39.0,16.0,25.0,11.0,60.0,32.0,29.0,13.0,16.0,48.0,25.0,50.0,1.0,23.0,15.0,9.0,41.0,20.0,16.0,5.0,4.0,15.0,37.0,5.0,1.0,11.0,16.0,6.0,64.0,11.0,33.0,33.0,10.0,4.0,23.0,35.0,30.0,7.0,19.0,9.0,14.0,19.0,25.0,12.0,25.0,1.0,2.0,27.0,10.0,23.0,31.0,32.0,62.0,16.0,16.0,15.0,2.0,10.0,15.0,18.0,32.0,12.0,29.0,5.0,29.0,3.0,13.0,12.0,39.0,27.0,2.0,15.0,23.0,28.0,31.0,32.0,7.0,13.0,19.0,15.0,2.0,6.0,3.0,2.0,18.0,5.0,6.0,32.0,19.0,16.0,35.0,48.0,30.0,42.0,2.0,6.0,33.0,14.0,67.0,5.0,10.0,13.0,1.0,29.0,1.0,7.0,14.0,1.0,6.0,29.0,58.0,5.0,22.0,2.0,17.0,3.0,3.0,25.0,26.0,12.0,15.0,12.0,7.0,46.0,28.0,25.0,50.0,3.0,13.0,15.0,10.0,1.0,47.0,50.0,4.0,10.0,7.0,18.0,47.0,8.0,29.0,44.0,12.0,1.0,14.0,7.0,22.0,48.0,50.0,49.0,3.0,17.0,9.0,22.0,1.0,19.0,10.0,20.0,41.0,23.0,4.0,16.0,16.0,14.0,1.0,23.0,40.0,19.0,7.0,15.0,41.0,18.0,2.0,25.0,19.0,4.0,8.0,16.0,1.0,22.0,1.0,2.0,23.0,3.0,5.0,14.0,57.0,2.0,29.0,14.0,23.0,7.0,17.0,19.0,2.0,19.0,14.0,51.0,3.0,8.0,34.0,29.0,6.0,24.0,8.0,2.0,31.0,4.0,2.0,2.0,5.0,5.0,29.0,2.0,1.0,27.0,32.0,29.0,13.0,31.0,1.0,33.0,18.0,23.0,7.0,5.0,1.0,46.0,12.0,2.0,23.0,7.0,2.0,17.0,1.0,14.0,6.0,2.0,8.0,34.0,15.0,22.0,4.0,20.0,20.0,15.0,10.0,6.0,27.0,29.0,16.0,10.0,54.0,3.0,54.0,29.0,27.0,40.0,1.0,15.0,6.0,10.0,32.0,25.0,54.0,5.0,4.0,6.0,1.0,8.0,11.0,5.0,7.0,32.0,22.0,40.0,6.0,15.0,29.0,13.0,4.0,2.0,7.0,22.0,35.0,26.0,10.0,50.0,5.0,14.0,29.0,18.0,2.0,15.0,46.0,8.0,1.0,14.0,49.0,11.0,39.0,28.0,14.0,2.0,2.0,2.0,15.0,5.0,9.0,32.0,28.0,1.0,26.0,21.0,7.0,16.0,19.0,2.0,21.0,19.0,36.0,5.0,15.0,3.0,14.0,15.0,37.0,46.0,1.0,14.0,5.0,41.0,4.0,29.0,14.0,10.0,48.0,10.0,2.0,10.0,3.0,50.0,16.0,31.0,22.0,14.0,13.0,1.0,3.0,33.0,29.0,1.0,32.0,14.0,7.0,27.0,21.0,15.0,8.0,17.0,10.0,29.0,18.0,49.0,11.0,2.0,17.0,16.0,21.0,7.0,21.0,2.0,27.0,15.0,35.0,2.0,33.0,1.0,20.0,9.0,15.0,15.0,15.0,10.0,18.0,14.0,37.0,41.0,40.0,32.0,16.0,2.0,10.0,20.0,5.0,24.0,38.0,20.0,4.0,24.0,2.0,22.0,6.0,25.0,26.0,6.0,15.0,32.0,14.0,7.0,4.0,16.0,16.0,30.0,19.0,9.0,22.0,19.0,26.0,50.0,14.0,42.0,46.0,28.0,23.0,23.0,4.0,65.0,20.0,60.0,22.0,2.0,18.0,2.0,12.0,10.0,29.0,34.0,11.0,2.0,18.0,8.0,39.0,18.0,3.0,50.0,13.0,3.0,20.0,5.0,2.0,33.0,1.0,16.0,15.0,11.0,43.0,13.0,15.0,8.0,16.0,16.0,20.0,14.0,12.0,12.0,3.0,33.0,5.0,3.0,21.0,17.0,44.0,9.0,1.0,39.0,3.0,7.0,25.0,23.0,13.0,19.0,1.0,17.0,37.0,8.0,16.0,39.0,58.0,48.0,11.0,5.0,52.0,29.0,12.0,39.0,11.0,43.0,4.0,4.0,12.0,13.0,14.0,33.0,14.0,73.0,31.0,1.0,9.0,3.0,16.0,16.0,12.0,29.0,5.0,3.0,43.0,19.0,20.0,25.0,4.0,1.0,23.0,10.0,6.0,3.0,47.0,28.0,14.0,14.0,26.0,15.0,20.0,28.0,14.0,47.0,2.0,34.0,32.0,12.0,15.0,17.0,46.0,6.0,5.0,80.0,23.0,10.0,4.0,4.0,14.0,33.0,12.0,41.0,12.0,32.0,6.0,5.0,14.0,1.0,28.0,1.0,2.0,12.0,18.0,31.0,2.0,10.0,16.0,2.0,9.0,7.0,2.0,17.0,3.0,9.0,11.0,1.0,7.0,2.0,13.0,14.0,8.0,33.0,48.0,3.0,45.0,15.0,10.0,1.0,1.0,3.0,2.0,28.0,1.0,6.0,1.0,23.0,5.0,29.0,22.0,39.0,28.0,4.0,8.0,13.0,5.0,20.0,4.0,31.0,7.0,29.0,11.0,24.0,13.0,37.0,31.0,21.0,22.0,9.0,1.0,9.0,16.0,14.0,15.0,26.0,7.0,5.0,4.0,16.0,23.0,4.0,5.0,17.0,8.0,40.0,2.0,1.0,1.0,68.0,22.0,25.0,29.0,10.0,42.0,12.0,2.0,16.0,44.0,10.0,39.0,15.0,1.0,37.0,23.0,2.0,19.0,31.0,10.0,19.0,15.0,1.0,23.0,2.0,46.0,10.0,23.0,40.0,9.0,1.0,9.0,22.0,23.0,26.0,33.0,6.0,28.0,46.0,23.0,16.0,18.0,39.0,38.0,22.0,23.0,10.0,9.0,57.0,2.0,15.0,18.0,27.0,18.0,8.0,13.0,27.0,19.0,15.0,47.0,60.0,33.0,12.0,6.0,24.0,3.0,5.0,13.0,32.0,11.0,41.0,8.0,6.0,2.0,53.0,13.0,50.0,21.0,1.0,9.0,2.0,5.0,23.0,29.0,15.0,1.0,15.0,18.0,11.0,1.0,11.0,2.0,37.0,15.0,1.0,32.0,9.0,8.0,39.0,16.0,2.0,41.0,16.0,5.0,46.0,18.0,19.0,29.0,3.0,1.0,48.0,37.0,5.0,23.0,1.0,49.0,1.0,5.0,3.0,1.0,24.0,11.0,9.0,26.0,15.0,12.0,12.0,10.0,7.0,3.0,1.0,12.0,6.0,2.0,3.0,16.0,23.0,12.0,25.0,4.0,5.0,16.0],\"xaxis\":\"x\",\"y\":[4.216666666666667,360.75000000000006,4.233333333333333,473.8500000000004,5.083333333333334,6.016666666666667,40.166666666666664,136.60000000000002,13.55,5.1,4.166666666666667,38.09999999999999,136.15000000000003,41.06666666666666,51.66666666666667,3.183333333333333,4.333333333333333,45.900000000000006,1546.8499999999997,167.85000000000016,664.5,139.74999999999994,149.1999999999999,89.15000000000003,203.90000000000012,292.2000000000001,84.10000000000001,304.3,2.1166666666666667,10.233333333333334,2037.1999999999998,5.433333333333334,1091.9500000000014,3.1166666666666667,172.35000000000002,4461.65,24.366666666666667,348.90000000000026,5.783333333333333,18.033333333333335,91.85000000000002,3.1333333333333333,2646.749999999999,9.683333333333334,50.23333333333333,739.0499999999998,203.74999999999997,32.083333333333336,219.89999999999992,10.716666666666669,220.55000000000015,5.233333333333333,447.8,10.283333333333333,17.966666666666665,103.60000000000001,2.05,4.05,68.66666666666667,62.95000000000001,16.133333333333333,431.30000000000007,16.516666666666666,420.33333333333326,7.116666666666666,85.59999999999998,3.5166666666666666,13.583333333333334,5.833333333333334,3.716666666666667,148.95000000000005,2.45,1408.1333333333332,4319.200000000001,916.5,115.89999999999995,132.25000000000009,1199.8333333333335,2.9166666666666665,2.55,73.06666666666663,2857.5333333333333,9.05,208.99999999999997,16.099999999999998,10.383333333333333,4206.95,2.05,3848.05,8.316666666666666,10.45,76.29999999999998,490.9,6.033333333333333,227.26666666666662,3722.5,213.4499999999999,46.36666666666666,215.93333333333337,82.69999999999997,21.633333333333333,2.533333333333333,1.75,13.766666666666666,1252.3500000000004,12.4,2.1333333333333333,9.3,6.933333333333334,3.7166666666666672,2.583333333333333,143.84999999999997,5.433333333333334,300.40000000000003,92.29999999999997,191.76666666666665,4854.299999999997,802.9499999999992,13.98333333333333,846.3000000000009,7.2666666666666675,42.58333333333333,8.799999999999999,8.4,104.95000000000005,103.44999999999999,89.79999999999997,11.866666666666665,18.31666666666667,5.216666666666667,424.13333333333344,3757.35,6.733333333333333,2.7,296.76666666666665,617.3666666666667,37.199999999999996,280.7500000000003,4.6000000000000005,354.69999999999993,1987.5666666666666,1.7666666666666666,1.95,2619.600000000003,8.649999999999999,12.233333333333334,14.016666666666666,148.9,2402.0499999999997,104.90000000000002,1659.9,371.55000000000007,11.666666666666666,343.7499999999999,5.883333333333333,104.45,15.916666666666666,44.36666666666667,314.1500000000001,38.28333333333333,1069.6833333333334,10.566666666666666,142.7,18.549999999999994,13.083333333333332,8.133333333333335,7.833333333333333,159.39999999999998,2.933333333333333,252.4000000000001,2904.4999999999995,46.53333333333333,8.316666666666666,13.433333333333334,421.3999999999997,5.766666666666667,11.033333333333331,1.3833333333333333,8.600000000000001,226.44999999999985,2.9,90.90000000000002,3.533333333333333,32.8,510.4,20.766666666666666,20.3,27.1,168.79999999999995,1.9833333333333334,5356.849999999999,9.1,64.93333333333334,2113.149999999999,922.2499999999999,267.70000000000016,109.54999999999995,350.0499999999998,21.333333333333332,2813.55,241.09999999999994,84.65,3.4333333333333336,5.483333333333333,39.050000000000004,15.799999999999997,3.1166666666666663,6.45,14.01666666666667,4.2,40.96666666666666,608.1000000000001,238.45000000000013,4.3,477.8499999999999,12.166666666666664,9.666666666666666,65.2,109.95000000000005,8.166666666666666,162.59999999999994,6.966666666666667,2.216666666666667,22.900000000000002,15.316666666666665,2.85,1358.6166666666666,100.30000000000001,89.79999999999998,2.2,1.9666666666666666,5.783333333333333,9.683333333333334,117.10000000000008,383.2666666666668,269.4,9.583333333333332,241.54999999999993,1591.0999999999995,52.76666666666666,31.599999999999994,39.63333333333334,65.76666666666667,21.28333333333333,94.5,4.3,4.066666666666666,215.11666666666667,5057.55,906.8166666666667,423.8833333333333,4.45,24.466666666666672,8.35,1544.9666666666672,1130.1999999999998,8.2,1703.5999999999992,352.14999999999986,2.7333333333333334,64.44999999999999,6.166666666666666,100.84999999999997,178.23333333333338,1.8833333333333333,2.5,1.65,333.86666666666656,175.65,3.9166666666666665,243.65000000000003,8.866666666666669,122.74999999999996,86.8,12.133333333333333,84.4666666666666,120.40000000000003,3.6,35.6,25.866666666666667,3890.75,306.733333333333,73.14999999999999,90.94999999999993,6.933333333333332,470.6499999999999,34.900000000000006,4.933333333333334,2.283333333333333,34.36666666666668,236.00000000000009,298.2500000000001,19.616666666666667,10.7,281.00000000000017,224.99999999999994,240.33333333333323,38.89999999999999,2020.1000000000001,221.80000000000013,6.633333333333334,2.6666666666666665,243.93333333333334,227.54999999999995,198.35000000000016,3.0833333333333335,620.8000000000002,3860.2,85.65000000000003,15.15,76.99999999999999,159.45,9.866666666666667,6.033333333333333,2.4,29.699999999999996,53.83333333333335,13.749999999999998,1240.1999999999998,21.449999999999996,2.1166666666666667,781.0000000000005,341.1500000000002,272.9500000000001,1342.3000000000006,210.3,2.466666666666667,2.5666666666666664,4.15,7.733333333333333,1237.2333333333333,16.083333333333332,5.216666666666667,60.00000000000002,4707.35,3201.1499999999996,73.5,3.9333333333333336,2194.2,1278.5,1540.7999999999981,118.00000000000001,3.916666666666667,47.63333333333333,164.64999999999992,8.9,3.4333333333333336,76.89999999999999,7.0,2.4166666666666665,16.55,45.73333333333332,47.54999999999999,738.4499999999994,2.316666666666667,497.26666666666654,84.39999999999998,3433.999999999999,6.700000000000001,2.3,631.0,2.216666666666667,38.28333333333333,61.83333333333332,5.683333333333334,37.666666666666664,102.30000000000007,4.266666666666667,379.85,18.083333333333332,2.9333333333333336,617.6499999999993,2.433333333333333,1109.6000000000004,1383.3000000000002,4.216666666666667,8.716666666666667,3060.2000000000003,11.500000000000002,82.79999999999997,18.883333333333333,178.30000000000007,130.00000000000003,100.15000000000006,14.316666666666666,14.766666666666666,2574.8500000000004,18.400000000000002,126.74999999999997,137.60000000000005,51.30000000000002,94.96666666666668,38.76666666666665,195.70000000000024,8.966666666666665,5.316666666666666,332.5000000000001,2.8,147.30000000000004,1.8,1086.3666666666668,5.449999999999999,2536.6499999999965,18.666666666666668,76.30000000000004,3656.1000000000004,226.49999999999991,2184.3333333333335,6.733333333333334,5.55,42.40000000000001,82.2,2.3333333333333335,3.6999999999999997,275.75000000000006,925.0499999999996,91.44999999999996,402.15000000000015,98.74999999999999,1.6833333333333333,245.99999999999997,1007.8499999999997,37.29999999999999,46.516666666666666,2.2,191.54999999999993,8.883333333333333,2422.2,2.15,4.016666666666667,109.63333333333333,326.4666666666667,2107.5333333333324,10.0,9.049999999999999,14.583333333333334,2679.5499999999993,325.4666666666667,976.8499999999997,15.35,18.183333333333337,73.40000000000003,10.600000000000001,895.9500000000002,127.55000000000003,268.90000000000003,10.600000000000001,33.23333333333333,353.0999999999995,2.3666666666666667,171.1,12.95,2.7666666666666666,105.04999999999997,244.89999999999986,43.23333333333333,6.383333333333334,1020.9999999999999,15.95,3170.3,275.24999999999983,56.199999999999996,308.4999999999998,94.80000000000005,546.0500000000003,34.63333333333333,265.8666666666667,91.34999999999997,444.40000000000055,2335.5999999999995,4.733333333333333,2396.199999999998,14.033333333333335,4404.7,6.1,196.55000000000007,2.1,3340.550000000003,2577.866666666667,40.76666666666665,888.2000000000006,4.533333333333334,388.4166666666667,1823.2666666666667,396.6999999999998,3.0166666666666666,3.8000000000000003,1.8166666666666667,9.716666666666665,21.966666666666665,102.5,254.1000000000001,3165.9000000000005,94.04999999999993,9.7,127.06666666666666,6.083333333333334,258.5,79.73333333333332,22.533333333333335,13.933333333333332,5.1499999999999995,75.19999999999999,2.6166666666666667,10.8,362.8499999999999,67.0,17.96666666666667,3.6,434.6500000000004,290.34999999999997,307.9000000000001,2183.949999999998,6.35,1.7666666666666666,14.466666666666667,2.3666666666666667,975.5666666666667,641.75,183.04999999999993,23.233333333333327,2.183333333333333,15.583333333333332,230.1499999999998,13.55,183.59999999999997,19.06666666666667,23.333333333333336,168.0666666666667,14.283333333333331,445.45000000000005,258.9499999999999,144.85000000000002,3614.65,1542.15,1588.7500000000002,3721.0,3.8666666666666667,825.6999999999999,5.5166666666666675,63.400000000000006,16.533333333333335,1.8166666666666667,2.8499999999999996,178.04999999999995,2.0666666666666664,1064.2333333333331,384.05,610.1,693.3500000000001,114.04999999999998,477.2,5.283333333333333,202.24999999999994,206.3499999999999,16.966666666666665,1.8333333333333333,1.9333333333333333,1585.75,3527.2000000000007,259.29999999999995,16.433333333333334,285.74999999999994,3198.6333333333328,18.46666666666667,138.90000000000006,66.8,181.85,4.35,151.75000000000003,14.600000000000001,1.9166666666666667,1.5833333333333333,247.50000000000003,12.1,52.666666666666664,72.43333333333335,6.600000000000001,25.666666666666664,9.416666666666668,516.8666666666666,230.75,31.53333333333335,116.75,240.90000000000003,132.7,18.916666666666668,500.25000000000006,376.7000000000001,14.033333333333333,34.3,2.85,179.2500000000001,1.8,193.1499999999999,79.05,7.766666666666666,140.43333333333334,12.000000000000002,5.083333333333334,22.733333333333338,6.1,15.483333333333334,4.433333333333334,85.36666666666666,4.25,270.24999999999994,6941.05,8.299999999999999,167.29999999999998,69.69999999999997,13.600000000000001,1907.3000000000002,2.216666666666667,3.8833333333333333,2.0,117.80000000000007,106.15000000000002,8.866666666666667,4.7,1.7666666666666666,2.1,8.250000000000002,232.45000000000013,7.333333333333334,248.74999999999997,612.7499999999999,67.35000000000001,53.49999999999999,1207.9333333333334,530.8000000000008,319.0999999999999,10.200000000000001,38.33333333333332,1.4833333333333334,27.833333333333332,1.9,3159.099999999999,228.79999999999998,2.3,3.6999999999999997,14.316666666666668,2.5166666666666666,86.89999999999998,344.3999999999997,26.533333333333328,16.4,227.0499999999998,67.16666666666667,155.50000000000009,4.1,2408.1999999999994,3.25,47.533333333333324,45.41666666666667,2.45,354.7500000000001,3.8333333333333335,355.99999999999994,13.883333333333331,7.583333333333333,64.11666666666667,21.4,62.76666666666666,2425.1000000000013,4.1,17.450000000000003,224.75000000000006,9.333333333333332,2.5999999999999996,49.66666666666667,13.1,21.633333333333333,1159.1000000000001,3862.950000000001,229.8499999999999,1.85,18.5,37.63333333333333,153.6,1.9833333333333334,682.9999999999994,483.5,9.233333333333333,2.4,367.3,323.73333333333323,86.89999999999999,173.05000000000004,4.183333333333334,118.1,1.8833333333333333,550.1999999999999,340.4500000000001,627.25,2785.250000000003,11.783333333333333,14.383333333333333,521.8666666666664,14.899999999999999,545.9500000000003,195.65,12.366666666666665,3574.2,2.2333333333333334,15.733333333333334,10.566666666666666,19.333333333333332,39.66666666666666,281.65000000000026,106.89999999999999,25.96666666666667,124.24999999999999,12.4,9.149999999999999,2799.5666666666666,93.95,32.61666666666666,30.58333333333333,2.55,1852.4666666666687,1523.6000000000006,11.883333333333333,2.3833333333333333,491.09999999999985,18.700000000000003,1227.2,13.65,1.9166666666666667,1124.5499999999997,2.716666666666667,1.6833333333333333,1.8,190.35000000000008,87.60000000000002,8.549999999999999,350.70000000000016,1.8166666666666667,17.633333333333336,2.4,557.9000000000003,11.65,591.4000000000001,4.966666666666667,24.049999999999997,29.466666666666665,29.800000000000008,4773.450000000001,6.483333333333333,349.93333333333334,3.7333333333333334,217.96666666666664,40.349999999999994,3.1,1013.4500000000005,3464.2500000000005,17.95,5.166666666666666,45.766666666666666,25.7,372.43333333333345,2.316666666666667,520.9000000000002,2.533333333333333,1076.6499999999999,2.8833333333333333,3.4833333333333334,806.0500000000002,90.44999999999999,947.4,278.9000000000001,77.49999999999999,23.95,83.14999999999996,3549.1999999999994,1.8,124.26666666666668,31.266666666666666,181.35000000000005,329.9999999999999,73.13333333333334,1773.65,12.15,1256.4999999999995,309.35,117.75000000000004,10.783333333333335,14.399999999999999,13.716666666666667,61.166666666666664,2370.133333333333,28.6,4041.950000000001,232.40000000000012,144.74999999999997,4.85,529.4000000000005,131.40000000000006,8.416666666666666,13.75,1677.1499999999992,10.633333333333335,8.75,334.79999999999995,2.1833333333333336,1.9833333333333334,8.683333333333334,2.6500000000000004,13.566666666666668,183.45000000000007,3.0666666666666664,2.1833333333333336,30.93333333333333,500.6666666666669,121.35000000000004,2435.5333333333338,5.45,6296.150000000001,35.900000000000006,2942.3500000000004,1.9,494.0000000000004,159.8499999999999,2.183333333333333,7.65,2449.85,5.733333333333333,208.9666666666665,408.6999999999998,3.8166666666666664,65.30000000000001,4.2,1152.0000000000002,5273.8,3.916666666666667,3.5999999999999996,15.166666666666668,30.43333333333333,13.433333333333334,12.866666666666667,70.14999999999996,1023.4499999999995,48.36666666666665,3.8499999999999996,541.15,14.5,13.8,59.149999999999984,63.1,112.60000000000004,27.599999999999998,119.93333333333337,315.3999999999998,5.250000000000001,84.15000000000002,469.75,247.33333333333317,1.75,2.933333333333333,363.25000000000034,143.3,12.049999999999999,1988.5999999999997,4467.750000000001,1.75,1073.1000000000008,1190.7000000000003,11.816666666666666,3511.3000000000015,9.850000000000001,252.10000000000002,15.066666666666666,6.266666666666666,3.1333333333333333,10.783333333333333,2508.5999999999995,1552.2000000000012,81.29999999999998,10.233333333333333,106.45000000000002,772.6666666666665,186.14999999999972,26.366666666666667,465.9500000000003,70.70000000000002,28.68333333333333,201.85,12.633333333333333,803.1000000000006,26.66666666666667,3.316666666666667,6.050000000000001,1.7333333333333334,216.2499999999997,252.1,209.43333333333322,11.0,18.21666666666666,878.2999999999998,5262.066666666668,33.3,112.3,11.566666666666666,7.216666666666667,211.49999999999991,4.6,1.65,68.55000000000003,1.5833333333333333,3.75,9.783333333333333,549.8500000000003,19.51666666666667,95.29999999999997,42.0,2.3333333333333335,1.5333333333333334,70.99999999999999,18.333333333333336,6.966666666666667,13.066666666666666,58.53333333333334,7.816666666666666,176.7999999999998,7.300000000000001,4497.949999999999,31.83333333333334,6.016666666666667,3.6166666666666663,4.183333333333334,13.366666666666667,155.25000000000006,4.666666666666667,7.416666666666666,276.34999999999997,177.29999999999998,3.4,270.3999999999998,214.00000000000006,51.500000000000014,29.833333333333332,1.8333333333333333,69.86666666666666,326.40000000000015,40.900000000000006,298.9000000000001,17.083333333333336,3.9333333333333336,2.5166666666666666,321.3499999999996,12.366666666666667,1760.550000000001,208.85,2769.4500000000003,28.616666666666667,6.833333333333333,2.7,319.5,3.7666666666666666,3.0833333333333335,6.466666666666667,33.73333333333333,2352.7000000000003,6.45,336.89999999999986,1.6666666666666667,36.0,9.483333333333333,1043.55,60.26666666666665,5.2,10.850000000000001,282.1999999999997,88.39999999999999,179.95000000000016,221.35000000000005,3.166666666666667,1732.2999999999997,672.0999999999996,8.833333333333334,1.8333333333333333,128.14999999999998,144.00000000000003,53.16666666666667,1850.5,7.35,51.96666666666666,4.35,384.1000000000001,804.8000000000002,125.05000000000007,3.7,71.83333333333333,4.816666666666667,5.800000000000001,3047.55,12.25,9.583333333333334,691.3666666666667,132.00000000000006,254.60000000000008,115.14999999999992,257.10000000000014,637.7999999999997,122.16666666666667,3931.7999999999997,132.10000000000008,45.39999999999999,44.23333333333333,12.75,369.8500000000002,30.416666666666664,8.066666666666666,1.65,33.099999999999994,177.60000000000002,57.36666666666666,47.26666666666665,2.2333333333333334,2.033333333333333,225.84999999999994,55.13333333333331,160.89999999999998,245.64999999999995,2.35,12.366666666666667,17.9,5.1499999999999995,80.14999999999999,552.6,119.9333333333334,1685.400000000002,114.10000000000005,17.5,1492.2500000000005,361.1000000000002,48.150000000000006,31.766666666666662,897.55,207.39999999999995,1.8333333333333333,2.216666666666667,7.766666666666667,2.216666666666667,3275.550000000004,470.40000000000003,346.75000000000057,5232.200000000001,11.699999999999998,12.216666666666665,2.7666666666666666,2712.666666666667,116.05000000000001,19.383333333333336,105.50000000000001,2.683333333333333,113.26666666666667,2775.8,11.299999999999999,4.55,118.93333333333332,19.833333333333332,198.19999999999996,313.49999999999983,400.6000000000001,137.45000000000007,6.566666666666666,46.88333333333334,15.783333333333335,18.216666666666665,1.8833333333333333,66.78333333333333,7.283333333333333,96.59999999999992,1.9833333333333334,295.9500000000002,120.89999999999998,3720.85,164.45000000000007,8.000000000000002,4.833333333333334,62.69999999999999,3010.5,933.7166666666667,86.30000000000001,7.7,5.716666666666667,9.716666666666667,100.70000000000002,46.5,153.75000000000009,3565.499999999999,159.45,3.6999999999999997,5.4833333333333325,201.45000000000002,8.733333333333333,1.85,2787.966666666667,454.0000000000002,355.25,760.0999999999987,12.499999999999998,153.95,236.0,117.06666666666662,70.29999999999998,1.6666666666666667,54.70000000000002,254.39999999999995,178.95000000000007,202.1000000000002,803.5499999999998,18.566666666666663,10.116666666666667,383.05000000000007,93.39999999999999,125.89999999999999,9.049999999999999,204.85000000000005,2.066666666666667,617.4999999999999,102.94999999999999,95.39999999999998,2.066666666666667,50.24999999999998,2.05,5.166666666666667,2177.350000000001,55.33333333333332,13.066666666666666,3.9666666666666663,3.3,12.966666666666667,75.3,2077.95,263.34999999999985,1084.4499999999991,188.90000000000006,65.69999999999999,77.89999999999999,13.816666666666666,339.75,228.44999999999993,175.60000000000005,153.4499999999999,90.80000000000001,4740.95,1837.3000000000004,15.666666666666666,79.75000000000004,36.53333333333332,571.2000000000003,6.266666666666667,22.53333333333333,8.15,22.43333333333333,8.0,2.3666666666666667,218.75000000000003,2908.866666666667,2.9166666666666665,12.416666666666668,141.54999999999995,176.90000000000015,1.75,28.8,5.816666666666666,2202.7999999999993,5.25,4.066666666666666,68.43333333333334,245.6500000000002,84.24999999999997,2.65,343.3999999999998,10.733333333333334,189.1499999999999,328.95000000000016,2.95,251.9499999999998,3.9333333333333336,77.34999999999998,40.26666666666666,2.3833333333333333,516.6999999999997,265.2999999999999,11.266666666666667,3.2,201.25000000000006,466.5000000000001,212.40000000000006,1.9,27.53333333333334,111.90000000000002,320.4000000000001,1397.9166666666665,12.666666666666666,6.6000000000000005,570.0499999999998,429.5000000000001,119.59999999999998,104.75000000000001,24.83333333333333,10.666666666666668,3.8000000000000003,3.716666666666667,5.9,31.866666666666667,2.7,5.983333333333333,3.533333333333333,925.4499999999999,19.7,618.6,11.683333333333334,3.0166666666666666,5.416666666666667,2.4,11.7,808.45,3.2499999999999996,2.4833333333333334,203.24999999999994,3.783333333333333,295.5000000000001,108.34999999999997,37.166666666666664,269.85000000000025,417.2,2.1,3.6166666666666663,3505.0499999999997,2911.8333333333335,8.383333333333335,10.266666666666666,82.53333333333333,261.9499999999999,26.883333333333333,4.433333333333333,5.4,3.2666666666666666,101.69999999999993,3.1166666666666667,23.06666666666667,50.000000000000014,142.9666666666666,173.25,32.65,218.65000000000015,110.99999999999991,5.4,6.166666666666666,4352.049999999999,24.416666666666664,11.849999999999998,3342.3499999999995,8.000000000000002,24.133333333333333,12.916666666666666,4.733333333333333,28.73333333333334,2.283333333333333,366.79999999999984,106.56666666666662,51.699999999999996,16.23333333333333,3723.449999999998,2928.8,4.45,2.6666666666666665,7.199999999999999,66.5,185.75,19.5,4.699999999999999,280.24999999999994,105.55000000000003,9.133333333333335,1175.4000000000003,23.333333333333332,4.0,479.7,2055.5000000000005,2276.9000000000005,46.93333333333334,8.916666666666666,15.366666666666665,304.98333333333335,155.80000000000004,428.45000000000044,602.3666666666667,29.700000000000003,2317.2,244.20000000000007,4.65,1.6833333333333333,2132.7500000000005,267.65000000000003,38.31666666666666,33.83333333333333,3971.6,5.283333333333334,27.533333333333328,134.3,4.283333333333333,8.466666666666667,4.35,33.733333333333334,9.266666666666666,40.9,19.633333333333333,5.416666666666667,3.3666666666666663,4.666666666666666,11.299999999999999,180.70000000000002,13.983333333333333,101.19999999999995,104.36666666666663,32.43333333333334,7.116666666666666,1740.8999999999994,45.63333333333333,1042.3999999999999,225.24999999999986,77.74999999999999,39.766666666666666,87.3,455.54999999999984,28.700000000000006,2.833333333333333,1.8833333333333333,11.316666666666666,1081.9000000000005,136.55000000000004,10.583333333333334,7.333333333333333,4.666666666666666,45.733333333333334,13.75,59.81666666666667,161.2,2241.8499999999995,118.24999999999997,4.216666666666667,21.816666666666666,16.216666666666665,5.5,6.166666666666667,41.599999999999994,2.1166666666666667,4.016666666666666,1097.9999999999998,6.966666666666668,2.15,51.23333333333333,123.30000000000001,162.05,32.4,155.4666666666666,1452.55,1.8333333333333333,84.83333333333336,17.55,2.45,3.6999999999999997,5.0,33.9,39.49999999999999,661.0000000000005,2.1333333333333333,2.9833333333333334,44.300000000000004,196.2,7.083333333333333,2.716666666666667,163.70000000000002,35.900000000000006,93.65,190.9000000000001,61.9,18.199999999999996,1611.5,270.8,4.766666666666667,17.35,147.10000000000005,6.55,271.75000000000017,8.75,5.6,96.76666666666672,1329.2,10.633333333333335,11.649999999999999,2.5666666666666664,2.1666666666666665,29.2,2133.2999999999984,1.4666666666666666,16.03333333333333,272.2,2.55,16.53333333333333,740.1500000000001,480.3999999999998,33.99999999999999,1.7166666666666666,245.29999999999987,7.216666666666668,2221.0,3.75,454.3499999999998,9.333333333333332,2690.650000000002,12.766666666666667,2.3833333333333333,6.866666666666667,172.10000000000005,2.4,566.0000000000001,10.600000000000001,12.850000000000001,4.416666666666667,2390.0666666666675,824.5333333333333,18.0,2.1166666666666667,4265.55,295.2999999999999,1057.8,5.383333333333333,222.6999999999999,3.366666666666667,1319.9999999999998,228.44999999999987,117.54999999999998,250.39999999999995,72.14999999999998,18.35,8.0,11.099999999999998,6.433333333333334,412.7000000000002,293.81666666666666,2420.749999999999,10.566666666666665,698.5666666666666,2.033333333333333,2303.7,44.16666666666666,129.4,11.9,178.85000000000008,2.4166666666666665,5.949999999999999,2.5666666666666664,171.95000000000002,127.2499999999999,12.85,9.500000000000002,314.50000000000017,61.150000000000006,68.03333333333335,2.3833333333333333,10.283333333333331,19.133333333333333,281.0,1.9333333333333333,1339.816666666667,3365.7,1656.3000000000002,2.45,1.8833333333333333,116.33333333333331,3.033333333333333,68.10000000000004,12.783333333333335,7.283333333333333,82.69999999999996,12.833333333333336,8.266666666666667,4.45,4.766666666666667,1082.8500000000004,401.55000000000007,1200.5999999999997,3.7333333333333334,126.35,201.55,14.833333333333336,1.8166666666666667,248.55000000000027,383.6500000000009,57.20000000000002,2.6166666666666667,1.5666666666666667,1537.2666666666664,230.74999999999991,22.366666666666667,49.449999999999996,44.81666666666667,125.45000000000003,58.29999999999999,231.74999999999994,45.4,32.099999999999994,15.466666666666665,2850.4500000000016,4.783333333333333,12.633333333333335,7.4,3339.7000000000003,3.4166666666666665,25.63333333333334,3904.6000000000004,17.95,2.45,126.93333333333337,2082.4500000000007,13.283333333333333,170.80000000000007,9.733333333333333,1307.6000000000006,10.866666666666667,113.19999999999995,6.05,9.783333333333333,6.6,189.55,3.9333333333333336,4.216666666666666,80.65000000000006,451.04999999999995,2.3,6.7,8.416666666666666,5.800000000000001,1237.35,1.9333333333333333,12.433333333333334,202.8000000000002,2630.6666666666665,10.75,1713.65,5.766666666666667,7.316666666666667,644.0000000000008,18.866666666666667,238.8500000000001,25.75,298.49999999999983,2.716666666666667,258.75,76.19999999999997,20.56666666666667,16.066666666666666,137.6,6.75,8.566666666666666,3861.5,530.9,144.25000000000006,2411.6499999999974,798.65,624.9,121.54999999999998,9.866666666666667,6.8999999999999995,2052.366666666668,15.016666666666667,1.8166666666666667,7.95,3.7,164.60000000000002,16.533333333333335,117.89999999999993,103.94999999999997,16.71666666666667,311.0000000000002,11.283333333333331,119.24999999999997,3.7333333333333334,8.6,1370.15,150.19999999999987,5.183333333333334,258.5,43.899999999999984,6.883333333333333,78.0333333333333,19.566666666666666,253.54999999999987,3994.2,2.6,4.883333333333333,8.65,138.59999999999997,71.86666666666669,2.05,12.433333333333332,582.3999999999999,495.94999999999953,134.39999999999998,261.55000000000007,501.49999999999994,289.3499999999999,7.533333333333333,66.50000000000001,255.84999999999994,2.683333333333333,8.916666666666666,7.916666666666668,22.083333333333336,3.5,16.416666666666668,2.3833333333333333,461.84999999999997,347.15000000000003,1780.1499999999999,212.8,3445.9999999999986,8.7,66.8,2807.849999999999,5.4,3265.4499999999994,3.7,417.6,35.266666666666666,78.03333333333333,140.63333333333335,11.766666666666666,246.06666666666672,16.049999999999997,162.29999999999995,2857.8000000000006,4.633333333333334,4.583333333333333,131.83333333333331,3.6166666666666667,86.0,368.2500000000002,337.6000000000002,168.10000000000002,2645.8000000000043,1.7333333333333334,6.883333333333334,11.516666666666666,1230.6,6.933333333333333,9.483333333333334,2.2,1408.6833333333332,1.9,220.70000000000005,5.633333333333333,600.4499999999998,3.4166666666666665,1.95,108.73333333333332,183.59999999999994,1.9333333333333333,1.7666666666666666,6.85,4.666666666666666,138.85000000000014,313.5,300.75000000000017,63.35,52.73333333333333,76.63333333333337,11.100000000000001,2.566666666666667,9.0,3.466666666666667,110.59999999999997,263.1000000000002,4035.75,3.5333333333333337,15.616666666666669,86.44999999999997,4.183333333333333,7460.049999999999,18.96666666666667,277.05000000000007,11.083333333333334,34.49999999999999,183.95000000000013,18.06666666666667,15.266666666666666,242.69999999999987,1922.8333333333335,40.533333333333324,288.95000000000005,4.483333333333333,7.2666666666666675,4413.4,4.383333333333333,378.30000000000007,564.3500000000001,29.9,3959.2000000000007,1776.2666666666664,9.350000000000001,4.383333333333334,417.1333333333333,221.15000000000006,927.8499999999995,8.583333333333334,131.04999999999995,80.50000000000006,34.800000000000004,1848.6333333333337,1734.9,270.5499999999999,6.9333333333333345,2.283333333333333,778.6999999999998,54.5,72.16666666666667,12.0,311.8,35.166666666666664,688.1166666666664,145.73333333333326,48.20000000000001,11.250000000000002,8.233333333333333,251.49999999999994,2.6333333333333333,82.16666666666663,3540.3,315.34999999999997,2.85,784.5666666666667,284.5499999999999,49.216666666666676,3334.2500000000005,291.55000000000007,51.93333333333334,2202.2,145.35,671.8999999999993,118.89999999999995,1.5833333333333333,5.083333333333334,4980.75,785.2333333333333,1.85,8.7,220.80000000000004,4.916666666666667,44.66666666666668,82.54999999999998,93.56666666666665,81.49999999999999,8.133333333333333,43.866666666666674,1238.549999999999,9.583333333333332,4393.700000000001,59.69999999999999,10.666666666666668,5333.099999999999,18.799999999999997,9.233333333333333,252.94999999999973,3.783333333333333,1.5333333333333334,4645.849999999999,137.35000000000002,48.80000000000001,2.966666666666667,25.21666666666667,27.566666666666666,77.54999999999998,5.55,175.49999999999997,116.25000000000001,50.24999999999999,9.933333333333334,16.533333333333335,1698.7333333333333,41.300000000000004,135.1333333333333,3.716666666666667,1.7166666666666666,1082.8499999999997,633.6999999999996,173.65000000000012,607.9,252.4,2.533333333333333,12.066666666666666,2120.2500000000005,51.050000000000004,2430.6,108.84999999999991,13.799999999999999,228.95000000000022,1.8666666666666667,8.716666666666667,23.833333333333336,19.383333333333333,13.733333333333334,14.483333333333333,24.06666666666667,214.5500000000001,255.74999999999977,2.75,1609.6499999999999,1.6833333333333333,6.966666666666666,77.05000000000004,124.40000000000008,5.933333333333334,2.033333333333333,7.433333333333334,192.00000000000014,2825.7000000000003,12.283333333333331,1704.35,1438.6166666666666,137.9,8.5,2130.2999999999997,1595.65,10.366666666666667,2.283333333333333,91.30000000000004,6.7,296.9500000000003,13.616666666666667,25.383333333333333,6.116666666666666,91.33333333333337,1115.8499999999992,165.39999999999995,3.4333333333333336,11.5,14.299999999999999,2075.2333333333336,3.1666666666666665,49.19999999999997,93.50000000000001,3.8500000000000005,153.60000000000008,13.55,6.033333333333334,30.766666666666666,8.883333333333333,159.73333333333335,905.4166666666666,37.56666666666666,162.80000000000013,49.93333333333331,22.449999999999996,4.816666666666666,7.933333333333333,41.36666666666667,378.0999999999997,98.05000000000004,30.300000000000008,43.70000000000001,166.85000000000002,141.8999999999999,15.116666666666667,29.66666666666667,261.7499999999998,436.15,206.49999999999997,2320.2333333333336,4.883333333333334,1611.1,6.583333333333333,1134.7500000000005,1547.5499999999993,12.966666666666665,43.85,101.83333333333334,743.7,552.4666666666667,10.149999999999999,184.10000000000005,6.816666666666666,2.6333333333333333,2.8499999999999996,17.766666666666666,11.1,131.15000000000003,4.95,3.7666666666666666,1122.4000000000005,1634.5999999999983,71.36666666666666,4071.4499999999994,92.13333333333333,21.883333333333333,32.550000000000004,112.14999999999995,7.4833333333333325,8.383333333333333,298.99999999999994,292.35000000000014,25.55,1984.6000000000006,44.24999999999997,363.45,734.6999999999999,138.3999999999999,14.933333333333334,19.45,305.4000000000002,1085.4000000000005,370.64999999999964,2.0,124.96666666666663,32.23333333333333,13.683333333333332,708.1999999999994,4036.95,1342.0833333333335,4.15,3.9000000000000004,15.933333333333335,306.9,6.083333333333334,1.65,15.816666666666665,95.40000000000006,6.0,735.05,13.066666666666668,169.4500000000001,229.4500000000001,15.983333333333333,4.783333333333333,107.69999999999997,205.59999999999997,484.19999999999953,8.4,41.19999999999999,8.583333333333332,16.516666666666666,66.83333333333333,215.63333333333335,41.43333333333332,2731.85,1.9833333333333334,2.933333333333333,527.9,12.816666666666666,274.8666666666666,192.24999999999994,348.7,411.64999999999986,15.45,95.89999999999996,72.19999999999999,2.5166666666666666,10.533333333333333,32.16666666666667,215.50000000000006,4434.65,11.85,309.25000000000006,5.699999999999999,752.8000000000008,20.7,41.75,12.25,353.73333333333363,155.49999999999991,2.466666666666667,69.54999999999998,92.23333333333328,137.25,162.10000000000005,1627.3999999999994,13.35,14.700000000000001,21.616666666666667,51.40000000000002,135.41666666666666,5.85,3.483333333333333,2.45,73.35,5.116666666666667,4.8999999999999995,154.75,32.083333333333336,40.699999999999996,2213.399999999998,1492.9500000000007,163.79999999999998,308.1999999999998,3.033333333333333,9.350000000000001,1990.649999999999,24.299999999999994,1055.1500000000005,4.6499999999999995,20.083333333333332,82.5,2.3666666666666667,111.69999999999996,2.0,8.4,28.800000000000008,3.15,8.25,202.15000000000026,1122.4,5.316666666666666,88.43333333333335,3.783333333333333,22.333333333333336,3.6499999999999995,3.033333333333333,100.85000000000008,2794.7,31.16666666666667,44.866666666666674,12.899999999999999,114.31666666666668,212.2,105.29999999999995,2218.6000000000004,1753.9333333333334,3.7833333333333337,131.15,32.833333333333336,46.13333333333334,1.8833333333333333,530.4000000000002,361.4,5.05,12.666666666666664,7.783333333333335,907.5,285.54999999999967,9.233333333333333,198.95,256.65,13.383333333333335,1.7833333333333334,16.25,8.0,255.6,404.9000000000001,2128.25,1835.2999999999988,3.4,22.450000000000003,12.833333333333334,1844.533333333334,2.066666666666667,148.3000000000001,13.416666666666668,30.383333333333333,219.09999999999988,99.20000000000005,4.033333333333333,18.333333333333336,865.5,33.099999999999994,2.05,123.09999999999994,244.59999999999977,61.73333333333333,7.083333333333334,1359.9666666666667,376.4999999999999,25.71666666666667,2.75,116.69999999999999,79.70000000000006,4.533333333333333,7.75,54.36666666666666,3.9,4774.15,2.05,2.216666666666667,142.29999999999998,4.333333333333334,13.833333333333332,18.61666666666667,716.4999999999998,3.816666666666667,98.35,15.283333333333335,124.15,13.25,23.249999999999996,168.70000000000002,2.6833333333333336,82.7,28.733333333333324,340.35,3.1166666666666667,11.183333333333334,177.6,4330.8,7.15,2096.3000000000006,6.65,3.3166666666666664,3786.7,432.15000000000003,2.45,4.333333333333333,6.966666666666667,4.95,85.86666666666666,3.4833333333333334,8.1,136.14999999999992,181.69999999999996,151.75000000000006,2906.95,207.0499999999999,2.8333333333333335,169.90000000000003,811.0500000000001,57.53333333333334,10.383333333333333,6.6000000000000005,3.55,385.5499999999997,20.049999999999997,3.2666666666666666,186.59999999999997,7.666666666666667,3.8666666666666663,604.85,6.933333333333334,13.883333333333333,22.800000000000004,2.966666666666667,7.633333333333332,1696.6000000000004,22.73333333333333,84.60000000000001,4.199999999999999,117.99999999999997,73.25000000000001,81.09999999999998,9.183333333333334,5.166666666666667,36.93333333333333,191.34999999999997,323.5333333333333,10.383333333333333,759.9500000000008,3.2666666666666666,303.09999999999997,368.94999999999965,157.44999999999996,334.05000000000007,1.9333333333333333,130.25000000000003,9.950000000000001,59.31666666666667,4334.55,560.2500000000006,280.19999999999993,7.250000000000001,4.0,6.799999999999999,2.0166666666666666,11.799999999999999,26.900000000000013,126.76666666666665,7.333333333333333,391.35,83.39999999999995,3268.1500000000015,5.75,19.25,4377.900000000001,14.733333333333333,3.4833333333333334,2.2333333333333334,22.666666666666668,52.94999999999999,3899.3499999999995,1799.0,11.95,743.750000000001,5.433333333333334,832.9999999999998,206.9000000000002,628.25,2.4833333333333334,82.84999999999998,347.3500000000002,59.9666666666667,1.75,13.316666666666668,1618.3000000000002,10.733333333333333,327.4000000000003,134.70000000000002,15.683333333333334,2.3666666666666667,3.1833333333333336,2.533333333333333,1182.1499999999999,6.166666666666668,9.533333333333333,386.15000000000026,128.69999999999996,2.3666666666666667,54.66666666666666,44.60000000000002,7.433333333333334,49.16666666666666,139.3,2.15,140.90000000000006,3037.65,319.0666666666665,4.783333333333333,150.8,3.2666666666666666,54.55000000000001,30.699999999999985,2952.2333333333336,214.94999999999996,1.7166666666666666,70.33333333333337,5.316666666666667,301.75,4.966666666666667,716.7666666666669,47.33333333333334,35.46666666666667,326.19999999999976,23.93333333333333,4.966666666666667,1270.0666666666673,2.9166666666666665,1007.7000000000008,19.950000000000006,230.79999999999984,4048.45,30.53333333333334,33.60000000000001,1.75,3.6333333333333337,208.9499999999999,196.55000000000004,1.6833333333333333,103.13333333333331,56.46666666666666,11.95,76.06666666666665,1044.15,72.64999999999999,9.416666666666666,542.05,11.366666666666667,188.60000000000008,56.43333333333333,155.23333333333343,15.933333333333334,2.1333333333333333,110.09999999999997,17.299999999999997,72.54999999999998,8.233333333333334,93.29999999999998,2.583333333333333,1511.5500000000002,2413.35,174.01666666666665,2.55,2736.1500000000015,2.683333333333333,116.75000000000001,9.85,47.83333333333334,14.08333333333333,88.95,16.866666666666667,38.333333333333336,334.0666666666666,207.29999999999987,206.46666666666664,3593.5999999999976,131.84999999999997,73.76666666666667,2.916666666666667,11.583333333333332,2658.55,18.866666666666667,217.79999999999984,1408.8000000000022,96.30000000000001,4.566666666666666,148.54999999999993,2.3166666666666664,865.7499999999999,5.333333333333333,781.2499999999998,532.1333333333333,5.766666666666667,24.199999999999996,103.80000000000005,17.983333333333334,1374.0333333333333,3.3833333333333333,109.29999999999998,46.43333333333332,241.65000000000006,47.33333333333332,9.733333333333333,129.85,541.7499999999999,450.3666666666667,539.05,19.083333333333332,209.39999999999998,285.24999999999983,150.20000000000016,115.05000000000003,134.2,4.783333333333333,336.1499999999998,126.20000000000006,493.75,45.08333333333333,2.4333333333333336,532.0500000000002,3.4833333333333334,18.216666666666665,15.616666666666667,248.99999999999997,146.04999999999995,51.63333333333331,3.05,1964.9500000000012,12.75,292.70000000000016,77.90000000000002,55.60000000000001,477.74999999999983,14.566666666666666,3.966666666666667,425.95,5.1499999999999995,2.4166666666666665,6826.6,1.5666666666666667,44.86666666666668,970.3333333333335,11.783333333333335,316.65000000000015,15.649999999999999,404.45,11.666666666666666,17.733333333333334,97.05000000000001,42.983333333333334,18.083333333333336,34.550000000000004,2092.3666666666663,2.9833333333333334,193.04999999999995,4.466666666666667,4.716666666666667,50.90000000000002,176.9000000000001,382.6999999999997,12.233333333333333,1.9,280.75000000000034,3.783333333333333,9.483333333333334,155.69999999999996,3884.2500000000005,33.1,72.03333333333335,1.9166666666666667,62.76666666666666,201.4499999999998,16.616666666666667,214.73333333333335,3228.500000000001,355.25000000000045,205.66666666666669,38.15,5.8,439.26666666666745,125.86666666666665,29.5,155.04999999999998,10.066666666666668,188.85,7.366666666666667,3.8833333333333333,11.05,16.6,14.033333333333333,4173.25,20.383333333333336,826.4999999999991,707.833333333333,1.9333333333333333,10.1,2.75,1081.8000000000002,74.6,11.816666666666666,218.14999999999998,4.066666666666666,3.45,235.60000000000002,59.83333333333332,102.44999999999995,136.79999999999995,5.3,2.466666666666667,96.50000000000001,24.866666666666664,5.666666666666668,3.833333333333333,331.6999999999997,255.75,31.099999999999998,14.266666666666666,89.1333333333333,74.94999999999999,4352.5,55.89999999999999,501.0999999999999,4398.75,2.3333333333333335,173.99999999999994,898.65,15.25,17.21666666666666,816.8999999999997,2009.7000000000005,10.516666666666667,4.933333333333334,494.6000000000002,59.333333333333314,13.7,3.7666666666666666,638.6333333333334,481.6333333333334,222.95000000000007,18.85,1070.1000000000017,16.083333333333332,313.35,5.283333333333333,5.933333333333334,80.75,1.95,390.55,2.433333333333333,2.166666666666667,409.4333333333335,235.56666666666666,45.416666666666664,2.5166666666666666,12.283333333333335,217.80000000000007,2.2333333333333334,10.45,6.733333333333333,3.2666666666666666,1001.75,3.416666666666667,9.25,44.999999999999986,13.2,7.516666666666667,2.6833333333333336,30.7,44.466666666666654,10.433333333333334,306.35,2668.2999999999997,5.45,463.1000000000001,322.84999999999997,28.03333333333333,2.1166666666666667,3.45,3.45,9.666666666666666,72.36666666666666,1.7,6.333333333333332,1179.8666666666666,146.45000000000007,3.933333333333333,327.99999999999994,215.75,1799.7499999999998,137.44999999999993,6.583333333333333,10.25,44.766666666666644,1203.0,48.23333333333335,7.783333333333333,194.15000000000006,12.0,1620.7,16.35,112.39999999999995,13.866666666666665,198.2000000000001,227.7,198.50000000000006,81.39999999999996,91.25,1.9666666666666666,39.13333333333333,2849.133333333333,131.55,31.966666666666672,187.74999999999991,8.983333333333333,6.183333333333334,23.966666666666658,19.483333333333334,157.75,4.633333333333334,6.183333333333334,22.75,1380.3,303.2000000000001,2.3,2.1333333333333333,2.1,519.6499999999995,106.49999999999997,189.25000000000009,799.6666666666667,11.1,669.0,35.533333333333324,2.65,593.1000000000001,308.49999999999955,12.45,287.2000000000002,17.3,2.3,208.55000000000015,82.64999999999998,3.166666666666667,45.16666666666665,165.2,26.433333333333337,4130.6,184.25,2.4833333333333334,145.44999999999987,4.266666666666667,2805.4666666666662,9.55,3876.35,1752.8,8.583333333333332,12.4,10.616666666666667,75.73333333333335,100.63333333333333,467.15000000000003,132.70000000000005,6.616666666666667,53.24999999999999,295.9000000000001,4283.6,128.13333333333333,143.2,411.0499999999997,192.69999999999993,104.84999999999995,133.44999999999993,10.899999999999999,8.283333333333333,320.25,12.7,2127.999999999999,18.31666666666667,1363.4000000000003,28.71666666666666,7.983333333333333,22.166666666666668,187.60000000000016,129.14999999999998,67.30000000000001,1018.5333333333324,861.466666666666,238.9999999999998,18.183333333333334,6.766666666666667,133.8,5.1,8.666666666666668,15.766666666666666,343.1333333333335,29.23333333333333,306.5499999999998,9.566666666666666,8.066666666666666,929.0666666666666,756.6666666666663,16.650000000000002,313.7500000000002,110.9500000000001,1.6666666666666667,12.383333333333331,2.7666666666666666,9.383333333333335,739.5999999999998,225.29999999999984,89.59999999999998,1.9833333333333334,123.75,103.59999999999995,17.599999999999998,1.7166666666666666,10.149999999999999,2.75,176.99999999999986,290.45000000000005,2.4,98.0333333333334,11.933333333333334,12.299999999999999,231.20000000000005,120.34999999999994,2.45,2300.2000000000007,44.866666666666674,4.016666666666667,2199.0333333333333,110.50000000000003,73.65,172.20000000000007,3.583333333333333,2.15,467.6999999999992,2018.2000000000005,218.86666666666667,88.93333333333331,1.8666666666666667,369.25,1.8166666666666667,7.633333333333334,4.8500000000000005,2.15,130.2,40.33333333333333,16.3,3872.8500000000004,25.283333333333335,16.650000000000002,91.60000000000001,39.26666666666667,10.983333333333334,7.866666666666666,2.066666666666667,12.316666666666666,6.133333333333333,3.3666666666666667,3.05,56.60000000000001,212.04999999999998,12.383333333333331,142.54999999999998,3.8,4.5,873.8666666666667],\"yaxis\":\"y\"}],                        {\"coloraxis\":{\"colorbar\":{\"title\":{\"text\":\"churn\"}},\"colorscale\":[[0.0,\"#0d0887\"],[0.1111111111111111,\"#46039f\"],[0.2222222222222222,\"#7201a8\"],[0.3333333333333333,\"#9c179e\"],[0.4444444444444444,\"#bd3786\"],[0.5555555555555556,\"#d8576b\"],[0.6666666666666666,\"#ed7953\"],[0.7777777777777778,\"#fb9f3a\"],[0.8888888888888888,\"#fdca26\"],[1.0,\"#f0f921\"]]},\"legend\":{\"tracegroupgap\":0},\"margin\":{\"t\":60},\"template\":{\"data\":{\"bar\":[{\"error_x\":{\"color\":\"#2a3f5f\"},\"error_y\":{\"color\":\"#2a3f5f\"},\"marker\":{\"line\":{\"color\":\"#E5ECF6\",\"width\":0.5},\"pattern\":{\"fillmode\":\"overlay\",\"size\":10,\"solidity\":0.2}},\"type\":\"bar\"}],\"barpolar\":[{\"marker\":{\"line\":{\"color\":\"#E5ECF6\",\"width\":0.5},\"pattern\":{\"fillmode\":\"overlay\",\"size\":10,\"solidity\":0.2}},\"type\":\"barpolar\"}],\"carpet\":[{\"aaxis\":{\"endlinecolor\":\"#2a3f5f\",\"gridcolor\":\"white\",\"linecolor\":\"white\",\"minorgridcolor\":\"white\",\"startlinecolor\":\"#2a3f5f\"},\"baxis\":{\"endlinecolor\":\"#2a3f5f\",\"gridcolor\":\"white\",\"linecolor\":\"white\",\"minorgridcolor\":\"white\",\"startlinecolor\":\"#2a3f5f\"},\"type\":\"carpet\"}],\"choropleth\":[{\"colorbar\":{\"outlinewidth\":0,\"ticks\":\"\"},\"type\":\"choropleth\"}],\"contour\":[{\"colorbar\":{\"outlinewidth\":0,\"ticks\":\"\"},\"colorscale\":[[0.0,\"#0d0887\"],[0.1111111111111111,\"#46039f\"],[0.2222222222222222,\"#7201a8\"],[0.3333333333333333,\"#9c179e\"],[0.4444444444444444,\"#bd3786\"],[0.5555555555555556,\"#d8576b\"],[0.6666666666666666,\"#ed7953\"],[0.7777777777777778,\"#fb9f3a\"],[0.8888888888888888,\"#fdca26\"],[1.0,\"#f0f921\"]],\"type\":\"contour\"}],\"contourcarpet\":[{\"colorbar\":{\"outlinewidth\":0,\"ticks\":\"\"},\"type\":\"contourcarpet\"}],\"heatmap\":[{\"colorbar\":{\"outlinewidth\":0,\"ticks\":\"\"},\"colorscale\":[[0.0,\"#0d0887\"],[0.1111111111111111,\"#46039f\"],[0.2222222222222222,\"#7201a8\"],[0.3333333333333333,\"#9c179e\"],[0.4444444444444444,\"#bd3786\"],[0.5555555555555556,\"#d8576b\"],[0.6666666666666666,\"#ed7953\"],[0.7777777777777778,\"#fb9f3a\"],[0.8888888888888888,\"#fdca26\"],[1.0,\"#f0f921\"]],\"type\":\"heatmap\"}],\"heatmapgl\":[{\"colorbar\":{\"outlinewidth\":0,\"ticks\":\"\"},\"colorscale\":[[0.0,\"#0d0887\"],[0.1111111111111111,\"#46039f\"],[0.2222222222222222,\"#7201a8\"],[0.3333333333333333,\"#9c179e\"],[0.4444444444444444,\"#bd3786\"],[0.5555555555555556,\"#d8576b\"],[0.6666666666666666,\"#ed7953\"],[0.7777777777777778,\"#fb9f3a\"],[0.8888888888888888,\"#fdca26\"],[1.0,\"#f0f921\"]],\"type\":\"heatmapgl\"}],\"histogram\":[{\"marker\":{\"pattern\":{\"fillmode\":\"overlay\",\"size\":10,\"solidity\":0.2}},\"type\":\"histogram\"}],\"histogram2d\":[{\"colorbar\":{\"outlinewidth\":0,\"ticks\":\"\"},\"colorscale\":[[0.0,\"#0d0887\"],[0.1111111111111111,\"#46039f\"],[0.2222222222222222,\"#7201a8\"],[0.3333333333333333,\"#9c179e\"],[0.4444444444444444,\"#bd3786\"],[0.5555555555555556,\"#d8576b\"],[0.6666666666666666,\"#ed7953\"],[0.7777777777777778,\"#fb9f3a\"],[0.8888888888888888,\"#fdca26\"],[1.0,\"#f0f921\"]],\"type\":\"histogram2d\"}],\"histogram2dcontour\":[{\"colorbar\":{\"outlinewidth\":0,\"ticks\":\"\"},\"colorscale\":[[0.0,\"#0d0887\"],[0.1111111111111111,\"#46039f\"],[0.2222222222222222,\"#7201a8\"],[0.3333333333333333,\"#9c179e\"],[0.4444444444444444,\"#bd3786\"],[0.5555555555555556,\"#d8576b\"],[0.6666666666666666,\"#ed7953\"],[0.7777777777777778,\"#fb9f3a\"],[0.8888888888888888,\"#fdca26\"],[1.0,\"#f0f921\"]],\"type\":\"histogram2dcontour\"}],\"mesh3d\":[{\"colorbar\":{\"outlinewidth\":0,\"ticks\":\"\"},\"type\":\"mesh3d\"}],\"parcoords\":[{\"line\":{\"colorbar\":{\"outlinewidth\":0,\"ticks\":\"\"}},\"type\":\"parcoords\"}],\"pie\":[{\"automargin\":true,\"type\":\"pie\"}],\"scatter\":[{\"marker\":{\"colorbar\":{\"outlinewidth\":0,\"ticks\":\"\"}},\"type\":\"scatter\"}],\"scatter3d\":[{\"line\":{\"colorbar\":{\"outlinewidth\":0,\"ticks\":\"\"}},\"marker\":{\"colorbar\":{\"outlinewidth\":0,\"ticks\":\"\"}},\"type\":\"scatter3d\"}],\"scattercarpet\":[{\"marker\":{\"colorbar\":{\"outlinewidth\":0,\"ticks\":\"\"}},\"type\":\"scattercarpet\"}],\"scattergeo\":[{\"marker\":{\"colorbar\":{\"outlinewidth\":0,\"ticks\":\"\"}},\"type\":\"scattergeo\"}],\"scattergl\":[{\"marker\":{\"colorbar\":{\"outlinewidth\":0,\"ticks\":\"\"}},\"type\":\"scattergl\"}],\"scattermapbox\":[{\"marker\":{\"colorbar\":{\"outlinewidth\":0,\"ticks\":\"\"}},\"type\":\"scattermapbox\"}],\"scatterpolar\":[{\"marker\":{\"colorbar\":{\"outlinewidth\":0,\"ticks\":\"\"}},\"type\":\"scatterpolar\"}],\"scatterpolargl\":[{\"marker\":{\"colorbar\":{\"outlinewidth\":0,\"ticks\":\"\"}},\"type\":\"scatterpolargl\"}],\"scatterternary\":[{\"marker\":{\"colorbar\":{\"outlinewidth\":0,\"ticks\":\"\"}},\"type\":\"scatterternary\"}],\"surface\":[{\"colorbar\":{\"outlinewidth\":0,\"ticks\":\"\"},\"colorscale\":[[0.0,\"#0d0887\"],[0.1111111111111111,\"#46039f\"],[0.2222222222222222,\"#7201a8\"],[0.3333333333333333,\"#9c179e\"],[0.4444444444444444,\"#bd3786\"],[0.5555555555555556,\"#d8576b\"],[0.6666666666666666,\"#ed7953\"],[0.7777777777777778,\"#fb9f3a\"],[0.8888888888888888,\"#fdca26\"],[1.0,\"#f0f921\"]],\"type\":\"surface\"}],\"table\":[{\"cells\":{\"fill\":{\"color\":\"#EBF0F8\"},\"line\":{\"color\":\"white\"}},\"header\":{\"fill\":{\"color\":\"#C8D4E3\"},\"line\":{\"color\":\"white\"}},\"type\":\"table\"}]},\"layout\":{\"annotationdefaults\":{\"arrowcolor\":\"#2a3f5f\",\"arrowhead\":0,\"arrowwidth\":1},\"autotypenumbers\":\"strict\",\"coloraxis\":{\"colorbar\":{\"outlinewidth\":0,\"ticks\":\"\"}},\"colorscale\":{\"diverging\":[[0,\"#8e0152\"],[0.1,\"#c51b7d\"],[0.2,\"#de77ae\"],[0.3,\"#f1b6da\"],[0.4,\"#fde0ef\"],[0.5,\"#f7f7f7\"],[0.6,\"#e6f5d0\"],[0.7,\"#b8e186\"],[0.8,\"#7fbc41\"],[0.9,\"#4d9221\"],[1,\"#276419\"]],\"sequential\":[[0.0,\"#0d0887\"],[0.1111111111111111,\"#46039f\"],[0.2222222222222222,\"#7201a8\"],[0.3333333333333333,\"#9c179e\"],[0.4444444444444444,\"#bd3786\"],[0.5555555555555556,\"#d8576b\"],[0.6666666666666666,\"#ed7953\"],[0.7777777777777778,\"#fb9f3a\"],[0.8888888888888888,\"#fdca26\"],[1.0,\"#f0f921\"]],\"sequentialminus\":[[0.0,\"#0d0887\"],[0.1111111111111111,\"#46039f\"],[0.2222222222222222,\"#7201a8\"],[0.3333333333333333,\"#9c179e\"],[0.4444444444444444,\"#bd3786\"],[0.5555555555555556,\"#d8576b\"],[0.6666666666666666,\"#ed7953\"],[0.7777777777777778,\"#fb9f3a\"],[0.8888888888888888,\"#fdca26\"],[1.0,\"#f0f921\"]]},\"colorway\":[\"#636efa\",\"#EF553B\",\"#00cc96\",\"#ab63fa\",\"#FFA15A\",\"#19d3f3\",\"#FF6692\",\"#B6E880\",\"#FF97FF\",\"#FECB52\"],\"font\":{\"color\":\"#2a3f5f\"},\"geo\":{\"bgcolor\":\"white\",\"lakecolor\":\"white\",\"landcolor\":\"#E5ECF6\",\"showlakes\":true,\"showland\":true,\"subunitcolor\":\"white\"},\"hoverlabel\":{\"align\":\"left\"},\"hovermode\":\"closest\",\"mapbox\":{\"style\":\"light\"},\"paper_bgcolor\":\"white\",\"plot_bgcolor\":\"#E5ECF6\",\"polar\":{\"angularaxis\":{\"gridcolor\":\"white\",\"linecolor\":\"white\",\"ticks\":\"\"},\"bgcolor\":\"#E5ECF6\",\"radialaxis\":{\"gridcolor\":\"white\",\"linecolor\":\"white\",\"ticks\":\"\"}},\"scene\":{\"xaxis\":{\"backgroundcolor\":\"#E5ECF6\",\"gridcolor\":\"white\",\"gridwidth\":2,\"linecolor\":\"white\",\"showbackground\":true,\"ticks\":\"\",\"zerolinecolor\":\"white\"},\"yaxis\":{\"backgroundcolor\":\"#E5ECF6\",\"gridcolor\":\"white\",\"gridwidth\":2,\"linecolor\":\"white\",\"showbackground\":true,\"ticks\":\"\",\"zerolinecolor\":\"white\"},\"zaxis\":{\"backgroundcolor\":\"#E5ECF6\",\"gridcolor\":\"white\",\"gridwidth\":2,\"linecolor\":\"white\",\"showbackground\":true,\"ticks\":\"\",\"zerolinecolor\":\"white\"}},\"shapedefaults\":{\"line\":{\"color\":\"#2a3f5f\"}},\"ternary\":{\"aaxis\":{\"gridcolor\":\"white\",\"linecolor\":\"white\",\"ticks\":\"\"},\"baxis\":{\"gridcolor\":\"white\",\"linecolor\":\"white\",\"ticks\":\"\"},\"bgcolor\":\"#E5ECF6\",\"caxis\":{\"gridcolor\":\"white\",\"linecolor\":\"white\",\"ticks\":\"\"}},\"title\":{\"x\":0.05},\"xaxis\":{\"automargin\":true,\"gridcolor\":\"white\",\"linecolor\":\"white\",\"ticks\":\"\",\"title\":{\"standoff\":15},\"zerolinecolor\":\"white\",\"zerolinewidth\":2},\"yaxis\":{\"automargin\":true,\"gridcolor\":\"white\",\"linecolor\":\"white\",\"ticks\":\"\",\"title\":{\"standoff\":15},\"zerolinecolor\":\"white\",\"zerolinewidth\":2}}},\"xaxis\":{\"anchor\":\"y\",\"domain\":[0.0,1.0],\"title\":{\"text\":\"level\"}},\"yaxis\":{\"anchor\":\"x\",\"domain\":[0.0,1.0],\"title\":{\"text\":\"delta_time\"}}},                        {\"responsive\": true}                    ).then(function(){\n",
              "                            \n",
              "var gd = document.getElementById('f0be9505-1b40-4cb1-b816-02e8e2faabef');\n",
              "var x = new MutationObserver(function (mutations, observer) {{\n",
              "        var display = window.getComputedStyle(gd).display;\n",
              "        if (!display || display === 'none') {{\n",
              "            console.log([gd, 'removed!']);\n",
              "            Plotly.purge(gd);\n",
              "            observer.disconnect();\n",
              "        }}\n",
              "}});\n",
              "\n",
              "// Listen for the removal of the full notebook cells\n",
              "var notebookContainer = gd.closest('#notebook-container');\n",
              "if (notebookContainer) {{\n",
              "    x.observe(notebookContainer, {childList: true});\n",
              "}}\n",
              "\n",
              "// Listen for the clearing of the current output cell\n",
              "var outputEl = gd.closest('.output');\n",
              "if (outputEl) {{\n",
              "    x.observe(outputEl, {childList: true});\n",
              "}}\n",
              "\n",
              "                        })                };                            </script>        </div>\n",
              "</body>\n",
              "</html>"
            ]
          },
          "metadata": {}
        }
      ]
    },
    {
      "cell_type": "markdown",
      "metadata": {
        "id": "PFaCXNzyxuWe"
      },
      "source": [
        "# **6.2 Зависимость количества попыток для игроков которые остались, и которые нет по когортам пользователей**"
      ]
    },
    {
      "cell_type": "code",
      "metadata": {
        "colab": {
          "base_uri": "https://localhost:8080/",
          "height": 81
        },
        "id": "PGCd8mvhtGik",
        "outputId": "43eca056-6a41-41ff-f1c1-e9976c6c9b3f"
      },
      "source": [
        "table_raw = df_temp_24.pivot_table(index=['level','uid','churn', 'level_group'],columns='event_name',\n",
        "                                      values='delta_time', aggfunc='count'\n",
        "                                      ).reset_index()\n",
        "table_raw.head(1)"
      ],
      "execution_count": null,
      "outputs": [
        {
          "output_type": "execute_result",
          "data": {
            "text/html": [
              "<div>\n",
              "<style scoped>\n",
              "    .dataframe tbody tr th:only-of-type {\n",
              "        vertical-align: middle;\n",
              "    }\n",
              "\n",
              "    .dataframe tbody tr th {\n",
              "        vertical-align: top;\n",
              "    }\n",
              "\n",
              "    .dataframe thead th {\n",
              "        text-align: right;\n",
              "    }\n",
              "</style>\n",
              "<table border=\"1\" class=\"dataframe\">\n",
              "  <thead>\n",
              "    <tr style=\"text-align: right;\">\n",
              "      <th>event_name</th>\n",
              "      <th>level</th>\n",
              "      <th>uid</th>\n",
              "      <th>churn</th>\n",
              "      <th>level_group</th>\n",
              "      <th>battle_backtrack</th>\n",
              "      <th>battle_loss</th>\n",
              "      <th>battle_start</th>\n",
              "      <th>battle_win</th>\n",
              "    </tr>\n",
              "  </thead>\n",
              "  <tbody>\n",
              "    <tr>\n",
              "      <th>0</th>\n",
              "      <td>1.0</td>\n",
              "      <td>000c51e7-db50-4f30-95d6-462be3a2a5d3</td>\n",
              "      <td>0</td>\n",
              "      <td>0.0</td>\n",
              "      <td>NaN</td>\n",
              "      <td>NaN</td>\n",
              "      <td>1.0</td>\n",
              "      <td>0.0</td>\n",
              "    </tr>\n",
              "  </tbody>\n",
              "</table>\n",
              "</div>"
            ],
            "text/plain": [
              "event_name  level  ... battle_win\n",
              "0             1.0  ...        0.0\n",
              "\n",
              "[1 rows x 8 columns]"
            ]
          },
          "metadata": {},
          "execution_count": 150
        }
      ]
    },
    {
      "cell_type": "code",
      "metadata": {
        "colab": {
          "base_uri": "https://localhost:8080/",
          "height": 424
        },
        "id": "AUyGUqhFtZcs",
        "outputId": "c089d0f8-d193-4e41-aa8e-94fe08360e69"
      },
      "source": [
        "table_short_start = table_raw.pivot_table(index=['level','churn'], values='battle_start', \n",
        "                                    aggfunc='describe').reset_index()\n",
        "table_short_start_1 = table_short_start.drop(table_short_start[\n",
        "                                                             table_short_start['75%'] == 1.0].index)\n",
        "table_short_start_1"
      ],
      "execution_count": null,
      "outputs": [
        {
          "output_type": "execute_result",
          "data": {
            "text/html": [
              "<div>\n",
              "<style scoped>\n",
              "    .dataframe tbody tr th:only-of-type {\n",
              "        vertical-align: middle;\n",
              "    }\n",
              "\n",
              "    .dataframe tbody tr th {\n",
              "        vertical-align: top;\n",
              "    }\n",
              "\n",
              "    .dataframe thead th {\n",
              "        text-align: right;\n",
              "    }\n",
              "</style>\n",
              "<table border=\"1\" class=\"dataframe\">\n",
              "  <thead>\n",
              "    <tr style=\"text-align: right;\">\n",
              "      <th></th>\n",
              "      <th>level</th>\n",
              "      <th>churn</th>\n",
              "      <th>25%</th>\n",
              "      <th>50%</th>\n",
              "      <th>75%</th>\n",
              "      <th>count</th>\n",
              "      <th>max</th>\n",
              "      <th>mean</th>\n",
              "      <th>min</th>\n",
              "      <th>std</th>\n",
              "    </tr>\n",
              "  </thead>\n",
              "  <tbody>\n",
              "    <tr>\n",
              "      <th>0</th>\n",
              "      <td>1.0</td>\n",
              "      <td>0</td>\n",
              "      <td>1.0</td>\n",
              "      <td>1.0</td>\n",
              "      <td>2.0</td>\n",
              "      <td>1254.0</td>\n",
              "      <td>6.0</td>\n",
              "      <td>1.573365</td>\n",
              "      <td>1.0</td>\n",
              "      <td>0.873824</td>\n",
              "    </tr>\n",
              "    <tr>\n",
              "      <th>1</th>\n",
              "      <td>1.0</td>\n",
              "      <td>1</td>\n",
              "      <td>1.0</td>\n",
              "      <td>3.0</td>\n",
              "      <td>3.0</td>\n",
              "      <td>1431.0</td>\n",
              "      <td>12.0</td>\n",
              "      <td>2.367575</td>\n",
              "      <td>1.0</td>\n",
              "      <td>1.065891</td>\n",
              "    </tr>\n",
              "    <tr>\n",
              "      <th>2</th>\n",
              "      <td>2.0</td>\n",
              "      <td>0</td>\n",
              "      <td>1.0</td>\n",
              "      <td>1.0</td>\n",
              "      <td>2.0</td>\n",
              "      <td>1104.0</td>\n",
              "      <td>6.0</td>\n",
              "      <td>1.608696</td>\n",
              "      <td>1.0</td>\n",
              "      <td>0.869007</td>\n",
              "    </tr>\n",
              "    <tr>\n",
              "      <th>3</th>\n",
              "      <td>2.0</td>\n",
              "      <td>1</td>\n",
              "      <td>1.0</td>\n",
              "      <td>3.0</td>\n",
              "      <td>3.0</td>\n",
              "      <td>1403.0</td>\n",
              "      <td>22.0</td>\n",
              "      <td>2.375624</td>\n",
              "      <td>1.0</td>\n",
              "      <td>1.146553</td>\n",
              "    </tr>\n",
              "    <tr>\n",
              "      <th>4</th>\n",
              "      <td>3.0</td>\n",
              "      <td>0</td>\n",
              "      <td>1.0</td>\n",
              "      <td>1.0</td>\n",
              "      <td>2.0</td>\n",
              "      <td>991.0</td>\n",
              "      <td>6.0</td>\n",
              "      <td>1.667003</td>\n",
              "      <td>1.0</td>\n",
              "      <td>0.862291</td>\n",
              "    </tr>\n",
              "    <tr>\n",
              "      <th>...</th>\n",
              "      <td>...</td>\n",
              "      <td>...</td>\n",
              "      <td>...</td>\n",
              "      <td>...</td>\n",
              "      <td>...</td>\n",
              "      <td>...</td>\n",
              "      <td>...</td>\n",
              "      <td>...</td>\n",
              "      <td>...</td>\n",
              "      <td>...</td>\n",
              "    </tr>\n",
              "    <tr>\n",
              "      <th>155</th>\n",
              "      <td>99.0</td>\n",
              "      <td>1</td>\n",
              "      <td>8.0</td>\n",
              "      <td>8.0</td>\n",
              "      <td>8.0</td>\n",
              "      <td>1.0</td>\n",
              "      <td>8.0</td>\n",
              "      <td>8.000000</td>\n",
              "      <td>8.0</td>\n",
              "      <td>NaN</td>\n",
              "    </tr>\n",
              "    <tr>\n",
              "      <th>156</th>\n",
              "      <td>100.0</td>\n",
              "      <td>1</td>\n",
              "      <td>4.0</td>\n",
              "      <td>4.0</td>\n",
              "      <td>4.0</td>\n",
              "      <td>1.0</td>\n",
              "      <td>4.0</td>\n",
              "      <td>4.000000</td>\n",
              "      <td>4.0</td>\n",
              "      <td>NaN</td>\n",
              "    </tr>\n",
              "    <tr>\n",
              "      <th>157</th>\n",
              "      <td>101.0</td>\n",
              "      <td>1</td>\n",
              "      <td>4.0</td>\n",
              "      <td>4.0</td>\n",
              "      <td>4.0</td>\n",
              "      <td>1.0</td>\n",
              "      <td>4.0</td>\n",
              "      <td>4.000000</td>\n",
              "      <td>4.0</td>\n",
              "      <td>NaN</td>\n",
              "    </tr>\n",
              "    <tr>\n",
              "      <th>158</th>\n",
              "      <td>102.0</td>\n",
              "      <td>1</td>\n",
              "      <td>4.0</td>\n",
              "      <td>4.0</td>\n",
              "      <td>4.0</td>\n",
              "      <td>1.0</td>\n",
              "      <td>4.0</td>\n",
              "      <td>4.000000</td>\n",
              "      <td>4.0</td>\n",
              "      <td>NaN</td>\n",
              "    </tr>\n",
              "    <tr>\n",
              "      <th>159</th>\n",
              "      <td>103.0</td>\n",
              "      <td>1</td>\n",
              "      <td>8.0</td>\n",
              "      <td>8.0</td>\n",
              "      <td>8.0</td>\n",
              "      <td>1.0</td>\n",
              "      <td>8.0</td>\n",
              "      <td>8.000000</td>\n",
              "      <td>8.0</td>\n",
              "      <td>NaN</td>\n",
              "    </tr>\n",
              "  </tbody>\n",
              "</table>\n",
              "<p>160 rows × 10 columns</p>\n",
              "</div>"
            ],
            "text/plain": [
              "     level  churn  25%  50%  75%   count   max      mean  min       std\n",
              "0      1.0      0  1.0  1.0  2.0  1254.0   6.0  1.573365  1.0  0.873824\n",
              "1      1.0      1  1.0  3.0  3.0  1431.0  12.0  2.367575  1.0  1.065891\n",
              "2      2.0      0  1.0  1.0  2.0  1104.0   6.0  1.608696  1.0  0.869007\n",
              "3      2.0      1  1.0  3.0  3.0  1403.0  22.0  2.375624  1.0  1.146553\n",
              "4      3.0      0  1.0  1.0  2.0   991.0   6.0  1.667003  1.0  0.862291\n",
              "..     ...    ...  ...  ...  ...     ...   ...       ...  ...       ...\n",
              "155   99.0      1  8.0  8.0  8.0     1.0   8.0  8.000000  8.0       NaN\n",
              "156  100.0      1  4.0  4.0  4.0     1.0   4.0  4.000000  4.0       NaN\n",
              "157  101.0      1  4.0  4.0  4.0     1.0   4.0  4.000000  4.0       NaN\n",
              "158  102.0      1  4.0  4.0  4.0     1.0   4.0  4.000000  4.0       NaN\n",
              "159  103.0      1  8.0  8.0  8.0     1.0   8.0  8.000000  8.0       NaN\n",
              "\n",
              "[160 rows x 10 columns]"
            ]
          },
          "metadata": {},
          "execution_count": 157
        }
      ]
    },
    {
      "cell_type": "code",
      "metadata": {
        "id": "lSIdcD20427f"
      },
      "source": [
        ""
      ],
      "execution_count": null,
      "outputs": []
    },
    {
      "cell_type": "code",
      "metadata": {
        "colab": {
          "base_uri": "https://localhost:8080/",
          "height": 542
        },
        "id": "2GuTYoqgTZt0",
        "outputId": "db5253ee-a7da-4dc7-cf4f-e32f355f5e3a"
      },
      "source": [
        "px.bar(table_short_start[table_short_start['churn'] == 1], x='level', y='max')"
      ],
      "execution_count": null,
      "outputs": [
        {
          "output_type": "display_data",
          "data": {
            "text/html": [
              "<html>\n",
              "<head><meta charset=\"utf-8\" /></head>\n",
              "<body>\n",
              "    <div>            <script src=\"https://cdnjs.cloudflare.com/ajax/libs/mathjax/2.7.5/MathJax.js?config=TeX-AMS-MML_SVG\"></script><script type=\"text/javascript\">if (window.MathJax) {MathJax.Hub.Config({SVG: {font: \"STIX-Web\"}});}</script>                <script type=\"text/javascript\">window.PlotlyConfig = {MathJaxConfig: 'local'};</script>\n",
              "        <script src=\"https://cdn.plot.ly/plotly-2.3.1.min.js\"></script>                <div id=\"be6ca269-197f-4007-b5ed-c47dd38a34b6\" class=\"plotly-graph-div\" style=\"height:525px; width:100%;\"></div>            <script type=\"text/javascript\">                                    window.PLOTLYENV=window.PLOTLYENV || {};                                    if (document.getElementById(\"be6ca269-197f-4007-b5ed-c47dd38a34b6\")) {                    Plotly.newPlot(                        \"be6ca269-197f-4007-b5ed-c47dd38a34b6\",                        [{\"alignmentgroup\":\"True\",\"hovertemplate\":\"level=%{x}<br>max=%{y}<extra></extra>\",\"legendgroup\":\"\",\"marker\":{\"color\":\"#636efa\",\"pattern\":{\"shape\":\"\"}},\"name\":\"\",\"offsetgroup\":\"\",\"orientation\":\"v\",\"showlegend\":false,\"textposition\":\"auto\",\"type\":\"bar\",\"x\":[1.0,2.0,3.0,4.0,5.0,6.0,7.0,8.0,9.0,10.0,11.0,12.0,13.0,14.0,15.0,16.0,17.0,18.0,19.0,20.0,21.0,22.0,23.0,24.0,25.0,26.0,27.0,28.0,29.0,30.0,31.0,32.0,33.0,34.0,35.0,36.0,37.0,38.0,39.0,40.0,41.0,42.0,43.0,44.0,45.0,46.0,47.0,48.0,49.0,50.0,51.0,52.0,53.0,54.0,55.0,56.0,57.0,58.0,59.0,60.0,61.0,62.0,63.0,64.0,65.0,66.0,67.0,68.0,69.0,70.0,71.0,72.0,73.0,74.0,75.0,76.0,77.0,78.0,79.0,80.0,81.0,82.0,83.0,84.0,85.0,86.0,87.0,88.0,89.0,90.0,91.0,92.0,93.0,94.0,95.0,96.0,97.0,98.0,99.0,100.0,101.0,102.0,103.0],\"xaxis\":\"x\",\"y\":[12.0,22.0,15.0,12.0,24.0,21.0,12.0,36.0,30.0,18.0,27.0,12.0,21.0,48.0,51.0,64.0,36.0,45.0,45.0,54.0,12.0,57.0,51.0,24.0,57.0,18.0,39.0,30.0,78.0,20.0,39.0,56.0,39.0,21.0,16.0,32.0,56.0,48.0,24.0,32.0,56.0,28.0,30.0,21.0,24.0,60.0,32.0,24.0,15.0,78.0,21.0,15.0,12.0,36.0,15.0,15.0,24.0,24.0,18.0,24.0,15.0,15.0,9.0,45.0,21.0,12.0,18.0,15.0,18.0,6.0,6.0,8.0,18.0,12.0,8.0,9.0,12.0,6.0,6.0,9.0,12.0,15.0,8.0,4.0,12.0,6.0,12.0,4.0,8.0,9.0,8.0,4.0,4.0,24.0,4.0,4.0,12.0,12.0,8.0,4.0,4.0,4.0,8.0],\"yaxis\":\"y\"}],                        {\"barmode\":\"relative\",\"legend\":{\"tracegroupgap\":0},\"margin\":{\"t\":60},\"template\":{\"data\":{\"bar\":[{\"error_x\":{\"color\":\"#2a3f5f\"},\"error_y\":{\"color\":\"#2a3f5f\"},\"marker\":{\"line\":{\"color\":\"#E5ECF6\",\"width\":0.5},\"pattern\":{\"fillmode\":\"overlay\",\"size\":10,\"solidity\":0.2}},\"type\":\"bar\"}],\"barpolar\":[{\"marker\":{\"line\":{\"color\":\"#E5ECF6\",\"width\":0.5},\"pattern\":{\"fillmode\":\"overlay\",\"size\":10,\"solidity\":0.2}},\"type\":\"barpolar\"}],\"carpet\":[{\"aaxis\":{\"endlinecolor\":\"#2a3f5f\",\"gridcolor\":\"white\",\"linecolor\":\"white\",\"minorgridcolor\":\"white\",\"startlinecolor\":\"#2a3f5f\"},\"baxis\":{\"endlinecolor\":\"#2a3f5f\",\"gridcolor\":\"white\",\"linecolor\":\"white\",\"minorgridcolor\":\"white\",\"startlinecolor\":\"#2a3f5f\"},\"type\":\"carpet\"}],\"choropleth\":[{\"colorbar\":{\"outlinewidth\":0,\"ticks\":\"\"},\"type\":\"choropleth\"}],\"contour\":[{\"colorbar\":{\"outlinewidth\":0,\"ticks\":\"\"},\"colorscale\":[[0.0,\"#0d0887\"],[0.1111111111111111,\"#46039f\"],[0.2222222222222222,\"#7201a8\"],[0.3333333333333333,\"#9c179e\"],[0.4444444444444444,\"#bd3786\"],[0.5555555555555556,\"#d8576b\"],[0.6666666666666666,\"#ed7953\"],[0.7777777777777778,\"#fb9f3a\"],[0.8888888888888888,\"#fdca26\"],[1.0,\"#f0f921\"]],\"type\":\"contour\"}],\"contourcarpet\":[{\"colorbar\":{\"outlinewidth\":0,\"ticks\":\"\"},\"type\":\"contourcarpet\"}],\"heatmap\":[{\"colorbar\":{\"outlinewidth\":0,\"ticks\":\"\"},\"colorscale\":[[0.0,\"#0d0887\"],[0.1111111111111111,\"#46039f\"],[0.2222222222222222,\"#7201a8\"],[0.3333333333333333,\"#9c179e\"],[0.4444444444444444,\"#bd3786\"],[0.5555555555555556,\"#d8576b\"],[0.6666666666666666,\"#ed7953\"],[0.7777777777777778,\"#fb9f3a\"],[0.8888888888888888,\"#fdca26\"],[1.0,\"#f0f921\"]],\"type\":\"heatmap\"}],\"heatmapgl\":[{\"colorbar\":{\"outlinewidth\":0,\"ticks\":\"\"},\"colorscale\":[[0.0,\"#0d0887\"],[0.1111111111111111,\"#46039f\"],[0.2222222222222222,\"#7201a8\"],[0.3333333333333333,\"#9c179e\"],[0.4444444444444444,\"#bd3786\"],[0.5555555555555556,\"#d8576b\"],[0.6666666666666666,\"#ed7953\"],[0.7777777777777778,\"#fb9f3a\"],[0.8888888888888888,\"#fdca26\"],[1.0,\"#f0f921\"]],\"type\":\"heatmapgl\"}],\"histogram\":[{\"marker\":{\"pattern\":{\"fillmode\":\"overlay\",\"size\":10,\"solidity\":0.2}},\"type\":\"histogram\"}],\"histogram2d\":[{\"colorbar\":{\"outlinewidth\":0,\"ticks\":\"\"},\"colorscale\":[[0.0,\"#0d0887\"],[0.1111111111111111,\"#46039f\"],[0.2222222222222222,\"#7201a8\"],[0.3333333333333333,\"#9c179e\"],[0.4444444444444444,\"#bd3786\"],[0.5555555555555556,\"#d8576b\"],[0.6666666666666666,\"#ed7953\"],[0.7777777777777778,\"#fb9f3a\"],[0.8888888888888888,\"#fdca26\"],[1.0,\"#f0f921\"]],\"type\":\"histogram2d\"}],\"histogram2dcontour\":[{\"colorbar\":{\"outlinewidth\":0,\"ticks\":\"\"},\"colorscale\":[[0.0,\"#0d0887\"],[0.1111111111111111,\"#46039f\"],[0.2222222222222222,\"#7201a8\"],[0.3333333333333333,\"#9c179e\"],[0.4444444444444444,\"#bd3786\"],[0.5555555555555556,\"#d8576b\"],[0.6666666666666666,\"#ed7953\"],[0.7777777777777778,\"#fb9f3a\"],[0.8888888888888888,\"#fdca26\"],[1.0,\"#f0f921\"]],\"type\":\"histogram2dcontour\"}],\"mesh3d\":[{\"colorbar\":{\"outlinewidth\":0,\"ticks\":\"\"},\"type\":\"mesh3d\"}],\"parcoords\":[{\"line\":{\"colorbar\":{\"outlinewidth\":0,\"ticks\":\"\"}},\"type\":\"parcoords\"}],\"pie\":[{\"automargin\":true,\"type\":\"pie\"}],\"scatter\":[{\"marker\":{\"colorbar\":{\"outlinewidth\":0,\"ticks\":\"\"}},\"type\":\"scatter\"}],\"scatter3d\":[{\"line\":{\"colorbar\":{\"outlinewidth\":0,\"ticks\":\"\"}},\"marker\":{\"colorbar\":{\"outlinewidth\":0,\"ticks\":\"\"}},\"type\":\"scatter3d\"}],\"scattercarpet\":[{\"marker\":{\"colorbar\":{\"outlinewidth\":0,\"ticks\":\"\"}},\"type\":\"scattercarpet\"}],\"scattergeo\":[{\"marker\":{\"colorbar\":{\"outlinewidth\":0,\"ticks\":\"\"}},\"type\":\"scattergeo\"}],\"scattergl\":[{\"marker\":{\"colorbar\":{\"outlinewidth\":0,\"ticks\":\"\"}},\"type\":\"scattergl\"}],\"scattermapbox\":[{\"marker\":{\"colorbar\":{\"outlinewidth\":0,\"ticks\":\"\"}},\"type\":\"scattermapbox\"}],\"scatterpolar\":[{\"marker\":{\"colorbar\":{\"outlinewidth\":0,\"ticks\":\"\"}},\"type\":\"scatterpolar\"}],\"scatterpolargl\":[{\"marker\":{\"colorbar\":{\"outlinewidth\":0,\"ticks\":\"\"}},\"type\":\"scatterpolargl\"}],\"scatterternary\":[{\"marker\":{\"colorbar\":{\"outlinewidth\":0,\"ticks\":\"\"}},\"type\":\"scatterternary\"}],\"surface\":[{\"colorbar\":{\"outlinewidth\":0,\"ticks\":\"\"},\"colorscale\":[[0.0,\"#0d0887\"],[0.1111111111111111,\"#46039f\"],[0.2222222222222222,\"#7201a8\"],[0.3333333333333333,\"#9c179e\"],[0.4444444444444444,\"#bd3786\"],[0.5555555555555556,\"#d8576b\"],[0.6666666666666666,\"#ed7953\"],[0.7777777777777778,\"#fb9f3a\"],[0.8888888888888888,\"#fdca26\"],[1.0,\"#f0f921\"]],\"type\":\"surface\"}],\"table\":[{\"cells\":{\"fill\":{\"color\":\"#EBF0F8\"},\"line\":{\"color\":\"white\"}},\"header\":{\"fill\":{\"color\":\"#C8D4E3\"},\"line\":{\"color\":\"white\"}},\"type\":\"table\"}]},\"layout\":{\"annotationdefaults\":{\"arrowcolor\":\"#2a3f5f\",\"arrowhead\":0,\"arrowwidth\":1},\"autotypenumbers\":\"strict\",\"coloraxis\":{\"colorbar\":{\"outlinewidth\":0,\"ticks\":\"\"}},\"colorscale\":{\"diverging\":[[0,\"#8e0152\"],[0.1,\"#c51b7d\"],[0.2,\"#de77ae\"],[0.3,\"#f1b6da\"],[0.4,\"#fde0ef\"],[0.5,\"#f7f7f7\"],[0.6,\"#e6f5d0\"],[0.7,\"#b8e186\"],[0.8,\"#7fbc41\"],[0.9,\"#4d9221\"],[1,\"#276419\"]],\"sequential\":[[0.0,\"#0d0887\"],[0.1111111111111111,\"#46039f\"],[0.2222222222222222,\"#7201a8\"],[0.3333333333333333,\"#9c179e\"],[0.4444444444444444,\"#bd3786\"],[0.5555555555555556,\"#d8576b\"],[0.6666666666666666,\"#ed7953\"],[0.7777777777777778,\"#fb9f3a\"],[0.8888888888888888,\"#fdca26\"],[1.0,\"#f0f921\"]],\"sequentialminus\":[[0.0,\"#0d0887\"],[0.1111111111111111,\"#46039f\"],[0.2222222222222222,\"#7201a8\"],[0.3333333333333333,\"#9c179e\"],[0.4444444444444444,\"#bd3786\"],[0.5555555555555556,\"#d8576b\"],[0.6666666666666666,\"#ed7953\"],[0.7777777777777778,\"#fb9f3a\"],[0.8888888888888888,\"#fdca26\"],[1.0,\"#f0f921\"]]},\"colorway\":[\"#636efa\",\"#EF553B\",\"#00cc96\",\"#ab63fa\",\"#FFA15A\",\"#19d3f3\",\"#FF6692\",\"#B6E880\",\"#FF97FF\",\"#FECB52\"],\"font\":{\"color\":\"#2a3f5f\"},\"geo\":{\"bgcolor\":\"white\",\"lakecolor\":\"white\",\"landcolor\":\"#E5ECF6\",\"showlakes\":true,\"showland\":true,\"subunitcolor\":\"white\"},\"hoverlabel\":{\"align\":\"left\"},\"hovermode\":\"closest\",\"mapbox\":{\"style\":\"light\"},\"paper_bgcolor\":\"white\",\"plot_bgcolor\":\"#E5ECF6\",\"polar\":{\"angularaxis\":{\"gridcolor\":\"white\",\"linecolor\":\"white\",\"ticks\":\"\"},\"bgcolor\":\"#E5ECF6\",\"radialaxis\":{\"gridcolor\":\"white\",\"linecolor\":\"white\",\"ticks\":\"\"}},\"scene\":{\"xaxis\":{\"backgroundcolor\":\"#E5ECF6\",\"gridcolor\":\"white\",\"gridwidth\":2,\"linecolor\":\"white\",\"showbackground\":true,\"ticks\":\"\",\"zerolinecolor\":\"white\"},\"yaxis\":{\"backgroundcolor\":\"#E5ECF6\",\"gridcolor\":\"white\",\"gridwidth\":2,\"linecolor\":\"white\",\"showbackground\":true,\"ticks\":\"\",\"zerolinecolor\":\"white\"},\"zaxis\":{\"backgroundcolor\":\"#E5ECF6\",\"gridcolor\":\"white\",\"gridwidth\":2,\"linecolor\":\"white\",\"showbackground\":true,\"ticks\":\"\",\"zerolinecolor\":\"white\"}},\"shapedefaults\":{\"line\":{\"color\":\"#2a3f5f\"}},\"ternary\":{\"aaxis\":{\"gridcolor\":\"white\",\"linecolor\":\"white\",\"ticks\":\"\"},\"baxis\":{\"gridcolor\":\"white\",\"linecolor\":\"white\",\"ticks\":\"\"},\"bgcolor\":\"#E5ECF6\",\"caxis\":{\"gridcolor\":\"white\",\"linecolor\":\"white\",\"ticks\":\"\"}},\"title\":{\"x\":0.05},\"xaxis\":{\"automargin\":true,\"gridcolor\":\"white\",\"linecolor\":\"white\",\"ticks\":\"\",\"title\":{\"standoff\":15},\"zerolinecolor\":\"white\",\"zerolinewidth\":2},\"yaxis\":{\"automargin\":true,\"gridcolor\":\"white\",\"linecolor\":\"white\",\"ticks\":\"\",\"title\":{\"standoff\":15},\"zerolinecolor\":\"white\",\"zerolinewidth\":2}}},\"xaxis\":{\"anchor\":\"y\",\"domain\":[0.0,1.0],\"title\":{\"text\":\"level\"}},\"yaxis\":{\"anchor\":\"x\",\"domain\":[0.0,1.0],\"title\":{\"text\":\"max\"}}},                        {\"responsive\": true}                    ).then(function(){\n",
              "                            \n",
              "var gd = document.getElementById('be6ca269-197f-4007-b5ed-c47dd38a34b6');\n",
              "var x = new MutationObserver(function (mutations, observer) {{\n",
              "        var display = window.getComputedStyle(gd).display;\n",
              "        if (!display || display === 'none') {{\n",
              "            console.log([gd, 'removed!']);\n",
              "            Plotly.purge(gd);\n",
              "            observer.disconnect();\n",
              "        }}\n",
              "}});\n",
              "\n",
              "// Listen for the removal of the full notebook cells\n",
              "var notebookContainer = gd.closest('#notebook-container');\n",
              "if (notebookContainer) {{\n",
              "    x.observe(notebookContainer, {childList: true});\n",
              "}}\n",
              "\n",
              "// Listen for the clearing of the current output cell\n",
              "var outputEl = gd.closest('.output');\n",
              "if (outputEl) {{\n",
              "    x.observe(outputEl, {childList: true});\n",
              "}}\n",
              "\n",
              "                        })                };                            </script>        </div>\n",
              "</body>\n",
              "</html>"
            ]
          },
          "metadata": {}
        }
      ]
    },
    {
      "cell_type": "code",
      "metadata": {
        "colab": {
          "base_uri": "https://localhost:8080/",
          "height": 542
        },
        "id": "RmnIMgS24tpP",
        "outputId": "d64deada-1837-4f62-a721-c08639fc69c7"
      },
      "source": [
        "px.bar(table_short_start[table_short_start['churn'] == 0\n",
        "                         ], x='level', y='max')"
      ],
      "execution_count": null,
      "outputs": [
        {
          "output_type": "display_data",
          "data": {
            "text/html": [
              "<html>\n",
              "<head><meta charset=\"utf-8\" /></head>\n",
              "<body>\n",
              "    <div>            <script src=\"https://cdnjs.cloudflare.com/ajax/libs/mathjax/2.7.5/MathJax.js?config=TeX-AMS-MML_SVG\"></script><script type=\"text/javascript\">if (window.MathJax) {MathJax.Hub.Config({SVG: {font: \"STIX-Web\"}});}</script>                <script type=\"text/javascript\">window.PlotlyConfig = {MathJaxConfig: 'local'};</script>\n",
              "        <script src=\"https://cdn.plot.ly/plotly-2.3.1.min.js\"></script>                <div id=\"8cbbd338-ef67-4367-a47d-0d017b26fe6f\" class=\"plotly-graph-div\" style=\"height:525px; width:100%;\"></div>            <script type=\"text/javascript\">                                    window.PLOTLYENV=window.PLOTLYENV || {};                                    if (document.getElementById(\"8cbbd338-ef67-4367-a47d-0d017b26fe6f\")) {                    Plotly.newPlot(                        \"8cbbd338-ef67-4367-a47d-0d017b26fe6f\",                        [{\"alignmentgroup\":\"True\",\"hovertemplate\":\"level=%{x}<br>max=%{y}<extra></extra>\",\"legendgroup\":\"\",\"marker\":{\"color\":\"#636efa\",\"pattern\":{\"shape\":\"\"}},\"name\":\"\",\"offsetgroup\":\"\",\"orientation\":\"v\",\"showlegend\":false,\"textposition\":\"auto\",\"type\":\"bar\",\"x\":[1.0,2.0,3.0,4.0,5.0,6.0,7.0,8.0,9.0,10.0,11.0,12.0,13.0,14.0,15.0,16.0,17.0,18.0,19.0,20.0,21.0,22.0,23.0,24.0,25.0,26.0,27.0,28.0,29.0,30.0,31.0,32.0,33.0,34.0,35.0,36.0,37.0,38.0,39.0,40.0,41.0,42.0,43.0,44.0,45.0,46.0,47.0,48.0,49.0,50.0,51.0,52.0,53.0,54.0,55.0,56.0,57.0],\"xaxis\":\"x\",\"y\":[6.0,6.0,6.0,14.0,9.0,6.0,10.0,12.0,6.0,9.0,15.0,9.0,9.0,15.0,30.0,51.0,27.0,27.0,18.0,30.0,12.0,12.0,30.0,9.0,12.0,24.0,27.0,12.0,36.0,9.0,15.0,15.0,21.0,8.0,6.0,15.0,39.0,12.0,15.0,16.0,24.0,9.0,9.0,9.0,8.0,9.0,9.0,6.0,28.0,30.0,12.0,6.0,3.0,6.0,6.0,12.0,3.0],\"yaxis\":\"y\"}],                        {\"barmode\":\"relative\",\"legend\":{\"tracegroupgap\":0},\"margin\":{\"t\":60},\"template\":{\"data\":{\"bar\":[{\"error_x\":{\"color\":\"#2a3f5f\"},\"error_y\":{\"color\":\"#2a3f5f\"},\"marker\":{\"line\":{\"color\":\"#E5ECF6\",\"width\":0.5},\"pattern\":{\"fillmode\":\"overlay\",\"size\":10,\"solidity\":0.2}},\"type\":\"bar\"}],\"barpolar\":[{\"marker\":{\"line\":{\"color\":\"#E5ECF6\",\"width\":0.5},\"pattern\":{\"fillmode\":\"overlay\",\"size\":10,\"solidity\":0.2}},\"type\":\"barpolar\"}],\"carpet\":[{\"aaxis\":{\"endlinecolor\":\"#2a3f5f\",\"gridcolor\":\"white\",\"linecolor\":\"white\",\"minorgridcolor\":\"white\",\"startlinecolor\":\"#2a3f5f\"},\"baxis\":{\"endlinecolor\":\"#2a3f5f\",\"gridcolor\":\"white\",\"linecolor\":\"white\",\"minorgridcolor\":\"white\",\"startlinecolor\":\"#2a3f5f\"},\"type\":\"carpet\"}],\"choropleth\":[{\"colorbar\":{\"outlinewidth\":0,\"ticks\":\"\"},\"type\":\"choropleth\"}],\"contour\":[{\"colorbar\":{\"outlinewidth\":0,\"ticks\":\"\"},\"colorscale\":[[0.0,\"#0d0887\"],[0.1111111111111111,\"#46039f\"],[0.2222222222222222,\"#7201a8\"],[0.3333333333333333,\"#9c179e\"],[0.4444444444444444,\"#bd3786\"],[0.5555555555555556,\"#d8576b\"],[0.6666666666666666,\"#ed7953\"],[0.7777777777777778,\"#fb9f3a\"],[0.8888888888888888,\"#fdca26\"],[1.0,\"#f0f921\"]],\"type\":\"contour\"}],\"contourcarpet\":[{\"colorbar\":{\"outlinewidth\":0,\"ticks\":\"\"},\"type\":\"contourcarpet\"}],\"heatmap\":[{\"colorbar\":{\"outlinewidth\":0,\"ticks\":\"\"},\"colorscale\":[[0.0,\"#0d0887\"],[0.1111111111111111,\"#46039f\"],[0.2222222222222222,\"#7201a8\"],[0.3333333333333333,\"#9c179e\"],[0.4444444444444444,\"#bd3786\"],[0.5555555555555556,\"#d8576b\"],[0.6666666666666666,\"#ed7953\"],[0.7777777777777778,\"#fb9f3a\"],[0.8888888888888888,\"#fdca26\"],[1.0,\"#f0f921\"]],\"type\":\"heatmap\"}],\"heatmapgl\":[{\"colorbar\":{\"outlinewidth\":0,\"ticks\":\"\"},\"colorscale\":[[0.0,\"#0d0887\"],[0.1111111111111111,\"#46039f\"],[0.2222222222222222,\"#7201a8\"],[0.3333333333333333,\"#9c179e\"],[0.4444444444444444,\"#bd3786\"],[0.5555555555555556,\"#d8576b\"],[0.6666666666666666,\"#ed7953\"],[0.7777777777777778,\"#fb9f3a\"],[0.8888888888888888,\"#fdca26\"],[1.0,\"#f0f921\"]],\"type\":\"heatmapgl\"}],\"histogram\":[{\"marker\":{\"pattern\":{\"fillmode\":\"overlay\",\"size\":10,\"solidity\":0.2}},\"type\":\"histogram\"}],\"histogram2d\":[{\"colorbar\":{\"outlinewidth\":0,\"ticks\":\"\"},\"colorscale\":[[0.0,\"#0d0887\"],[0.1111111111111111,\"#46039f\"],[0.2222222222222222,\"#7201a8\"],[0.3333333333333333,\"#9c179e\"],[0.4444444444444444,\"#bd3786\"],[0.5555555555555556,\"#d8576b\"],[0.6666666666666666,\"#ed7953\"],[0.7777777777777778,\"#fb9f3a\"],[0.8888888888888888,\"#fdca26\"],[1.0,\"#f0f921\"]],\"type\":\"histogram2d\"}],\"histogram2dcontour\":[{\"colorbar\":{\"outlinewidth\":0,\"ticks\":\"\"},\"colorscale\":[[0.0,\"#0d0887\"],[0.1111111111111111,\"#46039f\"],[0.2222222222222222,\"#7201a8\"],[0.3333333333333333,\"#9c179e\"],[0.4444444444444444,\"#bd3786\"],[0.5555555555555556,\"#d8576b\"],[0.6666666666666666,\"#ed7953\"],[0.7777777777777778,\"#fb9f3a\"],[0.8888888888888888,\"#fdca26\"],[1.0,\"#f0f921\"]],\"type\":\"histogram2dcontour\"}],\"mesh3d\":[{\"colorbar\":{\"outlinewidth\":0,\"ticks\":\"\"},\"type\":\"mesh3d\"}],\"parcoords\":[{\"line\":{\"colorbar\":{\"outlinewidth\":0,\"ticks\":\"\"}},\"type\":\"parcoords\"}],\"pie\":[{\"automargin\":true,\"type\":\"pie\"}],\"scatter\":[{\"marker\":{\"colorbar\":{\"outlinewidth\":0,\"ticks\":\"\"}},\"type\":\"scatter\"}],\"scatter3d\":[{\"line\":{\"colorbar\":{\"outlinewidth\":0,\"ticks\":\"\"}},\"marker\":{\"colorbar\":{\"outlinewidth\":0,\"ticks\":\"\"}},\"type\":\"scatter3d\"}],\"scattercarpet\":[{\"marker\":{\"colorbar\":{\"outlinewidth\":0,\"ticks\":\"\"}},\"type\":\"scattercarpet\"}],\"scattergeo\":[{\"marker\":{\"colorbar\":{\"outlinewidth\":0,\"ticks\":\"\"}},\"type\":\"scattergeo\"}],\"scattergl\":[{\"marker\":{\"colorbar\":{\"outlinewidth\":0,\"ticks\":\"\"}},\"type\":\"scattergl\"}],\"scattermapbox\":[{\"marker\":{\"colorbar\":{\"outlinewidth\":0,\"ticks\":\"\"}},\"type\":\"scattermapbox\"}],\"scatterpolar\":[{\"marker\":{\"colorbar\":{\"outlinewidth\":0,\"ticks\":\"\"}},\"type\":\"scatterpolar\"}],\"scatterpolargl\":[{\"marker\":{\"colorbar\":{\"outlinewidth\":0,\"ticks\":\"\"}},\"type\":\"scatterpolargl\"}],\"scatterternary\":[{\"marker\":{\"colorbar\":{\"outlinewidth\":0,\"ticks\":\"\"}},\"type\":\"scatterternary\"}],\"surface\":[{\"colorbar\":{\"outlinewidth\":0,\"ticks\":\"\"},\"colorscale\":[[0.0,\"#0d0887\"],[0.1111111111111111,\"#46039f\"],[0.2222222222222222,\"#7201a8\"],[0.3333333333333333,\"#9c179e\"],[0.4444444444444444,\"#bd3786\"],[0.5555555555555556,\"#d8576b\"],[0.6666666666666666,\"#ed7953\"],[0.7777777777777778,\"#fb9f3a\"],[0.8888888888888888,\"#fdca26\"],[1.0,\"#f0f921\"]],\"type\":\"surface\"}],\"table\":[{\"cells\":{\"fill\":{\"color\":\"#EBF0F8\"},\"line\":{\"color\":\"white\"}},\"header\":{\"fill\":{\"color\":\"#C8D4E3\"},\"line\":{\"color\":\"white\"}},\"type\":\"table\"}]},\"layout\":{\"annotationdefaults\":{\"arrowcolor\":\"#2a3f5f\",\"arrowhead\":0,\"arrowwidth\":1},\"autotypenumbers\":\"strict\",\"coloraxis\":{\"colorbar\":{\"outlinewidth\":0,\"ticks\":\"\"}},\"colorscale\":{\"diverging\":[[0,\"#8e0152\"],[0.1,\"#c51b7d\"],[0.2,\"#de77ae\"],[0.3,\"#f1b6da\"],[0.4,\"#fde0ef\"],[0.5,\"#f7f7f7\"],[0.6,\"#e6f5d0\"],[0.7,\"#b8e186\"],[0.8,\"#7fbc41\"],[0.9,\"#4d9221\"],[1,\"#276419\"]],\"sequential\":[[0.0,\"#0d0887\"],[0.1111111111111111,\"#46039f\"],[0.2222222222222222,\"#7201a8\"],[0.3333333333333333,\"#9c179e\"],[0.4444444444444444,\"#bd3786\"],[0.5555555555555556,\"#d8576b\"],[0.6666666666666666,\"#ed7953\"],[0.7777777777777778,\"#fb9f3a\"],[0.8888888888888888,\"#fdca26\"],[1.0,\"#f0f921\"]],\"sequentialminus\":[[0.0,\"#0d0887\"],[0.1111111111111111,\"#46039f\"],[0.2222222222222222,\"#7201a8\"],[0.3333333333333333,\"#9c179e\"],[0.4444444444444444,\"#bd3786\"],[0.5555555555555556,\"#d8576b\"],[0.6666666666666666,\"#ed7953\"],[0.7777777777777778,\"#fb9f3a\"],[0.8888888888888888,\"#fdca26\"],[1.0,\"#f0f921\"]]},\"colorway\":[\"#636efa\",\"#EF553B\",\"#00cc96\",\"#ab63fa\",\"#FFA15A\",\"#19d3f3\",\"#FF6692\",\"#B6E880\",\"#FF97FF\",\"#FECB52\"],\"font\":{\"color\":\"#2a3f5f\"},\"geo\":{\"bgcolor\":\"white\",\"lakecolor\":\"white\",\"landcolor\":\"#E5ECF6\",\"showlakes\":true,\"showland\":true,\"subunitcolor\":\"white\"},\"hoverlabel\":{\"align\":\"left\"},\"hovermode\":\"closest\",\"mapbox\":{\"style\":\"light\"},\"paper_bgcolor\":\"white\",\"plot_bgcolor\":\"#E5ECF6\",\"polar\":{\"angularaxis\":{\"gridcolor\":\"white\",\"linecolor\":\"white\",\"ticks\":\"\"},\"bgcolor\":\"#E5ECF6\",\"radialaxis\":{\"gridcolor\":\"white\",\"linecolor\":\"white\",\"ticks\":\"\"}},\"scene\":{\"xaxis\":{\"backgroundcolor\":\"#E5ECF6\",\"gridcolor\":\"white\",\"gridwidth\":2,\"linecolor\":\"white\",\"showbackground\":true,\"ticks\":\"\",\"zerolinecolor\":\"white\"},\"yaxis\":{\"backgroundcolor\":\"#E5ECF6\",\"gridcolor\":\"white\",\"gridwidth\":2,\"linecolor\":\"white\",\"showbackground\":true,\"ticks\":\"\",\"zerolinecolor\":\"white\"},\"zaxis\":{\"backgroundcolor\":\"#E5ECF6\",\"gridcolor\":\"white\",\"gridwidth\":2,\"linecolor\":\"white\",\"showbackground\":true,\"ticks\":\"\",\"zerolinecolor\":\"white\"}},\"shapedefaults\":{\"line\":{\"color\":\"#2a3f5f\"}},\"ternary\":{\"aaxis\":{\"gridcolor\":\"white\",\"linecolor\":\"white\",\"ticks\":\"\"},\"baxis\":{\"gridcolor\":\"white\",\"linecolor\":\"white\",\"ticks\":\"\"},\"bgcolor\":\"#E5ECF6\",\"caxis\":{\"gridcolor\":\"white\",\"linecolor\":\"white\",\"ticks\":\"\"}},\"title\":{\"x\":0.05},\"xaxis\":{\"automargin\":true,\"gridcolor\":\"white\",\"linecolor\":\"white\",\"ticks\":\"\",\"title\":{\"standoff\":15},\"zerolinecolor\":\"white\",\"zerolinewidth\":2},\"yaxis\":{\"automargin\":true,\"gridcolor\":\"white\",\"linecolor\":\"white\",\"ticks\":\"\",\"title\":{\"standoff\":15},\"zerolinecolor\":\"white\",\"zerolinewidth\":2}}},\"xaxis\":{\"anchor\":\"y\",\"domain\":[0.0,1.0],\"title\":{\"text\":\"level\"}},\"yaxis\":{\"anchor\":\"x\",\"domain\":[0.0,1.0],\"title\":{\"text\":\"max\"}}},                        {\"responsive\": true}                    ).then(function(){\n",
              "                            \n",
              "var gd = document.getElementById('8cbbd338-ef67-4367-a47d-0d017b26fe6f');\n",
              "var x = new MutationObserver(function (mutations, observer) {{\n",
              "        var display = window.getComputedStyle(gd).display;\n",
              "        if (!display || display === 'none') {{\n",
              "            console.log([gd, 'removed!']);\n",
              "            Plotly.purge(gd);\n",
              "            observer.disconnect();\n",
              "        }}\n",
              "}});\n",
              "\n",
              "// Listen for the removal of the full notebook cells\n",
              "var notebookContainer = gd.closest('#notebook-container');\n",
              "if (notebookContainer) {{\n",
              "    x.observe(notebookContainer, {childList: true});\n",
              "}}\n",
              "\n",
              "// Listen for the clearing of the current output cell\n",
              "var outputEl = gd.closest('.output');\n",
              "if (outputEl) {{\n",
              "    x.observe(outputEl, {childList: true});\n",
              "}}\n",
              "\n",
              "                        })                };                            </script>        </div>\n",
              "</body>\n",
              "</html>"
            ]
          },
          "metadata": {}
        }
      ]
    },
    {
      "cell_type": "code",
      "metadata": {
        "colab": {
          "base_uri": "https://localhost:8080/",
          "height": 424
        },
        "id": "jnI6pOOxHZSO",
        "outputId": "97985a3b-0502-45c4-f11f-2f29c69e582e"
      },
      "source": [
        "table_short_loss = table_raw.pivot_table(index=['level','churn'], values='battle_loss', \n",
        "                                    aggfunc='describe').reset_index()\n",
        "table_short_loss"
      ],
      "execution_count": null,
      "outputs": [
        {
          "output_type": "execute_result",
          "data": {
            "text/html": [
              "<div>\n",
              "<style scoped>\n",
              "    .dataframe tbody tr th:only-of-type {\n",
              "        vertical-align: middle;\n",
              "    }\n",
              "\n",
              "    .dataframe tbody tr th {\n",
              "        vertical-align: top;\n",
              "    }\n",
              "\n",
              "    .dataframe thead th {\n",
              "        text-align: right;\n",
              "    }\n",
              "</style>\n",
              "<table border=\"1\" class=\"dataframe\">\n",
              "  <thead>\n",
              "    <tr style=\"text-align: right;\">\n",
              "      <th></th>\n",
              "      <th>level</th>\n",
              "      <th>churn</th>\n",
              "      <th>25%</th>\n",
              "      <th>50%</th>\n",
              "      <th>75%</th>\n",
              "      <th>count</th>\n",
              "      <th>max</th>\n",
              "      <th>mean</th>\n",
              "      <th>min</th>\n",
              "      <th>std</th>\n",
              "    </tr>\n",
              "  </thead>\n",
              "  <tbody>\n",
              "    <tr>\n",
              "      <th>0</th>\n",
              "      <td>0.0</td>\n",
              "      <td>0</td>\n",
              "      <td>0.0</td>\n",
              "      <td>0.0</td>\n",
              "      <td>0.0</td>\n",
              "      <td>219.0</td>\n",
              "      <td>0.0</td>\n",
              "      <td>0.0</td>\n",
              "      <td>0.0</td>\n",
              "      <td>0.0</td>\n",
              "    </tr>\n",
              "    <tr>\n",
              "      <th>1</th>\n",
              "      <td>0.0</td>\n",
              "      <td>1</td>\n",
              "      <td>0.0</td>\n",
              "      <td>0.0</td>\n",
              "      <td>0.0</td>\n",
              "      <td>834.0</td>\n",
              "      <td>0.0</td>\n",
              "      <td>0.0</td>\n",
              "      <td>0.0</td>\n",
              "      <td>0.0</td>\n",
              "    </tr>\n",
              "    <tr>\n",
              "      <th>2</th>\n",
              "      <td>1.0</td>\n",
              "      <td>0</td>\n",
              "      <td>NaN</td>\n",
              "      <td>NaN</td>\n",
              "      <td>NaN</td>\n",
              "      <td>0.0</td>\n",
              "      <td>NaN</td>\n",
              "      <td>NaN</td>\n",
              "      <td>NaN</td>\n",
              "      <td>NaN</td>\n",
              "    </tr>\n",
              "    <tr>\n",
              "      <th>3</th>\n",
              "      <td>1.0</td>\n",
              "      <td>1</td>\n",
              "      <td>0.0</td>\n",
              "      <td>0.0</td>\n",
              "      <td>0.0</td>\n",
              "      <td>2.0</td>\n",
              "      <td>0.0</td>\n",
              "      <td>0.0</td>\n",
              "      <td>0.0</td>\n",
              "      <td>0.0</td>\n",
              "    </tr>\n",
              "    <tr>\n",
              "      <th>4</th>\n",
              "      <td>2.0</td>\n",
              "      <td>0</td>\n",
              "      <td>0.0</td>\n",
              "      <td>0.0</td>\n",
              "      <td>0.0</td>\n",
              "      <td>6.0</td>\n",
              "      <td>0.0</td>\n",
              "      <td>0.0</td>\n",
              "      <td>0.0</td>\n",
              "      <td>0.0</td>\n",
              "    </tr>\n",
              "    <tr>\n",
              "      <th>...</th>\n",
              "      <td>...</td>\n",
              "      <td>...</td>\n",
              "      <td>...</td>\n",
              "      <td>...</td>\n",
              "      <td>...</td>\n",
              "      <td>...</td>\n",
              "      <td>...</td>\n",
              "      <td>...</td>\n",
              "      <td>...</td>\n",
              "      <td>...</td>\n",
              "    </tr>\n",
              "    <tr>\n",
              "      <th>360</th>\n",
              "      <td>302.0</td>\n",
              "      <td>1</td>\n",
              "      <td>0.0</td>\n",
              "      <td>0.0</td>\n",
              "      <td>0.0</td>\n",
              "      <td>1.0</td>\n",
              "      <td>0.0</td>\n",
              "      <td>0.0</td>\n",
              "      <td>0.0</td>\n",
              "      <td>NaN</td>\n",
              "    </tr>\n",
              "    <tr>\n",
              "      <th>361</th>\n",
              "      <td>303.0</td>\n",
              "      <td>1</td>\n",
              "      <td>NaN</td>\n",
              "      <td>NaN</td>\n",
              "      <td>NaN</td>\n",
              "      <td>0.0</td>\n",
              "      <td>NaN</td>\n",
              "      <td>NaN</td>\n",
              "      <td>NaN</td>\n",
              "      <td>NaN</td>\n",
              "    </tr>\n",
              "    <tr>\n",
              "      <th>362</th>\n",
              "      <td>304.0</td>\n",
              "      <td>1</td>\n",
              "      <td>NaN</td>\n",
              "      <td>NaN</td>\n",
              "      <td>NaN</td>\n",
              "      <td>0.0</td>\n",
              "      <td>NaN</td>\n",
              "      <td>NaN</td>\n",
              "      <td>NaN</td>\n",
              "      <td>NaN</td>\n",
              "    </tr>\n",
              "    <tr>\n",
              "      <th>363</th>\n",
              "      <td>305.0</td>\n",
              "      <td>1</td>\n",
              "      <td>NaN</td>\n",
              "      <td>NaN</td>\n",
              "      <td>NaN</td>\n",
              "      <td>0.0</td>\n",
              "      <td>NaN</td>\n",
              "      <td>NaN</td>\n",
              "      <td>NaN</td>\n",
              "      <td>NaN</td>\n",
              "    </tr>\n",
              "    <tr>\n",
              "      <th>364</th>\n",
              "      <td>306.0</td>\n",
              "      <td>1</td>\n",
              "      <td>0.0</td>\n",
              "      <td>0.0</td>\n",
              "      <td>0.0</td>\n",
              "      <td>1.0</td>\n",
              "      <td>0.0</td>\n",
              "      <td>0.0</td>\n",
              "      <td>0.0</td>\n",
              "      <td>NaN</td>\n",
              "    </tr>\n",
              "  </tbody>\n",
              "</table>\n",
              "<p>365 rows × 10 columns</p>\n",
              "</div>"
            ],
            "text/plain": [
              "     level  churn  25%  50%  75%  count  max  mean  min  std\n",
              "0      0.0      0  0.0  0.0  0.0  219.0  0.0   0.0  0.0  0.0\n",
              "1      0.0      1  0.0  0.0  0.0  834.0  0.0   0.0  0.0  0.0\n",
              "2      1.0      0  NaN  NaN  NaN    0.0  NaN   NaN  NaN  NaN\n",
              "3      1.0      1  0.0  0.0  0.0    2.0  0.0   0.0  0.0  0.0\n",
              "4      2.0      0  0.0  0.0  0.0    6.0  0.0   0.0  0.0  0.0\n",
              "..     ...    ...  ...  ...  ...    ...  ...   ...  ...  ...\n",
              "360  302.0      1  0.0  0.0  0.0    1.0  0.0   0.0  0.0  NaN\n",
              "361  303.0      1  NaN  NaN  NaN    0.0  NaN   NaN  NaN  NaN\n",
              "362  304.0      1  NaN  NaN  NaN    0.0  NaN   NaN  NaN  NaN\n",
              "363  305.0      1  NaN  NaN  NaN    0.0  NaN   NaN  NaN  NaN\n",
              "364  306.0      1  0.0  0.0  0.0    1.0  0.0   0.0  0.0  NaN\n",
              "\n",
              "[365 rows x 10 columns]"
            ]
          },
          "metadata": {},
          "execution_count": 106
        }
      ]
    },
    {
      "cell_type": "code",
      "metadata": {
        "colab": {
          "base_uri": "https://localhost:8080/",
          "height": 542
        },
        "id": "8fVhWmYE6_xx",
        "outputId": "1f0071f1-25e3-43d1-921c-bead922fbc8b"
      },
      "source": [
        "px.box(table_short_start, y='max', x='churn', points=\"all\")"
      ],
      "execution_count": null,
      "outputs": [
        {
          "output_type": "display_data",
          "data": {
            "text/html": [
              "<html>\n",
              "<head><meta charset=\"utf-8\" /></head>\n",
              "<body>\n",
              "    <div>            <script src=\"https://cdnjs.cloudflare.com/ajax/libs/mathjax/2.7.5/MathJax.js?config=TeX-AMS-MML_SVG\"></script><script type=\"text/javascript\">if (window.MathJax) {MathJax.Hub.Config({SVG: {font: \"STIX-Web\"}});}</script>                <script type=\"text/javascript\">window.PlotlyConfig = {MathJaxConfig: 'local'};</script>\n",
              "        <script src=\"https://cdn.plot.ly/plotly-2.3.1.min.js\"></script>                <div id=\"7f9e350f-1b0d-491f-abc0-eb70b23538f9\" class=\"plotly-graph-div\" style=\"height:525px; width:100%;\"></div>            <script type=\"text/javascript\">                                    window.PLOTLYENV=window.PLOTLYENV || {};                                    if (document.getElementById(\"7f9e350f-1b0d-491f-abc0-eb70b23538f9\")) {                    Plotly.newPlot(                        \"7f9e350f-1b0d-491f-abc0-eb70b23538f9\",                        [{\"alignmentgroup\":\"True\",\"boxpoints\":\"all\",\"hovertemplate\":\"churn=%{x}<br>max=%{y}<extra></extra>\",\"legendgroup\":\"\",\"marker\":{\"color\":\"#636efa\"},\"name\":\"\",\"notched\":false,\"offsetgroup\":\"\",\"orientation\":\"v\",\"showlegend\":false,\"type\":\"box\",\"x\":[0,1,0,1,0,1,0,1,0,1,0,1,0,1,0,1,0,1,0,1,0,1,0,1,0,1,0,1,0,1,0,1,0,1,0,1,0,1,0,1,0,1,0,1,0,1,0,1,0,1,0,1,0,1,0,1,0,1,0,1,0,1,0,1,0,1,0,1,0,1,0,1,0,1,0,1,0,1,0,1,0,1,0,1,0,1,0,1,0,1,0,1,0,1,0,1,0,1,0,1,0,1,0,1,0,1,0,1,0,1,0,1,0,1,1,1,1,1,1,1,1,1,1,1,1,1,1,1,1,1,1,1,1,1,1,1,1,1,1,1,1,1,1,1,1,1,1,1,1,1,1,1,1,1,1,1,1,1,1,1],\"x0\":\" \",\"xaxis\":\"x\",\"y\":[6.0,12.0,6.0,22.0,6.0,15.0,14.0,12.0,9.0,24.0,6.0,21.0,10.0,12.0,12.0,36.0,6.0,30.0,9.0,18.0,15.0,27.0,9.0,12.0,9.0,21.0,15.0,48.0,30.0,51.0,51.0,64.0,27.0,36.0,27.0,45.0,18.0,45.0,30.0,54.0,12.0,12.0,12.0,57.0,30.0,51.0,9.0,24.0,12.0,57.0,24.0,18.0,27.0,39.0,12.0,30.0,36.0,78.0,9.0,20.0,15.0,39.0,15.0,56.0,21.0,39.0,8.0,21.0,6.0,16.0,15.0,32.0,39.0,56.0,12.0,48.0,15.0,24.0,16.0,32.0,24.0,56.0,9.0,28.0,9.0,30.0,9.0,21.0,8.0,24.0,9.0,60.0,9.0,32.0,6.0,24.0,28.0,15.0,30.0,78.0,12.0,21.0,6.0,15.0,3.0,12.0,6.0,36.0,6.0,15.0,12.0,15.0,3.0,24.0,24.0,18.0,24.0,15.0,15.0,9.0,45.0,21.0,12.0,18.0,15.0,18.0,6.0,6.0,8.0,18.0,12.0,8.0,9.0,12.0,6.0,6.0,9.0,12.0,15.0,8.0,4.0,12.0,6.0,12.0,4.0,8.0,9.0,8.0,4.0,4.0,24.0,4.0,4.0,12.0,12.0,8.0,4.0,4.0,4.0,8.0],\"y0\":\" \",\"yaxis\":\"y\"}],                        {\"boxmode\":\"group\",\"legend\":{\"tracegroupgap\":0},\"margin\":{\"t\":60},\"template\":{\"data\":{\"bar\":[{\"error_x\":{\"color\":\"#2a3f5f\"},\"error_y\":{\"color\":\"#2a3f5f\"},\"marker\":{\"line\":{\"color\":\"#E5ECF6\",\"width\":0.5},\"pattern\":{\"fillmode\":\"overlay\",\"size\":10,\"solidity\":0.2}},\"type\":\"bar\"}],\"barpolar\":[{\"marker\":{\"line\":{\"color\":\"#E5ECF6\",\"width\":0.5},\"pattern\":{\"fillmode\":\"overlay\",\"size\":10,\"solidity\":0.2}},\"type\":\"barpolar\"}],\"carpet\":[{\"aaxis\":{\"endlinecolor\":\"#2a3f5f\",\"gridcolor\":\"white\",\"linecolor\":\"white\",\"minorgridcolor\":\"white\",\"startlinecolor\":\"#2a3f5f\"},\"baxis\":{\"endlinecolor\":\"#2a3f5f\",\"gridcolor\":\"white\",\"linecolor\":\"white\",\"minorgridcolor\":\"white\",\"startlinecolor\":\"#2a3f5f\"},\"type\":\"carpet\"}],\"choropleth\":[{\"colorbar\":{\"outlinewidth\":0,\"ticks\":\"\"},\"type\":\"choropleth\"}],\"contour\":[{\"colorbar\":{\"outlinewidth\":0,\"ticks\":\"\"},\"colorscale\":[[0.0,\"#0d0887\"],[0.1111111111111111,\"#46039f\"],[0.2222222222222222,\"#7201a8\"],[0.3333333333333333,\"#9c179e\"],[0.4444444444444444,\"#bd3786\"],[0.5555555555555556,\"#d8576b\"],[0.6666666666666666,\"#ed7953\"],[0.7777777777777778,\"#fb9f3a\"],[0.8888888888888888,\"#fdca26\"],[1.0,\"#f0f921\"]],\"type\":\"contour\"}],\"contourcarpet\":[{\"colorbar\":{\"outlinewidth\":0,\"ticks\":\"\"},\"type\":\"contourcarpet\"}],\"heatmap\":[{\"colorbar\":{\"outlinewidth\":0,\"ticks\":\"\"},\"colorscale\":[[0.0,\"#0d0887\"],[0.1111111111111111,\"#46039f\"],[0.2222222222222222,\"#7201a8\"],[0.3333333333333333,\"#9c179e\"],[0.4444444444444444,\"#bd3786\"],[0.5555555555555556,\"#d8576b\"],[0.6666666666666666,\"#ed7953\"],[0.7777777777777778,\"#fb9f3a\"],[0.8888888888888888,\"#fdca26\"],[1.0,\"#f0f921\"]],\"type\":\"heatmap\"}],\"heatmapgl\":[{\"colorbar\":{\"outlinewidth\":0,\"ticks\":\"\"},\"colorscale\":[[0.0,\"#0d0887\"],[0.1111111111111111,\"#46039f\"],[0.2222222222222222,\"#7201a8\"],[0.3333333333333333,\"#9c179e\"],[0.4444444444444444,\"#bd3786\"],[0.5555555555555556,\"#d8576b\"],[0.6666666666666666,\"#ed7953\"],[0.7777777777777778,\"#fb9f3a\"],[0.8888888888888888,\"#fdca26\"],[1.0,\"#f0f921\"]],\"type\":\"heatmapgl\"}],\"histogram\":[{\"marker\":{\"pattern\":{\"fillmode\":\"overlay\",\"size\":10,\"solidity\":0.2}},\"type\":\"histogram\"}],\"histogram2d\":[{\"colorbar\":{\"outlinewidth\":0,\"ticks\":\"\"},\"colorscale\":[[0.0,\"#0d0887\"],[0.1111111111111111,\"#46039f\"],[0.2222222222222222,\"#7201a8\"],[0.3333333333333333,\"#9c179e\"],[0.4444444444444444,\"#bd3786\"],[0.5555555555555556,\"#d8576b\"],[0.6666666666666666,\"#ed7953\"],[0.7777777777777778,\"#fb9f3a\"],[0.8888888888888888,\"#fdca26\"],[1.0,\"#f0f921\"]],\"type\":\"histogram2d\"}],\"histogram2dcontour\":[{\"colorbar\":{\"outlinewidth\":0,\"ticks\":\"\"},\"colorscale\":[[0.0,\"#0d0887\"],[0.1111111111111111,\"#46039f\"],[0.2222222222222222,\"#7201a8\"],[0.3333333333333333,\"#9c179e\"],[0.4444444444444444,\"#bd3786\"],[0.5555555555555556,\"#d8576b\"],[0.6666666666666666,\"#ed7953\"],[0.7777777777777778,\"#fb9f3a\"],[0.8888888888888888,\"#fdca26\"],[1.0,\"#f0f921\"]],\"type\":\"histogram2dcontour\"}],\"mesh3d\":[{\"colorbar\":{\"outlinewidth\":0,\"ticks\":\"\"},\"type\":\"mesh3d\"}],\"parcoords\":[{\"line\":{\"colorbar\":{\"outlinewidth\":0,\"ticks\":\"\"}},\"type\":\"parcoords\"}],\"pie\":[{\"automargin\":true,\"type\":\"pie\"}],\"scatter\":[{\"marker\":{\"colorbar\":{\"outlinewidth\":0,\"ticks\":\"\"}},\"type\":\"scatter\"}],\"scatter3d\":[{\"line\":{\"colorbar\":{\"outlinewidth\":0,\"ticks\":\"\"}},\"marker\":{\"colorbar\":{\"outlinewidth\":0,\"ticks\":\"\"}},\"type\":\"scatter3d\"}],\"scattercarpet\":[{\"marker\":{\"colorbar\":{\"outlinewidth\":0,\"ticks\":\"\"}},\"type\":\"scattercarpet\"}],\"scattergeo\":[{\"marker\":{\"colorbar\":{\"outlinewidth\":0,\"ticks\":\"\"}},\"type\":\"scattergeo\"}],\"scattergl\":[{\"marker\":{\"colorbar\":{\"outlinewidth\":0,\"ticks\":\"\"}},\"type\":\"scattergl\"}],\"scattermapbox\":[{\"marker\":{\"colorbar\":{\"outlinewidth\":0,\"ticks\":\"\"}},\"type\":\"scattermapbox\"}],\"scatterpolar\":[{\"marker\":{\"colorbar\":{\"outlinewidth\":0,\"ticks\":\"\"}},\"type\":\"scatterpolar\"}],\"scatterpolargl\":[{\"marker\":{\"colorbar\":{\"outlinewidth\":0,\"ticks\":\"\"}},\"type\":\"scatterpolargl\"}],\"scatterternary\":[{\"marker\":{\"colorbar\":{\"outlinewidth\":0,\"ticks\":\"\"}},\"type\":\"scatterternary\"}],\"surface\":[{\"colorbar\":{\"outlinewidth\":0,\"ticks\":\"\"},\"colorscale\":[[0.0,\"#0d0887\"],[0.1111111111111111,\"#46039f\"],[0.2222222222222222,\"#7201a8\"],[0.3333333333333333,\"#9c179e\"],[0.4444444444444444,\"#bd3786\"],[0.5555555555555556,\"#d8576b\"],[0.6666666666666666,\"#ed7953\"],[0.7777777777777778,\"#fb9f3a\"],[0.8888888888888888,\"#fdca26\"],[1.0,\"#f0f921\"]],\"type\":\"surface\"}],\"table\":[{\"cells\":{\"fill\":{\"color\":\"#EBF0F8\"},\"line\":{\"color\":\"white\"}},\"header\":{\"fill\":{\"color\":\"#C8D4E3\"},\"line\":{\"color\":\"white\"}},\"type\":\"table\"}]},\"layout\":{\"annotationdefaults\":{\"arrowcolor\":\"#2a3f5f\",\"arrowhead\":0,\"arrowwidth\":1},\"autotypenumbers\":\"strict\",\"coloraxis\":{\"colorbar\":{\"outlinewidth\":0,\"ticks\":\"\"}},\"colorscale\":{\"diverging\":[[0,\"#8e0152\"],[0.1,\"#c51b7d\"],[0.2,\"#de77ae\"],[0.3,\"#f1b6da\"],[0.4,\"#fde0ef\"],[0.5,\"#f7f7f7\"],[0.6,\"#e6f5d0\"],[0.7,\"#b8e186\"],[0.8,\"#7fbc41\"],[0.9,\"#4d9221\"],[1,\"#276419\"]],\"sequential\":[[0.0,\"#0d0887\"],[0.1111111111111111,\"#46039f\"],[0.2222222222222222,\"#7201a8\"],[0.3333333333333333,\"#9c179e\"],[0.4444444444444444,\"#bd3786\"],[0.5555555555555556,\"#d8576b\"],[0.6666666666666666,\"#ed7953\"],[0.7777777777777778,\"#fb9f3a\"],[0.8888888888888888,\"#fdca26\"],[1.0,\"#f0f921\"]],\"sequentialminus\":[[0.0,\"#0d0887\"],[0.1111111111111111,\"#46039f\"],[0.2222222222222222,\"#7201a8\"],[0.3333333333333333,\"#9c179e\"],[0.4444444444444444,\"#bd3786\"],[0.5555555555555556,\"#d8576b\"],[0.6666666666666666,\"#ed7953\"],[0.7777777777777778,\"#fb9f3a\"],[0.8888888888888888,\"#fdca26\"],[1.0,\"#f0f921\"]]},\"colorway\":[\"#636efa\",\"#EF553B\",\"#00cc96\",\"#ab63fa\",\"#FFA15A\",\"#19d3f3\",\"#FF6692\",\"#B6E880\",\"#FF97FF\",\"#FECB52\"],\"font\":{\"color\":\"#2a3f5f\"},\"geo\":{\"bgcolor\":\"white\",\"lakecolor\":\"white\",\"landcolor\":\"#E5ECF6\",\"showlakes\":true,\"showland\":true,\"subunitcolor\":\"white\"},\"hoverlabel\":{\"align\":\"left\"},\"hovermode\":\"closest\",\"mapbox\":{\"style\":\"light\"},\"paper_bgcolor\":\"white\",\"plot_bgcolor\":\"#E5ECF6\",\"polar\":{\"angularaxis\":{\"gridcolor\":\"white\",\"linecolor\":\"white\",\"ticks\":\"\"},\"bgcolor\":\"#E5ECF6\",\"radialaxis\":{\"gridcolor\":\"white\",\"linecolor\":\"white\",\"ticks\":\"\"}},\"scene\":{\"xaxis\":{\"backgroundcolor\":\"#E5ECF6\",\"gridcolor\":\"white\",\"gridwidth\":2,\"linecolor\":\"white\",\"showbackground\":true,\"ticks\":\"\",\"zerolinecolor\":\"white\"},\"yaxis\":{\"backgroundcolor\":\"#E5ECF6\",\"gridcolor\":\"white\",\"gridwidth\":2,\"linecolor\":\"white\",\"showbackground\":true,\"ticks\":\"\",\"zerolinecolor\":\"white\"},\"zaxis\":{\"backgroundcolor\":\"#E5ECF6\",\"gridcolor\":\"white\",\"gridwidth\":2,\"linecolor\":\"white\",\"showbackground\":true,\"ticks\":\"\",\"zerolinecolor\":\"white\"}},\"shapedefaults\":{\"line\":{\"color\":\"#2a3f5f\"}},\"ternary\":{\"aaxis\":{\"gridcolor\":\"white\",\"linecolor\":\"white\",\"ticks\":\"\"},\"baxis\":{\"gridcolor\":\"white\",\"linecolor\":\"white\",\"ticks\":\"\"},\"bgcolor\":\"#E5ECF6\",\"caxis\":{\"gridcolor\":\"white\",\"linecolor\":\"white\",\"ticks\":\"\"}},\"title\":{\"x\":0.05},\"xaxis\":{\"automargin\":true,\"gridcolor\":\"white\",\"linecolor\":\"white\",\"ticks\":\"\",\"title\":{\"standoff\":15},\"zerolinecolor\":\"white\",\"zerolinewidth\":2},\"yaxis\":{\"automargin\":true,\"gridcolor\":\"white\",\"linecolor\":\"white\",\"ticks\":\"\",\"title\":{\"standoff\":15},\"zerolinecolor\":\"white\",\"zerolinewidth\":2}}},\"xaxis\":{\"anchor\":\"y\",\"domain\":[0.0,1.0],\"title\":{\"text\":\"churn\"}},\"yaxis\":{\"anchor\":\"x\",\"domain\":[0.0,1.0],\"title\":{\"text\":\"max\"}}},                        {\"responsive\": true}                    ).then(function(){\n",
              "                            \n",
              "var gd = document.getElementById('7f9e350f-1b0d-491f-abc0-eb70b23538f9');\n",
              "var x = new MutationObserver(function (mutations, observer) {{\n",
              "        var display = window.getComputedStyle(gd).display;\n",
              "        if (!display || display === 'none') {{\n",
              "            console.log([gd, 'removed!']);\n",
              "            Plotly.purge(gd);\n",
              "            observer.disconnect();\n",
              "        }}\n",
              "}});\n",
              "\n",
              "// Listen for the removal of the full notebook cells\n",
              "var notebookContainer = gd.closest('#notebook-container');\n",
              "if (notebookContainer) {{\n",
              "    x.observe(notebookContainer, {childList: true});\n",
              "}}\n",
              "\n",
              "// Listen for the clearing of the current output cell\n",
              "var outputEl = gd.closest('.output');\n",
              "if (outputEl) {{\n",
              "    x.observe(outputEl, {childList: true});\n",
              "}}\n",
              "\n",
              "                        })                };                            </script>        </div>\n",
              "</body>\n",
              "</html>"
            ]
          },
          "metadata": {}
        }
      ]
    },
    {
      "cell_type": "code",
      "metadata": {
        "colab": {
          "base_uri": "https://localhost:8080/",
          "height": 424
        },
        "id": "rq-jhQzvgAA-",
        "outputId": "22c99f43-90eb-4951-cdad-b5151bb76ffb"
      },
      "source": [
        "table_short_loss[table_short_loss['level'] < 150]"
      ],
      "execution_count": null,
      "outputs": [
        {
          "output_type": "execute_result",
          "data": {
            "text/html": [
              "<div>\n",
              "<style scoped>\n",
              "    .dataframe tbody tr th:only-of-type {\n",
              "        vertical-align: middle;\n",
              "    }\n",
              "\n",
              "    .dataframe tbody tr th {\n",
              "        vertical-align: top;\n",
              "    }\n",
              "\n",
              "    .dataframe thead th {\n",
              "        text-align: right;\n",
              "    }\n",
              "</style>\n",
              "<table border=\"1\" class=\"dataframe\">\n",
              "  <thead>\n",
              "    <tr style=\"text-align: right;\">\n",
              "      <th></th>\n",
              "      <th>level</th>\n",
              "      <th>churn</th>\n",
              "      <th>25%</th>\n",
              "      <th>50%</th>\n",
              "      <th>75%</th>\n",
              "      <th>count</th>\n",
              "      <th>max</th>\n",
              "      <th>mean</th>\n",
              "      <th>min</th>\n",
              "      <th>std</th>\n",
              "    </tr>\n",
              "  </thead>\n",
              "  <tbody>\n",
              "    <tr>\n",
              "      <th>0</th>\n",
              "      <td>0.0</td>\n",
              "      <td>0</td>\n",
              "      <td>0.0</td>\n",
              "      <td>0.0</td>\n",
              "      <td>0.0</td>\n",
              "      <td>219.0</td>\n",
              "      <td>0.0</td>\n",
              "      <td>0.0</td>\n",
              "      <td>0.0</td>\n",
              "      <td>0.0</td>\n",
              "    </tr>\n",
              "    <tr>\n",
              "      <th>1</th>\n",
              "      <td>0.0</td>\n",
              "      <td>1</td>\n",
              "      <td>0.0</td>\n",
              "      <td>0.0</td>\n",
              "      <td>0.0</td>\n",
              "      <td>834.0</td>\n",
              "      <td>0.0</td>\n",
              "      <td>0.0</td>\n",
              "      <td>0.0</td>\n",
              "      <td>0.0</td>\n",
              "    </tr>\n",
              "    <tr>\n",
              "      <th>2</th>\n",
              "      <td>1.0</td>\n",
              "      <td>0</td>\n",
              "      <td>NaN</td>\n",
              "      <td>NaN</td>\n",
              "      <td>NaN</td>\n",
              "      <td>0.0</td>\n",
              "      <td>NaN</td>\n",
              "      <td>NaN</td>\n",
              "      <td>NaN</td>\n",
              "      <td>NaN</td>\n",
              "    </tr>\n",
              "    <tr>\n",
              "      <th>3</th>\n",
              "      <td>1.0</td>\n",
              "      <td>1</td>\n",
              "      <td>0.0</td>\n",
              "      <td>0.0</td>\n",
              "      <td>0.0</td>\n",
              "      <td>2.0</td>\n",
              "      <td>0.0</td>\n",
              "      <td>0.0</td>\n",
              "      <td>0.0</td>\n",
              "      <td>0.0</td>\n",
              "    </tr>\n",
              "    <tr>\n",
              "      <th>4</th>\n",
              "      <td>2.0</td>\n",
              "      <td>0</td>\n",
              "      <td>0.0</td>\n",
              "      <td>0.0</td>\n",
              "      <td>0.0</td>\n",
              "      <td>6.0</td>\n",
              "      <td>0.0</td>\n",
              "      <td>0.0</td>\n",
              "      <td>0.0</td>\n",
              "      <td>0.0</td>\n",
              "    </tr>\n",
              "    <tr>\n",
              "      <th>...</th>\n",
              "      <td>...</td>\n",
              "      <td>...</td>\n",
              "      <td>...</td>\n",
              "      <td>...</td>\n",
              "      <td>...</td>\n",
              "      <td>...</td>\n",
              "      <td>...</td>\n",
              "      <td>...</td>\n",
              "      <td>...</td>\n",
              "      <td>...</td>\n",
              "    </tr>\n",
              "    <tr>\n",
              "      <th>203</th>\n",
              "      <td>145.0</td>\n",
              "      <td>1</td>\n",
              "      <td>0.0</td>\n",
              "      <td>0.0</td>\n",
              "      <td>0.0</td>\n",
              "      <td>25.0</td>\n",
              "      <td>0.0</td>\n",
              "      <td>0.0</td>\n",
              "      <td>0.0</td>\n",
              "      <td>0.0</td>\n",
              "    </tr>\n",
              "    <tr>\n",
              "      <th>204</th>\n",
              "      <td>146.0</td>\n",
              "      <td>1</td>\n",
              "      <td>0.0</td>\n",
              "      <td>0.0</td>\n",
              "      <td>0.0</td>\n",
              "      <td>17.0</td>\n",
              "      <td>0.0</td>\n",
              "      <td>0.0</td>\n",
              "      <td>0.0</td>\n",
              "      <td>0.0</td>\n",
              "    </tr>\n",
              "    <tr>\n",
              "      <th>205</th>\n",
              "      <td>147.0</td>\n",
              "      <td>1</td>\n",
              "      <td>0.0</td>\n",
              "      <td>0.0</td>\n",
              "      <td>0.0</td>\n",
              "      <td>28.0</td>\n",
              "      <td>0.0</td>\n",
              "      <td>0.0</td>\n",
              "      <td>0.0</td>\n",
              "      <td>0.0</td>\n",
              "    </tr>\n",
              "    <tr>\n",
              "      <th>206</th>\n",
              "      <td>148.0</td>\n",
              "      <td>1</td>\n",
              "      <td>0.0</td>\n",
              "      <td>0.0</td>\n",
              "      <td>0.0</td>\n",
              "      <td>27.0</td>\n",
              "      <td>0.0</td>\n",
              "      <td>0.0</td>\n",
              "      <td>0.0</td>\n",
              "      <td>0.0</td>\n",
              "    </tr>\n",
              "    <tr>\n",
              "      <th>207</th>\n",
              "      <td>149.0</td>\n",
              "      <td>1</td>\n",
              "      <td>0.0</td>\n",
              "      <td>0.0</td>\n",
              "      <td>0.0</td>\n",
              "      <td>32.0</td>\n",
              "      <td>0.0</td>\n",
              "      <td>0.0</td>\n",
              "      <td>0.0</td>\n",
              "      <td>0.0</td>\n",
              "    </tr>\n",
              "  </tbody>\n",
              "</table>\n",
              "<p>208 rows × 10 columns</p>\n",
              "</div>"
            ],
            "text/plain": [
              "     level  churn  25%  50%  75%  count  max  mean  min  std\n",
              "0      0.0      0  0.0  0.0  0.0  219.0  0.0   0.0  0.0  0.0\n",
              "1      0.0      1  0.0  0.0  0.0  834.0  0.0   0.0  0.0  0.0\n",
              "2      1.0      0  NaN  NaN  NaN    0.0  NaN   NaN  NaN  NaN\n",
              "3      1.0      1  0.0  0.0  0.0    2.0  0.0   0.0  0.0  0.0\n",
              "4      2.0      0  0.0  0.0  0.0    6.0  0.0   0.0  0.0  0.0\n",
              "..     ...    ...  ...  ...  ...    ...  ...   ...  ...  ...\n",
              "203  145.0      1  0.0  0.0  0.0   25.0  0.0   0.0  0.0  0.0\n",
              "204  146.0      1  0.0  0.0  0.0   17.0  0.0   0.0  0.0  0.0\n",
              "205  147.0      1  0.0  0.0  0.0   28.0  0.0   0.0  0.0  0.0\n",
              "206  148.0      1  0.0  0.0  0.0   27.0  0.0   0.0  0.0  0.0\n",
              "207  149.0      1  0.0  0.0  0.0   32.0  0.0   0.0  0.0  0.0\n",
              "\n",
              "[208 rows x 10 columns]"
            ]
          },
          "metadata": {},
          "execution_count": 108
        }
      ]
    },
    {
      "cell_type": "code",
      "metadata": {
        "colab": {
          "base_uri": "https://localhost:8080/",
          "height": 542
        },
        "id": "jnjk3xHqp1G9",
        "outputId": "c8f03020-d1dd-4f56-f505-9e2de2f3f19c"
      },
      "source": [
        "px.box(table_short_loss[table_short_loss['level'] < 150], y='75%', x='churn')"
      ],
      "execution_count": null,
      "outputs": [
        {
          "output_type": "display_data",
          "data": {
            "text/html": [
              "<html>\n",
              "<head><meta charset=\"utf-8\" /></head>\n",
              "<body>\n",
              "    <div>            <script src=\"https://cdnjs.cloudflare.com/ajax/libs/mathjax/2.7.5/MathJax.js?config=TeX-AMS-MML_SVG\"></script><script type=\"text/javascript\">if (window.MathJax) {MathJax.Hub.Config({SVG: {font: \"STIX-Web\"}});}</script>                <script type=\"text/javascript\">window.PlotlyConfig = {MathJaxConfig: 'local'};</script>\n",
              "        <script src=\"https://cdn.plot.ly/plotly-2.3.1.min.js\"></script>                <div id=\"fbe1eb00-c8db-421d-ad83-fd3acbdafd9f\" class=\"plotly-graph-div\" style=\"height:525px; width:100%;\"></div>            <script type=\"text/javascript\">                                    window.PLOTLYENV=window.PLOTLYENV || {};                                    if (document.getElementById(\"fbe1eb00-c8db-421d-ad83-fd3acbdafd9f\")) {                    Plotly.newPlot(                        \"fbe1eb00-c8db-421d-ad83-fd3acbdafd9f\",                        [{\"alignmentgroup\":\"True\",\"hovertemplate\":\"churn=%{x}<br>75%=%{y}<extra></extra>\",\"legendgroup\":\"\",\"marker\":{\"color\":\"#636efa\"},\"name\":\"\",\"notched\":false,\"offsetgroup\":\"\",\"orientation\":\"v\",\"showlegend\":false,\"type\":\"box\",\"x\":[0,1,0,1,0,1,0,1,0,1,0,1,0,1,0,1,0,1,0,1,0,1,0,1,0,1,0,1,0,1,0,1,0,1,0,1,0,1,0,1,0,1,0,1,0,1,0,1,0,1,0,1,0,1,0,1,0,1,0,1,0,1,0,1,0,1,0,1,0,1,0,1,0,1,0,1,0,1,0,1,0,1,0,1,0,1,0,1,0,1,0,1,0,1,0,1,0,1,0,1,0,1,0,1,0,1,0,1,0,1,0,1,0,1,0,1,1,1,1,1,1,1,1,1,1,1,1,1,1,1,1,1,1,1,1,1,1,1,1,1,1,1,1,1,1,1,1,1,1,1,1,1,1,1,1,1,1,1,1,1,1,1,1,1,1,1,1,1,1,1,1,1,1,1,1,1,1,1,1,1,1,1,1,1,1,1,1,1,1,1,1,1,1,1,1,1,1,1,1,1,1,1,1,1,1,1,1,1],\"x0\":\" \",\"xaxis\":\"x\",\"y\":[0.0,0.0,null,0.0,0.0,0.0,0.0,0.0,0.0,0.0,0.0,0.0,0.0,0.0,0.0,0.0,0.0,0.0,0.0,0.0,0.0,0.0,0.0,0.0,0.0,0.0,0.0,0.0,0.0,0.0,0.0,0.0,0.0,0.0,0.0,0.0,0.0,0.0,0.0,0.0,0.0,0.0,0.0,0.0,0.0,0.0,0.0,0.0,0.0,0.0,0.0,0.0,0.0,0.0,0.0,0.0,0.0,0.0,0.0,0.0,0.0,0.0,0.0,0.0,0.0,0.0,0.0,0.0,0.0,0.0,0.0,0.0,0.0,0.0,0.0,0.0,0.0,0.0,0.0,0.0,0.0,0.0,0.0,0.0,0.0,0.0,0.0,0.0,0.0,0.0,0.0,0.0,0.0,0.0,0.0,0.0,0.0,0.0,0.0,0.0,0.0,0.0,0.0,0.0,0.0,0.0,null,0.0,0.0,0.0,0.0,0.0,0.0,0.0,null,0.0,0.0,0.0,0.0,0.0,0.0,0.0,0.0,0.0,0.0,0.0,0.0,0.0,0.0,0.0,0.0,0.0,0.0,0.0,0.0,0.0,0.0,0.0,0.0,0.0,0.0,0.0,0.0,0.0,0.0,0.0,0.0,0.0,0.0,0.0,0.0,0.0,0.0,0.0,0.0,0.0,0.0,0.0,0.0,0.0,0.0,0.0,0.0,0.0,0.0,0.0,0.0,0.0,0.0,0.0,0.0,0.0,0.0,0.0,0.0,0.0,0.0,0.0,0.0,0.0,0.0,0.0,0.0,0.0,0.0,0.0,0.0,0.0,0.0,0.0,0.0,0.0,0.0,0.0,0.0,0.0,0.0,0.0,0.0,0.0,0.0,0.0,0.0,0.0,0.0,0.0,0.0,0.0],\"y0\":\" \",\"yaxis\":\"y\"}],                        {\"boxmode\":\"group\",\"legend\":{\"tracegroupgap\":0},\"margin\":{\"t\":60},\"template\":{\"data\":{\"bar\":[{\"error_x\":{\"color\":\"#2a3f5f\"},\"error_y\":{\"color\":\"#2a3f5f\"},\"marker\":{\"line\":{\"color\":\"#E5ECF6\",\"width\":0.5},\"pattern\":{\"fillmode\":\"overlay\",\"size\":10,\"solidity\":0.2}},\"type\":\"bar\"}],\"barpolar\":[{\"marker\":{\"line\":{\"color\":\"#E5ECF6\",\"width\":0.5},\"pattern\":{\"fillmode\":\"overlay\",\"size\":10,\"solidity\":0.2}},\"type\":\"barpolar\"}],\"carpet\":[{\"aaxis\":{\"endlinecolor\":\"#2a3f5f\",\"gridcolor\":\"white\",\"linecolor\":\"white\",\"minorgridcolor\":\"white\",\"startlinecolor\":\"#2a3f5f\"},\"baxis\":{\"endlinecolor\":\"#2a3f5f\",\"gridcolor\":\"white\",\"linecolor\":\"white\",\"minorgridcolor\":\"white\",\"startlinecolor\":\"#2a3f5f\"},\"type\":\"carpet\"}],\"choropleth\":[{\"colorbar\":{\"outlinewidth\":0,\"ticks\":\"\"},\"type\":\"choropleth\"}],\"contour\":[{\"colorbar\":{\"outlinewidth\":0,\"ticks\":\"\"},\"colorscale\":[[0.0,\"#0d0887\"],[0.1111111111111111,\"#46039f\"],[0.2222222222222222,\"#7201a8\"],[0.3333333333333333,\"#9c179e\"],[0.4444444444444444,\"#bd3786\"],[0.5555555555555556,\"#d8576b\"],[0.6666666666666666,\"#ed7953\"],[0.7777777777777778,\"#fb9f3a\"],[0.8888888888888888,\"#fdca26\"],[1.0,\"#f0f921\"]],\"type\":\"contour\"}],\"contourcarpet\":[{\"colorbar\":{\"outlinewidth\":0,\"ticks\":\"\"},\"type\":\"contourcarpet\"}],\"heatmap\":[{\"colorbar\":{\"outlinewidth\":0,\"ticks\":\"\"},\"colorscale\":[[0.0,\"#0d0887\"],[0.1111111111111111,\"#46039f\"],[0.2222222222222222,\"#7201a8\"],[0.3333333333333333,\"#9c179e\"],[0.4444444444444444,\"#bd3786\"],[0.5555555555555556,\"#d8576b\"],[0.6666666666666666,\"#ed7953\"],[0.7777777777777778,\"#fb9f3a\"],[0.8888888888888888,\"#fdca26\"],[1.0,\"#f0f921\"]],\"type\":\"heatmap\"}],\"heatmapgl\":[{\"colorbar\":{\"outlinewidth\":0,\"ticks\":\"\"},\"colorscale\":[[0.0,\"#0d0887\"],[0.1111111111111111,\"#46039f\"],[0.2222222222222222,\"#7201a8\"],[0.3333333333333333,\"#9c179e\"],[0.4444444444444444,\"#bd3786\"],[0.5555555555555556,\"#d8576b\"],[0.6666666666666666,\"#ed7953\"],[0.7777777777777778,\"#fb9f3a\"],[0.8888888888888888,\"#fdca26\"],[1.0,\"#f0f921\"]],\"type\":\"heatmapgl\"}],\"histogram\":[{\"marker\":{\"pattern\":{\"fillmode\":\"overlay\",\"size\":10,\"solidity\":0.2}},\"type\":\"histogram\"}],\"histogram2d\":[{\"colorbar\":{\"outlinewidth\":0,\"ticks\":\"\"},\"colorscale\":[[0.0,\"#0d0887\"],[0.1111111111111111,\"#46039f\"],[0.2222222222222222,\"#7201a8\"],[0.3333333333333333,\"#9c179e\"],[0.4444444444444444,\"#bd3786\"],[0.5555555555555556,\"#d8576b\"],[0.6666666666666666,\"#ed7953\"],[0.7777777777777778,\"#fb9f3a\"],[0.8888888888888888,\"#fdca26\"],[1.0,\"#f0f921\"]],\"type\":\"histogram2d\"}],\"histogram2dcontour\":[{\"colorbar\":{\"outlinewidth\":0,\"ticks\":\"\"},\"colorscale\":[[0.0,\"#0d0887\"],[0.1111111111111111,\"#46039f\"],[0.2222222222222222,\"#7201a8\"],[0.3333333333333333,\"#9c179e\"],[0.4444444444444444,\"#bd3786\"],[0.5555555555555556,\"#d8576b\"],[0.6666666666666666,\"#ed7953\"],[0.7777777777777778,\"#fb9f3a\"],[0.8888888888888888,\"#fdca26\"],[1.0,\"#f0f921\"]],\"type\":\"histogram2dcontour\"}],\"mesh3d\":[{\"colorbar\":{\"outlinewidth\":0,\"ticks\":\"\"},\"type\":\"mesh3d\"}],\"parcoords\":[{\"line\":{\"colorbar\":{\"outlinewidth\":0,\"ticks\":\"\"}},\"type\":\"parcoords\"}],\"pie\":[{\"automargin\":true,\"type\":\"pie\"}],\"scatter\":[{\"marker\":{\"colorbar\":{\"outlinewidth\":0,\"ticks\":\"\"}},\"type\":\"scatter\"}],\"scatter3d\":[{\"line\":{\"colorbar\":{\"outlinewidth\":0,\"ticks\":\"\"}},\"marker\":{\"colorbar\":{\"outlinewidth\":0,\"ticks\":\"\"}},\"type\":\"scatter3d\"}],\"scattercarpet\":[{\"marker\":{\"colorbar\":{\"outlinewidth\":0,\"ticks\":\"\"}},\"type\":\"scattercarpet\"}],\"scattergeo\":[{\"marker\":{\"colorbar\":{\"outlinewidth\":0,\"ticks\":\"\"}},\"type\":\"scattergeo\"}],\"scattergl\":[{\"marker\":{\"colorbar\":{\"outlinewidth\":0,\"ticks\":\"\"}},\"type\":\"scattergl\"}],\"scattermapbox\":[{\"marker\":{\"colorbar\":{\"outlinewidth\":0,\"ticks\":\"\"}},\"type\":\"scattermapbox\"}],\"scatterpolar\":[{\"marker\":{\"colorbar\":{\"outlinewidth\":0,\"ticks\":\"\"}},\"type\":\"scatterpolar\"}],\"scatterpolargl\":[{\"marker\":{\"colorbar\":{\"outlinewidth\":0,\"ticks\":\"\"}},\"type\":\"scatterpolargl\"}],\"scatterternary\":[{\"marker\":{\"colorbar\":{\"outlinewidth\":0,\"ticks\":\"\"}},\"type\":\"scatterternary\"}],\"surface\":[{\"colorbar\":{\"outlinewidth\":0,\"ticks\":\"\"},\"colorscale\":[[0.0,\"#0d0887\"],[0.1111111111111111,\"#46039f\"],[0.2222222222222222,\"#7201a8\"],[0.3333333333333333,\"#9c179e\"],[0.4444444444444444,\"#bd3786\"],[0.5555555555555556,\"#d8576b\"],[0.6666666666666666,\"#ed7953\"],[0.7777777777777778,\"#fb9f3a\"],[0.8888888888888888,\"#fdca26\"],[1.0,\"#f0f921\"]],\"type\":\"surface\"}],\"table\":[{\"cells\":{\"fill\":{\"color\":\"#EBF0F8\"},\"line\":{\"color\":\"white\"}},\"header\":{\"fill\":{\"color\":\"#C8D4E3\"},\"line\":{\"color\":\"white\"}},\"type\":\"table\"}]},\"layout\":{\"annotationdefaults\":{\"arrowcolor\":\"#2a3f5f\",\"arrowhead\":0,\"arrowwidth\":1},\"autotypenumbers\":\"strict\",\"coloraxis\":{\"colorbar\":{\"outlinewidth\":0,\"ticks\":\"\"}},\"colorscale\":{\"diverging\":[[0,\"#8e0152\"],[0.1,\"#c51b7d\"],[0.2,\"#de77ae\"],[0.3,\"#f1b6da\"],[0.4,\"#fde0ef\"],[0.5,\"#f7f7f7\"],[0.6,\"#e6f5d0\"],[0.7,\"#b8e186\"],[0.8,\"#7fbc41\"],[0.9,\"#4d9221\"],[1,\"#276419\"]],\"sequential\":[[0.0,\"#0d0887\"],[0.1111111111111111,\"#46039f\"],[0.2222222222222222,\"#7201a8\"],[0.3333333333333333,\"#9c179e\"],[0.4444444444444444,\"#bd3786\"],[0.5555555555555556,\"#d8576b\"],[0.6666666666666666,\"#ed7953\"],[0.7777777777777778,\"#fb9f3a\"],[0.8888888888888888,\"#fdca26\"],[1.0,\"#f0f921\"]],\"sequentialminus\":[[0.0,\"#0d0887\"],[0.1111111111111111,\"#46039f\"],[0.2222222222222222,\"#7201a8\"],[0.3333333333333333,\"#9c179e\"],[0.4444444444444444,\"#bd3786\"],[0.5555555555555556,\"#d8576b\"],[0.6666666666666666,\"#ed7953\"],[0.7777777777777778,\"#fb9f3a\"],[0.8888888888888888,\"#fdca26\"],[1.0,\"#f0f921\"]]},\"colorway\":[\"#636efa\",\"#EF553B\",\"#00cc96\",\"#ab63fa\",\"#FFA15A\",\"#19d3f3\",\"#FF6692\",\"#B6E880\",\"#FF97FF\",\"#FECB52\"],\"font\":{\"color\":\"#2a3f5f\"},\"geo\":{\"bgcolor\":\"white\",\"lakecolor\":\"white\",\"landcolor\":\"#E5ECF6\",\"showlakes\":true,\"showland\":true,\"subunitcolor\":\"white\"},\"hoverlabel\":{\"align\":\"left\"},\"hovermode\":\"closest\",\"mapbox\":{\"style\":\"light\"},\"paper_bgcolor\":\"white\",\"plot_bgcolor\":\"#E5ECF6\",\"polar\":{\"angularaxis\":{\"gridcolor\":\"white\",\"linecolor\":\"white\",\"ticks\":\"\"},\"bgcolor\":\"#E5ECF6\",\"radialaxis\":{\"gridcolor\":\"white\",\"linecolor\":\"white\",\"ticks\":\"\"}},\"scene\":{\"xaxis\":{\"backgroundcolor\":\"#E5ECF6\",\"gridcolor\":\"white\",\"gridwidth\":2,\"linecolor\":\"white\",\"showbackground\":true,\"ticks\":\"\",\"zerolinecolor\":\"white\"},\"yaxis\":{\"backgroundcolor\":\"#E5ECF6\",\"gridcolor\":\"white\",\"gridwidth\":2,\"linecolor\":\"white\",\"showbackground\":true,\"ticks\":\"\",\"zerolinecolor\":\"white\"},\"zaxis\":{\"backgroundcolor\":\"#E5ECF6\",\"gridcolor\":\"white\",\"gridwidth\":2,\"linecolor\":\"white\",\"showbackground\":true,\"ticks\":\"\",\"zerolinecolor\":\"white\"}},\"shapedefaults\":{\"line\":{\"color\":\"#2a3f5f\"}},\"ternary\":{\"aaxis\":{\"gridcolor\":\"white\",\"linecolor\":\"white\",\"ticks\":\"\"},\"baxis\":{\"gridcolor\":\"white\",\"linecolor\":\"white\",\"ticks\":\"\"},\"bgcolor\":\"#E5ECF6\",\"caxis\":{\"gridcolor\":\"white\",\"linecolor\":\"white\",\"ticks\":\"\"}},\"title\":{\"x\":0.05},\"xaxis\":{\"automargin\":true,\"gridcolor\":\"white\",\"linecolor\":\"white\",\"ticks\":\"\",\"title\":{\"standoff\":15},\"zerolinecolor\":\"white\",\"zerolinewidth\":2},\"yaxis\":{\"automargin\":true,\"gridcolor\":\"white\",\"linecolor\":\"white\",\"ticks\":\"\",\"title\":{\"standoff\":15},\"zerolinecolor\":\"white\",\"zerolinewidth\":2}}},\"xaxis\":{\"anchor\":\"y\",\"domain\":[0.0,1.0],\"title\":{\"text\":\"churn\"}},\"yaxis\":{\"anchor\":\"x\",\"domain\":[0.0,1.0],\"title\":{\"text\":\"75%\"}}},                        {\"responsive\": true}                    ).then(function(){\n",
              "                            \n",
              "var gd = document.getElementById('fbe1eb00-c8db-421d-ad83-fd3acbdafd9f');\n",
              "var x = new MutationObserver(function (mutations, observer) {{\n",
              "        var display = window.getComputedStyle(gd).display;\n",
              "        if (!display || display === 'none') {{\n",
              "            console.log([gd, 'removed!']);\n",
              "            Plotly.purge(gd);\n",
              "            observer.disconnect();\n",
              "        }}\n",
              "}});\n",
              "\n",
              "// Listen for the removal of the full notebook cells\n",
              "var notebookContainer = gd.closest('#notebook-container');\n",
              "if (notebookContainer) {{\n",
              "    x.observe(notebookContainer, {childList: true});\n",
              "}}\n",
              "\n",
              "// Listen for the clearing of the current output cell\n",
              "var outputEl = gd.closest('.output');\n",
              "if (outputEl) {{\n",
              "    x.observe(outputEl, {childList: true});\n",
              "}}\n",
              "\n",
              "                        })                };                            </script>        </div>\n",
              "</body>\n",
              "</html>"
            ]
          },
          "metadata": {}
        }
      ]
    },
    {
      "cell_type": "markdown",
      "metadata": {
        "id": "wlNgwGTaXJ7h"
      },
      "source": [
        "Разница количества винов и стартов"
      ]
    },
    {
      "cell_type": "code",
      "metadata": {
        "id": "FzAUeNGnuZ-i"
      },
      "source": [
        "table_start = df_levels_new[df_levels_new['event_name'] == 'battle_start'\n",
        "                        ].pivot_table(index='level', values='uid', \n",
        "                                      aggfunc='count').reset_index()\n",
        "table_win = df_levels_new[df_levels_new['event_name'] == 'battle_win'\n",
        "                        ].pivot_table(index='level', values='uid', \n",
        "                                      aggfunc='count').reset_index()  \n",
        "table_merge = pd.merge(table_start, table_win, on='level')\n",
        "table_merge['loss_count'] = table_merge['uid_x'] - table_merge['uid_y']                                     "
      ],
      "execution_count": null,
      "outputs": []
    },
    {
      "cell_type": "code",
      "metadata": {
        "colab": {
          "base_uri": "https://localhost:8080/",
          "height": 542
        },
        "id": "nr7-vs8hYuGa",
        "outputId": "210b3d80-798a-4df1-a4a4-08da3b0a53cb"
      },
      "source": [
        "px.box(table_merge, y=['loss_count'], points=\"all\")"
      ],
      "execution_count": null,
      "outputs": [
        {
          "output_type": "display_data",
          "data": {
            "text/html": [
              "<html>\n",
              "<head><meta charset=\"utf-8\" /></head>\n",
              "<body>\n",
              "    <div>            <script src=\"https://cdnjs.cloudflare.com/ajax/libs/mathjax/2.7.5/MathJax.js?config=TeX-AMS-MML_SVG\"></script><script type=\"text/javascript\">if (window.MathJax) {MathJax.Hub.Config({SVG: {font: \"STIX-Web\"}});}</script>                <script type=\"text/javascript\">window.PlotlyConfig = {MathJaxConfig: 'local'};</script>\n",
              "        <script src=\"https://cdn.plot.ly/plotly-2.3.1.min.js\"></script>                <div id=\"f2714093-8b9f-4782-86fc-c6328829ccfb\" class=\"plotly-graph-div\" style=\"height:525px; width:100%;\"></div>            <script type=\"text/javascript\">                                    window.PLOTLYENV=window.PLOTLYENV || {};                                    if (document.getElementById(\"f2714093-8b9f-4782-86fc-c6328829ccfb\")) {                    Plotly.newPlot(                        \"f2714093-8b9f-4782-86fc-c6328829ccfb\",                        [{\"alignmentgroup\":\"True\",\"boxpoints\":\"all\",\"hovertemplate\":\"variable=%{x}<br>value=%{y}<extra></extra>\",\"legendgroup\":\"\",\"marker\":{\"color\":\"#636efa\"},\"name\":\"\",\"notched\":false,\"offsetgroup\":\"\",\"orientation\":\"v\",\"showlegend\":false,\"type\":\"box\",\"x\":[\"loss_count\",\"loss_count\",\"loss_count\",\"loss_count\",\"loss_count\",\"loss_count\",\"loss_count\",\"loss_count\",\"loss_count\",\"loss_count\",\"loss_count\",\"loss_count\",\"loss_count\",\"loss_count\",\"loss_count\",\"loss_count\",\"loss_count\",\"loss_count\",\"loss_count\",\"loss_count\",\"loss_count\",\"loss_count\",\"loss_count\",\"loss_count\",\"loss_count\",\"loss_count\",\"loss_count\",\"loss_count\",\"loss_count\",\"loss_count\",\"loss_count\",\"loss_count\",\"loss_count\",\"loss_count\",\"loss_count\",\"loss_count\",\"loss_count\",\"loss_count\",\"loss_count\",\"loss_count\",\"loss_count\",\"loss_count\",\"loss_count\",\"loss_count\",\"loss_count\",\"loss_count\",\"loss_count\",\"loss_count\",\"loss_count\",\"loss_count\",\"loss_count\",\"loss_count\",\"loss_count\",\"loss_count\",\"loss_count\",\"loss_count\",\"loss_count\",\"loss_count\",\"loss_count\",\"loss_count\",\"loss_count\",\"loss_count\",\"loss_count\",\"loss_count\",\"loss_count\",\"loss_count\",\"loss_count\",\"loss_count\",\"loss_count\",\"loss_count\",\"loss_count\",\"loss_count\",\"loss_count\",\"loss_count\",\"loss_count\",\"loss_count\",\"loss_count\",\"loss_count\",\"loss_count\",\"loss_count\",\"loss_count\",\"loss_count\",\"loss_count\",\"loss_count\",\"loss_count\",\"loss_count\",\"loss_count\",\"loss_count\",\"loss_count\",\"loss_count\",\"loss_count\",\"loss_count\",\"loss_count\",\"loss_count\",\"loss_count\",\"loss_count\",\"loss_count\",\"loss_count\",\"loss_count\",\"loss_count\",\"loss_count\",\"loss_count\",\"loss_count\",\"loss_count\",\"loss_count\",\"loss_count\",\"loss_count\",\"loss_count\",\"loss_count\",\"loss_count\",\"loss_count\",\"loss_count\",\"loss_count\",\"loss_count\",\"loss_count\",\"loss_count\",\"loss_count\",\"loss_count\",\"loss_count\",\"loss_count\",\"loss_count\",\"loss_count\",\"loss_count\",\"loss_count\",\"loss_count\",\"loss_count\",\"loss_count\",\"loss_count\",\"loss_count\",\"loss_count\",\"loss_count\",\"loss_count\",\"loss_count\",\"loss_count\",\"loss_count\",\"loss_count\",\"loss_count\",\"loss_count\",\"loss_count\",\"loss_count\",\"loss_count\",\"loss_count\",\"loss_count\",\"loss_count\",\"loss_count\",\"loss_count\",\"loss_count\",\"loss_count\",\"loss_count\",\"loss_count\",\"loss_count\",\"loss_count\",\"loss_count\",\"loss_count\",\"loss_count\",\"loss_count\",\"loss_count\",\"loss_count\",\"loss_count\",\"loss_count\",\"loss_count\",\"loss_count\",\"loss_count\",\"loss_count\",\"loss_count\",\"loss_count\",\"loss_count\",\"loss_count\",\"loss_count\",\"loss_count\",\"loss_count\",\"loss_count\",\"loss_count\",\"loss_count\",\"loss_count\",\"loss_count\",\"loss_count\",\"loss_count\",\"loss_count\",\"loss_count\",\"loss_count\",\"loss_count\",\"loss_count\",\"loss_count\",\"loss_count\",\"loss_count\",\"loss_count\",\"loss_count\",\"loss_count\",\"loss_count\",\"loss_count\",\"loss_count\",\"loss_count\",\"loss_count\",\"loss_count\",\"loss_count\",\"loss_count\",\"loss_count\",\"loss_count\",\"loss_count\",\"loss_count\",\"loss_count\",\"loss_count\",\"loss_count\",\"loss_count\",\"loss_count\",\"loss_count\",\"loss_count\",\"loss_count\",\"loss_count\",\"loss_count\",\"loss_count\",\"loss_count\",\"loss_count\",\"loss_count\",\"loss_count\",\"loss_count\",\"loss_count\",\"loss_count\",\"loss_count\",\"loss_count\",\"loss_count\",\"loss_count\",\"loss_count\",\"loss_count\",\"loss_count\",\"loss_count\",\"loss_count\",\"loss_count\",\"loss_count\",\"loss_count\",\"loss_count\",\"loss_count\",\"loss_count\",\"loss_count\",\"loss_count\",\"loss_count\",\"loss_count\",\"loss_count\",\"loss_count\",\"loss_count\",\"loss_count\",\"loss_count\",\"loss_count\",\"loss_count\",\"loss_count\",\"loss_count\",\"loss_count\",\"loss_count\",\"loss_count\",\"loss_count\",\"loss_count\",\"loss_count\",\"loss_count\",\"loss_count\",\"loss_count\",\"loss_count\",\"loss_count\",\"loss_count\",\"loss_count\",\"loss_count\",\"loss_count\",\"loss_count\",\"loss_count\",\"loss_count\",\"loss_count\",\"loss_count\",\"loss_count\",\"loss_count\",\"loss_count\",\"loss_count\",\"loss_count\",\"loss_count\",\"loss_count\",\"loss_count\",\"loss_count\",\"loss_count\",\"loss_count\",\"loss_count\",\"loss_count\",\"loss_count\",\"loss_count\",\"loss_count\",\"loss_count\",\"loss_count\",\"loss_count\",\"loss_count\",\"loss_count\",\"loss_count\",\"loss_count\",\"loss_count\",\"loss_count\",\"loss_count\",\"loss_count\",\"loss_count\",\"loss_count\",\"loss_count\",\"loss_count\",\"loss_count\",\"loss_count\",\"loss_count\",\"loss_count\",\"loss_count\",\"loss_count\",\"loss_count\",\"loss_count\"],\"x0\":\" \",\"xaxis\":\"x\",\"y\":[115,65,38,141,102,69,119,160,110,215,390,129,176,466,1322,1577,761,322,711,1230,157,445,1999,450,758,408,1071,394,2433,280,723,1402,1411,209,216,596,1342,502,882,1102,1674,419,855,671,387,1039,1012,874,690,1948,319,614,327,1141,123,261,354,591,252,833,258,422,272,564,143,339,462,1193,295,513,128,183,292,583,235,298,540,337,360,252,415,183,446,173,295,227,239,302,136,151,269,178,238,341,162,132,174,212,205,268,113,79,242,152,119,95,210,176,225,163,199,94,142,144,122,69,104,56,188,105,129,125,88,133,89,130,56,59,74,91,156,81,80,115,84,98,66,72,61,33,77,43,67,56,58,87,108,99,105,88,45,99,125,70,111,72,79,44,36,60,50,40,87,89,79,140,104,161,138,97,58,70,82,161,209,50,105,146,70,99,68,99,64,56,47,176,118,74,74,82,72,81,356,104,28,59,24,32,51,85,42,45,121,80,46,89,16,8,83,62,35,18,23,27,49,9,18,2,6,49,10,18,15,28,10,23,29,5,6,1,-1,0,5,-1,-1,-1,-1,-1,12,7,0,14,7,4,0,29,-1,9,0,13,-1,6,1,1,4,19,0,0,0,2,2,11,10,4,5,2,12,3,7,3,27,1,0,115,6,0,6,0,0,3,5,1,6,25,9,2,3,9,3,16,0,2,0,0,0,1,0,5,40,6,1,2,0,0,0,1],\"y0\":\" \",\"yaxis\":\"y\"}],                        {\"boxmode\":\"group\",\"legend\":{\"tracegroupgap\":0},\"margin\":{\"t\":60},\"template\":{\"data\":{\"bar\":[{\"error_x\":{\"color\":\"#2a3f5f\"},\"error_y\":{\"color\":\"#2a3f5f\"},\"marker\":{\"line\":{\"color\":\"#E5ECF6\",\"width\":0.5},\"pattern\":{\"fillmode\":\"overlay\",\"size\":10,\"solidity\":0.2}},\"type\":\"bar\"}],\"barpolar\":[{\"marker\":{\"line\":{\"color\":\"#E5ECF6\",\"width\":0.5},\"pattern\":{\"fillmode\":\"overlay\",\"size\":10,\"solidity\":0.2}},\"type\":\"barpolar\"}],\"carpet\":[{\"aaxis\":{\"endlinecolor\":\"#2a3f5f\",\"gridcolor\":\"white\",\"linecolor\":\"white\",\"minorgridcolor\":\"white\",\"startlinecolor\":\"#2a3f5f\"},\"baxis\":{\"endlinecolor\":\"#2a3f5f\",\"gridcolor\":\"white\",\"linecolor\":\"white\",\"minorgridcolor\":\"white\",\"startlinecolor\":\"#2a3f5f\"},\"type\":\"carpet\"}],\"choropleth\":[{\"colorbar\":{\"outlinewidth\":0,\"ticks\":\"\"},\"type\":\"choropleth\"}],\"contour\":[{\"colorbar\":{\"outlinewidth\":0,\"ticks\":\"\"},\"colorscale\":[[0.0,\"#0d0887\"],[0.1111111111111111,\"#46039f\"],[0.2222222222222222,\"#7201a8\"],[0.3333333333333333,\"#9c179e\"],[0.4444444444444444,\"#bd3786\"],[0.5555555555555556,\"#d8576b\"],[0.6666666666666666,\"#ed7953\"],[0.7777777777777778,\"#fb9f3a\"],[0.8888888888888888,\"#fdca26\"],[1.0,\"#f0f921\"]],\"type\":\"contour\"}],\"contourcarpet\":[{\"colorbar\":{\"outlinewidth\":0,\"ticks\":\"\"},\"type\":\"contourcarpet\"}],\"heatmap\":[{\"colorbar\":{\"outlinewidth\":0,\"ticks\":\"\"},\"colorscale\":[[0.0,\"#0d0887\"],[0.1111111111111111,\"#46039f\"],[0.2222222222222222,\"#7201a8\"],[0.3333333333333333,\"#9c179e\"],[0.4444444444444444,\"#bd3786\"],[0.5555555555555556,\"#d8576b\"],[0.6666666666666666,\"#ed7953\"],[0.7777777777777778,\"#fb9f3a\"],[0.8888888888888888,\"#fdca26\"],[1.0,\"#f0f921\"]],\"type\":\"heatmap\"}],\"heatmapgl\":[{\"colorbar\":{\"outlinewidth\":0,\"ticks\":\"\"},\"colorscale\":[[0.0,\"#0d0887\"],[0.1111111111111111,\"#46039f\"],[0.2222222222222222,\"#7201a8\"],[0.3333333333333333,\"#9c179e\"],[0.4444444444444444,\"#bd3786\"],[0.5555555555555556,\"#d8576b\"],[0.6666666666666666,\"#ed7953\"],[0.7777777777777778,\"#fb9f3a\"],[0.8888888888888888,\"#fdca26\"],[1.0,\"#f0f921\"]],\"type\":\"heatmapgl\"}],\"histogram\":[{\"marker\":{\"pattern\":{\"fillmode\":\"overlay\",\"size\":10,\"solidity\":0.2}},\"type\":\"histogram\"}],\"histogram2d\":[{\"colorbar\":{\"outlinewidth\":0,\"ticks\":\"\"},\"colorscale\":[[0.0,\"#0d0887\"],[0.1111111111111111,\"#46039f\"],[0.2222222222222222,\"#7201a8\"],[0.3333333333333333,\"#9c179e\"],[0.4444444444444444,\"#bd3786\"],[0.5555555555555556,\"#d8576b\"],[0.6666666666666666,\"#ed7953\"],[0.7777777777777778,\"#fb9f3a\"],[0.8888888888888888,\"#fdca26\"],[1.0,\"#f0f921\"]],\"type\":\"histogram2d\"}],\"histogram2dcontour\":[{\"colorbar\":{\"outlinewidth\":0,\"ticks\":\"\"},\"colorscale\":[[0.0,\"#0d0887\"],[0.1111111111111111,\"#46039f\"],[0.2222222222222222,\"#7201a8\"],[0.3333333333333333,\"#9c179e\"],[0.4444444444444444,\"#bd3786\"],[0.5555555555555556,\"#d8576b\"],[0.6666666666666666,\"#ed7953\"],[0.7777777777777778,\"#fb9f3a\"],[0.8888888888888888,\"#fdca26\"],[1.0,\"#f0f921\"]],\"type\":\"histogram2dcontour\"}],\"mesh3d\":[{\"colorbar\":{\"outlinewidth\":0,\"ticks\":\"\"},\"type\":\"mesh3d\"}],\"parcoords\":[{\"line\":{\"colorbar\":{\"outlinewidth\":0,\"ticks\":\"\"}},\"type\":\"parcoords\"}],\"pie\":[{\"automargin\":true,\"type\":\"pie\"}],\"scatter\":[{\"marker\":{\"colorbar\":{\"outlinewidth\":0,\"ticks\":\"\"}},\"type\":\"scatter\"}],\"scatter3d\":[{\"line\":{\"colorbar\":{\"outlinewidth\":0,\"ticks\":\"\"}},\"marker\":{\"colorbar\":{\"outlinewidth\":0,\"ticks\":\"\"}},\"type\":\"scatter3d\"}],\"scattercarpet\":[{\"marker\":{\"colorbar\":{\"outlinewidth\":0,\"ticks\":\"\"}},\"type\":\"scattercarpet\"}],\"scattergeo\":[{\"marker\":{\"colorbar\":{\"outlinewidth\":0,\"ticks\":\"\"}},\"type\":\"scattergeo\"}],\"scattergl\":[{\"marker\":{\"colorbar\":{\"outlinewidth\":0,\"ticks\":\"\"}},\"type\":\"scattergl\"}],\"scattermapbox\":[{\"marker\":{\"colorbar\":{\"outlinewidth\":0,\"ticks\":\"\"}},\"type\":\"scattermapbox\"}],\"scatterpolar\":[{\"marker\":{\"colorbar\":{\"outlinewidth\":0,\"ticks\":\"\"}},\"type\":\"scatterpolar\"}],\"scatterpolargl\":[{\"marker\":{\"colorbar\":{\"outlinewidth\":0,\"ticks\":\"\"}},\"type\":\"scatterpolargl\"}],\"scatterternary\":[{\"marker\":{\"colorbar\":{\"outlinewidth\":0,\"ticks\":\"\"}},\"type\":\"scatterternary\"}],\"surface\":[{\"colorbar\":{\"outlinewidth\":0,\"ticks\":\"\"},\"colorscale\":[[0.0,\"#0d0887\"],[0.1111111111111111,\"#46039f\"],[0.2222222222222222,\"#7201a8\"],[0.3333333333333333,\"#9c179e\"],[0.4444444444444444,\"#bd3786\"],[0.5555555555555556,\"#d8576b\"],[0.6666666666666666,\"#ed7953\"],[0.7777777777777778,\"#fb9f3a\"],[0.8888888888888888,\"#fdca26\"],[1.0,\"#f0f921\"]],\"type\":\"surface\"}],\"table\":[{\"cells\":{\"fill\":{\"color\":\"#EBF0F8\"},\"line\":{\"color\":\"white\"}},\"header\":{\"fill\":{\"color\":\"#C8D4E3\"},\"line\":{\"color\":\"white\"}},\"type\":\"table\"}]},\"layout\":{\"annotationdefaults\":{\"arrowcolor\":\"#2a3f5f\",\"arrowhead\":0,\"arrowwidth\":1},\"autotypenumbers\":\"strict\",\"coloraxis\":{\"colorbar\":{\"outlinewidth\":0,\"ticks\":\"\"}},\"colorscale\":{\"diverging\":[[0,\"#8e0152\"],[0.1,\"#c51b7d\"],[0.2,\"#de77ae\"],[0.3,\"#f1b6da\"],[0.4,\"#fde0ef\"],[0.5,\"#f7f7f7\"],[0.6,\"#e6f5d0\"],[0.7,\"#b8e186\"],[0.8,\"#7fbc41\"],[0.9,\"#4d9221\"],[1,\"#276419\"]],\"sequential\":[[0.0,\"#0d0887\"],[0.1111111111111111,\"#46039f\"],[0.2222222222222222,\"#7201a8\"],[0.3333333333333333,\"#9c179e\"],[0.4444444444444444,\"#bd3786\"],[0.5555555555555556,\"#d8576b\"],[0.6666666666666666,\"#ed7953\"],[0.7777777777777778,\"#fb9f3a\"],[0.8888888888888888,\"#fdca26\"],[1.0,\"#f0f921\"]],\"sequentialminus\":[[0.0,\"#0d0887\"],[0.1111111111111111,\"#46039f\"],[0.2222222222222222,\"#7201a8\"],[0.3333333333333333,\"#9c179e\"],[0.4444444444444444,\"#bd3786\"],[0.5555555555555556,\"#d8576b\"],[0.6666666666666666,\"#ed7953\"],[0.7777777777777778,\"#fb9f3a\"],[0.8888888888888888,\"#fdca26\"],[1.0,\"#f0f921\"]]},\"colorway\":[\"#636efa\",\"#EF553B\",\"#00cc96\",\"#ab63fa\",\"#FFA15A\",\"#19d3f3\",\"#FF6692\",\"#B6E880\",\"#FF97FF\",\"#FECB52\"],\"font\":{\"color\":\"#2a3f5f\"},\"geo\":{\"bgcolor\":\"white\",\"lakecolor\":\"white\",\"landcolor\":\"#E5ECF6\",\"showlakes\":true,\"showland\":true,\"subunitcolor\":\"white\"},\"hoverlabel\":{\"align\":\"left\"},\"hovermode\":\"closest\",\"mapbox\":{\"style\":\"light\"},\"paper_bgcolor\":\"white\",\"plot_bgcolor\":\"#E5ECF6\",\"polar\":{\"angularaxis\":{\"gridcolor\":\"white\",\"linecolor\":\"white\",\"ticks\":\"\"},\"bgcolor\":\"#E5ECF6\",\"radialaxis\":{\"gridcolor\":\"white\",\"linecolor\":\"white\",\"ticks\":\"\"}},\"scene\":{\"xaxis\":{\"backgroundcolor\":\"#E5ECF6\",\"gridcolor\":\"white\",\"gridwidth\":2,\"linecolor\":\"white\",\"showbackground\":true,\"ticks\":\"\",\"zerolinecolor\":\"white\"},\"yaxis\":{\"backgroundcolor\":\"#E5ECF6\",\"gridcolor\":\"white\",\"gridwidth\":2,\"linecolor\":\"white\",\"showbackground\":true,\"ticks\":\"\",\"zerolinecolor\":\"white\"},\"zaxis\":{\"backgroundcolor\":\"#E5ECF6\",\"gridcolor\":\"white\",\"gridwidth\":2,\"linecolor\":\"white\",\"showbackground\":true,\"ticks\":\"\",\"zerolinecolor\":\"white\"}},\"shapedefaults\":{\"line\":{\"color\":\"#2a3f5f\"}},\"ternary\":{\"aaxis\":{\"gridcolor\":\"white\",\"linecolor\":\"white\",\"ticks\":\"\"},\"baxis\":{\"gridcolor\":\"white\",\"linecolor\":\"white\",\"ticks\":\"\"},\"bgcolor\":\"#E5ECF6\",\"caxis\":{\"gridcolor\":\"white\",\"linecolor\":\"white\",\"ticks\":\"\"}},\"title\":{\"x\":0.05},\"xaxis\":{\"automargin\":true,\"gridcolor\":\"white\",\"linecolor\":\"white\",\"ticks\":\"\",\"title\":{\"standoff\":15},\"zerolinecolor\":\"white\",\"zerolinewidth\":2},\"yaxis\":{\"automargin\":true,\"gridcolor\":\"white\",\"linecolor\":\"white\",\"ticks\":\"\",\"title\":{\"standoff\":15},\"zerolinecolor\":\"white\",\"zerolinewidth\":2}}},\"xaxis\":{\"anchor\":\"y\",\"domain\":[0.0,1.0],\"title\":{\"text\":\"variable\"}},\"yaxis\":{\"anchor\":\"x\",\"domain\":[0.0,1.0],\"title\":{\"text\":\"value\"}}},                        {\"responsive\": true}                    ).then(function(){\n",
              "                            \n",
              "var gd = document.getElementById('f2714093-8b9f-4782-86fc-c6328829ccfb');\n",
              "var x = new MutationObserver(function (mutations, observer) {{\n",
              "        var display = window.getComputedStyle(gd).display;\n",
              "        if (!display || display === 'none') {{\n",
              "            console.log([gd, 'removed!']);\n",
              "            Plotly.purge(gd);\n",
              "            observer.disconnect();\n",
              "        }}\n",
              "}});\n",
              "\n",
              "// Listen for the removal of the full notebook cells\n",
              "var notebookContainer = gd.closest('#notebook-container');\n",
              "if (notebookContainer) {{\n",
              "    x.observe(notebookContainer, {childList: true});\n",
              "}}\n",
              "\n",
              "// Listen for the clearing of the current output cell\n",
              "var outputEl = gd.closest('.output');\n",
              "if (outputEl) {{\n",
              "    x.observe(outputEl, {childList: true});\n",
              "}}\n",
              "\n",
              "                        })                };                            </script>        </div>\n",
              "</body>\n",
              "</html>"
            ]
          },
          "metadata": {}
        }
      ]
    },
    {
      "cell_type": "code",
      "metadata": {
        "colab": {
          "base_uri": "https://localhost:8080/",
          "height": 542
        },
        "id": "9r7bjiraYS4I",
        "outputId": "5095a9f9-5dd6-42f0-a9e7-e461483b2fef"
      },
      "source": [
        "px.bar(table_merge, x='level', y='loss_count')"
      ],
      "execution_count": null,
      "outputs": [
        {
          "output_type": "display_data",
          "data": {
            "text/html": [
              "<html>\n",
              "<head><meta charset=\"utf-8\" /></head>\n",
              "<body>\n",
              "    <div>            <script src=\"https://cdnjs.cloudflare.com/ajax/libs/mathjax/2.7.5/MathJax.js?config=TeX-AMS-MML_SVG\"></script><script type=\"text/javascript\">if (window.MathJax) {MathJax.Hub.Config({SVG: {font: \"STIX-Web\"}});}</script>                <script type=\"text/javascript\">window.PlotlyConfig = {MathJaxConfig: 'local'};</script>\n",
              "        <script src=\"https://cdn.plot.ly/plotly-2.3.1.min.js\"></script>                <div id=\"fe0f56b9-203d-4a23-9125-8455c55b2edb\" class=\"plotly-graph-div\" style=\"height:525px; width:100%;\"></div>            <script type=\"text/javascript\">                                    window.PLOTLYENV=window.PLOTLYENV || {};                                    if (document.getElementById(\"fe0f56b9-203d-4a23-9125-8455c55b2edb\")) {                    Plotly.newPlot(                        \"fe0f56b9-203d-4a23-9125-8455c55b2edb\",                        [{\"alignmentgroup\":\"True\",\"hovertemplate\":\"level=%{x}<br>loss_count=%{y}<extra></extra>\",\"legendgroup\":\"\",\"marker\":{\"color\":\"#636efa\",\"pattern\":{\"shape\":\"\"}},\"name\":\"\",\"offsetgroup\":\"\",\"orientation\":\"v\",\"showlegend\":false,\"textposition\":\"auto\",\"type\":\"bar\",\"x\":[1.0,2.0,3.0,4.0,5.0,6.0,7.0,8.0,9.0,10.0,11.0,12.0,13.0,14.0,15.0,16.0,17.0,18.0,19.0,20.0,21.0,22.0,23.0,24.0,25.0,26.0,27.0,28.0,29.0,30.0,31.0,32.0,33.0,34.0,35.0,36.0,37.0,38.0,39.0,40.0,41.0,42.0,43.0,44.0,45.0,46.0,47.0,48.0,49.0,50.0,51.0,52.0,53.0,54.0,55.0,56.0,57.0,58.0,59.0,60.0,61.0,62.0,63.0,64.0,65.0,66.0,67.0,68.0,69.0,70.0,71.0,72.0,73.0,74.0,75.0,76.0,77.0,78.0,79.0,80.0,81.0,82.0,83.0,84.0,85.0,86.0,87.0,88.0,89.0,90.0,91.0,92.0,93.0,94.0,95.0,96.0,97.0,98.0,99.0,100.0,101.0,102.0,103.0,104.0,105.0,106.0,107.0,108.0,109.0,110.0,111.0,112.0,113.0,114.0,115.0,116.0,117.0,118.0,119.0,120.0,121.0,122.0,123.0,124.0,125.0,126.0,127.0,128.0,129.0,130.0,131.0,132.0,133.0,134.0,135.0,136.0,137.0,138.0,139.0,140.0,141.0,142.0,143.0,144.0,145.0,146.0,147.0,148.0,149.0,150.0,151.0,152.0,153.0,154.0,155.0,156.0,157.0,158.0,159.0,160.0,161.0,162.0,163.0,164.0,165.0,166.0,167.0,168.0,169.0,170.0,171.0,172.0,173.0,174.0,175.0,176.0,177.0,178.0,179.0,180.0,181.0,182.0,183.0,184.0,185.0,186.0,187.0,188.0,189.0,190.0,191.0,192.0,193.0,194.0,195.0,196.0,197.0,198.0,199.0,200.0,201.0,202.0,203.0,204.0,205.0,206.0,207.0,208.0,209.0,210.0,211.0,212.0,213.0,214.0,215.0,216.0,217.0,218.0,219.0,220.0,221.0,222.0,223.0,224.0,225.0,226.0,227.0,228.0,229.0,230.0,231.0,232.0,233.0,234.0,235.0,236.0,237.0,238.0,239.0,240.0,241.0,242.0,243.0,244.0,245.0,246.0,247.0,248.0,249.0,250.0,251.0,252.0,253.0,254.0,255.0,256.0,257.0,258.0,259.0,260.0,261.0,262.0,263.0,264.0,265.0,266.0,267.0,268.0,269.0,270.0,271.0,272.0,273.0,274.0,275.0,276.0,277.0,278.0,279.0,280.0,281.0,282.0,283.0,284.0,285.0,286.0,287.0,288.0,289.0,290.0,291.0,292.0,293.0,294.0,295.0,296.0,297.0,298.0,299.0,300.0,301.0,302.0,303.0,304.0,305.0,306.0],\"xaxis\":\"x\",\"y\":[115,65,38,141,102,69,119,160,110,215,390,129,176,466,1322,1577,761,322,711,1230,157,445,1999,450,758,408,1071,394,2433,280,723,1402,1411,209,216,596,1342,502,882,1102,1674,419,855,671,387,1039,1012,874,690,1948,319,614,327,1141,123,261,354,591,252,833,258,422,272,564,143,339,462,1193,295,513,128,183,292,583,235,298,540,337,360,252,415,183,446,173,295,227,239,302,136,151,269,178,238,341,162,132,174,212,205,268,113,79,242,152,119,95,210,176,225,163,199,94,142,144,122,69,104,56,188,105,129,125,88,133,89,130,56,59,74,91,156,81,80,115,84,98,66,72,61,33,77,43,67,56,58,87,108,99,105,88,45,99,125,70,111,72,79,44,36,60,50,40,87,89,79,140,104,161,138,97,58,70,82,161,209,50,105,146,70,99,68,99,64,56,47,176,118,74,74,82,72,81,356,104,28,59,24,32,51,85,42,45,121,80,46,89,16,8,83,62,35,18,23,27,49,9,18,2,6,49,10,18,15,28,10,23,29,5,6,1,-1,0,5,-1,-1,-1,-1,-1,12,7,0,14,7,4,0,29,-1,9,0,13,-1,6,1,1,4,19,0,0,0,2,2,11,10,4,5,2,12,3,7,3,27,1,0,115,6,0,6,0,0,3,5,1,6,25,9,2,3,9,3,16,0,2,0,0,0,1,0,5,40,6,1,2,0,0,0,1],\"yaxis\":\"y\"}],                        {\"barmode\":\"relative\",\"legend\":{\"tracegroupgap\":0},\"margin\":{\"t\":60},\"template\":{\"data\":{\"bar\":[{\"error_x\":{\"color\":\"#2a3f5f\"},\"error_y\":{\"color\":\"#2a3f5f\"},\"marker\":{\"line\":{\"color\":\"#E5ECF6\",\"width\":0.5},\"pattern\":{\"fillmode\":\"overlay\",\"size\":10,\"solidity\":0.2}},\"type\":\"bar\"}],\"barpolar\":[{\"marker\":{\"line\":{\"color\":\"#E5ECF6\",\"width\":0.5},\"pattern\":{\"fillmode\":\"overlay\",\"size\":10,\"solidity\":0.2}},\"type\":\"barpolar\"}],\"carpet\":[{\"aaxis\":{\"endlinecolor\":\"#2a3f5f\",\"gridcolor\":\"white\",\"linecolor\":\"white\",\"minorgridcolor\":\"white\",\"startlinecolor\":\"#2a3f5f\"},\"baxis\":{\"endlinecolor\":\"#2a3f5f\",\"gridcolor\":\"white\",\"linecolor\":\"white\",\"minorgridcolor\":\"white\",\"startlinecolor\":\"#2a3f5f\"},\"type\":\"carpet\"}],\"choropleth\":[{\"colorbar\":{\"outlinewidth\":0,\"ticks\":\"\"},\"type\":\"choropleth\"}],\"contour\":[{\"colorbar\":{\"outlinewidth\":0,\"ticks\":\"\"},\"colorscale\":[[0.0,\"#0d0887\"],[0.1111111111111111,\"#46039f\"],[0.2222222222222222,\"#7201a8\"],[0.3333333333333333,\"#9c179e\"],[0.4444444444444444,\"#bd3786\"],[0.5555555555555556,\"#d8576b\"],[0.6666666666666666,\"#ed7953\"],[0.7777777777777778,\"#fb9f3a\"],[0.8888888888888888,\"#fdca26\"],[1.0,\"#f0f921\"]],\"type\":\"contour\"}],\"contourcarpet\":[{\"colorbar\":{\"outlinewidth\":0,\"ticks\":\"\"},\"type\":\"contourcarpet\"}],\"heatmap\":[{\"colorbar\":{\"outlinewidth\":0,\"ticks\":\"\"},\"colorscale\":[[0.0,\"#0d0887\"],[0.1111111111111111,\"#46039f\"],[0.2222222222222222,\"#7201a8\"],[0.3333333333333333,\"#9c179e\"],[0.4444444444444444,\"#bd3786\"],[0.5555555555555556,\"#d8576b\"],[0.6666666666666666,\"#ed7953\"],[0.7777777777777778,\"#fb9f3a\"],[0.8888888888888888,\"#fdca26\"],[1.0,\"#f0f921\"]],\"type\":\"heatmap\"}],\"heatmapgl\":[{\"colorbar\":{\"outlinewidth\":0,\"ticks\":\"\"},\"colorscale\":[[0.0,\"#0d0887\"],[0.1111111111111111,\"#46039f\"],[0.2222222222222222,\"#7201a8\"],[0.3333333333333333,\"#9c179e\"],[0.4444444444444444,\"#bd3786\"],[0.5555555555555556,\"#d8576b\"],[0.6666666666666666,\"#ed7953\"],[0.7777777777777778,\"#fb9f3a\"],[0.8888888888888888,\"#fdca26\"],[1.0,\"#f0f921\"]],\"type\":\"heatmapgl\"}],\"histogram\":[{\"marker\":{\"pattern\":{\"fillmode\":\"overlay\",\"size\":10,\"solidity\":0.2}},\"type\":\"histogram\"}],\"histogram2d\":[{\"colorbar\":{\"outlinewidth\":0,\"ticks\":\"\"},\"colorscale\":[[0.0,\"#0d0887\"],[0.1111111111111111,\"#46039f\"],[0.2222222222222222,\"#7201a8\"],[0.3333333333333333,\"#9c179e\"],[0.4444444444444444,\"#bd3786\"],[0.5555555555555556,\"#d8576b\"],[0.6666666666666666,\"#ed7953\"],[0.7777777777777778,\"#fb9f3a\"],[0.8888888888888888,\"#fdca26\"],[1.0,\"#f0f921\"]],\"type\":\"histogram2d\"}],\"histogram2dcontour\":[{\"colorbar\":{\"outlinewidth\":0,\"ticks\":\"\"},\"colorscale\":[[0.0,\"#0d0887\"],[0.1111111111111111,\"#46039f\"],[0.2222222222222222,\"#7201a8\"],[0.3333333333333333,\"#9c179e\"],[0.4444444444444444,\"#bd3786\"],[0.5555555555555556,\"#d8576b\"],[0.6666666666666666,\"#ed7953\"],[0.7777777777777778,\"#fb9f3a\"],[0.8888888888888888,\"#fdca26\"],[1.0,\"#f0f921\"]],\"type\":\"histogram2dcontour\"}],\"mesh3d\":[{\"colorbar\":{\"outlinewidth\":0,\"ticks\":\"\"},\"type\":\"mesh3d\"}],\"parcoords\":[{\"line\":{\"colorbar\":{\"outlinewidth\":0,\"ticks\":\"\"}},\"type\":\"parcoords\"}],\"pie\":[{\"automargin\":true,\"type\":\"pie\"}],\"scatter\":[{\"marker\":{\"colorbar\":{\"outlinewidth\":0,\"ticks\":\"\"}},\"type\":\"scatter\"}],\"scatter3d\":[{\"line\":{\"colorbar\":{\"outlinewidth\":0,\"ticks\":\"\"}},\"marker\":{\"colorbar\":{\"outlinewidth\":0,\"ticks\":\"\"}},\"type\":\"scatter3d\"}],\"scattercarpet\":[{\"marker\":{\"colorbar\":{\"outlinewidth\":0,\"ticks\":\"\"}},\"type\":\"scattercarpet\"}],\"scattergeo\":[{\"marker\":{\"colorbar\":{\"outlinewidth\":0,\"ticks\":\"\"}},\"type\":\"scattergeo\"}],\"scattergl\":[{\"marker\":{\"colorbar\":{\"outlinewidth\":0,\"ticks\":\"\"}},\"type\":\"scattergl\"}],\"scattermapbox\":[{\"marker\":{\"colorbar\":{\"outlinewidth\":0,\"ticks\":\"\"}},\"type\":\"scattermapbox\"}],\"scatterpolar\":[{\"marker\":{\"colorbar\":{\"outlinewidth\":0,\"ticks\":\"\"}},\"type\":\"scatterpolar\"}],\"scatterpolargl\":[{\"marker\":{\"colorbar\":{\"outlinewidth\":0,\"ticks\":\"\"}},\"type\":\"scatterpolargl\"}],\"scatterternary\":[{\"marker\":{\"colorbar\":{\"outlinewidth\":0,\"ticks\":\"\"}},\"type\":\"scatterternary\"}],\"surface\":[{\"colorbar\":{\"outlinewidth\":0,\"ticks\":\"\"},\"colorscale\":[[0.0,\"#0d0887\"],[0.1111111111111111,\"#46039f\"],[0.2222222222222222,\"#7201a8\"],[0.3333333333333333,\"#9c179e\"],[0.4444444444444444,\"#bd3786\"],[0.5555555555555556,\"#d8576b\"],[0.6666666666666666,\"#ed7953\"],[0.7777777777777778,\"#fb9f3a\"],[0.8888888888888888,\"#fdca26\"],[1.0,\"#f0f921\"]],\"type\":\"surface\"}],\"table\":[{\"cells\":{\"fill\":{\"color\":\"#EBF0F8\"},\"line\":{\"color\":\"white\"}},\"header\":{\"fill\":{\"color\":\"#C8D4E3\"},\"line\":{\"color\":\"white\"}},\"type\":\"table\"}]},\"layout\":{\"annotationdefaults\":{\"arrowcolor\":\"#2a3f5f\",\"arrowhead\":0,\"arrowwidth\":1},\"autotypenumbers\":\"strict\",\"coloraxis\":{\"colorbar\":{\"outlinewidth\":0,\"ticks\":\"\"}},\"colorscale\":{\"diverging\":[[0,\"#8e0152\"],[0.1,\"#c51b7d\"],[0.2,\"#de77ae\"],[0.3,\"#f1b6da\"],[0.4,\"#fde0ef\"],[0.5,\"#f7f7f7\"],[0.6,\"#e6f5d0\"],[0.7,\"#b8e186\"],[0.8,\"#7fbc41\"],[0.9,\"#4d9221\"],[1,\"#276419\"]],\"sequential\":[[0.0,\"#0d0887\"],[0.1111111111111111,\"#46039f\"],[0.2222222222222222,\"#7201a8\"],[0.3333333333333333,\"#9c179e\"],[0.4444444444444444,\"#bd3786\"],[0.5555555555555556,\"#d8576b\"],[0.6666666666666666,\"#ed7953\"],[0.7777777777777778,\"#fb9f3a\"],[0.8888888888888888,\"#fdca26\"],[1.0,\"#f0f921\"]],\"sequentialminus\":[[0.0,\"#0d0887\"],[0.1111111111111111,\"#46039f\"],[0.2222222222222222,\"#7201a8\"],[0.3333333333333333,\"#9c179e\"],[0.4444444444444444,\"#bd3786\"],[0.5555555555555556,\"#d8576b\"],[0.6666666666666666,\"#ed7953\"],[0.7777777777777778,\"#fb9f3a\"],[0.8888888888888888,\"#fdca26\"],[1.0,\"#f0f921\"]]},\"colorway\":[\"#636efa\",\"#EF553B\",\"#00cc96\",\"#ab63fa\",\"#FFA15A\",\"#19d3f3\",\"#FF6692\",\"#B6E880\",\"#FF97FF\",\"#FECB52\"],\"font\":{\"color\":\"#2a3f5f\"},\"geo\":{\"bgcolor\":\"white\",\"lakecolor\":\"white\",\"landcolor\":\"#E5ECF6\",\"showlakes\":true,\"showland\":true,\"subunitcolor\":\"white\"},\"hoverlabel\":{\"align\":\"left\"},\"hovermode\":\"closest\",\"mapbox\":{\"style\":\"light\"},\"paper_bgcolor\":\"white\",\"plot_bgcolor\":\"#E5ECF6\",\"polar\":{\"angularaxis\":{\"gridcolor\":\"white\",\"linecolor\":\"white\",\"ticks\":\"\"},\"bgcolor\":\"#E5ECF6\",\"radialaxis\":{\"gridcolor\":\"white\",\"linecolor\":\"white\",\"ticks\":\"\"}},\"scene\":{\"xaxis\":{\"backgroundcolor\":\"#E5ECF6\",\"gridcolor\":\"white\",\"gridwidth\":2,\"linecolor\":\"white\",\"showbackground\":true,\"ticks\":\"\",\"zerolinecolor\":\"white\"},\"yaxis\":{\"backgroundcolor\":\"#E5ECF6\",\"gridcolor\":\"white\",\"gridwidth\":2,\"linecolor\":\"white\",\"showbackground\":true,\"ticks\":\"\",\"zerolinecolor\":\"white\"},\"zaxis\":{\"backgroundcolor\":\"#E5ECF6\",\"gridcolor\":\"white\",\"gridwidth\":2,\"linecolor\":\"white\",\"showbackground\":true,\"ticks\":\"\",\"zerolinecolor\":\"white\"}},\"shapedefaults\":{\"line\":{\"color\":\"#2a3f5f\"}},\"ternary\":{\"aaxis\":{\"gridcolor\":\"white\",\"linecolor\":\"white\",\"ticks\":\"\"},\"baxis\":{\"gridcolor\":\"white\",\"linecolor\":\"white\",\"ticks\":\"\"},\"bgcolor\":\"#E5ECF6\",\"caxis\":{\"gridcolor\":\"white\",\"linecolor\":\"white\",\"ticks\":\"\"}},\"title\":{\"x\":0.05},\"xaxis\":{\"automargin\":true,\"gridcolor\":\"white\",\"linecolor\":\"white\",\"ticks\":\"\",\"title\":{\"standoff\":15},\"zerolinecolor\":\"white\",\"zerolinewidth\":2},\"yaxis\":{\"automargin\":true,\"gridcolor\":\"white\",\"linecolor\":\"white\",\"ticks\":\"\",\"title\":{\"standoff\":15},\"zerolinecolor\":\"white\",\"zerolinewidth\":2}}},\"xaxis\":{\"anchor\":\"y\",\"domain\":[0.0,1.0],\"title\":{\"text\":\"level\"}},\"yaxis\":{\"anchor\":\"x\",\"domain\":[0.0,1.0],\"title\":{\"text\":\"loss_count\"}}},                        {\"responsive\": true}                    ).then(function(){\n",
              "                            \n",
              "var gd = document.getElementById('fe0f56b9-203d-4a23-9125-8455c55b2edb');\n",
              "var x = new MutationObserver(function (mutations, observer) {{\n",
              "        var display = window.getComputedStyle(gd).display;\n",
              "        if (!display || display === 'none') {{\n",
              "            console.log([gd, 'removed!']);\n",
              "            Plotly.purge(gd);\n",
              "            observer.disconnect();\n",
              "        }}\n",
              "}});\n",
              "\n",
              "// Listen for the removal of the full notebook cells\n",
              "var notebookContainer = gd.closest('#notebook-container');\n",
              "if (notebookContainer) {{\n",
              "    x.observe(notebookContainer, {childList: true});\n",
              "}}\n",
              "\n",
              "// Listen for the clearing of the current output cell\n",
              "var outputEl = gd.closest('.output');\n",
              "if (outputEl) {{\n",
              "    x.observe(outputEl, {childList: true});\n",
              "}}\n",
              "\n",
              "                        })                };                            </script>        </div>\n",
              "</body>\n",
              "</html>"
            ]
          },
          "metadata": {}
        }
      ]
    },
    {
      "cell_type": "markdown",
      "metadata": {
        "id": "4mqokew1FYT3"
      },
      "source": [
        "# **6.2 North Star Metric для 24 часов.**"
      ]
    },
    {
      "cell_type": "code",
      "metadata": {
        "colab": {
          "base_uri": "https://localhost:8080/",
          "height": 322
        },
        "id": "YkRwnfuwFg_s",
        "outputId": "7fa4ca46-ed14-4867-db73-3345c9199b7d"
      },
      "source": [
        "nsm_24 = pd.merge(df_24, df_levels[['uid', 'delta_time']], on='uid')\n"
      ],
      "execution_count": null,
      "outputs": [
        {
          "ename": "KeyError",
          "evalue": "ignored",
          "output_type": "error",
          "traceback": [
            "\u001b[0;31m---------------------------------------------------------------------------\u001b[0m",
            "\u001b[0;31mKeyError\u001b[0m                                  Traceback (most recent call last)",
            "\u001b[0;32m<ipython-input-22-4383182b5e1d>\u001b[0m in \u001b[0;36m<module>\u001b[0;34m()\u001b[0m\n\u001b[0;32m----> 1\u001b[0;31m \u001b[0mnsm_24\u001b[0m \u001b[0;34m=\u001b[0m \u001b[0mpd\u001b[0m\u001b[0;34m.\u001b[0m\u001b[0mmerge\u001b[0m\u001b[0;34m(\u001b[0m\u001b[0mdf_24\u001b[0m\u001b[0;34m,\u001b[0m \u001b[0mdf_levels\u001b[0m\u001b[0;34m[\u001b[0m\u001b[0;34m[\u001b[0m\u001b[0;34m'uid'\u001b[0m\u001b[0;34m,\u001b[0m \u001b[0;34m'delta_time'\u001b[0m\u001b[0;34m]\u001b[0m\u001b[0;34m]\u001b[0m\u001b[0;34m,\u001b[0m \u001b[0mon\u001b[0m\u001b[0;34m=\u001b[0m\u001b[0;34m'uid'\u001b[0m\u001b[0;34m)\u001b[0m\u001b[0;34m\u001b[0m\u001b[0;34m\u001b[0m\u001b[0m\n\u001b[0m",
            "\u001b[0;32m/usr/local/lib/python3.7/dist-packages/pandas/core/frame.py\u001b[0m in \u001b[0;36m__getitem__\u001b[0;34m(self, key)\u001b[0m\n\u001b[1;32m   2910\u001b[0m             \u001b[0;32mif\u001b[0m \u001b[0mis_iterator\u001b[0m\u001b[0;34m(\u001b[0m\u001b[0mkey\u001b[0m\u001b[0;34m)\u001b[0m\u001b[0;34m:\u001b[0m\u001b[0;34m\u001b[0m\u001b[0;34m\u001b[0m\u001b[0m\n\u001b[1;32m   2911\u001b[0m                 \u001b[0mkey\u001b[0m \u001b[0;34m=\u001b[0m \u001b[0mlist\u001b[0m\u001b[0;34m(\u001b[0m\u001b[0mkey\u001b[0m\u001b[0;34m)\u001b[0m\u001b[0;34m\u001b[0m\u001b[0;34m\u001b[0m\u001b[0m\n\u001b[0;32m-> 2912\u001b[0;31m             \u001b[0mindexer\u001b[0m \u001b[0;34m=\u001b[0m \u001b[0mself\u001b[0m\u001b[0;34m.\u001b[0m\u001b[0mloc\u001b[0m\u001b[0;34m.\u001b[0m\u001b[0m_get_listlike_indexer\u001b[0m\u001b[0;34m(\u001b[0m\u001b[0mkey\u001b[0m\u001b[0;34m,\u001b[0m \u001b[0maxis\u001b[0m\u001b[0;34m=\u001b[0m\u001b[0;36m1\u001b[0m\u001b[0;34m,\u001b[0m \u001b[0mraise_missing\u001b[0m\u001b[0;34m=\u001b[0m\u001b[0;32mTrue\u001b[0m\u001b[0;34m)\u001b[0m\u001b[0;34m[\u001b[0m\u001b[0;36m1\u001b[0m\u001b[0;34m]\u001b[0m\u001b[0;34m\u001b[0m\u001b[0;34m\u001b[0m\u001b[0m\n\u001b[0m\u001b[1;32m   2913\u001b[0m \u001b[0;34m\u001b[0m\u001b[0m\n\u001b[1;32m   2914\u001b[0m         \u001b[0;31m# take() does not accept boolean indexers\u001b[0m\u001b[0;34m\u001b[0m\u001b[0;34m\u001b[0m\u001b[0;34m\u001b[0m\u001b[0m\n",
            "\u001b[0;32m/usr/local/lib/python3.7/dist-packages/pandas/core/indexing.py\u001b[0m in \u001b[0;36m_get_listlike_indexer\u001b[0;34m(self, key, axis, raise_missing)\u001b[0m\n\u001b[1;32m   1252\u001b[0m             \u001b[0mkeyarr\u001b[0m\u001b[0;34m,\u001b[0m \u001b[0mindexer\u001b[0m\u001b[0;34m,\u001b[0m \u001b[0mnew_indexer\u001b[0m \u001b[0;34m=\u001b[0m \u001b[0max\u001b[0m\u001b[0;34m.\u001b[0m\u001b[0m_reindex_non_unique\u001b[0m\u001b[0;34m(\u001b[0m\u001b[0mkeyarr\u001b[0m\u001b[0;34m)\u001b[0m\u001b[0;34m\u001b[0m\u001b[0;34m\u001b[0m\u001b[0m\n\u001b[1;32m   1253\u001b[0m \u001b[0;34m\u001b[0m\u001b[0m\n\u001b[0;32m-> 1254\u001b[0;31m         \u001b[0mself\u001b[0m\u001b[0;34m.\u001b[0m\u001b[0m_validate_read_indexer\u001b[0m\u001b[0;34m(\u001b[0m\u001b[0mkeyarr\u001b[0m\u001b[0;34m,\u001b[0m \u001b[0mindexer\u001b[0m\u001b[0;34m,\u001b[0m \u001b[0maxis\u001b[0m\u001b[0;34m,\u001b[0m \u001b[0mraise_missing\u001b[0m\u001b[0;34m=\u001b[0m\u001b[0mraise_missing\u001b[0m\u001b[0;34m)\u001b[0m\u001b[0;34m\u001b[0m\u001b[0;34m\u001b[0m\u001b[0m\n\u001b[0m\u001b[1;32m   1255\u001b[0m         \u001b[0;32mreturn\u001b[0m \u001b[0mkeyarr\u001b[0m\u001b[0;34m,\u001b[0m \u001b[0mindexer\u001b[0m\u001b[0;34m\u001b[0m\u001b[0;34m\u001b[0m\u001b[0m\n\u001b[1;32m   1256\u001b[0m \u001b[0;34m\u001b[0m\u001b[0m\n",
            "\u001b[0;32m/usr/local/lib/python3.7/dist-packages/pandas/core/indexing.py\u001b[0m in \u001b[0;36m_validate_read_indexer\u001b[0;34m(self, key, indexer, axis, raise_missing)\u001b[0m\n\u001b[1;32m   1302\u001b[0m             \u001b[0;32mif\u001b[0m \u001b[0mraise_missing\u001b[0m\u001b[0;34m:\u001b[0m\u001b[0;34m\u001b[0m\u001b[0;34m\u001b[0m\u001b[0m\n\u001b[1;32m   1303\u001b[0m                 \u001b[0mnot_found\u001b[0m \u001b[0;34m=\u001b[0m \u001b[0mlist\u001b[0m\u001b[0;34m(\u001b[0m\u001b[0mset\u001b[0m\u001b[0;34m(\u001b[0m\u001b[0mkey\u001b[0m\u001b[0;34m)\u001b[0m \u001b[0;34m-\u001b[0m \u001b[0mset\u001b[0m\u001b[0;34m(\u001b[0m\u001b[0max\u001b[0m\u001b[0;34m)\u001b[0m\u001b[0;34m)\u001b[0m\u001b[0;34m\u001b[0m\u001b[0;34m\u001b[0m\u001b[0m\n\u001b[0;32m-> 1304\u001b[0;31m                 \u001b[0;32mraise\u001b[0m \u001b[0mKeyError\u001b[0m\u001b[0;34m(\u001b[0m\u001b[0;34mf\"{not_found} not in index\"\u001b[0m\u001b[0;34m)\u001b[0m\u001b[0;34m\u001b[0m\u001b[0;34m\u001b[0m\u001b[0m\n\u001b[0m\u001b[1;32m   1305\u001b[0m \u001b[0;34m\u001b[0m\u001b[0m\n\u001b[1;32m   1306\u001b[0m             \u001b[0;31m# we skip the warning on Categorical\u001b[0m\u001b[0;34m\u001b[0m\u001b[0;34m\u001b[0m\u001b[0;34m\u001b[0m\u001b[0m\n",
            "\u001b[0;31mKeyError\u001b[0m: \"['delta_time'] not in index\""
          ]
        }
      ]
    },
    {
      "cell_type": "code",
      "metadata": {
        "colab": {
          "base_uri": "https://localhost:8080/",
          "height": 791
        },
        "id": "WdWHCLQ9GXoy",
        "outputId": "ae6ce3a8-ceed-4d9d-dd54-ab183730ffcc"
      },
      "source": [
        "nsm_24.dropna(subset=['delta_time'])"
      ],
      "execution_count": null,
      "outputs": [
        {
          "data": {
            "text/html": [
              "<div>\n",
              "<style scoped>\n",
              "    .dataframe tbody tr th:only-of-type {\n",
              "        vertical-align: middle;\n",
              "    }\n",
              "\n",
              "    .dataframe tbody tr th {\n",
              "        vertical-align: top;\n",
              "    }\n",
              "\n",
              "    .dataframe thead th {\n",
              "        text-align: right;\n",
              "    }\n",
              "</style>\n",
              "<table border=\"1\" class=\"dataframe\">\n",
              "  <thead>\n",
              "    <tr style=\"text-align: right;\">\n",
              "      <th></th>\n",
              "      <th>uid</th>\n",
              "      <th>created_at</th>\n",
              "      <th>event_name</th>\n",
              "      <th>level_move</th>\n",
              "      <th>Number_of_used_moves</th>\n",
              "      <th>target</th>\n",
              "      <th>remaining_targets</th>\n",
              "      <th>reg_dt</th>\n",
              "      <th>churn</th>\n",
              "      <th>timedelta</th>\n",
              "      <th>24_hour</th>\n",
              "      <th>delta_time</th>\n",
              "    </tr>\n",
              "  </thead>\n",
              "  <tbody>\n",
              "    <tr>\n",
              "      <th>0</th>\n",
              "      <td>ad1be1b6-e696-42d6-ac03-99be5803a14b</td>\n",
              "      <td>2021-03-13 03:38:18</td>\n",
              "      <td>battle_start</td>\n",
              "      <td>20</td>\n",
              "      <td>NaN</td>\n",
              "      <td>NaN</td>\n",
              "      <td>NaN</td>\n",
              "      <td>2021-03-13 03:36:08</td>\n",
              "      <td>0</td>\n",
              "      <td>0 days 00:02:10</td>\n",
              "      <td>1</td>\n",
              "      <td>0 days 00:01:52</td>\n",
              "    </tr>\n",
              "    <tr>\n",
              "      <th>2</th>\n",
              "      <td>ad1be1b6-e696-42d6-ac03-99be5803a14b</td>\n",
              "      <td>2021-03-13 03:40:10</td>\n",
              "      <td>battle_win</td>\n",
              "      <td>20</td>\n",
              "      <td>8.0</td>\n",
              "      <td>73</td>\n",
              "      <td>112.0</td>\n",
              "      <td>2021-03-13 03:36:08</td>\n",
              "      <td>0</td>\n",
              "      <td>0 days 00:04:02</td>\n",
              "      <td>1</td>\n",
              "      <td>0 days 00:01:52</td>\n",
              "    </tr>\n",
              "    <tr>\n",
              "      <th>4</th>\n",
              "      <td>77ad3869-852d-4520-a1c4-5fc7c3fe7c98</td>\n",
              "      <td>2021-03-13 08:43:15</td>\n",
              "      <td>battle_start</td>\n",
              "      <td>20</td>\n",
              "      <td>NaN</td>\n",
              "      <td>NaN</td>\n",
              "      <td>NaN</td>\n",
              "      <td>2021-03-13 08:41:28</td>\n",
              "      <td>1</td>\n",
              "      <td>0 days 00:01:47</td>\n",
              "      <td>1</td>\n",
              "      <td>0 days 00:02:22</td>\n",
              "    </tr>\n",
              "    <tr>\n",
              "      <th>6</th>\n",
              "      <td>77ad3869-852d-4520-a1c4-5fc7c3fe7c98</td>\n",
              "      <td>2021-03-13 08:43:15</td>\n",
              "      <td>battle_start</td>\n",
              "      <td>20</td>\n",
              "      <td>NaN</td>\n",
              "      <td>NaN</td>\n",
              "      <td>NaN</td>\n",
              "      <td>2021-03-13 08:41:28</td>\n",
              "      <td>1</td>\n",
              "      <td>0 days 00:01:47</td>\n",
              "      <td>1</td>\n",
              "      <td>0 days 00:00:54</td>\n",
              "    </tr>\n",
              "    <tr>\n",
              "      <th>8</th>\n",
              "      <td>77ad3869-852d-4520-a1c4-5fc7c3fe7c98</td>\n",
              "      <td>2021-03-13 08:43:15</td>\n",
              "      <td>battle_start</td>\n",
              "      <td>20</td>\n",
              "      <td>NaN</td>\n",
              "      <td>NaN</td>\n",
              "      <td>NaN</td>\n",
              "      <td>2021-03-13 08:41:28</td>\n",
              "      <td>1</td>\n",
              "      <td>0 days 00:01:47</td>\n",
              "      <td>1</td>\n",
              "      <td>0 days 00:00:41</td>\n",
              "    </tr>\n",
              "    <tr>\n",
              "      <th>...</th>\n",
              "      <td>...</td>\n",
              "      <td>...</td>\n",
              "      <td>...</td>\n",
              "      <td>...</td>\n",
              "      <td>...</td>\n",
              "      <td>...</td>\n",
              "      <td>...</td>\n",
              "      <td>...</td>\n",
              "      <td>...</td>\n",
              "      <td>...</td>\n",
              "      <td>...</td>\n",
              "      <td>...</td>\n",
              "    </tr>\n",
              "    <tr>\n",
              "      <th>28568179</th>\n",
              "      <td>6869413d-8c8a-4364-ae0b-e9a7049ff1d5</td>\n",
              "      <td>2021-03-18 01:24:36</td>\n",
              "      <td>battle_start</td>\n",
              "      <td>27</td>\n",
              "      <td>NaN</td>\n",
              "      <td>NaN</td>\n",
              "      <td>NaN</td>\n",
              "      <td>2021-03-17 23:55:01</td>\n",
              "      <td>0</td>\n",
              "      <td>0 days 01:29:35</td>\n",
              "      <td>1</td>\n",
              "      <td>0 days 00:00:54</td>\n",
              "    </tr>\n",
              "    <tr>\n",
              "      <th>28568181</th>\n",
              "      <td>6869413d-8c8a-4364-ae0b-e9a7049ff1d5</td>\n",
              "      <td>2021-03-18 01:24:36</td>\n",
              "      <td>battle_start</td>\n",
              "      <td>27</td>\n",
              "      <td>NaN</td>\n",
              "      <td>NaN</td>\n",
              "      <td>NaN</td>\n",
              "      <td>2021-03-17 23:55:01</td>\n",
              "      <td>0</td>\n",
              "      <td>0 days 01:29:35</td>\n",
              "      <td>1</td>\n",
              "      <td>0 days 00:01:37</td>\n",
              "    </tr>\n",
              "    <tr>\n",
              "      <th>28568183</th>\n",
              "      <td>6869413d-8c8a-4364-ae0b-e9a7049ff1d5</td>\n",
              "      <td>2021-03-18 01:24:36</td>\n",
              "      <td>battle_start</td>\n",
              "      <td>27</td>\n",
              "      <td>NaN</td>\n",
              "      <td>NaN</td>\n",
              "      <td>NaN</td>\n",
              "      <td>2021-03-17 23:55:01</td>\n",
              "      <td>0</td>\n",
              "      <td>0 days 01:29:35</td>\n",
              "      <td>1</td>\n",
              "      <td>0 days 00:01:45</td>\n",
              "    </tr>\n",
              "    <tr>\n",
              "      <th>28568185</th>\n",
              "      <td>6869413d-8c8a-4364-ae0b-e9a7049ff1d5</td>\n",
              "      <td>2021-03-18 01:24:36</td>\n",
              "      <td>battle_start</td>\n",
              "      <td>27</td>\n",
              "      <td>NaN</td>\n",
              "      <td>NaN</td>\n",
              "      <td>NaN</td>\n",
              "      <td>2021-03-17 23:55:01</td>\n",
              "      <td>0</td>\n",
              "      <td>0 days 01:29:35</td>\n",
              "      <td>1</td>\n",
              "      <td>0 days 00:01:47</td>\n",
              "    </tr>\n",
              "    <tr>\n",
              "      <th>28568187</th>\n",
              "      <td>6869413d-8c8a-4364-ae0b-e9a7049ff1d5</td>\n",
              "      <td>2021-03-18 01:24:36</td>\n",
              "      <td>battle_start</td>\n",
              "      <td>27</td>\n",
              "      <td>NaN</td>\n",
              "      <td>NaN</td>\n",
              "      <td>NaN</td>\n",
              "      <td>2021-03-17 23:55:01</td>\n",
              "      <td>0</td>\n",
              "      <td>0 days 01:29:35</td>\n",
              "      <td>1</td>\n",
              "      <td>0 days 00:01:53</td>\n",
              "    </tr>\n",
              "  </tbody>\n",
              "</table>\n",
              "<p>14620813 rows × 12 columns</p>\n",
              "</div>"
            ],
            "text/plain": [
              "                                           uid  ...      delta_time\n",
              "0         ad1be1b6-e696-42d6-ac03-99be5803a14b  ... 0 days 00:01:52\n",
              "2         ad1be1b6-e696-42d6-ac03-99be5803a14b  ... 0 days 00:01:52\n",
              "4         77ad3869-852d-4520-a1c4-5fc7c3fe7c98  ... 0 days 00:02:22\n",
              "6         77ad3869-852d-4520-a1c4-5fc7c3fe7c98  ... 0 days 00:00:54\n",
              "8         77ad3869-852d-4520-a1c4-5fc7c3fe7c98  ... 0 days 00:00:41\n",
              "...                                        ...  ...             ...\n",
              "28568179  6869413d-8c8a-4364-ae0b-e9a7049ff1d5  ... 0 days 00:00:54\n",
              "28568181  6869413d-8c8a-4364-ae0b-e9a7049ff1d5  ... 0 days 00:01:37\n",
              "28568183  6869413d-8c8a-4364-ae0b-e9a7049ff1d5  ... 0 days 00:01:45\n",
              "28568185  6869413d-8c8a-4364-ae0b-e9a7049ff1d5  ... 0 days 00:01:47\n",
              "28568187  6869413d-8c8a-4364-ae0b-e9a7049ff1d5  ... 0 days 00:01:53\n",
              "\n",
              "[14620813 rows x 12 columns]"
            ]
          },
          "execution_count": 53,
          "metadata": {},
          "output_type": "execute_result"
        }
      ]
    },
    {
      "cell_type": "markdown",
      "metadata": {
        "id": "Ryyc9LcjSnjT"
      },
      "source": [
        "# **7. Планы и идеи, что еще можно посмотреть.**"
      ]
    },
    {
      "cell_type": "markdown",
      "metadata": {
        "id": "4Q-W6K_CSsYU"
      },
      "source": [
        "Можно посмотреть на связь:\n",
        "\n",
        "* проигрышей на стартовых уровнях и связь с отвалом игроков;\n",
        "* крашей или проблем с записью данных и отвалом игроков;\n",
        "* связь использованных бустеров на различных уровнях;\n",
        "* когорт игроков и использованных бустеров;\n",
        "* когорт игроков по использованным бустерам и провалам в играх.\n",
        "\n",
        "Помимо этого есть часть игроков, которые так и не закончили одного уровня. Посмотреть на причины данного события.\n",
        "\n"
      ]
    }
  ]
}